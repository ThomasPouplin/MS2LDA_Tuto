{
 "metadata": {
  "name": "",
  "signature": "sha256:07340bf8a3324bad92ecb17e200e2f14fcf3e8b71f86a740d02e28c8656452ab"
 },
 "nbformat": 3,
 "nbformat_minor": 0,
 "worksheets": [
  {
   "cells": [
    {
     "cell_type": "code",
     "collapsed": false,
     "input": [
      "class hyper(object):\n",
      "    in_alpha = 10.0\n",
      "    out_alpha = 1.0\n",
      "    in_beta = 1.0\n",
      "    out_beta = 10.0\n",
      "    conc_par = 5.0\n",
      "    in_prob = 0.99\n",
      "    out_prob = 0.1\n",
      "\n",
      "\n"
     ],
     "language": "python",
     "metadata": {},
     "outputs": [],
     "prompt_number": 48
    },
    {
     "cell_type": "code",
     "collapsed": false,
     "input": [
      "import numpy as np\n",
      "import pylab as plt\n",
      "from scipy.stats import beta\n",
      "from scipy.special import gammaln\n",
      "%matplotlib inline"
     ],
     "language": "python",
     "metadata": {},
     "outputs": [],
     "prompt_number": 49
    },
    {
     "cell_type": "code",
     "collapsed": false,
     "input": [
      "h = hyper()\n",
      "N = 100\n",
      "Z = []\n",
      "counts = []\n",
      "Z.append(1)\n",
      "counts.append(1)\n",
      "for n in np.arange(1,N):\n",
      "#     List concatanation\n",
      "    temp = np.array(counts + [h.conc_par])\n",
      "    temp = temp/temp.sum()\n",
      "    prob = temp.cumsum()\n",
      "    pos = np.nonzero(np.random.rand()<prob)[0][0]\n",
      "    Z.append(pos)\n",
      "    if pos >= len(counts):\n",
      "        counts.append(1)\n",
      "    else:\n",
      "        counts[pos] = counts[pos] + 1\n",
      "\n",
      "Z = np.sort(Z)\n",
      "\n",
      "true_K = np.max(Z)\n",
      "true_Z = Z\n",
      "X = np.zeros((N,N))\n",
      "for n in np.arange(N-1):\n",
      "    this_cluster = Z[n]\n",
      "    for m in np.arange(n+1,N):\n",
      "        if Z[m] == this_cluster:\n",
      "            if np.random.rand() < h.in_prob:\n",
      "                this_val = beta.rvs(h.in_alpha,h.in_beta)\n",
      "            else:\n",
      "                this_val = 0\n",
      "        else:\n",
      "            if np.random.rand() < h.out_prob:\n",
      "                this_val = beta.rvs(h.out_alpha,h.out_beta)\n",
      "            else:\n",
      "                this_val = 0\n",
      "        \n",
      "        X[n,m] = this_val\n",
      "        X[m,n] = this_val\n",
      "\n",
      "plt.pcolor(X)\n",
      "print true_K\n",
      "true_post = (Z == Z[:,np.newaxis])\n",
      "plt.figure()\n",
      "plt.pcolor(true_post)"
     ],
     "language": "python",
     "metadata": {},
     "outputs": [
      {
       "output_type": "stream",
       "stream": "stdout",
       "text": [
        "14\n"
       ]
      },
      {
       "metadata": {},
       "output_type": "pyout",
       "prompt_number": 50,
       "text": [
        "<matplotlib.collections.PolyCollection at 0x10ee50fd0>"
       ]
      },
      {
       "metadata": {},
       "output_type": "display_data",
       "png": "[encoded data removed]",
       "text": [
        "<matplotlib.figure.Figure at 0x10b5601d0>"
       ]
      },
      {
       "metadata": {},
       "output_type": "display_data",
       "png": "[encoded data removed]",
       "text": [
        "<matplotlib.figure.Figure at 0x10ad68790>"
       ]
      }
     ],
     "prompt_number": 50
    },
    {
     "cell_type": "code",
     "collapsed": false,
     "input": [
      "in_like = np.zeros((N,N))\n",
      "out_like = np.zeros((N,N))"
     ],
     "language": "python",
     "metadata": {},
     "outputs": [],
     "prompt_number": 51
    },
    {
     "cell_type": "code",
     "collapsed": false,
     "input": [
      "def log_beta_pdf(x,a,b):\n",
      "    o = gammaln(a + b) - gammaln(a) - gammaln(b)\n",
      "    o = o + (a-1)*np.log(x) + (b-1)*np.log(1-x)\n",
      "    return o\n",
      "\n",
      "for n in np.arange(N-1):\n",
      "    for m in np.arange(n+1,N):\n",
      "        if X[n,m]!=0:\n",
      "            in_val = np.log(h.in_prob) + log_beta_pdf(X[n,m],h.in_alpha,h.in_beta)\n",
      "            out_val = np.log(h.out_prob) + log_beta_pdf(X[n,m],h.out_alpha,h.out_beta)\n",
      "        else:\n",
      "            in_val = np.log(1-h.in_prob)\n",
      "            out_val = np.log(1-h.out_prob)\n",
      "            \n",
      "        in_like[n][m] = in_val\n",
      "        in_like[m][n] = in_val\n",
      "        out_like[n][m] = out_val\n",
      "        out_like[m][n] = out_val\n",
      "\n",
      "        "
     ],
     "language": "python",
     "metadata": {},
     "outputs": [],
     "prompt_number": 52
    },
    {
     "cell_type": "code",
     "collapsed": false,
     "input": [
      "n_samps = 100\n",
      "# Z = np.arange(0,N)\n",
      "# K = N\n",
      "# counts = np.ones_like(Z).tolist()\n",
      "post_sim = np.zeros((N,N),dtype=np.float64)\n",
      "\n",
      "\n",
      "\n",
      "infinite = False\n",
      "track = True\n",
      "\n",
      "# Track makes things more efficient by keeping track of cluster likelihoods. It currently won't work for infinite mixtures (it would be very slow for these anyway)\n",
      "\n",
      "base_like = out_like.sum(axis=0)\n",
      "\n",
      "if infinite:\n",
      "    Z = np.zeros(N,dtype=np.int64)\n",
      "    counts = [N]\n",
      "    K = 1\n",
      "else:\n",
      "    K = 30\n",
      "    Z = np.zeros(N,dtype=np.int64)\n",
      "    counts = np.zeros(K).tolist()\n",
      "    counts[0] = N\n",
      "    \n",
      "if track:\n",
      "    temp = np.tile(out_like.sum(axis=1),(K,1))\n",
      "    temp[0,:] = in_like.sum(axis=1)\n",
      "\n",
      "\n",
      "\n",
      "for samp in np.arange(n_samps):\n",
      "    if samp%10 == 0:\n",
      "        print samp,K\n",
      "    for peak in np.arange(N):\n",
      "        this_peak = peak\n",
      "        this_cluster = Z[this_peak]\n",
      "        Z[this_peak] = -1\n",
      "        counts[this_cluster]-=1       \n",
      "        \n",
      "        if track:\n",
      "            temp -= out_like[this_peak,:]\n",
      "            temp[this_cluster,:]+=out_like[this_peak,:]-in_like[this_peak,:]\n",
      "        \n",
      "        if counts[this_cluster] == 0 and infinite:\n",
      "            K -= 1\n",
      "            counts.pop(this_cluster)\n",
      "            Z[np.where(Z>this_cluster)]-=1\n",
      "        \n",
      "        if infinite:\n",
      "            prior = np.log(np.hstack((counts,h.conc_par)))\n",
      "        else:\n",
      "            prior = np.log([c + h.conc_par/K for c in counts])\n",
      "        \n",
      "        \n",
      "        if not track:\n",
      "            print 'boo'\n",
      "            like = np.zeros_like(prior)\n",
      "            for k in np.arange(K):\n",
      "                in_pos = np.where(Z==k)[0]\n",
      "                like[k] = base_like[this_peak] - out_like[this_peak,in_pos].sum()\n",
      "                like[k] += in_like[this_peak,in_pos].sum()\n",
      "            if infinite:\n",
      "                like[-1] = out_like[this_peak].sum()\n",
      "        else:\n",
      "            like = temp[:,this_peak]\n",
      "        \n",
      "        post = prior + like\n",
      "        post = np.exp(post - np.max(post))\n",
      "        post = post/post.sum()\n",
      "        new_cluster = np.where(np.random.rand()<post.cumsum())[0][0]\n",
      "        if new_cluster >= K:\n",
      "            Z[this_peak]=K\n",
      "            counts.append(1)\n",
      "            K += 1\n",
      "        else:\n",
      "            Z[this_peak] = new_cluster\n",
      "            counts[new_cluster]+=1\n",
      "            if track:\n",
      "                temp += out_like[this_peak,:]\n",
      "                temp[new_cluster,:] += in_like[this_peak,:]-out_like[this_peak,:]\n",
      "        \n",
      "    for k in np.arange(K):\n",
      "        pos = np.where(Z==k)[0]\n",
      "        post_sim[pos[:,np.newaxis],pos] += 1\n",
      "\n",
      "post_sim /= n_samps\n",
      "plt.pcolor(post_sim)\n",
      "plt.figure()\n",
      "plt.pcolor(np.abs(post_sim-true_post))"
     ],
     "language": "python",
     "metadata": {},
     "outputs": [
      {
       "output_type": "stream",
       "stream": "stdout",
       "text": [
        "0 30\n",
        "10"
       ]
      },
      {
       "output_type": "stream",
       "stream": "stdout",
       "text": [
        " 30\n",
        "20"
       ]
      },
      {
       "output_type": "stream",
       "stream": "stdout",
       "text": [
        " 30\n",
        "30"
       ]
      },
      {
       "output_type": "stream",
       "stream": "stdout",
       "text": [
        " 30\n",
        "40"
       ]
      },
      {
       "output_type": "stream",
       "stream": "stdout",
       "text": [
        " 30\n",
        "50"
       ]
      },
      {
       "output_type": "stream",
       "stream": "stdout",
       "text": [
        " 30\n",
        "60"
       ]
      },
      {
       "output_type": "stream",
       "stream": "stdout",
       "text": [
        " 30\n",
        "70"
       ]
      },
      {
       "output_type": "stream",
       "stream": "stdout",
       "text": [
        " 30\n",
        "80"
       ]
      },
      {
       "output_type": "stream",
       "stream": "stdout",
       "text": [
        " 30\n",
        "90"
       ]
      },
      {
       "output_type": "stream",
       "stream": "stdout",
       "text": [
        " 30\n"
       ]
      },
      {
       "metadata": {},
       "output_type": "pyout",
       "prompt_number": 53,
       "text": [
        "<matplotlib.collections.PolyCollection at 0x10efb3dd0>"
       ]
      },
      {
       "metadata": {},
       "output_type": "display_data",
       "png": "[encoded data removed]",
       "text": [
        "<matplotlib.figure.Figure at 0x10e340a50>"
       ]
      },
      {
       "metadata": {},
       "output_type": "display_data",
       "png": "[encoded data removed]",
       "text": [
        "<matplotlib.figure.Figure at 0x10e340a10>"
       ]
      }
     ],
     "prompt_number": 53
    },
    {
     "cell_type": "code",
     "collapsed": false,
     "input": [],
     "language": "python",
     "metadata": {},
     "outputs": []
    }
   ],
   "metadata": {}
  }
 ]
}