{
 "metadata": {
  "name": "",
  "signature": "sha256:558276f43708a4f6f1d28d21e529358ff7fbde9fadfce525a77965d05e941ed9"
 },
 "nbformat": 3,
 "nbformat_minor": 0,
 "worksheets": [
  {
   "cells": [
    {
     "cell_type": "markdown",
     "metadata": {},
     "source": [
      "<h2>PCA</h2>\n",
      "Performs PCA on the Thermo GC data"
     ]
    },
    {
     "cell_type": "code",
     "collapsed": false,
     "input": [
      "import pandas as pd\n",
      "import numpy as np\n",
      "import matplotlib.pyplot as plt\n",
      "%matplotlib inline\n",
      "# plt.style.use('ggplot')\n",
      "data = pd.read_csv('mzMATCHoutput_bp_only.txt',delim_whitespace=True)\n",
      "data = data.replace(0,np.nan)"
     ],
     "language": "python",
     "metadata": {},
     "outputs": [],
     "prompt_number": 14
    },
    {
     "cell_type": "markdown",
     "metadata": {},
     "source": [
      "<p>Note that we get 10 components, just for fun</p>"
     ]
    },
    {
     "cell_type": "code",
     "collapsed": false,
     "input": [
      "from sklearn.decomposition import PCA\n",
      "pca = PCA(n_components = 10)"
     ],
     "language": "python",
     "metadata": {},
     "outputs": [],
     "prompt_number": 22
    },
    {
     "cell_type": "markdown",
     "metadata": {},
     "source": [
      "<p>Just chop out the samples we want (ignoring the metadata columns). I do a natural log (``np.log``) and then standardise the data so that each metabolite has zero mean and unit sd. I then replace the missing values with zeros. Not sure what the other software did for this.</p> "
     ]
    },
    {
     "cell_type": "code",
     "collapsed": false,
     "input": [
      "sub_data = data[np.arange(2,18)]\n",
      "sub_data = np.log(sub_data)\n",
      "sub_data = sub_data.transpose()\n",
      "# sub_data_norm = sub_data.replace(np.nan,0.0)\n",
      "sub_data_norm = (sub_data - sub_data.mean())/sub_data.std()\n",
      "sub_data_norm = sub_data_norm.replace(np.nan,0.0)"
     ],
     "language": "python",
     "metadata": {},
     "outputs": [],
     "prompt_number": 23
    },
    {
     "cell_type": "markdown",
     "metadata": {},
     "source": [
      "<p>Do the PCA and then plot, in a very long-winded way...</p>"
     ]
    },
    {
     "cell_type": "code",
     "collapsed": false,
     "input": [
      "XT = pca.fit_transform(sub_data_norm)\n",
      "a = {'pc1': XT[:,0],\n",
      "     'pc2': XT[:,1],\n",
      "     'cat': [0,0,0,0,1,1,1,1,2,2,2,2,3,3,3,3]}\n",
      "# b = pd.DataFrame(a,index=sub_data.columns.values)\n",
      "# # b = pd.DataFrame(a)\n",
      "# # b.plot(kind='scatter',x='pc1',y='pc2',c='cat')\n",
      "class_colours = [0,1,2,3]\n",
      "class_names = ['T0','T1','T2','T3']\n",
      "cols = ['ro','go','bo','ko']\n",
      "plt.figure(figsize=(10,10), dpi=100)\n",
      "for (i,cla) in enumerate(set(class_colours)):\n",
      "    xc = [p for (j,p) in enumerate(a['pc1']) if a['cat'][j]==cla]\n",
      "    yc = [p for (j,p) in enumerate(a['pc2']) if a['cat'][j]==cla]\n",
      "    plt.plot(xc,yc,cols[i],label=class_names[i],markersize=10)\n",
      "plt.legend()\n",
      "plt.xlabel('PC1')\n",
      "plt.ylabel('PC2')\n",
      "for (i,s) in enumerate(sub_data.index):\n",
      "    plt.text(a['pc1'][i],a['pc2'][i],s,fontsize=14)"
     ],
     "language": "python",
     "metadata": {},
     "outputs": [
      {
       "metadata": {},
       "output_type": "display_data",
       "png": "[encoded data removed]",
       "text": [
        "<matplotlib.figure.Figure at 0x1085524d0>"
       ]
      }
     ],
     "prompt_number": 24
    },
    {
     "cell_type": "markdown",
     "metadata": {},
     "source": [
      "<p>It looks like PC1 crudely separates by time, but a combination of PC1 and PC2 do it pretty well (i.e. time goes from top left to bottom right)</p>\n",
      "\n",
      "<p>Can also plot how much variance there is in each component. Note these aren't cumulative as in the other software.</p>"
     ]
    },
    {
     "cell_type": "code",
     "collapsed": false,
     "input": [
      "plt.figure(figsize=(8,4))\n",
      "plt.bar(np.arange(5)+1,pca.explained_variance_ratio_)\n",
      "plt.xlabel('Component')\n",
      "plt.ylabel('Variance')"
     ],
     "language": "python",
     "metadata": {},
     "outputs": [
      {
       "ename": "AssertionError",
       "evalue": "incompatible sizes: argument 'height' must be length 5 or scalar",
       "output_type": "pyerr",
       "traceback": [
        "\u001b[0;31m---------------------------------------------------------------------------\u001b[0m\n\u001b[0;31mAssertionError\u001b[0m                            Traceback (most recent call last)",
        "\u001b[0;32m<ipython-input-25-888f1f568657>\u001b[0m in \u001b[0;36m<module>\u001b[0;34m()\u001b[0m\n\u001b[1;32m      1\u001b[0m \u001b[0mplt\u001b[0m\u001b[0;34m.\u001b[0m\u001b[0mfigure\u001b[0m\u001b[0;34m(\u001b[0m\u001b[0mfigsize\u001b[0m\u001b[0;34m=\u001b[0m\u001b[0;34m(\u001b[0m\u001b[0;36m8\u001b[0m\u001b[0;34m,\u001b[0m\u001b[0;36m4\u001b[0m\u001b[0;34m)\u001b[0m\u001b[0;34m)\u001b[0m\u001b[0;34m\u001b[0m\u001b[0m\n\u001b[0;32m----> 2\u001b[0;31m \u001b[0mplt\u001b[0m\u001b[0;34m.\u001b[0m\u001b[0mbar\u001b[0m\u001b[0;34m(\u001b[0m\u001b[0mnp\u001b[0m\u001b[0;34m.\u001b[0m\u001b[0marange\u001b[0m\u001b[0;34m(\u001b[0m\u001b[0;36m5\u001b[0m\u001b[0;34m)\u001b[0m\u001b[0;34m+\u001b[0m\u001b[0;36m1\u001b[0m\u001b[0;34m,\u001b[0m\u001b[0mpca\u001b[0m\u001b[0;34m.\u001b[0m\u001b[0mexplained_variance_ratio_\u001b[0m\u001b[0;34m)\u001b[0m\u001b[0;34m\u001b[0m\u001b[0m\n\u001b[0m\u001b[1;32m      3\u001b[0m \u001b[0mplt\u001b[0m\u001b[0;34m.\u001b[0m\u001b[0mxlabel\u001b[0m\u001b[0;34m(\u001b[0m\u001b[0;34m'Component'\u001b[0m\u001b[0;34m)\u001b[0m\u001b[0;34m\u001b[0m\u001b[0m\n\u001b[1;32m      4\u001b[0m \u001b[0mplt\u001b[0m\u001b[0;34m.\u001b[0m\u001b[0mylabel\u001b[0m\u001b[0;34m(\u001b[0m\u001b[0;34m'Variance'\u001b[0m\u001b[0;34m)\u001b[0m\u001b[0;34m\u001b[0m\u001b[0m\n",
        "\u001b[0;32m/System/Library/Frameworks/Python.framework/Versions/2.7/Extras/lib/python/matplotlib/pyplot.pyc\u001b[0m in \u001b[0;36mbar\u001b[0;34m(left, height, width, bottom, hold, **kwargs)\u001b[0m\n\u001b[1;32m   2513\u001b[0m         \u001b[0max\u001b[0m\u001b[0;34m.\u001b[0m\u001b[0mhold\u001b[0m\u001b[0;34m(\u001b[0m\u001b[0mhold\u001b[0m\u001b[0;34m)\u001b[0m\u001b[0;34m\u001b[0m\u001b[0m\n\u001b[1;32m   2514\u001b[0m     \u001b[0;32mtry\u001b[0m\u001b[0;34m:\u001b[0m\u001b[0;34m\u001b[0m\u001b[0m\n\u001b[0;32m-> 2515\u001b[0;31m         \u001b[0mret\u001b[0m \u001b[0;34m=\u001b[0m \u001b[0max\u001b[0m\u001b[0;34m.\u001b[0m\u001b[0mbar\u001b[0m\u001b[0;34m(\u001b[0m\u001b[0mleft\u001b[0m\u001b[0;34m,\u001b[0m \u001b[0mheight\u001b[0m\u001b[0;34m,\u001b[0m \u001b[0mwidth\u001b[0m\u001b[0;34m=\u001b[0m\u001b[0mwidth\u001b[0m\u001b[0;34m,\u001b[0m \u001b[0mbottom\u001b[0m\u001b[0;34m=\u001b[0m\u001b[0mbottom\u001b[0m\u001b[0;34m,\u001b[0m \u001b[0;34m**\u001b[0m\u001b[0mkwargs\u001b[0m\u001b[0;34m)\u001b[0m\u001b[0;34m\u001b[0m\u001b[0m\n\u001b[0m\u001b[1;32m   2516\u001b[0m         \u001b[0mdraw_if_interactive\u001b[0m\u001b[0;34m(\u001b[0m\u001b[0;34m)\u001b[0m\u001b[0;34m\u001b[0m\u001b[0m\n\u001b[1;32m   2517\u001b[0m     \u001b[0;32mfinally\u001b[0m\u001b[0;34m:\u001b[0m\u001b[0;34m\u001b[0m\u001b[0m\n",
        "\u001b[0;32m/System/Library/Frameworks/Python.framework/Versions/2.7/Extras/lib/python/matplotlib/axes.pyc\u001b[0m in \u001b[0;36mbar\u001b[0;34m(self, left, height, width, bottom, **kwargs)\u001b[0m\n\u001b[1;32m   4997\u001b[0m         assert len(height) == nbars, (\"incompatible sizes: argument 'height' \"\n\u001b[1;32m   4998\u001b[0m                                       \u001b[0;34m\"must be length %d or scalar\"\u001b[0m \u001b[0;34m%\u001b[0m\u001b[0;34m\u001b[0m\u001b[0m\n\u001b[0;32m-> 4999\u001b[0;31m                                       nbars)\n\u001b[0m\u001b[1;32m   5000\u001b[0m         assert len(width) == nbars, (\"incompatible sizes: argument 'width' \"\n\u001b[1;32m   5001\u001b[0m                                      \u001b[0;34m\"must be length %d or scalar\"\u001b[0m \u001b[0;34m%\u001b[0m\u001b[0;34m\u001b[0m\u001b[0m\n",
        "\u001b[0;31mAssertionError\u001b[0m: incompatible sizes: argument 'height' must be length 5 or scalar"
       ]
      },
      {
       "metadata": {},
       "output_type": "display_data",
       "png": "[encoded data removed]",
       "text": [
        "<matplotlib.figure.Figure at 0x10868e210>"
       ]
      }
     ],
     "prompt_number": 25
    },
    {
     "cell_type": "markdown",
     "metadata": {},
     "source": [
      "<p>Finally, write the PC loadings to a text file</p>"
     ]
    },
    {
     "cell_type": "code",
     "collapsed": false,
     "input": [
      "a = {'pc1': pca.components_[0], 'pc2': pca.components_[1]}\n",
      "b = pd.DataFrame(a)\n",
      "b.to_csv('pcweights.csv',sep='\\t')"
     ],
     "language": "python",
     "metadata": {},
     "outputs": [],
     "prompt_number": 6
    },
    {
     "cell_type": "code",
     "collapsed": false,
     "input": [],
     "language": "python",
     "metadata": {},
     "outputs": [
      {
       "output_type": "stream",
       "stream": "stdout",
       "text": [
        "0     1\n",
        "1     1\n",
        "2     1\n",
        "3     1\n",
        "4     1\n",
        "5     1\n",
        "6     1\n",
        "7     1\n",
        "8     1\n",
        "9     1\n",
        "10    1\n",
        "11    1\n",
        "12    1\n",
        "13    1\n",
        "14    1\n",
        "...\n",
        "1553    0.966092\n",
        "1554    0.365148\n",
        "1555    0.683130\n",
        "1556    0.683130\n",
        "1557    0.516398\n",
        "1558    0.632456\n",
        "1559    0.966092\n",
        "1560    0.365148\n",
        "1561    0.577350\n",
        "1562    0.577350\n",
        "1563    0.774597\n",
        "1564    0.447214\n",
        "1565    0.632456\n",
        "1566    0.632456\n",
        "1567    0.365148\n",
        "Length: 1568, dtype: float64\n"
       ]
      }
     ],
     "prompt_number": 20
    },
    {
     "cell_type": "code",
     "collapsed": false,
     "input": [],
     "language": "python",
     "metadata": {},
     "outputs": []
    }
   ],
   "metadata": {}
  }
 ]
}