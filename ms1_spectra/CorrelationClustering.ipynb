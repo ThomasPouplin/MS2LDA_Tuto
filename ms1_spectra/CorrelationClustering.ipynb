{
 "cells": [
  {
   "cell_type": "markdown",
   "metadata": {},
   "source": [
    "Correlation Clustering\n",
    "====\n"
   ]
  },
  {
   "cell_type": "code",
   "execution_count": 66,
   "metadata": {
    "collapsed": false
   },
   "outputs": [
    {
     "name": "stdout",
     "output_type": "stream",
     "text": [
      "The autoreload extension is already loaded. To reload it, use:\n",
      "  %reload_ext autoreload\n",
      "Reading shape correlations from STD1_Maya_Berg150312.corr.mat\n"
     ]
    }
   ],
   "source": [
    "%load_ext autoreload\n",
    "%autoreload 2\n",
    "import os\n",
    "import scipy.io as sio\n",
    "import scipy\n",
    "from corr_cluster import Peak,BetaLike,CorrCluster\n",
    "front_part = 'STD1_Maya_Berg150312'\n",
    "matfile = front_part + '.corr.mat'\n",
    "if os.path.isfile(matfile):\n",
    "    print \"Reading shape correlations from \" + matfile\n",
    "    mdict = sio.loadmat(matfile)\n",
    "    corr_mat = mdict['corr_mat']\n",
    "\n"
   ]
  },
  {
   "cell_type": "markdown",
   "metadata": {},
   "source": [
    "Load the csv file"
   ]
  },
  {
   "cell_type": "code",
   "execution_count": 61,
   "metadata": {
    "collapsed": false
   },
   "outputs": [
    {
     "name": "stdout",
     "output_type": "stream",
     "text": [
      "Loaded 6319 peaks\n"
     ]
    }
   ],
   "source": [
    "peaks = []\n",
    "csvfile = front_part + '.csv'\n",
    "if os.path.isfile(csvfile):\n",
    "    with open(csvfile) as f:\n",
    "        heads = f.readline()\n",
    "        for line in f:\n",
    "            split_line = line.split(',')\n",
    "            pid = int(split_line[0])\n",
    "            mass = float(split_line[1])\n",
    "            rt = float(split_line[2])\n",
    "            intensity = float(split_line[3])\n",
    "            peaks.append(Peak(pid,mass,rt,intensity))\n",
    "            \n",
    "print \"Loaded {} peaks\".format(len(peaks))"
   ]
  },
  {
   "cell_type": "markdown",
   "metadata": {},
   "source": [
    "Convert to a dictionary"
   ]
  },
  {
   "cell_type": "code",
   "execution_count": 62,
   "metadata": {
    "collapsed": false
   },
   "outputs": [],
   "source": [
    "adjacency = {}\n",
    "for p in peaks:\n",
    "    adjacency[p] = {}\n",
    "cx = scipy.sparse.coo_matrix(corr_mat)\n",
    "for i,j,v in zip(cx.row, cx.col, cx.data):\n",
    "    if not i is j:\n",
    "        adjacency[peaks[i]][peaks[j]] = v"
   ]
  },
  {
   "cell_type": "code",
   "execution_count": 68,
   "metadata": {
    "collapsed": false
   },
   "outputs": [
    {
     "name": "stdout",
     "output_type": "stream",
     "text": [
      "Corr cluster objects with 6319 peaks and a Beta likelihood\n"
     ]
    }
   ],
   "source": [
    "bl = BetaLike(5,1,1,5,0.1,0.9)\n",
    "cc = CorrCluster(bl,peaks,adjacency)\n",
    "print cc"
   ]
  },
  {
   "cell_type": "code",
   "execution_count": 58,
   "metadata": {
    "collapsed": false
   },
   "outputs": [
    {
     "name": "stdout",
     "output_type": "stream",
     "text": [
      "32.7727012634 32.7727012634\n",
      "32.7727012634 32.7727012634\n",
      "32.7727012634 32.7727012634\n",
      "32.7727012634 32.7727012634\n",
      "32.7727012634 32.7727012634\n",
      "32.7727012634 32.7727012634\n"
     ]
    }
   ],
   "source": []
  },
  {
   "cell_type": "code",
   "execution_count": null,
   "metadata": {
    "collapsed": true
   },
   "outputs": [],
   "source": []
  }
 ],
 "metadata": {
  "kernelspec": {
   "display_name": "Python 2",
   "language": "python",
   "name": "python2"
  },
  "language_info": {
   "codemirror_mode": {
    "name": "ipython",
    "version": 2
   },
   "file_extension": ".py",
   "mimetype": "text/x-python",
   "name": "python",
   "nbconvert_exporter": "python",
   "pygments_lexer": "ipython2",
   "version": "2.7.10"
  }
 },
 "nbformat": 4,
 "nbformat_minor": 0
}
