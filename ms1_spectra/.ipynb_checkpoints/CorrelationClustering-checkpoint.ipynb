{
 "cells": [
  {
   "cell_type": "markdown",
   "metadata": {},
   "source": [
    "Correlation Clustering\n",
    "====\n"
   ]
  },
  {
   "cell_type": "code",
   "execution_count": 59,
   "metadata": {
    "collapsed": false
   },
   "outputs": [
    {
     "name": "stdout",
     "output_type": "stream",
     "text": [
      "The autoreload extension is already loaded. To reload it, use:\n",
      "  %reload_ext autoreload\n"
     ]
    },
    {
     "ename": "ImportError",
     "evalue": "cannot import name BetaLike",
     "output_type": "error",
     "traceback": [
      "\u001b[0;31m---------------------------------------------------------------------------\u001b[0m",
      "\u001b[0;31mImportError\u001b[0m                               Traceback (most recent call last)",
      "\u001b[0;32m<ipython-input-59-934eb3241e09>\u001b[0m in \u001b[0;36m<module>\u001b[0;34m()\u001b[0m\n\u001b[1;32m      4\u001b[0m \u001b[0;32mimport\u001b[0m \u001b[0mscipy\u001b[0m\u001b[0;34m.\u001b[0m\u001b[0mio\u001b[0m \u001b[0;32mas\u001b[0m \u001b[0msio\u001b[0m\u001b[0;34m\u001b[0m\u001b[0m\n\u001b[1;32m      5\u001b[0m \u001b[0;32mimport\u001b[0m \u001b[0mscipy\u001b[0m\u001b[0;34m\u001b[0m\u001b[0m\n\u001b[0;32m----> 6\u001b[0;31m \u001b[0;32mfrom\u001b[0m \u001b[0mcorr_cluster\u001b[0m \u001b[0;32mimport\u001b[0m \u001b[0mPeak\u001b[0m\u001b[0;34m,\u001b[0m\u001b[0mBetaLike\u001b[0m\u001b[0;34m\u001b[0m\u001b[0m\n\u001b[0m\u001b[1;32m      7\u001b[0m \u001b[0mfront_part\u001b[0m \u001b[0;34m=\u001b[0m \u001b[0;34m'STD1_Maya_Berg150312'\u001b[0m\u001b[0;34m\u001b[0m\u001b[0m\n\u001b[1;32m      8\u001b[0m \u001b[0mmatfile\u001b[0m \u001b[0;34m=\u001b[0m \u001b[0mfront_part\u001b[0m \u001b[0;34m+\u001b[0m \u001b[0;34m'.corr.mat'\u001b[0m\u001b[0;34m\u001b[0m\u001b[0m\n",
      "\u001b[0;31mImportError\u001b[0m: cannot import name BetaLike"
     ]
    }
   ],
   "source": [
    "%load_ext autoreload\n",
    "%autoreload 2\n",
    "import os\n",
    "import scipy.io as sio\n",
    "import scipy\n",
    "from corr_cluster import Peak,BetaLike\n",
    "front_part = 'STD1_Maya_Berg150312'\n",
    "matfile = front_part + '.corr.mat'\n",
    "if os.path.isfile(matfile):\n",
    "    print \"Reading shape correlations from \" + matfile\n",
    "    mdict = sio.loadmat(matfile)\n",
    "    corr_mat = mdict['corr_mat']\n",
    "\n"
   ]
  },
  {
   "cell_type": "markdown",
   "metadata": {},
   "source": [
    "Load the csv file"
   ]
  },
  {
   "cell_type": "code",
   "execution_count": 44,
   "metadata": {
    "collapsed": false
   },
   "outputs": [
    {
     "name": "stdout",
     "output_type": "stream",
     "text": [
      "Loaded 6319 peaks\n"
     ]
    }
   ],
   "source": [
    "peaks = []\n",
    "csvfile = front_part + '.csv'\n",
    "if os.path.isfile(csvfile):\n",
    "    with open(csvfile) as f:\n",
    "        heads = f.readline()\n",
    "        for line in f:\n",
    "            split_line = line.split(',')\n",
    "            pid = int(split_line[0])\n",
    "            mass = float(split_line[1])\n",
    "            rt = float(split_line[2])\n",
    "            intensity = float(split_line[3])\n",
    "            peaks.append(Peak(pid,mass,rt,intensity))\n",
    "            \n",
    "print \"Loaded {} peaks\".format(len(peaks))"
   ]
  },
  {
   "cell_type": "markdown",
   "metadata": {},
   "source": [
    "Convert to a dictionary"
   ]
  },
  {
   "cell_type": "code",
   "execution_count": 48,
   "metadata": {
    "collapsed": false
   },
   "outputs": [],
   "source": [
    "adjacency = {}\n",
    "for p in peaks:\n",
    "    adjacency[p] = {}\n",
    "cx = scipy.sparse.coo_matrix(corr_mat)\n",
    "for i,j,v in zip(cx.row, cx.col, cx.data):\n",
    "    adjacency[peaks[i]][peaks[j]] = v"
   ]
  },
  {
   "cell_type": "code",
   "execution_count": 57,
   "metadata": {
    "collapsed": false
   },
   "outputs": [],
   "source": []
  },
  {
   "cell_type": "code",
   "execution_count": 58,
   "metadata": {
    "collapsed": false
   },
   "outputs": [
    {
     "name": "stdout",
     "output_type": "stream",
     "text": [
      "32.7727012634 32.7727012634\n",
      "32.7727012634 32.7727012634\n",
      "32.7727012634 32.7727012634\n",
      "32.7727012634 32.7727012634\n",
      "32.7727012634 32.7727012634\n",
      "32.7727012634 32.7727012634\n"
     ]
    }
   ],
   "source": []
  },
  {
   "cell_type": "code",
   "execution_count": null,
   "metadata": {
    "collapsed": true
   },
   "outputs": [],
   "source": []
  }
 ],
 "metadata": {
  "kernelspec": {
   "display_name": "Python 2",
   "language": "python",
   "name": "python2"
  },
  "language_info": {
   "codemirror_mode": {
    "name": "ipython",
    "version": 2
   },
   "file_extension": ".py",
   "mimetype": "text/x-python",
   "name": "python",
   "nbconvert_exporter": "python",
   "pygments_lexer": "ipython2",
   "version": "2.7.10"
  }
 },
 "nbformat": 4,
 "nbformat_minor": 0
}
