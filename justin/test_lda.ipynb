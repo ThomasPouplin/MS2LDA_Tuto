{
 "cells": [
  {
   "cell_type": "markdown",
   "metadata": {},
   "source": [
    "Test LDA\n",
    "====="
   ]
  },
  {
   "cell_type": "code",
   "execution_count": 6,
   "metadata": {
    "collapsed": false
   },
   "outputs": [
    {
     "name": "stdout",
     "output_type": "stream",
     "text": [
      "The autoreload extension is already loaded. To reload it, use:\n",
      "  %reload_ext autoreload\n"
     ]
    }
   ],
   "source": [
    "%load_ext autoreload\n",
    "%autoreload 2\n",
    "%matplotlib inline\n",
    "\n",
    "from lda_generate_data import LdaDataGenerator\n",
    "from lda_cgs import CollapseGibbsLda\n",
    "import numpy as np\n",
    "import pandas as pd\n",
    "import pylab as plt"
   ]
  },
  {
   "cell_type": "code",
   "execution_count": 7,
   "metadata": {
    "collapsed": true
   },
   "outputs": [],
   "source": [
    "alpha = 0.1\n",
    "beta = 0.1\n",
    "n_topics = 10\n",
    "n_docs = 20\n",
    "vocab_size = 100\n",
    "document_length = 50"
   ]
  },
  {
   "cell_type": "code",
   "execution_count": 8,
   "metadata": {
    "collapsed": false
   },
   "outputs": [
    {
     "data": {
      "image/png": "[encoded data removed]",
      "text/plain": [
       "<matplotlib.figure.Figure at 0x7fa6b8a9ffd0>"
      ]
     },
     "metadata": {},
     "output_type": "display_data"
    },
    {
     "name": "stdout",
     "output_type": "stream",
     "text": [
      "(100, 20)\n"
     ]
    },
    {
     "data": {
      "image/png": "[encoded data removed]",
      "text/plain": [
       "<matplotlib.figure.Figure at 0x7fa6b8a69fd0>"
      ]
     },
     "metadata": {},
     "output_type": "display_data"
    }
   ],
   "source": [
    "gen = LdaDataGenerator(alpha)\n",
    "df = gen.generate_input_df(n_topics, vocab_size, document_length, n_docs)"
   ]
  },
  {
   "cell_type": "code",
   "execution_count": 9,
   "metadata": {
    "collapsed": false
   },
   "outputs": [
    {
     "name": "stdout",
     "output_type": "stream",
     "text": [
      "CGS LDA initialising ..\n",
      "Burn-in 0 ..\n",
      "Burn-in 1 ..\n",
      "Burn-in 2 ..\n",
      "Burn-in 3 ..\n",
      "Burn-in 4 ..\n",
      "Burn-in 5 ..\n",
      "Burn-in 6 ..\n",
      "Burn-in 7 ..\n",
      "Burn-in 8 ..\n",
      "Burn-in 9 ..\n",
      "Burn-in 10 ..\n",
      "Burn-in 11 ..\n",
      "Burn-in 12 ..\n",
      "Burn-in 13 ..\n",
      "Burn-in 14 ..\n",
      "Burn-in 15 ..\n",
      "Burn-in 16 ..\n",
      "Burn-in 17 ..\n",
      "Burn-in 18 ..\n",
      "Burn-in 19 ..\n",
      "Burn-in 20 ..\n",
      "Burn-in 21 ..\n",
      "Burn-in 22 ..\n",
      "Burn-in 23 ..\n",
      "Burn-in 24 ..\n",
      "Burn-in 25 ..\n",
      "Burn-in 26 ..\n",
      "Burn-in 27 ..\n",
      "Burn-in 28 ..\n",
      "Burn-in 29 ..\n",
      "Burn-in 30 ..\n",
      "Burn-in 31 ..\n",
      "Burn-in 32 ..\n",
      "Burn-in 33 ..\n",
      "Burn-in 34 ..\n",
      "Burn-in 35 ..\n",
      "Burn-in 36 ..\n",
      "Burn-in 37 ..\n",
      "Burn-in 38 ..\n",
      "Burn-in 39 ..\n",
      "Burn-in 40 ..\n",
      "Burn-in 41 ..\n",
      "Burn-in 42 ..\n",
      "Burn-in 43 ..\n",
      "Burn-in 44 ..\n",
      "Burn-in 45 ..\n",
      "Burn-in 46 ..\n",
      "Burn-in 47 ..\n",
      "Burn-in 48 ..\n",
      "Burn-in 49 ..\n",
      "Burn-in 50 ..\n",
      "Burn-in 51 ..\n",
      "Burn-in 52 ..\n",
      "Burn-in 53 ..\n",
      "Burn-in 54 ..\n",
      "Burn-in 55 ..\n",
      "Burn-in 56 ..\n",
      "Burn-in 57 ..\n",
      "Burn-in 58 ..\n",
      "Burn-in 59 ..\n",
      "Burn-in 60 ..\n",
      "Burn-in 61 ..\n",
      "Burn-in 62 ..\n",
      "Burn-in 63 ..\n",
      "Burn-in 64 ..\n",
      "Burn-in 65 ..\n",
      "Burn-in 66 ..\n",
      "Burn-in 67 ..\n",
      "Burn-in 68 ..\n",
      "Burn-in 69 ..\n",
      "Burn-in 70 ..\n",
      "Burn-in 71 ..\n",
      "Burn-in 72 ..\n",
      "Burn-in 73 ..\n",
      "Burn-in 74 ..\n",
      "Burn-in 75 ..\n",
      "Burn-in 76 ..\n",
      "Burn-in 77 ..\n",
      "Burn-in 78 ..\n",
      "Burn-in 79 ..\n",
      "Burn-in 80 ..\n",
      "Burn-in 81 ..\n",
      "Burn-in 82 ..\n",
      "Burn-in 83 ..\n",
      "Burn-in 84 ..\n",
      "Burn-in 85 ..\n",
      "Burn-in 86 ..\n",
      "Burn-in 87 ..\n",
      "Burn-in 88 ..\n",
      "Burn-in 89 ..\n",
      "Burn-in 90 ..\n",
      "Burn-in 91 ..\n",
      "Burn-in 92 ..\n",
      "Burn-in 93 ..\n",
      "Burn-in 94 ..\n",
      "Burn-in 95 ..\n",
      "Burn-in 96 ..\n",
      "Burn-in 97 ..\n",
      "Burn-in 98 ..\n",
      "Burn-in 99 ..\n",
      "Sample 100 ..\n",
      "Sample 101 ..\n",
      "Sample 102 ..\n",
      "Sample 103 ..\n",
      "Sample 104 ..\n",
      "Sample 105 ..\n",
      "Sample 106 ..\n",
      "Sample 107 ..\n",
      "Sample 108 ..\n",
      "Sample 109 ..\n",
      "Sample 110 ..\n",
      "Sample 111 ..\n",
      "Sample 112 ..\n",
      "Sample 113 ..\n",
      "Sample 114 ..\n",
      "Sample 115 ..\n",
      "Sample 116 ..\n",
      "Sample 117 ..\n",
      "Sample 118 ..\n",
      "Sample 119 ..\n",
      "Sample 120 ..\n",
      "Sample 121 ..\n",
      "Sample 122 ..\n",
      "Sample 123 ..\n",
      "Sample 124 ..\n",
      "Sample 125 ..\n",
      "Sample 126 ..\n",
      "Sample 127 ..\n",
      "Sample 128 ..\n",
      "Sample 129 ..\n",
      "Sample 130 ..\n",
      "Sample 131 ..\n",
      "Sample 132 ..\n",
      "Sample 133 ..\n",
      "Sample 134 ..\n",
      "Sample 135 ..\n",
      "Sample 136 ..\n",
      "Sample 137 ..\n",
      "Sample 138 ..\n",
      "Sample 139 ..\n",
      "Sample 140 ..\n",
      "Sample 141 ..\n",
      "Sample 142 ..\n",
      "Sample 143 ..\n",
      "Sample 144 ..\n",
      "Sample 145 ..\n",
      "Sample 146 ..\n",
      "Sample 147 ..\n",
      "Sample 148 ..\n",
      "Sample 149 ..\n",
      "Sample 150 ..\n",
      "Sample 151 ..\n",
      "Sample 152 ..\n",
      "Sample 153 ..\n",
      "Sample 154 ..\n",
      "Sample 155 ..\n",
      "Sample 156 ..\n",
      "Sample 157 ..\n",
      "Sample 158 ..\n",
      "Sample 159 ..\n",
      "Sample 160 ..\n",
      "Sample 161 ..\n",
      "Sample 162 ..\n",
      "Sample 163 ..\n",
      "Sample 164 ..\n",
      "Sample 165 ..\n",
      "Sample 166 ..\n",
      "Sample 167 ..\n",
      "Sample 168 ..\n",
      "Sample 169 ..\n",
      "Sample 170 ..\n",
      "Sample 171 ..\n",
      "Sample 172 ..\n",
      "Sample 173 ..\n",
      "Sample 174 ..\n",
      "Sample 175 ..\n",
      "Sample 176 ..\n",
      "Sample 177 ..\n",
      "Sample 178 ..\n",
      "Sample 179 ..\n",
      "Sample 180 ..\n",
      "Sample 181 ..\n",
      "Sample 182 ..\n",
      "Sample 183 ..\n",
      "Sample 184 ..\n",
      "Sample 185 ..\n",
      "Sample 186 ..\n",
      "Sample 187 ..\n",
      "Sample 188 ..\n",
      "Sample 189 ..\n",
      "Sample 190 ..\n",
      "Sample 191 ..\n",
      "Sample 192 ..\n",
      "Sample 193 ..\n",
      "Sample 194 ..\n",
      "Sample 195 ..\n",
      "Sample 196 ..\n",
      "Sample 197 ..\n",
      "Sample 198 ..\n",
      "Sample 199 ..\n"
     ]
    }
   ],
   "source": [
    "gibbs = CollapseGibbsLda(df, n_topics, alpha, beta)\n",
    "gibbs.run(n_burn=100, n_samples=200)"
   ]
  },
  {
   "cell_type": "code",
   "execution_count": 10,
   "metadata": {
    "collapsed": false
   },
   "outputs": [
    {
     "data": {
      "image/png": "[encoded data removed]",
      "text/plain": [
       "<matplotlib.figure.Figure at 0x7fa6b8a3a550>"
      ]
     },
     "metadata": {},
     "output_type": "display_data"
    },
    {
     "data": {
      "image/png": "[encoded data removed]",
      "text/plain": [
       "<matplotlib.figure.Figure at 0x7fa6b8a3a490>"
      ]
     },
     "metadata": {},
     "output_type": "display_data"
    }
   ],
   "source": [
    "gen._plot_nicely(gibbs.phi, 'Inferred Topics X Vocabularies', 'vocabs', 'topics', 'inferred_topic_vocab.png')\n",
    "gen._plot_nicely(gibbs.theta.T, 'Inferred Topics X Docs', 'docs', 'topics', 'inferred_topic_docs.png')"
   ]
  },
  {
   "cell_type": "code",
   "execution_count": null,
   "metadata": {
    "collapsed": true
   },
   "outputs": [],
   "source": []
  }
 ],
 "metadata": {
  "kernelspec": {
   "display_name": "Python 2",
   "language": "python",
   "name": "python2"
  },
  "language_info": {
   "codemirror_mode": {
    "name": "ipython",
    "version": 2
   },
   "file_extension": ".py",
   "mimetype": "text/x-python",
   "name": "python",
   "nbconvert_exporter": "python",
   "pygments_lexer": "ipython2",
   "version": "2.7.9"
  }
 },
 "nbformat": 4,
 "nbformat_minor": 0
}
