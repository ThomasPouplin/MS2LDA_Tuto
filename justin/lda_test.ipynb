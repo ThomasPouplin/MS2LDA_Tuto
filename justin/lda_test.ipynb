{
 "cells": [
  {
   "cell_type": "markdown",
   "metadata": {},
   "source": [
    "Beer3 Positive Results\n",
    "=============="
   ]
  },
  {
   "cell_type": "markdown",
   "metadata": {},
   "source": [
    "1. LDA\n",
    "-------"
   ]
  },
  {
   "cell_type": "code",
   "execution_count": 145,
   "metadata": {
    "collapsed": false
   },
   "outputs": [],
   "source": [
    "from lda_for_fragments import run_lda\n",
    "%matplotlib inline\n",
    "import matplotlib.pyplot as plt\n",
    "import numpy as np"
   ]
  },
  {
   "cell_type": "code",
   "execution_count": 146,
   "metadata": {
    "collapsed": true
   },
   "outputs": [],
   "source": [
    "n_topics = 50\n",
    "n_samples = 500"
   ]
  },
  {
   "cell_type": "markdown",
   "metadata": {},
   "source": [
    "**Features.**\n",
    "\n",
    "For each document (i.e. parent peak), we have the following bag-of-words of features:\n",
    "1. The discretised m/z value of its fragment peaks. For the value, we use the the logged intensity of the fragment peak, scaled from 0..100.\n",
    "2. The discretised m/z value of neutral losses. For the value, we use the log intensity of the neutral loss peak, scaled from 0..100.\n",
    "3. The discretised m/z differences between each pair of fragment peaks. For the value, we use the count of occurences of such m/z differences (e.g. 1, 2, 3), scaled from 0..100.\n",
    "\n",
    "A lot of heuristics (thresholding, etc). were used when extracting these features from the mzXML files. See extractFeatures.R for more details."
   ]
  },
  {
   "cell_type": "markdown",
   "metadata": {},
   "source": [
    "The discretisation step we use to prerocess the input before passing it to the model seems quite dodgy now. We see in the histogram below the tall bars at bin=10, 20 and 30. These come from (3) above. The rest of the histogram bins come from (1) and (2)."
   ]
  },
  {
   "cell_type": "code",
   "execution_count": null,
   "metadata": {
    "collapsed": false,
    "scrolled": true
   },
   "outputs": [
    {
     "data": {
      "image/png": "[encoded data removed]",
      "text/plain": [
       "<matplotlib.figure.Figure at 0x7f0ae6b39310>"
      ]
     },
     "metadata": {},
     "output_type": "display_data"
    },
    {
     "name": "stdout",
     "output_type": "stream",
     "text": [
      "bin=0 count=0.0\n",
      "bin=1 count=0.0\n",
      "bin=2 count=0.0\n",
      "bin=3 count=0.0\n",
      "bin=4 count=0.0\n",
      "bin=5 count=0.0\n",
      "bin=6 count=0.0\n",
      "bin=7 count=0.0\n",
      "bin=8 count=0.0\n",
      "bin=9 count=0.0\n",
      "bin=10 count=25649.0\n",
      "bin=11 count=0.0\n",
      "bin=12 count=0.0\n",
      "bin=13 count=0.0\n",
      "bin=14 count=0.0\n",
      "bin=15 count=0.0\n",
      "bin=16 count=0.0\n",
      "bin=17 count=0.0\n",
      "bin=18 count=0.0\n",
      "bin=19 count=0.0\n",
      "bin=20 count=2771.0\n",
      "bin=21 count=0.0\n",
      "bin=22 count=0.0\n",
      "bin=23 count=0.0\n",
      "bin=24 count=0.0\n",
      "bin=25 count=0.0\n",
      "bin=26 count=0.0\n",
      "bin=27 count=0.0\n",
      "bin=28 count=0.0\n",
      "bin=29 count=0.0\n",
      "bin=30 count=554.0\n",
      "bin=31 count=0.0\n",
      "bin=32 count=0.0\n",
      "bin=33 count=0.0\n",
      "bin=34 count=0.0\n",
      "bin=35 count=0.0\n",
      "bin=36 count=0.0\n",
      "bin=37 count=0.0\n",
      "bin=38 count=0.0\n",
      "bin=39 count=0.0\n",
      "bin=40 count=135.0\n",
      "bin=41 count=0.0\n",
      "bin=42 count=109.0\n",
      "bin=43 count=554.0\n",
      "bin=44 count=829.0\n",
      "bin=45 count=882.0\n",
      "bin=46 count=804.0\n",
      "bin=47 count=821.0\n",
      "bin=48 count=802.0\n",
      "bin=49 count=753.0\n",
      "bin=50 count=656.0\n",
      "bin=51 count=555.0\n",
      "bin=52 count=474.0\n",
      "bin=53 count=455.0\n",
      "bin=54 count=461.0\n",
      "bin=55 count=412.0\n",
      "bin=56 count=334.0\n",
      "bin=57 count=310.0\n",
      "bin=58 count=286.0\n",
      "bin=59 count=241.0\n",
      "bin=60 count=243.0\n",
      "bin=61 count=173.0\n",
      "bin=62 count=156.0\n",
      "bin=63 count=130.0\n",
      "bin=64 count=101.0\n",
      "bin=65 count=76.0\n",
      "bin=66 count=66.0\n",
      "bin=67 count=67.0\n",
      "bin=68 count=51.0\n",
      "bin=69 count=41.0\n",
      "bin=70 count=56.0\n",
      "bin=71 count=38.0\n",
      "bin=72 count=36.0\n",
      "bin=73 count=16.0\n",
      "bin=74 count=11.0\n",
      "bin=75 count=25.0\n",
      "bin=76 count=15.0\n",
      "bin=77 count=10.0\n",
      "bin=78 count=7.0\n",
      "bin=79 count=10.0\n",
      "bin=80 count=9.0\n",
      "bin=81 count=2.0\n",
      "bin=82 count=3.0\n",
      "bin=83 count=3.0\n",
      "bin=84 count=0.0\n",
      "bin=85 count=1.0\n",
      "bin=86 count=3.0\n",
      "bin=87 count=3.0\n",
      "bin=88 count=0.0\n",
      "bin=89 count=2.0\n",
      "bin=90 count=2.0\n",
      "bin=91 count=0.0\n",
      "bin=92 count=2.0\n",
      "bin=93 count=0.0\n",
      "bin=94 count=0.0\n",
      "bin=95 count=1.0\n",
      "bin=96 count=0.0\n",
      "bin=97 count=0.0\n",
      "bin=98 count=0.0\n",
      "Data shape (856, 3758)\n",
      "Fitting model...\n"
     ]
    }
   ],
   "source": [
    "data, model, topicdf, docdf = run_lda('beer3_pos', \n",
    "                         'input/Beer_3_T10_POS_fragments.csv', \n",
    "                         'input/Beer_3_T10_POS_losses.csv', \n",
    "                         'input/Beer_3_T10_POS_mzdiffs.csv', \n",
    "                         n_topics, n_samples)"
   ]
  },
  {
   "cell_type": "markdown",
   "metadata": {},
   "source": [
    "LDA results can be found in the three files generated above."
   ]
  },
  {
   "cell_type": "markdown",
   "metadata": {},
   "source": [
    "2. PCA\n",
    "-------"
   ]
  },
  {
   "cell_type": "markdown",
   "metadata": {},
   "source": [
    "Here we use PCA to project the topics to lower-dimensional space for visualisation purposes. First ensure the variables are scaled."
   ]
  },
  {
   "cell_type": "code",
   "execution_count": null,
   "metadata": {
    "collapsed": false
   },
   "outputs": [],
   "source": [
    "from sklearn import preprocessing\n",
    "# df = docdf # topics x documents matrix\n",
    "df = topicdf.transpose() # topics x words matrix\n",
    "print df.shape\n",
    "\n",
    "# normalise and scale the variables\n",
    "scaled_mat = preprocessing.scale(df, axis=0)\n",
    "# print scaled_mat.mean(axis=0)\n",
    "# print scaled_mat.std(axis=0)"
   ]
  },
  {
   "cell_type": "markdown",
   "metadata": {},
   "source": [
    "Then run PCA"
   ]
  },
  {
   "cell_type": "code",
   "execution_count": null,
   "metadata": {
    "collapsed": false
   },
   "outputs": [],
   "source": [
    "from sklearn.decomposition import PCA\n",
    "pca = PCA(n_components=2)\n",
    "pca.fit(scaled_mat)\n",
    "X_r = pca.transform(scaled_mat)"
   ]
  },
  {
   "cell_type": "markdown",
   "metadata": {},
   "source": [
    "But the explained variances by the first two principal components are too low ..??"
   ]
  },
  {
   "cell_type": "code",
   "execution_count": null,
   "metadata": {
    "collapsed": false
   },
   "outputs": [],
   "source": [
    "print X_r.shape\n",
    "print('explained variance by the first two principal components: %s' % str(pca.explained_variance_ratio_))"
   ]
  },
  {
   "cell_type": "code",
   "execution_count": null,
   "metadata": {
    "collapsed": false
   },
   "outputs": [],
   "source": [
    "plt.figure()\n",
    "plt.scatter(X_r[:, 0], X_r[:, 1])\n",
    "plt.xlabel('1st princomp')\n",
    "plt.ylabel('2nd princomp')\n",
    "plt.title('Projected topics')"
   ]
  },
  {
   "cell_type": "markdown",
   "metadata": {},
   "source": [
    "3. Network\n",
    "------------"
   ]
  },
  {
   "cell_type": "markdown",
   "metadata": {},
   "source": [
    "We can try to put the topics on a network too."
   ]
  },
  {
   "cell_type": "code",
   "execution_count": null,
   "metadata": {
    "collapsed": false
   },
   "outputs": [],
   "source": [
    "df = topicdf.transpose()\n",
    "print df.shape # df is the topic x terms matrix"
   ]
  },
  {
   "cell_type": "code",
   "execution_count": null,
   "metadata": {
    "collapsed": false
   },
   "outputs": [],
   "source": [
    "# create adjacency matrix A\n",
    "\n",
    "# first compute euclidean distance between the topics\n",
    "from scipy.spatial.distance import cdist\n",
    "A = cdist(scaled_mat, scaled_mat, 'euclidean')\n",
    "\n",
    "# crudely convert to similarities\n",
    "maxval = A.max()\n",
    "A = 1-(A/maxval)\n",
    "plt.hist(A)\n",
    "\n",
    "# set a threshold of 0.3 for the similarity values for the network graph\n",
    "for i in xrange(A.shape[0]):\n",
    "    for j in xrange(A.shape[1]):\n",
    "        if A[i, j] < 0.40:\n",
    "            A[i, j] = 0\n",
    "\n",
    "plt.matshow(A)\n",
    "plt.colorbar()\n",
    "plt.show()"
   ]
  },
  {
   "cell_type": "code",
   "execution_count": null,
   "metadata": {
    "collapsed": false
   },
   "outputs": [],
   "source": [
    "import networkx as nx\n",
    "from networkx.readwrite import json_graph\n",
    "dt = [('len', float)]\n",
    "A = A.view(dt)\n",
    "G = nx.from_numpy_matrix(A)\n",
    "pos = nx.spring_layout(G, k=0.3, iterations=20)\n",
    "nx.draw(G,pos,font_size=8)"
   ]
  },
  {
   "cell_type": "markdown",
   "metadata": {},
   "source": [
    "Hard to conclude antyhing .... It seems like there are some 'core' topics that the rest are connected to (in the high-dimensional Euclidean space). However, take note the network graph above can be misleading due to the thresholding values used."
   ]
  },
  {
   "cell_type": "markdown",
   "metadata": {},
   "source": [
    "4. Topics\n",
    "-----------"
   ]
  },
  {
   "cell_type": "markdown",
   "metadata": {},
   "source": [
    "Visualise the document-topic distributions"
   ]
  },
  {
   "cell_type": "code",
   "execution_count": null,
   "metadata": {
    "collapsed": false
   },
   "outputs": [],
   "source": [
    "df = docdf.transpose()\n",
    "print df.shape\n",
    "plt.pcolor(df, norm=None, cmap='Blues')\n",
    "plt.tight_layout()\n",
    "plt.xlabel('Topics')\n",
    "plt.ylabel('Parent peaks')\n",
    "plt.title('Documents-topics distributions')\n",
    "plt.show()"
   ]
  },
  {
   "cell_type": "markdown",
   "metadata": {},
   "source": [
    "For every topic, check the words inside."
   ]
  },
  {
   "cell_type": "code",
   "execution_count": null,
   "metadata": {
    "collapsed": false,
    "scrolled": true
   },
   "outputs": [],
   "source": [
    "n_docs = 10\n",
    "n_fragments = 20\n",
    "\n",
    "topic_fragments = model.topic_word_\n",
    "headers = list(docdf.columns.values)\n",
    "\n",
    "for i, topic_dist in enumerate(topic_fragments):\n",
    "    \n",
    "    print \"Topic \" + str(i)\n",
    "    print \"==========\"\n",
    "    print\n",
    "    \n",
    "    column_values = np.array(docdf.columns.values)    \n",
    "    doc_dist = docdf.iloc[[i]].as_matrix().flatten()\n",
    "    idx = np.argsort(doc_dist)[::-1] # argsort in descending order\n",
    "    topic_d = np.array(column_values)[idx]\n",
    "    topic_p = np.array(doc_dist)[idx]\n",
    "    top_n_docs = topic_d[1:n_docs]\n",
    "    top_n_docs_p = topic_p[1:n_docs]\n",
    "    \n",
    "    print \"Parent peaks\"\n",
    "    print \"\\n\".join(' - %s\\t%.3f' % t for t in zip(top_n_docs, top_n_docs_p))\n",
    "\n",
    "    column_values = np.array(data.columns.values)\n",
    "    idx = np.argsort(topic_dist)[::-1] # argsort in descending order\n",
    "    topic_w = np.array(column_values)[idx]\n",
    "    topic_p = np.array(topic_dist)[idx]    \n",
    "    fragments = []\n",
    "    fragments_p = []\n",
    "    others = []\n",
    "    others_p = []\n",
    "    for w, p in zip(topic_w, topic_p):\n",
    "        if len(fragments) > n_fragments:\n",
    "            break\n",
    "        if w.startswith('fragment'):\n",
    "            fragments.append(w)\n",
    "            fragments_p.append(p)\n",
    "        else:\n",
    "            others.append(w)\n",
    "            others_p.append(p)\n",
    "\n",
    "    print \"Fragments\"\n",
    "    print \"\\n\".join(' - %s\\t%.3f' % t for t in zip(fragments, fragments_p))\n",
    "\n",
    "    print \"Others\"\n",
    "    print \"\\n\".join(' - %-15s\\t%.3f' % t for t in zip(others, others_p))\n",
    "    print"
   ]
  },
  {
   "cell_type": "markdown",
   "metadata": {
    "collapsed": true
   },
   "source": [
    "make a plot (plus the intensity) from the report above ..."
   ]
  },
  {
   "cell_type": "markdown",
   "metadata": {},
   "source": [
    "5. No. of Topics\n",
    "-------------------"
   ]
  },
  {
   "cell_type": "markdown",
   "metadata": {},
   "source": [
    "Compute the held-out perplexity on the testing set and plot as the no. of topics is increased .."
   ]
  }
 ],
 "metadata": {
  "kernelspec": {
   "display_name": "Python 2",
   "language": "python",
   "name": "python2"
  },
  "language_info": {
   "codemirror_mode": {
    "name": "ipython",
    "version": 2
   },
   "file_extension": ".py",
   "mimetype": "text/x-python",
   "name": "python",
   "nbconvert_exporter": "python",
   "pygments_lexer": "ipython2",
   "version": "2.7.9"
  }
 },
 "nbformat": 4,
 "nbformat_minor": 0
}
