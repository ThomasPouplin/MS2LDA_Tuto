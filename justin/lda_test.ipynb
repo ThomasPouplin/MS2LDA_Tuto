{
 "cells": [
  {
   "cell_type": "code",
   "execution_count": 1,
   "metadata": {
    "collapsed": false
   },
   "outputs": [],
   "source": [
    "from lda_for_fragments import *"
   ]
  },
  {
   "cell_type": "code",
   "execution_count": 2,
   "metadata": {
    "collapsed": true
   },
   "outputs": [],
   "source": [
    "n_topics = 50"
   ]
  },
  {
   "cell_type": "code",
   "execution_count": 3,
   "metadata": {
    "collapsed": false
   },
   "outputs": [
    {
     "name": "stdout",
     "output_type": "stream",
     "text": [
      "Binary input from input/QC_Beer_ParentsFragments_Tonyscripting.csv\n",
      "Data shape (511, 950)\n",
      "Fitting model...\n",
      "DONE!\n",
      "Writing topics to results/beer_pos/binary/beer_pos_binary_topics.csv\n",
      "Writing fragments x topics probability matrix to results/beer_pos/binary/beer_pos_binary_all.csv\n",
      "Writing topic docs to results/beer_pos/binary/beer_pos_binary_docs.csv\n"
     ]
    }
   ],
   "source": [
    "# beer data with binary matrix\n",
    "run_lda('beer_pos', 'input/QC_Beer_ParentsFragments_Tonyscripting.csv', True, n_topics)"
   ]
  },
  {
   "cell_type": "code",
   "execution_count": 4,
   "metadata": {
    "collapsed": false
   },
   "outputs": [
    {
     "name": "stdout",
     "output_type": "stream",
     "text": [
      "Multinomial input from input/QC_Beer_ParentsFragments_Tonyscripting.csv\n",
      "Data shape (511, 950)\n",
      "Fitting model...\n",
      "DONE!\n",
      "Writing topics to results/beer_pos/multinomial/beer_pos_multinomial_topics.csv\n",
      "Writing fragments x topics probability matrix to results/beer_pos/multinomial/beer_pos_multinomial_all.csv\n",
      "Writing topic docs to results/beer_pos/multinomial/beer_pos_multinomial_docs.csv\n"
     ]
    }
   ],
   "source": [
    "# beer data with multinomial matrix\n",
    "run_lda('beer_pos', 'input/QC_Beer_ParentsFragments_Tonyscripting.csv', False, n_topics)"
   ]
  }
 ],
 "metadata": {
  "kernelspec": {
   "display_name": "Python 2",
   "language": "python",
   "name": "python2"
  },
  "language_info": {
   "codemirror_mode": {
    "name": "ipython",
    "version": 2
   },
   "file_extension": ".py",
   "mimetype": "text/x-python",
   "name": "python",
   "nbconvert_exporter": "python",
   "pygments_lexer": "ipython2",
   "version": "2.7.6"
  }
 },
 "nbformat": 4,
 "nbformat_minor": 0
}
