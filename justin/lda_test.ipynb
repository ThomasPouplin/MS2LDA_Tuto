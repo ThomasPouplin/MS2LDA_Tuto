{
 "metadata": {
  "name": "",
  "signature": "sha256:00ecbf4e5c6192030ccd64396fcc3ccea3ebfad37c7cbba0543a25dae5142d46"
 },
 "nbformat": 3,
 "nbformat_minor": 0,
 "worksheets": [
  {
   "cells": [
    {
     "cell_type": "code",
     "collapsed": false,
     "input": [
      "import numpy as np\n",
      "import pandas as pd\n",
      "import lda\n",
      "import lda.datasets\n",
      "\n",
      "results_prefix = 'beer'"
     ],
     "language": "python",
     "metadata": {},
     "outputs": [],
     "prompt_number": 6
    },
    {
     "cell_type": "markdown",
     "metadata": {},
     "source": [
      "<p>Note that X needs to be DOCUMENTS x WORDS</p>"
     ]
    },
    {
     "cell_type": "code",
     "collapsed": false,
     "input": [
      "# data = pd.read_csv('Urine37_posneg_fragmentsparents.csv',index_col=0)\n",
      "data = pd.read_csv('QCBeer_test_noRTMS2fragm_filtering.csv',index_col=0)\n"
     ],
     "language": "python",
     "metadata": {},
     "outputs": [],
     "prompt_number": 2
    },
    {
     "cell_type": "code",
     "collapsed": false,
     "input": [
      "data = data.replace(np.nan,0)\n",
      "data[data>0] = 1\n",
      "data = data.transpose()\n",
      "print data.shape"
     ],
     "language": "python",
     "metadata": {},
     "outputs": [
      {
       "output_type": "stream",
       "stream": "stdout",
       "text": [
        "(621, 3873)\n"
       ]
      }
     ],
     "prompt_number": 3
    },
    {
     "cell_type": "code",
     "collapsed": false,
     "input": [
      "npdata = np.array(data,dtype='int64')\n",
      "n_topics = 20"
     ],
     "language": "python",
     "metadata": {},
     "outputs": [],
     "prompt_number": 14
    },
    {
     "cell_type": "code",
     "collapsed": false,
     "input": [
      "model = lda.LDA(n_topics = n_topics, n_iter=500, random_state=1)"
     ],
     "language": "python",
     "metadata": {},
     "outputs": [],
     "prompt_number": 4
    },
    {
     "cell_type": "code",
     "collapsed": false,
     "input": [
      "model.fit(npdata)"
     ],
     "language": "python",
     "metadata": {},
     "outputs": [
      {
       "metadata": {},
       "output_type": "pyout",
       "prompt_number": 5,
       "text": [
        "<lda.lda.LDA instance at 0x1110014d0>"
       ]
      }
     ],
     "prompt_number": 5
    },
    {
     "cell_type": "code",
     "collapsed": false,
     "input": [
      "topic_fragments = model.topic_word_\n",
      "n_top_frags = 20\n",
      "with open(results_prefix + 'topics.csv','w') as f:\n",
      "    for i,topic_dist in enumerate(topic_fragments):\n",
      "        topic_f = np.array(data.columns.values)[np.argsort(topic_dist)][:-n_top_frags:-1]\n",
      "        out_string = 'Topic {},{}'.format(i, ','.join(topic_f.astype('str')))\n",
      "        print(out_string)\n",
      "        f.write(out_string+'\\n')\n",
      "        "
     ],
     "language": "python",
     "metadata": {},
     "outputs": [
      {
       "output_type": "stream",
       "stream": "stdout",
       "text": [
        "Topic 0,91.05429,119.04908,149.02338,121.02856,95.04911,107.04909,147.0442,51.02337,123.04436,103.05424,165.05446,65.03881,123.04391,70.0652,55.01824,86.0963,135.04408,105.0336,67.05435\n",
        "Topic 1,53.03902,65.03881,82.0651,68.0496,56.04979,83.0604,83.04906,54.03416,81.04481,95.06044,70.0652,82.05251,69.03367,55.05464,67.05435,84.04431,67.04184,95.06056,86.05993\n",
        "Topic 2,84.08084,70.0652,67.05435,68.0496,82.0651,72.08076,55.05464,112.07556,56.04979,100.07558,69.03367,124.07553,94.06536,71.0492,128.07062,126.09162,142.08603,96.08095,96.08078\n",
        "Topic 3,94.0399,136.06202,119.03542,112.05078,109.05093,82.04005,67.02924,55.02946,137.04583,92.02442,95.02404,152.05657,135.03003,112.05055,110.03483,69.04485,150.07712,71.01285,68.01321\n",
        "Topic 4,70.0652,112.08682,72.08076,84.08084,60.05588,158.09231,116.0709,113.07081,116.07047,71.0492,130.09737,95.06056,97.07617,68.0496,175.11856,99.04429,55.02946,74.02361,164.08222\n",
        "Topic 5,131.0854,115.05407,128.06237,129.06966,143.08564,117.06998,127.07568,163.07512,128.06177,145.06458,145.10106,167.03406,191.0705,247.13287,151.07517,173.1321,157.10149,177.05437,121.06463\n",
        "Topic 6,91.05429,103.05424,81.03346,79.05428,95.04911,130.06504,70.0652,115.05407,53.03902,105.06993,118.06514,93.06999,65.03881,132.0811,120.08073,162.09102,160.07534,55.01824,136.07561\n",
        "Topic 7,84.04431,56.04979,70.0652,86.0963,181.09754,68.0496,209.09199,84.04463,130.05023,116.0709,69.03367,72.08076,110.07148,85.02843,85.0478,71.0685,57.05315,153.1023,125.07119\n",
        "Topic 8,93.06999,79.05428,105.06993,69.06993,95.0856,53.03902,81.06983,107.08537,55.05464,71.0492,65.03881,67.05435,57.07025,59.04942,109.06477,97.06485,119.0854,91.05429,85.06486\n",
        "Topic 9,86.05993,194.08169,182.08171,164.07024,67.01798,212.09185,98.06012,104.07076,71.0685,248.11228,87.04404,128.07062,230.10281,112.02152,152.07077,98.98446,72.081,99.04388,127.03901\n",
        "Topic 10,114.10251,72.08076,70.0652,60.05588,97.07617,157.10805,98.06012,55.05464,131.12888,179.08607,152.08232,178.0777,176.10734,263.07022,98.06023,278.05679,152.08156,301.15167,235.07496\n",
        "Topic 11,127.03901,85.02843,57.03386,97.0286,69.03367,97.02851,96.04429,73.02845,84.04431,81.03346,72.04448,114.0551,96.04438,126.05472,88.03921,80.04954,98.06012,99.04388,102.05493\n",
        "Topic 12,98.98404,60.08101,58.06542,104.10698,84.08084,86.0963,70.0652,56.04979,116.99501,71.07301,128.95358,57.03386,75.04408,59.07324,184.07306,130.08614,140.01094,104.10714,59.06873\n",
        "Topic 13,86.05993,58.06554,56.04979,58.06542,70.0652,68.0496,98.06023,55.05464,72.08076,100.07558,57.03386,69.03367,60.04464,74.0601,62.92922,110.06003,72.04448,53.0026,88.07565\n",
        "Topic 14,80.04954,110.06003,108.04451,122.05997,96.04438,134.06038,96.04429,106.06522,82.0651,68.0496,94.06498,126.05472,67.05435,65.03881,53.03902,111.04401,80.04964,79.05428,81.03346\n",
        "Topic 15,185.04202,203.05325,189.88116,64.92751,113.02093,70.0652,347.09476,365.10575,93.07009,191.07294,212.89704,143.03142,275.07304,171.87037,185.07072,153.8598,288.10632,179.0729,214.89526\n",
        "Topic 16,67.05435,53.0026,83.08547,83.08569,69.06993,57.07025,55.05464,79.05428,91.05429,81.06983,95.0856,97.10118,111.11676,109.10153,71.08556,112.07556,53.99783,125.09643,149.13229\n",
        "Topic 17,121.07597,80.04954,70.0652,133.07578,55.01824,109.0761,107.06065,135.09171,68.99728,107.06028,61.02872,151.08665,149.07084,111.00794,95.06044,56.9651,94.06498,129.01825,147.09157\n",
        "Topic 18,141.06973,175.07561,153.06996,155.08528,171.08041,142.07799,135.08054,147.08061,159.08018,116.06198,259.1328,133.06484,152.06189,165.06953,275.12711,161.05955,103.05424,157.06505,201.12807\n",
        "Topic 19,81.03346,69.03367,57.03386,53.03902,85.02843,61.02872,109.02856,55.01824,127.03901,71.0492,87.04404,99.04429,97.0286,73.02845,115.03883,145.04961,70.0652,97.02851,99.04388\n"
       ]
      }
     ],
     "prompt_number": 7
    },
    {
     "cell_type": "markdown",
     "metadata": {},
     "source": [
      "<p>Output in a fragments x topics matrix of probabilities - almost certainly an easier way of doing this, but I'm enjoying playing with PANDAS data structures..</p>"
     ]
    },
    {
     "cell_type": "code",
     "collapsed": false,
     "input": [
      "topic = model.topic_word_\n",
      "masses = np.array(data.transpose().index)\n",
      "d = {}\n",
      "for i in np.arange(n_topics):\n",
      "    topic_name = i\n",
      "    topic_series = pd.Series(topic[i],index=masses)\n",
      "    d[topic_name] = topic_series\n",
      "topicdf = pd.DataFrame(d)\n"
     ],
     "language": "python",
     "metadata": {},
     "outputs": [],
     "prompt_number": 72
    },
    {
     "cell_type": "code",
     "collapsed": false,
     "input": [
      "topicdf.to_csv(results_prefix+'all.csv')"
     ],
     "language": "python",
     "metadata": {},
     "outputs": [],
     "prompt_number": 74
    },
    {
     "cell_type": "code",
     "collapsed": false,
     "input": [],
     "language": "python",
     "metadata": {},
     "outputs": []
    },
    {
     "cell_type": "code",
     "collapsed": false,
     "input": [],
     "language": "python",
     "metadata": {},
     "outputs": []
    }
   ],
   "metadata": {}
  }
 ]
}