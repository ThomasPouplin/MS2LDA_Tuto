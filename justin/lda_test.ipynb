{
 "cells": [
  {
   "cell_type": "markdown",
   "metadata": {},
   "source": [
    "Possible workflow\n",
    "==========\n",
    "\n",
    "Proposed by Justin\n",
    "1. Create substructure sign. (topics) from a fragmentation file.\n",
    "2. Store into database the topics with related fragments above a certain probability cut-off.\n",
    "3. Curate/annotate database (this can be done by any chemist/metabolomics researcher in principle)\n",
    "4. Create substructure sign. from other sample type fragmentation file.\n",
    "5. Compare to those present in database - add novel ones to database - run substructure sign. from database over file.\n",
    "6. Then return for each fragmented peak in the file of interest the top 5 or so topic matches with a probability score.\n",
    "7. The user can look up compounds with similar topics or select and check compounds based on behavior in the dataset.\n",
    "8. Also, I can check if topics are in any way related to pathways....\n",
    "9. Compare annotation of compounds to matching with database spectra (pros, cons)\n",
    "\n",
    "I think such an approach would be publishable in Anal Chem.\n",
    "\n",
    "The nice thing is that everybody is able to enrich the database with their own samples - and get something back from the already 'curated' substructure signatures. Also, it produces probabilities as to if certain substructures are present in the data/compounds, which is something many people like to publish along with their results.  "
   ]
  },
  {
   "cell_type": "code",
   "execution_count": 48,
   "metadata": {
    "collapsed": false
   },
   "outputs": [],
   "source": [
    "import numpy as np\n",
    "import pandas as pd\n",
    "import lda\n",
    "import lda.datasets\n",
    "import pylab as plt\n",
    "%matplotlib inline\n",
    "\n",
    "# beer, urine, CampyTop10Pos, Urine94\n",
    "results_prefix = 'Urine94'\n",
    "binary = False\n",
    "if not binary:\n",
    "    results_prefix += \"_multinomial\""
   ]
  },
  {
   "cell_type": "markdown",
   "metadata": {},
   "source": [
    "<p>Note that X needs to be DOCUMENTS x WORDS</p>"
   ]
  },
  {
   "cell_type": "code",
   "execution_count": 49,
   "metadata": {
    "collapsed": false
   },
   "outputs": [
    {
     "name": "stdout",
     "output_type": "stream",
     "text": [
      "ParentFragmentMatrix_Urine94_mixed.csv\n"
     ]
    }
   ],
   "source": [
    "if 'beer' in results_prefix:\n",
    "    filename = 'QC_Beer_ParentsFragments_Tonyscripting.csv'\n",
    "elif 'urine' in results_prefix:\n",
    "    filename = 'Urine_FragmentsParents_MS2filter5000_Tonyscripting.csv'\n",
    "elif 'CampyTop10Pos' in results_prefix:\n",
    "    filename = 'ParentFragmentMatrix_CampyTop10Pos.csv'\n",
    "elif 'Urine94' in results_prefix:\n",
    "    filename = 'ParentFragmentMatrix_Urine94_mixed.csv'\n",
    "    \n",
    "print filename\n",
    "data = pd.read_csv(filename,index_col=0)"
   ]
  },
  {
   "cell_type": "code",
   "execution_count": 50,
   "metadata": {
    "collapsed": false
   },
   "outputs": [
    {
     "name": "stdout",
     "output_type": "stream",
     "text": [
      "Multinomial\n"
     ]
    },
    {
     "data": {
      "image/png": "[encoded data removed]",
      "text/plain": [
       "<matplotlib.figure.Figure at 0x7f30f0b346d0>"
      ]
     },
     "metadata": {},
     "output_type": "display_data"
    }
   ],
   "source": [
    "if binary:\n",
    "    print \"Binary\"\n",
    "    data = data.replace(np.nan,0)\n",
    "    data[data>0] = 1\n",
    "    data = data.transpose()\n",
    "    print data.shape\n",
    "    npdata = np.array(data,dtype='int64')\n",
    "else:\n",
    "    print \"Multinomial\"\n",
    "    data = np.log(data)\n",
    "    min_val = data.min().min()\n",
    "    data /= data.max().max()\n",
    "    data *= 100\n",
    "    from scipy.sparse import coo_matrix\n",
    "    data = data.replace(np.nan,0)\n",
    "    data = data.transpose()\n",
    "    sd = coo_matrix(data)\n",
    "    plt.hist(sd.data)\n",
    "    sd = sd.floor()  \n",
    "    npdata = np.array(sd.todense(),dtype='int64')"
   ]
  },
  {
   "cell_type": "code",
   "execution_count": 51,
   "metadata": {
    "collapsed": false
   },
   "outputs": [],
   "source": [
    "n_topics = 50"
   ]
  },
  {
   "cell_type": "code",
   "execution_count": 52,
   "metadata": {
    "collapsed": false
   },
   "outputs": [],
   "source": [
    "model = lda.LDA(n_topics = n_topics, n_iter=1000, random_state=1)"
   ]
  },
  {
   "cell_type": "code",
   "execution_count": 53,
   "metadata": {
    "collapsed": false
   },
   "outputs": [
    {
     "data": {
      "text/plain": [
       "<lda.lda.LDA instance at 0x7f30f0b6b9e0>"
      ]
     },
     "execution_count": 53,
     "metadata": {},
     "output_type": "execute_result"
    }
   ],
   "source": [
    "model.fit(npdata)"
   ]
  },
  {
   "cell_type": "code",
   "execution_count": 54,
   "metadata": {
    "collapsed": false
   },
   "outputs": [
    {
     "name": "stdout",
     "output_type": "stream",
     "text": [
      "Topic 0,84.04438,56.04983,130.04995,102.05488,85.02844,88.03927,60.04468,141.01804,112.03911,114.03734,87.06335,107.08538,135.11699,153.12737,101.07101,90.05481,165.09047,59.04942,107.04911\n",
      "Topic 1,82.06515,128.07063,74.02369,100.07559,56.04983,88.03927,134.04484,130.04995,70.02884,67.04171,116.03416,163.10757,131.12941,98.06006,113.07874,158.04497,83.07286,150.0743,122.07922\n",
      "Topic 2,84.0808,85.08391,131.08953,72.04441,56.04983,85.07819,130.08608,68.05762,81.04545,99.04253,72.00861,114.09158,60.04468,93.04567,86.06004,137.03578,146.03783,67.02963,57.04497\n",
      "Topic 3,59.06872,58.06537,101.07917,85.08391,103.05818,59.06236,60.07669,89.07908,88.07569,138.05489,144.06535,127.09459,89.00629,89.07294,70.99563,71.06857,61.07814,84.04503,76.96974\n",
      "Topic 4,74.02427,84.04503,128.03554,127.05133,145.06219,101.07197,109.04083,82.02939,58.02917,125.03555,98.02451,107.02495,156.03004,88.04008,59.97087,101.07164,119.0172,130.05122,115.00334\n",
      "Topic 5,506.83144,312.91379,72.00861,188.93943,294.90305,206.95015,124.01583,96.02035,69.00892,97.00449,106.02864,718.7583,400.86615,147.04509,99.9528,128.10181,114.0196,134.10555,72.42403\n",
      "Topic 6,67.05441,95.08556,81.06991,91.05433,92.04937,93.05723,78.0337,94.06488,79.04164,119.08545,165.09154,239.12779,97.10122,110.05997,96.98661,95.06025,97.02925,97.02835,95.58659\n",
      "Topic 7,55.02939,110.03492,82.03998,94.03992,124.05054,137.04587,119.03527,69.04474,142.06102,150.07693,148.04015,151.06117,181.07179,120.04539,133.05102,109.05067,157.07138,147.0323,92.05033\n",
      "Topic 8,60.08106,85.02844,57.03381,103.03887,102.09117,61.08434,104.04226,86.03161,103.09446,159.06476,105.04302,87.03273,115.07522,147.04695,84.98418,117.01072,90.46229,63.32778,70.31701\n",
      "Topic 9,70.06528,84.0808,134.09647,112.07569,80.04938,86.06004,239.13833,197.12901,106.06531,69.07001,162.09096,176.10724,175.10745,161.10699,157.09688,115.0866,95.04917,199.10745,129.10245\n",
      "Topic 10,100.07559,83.04913,98.06006,126.09157,72.04441,70.06528,71.04922,69.03356,125.10734,53.03894,130.06502,185.12885,130.12269,146.08145,186.11238,103.05423,143.11807,116.07038,130.08608\n",
      "Topic 11,88.07569,58.06537,160.09624,70.06528,102.05488,62.06028,82.06515,126.02186,100.07559,73.02833,114.09158,174.07576,108.01153,173.09209,89.08341,61.01097,93.03942,114.86176,223.50244\n",
      "Topic 12,79.95694,96.95993,78.95858,98.95584,93.03436,95.95205,81.95266,137.02483,119.05054,158.11917,96.9694,163.04047,65.03902,147.08153,98.96436,91.05504,118.94217,176.93634,355.15982\n",
      "Topic 13,71.0495,115.07663,85.06554,148.03935,166.05032,57.97491,68.99758,174.01659,92.04937,58.97828,86.00064,120.04454,115.04036,109.02955,131.01151,71.97818,138.05489,58.97441,87.00175\n",
      "Topic 14,96.06811,125.07124,119.01629,145.04957,97.07587,205.05321,191.03751,73.0106,87.07453,99.044,61.01097,91.02097,69.03356,127.03907,86.07116,87.06834,54.03425,190.05339,126.0548\n",
      "Topic 15,65.03869,121.02849,55.01814,149.02332,167.03384,274.09224,197.04489,121.03992,60.04468,130.06502,132.04435,175.08635,150.0265,157.07607,158.06,203.0816,121.10125,104.04918,103.05423\n",
      "Topic 16,85.02912,71.01325,113.02461,72.99248,75.00834,57.03381,99.00878,55.01814,87.00857,73.02887,95.01352,149.09715,333.20847,167.10818,103.5191,56.07217,72.40017,253.18144,58.49819\n",
      "Topic 17,79.95694,107.03762,134.061,123.04501,118.02981,163.02763,78.03459,162.0558,147.0323,86.0963,162.01956,178.05103,121.96601,62.92926,241.97581,146.02467,119.05054,106.02968,100.00378\n",
      "Topic 18,111.04402,69.03356,70.06528,129.05447,71.06037,116.07038,88.08709,172.10797,158.12894,133.09691,115.0866,202.11902,200.98459,212.05479,196.09618,240.0508,194.04414,258.06073,112.07569\n",
      "Topic 19,83.06029,84.04438,129.06563,56.04983,147.07632,130.04995,91.05433,136.07566,130.04952,69.07001,66.03414,111.05515,107.04911,125.09639,101.07101,111.08015,114.09158,144.10226,99.044\n",
      "Topic 20,80.96469,79.95694,123.04546,108.02163,107.0503,61.03991,106.04248,90.03478,62.04314,62.0369,122.03758,57.97491,187.00746,105.03441,127.04027,143.05023,62.04616,99.04507,96.98661\n",
      "Topic 21,90.05481,112.05048,87.05525,91.05848,95.02411,69.04474,94.03992,77.07897,132.07667,110.05997,60.0764,77.07265,74.02369,87.04407,133.08009,217.06999,91.05201,115.03883,73.02833\n",
      "Topic 22,68.04959,177.0542,91.05433,132.06531,157.06046,59.98457,149.02332,56.9951,208.13287,98.9841,94.05251,135.04404,250.14383,83.04913,73.1551,99.76617,58.27294,107.128,60.17585\n",
      "Topic 23,69.03411,125.0472,55.02939,70.04002,126.03074,95.93449,97.02925,141.04031,126.02986,96.0194,152.00932,98.03493,112.08692,159.03008,71.01325,69.00851,115.04036,82.04067,57.97491\n",
      "Topic 24,125.00416,101.05947,126.01176,85.01063,167.02761,112.02147,97.01046,57.04497,80.04938,129.05447,59.04942,128.10707,90.05481,139.03227,140.01636,160.09624,274.14398,115.0541,131.06841\n",
      "Topic 25,71.01325,59.01311,72.99248,75.00834,58.0053,73.02887,69.03411,87.00857,131.03492,87.0449,89.02379,161.04593,143.03551,94.64649,97.57076,103.00363,125.02423,99.92558,100.41293\n",
      "Topic 26,141.10236,187.10756,189.07422,73.02887,142.08609,119.06863,147.06342,171.06536,153.03137,198.67992,82.41836,80.12729,119.46998,53.7548,136.92833,126.43903,105.86687,110.02534,99.00878\n",
      "Topic 27,79.0542,91.05433,93.06968,76.03934,93.07005,105.06998,81.06991,55.02939,72.05561,126.01176,144.02283,101.0345,73.03963,125.00416,71.99041,99.00097,116.02771,83.99035,136.07566\n",
      "Topic 28,94.02957,124.00756,182.02795,139.00991,140.01796,138.00199,134.02496,106.98094,58.02917,123.99884,100.04032,102.05597,120.0806,103.05423,166.01755,149.04552,101.06073,124.05054,115.04036\n",
      "Topic 29,101.0245,71.01325,85.02912,119.03527,191.04514,125.03464,209.05568,155.04488,82.02886,179.04501,100.03905,121.06608,165.056,121.02937,71.01521,73.65314,87.87685,119.05054,96.13165\n",
      "Topic 30,53.03894,105.03362,55.01814,95.04917,108.02056,106.06531,151.039,213.11208,51.0233,81.03352,77.03867,105.04479,116.04961,111.08015,151.04961,89.03855,107.04911,208.04305,122.03639\n",
      "Topic 31,55.05454,57.07014,83.08545,69.07001,136.01654,108.02163,137.02483,111.11675,217.10657,78.98556,53.00252,110.03616,168.06574,97.0405,109.02955,183.0887,170.01895,178.88187,100.56999\n",
      "Topic 32,188.07115,118.06517,146.05979,91.05433,115.0541,143.07261,144.08097,145.03467,117.03948,119.01886,135.05004,117.10193,117.05756,184.04553,100.02435,161.02934,158.06584,168.07826,215.01598\n",
      "Topic 33,86.02448,160.90158,74.00653,64.95179,120.01233,71.99075,110.02469,78.95858,124.00716,239.01712,101.56886,151.9847,70.00738,95.58659,77.05796,80.83493,96.9694,128.03554,240.0508\n",
      "Topic 34,84.0808,144.10151,58.06537,85.02844,145.04957,69.03356,57.03381,102.05488,97.02835,144.10226,61.02863,163.06015,91.03912,93.05474,85.02807,187.09653,59.07298,173.08115,107.04911\n",
      "Topic 35,59.98457,72.96916,60.99241,130.93912,236.86092,374.77293,172.91696,90.97112,73.98544,89.05961,107.07014,163.13336,154.91559,101.0962,132.93701,172.92656,60.99401,254.87291,436.77505\n",
      "Topic 36,68.99709,139.00286,111.00742,157.01277,175.02405,83.01274,55.01814,124.08675,168.06574,170.09244,109.07613,60.05593,166.09706,134.061,87.05525,96.06811,194.09193,70.02884,129.01817\n",
      "Topic 37,96.04437,140.01636,78.0337,208.04305,182.02665,80.04938,166.03209,126.0548,122.02356,110.05997,95.06025,139.05013,149.00523,140.03433,121.01038,271.07477,124.03947,150.01855,209.04593\n",
      "Topic 38,176.87556,95.06025,81.04464,82.05252,314.78711,178.87352,93.04461,94.92953,370.75359,110.07111,96.05558,109.07613,137.07095,155.08151,167.10667,149.09587,121.10125,316.78571,232.84125\n",
      "Topic 39,72.08084,98.09621,120.01147,74.0059,74.02369,116.07038,158.11768,83.04913,116.10712,87.04407,151.98358,124.01685,162.02141,122.02675,123.00871,58.99531,116.01641,76.02143,153.99918\n",
      "Topic 40,108.04446,80.04938,109.05239,156.04778,141.02441,151.0629,198.05814,85.02844,198.05899,150.05531,182.0815,278.01447,140.07063,81.05739,199.06227,150.05453,96.9694,96.05558,96.97623\n",
      "Topic 41,128.95359,62.9819,234.91748,61.97415,340.88184,358.89197,274.90988,168.94621,97.01046,97.02835,97.00449,96.98661,97.02925,96.98478,97.0405,96.97623,96.9694,96.95993,718.7583\n",
      "Topic 42,60.05593,81.04464,69.03356,71.04922,86.06004,87.04407,127.04992,95.06025,108.06805,104.07059,137.07095,128.08165,239.11362,130.09738,111.05515,122.08371,123.05539,179.08145,158.09225\n",
      "Topic 43,159.04532,136.94039,135.04542,134.061,108.01153,132.04599,272.13031,56.96503,89.10204,77.16426,91.60188,83.35226,69.92995,81.21191,151.92699,161.01181,143.00182,84.95972,206.94598\n",
      "Topic 44,129.01946,85.02912,99.00878,111.00871,135.02994,67.01836,87.00819,72.99248,83.0134,180.08807,127.08658,173.09209,144.11308,75.01052,153.04034,137.0824,193.03543,92.05033,149.04552\n",
      "Topic 45,103.05423,56.96503,130.06502,84.06371,134.061,141.06978,84.05745,160.21194,225.12277,176.07048,112.07569,115.0541,169.06505,104.0838,57.05311,300.15933,260.09189,121.84155,55.50078\n",
      "Topic 46,58.06537,84.0808,59.07316,56.04983,76.07568,130.08608,85.06468,118.08633,130.12269,144.13815,86.0963,175.14377,97.05228,97.00449,97.0405,97.02925,97.02835,97.06597,97.07587\n",
      "Topic 47,114.0661,57.03381,63.96182,86.07116,55.01814,74.05999,99.04253,185.08121,115.06921,115.06364,131.03492,162.05457,80.96667,113.05824,96.98661,97.01046,96.98478,97.02835,97.02925\n",
      "Topic 48,71.06037,57.04497,60.99241,87.04407,174.12354,56.9951,98.9841,88.04745,72.06371,104.07059,171.00505,105.07398,124.99963,152.99454,187.88297,56.99656,82.95375,276.81531,87.06335\n",
      "Topic 49,56.9951,114.96482,59.98457,152.07057,110.05997,65.03869,93.03342,188.93943,206.95015,85.02844,111.04402,92.04937,141.01804,73.02833,294.90305,140.97832,220.88725,250.94012,103.03887\n"
     ]
    }
   ],
   "source": [
    "topic_fragments = model.topic_word_\n",
    "n_top_frags = 20\n",
    "with open(results_prefix + 'topics.csv','w') as f:\n",
    "    for i,topic_dist in enumerate(topic_fragments):\n",
    "        topic_f = np.array(data.columns.values)[np.argsort(topic_dist)][:-n_top_frags:-1]\n",
    "        out_string = 'Topic {},{}'.format(i, ','.join(topic_f.astype('str')))\n",
    "        print(out_string)\n",
    "        f.write(out_string+'\\n')\n",
    "        "
   ]
  },
  {
   "cell_type": "markdown",
   "metadata": {},
   "source": [
    "<p>Output in a fragments x topics matrix of probabilities - almost certainly an easier way of doing this, but I'm enjoying playing with PANDAS data structures..</p>"
   ]
  },
  {
   "cell_type": "code",
   "execution_count": 55,
   "metadata": {
    "collapsed": false
   },
   "outputs": [],
   "source": [
    "topic = model.topic_word_\n",
    "masses = np.array(data.transpose().index)\n",
    "d = {}\n",
    "for i in np.arange(n_topics):\n",
    "    topic_name = i\n",
    "    topic_series = pd.Series(topic[i],index=masses)\n",
    "    d[topic_name] = topic_series\n",
    "topicdf = pd.DataFrame(d)\n"
   ]
  },
  {
   "cell_type": "code",
   "execution_count": 56,
   "metadata": {
    "collapsed": false
   },
   "outputs": [
    {
     "name": "stdout",
     "output_type": "stream",
     "text": [
      "Urine94_multinomialall.csv\n"
     ]
    }
   ],
   "source": [
    "topicdf.to_csv(results_prefix+'all.csv')\n",
    "print results_prefix+'all.csv'"
   ]
  },
  {
   "cell_type": "code",
   "execution_count": 57,
   "metadata": {
    "collapsed": false
   },
   "outputs": [],
   "source": [
    "doc = model.doc_topic_\n",
    "(n_doc,a) = doc.shape"
   ]
  },
  {
   "cell_type": "code",
   "execution_count": 58,
   "metadata": {
    "collapsed": false
   },
   "outputs": [],
   "source": [
    "topic_index = np.arange(n_topics)\n",
    "doc_names = np.array(data.index)\n",
    "d = {}\n",
    "for i in np.arange(n_doc):\n",
    "    doc_name = doc_names[i]\n",
    "    doc_series = pd.Series(doc[i],index=topic_index)\n",
    "    d[doc_name] = doc_series\n",
    "docdf = pd.DataFrame(d)\n",
    "cols = docdf.columns.tolist()\n",
    "mass_rt = [(float(m.split('_')[0]),float(m.split('_')[1])) for m in cols]\n",
    "sorted_mass_rt = sorted(mass_rt,key=lambda m:m[0])\n",
    "ind = [mass_rt.index(i) for i in sorted_mass_rt]\n",
    "docdf = docdf[ind]\n"
   ]
  },
  {
   "cell_type": "code",
   "execution_count": 59,
   "metadata": {
    "collapsed": false
   },
   "outputs": [],
   "source": [
    "docdf.to_csv(results_prefix+'docs.csv')"
   ]
  },
  {
   "cell_type": "code",
   "execution_count": 60,
   "metadata": {
    "collapsed": false
   },
   "outputs": [
    {
     "name": "stdout",
     "output_type": "stream",
     "text": [
      "Index([u'74.05411_652.092', u'87.04479_554.696', u'91.05329_282.39', u'94.06497_916.93', u'96.96933_642.456', u'96.96066_683.483', u'98.96874_598.554', u'100.04951_560.383', u'100.98536_1203.52', u'101.07058_627.202', u'102.09127_876.482', u'104.10699_846.666', u'104.07002_550.857', u'105.01998_531.775', u'105.10976_846.666', u'106.08393_524.152', u'108.08046_876.482', u'109.07586_947.378', u'110.07139_615.704', u'110.04978_484.008', u'110.9644_431', u'111.03191_478.319', u'111.01511_274.698', u'115.06838_487.788', u'115.03728_531.775', u'116.03915_661.862', u'116.10693_756.571', u'116.95958_1254.1', u'117.02062_606.206', u'117.05565_410.199', u'117.10815_756.571', u'118.08625_526.042', u'118.06075_661.862', u'119.0349_482.122', u'119.05213_531.775', u'120.0651_613.818', u'121.02888_465.044', u'121.07128_533.66', u'122.02594_615.704', u'122.07313_535.545', u'122.96812_1203.52', u'124.00749_634.882', u'126.02098_634.882', u'126.01986_489.709', u'127.03409_527.979', u'127.04202_629.159', u'128.04552_474.517', u'128.95378_1203.52', u'129.01926_669.721', u'129.01925_431', u'129.06498_625.315', u'130.07945_421.516', u'130.05225_627.202', u'130.08607_910.116', u'130.08678_522.259', u'131.11777_869.378', u'132.03041_535.545', u'132.07649_623.431', u'133.06029_627.202', u'133.05093_432.886', u'134.06021_413.967', u'136.49749_642.456', u'136.9417_681.564', u'137.07077_1059.12', u'138.92725_1249.95', u'140.07587_421.516', u'141.06541_453.717', u'143.11685_790.955', u'144.10055_506.934', u'145.10362_506.934', u'145.06116_625.315', u'145.10371_908.055', u'146.09171_638.655', u'146.08034_444.232', u'146.11586_569.813', u'147.11238_910.116', u'147.06729_625.315', u'148.05669_602.436', u'148.11594_910.116', u'149.04522_531.775', u'149.04565_482.122', u'150.05731_408.315', u'151.14288_516.446', u'151.05392_417.737', u'152.11796_514.556', u'152.92124_681.564', u'153.06273_415.851', u'152.98749_650.143', u'154.0626_617.701', u'154.06461_419.629', u'155.01109_482.122', u'156.0767_615.704', u'159.14866_819.96', u'159.06349_547.055', u'159.01574_448.049', u'160.00718_448.049', u'160.10094_554.696', u'161.08033_575.528', u'162.11207_577.441', u'162.95842_1203.52', ...], dtype='object')\n"
     ]
    }
   ],
   "source": [
    "\n",
    "print data.index"
   ]
  },
  {
   "cell_type": "code",
   "execution_count": null,
   "metadata": {
    "collapsed": false
   },
   "outputs": [],
   "source": []
  },
  {
   "cell_type": "code",
   "execution_count": null,
   "metadata": {
    "collapsed": true
   },
   "outputs": [],
   "source": []
  }
 ],
 "metadata": {
  "kernelspec": {
   "display_name": "Python 2",
   "language": "python",
   "name": "python2"
  },
  "language_info": {
   "codemirror_mode": {
    "name": "ipython",
    "version": 2
   },
   "file_extension": ".py",
   "mimetype": "text/x-python",
   "name": "python",
   "nbconvert_exporter": "python",
   "pygments_lexer": "ipython2",
   "version": "2.7.6"
  }
 },
 "nbformat": 4,
 "nbformat_minor": 0
}
