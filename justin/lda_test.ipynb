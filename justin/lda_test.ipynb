{
 "cells": [
  {
   "cell_type": "code",
   "execution_count": 13,
   "metadata": {
    "collapsed": false
   },
   "outputs": [],
   "source": [
    "import numpy as np\n",
    "import pandas as pd\n",
    "import lda\n",
    "import lda.datasets\n",
    "import pylab as plt\n",
    "%matplotlib inline\n",
    "\n",
    "import sys\n",
    "import os"
   ]
  },
  {
   "cell_type": "code",
   "execution_count": 14,
   "metadata": {
    "collapsed": true
   },
   "outputs": [],
   "source": [
    "def get_outfile(results_prefix, binary, doctype):\n",
    "    if binary:\n",
    "        parent_dir = 'results/' + results_prefix + '/binary'\n",
    "        outfile = parent_dir + '/' + results_prefix + '_binary' + doctype\n",
    "    else:\n",
    "        parent_dir = 'results/' + results_prefix + '/multinomial'\n",
    "        outfile = parent_dir + '/' + results_prefix + '_multinomial' + doctype\n",
    "    if not os.path.exists(parent_dir):\n",
    "        os.makedirs(parent_dir)        \n",
    "    return outfile"
   ]
  },
  {
   "cell_type": "code",
   "execution_count": 15,
   "metadata": {
    "collapsed": false
   },
   "outputs": [],
   "source": [
    "def run_lda(results_prefix, filename, binary, n_topics):    \n",
    "        \n",
    "    data = pd.read_csv(filename,index_col=0)    \n",
    "    if binary:\n",
    "        print \"Binary input from \" + filename\n",
    "        data = data.replace(np.nan,0)\n",
    "        data[data>0] = 1\n",
    "        data = data.transpose()\n",
    "        npdata = np.array(data,dtype='int64')\n",
    "    else:\n",
    "        print \"Multinomial input from \" + filename\n",
    "        data = np.log(data)\n",
    "        min_val = data.min().min()\n",
    "        data /= data.max().max()\n",
    "        data *= 100\n",
    "        from scipy.sparse import coo_matrix\n",
    "        data = data.replace(np.nan,0)\n",
    "        data = data.transpose()\n",
    "        sd = coo_matrix(data)\n",
    "        plt.hist(sd.data)\n",
    "        sd = sd.floor()  \n",
    "        npdata = np.array(sd.todense(),dtype='int64')\n",
    "    print \"Data shape \" + str(npdata.shape)\n",
    "\n",
    "    print \"Fitting model...\"\n",
    "    sys.stdout.flush()\n",
    "    model = lda.LDA(n_topics = n_topics, n_iter=1000, random_state=1)\n",
    "    model.fit(npdata)\n",
    "    print \"DONE!\"\n",
    "    \n",
    "    outfile = get_outfile(results_prefix, binary, '_topics.csv') \n",
    "    print \"Writing topics to \" + outfile\n",
    "    topic_fragments = model.topic_word_\n",
    "    n_top_frags = 20\n",
    "    with open(outfile,'w') as f:\n",
    "        for i,topic_dist in enumerate(topic_fragments):\n",
    "            topic_f = np.array(data.columns.values)[np.argsort(topic_dist)][:-n_top_frags:-1]\n",
    "            out_string = 'Topic {},{}'.format(i, ','.join(topic_f.astype('str')))\n",
    "            # print(out_string)\n",
    "            f.write(out_string+'\\n')\n",
    "\n",
    "    outfile = get_outfile(results_prefix, binary, '_all.csv') \n",
    "    print \"Writing fragments x topics probability matrix to \" + outfile\n",
    "    topic = model.topic_word_\n",
    "    masses = np.array(data.transpose().index)\n",
    "    d = {}\n",
    "    for i in np.arange(n_topics):\n",
    "        topic_name = i\n",
    "        topic_series = pd.Series(topic[i],index=masses)\n",
    "        d[topic_name] = topic_series\n",
    "    topicdf = pd.DataFrame(d)\n",
    "    topicdf.to_csv(outfile)\n",
    "\n",
    "    outfile = get_outfile(results_prefix, binary, '_docs.csv') \n",
    "    print \"Writing topic docs to \" + outfile\n",
    "    doc = model.doc_topic_\n",
    "    (n_doc,a) = doc.shape\n",
    "    topic_index = np.arange(n_topics)\n",
    "    doc_names = np.array(data.index)\n",
    "    d = {}\n",
    "    for i in np.arange(n_doc):\n",
    "        doc_name = doc_names[i]\n",
    "        doc_series = pd.Series(doc[i],index=topic_index)\n",
    "        d[doc_name] = doc_series\n",
    "    docdf = pd.DataFrame(d)\n",
    "    cols = docdf.columns.tolist()\n",
    "    mass_rt = [(float(m.split('_')[0]),float(m.split('_')[1])) for m in cols]\n",
    "    sorted_mass_rt = sorted(mass_rt,key=lambda m:m[0])\n",
    "    ind = [mass_rt.index(i) for i in sorted_mass_rt]\n",
    "    docdf = docdf[ind]\n",
    "    docdf.to_csv(outfile)"
   ]
  },
  {
   "cell_type": "code",
   "execution_count": 16,
   "metadata": {
    "collapsed": true
   },
   "outputs": [],
   "source": [
    "n_topics = 50"
   ]
  },
  {
   "cell_type": "code",
   "execution_count": 17,
   "metadata": {
    "collapsed": false
   },
   "outputs": [
    {
     "name": "stdout",
     "output_type": "stream",
     "text": [
      "Binary input from input/QC_Beer_ParentsFragments_Tonyscripting.csv\n",
      "Data shape (511, 950)\n",
      "Fitting model...\n",
      "DONE!\n",
      "Writing topics to results/beer/binary/beer_binary_topics.csv\n",
      "Writing fragments x topics probability matrix to results/beer/binary/beer_binary_all.csv\n",
      "Writing topic docs to results/beer/binary/beer_binary_docs.csv\n"
     ]
    }
   ],
   "source": [
    "# beer data with binary matrix\n",
    "run_lda('beer', 'input/QC_Beer_ParentsFragments_Tonyscripting.csv', True, n_topics)"
   ]
  },
  {
   "cell_type": "code",
   "execution_count": 18,
   "metadata": {
    "collapsed": false
   },
   "outputs": [
    {
     "name": "stdout",
     "output_type": "stream",
     "text": [
      "Multinomial input from input/QC_Beer_ParentsFragments_Tonyscripting.csv\n",
      "Data shape (511, 950)\n",
      "Fitting model...\n",
      "DONE!\n",
      "Writing topics to results/beer/multinomial/beer_multinomial_topics.csv\n",
      "Writing fragments x topics probability matrix to results/beer/multinomial/beer_multinomial_all.csv\n",
      "Writing topic docs to results/beer/multinomial/beer_multinomial_docs.csv\n"
     ]
    },
    {
     "data": {
      "image/png": "[encoded data removed]",
      "text/plain": [
       "<matplotlib.figure.Figure at 0x7f638d6bca90>"
      ]
     },
     "metadata": {},
     "output_type": "display_data"
    }
   ],
   "source": [
    "# beer data with multinomial matrix\n",
    "run_lda('beer', 'input/QC_Beer_ParentsFragments_Tonyscripting.csv', False, n_topics)"
   ]
  },
  {
   "cell_type": "code",
   "execution_count": 19,
   "metadata": {
    "collapsed": false
   },
   "outputs": [
    {
     "name": "stdout",
     "output_type": "stream",
     "text": [
      "Binary input from input/Urine_FragmentsParents_MS2filter5000_Tonyscripting.csv\n",
      "Data shape (403, 1083)\n",
      "Fitting model...\n",
      "DONE!\n",
      "Writing topics to results/urine37/binary/urine37_binary_topics.csv\n",
      "Writing fragments x topics probability matrix to results/urine37/binary/urine37_binary_all.csv\n",
      "Writing topic docs to results/urine37/binary/urine37_binary_docs.csv\n"
     ]
    }
   ],
   "source": [
    "# urine data with binary matrix\n",
    "run_lda('urine37', 'input/Urine_FragmentsParents_MS2filter5000_Tonyscripting.csv', True, n_topics)"
   ]
  },
  {
   "cell_type": "code",
   "execution_count": 20,
   "metadata": {
    "collapsed": false
   },
   "outputs": [
    {
     "name": "stdout",
     "output_type": "stream",
     "text": [
      "Multinomial input from input/Urine_FragmentsParents_MS2filter5000_Tonyscripting.csv\n",
      "Data shape (403, 1083)\n",
      "Fitting model...\n",
      "DONE!\n",
      "Writing topics to results/urine37/multinomial/urine37_multinomial_topics.csv\n",
      "Writing fragments x topics probability matrix to results/urine37/multinomial/urine37_multinomial_all.csv\n",
      "Writing topic docs to results/urine37/multinomial/urine37_multinomial_docs.csv\n"
     ]
    },
    {
     "data": {
      "image/png": "[encoded data removed]",
      "text/plain": [
       "<matplotlib.figure.Figure at 0x7f638d5c0c50>"
      ]
     },
     "metadata": {},
     "output_type": "display_data"
    }
   ],
   "source": [
    "# urine data with multinomial matrix\n",
    "run_lda('urine37', 'input/Urine_FragmentsParents_MS2filter5000_Tonyscripting.csv', False, n_topics)"
   ]
  },
  {
   "cell_type": "code",
   "execution_count": 21,
   "metadata": {
    "collapsed": false
   },
   "outputs": [
    {
     "name": "stdout",
     "output_type": "stream",
     "text": [
      "Binary input from input/ParentFragmentMatrix_CampyTop10Pos.csv\n",
      "Data shape (403, 1083)\n",
      "Fitting model...\n",
      "DONE!\n",
      "Writing topics to results/campy/binary/campy_binary_topics.csv\n",
      "Writing fragments x topics probability matrix to results/campy/binary/campy_binary_all.csv\n",
      "Writing topic docs to results/campy/binary/campy_binary_docs.csv\n"
     ]
    }
   ],
   "source": [
    "# bacterial data with binary matrix\n",
    "run_lda('campy', 'input/ParentFragmentMatrix_CampyTop10Pos.csv', True, n_topics)"
   ]
  },
  {
   "cell_type": "code",
   "execution_count": 22,
   "metadata": {
    "collapsed": false
   },
   "outputs": [
    {
     "name": "stdout",
     "output_type": "stream",
     "text": [
      "Multinomial input from input/ParentFragmentMatrix_CampyTop10Pos.csv\n",
      "Data shape (403, 1083)\n",
      "Fitting model...\n",
      "DONE!\n",
      "Writing topics to results/campy/multinomial/campy_multinomial_topics.csv\n",
      "Writing fragments x topics probability matrix to results/campy/multinomial/campy_multinomial_all.csv\n",
      "Writing topic docs to results/campy/multinomial/campy_multinomial_docs.csv\n"
     ]
    },
    {
     "data": {
      "image/png": "[encoded data removed]",
      "text/plain": [
       "<matplotlib.figure.Figure at 0x7f638d6cc510>"
      ]
     },
     "metadata": {},
     "output_type": "display_data"
    }
   ],
   "source": [
    "# bacterial data with multinomial matrix\n",
    "run_lda('campy', 'input/ParentFragmentMatrix_CampyTop10Pos.csv', False, n_topics)"
   ]
  },
  {
   "cell_type": "code",
   "execution_count": 23,
   "metadata": {
    "collapsed": false
   },
   "outputs": [
    {
     "name": "stdout",
     "output_type": "stream",
     "text": [
      "Binary input from input/ParentFragmentMatrix_Urine94_mixed.csv\n",
      "Data shape (393, 1033)\n",
      "Fitting model...\n",
      "DONE!\n",
      "Writing topics to results/urine94/binary/urine94_binary_topics.csv\n",
      "Writing fragments x topics probability matrix to results/urine94/binary/urine94_binary_all.csv\n",
      "Writing topic docs to results/urine94/binary/urine94_binary_docs.csv\n"
     ]
    }
   ],
   "source": [
    "# another urine data with binary matrix\n",
    "run_lda('urine94', 'input/ParentFragmentMatrix_Urine94_mixed.csv', True, n_topics)"
   ]
  },
  {
   "cell_type": "code",
   "execution_count": 24,
   "metadata": {
    "collapsed": false
   },
   "outputs": [
    {
     "name": "stdout",
     "output_type": "stream",
     "text": [
      "Multinomial input from input/ParentFragmentMatrix_Urine94_mixed.csv\n",
      "Data shape (393, 1033)\n",
      "Fitting model...\n",
      "DONE!\n",
      "Writing topics to results/urine94/multinomial/urine94_multinomial_topics.csv\n",
      "Writing fragments x topics probability matrix to results/urine94/multinomial/urine94_multinomial_all.csv\n",
      "Writing topic docs to results/urine94/multinomial/urine94_multinomial_docs.csv\n"
     ]
    },
    {
     "data": {
      "image/png": "[encoded data removed]",
      "text/plain": [
       "<matplotlib.figure.Figure at 0x7f638d826ad0>"
      ]
     },
     "metadata": {},
     "output_type": "display_data"
    }
   ],
   "source": [
    "# another urine data with multinomial matrix\n",
    "run_lda('urine94', 'input/ParentFragmentMatrix_Urine94_mixed.csv', False, n_topics)"
   ]
  }
 ],
 "metadata": {
  "kernelspec": {
   "display_name": "Python 2",
   "language": "python",
   "name": "python2"
  },
  "language_info": {
   "codemirror_mode": {
    "name": "ipython",
    "version": 2
   },
   "file_extension": ".py",
   "mimetype": "text/x-python",
   "name": "python",
   "nbconvert_exporter": "python",
   "pygments_lexer": "ipython2",
   "version": "2.7.6"
  }
 },
 "nbformat": 4,
 "nbformat_minor": 0
}
