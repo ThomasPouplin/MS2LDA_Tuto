{
 "cells": [
  {
   "cell_type": "code",
   "execution_count": 149,
   "metadata": {
    "collapsed": false
   },
   "outputs": [],
   "source": [
    "import numpy as np\n",
    "import pandas as pd\n",
    "import lda\n",
    "import lda.datasets\n",
    "import pylab as plt\n",
    "%matplotlib inline\n",
    "\n",
    "results_prefix = 'beer'\n",
    "binary = False\n",
    "if not binary:\n",
    "    results_prefix += \"_multinomial\""
   ]
  },
  {
   "cell_type": "markdown",
   "metadata": {},
   "source": [
    "<p>Note that X needs to be DOCUMENTS x WORDS</p>"
   ]
  },
  {
   "cell_type": "code",
   "execution_count": 150,
   "metadata": {
    "collapsed": false
   },
   "outputs": [],
   "source": [
    "if results_prefix == 'beer':\n",
    "    data = pd.read_csv('QC_Beer_ParentsFragments_Tonyscripting.csv',index_col=0)\n",
    "else:\n",
    "    data = pd.read_csv('Urine_FragmentsParents_MS2filter5000_Tonyscripting.csv',index_col=0)"
   ]
  },
  {
   "cell_type": "code",
   "execution_count": 151,
   "metadata": {
    "collapsed": false
   },
   "outputs": [
    {
     "data": {
      "image/png": "[encoded data removed]",
      "text/plain": [
       "<matplotlib.figure.Figure at 0x111e762d0>"
      ]
     },
     "metadata": {},
     "output_type": "display_data"
    }
   ],
   "source": [
    "if binary:\n",
    "    data = data.replace(np.nan,0)\n",
    "    data[data>0] = 1\n",
    "    data = data.transpose()\n",
    "    print data.shape\n",
    "else:\n",
    "    data = np.log(data)\n",
    "    min_val = data.min().min()\n",
    "    data /= data.max().max()\n",
    "    data *= 100\n",
    "    from scipy.sparse import coo_matrix\n",
    "    data = data.replace(np.nan,0)\n",
    "    data = data.transpose()\n",
    "    sd = coo_matrix(data)\n",
    "    plt.hist(sd.data)\n",
    "    sd = sd.floor()  "
   ]
  },
  {
   "cell_type": "code",
   "execution_count": 152,
   "metadata": {
    "collapsed": false
   },
   "outputs": [],
   "source": [
    "npdata = np.array(sd.todense(),dtype='int64')\n",
    "n_topics = 50"
   ]
  },
  {
   "cell_type": "code",
   "execution_count": 153,
   "metadata": {
    "collapsed": false
   },
   "outputs": [],
   "source": [
    "model = lda.LDA(n_topics = n_topics, n_iter=1000, random_state=1)"
   ]
  },
  {
   "cell_type": "code",
   "execution_count": 154,
   "metadata": {
    "collapsed": false
   },
   "outputs": [
    {
     "data": {
      "text/plain": [
       "<lda.lda.LDA instance at 0x111d1e710>"
      ]
     },
     "execution_count": 154,
     "metadata": {},
     "output_type": "execute_result"
    }
   ],
   "source": [
    "model.fit(npdata)"
   ]
  },
  {
   "cell_type": "code",
   "execution_count": 155,
   "metadata": {
    "collapsed": false
   },
   "outputs": [
    {
     "name": "stdout",
     "output_type": "stream",
     "text": [
      "Topic 0,128.95354,62.98187,234.91731,61.97413,340.88177,358.89194,88.03927,134.04488,74.02408,130.04994,274.90973,136.94031,70.02884,158.04494,116.0342,151.9269,151.05171,72.08083,168.94614\n",
      "Topic 1,95.01352,124.01688,123.00871,168.00698,183.03001,96.95995,139.04015,139.00367,125.02432,87.07458,179.14447,86.07133,87.06846,69.034,97.02924,79.01854,86.06079,139.00542,130.05117\n",
      "Topic 2,90.05474,87.05524,163.06013,61.02862,97.02845,91.05839,145.04957,127.039,69.03355,70.02884,132.07666,115.04993,60.05591,74.02408,93.05474,133.08003,91.05202,91.03913,158.05646\n",
      "Topic 3,73.02898,134.06104,161.04611,55.01818,81.03412,100.04268,91.36077,116.60239,166.53802,122.02506,106.82732,120.66083,94.02956,99.00896,97.74564,52.90919,70.91358,78.03465,59.22683\n",
      "Topic 4,93.03442,101.02458,74.02408,99.04523,150.05652,65.03902,163.06198,119.05045,121.03001,119.05103,125.02432,87.00835,135.04537,180.06699,163.04114,199.00685,107.0503,111.21661,96.96939\n",
      "Topic 5,99.00896,127.04988,185.10292,170.0799,110.0715,333.15674,84.05576,95.06039,363.16629,156.07642,81.0336,72.08083,113.02507,167.10893,57.04499,83.06028,165.09225,169.07253,141.09204\n",
      "Topic 6,71.06037,57.04499,71.04937,158.12896,174.1236,134.08102,100.07562,138.05493,101.0792,102.05592,100.07686,58.02914,126.05614,63.75719,97.00424,84.04499,51.2952,73.13757,100.19896\n",
      "Topic 7,59.98457,60.99243,72.96911,130.93906,236.86092,374.77321,154.91599,132.93691,172.91699,74.96744,254.8709,238.85927,116.95972,436.7749,60.99405,156.9397,198.90596,160.94945,61.9889\n",
      "Topic 8,71.04937,146.08144,128.07063,95.04988,71.01327,130.12259,59.01309,62.99016,83.08543,107.01603,55.01818,89.02331,65.00584,143.10667,97.06569,113.06116,73.02839,115.07612,135.04776\n",
      "Topic 9,86.09636,68.99713,139.0029,111.00746,128.10712,157.01281,133.04956,129.01822,69.07001,72.04453,157.04916,68.04965,62.0603,174.07571,185.04419,61.01093,62.92929,121.96607,105.01829\n",
      "Topic 10,110.06009,152.07073,65.03874,92.04941,93.0335,80.04939,108.0446,122.02356,135.0297,67.04172,111.04408,136.03961,232.02806,141.01803,126.0548,149.04507,95.0365,135.03384,100.73105\n",
      "Topic 11,84.04438,130.04994,83.06028,56.04981,147.07631,129.06609,129.06549,107.04908,74.05994,212.05496,258.06091,240.04915,194.04431,116.10705,71.08563,137.05944,109.06476,115.06926,172.09705\n",
      "Topic 12,58.06539,59.07318,60.08107,76.07576,84.08085,144.10174,118.08646,102.05494,98.09626,59.04947,107.04908,73.06475,160.09639,83.07285,99.04523,99.0439,101.03449,101.02458,101.02341\n",
      "Topic 13,55.02939,110.03487,180.08801,151.06104,82.03992,130.05032,94.0399,135.0297,171.07608,153.04031,137.08232,71.06037,74.00586,74.02366,120.01141,59.06068,151.98349,114.09149,122.02671\n",
      "Topic 14,84.08085,56.04981,130.08604,67.0544,85.06479,100.07562,59.06875,60.07658,77.07902,126.09148,98.06027,130.12259,125.10764,185.12897,186.11249,77.07267,144.13823,158.11734,60.07027\n",
      "Topic 15,108.0446,80.04939,150.05528,109.05246,156.04788,141.02454,229.15511,198.05913,182.08153,278.01447,140.07071,151.06305,81.05746,95.01267,96.0806,124.07549,67.01833,73.02839,99.04271\n",
      "Topic 16,166.03207,140.01692,208.04329,316.11008,96.04439,182.06386,149.00615,271.07498,255.15852,121.01104,182.02695,120.08068,135.05511,153.1274,55.01818,94.02956,116.59316,66.0341,62.96338\n",
      "Topic 17,85.02847,57.03382,60.08107,73.02839,103.03891,145.04957,69.03355,97.02845,115.03891,133.04956,159.06485,217.07025,179.05521,144.10245,217.10649,113.02346,199.06068,115.07516,203.05563\n",
      "Topic 18,127.05127,128.03553,84.04499,145.06212,74.02408,101.07176,109.04076,125.03559,82.0294,108.01151,126.0218,55.01818,208.02745,126.0548,190.01631,107.02499,140.10838,109.03947,207.15085\n",
      "Topic 19,82.06518,128.07063,68.04965,56.04981,97.07605,150.0184,129.01941,80.04939,100.07562,225.12277,99.00857,68.99753,112.03918,163.10771,273.1438,174.01738,86.00055,101.07096,140.03447\n",
      "Topic 20,114.0661,72.04453,83.04913,55.05453,60.08107,100.07562,86.07133,101.05992,53.03893,99.04271,98.03497,112.05024,142.08616,185.0811,226.08203,95.02411,142.12291,190.06093,208.07155\n",
      "Topic 21,69.03355,69.034,129.05431,111.04408,83.04913,55.05453,58.00524,61.02862,99.0439,189.0744,171.06534,309.18164,119.06867,100.77576,110.03616,109.04076,216.08774,97.02924,150.09096\n",
      "Topic 22,60.04466,61.03989,176.05505,97.02845,158.04494,84.04438,141.01803,115.05402,197.04487,95.01267,188.071,118.06512,146.05969,136.94031,288.15845,72.05242,203.07056,167.03387,219.06126\n",
      "Topic 23,65.03874,149.02331,121.02856,125.01544,141.01014,152.02621,113.01495,53.03893,169.00459,198.0312,170.03658,148.03938,166.05031,256.0365,59.01341,89.02472,120.04456,228.04224,177.05524\n",
      "Topic 24,104.10706,207.09164,131.01631,149.02673,205.07558,180.08118,190.06485,152.06187,60.08107,192.08011,130.06502,235.09697,206.08337,68.02573,99.08026,148.07602,62.99016,124.99951,168.04771\n",
      "Topic 25,134.09645,84.08085,239.13824,80.04939,197.12891,162.09091,195.13855,176.10716,141.04036,148.11205,85.02913,161.10692,126.02985,70.04002,162.05659,152.00934,253.15431,96.01944,135.11702\n",
      "Topic 26,56.96506,124.01548,96.02007,69.00879,97.00424,53.0025,98.98645,167.02097,203.12839,74.09661,100.99119,287.14761,114.08928,122.02671,98.02354,65.01387,145.25797,144.28165,150.68968\n",
      "Topic 27,83.06028,56.04981,93.04454,82.05251,110.07098,95.06039,66.0341,81.04461,182.02803,139.00993,140.01692,138.002,96.05555,138.06635,134.02498,58.02914,123.99854,156.07642,107.03758\n",
      "Topic 28,96.04439,78.03389,138.05493,94.06498,92.05032,67.0544,124.03947,93.05721,120.04531,126.0548,79.04167,212.00316,53.03893,205.05322,132.04594,106.98069,131.03792,123.0397,107.04908\n",
      "Topic 29,137.02477,188.93951,206.95014,114.96479,59.98457,56.9951,108.02175,106.98069,400.86995,294.90286,82.0294,250.93838,135.04601,292.1572,193.05109,134.03753,208.09937,190.01793,191.07265\n",
      "Topic 30,57.03382,59.01309,87.04492,85.02913,69.034,101.02458,87.00835,129.01941,134.06104,108.02175,156.5358,154.16614,132.04521,102.03497,103.03989,71.17219,86.05776,65.04641,86.11079\n",
      "Topic 31,56.9951,59.98457,60.99243,114.96479,94.02956,138.002,181.02013,165.99702,196.04363,56.99657,74.99328,110.00706,139.00993,122.96798,140.97829,112.96152,77.90398,122.9673,78.62297\n",
      "Topic 32,130.06502,53.03893,95.04916,103.05426,110.02478,113.05828,105.03354,176.07057,51.02332,77.03866,81.0336,153.03091,216.03192,55.01818,112.08683,175.08647,105.0444,132.04433,158.06044\n",
      "Topic 33,91.05432,136.0756,93.07004,101.06063,83.04995,58.02914,243.15883,71.08563,57.07014,102.09128,294.16891,141.12688,103.05426,131.04903,235.13274,123.04436,149.05956,135.08054,145.09895\n",
      "Topic 34,95.08564,67.0544,81.06987,57.07014,83.08543,123.08047,141.09096,189.1115,205.08913,130.12259,171.10149,273.1329,130.06606,245.09351,155.14297,182.08153,133.10124,106.88757,74.9268\n",
      "Topic 35,96.06809,68.04965,95.06039,97.07605,81.04461,109.07616,54.03419,141.06572,125.07113,170.09246,124.08694,123.05532,151.06183,166.09721,153.06622,110.03487,67.04172,126.10241,85.0402\n",
      "Topic 36,71.01327,72.99258,75.00827,85.02913,59.01309,113.02458,87.00835,72.99228,117.01932,89.02405,58.00524,75.01032,131.03487,193.03543,103.00366,99.00857,143.10791,257.17636,191.02031\n",
      "Topic 37,79.05433,81.06987,67.0544,76.03931,105.06995,72.05563,144.11298,173.0919,101.03449,127.0865,73.03964,55.02939,133.10124,111.02034,193.12213,151.11209,132.1019,119.0854,175.14801\n",
      "Topic 38,70.06528,98.05996,69.03355,68.04965,126.09148,142.08616,125.10709,143.1181,100.07562,132.06522,114.05508,71.06857,143.08948,227.11382,97.08439,140.11855,244.13965,167.11807,147.06348\n",
      "Topic 39,108.0455,110.03616,138.03117,69.00879,83.0248,96.02007,166.01335,123.00742,150.07703,109.05072,133.05098,94.0399,106.04977,119.03499,135.05373,82.03992,181.03639,102.98484,148.99042\n",
      "Topic 40,55.05453,69.07001,97.1012,125.09603,109.101,123.1169,139.11172,169.12237,111.11675,125.03466,191.04517,209.05577,203.11035,202.10783,155.04489,187.13286,179.045,82.02887,100.03951\n",
      "Topic 41,135.04537,134.03753,149.07074,155.02566,60.05591,212.03743,134.04715,116.07037,125.01544,327.12067,324.10022,122.05997,53.03893,198.02193,106.06528,130.09734,139.06276,105.03354,158.09219\n",
      "Topic 42,86.05999,87.0441,104.07072,69.03355,88.04008,74.02408,112.04054,84.00885,85.0841,131.08954,131.12585,60.05591,68.05764,58.02914,87.05606,85.07797,128.08165,111.05512,213.05222\n",
      "Topic 43,72.08083,125.01544,141.01014,113.0155,53.03893,169.00561,152.02621,198.0312,114.09149,136.02156,130.06502,255.21063,273.22083,316.0571,155.02566,59.06875,356.05225,51.02332,141.01803\n",
      "Topic 44,70.06528,112.07566,116.07037,55.01818,175.10748,129.10239,171.11325,157.09686,84.04438,71.06037,88.08709,172.10788,158.12896,130.05032,133.09697,115.08688,140.07071,128.10832,195.14987\n",
      "Topic 45,176.87553,107.0503,178.87357,123.04527,94.92946,108.02175,314.78708,370.75352,144.03033,98.02432,80.96503,106.04314,72.00857,187.0074,163.07706,225.07747,232.84154,113.02458,95.04988\n",
      "Topic 46,79.95693,96.95995,80.96468,78.95859,124.00764,80.95631,100.04031,108.02044,152.9176,65.99783,126.03054,138.97043,97.95951,74.00647,64.95173,122.03604,232.87383,120.01221,198.99223\n",
      "Topic 47,102.09128,61.08429,104.04231,124.05062,72.05563,55.02939,69.04479,142.06107,181.07196,86.03162,103.09452,157.07242,105.04305,110.03487,138.06635,87.03278,147.04704,150.03003,123.05652\n",
      "Topic 48,121.02928,121.06593,165.05587,119.05045,96.95995,150.03214,156.08096,103.05023,230.0808,144.08096,170.05974,104.03407,130.06502,229.09741,129.06963,154.06523,58.02914,65.00269,87.04492\n",
      "Topic 49,94.98051,96.06357,97.07167,81.95264,84.06385,81.96108,96.06809,125.09038,110.07922,87.0441,96.05735,88.04752,124.08694,72.06375,83.06028,158.08096,69.05279,124.05847,58.04841\n"
     ]
    }
   ],
   "source": [
    "topic_fragments = model.topic_word_\n",
    "n_top_frags = 20\n",
    "with open(results_prefix + 'topics.csv','w') as f:\n",
    "    for i,topic_dist in enumerate(topic_fragments):\n",
    "        topic_f = np.array(data.columns.values)[np.argsort(topic_dist)][:-n_top_frags:-1]\n",
    "        out_string = 'Topic {},{}'.format(i, ','.join(topic_f.astype('str')))\n",
    "        print(out_string)\n",
    "        f.write(out_string+'\\n')\n",
    "        "
   ]
  },
  {
   "cell_type": "markdown",
   "metadata": {},
   "source": [
    "<p>Output in a fragments x topics matrix of probabilities - almost certainly an easier way of doing this, but I'm enjoying playing with PANDAS data structures..</p>"
   ]
  },
  {
   "cell_type": "code",
   "execution_count": 156,
   "metadata": {
    "collapsed": false
   },
   "outputs": [],
   "source": [
    "topic = model.topic_word_\n",
    "masses = np.array(data.transpose().index)\n",
    "d = {}\n",
    "for i in np.arange(n_topics):\n",
    "    topic_name = i\n",
    "    topic_series = pd.Series(topic[i],index=masses)\n",
    "    d[topic_name] = topic_series\n",
    "topicdf = pd.DataFrame(d)\n"
   ]
  },
  {
   "cell_type": "code",
   "execution_count": 157,
   "metadata": {
    "collapsed": false
   },
   "outputs": [],
   "source": [
    "topicdf.to_csv(results_prefix+'all.csv')"
   ]
  },
  {
   "cell_type": "code",
   "execution_count": 158,
   "metadata": {
    "collapsed": false
   },
   "outputs": [],
   "source": [
    "doc = model.doc_topic_\n",
    "(n_doc,a) = doc.shape"
   ]
  },
  {
   "cell_type": "code",
   "execution_count": 159,
   "metadata": {
    "collapsed": false
   },
   "outputs": [],
   "source": [
    "topic_index = np.arange(n_topics)\n",
    "doc_names = np.array(data.index)\n",
    "d = {}\n",
    "for i in np.arange(n_doc):\n",
    "    doc_name = doc_names[i]\n",
    "    doc_series = pd.Series(doc[i],index=topic_index)\n",
    "    d[doc_name] = doc_series\n",
    "docdf = pd.DataFrame(d)\n",
    "cols = docdf.columns.tolist()\n",
    "mass_rt = [(float(m.split('_')[0]),float(m.split('_')[1])) for m in cols]\n",
    "sorted_mass_rt = sorted(mass_rt,key=lambda m:m[0])\n",
    "ind = [mass_rt.index(i) for i in sorted_mass_rt]\n",
    "docdf = docdf[ind]\n"
   ]
  },
  {
   "cell_type": "code",
   "execution_count": 160,
   "metadata": {
    "collapsed": false
   },
   "outputs": [],
   "source": [
    "docdf.to_csv(results_prefix+'docs.csv')"
   ]
  },
  {
   "cell_type": "code",
   "execution_count": 161,
   "metadata": {
    "collapsed": false
   },
   "outputs": [
    {
     "name": "stdout",
     "output_type": "stream",
     "text": [
      "Index([u'74.06883_663.25', u'78.95893_643.635', u'79.95739_413.486', u'87.04354_552.191', u'90.05497_626.476', u'94.06502_966.216', u'96.96013_680.973', u'97.96442_680.973', u'98.957_680.973', u'100.05051_559.756', u'100.98534_1198.51', u'102.09131_904.499', u'103.0947_904.499', u'104.10697_878.25', u'104.07049_605.534', u'104.07014_552.191', u'105.10989_878.25', u'107.98137_734.261', u'110.0624_615.033', u'110.05114_483.703', u'111.01699_685.046', u'115.06868_487.516', u'116.02435_663.25', u'116.1069_807.281', u'116.95958_1254.69', u'117.02076_599.844', u'117.05621_411.602', u'118.08634_527.603', u'118.06103_661.282', u'120.0645_609.314', u'121.02952_405.95', u'121.07122_535.15', u'122.02513_609.314', u'122.96913_1200.59', u'124.00751_632.132', u'124.08709_554.101', u'126.02045_632.132', u'126.10253_930.238', u'126.95666_502.747', u'127.03645_630.246', u'128.04601_474.222', u'128.95375_1200.59', u'129.01933_698.936', u'129.07599_624.592', u'130.0499_472.338', u'130.05755_622.652', u'130.04974_281.944', u'131.11784_870.124', u'131.03507_552.191', u'132.07647_622.652', u'133.05494_624.592', u'133.02895_683.02', u'133.05087_428.688', u'133.05084_476.108', u'135.02933_537.06', u'137.07079_1066.96', u'137.02498_274.321', u'138.05454_542.713', u'138.92463_1252.68', u'139.01059_424.836', u'139.05419_457.248', u'140.03768_580.736', u'140.06602_531.371', u'140.97804_1200.59', u'141.06543_455.362', u'142.08087_438.262', u'143.04195_634.076', u'143.11757_810.923', u'143.07233_578.852', u'144.09369_504.683', u'144.06644_440.195', u'144.10177_582.622', u'145.09881_504.683', u'145.02783_620.739', u'145.13226_848.958', u'145.05684_565.486', u'146.08097_440.195', u'146.08926_639.819', u'147.05203_599.844', u'147.07671_440.195', u'148.09654_550.306', u'149.04404_479.876', u'149.0454_529.487', u'149.05605_641.749', u'151.14353_514.261', u'152.04095_430.575', u'152.14095_514.261', u'153.0189_472.338', u'152.98541_647.425', u'153.06136_417.296', u'155.01567_483.703', u'156.07644_613.086', u'157.0517_563.544', u'157.05106_241.16', u'157.07118_616.937', u'158.09218_590.316', u'158.07513_419.18', u'158.08387_468.569', u'159.03049_241.16', u'159.14903_824.17', ...], dtype='object')\n"
     ]
    }
   ],
   "source": [
    "\n",
    "print data.index"
   ]
  },
  {
   "cell_type": "code",
   "execution_count": null,
   "metadata": {
    "collapsed": false
   },
   "outputs": [],
   "source": []
  }
 ],
 "metadata": {
  "kernelspec": {
   "display_name": "Python 2",
   "language": "python",
   "name": "python2"
  },
  "language_info": {
   "codemirror_mode": {
    "name": "ipython",
    "version": 2
   },
   "file_extension": ".py",
   "mimetype": "text/x-python",
   "name": "python",
   "nbconvert_exporter": "python",
   "pygments_lexer": "ipython2",
   "version": "2.7.6"
  }
 },
 "nbformat": 4,
 "nbformat_minor": 0
}
