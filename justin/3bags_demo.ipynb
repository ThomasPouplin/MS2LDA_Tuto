{
 "cells": [
  {
   "cell_type": "markdown",
   "metadata": {},
   "source": [
    "3-bags LDA demo\n",
    "============"
   ]
  },
  {
   "cell_type": "code",
   "execution_count": 2,
   "metadata": {
    "collapsed": false
   },
   "outputs": [
    {
     "name": "stdout",
     "output_type": "stream",
     "text": [
      "The autoreload extension is already loaded. To reload it, use:\n",
      "  %reload_ext autoreload\n"
     ]
    }
   ],
   "source": [
    "%load_ext autoreload\n",
    "%autoreload 2\n",
    "%matplotlib inline\n",
    "\n",
    "import sys\n",
    "basedir = '..'\n",
    "sys.path.append(basedir)\n",
    "\n",
    "from experimental.lda_3bags_for_fragments import ThreeBags_Ms2Lda\n",
    "import matplotlib.pyplot as plt\n",
    "import numpy as np\n",
    "import pandas as pd\n",
    "import random\n",
    "import sys"
   ]
  },
  {
   "cell_type": "code",
   "execution_count": 3,
   "metadata": {
    "collapsed": false,
    "scrolled": true
   },
   "outputs": [],
   "source": [
    "n_topics = 250 # number of topics\n",
    "n_samples = 200 # how many samples to get during Gibbs sampling\n",
    "n_burn = 0 # no. of burn-in samples to discard\n",
    "n_thin = 1 # thinning parameter\n",
    "alpha = 50.0/n_topics # hyper-parameter for document-topic distributions\n",
    "beta = 0.1 # hyper-parameter for topic-word distributions\n",
    "\n",
    "fragment_filename = 'input/relative_intensities/Beer_3_T10_POS_fragments_rel.csv'\n",
    "neutral_loss_filename = 'input/relative_intensities/Beer_3_T10_POS_losses_rel.csv'\n",
    "mzdiff_filename = 'input/relative_intensities/Beer_3_T10_POS_mzdiffs_rel.csv' \n",
    "\n",
    "ms1_filename = 'input/relative_intensities/Beer_3_T10_POS_ms1_rel.csv'\n",
    "ms2_filename = 'input/relative_intensities/Beer_3_T10_POS_ms2_rel.csv'"
   ]
  },
  {
   "cell_type": "code",
   "execution_count": 4,
   "metadata": {
    "collapsed": false
   },
   "outputs": [
    {
     "name": "stdout",
     "output_type": "stream",
     "text": [
      "Data shape (856, 3697)\n"
     ]
    }
   ],
   "source": [
    "ms2lda = ThreeBags_Ms2Lda(fragment_filename, neutral_loss_filename, mzdiff_filename, \n",
    "            ms1_filename, ms2_filename, relative_intensity=True)    \n",
    "df, vocab = ms2lda.preprocess()   "
   ]
  },
  {
   "cell_type": "code",
   "execution_count": 5,
   "metadata": {
    "collapsed": false,
    "scrolled": true
   },
   "outputs": [
    {
     "name": "stdout",
     "output_type": "stream",
     "text": [
      "Fitting model...\n",
      "CGS LDA initialising\n",
      "......................................................................................\n",
      "Using Numba for 3-bags LDA sampling\n",
      "Preparing words\n",
      "Preparing Z matrix\n",
      "DONE\n",
      "Sample 1   Log joint likelihood = -7644705.375 \n",
      "Sample 2   Log joint likelihood = -6309995.494 \n",
      "Sample 3   Log joint likelihood = -5091988.041 \n",
      "Sample 4   Log joint likelihood = -4412846.288 \n",
      "Sample 5   Log joint likelihood = -4092127.360 \n",
      "Sample 6   Log joint likelihood = -3919672.407 \n",
      "Sample 7   Log joint likelihood = -3809341.023 \n",
      "Sample 8   Log joint likelihood = -3734122.265 \n",
      "Sample 9   Log joint likelihood = -3677547.371 \n",
      "Sample 10   Log joint likelihood = -3635281.619 \n",
      "Sample 11   Log joint likelihood = -3600070.477 \n",
      "Sample 12   Log joint likelihood = -3572057.569 \n",
      "Sample 13   Log joint likelihood = -3547630.962 \n",
      "Sample 14   Log joint likelihood = -3526056.041 \n",
      "Sample 15   Log joint likelihood = -3508447.122 \n",
      "Sample 16   Log joint likelihood = -3491934.372 \n",
      "Sample 17   Log joint likelihood = -3477978.407 \n",
      "Sample 18   Log joint likelihood = -3464236.699 \n",
      "Sample 19   Log joint likelihood = -3449377.658 \n",
      "Sample 20   Log joint likelihood = -3437400.941 \n",
      "Sample 21   Log joint likelihood = -3425372.414 \n",
      "Sample 22   Log joint likelihood = -3415631.054 \n",
      "Sample 23   Log joint likelihood = -3406246.347 \n",
      "Sample 24   Log joint likelihood = -3397854.676 \n",
      "Sample 25   Log joint likelihood = -3391907.931 \n",
      "Sample 26   Log joint likelihood = -3385183.743 \n",
      "Sample 27   Log joint likelihood = -3379930.956 \n",
      "Sample 28   Log joint likelihood = -3374910.903 \n",
      "Sample 29   Log joint likelihood = -3370724.132 \n",
      "Sample 30   Log joint likelihood = -3364617.394 \n",
      "Sample 31   Log joint likelihood = -3359758.458 \n",
      "Sample 32   Log joint likelihood = -3357144.046 \n",
      "Sample 33   Log joint likelihood = -3351967.532 \n",
      "Sample 34   Log joint likelihood = -3348498.112 \n",
      "Sample 35   Log joint likelihood = -3344211.545 \n",
      "Sample 36   Log joint likelihood = -3341704.021 \n",
      "Sample 37   Log joint likelihood = -3337963.383 \n",
      "Sample 38   Log joint likelihood = -3334824.699 \n",
      "Sample 39   Log joint likelihood = -3331643.384 \n",
      "Sample 40   Log joint likelihood = -3329838.879 \n",
      "Sample 41   Log joint likelihood = -3326944.643 \n",
      "Sample 42   Log joint likelihood = -3324397.432 \n",
      "Sample 43   Log joint likelihood = -3321794.433 \n",
      "Sample 44   Log joint likelihood = -3320162.254 \n",
      "Sample 45   Log joint likelihood = -3318002.244 \n",
      "Sample 46   Log joint likelihood = -3315421.412 \n",
      "Sample 47   Log joint likelihood = -3316258.647 \n",
      "Sample 48   Log joint likelihood = -3313812.894 \n",
      "Sample 49   Log joint likelihood = -3310982.716 \n",
      "Sample 50   Log joint likelihood = -3308986.882 \n",
      "Sample 51   Log joint likelihood = -3307252.216 \n",
      "Sample 52   Log joint likelihood = -3306190.000 \n",
      "Sample 53   Log joint likelihood = -3304198.447 \n",
      "Sample 54   Log joint likelihood = -3302926.193 \n",
      "Sample 55   Log joint likelihood = -3301686.134 \n",
      "Sample 56   Log joint likelihood = -3298322.808 \n",
      "Sample 57   Log joint likelihood = -3299602.109 \n",
      "Sample 58   Log joint likelihood = -3298362.943 \n",
      "Sample 59   Log joint likelihood = -3299042.506 \n",
      "Sample 60   Log joint likelihood = -3295901.604 \n",
      "Sample 61   Log joint likelihood = -3295581.340 \n",
      "Sample 62   Log joint likelihood = -3294981.202 \n",
      "Sample 63   Log joint likelihood = -3293741.911 \n",
      "Sample 64   Log joint likelihood = -3292612.027 \n",
      "Sample 65   Log joint likelihood = -3290407.429 \n",
      "Sample 66   Log joint likelihood = -3290000.891 \n",
      "Sample 67   Log joint likelihood = -3288037.214 \n",
      "Sample 68   Log joint likelihood = -3286981.498 \n",
      "Sample 69   Log joint likelihood = -3286051.842 \n",
      "Sample 70   Log joint likelihood = -3284574.300 \n",
      "Sample 71   Log joint likelihood = -3282925.406 \n",
      "Sample 72   Log joint likelihood = -3281861.786 \n",
      "Sample 73   Log joint likelihood = -3282929.383 \n",
      "Sample 74   Log joint likelihood = -3282015.030 \n",
      "Sample 75   Log joint likelihood = -3282302.063 \n",
      "Sample 76   Log joint likelihood = -3281576.116 \n",
      "Sample 77   Log joint likelihood = -3280089.058 \n",
      "Sample 78   Log joint likelihood = -3278939.044 \n",
      "Sample 79   Log joint likelihood = -3279128.452 \n",
      "Sample 80   Log joint likelihood = -3278734.963 \n",
      "Sample 81   Log joint likelihood = -3277336.772 \n",
      "Sample 82   Log joint likelihood = -3277515.463 \n",
      "Sample 83   Log joint likelihood = -3276436.338 \n",
      "Sample 84   Log joint likelihood = -3276132.454 \n",
      "Sample 85   Log joint likelihood = -3275651.972 \n",
      "Sample 86   Log joint likelihood = -3274305.383 \n",
      "Sample 87   Log joint likelihood = -3273946.811 \n",
      "Sample 88   Log joint likelihood = -3273368.966 \n",
      "Sample 89   Log joint likelihood = -3273515.446 \n",
      "Sample 90   Log joint likelihood = -3274416.669 \n",
      "Sample 91   Log joint likelihood = -3274074.807 \n",
      "Sample 92   Log joint likelihood = -3273737.139 \n",
      "Sample 93   Log joint likelihood = -3273162.218 \n",
      "Sample 94   Log joint likelihood = -3272254.223 \n",
      "Sample 95   Log joint likelihood = -3272860.455 \n",
      "Sample 96   Log joint likelihood = -3273553.876 \n",
      "Sample 97   Log joint likelihood = -3272853.936 \n",
      "Sample 98   Log joint likelihood = -3270655.972 \n",
      "Sample 99   Log joint likelihood = -3271776.449 \n",
      "Sample 100   Log joint likelihood = -3271324.502 \n",
      "Sample 101   Log joint likelihood = -3271607.319 \n",
      "Sample 102   Log joint likelihood = -3270114.092 \n",
      "Sample 103   Log joint likelihood = -3271026.462 \n",
      "Sample 104   Log joint likelihood = -3270254.930 \n",
      "Sample 105   Log joint likelihood = -3270095.591 \n",
      "Sample 106   Log joint likelihood = -3270712.222 \n",
      "Sample 107   Log joint likelihood = -3270476.654 \n",
      "Sample 108   Log joint likelihood = -3268951.042 \n",
      "Sample 109   Log joint likelihood = -3269913.730 \n",
      "Sample 110   Log joint likelihood = -3268913.997 \n",
      "Sample 111   Log joint likelihood = -3267791.417 \n",
      "Sample 112   Log joint likelihood = -3269311.905 \n",
      "Sample 113   Log joint likelihood = -3268343.250 \n",
      "Sample 114   Log joint likelihood = -3268205.037 \n",
      "Sample 115   Log joint likelihood = -3267612.898 \n",
      "Sample 116   Log joint likelihood = -3267744.404 \n",
      "Sample 117   Log joint likelihood = -3267971.420 \n",
      "Sample 118   Log joint likelihood = -3268261.562 \n",
      "Sample 119   Log joint likelihood = -3268699.188 \n",
      "Sample 120   Log joint likelihood = -3268521.630 \n",
      "Sample 121   Log joint likelihood = -3267074.971 \n",
      "Sample 122   Log joint likelihood = -3268125.494 \n",
      "Sample 123   Log joint likelihood = -3267950.143 \n",
      "Sample 124   Log joint likelihood = -3265801.783 \n",
      "Sample 125   Log joint likelihood = -3265506.950 \n",
      "Sample 126   Log joint likelihood = -3266153.583 \n",
      "Sample 127   Log joint likelihood = -3265095.640 \n",
      "Sample 128   Log joint likelihood = -3265000.966 \n",
      "Sample 129   Log joint likelihood = -3266443.521 \n",
      "Sample 130   Log joint likelihood = -3265394.487 \n",
      "Sample 131   Log joint likelihood = -3265224.268 \n",
      "Sample 132   Log joint likelihood = -3265597.792 \n",
      "Sample 133   Log joint likelihood = -3265854.093 \n",
      "Sample 134   Log joint likelihood = -3264264.471 \n",
      "Sample 135   Log joint likelihood = -3264297.377 \n",
      "Sample 136   Log joint likelihood = -3264643.459 \n",
      "Sample 137   Log joint likelihood = -3265122.898 \n",
      "Sample 138   Log joint likelihood = -3265244.530 \n",
      "Sample 139   Log joint likelihood = -3265217.856 \n",
      "Sample 140   Log joint likelihood = -3263663.303 \n",
      "Sample 141   Log joint likelihood = -3263897.796 \n",
      "Sample 142   Log joint likelihood = -3263935.095 \n",
      "Sample 143   Log joint likelihood = -3263169.295 \n",
      "Sample 144   Log joint likelihood = -3263729.782 \n",
      "Sample 145   Log joint likelihood = -3263571.693 \n",
      "Sample 146   Log joint likelihood = -3262845.196 \n",
      "Sample 147   Log joint likelihood = -3263396.036 \n",
      "Sample 148   Log joint likelihood = -3263558.168 \n",
      "Sample 149   Log joint likelihood = -3263627.052 \n",
      "Sample 150   Log joint likelihood = -3262173.382 \n",
      "Sample 151   Log joint likelihood = -3262152.881 \n",
      "Sample 152   Log joint likelihood = -3261845.400 \n",
      "Sample 153   Log joint likelihood = -3260507.654 \n",
      "Sample 154   Log joint likelihood = -3259345.837 \n",
      "Sample 155 "
     ]
    },
    {
     "ename": "KeyboardInterrupt",
     "evalue": "",
     "output_type": "error",
     "traceback": [
      "\u001b[1;31m---------------------------------------------------------------------------\u001b[0m",
      "\u001b[1;31mKeyboardInterrupt\u001b[0m                         Traceback (most recent call last)",
      "\u001b[1;32m<ipython-input-5-94fb5812615f>\u001b[0m in \u001b[0;36m<module>\u001b[1;34m()\u001b[0m\n\u001b[1;32m----> 1\u001b[1;33m \u001b[0mms2lda\u001b[0m\u001b[1;33m.\u001b[0m\u001b[0mrun_lda\u001b[0m\u001b[1;33m(\u001b[0m\u001b[0mdf\u001b[0m\u001b[1;33m,\u001b[0m \u001b[0mvocab\u001b[0m\u001b[1;33m,\u001b[0m \u001b[0mn_topics\u001b[0m\u001b[1;33m,\u001b[0m \u001b[0mn_samples\u001b[0m\u001b[1;33m,\u001b[0m \u001b[0mn_burn\u001b[0m\u001b[1;33m,\u001b[0m \u001b[0mn_thin\u001b[0m\u001b[1;33m,\u001b[0m \u001b[0malpha\u001b[0m\u001b[1;33m,\u001b[0m \u001b[0mbeta\u001b[0m\u001b[1;33m)\u001b[0m\u001b[1;33m\u001b[0m\u001b[0m\n\u001b[0m",
      "\u001b[1;32m/home/joewandy/git/metabolomics_tools/justin/experimental/lda_3bags_for_fragments.py\u001b[0m in \u001b[0;36mrun_lda\u001b[1;34m(self, df, vocab, n_topics, n_samples, n_burn, n_thin, alpha, beta, use_native, previous_model)\u001b[0m\n\u001b[0;32m     74\u001b[0m         \u001b[0mself\u001b[0m\u001b[1;33m.\u001b[0m\u001b[0mn_topics\u001b[0m \u001b[1;33m=\u001b[0m \u001b[0mself\u001b[0m\u001b[1;33m.\u001b[0m\u001b[0mmodel\u001b[0m\u001b[1;33m.\u001b[0m\u001b[0mK\u001b[0m \u001b[1;31m# might change if previous_model is used\u001b[0m\u001b[1;33m\u001b[0m\u001b[0m\n\u001b[0;32m     75\u001b[0m         \u001b[0mstart\u001b[0m \u001b[1;33m=\u001b[0m \u001b[0mtimeit\u001b[0m\u001b[1;33m.\u001b[0m\u001b[0mdefault_timer\u001b[0m\u001b[1;33m(\u001b[0m\u001b[1;33m)\u001b[0m\u001b[1;33m\u001b[0m\u001b[0m\n\u001b[1;32m---> 76\u001b[1;33m         \u001b[0mself\u001b[0m\u001b[1;33m.\u001b[0m\u001b[0mmodel\u001b[0m\u001b[1;33m.\u001b[0m\u001b[0mrun\u001b[0m\u001b[1;33m(\u001b[0m\u001b[0mn_burn\u001b[0m\u001b[1;33m,\u001b[0m \u001b[0mn_samples\u001b[0m\u001b[1;33m,\u001b[0m \u001b[0mn_thin\u001b[0m\u001b[1;33m,\u001b[0m \u001b[0muse_native\u001b[0m\u001b[1;33m=\u001b[0m\u001b[0muse_native\u001b[0m\u001b[1;33m)\u001b[0m\u001b[1;33m\u001b[0m\u001b[0m\n\u001b[0m\u001b[0;32m     77\u001b[0m         \u001b[0mstop\u001b[0m \u001b[1;33m=\u001b[0m \u001b[0mtimeit\u001b[0m\u001b[1;33m.\u001b[0m\u001b[0mdefault_timer\u001b[0m\u001b[1;33m(\u001b[0m\u001b[1;33m)\u001b[0m\u001b[1;33m\u001b[0m\u001b[0m\n\u001b[0;32m     78\u001b[0m         \u001b[1;32mprint\u001b[0m \u001b[1;34m\"DONE. Time=\"\u001b[0m \u001b[1;33m+\u001b[0m \u001b[0mstr\u001b[0m\u001b[1;33m(\u001b[0m\u001b[0mstop\u001b[0m\u001b[1;33m-\u001b[0m\u001b[0mstart\u001b[0m\u001b[1;33m)\u001b[0m\u001b[1;33m\u001b[0m\u001b[0m\n",
      "\u001b[1;32m/home/joewandy/git/metabolomics_tools/justin/experimental/lda_3bags_cgs.py\u001b[0m in \u001b[0;36mrun\u001b[1;34m(self, n_burn, n_samples, n_thin, use_native)\u001b[0m\n\u001b[0;32m    194\u001b[0m                 \u001b[0mself\u001b[0m\u001b[1;33m.\u001b[0m\u001b[0mZ\u001b[0m\u001b[1;33m,\u001b[0m \u001b[0mself\u001b[0m\u001b[1;33m.\u001b[0m\u001b[0mcdk\u001b[0m\u001b[1;33m,\u001b[0m \u001b[0mself\u001b[0m\u001b[1;33m.\u001b[0m\u001b[0mcd\u001b[0m\u001b[1;33m,\u001b[0m \u001b[0mself\u001b[0m\u001b[1;33m.\u001b[0m\u001b[0mprevious_K\u001b[0m\u001b[1;33m,\u001b[0m\u001b[1;33m\u001b[0m\u001b[0m\n\u001b[0;32m    195\u001b[0m                 \u001b[0mself\u001b[0m\u001b[1;33m.\u001b[0m\u001b[0mckn\u001b[0m\u001b[1;33m,\u001b[0m \u001b[0mself\u001b[0m\u001b[1;33m.\u001b[0m\u001b[0mck\u001b[0m\u001b[1;33m,\u001b[0m \u001b[0mself\u001b[0m\u001b[1;33m.\u001b[0m\u001b[0mprevious_ckn\u001b[0m\u001b[1;33m,\u001b[0m \u001b[0mself\u001b[0m\u001b[1;33m.\u001b[0m\u001b[0mprevious_ck\u001b[0m\u001b[1;33m,\u001b[0m\u001b[1;33m\u001b[0m\u001b[0m\n\u001b[1;32m--> 196\u001b[1;33m                 self.vocab_type, self.bag_labels)        \n\u001b[0m\u001b[0;32m    197\u001b[0m \u001b[1;33m\u001b[0m\u001b[0m\n\u001b[0;32m    198\u001b[0m     \u001b[1;33m@\u001b[0m\u001b[0mclassmethod\u001b[0m\u001b[1;33m\u001b[0m\u001b[0m\n",
      "\u001b[1;32m/home/joewandy/git/metabolomics_tools/justin/experimental/lda_3bags_cgs_numba.pyc\u001b[0m in \u001b[0;36msample_numba\u001b[1;34m(random_state, n_burn, n_samples, n_thin, D, N, K, document_indices, alpha, beta, Z, cdk, cd, previous_K, ckn, ck, previous_ckn, previous_ck, vocab_type, bag_labels)\u001b[0m\n\u001b[0;32m     71\u001b[0m                           \u001b[0mN_beta\u001b[0m\u001b[1;33m,\u001b[0m \u001b[0mK_alpha\u001b[0m\u001b[1;33m,\u001b[0m\u001b[1;33m\u001b[0m\u001b[0m\n\u001b[0;32m     72\u001b[0m                           \u001b[0mpost\u001b[0m\u001b[1;33m,\u001b[0m \u001b[0mcumsum\u001b[0m\u001b[1;33m,\u001b[0m\u001b[1;33m\u001b[0m\u001b[0m\n\u001b[1;32m---> 73\u001b[1;33m                           ckn, ck, previous_ckn, previous_ck)\n\u001b[0m\u001b[0;32m     74\u001b[0m         \u001b[1;32mif\u001b[0m \u001b[0ms\u001b[0m \u001b[1;33m>\u001b[0m \u001b[0mn_burn\u001b[0m\u001b[1;33m:\u001b[0m\u001b[1;33m\u001b[0m\u001b[0m\n\u001b[0;32m     75\u001b[0m             \u001b[0mthin\u001b[0m \u001b[1;33m+=\u001b[0m \u001b[1;36m1\u001b[0m\u001b[1;33m\u001b[0m\u001b[0m\n",
      "\u001b[1;31mKeyboardInterrupt\u001b[0m: "
     ]
    }
   ],
   "source": [
    "ms2lda.run_lda(df, vocab, n_topics, n_samples, n_burn, n_thin, alpha, beta)"
   ]
  },
  {
   "cell_type": "code",
   "execution_count": null,
   "metadata": {
    "collapsed": false,
    "scrolled": true
   },
   "outputs": [],
   "source": [
    "ms2lda.write_results('beer3pos_alternative')   "
   ]
  },
  {
   "cell_type": "markdown",
   "metadata": {},
   "source": [
    "2. Shared Fragments within a Topic\n",
    "--------------------------------------"
   ]
  },
  {
   "cell_type": "code",
   "execution_count": null,
   "metadata": {
    "collapsed": false,
    "scrolled": false
   },
   "outputs": [],
   "source": [
    "ms2lda.plot_lda_fragments(consistency=0, sort_by=\"h_index\")\n",
    "# ms2lda.plot_lda_fragments(consistency=0, sort_by=\"in_degree\")"
   ]
  },
  {
   "cell_type": "code",
   "execution_count": null,
   "metadata": {
    "collapsed": true
   },
   "outputs": [],
   "source": []
  }
 ],
 "metadata": {
  "kernelspec": {
   "display_name": "Python 2",
   "language": "python",
   "name": "python2"
  },
  "language_info": {
   "codemirror_mode": {
    "name": "ipython",
    "version": 2
   },
   "file_extension": ".py",
   "mimetype": "text/x-python",
   "name": "python",
   "nbconvert_exporter": "python",
   "pygments_lexer": "ipython2",
   "version": "2.7.10"
  }
 },
 "nbformat": 4,
 "nbformat_minor": 0
}
