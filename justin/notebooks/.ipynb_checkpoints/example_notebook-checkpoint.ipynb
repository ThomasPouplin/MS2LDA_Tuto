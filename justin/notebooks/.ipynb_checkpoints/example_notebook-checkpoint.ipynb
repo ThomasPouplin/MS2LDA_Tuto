{
 "cells": [
  {
   "cell_type": "markdown",
   "metadata": {},
   "source": [
    "Example Notebook\n",
    "============"
   ]
  },
  {
   "cell_type": "code",
   "execution_count": 1,
   "metadata": {
    "collapsed": false
   },
   "outputs": [],
   "source": [
    "%load_ext autoreload\n",
    "%autoreload 2\n",
    "%matplotlib inline\n",
    "\n",
    "import sys\n",
    "basedir = '../'\n",
    "sys.path.append(basedir)\n",
    "\n",
    "from lda_for_fragments import Ms2Lda\n",
    "import matplotlib.pyplot as plt\n",
    "import numpy as np\n",
    "import pandas as pd\n",
    "import random\n",
    "import sys\n",
    "import visualisation.pyLDAvis as pyLDAvis"
   ]
  },
  {
   "cell_type": "code",
   "execution_count": 2,
   "metadata": {
    "collapsed": false,
    "scrolled": true
   },
   "outputs": [],
   "source": [
    "n_topics = 400 # number of topics, 400 seems to be good from cross-validation\n",
    "n_samples = 200 # how many samples to get during Gibbs sampling\n",
    "\n",
    "n_burn = 0 # no. of burn-in samples to discard, unused\n",
    "n_thin = 1 # thinning parameter, unused\n",
    "\n",
    "# follow the recommendation from Griffith & Styver\n",
    "alpha = 50.0/n_topics # hyper-parameter for document-topic distributions\n",
    "beta = 0.1 # hyper-parameter for topic-word distributions\n",
    "\n",
    "fragment_filename = basedir + 'input/relative_intensities/Beer_3_T10_POS_fragments_rel.csv'\n",
    "neutral_loss_filename = basedir + 'input/relative_intensities/Beer_3_T10_POS_losses_rel.csv'\n",
    "mzdiff_filename = None\n",
    "\n",
    "ms1_filename = basedir + 'input/relative_intensities/Beer_3_T10_POS_ms1_rel.csv'\n",
    "ms2_filename = basedir + 'input/relative_intensities/Beer_3_T10_POS_ms2_rel.csv'"
   ]
  },
  {
   "cell_type": "code",
   "execution_count": null,
   "metadata": {
    "collapsed": false
   },
   "outputs": [
    {
     "name": "stdout",
     "output_type": "stream",
     "text": [
      "Data shape (856, 1664)\n"
     ]
    }
   ],
   "source": [
    "ms2lda = Ms2Lda(fragment_filename, neutral_loss_filename, mzdiff_filename, \n",
    "                ms1_filename, ms2_filename, relative_intensity=True)\n",
    "df, vocab = ms2lda.preprocess()"
   ]
  },
  {
   "cell_type": "code",
   "execution_count": null,
   "metadata": {
    "collapsed": false
   },
   "outputs": [
    {
     "name": "stdout",
     "output_type": "stream",
     "text": [
      "Fitting model...\n",
      "CGS LDA initialising\n",
      "......................................................................................\n",
      "Using Numba for LDA sampling\n",
      "Preparing words\n",
      "Preparing Z matrix\n",
      "DONE\n",
      "Sample 1   Log joint likelihood = -3290884.011 \n",
      "Sample 2   Log joint likelihood = -2101706.039 \n",
      "Sample 3   Log joint likelihood = -1558905.402 \n",
      "Sample 4   Log joint likelihood = -1388784.302 \n",
      "Sample 5   Log joint likelihood = -1316030.825 \n",
      "Sample 6   Log joint likelihood = -1276246.474 \n",
      "Sample 7   Log joint likelihood = -1253508.982 \n",
      "Sample 8   Log joint likelihood = -1236643.844 \n",
      "Sample 9   Log joint likelihood = -1221421.259 \n",
      "Sample 10   Log joint likelihood = -1209065.510 \n",
      "Sample 11   Log joint likelihood = -1200262.033 \n",
      "Sample 12   Log joint likelihood = -1191446.933 \n",
      "Sample 13   Log joint likelihood = -1183412.672 \n",
      "Sample 14   Log joint likelihood = -1178194.408 \n",
      "Sample 15   Log joint likelihood = -1172773.213 \n",
      "Sample 16   Log joint likelihood = -1168721.917 \n",
      "Sample 17   Log joint likelihood = -1165302.569 \n",
      "Sample 18   Log joint likelihood = -1161610.740 \n",
      "Sample 19   Log joint likelihood = -1157419.418 \n",
      "Sample 20   Log joint likelihood = -1154935.736 \n",
      "Sample 21   Log joint likelihood = -1152439.712 \n",
      "Sample 22   Log joint likelihood = -1149234.548 \n",
      "Sample 23  "
     ]
    }
   ],
   "source": [
    "ms2lda.run_lda(df, vocab, n_topics, n_samples, n_burn, n_thin, \n",
    "               alpha, beta, use_own_model=True, use_native=True)"
   ]
  },
  {
   "cell_type": "code",
   "execution_count": null,
   "metadata": {
    "collapsed": false
   },
   "outputs": [],
   "source": [
    "ms2lda.write_results('beer3_pos_rel')"
   ]
  },
  {
   "cell_type": "markdown",
   "metadata": {},
   "source": [
    "2. LDAVis\n",
    "----------"
   ]
  },
  {
   "cell_type": "markdown",
   "metadata": {},
   "source": [
    "Visualise topics using LDAVis. First prepare the data to display."
   ]
  },
  {
   "cell_type": "code",
   "execution_count": null,
   "metadata": {
    "collapsed": false
   },
   "outputs": [],
   "source": [
    "data = {}\n",
    "data['topic_term_dists'] = ms2lda.model.topic_word_\n",
    "data['doc_topic_dists'] = ms2lda.model.doc_topic_\n",
    "data['doc_lengths'] = ms2lda.model.cd\n",
    "data['vocab'] = ms2lda.model.vocab\n",
    "data['term_frequency'] = np.sum(ms2lda.model.ckn, axis=0)"
   ]
  },
  {
   "cell_type": "code",
   "execution_count": null,
   "metadata": {
    "collapsed": false
   },
   "outputs": [],
   "source": [
    "print np.sum(ms2lda.model.ckn, axis=0).shape"
   ]
  },
  {
   "cell_type": "markdown",
   "metadata": {},
   "source": [
    "Check to make sure everything's correct .."
   ]
  },
  {
   "cell_type": "code",
   "execution_count": null,
   "metadata": {
    "collapsed": false
   },
   "outputs": [],
   "source": [
    "print('Topic-Term shape: %s' % str(data['topic_term_dists'].shape))\n",
    "print('Doc-Topic shape: %s' % str(data['doc_topic_dists'].shape))\n",
    "print len(data['doc_lengths'])\n",
    "plt.hist(data['doc_lengths'])\n",
    "print type(data['vocab'])\n",
    "print data['vocab'][0]\n",
    "print data['vocab'][1]\n",
    "print data['topic_term_dists'].shape\n",
    "print data['doc_topic_dists'].shape\n",
    "print data['doc_lengths'].shape\n",
    "print data['term_frequency'].shape"
   ]
  },
  {
   "cell_type": "code",
   "execution_count": null,
   "metadata": {
    "collapsed": false
   },
   "outputs": [],
   "source": [
    "vis_data = pyLDAvis.prepare(**data)"
   ]
  },
  {
   "cell_type": "code",
   "execution_count": null,
   "metadata": {
    "collapsed": false
   },
   "outputs": [],
   "source": [
    "pyLDAvis.show(vis_data)"
   ]
  },
  {
   "cell_type": "code",
   "execution_count": null,
   "metadata": {
    "collapsed": false
   },
   "outputs": [],
   "source": [
    "ms2lda.model.print_topic_words()"
   ]
  },
  {
   "cell_type": "markdown",
   "metadata": {},
   "source": [
    "3. Shared Fragments within a Topic\n",
    "--------------------------------------"
   ]
  },
  {
   "cell_type": "markdown",
   "metadata": {},
   "source": [
    "For every topic, we visualise the interesting 'words' shared in common across the documents. Topics are ordered in the list below by their 'h-indices'. The consistency score (0.50 in below case) is then used to highlight interesting peaks in the plot. 0.50 means the word (fragment/loss) is present in at least 50% of the selected parent peaks for this topic. "
   ]
  },
  {
   "cell_type": "code",
   "execution_count": null,
   "metadata": {
    "collapsed": false,
    "scrolled": false
   },
   "outputs": [],
   "source": [
    "# ms2lda.plot_lda_fragments(consistency=0.50, sort_by=\"h_index\")\n",
    "# ms2lda.plot_lda_fragments(consistency=0.50, sort_by=\"in_degree\")"
   ]
  },
  {
   "cell_type": "code",
   "execution_count": null,
   "metadata": {
    "collapsed": true
   },
   "outputs": [],
   "source": []
  },
  {
   "cell_type": "code",
   "execution_count": null,
   "metadata": {
    "collapsed": true
   },
   "outputs": [],
   "source": []
  }
 ],
 "metadata": {
  "kernelspec": {
   "display_name": "Python 2",
   "language": "python",
   "name": "python2"
  },
  "language_info": {
   "codemirror_mode": {
    "name": "ipython",
    "version": 2
   },
   "file_extension": ".py",
   "mimetype": "text/x-python",
   "name": "python",
   "nbconvert_exporter": "python",
   "pygments_lexer": "ipython2",
   "version": "2.7.10"
  }
 },
 "nbformat": 4,
 "nbformat_minor": 0
}
