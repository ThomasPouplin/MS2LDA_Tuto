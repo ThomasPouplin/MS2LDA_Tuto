{
 "cells": [
  {
   "cell_type": "markdown",
   "metadata": {},
   "source": [
    "Example Notebook\n",
    "============"
   ]
  },
  {
   "cell_type": "code",
   "execution_count": 1,
   "metadata": {
    "collapsed": false
   },
   "outputs": [],
   "source": [
    "%load_ext autoreload\n",
    "%autoreload 2\n",
    "%matplotlib inline\n",
    "\n",
    "import sys\n",
    "basedir = '../'\n",
    "sys.path.append(basedir)\n",
    "\n",
    "from lda_for_fragments import Ms2Lda\n",
    "import matplotlib.pyplot as plt\n",
    "import numpy as np\n",
    "import pandas as pd\n",
    "import random\n",
    "import sys\n",
    "import visualisation.pyLDAvis as pyLDAvis"
   ]
  },
  {
   "cell_type": "code",
   "execution_count": 2,
   "metadata": {
    "collapsed": false,
    "scrolled": true
   },
   "outputs": [],
   "source": [
    "n_topics = 400 # number of topics, 400 seems to be good from cross-validation\n",
    "n_samples = 50 # how many samples to get during Gibbs sampling\n",
    "\n",
    "n_burn = 0 # no. of burn-in samples to discard, unused\n",
    "n_thin = 1 # thinning parameter, unused\n",
    "\n",
    "# follow the recommendation from Griffith & Styver\n",
    "alpha = 50.0/n_topics # hyper-parameter for document-topic distributions\n",
    "beta = 0.1 # hyper-parameter for topic-word distributions\n",
    "\n",
    "fragment_filename = basedir + 'input/relative_intensities/Beer_3_T10_POS_fragments_rel.csv'\n",
    "neutral_loss_filename = basedir + 'input/relative_intensities/Beer_3_T10_POS_losses_rel.csv'\n",
    "mzdiff_filename = None\n",
    "\n",
    "ms1_filename = basedir + 'input/relative_intensities/Beer_3_T10_POS_ms1_rel.csv'\n",
    "ms2_filename = basedir + 'input/relative_intensities/Beer_3_T10_POS_ms2_rel.csv'"
   ]
  },
  {
   "cell_type": "code",
   "execution_count": 3,
   "metadata": {
    "collapsed": false
   },
   "outputs": [
    {
     "name": "stdout",
     "output_type": "stream",
     "text": [
      "Data shape (856, 1664)\n"
     ]
    }
   ],
   "source": [
    "ms2lda = Ms2Lda(fragment_filename, neutral_loss_filename, mzdiff_filename, \n",
    "                ms1_filename, ms2_filename, relative_intensity=True)\n",
    "df, vocab = ms2lda.preprocess()"
   ]
  },
  {
   "cell_type": "code",
   "execution_count": 4,
   "metadata": {
    "collapsed": false
   },
   "outputs": [
    {
     "name": "stdout",
     "output_type": "stream",
     "text": [
      "Fitting model...\n",
      "CGS LDA initialising\n",
      "......................................................................................\n",
      "Using Numba for LDA sampling\n",
      "Preparing words\n",
      "Preparing Z matrix\n",
      "DONE\n",
      "Sample 1   Log joint likelihood = -3290884.011 \n",
      "Sample 2   Log joint likelihood = -2101706.039 \n",
      "Sample 3   Log joint likelihood = -1558905.402 \n",
      "Sample 4   Log joint likelihood = -1388784.302 \n",
      "Sample 5   Log joint likelihood = -1316030.825 \n",
      "Sample 6   Log joint likelihood = -1276246.474 \n",
      "Sample 7   Log joint likelihood = -1253508.982 \n",
      "Sample 8   Log joint likelihood = -1236643.844 \n",
      "Sample 9   Log joint likelihood = -1221421.259 \n",
      "Sample 10   Log joint likelihood = -1209065.510 \n",
      "Sample 11   Log joint likelihood = -1200262.033 \n",
      "Sample 12   Log joint likelihood = -1191446.933 \n",
      "Sample 13   Log joint likelihood = -1183412.672 \n",
      "Sample 14   Log joint likelihood = -1178194.408 \n",
      "Sample 15   Log joint likelihood = -1172773.213 \n",
      "Sample 16   Log joint likelihood = -1168721.917 \n",
      "Sample 17   Log joint likelihood = -1165302.569 \n",
      "Sample 18   Log joint likelihood = -1161610.740 \n",
      "Sample 19   Log joint likelihood = -1157419.418 \n",
      "Sample 20   Log joint likelihood = -1154935.736 \n",
      "Sample 21   Log joint likelihood = -1152439.712 \n",
      "Sample 22   Log joint likelihood = -1149234.548 \n",
      "Sample 23   Log joint likelihood = -1146419.270 \n",
      "Sample 24   Log joint likelihood = -1144496.922 \n",
      "Sample 25   Log joint likelihood = -1142007.872 \n",
      "Sample 26   Log joint likelihood = -1139501.221 \n",
      "Sample 27   Log joint likelihood = -1136858.645 \n",
      "Sample 28   Log joint likelihood = -1134793.772 \n",
      "Sample 29   Log joint likelihood = -1133248.227 \n",
      "Sample 30   Log joint likelihood = -1132298.818 \n",
      "Sample 31   Log joint likelihood = -1130959.730 \n",
      "Sample 32   Log joint likelihood = -1129994.063 \n",
      "Sample 33   Log joint likelihood = -1129918.802 \n",
      "Sample 34   Log joint likelihood = -1128490.711 \n",
      "Sample 35   Log joint likelihood = -1126927.687 \n",
      "Sample 36   Log joint likelihood = -1127349.081 \n",
      "Sample 37   Log joint likelihood = -1125699.423 \n",
      "Sample 38   Log joint likelihood = -1125151.103 \n",
      "Sample 39   Log joint likelihood = -1123404.234 \n",
      "Sample 40   Log joint likelihood = -1122366.535 \n",
      "Sample 41   Log joint likelihood = -1121463.247 \n",
      "Sample 42   Log joint likelihood = -1120587.706 \n",
      "Sample 43   Log joint likelihood = -1120766.192 \n",
      "Sample 44   Log joint likelihood = -1119991.570 \n",
      "Sample 45   Log joint likelihood = -1119253.821 \n",
      "Sample 46   Log joint likelihood = -1117183.086 \n",
      "Sample 47   Log joint likelihood = -1116744.699 \n",
      "Sample 48   Log joint likelihood = -1116113.164 \n",
      "Sample 49   Log joint likelihood = -1115970.648 \n",
      "Sample 50   Log joint likelihood = -1115691.353 \n",
      "DONE. Time=102.143222094\n"
     ]
    }
   ],
   "source": [
    "ms2lda.run_lda(df, vocab, n_topics, n_samples, n_burn, n_thin, \n",
    "               alpha, beta, use_own_model=True, use_native=True)"
   ]
  },
  {
   "cell_type": "code",
   "execution_count": 5,
   "metadata": {
    "collapsed": false
   },
   "outputs": [
    {
     "name": "stdout",
     "output_type": "stream",
     "text": [
      "Writing topics to results/beer3_pos_rel/beer3_pos_rel_topics.csv\n",
      "Writing fragments x topics to results/beer3_pos_rel/beer3_pos_rel_all.csv\n",
      "Writing topic docs to results/beer3_pos_rel/beer3_pos_rel_docs.csv\n"
     ]
    }
   ],
   "source": [
    "ms2lda.write_results('beer3_pos_rel')"
   ]
  },
  {
   "cell_type": "markdown",
   "metadata": {},
   "source": [
    "2. LDAVis\n",
    "----------"
   ]
  },
  {
   "cell_type": "markdown",
   "metadata": {},
   "source": [
    "Visualise topics using LDAVis. First prepare the data to display."
   ]
  },
  {
   "cell_type": "code",
   "execution_count": 6,
   "metadata": {
    "collapsed": false
   },
   "outputs": [],
   "source": [
    "data = {}\n",
    "data['topic_term_dists'] = ms2lda.model.topic_word_\n",
    "data['doc_topic_dists'] = ms2lda.model.doc_topic_\n",
    "data['doc_lengths'] = ms2lda.model.cd\n",
    "data['vocab'] = ms2lda.model.vocab\n",
    "data['term_frequency'] = np.sum(ms2lda.model.ckn, axis=0)"
   ]
  },
  {
   "cell_type": "code",
   "execution_count": 7,
   "metadata": {
    "collapsed": false
   },
   "outputs": [
    {
     "name": "stdout",
     "output_type": "stream",
     "text": [
      "(1664,)\n"
     ]
    }
   ],
   "source": [
    "print np.sum(ms2lda.model.ckn, axis=0).shape"
   ]
  },
  {
   "cell_type": "markdown",
   "metadata": {},
   "source": [
    "Check to make sure everything's correct .."
   ]
  },
  {
   "cell_type": "code",
   "execution_count": 8,
   "metadata": {
    "collapsed": false
   },
   "outputs": [
    {
     "name": "stdout",
     "output_type": "stream",
     "text": [
      "Topic-Term shape: (400, 1664)\n",
      "Doc-Topic shape: (856, 400)\n",
      "856\n",
      "<type 'numpy.ndarray'>\n",
      "fragment_51.0234\n",
      "fragment_52.01851\n",
      "(400, 1664)\n",
      "(856, 400)\n",
      "(856,)\n",
      "(1664,)\n"
     ]
    },
    {
     "data": {
      "image/png": "[encoded data removed]",
      "text/plain": [
       "<matplotlib.figure.Figure at 0x7f3457c12350>"
      ]
     },
     "metadata": {},
     "output_type": "display_data"
    }
   ],
   "source": [
    "print('Topic-Term shape: %s' % str(data['topic_term_dists'].shape))\n",
    "print('Doc-Topic shape: %s' % str(data['doc_topic_dists'].shape))\n",
    "print len(data['doc_lengths'])\n",
    "plt.hist(data['doc_lengths'])\n",
    "print type(data['vocab'])\n",
    "print data['vocab'][0]\n",
    "print data['vocab'][1]\n",
    "print data['topic_term_dists'].shape\n",
    "print data['doc_topic_dists'].shape\n",
    "print data['doc_lengths'].shape\n",
    "print data['term_frequency'].shape"
   ]
  },
  {
   "cell_type": "code",
   "execution_count": 9,
   "metadata": {
    "collapsed": false
   },
   "outputs": [
    {
     "name": "stderr",
     "output_type": "stream",
     "text": [
      "/home/joewandy/anaconda/lib/python2.7/site-packages/skbio/stats/ordination/_principal_coordinate_analysis.py:107: RuntimeWarning: The result contains negative eigenvalues. Please compare their magnitude with the magnitude of some of the largest positive eigenvalues. If the negative ones are smaller, it's probably safe to ignore them, but if they are large in magnitude, the results won't be useful. See the Notes section for more details. The smallest eigenvalue is -0.389959365851 and the largest is 3.70234695668.\n",
      "  RuntimeWarning\n"
     ]
    }
   ],
   "source": [
    "vis_data = pyLDAvis.prepare(**data)"
   ]
  },
  {
   "cell_type": "code",
   "execution_count": 14,
   "metadata": {
    "collapsed": false
   },
   "outputs": [
    {
     "ename": "OSError",
     "evalue": "[Errno 13] Permission denied: '/usr/local/share/jupyter'",
     "output_type": "error",
     "traceback": [
      "\u001b[1;31m---------------------------------------------------------------------------\u001b[0m",
      "\u001b[1;31mOSError\u001b[0m                                   Traceback (most recent call last)",
      "\u001b[1;32m<ipython-input-14-af79d943d297>\u001b[0m in \u001b[0;36m<module>\u001b[1;34m()\u001b[0m\n\u001b[1;32m----> 1\u001b[1;33m \u001b[0mpyLDAvis\u001b[0m\u001b[1;33m.\u001b[0m\u001b[0mdisplay\u001b[0m\u001b[1;33m(\u001b[0m\u001b[0mvis_data\u001b[0m\u001b[1;33m,\u001b[0m \u001b[0mlocal\u001b[0m\u001b[1;33m=\u001b[0m\u001b[0mTrue\u001b[0m\u001b[1;33m)\u001b[0m\u001b[1;33m\u001b[0m\u001b[0m\n\u001b[0m",
      "\u001b[1;32m/home/joewandy/git/metabolomics_tools/justin/visualisation/pyLDAvis/_display.pyc\u001b[0m in \u001b[0;36mdisplay\u001b[1;34m(data, local, **kwargs)\u001b[0m\n\u001b[0;32m    218\u001b[0m             warnings.warn(\n\u001b[0;32m    219\u001b[0m                 \"display: specified urls are ignored when local=True\")\n\u001b[1;32m--> 220\u001b[1;33m         \u001b[0mkwargs\u001b[0m\u001b[1;33m[\u001b[0m\u001b[1;34m'd3_url'\u001b[0m\u001b[1;33m]\u001b[0m\u001b[1;33m,\u001b[0m \u001b[0mkwargs\u001b[0m\u001b[1;33m[\u001b[0m\u001b[1;34m'ldavis_url'\u001b[0m\u001b[1;33m]\u001b[0m\u001b[1;33m,\u001b[0m \u001b[0mkwargs\u001b[0m\u001b[1;33m[\u001b[0m\u001b[1;34m'ldavis_css_url'\u001b[0m\u001b[1;33m]\u001b[0m \u001b[1;33m=\u001b[0m \u001b[0mwrite_ipynb_local_js\u001b[0m\u001b[1;33m(\u001b[0m\u001b[1;33m)\u001b[0m\u001b[1;33m\u001b[0m\u001b[0m\n\u001b[0m\u001b[0;32m    221\u001b[0m \u001b[1;33m\u001b[0m\u001b[0m\n\u001b[0;32m    222\u001b[0m     \u001b[1;32mreturn\u001b[0m \u001b[0mHTML\u001b[0m\u001b[1;33m(\u001b[0m\u001b[0mprepared_data_to_html\u001b[0m\u001b[1;33m(\u001b[0m\u001b[0mdata\u001b[0m\u001b[1;33m,\u001b[0m \u001b[1;33m**\u001b[0m\u001b[0mkwargs\u001b[0m\u001b[1;33m)\u001b[0m\u001b[1;33m)\u001b[0m\u001b[1;33m\u001b[0m\u001b[0m\n",
      "\u001b[1;32m/home/joewandy/git/metabolomics_tools/justin/visualisation/pyLDAvis/utils.pyc\u001b[0m in \u001b[0;36mwrite_ipynb_local_js\u001b[1;34m(location, d3_src, ldavis_src, ldavis_css)\u001b[0m\n\u001b[0;32m    105\u001b[0m \u001b[1;33m\u001b[0m\u001b[0m\n\u001b[0;32m    106\u001b[0m         \u001b[1;32mtry\u001b[0m\u001b[1;33m:\u001b[0m\u001b[1;33m\u001b[0m\u001b[0m\n\u001b[1;32m--> 107\u001b[1;33m             \u001b[1;33m[\u001b[0m\u001b[0minstall_nbextension\u001b[0m\u001b[1;33m(\u001b[0m\u001b[0mext\u001b[0m\u001b[1;33m)\u001b[0m \u001b[1;32mfor\u001b[0m \u001b[0mext\u001b[0m \u001b[1;32min\u001b[0m \u001b[1;33m[\u001b[0m\u001b[0md3_src\u001b[0m\u001b[1;33m,\u001b[0m \u001b[0mldavis_src\u001b[0m\u001b[1;33m,\u001b[0m \u001b[0mldavis_css\u001b[0m\u001b[1;33m]\u001b[0m\u001b[1;33m]\u001b[0m\u001b[1;33m\u001b[0m\u001b[0m\n\u001b[0m\u001b[0;32m    108\u001b[0m         \u001b[1;32mexcept\u001b[0m \u001b[0mIOError\u001b[0m\u001b[1;33m:\u001b[0m\u001b[1;33m\u001b[0m\u001b[0m\n\u001b[0;32m    109\u001b[0m             \u001b[1;31m# files may be read only. We'll try deleting them and re-installing\u001b[0m\u001b[1;33m\u001b[0m\u001b[1;33m\u001b[0m\u001b[0m\n",
      "\u001b[1;32m/home/joewandy/anaconda/lib/python2.7/site-packages/IPython/html/nbextensions.pyc\u001b[0m in \u001b[0;36minstall_nbextension\u001b[1;34m(path, overwrite, symlink, user, prefix, nbextensions_dir, destination, verbose)\u001b[0m\n\u001b[0;32m    174\u001b[0m     \u001b[0mnbext\u001b[0m \u001b[1;33m=\u001b[0m \u001b[0m_get_nbext_dir\u001b[0m\u001b[1;33m(\u001b[0m\u001b[0mnbextensions_dir\u001b[0m\u001b[1;33m,\u001b[0m \u001b[0muser\u001b[0m\u001b[1;33m,\u001b[0m \u001b[0mprefix\u001b[0m\u001b[1;33m)\u001b[0m\u001b[1;33m\u001b[0m\u001b[0m\n\u001b[0;32m    175\u001b[0m     \u001b[1;31m# make sure nbextensions dir exists\u001b[0m\u001b[1;33m\u001b[0m\u001b[1;33m\u001b[0m\u001b[0m\n\u001b[1;32m--> 176\u001b[1;33m     \u001b[0mensure_dir_exists\u001b[0m\u001b[1;33m(\u001b[0m\u001b[0mnbext\u001b[0m\u001b[1;33m)\u001b[0m\u001b[1;33m\u001b[0m\u001b[0m\n\u001b[0m\u001b[0;32m    177\u001b[0m \u001b[1;33m\u001b[0m\u001b[0m\n\u001b[0;32m    178\u001b[0m     \u001b[1;32mif\u001b[0m \u001b[0misinstance\u001b[0m\u001b[1;33m(\u001b[0m\u001b[0mpath\u001b[0m\u001b[1;33m,\u001b[0m \u001b[1;33m(\u001b[0m\u001b[0mlist\u001b[0m\u001b[1;33m,\u001b[0m \u001b[0mtuple\u001b[0m\u001b[1;33m)\u001b[0m\u001b[1;33m)\u001b[0m\u001b[1;33m:\u001b[0m\u001b[1;33m\u001b[0m\u001b[0m\n",
      "\u001b[1;32m/home/joewandy/anaconda/lib/python2.7/site-packages/IPython/utils/path.pyc\u001b[0m in \u001b[0;36mensure_dir_exists\u001b[1;34m(path, mode)\u001b[0m\n\u001b[0;32m    586\u001b[0m     \u001b[1;32mif\u001b[0m \u001b[1;32mnot\u001b[0m \u001b[0mos\u001b[0m\u001b[1;33m.\u001b[0m\u001b[0mpath\u001b[0m\u001b[1;33m.\u001b[0m\u001b[0mexists\u001b[0m\u001b[1;33m(\u001b[0m\u001b[0mpath\u001b[0m\u001b[1;33m)\u001b[0m\u001b[1;33m:\u001b[0m\u001b[1;33m\u001b[0m\u001b[0m\n\u001b[0;32m    587\u001b[0m         \u001b[1;32mtry\u001b[0m\u001b[1;33m:\u001b[0m\u001b[1;33m\u001b[0m\u001b[0m\n\u001b[1;32m--> 588\u001b[1;33m             \u001b[0mos\u001b[0m\u001b[1;33m.\u001b[0m\u001b[0mmakedirs\u001b[0m\u001b[1;33m(\u001b[0m\u001b[0mpath\u001b[0m\u001b[1;33m,\u001b[0m \u001b[0mmode\u001b[0m\u001b[1;33m=\u001b[0m\u001b[0mmode\u001b[0m\u001b[1;33m)\u001b[0m\u001b[1;33m\u001b[0m\u001b[0m\n\u001b[0m\u001b[0;32m    589\u001b[0m         \u001b[1;32mexcept\u001b[0m \u001b[0mOSError\u001b[0m \u001b[1;32mas\u001b[0m \u001b[0me\u001b[0m\u001b[1;33m:\u001b[0m\u001b[1;33m\u001b[0m\u001b[0m\n\u001b[0;32m    590\u001b[0m             \u001b[1;32mif\u001b[0m \u001b[0me\u001b[0m\u001b[1;33m.\u001b[0m\u001b[0merrno\u001b[0m \u001b[1;33m!=\u001b[0m \u001b[0merrno\u001b[0m\u001b[1;33m.\u001b[0m\u001b[0mEEXIST\u001b[0m\u001b[1;33m:\u001b[0m\u001b[1;33m\u001b[0m\u001b[0m\n",
      "\u001b[1;32m/home/joewandy/anaconda/lib/python2.7/os.pyc\u001b[0m in \u001b[0;36mmakedirs\u001b[1;34m(name, mode)\u001b[0m\n\u001b[0;32m    148\u001b[0m     \u001b[1;32mif\u001b[0m \u001b[0mhead\u001b[0m \u001b[1;32mand\u001b[0m \u001b[0mtail\u001b[0m \u001b[1;32mand\u001b[0m \u001b[1;32mnot\u001b[0m \u001b[0mpath\u001b[0m\u001b[1;33m.\u001b[0m\u001b[0mexists\u001b[0m\u001b[1;33m(\u001b[0m\u001b[0mhead\u001b[0m\u001b[1;33m)\u001b[0m\u001b[1;33m:\u001b[0m\u001b[1;33m\u001b[0m\u001b[0m\n\u001b[0;32m    149\u001b[0m         \u001b[1;32mtry\u001b[0m\u001b[1;33m:\u001b[0m\u001b[1;33m\u001b[0m\u001b[0m\n\u001b[1;32m--> 150\u001b[1;33m             \u001b[0mmakedirs\u001b[0m\u001b[1;33m(\u001b[0m\u001b[0mhead\u001b[0m\u001b[1;33m,\u001b[0m \u001b[0mmode\u001b[0m\u001b[1;33m)\u001b[0m\u001b[1;33m\u001b[0m\u001b[0m\n\u001b[0m\u001b[0;32m    151\u001b[0m         \u001b[1;32mexcept\u001b[0m \u001b[0mOSError\u001b[0m\u001b[1;33m,\u001b[0m \u001b[0me\u001b[0m\u001b[1;33m:\u001b[0m\u001b[1;33m\u001b[0m\u001b[0m\n\u001b[0;32m    152\u001b[0m             \u001b[1;31m# be happy if someone already created the path\u001b[0m\u001b[1;33m\u001b[0m\u001b[1;33m\u001b[0m\u001b[0m\n",
      "\u001b[1;32m/home/joewandy/anaconda/lib/python2.7/os.pyc\u001b[0m in \u001b[0;36mmakedirs\u001b[1;34m(name, mode)\u001b[0m\n\u001b[0;32m    155\u001b[0m         \u001b[1;32mif\u001b[0m \u001b[0mtail\u001b[0m \u001b[1;33m==\u001b[0m \u001b[0mcurdir\u001b[0m\u001b[1;33m:\u001b[0m           \u001b[1;31m# xxx/newdir/. exists if xxx/newdir exists\u001b[0m\u001b[1;33m\u001b[0m\u001b[0m\n\u001b[0;32m    156\u001b[0m             \u001b[1;32mreturn\u001b[0m\u001b[1;33m\u001b[0m\u001b[0m\n\u001b[1;32m--> 157\u001b[1;33m     \u001b[0mmkdir\u001b[0m\u001b[1;33m(\u001b[0m\u001b[0mname\u001b[0m\u001b[1;33m,\u001b[0m \u001b[0mmode\u001b[0m\u001b[1;33m)\u001b[0m\u001b[1;33m\u001b[0m\u001b[0m\n\u001b[0m\u001b[0;32m    158\u001b[0m \u001b[1;33m\u001b[0m\u001b[0m\n\u001b[0;32m    159\u001b[0m \u001b[1;32mdef\u001b[0m \u001b[0mremovedirs\u001b[0m\u001b[1;33m(\u001b[0m\u001b[0mname\u001b[0m\u001b[1;33m)\u001b[0m\u001b[1;33m:\u001b[0m\u001b[1;33m\u001b[0m\u001b[0m\n",
      "\u001b[1;31mOSError\u001b[0m: [Errno 13] Permission denied: '/usr/local/share/jupyter'"
     ]
    }
   ],
   "source": [
    "pyLDAvis.display(vis_data)"
   ]
  },
  {
   "cell_type": "code",
   "execution_count": 11,
   "metadata": {
    "collapsed": false
   },
   "outputs": [
    {
     "name": "stdout",
     "output_type": "stream",
     "text": [
      "[ 0.00020644  0.00020644  0.00020644 ...,  0.00020644  0.00020644\n",
      "  0.00020644]\n"
     ]
    }
   ],
   "source": [
    "print ms2lda.model.topic_word_[24, :]"
   ]
  },
  {
   "cell_type": "markdown",
   "metadata": {},
   "source": [
    "3. Shared Fragments within a Topic\n",
    "--------------------------------------"
   ]
  },
  {
   "cell_type": "markdown",
   "metadata": {},
   "source": [
    "For every topic, we visualise the interesting 'words' shared in common across the documents. Topics are ordered in the list below by their 'h-indices'. The consistency score (0.50 in below case) is then used to highlight interesting peaks in the plot. 0.50 means the word (fragment/loss) is present in at least 50% of the selected parent peaks for this topic. "
   ]
  },
  {
   "cell_type": "code",
   "execution_count": 12,
   "metadata": {
    "collapsed": false,
    "scrolled": false
   },
   "outputs": [],
   "source": [
    "# ms2lda.plot_lda_fragments(consistency=0.50, sort_by=\"h_index\")\n",
    "# ms2lda.plot_lda_fragments(consistency=0.50, sort_by=\"in_degree\")"
   ]
  },
  {
   "cell_type": "code",
   "execution_count": null,
   "metadata": {
    "collapsed": true
   },
   "outputs": [],
   "source": []
  },
  {
   "cell_type": "code",
   "execution_count": null,
   "metadata": {
    "collapsed": true
   },
   "outputs": [],
   "source": []
  }
 ],
 "metadata": {
  "kernelspec": {
   "display_name": "Python 2",
   "language": "python",
   "name": "python2"
  },
  "language_info": {
   "codemirror_mode": {
    "name": "ipython",
    "version": 2
   },
   "file_extension": ".py",
   "mimetype": "text/x-python",
   "name": "python",
   "nbconvert_exporter": "python",
   "pygments_lexer": "ipython2",
   "version": "2.7.10"
  }
 },
 "nbformat": 4,
 "nbformat_minor": 0
}
