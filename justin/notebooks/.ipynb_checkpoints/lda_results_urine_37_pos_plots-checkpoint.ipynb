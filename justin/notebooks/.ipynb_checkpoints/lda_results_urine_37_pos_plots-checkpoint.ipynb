{
 "cells": [
  {
   "cell_type": "markdown",
   "metadata": {},
   "source": [
    "Urine37 Positive Results\n",
    "============"
   ]
  },
  {
   "cell_type": "code",
   "execution_count": 6,
   "metadata": {
    "collapsed": false
   },
   "outputs": [
    {
     "name": "stdout",
     "output_type": "stream",
     "text": [
      "The autoreload extension is already loaded. To reload it, use:\n",
      "  %reload_ext autoreload\n",
      "\n"
     ]
    }
   ],
   "source": [
    "%load_ext autoreload\n",
    "%autoreload 2\n",
    "%matplotlib inline\n",
    "\n",
    "import sys\n",
    "basedir = '../'\n",
    "sys.path.append(basedir)\n",
    "\n",
    "from lda_for_fragments import Ms2Lda\n",
    "import matplotlib.pyplot as plt\n",
    "import numpy as np\n",
    "import pandas as pd\n",
    "import random\n",
    "import sys"
   ]
  },
  {
   "cell_type": "markdown",
   "metadata": {},
   "source": [
    "Cross-validation to find how many topics we should set. In below plot, we see a plot of K vs. (approximate) log marginal likelihood on held-out data."
   ]
  },
  {
   "cell_type": "code",
   "execution_count": 7,
   "metadata": {
    "collapsed": false
   },
   "outputs": [
    {
     "data": {
      "image/png": "[encoded data removed]",
      "text/plain": [
       "<matplotlib.figure.Figure at 0x7f8629f53a50>"
      ]
     },
     "metadata": {},
     "output_type": "display_data"
    }
   ],
   "source": [
    "df = pd.read_csv('../cv_results/urine37pos/results.csv', sep=',|=', header=None)\n",
    "df = df.sort([1])\n",
    "X = df.ix[:, 1]\n",
    "Y = df.ix[:, 3]\n",
    "plt.plot(X, Y, linewidth=2, label='log marginal likelihood')\n",
    "plt.legend()\n",
    "plt.grid()\n",
    "plt.xlabel('K')\n",
    "plt.ylabel('marg')\n",
    "plt.title('Cross-validation on No. of topics -- beer3 pos')\n",
    "plt.tight_layout()\n",
    "plt.show()"
   ]
  },
  {
   "cell_type": "markdown",
   "metadata": {},
   "source": [
    "125 topics seem to be good, so we'd use that."
   ]
  },
  {
   "cell_type": "code",
   "execution_count": 8,
   "metadata": {
    "collapsed": false,
    "scrolled": true
   },
   "outputs": [],
   "source": [
    "n_topics = 125\n",
    "n_samples = 400\n",
    "n_burn = 200\n",
    "n_thin = 5\n",
    "alpha = 0.1\n",
    "beta = 0.01\n",
    "\n",
    "fragment_filename = basedir + 'input/relative_intensities/Urine_37_Top10_POS_fragments_rel.csv'\n",
    "neutral_loss_filename = basedir + 'input/relative_intensities/Urine_37_Top10_POS_losses_rel.csv'\n",
    "mzdiff_filename = None\n",
    "\n",
    "ms1_filename = basedir + 'input/relative_intensities/Urine_37_Top10_POS_ms1_rel.csv'\n",
    "ms2_filename = basedir + 'input/relative_intensities/Urine_37_Top10_POS_ms2_rel.csv'"
   ]
  },
  {
   "cell_type": "code",
   "execution_count": null,
   "metadata": {
    "collapsed": false
   },
   "outputs": [
    {
     "name": "stdout",
     "output_type": "stream",
     "text": [
      "Data shape (780, 1648)\n"
     ]
    }
   ],
   "source": [
    "ms2lda = Ms2Lda(fragment_filename, neutral_loss_filename, mzdiff_filename, \n",
    "                ms1_filename, ms2_filename, relative_intensity=True)\n",
    "df = ms2lda.preprocess()"
   ]
  },
  {
   "cell_type": "code",
   "execution_count": null,
   "metadata": {
    "collapsed": false
   },
   "outputs": [
    {
     "name": "stdout",
     "output_type": "stream",
     "text": [
      "Fitting model...\n",
      "CGS LDA initialising\n",
      "..............................................................................\n",
      "Using JIT for LDA sampling\n",
      "Burn-in 1 ..............................................................................\n",
      "Burn-in 2 ..............................................................................\n",
      "Burn-in 3 ..............................................................................\n",
      "Burn-in 4 ..............................................................................\n",
      "Burn-in 5 ..............................................................................\n",
      "Burn-in 6 ..............................................................................\n",
      "Burn-in 7 ..............................................................................\n",
      "Burn-in 8 ..............................................................................\n",
      "Burn-in 9 ..............................................................................\n",
      "Burn-in 10 ..............................................................................\n",
      "Burn-in 11 ..............................................................................\n",
      "Burn-in 12 ..............................................................................\n",
      "Burn-in 13 ..............................................................................\n",
      "Burn-in 14 ..............................................................................\n",
      "Burn-in 15 ..............................................................................\n",
      "Burn-in 16 ..............................................................................\n",
      "Burn-in 17 .........................................................................."
     ]
    }
   ],
   "source": [
    "ms2lda.run_lda(df, n_topics, n_samples, n_burn, n_thin, \n",
    "               alpha, beta, use_own_model=True, use_native=True)"
   ]
  },
  {
   "cell_type": "code",
   "execution_count": null,
   "metadata": {
    "collapsed": false
   },
   "outputs": [],
   "source": [
    "ms2lda.write_results('urine37_pos_rel')"
   ]
  },
  {
   "cell_type": "markdown",
   "metadata": {},
   "source": [
    "2. Shared Fragments within a Topic\n",
    "--------------------------------------"
   ]
  },
  {
   "cell_type": "markdown",
   "metadata": {},
   "source": [
    "For every topic, we visualise the interesting 'words' shared in common across the documents. Topics are ordered in the list below by their 'h-indices'. The consistency score (0.50 in below case) is then used to highlight interesting peaks in the plot. 0.50 means the word (fragment/loss) is present in at least 50% of the selected parent peaks for this topic. "
   ]
  },
  {
   "cell_type": "code",
   "execution_count": null,
   "metadata": {
    "collapsed": false,
    "scrolled": false
   },
   "outputs": [],
   "source": [
    "ms2lda.plot_lda_fragments(consistency=0.50)"
   ]
  },
  {
   "cell_type": "code",
   "execution_count": null,
   "metadata": {
    "collapsed": true
   },
   "outputs": [],
   "source": []
  },
  {
   "cell_type": "code",
   "execution_count": null,
   "metadata": {
    "collapsed": true
   },
   "outputs": [],
   "source": []
  }
 ],
 "metadata": {
  "kernelspec": {
   "display_name": "Python 2",
   "language": "python",
   "name": "python2"
  },
  "language_info": {
   "codemirror_mode": {
    "name": "ipython",
    "version": 2
   },
   "file_extension": ".py",
   "mimetype": "text/x-python",
   "name": "python",
   "nbconvert_exporter": "python",
   "pygments_lexer": "ipython2",
   "version": "2.7.9"
  }
 },
 "nbformat": 4,
 "nbformat_minor": 0
}
