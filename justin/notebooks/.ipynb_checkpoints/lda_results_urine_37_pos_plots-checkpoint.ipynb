{
 "cells": [
  {
   "cell_type": "markdown",
   "metadata": {},
   "source": [
    "Urine37 Positive Results\n",
    "============"
   ]
  },
  {
   "cell_type": "code",
   "execution_count": 1,
   "metadata": {
    "collapsed": false
   },
   "outputs": [],
   "source": [
    "%load_ext autoreload\n",
    "%autoreload 2\n",
    "%matplotlib inline\n",
    "\n",
    "import sys\n",
    "basedir = '../'\n",
    "sys.path.append(basedir)\n",
    "\n",
    "from lda_for_fragments import Ms2Lda\n",
    "import matplotlib.pyplot as plt\n",
    "import numpy as np\n",
    "import pandas as pd\n",
    "import random\n",
    "import sys"
   ]
  },
  {
   "cell_type": "markdown",
   "metadata": {},
   "source": [
    "Cross-validation to find how many topics we should set. In below plot, we see a plot of K vs. (approximate) log marginal likelihood on held-out data."
   ]
  },
  {
   "cell_type": "code",
   "execution_count": 2,
   "metadata": {
    "collapsed": false
   },
   "outputs": [
    {
     "name": "stderr",
     "output_type": "stream",
     "text": [
      "/home/joewandy/anaconda/lib/python2.7/site-packages/pandas/io/parsers.py:648: ParserWarning: Falling back to the 'python' engine because the 'c' engine does not support regex separators; you can avoid this warning by specifying engine='python'.\n",
      "  ParserWarning)\n"
     ]
    },
    {
     "data": {
      "image/png": "[encoded data removed]",
      "text/plain": [
       "<matplotlib.figure.Figure at 0x7f58822953d0>"
      ]
     },
     "metadata": {},
     "output_type": "display_data"
    }
   ],
   "source": [
    "df = pd.read_csv('../cv_results/urine37pos/results.csv', sep=',|=', header=None)\n",
    "df = df.sort([1])\n",
    "X = df.ix[:, 1]\n",
    "Y = df.ix[:, 3]\n",
    "plt.plot(X, Y, linewidth=2, label='log marginal likelihood')\n",
    "plt.legend()\n",
    "plt.grid()\n",
    "plt.xlabel('K')\n",
    "plt.ylabel('marg')\n",
    "plt.title('Cross-validation on No. of topics -- urine37 pos')\n",
    "plt.tight_layout()\n",
    "plt.show()"
   ]
  },
  {
   "cell_type": "markdown",
   "metadata": {},
   "source": [
    "125 topics seem to be good, so we'd use that."
   ]
  },
  {
   "cell_type": "code",
   "execution_count": 3,
   "metadata": {
    "collapsed": false,
    "scrolled": true
   },
   "outputs": [],
   "source": [
    "n_topics = 125\n",
    "n_samples = 400\n",
    "n_burn = 200\n",
    "n_thin = 5\n",
    "alpha = 0.1\n",
    "beta = 0.01\n",
    "\n",
    "fragment_filename = basedir + 'input/relative_intensities/Urine_37_Top10_POS_fragments_rel.csv'\n",
    "neutral_loss_filename = basedir + 'input/relative_intensities/Urine_37_Top10_POS_losses_rel.csv'\n",
    "mzdiff_filename = None\n",
    "\n",
    "ms1_filename = basedir + 'input/relative_intensities/Urine_37_Top10_POS_ms1_rel.csv'\n",
    "ms2_filename = basedir + 'input/relative_intensities/Urine_37_Top10_POS_ms2_rel.csv'"
   ]
  },
  {
   "cell_type": "code",
   "execution_count": null,
   "metadata": {
    "collapsed": false
   },
   "outputs": [
    {
     "name": "stdout",
     "output_type": "stream",
     "text": [
      "Data shape (780, 1648)\n"
     ]
    }
   ],
   "source": [
    "ms2lda = Ms2Lda(fragment_filename, neutral_loss_filename, mzdiff_filename, \n",
    "                ms1_filename, ms2_filename, relative_intensity=True)\n",
    "df, vocab = ms2lda.preprocess()"
   ]
  },
  {
   "cell_type": "code",
   "execution_count": null,
   "metadata": {
    "collapsed": false
   },
   "outputs": [
    {
     "name": "stdout",
     "output_type": "stream",
     "text": [
      "Fitting model...\n",
      "CGS LDA initialising\n",
      "..............................................................................\n",
      "Using JIT for LDA sampling\n",
      "Burn-in 1 ..............................................................................\n",
      "Burn-in 2 ..............................................................................\n",
      "Burn-in 3 ..............................................................................\n",
      "Burn-in 4 ..............................................................................\n",
      "Burn-in 5 ..............................................................................\n",
      "Burn-in 6 ..............................................................................\n",
      "Burn-in 7 ..............................................................................\n",
      "Burn-in 8 ..............................................................................\n",
      "Burn-in 9 ..............................................................................\n",
      "Burn-in 10 ..............................................................................\n",
      "Burn-in 11 ..............................................................................\n",
      "Burn-in 12 ..............................................................................\n",
      "Burn-in 13 ..............................................................................\n",
      "Burn-in 14 ..............................................................................\n",
      "Burn-in 15 ..............................................................................\n",
      "Burn-in 16 ..............................................................................\n",
      "Burn-in 17 ..............................................................................\n",
      "Burn-in 18 ..............................................................................\n",
      "Burn-in 19 ..............................................................................\n",
      "Burn-in 20 ..............................................................................\n",
      "Burn-in 21 ..............................................................................\n",
      "Burn-in 22 ..............................................................................\n",
      "Burn-in 23 ..............................................................................\n",
      "Burn-in 24 ..............................................................................\n",
      "Burn-in 25 ..............................................................................\n",
      "Burn-in 26 ..............................................................................\n",
      "Burn-in 27 ..............................................................................\n",
      "Burn-in 28 ..............................................................................\n",
      "Burn-in 29 ..............................................................................\n",
      "Burn-in 30 ..............................................................................\n",
      "Burn-in 31 ..............................................................................\n",
      "Burn-in 32 ..............................................................................\n",
      "Burn-in 33 ..............................................................................\n",
      "Burn-in 34 ..............................................................................\n",
      "Burn-in 35 ..............................................................................\n",
      "Burn-in 36 ..............................................................................\n",
      "Burn-in 37 ..............................................................................\n",
      "Burn-in 38 ..............................................................................\n",
      "Burn-in 39 ..............................................................................\n",
      "Burn-in 40 ..............................................................................\n",
      "Burn-in 41 ..............................................................................\n",
      "Burn-in 42 ..............................................................................\n",
      "Burn-in 43 ..............................................................................\n",
      "Burn-in 44 ..............................................................................\n",
      "Burn-in 45 ..............................................................................\n",
      "Burn-in 46 ..............................................................................\n",
      "Burn-in 47 ..............................................................................\n",
      "Burn-in 48 ..............................................................................\n",
      "Burn-in 49 ..............................................................................\n",
      "Burn-in 50 ..............................................................................\n",
      "Burn-in 51 ..............................................................................\n",
      "Burn-in 52 ..............................................................................\n",
      "Burn-in 53 ..............................................................................\n",
      "Burn-in 54 ..............................................................................\n",
      "Burn-in 55 ..............................................................................\n",
      "Burn-in 56 ..............................................................................\n",
      "Burn-in 57 ..............................................................................\n",
      "Burn-in 58 ..............................................................................\n",
      "Burn-in 59 ..............................................................................\n",
      "Burn-in 60 ..............................................................................\n",
      "Burn-in 61 ..............................................................................\n",
      "Burn-in 62 ..............................................................................\n",
      "Burn-in 63 ..............................................................................\n",
      "Burn-in 64 ..............................................................................\n",
      "Burn-in 65 ..............................................................................\n",
      "Burn-in 66 ..............................................................................\n",
      "Burn-in 67 ..............................................................................\n",
      "Burn-in 68 ..............................................................................\n",
      "Burn-in 69 ..............................................................................\n",
      "Burn-in 70 ..............................................................................\n",
      "Burn-in 71 .................."
     ]
    }
   ],
   "source": [
    "ms2lda.run_lda(df, vocab, n_topics, n_samples, n_burn, n_thin, \n",
    "               alpha, beta, use_own_model=True, use_native=True)"
   ]
  },
  {
   "cell_type": "code",
   "execution_count": null,
   "metadata": {
    "collapsed": false
   },
   "outputs": [],
   "source": [
    "ms2lda.write_results('urine37_pos_rel')"
   ]
  },
  {
   "cell_type": "markdown",
   "metadata": {},
   "source": [
    "2. Shared Fragments within a Topic\n",
    "--------------------------------------"
   ]
  },
  {
   "cell_type": "markdown",
   "metadata": {},
   "source": [
    "For every topic, we visualise the interesting 'words' shared in common across the documents. Topics are ordered in the list below by their 'h-indices'. The consistency score (0.50 in below case) is then used to highlight interesting peaks in the plot. 0.50 means the word (fragment/loss) is present in at least 50% of the selected parent peaks for this topic. "
   ]
  },
  {
   "cell_type": "code",
   "execution_count": null,
   "metadata": {
    "collapsed": false,
    "scrolled": false
   },
   "outputs": [],
   "source": [
    "ms2lda.plot_lda_fragments(consistency=0.50)"
   ]
  },
  {
   "cell_type": "code",
   "execution_count": null,
   "metadata": {
    "collapsed": true
   },
   "outputs": [],
   "source": []
  },
  {
   "cell_type": "code",
   "execution_count": null,
   "metadata": {
    "collapsed": true
   },
   "outputs": [],
   "source": []
  }
 ],
 "metadata": {
  "kernelspec": {
   "display_name": "Python 2",
   "language": "python",
   "name": "python2"
  },
  "language_info": {
   "codemirror_mode": {
    "name": "ipython",
    "version": 2
   },
   "file_extension": ".py",
   "mimetype": "text/x-python",
   "name": "python",
   "nbconvert_exporter": "python",
   "pygments_lexer": "ipython2",
   "version": "2.7.9"
  }
 },
 "nbformat": 4,
 "nbformat_minor": 0
}
