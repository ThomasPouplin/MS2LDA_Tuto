{
 "cells": [
  {
   "cell_type": "markdown",
   "metadata": {},
   "source": [
    "Beer2 Positive Results\n",
    "============"
   ]
  },
  {
   "cell_type": "code",
   "execution_count": 5,
   "metadata": {
    "collapsed": false
   },
   "outputs": [
    {
     "name": "stdout",
     "output_type": "stream",
     "text": [
      "The autoreload extension is already loaded. To reload it, use:\n",
      "  %reload_ext autoreload\n"
     ]
    }
   ],
   "source": [
    "%load_ext autoreload\n",
    "%autoreload 2\n",
    "%matplotlib inline\n",
    "\n",
    "import sys\n",
    "basedir = '../'\n",
    "sys.path.append(basedir)\n",
    "\n",
    "from lda_for_fragments import Ms2Lda\n",
    "import matplotlib.pyplot as plt\n",
    "import numpy as np\n",
    "import pandas as pd\n",
    "import random\n",
    "import sys"
   ]
  },
  {
   "cell_type": "code",
   "execution_count": 6,
   "metadata": {
    "collapsed": false,
    "scrolled": true
   },
   "outputs": [],
   "source": [
    "n_topics = 200 # number of topics\n",
    "n_samples = 400 # how many samples to get during Gibbs sampling\n",
    "n_burn = 200 # no. of burn-in samples to discard\n",
    "n_thin = 5 # thinning parameter\n",
    "alpha = 0.1 # Dirichlet parameter for document-topic distributions\n",
    "beta = 0.01 # Dirichlet parameter for topic-word distributions\n",
    "\n",
    "fragment_filename = basedir + 'input/relative_intensities/Beer_2_T10_POS_fragments_rel.csv'\n",
    "neutral_loss_filename = basedir + 'input/relative_intensities/Beer_2_T10_POS_losses_rel.csv'\n",
    "mzdiff_filename = None\n",
    "\n",
    "ms1_filename = basedir + 'input/relative_intensities/Beer_2_T10_POS_ms1_rel.csv'\n",
    "ms2_filename = basedir + 'input/relative_intensities/Beer_2_T10_POS_ms2_rel.csv'"
   ]
  },
  {
   "cell_type": "code",
   "execution_count": null,
   "metadata": {
    "collapsed": false
   },
   "outputs": [
    {
     "name": "stdout",
     "output_type": "stream",
     "text": [
      "Data shape (935, 1986)\n"
     ]
    }
   ],
   "source": [
    "# \"relative_intensity\" should be set to True for input matrices where the count comes from relative intensity\n",
    "# this should probably be the default now ...\n",
    "\n",
    "ms2lda = Ms2Lda(fragment_filename, neutral_loss_filename, mzdiff_filename, \n",
    "                ms1_filename, ms2_filename, relative_intensity=True)\n",
    "df, vocab = ms2lda.preprocess()"
   ]
  },
  {
   "cell_type": "code",
   "execution_count": null,
   "metadata": {
    "collapsed": false
   },
   "outputs": [
    {
     "name": "stdout",
     "output_type": "stream",
     "text": [
      "Fitting model...\n",
      "CGS LDA initialising\n",
      "..............................................................................................\n",
      "Using JIT for LDA sampling\n",
      "Burn-in 1 ..............................................................................................\n",
      "Burn-in 2 ..............................................................................................\n",
      "Burn-in 3 ..............................................................................................\n",
      "Burn-in 4 ..............................................................................................\n",
      "Burn-in 5 ..............................................................................................\n",
      "Burn-in 6 ..............................................................................................\n",
      "Burn-in 7 ..............................................................................................\n",
      "Burn-in 8 ..............................................................................................\n",
      "Burn-in 9 ..............................................................................................\n",
      "Burn-in 10 ..............................................................................................\n",
      "Burn-in 11 ..............................................................................................\n",
      "Burn-in 12 ..............................................................................................\n",
      "Burn-in 13 ..............................................................................................\n",
      "Burn-in 14 ........"
     ]
    }
   ],
   "source": [
    "# if \"use_own_model\" is True, we use our own LDA implementation. Otherwise we use the existing LDA from \n",
    "# https://pypi.python.org/pypi/lda\n",
    "\n",
    "# if \"use_native\" is True, we compile the code from Python to native C code during inference. This will speed things\n",
    "# up a lot as compared to the default Numpy implementation, but I'd consider this an experimental feature ...\n",
    "\n",
    "ms2lda.run_lda(df, vocab, n_topics, n_samples, n_burn, n_thin, \n",
    "               alpha, beta, use_own_model=True, use_native=True)"
   ]
  },
  {
   "cell_type": "code",
   "execution_count": null,
   "metadata": {
    "collapsed": false
   },
   "outputs": [],
   "source": [
    "ms2lda.write_results('beer2_pos_rel')"
   ]
  },
  {
   "cell_type": "markdown",
   "metadata": {},
   "source": [
    "2. Shared Fragments within a Topic\n",
    "--------------------------------------"
   ]
  },
  {
   "cell_type": "markdown",
   "metadata": {},
   "source": [
    "For every topic, we visualise the interesting 'words' shared in common across the documents. Topics are ordered in the list below by their 'h-indices'. The consistency score (0.50 in below case) is then used to highlight interesting peaks in the plot. 0.50 means the word (fragment/loss) is present in at least 50% of the selected parent peaks for this topic. "
   ]
  },
  {
   "cell_type": "code",
   "execution_count": null,
   "metadata": {
    "collapsed": false,
    "scrolled": false
   },
   "outputs": [],
   "source": [
    "ms2lda.plot_lda_fragments(consistency=0.50)"
   ]
  },
  {
   "cell_type": "code",
   "execution_count": null,
   "metadata": {
    "collapsed": true
   },
   "outputs": [],
   "source": []
  },
  {
   "cell_type": "code",
   "execution_count": null,
   "metadata": {
    "collapsed": true
   },
   "outputs": [],
   "source": []
  }
 ],
 "metadata": {
  "kernelspec": {
   "display_name": "Python 2",
   "language": "python",
   "name": "python2"
  },
  "language_info": {
   "codemirror_mode": {
    "name": "ipython",
    "version": 2
   },
   "file_extension": ".py",
   "mimetype": "text/x-python",
   "name": "python",
   "nbconvert_exporter": "python",
   "pygments_lexer": "ipython2",
   "version": "2.7.9"
  }
 },
 "nbformat": 4,
 "nbformat_minor": 0
}
