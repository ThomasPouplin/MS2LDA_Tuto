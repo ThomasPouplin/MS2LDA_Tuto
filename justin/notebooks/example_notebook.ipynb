{
 "cells": [
  {
   "cell_type": "markdown",
   "metadata": {},
   "source": [
    "Example Notebook\n",
    "============"
   ]
  },
  {
   "cell_type": "markdown",
   "metadata": {},
   "source": [
    "<h2>1. Run LDA the first time</h2>"
   ]
  },
  {
   "cell_type": "code",
   "execution_count": null,
   "metadata": {
    "collapsed": false
   },
   "outputs": [],
   "source": [
    "%load_ext autoreload\n",
    "%autoreload 2\n",
    "%matplotlib inline\n",
    "\n",
    "import sys\n",
    "basedir = '../'\n",
    "sys.path.append(basedir)\n",
    "\n",
    "from lda_for_fragments import Ms2Lda"
   ]
  },
  {
   "cell_type": "code",
   "execution_count": null,
   "metadata": {
    "collapsed": false,
    "scrolled": false
   },
   "outputs": [],
   "source": [
    "fragment_filename = basedir + 'input/final/Beer_3_full1_5_2E5_pos_fragments.csv'\n",
    "neutral_loss_filename = basedir + 'input/final/Beer_3_full1_5_2E5_pos_losses.csv'\n",
    "mzdiff_filename = None\n",
    "ms1_filename = basedir + 'input/final/Beer_3_full1_5_2E5_pos_ms1.csv'\n",
    "ms2_filename = basedir + 'input/final/Beer_3_full1_5_2E5_pos_ms2.csv'\n",
    "ms2lda = Ms2Lda.lcms_data_from_R(fragment_filename, neutral_loss_filename, mzdiff_filename, \n",
    "                             ms1_filename, ms2_filename)"
   ]
  },
  {
   "cell_type": "code",
   "execution_count": null,
   "metadata": {
    "collapsed": false
   },
   "outputs": [],
   "source": [
    "### all the parameters you need to specify to run LDA ###\n",
    "\n",
    "n_topics = 300 # 300 - 400 topics from cross-validation\n",
    "n_samples = 500 # 100 is probably okay for testing. For manuscript, use > 500-1000.\n",
    "n_burn = 250 # if 0 then we only use the last sample\n",
    "n_thin = 5 # every n-th sample to use for averaging after burn-in\n",
    "alpha = 50.0/n_topics # hyper-parameter for document-topic distributions\n",
    "beta = 0.1 # hyper-parameter for topic-word distributions\n",
    "\n",
    "ms2lda.run_lda(n_topics, n_samples, n_burn, n_thin, alpha, beta)"
   ]
  },
  {
   "cell_type": "code",
   "execution_count": null,
   "metadata": {
    "collapsed": false
   },
   "outputs": [],
   "source": [
    "ms2lda.write_results('beer3_test_method3')\n",
    "ms2lda.save_project('results/beer3pos.project')"
   ]
  },
  {
   "cell_type": "markdown",
   "metadata": {},
   "source": [
    "<h2>2. Resuming from Previous Run</h2>"
   ]
  },
  {
   "cell_type": "markdown",
   "metadata": {},
   "source": [
    "If you did the save_project() above, you can resume from this step directly the next time you load the notebook .."
   ]
  },
  {
   "cell_type": "code",
   "execution_count": null,
   "metadata": {
    "collapsed": false
   },
   "outputs": [],
   "source": [
    "%load_ext autoreload\n",
    "%autoreload 2\n",
    "%matplotlib inline\n",
    "\n",
    "import sys\n",
    "basedir = '../'\n",
    "sys.path.append(basedir)\n",
    "\n",
    "from lda_for_fragments import Ms2Lda"
   ]
  },
  {
   "cell_type": "code",
   "execution_count": null,
   "metadata": {
    "collapsed": false
   },
   "outputs": [],
   "source": [
    "ms2lda = Ms2Lda.resume_from('results/beer3pos.project')"
   ]
  },
  {
   "cell_type": "markdown",
   "metadata": {},
   "source": [
    "<h2>3. Results</h2>"
   ]
  },
  {
   "cell_type": "markdown",
   "metadata": {},
   "source": [
    "We need to threshold the document-topic and topic-word distributions produced by LDA, so we can say which topics are used in which documents, and which words 'belongs' to a topic. "
   ]
  },
  {
   "cell_type": "code",
   "execution_count": null,
   "metadata": {
    "collapsed": false
   },
   "outputs": [],
   "source": [
    "# Fixed thresholding of 0.05 for the doc_topic and topic_word matrices\n",
    "# NOTE: this is what we used before ..\n",
    "ms2lda.do_thresholding(th_doc_topic=0.05, th_topic_word=0.05)\n",
    "\n",
    "# Doc_topic matrix is thresholded at 0.05\n",
    "# Topic_word matrix is thresholded by the smallest value in each row\n",
    "# ms2lda.do_thresholding(th_doc_topic=0.05, th_topic_word=0.0)\n",
    "\n",
    "# Both matrices are thresholded by the smallest value in each row \n",
    "# Seems a bit difficult to visualise the results effectively due to the very high number of MS1 peaks per topic?\n",
    "# ms2lda.do_thresholding(th_doc_topic=0.0, th_topic_word=0.0)"
   ]
  },
  {
   "cell_type": "markdown",
   "metadata": {},
   "source": [
    "Print the words in each topic."
   ]
  },
  {
   "cell_type": "code",
   "execution_count": null,
   "metadata": {
    "collapsed": false,
    "scrolled": true
   },
   "outputs": [],
   "source": [
    "ms2lda.print_topic_words()"
   ]
  },
  {
   "cell_type": "markdown",
   "metadata": {},
   "source": [
    "Save the output CSV files"
   ]
  },
  {
   "cell_type": "code",
   "execution_count": null,
   "metadata": {
    "collapsed": false
   },
   "outputs": [],
   "source": [
    "ms2lda.write_results('beer3_test_method3')"
   ]
  },
  {
   "cell_type": "markdown",
   "metadata": {},
   "source": [
    "Set into the list below the MS1 peaks that you want to color differently in the graph page. You can see the names from the label of the nodes in the graph page or also from the CSV matrices written above. Also, in the graph page, you can press the keyboard shortcuts 'C', 'S' and 'T' to hide all circles (topics), squares (documents) and triangle (special documents)."
   ]
  },
  {
   "cell_type": "code",
   "execution_count": null,
   "metadata": {
    "collapsed": true
   },
   "outputs": [],
   "source": [
    "special_peaks = [\n",
    "    'doc_372.18877_540.996',\n",
    "    'doc_291.66504_547_239',\n",
    "    'doc_308.17029_289.13'\n",
    "]"
   ]
  },
  {
   "cell_type": "markdown",
   "metadata": {},
   "source": [
    "If the 'interactive' parameter below is True, we will show an interactive visualisation of the results in a separate tab. You need to interrupt the kernel to stop it once you're done with it (from the menu above, Kernel > Interrupt)."
   ]
  },
  {
   "cell_type": "code",
   "execution_count": 43,
   "metadata": {
    "collapsed": false
   },
   "outputs": [
    {
     "name": "stdout",
     "output_type": "stream",
     "text": [
      "\n",
      "75, topic_251 degree=6 added\n",
      "76, topic_252 degree=8 added\n",
      "77, topic_253 degree=10 added\n",
      "78, topic_254 degree=4 added\n",
      "79, topic_255 degree=9 added\n",
      "82, topic_258 degree=8 added\n",
      "83, topic_259 degree=8 added\n",
      "84, topic_8 degree=8 added\n",
      "136, topic_237 degree=6 added\n",
      "137, topic_36 degree=16 added\n",
      "138, topic_68 degree=19 added\n",
      "139, topic_69 degree=5 added\n",
      "141, topic_62 degree=11 added\n",
      "143, topic_60 degree=15 added\n",
      "144, topic_61 degree=13 added\n",
      "145, topic_66 degree=5 added\n",
      "146, topic_67 degree=7 added\n",
      "148, topic_65 degree=36 added\n",
      "149, topic_16 degree=10 added\n",
      "156, topic_231 degree=9 added\n",
      "170, topic_197 degree=15 added\n",
      "214, topic_225 degree=4 added\n",
      "215, topic_224 degree=11 added\n",
      "217, topic_226 degree=20 added\n",
      "218, topic_221 degree=7 added\n",
      "220, topic_223 degree=8 added\n",
      "221, topic_222 degree=8 added\n",
      "223, topic_229 degree=7 added\n",
      "224, topic_228 degree=9 added\n",
      "225, topic_74 degree=11 added\n",
      "232, topic_139 degree=9 added\n",
      "233, topic_138 degree=2 added\n",
      "236, topic_131 degree=4 added\n",
      "237, topic_130 degree=10 added\n",
      "238, topic_133 degree=7 added\n",
      "239, topic_132 degree=3 added\n",
      "241, topic_134 degree=6 added\n",
      "242, topic_137 degree=39 added\n",
      "243, topic_136 degree=16 added\n",
      "246, topic_122 degree=29 added\n",
      "260, topic_149 degree=4 added\n",
      "275, topic_78 degree=14 added\n",
      "276, topic_75 degree=6 added\n",
      "278, topic_77 degree=81 added\n",
      "279, topic_76 degree=21 added\n",
      "280, topic_71 degree=4 added\n",
      "281, topic_70 degree=18 added\n",
      "282, topic_73 degree=21 added\n",
      "283, topic_72 degree=2 added\n",
      "339, topic_286 degree=26 added\n",
      "350, topic_236 degree=13 added\n",
      "352, topic_234 degree=21 added\n",
      "353, topic_235 degree=9 added\n",
      "354, topic_232 degree=8 added\n",
      "359, topic_238 degree=6 added\n",
      "360, topic_239 degree=6 added\n",
      "371, topic_128 degree=3 added\n",
      "372, topic_129 degree=7 added\n",
      "374, topic_123 degree=10 added\n",
      "375, topic_120 degree=12 added\n",
      "376, topic_121 degree=26 added\n",
      "377, topic_126 degree=7 added\n",
      "378, topic_127 degree=5 added\n",
      "379, topic_124 degree=9 added\n",
      "380, topic_125 degree=15 added\n",
      "420, topic_80 degree=4 added\n",
      "421, topic_81 degree=19 added\n",
      "422, topic_82 degree=22 added\n",
      "423, topic_83 degree=11 added\n",
      "424, topic_84 degree=5 added\n",
      "426, topic_86 degree=6 added\n",
      "427, topic_87 degree=21 added\n",
      "428, topic_88 degree=10 added\n",
      "429, topic_89 degree=4 added\n",
      "443, topic_154 degree=4 added\n",
      "452, topic_256 degree=13 added\n",
      "454, topic_257 degree=18 added\n",
      "484, topic_209 degree=7 added\n",
      "486, topic_203 degree=9 added\n",
      "487, topic_202 degree=107 added\n",
      "488, topic_201 degree=13 added\n",
      "489, topic_200 degree=11 added\n",
      "490, topic_207 degree=12 added\n",
      "491, topic_206 degree=5 added\n",
      "492, topic_205 degree=13 added\n",
      "493, topic_204 degree=16 added\n",
      "503, topic_119 degree=6 added\n",
      "505, topic_117 degree=110 added\n",
      "506, topic_116 degree=15 added\n",
      "507, topic_115 degree=15 added\n",
      "508, topic_114 degree=17 added\n",
      "509, topic_113 degree=12 added\n",
      "510, topic_112 degree=11 added\n",
      "512, topic_85 degree=3 added\n",
      "535, topic_93 degree=15 added\n",
      "536, topic_92 degree=8 added\n",
      "537, topic_91 degree=3 added\n",
      "538, topic_90 degree=8 added\n",
      "540, topic_96 degree=31 added\n",
      "541, topic_95 degree=7 added\n",
      "542, topic_94 degree=6 added\n",
      "543, topic_99 degree=7 added\n",
      "544, topic_98 degree=30 added\n",
      "616, topic_183 degree=16 added\n",
      "622, topic_216 degree=9 added\n",
      "625, topic_211 degree=6 added\n",
      "626, topic_212 degree=38 added\n",
      "627, topic_213 degree=5 added\n",
      "628, topic_186 degree=23 added\n",
      "631, topic_187 degree=11 added\n",
      "640, topic_100 degree=19 added\n",
      "641, topic_101 degree=13 added\n",
      "642, topic_102 degree=5 added\n",
      "643, topic_103 degree=6 added\n",
      "644, topic_104 degree=8 added\n",
      "645, topic_105 degree=25 added\n",
      "646, topic_106 degree=6 added\n",
      "647, topic_107 degree=18 added\n",
      "648, topic_108 degree=1 added\n",
      "649, topic_109 degree=83 added\n",
      "664, topic_7 degree=16 added\n",
      "665, topic_6 degree=17 added\n",
      "667, topic_4 degree=34 added\n",
      "668, topic_3 degree=39 added\n",
      "669, topic_2 degree=7 added\n",
      "670, topic_1 degree=10 added\n",
      "671, topic_0 degree=18 added\n",
      "673, topic_9 degree=10 added\n",
      "751, topic_173 degree=6 added\n",
      "755, topic_217 degree=8 added\n",
      "768, topic_175 degree=8 added\n",
      "769, topic_174 degree=4 added\n",
      "770, topic_177 degree=12 added\n",
      "771, topic_176 degree=10 added\n",
      "772, topic_171 degree=7 added\n",
      "773, topic_170 degree=12 added\n",
      "775, topic_172 degree=4 added\n",
      "778, topic_179 degree=4 added\n",
      "779, topic_178 degree=7 added\n",
      "805, topic_63 degree=11 added\n",
      "810, topic_64 degree=5 added\n",
      "891, topic_167 degree=6 added\n",
      "892, topic_164 degree=5 added\n",
      "893, topic_165 degree=16 added\n",
      "894, topic_162 degree=6 added\n",
      "895, topic_163 degree=12 added\n",
      "896, topic_160 degree=23 added\n",
      "897, topic_161 degree=30 added\n",
      "899, topic_168 degree=21 added\n",
      "900, topic_169 degree=25 added\n",
      "921, topic_208 degree=7 added\n",
      "931, topic_44 degree=11 added\n",
      "953, topic_97 degree=14 added\n",
      "984, topic_166 degree=15 added\n",
      "1013, topic_159 degree=26 added\n",
      "1014, topic_158 degree=24 added\n",
      "1015, topic_153 degree=8 added\n",
      "1016, topic_152 degree=13 added\n",
      "1017, topic_151 degree=9 added\n",
      "1018, topic_150 degree=31 added\n",
      "1019, topic_157 degree=4 added\n",
      "1020, topic_156 degree=5 added\n",
      "1021, topic_155 degree=6 added\n",
      "1036, topic_111 degree=18 added\n",
      "1037, topic_110 degree=12 added\n",
      "1080, topic_233 degree=21 added\n",
      "1091, topic_230 degree=45 added\n",
      "1140, topic_148 degree=14 added\n",
      "1142, topic_144 degree=50 added\n",
      "1143, topic_145 degree=5 added\n",
      "1144, topic_146 degree=7 added\n",
      "1145, topic_147 degree=6 added\n",
      "1148, topic_142 degree=7 added\n",
      "1204, topic_140 degree=7 added\n",
      "1210, topic_143 degree=44 added\n",
      "1211, topic_28 degree=8 added\n",
      "1214, topic_29 degree=8 added\n",
      "1215, topic_227 degree=14 added\n",
      "1220, topic_220 degree=12 added\n",
      "1221, topic_25 degree=13 added\n",
      "1291, topic_135 degree=5 added\n",
      "1298, topic_19 degree=9 added\n",
      "1299, topic_18 degree=41 added\n",
      "1301, topic_13 degree=6 added\n",
      "1302, topic_12 degree=25 added\n",
      "1303, topic_11 degree=7 added\n",
      "1304, topic_10 degree=6 added\n",
      "1305, topic_17 degree=11 added\n",
      "1307, topic_15 degree=6 added\n",
      "1308, topic_14 degree=35 added\n",
      "1312, topic_250 degree=8 added\n",
      "1426, topic_118 degree=6 added\n",
      "1431, topic_26 degree=8 added\n",
      "1432, topic_27 degree=15 added\n",
      "1433, topic_24 degree=23 added\n",
      "1435, topic_22 degree=10 added\n",
      "1437, topic_20 degree=18 added\n",
      "1438, topic_21 degree=10 added\n",
      "1485, topic_283 degree=10 added\n",
      "1487, topic_281 degree=4 added\n",
      "1488, topic_280 degree=11 added\n",
      "1489, topic_287 degree=52 added\n",
      "1491, topic_285 degree=12 added\n",
      "1492, topic_284 degree=6 added\n",
      "1497, topic_243 degree=13 added\n",
      "1502, topic_41 degree=66 added\n",
      "1509, topic_196 degree=23 added\n",
      "1510, topic_195 degree=11 added\n",
      "1511, topic_194 degree=8 added\n",
      "1512, topic_193 degree=12 added\n",
      "1513, topic_192 degree=8 added\n",
      "1514, topic_191 degree=6 added\n",
      "1517, topic_199 degree=10 added\n",
      "1530, topic_269 degree=17 added\n",
      "1531, topic_268 degree=6 added\n",
      "1532, topic_261 degree=9 added\n",
      "1533, topic_260 degree=16 added\n",
      "1534, topic_263 degree=44 added\n",
      "1535, topic_262 degree=8 added\n",
      "1538, topic_267 degree=94 added\n",
      "1539, topic_266 degree=37 added\n",
      "1547, topic_79 degree=13 added\n",
      "1557, topic_282 degree=11 added\n",
      "1563, topic_49 degree=12 added\n",
      "1567, topic_31 degree=9 added\n",
      "1568, topic_30 degree=2 added\n",
      "1569, topic_33 degree=10 added\n",
      "1570, topic_32 degree=17 added\n",
      "1571, topic_35 degree=3 added\n",
      "1572, topic_34 degree=8 added\n",
      "1573, topic_37 degree=11 added\n",
      "1575, topic_39 degree=62 added\n",
      "1576, topic_38 degree=23 added\n",
      "1580, topic_289 degree=12 added\n",
      "1582, topic_288 degree=23 added\n",
      "1612, topic_141 degree=24 added\n",
      "1636, topic_294 degree=7 added\n",
      "1637, topic_295 degree=2 added\n",
      "1638, topic_296 degree=1 added\n",
      "1639, topic_297 degree=16 added\n",
      "1640, topic_290 degree=32 added\n",
      "1641, topic_291 degree=8 added\n",
      "1642, topic_292 degree=13 added\n",
      "1643, topic_293 degree=9 added\n",
      "1644, topic_298 degree=10 added\n",
      "1645, topic_299 degree=12 added\n",
      "1657, topic_188 degree=32 added\n",
      "1658, topic_189 degree=18 added\n",
      "1659, topic_180 degree=2 added\n",
      "1660, topic_181 degree=6 added\n",
      "1661, topic_182 degree=9 added\n",
      "1663, topic_184 degree=9 added\n",
      "1664, topic_185 degree=7 added\n",
      "1685, topic_278 degree=1 added\n",
      "1686, topic_279 degree=5 added\n",
      "1687, topic_272 degree=20 added\n",
      "1688, topic_273 degree=9 added\n",
      "1689, topic_270 degree=7 added\n",
      "1690, topic_271 degree=72 added\n",
      "1691, topic_276 degree=13 added\n",
      "1692, topic_277 degree=7 added\n",
      "1693, topic_274 degree=16 added\n",
      "1694, topic_275 degree=1 added\n",
      "1703, topic_218 degree=7 added\n",
      "1705, topic_219 degree=96 added\n",
      "1707, topic_190 degree=9 added\n",
      "1708, topic_214 degree=8 added\n",
      "1710, topic_215 degree=11 added\n",
      "1717, topic_210 degree=19 added\n",
      "1719, topic_198 degree=10 added\n",
      "1728, topic_45 degree=3 added\n",
      "1729, topic_46 degree=15 added\n",
      "1730, topic_47 degree=8 added\n",
      "1731, topic_40 degree=8 added\n",
      "1733, topic_42 degree=2 added\n",
      "1734, topic_43 degree=17 added\n",
      "1736, topic_48 degree=20 added\n",
      "1741, topic_58 degree=6 added\n",
      "1819, topic_265 degree=14 added\n",
      "1820, topic_264 degree=36 added\n",
      "1821, topic_249 degree=13 added\n",
      "1822, topic_248 degree=4 added\n",
      "1823, topic_247 degree=4 added\n",
      "1824, topic_246 degree=70 added\n",
      "1825, topic_245 degree=7 added\n",
      "1826, topic_244 degree=238 added\n",
      "1828, topic_242 degree=5 added\n",
      "1829, topic_241 degree=4 added\n",
      "1830, topic_240 degree=55 added\n",
      "1851, topic_57 degree=19 added\n",
      "1852, topic_56 degree=11 added\n",
      "1853, topic_55 degree=5 added\n",
      "1854, topic_54 degree=8 added\n",
      "1855, topic_53 degree=6 added\n",
      "1856, topic_52 degree=4 added\n",
      "1857, topic_51 degree=4 added\n",
      "1858, topic_50 degree=62 added\n",
      "1859, topic_59 degree=8 added\n",
      "1879, topic_23 degree=16 added\n",
      "Total nodes = 1888\n",
      "Total edges = 4749\n",
      "\n",
      "stopping Server...\n"
     ]
    },
    {
     "name": "stderr",
     "output_type": "stream",
     "text": [
      "127.0.0.1 - - [13/Aug/2015 22:07:44] \"GET /graph.json HTTP/1.1\" 200 -\n"
     ]
    }
   ],
   "source": [
    "ms2lda.plot_lda_fragments(consistency=0.50, sort_by=\"h_index\", interactive=True, to_highlight=special_peaks)\n",
    "# ms2lda.plot_lda_fragments(consistency=0.50, sort_by=\"in_degree\")"
   ]
  },
  {
   "cell_type": "code",
   "execution_count": null,
   "metadata": {
    "collapsed": true
   },
   "outputs": [],
   "source": []
  },
  {
   "cell_type": "code",
   "execution_count": null,
   "metadata": {
    "collapsed": true
   },
   "outputs": [],
   "source": []
  }
 ],
 "metadata": {
  "kernelspec": {
   "display_name": "Python 2",
   "language": "python",
   "name": "python2"
  },
  "language_info": {
   "codemirror_mode": {
    "name": "ipython",
    "version": 2
   },
   "file_extension": ".py",
   "mimetype": "text/x-python",
   "name": "python",
   "nbconvert_exporter": "python",
   "pygments_lexer": "ipython2",
   "version": "2.7.10"
  }
 },
 "nbformat": 4,
 "nbformat_minor": 0
}
