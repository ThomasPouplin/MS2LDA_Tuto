{
 "cells": [
  {
   "cell_type": "markdown",
   "metadata": {},
   "source": [
    "Example Notebook\n",
    "============"
   ]
  },
  {
   "cell_type": "code",
   "execution_count": null,
   "metadata": {
    "collapsed": false
   },
   "outputs": [],
   "source": [
    "%load_ext autoreload\n",
    "%autoreload 2\n",
    "%matplotlib inline\n",
    "\n",
    "import os\n",
    "import sys\n",
    "basedir = '../'\n",
    "sys.path.append(basedir)\n",
    "\n",
    "from lda_for_fragments import Ms2Lda"
   ]
  },
  {
   "cell_type": "markdown",
   "metadata": {},
   "source": [
    "<h2>1. Feature Extraction</h2>"
   ]
  },
  {
   "cell_type": "markdown",
   "metadata": {},
   "source": [
    "There are two ways to generate the input matrices, described below in option (a) and (b)."
   ]
  },
  {
   "cell_type": "markdown",
   "metadata": {},
   "source": [
    "<h3>a. Loading Existing Input Matrices</h3>"
   ]
  },
  {
   "cell_type": "markdown",
   "metadata": {},
   "source": [
    "Either you separately run the feature extraction pipeline in R, producing the input matrices below .. "
   ]
  },
  {
   "cell_type": "code",
   "execution_count": null,
   "metadata": {
    "collapsed": false,
    "scrolled": true
   },
   "outputs": [],
   "source": [
    "fragment_filename = basedir + 'input/final/Beer_3_full1_5_2E5_pos_fragments.csv'\n",
    "neutral_loss_filename = basedir + 'input/final/Beer_3_full1_5_2E5_pos_losses.csv'\n",
    "mzdiff_filename = None\n",
    "ms1_filename = basedir + 'input/final/Beer_3_full1_5_2E5_pos_ms1.csv'\n",
    "ms2_filename = basedir + 'input/final/Beer_3_full1_5_2E5_pos_ms2.csv'\n",
    "ms2lda = Ms2Lda.lcms_data_from_R(fragment_filename, neutral_loss_filename, mzdiff_filename, \n",
    "                             ms1_filename, ms2_filename)"
   ]
  },
  {
   "cell_type": "markdown",
   "metadata": {},
   "source": [
    "<h3>b. Running the Feature Extraction Pipeline</h3>"
   ]
  },
  {
   "cell_type": "markdown",
   "metadata": {},
   "source": [
    "Or you can call the run_feature_extraction in MS2-LDA. This is a wrapper method to the feature extraction pipeline, written in R. It takes as input the full scan and fragmentation files (defined in config_filename) and produces the various count matrices used as input to LDA.\n",
    "\n",
    "Note: On the R side, the main entry point for the feature extraction pipeline is the <i>script_folder/startFeatureExtraction.R</i>, which loads RMassBank as a requirement. RMassBank relies on rJava, which unfortunately can be really rather fiddly to configure. The following is a common problem when configuring rJava : http://stackoverflow.com/questions/12872699/error-unable-to-load-installed-packages-just-now. \n",
    "\n",
    "Note2: This also steps depends on http://rpy.sourceforge.net/, which doesn't seem to be well-supported in Windows."
   ]
  },
  {
   "cell_type": "code",
   "execution_count": null,
   "metadata": {
    "collapsed": false,
    "scrolled": true
   },
   "outputs": [],
   "source": [
    "# path to the folder containing the R scripts used for feature extraction \n",
    "script_folder = '/home/joewandy/git/metabolomics_tools/justin/R'\n",
    "\n",
    "# path to the configuration file for feature extraction\n",
    "config_filename = os.path.join(script_folder, 'config.yml')\n",
    "\n",
    "# too many warning messages printed from R\n",
    "import warnings\n",
    "warnings.filterwarnings(\"ignore\")\n",
    "\n",
    "# run the feature extraction pipeline, this will run for a long time!!\n",
    "ms2lda = Ms2Lda.run_feature_extraction(script_folder, config_filename)"
   ]
  },
  {
   "cell_type": "markdown",
   "metadata": {},
   "source": [
    "<hr/>"
   ]
  },
  {
   "cell_type": "markdown",
   "metadata": {},
   "source": [
    "<h2>2. Analysis</h2>"
   ]
  },
  {
   "cell_type": "markdown",
   "metadata": {},
   "source": [
    "<h3>a. Run LDA</h3>"
   ]
  },
  {
   "cell_type": "markdown",
   "metadata": {},
   "source": [
    "Once the data has been loaded by performing either step 1(a) or 1(b), we're now ready to run LDA."
   ]
  },
  {
   "cell_type": "code",
   "execution_count": null,
   "metadata": {
    "collapsed": false,
    "scrolled": true
   },
   "outputs": [],
   "source": [
    "### all the parameters you need to specify to run LDA ###\n",
    "\n",
    "n_topics = 300 # 300 - 400 topics from cross-validation\n",
    "n_samples = 1000 # 100 is probably okay for testing. For manuscript, use > 500-1000.\n",
    "n_burn = 0 # if 0 then we only use the last sample\n",
    "n_thin = 1 # every n-th sample to use for averaging after burn-in. Ignored if n_burn = 0\n",
    "alpha = 50.0/n_topics # hyper-parameter for document-topic distributions\n",
    "beta = 0.1 # hyper-parameter for topic-word distributions\n",
    "\n",
    "ms2lda.run_lda(n_topics, n_samples, n_burn, n_thin, alpha, beta)"
   ]
  },
  {
   "cell_type": "markdown",
   "metadata": {},
   "source": [
    "<h3>b. (Optional) In-silico Annotation using SIRIUS</h3>"
   ]
  },
  {
   "cell_type": "markdown",
   "metadata": {},
   "source": [
    "For the purpose of visualisation in step 3(c), we can annotate the MS1 and MS2 peaks using [SIRIUS](http://bio.informatik.uni-jena.de/software/sirius/), an in-silico fragmentation tool written in Java. At the moment, each parent MS1 peak and its associated MS2 spectra are run through SIRIUS separately. Isotopic information, which can be used to improve annotation, is not used yet.\n",
    "\n",
    "If you run this annotation step before saving the project in step (c) below, the annotation information will be saved into the ms1 and ms2 peak info too."
   ]
  },
  {
   "cell_type": "code",
   "execution_count": null,
   "metadata": {
    "collapsed": false,
    "scrolled": true
   },
   "outputs": [],
   "source": [
    "sirius_platform = 'orbitrap'\n",
    "ms2lda.annotate_with_sirius(sirius_platform, mode='pos') # mode is either 'pos' or 'neg'"
   ]
  },
  {
   "cell_type": "markdown",
   "metadata": {},
   "source": [
    "<h3>c. (Optional) Saving Project</h3>"
   ]
  },
  {
   "cell_type": "markdown",
   "metadata": {},
   "source": [
    "Save the whole project so we don't have to re-run everything the next time .."
   ]
  },
  {
   "cell_type": "code",
   "execution_count": null,
   "metadata": {
    "collapsed": false
   },
   "outputs": [],
   "source": [
    "# leave the message parameter out if nothing to say\n",
    "ms2lda.save_project('results/beer3posxx.project', message=\"Type any message you want here\")"
   ]
  },
  {
   "cell_type": "markdown",
   "metadata": {},
   "source": [
    "<hr/>"
   ]
  },
  {
   "cell_type": "markdown",
   "metadata": {},
   "source": [
    "<h2>3. Results</h2>"
   ]
  },
  {
   "cell_type": "markdown",
   "metadata": {},
   "source": [
    "<h3>(Optional) Resuming Project</h3>"
   ]
  },
  {
   "cell_type": "markdown",
   "metadata": {},
   "source": [
    "If you saved the project in step (2c), you can resume from here the next time you load this notebook .."
   ]
  },
  {
   "cell_type": "code",
   "execution_count": 1,
   "metadata": {
    "collapsed": false
   },
   "outputs": [],
   "source": [
    "%load_ext autoreload\n",
    "%autoreload 2\n",
    "%matplotlib inline\n",
    "\n",
    "import sys\n",
    "basedir = '../'\n",
    "sys.path.append(basedir)\n",
    "\n",
    "from lda_for_fragments import Ms2Lda"
   ]
  },
  {
   "cell_type": "code",
   "execution_count": 2,
   "metadata": {
    "collapsed": false
   },
   "outputs": [
    {
     "name": "stdout",
     "output_type": "stream",
     "text": [
      "Project loaded from results/beer3pos.project time taken = 17.5967371464\n",
      " - input_filenames = \n",
      "\t../input/final/Beer_3_full1_5_2E5_pos_fragments.csv\n",
      "\t../input/final/Beer_3_full1_5_2E5_pos_losses.csv\n",
      "\t../input/final/Beer_3_full1_5_2E5_pos_ms1.csv\n",
      "\t../input/final/Beer_3_full1_5_2E5_pos_ms2.csv\n",
      " - df.shape = (1588, 3171)\n",
      " - K = 300\n",
      " - alpha = 0.166666666667\n",
      " - beta = 0.1\n",
      " - number of samples stored = 1\n",
      " - last_saved_timestamp = Thu Sep  3 14:54:21 2015\n"
     ]
    }
   ],
   "source": [
    "ms2lda = Ms2Lda.resume_from('results/beer3pos.project')"
   ]
  },
  {
   "cell_type": "markdown",
   "metadata": {},
   "source": [
    "<h3>a. Thresholding</h3>"
   ]
  },
  {
   "cell_type": "markdown",
   "metadata": {},
   "source": [
    "For the purpose of visualisation only, we threshold the document-topic and topic-word distributions produced by LDA, so we can say which topics are used in which documents, and which words 'belongs' to a topic. This needs to be done before step (b) and (c) below."
   ]
  },
  {
   "cell_type": "code",
   "execution_count": 3,
   "metadata": {
    "collapsed": false
   },
   "outputs": [],
   "source": [
    "# Thresholding the doc_topic and topic_word matrices\n",
    "ms2lda.do_thresholding(th_doc_topic=0.05, th_topic_word=0.01)"
   ]
  },
  {
   "cell_type": "markdown",
   "metadata": {},
   "source": [
    "<h3>b. Print Results</h3>"
   ]
  },
  {
   "cell_type": "markdown",
   "metadata": {},
   "source": [
    "Print which fragment/loss words occur with probability above the threshold in each topic."
   ]
  },
  {
   "cell_type": "code",
   "execution_count": null,
   "metadata": {
    "collapsed": false,
    "scrolled": true
   },
   "outputs": [],
   "source": [
    "ms2lda.print_topic_words()"
   ]
  },
  {
   "cell_type": "markdown",
   "metadata": {},
   "source": [
    "We can also save the output to CSV files"
   ]
  },
  {
   "cell_type": "code",
   "execution_count": null,
   "metadata": {
    "collapsed": false
   },
   "outputs": [],
   "source": [
    "ms2lda.write_results('beer3_test_method3')"
   ]
  },
  {
   "cell_type": "markdown",
   "metadata": {},
   "source": [
    "<h3>c. Visualisation</h3>"
   ]
  },
  {
   "cell_type": "markdown",
   "metadata": {},
   "source": [
    "A visualisation module is provided to explore the results. This can be run in either interactive (in the browser) or non-interactive (directly plotting all results in this notebook, which can be a lot output!)."
   ]
  },
  {
   "cell_type": "markdown",
   "metadata": {},
   "source": [
    "<h4>Set Visualisation Parameters</h4>"
   ]
  },
  {
   "cell_type": "code",
   "execution_count": 4,
   "metadata": {
    "collapsed": true
   },
   "outputs": [],
   "source": [
    "# If True, an interactive visualisation is shown in a separate tab. \n",
    "# You need to interrupt the kernel to stop it once you're done with it (from the menu above, Kernel > Interrupt).\n",
    "interactive=True"
   ]
  },
  {
   "cell_type": "code",
   "execution_count": 5,
   "metadata": {
    "collapsed": true
   },
   "outputs": [],
   "source": [
    "# Used for highlighting 'consistent' topic fragments/losses during plotting. \n",
    "# A value of 0.50 means the fragment (or loss) word occurs at least half of the plotted documents of the topic.\n",
    "consistency=0.0"
   ]
  },
  {
   "cell_type": "code",
   "execution_count": null,
   "metadata": {
    "collapsed": true
   },
   "outputs": [],
   "source": [
    "# Used for graph visualisation in the interactive mode only. \n",
    "# Specifies the 'special' nodes to be coloured differently.\n",
    "# special_nodes = [\n",
    "#     ('doc_372.18877_540.996', '#CC0000'), # maroon\n",
    "#     ('doc_291.66504_547_239', 'gold'),\n",
    "#     ('doc_308.17029_289.13', 'green'),\n",
    "#     ('topic_244', '#CC0000'), # maroon\n",
    "#     ('topic_98', 'aqua'),\n",
    "#     ('topic_293', '#ff1493') # deep pink\n",
    "# ]\n",
    "special_nodes = None"
   ]
  },
  {
   "cell_type": "markdown",
   "metadata": {},
   "source": [
    "<h4>Run Visualisation</h4>"
   ]
  },
  {
   "cell_type": "code",
   "execution_count": null,
   "metadata": {
    "collapsed": false,
    "scrolled": true
   },
   "outputs": [
    {
     "name": "stdout",
     "output_type": "stream",
     "text": [
      "Ranking topics ...\n",
      " - topic 0 h-index = 2\n",
      " - topic 1 h-index = 2\n",
      " - topic 2 h-index = 2\n",
      " - topic 3 h-index = 4\n",
      " - topic 4 h-index = 1\n",
      " - topic 5 h-index = 2\n",
      " - topic 6 h-index = 2\n",
      " - topic 7 h-index = 3\n",
      " - topic 8 h-index = 2\n",
      " - topic 9 h-index = 2\n",
      " - topic 10 h-index = 2\n",
      " - topic 11 h-index = 4\n",
      " - topic 12 h-index = 3\n",
      " - topic 13 h-index = 3\n",
      " - topic 14 h-index = 1\n",
      " - topic 15 h-index = 2\n",
      " - topic 16 h-index = 2\n",
      " - topic 17 h-index = 2\n",
      " - topic 18 h-index = 1\n",
      " - topic 19 h-index = 3\n",
      " - topic 20 h-index = 3\n",
      " - topic 21 h-index = 3\n",
      " - topic 22 h-index = 2\n",
      " - topic 23 h-index = 3\n",
      " - topic 24 h-index = 1\n",
      " - topic 25 h-index = 1\n",
      " - topic 26 h-index = 2\n",
      " - topic 27 h-index = 2\n",
      " - topic 28 h-index = 3\n",
      " - topic 29 h-index = 3\n",
      " - topic 30 h-index = 1\n",
      " - topic 31 h-index = 2\n",
      " - topic 32 h-index = 3\n",
      " - topic 33 h-index = 2\n",
      " - topic 34 h-index = 2\n",
      " - topic 35 h-index = 2\n",
      " - topic 36 h-index = 2\n",
      " - topic 37 h-index = 3\n",
      " - topic 38 h-index = 4\n",
      " - topic 39 h-index = 2\n",
      " - topic 40 h-index = 1\n",
      " - topic 41 h-index = 1\n",
      " - topic 42 h-index = 1\n",
      " - topic 43 h-index = 2\n",
      " - topic 44 h-index = 3\n",
      " - topic 45 h-index = 2\n",
      " - topic 46 h-index = 5\n",
      " - topic 47 h-index = 2\n",
      " - topic 48 h-index = 4\n",
      " - topic 49 h-index = 2\n",
      " - topic 50 h-index = 1\n",
      " - topic 51 h-index = 2\n",
      " - topic 52 h-index = 2\n",
      " - topic 53 h-index = 6\n",
      " - topic 54 h-index = 6\n",
      " - topic 55 h-index = 2\n",
      " - topic 56 h-index = 2\n",
      " - topic 57 h-index = 3\n",
      " - topic 58 h-index = 3\n",
      " - topic 59 h-index = 4\n",
      " - topic 60 h-index = 3\n",
      " - topic 61 h-index = 2\n",
      " - topic 62 h-index = 4\n",
      " - topic 63 h-index = 2\n",
      " - topic 64 h-index = 2\n",
      " - topic 65 h-index = 3\n",
      " - topic 66 h-index = 3\n",
      " - topic 67 h-index = 2\n",
      " - topic 68 h-index = 4\n",
      " - topic 69 h-index = 2\n",
      " - topic 70 h-index = 2\n",
      " - topic 71 h-index = 4\n",
      " - topic 72 h-index = 2\n",
      " - topic 73 h-index = 3\n",
      " - topic 74 h-index = 3\n",
      " - topic 75 h-index = 3\n",
      " - topic 76 h-index = 7\n",
      " - topic 77 h-index = 2\n",
      " - topic 78 h-index = 3\n",
      " - topic 79 h-index = 4\n",
      " - topic 80 h-index = 3\n",
      " - topic 81 h-index = 2\n",
      " - topic 82 h-index = 2\n",
      " - topic 83 h-index = 3\n",
      " - topic 84 h-index = 2\n",
      " - topic 85 h-index = 3\n",
      " - topic 86 h-index = 2\n",
      " - topic 87 h-index = 2\n",
      " - topic 88 h-index = 2\n",
      " - topic 89 h-index = 2\n",
      " - topic 90 h-index = 4\n",
      " - topic 91 h-index = 2\n",
      " - topic 92 h-index = 2\n",
      " - topic 93 h-index = 2\n",
      " - topic 94 h-index = 3\n",
      " - topic 95 h-index = 2\n",
      " - topic 96 h-index = 3\n",
      " - topic 97 h-index = 2\n",
      " - topic 98 h-index = 5\n",
      " - topic 99 h-index = 2\n",
      " - topic 100 h-index = 4\n",
      " - topic 101 h-index = 3\n",
      " - topic 102 h-index = 2\n",
      " - topic 103 h-index = 3\n",
      " - topic 104 h-index = 5\n",
      " - topic 105 h-index = 3\n",
      " - topic 106 h-index = 3\n",
      " - topic 107 h-index = 3\n",
      " - topic 108 h-index = 1\n",
      " - topic 109 h-index = 1\n",
      " - topic 110 h-index = 2\n",
      " - topic 111 h-index = 3\n",
      " - topic 112 h-index = 3\n",
      " - topic 113 h-index = 3\n",
      " - topic 114 h-index = 2\n",
      " - topic 115 h-index = 2\n",
      " - topic 116 h-index = 3\n",
      " - topic 117 h-index = 3\n",
      " - topic 118 h-index = 2\n",
      " - topic 119 h-index = 2\n",
      " - topic 120 h-index = 6\n",
      " - topic 121 h-index = 5\n",
      " - topic 122 h-index = 2\n",
      " - topic 123 h-index = 1\n",
      " - topic 124 h-index = 4\n",
      " - topic 125 h-index = 2\n",
      " - topic 126 h-index = 3\n",
      " - topic 127 h-index = 1\n",
      " - topic 128 h-index = 1\n",
      " - topic 129 h-index = 4\n",
      " - topic 130 h-index = 2\n",
      " - topic 131 h-index = 2\n",
      " - topic 132 h-index = 2\n",
      " - topic 133 h-index = 2\n",
      " - topic 134 h-index = 2\n",
      " - topic 135 h-index = 1\n",
      " - topic 136 h-index = 3\n",
      " - topic 137 h-index = 1\n",
      " - topic 138 h-index = 1\n",
      " - topic 139 h-index = 3\n",
      " - topic 140 h-index = 2\n",
      " - topic 141 h-index = 3\n",
      " - topic 142 h-index = 2\n",
      " - topic 143 h-index = 1\n",
      " - topic 144 h-index = 1\n",
      " - topic 145 h-index = 2\n",
      " - topic 146 h-index = 2\n",
      " - topic 147 h-index = 3\n",
      " - topic 148 h-index = 2\n",
      " - topic 149 h-index = 1\n",
      " - topic 150 h-index = 2\n",
      " - topic 151 h-index = 2\n",
      " - topic 152 h-index = 3\n",
      " - topic 153 h-index = 2\n",
      " - topic 154 h-index = 3\n",
      " - topic 155 h-index = 2\n",
      " - topic 156 h-index = 4\n",
      " - topic 157 h-index = 2\n",
      " - topic 158 h-index = 4\n",
      " - topic 159 h-index = 1\n",
      " - topic 160 h-index = 3\n",
      " - topic 161 h-index = 2\n",
      " - topic 162 h-index = 3\n",
      " - topic 163 h-index = 3\n",
      " - topic 164 h-index = 2\n",
      " - topic 165 h-index = 2\n",
      " - topic 166 h-index = 4\n",
      " - topic 167 h-index = 2\n",
      " - topic 168 h-index = 4\n",
      " - topic 169 h-index = 3\n",
      " - topic 170 h-index = 3\n",
      " - topic 171 h-index = 2\n",
      " - topic 172 h-index = 2\n",
      " - topic 173 h-index = 2\n",
      " - topic 174 h-index = 3\n",
      " - topic 175 h-index = 3\n",
      " - topic 176 h-index = 3\n",
      " - topic 177 h-index = 5\n",
      " - topic 178 h-index = 3\n",
      " - topic 179 h-index = 3\n",
      " - topic 180 h-index = 1\n",
      " - topic 181 h-index = 2\n",
      " - topic 182 h-index = 2\n",
      " - topic 183 h-index = 4\n",
      " - topic 184 h-index = 2\n",
      " - topic 185 h-index = 1\n",
      " - topic 186 h-index = 2\n",
      " - topic 187 h-index = 4\n",
      " - topic 188 h-index = 2\n",
      " - topic 189 h-index = 2\n",
      " - topic 190 h-index = 2\n",
      " - topic 191 h-index = 3\n",
      " - topic 192 h-index = 3\n",
      " - topic 193 h-index = 3\n",
      " - topic 194 h-index = 5\n",
      " - topic 195 h-index = 3\n",
      " - topic 196 h-index = 3\n",
      " - topic 197 h-index = 1\n",
      " - topic 198 h-index = 2\n",
      " - topic 199 h-index = 3\n",
      " - topic 200 h-index = 3\n",
      " - topic 201 h-index = 2\n",
      " - topic 202 h-index = 1\n",
      " - topic 203 h-index = 1\n",
      " - topic 204 h-index = 5\n",
      " - topic 205 h-index = 3\n",
      " - topic 206 h-index = 4\n",
      " - topic 207 h-index = 3\n",
      " - topic 208 h-index = 3\n",
      " - topic 209 h-index = 3\n",
      " - topic 210 h-index = 3\n",
      " - topic 211 h-index = 2\n",
      " - topic 212 h-index = 2\n",
      " - topic 213 h-index = 1\n",
      " - topic 214 h-index = 4\n",
      " - topic 215 h-index = 3\n",
      " - topic 216 h-index = 2\n",
      " - topic 217 h-index = 2\n",
      " - topic 218 h-index = 1\n",
      " - topic 219 h-index = 1\n",
      " - topic 220 h-index = 2\n",
      " - topic 221 h-index = 2\n",
      " - topic 222 h-index = 2\n",
      " - topic 223 h-index = 2\n",
      " - topic 224 h-index = 2\n",
      " - topic 225 h-index = 2\n",
      " - topic 226 h-index = 1\n",
      " - topic 227 h-index = 3\n",
      " - topic 228 h-index = 5\n",
      " - topic 229 h-index = 3\n",
      " - topic 230 h-index = 4\n",
      " - topic 231 h-index = 2\n",
      " - topic 232 h-index = 3\n",
      " - topic 233 h-index = 3\n",
      " - topic 234 h-index = 4\n",
      " - topic 235 h-index = 4\n",
      " - topic 236 h-index = 3\n",
      " - topic 237 h-index = 2\n",
      " - topic 238 h-index = 2\n",
      " - topic 239 h-index = 2\n",
      " - topic 240 h-index = 8\n",
      " - topic 241 h-index = 2\n",
      " - topic 242 h-index = 2\n",
      " - topic 243 h-index = 3\n",
      " - topic 244 h-index = 1\n",
      " - topic 245 h-index = 2\n",
      " - topic 246 h-index = 2\n",
      " - topic 247 h-index = 2\n",
      " - topic 248 h-index = 2\n",
      " - topic 249 h-index = 3\n",
      " - topic 250 h-index = 3\n",
      " - topic 251 h-index = 3\n",
      " - topic 252 h-index = 2\n",
      " - topic 253 h-index = 7\n",
      " - topic 254 h-index = 2\n",
      " - topic 255 h-index = 3\n",
      " - topic 256 h-index = 3\n",
      " - topic 257 h-index = 2\n",
      " - topic 258 h-index = 4\n",
      " - topic 259 h-index = 2\n",
      " - topic 260 h-index = 3\n",
      " - topic 261 h-index = 2\n",
      " - topic 262 h-index = 3\n",
      " - topic 263 h-index = 3\n",
      " - topic 264 h-index = 4\n",
      " - topic 265 h-index = 3\n",
      " - topic 266 h-index = 2\n",
      " - topic 267 h-index = 1\n",
      " - topic 268 h-index = 2\n",
      " - topic 269 h-index = 3\n",
      " - topic 270 h-index = 4\n",
      " - topic 271 h-index = 1\n",
      " - topic 272 h-index = 4\n",
      " - topic 273 h-index = 2\n",
      " - topic 274 h-index = 3\n",
      " - topic 275 h-index = 1\n",
      " - topic 276 h-index = 4\n",
      " - topic 277 h-index = 1\n",
      " - topic 278 h-index = 1\n",
      " - topic 279 h-index = 2\n",
      " - topic 280 h-index = 3\n",
      " - topic 281 h-index = 2\n",
      " - topic 282 h-index = 3\n",
      " - topic 283 h-index = 2\n",
      " - topic 284 h-index = 2\n",
      " - topic 285 h-index = 3\n",
      " - topic 286 h-index = 2\n",
      " - topic 287 h-index = 1\n",
      " - topic 288 h-index = 1\n",
      " - topic 289 h-index = 2\n",
      " - topic 290 h-index = 4\n",
      " - topic 291 h-index = 2\n",
      " - topic 292 h-index = 2\n",
      " - topic 293 h-index = 3\n",
      " - topic 294 h-index = 3\n",
      " - topic 295 h-index = 3\n",
      " - topic 296 h-index = 1\n",
      " - topic 297 h-index = 2\n",
      " - topic 298 h-index = 2\n",
      " - topic 299 h-index = 2\n",
      "DONE!\n",
      "\n",
      "Generating plots for topic 240 h-index=8, degree=55\n",
      "Generating plots for topic 76 h-index=7, degree=22\n",
      "Generating plots for topic 253 h-index=7, degree=9\n",
      "Generating plots for topic 53 h-index=6, degree=7\n",
      "Generating plots for topic 54 h-index=6, degree=8\n",
      "Generating plots for topic 120 h-index=6, degree=13\n",
      "Generating plots for topic 46 h-index=5, degree=15\n",
      "Generating plots for topic 98 h-index=5, degree=26\n",
      "Generating plots for topic 104 h-index=5, degree=8\n",
      "Generating plots for topic 121 h-index=5, degree=26\n",
      "Generating plots for topic 177 h-index=5, degree=10\n",
      "Generating plots for topic 194 h-index=5, degree=8\n",
      "Generating plots for topic 204 h-index=5, degree=16\n",
      "Generating plots for topic 228 h-index=5, degree=9\n",
      "Generating plots for topic 3 h-index=4, degree=39\n",
      "Generating plots for topic 11 h-index=4, degree=7\n",
      "Generating plots for topic 38 h-index=4, degree=23\n",
      "Generating plots for topic 48 h-index=4, degree=21\n",
      "Generating plots for topic 59 h-index=4, degree=8\n",
      "Generating plots for topic 62 h-index=4, degree=11\n",
      "Generating plots for topic 68 h-index=4, degree=17\n",
      "Generating plots for topic 71 h-index=4, degree=4\n",
      "Generating plots for topic 79 h-index=4, degree=13\n",
      "Generating plots for topic 90 h-index=4, degree=9\n",
      "Generating plots for topic 100 h-index=4, degree=19\n",
      "Generating plots for topic 124 h-index=4, degree=9\n",
      "Generating plots for topic 129 h-index=4, degree=7\n",
      "Generating plots for topic 156 h-index=4, degree=5\n",
      "Generating plots for topic 158 h-index=4, degree=27\n",
      "Generating plots for topic 166 h-index=4, degree=15\n",
      "Generating plots for topic 168 h-index=4, degree=21\n",
      "Generating plots for topic 183 h-index=4, degree=16\n",
      "Generating plots for topic 187 h-index=4, degree=11\n",
      "Generating plots for topic 206 h-index=4, degree=6\n",
      "Generating plots for topic 214 h-index=4, degree=8\n",
      "Generating plots for topic 230 h-index=4, degree=45\n",
      "Generating plots for topic 234 h-index=4, degree=21\n",
      "Generating plots for topic 235 h-index=4, degree=10\n",
      "Generating plots for topic 258 h-index=4, degree=8\n",
      "Generating plots for topic 264 h-index=4, degree=36\n",
      "Generating plots for topic 270 h-index=4, degree=7\n",
      "Generating plots for topic 272 h-index=4, degree=20\n",
      "Generating plots for topic 276 h-index=4, degree=13\n",
      "Generating plots for topic 290 h-index=4, degree=33\n",
      "Generating plots for topic 7 h-index=3, degree=15\n",
      "Generating plots for topic 12 h-index=3, degree=25\n",
      "Generating plots for topic 13 h-index=3, degree=6\n",
      "Generating plots for topic 19 h-index=3, degree=9\n",
      "Generating plots for topic 20 h-index=3, degree=18\n",
      "Generating plots for topic 21 h-index=3, degree=10\n",
      "Generating plots for topic 23 h-index=3, degree=16\n",
      "Generating plots for topic 28 h-index=3, degree=9\n",
      "Generating plots for topic 29 h-index=3, degree=8\n",
      "Generating plots for topic 32 h-index=3, degree=17\n",
      "Generating plots for topic 37 h-index=3, degree=10\n",
      "Generating plots for topic 44 h-index=3, degree=11\n",
      "Generating plots for topic 57 h-index=3, degree=16\n",
      "Generating plots for topic 58 h-index=3, degree=6\n",
      "Generating plots for topic 60 h-index=3, degree=15\n",
      "Generating plots for topic 65 h-index=3, degree=35\n",
      "Generating plots for topic 66 h-index=3, degree=5\n",
      "Generating plots for topic 73 h-index=3, degree=21\n",
      "Generating plots for topic 74 h-index=3, degree=12\n",
      "Generating plots for topic 75 h-index=3, degree=5\n",
      "Generating plots for topic 78 h-index=3, degree=14\n",
      "Generating plots for topic 80 h-index=3, degree=5\n",
      "Generating plots for topic 83 h-index=3, degree=11\n",
      "Generating plots for topic 85 h-index=3, degree=3\n",
      "Generating plots for topic 94 h-index=3, degree=7\n",
      "Generating plots for topic 96 h-index=3, degree=29\n",
      "Generating plots for topic 101 h-index=3, degree=13\n",
      "Generating plots for topic 103 h-index=3, degree=6\n",
      "Generating plots for topic 105 h-index=3, degree=25\n",
      "Generating plots for topic 106 h-index=3, degree=6\n",
      "Generating plots for topic 107 h-index=3, degree=16\n",
      "Generating plots for topic 111 h-index=3, degree=19\n",
      "Generating plots for topic 112 h-index=3, degree=11\n",
      "Generating plots for topic 113 h-index=3, degree=12\n",
      "Generating plots for topic 116 h-index=3, degree=15\n",
      "Generating plots for topic 117 h-index=3, degree=110\n",
      "Generating plots for topic 126 h-index=3, degree=7\n",
      "Generating plots for topic 136 h-index=3, degree=16\n",
      "Generating plots for topic 139 h-index=3, degree=9\n",
      "Generating plots for topic 141 h-index=3, degree=24\n",
      "Generating plots for topic 147 h-index=3, degree=6\n",
      "Generating plots for topic 152 h-index=3, degree=12\n",
      "Generating plots for topic 154 h-index=3, degree=5\n",
      "Generating plots for topic 160 h-index=3, degree=23\n",
      "Generating plots for topic 162 h-index=3, degree=6\n",
      "Generating plots for topic 163 h-index=3, degree=12\n",
      "Generating plots for topic 169 h-index=3, degree=25\n",
      "Generating plots for topic 170 h-index=3, degree=12\n",
      "Generating plots for topic 174 h-index=3, degree=4\n",
      "Generating plots for topic 175 h-index=3, degree=8\n",
      "Generating plots for topic 176 h-index=3, degree=10\n",
      "Generating plots for topic 178 h-index=3, degree=8\n",
      "Generating plots for topic 179 h-index=3, degree=4\n",
      "Generating plots for topic 191 h-index=3, degree=7\n",
      "Generating plots for topic 192 h-index=3, degree=8\n",
      "Generating plots for topic 193 h-index=3, degree=12\n",
      "Generating plots for topic 195 h-index=3, degree=11\n",
      "Generating plots for topic 196 h-index=3, degree=24\n",
      "Generating plots for topic 199 h-index=3, degree=10\n",
      "Generating plots for topic 200 h-index=3, degree=11\n",
      "Generating plots for topic 205 h-index=3, degree=14\n",
      "Generating plots for topic 207 h-index=3, degree=11\n",
      "Generating plots for topic 208 h-index=3, degree=7\n",
      "Generating plots for topic 209 h-index=3, degree=7\n",
      "Generating plots for topic 210 h-index=3, degree=19\n",
      "Generating plots for topic 215 h-index=3, degree=11\n",
      "Generating plots for topic 227 h-index=3, degree=15\n",
      "Generating plots for topic 229 h-index=3, degree=7\n",
      "Generating plots for topic 232 h-index=3, degree=8\n",
      "Generating plots for topic 233 h-index=3, degree=17\n",
      "Generating plots for topic 236 h-index=3, degree=12\n",
      "Generating plots for topic 243 h-index=3, degree=13\n",
      "Generating plots for topic 249 h-index=3, degree=13\n",
      "Generating plots for topic 250 h-index=3, degree=8\n",
      "Generating plots for topic 251 h-index=3, degree=7\n",
      "Generating plots for topic 255 h-index=3, degree=9\n",
      "Generating plots for topic 256 h-index=3, degree=13\n",
      "Generating plots for topic 260 h-index=3, degree=16\n",
      "Generating plots for topic 262 h-index=3, degree=8\n",
      "Generating plots for topic 263 h-index=3, degree=45\n",
      "Generating plots for topic 265 h-index=3, degree=15\n",
      "Generating plots for topic 269 h-index=3, degree=17\n",
      "Generating plots for topic 274 h-index=3, degree=17\n",
      "Generating plots for topic 280 h-index=3, degree=10\n",
      "Generating plots for topic 282 h-index=3, degree=11\n",
      "Generating plots for topic 285 h-index=3, degree=12\n",
      "Generating plots for topic 293 h-index=3, degree=10\n",
      "Generating plots for topic 294 h-index=3, degree=7\n",
      "Generating plots for topic 295 h-index=3, degree=8\n",
      "Generating plots for topic 0 h-index=2, degree=18\n",
      "Generating plots for topic 1 h-index=2, degree=10\n",
      "Generating plots for topic 2 h-index=2, degree=7\n",
      "Generating plots for topic 5 h-index=2, degree=28\n",
      "Generating plots for topic 6 h-index=2, degree=17\n",
      "Generating plots for topic 8 h-index=2, degree=8\n",
      "Generating plots for topic 9 h-index=2, degree=11\n",
      "Generating plots for topic 10 h-index=2, degree=6\n",
      "Generating plots for topic 15 h-index=2, degree=6\n",
      "Generating plots for topic 16 h-index=2, degree=9\n",
      "Generating plots for topic 17 h-index=2, degree=11\n",
      "Generating plots for topic 22 h-index=2, degree=10\n",
      "Generating plots for topic 26 h-index=2, degree=9\n",
      "Generating plots for topic 27 h-index=2, degree=15\n",
      "Generating plots for topic 31 h-index=2, degree=10\n",
      "Generating plots for topic 33 h-index=2, degree=10\n",
      "Generating plots for topic 34 h-index=2, degree=8\n",
      "Generating plots for topic 35 h-index=2, degree=2\n",
      "Generating plots for topic 36 h-index=2, degree=16\n",
      "Generating plots for topic 39 h-index=2, degree=62\n",
      "Generating plots for topic 43 h-index=2, degree=18\n",
      "Generating plots for topic 45 h-index=2, degree=3\n",
      "Generating plots for topic 47 h-index=2, degree=8\n",
      "Generating plots for topic 49 h-index=2, degree=12\n",
      "Generating plots for topic 51 h-index=2, degree=4\n",
      "Generating plots for topic 52 h-index=2, degree=4\n",
      "Generating plots for topic 55 h-index=2, degree=5\n",
      "Generating plots for topic 56 h-index=2, degree=11\n",
      "Generating plots for topic 61 h-index=2, degree=12\n",
      "Generating plots for topic 63 h-index=2, degree=11\n",
      "Generating plots for topic 64 h-index=2, degree=6\n",
      "Generating plots for topic 67 h-index=2, degree=7\n",
      "Generating plots for topic 69 h-index=2, degree=6\n",
      "Generating plots for topic 70 h-index=2, degree=19\n",
      "Generating plots for topic 72 h-index=2, degree=2\n",
      "Generating plots for topic 77 h-index=2, degree=81\n",
      "Generating plots for topic 81 h-index=2, degree=19\n",
      "Generating plots for topic 82 h-index=2, degree=22\n",
      "Generating plots for topic 84 h-index=2, degree=5\n",
      "Generating plots for topic 86 h-index=2, degree=6\n",
      "Generating plots for topic 87 h-index=2, degree=20\n",
      "Generating plots for topic 88 h-index=2, degree=10\n",
      "Generating plots for topic 89 h-index=2, degree=5\n",
      "Generating plots for topic 91 h-index=2, degree=3\n",
      "Generating plots for topic 92 h-index=2, degree=8\n",
      "Generating plots for topic 93 h-index=2, degree=17\n",
      "Generating plots for topic 95 h-index=2, degree=7\n",
      "Generating plots for topic 97 h-index=2, degree=15\n",
      "Generating plots for topic 99 h-index=2, degree=6\n",
      "Generating plots for topic 102 h-index=2, degree=6\n",
      "Generating plots for topic 110 h-index=2, degree=12\n",
      "Generating plots for topic 114 h-index=2, degree=17\n",
      "Generating plots for topic 115 h-index=2, degree=15\n",
      "Generating plots for topic 118 h-index=2, degree=6\n",
      "Generating plots for topic 119 h-index=2, degree=6\n",
      "Generating plots for topic 122 h-index=2, degree=30\n",
      "Generating plots for topic 125 h-index=2, degree=15\n",
      "Generating plots for topic 130 h-index=2, degree=10\n",
      "Generating plots for topic 131 h-index=2, degree=4\n",
      "Generating plots for topic 132 h-index=2, degree=3\n",
      "Generating plots for topic 133 h-index=2, degree=8\n",
      "Generating plots for topic 134 h-index=2, degree=6\n",
      "Generating plots for topic 140 h-index=2, degree=8\n",
      "Generating plots for topic 142 h-index=2, degree=7\n",
      "Generating plots for topic 145 h-index=2, degree=5\n",
      "Generating plots for topic 146 h-index=2, degree=5\n",
      "Generating plots for topic 148 h-index=2, degree=14\n",
      "Generating plots for topic 150 h-index=2, degree=31\n",
      "Generating plots for topic 151 h-index=2, degree=8\n",
      "Generating plots for topic 153 h-index=2, degree=8\n",
      "Generating plots for topic 155 h-index=2, degree=6\n",
      "Generating plots for topic 157 h-index=2, degree=4\n",
      "Generating plots for topic 161 h-index=2, degree=30\n",
      "Generating plots for topic 164 h-index=2, degree=5\n",
      "Generating plots for topic 165 h-index=2, degree=16\n",
      "Generating plots for topic 167 h-index=2, degree=6\n",
      "Generating plots for topic 171 h-index=2, degree=7\n",
      "Generating plots for topic 172 h-index=2, degree=4\n",
      "Generating plots for topic 173 h-index=2, degree=6\n",
      "Generating plots for topic 181 h-index=2, degree=6\n",
      "Generating plots for topic 182 h-index=2, degree=9\n",
      "Generating plots for topic 184 h-index=2, degree=9\n",
      "Generating plots for topic 186 h-index=2, degree=20\n",
      "Generating plots for topic 188 h-index=2, degree=32\n",
      "Generating plots for topic 189 h-index=2, degree=18\n",
      "Generating plots for topic 190 h-index=2, degree=8\n",
      "Generating plots for topic 198 h-index=2, degree=10\n",
      "Generating plots for topic 201 h-index=2, degree=13\n",
      "Generating plots for topic 211 h-index=2, degree=6\n",
      "Generating plots for topic 212 h-index=2, degree=38\n",
      "Generating plots for topic 216 h-index=2, degree=9\n",
      "Generating plots for topic 217 h-index=2, degree=8\n",
      "Generating plots for topic 220 h-index=2, degree=12\n",
      "Generating plots for topic 221 h-index=2, degree=7\n",
      "Generating plots for topic 222 h-index=2, degree=8\n",
      "Generating plots for topic 223 h-index=2, degree=9\n",
      "Generating plots for topic 224 h-index=2, degree=11\n",
      "Generating plots for topic 225 h-index=2, degree=4\n",
      "Generating plots for topic 231 h-index=2, degree=9\n",
      "Generating plots for topic 237 h-index=2, degree=6\n",
      "Generating plots for topic 238 h-index=2, degree=7\n",
      "Generating plots for topic 239 h-index=2, degree=6\n",
      "Generating plots for topic 241 h-index=2, degree=5\n",
      "Generating plots for topic 242 h-index=2, degree=5\n",
      "Generating plots for topic 245 h-index=2, degree=7\n",
      "Generating plots for topic 246 h-index=2, degree=70\n",
      "Generating plots for topic 247 h-index=2, degree=4\n",
      "Generating plots for topic 248 h-index=2, degree=4\n",
      "Generating plots for topic 252 h-index=2, degree=7\n",
      "Generating plots for topic 254 h-index=2, degree=4\n",
      "Generating plots for topic 257 h-index=2, degree=22\n",
      "Generating plots for topic 259 h-index=2, degree=8\n",
      "Generating plots for topic 261 h-index=2, degree=8\n",
      "Generating plots for topic 266 h-index=2, degree=37\n",
      "Generating plots for topic 268 h-index=2, degree=6\n",
      "Generating plots for topic 273 h-index=2, degree=8\n",
      "Generating plots for topic 279 h-index=2, degree=5\n",
      "Generating plots for topic 281 h-index=2, degree=4\n",
      "Generating plots for topic 283 h-index=2, degree=10\n",
      "Generating plots for topic 284 h-index=2, degree=7\n",
      "Generating plots for topic 286 h-index=2, degree=26\n",
      "Generating plots for topic 289 h-index=2, degree=12\n",
      "Generating plots for topic 291 h-index=2, degree=10\n",
      "Generating plots for topic 292 h-index=2, degree=14\n",
      "Generating plots for topic 297 h-index=2, degree=17\n",
      "Generating plots for topic 298 h-index=2, degree=5\n",
      "Generating plots for topic 299 h-index=2, degree=12\n",
      "Generating plots for topic 4 h-index=1, degree=34\n",
      "Generating plots for topic 14 h-index=1, degree=35\n",
      "Generating plots for topic 18 h-index=1, degree=41\n",
      "Generating plots for topic 24 h-index=1, degree=23\n",
      "Generating plots for topic 25 h-index=1, degree=16\n",
      "Generating plots for topic 30 h-index=1, degree=2\n",
      "Generating plots for topic 40 h-index=1, degree=9\n",
      "Generating plots for topic 41 h-index=1, degree=66\n",
      "Generating plots for topic 42 h-index=1, degree=2\n",
      "Generating plots for topic 50 h-index=1, degree=62\n",
      "Generating plots for topic 108 h-index=1, degree=1\n",
      "Generating plots for topic 109 h-index=1, degree=83\n",
      "Generating plots for topic 123 h-index=1, degree=10\n",
      "Generating plots for topic 127 h-index=1, degree=5\n",
      "Generating plots for topic 128 h-index=1, degree=4\n",
      "Generating plots for topic 135 h-index=1, degree=4\n",
      "Generating plots for topic 137 h-index=1, degree=39\n",
      "Generating plots for topic 138 h-index=1, degree=2\n",
      "Generating plots for topic 143 h-index=1, degree=44\n",
      "Generating plots for topic 144 h-index=1, degree=50\n",
      "Generating plots for topic 149 h-index=1, degree=4\n",
      "Generating plots for topic 159 h-index=1, degree=26\n",
      "Generating plots for topic 180 h-index=1, degree=2\n",
      "Generating plots for topic 185 h-index=1, degree=7\n",
      "Generating plots for topic 197 h-index=1, degree=15\n",
      "Generating plots for topic 202 h-index=1, degree=107\n",
      "Generating plots for topic 203 h-index=1, degree=9\n",
      "Generating plots for topic 213 h-index=1, degree=5\n",
      "Generating plots for topic 218 h-index=1, degree=7\n",
      "Generating plots for topic 219 h-index=1, degree=97\n",
      "Generating plots for topic 226 h-index=1, degree=20\n",
      "Generating plots for topic 244 h-index=1, degree=238\n",
      "Generating plots for topic 267 h-index=1, degree=94\n",
      "Generating plots for topic 271 h-index=1, degree=72\n",
      "Generating plots for topic 275 h-index=1, degree=1\n",
      "Generating plots for topic 277 h-index=1, degree=7\n",
      "Generating plots for topic 278 h-index=1, degree=2\n",
      "Generating plots for topic 287 h-index=1, degree=52\n",
      "Generating plots for topic 288 h-index=1, degree=23\n",
      "Generating plots for topic 296 h-index=1, degree=1\n",
      "Using visualisation script defined in /LDAvis.js\n",
      "\n",
      "Note: if you're in the IPython notebook, pyLDAvis.show() is not the best command\n",
      "      to use. Consider using pyLDAvis.display(), or pyLDAvis.enable_notebook().\n",
      "      See more information at http://pyLDAvis.github.io/quickstart.html .\n",
      "\n",
      "You must interrupt the kernel to end this command\n",
      "\n",
      "Serving to http://127.0.0.1:8889/    [Ctrl-C to exit]\n"
     ]
    },
    {
     "name": "stderr",
     "output_type": "stream",
     "text": [
      "127.0.0.1 - - [05/Oct/2015 02:09:16] \"GET / HTTP/1.1\" 200 -\n",
      "127.0.0.1 - - [05/Oct/2015 02:09:16] \"GET /LDAvis.css HTTP/1.1\" 200 -\n",
      "127.0.0.1 - - [05/Oct/2015 02:09:16] \"GET /d3.js HTTP/1.1\" 200 -\n",
      "127.0.0.1 - - [05/Oct/2015 02:09:16] \"GET /LDAvis.js HTTP/1.1\" 200 -\n",
      "127.0.0.1 - - [05/Oct/2015 02:09:16] \"GET /images/graph_example.jpg HTTP/1.1\" 200 -\n",
      "127.0.0.1 - - [05/Oct/2015 02:09:16] \"GET /images/default_logo.png HTTP/1.1\" 200 -\n",
      "127.0.0.1 - - [05/Oct/2015 02:09:18] \"GET /topic?circle_id=ldavis_el17953139836431633272829522518-topic241&action=load HTTP/1.1\" 200 -\n",
      "127.0.0.1 - - [05/Oct/2015 02:09:19] \"GET /topic?circle_id=ldavis_el17953139836431633272829522518-topic241&action=set HTTP/1.1\" 200 -\n",
      "127.0.0.1 - - [05/Oct/2015 02:09:21] \"GET /topic?circle_id=ldavis_el17953139836431633272829522518-topic241&action=load HTTP/1.1\" 200 -\n"
     ]
    }
   ],
   "source": [
    "ms2lda.plot_lda_fragments(consistency=consistency, interactive=interactive, to_highlight=special_nodes)"
   ]
  },
  {
   "cell_type": "code",
   "execution_count": null,
   "metadata": {
    "collapsed": true
   },
   "outputs": [],
   "source": []
  }
 ],
 "metadata": {
  "kernelspec": {
   "display_name": "Python 2",
   "language": "python",
   "name": "python2"
  },
  "language_info": {
   "codemirror_mode": {
    "name": "ipython",
    "version": 2
   },
   "file_extension": ".py",
   "mimetype": "text/x-python",
   "name": "python",
   "nbconvert_exporter": "python",
   "pygments_lexer": "ipython2",
   "version": "2.7.10"
  }
 },
 "nbformat": 4,
 "nbformat_minor": 0
}
