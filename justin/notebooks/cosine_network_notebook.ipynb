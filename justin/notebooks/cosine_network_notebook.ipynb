{
 "cells": [
  {
   "cell_type": "code",
   "execution_count": 2,
   "metadata": {
    "collapsed": true
   },
   "outputs": [],
   "source": [
    "import pandas as pd\n",
    "import numpy as np\n",
    "import pylab as plt\n",
    "%matplotlib inline"
   ]
  },
  {
   "cell_type": "code",
   "execution_count": 3,
   "metadata": {
    "collapsed": false
   },
   "outputs": [],
   "source": [
    "# fragment_file = '../input/Beer_3_T10_POS_fragments.csv'\n",
    "fragment_file = '/Users/simon/Downloads/Beer_3_full1_5_2E5_pos_fragments.csv'\n",
    "data = pd.DataFrame.from_csv(fragment_file)"
   ]
  },
  {
   "cell_type": "code",
   "execution_count": 4,
   "metadata": {
    "collapsed": false
   },
   "outputs": [],
   "source": [
    "data = data.fillna(0)\n",
    "data_array = np.array(data)\n",
    "peak_names = list(data.columns.values)"
   ]
  },
  {
   "cell_type": "code",
   "execution_count": 5,
   "metadata": {
    "collapsed": false
   },
   "outputs": [],
   "source": [
    "l = np.sqrt((data_array**2).sum(axis=0))\n",
    "norm_data = np.divide(data_array,l)"
   ]
  },
  {
   "cell_type": "code",
   "execution_count": 6,
   "metadata": {
    "collapsed": false
   },
   "outputs": [],
   "source": [
    "import scipy.spatial.distance as distance\n",
    "import scipy.cluster.hierarchy as hierarchy"
   ]
  },
  {
   "cell_type": "markdown",
   "metadata": {},
   "source": [
    "<p>Following cell does Scipy hierarchical clustering</p>"
   ]
  },
  {
   "cell_type": "code",
   "execution_count": 106,
   "metadata": {
    "collapsed": false
   },
   "outputs": [
    {
     "name": "stdout",
     "output_type": "stream",
     "text": [
      "Found 537 clusters\n"
     ]
    }
   ],
   "source": [
    "clustering = hierarchy.fclusterdata(norm_data.transpose(),0.8,criterion = 'distance',metric='euclidean',method='single')\n",
    "print \"Found {} clusters\".format(np.max(clustering))"
   ]
  },
  {
   "cell_type": "markdown",
   "metadata": {},
   "source": [
    "<p>Greedy cosine clustering</p>"
   ]
  },
  {
   "cell_type": "code",
   "execution_count": 37,
   "metadata": {
    "collapsed": false
   },
   "outputs": [],
   "source": [
    "cosine_sim = np.dot(norm_data.transpose(),norm_data)\n",
    "finished = False\n",
    "total_intensity = data_array.sum(axis=0)\n",
    "total_intensity = total_intensity\n",
    "n_features,n_parents = data_array.shape\n",
    "clustering = np.zeros((n_parents,),np.int)\n",
    "current_cluster = 1\n",
    "thresh = 0.7\n",
    "while not finished:\n",
    "#     Find the cluster with the max intensity left\n",
    "    current = np.argmax(total_intensity)\n",
    "    total_intensity[current] = 0.0\n",
    "    count += 1\n",
    "    clustering[current] = current_cluster\n",
    "    friends = np.where((cosine_sim[current,:]>thresh) * (total_intensity > 0.0))[0]\n",
    "    clustering[friends] = current_cluster\n",
    "    total_intensity[friends] = 0.0\n",
    "    left = np.where(total_intensity > 0.0)[0]\n",
    "    if len(left) == 0:\n",
    "        finished = True\n",
    "    current_cluster += 1"
   ]
  },
  {
   "cell_type": "code",
   "execution_count": 38,
   "metadata": {
    "collapsed": false
   },
   "outputs": [],
   "source": [
    "import networkx as nx\n",
    "from networkx.algorithms import bipartite"
   ]
  },
  {
   "cell_type": "code",
   "execution_count": 84,
   "metadata": {
    "collapsed": false
   },
   "outputs": [],
   "source": [
    "min_size_to_plot = 4\n",
    "node_no = 0\n",
    "G = nx.Graph()\n",
    "uc = np.unique(clustering)\n",
    "cluster_nodes = {}\n",
    "singleton_clusters = []\n",
    "for cluster in uc:\n",
    "    members = np.where(clustering == cluster)[0]\n",
    "    if len(members) < min_size_to_plot:\n",
    "        singleton_clusters.append(cluster)\n",
    "        continue\n",
    "    cluster_nodes[cluster] = node_no\n",
    "    G.add_node(node_no,bipartite=0)\n",
    "    node_no += 1\n",
    "\n",
    "peak_nodes = {}\n",
    "for i,name in enumerate(peak_names):\n",
    "    this_cluster = clustering[i]\n",
    "    if this_cluster in cluster_nodes:\n",
    "        peak_nodes[name] = node_no\n",
    "        G.add_node(node_no,bipartite=1)\n",
    "        G.add_edge(node_no,cluster_nodes[clustering[i]])\n",
    "        node_no += 1\n",
    "\n"
   ]
  },
  {
   "cell_type": "code",
   "execution_count": 85,
   "metadata": {
    "collapsed": false
   },
   "outputs": [],
   "source": [
    "C,P = bipartite.sets(G)\n",
    "n_clusters = len(C)\n",
    "n_rows = np.ceil(np.sqrt(n_clusters))\n",
    "pos = {}\n",
    "current_row = 0\n",
    "current_col = 0\n",
    "cstep = 2.0\n",
    "for c in C:\n",
    "    n_list = G.neighbors(c)\n",
    "    pos[c] = [cstep*current_row,cstep*current_col]\n",
    "#     find neighbours\n",
    "    step = 2*np.pi/len(n_list)\n",
    "    angle = 0.0\n",
    "    for n in n_list:\n",
    "        x_pos = 0.75*np.sin(angle)\n",
    "        y_pos = 0.75*np.cos(angle)\n",
    "        pos[n] = [pos[c][0]+x_pos,pos[c][1]+y_pos]\n",
    "        angle += step\n",
    "    current_col += 1\n",
    "    if current_col >= n_rows:\n",
    "        current_col = 0\n",
    "        current_row += 1\n",
    "    "
   ]
  },
  {
   "cell_type": "code",
   "execution_count": 98,
   "metadata": {
    "collapsed": true
   },
   "outputs": [],
   "source": [
    "def draw_network(G,pos,C,P,interest_nodes,output_name,title):\n",
    "    nx.draw_networkx_edges(G,pos,width=0.2)\n",
    "    nx.draw_networkx_nodes(G,pos,nodelist=C,node_size = 1,node_color = 'g',linewidths=0.1)\n",
    "    nx.draw_networkx_nodes(G,pos,nodelist=P,node_size = 0.5,node_color = 'b',linewidths=0.1)\n",
    "    nx.draw_networkx_nodes(G,pos,nodelist=interest_nodes,node_size=2,node_color='r',linewidths=0.1)\n",
    "    plt.title(title)\n",
    "    plt.axis('off')\n",
    "    plt.savefig(output_name)"
   ]
  },
  {
   "cell_type": "code",
   "execution_count": 99,
   "metadata": {
    "collapsed": false
   },
   "outputs": [
    {
     "data": {
      "image/png": "[encoded data removed]",
      "text/plain": [
       "<matplotlib.figure.Figure at 0x11b761310>"
      ]
     },
     "metadata": {},
     "output_type": "display_data"
    }
   ],
   "source": [
    "ions_of_interest_121 = ['235.11886_398.577_9934',\n",
    "'235.11867_414.273_9908',\n",
    "'235.10771_409.09_9882',\n",
    "'553.30972_304.981_21426',\n",
    "'310.21252_240.354_16139',\n",
    "'277.1474_435.83_13480',\n",
    "'277.15852_427.098_13504',\n",
    "'156.07679_752.304_3316',\n",
    "'251.14993_409.09_11259',\n",
    "'156.07677_621.074_3303',\n",
    "'198.08729_481.308_6733',\n",
    "'110.07129_621.074_324',\n",
    "'362.21659_503.147_18445',\n",
    "'198.11249_458.36_6829',\n",
    "'364.16145_465.819_18641',\n",
    "'364.1613_428.341_18634',\n",
    "'195.08761_510.903_6406',\n",
    "'480.18217_599.71_20955',\n",
    "'522.2161_463.346_21244',\n",
    "'522.21623_469.707_21247'\n",
    "]\n",
    "interest_nodes = [n for i,n in peak_nodes.items() if i in ions_of_interest_121]\n",
    "draw_network(G,pos,C,P,interest_nodes,'euclidean_121.pdf','topic 121')"
   ]
  },
  {
   "cell_type": "code",
   "execution_count": 100,
   "metadata": {
    "collapsed": false
   },
   "outputs": [
    {
     "data": {
      "image/png": "[encoded data removed]",
      "text/plain": [
       "<matplotlib.figure.Figure at 0x111080fd0>"
      ]
     },
     "metadata": {},
     "output_type": "display_data"
    }
   ],
   "source": [
    "ions_of_interest_3 = ['314.15894_851.554_16340',\n",
    "'513.18921_208.313_21149',\n",
    "'666.51234_218.245_21676',\n",
    "'666.5124_225.864_21683',\n",
    "'538.28021_240.354_21342',\n",
    "'232.06382_549.717_9778',\n",
    "'328.17553_652.517_16968',\n",
    "'121.06484_448.381_818',\n",
    "'121.06482_459.598_809',\n",
    "'121.06478_199.485_784',\n",
    "'390.21183_469.707_19966',\n",
    "'246.07926_409.09_10848',\n",
    "'246.07935_398.577_10863',\n",
    "'314.15956_409.09_16346',\n",
    "'152.12813_395.725_3095',\n",
    "'138.09137_459.598_2061',\n",
    "'138.04915_482.766_1990',\n",
    "'138.04296_484.002_1973',\n",
    "'152.0376_389.139_2963',\n",
    "'180.13823_1067.42_5365',\n",
    "'152.10695_198.223_3045',\n",
    "'152.10698_260.221_3062',\n",
    "'300.14413_595.985_15468',\n",
    "'166.1226_692.788_4241',\n",
    "'121.06478_699.082_792',\n",
    "'121.06479_260.221_799',\n",
    "'246.13339_410.326_10880',\n",
    "'471.23791_207.077_20922',\n",
    "'318.15479_432.107_16447',\n",
    "'404.20663_240.354_20189',\n",
    "'314.13861_269.685_16325',\n",
    "'166.12265_282.677_4258',\n",
    "'166.08626_290.373_4191',\n",
    "'152.07054_491.622_3029',\n",
    "'166.08628_377.302_4202',\n",
    "'166.04983_421.989_4119',\n",
    "'180.10186_355.669_5307']\n",
    "interest_nodes = [n for i,n in peak_nodes.items() if i in ions_of_interest_3]\n",
    "draw_network(G,pos,C,P,interest_nodes,'euclidean_3.pdf','topic 3')"
   ]
  },
  {
   "cell_type": "code",
   "execution_count": 101,
   "metadata": {
    "collapsed": false
   },
   "outputs": [
    {
     "data": {
      "image/png": "[encoded data removed]",
      "text/plain": [
       "<matplotlib.figure.Figure at 0x111280f50>"
      ]
     },
     "metadata": {},
     "output_type": "display_data"
    }
   ],
   "source": [
    "ions_of_interest_240 = ['414.19697_313.227_20264',\n",
    "'1026.3715_663.894_21884',\n",
    "'1008.361_689.007_21858',\n",
    "'991.33379_689.007_21848',\n",
    "'432.20761_514.793_20469',\n",
    "'279.15477_366.931_13715',\n",
    "'279.15486_379.781_13721',\n",
    "'1009.34458_661.235_21873',\n",
    "'846.30793_686.519_21828',\n",
    "'434.18699_648.791_20506',\n",
    "'486.18187_520.976_20980',\n",
    "'525.21116_666.373_21250',\n",
    "'580.20871_656.24_21497',\n",
    "'684.25548_677.736_21758',\n",
    "'829.28121_676.494_21818',\n",
    "'829.28091_685.234_21808',\n",
    "'342.13953_542.28_17366',\n",
    "'342.13951_553.527_17356',\n",
    "'388.18119_514.793_19928',\n",
    "'522.2028_670.092_21213',\n",
    "'522.20268_659.996_21182',\n",
    "'667.22894_676.494_21709',\n",
    "'667.2285_666.373_21690',\n",
    "'360.14987_655.001_18389',\n",
    "'649.21868_677.736_21623',\n",
    "'342.13944_670.092_17345',\n",
    "'505.1764_661.235_21097',\n",
    "'603.15348_657.516_21552',\n",
    "'270.11823_554.77_12793',\n",
    "'371.1549_514.793_19276',\n",
    "'487.16565_661.235_20989',\n",
    "'198.0972_696.582_6750',\n",
    "'397.17058_314.478_20080',\n",
    "'325.11294_514.793_16684',\n",
    "'270.15453_478.834_12801',\n",
    "'270.15454_467.234_12831',\n",
    "'270.09467_465.819_12761',\n",
    "'242.12327_552.287_10533',\n",
    "'414.19662_411.615_20250',\n",
    "'388.14759_489.128_19917',\n",
    "'180.08662_562.308_5249']\n",
    "interest_nodes = [n for i,n in peak_nodes.items() if i in ions_of_interest_240]\n",
    "draw_network(G,pos,C,P,interest_nodes,'euclidean_240.pdf','topic 240')"
   ]
  },
  {
   "cell_type": "code",
   "execution_count": null,
   "metadata": {
    "collapsed": false
   },
   "outputs": [],
   "source": []
  },
  {
   "cell_type": "code",
   "execution_count": null,
   "metadata": {
    "collapsed": false
   },
   "outputs": [],
   "source": []
  },
  {
   "cell_type": "code",
   "execution_count": null,
   "metadata": {
    "collapsed": true
   },
   "outputs": [],
   "source": []
  }
 ],
 "metadata": {
  "kernelspec": {
   "display_name": "Python 2",
   "language": "python",
   "name": "python2"
  },
  "language_info": {
   "codemirror_mode": {
    "name": "ipython",
    "version": 2
   },
   "file_extension": ".py",
   "mimetype": "text/x-python",
   "name": "python",
   "nbconvert_exporter": "python",
   "pygments_lexer": "ipython2",
   "version": "2.7.6"
  }
 },
 "nbformat": 4,
 "nbformat_minor": 0
}
