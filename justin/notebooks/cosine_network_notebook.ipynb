{
 "cells": [
  {
   "cell_type": "code",
   "execution_count": 1,
   "metadata": {
    "collapsed": true
   },
   "outputs": [],
   "source": [
    "import pandas as pd\n",
    "import numpy as np\n",
    "import pylab as plt\n",
    "%matplotlib inline"
   ]
  },
  {
   "cell_type": "code",
   "execution_count": 71,
   "metadata": {
    "collapsed": false
   },
   "outputs": [],
   "source": [
    "# fragment_file = '../input/Beer_3_T10_POS_fragments.csv'\n",
    "fragment_file = '/Users/simon/Downloads/Beer_3_full1_pos_fragments.csv'\n",
    "data = pd.DataFrame.from_csv(fragment_file)"
   ]
  },
  {
   "cell_type": "code",
   "execution_count": 72,
   "metadata": {
    "collapsed": false
   },
   "outputs": [],
   "source": [
    "data = data.fillna(0)\n",
    "data_array = np.array(data)\n",
    "peak_names = list(data.columns.values)"
   ]
  },
  {
   "cell_type": "code",
   "execution_count": 73,
   "metadata": {
    "collapsed": false
   },
   "outputs": [],
   "source": [
    "l = np.sqrt((data_array**2).sum(axis=0))\n",
    "norm_data = np.divide(data_array,l)"
   ]
  },
  {
   "cell_type": "code",
   "execution_count": 74,
   "metadata": {
    "collapsed": false
   },
   "outputs": [],
   "source": [
    "import scipy.spatial.distance as distance\n",
    "import scipy.cluster.hierarchy"
   ]
  },
  {
   "cell_type": "code",
   "execution_count": 80,
   "metadata": {
    "collapsed": false
   },
   "outputs": [],
   "source": [
    "clustering = hierarchy.fclusterdata(norm_data.transpose(),1.0,metric='euclidean',method='single')"
   ]
  },
  {
   "cell_type": "code",
   "execution_count": 81,
   "metadata": {
    "collapsed": false
   },
   "outputs": [],
   "source": [
    "import networkx as nx"
   ]
  },
  {
   "cell_type": "code",
   "execution_count": 82,
   "metadata": {
    "collapsed": false
   },
   "outputs": [],
   "source": [
    "node_no = 0\n",
    "G = nx.Graph()\n",
    "uc = np.unique(clustering)\n",
    "cluster_nodes = {}\n",
    "for cluster in uc:\n",
    "    cluster_nodes[cluster] = node_no\n",
    "    G.add_node(node_no)\n",
    "    node_no += 1\n",
    "\n",
    "peak_nodes = {}\n",
    "for i,name in enumerate(peak_names):\n",
    "    this_cluster = clustering[i]\n",
    "    peak_nodes[name] = node_no\n",
    "    G.add_node(node_no)\n",
    "    G.add_edge(node_no,cluster_nodes[clustering[i]])\n",
    "    node_no += 1"
   ]
  },
  {
   "cell_type": "code",
   "execution_count": 139,
   "metadata": {
    "collapsed": false
   },
   "outputs": [],
   "source": [
    "pos = nx.spring_layout(G)"
   ]
  },
  {
   "cell_type": "code",
   "execution_count": 140,
   "metadata": {
    "collapsed": false
   },
   "outputs": [],
   "source": [
    "# ions_of_interest = ['235.11886_398.577_9934',\n",
    "# '235.11867_414.273_9908',\n",
    "# '235.10771_409.09_9882',\n",
    "# '553.30972_304.981_21426',\n",
    "# '310.21252_240.354_16139',\n",
    "# '277.1474_435.83_13480',\n",
    "# '277.15852_427.098_13504',\n",
    "# '156.07679_752.304_3316',\n",
    "# '251.14993_409.09_11259',\n",
    "# '156.07677_621.074_3303',\n",
    "# '198.08729_481.308_6733',\n",
    "# '110.07129_621.074_324',\n",
    "# '362.21659_503.147_18445',\n",
    "# '198.11249_458.36_6829',\n",
    "# '364.16145_465.819_18641',\n",
    "# '364.1613_428.341_18634',\n",
    "# '195.08761_510.903_6406',\n",
    "# '480.18217_599.71_20955',\n",
    "# '522.2161_463.346_21244',\n",
    "# '522.21623_469.707_21247'\n",
    "# ]\n",
    "ions_of_interest = [peak_names[0],peak_names[23],peak_names[25],peak_names[15],peak_names[156]]"
   ]
  },
  {
   "cell_type": "code",
   "execution_count": 141,
   "metadata": {
    "collapsed": false
   },
   "outputs": [],
   "source": [
    "interest_nodes = [i for n,i in peak_nodes.items() if n in ions_of_interest]\n",
    "clusters = []\n",
    "for i in interest_nodes:\n",
    "    clusters.append(G.neighbors(i)[0])\n",
    "\n",
    "all_in_clusters = []\n",
    "for c in clusters:\n",
    "    all_in_clusters += G.neighbors(c)\n",
    "draw_edges = G.edges(all_in_clusters)    "
   ]
  },
  {
   "cell_type": "code",
   "execution_count": 143,
   "metadata": {
    "collapsed": false
   },
   "outputs": [
    {
     "data": {
      "text/plain": [
       "<matplotlib.collections.LineCollection at 0x10ed97b10>"
      ]
     },
     "execution_count": 143,
     "metadata": {},
     "output_type": "execute_result"
    },
    {
     "data": {
      "image/png": "[encoded data removed]",
      "text/plain": [
       "<matplotlib.figure.Figure at 0x10ecdc290>"
      ]
     },
     "metadata": {},
     "output_type": "display_data"
    }
   ],
   "source": [
    "nx.draw_networkx_nodes(G,pos,nodelist=clusters,node_size = 5,node_color = 'r')\n",
    "nx.draw_networkx_nodes(G,pos,nodelist=all_in_clusters,node_size = 5,node_color = 'b')\n",
    "# nx.draw_networkx_nodes(G,pos,nodelist=non_interest_nodes,node_size = 5,node_color = 'b')\n",
    "nx.draw_networkx_nodes(G,pos,nodelist=interest_nodes,node_size=50,node_color='g')\n",
    "nx.draw_networkx_edges(G,pos,draw_edges)\n"
   ]
  },
  {
   "cell_type": "code",
   "execution_count": null,
   "metadata": {
    "collapsed": true
   },
   "outputs": [],
   "source": []
  }
 ],
 "metadata": {
  "kernelspec": {
   "display_name": "Python 2",
   "language": "python",
   "name": "python2"
  },
  "language_info": {
   "codemirror_mode": {
    "name": "ipython",
    "version": 2
   },
   "file_extension": ".py",
   "mimetype": "text/x-python",
   "name": "python",
   "nbconvert_exporter": "python",
   "pygments_lexer": "ipython2",
   "version": "2.7.6"
  }
 },
 "nbformat": 4,
 "nbformat_minor": 0
}
