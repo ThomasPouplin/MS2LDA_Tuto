{
 "cells": [
  {
   "cell_type": "code",
   "execution_count": 15,
   "metadata": {
    "collapsed": true
   },
   "outputs": [],
   "source": [
    "import pandas as pd\n",
    "import numpy as np\n",
    "import pylab as plt\n",
    "%matplotlib inline"
   ]
  },
  {
   "cell_type": "markdown",
   "metadata": {},
   "source": [
    "<p>Put fragment file path here...</p>"
   ]
  },
  {
   "cell_type": "code",
   "execution_count": 37,
   "metadata": {
    "collapsed": false
   },
   "outputs": [],
   "source": [
    "fragment_file = '../input/final/Beer_3_full1_5_2E5_pos_fragments.csv'\n",
    "loss_file = None\n",
    "# loss_file = '../input/final/Beer_3_full1_5_2E5_pos_losses.csv'\n",
    "data = pd.DataFrame.from_csv(fragment_file)\n",
    "if loss_file != None:\n",
    "    loss_data = pd.DataFrame.from_csv(loss_file)\n",
    "    data = pd.concat((data,loss_data),axis=0)"
   ]
  },
  {
   "cell_type": "markdown",
   "metadata": {},
   "source": [
    "<p>Swap the NaNs for zeros. Turn into a numpy array and grab the parent names</p>"
   ]
  },
  {
   "cell_type": "code",
   "execution_count": 38,
   "metadata": {
    "collapsed": false
   },
   "outputs": [],
   "source": [
    "data = data.fillna(0)\n",
    "data_array = np.array(data)\n",
    "peak_names = list(data.columns.values)"
   ]
  },
  {
   "cell_type": "markdown",
   "metadata": {},
   "source": [
    "<p>Create a matrix with the normalised values (each parent ion has magnitude 1)</p>"
   ]
  },
  {
   "cell_type": "code",
   "execution_count": 39,
   "metadata": {
    "collapsed": false
   },
   "outputs": [],
   "source": [
    "l = np.sqrt((data_array**2).sum(axis=0))\n",
    "norm_data = np.divide(data_array,l)"
   ]
  },
  {
   "cell_type": "code",
   "execution_count": 40,
   "metadata": {
    "collapsed": false
   },
   "outputs": [],
   "source": [
    "import scipy.spatial.distance as distance\n",
    "import scipy.cluster.hierarchy as hierarchy"
   ]
  },
  {
   "cell_type": "markdown",
   "metadata": {},
   "source": [
    "<p>Following cell does Scipy hierarchical clustering - either run this one, or the greedy version below</p>"
   ]
  },
  {
   "cell_type": "code",
   "execution_count": 41,
   "metadata": {
    "collapsed": false
   },
   "outputs": [
    {
     "name": "stdout",
     "output_type": "stream",
     "text": [
      "Found 537 clusters\n"
     ]
    }
   ],
   "source": [
    "clustering = hierarchy.fclusterdata(norm_data.transpose(),0.8,criterion = 'distance',metric='euclidean',method='single')\n",
    "print \"Found {} clusters\".format(np.max(clustering))"
   ]
  },
  {
   "cell_type": "markdown",
   "metadata": {},
   "source": [
    "<p>Following cell does Greedy cosine clustering</p>"
   ]
  },
  {
   "cell_type": "code",
   "execution_count": 42,
   "metadata": {
    "collapsed": false
   },
   "outputs": [],
   "source": [
    "cosine_sim = np.dot(norm_data.transpose(),norm_data)\n",
    "finished = False\n",
    "total_intensity = data_array.sum(axis=0)\n",
    "total_intensity = total_intensity\n",
    "n_features,n_parents = data_array.shape\n",
    "clustering = np.zeros((n_parents,),np.int)\n",
    "current_cluster = 1\n",
    "thresh = 0.7\n",
    "count = 0\n",
    "while not finished:\n",
    "#     Find the parent with the max intensity left\n",
    "    current = np.argmax(total_intensity)\n",
    "    total_intensity[current] = 0.0\n",
    "    count += 1\n",
    "    clustering[current] = current_cluster\n",
    "#     Find other parents with cosine similarity over the threshold\n",
    "    friends = np.where((cosine_sim[current,:]>thresh) * (total_intensity > 0.0))[0]\n",
    "    clustering[friends] = current_cluster\n",
    "    total_intensity[friends] = 0.0\n",
    "#     When points are clustered, their total_intensity is set zto zero. If there is nothing left with zero, quit\n",
    "    left = np.where(total_intensity > 0.0)[0]\n",
    "    if len(left) == 0:\n",
    "        finished = True\n",
    "    current_cluster += 1"
   ]
  },
  {
   "cell_type": "code",
   "execution_count": 43,
   "metadata": {
    "collapsed": false
   },
   "outputs": [],
   "source": [
    "import networkx as nx\n",
    "from networkx.algorithms import bipartite"
   ]
  },
  {
   "cell_type": "markdown",
   "metadata": {},
   "source": [
    "<p>create the networkx graph object. Note that clusters with fewer than min_size_to_plot members are not plotted</p>"
   ]
  },
  {
   "cell_type": "code",
   "execution_count": 30,
   "metadata": {
    "collapsed": false
   },
   "outputs": [],
   "source": [
    "min_size_to_plot = 3\n",
    "node_no = 0\n",
    "G = nx.Graph()\n",
    "uc = np.unique(clustering)\n",
    "cluster_nodes = {}\n",
    "singleton_clusters = []\n",
    "for cluster in uc:\n",
    "    members = np.where(clustering == cluster)[0]\n",
    "    if len(members) < min_size_to_plot:\n",
    "        singleton_clusters.append(cluster)\n",
    "        continue\n",
    "    cluster_nodes[cluster] = node_no\n",
    "    G.add_node(node_no,bipartite=0)\n",
    "    node_no += 1\n",
    "\n",
    "peak_nodes = {}\n",
    "for i,name in enumerate(peak_names):\n",
    "    this_cluster = clustering[i]\n",
    "    if this_cluster in cluster_nodes:\n",
    "        peak_nodes[name] = node_no\n",
    "        G.add_node(node_no,bipartite=1)\n",
    "        G.add_edge(node_no,cluster_nodes[clustering[i]])\n",
    "        node_no += 1\n",
    "\n"
   ]
  },
  {
   "cell_type": "markdown",
   "metadata": {},
   "source": [
    "<p>Position the clusters in a grid, and their members in circle coming out from the cluster. cstep determines the distance between grid points. If you want cluster members closer to the cluster centers, change the 0.75 in the x_pos and y_pos lines</p>"
   ]
  },
  {
   "cell_type": "code",
   "execution_count": 31,
   "metadata": {
    "collapsed": false
   },
   "outputs": [],
   "source": [
    "C,P = bipartite.sets(G)\n",
    "n_clusters = len(C)\n",
    "n_rows = np.ceil(np.sqrt(n_clusters))\n",
    "pos = {}\n",
    "current_row = 0\n",
    "current_col = 0\n",
    "cstep = 2.0\n",
    "for c in C:\n",
    "    n_list = G.neighbors(c)\n",
    "    pos[c] = [cstep*current_row,cstep*current_col]\n",
    "#     find neighbours\n",
    "    step = 2*np.pi/len(n_list)\n",
    "    angle = 0.0\n",
    "    for n in n_list:\n",
    "        x_pos = 0.75*np.sin(angle)\n",
    "        y_pos = 0.75*np.cos(angle)\n",
    "        pos[n] = [pos[c][0]+x_pos,pos[c][1]+y_pos]\n",
    "        angle += step\n",
    "    current_col += 1\n",
    "    if current_col >= n_rows:\n",
    "        current_col = 0\n",
    "        current_row += 1\n",
    "    "
   ]
  },
  {
   "cell_type": "markdown",
   "metadata": {},
   "source": [
    "<p>A function for drawing the network - pass it a graph object, a dictionary of node positions, the two sets of nodes (clusters and parents), and a list of the node ids for any parent ions of interest</p>"
   ]
  },
  {
   "cell_type": "code",
   "execution_count": 32,
   "metadata": {
    "collapsed": true
   },
   "outputs": [],
   "source": [
    "def draw_network(G,pos,C,P,interest_nodes,output_name,title):\n",
    "    nx.draw_networkx_edges(G,pos,width=0.2)\n",
    "    nx.draw_networkx_nodes(G,pos,nodelist=C,node_size = 1,node_color = 'g',linewidths=0.1)\n",
    "    nx.draw_networkx_nodes(G,pos,nodelist=P,node_size = 0.5,node_color = 'b',linewidths=0.1)\n",
    "    nx.draw_networkx_nodes(G,pos,nodelist=interest_nodes,node_size=2,node_color='r',linewidths=0.1)\n",
    "    plt.title(title)\n",
    "    plt.axis('off')\n",
    "    plt.savefig(output_name)"
   ]
  },
  {
   "cell_type": "code",
   "execution_count": 74,
   "metadata": {
    "collapsed": false
   },
   "outputs": [],
   "source": [
    "def disp_clusters(clustering,ions_of_interest,peak_names):\n",
    "    peak_clusters = {}\n",
    "    for i in ions_of_interest:\n",
    "        pos = [j for j,n in enumerate(peak_names) if n == i][0]\n",
    "        peak_clusters[i] = clustering[pos]\n",
    "\n",
    "    import operator\n",
    "    sorted_dict = sorted(peak_clusters.items(),key = operator.itemgetter(1))\n",
    "    \n",
    "    print \"Parents sorted by cluster:\"\n",
    "    for i in sorted_dict:\n",
    "        print i\n",
    "    "
   ]
  },
  {
   "cell_type": "markdown",
   "metadata": {},
   "source": [
    "<p>Plot the networks for topics 3, 121 and 240 as per email from Justin</p>"
   ]
  },
  {
   "cell_type": "code",
   "execution_count": 75,
   "metadata": {
    "collapsed": false
   },
   "outputs": [
    {
     "name": "stdout",
     "output_type": "stream",
     "text": [
      "Parents sorted by cluster:\n",
      "('195.08761_510.903_6406', 99)\n",
      "('235.11886_398.577_9934', 225)\n",
      "('235.11867_414.273_9908', 225)\n",
      "('235.10771_409.09_9882', 225)\n",
      "('364.1613_428.341_18634', 253)\n",
      "('310.21252_240.354_16139', 259)\n",
      "('198.11249_458.36_6829', 259)\n",
      "('198.08729_481.308_6733', 259)\n",
      "('553.30972_304.981_21426', 259)\n",
      "('156.07679_752.304_3316', 259)\n",
      "('156.07677_621.074_3303', 259)\n",
      "('277.15852_427.098_13504', 259)\n",
      "('251.14993_409.09_11259', 259)\n",
      "('277.1474_435.83_13480', 259)\n",
      "('480.18217_599.71_20955', 267)\n",
      "('110.07129_621.074_324', 300)\n",
      "('364.16145_465.819_18641', 379)\n",
      "('362.21659_503.147_18445', 510)\n",
      "('522.2161_463.346_21244', 676)\n",
      "('522.21623_469.707_21247', 676)\n"
     ]
    },
    {
     "data": {
      "image/png": "[encoded data removed]",
      "text/plain": [
       "<matplotlib.figure.Figure at 0x1063fc0d0>"
      ]
     },
     "metadata": {},
     "output_type": "display_data"
    }
   ],
   "source": [
    "ions_of_interest_121 = ['235.11886_398.577_9934',\n",
    "'235.11867_414.273_9908',\n",
    "'235.10771_409.09_9882',\n",
    "'553.30972_304.981_21426',\n",
    "'310.21252_240.354_16139',\n",
    "'277.1474_435.83_13480',\n",
    "'277.15852_427.098_13504',\n",
    "'156.07679_752.304_3316',\n",
    "'251.14993_409.09_11259',\n",
    "'156.07677_621.074_3303',\n",
    "'198.08729_481.308_6733',\n",
    "'110.07129_621.074_324',\n",
    "'362.21659_503.147_18445',\n",
    "'198.11249_458.36_6829',\n",
    "'364.16145_465.819_18641',\n",
    "'364.1613_428.341_18634',\n",
    "'195.08761_510.903_6406',\n",
    "'480.18217_599.71_20955',\n",
    "'522.2161_463.346_21244',\n",
    "'522.21623_469.707_21247'\n",
    "]\n",
    "interest_nodes = [n for i,n in peak_nodes.items() if i in ions_of_interest_121]\n",
    "draw_network(G,pos,C,P,interest_nodes,'euclidean_121.pdf','topic 121')\n",
    "disp_clusters(clustering,ions_of_interest_121,peak_names)"
   ]
  },
  {
   "cell_type": "code",
   "execution_count": 76,
   "metadata": {
    "collapsed": false
   },
   "outputs": [
    {
     "name": "stdout",
     "output_type": "stream",
     "text": [
      "Parents sorted by cluster:\n",
      "('152.07054_491.622_3029', 101)\n",
      "('246.07935_398.577_10863', 187)\n",
      "('300.14413_595.985_15468', 187)\n",
      "('152.12813_395.725_3095', 187)\n",
      "('246.07926_409.09_10848', 187)\n",
      "('166.08626_290.373_4191', 187)\n",
      "('166.12265_282.677_4258', 187)\n",
      "('246.13339_410.326_10880', 187)\n",
      "('152.10698_260.221_3062', 187)\n",
      "('166.1226_692.788_4241', 187)\n",
      "('328.17553_652.517_16968', 187)\n",
      "('152.10695_198.223_3045', 187)\n",
      "('232.06382_549.717_9778', 203)\n",
      "('314.15956_409.09_16346', 203)\n",
      "('138.09137_459.598_2061', 203)\n",
      "('180.10186_355.669_5307', 205)\n",
      "('471.23791_207.077_20922', 230)\n",
      "('513.18921_208.313_21149', 301)\n",
      "('314.15894_851.554_16340', 301)\n",
      "('121.06479_260.221_799', 301)\n",
      "('121.06478_199.485_784', 301)\n",
      "('121.06482_459.598_809', 301)\n",
      "('152.0376_389.139_2963', 301)\n",
      "('121.06484_448.381_818', 301)\n",
      "('121.06478_699.082_792', 301)\n",
      "('180.13823_1067.42_5365', 301)\n",
      "('314.13861_269.685_16325', 364)\n",
      "('166.04983_421.989_4119', 375)\n",
      "('404.20663_240.354_20189', 427)\n",
      "('138.04915_482.766_1990', 432)\n",
      "('138.04296_484.002_1973', 432)\n",
      "('166.08628_377.302_4202', 463)\n",
      "('318.15479_432.107_16447', 520)\n",
      "('666.5124_225.864_21683', 577)\n",
      "('390.21183_469.707_19966', 577)\n",
      "('666.51234_218.245_21676', 577)\n",
      "('538.28021_240.354_21342', 577)\n"
     ]
    },
    {
     "data": {
      "image/png": "[encoded data removed]",
      "text/plain": [
       "<matplotlib.figure.Figure at 0x1021d5bd0>"
      ]
     },
     "metadata": {},
     "output_type": "display_data"
    }
   ],
   "source": [
    "ions_of_interest_3 = ['314.15894_851.554_16340',\n",
    "'513.18921_208.313_21149',\n",
    "'666.51234_218.245_21676',\n",
    "'666.5124_225.864_21683',\n",
    "'538.28021_240.354_21342',\n",
    "'232.06382_549.717_9778',\n",
    "'328.17553_652.517_16968',\n",
    "'121.06484_448.381_818',\n",
    "'121.06482_459.598_809',\n",
    "'121.06478_199.485_784',\n",
    "'390.21183_469.707_19966',\n",
    "'246.07926_409.09_10848',\n",
    "'246.07935_398.577_10863',\n",
    "'314.15956_409.09_16346',\n",
    "'152.12813_395.725_3095',\n",
    "'138.09137_459.598_2061',\n",
    "'138.04915_482.766_1990',\n",
    "'138.04296_484.002_1973',\n",
    "'152.0376_389.139_2963',\n",
    "'180.13823_1067.42_5365',\n",
    "'152.10695_198.223_3045',\n",
    "'152.10698_260.221_3062',\n",
    "'300.14413_595.985_15468',\n",
    "'166.1226_692.788_4241',\n",
    "'121.06478_699.082_792',\n",
    "'121.06479_260.221_799',\n",
    "'246.13339_410.326_10880',\n",
    "'471.23791_207.077_20922',\n",
    "'318.15479_432.107_16447',\n",
    "'404.20663_240.354_20189',\n",
    "'314.13861_269.685_16325',\n",
    "'166.12265_282.677_4258',\n",
    "'166.08626_290.373_4191',\n",
    "'152.07054_491.622_3029',\n",
    "'166.08628_377.302_4202',\n",
    "'166.04983_421.989_4119',\n",
    "'180.10186_355.669_5307']\n",
    "interest_nodes = [n for i,n in peak_nodes.items() if i in ions_of_interest_3]\n",
    "draw_network(G,pos,C,P,interest_nodes,'euclidean_3.pdf','topic 3')\n",
    "disp_clusters(clustering,ions_of_interest_3,peak_names)"
   ]
  },
  {
   "cell_type": "code",
   "execution_count": 77,
   "metadata": {
    "collapsed": false
   },
   "outputs": [
    {
     "name": "stdout",
     "output_type": "stream",
     "text": [
      "Parents sorted by cluster:\n",
      "('414.19697_313.227_20264', 52)\n",
      "('414.19662_411.615_20250', 85)\n",
      "('397.17058_314.478_20080', 85)\n",
      "('829.28121_676.494_21818', 100)\n",
      "('603.15348_657.516_21552', 100)\n",
      "('371.1549_514.793_19276', 100)\n",
      "('580.20871_656.24_21497', 100)\n",
      "('684.25548_677.736_21758', 100)\n",
      "('846.30793_686.519_21828', 100)\n",
      "('487.16565_661.235_20989', 100)\n",
      "('649.21868_677.736_21623', 100)\n",
      "('991.33379_689.007_21848', 100)\n",
      "('1009.34458_661.235_21873', 100)\n",
      "('667.22894_676.494_21709', 100)\n",
      "('505.1764_661.235_21097', 100)\n",
      "('522.20268_659.996_21182', 100)\n",
      "('667.2285_666.373_21690', 100)\n",
      "('829.28091_685.234_21808', 100)\n",
      "('360.14987_655.001_18389', 100)\n",
      "('388.18119_514.793_19928', 100)\n",
      "('342.13944_670.092_17345', 100)\n",
      "('1026.3715_663.894_21884', 100)\n",
      "('1008.361_689.007_21858', 100)\n",
      "('522.2028_670.092_21213', 100)\n",
      "('242.12327_552.287_10533', 156)\n",
      "('486.18187_520.976_20980', 164)\n",
      "('342.13951_553.527_17356', 164)\n",
      "('342.13953_542.28_17366', 164)\n",
      "('525.21116_666.373_21250', 191)\n",
      "('270.15453_478.834_12801', 198)\n",
      "('270.09467_465.819_12761', 198)\n",
      "('325.11294_514.793_16684', 198)\n",
      "('270.15454_467.234_12831', 198)\n",
      "('432.20761_514.793_20469', 200)\n",
      "('270.11823_554.77_12793', 200)\n",
      "('180.08662_562.308_5249', 214)\n",
      "('434.18699_648.791_20506', 326)\n",
      "('279.15486_379.781_13721', 490)\n",
      "('279.15477_366.931_13715', 490)\n",
      "('388.14759_489.128_19917', 524)\n",
      "('198.0972_696.582_6750', 550)\n"
     ]
    },
    {
     "data": {
      "image/png": "[encoded data removed]",
      "text/plain": [
       "<matplotlib.figure.Figure at 0x105c8e110>"
      ]
     },
     "metadata": {},
     "output_type": "display_data"
    }
   ],
   "source": [
    "ions_of_interest_240 = ['414.19697_313.227_20264',\n",
    "'1026.3715_663.894_21884',\n",
    "'1008.361_689.007_21858',\n",
    "'991.33379_689.007_21848',\n",
    "'432.20761_514.793_20469',\n",
    "'279.15477_366.931_13715',\n",
    "'279.15486_379.781_13721',\n",
    "'1009.34458_661.235_21873',\n",
    "'846.30793_686.519_21828',\n",
    "'434.18699_648.791_20506',\n",
    "'486.18187_520.976_20980',\n",
    "'525.21116_666.373_21250',\n",
    "'580.20871_656.24_21497',\n",
    "'684.25548_677.736_21758',\n",
    "'829.28121_676.494_21818',\n",
    "'829.28091_685.234_21808',\n",
    "'342.13953_542.28_17366',\n",
    "'342.13951_553.527_17356',\n",
    "'388.18119_514.793_19928',\n",
    "'522.2028_670.092_21213',\n",
    "'522.20268_659.996_21182',\n",
    "'667.22894_676.494_21709',\n",
    "'667.2285_666.373_21690',\n",
    "'360.14987_655.001_18389',\n",
    "'649.21868_677.736_21623',\n",
    "'342.13944_670.092_17345',\n",
    "'505.1764_661.235_21097',\n",
    "'603.15348_657.516_21552',\n",
    "'270.11823_554.77_12793',\n",
    "'371.1549_514.793_19276',\n",
    "'487.16565_661.235_20989',\n",
    "'198.0972_696.582_6750',\n",
    "'397.17058_314.478_20080',\n",
    "'325.11294_514.793_16684',\n",
    "'270.15453_478.834_12801',\n",
    "'270.15454_467.234_12831',\n",
    "'270.09467_465.819_12761',\n",
    "'242.12327_552.287_10533',\n",
    "'414.19662_411.615_20250',\n",
    "'388.14759_489.128_19917',\n",
    "'180.08662_562.308_5249']\n",
    "interest_nodes = [n for i,n in peak_nodes.items() if i in ions_of_interest_240]\n",
    "draw_network(G,pos,C,P,interest_nodes,'euclidean_240.pdf','topic 240')\n",
    "disp_clusters(clustering,ions_of_interest_240,peak_names)"
   ]
  },
  {
   "cell_type": "code",
   "execution_count": 78,
   "metadata": {
    "collapsed": false
   },
   "outputs": [
    {
     "name": "stdout",
     "output_type": "stream",
     "text": [
      "Parents sorted by cluster:\n",
      "('128.07057_402.687_1202', 56)\n",
      "('128.07049_418.038_1177', 56)\n",
      "('118.08625_365.689_694', 96)\n",
      "('118.08626_378.542_699', 96)\n",
      "('160.09682_365.689_3575', 109)\n",
      "('271.08106_368.171_12861', 126)\n",
      "('271.08108_379.781_12869', 126)\n",
      "('130.04987_630.064_1292', 127)\n",
      "('130.06922_631.311_1342', 127)\n",
      "('132.06546_567.288_1614', 153)\n",
      "('240.12294_257.728_10348', 154)\n",
      "('116.0706_874.873_584', 159)\n",
      "('116.07061_433.349_589', 159)\n",
      "('118.07713_578.503_671', 159)\n",
      "('116.07054_577.268_573', 159)\n",
      "('190.10731_381.023_5987', 161)\n",
      "('190.10735_334.186_6013', 161)\n",
      "('190.10733_398.577_6000', 161)\n",
      "('130.08627_566.043_1357', 206)\n",
      "('210.1124_244.41_7724', 243)\n",
      "('131.08957_567.288_1528', 255)\n",
      "('156.07679_752.304_3316', 259)\n",
      "('156.07677_621.074_3303', 259)\n",
      "('130.04989_484.002_1307', 264)\n",
      "('144.06558_452.144_2208', 299)\n",
      "('186.07607_381.023_5643', 315)\n",
      "('117.07383_577.268_622', 328)\n",
      "('222.11237_287.883_8511', 331)\n",
      "('146.08116_472.407_2473', 371)\n",
      "('172.06044_487.891_4530', 381)\n",
      "('129.0658_631.311_1256', 454)\n",
      "('132.10198_533.567_1708', 457)\n",
      "('132.10191_519.739_1697', 457)\n",
      "('127.05019_519.739_1081', 468)\n",
      "('243.13386_361.963_10622', 476)\n",
      "('157.06076_510.903_3329', 478)\n",
      "('157.0801_621.074_3358', 479)\n",
      "('174.07612_547.239_4693', 485)\n",
      "('174.07611_539.755_4687', 485)\n",
      "('144.06552_299.618_2191', 488)\n",
      "('170.09238_558.499_4406', 501)\n",
      "('160.09676_419.279_3570', 508)\n",
      "('160.09671_569.777_3562', 508)\n",
      "('160.09686_552.287_3612', 508)\n",
      "('228.12298_264.331_9265', 509)\n",
      "('148.09676_508.423_2782', 511)\n",
      "('117.05454_410.326_599', 521)\n",
      "('133.0688_567.288_1768', 535)\n",
      "('188.12808_361.963_5800', 543)\n",
      "('188.12805_297.137_5779', 543)\n",
      "('188.12806_406.431_5787', 543)\n",
      "('132.06553_619.834_1634', 567)\n",
      "('131.05323_484.002_1479', 619)\n",
      "('146.11759_486.476_2596', 638)\n",
      "('172.09682_448.381_4555', 641)\n",
      "('172.09678_458.36_4545', 641)\n",
      "('128.07066_563.553_1220', 688)\n",
      "('578.22669_264.331_21495', 706)\n"
     ]
    },
    {
     "data": {
      "image/png": "[encoded data removed]",
      "text/plain": [
       "<matplotlib.figure.Figure at 0x1063dad10>"
      ]
     },
     "metadata": {},
     "output_type": "display_data"
    }
   ],
   "source": [
    "ions_of_interest_77 = [\n",
    "    '578.22669_264.331_21495',\n",
    "    '117.07383_577.268_622',\n",
    "    '116.07054_577.268_573',\n",
    "    '128.07066_563.553_1220',\n",
    "    '116.0706_874.873_584',\n",
    "    '131.05323_484.002_1479',\n",
    "    '127.05019_519.739_1081',\n",
    "    '172.09678_458.36_4545',\n",
    "    '172.09682_448.381_4555',\n",
    "    '116.07061_433.349_589',\n",
    "    '130.08627_566.043_1357',\n",
    "    '130.04989_484.002_1307',\n",
    "    '131.08957_567.288_1528',\n",
    "    '132.10191_519.739_1697',\n",
    "    '132.10198_533.567_1708',\n",
    "    '129.0658_631.311_1256',\n",
    "    '156.07679_752.304_3316',\n",
    "    '160.09676_419.279_3570',\n",
    "    '188.12805_297.137_5779',\n",
    "    '146.11759_486.476_2596',\n",
    "    '118.08625_365.689_694',\n",
    "    '118.08626_378.542_699',\n",
    "    '157.0801_621.074_3358',\n",
    "    '144.06552_299.618_2191',\n",
    "    '188.12806_406.431_5787',\n",
    "    '132.06553_619.834_1634',\n",
    "    '144.06558_452.144_2208',\n",
    "    '156.07677_621.074_3303',\n",
    "    '157.06076_510.903_3329',\n",
    "    '133.0688_567.288_1768',\n",
    "    '174.07612_547.239_4693',\n",
    "    '174.07611_539.755_4687',\n",
    "    '228.12298_264.331_9265',\n",
    "    '188.12808_361.963_5800',\n",
    "    '160.09686_552.287_3612',\n",
    "    '160.09671_569.777_3562',\n",
    "    '243.13386_361.963_10622',\n",
    "    '170.09238_558.499_4406',\n",
    "    '132.06546_567.288_1614',\n",
    "    '172.06044_487.891_4530',\n",
    "    '146.08116_472.407_2473',\n",
    "    '222.11237_287.883_8511',\n",
    "    '186.07607_381.023_5643',\n",
    "    '210.1124_244.41_7724',\n",
    "    '130.06922_631.311_1342',\n",
    "    '190.10733_398.577_6000',\n",
    "    '190.10731_381.023_5987',\n",
    "    '117.05454_410.326_599',\n",
    "    '160.09682_365.689_3575',\n",
    "    '190.10735_334.186_6013',\n",
    "    '240.12294_257.728_10348',\n",
    "    '148.09676_508.423_2782',\n",
    "    '128.07049_418.038_1177',\n",
    "    '128.07057_402.687_1202',\n",
    "    '271.08106_368.171_12861',\n",
    "    '271.08108_379.781_12869',\n",
    "    '118.07713_578.503_671',\n",
    "    '130.04987_630.064_1292'   \n",
    "]\n",
    "interest_nodes = [n for i,n in peak_nodes.items() if i in ions_of_interest_77]\n",
    "draw_network(G,pos,C,P,interest_nodes,'euclidean_77.pdf','topic 77')\n",
    "disp_clusters(clustering,ions_of_interest_77,peak_names)"
   ]
  },
  {
   "cell_type": "code",
   "execution_count": null,
   "metadata": {
    "collapsed": true
   },
   "outputs": [],
   "source": []
  },
  {
   "cell_type": "code",
   "execution_count": null,
   "metadata": {
    "collapsed": true
   },
   "outputs": [],
   "source": []
  },
  {
   "cell_type": "code",
   "execution_count": null,
   "metadata": {
    "collapsed": true
   },
   "outputs": [],
   "source": []
  },
  {
   "cell_type": "code",
   "execution_count": null,
   "metadata": {
    "collapsed": true
   },
   "outputs": [],
   "source": []
  },
  {
   "cell_type": "code",
   "execution_count": null,
   "metadata": {
    "collapsed": true
   },
   "outputs": [],
   "source": []
  }
 ],
 "metadata": {
  "kernelspec": {
   "display_name": "Python 2",
   "language": "python",
   "name": "python2"
  },
  "language_info": {
   "codemirror_mode": {
    "name": "ipython",
    "version": 2
   },
   "file_extension": ".py",
   "mimetype": "text/x-python",
   "name": "python",
   "nbconvert_exporter": "python",
   "pygments_lexer": "ipython2",
   "version": "2.7.6"
  }
 },
 "nbformat": 4,
 "nbformat_minor": 0
}
