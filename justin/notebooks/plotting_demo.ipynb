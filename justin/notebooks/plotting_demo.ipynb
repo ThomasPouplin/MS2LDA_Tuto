{
 "cells": [
  {
   "cell_type": "markdown",
   "metadata": {},
   "source": [
    "Plotting demo\n",
    "============"
   ]
  },
  {
   "cell_type": "markdown",
   "metadata": {},
   "source": [
    "Import stuff that we need later"
   ]
  },
  {
   "cell_type": "code",
   "execution_count": 70,
   "metadata": {
    "collapsed": false
   },
   "outputs": [],
   "source": [
    "%matplotlib inline\n",
    "import matplotlib.pyplot as plt\n",
    "import numpy as np\n",
    "import matplotlib.patches as mpatches"
   ]
  },
  {
   "cell_type": "markdown",
   "metadata": {},
   "source": [
    "A basic plotting example\n",
    "------------------------"
   ]
  },
  {
   "cell_type": "markdown",
   "metadata": {},
   "source": [
    "Define the plotting function"
   ]
  },
  {
   "cell_type": "code",
   "execution_count": 71,
   "metadata": {
    "collapsed": false
   },
   "outputs": [],
   "source": [
    "def make_plot(parent_mass, parent_intensity, fragment_masses, fragment_intensities):\n",
    "    \n",
    "    # define some colours\n",
    "    parent_fontspec = {\n",
    "        'size':'10', \n",
    "        'color':'blue', \n",
    "        'weight':'bold'\n",
    "    }\n",
    "    \n",
    "    # make blank figure\n",
    "    figsize=(10, 6)\n",
    "    fig = plt.figure(figsize=figsize)\n",
    "    ax = fig.add_subplot(111)\n",
    "\n",
    "    # plot the parent peak first\n",
    "    plt.plot((parent_mass, parent_mass), (0, parent_intensity), linewidth=2.0, color='b')\n",
    "    x = parent_mass\n",
    "    y = parent_intensity\n",
    "    label = \"%.5f\" % parent_mass\n",
    "    plt.text(x, y, label, **parent_fontspec)\n",
    "\n",
    "    # plot all the fragment peaks of this parent peak\n",
    "    num_peaks = len(fragment_masses)\n",
    "    for j in range(num_peaks):\n",
    "        mass = fragment_masses[j]\n",
    "        intensity = fragment_intensities[j]\n",
    "        plt.plot((mass, mass), (0, intensity), linewidth=1.0, color='#FF9933')\n",
    "\n",
    "    # set range of x- and y-axes\n",
    "    xlim_upper = parent_mass + 50\n",
    "    plt.xlim([0, xlim_upper])\n",
    "    plt.ylim([0, 1.5])\n",
    "\n",
    "    # show the axes info\n",
    "    plt.xlabel('m/z')\n",
    "    plt.ylabel('relative intensity')                    \n",
    "    mz_value = (\"%.5f\" % parent_mass)\n",
    "    rt_value = (\"%.3f\" % parent_rt)\n",
    "    title = 'MS1 m/z=' + mz_value + ' RT=' + rt_value\n",
    "    plt.title(title)\n",
    "\n",
    "    # add legend\n",
    "    blue_patch = mpatches.Patch(color='blue', label='Parent peak')\n",
    "    yellow_patch = mpatches.Patch(color='#FF9933', label='Fragment peaks')\n",
    "    plt.legend(handles=[blue_patch, yellow_patch])  \n",
    "    \n",
    "    return plt, ax"
   ]
  },
  {
   "cell_type": "markdown",
   "metadata": {},
   "source": [
    "Call the plotting function"
   ]
  },
  {
   "cell_type": "code",
   "execution_count": 72,
   "metadata": {
    "collapsed": false
   },
   "outputs": [],
   "source": [
    "# some parent ms1 peak info\n",
    "parent_mass = 160.2234\n",
    "parent_rt = 300.0\n",
    "parent_intensity = 0.25\n",
    "\n",
    "# list of masses for the fragment peak\n",
    "fragment_masses = [95.0123, 110.1222, 132.1442, 140.8217, 125.2325, 100]\n",
    "\n",
    "# list of relative intensities of each fragment peak\n",
    "# the relative intensity is obtained by dividing the absolute intensity with the largest in the spectrum\n",
    "fragment_intensities = [0.07, 0.44, 0.63, 1.0, 0.56, 0.1]"
   ]
  },
  {
   "cell_type": "code",
   "execution_count": 73,
   "metadata": {
    "collapsed": false
   },
   "outputs": [
    {
     "data": {
      "image/png": "[encoded data removed]",
      "text/plain": [
       "<matplotlib.figure.Figure at 0x7f16d4e75fd0>"
      ]
     },
     "metadata": {},
     "output_type": "display_data"
    }
   ],
   "source": [
    "plt, ax = make_plot(parent_mass, parent_intensity, fragment_masses, fragment_intensities)\n",
    "plt.show()"
   ]
  },
  {
   "cell_type": "markdown",
   "metadata": {},
   "source": [
    "A slightly fancier plotting example\n",
    "-----------------------------------"
   ]
  },
  {
   "cell_type": "markdown",
   "metadata": {},
   "source": [
    "Define a method to return non-overlapping text positions in the plot. From http://stackoverflow.com/questions/8850142/matplotlib-overlapping-annotations"
   ]
  },
  {
   "cell_type": "code",
   "execution_count": 74,
   "metadata": {
    "collapsed": true
   },
   "outputs": [],
   "source": [
    "def get_text_positions(x_data, y_data, txt_width, txt_height):\n",
    "    a = zip(y_data, x_data)\n",
    "    text_positions = y_data.copy()\n",
    "    for index, (y, x) in enumerate(a):\n",
    "        local_text_positions = [i for i in a if i[0] > (y - txt_height) \n",
    "                            and (abs(i[1] - x) < txt_width * 2) and i != (y,x)]\n",
    "        if local_text_positions:\n",
    "            sorted_ltp = sorted(local_text_positions)\n",
    "            if abs(sorted_ltp[0][0] - y) < txt_height: #True == collision\n",
    "                differ = np.diff(sorted_ltp, axis=0)\n",
    "                a[index] = (sorted_ltp[-1][0] + txt_height, a[index][1])\n",
    "                text_positions[index] = sorted_ltp[-1][0] + txt_height\n",
    "                for k, (j, m) in enumerate(differ):\n",
    "                    #j is the vertical distance between words\n",
    "                    if j > txt_height * 2: #if True then room to fit a word in\n",
    "                        a[index] = (sorted_ltp[k][0] + txt_height, a[index][1])\n",
    "                        text_positions[index] = sorted_ltp[k][0] + txt_height\n",
    "                        break\n",
    "    return text_positions"
   ]
  },
  {
   "cell_type": "markdown",
   "metadata": {},
   "source": [
    "Define another method to take the plot returned by make_plot() and add some annotations to it"
   ]
  },
  {
   "cell_type": "code",
   "execution_count": 75,
   "metadata": {
    "collapsed": true
   },
   "outputs": [],
   "source": [
    "def add_labels(fragment_masses, fragment_intensities, labels):\n",
    "\n",
    "    fragment_fontspec = {\n",
    "        'size':'8', \n",
    "        'color':'#000000', \n",
    "        'weight':'bold'\n",
    "    }  \n",
    "\n",
    "    # turn the lists into Numpy arrays\n",
    "    x_data = np.array(fragment_masses)\n",
    "    y_data = np.array(fragment_intensities)    \n",
    "    \n",
    "    # set the bounding box for the text. Increase txt_width for wider text.\n",
    "    txt_width = 0.05*(plt.xlim()[1] - plt.xlim()[0])\n",
    "    txt_height = 0.2*(plt.ylim()[1] - plt.ylim()[0])\n",
    "\n",
    "    text_positions = get_text_positions(x_data, y_data, txt_width, txt_height)\n",
    "    for x, y, l, t in zip(x_data, y_data, labels, text_positions):\n",
    "        if l is None:\n",
    "            continue\n",
    "        ax.text(x-txt_width, 1.01*t, l, rotation=0, **fragment_fontspec)\n",
    "        if y != t:\n",
    "            ax.arrow(x, t,0,y-t, color='black', alpha=0.2, width=txt_width*0.01, \n",
    "                       head_width=txt_width/4, head_length=txt_height*0.25, \n",
    "                       zorder=0,length_includes_head=True)\n"
   ]
  },
  {
   "cell_type": "markdown",
   "metadata": {},
   "source": [
    "Call the plotting function"
   ]
  },
  {
   "cell_type": "code",
   "execution_count": 76,
   "metadata": {
    "collapsed": false
   },
   "outputs": [
    {
     "data": {
      "image/png": "[encoded data removed]",
      "text/plain": [
       "<matplotlib.figure.Figure at 0x7f16d4aed550>"
      ]
     },
     "metadata": {},
     "output_type": "display_data"
    }
   ],
   "source": [
    "# make a pretty plot here\n",
    "plt, ax = make_plot(parent_mass, parent_intensity, fragment_masses, fragment_intensities)\n",
    "labels = ['Compound1', None, 'Compound3', 'Compound4', 'Compound5', None] # if none, then no annotation for that ms2 peak\n",
    "add_labels(fragment_masses, fragment_intensities, labels)\n",
    "plt.show()"
   ]
  }
 ],
 "metadata": {
  "kernelspec": {
   "display_name": "Python 2",
   "language": "python",
   "name": "python2"
  },
  "language_info": {
   "codemirror_mode": {
    "name": "ipython",
    "version": 2
   },
   "file_extension": ".py",
   "mimetype": "text/x-python",
   "name": "python",
   "nbconvert_exporter": "python",
   "pygments_lexer": "ipython2",
   "version": "2.7.10"
  }
 },
 "nbformat": 4,
 "nbformat_minor": 0
}
