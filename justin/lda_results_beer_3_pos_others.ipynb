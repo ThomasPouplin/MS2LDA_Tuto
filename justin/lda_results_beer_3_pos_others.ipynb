{
 "cells": [
  {
   "cell_type": "markdown",
   "metadata": {},
   "source": [
    "Beer3 Positive Results\n",
    "============"
   ]
  },
  {
   "cell_type": "markdown",
   "metadata": {},
   "source": [
    "1. LDA\n",
    "-------"
   ]
  },
  {
   "cell_type": "code",
   "execution_count": 4,
   "metadata": {
    "collapsed": false
   },
   "outputs": [
    {
     "name": "stdout",
     "output_type": "stream",
     "text": [
      "The autoreload extension is already loaded. To reload it, use:\n",
      "  %reload_ext autoreload\n"
     ]
    }
   ],
   "source": [
    "%load_ext autoreload\n",
    "%autoreload 2\n",
    "%matplotlib inline\n",
    "\n",
    "from lda_for_fragments import Ms2Lda\n",
    "import matplotlib.pyplot as plt\n",
    "import numpy as np\n",
    "import pandas as pd\n",
    "import random\n",
    "import sys\n",
    "\n",
    "from sklearn import preprocessing\n",
    "from sklearn.decomposition import PCA\n",
    "import networkx as nx\n",
    "from networkx.readwrite import json_graph"
   ]
  },
  {
   "cell_type": "code",
   "execution_count": 5,
   "metadata": {
    "collapsed": false,
    "scrolled": true
   },
   "outputs": [],
   "source": [
    "n_topics = 100\n",
    "n_samples = 100\n",
    "\n",
    "fragment_filename = 'input/Beer_3_T10_POS_fragments.csv'\n",
    "neutral_loss_filename = 'input/Beer_3_T10_POS_losses.csv'\n",
    "mzdiff_filename = None\n",
    "\n",
    "ms1_filename = 'input/Beer_3_T10_POS_ms1.csv'\n",
    "ms2_filename = 'input/Beer_3_T10_POS_ms2.csv'"
   ]
  },
  {
   "cell_type": "code",
   "execution_count": 6,
   "metadata": {
    "collapsed": false
   },
   "outputs": [
    {
     "data": {
      "image/png": "[encoded data removed]",
      "text/plain": [
       "<matplotlib.figure.Figure at 0x7f01d406ba10>"
      ]
     },
     "metadata": {},
     "output_type": "display_data"
    },
    {
     "name": "stdout",
     "output_type": "stream",
     "text": [
      "Data shape (856, 1725)\n",
      "Fitting model...\n",
      "DONE!\n"
     ]
    }
   ],
   "source": [
    "ms2lda = Ms2Lda(fragment_filename, neutral_loss_filename, mzdiff_filename, \n",
    "                ms1_filename, ms2_filename, n_topics, n_samples)\n",
    "ms2lda.run_lda()"
   ]
  },
  {
   "cell_type": "code",
   "execution_count": 30,
   "metadata": {
    "collapsed": false
   },
   "outputs": [
    {
     "name": "stdout",
     "output_type": "stream",
     "text": [
      "Writing topics to results/beer3_pos/beer3_pos_topics.csv\n",
      "Writing fragments x topics to results/beer3_pos/beer3_pos_all.csv\n",
      "Writing topic docs to results/beer3_pos/beer3_pos_docs.csv\n"
     ]
    }
   ],
   "source": [
    "ms2lda.write_results('beer3_pos')"
   ]
  },
  {
   "cell_type": "code",
   "execution_count": 8,
   "metadata": {
    "collapsed": false
   },
   "outputs": [
    {
     "name": "stdout",
     "output_type": "stream",
     "text": [
      "Topic 0: fragment_134.05999, loss_120.04178, fragment_143.03192, fragment_79.05417, fragment_152.07031, loss_162.05266, loss_36.02083, fragment_211.10574, fragment_275.1106, loss_64.01556, fragment_202.06802, loss_114.06812, loss_91.02682, fragment_196.09544, fragment_120.05288, loss_117.0425, fragment_172.09755, loss_173.10494, loss_80.01024\n",
      "Topic 1: fragment_58.06553, fragment_118.0861, loss_159.08928, fragment_96.08073, loss_133.07373, fragment_70.06514, loss_115.0998, loss_161.10472, loss_177.09986, fragment_68.0498, loss_171.08919, fragment_114.05541, fragment_55.01824, loss_149.06875, loss_103.0638, fragment_114.09125, fragment_142.08712, loss_105.07856, fragment_274.12622\n",
      "Topic 2: fragment_130.08581, fragment_56.04978, loss_17.02676, fragment_67.05455, fragment_140.07024, loss_92.04714, loss_45.0213, fragment_262.1285, fragment_144.13788, loss_171.0529, fragment_184.04364, fragment_100.02137, fragment_194.08209, fragment_115.0216, loss_115.02685, fragment_112.11181, fragment_147.11301, fragment_172.09617, loss_17.0272\n",
      "Topic 3: loss_261.12114, fragment_98.9847, loss_249.12114, loss_221.08974, loss_53.04808, fragment_116.99462, loss_247.10561, fragment_91.05413, fragment_93.06982, fragment_79.05417, loss_207.11028, loss_185.09038, loss_125.0685, fragment_107.08554, fragment_198.11122, fragment_119.0857, fragment_175.07621, fragment_217.08657, fragment_193.08583\n",
      "Topic 4: loss_18.01103, loss_324.10561, loss_342.1163, loss_64.01556, loss_90.03154, loss_78.03146, fragment_180.10128, fragment_106.06503, fragment_347.09545, fragment_365.10727, fragment_108.08067, loss_92.04714, fragment_509.15049, loss_116.04727, fragment_134.09682, fragment_527.15802, loss_180.06335, loss_88.05246, fragment_82.065\n",
      "Topic 5: fragment_95.06076, fragment_110.07176, fragment_83.06042, fragment_93.04514, fragment_156.07692, fragment_68.0498, fragment_82.05293, fragment_143.11762, fragment_130.06466, loss_27.9937, loss_385.12297, fragment_191.08582, fragment_81.04442, fragment_400.17516, fragment_303.135, fragment_103.02173, fragment_120.04802, fragment_202.09773, fragment_61.01085\n",
      "Topic 6: fragment_138.05451, fragment_63.02323, fragment_135.04439, fragment_106.04123, fragment_134.03644, fragment_248.12779, fragment_78.04654, fragment_72.08072, fragment_145.02839, fragment_177.05473, fragment_117.03314, fragment_186.05403, fragment_105.03345, fragment_53.03889, fragment_364.22204, fragment_100.07534, fragment_171.14886, fragment_346.21476, fragment_188.17605\n",
      "Topic 7: loss_179.07935, fragment_82.065, fragment_110.05976, fragment_128.07032, fragment_56.04978, fragment_225.12393, fragment_81.03337, fragment_98.05999, loss_211.10548, fragment_144.06586, loss_181.09473, loss_198.07419, fragment_53.03889, loss_213.12105, fragment_273.14302, loss_184.05828, loss_239.10044, fragment_147.11301, loss_84.04249\n",
      "Topic 8: loss_157.07381, fragment_128.10739, fragment_98.09682, loss_88.05246, fragment_164.10657, loss_226.06843, fragment_58.06553, loss_171.08919, loss_183.0892, fragment_144.10184, fragment_178.08711, loss_113.08407, loss_113.04717, loss_312.10563, fragment_160.1326, loss_144.11505, loss_143.05793, fragment_168.10226, loss_97.05266\n",
      "Topic 9: loss_132.04205, loss_149.06875, loss_145.07348, loss_188.07961, fragment_119.03519, fragment_94.03985, fragment_137.04629, loss_135.05318, loss_163.08425, fragment_136.06241, loss_200.07938, loss_170.06921, fragment_150.07838, fragment_69.03368, loss_175.04792, fragment_92.02426, loss_159.05307, fragment_71.01309, loss_223.06938\n",
      "Topic 10: fragment_144.08074, loss_215.10018, loss_197.08977, fragment_115.05434, loss_233.11089, loss_257.11102, fragment_91.05413, loss_273.1058, loss_179.07935, fragment_120.04802, loss_71.03707, fragment_61.01085, fragment_117.07034, fragment_143.0739, fragment_53.03889, loss_47.0369, fragment_130.06466, fragment_78.03737, loss_45.0213\n",
      "Topic 11: fragment_86.09652, fragment_132.10161, fragment_127.01556, loss_89.01085, fragment_173.11739, fragment_157.05061, fragment_190.89569, fragment_78.6087, loss_89.05962, fragment_175.10681, fragment_148.03645, fragment_147.12488, fragment_146.04403, fragment_146.05941, fragment_146.0609, fragment_146.08112, fragment_146.09279, fragment_146.09623, fragment_146.11787\n",
      "Topic 12: fragment_73.0647, fragment_103.03868, fragment_123.11715, fragment_119.0857, fragment_107.08554, fragment_105.07017, loss_148.07347, fragment_347.18811, fragment_235.13411, fragment_279.23344, fragment_287.12822, fragment_129.07001, fragment_91.05413, loss_64.01556, fragment_311.14977, fragment_61.01085, fragment_167.03433, fragment_259.13141, fragment_329.17533\n",
      "Topic 13: loss_66.03222, fragment_84.04487, fragment_147.07582, fragment_195.07569, fragment_69.03368, fragment_241.082, fragment_129.06583, fragment_167.08158, loss_272.08959, fragment_144.06586, fragment_276.12192, fragment_126.05565, loss_106.02645, loss_146.05776, fragment_213.08624, fragment_223.07142, loss_35.03718, loss_45.02229, fragment_263.08114\n",
      "Topic 14: fragment_121.02826, fragment_95.02388, fragment_69.04509, fragment_68.01312, fragment_68.99727, fragment_52.01851, fragment_112.05107, fragment_257.04334, fragment_55.01824, fragment_94.03985, fragment_229.05108, fragment_81.03337, fragment_179.03309, fragment_197.04434, loss_56.06222, fragment_299.09138, fragment_107.04885, fragment_95.04936, loss_120.05731\n",
      "Topic 15: fragment_218.08163, fragment_172.07629, fragment_176.07104, fragment_117.05718, loss_106.02645, fragment_91.05413, fragment_144.08074, fragment_115.05434, fragment_134.05999, fragment_190.08515, fragment_130.06466, fragment_160.07491, fragment_53.03889, loss_92.01082, loss_64.01556, fragment_65.03877, loss_66.03112, loss_78.03146, fragment_80.04949\n",
      "Topic 16: fragment_83.04895, fragment_69.03368, fragment_55.05468, fragment_129.05473, fragment_111.04429, loss_82.02658, fragment_101.05975, fragment_85.02833, loss_110.02127, fragment_57.03369, fragment_147.06556, fragment_71.0858, loss_108.0422, loss_54.03217, loss_64.01556, loss_100.03743, loss_128.03138, fragment_59.04942, loss_96.0424\n",
      "Topic 17: fragment_71.06871, fragment_122.06034, fragment_211.0709, fragment_185.09247, fragment_155.08107, fragment_154.04951, fragment_81.03337, fragment_194.04615, fragment_70.02898, fragment_117.07399, fragment_152.03469, fragment_130.066, fragment_95.04936, fragment_87.0554, loss_89.05962, fragment_260.07565, fragment_114.07504, fragment_242.1036, loss_18.00904\n",
      "Topic 18: loss_116.04727, loss_160.0847, loss_133.07373, fragment_109.03969, fragment_117.05484, loss_144.05304, loss_201.08487, loss_134.0566, fragment_107.06036, fragment_126.0665, loss_115.0632, fragment_69.03368, loss_159.05307, fragment_108.056, fragment_99.04455, fragment_96.06838, fragment_73.02851, fragment_97.07643, fragment_54.03416\n",
      "Topic 19: fragment_136.06241, fragment_98.05999, fragment_114.10281, fragment_97.02839, fragment_178.07836, fragment_263.06919, fragment_207.07983, fragment_131.12918, fragment_96.04414, fragment_97.07643, fragment_119.03519, fragment_235.07575, fragment_216.02841, fragment_291.06357, fragment_219.08071, fragment_115.05434, fragment_189.0702, fragment_165.07001, fragment_250.0931\n",
      "Topic 20: fragment_84.04422, fragment_56.04978, fragment_130.05052, loss_129.04222, fragment_252.10826, fragment_290.16097, fragment_383.20101, fragment_172.17063, fragment_423.20225, fragment_253.09443, fragment_422.21308, fragment_75.05505, loss_134.0581, fragment_146.0609, fragment_146.04403, fragment_145.10132, fragment_146.08112, fragment_146.09279, fragment_146.05941\n",
      "Topic 21: fragment_67.05455, fragment_225.07566, fragment_79.05417, fragment_207.06553, fragment_261.14913, fragment_275.12787, fragment_331.19013, fragment_91.05413, fragment_57.07007, fragment_263.12955, loss_225.08489, fragment_205.08718, loss_253.11586, fragment_113.0602, fragment_133.06448, fragment_177.05473, fragment_81.07, fragment_313.18029, fragment_281.13706\n",
      "Topic 22: fragment_85.02833, fragment_69.03368, fragment_61.02851, fragment_145.04997, fragment_97.02839, loss_197.08977, fragment_115.03913, loss_227.10065, fragment_133.04983, loss_329.13215, fragment_57.03405, loss_275.13653, fragment_178.08536, loss_173.10494, fragment_104.05802, fragment_187.07639, fragment_147.11301, fragment_146.09279, fragment_146.09623\n",
      "Topic 23: loss_59.03701, fragment_72.04465, fragment_114.09125, fragment_60.04476, loss_101.04749, loss_118.07392, fragment_72.08072, fragment_62.92941, loss_113.08407, fragment_121.96575, loss_101.08372, loss_42.01046, loss_103.0638, fragment_131.11781, fragment_113.10702, fragment_136.04336, fragment_125.1079, loss_504.16871, fragment_147.06556\n",
      "Topic 24: fragment_120.08041, fragment_91.05413, fragment_136.07598, loss_142.07382, loss_125.04751, fragment_107.04885, fragment_154.07315, loss_154.07421, fragment_123.04462, fragment_95.04936, fragment_98.05999, fragment_103.05449, fragment_182.08216, fragment_147.04377, fragment_153.06584, fragment_93.06982, loss_27.9937, loss_73.01579, fragment_165.05564\n",
      "Topic 25: fragment_68.0498, fragment_97.02839, loss_132.04205, fragment_114.05541, loss_148.03699, loss_144.04206, fragment_55.01824, loss_160.0369, loss_48.02067, fragment_112.07583, fragment_86.06014, loss_119.05808, fragment_129.99563, loss_163.08425, loss_106.02645, loss_27.99523, fragment_156.01208, fragment_98.05999, fragment_194.08209\n",
      "Topic 26: fragment_116.07114, fragment_72.08072, loss_115.0632, fragment_115.08711, loss_59.04757, fragment_130.09705, fragment_158.09178, fragment_175.12006, fragment_60.0559, fragment_60.0558, fragment_71.0494, loss_105.05437, loss_317.13365, loss_300.10745, fragment_291.16201, fragment_147.12488, loss_179.07935, fragment_188.09246, loss_189.06336\n",
      "Topic 27: fragment_56.04978, loss_111.0318, fragment_130.05052, loss_91.02682, loss_129.04222, fragment_84.04422, fragment_102.05469, loss_174.0641, loss_157.03751, loss_128.05788, fragment_101.07117, fragment_129.06583, loss_189.06336, loss_17.02648, fragment_240.09852, loss_175.04792, fragment_212.12765, loss_17.0258, fragment_167.08158\n",
      "Topic 28: loss_161.06862, loss_106.02645, loss_160.07338, loss_118.06294, loss_162.08892, loss_54.03217, fragment_147.11654, loss_66.03112, fragment_91.05413, fragment_117.07034, loss_82.02658, loss_134.0581, fragment_222.07948, fragment_119.0857, fragment_95.04936, fragment_258.10964, fragment_164.07061, fragment_192.06425, fragment_441.29446\n",
      "Topic 29: fragment_128.07032, fragment_81.03337, loss_118.02644, fragment_230.10326, fragment_146.08112, fragment_219.06534, fragment_173.02215, fragment_202.10835, fragment_107.04885, loss_136.037, fragment_260.11164, fragment_159.02719, loss_178.04751, fragment_323.19641, fragment_174.02376, fragment_214.10804, loss_236.10888, fragment_173.05919, fragment_201.05585\n",
      "Topic 30: fragment_96.04414, fragment_80.04949, fragment_53.03889, fragment_126.05565, loss_43.98978, fragment_78.03416, fragment_98.05999, fragment_152.07031, fragment_106.02879, fragment_109.0288, loss_78.03146, fragment_186.05895, fragment_99.04455, fragment_204.06922, fragment_104.01683, fragment_105.03748, fragment_61.01085, fragment_103.02173, fragment_222.07948\n",
      "Topic 31: fragment_71.0494, loss_36.02083, loss_84.04249, fragment_55.01824, loss_64.01556, fragment_177.01894, fragment_219.10217, fragment_195.0292, fragment_139.00237, fragment_111.00762, fragment_233.08174, fragment_267.13461, loss_79.06321, fragment_289.14181, fragment_157.01314, fragment_315.15511, fragment_116.07015, fragment_275.16664, fragment_129.01857\n",
      "Topic 32: fragment_89.03862, fragment_177.05473, fragment_145.02839, fragment_117.03314, fragment_149.05997, loss_141.07865, loss_193.07363, fragment_78.04654, fragment_91.05413, loss_125.04751, fragment_134.03644, fragment_98.05999, fragment_59.04942, loss_27.99479, fragment_72.04465, loss_113.08407, loss_73.01579, fragment_138.12838, fragment_183.14943\n",
      "Topic 33: fragment_89.06008, fragment_133.08628, fragment_111.04429, fragment_177.11272, fragment_137.05983, fragment_239.14817, fragment_155.07009, fragment_95.04936, fragment_195.12241, fragment_283.17358, fragment_113.0602, fragment_99.04455, fragment_107.06984, fragment_151.0967, loss_17.0272, fragment_243.12234, fragment_131.07078, fragment_327.20145, fragment_81.03337\n",
      "Topic 34: fragment_81.03337, fragment_127.0387, fragment_109.0288, fragment_85.02833, fragment_97.02839, fragment_145.04997, fragment_53.03889, fragment_69.03368, fragment_163.06062, fragment_91.03921, fragment_99.04366, fragment_259.11604, fragment_289.09133, fragment_135.09957, fragment_87.04466, fragment_148.03645, loss_111.05298, fragment_147.06556, fragment_147.06769\n",
      "Topic 35: loss_42.01046, loss_77.04746, loss_105.04249, loss_114.03136, fragment_95.04936, loss_111.0684, loss_133.07373, fragment_123.05504, fragment_174.03908, loss_119.05808, fragment_210.13178, fragment_90.09184, fragment_246.05003, fragment_126.07422, loss_128.04708, loss_28.03102, fragment_94.04141, fragment_97.06464, fragment_138.07909\n",
      "Topic 36: fragment_55.01824, fragment_57.03369, fragment_73.02851, fragment_99.04455, fragment_98.98387, fragment_325.11203, fragment_143.01554, fragment_101.02309, fragment_271.08259, fragment_174.0763, fragment_103.03991, loss_36.02194, fragment_146.11787, fragment_147.04377, fragment_147.04544, fragment_147.06556, fragment_147.06769, fragment_146.09623, fragment_146.09279\n",
      "Topic 37: loss_74.0004, loss_76.01613, loss_103.02703, loss_88.01596, fragment_272.14812, fragment_81.03337, fragment_125.00056, fragment_125.04693, fragment_55.01824, fragment_96.04414, loss_30.01047, loss_64.01685, loss_48.02067, fragment_79.05417, fragment_300.14333, fragment_318.15258, fragment_126.05442, fragment_124.03981, fragment_88.03909\n",
      "Topic 38: loss_18.01058, loss_87.03188, fragment_118.06547, fragment_188.07057, loss_75.03188, loss_27.99479, fragment_60.04476, fragment_104.04995, fragment_93.05723, loss_93.04256, fragment_76.03917, fragment_184.07218, fragment_87.06383, fragment_125.1079, fragment_56.02155, fragment_108.06753, fragment_258.1448, loss_35.03718, fragment_164.03461\n",
      "Topic 39: loss_135.05318, loss_123.05299, fragment_102.0918, fragment_144.10184, loss_133.03727, loss_105.04249, fragment_85.06477, fragment_84.08071, loss_88.01596, fragment_67.05455, loss_106.02645, loss_46.00544, fragment_55.05468, loss_95.05815, fragment_57.07007, loss_79.06321, fragment_209.12971, fragment_60.04476, fragment_95.04936\n",
      "Topic 40: fragment_59.04942, fragment_117.09077, loss_134.09416, loss_504.16871, fragment_57.03369, fragment_91.05413, loss_17.0258, fragment_136.07598, fragment_116.07015, fragment_193.14431, fragment_192.10212, fragment_81.03337, loss_141.04225, loss_207.11028, fragment_150.05564, fragment_161.06054, fragment_161.05912, fragment_154.06035, fragment_115.08607\n",
      "Topic 41: fragment_69.07013, fragment_91.05413, fragment_221.08119, fragment_67.05455, loss_212.17723, fragment_293.13725, fragment_195.06547, fragment_57.05774, loss_89.05962, fragment_57.07007, fragment_251.12733, fragment_187.88249, fragment_267.1219, fragment_341.17414, fragment_359.18495, fragment_279.12271, fragment_181.0494, fragment_93.07066, fragment_327.19587\n",
      "Topic 42: fragment_58.06553, fragment_60.08102, fragment_104.10731, fragment_71.0731, fragment_56.04978, fragment_195.11211, fragment_167.1183, loss_59.04851, loss_86.0366, fragment_125.07087, fragment_125.00056, loss_174.11115, fragment_98.05999, fragment_194.12832, loss_60.03238, fragment_98.98387, fragment_184.07456, fragment_221.01905, loss_43.98978\n",
      "Topic 43: fragment_57.07007, loss_126.10441, loss_172.10979, loss_115.02685, fragment_127.11204, loss_189.13603, fragment_91.05413, loss_201.13611, loss_146.06892, fragment_117.0693, fragment_228.10047, fragment_182.09618, fragment_103.05449, fragment_180.08059, fragment_165.07001, loss_91.02682, fragment_115.05434, fragment_167.07347, loss_141.04225\n",
      "Topic 44: loss_359.14286, fragment_57.03369, fragment_85.02833, loss_213.08497, fragment_87.04389, fragment_69.03368, fragment_248.11294, loss_146.05776, fragment_75.04398, fragment_101.05975, loss_195.07466, fragment_182.08216, loss_312.10563, fragment_55.01824, loss_185.09038, loss_180.06335, loss_225.08489, fragment_97.02839, loss_181.05929\n",
      "Topic 45: fragment_70.06514, fragment_84.04422, fragment_209.09245, fragment_181.09784, loss_208.08492, loss_254.09018, fragment_116.07114, fragment_114.05541, fragment_56.04978, loss_271.11657, loss_143.05793, loss_115.0632, loss_226.0948, fragment_227.10395, fragment_226.12017, loss_146.06892, fragment_116.07015, fragment_181.09617, loss_145.07348\n",
      "Topic 46: fragment_112.05007, fragment_94.03985, fragment_108.04319, fragment_120.04417, fragment_57.04508, fragment_133.05119, fragment_100.11239, loss_132.0896, fragment_109.05257, fragment_96.05566, fragment_69.04453, fragment_135.05347, fragment_106.04008, fragment_220.10875, fragment_82.04028, fragment_81.05755, fragment_160.08097, fragment_74.07118, fragment_96.9957\n",
      "Topic 47: fragment_55.05468, fragment_58.06553, loss_46.04164, fragment_59.07336, fragment_131.12918, loss_44.02606, fragment_72.08072, loss_251.11485, fragment_96.9985, fragment_99.72684, fragment_146.11787, fragment_147.04377, fragment_147.08092, fragment_147.04544, fragment_146.09623, fragment_147.06556, fragment_147.06769, fragment_146.09279, fragment_147.07582\n",
      "Topic 48: fragment_111.11652, loss_36.02194, fragment_197.09131, loss_184.05828, loss_84.04249, loss_196.05806, fragment_143.11762, fragment_133.06155, fragment_87.03159, fragment_175.10681, loss_209.0664, fragment_143.05747, fragment_57.03369, fragment_112.03985, fragment_87.0554, fragment_58.02903, fragment_55.01824, loss_226.06843, fragment_70.02898\n",
      "Topic 49: fragment_53.0026, fragment_125.07087, fragment_97.10101, fragment_83.08558, fragment_160.07676, fragment_71.01309, loss_113.08407, fragment_142.06474, fragment_142.03245, loss_127.09933, fragment_104.04995, fragment_185.04242, fragment_114.03788, fragment_170.02667, fragment_74.0963, fragment_136.06089, fragment_173.05919, fragment_144.08044, fragment_147.11813\n",
      "Topic 50: fragment_112.08703, fragment_60.0558, fragment_70.06514, loss_223.06938, loss_225.08489, fragment_204.09937, fragment_257.16048, loss_277.11587, loss_162.05266, loss_60.03238, fragment_114.10281, loss_207.07436, fragment_134.09682, fragment_175.12006, loss_70.04156, fragment_173.13899, fragment_221.1404, fragment_161.10742, loss_120.07822\n",
      "Topic 51: loss_43.00568, loss_45.0213, loss_27.99479, fragment_55.02948, loss_27.01114, loss_55.98959, fragment_82.04028, loss_17.02676, fragment_128.04552, fragment_119.03519, fragment_110.03459, fragment_109.05048, fragment_94.03985, loss_27.99523, fragment_92.02426, fragment_67.02929, fragment_134.04674, fragment_135.02961, fragment_80.02432\n",
      "Topic 52: fragment_121.06489, fragment_53.03889, fragment_103.05449, fragment_91.05413, fragment_93.06982, fragment_95.04936, fragment_51.0234, fragment_152.10755, fragment_147.11654, fragment_147.04377, fragment_147.04544, fragment_147.06556, fragment_147.06769, fragment_147.07582, fragment_146.11787, fragment_147.08092, fragment_147.11301, fragment_147.12366, fragment_147.11813\n",
      "Topic 53: fragment_198.1136, fragment_84.08071, fragment_154.08576, fragment_150.09231, loss_341.13229, loss_62.03715, fragment_126.09181, fragment_377.19044, loss_329.13215, loss_18.0095, loss_132.04205, fragment_81.03337, fragment_82.065, loss_90.03154, fragment_72.08072, fragment_360.168, fragment_56.04978, fragment_167.1183, loss_263.12151\n",
      "Topic 54: fragment_118.06547, fragment_164.07061, fragment_91.05413, fragment_192.06673, fragment_133.05284, fragment_53.03889, fragment_55.01824, fragment_147.06769, fragment_68.0498, fragment_238.07123, fragment_108.04426, fragment_146.05941, fragment_256.08031, fragment_80.04949, fragment_142.05017, fragment_109.0288, fragment_154.04951, fragment_148.07578, fragment_74.0963\n",
      "Topic 55: loss_31.04205, loss_61.05279, loss_101.08372, loss_99.06814, fragment_81.03337, loss_57.05775, fragment_121.06489, loss_49.05257, fragment_91.05413, fragment_51.0234, loss_75.0684, loss_71.07342, loss_59.03701, fragment_103.05449, fragment_95.04936, loss_87.0684, fragment_55.01824, fragment_77.03872, fragment_105.04464\n",
      "Topic 56: fragment_108.04426, fragment_94.06505, fragment_80.04949, fragment_53.03889, fragment_122.06034, fragment_109.05257, loss_17.0258, loss_27.99523, loss_101.01115, fragment_67.05455, loss_141.04225, fragment_126.05442, loss_113.04717, loss_75.03188, fragment_136.07598, loss_73.01579, fragment_120.08041, fragment_148.07578, loss_73.01648\n",
      "Topic 57: loss_46.00544, loss_63.03183, loss_59.01317, loss_61.02871, fragment_73.0843, fragment_56.05813, fragment_57.05774, fragment_59.06876, fragment_60.07655, fragment_305.08192, fragment_146.11787, fragment_147.04377, fragment_147.07582, fragment_147.04544, fragment_147.06556, fragment_146.09623, fragment_146.09279, fragment_147.06769, fragment_146.08112\n",
      "Topic 58: loss_144.04206, fragment_127.0387, loss_120.04253, loss_78.03146, loss_106.02645, fragment_393.13834, fragment_55.01824, fragment_189.8815, loss_64.01556, fragment_62.92941, fragment_225.07566, fragment_159.0652, loss_179.07935, fragment_64.9275, fragment_212.89798, fragment_183.06481, fragment_179.07167, fragment_235.06201, loss_88.01596\n",
      "Topic 59: loss_90.03154, loss_78.03146, loss_102.03162, loss_64.01556, loss_94.02658, fragment_69.03368, loss_92.01082, loss_99.03179, loss_48.02067, fragment_53.03889, loss_82.02658, loss_71.03707, loss_108.0422, loss_110.02127, fragment_99.05557, loss_97.05266, fragment_99.04366, fragment_96.08073, loss_64.01685\n",
      "Topic 60: loss_176.06826, loss_219.11048, loss_74.07291, fragment_176.09115, loss_45.02229, fragment_158.08037, loss_120.07822, fragment_186.08755, fragment_239.09204, fragment_97.02839, loss_124.03716, fragment_144.06586, fragment_81.03337, fragment_296.14969, loss_207.07436, fragment_301.15214, loss_259.10618, fragment_69.03368, fragment_231.08369\n",
      "Topic 61: loss_179.07935, fragment_90.05539, loss_148.07347, loss_165.06335, loss_150.08907, loss_36.02194, fragment_57.07007, loss_130.06264, fragment_72.04465, fragment_184.09601, fragment_116.03449, loss_96.0424, fragment_70.02898, fragment_124.07536, loss_18.01191, fragment_229.11687, fragment_85.06477, loss_163.04805, fragment_113.0602\n",
      "Topic 62: fragment_97.02839, fragment_69.03368, loss_180.06335, fragment_85.02833, loss_198.07419, loss_246.09516, loss_162.05266, fragment_81.03337, loss_324.10561, loss_387.13762, fragment_127.0387, loss_360.12677, loss_222.07433, loss_239.10044, loss_385.12297, loss_263.12151, fragment_112.03985, fragment_303.05042, loss_343.14788\n",
      "Topic 63: fragment_110.05976, loss_18.00834, fragment_153.04074, fragment_152.05613, loss_54.03128, fragment_110.03498, fragment_135.02961, fragment_96.08073, fragment_107.03523, loss_27.01114, fragment_81.03337, fragment_71.06064, loss_108.0422, fragment_169.0968, loss_161.06862, fragment_99.05488, fragment_188.0562, loss_199.06926, fragment_103.03991\n",
      "Topic 64: fragment_105.03345, fragment_162.09143, loss_99.05338, loss_95.05815, loss_127.04792, loss_111.05298, loss_83.05819, loss_53.04808, fragment_138.09146, loss_75.05313, loss_35.03655, fragment_69.03368, loss_107.05823, loss_125.0685, loss_119.05808, loss_123.05299, fragment_162.0756, fragment_53.03889, fragment_56.96508\n",
      "Topic 65: fragment_84.08071, loss_89.04756, loss_387.13762, loss_117.0425, loss_190.04798, fragment_246.13424, fragment_105.11003, fragment_124.9993, fragment_87.09938, loss_135.05318, fragment_126.00332, fragment_185.07608, fragment_258.13332, loss_207.11028, fragment_102.98524, fragment_58.99527, fragment_148.99058, fragment_120.9954, fragment_212.12765\n",
      "Topic 66: fragment_82.065, loss_102.06815, loss_114.06812, loss_130.06264, loss_120.07822, loss_132.07854, loss_88.05246, loss_106.06294, loss_116.04727, fragment_142.12254, loss_74.07291, fragment_74.06037, fragment_156.13794, fragment_67.04206, loss_92.01082, fragment_89.10723, fragment_148.11175, fragment_194.11825, fragment_139.03837\n",
      "Topic 67: fragment_85.06477, loss_113.04717, fragment_100.07624, fragment_83.01292, fragment_104.10731, fragment_158.11793, loss_236.14275, fragment_175.07621, loss_117.0425, loss_144.11505, loss_91.02682, fragment_263.09309, fragment_175.08718, fragment_158.05975, fragment_281.15008, fragment_147.07582, fragment_219.10217, fragment_281.11089, fragment_130.06466\n",
      "Topic 68: loss_36.02194, loss_18.0095, fragment_74.05986, loss_42.04695, fragment_224.12739, fragment_242.13989, loss_18.00904, loss_165.09984, fragment_120.06532, fragment_229.14307, fragment_179.03537, loss_99.05338, loss_181.09473, fragment_147.11654, loss_188.07961, fragment_146.09623, fragment_146.09279, fragment_146.11787, fragment_146.08112\n",
      "Topic 69: fragment_53.03889, loss_27.99479, loss_30.01047, fragment_91.05413, loss_68.02589, fragment_81.03337, loss_70.04156, loss_44.02606, fragment_51.0234, fragment_65.03877, loss_56.02613, fragment_77.03872, fragment_93.06982, fragment_106.06503, loss_26.01544, fragment_55.01824, loss_40.03143, fragment_95.04936, fragment_103.05449\n",
      "Topic 70: fragment_83.06042, fragment_81.04506, fragment_56.04978, fragment_54.03416, fragment_68.0498, fragment_82.05229, loss_100.027, loss_73.01648, loss_73.01579, loss_45.0213, fragment_125.07087, fragment_95.06076, fragment_124.087, fragment_89.00601, loss_75.03188, fragment_111.0555, fragment_143.01708, fragment_107.06036, fragment_109.04829\n",
      "Topic 71: fragment_278.05554, fragment_157.10848, fragment_98.05999, fragment_62.06029, fragment_235.07575, fragment_114.10281, fragment_293.08024, fragment_321.07526, fragment_327.07802, fragment_495.26484, fragment_234.06713, fragment_189.0702, fragment_551.33272, fragment_207.07983, fragment_97.07643, fragment_107.04885, fragment_178.07668, fragment_69.03368, fragment_131.12918\n",
      "Topic 72: loss_64.01556, loss_106.06294, loss_134.0566, loss_54.03042, fragment_259.13141, loss_88.05246, fragment_277.14312, fragment_203.07143, loss_104.04745, fragment_67.05455, loss_148.07347, fragment_200.12846, loss_132.07854, loss_90.03154, fragment_112.07583, fragment_128.10739, loss_108.0422, loss_147.05328, loss_87.0684\n",
      "Topic 73: fragment_206.0825, fragment_205.07619, fragment_140.04986, fragment_167.06103, fragment_193.0757, fragment_195.09145, fragment_115.05434, fragment_219.09326, fragment_207.09112, fragment_247.08591, loss_108.0422, fragment_185.07118, fragment_182.0845, loss_96.0424, loss_132.04205, fragment_283.106, fragment_269.12939, fragment_102.06629, fragment_285.12282\n",
      "Topic 74: fragment_65.03877, fragment_91.05413, fragment_119.04876, fragment_147.04377, fragment_92.05787, fragment_148.04825, fragment_260.13924, loss_174.11115, fragment_148.04675, fragment_276.15266, fragment_277.16484, fragment_437.20718, fragment_105.10274, fragment_233.12923, fragment_129.11296, loss_182.07869, fragment_217.10744, loss_341.13229, loss_181.09473\n",
      "Topic 75: loss_162.05266, loss_208.05803, fragment_81.03337, fragment_53.03889, loss_225.08489, fragment_97.02839, loss_150.05297, fragment_69.03368, fragment_108.04426, fragment_88.03909, loss_180.06335, fragment_164.03461, loss_197.08977, fragment_112.03985, fragment_136.03974, fragment_182.04465, fragment_72.04465, fragment_100.03928, fragment_202.07071\n",
      "Topic 76: loss_150.05297, loss_178.04751, fragment_112.03985, loss_196.05806, fragment_102.05469, fragment_97.02839, fragment_216.08561, loss_162.05266, loss_166.04767, fragment_156.06572, loss_126.05238, fragment_143.05747, fragment_234.09787, fragment_69.03368, loss_168.06301, fragment_188.09246, loss_154.04764, loss_64.01556, fragment_56.04978\n",
      "Topic 77: fragment_86.06014, fragment_87.04389, fragment_69.03368, fragment_104.071, fragment_68.0498, loss_81.04258, fragment_153.06584, loss_82.02658, loss_43.98978, fragment_147.06769, fragment_146.09279, fragment_148.06024, fragment_146.09623, fragment_148.04825, fragment_146.11787, fragment_147.04377, fragment_147.04544, fragment_147.06556, fragment_148.04675\n",
      "Topic 78: fragment_105.07017, fragment_103.05449, fragment_79.05417, fragment_91.05413, fragment_120.08041, fragment_53.03889, fragment_166.08632, fragment_132.08134, fragment_292.11665, fragment_130.06466, fragment_310.12707, fragment_244.09625, fragment_112.03881, fragment_119.04986, fragment_87.03159, fragment_264.12442, fragment_117.05718, fragment_193.08583, loss_211.06909\n",
      "Topic 79: fragment_118.06547, fragment_130.06466, fragment_129.07001, fragment_117.05718, loss_237.08515, loss_223.06938, loss_64.01556, loss_249.08478, fragment_119.07336, loss_183.0892, fragment_103.05449, fragment_176.1067, fragment_91.05413, loss_184.05828, fragment_158.09741, fragment_156.08062, loss_211.06909, loss_199.06926, fragment_246.11232\n",
      "Topic 80: loss_45.05793, loss_73.0525, fragment_126.09181, loss_113.08407, loss_132.0896, loss_75.0684, loss_85.08914, fragment_81.03337, loss_71.07342, fragment_77.03872, loss_115.0998, loss_89.08399, fragment_141.05511, fragment_71.06064, fragment_152.05613, fragment_153.04074, fragment_314.11225, fragment_135.02961, fragment_176.05567\n",
      "Topic 81: fragment_149.02364, fragment_83.01292, fragment_209.08106, fragment_167.03433, loss_92.01082, fragment_55.01824, fragment_67.01808, fragment_58.99527, fragment_199.02413, fragment_87.02619, fragment_182.08216, fragment_181.01236, loss_64.01685, fragment_101.02309, fragment_179.06947, fragment_94.06505, loss_18.0095, fragment_276.09134, fragment_61.01085\n",
      "Topic 82: fragment_100.07534, loss_112.03662, fragment_146.11787, loss_173.10494, fragment_183.11187, fragment_72.08072, fragment_88.03909, fragment_142.08712, loss_113.08407, fragment_74.02351, fragment_116.07015, fragment_85.04768, fragment_134.04528, fragment_188.07308, fragment_182.10135, fragment_159.11259, fragment_183.1142, fragment_88.03967, fragment_265.05092\n",
      "Topic 83: loss_143.05793, fragment_181.09784, fragment_116.07114, fragment_166.04983, fragment_92.04951, loss_102.03162, fragment_148.03977, fragment_209.09245, loss_171.0529, loss_36.02083, loss_119.02147, loss_92.01082, loss_159.08928, fragment_138.05451, fragment_211.09389, fragment_153.10193, loss_125.04751, fragment_111.11652, fragment_197.12871\n",
      "Topic 84: loss_175.04792, fragment_130.04926, loss_178.04751, loss_190.04798, loss_207.07436, fragment_190.09757, fragment_166.12285, fragment_244.11768, loss_147.05328, loss_188.07961, fragment_81.03337, loss_129.04222, loss_223.06938, loss_128.03138, loss_80.01024, fragment_238.1197, loss_208.05803, loss_237.08515, loss_209.0664\n",
      "Topic 85: fragment_70.06514, fragment_84.04422, fragment_144.10184, fragment_110.07086, fragment_210.1116, fragment_116.07114, loss_208.08492, fragment_213.12438, fragment_229.15635, fragment_168.11266, fragment_209.09245, fragment_112.11181, fragment_156.07692, fragment_120.08041, fragment_98.09593, fragment_255.14642, fragment_187.14449, loss_385.12297, fragment_458.1229\n",
      "Topic 86: loss_60.021, loss_74.03668, loss_88.01596, fragment_112.07583, fragment_74.06037, fragment_129.10184, fragment_143.11762, fragment_171.11266, loss_92.04714, fragment_64.9275, fragment_102.05571, fragment_188.09246, fragment_146.11787, fragment_147.04377, fragment_147.04544, fragment_147.07582, fragment_146.09623, fragment_147.06556, fragment_147.06769\n",
      "Topic 87: fragment_67.05455, fragment_81.07, fragment_79.05417, fragment_91.05413, fragment_93.06982, fragment_55.05468, fragment_95.08537, fragment_107.08554, fragment_105.07017, fragment_109.10129, fragment_121.10156, fragment_149.13246, fragment_119.0857, fragment_53.03889, fragment_135.11735, fragment_277.21754, fragment_127.07538, loss_28.03102, fragment_275.20138\n",
      "Topic 88: fragment_131.12918, fragment_72.08072, fragment_157.10848, loss_219.08244, fragment_165.07001, fragment_55.05468, loss_160.03397, loss_134.0566, loss_236.10888, fragment_98.05999, loss_193.10288, loss_126.09326, loss_56.08736, fragment_178.07836, loss_113.08407, fragment_261.63818, fragment_91.05413, loss_200.10904, fragment_114.10281\n",
      "Topic 89: loss_17.02617, loss_129.07874, loss_35.03718, fragment_163.07451, fragment_181.08644, loss_107.05823, fragment_130.0871, fragment_140.06835, fragment_121.02826, loss_89.04756, loss_111.0684, loss_145.07348, fragment_68.0498, fragment_122.09609, fragment_115.03913, loss_175.08434, fragment_111.04429, fragment_53.03889, fragment_213.12438\n",
      "Topic 90: fragment_115.05434, fragment_91.05413, loss_56.06222, fragment_131.08493, fragment_105.07017, fragment_79.05417, loss_198.12539, fragment_117.07034, fragment_129.07001, fragment_128.06203, fragment_53.03889, loss_148.07347, loss_130.06264, fragment_201.12805, loss_102.06815, fragment_123.04462, fragment_133.06448, fragment_55.01824, fragment_149.05997\n",
      "Topic 91: loss_46.00455, fragment_115.08711, fragment_55.01824, fragment_235.07575, loss_236.14275, fragment_267.10114, fragment_206.07155, fragment_176.06238, loss_115.0998, fragment_116.03449, loss_193.10288, fragment_139.03977, fragment_83.06042, fragment_115.0508, fragment_118.06547, fragment_207.08258, fragment_156.11392, fragment_245.09342, fragment_166.07419\n",
      "Topic 92: loss_18.01013, fragment_60.04476, loss_47.0369, loss_35.03718, loss_36.02001, loss_78.03146, loss_46.04164, fragment_105.04464, loss_123.05299, fragment_74.06037, fragment_102.05469, loss_211.10548, fragment_187.10806, fragment_170.08149, loss_93.04256, fragment_164.10657, fragment_88.03967, loss_156.07851, fragment_278.13892\n",
      "Topic 93: fragment_68.04931, loss_154.13594, fragment_121.07623, fragment_182.11724, fragment_128.04973, loss_73.01648, fragment_98.05999, loss_75.03188, loss_87.03188, fragment_95.05992, fragment_97.07643, loss_64.01685, fragment_146.05941, fragment_118.06547, loss_80.01024, fragment_113.07058, fragment_165.07001, fragment_293.13725, fragment_144.06586\n",
      "Topic 94: fragment_88.07588, loss_89.08399, fragment_58.06553, loss_154.02954, loss_140.01437, fragment_123.01112, fragment_72.08072, loss_122.00401, fragment_90.09112, loss_124.01923, fragment_168.0692, loss_153.04567, fragment_59.04942, loss_159.09243, loss_142.03003, loss_44.02606, fragment_160.96762, fragment_166.09854, fragment_159.0652\n",
      "Topic 95: fragment_276.14368, fragment_137.07039, fragment_132.10161, fragment_157.09711, fragment_176.8761, fragment_230.14, loss_125.04751, loss_196.05806, fragment_112.03985, loss_213.12105, loss_64.01556, fragment_162.1031, fragment_189.12435, loss_89.05962, fragment_139.08654, fragment_167.08158, fragment_158.05975, loss_105.05437, fragment_207.12547\n",
      "Topic 96: fragment_72.08072, loss_59.04851, fragment_60.0559, loss_17.02648, fragment_114.10281, loss_71.07342, fragment_97.07643, fragment_55.02948, fragment_169.06132, fragment_215.10376, fragment_147.06556, fragment_146.11787, fragment_146.09623, fragment_147.04377, fragment_146.09279, fragment_147.04544, fragment_146.08112, fragment_146.0609, loss_504.16871\n",
      "Topic 97: loss_146.05776, loss_160.0369, loss_173.06877, loss_163.04805, fragment_81.03337, loss_201.06337, loss_132.04205, loss_136.037, loss_66.03222, fragment_108.04426, fragment_94.06505, fragment_188.07057, loss_36.02083, fragment_206.0825, fragment_53.03889, fragment_122.06034, fragment_195.0292, loss_148.03699, fragment_79.05417\n",
      "Topic 98: fragment_70.06514, fragment_98.05999, loss_504.16871, fragment_147.11301, fragment_146.0609, fragment_146.08112, fragment_146.09279, fragment_146.09623, fragment_146.11787, fragment_147.04377, fragment_147.04544, fragment_147.06556, fragment_147.06769, fragment_147.07582, fragment_147.08092, fragment_147.11654, fragment_146.04403, fragment_147.11813, fragment_147.12366\n",
      "Topic 99: loss_59.07329, fragment_60.08102, loss_87.0684, loss_127.09933, loss_85.08914, loss_105.07856, loss_120.05731, loss_77.0838, loss_75.10479, fragment_105.03345, loss_89.08399, loss_46.12551, fragment_134.01288, fragment_56.96508, fragment_165.07812, fragment_172.09755, fragment_277.13719, fragment_259.12736, loss_211.06909\n"
     ]
    }
   ],
   "source": [
    "topic_fragments = ms2lda.model.topic_word_\n",
    "n_top_frags = 20\n",
    "for i,topic_dist in enumerate(topic_fragments):\n",
    "    topic_f = np.array(ms2lda.data.columns.values)[np.argsort(topic_dist)][:-n_top_frags:-1]\n",
    "    out_string = 'Topic {}: {}'.format(i, ', '.join(topic_f.astype('str')))\n",
    "    print(out_string)"
   ]
  },
  {
   "cell_type": "code",
   "execution_count": 9,
   "metadata": {
    "collapsed": false
   },
   "outputs": [
    {
     "name": "stdout",
     "output_type": "stream",
     "text": [
      "10\n"
     ]
    },
    {
     "data": {
      "text/plain": [
       "[<matplotlib.lines.Line2D at 0x7f01d3c3d690>]"
      ]
     },
     "execution_count": 9,
     "metadata": {},
     "output_type": "execute_result"
    },
    {
     "data": {
      "image/png": "[encoded data removed]",
      "text/plain": [
       "<matplotlib.figure.Figure at 0x7f01d3f9cd10>"
      ]
     },
     "metadata": {},
     "output_type": "display_data"
    }
   ],
   "source": [
    "print len(ms2lda.model.loglikelihoods_)\n",
    "plt.plot(ms2lda.model.loglikelihoods_)"
   ]
  },
  {
   "cell_type": "markdown",
   "metadata": {},
   "source": [
    "2. PCA\n",
    "-------"
   ]
  },
  {
   "cell_type": "markdown",
   "metadata": {},
   "source": [
    "Here we use PCA to project the vector of topics for each parent peak to lower-dimensional space for visualisation purposes. First ensure the variables are scaled."
   ]
  },
  {
   "cell_type": "code",
   "execution_count": 10,
   "metadata": {
    "collapsed": false
   },
   "outputs": [
    {
     "name": "stdout",
     "output_type": "stream",
     "text": [
      "(856, 100)\n"
     ]
    }
   ],
   "source": [
    "df = ms2lda.docdf.transpose() # topics x documents matrix\n",
    "# df = fragments_topicdf.transpose() # topics x words matrix\n",
    "print df.shape\n",
    "\n",
    "# normalise and scale the variables\n",
    "scaled_mat = preprocessing.scale(df, axis=0)\n",
    "# print scaled_mat.mean(axis=0)\n",
    "# print scaled_mat.std(axis=0)"
   ]
  },
  {
   "cell_type": "markdown",
   "metadata": {},
   "source": [
    "Then run PCA"
   ]
  },
  {
   "cell_type": "code",
   "execution_count": 11,
   "metadata": {
    "collapsed": false
   },
   "outputs": [
    {
     "data": {
      "image/png": "[encoded data removed]",
      "text/plain": [
       "<matplotlib.figure.Figure at 0x7f01d3c18e50>"
      ]
     },
     "metadata": {},
     "output_type": "display_data"
    },
    {
     "data": {
      "image/png": "[encoded data removed]",
      "text/plain": [
       "<matplotlib.figure.Figure at 0x7f01d41cce90>"
      ]
     },
     "metadata": {},
     "output_type": "display_data"
    },
    {
     "name": "stdout",
     "output_type": "stream",
     "text": [
      "34\n"
     ]
    }
   ],
   "source": [
    "pca = PCA()\n",
    "pca.fit(scaled_mat)\n",
    "X_r = pca.transform(scaled_mat)\n",
    "\n",
    "plt.figure()\n",
    "plt.hist(X_r[:, 0], bins=30)\n",
    "plt.title('First transformed variable')\n",
    "plt.show()\n",
    "\n",
    "plt.figure()\n",
    "plt.hist(X_r[:, 1], bins=30)\n",
    "plt.title('Second transformed variable')\n",
    "plt.show()\n",
    "\n",
    "print np.argmax(np.abs(pca.components_[0, :]))"
   ]
  },
  {
   "cell_type": "markdown",
   "metadata": {},
   "source": [
    "But the explained variances by the first few principal components are too low ..??"
   ]
  },
  {
   "cell_type": "code",
   "execution_count": 12,
   "metadata": {
    "collapsed": false
   },
   "outputs": [
    {
     "name": "stdout",
     "output_type": "stream",
     "text": [
      "(856, 100)\n",
      "1.0\n",
      "explained variance by the principal components: [  1.80005769e-02   1.58123214e-02   1.49090746e-02   1.48379220e-02\n",
      "   1.44115622e-02   1.37721588e-02   1.35636577e-02   1.33000809e-02\n",
      "   1.31717994e-02   1.29649232e-02   1.29150414e-02   1.26285855e-02\n",
      "   1.24943505e-02   1.23591918e-02   1.23208586e-02   1.21355621e-02\n",
      "   1.20750267e-02   1.19412532e-02   1.19353091e-02   1.18821455e-02\n",
      "   1.18269844e-02   1.16733758e-02   1.16134150e-02   1.14992049e-02\n",
      "   1.13834996e-02   1.12695761e-02   1.12015615e-02   1.11203740e-02\n",
      "   1.10523301e-02   1.09447400e-02   1.09059922e-02   1.08194391e-02\n",
      "   1.07971924e-02   1.07097405e-02   1.06744996e-02   1.06223259e-02\n",
      "   1.05476117e-02   1.05035778e-02   1.04761771e-02   1.03835544e-02\n",
      "   1.03655015e-02   1.03294692e-02   1.02925602e-02   1.02641658e-02\n",
      "   1.01870403e-02   1.01667756e-02   1.00866585e-02   1.00696602e-02\n",
      "   1.00284999e-02   9.93593158e-03   9.89852142e-03   9.86309035e-03\n",
      "   9.80943785e-03   9.78590653e-03   9.76819703e-03   9.71927935e-03\n",
      "   9.66162490e-03   9.63815467e-03   9.61434191e-03   9.53219991e-03\n",
      "   9.43685650e-03   9.36863286e-03   9.28424003e-03   9.25517592e-03\n",
      "   9.23352159e-03   9.18230002e-03   9.13425203e-03   9.09919675e-03\n",
      "   9.05520899e-03   8.89515398e-03   8.81888897e-03   8.73502156e-03\n",
      "   8.69035164e-03   8.62530802e-03   8.59749246e-03   8.49408801e-03\n",
      "   8.39462514e-03   8.33747233e-03   8.21763077e-03   8.14863267e-03\n",
      "   8.11219935e-03   8.07925871e-03   8.04469566e-03   7.90216320e-03\n",
      "   7.84345245e-03   7.69737262e-03   7.62402226e-03   7.53094889e-03\n",
      "   7.43896436e-03   7.27949492e-03   7.13111097e-03   7.04920934e-03\n",
      "   6.87022476e-03   6.81813143e-03   6.70335294e-03   6.50716700e-03\n",
      "   6.13768582e-03   6.01311385e-03   5.73979105e-03   8.56144801e-32]\n"
     ]
    }
   ],
   "source": [
    "print X_r.shape\n",
    "print np.sum(pca.explained_variance_ratio_)\n",
    "print('explained variance by the principal components: %s' % str(pca.explained_variance_ratio_))"
   ]
  },
  {
   "cell_type": "code",
   "execution_count": 13,
   "metadata": {
    "collapsed": false
   },
   "outputs": [
    {
     "data": {
      "text/plain": [
       "<matplotlib.text.Text at 0x7f01d401b190>"
      ]
     },
     "execution_count": 13,
     "metadata": {},
     "output_type": "execute_result"
    },
    {
     "data": {
      "image/png": "[encoded data removed]",
      "text/plain": [
       "<matplotlib.figure.Figure at 0x7f01d3d40390>"
      ]
     },
     "metadata": {},
     "output_type": "display_data"
    }
   ],
   "source": [
    "plt.figure()\n",
    "plt.scatter(X_r[:, 0], X_r[:, 1])\n",
    "plt.xlabel('1st princomp')\n",
    "plt.ylabel('2nd princomp')\n",
    "plt.title('Projected parent peaks')"
   ]
  },
  {
   "cell_type": "markdown",
   "metadata": {},
   "source": [
    "3. Network\n",
    "------------"
   ]
  },
  {
   "cell_type": "markdown",
   "metadata": {},
   "source": [
    "We can try to put the parent peaks on a network too."
   ]
  },
  {
   "cell_type": "code",
   "execution_count": 14,
   "metadata": {
    "collapsed": false
   },
   "outputs": [
    {
     "name": "stdout",
     "output_type": "stream",
     "text": [
      "(856, 100)\n"
     ]
    }
   ],
   "source": [
    "# df = topicdf.transpose() # topic x terms matrix\n",
    "df = ms2lda.docdf.transpose() # documents x topic matrix\n",
    "print df.shape "
   ]
  },
  {
   "cell_type": "code",
   "execution_count": 15,
   "metadata": {
    "collapsed": false
   },
   "outputs": [
    {
     "name": "stdout",
     "output_type": "stream",
     "text": [
      "(856, 856)\n"
     ]
    },
    {
     "data": {
      "image/png": "[encoded data removed]",
      "text/plain": [
       "<matplotlib.figure.Figure at 0x7f01d3c26b50>"
      ]
     },
     "metadata": {},
     "output_type": "display_data"
    },
    {
     "data": {
      "text/plain": [
       "<matplotlib.figure.Figure at 0x7f01d3d90050>"
      ]
     },
     "metadata": {},
     "output_type": "display_data"
    },
    {
     "data": {
      "image/png": "[encoded data removed]",
      "text/plain": [
       "<matplotlib.figure.Figure at 0x7f01d3ffefd0>"
      ]
     },
     "metadata": {},
     "output_type": "display_data"
    }
   ],
   "source": [
    "# create adjacency matrix A\n",
    "\n",
    "# first compute euclidean distance between the topics\n",
    "from scipy.spatial.distance import cdist\n",
    "A = cdist(df, df, 'euclidean')\n",
    "print A.shape\n",
    "\n",
    "# crudely convert to similarities\n",
    "maxval = A.max()\n",
    "A = 1-(A/maxval)\n",
    "plt.figure()\n",
    "plt.hist(A)\n",
    "plt.title('Histogram of values in the adjacency matrix')\n",
    "plt.show()\n",
    "\n",
    "# set a threshold for the similarity values for the network graph\n",
    "for i in xrange(A.shape[0]):\n",
    "    for j in xrange(A.shape[1]):\n",
    "        if A[i, j] < 0.75:\n",
    "            A[i, j] = 0\n",
    "\n",
    "plt.figure()\n",
    "plt.matshow(A)\n",
    "plt.colorbar()\n",
    "plt.title('Adjacency matrix after thresholding', y=1.2)\n",
    "plt.show()"
   ]
  },
  {
   "cell_type": "code",
   "execution_count": 16,
   "metadata": {
    "collapsed": false
   },
   "outputs": [
    {
     "data": {
      "image/png": "[encoded data removed]",
      "text/plain": [
       "<matplotlib.figure.Figure at 0x7f01d3d900d0>"
      ]
     },
     "metadata": {},
     "output_type": "display_data"
    }
   ],
   "source": [
    "dt = [('len', float)]\n",
    "A = A.view(dt)\n",
    "G = nx.from_numpy_matrix(A)\n",
    "pos = nx.spring_layout(G, k=0.01, iterations=20)\n",
    "nx.draw(G, pos, node_size=10, with_labels=False)"
   ]
  },
  {
   "cell_type": "markdown",
   "metadata": {},
   "source": [
    "Now we see some connected components in the network graph. Below we print the largest top-20 components. \n",
    "\n",
    "Parent peaks in the same component are connected in the graph above, i.e. they form some sort of clusters, suggesting they share topics in common?"
   ]
  },
  {
   "cell_type": "code",
   "execution_count": 17,
   "metadata": {
    "collapsed": false
   },
   "outputs": [
    {
     "name": "stdout",
     "output_type": "stream",
     "text": [
      "Component 1\n",
      "==============\n",
      " peakID  mz           rt        intensity   \n",
      " 10026    255.170156   835.064  3.377589e+05\n",
      "  7762    118.086165   532.509  1.591873e+09\n",
      "  7724    198.112485   554.431  1.699979e+06\n",
      "  7726    204.086636   547.980  6.168024e+06\n",
      "  9107    505.176703   662.160  4.163804e+06\n",
      "  9113    218.124765   691.613  4.310692e+05\n",
      "  9131    129.065795   632.053  1.117484e+08\n",
      " 10522    372.189735   617.886  2.403418e+06\n",
      " 10524    212.095090   739.434  5.293236e+06\n",
      "  5734    127.050233   414.504  2.761295e+07\n",
      " 10530    291.163250   564.091  3.559679e+06\n",
      "  7770    138.054881   546.349  4.148492e+08\n",
      " 10543    319.149792   943.404  4.451091e+05\n",
      "  7785    259.128812   559.317  1.632118e+06\n",
      "  9377    331.147568   714.479  2.697733e+05\n",
      "  9379    408.240353   731.995  3.381979e+05\n",
      " 10411    189.159682   859.763  5.534961e+07\n",
      "  7038    130.049890   482.456  1.954056e+08\n",
      " 11286    413.212910   970.739  3.720262e+05\n",
      "  9668    471.218615   712.790  1.624741e+06\n",
      " 12207    104.106957   988.951  1.219680e+07\n",
      " 12380    131.129116   973.922  1.216931e+07\n",
      "  8239    147.065161   613.130  5.544542e+06\n",
      " 12387    131.129124   825.457  1.447870e+07\n",
      "  9957    198.097231   696.858  7.646021e+06\n",
      " 12554    180.138235  1076.090  1.978641e+06\n",
      " 12555    180.138244  1144.760  6.492133e+05\n",
      " 12562    180.138243  1176.410  3.134171e+05\n",
      " 12563    180.138241  1018.080  7.479064e+05\n",
      " 12564    180.138238  1037.050  1.527932e+06\n",
      " 12747    265.154531  1093.700  4.872180e+05\n",
      "  7175    306.168514   517.032  9.032314e+05\n",
      "  6325    156.065501   451.307  4.051054e+06\n",
      " 10311    163.060020   627.372  1.109648e+06\n",
      " 10340    155.117848   898.140  2.775934e+05\n",
      "  8703    608.239937   649.151  5.707238e+05\n",
      " 10384    314.166402   878.494  2.696409e+05\n",
      " 10392    148.096785   843.717  3.449339e+05\n",
      "  7298    248.060997   543.289  1.111248e+06\n",
      "  7311    235.165081   532.509  4.462398e+08\n",
      "  8816    328.175438   652.424  1.897256e+06\n",
      "  8827   1009.345299   662.160  8.001868e+05\n",
      "  7756    440.176341   568.665  1.128868e+06\n",
      "\n",
      "Component 2\n",
      "==============\n",
      " peakID  mz          rt       intensity     \n",
      " 5603    254.102214  294.270    409078.15625\n",
      " 5604    254.102181  330.420    772843.81250\n",
      " 3737    391.100037  311.220    799425.56250\n",
      " 5777    310.128460  372.653    774816.62500\n",
      " 3761    158.128785  187.957    708807.31250\n",
      " 6834    111.116807  183.681    509710.53125\n",
      " 3935    135.116797  268.114    382624.71875\n",
      " 3945    160.133218  264.755   5327080.50000\n",
      " 7767    132.101927  281.137   1432155.62500\n",
      " 1499    277.216090  246.483    503327.12500\n",
      " 1515    366.227314  210.369   2972065.00000\n",
      " 7149    486.181759  520.119    760189.50000\n",
      " 7018    121.064798  316.513   1371262.25000\n",
      " 2183    244.190680  228.159    879603.75000\n",
      " 2229    425.136020  241.536   4185123.25000\n",
      " 4835    137.059752  406.488   1482058.25000\n",
      " 2461    584.356833  271.396    624306.43750\n",
      " 2462    606.370162  269.747    630786.06250\n",
      " 2464    650.396286  269.747    586887.56250\n",
      " 8343    277.139319  617.886   5030992.00000\n",
      " 6339    216.123107  409.811  10121363.00000\n",
      " 6341    216.123055  385.459   2965497.50000\n",
      " 6343    227.102542  330.420  11927137.00000\n",
      " 8581    546.689030  636.638   1312242.25000\n",
      " 7419    304.100255  554.431    859203.81250\n",
      " 6375    198.112524  411.438  12476236.00000\n",
      " 6386    240.122990  254.771    504911.59375\n",
      " 6387    240.122910  382.238    713964.56250\n",
      " 2784    280.154305  256.419    677077.31250\n",
      " 3249    251.127622  208.697   4092537.75000\n",
      " 3282    213.148514  248.128   2737933.75000\n",
      " 3295    267.122590  239.890   2311674.00000\n",
      "\n",
      "Component 3\n",
      "==============\n",
      " peakID  mz           rt       intensity     \n",
      " 8917     457.202781  672.871    350569.15625\n",
      " 6117     109.028447  464.065    810857.12500\n",
      " 9036     183.086316  613.130  50205160.00000\n",
      " 7095     502.249556  517.032   1135684.62500\n",
      " 7822     311.123650  570.233    611274.81250\n",
      " 7716     163.060035  551.208   3448468.75000\n",
      " 5283     243.097555  412.921   6523058.00000\n",
      " 6764     152.106939  183.681  21835504.00000\n",
      " 5723     324.155484  374.230   1094004.00000\n",
      " 8395     286.150735  625.833   1453416.37500\n",
      " 7968     282.118146  554.431  13833582.00000\n",
      " 8417     434.186955  649.151   1700183.87500\n",
      " 8469     288.105392  633.586   1247606.00000\n",
      " 2598     279.159001  236.531   1054828.12500\n",
      " 9224    1008.361423  688.576   1930465.12500\n",
      " 8886     272.135164  669.781    568887.62500\n",
      "\n",
      "Component 4\n",
      "==============\n",
      " peakID  mz          rt        intensity     \n",
      " 10965   244.140333  1107.850   838609.250000\n",
      "  7694   402.150717   560.934   933817.187500\n",
      "  7700    81.033509   565.722   643828.125000\n",
      "  8162   457.166413   613.130   700556.062500\n",
      "  9342   109.028448   668.607  1309510.250000\n",
      "  9862   246.133527   797.795   271560.468750\n",
      "  9816   234.108370   813.117  1253143.625000\n",
      " 10964   244.140325  1112.590  1008019.687500\n",
      "  9508   295.149947   687.048  1306102.875000\n",
      "  9812   214.646953   821.620   221565.640625\n",
      " 11229   254.160967  1200.590   974129.062500\n",
      " 10438   130.097519   685.551  4970998.500000\n",
      "  9548   260.154781   754.395   727812.500000\n",
      "\n",
      "Component 5\n",
      "==============\n",
      " peakID  mz          rt       intensity   \n",
      " 2149    291.268117  238.237   569308.0625\n",
      " 1326    310.212535  241.536  1243539.2500\n",
      " 2726    359.103727  286.004   761772.0625\n",
      " 2735    387.180126  241.536  9422274.0000\n",
      " 5721    324.155483  417.639  1094039.0000\n",
      " 3518    515.413191  279.485   554906.6875\n",
      " 3604    195.138010  248.128  2261169.7500\n",
      " 3625    246.169924  244.833   542131.0625\n",
      " 3626    261.090272  299.240   420765.8750\n",
      " 3661    237.148428  216.950   662345.5000\n",
      " 4497    202.143779  243.181  2058426.0000\n",
      "\n",
      "Component 6\n",
      "==============\n",
      " peakID  mz          rt       intensity    \n",
      "  534    235.912895  186.196   379896.71875\n",
      "  590    449.235502  205.410   587774.56250\n",
      " 1674    382.222172  231.552   655839.25000\n",
      " 1704    273.180643  254.771  3040750.00000\n",
      " 1733    398.217254  231.552   386221.28125\n",
      " 1741    663.453722  221.946  2136253.25000\n",
      " 1754    258.206319  224.227   601681.25000\n",
      " 1828    311.136799  254.771   612637.00000\n",
      " 1857    273.217043  246.483   365025.68750\n",
      " 1870    331.190344  210.369  7098758.50000\n",
      "\n",
      "Component 7\n",
      "==============\n",
      " peakID  mz          rt       intensity   \n",
      " 2287    540.330659  274.685   514792.8125\n",
      " 2302    284.127868  277.930   419967.0000\n",
      "  718    313.179749  210.369   736058.5000\n",
      " 2338    264.144084  241.536  1019507.8125\n",
      " 2387    307.263187  243.181   370847.6875\n",
      " 2409    628.383127  269.747   539658.5000\n",
      " 2429    257.042049  241.536  2260515.2500\n",
      " 2432    264.089934  274.685  1071668.5000\n",
      " 2335    256.096663  263.096   927148.0000\n",
      "\n",
      "Component 8\n",
      "==============\n",
      " peakID  mz          rt       intensity    \n",
      " 4087    184.060506  362.957   400745.37500\n",
      " 4097    414.197042  310.690  1785959.87500\n",
      " 4101    204.123123  259.764   397081.78125\n",
      " 4108    251.185191  259.764  8181066.50000\n",
      " 4158    228.123077  263.096   530721.87500\n",
      " 2834    241.179682  239.890   450867.56250\n",
      " 2922    180.159400  261.408   609422.31250\n",
      " 4871    246.079455  411.438  4586003.50000\n",
      " 4402    287.221539  229.964  3431481.00000\n",
      "\n",
      "Component 9\n",
      "==============\n",
      " peakID  mz          rt       intensity    \n",
      " 7626    264.107641  552.842   2452715.5000\n",
      " 8577    374.798339  645.990   1258291.1250\n",
      " 7110    146.117563  325.502   8633347.0000\n",
      " 7114    157.060782  510.582  38184532.0000\n",
      " 7120    188.091708  510.582    646297.3750\n",
      " 7179    137.045777  512.170  57503032.0000\n",
      " 5601    254.102183  419.222   1980328.6250\n",
      " 8564    561.694306  619.436    872530.9375\n",
      " 3312    365.191672  313.268    331090.1875\n",
      "\n",
      "Component 10\n",
      "==============\n",
      " peakID  mz          rt       intensity     \n",
      " 9261    175.023674  705.821   252721.078125\n",
      " 6363    152.031825  483.773  6048851.000000\n",
      " 6368    152.070657  412.921  1903501.875000\n",
      " 6369    163.060070  466.972  6942937.000000\n",
      " 6377    198.112490  459.215  1451798.625000\n",
      " 6478    312.111188  482.456  6716588.500000\n",
      " 4911    154.086246  403.273  1330079.625000\n",
      " 6522    318.094986  501.043  1132150.875000\n",
      " 9234    265.139266  684.096   884532.500000\n",
      "\n",
      "Component 11\n",
      "==============\n",
      " peakID  mz          rt       intensity     \n",
      " 5141    188.128091  292.609   2908140.50000\n",
      " 5142    188.128133  411.438   3608400.00000\n",
      " 5147    248.100518  417.639   3197394.00000\n",
      " 5182    414.197140  416.080   1267431.62500\n",
      " 5186     96.044381  393.576   2051848.00000\n",
      " 5251    300.084392  300.895    433991.53125\n",
      " 5252    300.084447  390.305   7673660.50000\n",
      " 5253    314.159822  412.921   7184420.50000\n",
      " 5263    264.074432  417.639  16031974.00000\n",
      "\n",
      "Component 12\n",
      "==============\n",
      " peakID  mz          rt       intensity     \n",
      " 6085    132.065535  435.357   2628471.50000\n",
      " 6092    194.081061  471.593    688608.93750\n",
      " 6974     99.044051  443.301    635446.06250\n",
      " 7002    116.070610  433.724   5674531.00000\n",
      " 6056    342.154800  348.358    544346.06250\n",
      " 6058    342.154810  332.055    432085.09375\n",
      " 6060    364.161456  465.402   1230466.37500\n",
      " 6069    150.091382  452.947  14608932.00000\n",
      " 6071    180.065547  412.921   2012001.50000\n",
      "\n",
      "Component 13\n",
      "==============\n",
      " peakID  mz          rt       intensity     \n",
      " 7193    180.086622  465.402   4348621.50000\n",
      " 6603    242.113420  479.488  15499311.00000\n",
      " 7215    104.070604  403.273  17919014.00000\n",
      " 7031    121.064809  354.896    705483.43750\n",
      " 6429    366.079403  493.109    608933.37500\n",
      " 6440    361.124036  493.109   1344503.62500\n",
      " 6284    163.132856  259.764   4585697.50000\n",
      " 7034    121.064800  515.409    522271.21875\n",
      " 7033    121.064838  481.014   3680441.25000\n",
      "\n",
      "Component 14\n",
      "==============\n",
      " peakID  mz          rt       intensity     \n",
      " 10467   306.168618  636.638   2559590.25000\n",
      " 10470    89.107306  756.994    467490.28125\n",
      "  8725   248.112778  635.166  10026473.00000\n",
      "  8734   418.155549  655.682    929844.37500\n",
      "  8778   428.176240  650.793  27818232.00000\n",
      "  8799   668.260798  662.160    554212.43750\n",
      "  8837   590.229411  658.950   1993101.75000\n",
      "  9501   499.224823  711.245   3067063.50000\n",
      "  9667   471.218588  779.232   1443235.62500\n",
      "\n",
      "Component 15\n",
      "==============\n",
      " peakID  mz          rt       intensity   \n",
      "  7666   152.068170  565.722   749651.9375\n",
      "  2236   672.409325  269.747   462983.8750\n",
      "  8957   219.133934  670.770  1611505.3750\n",
      "  8968   282.119549  657.338  5293597.0000\n",
      "  6667   110.060072  380.610  8242616.0000\n",
      "  2254   340.175556  254.771   569408.7500\n",
      "  8971   446.151749  677.129   794460.0625\n",
      " 10532   291.163171  729.738  5736993.5000\n",
      "\n",
      "Component 16\n",
      "==============\n",
      " peakID  mz          rt       intensity    \n",
      " 6654    315.129795  504.302    890229.1875\n",
      " 5733    124.039353  335.339   4551394.5000\n",
      " 4971    275.159990  313.268    506343.1875\n",
      " 4972    275.160048  414.504   1319307.8750\n",
      " 4979    279.154589  333.702    768432.2500\n",
      " 4980    279.154806  377.378   1991341.3750\n",
      " 4981    279.154973  412.921  19357036.0000\n",
      " 5002    245.164829  409.811   1280330.6250\n",
      "\n",
      "Component 17\n",
      "==============\n",
      " peakID  mz          rt       intensity  \n",
      " 10245   134.100455  876.985  1800275.250\n",
      " 10248   227.158157  882.758   538064.625\n",
      " 10307   163.059964  668.607  2789640.750\n",
      " 10308   163.060033  601.884  1957222.875\n",
      " 10488   142.097525  877.741  1249525.375\n",
      "  6161   217.107039  469.996   840570.500\n",
      "  6164   228.105846  427.263  3116971.250\n",
      "  6167   265.058406  332.055  2270664.500\n",
      "\n",
      "Component 18\n",
      "==============\n",
      " peakID  mz          rt        intensity   \n",
      " 10478   104.070573   645.990  92281480.000\n",
      "  7708   133.068849   565.722   1219920.375\n",
      "  6969   763.284418   515.409   1445474.125\n",
      "  7010   121.064804   259.764   5622486.500\n",
      "  7869   627.186483   587.564    944735.250\n",
      "  7908   318.129528   570.233   4967270.500\n",
      " 11289   413.212904  1051.830    737668.750\n",
      "  7710   144.101895   515.409   9397205.000\n",
      "\n",
      "Component 19\n",
      "==============\n",
      " peakID  mz          rt        intensity     \n",
      "  7087   294.154508   471.593  65806456.00000\n",
      " 10345   203.150262   860.383  32833598.00000\n",
      "  7115   166.086238   499.470  15050859.00000\n",
      " 10370   416.213927   905.841    446360.96875\n",
      " 12548   180.138249  1163.280    421484.15625\n",
      "  7732   233.113201   564.091    665158.81250\n",
      "  7082   258.108407   473.204   8551761.00000\n",
      "  7084   262.128361   501.043  11337841.00000\n",
      "\n",
      "Component 20\n",
      "==============\n",
      " peakID  mz          rt       intensity     \n",
      "  9326   240.107640  688.576    309250.18750\n",
      "  8944   233.149494  674.743    321353.21875\n",
      "  8627   234.097203  641.423    666529.18750\n",
      "  9901   369.249652  839.514    322137.78125\n",
      " 10517   180.086597  603.508  11876014.00000\n",
      " 10407   127.038975  699.829   1687564.37500\n",
      " 10022   363.184381  791.985   1081165.50000\n",
      " 10460   111.044052  593.907   3439360.50000\n",
      "\n"
     ]
    }
   ],
   "source": [
    "components = sorted(nx.connected_components(G), key = len, reverse=True)\n",
    "counter = 1\n",
    "for comp in components:\n",
    "    if counter > 20:\n",
    "        break\n",
    "    print \"Component \" + str(counter)\n",
    "    print \"==============\"\n",
    "    idx = np.array(comp)-1 # nodes are indexed from 1 .. N\n",
    "    ms1_rows = ms2lda.ms1.iloc[idx]\n",
    "    print ms1_rows[['peakID', 'mz', 'rt', 'intensity']].to_string(index=False, justify='left')\n",
    "    counter += 1\n",
    "    print"
   ]
  },
  {
   "cell_type": "markdown",
   "metadata": {},
   "source": [
    "4. Document-Topics Distribution\n",
    "----------------------------------"
   ]
  },
  {
   "cell_type": "markdown",
   "metadata": {},
   "source": [
    "Visualise the document-topic distributions"
   ]
  },
  {
   "cell_type": "code",
   "execution_count": 18,
   "metadata": {
    "collapsed": false
   },
   "outputs": [
    {
     "name": "stdout",
     "output_type": "stream",
     "text": [
      "(856, 100)\n"
     ]
    },
    {
     "data": {
      "image/png": "[encoded data removed]",
      "text/plain": [
       "<matplotlib.figure.Figure at 0x7f01d3bfebd0>"
      ]
     },
     "metadata": {},
     "output_type": "display_data"
    }
   ],
   "source": [
    "df = ms2lda.docdf.transpose()\n",
    "print df.shape\n",
    "plt.pcolor(df, norm=None, cmap='Blues')\n",
    "plt.tight_layout()\n",
    "plt.xlabel('Topics')\n",
    "plt.ylabel('Parent peaks')\n",
    "plt.title('Documents-topics distributions')\n",
    "plt.show()"
   ]
  },
  {
   "cell_type": "markdown",
   "metadata": {},
   "source": [
    "Nothing useful here ..."
   ]
  }
 ],
 "metadata": {
  "kernelspec": {
   "display_name": "Python 2",
   "language": "python",
   "name": "python2"
  },
  "language_info": {
   "codemirror_mode": {
    "name": "ipython",
    "version": 2
   },
   "file_extension": ".py",
   "mimetype": "text/x-python",
   "name": "python",
   "nbconvert_exporter": "python",
   "pygments_lexer": "ipython2",
   "version": "2.7.9"
  }
 },
 "nbformat": 4,
 "nbformat_minor": 0
}
