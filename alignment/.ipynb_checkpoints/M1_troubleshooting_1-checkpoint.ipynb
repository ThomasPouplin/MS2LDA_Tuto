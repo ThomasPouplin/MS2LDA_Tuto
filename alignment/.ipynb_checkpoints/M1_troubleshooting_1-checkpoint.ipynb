{
 "cells": [
  {
   "cell_type": "markdown",
   "metadata": {},
   "source": [
    "<h1>Test discretisation</h1>"
   ]
  },
  {
   "cell_type": "code",
   "execution_count": 1,
   "metadata": {
    "collapsed": false
   },
   "outputs": [],
   "source": [
    "%load_ext autoreload\n",
    "%autoreload 2\n",
    "%matplotlib inline"
   ]
  },
  {
   "cell_type": "code",
   "execution_count": 2,
   "metadata": {
    "collapsed": true
   },
   "outputs": [],
   "source": [
    "import sys\n",
    "import os\n",
    "sys.path.insert(1, os.path.join(sys.path[0], '..'))"
   ]
  },
  {
   "cell_type": "code",
   "execution_count": 3,
   "metadata": {
    "collapsed": true
   },
   "outputs": [],
   "source": [
    "import numpy as np\n",
    "import pylab as plt\n",
    "import pandas as pd\n",
    "import seaborn as sns\n",
    "sns.set(color_codes=True)\n",
    "from IPython.display import display, HTML"
   ]
  },
  {
   "cell_type": "code",
   "execution_count": 4,
   "metadata": {
    "collapsed": true
   },
   "outputs": [],
   "source": [
    "from discretisation.preprocessing import FileLoader\n",
    "from models import HyperPars as AlignmentHyperPars\n",
    "from discretisation.adduct_cluster import AdductCluster, Peak\n",
    "from shared_bin_matching import SharedBinMatching as Aligner\n",
    "from ground_truth import GroundTruth"
   ]
  },
  {
   "cell_type": "markdown",
   "metadata": {},
   "source": [
    "Define input parameters"
   ]
  },
  {
   "cell_type": "code",
   "execution_count": 5,
   "metadata": {
    "collapsed": false
   },
   "outputs": [],
   "source": [
    "input_dir = '/home/joewandy/git/metabolomics_tools/alignment/input/M1_4'\n",
    "database_file = None\n",
    "transformation_file = '/home/joewandy/git/metabolomics_tools/alignment/pos_transformations_full.yml'"
   ]
  },
  {
   "cell_type": "code",
   "execution_count": 6,
   "metadata": {
    "collapsed": false
   },
   "outputs": [
    {
     "name": "stdout",
     "output_type": "stream",
     "text": [
      "Hyperparameters across_file_mass_tol=100, across_file_rt_tol=100, alpha_mass=1.0, beta=0.1, dp_alpha=100.0, mass_clustering_n_iterations=100, rt_clustering_burnin=100, rt_clustering_nsamps=200, t=0, within_file_mass_tol=60, within_file_rt_tol=5\n"
     ]
    }
   ],
   "source": [
    "hp = AlignmentHyperPars()    \n",
    "hp.within_file_mass_tol = 60\n",
    "hp.within_file_rt_tol = 5\n",
    "hp.across_file_mass_tol = 100\n",
    "hp.across_file_rt_tol = 100\n",
    "hp.alpha_mass = 1.0\n",
    "hp.dp_alpha = 100.0\n",
    "hp.t = 0\n",
    "hp.mass_clustering_n_iterations = 100\n",
    "hp.rt_clustering_nsamps = 200\n",
    "hp.rt_clustering_burnin = 100\n",
    "\n",
    "print hp"
   ]
  },
  {
   "cell_type": "code",
   "execution_count": null,
   "metadata": {
    "collapsed": false
   },
   "outputs": [
    {
     "name": "stdout",
     "output_type": "stream",
     "text": [
      "Hyperparameters across_file_mass_tol=100, across_file_rt_tol=100, alpha_mass=1.0, beta=0.1, dp_alpha=100.0, mass_clustering_n_iterations=100, rt_clustering_burnin=100, rt_clustering_nsamps=200, t=0, within_file_mass_tol=60, within_file_rt_tol=5\n",
      "5843 features read from M1_1.txt\n",
      "7516 features read from M1_2.txt\n",
      "9133 features read from M1_3.txt\n",
      "5877 features read from M1_4.txt\n",
      "[M+ACN+H, 2M+H, 2M+Na, M+ACN+2H, M+2ACN+2H, M+2H, M+H, M+H+NH4, M+2ACN+H, M+NH4, 2M+ACN+H, M+CH3OH+H, M+ACN+Na, M+Na]\n",
      "Match mode 0\n",
      "Matching peak features\n",
      "Processing file 0\n",
      "Processing file 1\n",
      "Computing score matrix\n",
      "Running matching"
     ]
    }
   ],
   "source": [
    "match_mode = 0\n",
    "aligner0 = Aligner(input_dir, database_file, transformation_file, \n",
    "                       hp, verbose=True, seed=1234567890)\n",
    "aligner0.run(match_mode, show_singleton=False)"
   ]
  },
  {
   "cell_type": "code",
   "execution_count": 7,
   "metadata": {
    "collapsed": false
   },
   "outputs": [
    {
     "name": "stdout",
     "output_type": "stream",
     "text": [
      "28365\n"
     ]
    }
   ],
   "source": [
    "match0_performance = aligner0.evaluate_performance(gt_file, verbose=False, print_TP=True, method=1)\n",
    "for results in match0_performance:\n",
    "    print \"tp=%d, fp=%d, fn=%d, prec=%.3f, rec=%.3f, f1=%.3f, th_prob=%.3f\" % results"
   ]
  },
  {
   "cell_type": "code",
   "execution_count": 9,
   "metadata": {
    "collapsed": false,
    "scrolled": true
   },
   "outputs": [
    {
     "name": "stdout",
     "output_type": "stream",
     "text": [
      " [M+ACN+H, M+ACN+H [C13], [M-CO]+ACN+H, [M-CO]+ACN+H [C13], [M-H2O]+ACN+H, [M-H2O]+ACN+H [C13], [M-CH2O2]+ACN+H, [M-CH2O2]+ACN+H [C13], [M-CO2]+ACN+H, [M-CO2]+ACN+H [C13], M+NH4, M+NH4 [C13], [M-CO]+NH4, [M-CO]+NH4 [C13], [M-H2O]+NH4, [M-H2O]+NH4 [C13], [M-CH2O2]+NH4, [M-CH2O2]+NH4 [C13], [M-CO2]+NH4, [M-CO2]+NH4 [C13], M+Na, M+Na [C13], [M-CO]+Na, [M-CO]+Na [C13], [M-H2O]+Na, [M-H2O]+Na [C13], [M-CH2O2]+Na, [M-CH2O2]+Na [C13], [M-CO2]+Na, [M-CO2]+Na [C13], M+K, M+K [C13], [M-CO]+K, [M-CO]+K [C13], [M-H2O]+K, [M-H2O]+K [C13], [M-CH2O2]+K, [M-CH2O2]+K [C13], [M-CO2]+K, [M-CO2]+K [C13], M+2H, M+2H [C13], [M-CO]+2H, [M-CO]+2H [C13], [M-H2O]+2H, [M-H2O]+2H [C13], [M-CH2O2]+2H, [M-CH2O2]+2H [C13], [M-CO2]+2H, [M-CO2]+2H [C13], M+H, M+H [C13], [M-CO]+H, [M-CO]+H [C13], [M-H2O]+H, [M-H2O]+H [C13], [M-CH2O2]+H, [M-CH2O2]+H [C13], [M-CO2]+H, [M-CO2]+H [C13]]\n",
      "processing .............................\n",
      "Created 859 clusters\n",
      "Assigning possible transformations 0/28365\n",
      "Assigning possible transformations 500/28365\n",
      "Assigning possible transformations 1000/28365\n",
      "Assigning possible transformations 1500/28365\n",
      "Assigning possible transformations 2000/28365\n",
      "Assigning possible transformations 2500/28365\n",
      "Assigning possible transformations 3000/28365\n",
      "Assigning possible transformations 3500/28365\n",
      "Assigning possible transformations 4000/28365\n",
      "Assigning possible transformations 4500/28365\n",
      "Assigning possible transformations 5000/28365\n",
      "Assigning possible transformations 5500/28365\n",
      "Assigning possible transformations 6000/28365\n",
      "Assigning possible transformations 6500/28365\n",
      "Assigning possible transformations 7000/28365\n",
      "Assigning possible transformations 7500/28365\n",
      "Assigning possible transformations 8000/28365\n",
      "Assigning possible transformations 8500/28365\n",
      "Assigning possible transformations 9000/28365\n",
      "Assigning possible transformations 9500/28365\n",
      "Assigning possible transformations 10000/28365\n",
      "Assigning possible transformations 10500/28365\n",
      "Assigning possible transformations 11000/28365\n",
      "Assigning possible transformations 11500/28365\n",
      "Assigning possible transformations 12000/28365\n",
      "Assigning possible transformations 12500/28365\n",
      "Assigning possible transformations 13000/28365\n",
      "Assigning possible transformations 13500/28365\n",
      "Assigning possible transformations 14000/28365\n",
      "Assigning possible transformations 14500/28365\n",
      "Assigning possible transformations 15000/28365\n",
      "Assigning possible transformations 15500/28365\n",
      "Assigning possible transformations 16000/28365\n",
      "Assigning possible transformations 16500/28365\n",
      "Assigning possible transformations 17000/28365\n",
      "Assigning possible transformations 17500/28365\n",
      "Assigning possible transformations 18000/28365\n",
      "Assigning possible transformations 18500/28365\n",
      "Assigning possible transformations 19000/28365\n",
      "Assigning possible transformations 19500/28365\n",
      "Assigning possible transformations 20000/28365\n",
      "Assigning possible transformations 20500/28365\n",
      "Assigning possible transformations 21000/28365\n",
      "Assigning possible transformations 21500/28365\n",
      "Assigning possible transformations 22000/28365\n",
      "Assigning possible transformations 22500/28365\n",
      "Assigning possible transformations 23000/28365\n",
      "Assigning possible transformations 23500/28365\n",
      "Assigning possible transformations 24000/28365\n",
      "Assigning possible transformations 24500/28365\n",
      "Assigning possible transformations 25000/28365\n",
      "Assigning possible transformations 25500/28365\n",
      "Assigning possible transformations 26000/28365\n",
      "Assigning possible transformations 26500/28365\n",
      "Assigning possible transformations 27000/28365\n",
      "Assigning possible transformations 27500/28365\n",
      "Assigning possible transformations 28000/28365\n",
      "27507 peaks to be re-sampled in stage 1\n"
     ]
    }
   ],
   "source": [
    "match0_performance = aligner0.evaluate_performance(gt_file, verbose=False, print_TP=True, method=2)\n",
    "for results in match0_performance:\n",
    "    print \"tp=%d, fp=%d, fn=%d, prec=%.3f, rec=%.3f, f1=%.3f, th_prob=%.3f\" % results"
   ]
  },
  {
   "cell_type": "code",
   "execution_count": null,
   "metadata": {
    "collapsed": true
   },
   "outputs": [],
   "source": [
    "match_mode = 1\n",
    "aligner2 = Aligner(input_dir, database_file, transformation_file, \n",
    "                       hp, verbose=True, seed=1234567890, parallel=True, mh_biggest=True, use_vb=False)\n",
    "aligner2.run(match_mode, show_singleton=False)"
   ]
  },
  {
   "cell_type": "code",
   "execution_count": null,
   "metadata": {
    "collapsed": true
   },
   "outputs": [],
   "source": [
    "match2_performance = aligner2.evaluate_performance(gt_file, verbose=False, print_TP=True, method=1)\n",
    "for results in match2_performance:\n",
    "    print \"tp=%d, fp=%d, fn=%d, prec=%.3f, rec=%.3f, f1=%.3f, th_prob=%.3f\" % results"
   ]
  },
  {
   "cell_type": "code",
   "execution_count": null,
   "metadata": {
    "collapsed": true
   },
   "outputs": [],
   "source": [
    "match2_performance = aligner2.evaluate_performance(gt_file, verbose=False, print_TP=True, method=2)\n",
    "for results in match2_performance:\n",
    "    print \"tp=%d, fp=%d, fn=%d, prec=%.3f, rec=%.3f, f1=%.3f, th_prob=%.3f\" % results"
   ]
  }
 ],
 "metadata": {
  "kernelspec": {
   "display_name": "Python 2",
   "language": "python",
   "name": "python2"
  },
  "language_info": {
   "codemirror_mode": {
    "name": "ipython",
    "version": 2
   },
   "file_extension": ".py",
   "mimetype": "text/x-python",
   "name": "python",
   "nbconvert_exporter": "python",
   "pygments_lexer": "ipython2",
   "version": "2.7.10"
  }
 },
 "nbformat": 4,
 "nbformat_minor": 0
}
