{
 "metadata": {
  "name": "",
  "signature": "sha256:4fdac182211577207215bd9e4b6998467c34fd06f9d017254388ee5b12f332b4"
 },
 "nbformat": 3,
 "nbformat_minor": 0,
 "worksheets": [
  {
   "cells": [
    {
     "cell_type": "heading",
     "level": 3,
     "metadata": {},
     "source": [
      "Preliminary"
     ]
    },
    {
     "cell_type": "markdown",
     "metadata": {},
     "source": [
      "Import some stuff"
     ]
    },
    {
     "cell_type": "code",
     "collapsed": false,
     "input": [
      "import sys\n",
      "\n",
      "basedir = '../'\n",
      "sys.path.append(basedir) # need to do this to be able to import the stuff below\n",
      "\n",
      "import itertools\n",
      "from operator import attrgetter\n",
      "from operator import itemgetter\n",
      "import time\n",
      "\n",
      "from discretisation.discrete_mass_clusterer import DiscreteVB\n",
      "from discretisation.models import HyperPars\n",
      "from discretisation.plotting import ClusterPlotter\n",
      "from discretisation.preprocessing import FileLoader\n",
      "import discretisation.utils as utils\n",
      "from dp_rt_clusterer import DpMixtureGibbs\n",
      "\n",
      "%pylab inline"
     ],
     "language": "python",
     "metadata": {},
     "outputs": [
      {
       "output_type": "stream",
       "stream": "stdout",
       "text": [
        "Populating the interactive namespace from numpy and matplotlib\n"
       ]
      }
     ],
     "prompt_number": 1
    },
    {
     "cell_type": "markdown",
     "metadata": {},
     "source": [
      "Define a whole bunch of useful functions"
     ]
    },
    {
     "cell_type": "code",
     "collapsed": false,
     "input": [
      "def plot_hist(mapping, filename, mass_tol, rt_tol):\n",
      "    no_trans = (mapping > 0).sum(1)\n",
      "    mini_hist = []\n",
      "    for i in np.arange(10) + 1:\n",
      "        mini_hist.append((no_trans == i).sum())\n",
      "    print 'mini_hist ' + str(mini_hist)\n",
      "    plt.figure()\n",
      "    plt.subplot(1, 2, 1)\n",
      "    plt.bar(np.arange(10) + 1, mini_hist)\n",
      "    title = 'Binning -- MASS_TOL ' + str(mass_tol) + ', RT_TOL ' + str(rt_tol)\n",
      "    plt.title(title)\n",
      "    plt.subplot(1, 2, 2)\n",
      "    plt.spy(mapping, markersize=1)\n",
      "    plt.title('possible')\n",
      "    plt.suptitle(filename)\n",
      "    plt.show()     \n",
      "    \n",
      "def annotate(annotations, feature, msg):\n",
      "    if feature in annotations:\n",
      "        current_msg = annotations[feature]\n",
      "        annotations[feature] = current_msg + \" \" + msg\n",
      "    else:\n",
      "        annotations[feature] = msg\n",
      "    \n",
      "def get_transformation_map(transformations):\n",
      "    tmap = {}\n",
      "    t = 1\n",
      "    for trans in transformations:\n",
      "        tmap[t] = trans\n",
      "        t += 1\n",
      "    return tmap"
     ],
     "language": "python",
     "metadata": {},
     "outputs": [],
     "prompt_number": 2
    },
    {
     "cell_type": "markdown",
     "metadata": {},
     "source": [
      "Parameters. Here we load 3 std1 pos files and process them with the following parameters."
     ]
    },
    {
     "cell_type": "code",
     "collapsed": false,
     "input": [
      "start = time.time()\n",
      "\n",
      "basedir = '../discretisation'\n",
      "database = basedir + '/database/std1_mols.csv'\n",
      "transformation = basedir + '/mulsubs/mulsub2.txt'\n",
      "input_file = basedir + '/input/std1_csv_subset'\n",
      "\n",
      "binning_mass_tol = 2.0                  # mass tolerance in ppm when binning\n",
      "binning_rt_tol = 5.0                    # rt tolerance in seconds when binning\n",
      "within_file_rt_sd = binning_rt_tol/2    # standard deviation of each cluster when clustering by precursor masses in a single file\n",
      "across_file_rt_sd = 10.0                # standard deviation of mixture component when clustering by RT across files\n",
      "alpha_mass = 10000.0                    # concentration parameter for precursor mass clustering\n",
      "alpha_rt = 10000.0                      # concentration parameter for DP mixture on RT\n",
      "t = 0.50                                # threshold for cluster membership for precursor mass clustering\n",
      "limit_n = 1000                          # the number of features to load per file to make debugging easier, -1 to load all\n",
      "\n",
      "mass_clustering_n_iterations = 20       # no. of iterations for VB precursor clustering\n",
      "rt_clustering_nsamps = 200              # no. of total samples for Gibbs RT clustering\n",
      "rt_clustering_burnin = 100              # no. of burn-in samples for Gibbs RT clustering"
     ],
     "language": "python",
     "metadata": {},
     "outputs": [],
     "prompt_number": 3
    },
    {
     "cell_type": "heading",
     "level": 3,
     "metadata": {},
     "source": [
      "Step 1"
     ]
    },
    {
     "cell_type": "markdown",
     "metadata": {},
     "source": [
      "First stage clustering. Here we do the usual precursor mass clustering of peak features to some common bins shared across files"
     ]
    },
    {
     "cell_type": "code",
     "collapsed": false,
     "input": [
      "# First stage clustering. \n",
      "# Here we cluster peak features by their precursor masses to the common bins shared across files.\n",
      "loader = FileLoader()\n",
      "data_list = loader.load_model_input(input_file, database, transformation, binning_mass_tol, binning_rt_tol, limit_n=limit_n)\n",
      "transformations = data_list[0].transformations\n",
      "tmap = get_transformation_map(transformations)\n",
      "all_bins = []\n",
      "posterior_bin_rts = []    \n",
      "annotations = {}\n",
      "\n",
      "for j in range(len(data_list)):\n",
      "\n",
      "    # run precursor mass clustering\n",
      "    peak_data = data_list[j]\n",
      "    plot_hist(peak_data.possible, input_file, binning_mass_tol, binning_rt_tol)\n",
      "    print \"Clustering file \" + str(j) + \" by precursor masses\"\n",
      "    hp = HyperPars()\n",
      "    hp.rt_prec = 1.0/(within_file_rt_sd*within_file_rt_sd)\n",
      "    hp.alpha = alpha_mass\n",
      "    discrete = DiscreteVB(peak_data, hp)\n",
      "    discrete.n_iterations = mass_clustering_n_iterations\n",
      "    print discrete\n",
      "    discrete.run()\n",
      "\n",
      "    # pick the non-empty bins for the second stage clustering\n",
      "    cluster_membership = (discrete.Z>t)\n",
      "    s = cluster_membership.sum(0)\n",
      "    nnz_idx = s.nonzero()[1]  \n",
      "    nnz_idx = np.squeeze(np.asarray(nnz_idx)) # flatten the thing\n",
      "\n",
      "    # find the non-empty bins\n",
      "    bins = [peak_data.bins[a] for a in nnz_idx]\n",
      "    all_bins.extend(bins)\n",
      "\n",
      "    # find the non-empty bins' posterior RT values\n",
      "    bin_rts = discrete.cluster_rt_mean[nnz_idx]        \n",
      "    bin_rts = bin_rts.ravel().tolist()\n",
      "    posterior_bin_rts.extend(bin_rts)\n",
      "\n",
      "    # make some plots\n",
      "    cp = ClusterPlotter(peak_data, discrete)\n",
      "    cp.summary(file_idx=j)\n",
      "    # cp.plot_biggest(3)        \n",
      "\n",
      "    # assign peaks into their respective bins, \n",
      "    # this makes it easier when matching peaks across the same bins later\n",
      "    # note: a peak can belong to multiple bins, depending on the choice of threshold t\n",
      "    cx = cluster_membership.tocoo()\n",
      "    for i,j,v in itertools.izip(cx.row, cx.col, cx.data):\n",
      "        f = peak_data.features[i]\n",
      "        bb = peak_data.bins[j] # copy of the common bin specific to file j\n",
      "        bb.add_feature(f)    \n",
      "        # annotate each feature by its precursor mass & adduct type probabilities, for reporting later\n",
      "        bin_prob = discrete.Z[i, j]\n",
      "        trans_idx = discrete.possible[i, j]\n",
      "        tran = tmap[trans_idx]\n",
      "        msg = \"{:s}@{:3.5f} prob={:.2f}\".format(tran.name, bb.mass, bin_prob)            \n",
      "        annotate(annotations, f, msg)"
     ],
     "language": "python",
     "metadata": {},
     "outputs": [
      {
       "output_type": "stream",
       "stream": "stdout",
       "text": [
        "4999 features read from std1-file1.identified.csv\n",
        "4986 features read from std1-file2.identified.csv"
       ]
      },
      {
       "output_type": "stream",
       "stream": "stdout",
       "text": [
        "\n",
        "6836 features read from std1-file3.identified.csv"
       ]
      },
      {
       "output_type": "stream",
       "stream": "stdout",
       "text": [
        "\n",
        "Discretising at mass_tol=2.0, rt_tol=5.0\n",
        "Making common bins\t...."
       ]
      },
      {
       "output_type": "stream",
       "stream": "stdout",
       "text": [
        "..."
       ]
      },
      {
       "output_type": "stream",
       "stream": "stdout",
       "text": [
        "..."
       ]
      },
      {
       "output_type": "stream",
       "stream": "stdout",
       "text": [
        ".."
       ]
      },
      {
       "output_type": "stream",
       "stream": "stdout",
       "text": [
        ".."
       ]
      },
      {
       "output_type": "stream",
       "stream": "stdout",
       "text": [
        ".."
       ]
      },
      {
       "output_type": "stream",
       "stream": "stdout",
       "text": [
        ".."
       ]
      },
      {
       "output_type": "stream",
       "stream": "stdout",
       "text": [
        ".."
       ]
      },
      {
       "output_type": "stream",
       "stream": "stdout",
       "text": [
        ".."
       ]
      },
      {
       "output_type": "stream",
       "stream": "stdout",
       "text": [
        ".."
       ]
      },
      {
       "output_type": "stream",
       "stream": "stdout",
       "text": [
        ".."
       ]
      },
      {
       "output_type": "stream",
       "stream": "stdout",
       "text": [
        ".."
       ]
      },
      {
       "output_type": "stream",
       "stream": "stdout",
       "text": [
        ".."
       ]
      },
      {
       "output_type": "stream",
       "stream": "stdout",
       "text": [
        ".."
       ]
      },
      {
       "output_type": "stream",
       "stream": "stdout",
       "text": [
        ".."
       ]
      },
      {
       "output_type": "stream",
       "stream": "stdout",
       "text": [
        ".."
       ]
      },
      {
       "output_type": "stream",
       "stream": "stdout",
       "text": [
        ".."
       ]
      },
      {
       "output_type": "stream",
       "stream": "stdout",
       "text": [
        ".."
       ]
      },
      {
       "output_type": "stream",
       "stream": "stdout",
       "text": [
        ".."
       ]
      },
      {
       "output_type": "stream",
       "stream": "stdout",
       "text": [
        ".."
       ]
      },
      {
       "output_type": "stream",
       "stream": "stdout",
       "text": [
        ".."
       ]
      },
      {
       "output_type": "stream",
       "stream": "stdout",
       "text": [
        ".."
       ]
      },
      {
       "output_type": "stream",
       "stream": "stdout",
       "text": [
        ".."
       ]
      },
      {
       "output_type": "stream",
       "stream": "stdout",
       "text": [
        ".."
       ]
      },
      {
       "output_type": "stream",
       "stream": "stdout",
       "text": [
        ".."
       ]
      },
      {
       "output_type": "stream",
       "stream": "stdout",
       "text": [
        ".."
       ]
      },
      {
       "output_type": "stream",
       "stream": "stdout",
       "text": [
        ".."
       ]
      },
      {
       "output_type": "stream",
       "stream": "stdout",
       "text": [
        ".."
       ]
      },
      {
       "output_type": "stream",
       "stream": "stdout",
       "text": [
        ".."
       ]
      },
      {
       "output_type": "stream",
       "stream": "stdout",
       "text": [
        ".."
       ]
      },
      {
       "output_type": "stream",
       "stream": "stdout",
       "text": [
        ".."
       ]
      },
      {
       "output_type": "stream",
       "stream": "stdout",
       "text": [
        ".."
       ]
      },
      {
       "output_type": "stream",
       "stream": "stdout",
       "text": [
        ".."
       ]
      },
      {
       "output_type": "stream",
       "stream": "stdout",
       "text": [
        ".."
       ]
      },
      {
       "output_type": "stream",
       "stream": "stdout",
       "text": [
        ".."
       ]
      },
      {
       "output_type": "stream",
       "stream": "stdout",
       "text": [
        ".."
       ]
      },
      {
       "output_type": "stream",
       "stream": "stdout",
       "text": [
        ".."
       ]
      },
      {
       "output_type": "stream",
       "stream": "stdout",
       "text": [
        ".."
       ]
      },
      {
       "output_type": "stream",
       "stream": "stdout",
       "text": [
        ".."
       ]
      },
      {
       "output_type": "stream",
       "stream": "stdout",
       "text": [
        ".."
       ]
      },
      {
       "output_type": "stream",
       "stream": "stdout",
       "text": [
        ".\n"
       ]
      },
      {
       "output_type": "stream",
       "stream": "stdout",
       "text": [
        "Total clusters=14463 total features=16821\n",
        "Discretising file 0\t.."
       ]
      },
      {
       "output_type": "stream",
       "stream": "stdout",
       "text": [
        ".."
       ]
      },
      {
       "output_type": "stream",
       "stream": "stdout",
       "text": [
        ".."
       ]
      },
      {
       "output_type": "stream",
       "stream": "stdout",
       "text": [
        ".."
       ]
      },
      {
       "output_type": "stream",
       "stream": "stdout",
       "text": [
        ".."
       ]
      },
      {
       "output_type": "stream",
       "stream": "stdout",
       "text": [
        ".."
       ]
      },
      {
       "output_type": "stream",
       "stream": "stdout",
       "text": [
        ".."
       ]
      },
      {
       "output_type": "stream",
       "stream": "stdout",
       "text": [
        ".."
       ]
      },
      {
       "output_type": "stream",
       "stream": "stdout",
       "text": [
        ".."
       ]
      },
      {
       "output_type": "stream",
       "stream": "stdout",
       "text": [
        ".."
       ]
      },
      {
       "output_type": "stream",
       "stream": "stdout",
       "text": [
        ".."
       ]
      },
      {
       "output_type": "stream",
       "stream": "stdout",
       "text": [
        ".."
       ]
      },
      {
       "output_type": "stream",
       "stream": "stdout",
       "text": [
        ".\n"
       ]
      },
      {
       "output_type": "stream",
       "stream": "stdout",
       "text": [
        "Discretising file 1\t."
       ]
      },
      {
       "output_type": "stream",
       "stream": "stdout",
       "text": [
        ".."
       ]
      },
      {
       "output_type": "stream",
       "stream": "stdout",
       "text": [
        ".."
       ]
      },
      {
       "output_type": "stream",
       "stream": "stdout",
       "text": [
        ".."
       ]
      },
      {
       "output_type": "stream",
       "stream": "stdout",
       "text": [
        ".."
       ]
      },
      {
       "output_type": "stream",
       "stream": "stdout",
       "text": [
        ".."
       ]
      },
      {
       "output_type": "stream",
       "stream": "stdout",
       "text": [
        ".."
       ]
      },
      {
       "output_type": "stream",
       "stream": "stdout",
       "text": [
        ".."
       ]
      },
      {
       "output_type": "stream",
       "stream": "stdout",
       "text": [
        ".."
       ]
      },
      {
       "output_type": "stream",
       "stream": "stdout",
       "text": [
        ".."
       ]
      },
      {
       "output_type": "stream",
       "stream": "stdout",
       "text": [
        ".."
       ]
      },
      {
       "output_type": "stream",
       "stream": "stdout",
       "text": [
        ".."
       ]
      },
      {
       "output_type": "stream",
       "stream": "stdout",
       "text": [
        ".."
       ]
      },
      {
       "output_type": "stream",
       "stream": "stdout",
       "text": [
        "\n",
        "Discretising file 2\t"
       ]
      },
      {
       "output_type": "stream",
       "stream": "stdout",
       "text": [
        ".."
       ]
      },
      {
       "output_type": "stream",
       "stream": "stdout",
       "text": [
        ".."
       ]
      },
      {
       "output_type": "stream",
       "stream": "stdout",
       "text": [
        ".."
       ]
      },
      {
       "output_type": "stream",
       "stream": "stdout",
       "text": [
        ".."
       ]
      },
      {
       "output_type": "stream",
       "stream": "stdout",
       "text": [
        ".."
       ]
      },
      {
       "output_type": "stream",
       "stream": "stdout",
       "text": [
        ".."
       ]
      },
      {
       "output_type": "stream",
       "stream": "stdout",
       "text": [
        ".."
       ]
      },
      {
       "output_type": "stream",
       "stream": "stdout",
       "text": [
        ".."
       ]
      },
      {
       "output_type": "stream",
       "stream": "stdout",
       "text": [
        ".."
       ]
      },
      {
       "output_type": "stream",
       "stream": "stdout",
       "text": [
        ".."
       ]
      },
      {
       "output_type": "stream",
       "stream": "stdout",
       "text": [
        ".."
       ]
      },
      {
       "output_type": "stream",
       "stream": "stdout",
       "text": [
        ".."
       ]
      },
      {
       "output_type": "stream",
       "stream": "stdout",
       "text": [
        ".."
       ]
      },
      {
       "output_type": "stream",
       "stream": "stdout",
       "text": [
        ".."
       ]
      },
      {
       "output_type": "stream",
       "stream": "stdout",
       "text": [
        ".."
       ]
      },
      {
       "output_type": "stream",
       "stream": "stdout",
       "text": [
        ".."
       ]
      },
      {
       "output_type": "stream",
       "stream": "stdout",
       "text": [
        ".."
       ]
      },
      {
       "output_type": "stream",
       "stream": "stdout",
       "text": [
        ".\n"
       ]
      },
      {
       "output_type": "stream",
       "stream": "stdout",
       "text": [
        "mini_hist [4231, 596, 131, 23, 15, 2, 1, 0, 0, 0]\n"
       ]
      },
      {
       "metadata": {},
       "output_type": "display_data",
       "png": "[encoded data removed]",
       "text": [
        "<matplotlib.figure.Figure at 0x7f6178fd8e10>"
       ]
      },
      {
       "output_type": "stream",
       "stream": "stdout",
       "text": [
        "Clustering file 0 by precursor masses\n",
        "DiscreteVB initialising\n",
        "Startup .."
       ]
      },
      {
       "output_type": "stream",
       "stream": "stdout",
       "text": [
        ".."
       ]
      },
      {
       "output_type": "stream",
       "stream": "stdout",
       "text": [
        ".."
       ]
      },
      {
       "output_type": "stream",
       "stream": "stdout",
       "text": [
        ".."
       ]
      },
      {
       "output_type": "stream",
       "stream": "stdout",
       "text": [
        ".."
       ]
      },
      {
       "output_type": "stream",
       "stream": "stdout",
       "text": [
        ".."
       ]
      },
      {
       "output_type": "stream",
       "stream": "stdout",
       "text": [
        ".."
       ]
      },
      {
       "output_type": "stream",
       "stream": "stdout",
       "text": [
        ".."
       ]
      },
      {
       "output_type": "stream",
       "stream": "stdout",
       "text": [
        ".."
       ]
      },
      {
       "output_type": "stream",
       "stream": "stdout",
       "text": [
        ".."
       ]
      },
      {
       "output_type": "stream",
       "stream": "stdout",
       "text": [
        ".."
       ]
      },
      {
       "output_type": "stream",
       "stream": "stdout",
       "text": [
        ".."
       ]
      },
      {
       "output_type": "stream",
       "stream": "stdout",
       "text": [
        ".\n"
       ]
      },
      {
       "output_type": "stream",
       "stream": "stdout",
       "text": [
        "Variational Bayes for discrete mass model\n",
        "Hyperparameters alpha=10000.0, mass_prec=100, mass_prior_prec=100, rt_prec=0.16, rt_prior_prec=100\n",
        "n_iterations = 20\n",
        "768 peaks to be re-sampled\n",
        "Iteration 0 Change in Z: 232.585297229"
       ]
      },
      {
       "output_type": "stream",
       "stream": "stdout",
       "text": [
        "\n",
        "Iteration 1 Change in Z: 10.4999139051"
       ]
      },
      {
       "output_type": "stream",
       "stream": "stdout",
       "text": [
        "\n",
        "Iteration 2 Change in Z: 0.741717219617"
       ]
      },
      {
       "output_type": "stream",
       "stream": "stdout",
       "text": [
        "\n",
        "Iteration 3 Change in Z: 0.0720189574152"
       ]
      },
      {
       "output_type": "stream",
       "stream": "stdout",
       "text": [
        "\n",
        "Iteration 4 Change in Z: 0.00856763579488"
       ]
      },
      {
       "output_type": "stream",
       "stream": "stdout",
       "text": [
        "\n",
        "Iteration 5 Change in Z: 0.00114926400553"
       ]
      },
      {
       "output_type": "stream",
       "stream": "stdout",
       "text": [
        "\n",
        "Iteration 6 Change in Z: 0.000165572990547"
       ]
      },
      {
       "output_type": "stream",
       "stream": "stdout",
       "text": [
        "\n",
        "Iteration 7 Change in Z: 2.49550930288e-05"
       ]
      },
      {
       "output_type": "stream",
       "stream": "stdout",
       "text": [
        "\n",
        "Iteration 8 Change in Z: 3.87916400756e-06"
       ]
      },
      {
       "output_type": "stream",
       "stream": "stdout",
       "text": [
        "\n",
        "Iteration 9 Change in Z: 6.16940616366e-07"
       ]
      },
      {
       "output_type": "stream",
       "stream": "stdout",
       "text": [
        "\n",
        "Iteration 10 Change in Z: 9.99190237506e-08"
       ]
      },
      {
       "output_type": "stream",
       "stream": "stdout",
       "text": [
        "\n",
        "Iteration 11 Change in Z: 1.64343896212e-08"
       ]
      },
      {
       "output_type": "stream",
       "stream": "stdout",
       "text": [
        "\n",
        "Iteration 12 Change in Z: 2.7406639691e-09"
       ]
      },
      {
       "output_type": "stream",
       "stream": "stdout",
       "text": [
        "\n",
        "Iteration 13 Change in Z: 4.6297984529e-10"
       ]
      },
      {
       "output_type": "stream",
       "stream": "stdout",
       "text": [
        "\n",
        "Iteration 14 Change in Z: 7.91911448789e-11"
       ]
      },
      {
       "output_type": "stream",
       "stream": "stdout",
       "text": [
        "\n",
        "Iteration 15 Change in Z: 1.3713224119e-11"
       ]
      },
      {
       "output_type": "stream",
       "stream": "stdout",
       "text": [
        "\n",
        "Iteration 16 Change in Z: 2.40419308926e-12"
       ]
      },
      {
       "output_type": "stream",
       "stream": "stdout",
       "text": [
        "\n",
        "Iteration 17 Change in Z: 4.26806304381e-13"
       ]
      },
      {
       "output_type": "stream",
       "stream": "stdout",
       "text": [
        "\n",
        "Iteration 18 Change in Z: 7.67447490488e-14"
       ]
      },
      {
       "output_type": "stream",
       "stream": "stdout",
       "text": [
        "\n",
        "Iteration 19 Change in Z: 1.39750455228e-14"
       ]
      },
      {
       "output_type": "stream",
       "stream": "stdout",
       "text": [
        "\n",
        "Cluster output\n",
        "Number of non-empty clusters: 4555 (of 14463)\n",
        "\n",
        "Size: count\n",
        "0: 9908\n",
        "1: 4264\n",
        "2: 254\n",
        "3: 25\n",
        "4: 8\n",
        "5: 2\n",
        "6: 1\n",
        "7: 0\n",
        "8: 1\n",
        "\n",
        "Trans: count\n",
        "M+2H: 9\n",
        "M+H+NH4: 0\n",
        "M+H+Na: 10\n",
        "M+H+K: 2\n",
        "M+ACN+2H: 10\n",
        "M+2Na: 1\n",
        "M+H: 4567\n",
        "M+HC13: 166\n",
        "M+H2C13: 3\n",
        "M+NH4: 16\n",
        "M+Na: 42\n",
        "M+NaC13: 7\n",
        "M+CH3OH+H: 1\n",
        "M+K: 12\n",
        "M+KC13: 3\n",
        "M+ACN+H: 41\n",
        "M+2Na-H: 12\n",
        "M+IsoProp+H: 1\n",
        "M+ACN+Na: 0\n",
        "M+2K-H: 0\n",
        "M+DMSO+H: 0\n",
        "M+2ACN+H: 0\n"
       ]
      },
      {
       "ename": "TypeError",
       "evalue": "show() got an unexpected keyword argument 'block'",
       "output_type": "pyerr",
       "traceback": [
        "\u001b[1;31m---------------------------------------------------------------------------\u001b[0m\n\u001b[1;31mTypeError\u001b[0m                                 Traceback (most recent call last)",
        "\u001b[1;32m<ipython-input-4-b5d606db0255>\u001b[0m in \u001b[0;36m<module>\u001b[1;34m()\u001b[0m\n\u001b[0;32m     40\u001b[0m     \u001b[1;31m# make some plots\u001b[0m\u001b[1;33m\u001b[0m\u001b[1;33m\u001b[0m\u001b[0m\n\u001b[0;32m     41\u001b[0m     \u001b[0mcp\u001b[0m \u001b[1;33m=\u001b[0m \u001b[0mClusterPlotter\u001b[0m\u001b[1;33m(\u001b[0m\u001b[0mpeak_data\u001b[0m\u001b[1;33m,\u001b[0m \u001b[0mdiscrete\u001b[0m\u001b[1;33m)\u001b[0m\u001b[1;33m\u001b[0m\u001b[0m\n\u001b[1;32m---> 42\u001b[1;33m     \u001b[0mcp\u001b[0m\u001b[1;33m.\u001b[0m\u001b[0msummary\u001b[0m\u001b[1;33m(\u001b[0m\u001b[0mfile_idx\u001b[0m\u001b[1;33m=\u001b[0m\u001b[0mj\u001b[0m\u001b[1;33m)\u001b[0m\u001b[1;33m\u001b[0m\u001b[0m\n\u001b[0m\u001b[0;32m     43\u001b[0m     \u001b[1;31m# cp.plot_biggest(3)\u001b[0m\u001b[1;33m\u001b[0m\u001b[1;33m\u001b[0m\u001b[0m\n\u001b[0;32m     44\u001b[0m \u001b[1;33m\u001b[0m\u001b[0m\n",
        "\u001b[1;32m/home/joewandy/git/metabolomics_tools/discretisation/input/discretisation/plotting.pyc\u001b[0m in \u001b[0;36msummary\u001b[1;34m(self, file_idx)\u001b[0m\n",
        "\u001b[1;32m/usr/lib64/python2.7/site-packages/matplotlib/pyplot.pyc\u001b[0m in \u001b[0;36mshow\u001b[1;34m(*args, **kw)\u001b[0m\n\u001b[0;32m    143\u001b[0m     \"\"\"\n\u001b[0;32m    144\u001b[0m     \u001b[1;32mglobal\u001b[0m \u001b[0m_show\u001b[0m\u001b[1;33m\u001b[0m\u001b[0m\n\u001b[1;32m--> 145\u001b[1;33m     \u001b[0m_show\u001b[0m\u001b[1;33m(\u001b[0m\u001b[1;33m*\u001b[0m\u001b[0margs\u001b[0m\u001b[1;33m,\u001b[0m \u001b[1;33m**\u001b[0m\u001b[0mkw\u001b[0m\u001b[1;33m)\u001b[0m\u001b[1;33m\u001b[0m\u001b[0m\n\u001b[0m\u001b[0;32m    146\u001b[0m \u001b[1;33m\u001b[0m\u001b[0m\n\u001b[0;32m    147\u001b[0m \u001b[1;33m\u001b[0m\u001b[0m\n",
        "\u001b[1;31mTypeError\u001b[0m: show() got an unexpected keyword argument 'block'"
       ]
      },
      {
       "metadata": {},
       "output_type": "display_data",
       "png": "[encoded data removed]",
       "text": [
        "<matplotlib.figure.Figure at 0x7f61773d3b90>"
       ]
      }
     ],
     "prompt_number": 4
    },
    {
     "cell_type": "heading",
     "level": 3,
     "metadata": {},
     "source": [
      "Step 2"
     ]
    },
    {
     "cell_type": "markdown",
     "metadata": {},
     "source": [
      "Second stage clustering. Here we cluster the bins' posterior RT values using a DP mixture"
     ]
    },
    {
     "cell_type": "code",
     "collapsed": false,
     "input": [
      "# Second-stage clustering\n",
      "N = len(all_bins)\n",
      "assert N == len(posterior_bin_rts)\n",
      "\n",
      "# Here we cluster the 'concrete' common bins across files by their posterior RT values\n",
      "hp = HyperPars()\n",
      "hp.rt_prec = 1.0/(across_file_rt_sd*across_file_rt_sd)\n",
      "hp.rt_prior_prec = 5E-3\n",
      "hp.alpha = alpha_rt\n",
      "data = (posterior_bin_rts, all_bins)\n",
      "dp = DpMixtureGibbs(data, hp)\n",
      "dp.nsamps = rt_clustering_nsamps\n",
      "dp.burn_in = rt_clustering_burnin\n",
      "dp.run()"
     ],
     "language": "python",
     "metadata": {},
     "outputs": []
    },
    {
     "cell_type": "code",
     "collapsed": false,
     "input": [
      "# plot distribution of values in ZZ_all\n",
      "ZZ_all = dp.ZZ_all\n",
      "x = []\n",
      "cx = ZZ_all.tocoo()    \n",
      "for i,j,v in itertools.izip(cx.row, cx.col, cx.data):\n",
      "    x.append(v)       \n",
      "x = np.array(x)\n",
      "plt.figure() \n",
      "plt.hist(x, 10)\n",
      "plt.title('DP RT clustering -- ZZ_all')\n",
      "plt.xlabel('Probabilities')\n",
      "plt.ylabel('Count')\n",
      "plt.show()        "
     ],
     "language": "python",
     "metadata": {},
     "outputs": []
    },
    {
     "cell_type": "heading",
     "level": 3,
     "metadata": {},
     "source": [
      "Step 3"
     ]
    },
    {
     "cell_type": "markdown",
     "metadata": {},
     "source": [
      "Now need to construct the alignment results from all the clustering output above"
     ]
    },
    {
     "cell_type": "code",
     "collapsed": false,
     "input": [
      "# count frequencies of aligned peaksets produced across the Gibbs samples\n",
      "print \"Counting frequencies of aligned peaksets\"\n",
      "matching_results = dp.matching_results\n",
      "counter = dict()\n",
      "for peakset in matching_results:\n",
      "    if len(peakset) > 1:\n",
      "        peakset = sorted(peakset, key = attrgetter('file_id'))\n",
      "        peakset = tuple(peakset)\n",
      "    if peakset not in counter:\n",
      "        counter[peakset] = 1\n",
      "    else:\n",
      "        counter[peakset] += 1\n",
      "\n",
      "# normalise the counts\n",
      "print \"Normalising counts\"\n",
      "S = dp.samples_obtained\n",
      "for key, value in counter.items():\n",
      "    new_value = float(value)/S\n",
      "    counter[key] = new_value"
     ],
     "language": "python",
     "metadata": {},
     "outputs": []
    },
    {
     "cell_type": "markdown",
     "metadata": {},
     "source": [
      "Print reports"
     ]
    },
    {
     "cell_type": "code",
     "collapsed": false,
     "input": [
      "# print report of aligned peaksets in descending order of probabilities\n",
      "print \n",
      "print \"==========================================================================\"\n",
      "print \"REPORT\"\n",
      "print \"==========================================================================\"\n",
      "sorted_list = sorted(counter.items(), key=itemgetter(1), reverse=True)\n",
      "probs = []\n",
      "i = 0\n",
      "for item in sorted_list:\n",
      "    features = item[0]\n",
      "    if len(features)==1:\n",
      "        continue # skip all the singleton stuff\n",
      "    prob = item[1]\n",
      "    mzs = np.array([f.mass for f in features])\n",
      "    rts = np.array([f.rt for f in features])\n",
      "    avg_mz = np.mean(mzs)\n",
      "    avg_rt = np.mean(rts)\n",
      "    print str(i+1) + \". avg m/z=\" + str(avg_mz) + \" avg RT=\" + str(avg_rt) + \" prob=\" + str(prob)\n",
      "    for f in features:\n",
      "        msg = annotations[f]            \n",
      "        output = \"\\tfile_id {:d} mz {:3.5f} RT {:4.2f} intensity {:.4e}\\t{:s}\".format(f.file_id, f.mass, f.rt, f.intensity, msg)\n",
      "        print(output) \n",
      "    probs.append(prob)\n",
      "    i += 1"
     ],
     "language": "python",
     "metadata": {},
     "outputs": []
    },
    {
     "cell_type": "code",
     "collapsed": false,
     "input": [
      "probs = np.array(probs) \n",
      "plt.figure()\n",
      "plt.hist(probs, 10)\n",
      "plt.title('Aligned peaksets probabilities')\n",
      "plt.xlabel('Probabilities')\n",
      "plt.ylabel('Count')\n",
      "plt.show()   "
     ],
     "language": "python",
     "metadata": {},
     "outputs": []
    },
    {
     "cell_type": "code",
     "collapsed": false,
     "input": [
      "end = time.time()\n",
      "utils.timer(\"TOTAL ELAPSED TIME\", start, end)"
     ],
     "language": "python",
     "metadata": {},
     "outputs": []
    },
    {
     "cell_type": "heading",
     "level": 3,
     "metadata": {},
     "source": [
      "Step 4"
     ]
    },
    {
     "cell_type": "markdown",
     "metadata": {},
     "source": [
      "Evaluate performance .."
     ]
    }
   ],
   "metadata": {}
  }
 ]
}