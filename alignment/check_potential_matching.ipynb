{
 "metadata": {
  "name": ""
 },
 "nbformat": 3,
 "nbformat_minor": 0,
 "worksheets": [
  {
   "cells": [
    {
     "cell_type": "heading",
     "level": 1,
     "metadata": {},
     "source": [
      "Introduction"
     ]
    },
    {
     "cell_type": "markdown",
     "metadata": {},
     "source": [
      "We pose the following question:\n",
      "\n",
      "*Q1. Is aligning peaks at feature-level better/worse than aligning at group-level?*\n",
      "\n",
      "We can try the following experiment to answer the question:\n",
      "<pre>\n",
      "    (a) Take any two files. For each peak a in file 1, find out how many peaks in file 2 can potentially \n",
      "        be matched within some mass & RT windows from peak a (count the # of candidate matches).\n",
      "        Gradually increase the RT window and see what happens.\n",
      "    (b) Repeat for group-level, i.e. do clustering based on the mass or other clustering methods, \n",
      "        set threshold t on the output of peak-vs-peak matrix to be in the same cluster, \n",
      "        consider everything >t to be in the same cluster.\n",
      "</pre>\n",
      "\n",
      "In short, **approach (a)** is to do alignment on feature-level, while **approach (b)** is operating on the group-level."
     ]
    },
    {
     "cell_type": "heading",
     "level": 1,
     "metadata": {},
     "source": [
      "Results"
     ]
    },
    {
     "cell_type": "code",
     "collapsed": false,
     "input": [
      "%pylab inline\n",
      "\n",
      "import sys\n",
      "sys.path.append('..')\n",
      "from discretisation import models\n",
      "\n",
      "def make_boxplot(filenames, mass_tol, rt_tols, title):\n",
      "    # load the data\n",
      "    loader = models.FileLoader()\n",
      "    all_data = []\n",
      "    for j in range(len(filenames)):\n",
      "        fn = filenames[j]\n",
      "        peak_data = loader.load_model_input(fn, '', '', 0, 0, discretise=False)\n",
      "        print 'Read ' + str(len(peak_data.features)) + ' features from ' + fn\n",
      "        all_data.append(peak_data)\n",
      "        \n",
      "    # for the different rt tolerances ...\n",
      "    features_1 = all_data[0].features\n",
      "    features_2 = all_data[1].features\n",
      "    ax1 = None\n",
      "    for t in range(len(rt_tols)):\n",
      "        rt_tol = rt_tols[t]\n",
      "        print 'Processing rt_tol=' + str(rt_tol)\n",
      "        # enumerate the no. of potential matches for each feature\n",
      "        num_matches = []\n",
      "        for f1 in features_1:\n",
      "            mass_ok = all_data[1].mass_match(f1.mass, all_data[1].mass, mass_tol)\n",
      "            rt_ok = all_data[1].rt_match(f1.rt, all_data[1].rt, rt_tol)\n",
      "            pos = np.flatnonzero(rt_ok*mass_ok)\n",
      "            count = len(pos)\n",
      "            num_matches.append(count)\n",
      "        # share the axis for subplots\n",
      "        if ax1 is None:\n",
      "            ax1 = plt.subplot(1, len(rt_tols), t+1)\n",
      "            plt.ylabel('# potential matches')\n",
      "        else:\n",
      "            plt.subplot(1, len(rt_tols), t+1, sharey=ax1)\n",
      "        # make boxplot and show median, mean of potential matches\n",
      "        plt.boxplot(num_matches)\n",
      "        plt.xticks([1], ['Features'])\n",
      "        plt.title('rt_tol=' + str(rt_tol))\n",
      "        mean = np.mean(np.array(num_matches))\n",
      "        median = np.median(np.array(num_matches))\n",
      "        std = np.std(np.array(num_matches))        \n",
      "        print(\"\\tmean={:.2f}\".format(mean))\n",
      "        print(\"\\tmedian={:.2f}\".format(median))\n",
      "        print(\"\\tstd={:.2f}\".format(std))\n",
      "        plt.suptitle('# matches per feature (' + title + '), mass_tol=' + str(mass_tol))\n",
      "    plt.show()"
     ],
     "language": "python",
     "metadata": {},
     "outputs": [
      {
       "output_type": "stream",
       "stream": "stdout",
       "text": [
        "Populating the interactive namespace from numpy and matplotlib\n"
       ]
      }
     ],
     "prompt_number": 17
    },
    {
     "cell_type": "heading",
     "level": 2,
     "metadata": {},
     "source": [
      "Standard Data"
     ]
    },
    {
     "cell_type": "markdown",
     "metadata": {},
     "source": [
      "We take two files from STD1 and STD3 POS and make the boxplots showing the counts of candidate matching peaks on the other file -- given a fixed mass window and a range of RT tolerance windows (10s, 30s, 60s, 120s). We set a fairly accurate mass tolerance of 10 ppm here."
     ]
    },
    {
     "cell_type": "code",
     "collapsed": false,
     "input": [
      "mass_tol = 10\n",
      "rt_tols = [10, 30, 60, 120]\n",
      "\n",
      "# load std1 pos\n",
      "basedir = 'input/std1_csv'\n",
      "filenames = [ \n",
      "    basedir + '/std1-file1.identified.csv', \n",
      "    basedir + '/std1-file2.identified.csv' \n",
      "]\n",
      "label = \"STD1 POS\"\n",
      "print label + \", mass_tol=\" + str(mass_tol)\n",
      "make_boxplot(filenames, mass_tol, rt_tols, label)\n",
      "print '---------------------------------------------------------------------'\n",
      "print\n",
      "\n",
      "# load std3 pos\n",
      "basedir = 'input/std3_csv'\n",
      "filenames = [ \n",
      "    basedir + '/std3-file1.identified.csv', \n",
      "    basedir + '/std3-file2.identified.csv' \n",
      "]\n",
      "label = \"STD3 POS\"\n",
      "print label + \", mass_tol=\" + str(mass_tol)\n",
      "make_boxplot(filenames, mass_tol, rt_tols, label)\n",
      "print\n"
     ],
     "language": "python",
     "metadata": {},
     "outputs": [
      {
       "output_type": "stream",
       "stream": "stdout",
       "text": [
        "STD1 POS, mass_tol=10\n",
        "Read 4999 features from input/std1_csv/std1-file1.identified.csv"
       ]
      },
      {
       "output_type": "stream",
       "stream": "stdout",
       "text": [
        "\n",
        "Read 4986 features from input/std1_csv/std1-file2.identified.csv"
       ]
      },
      {
       "output_type": "stream",
       "stream": "stdout",
       "text": [
        "\n",
        "Processing rt_tol=10\n",
        "\tmean=0.50"
       ]
      },
      {
       "output_type": "stream",
       "stream": "stdout",
       "text": [
        "\n",
        "\tmedian=0.00\n",
        "\tstd=0.57\n",
        "Processing rt_tol=30\n",
        "\tmean=0.73"
       ]
      },
      {
       "output_type": "stream",
       "stream": "stdout",
       "text": [
        "\n",
        "\tmedian=1.00\n",
        "\tstd=0.80\n",
        "Processing rt_tol=60\n",
        "\tmean=0.96"
       ]
      },
      {
       "output_type": "stream",
       "stream": "stdout",
       "text": [
        "\n",
        "\tmedian=1.00\n",
        "\tstd=1.22\n",
        "Processing rt_tol=120\n",
        "\tmean=1.34"
       ]
      },
      {
       "output_type": "stream",
       "stream": "stdout",
       "text": [
        "\n",
        "\tmedian=1.00\n",
        "\tstd=2.09\n"
       ]
      },
      {
       "metadata": {},
       "output_type": "display_data",
       "png": "[encoded data removed]",
       "text": [
        "<matplotlib.figure.Figure at 0x7fdb8d0d1790>"
       ]
      },
      {
       "output_type": "stream",
       "stream": "stdout",
       "text": [
        "---------------------------------------------------------------------\n",
        "\n",
        "STD3 POS, mass_tol=10\n",
        "Read 5792 features from input/std3_csv/std3-file1.identified.csv"
       ]
      },
      {
       "output_type": "stream",
       "stream": "stdout",
       "text": [
        "\n",
        "Read 5118 features from input/std3_csv/std3-file2.identified.csv"
       ]
      },
      {
       "output_type": "stream",
       "stream": "stdout",
       "text": [
        "\n",
        "Processing rt_tol=10\n",
        "\tmean=0.37"
       ]
      },
      {
       "output_type": "stream",
       "stream": "stdout",
       "text": [
        "\n",
        "\tmedian=0.00\n",
        "\tstd=0.55\n",
        "Processing rt_tol=30\n",
        "\tmean=0.56"
       ]
      },
      {
       "output_type": "stream",
       "stream": "stdout",
       "text": [
        "\n",
        "\tmedian=0.00\n",
        "\tstd=0.76\n",
        "Processing rt_tol=60\n",
        "\tmean=0.73"
       ]
      },
      {
       "output_type": "stream",
       "stream": "stdout",
       "text": [
        "\n",
        "\tmedian=0.00\n",
        "\tstd=1.08\n",
        "Processing rt_tol=120\n",
        "\tmean=1.01"
       ]
      },
      {
       "output_type": "stream",
       "stream": "stdout",
       "text": [
        "\n",
        "\tmedian=0.00\n",
        "\tstd=1.81\n"
       ]
      },
      {
       "metadata": {},
       "output_type": "display_data",
       "png": "[encoded data removed]",
       "text": [
        "<matplotlib.figure.Figure at 0x7fdb8d677190>"
       ]
      },
      {
       "output_type": "stream",
       "stream": "stdout",
       "text": [
        "\n"
       ]
      }
     ],
     "prompt_number": 18
    },
    {
     "cell_type": "markdown",
     "metadata": {},
     "source": [
      "The standard results here show that most of the peak seem to have zero or one match on the other file. This is the case even with the larger value of rt_tol=60s and 120s, although we do see more outliers there."
     ]
    },
    {
     "cell_type": "heading",
     "level": 2,
     "metadata": {},
     "source": [
      "M1, M2 Data"
     ]
    },
    {
     "cell_type": "markdown",
     "metadata": {},
     "source": [
      "We take two files from the M1 and M2 data from Lange (2008). The files from M2 are a lot denser in the number of peak features compared to the standards, having roughly 3x as many features per file. We set a much larger mass tolerance here but the same range of RT tolerance as the standards."
     ]
    },
    {
     "cell_type": "code",
     "collapsed": false,
     "input": [
      "''' mass_tol is set based on inspection of the ground truth for M1 & M2, \n",
      "e.g. \n",
      "111.0096, 111.0126, 111.0118\n",
      "873.5103, 873.5104, 873.5085\n",
      "374.1745, 374.1702, 374.1752 \n",
      "'''\n",
      "mass_tol = 1000\n",
      "rt_tols = [10, 30, 60, 120]\n",
      "\n",
      "# load M1\n",
      "basedir = 'input/M1'\n",
      "filenames = [ \n",
      "    basedir + '/M1_1.txt', \n",
      "    basedir + '/M1_2.txt' \n",
      "]\n",
      "label = \"M1\"\n",
      "print label + \", mass_tol=\" + str(mass_tol)\n",
      "make_boxplot(filenames, mass_tol, rt_tols, label)\n",
      "print '---------------------------------------------------------------------'\n",
      "print\n",
      "\n",
      "# load M2\n",
      "basedir = 'input/M2'\n",
      "filenames = [ \n",
      "    basedir + '/M2_1.txt', \n",
      "    basedir + '/M2_2.txt' \n",
      "]\n",
      "label = \"M2\"\n",
      "print label + \", mass_tol=\" + str(mass_tol)\n",
      "make_boxplot(filenames, mass_tol, rt_tols, label)\n",
      "print"
     ],
     "language": "python",
     "metadata": {},
     "outputs": [
      {
       "output_type": "stream",
       "stream": "stdout",
       "text": [
        "M1, mass_tol=1000\n",
        "Read 5842 features from input/M1/M1_1.txt"
       ]
      },
      {
       "output_type": "stream",
       "stream": "stdout",
       "text": [
        "\n",
        "Read 7515 features from input/M1/M1_2.txt"
       ]
      },
      {
       "output_type": "stream",
       "stream": "stdout",
       "text": [
        "\n",
        "Processing rt_tol=10\n",
        "\tmean=0.91"
       ]
      },
      {
       "output_type": "stream",
       "stream": "stdout",
       "text": [
        "\n",
        "\tmedian=1.00\n",
        "\tstd=0.77\n",
        "Processing rt_tol=30\n",
        "\tmean=1.22"
       ]
      },
      {
       "output_type": "stream",
       "stream": "stdout",
       "text": [
        "\n",
        "\tmedian=1.00\n",
        "\tstd=1.06\n",
        "Processing rt_tol=60\n",
        "\tmean=1.76"
       ]
      },
      {
       "output_type": "stream",
       "stream": "stdout",
       "text": [
        "\n",
        "\tmedian=1.00\n",
        "\tstd=1.44\n",
        "Processing rt_tol=120\n",
        "\tmean=2.31"
       ]
      },
      {
       "output_type": "stream",
       "stream": "stdout",
       "text": [
        "\n",
        "\tmedian=2.00\n",
        "\tstd=1.63\n"
       ]
      },
      {
       "metadata": {},
       "output_type": "display_data",
       "png": "[encoded data removed]",
       "text": [
        "<matplotlib.figure.Figure at 0x7fdb8ca31fd0>"
       ]
      },
      {
       "output_type": "stream",
       "stream": "stdout",
       "text": [
        "---------------------------------------------------------------------\n",
        "\n",
        "M2, mass_tol=1000\n",
        "Read 15206 features from input/M2/M2_1.txt"
       ]
      },
      {
       "output_type": "stream",
       "stream": "stdout",
       "text": [
        "\n",
        "Read 15158 features from input/M2/M2_2.txt"
       ]
      },
      {
       "output_type": "stream",
       "stream": "stdout",
       "text": [
        "\n",
        "Processing rt_tol=10\n",
        "\tmean=0.70"
       ]
      },
      {
       "output_type": "stream",
       "stream": "stdout",
       "text": [
        "\n",
        "\tmedian=1.00\n",
        "\tstd=0.64\n",
        "Processing rt_tol=30\n",
        "\tmean=1.06"
       ]
      },
      {
       "output_type": "stream",
       "stream": "stdout",
       "text": [
        "\n",
        "\tmedian=1.00\n",
        "\tstd=0.91\n",
        "Processing rt_tol=60\n",
        "\tmean=1.59"
       ]
      },
      {
       "output_type": "stream",
       "stream": "stdout",
       "text": [
        "\n",
        "\tmedian=1.00\n",
        "\tstd=1.22\n",
        "Processing rt_tol=120\n",
        "\tmean=2.67"
       ]
      },
      {
       "output_type": "stream",
       "stream": "stdout",
       "text": [
        "\n",
        "\tmedian=2.00\n",
        "\tstd=1.89\n"
       ]
      },
      {
       "metadata": {},
       "output_type": "display_data",
       "png": "[encoded data removed]",
       "text": [
        "<matplotlib.figure.Figure at 0x7fdb8cb11e90>"
       ]
      },
      {
       "output_type": "stream",
       "stream": "stdout",
       "text": [
        "\n"
       ]
      }
     ],
     "prompt_number": 19
    },
    {
     "cell_type": "markdown",
     "metadata": {},
     "source": [
      "We see with in general, most peaks in the first file have 1 - 2 matches on the other side. This applies even to M2, which has 3x as many features as M1 and the standards."
     ]
    },
    {
     "cell_type": "heading",
     "level": 2,
     "metadata": {},
     "source": [
      "P1, P2 Data"
     ]
    },
    {
     "cell_type": "markdown",
     "metadata": {},
     "source": [
      "These are the two proteomics data from Lange (2008). The dataset is characterised by having low mass accuracy and high RT drifts. In the code below, we have to set mass_tol to some ridiculously large values. The rt_tols have to be pretty large too."
     ]
    },
    {
     "cell_type": "code",
     "collapsed": false,
     "input": [
      "''' \n",
      "based on inspection of the ground truth, \n",
      "e.g. \n",
      "698.61, 698.466\n",
      "943.654, 943.334\n",
      "870.956, 870.418\n",
      "643.473, 643.348\n",
      "843.657, 844.532, 844.813\n",
      "'''\n",
      "mass_tol = 10000\n",
      "rt_tols = [60, 120, 180, 240]\n",
      "\n",
      "# load P1\n",
      "basedir = 'input/P1/000'\n",
      "filenames = [ \n",
      "    basedir + '/021010_jp32A_15ul_1_000_ld_020.txt', \n",
      "    basedir + '/021016_jp32A_10ul_3_000_ld_020.txt' \n",
      "]\n",
      "label = \"P1\"\n",
      "print label + \", mass_tol=\" + str(mass_tol)\n",
      "make_boxplot(filenames, mass_tol, rt_tols, label)\n",
      "print '---------------------------------------------------------------------'\n",
      "print\n",
      "\n",
      "# load P2\n",
      "basedir = 'input/P2/000'\n",
      "filenames = [ \n",
      "    basedir + '/6-06-03_000.txt', \n",
      "    basedir + '/6-17-03_000.txt' \n",
      "]\n",
      "label = \"P2\"\n",
      "print label + \", mass_tol=\" + str(mass_tol)\n",
      "make_boxplot(filenames, mass_tol, rt_tols, label)\n",
      "print"
     ],
     "language": "python",
     "metadata": {},
     "outputs": [
      {
       "output_type": "stream",
       "stream": "stdout",
       "text": [
        "P1, mass_tol=10000\n",
        "Read 5823 features from input/P1/000/021010_jp32A_15ul_1_000_ld_020.txt"
       ]
      },
      {
       "output_type": "stream",
       "stream": "stdout",
       "text": [
        "\n",
        "Read 4781 features from input/P1/000/021016_jp32A_10ul_3_000_ld_020.txt"
       ]
      },
      {
       "output_type": "stream",
       "stream": "stdout",
       "text": [
        "\n",
        "Processing rt_tol=60\n",
        "\tmean=3.09"
       ]
      },
      {
       "output_type": "stream",
       "stream": "stdout",
       "text": [
        "\n",
        "\tmedian=3.00\n",
        "\tstd=2.03\n",
        "Processing rt_tol=120\n",
        "\tmean=6.11"
       ]
      },
      {
       "output_type": "stream",
       "stream": "stdout",
       "text": [
        "\n",
        "\tmedian=6.00\n",
        "\tstd=3.70\n",
        "Processing rt_tol=180\n",
        "\tmean=9.06"
       ]
      },
      {
       "output_type": "stream",
       "stream": "stdout",
       "text": [
        "\n",
        "\tmedian=9.00\n",
        "\tstd=5.46\n",
        "Processing rt_tol=240\n",
        "\tmean=11.97"
       ]
      },
      {
       "output_type": "stream",
       "stream": "stdout",
       "text": [
        "\n",
        "\tmedian=12.00\n",
        "\tstd=7.14\n"
       ]
      },
      {
       "metadata": {},
       "output_type": "display_data",
       "png": "[encoded data removed]",
       "text": [
        "<matplotlib.figure.Figure at 0x7fdb8d5f1550>"
       ]
      },
      {
       "output_type": "stream",
       "stream": "stdout",
       "text": [
        "---------------------------------------------------------------------\n",
        "\n",
        "P2, mass_tol=10000\n",
        "Read 5053 features from input/P2/000/6-06-03_000.txt"
       ]
      },
      {
       "output_type": "stream",
       "stream": "stdout",
       "text": [
        "\n",
        "Read 5099 features from input/P2/000/6-17-03_000.txt"
       ]
      },
      {
       "output_type": "stream",
       "stream": "stdout",
       "text": [
        "\n",
        "Processing rt_tol=60\n",
        "\tmean=3.82"
       ]
      },
      {
       "output_type": "stream",
       "stream": "stdout",
       "text": [
        "\n",
        "\tmedian=4.00\n",
        "\tstd=1.86\n",
        "Processing rt_tol=120\n",
        "\tmean=7.54"
       ]
      },
      {
       "output_type": "stream",
       "stream": "stdout",
       "text": [
        "\n",
        "\tmedian=8.00\n",
        "\tstd=3.29\n",
        "Processing rt_tol=180\n",
        "\tmean=11.22"
       ]
      },
      {
       "output_type": "stream",
       "stream": "stdout",
       "text": [
        "\n",
        "\tmedian=12.00\n",
        "\tstd=4.72\n",
        "Processing rt_tol=240\n",
        "\tmean=14.90"
       ]
      },
      {
       "output_type": "stream",
       "stream": "stdout",
       "text": [
        "\n",
        "\tmedian=16.00\n",
        "\tstd=6.14\n"
       ]
      },
      {
       "metadata": {},
       "output_type": "display_data",
       "png": "[encoded data removed]",
       "text": [
        "<matplotlib.figure.Figure at 0x7fdb8d6db0d0>"
       ]
      },
      {
       "output_type": "stream",
       "stream": "stdout",
       "text": [
        "\n"
       ]
      }
     ],
     "prompt_number": 20
    },
    {
     "cell_type": "markdown",
     "metadata": {},
     "source": [
      "Here we see each peak in the first file generally has a lot (5-20) of potential matches on the other side. The choice of RT window seems to matter more here, as rt_tol is increased, the no. of candidate matches increases too."
     ]
    },
    {
     "cell_type": "heading",
     "level": 1,
     "metadata": {},
     "source": [
      "Discussion"
     ]
    },
    {
     "cell_type": "markdown",
     "metadata": {},
     "source": [
      "The results so far suggest that performing alignment at group-level is probably going to make some differences only in some specific situations:\n",
      "\n",
      "**i. When the file has a lot of features** (probably >10k features and above per file?)\n",
      "\n",
      "Performing alignment at group-level might help eliminate/reduce matching ambiguity here. However, we see for our standard data (STD1, STD3 POS), most peaks only have 0 or 1 potential matching. In this case, establishing the alignment/matching, even using a very simple greedy algorithm, is probably enough. Aligning at group-level should probably help in matching of the few outlier peaks with >1 candidate matches in the boxplots.\n",
      "\n",
      "**ii. When the data is produced at very low mass accuracy and having large RT drifts across runs** (e.g. P1, P2)\n",
      "\n",
      "Not quite sure how useful it is to put work more on this front. How realistic are such datasets that have low mass accuracy and large RT drift in practice? Remember that the Standard datasets were also measured over a long period of time (6 months?), but seems to be reasonably easier to align in constrast to the Ps, which seems to be a fairly contrived test data.\n",
      "\n",
      "----------\n",
      "\n",
      "In summary, performing alignment at group-level might contribute some improvements to alignment quality (higher precision/reduced false positives?), but such improvements is probably marginal for small datasets with high mass accuracy, where each peak only has 0 or 1 candidate match. Aligning at group-level is probably beneficial for large datasts having many features per file or really noisy data like the Ps.\n",
      "\n",
      "For STD1, most peaks only have 0 or 1 match across files, and this probably explains why all methods perform well and we see minimal improvements in the Bioinfo/HDP papers. "
     ]
    }
   ],
   "metadata": {}
  }
 ]
}