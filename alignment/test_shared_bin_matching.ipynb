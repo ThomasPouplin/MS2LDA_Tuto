{
 "metadata": {
  "name": "",
  "signature": "sha256:0304627d1486de5ed71255cbea8a19a6afd871b0b472f635fcb4446064d7d542"
 },
 "nbformat": 3,
 "nbformat_minor": 0,
 "worksheets": [
  {
   "cells": [
    {
     "cell_type": "markdown",
     "metadata": {},
     "source": [
      "Test discretisation and identification on bins"
     ]
    },
    {
     "cell_type": "markdown",
     "metadata": {},
     "source": [
      "Import some stuff"
     ]
    },
    {
     "cell_type": "code",
     "collapsed": false,
     "input": [
      "import sys\n",
      "\n",
      "basedir = '../'\n",
      "sys.path.append(basedir) # need to do this to be able to import the stuff below\n",
      "\n",
      "from discretisation.discrete_mass_clusterer import DiscreteVB\n",
      "from discretisation.models import HyperPars\n",
      "from discretisation.plotting import ClusterPlotter\n",
      "from discretisation.preprocessing import FileLoader\n",
      "from dp_rt_clusterer import DpMixtureGibbs\n",
      "\n",
      "%pylab inline"
     ],
     "language": "python",
     "metadata": {},
     "outputs": [
      {
       "output_type": "stream",
       "stream": "stdout",
       "text": [
        "Populating the interactive namespace from numpy and matplotlib\n"
       ]
      }
     ],
     "prompt_number": 1
    },
    {
     "cell_type": "markdown",
     "metadata": {},
     "source": [
      "Define plotting function"
     ]
    },
    {
     "cell_type": "code",
     "collapsed": false,
     "input": [
      "# We can histogram the number of transformations available for each peak. mini_hist holds this. \n",
      "# Note that all peaks have >0 transformations as each peak's precursor is in the list\n",
      "def plot_hist(mapping, filename, mass_tol, rt_tol):\n",
      "    no_trans = (mapping > 0).sum(1)\n",
      "    mini_hist = []\n",
      "    for i in np.arange(10) + 1:\n",
      "        mini_hist.append((no_trans == i).sum())\n",
      "    print 'mini_hist ' + str(mini_hist)\n",
      "    plt.figure()\n",
      "    plt.subplot(1, 2, 1)\n",
      "    plt.bar(np.arange(10) + 1, mini_hist)\n",
      "    title = 'MASS_TOL ' + str(mass_tol) + ', RT_TOL ' + str(rt_tol)\n",
      "    plt.title(title)\n",
      "    plt.subplot(1, 2, 2)\n",
      "    plt.spy(mapping, markersize=1)\n",
      "    plt.title('possible')\n",
      "    plt.suptitle(filename)\n",
      "    plt.show()    "
     ],
     "language": "python",
     "metadata": {},
     "outputs": [],
     "prompt_number": 2
    },
    {
     "cell_type": "markdown",
     "metadata": {},
     "source": [
      "Parameters. Here we load the first 1000 peaks in each file for processing with the following parameters."
     ]
    },
    {
     "cell_type": "code",
     "collapsed": false,
     "input": [
      "basedir = '../discretisation'\n",
      "\n",
      "database = basedir + '/database/std1_mols.csv'\n",
      "transformation = basedir + '/mulsubs/mulsub.txt'\n",
      "input_file = basedir + '/input/std1_csv_subset'\n",
      "mass_tol = 2\n",
      "rt_tol = 5\n",
      "across_file_sd = 5\n",
      "dp_alpha = 100\n",
      "t = 0.90\n",
      "limit_n = 1000\n"
     ],
     "language": "python",
     "metadata": {},
     "outputs": [],
     "prompt_number": 3
    },
    {
     "cell_type": "markdown",
     "metadata": {},
     "source": [
      "First stage clustering of peak features to some common bins that are shared across files"
     ]
    },
    {
     "cell_type": "code",
     "collapsed": false,
     "input": [
      "loader = FileLoader()\n",
      "data_list = loader.load_model_input(input_file, database, transformation, mass_tol, rt_tol, limit_n=limit_n)\n",
      "bin_rts = []\n",
      "for j in range(len(data_list)):\n",
      "    peak_data = data_list[j]\n",
      "    plot_hist(peak_data.possible, input_file, mass_tol, rt_tol)\n",
      "    print \"Clustering file \" + str(j) + \" by precursor masses\"\n",
      "    hp = HyperPars()\n",
      "    discrete = DiscreteVB(peak_data, hp)\n",
      "    discrete.n_iterations = 20\n",
      "    print discrete\n",
      "    discrete.run()\n",
      "    # pick the non-empty bins for the second stage clustering\n",
      "    cluster_membership = (discrete.Z>t)\n",
      "    s = cluster_membership.sum(0)\n",
      "    nnz_idx = s.nonzero()[1]  \n",
      "    cluster_rt_mean = discrete.cluster_rt_mean[nnz_idx]        \n",
      "    flattened = cluster_rt_mean.ravel().tolist()\n",
      "    bin_rts.extend(flattened)\n",
      "    cp = ClusterPlotter(peak_data, discrete)\n",
      "    cp.summary()\n"
     ],
     "language": "python",
     "metadata": {},
     "outputs": [
      {
       "output_type": "stream",
       "stream": "stdout",
       "text": [
        "4999 features read from std1-file1.identified.csv\n",
        "4986 features read from std1-file2.identified.csv"
       ]
      },
      {
       "output_type": "stream",
       "stream": "stdout",
       "text": [
        "\n",
        "Discretising at mass_tol=2, rt_prec=5\n",
        "Making common bins\t...."
       ]
      },
      {
       "output_type": "stream",
       "stream": "stdout",
       "text": [
        "..."
       ]
      },
      {
       "output_type": "stream",
       "stream": "stdout",
       "text": [
        "..."
       ]
      },
      {
       "output_type": "stream",
       "stream": "stdout",
       "text": [
        "\n",
        "Total clusters=1521 total features=2000\n",
        "Discretising file 0\t.."
       ]
      },
      {
       "output_type": "stream",
       "stream": "stdout",
       "text": [
        ".."
       ]
      },
      {
       "output_type": "stream",
       "stream": "stdout",
       "text": [
        ".\n"
       ]
      },
      {
       "output_type": "stream",
       "stream": "stdout",
       "text": [
        "Discretising file 1\t.."
       ]
      },
      {
       "output_type": "stream",
       "stream": "stdout",
       "text": [
        ".."
       ]
      },
      {
       "output_type": "stream",
       "stream": "stdout",
       "text": [
        ".\n"
       ]
      },
      {
       "output_type": "stream",
       "stream": "stdout",
       "text": [
        "mini_hist [882, 104, 12, 1, 1, 0, 0, 0, 0, 0]\n"
       ]
      },
      {
       "metadata": {},
       "output_type": "display_data",
       "png": "[encoded data removed]",
       "text": [
        "<matplotlib.figure.Figure at 0x7fa36f666150>"
       ]
      },
      {
       "output_type": "stream",
       "stream": "stdout",
       "text": [
        "Clustering file 0 by precursor masses\n",
        "DiscreteVB initialising\n",
        "Startup .."
       ]
      },
      {
       "output_type": "stream",
       "stream": "stdout",
       "text": [
        ".."
       ]
      },
      {
       "output_type": "stream",
       "stream": "stdout",
       "text": [
        ".\n"
       ]
      },
      {
       "output_type": "stream",
       "stream": "stdout",
       "text": [
        "Variational Bayes for discrete mass model\n",
        "Hyperparameters alpha=100.0, mass_prec=100, mass_prior_prec=100, rt_prec=10, rt_prior_prec=100\n",
        "n_iterations = 20\n",
        "118 peaks to be re-sampled\n",
        "Iteration 0 Change in Z: 30.1304499711"
       ]
      },
      {
       "output_type": "stream",
       "stream": "stdout",
       "text": [
        "\n",
        "Iteration 1 Change in Z: 15.3285642959"
       ]
      },
      {
       "output_type": "stream",
       "stream": "stdout",
       "text": [
        "\n",
        "Iteration 2 Change in Z: 0.881817849828"
       ]
      },
      {
       "output_type": "stream",
       "stream": "stdout",
       "text": [
        "\n",
        "Iteration 3 Change in Z: 0.134720634005"
       ]
      },
      {
       "output_type": "stream",
       "stream": "stdout",
       "text": [
        "\n",
        "Iteration 4 Change in Z: 0.0546497956626"
       ]
      },
      {
       "output_type": "stream",
       "stream": "stdout",
       "text": [
        "\n",
        "Iteration 5 Change in Z: 0.0320124920413"
       ]
      },
      {
       "output_type": "stream",
       "stream": "stdout",
       "text": [
        "\n",
        "Iteration 6 Change in Z: 0.00313229298001"
       ]
      },
      {
       "output_type": "stream",
       "stream": "stdout",
       "text": [
        "\n",
        "Iteration 7 Change in Z: 4.53982339819e-06"
       ]
      },
      {
       "output_type": "stream",
       "stream": "stdout",
       "text": [
        "\n",
        "Iteration 8 Change in Z: 4.45766866659e-07"
       ]
      },
      {
       "output_type": "stream",
       "stream": "stdout",
       "text": [
        "\n",
        "Iteration 9 Change in Z: 8.56978442671e-08"
       ]
      },
      {
       "output_type": "stream",
       "stream": "stdout",
       "text": [
        "\n",
        "Iteration 10 Change in Z: 1.64973887098e-08"
       ]
      },
      {
       "output_type": "stream",
       "stream": "stdout",
       "text": [
        "\n",
        "Iteration 11 Change in Z: 3.17967875513e-09"
       ]
      },
      {
       "output_type": "stream",
       "stream": "stdout",
       "text": [
        "\n",
        "Iteration 12 Change in Z: 6.13558546377e-10"
       ]
      },
      {
       "output_type": "stream",
       "stream": "stdout",
       "text": [
        "\n",
        "Iteration 13 Change in Z: 1.18529114757e-10"
       ]
      },
      {
       "output_type": "stream",
       "stream": "stdout",
       "text": [
        "\n",
        "Iteration 14 Change in Z: 2.29237230246e-11"
       ]
      },
      {
       "output_type": "stream",
       "stream": "stdout",
       "text": [
        "\n",
        "Iteration 15 Change in Z: 4.43849527606e-12"
       ]
      },
      {
       "output_type": "stream",
       "stream": "stdout",
       "text": [
        "\n",
        "Iteration 16 Change in Z: 8.60366785534e-13"
       ]
      },
      {
       "output_type": "stream",
       "stream": "stdout",
       "text": [
        "\n",
        "Iteration 17 Change in Z: 1.6690863185e-13"
       ]
      },
      {
       "output_type": "stream",
       "stream": "stdout",
       "text": [
        "\n",
        "Iteration 18 Change in Z: 3.24408796389e-14"
       ]
      },
      {
       "output_type": "stream",
       "stream": "stdout",
       "text": [
        "\n",
        "Iteration 19 Change in Z: 6.30668795197e-15"
       ]
      },
      {
       "output_type": "stream",
       "stream": "stdout",
       "text": [
        "\n",
        "Cluster output\n",
        "Number of non-empty clusters: 959 (of 1521)\n",
        "\n",
        "Size: count\n",
        "0: 562\n",
        "1: 921\n",
        "2: 36\n",
        "3: 2\n",
        "\n",
        "Trans: count\n",
        "M+2H: 2\n",
        "M+H+NH4: 0\n",
        "M+H+Na: 3\n",
        "M+H+K: 0\n",
        "M+ACN+2H: 0\n",
        "M+2Na: 1\n",
        "M+H: 969\n",
        "M+NH4: 3\n",
        "M+Na: 7\n",
        "M+CH3OH+H: 0\n",
        "M+K: 1\n",
        "M+ACN+H: 9\n",
        "M+2Na-H: 4\n",
        "M+IsoProp+H: 0\n",
        "M+ACN+Na: 0\n",
        "M+2K-H: 0\n",
        "M+DMSO+H: 0\n",
        "M+2ACN+H: 0\n",
        "mini_hist [891, 93, 14, 1, 0, 1, 0, 0, 0, 0]\n"
       ]
      },
      {
       "metadata": {},
       "output_type": "display_data",
       "png": "[encoded data removed]",
       "text": [
        "<matplotlib.figure.Figure at 0x7fa36f4aad10>"
       ]
      },
      {
       "output_type": "stream",
       "stream": "stdout",
       "text": [
        "Clustering file 1 by precursor masses\n",
        "DiscreteVB initialising\n",
        "Startup .."
       ]
      },
      {
       "output_type": "stream",
       "stream": "stdout",
       "text": [
        ".."
       ]
      },
      {
       "output_type": "stream",
       "stream": "stdout",
       "text": [
        ".\n"
       ]
      },
      {
       "output_type": "stream",
       "stream": "stdout",
       "text": [
        "Variational Bayes for discrete mass model\n",
        "Hyperparameters alpha=100.0, mass_prec=100, mass_prior_prec=100, rt_prec=10, rt_prior_prec=100\n",
        "n_iterations = 20\n",
        "109 peaks to be re-sampled\n",
        "Iteration 0 Change in Z: 74.2446652793"
       ]
      },
      {
       "output_type": "stream",
       "stream": "stdout",
       "text": [
        "\n",
        "Iteration 1 Change in Z: 6.41254575143"
       ]
      },
      {
       "output_type": "stream",
       "stream": "stdout",
       "text": [
        "\n",
        "Iteration 2 Change in Z: 1.1244444015"
       ]
      },
      {
       "output_type": "stream",
       "stream": "stdout",
       "text": [
        "\n",
        "Iteration 3 Change in Z: 0.263887914964"
       ]
      },
      {
       "output_type": "stream",
       "stream": "stdout",
       "text": [
        "\n",
        "Iteration 4 Change in Z: 0.0199230328858"
       ]
      },
      {
       "output_type": "stream",
       "stream": "stdout",
       "text": [
        "\n",
        "Iteration 5 Change in Z: 0.0201125273386"
       ]
      },
      {
       "output_type": "stream",
       "stream": "stdout",
       "text": [
        "\n",
        "Iteration 6 Change in Z: 0.0291255359263"
       ]
      },
      {
       "output_type": "stream",
       "stream": "stdout",
       "text": [
        "\n",
        "Iteration 7 Change in Z: 0.0297275135348"
       ]
      },
      {
       "output_type": "stream",
       "stream": "stdout",
       "text": [
        "\n",
        "Iteration 8 Change in Z: 0.00518437738927"
       ]
      },
      {
       "output_type": "stream",
       "stream": "stdout",
       "text": [
        "\n",
        "Iteration 9 Change in Z: 1.1664144054e-05"
       ]
      },
      {
       "output_type": "stream",
       "stream": "stdout",
       "text": [
        "\n",
        "Iteration 10 Change in Z: 5.78342614159e-08"
       ]
      },
      {
       "output_type": "stream",
       "stream": "stdout",
       "text": [
        "\n",
        "Iteration 11 Change in Z: 1.07338525582e-08"
       ]
      },
      {
       "output_type": "stream",
       "stream": "stdout",
       "text": [
        "\n",
        "Iteration 12 Change in Z: 2.01598267021e-09"
       ]
      },
      {
       "output_type": "stream",
       "stream": "stdout",
       "text": [
        "\n",
        "Iteration 13 Change in Z: 3.78652194338e-10"
       ]
      },
      {
       "output_type": "stream",
       "stream": "stdout",
       "text": [
        "\n",
        "Iteration 14 Change in Z: 7.11180946191e-11"
       ]
      },
      {
       "output_type": "stream",
       "stream": "stdout",
       "text": [
        "\n",
        "Iteration 15 Change in Z: 1.33591473871e-11"
       ]
      },
      {
       "output_type": "stream",
       "stream": "stdout",
       "text": [
        "\n",
        "Iteration 16 Change in Z: 2.5098500457e-12"
       ]
      },
      {
       "output_type": "stream",
       "stream": "stdout",
       "text": [
        "\n",
        "Iteration 17 Change in Z: 4.71611958151e-13"
       ]
      },
      {
       "output_type": "stream",
       "stream": "stdout",
       "text": [
        "\n",
        "Iteration 18 Change in Z: 8.84104240427e-14"
       ]
      },
      {
       "output_type": "stream",
       "stream": "stdout",
       "text": [
        "\n",
        "Iteration 19 Change in Z: 1.66154453235e-14"
       ]
      },
      {
       "output_type": "stream",
       "stream": "stdout",
       "text": [
        "\n",
        "Cluster output\n",
        "Number of non-empty clusters: 941 (of 1521)\n",
        "\n",
        "Size: count\n",
        "0: 580\n",
        "1: 885\n",
        "2: 54\n",
        "3: 2\n",
        "\n",
        "Trans: count\n",
        "M+2H: 6\n",
        "M+H+NH4: 0\n",
        "M+H+Na: 3\n",
        "M+H+K: 0\n",
        "M+ACN+2H: 2\n",
        "M+2Na: 2\n",
        "M+H: 935\n",
        "M+NH4: 13\n",
        "M+Na: 17\n",
        "M+CH3OH+H: 0\n",
        "M+K: 1\n",
        "M+ACN+H: 15\n",
        "M+2Na-H: 4\n",
        "M+IsoProp+H: 0\n",
        "M+ACN+Na: 0\n",
        "M+2K-H: 0\n",
        "M+DMSO+H: 0\n",
        "M+2ACN+H: 1\n"
       ]
      }
     ],
     "prompt_number": 4
    },
    {
     "cell_type": "markdown",
     "metadata": {},
     "source": [
      "Second stage clustering using DP mixture on the bins' posterior RT values"
     ]
    },
    {
     "cell_type": "code",
     "collapsed": false,
     "input": [
      "data = np.array(bin_rts)\n",
      "hp = HyperPars()\n",
      "hp.rt_prec = 1.0/(across_file_sd*across_file_sd)\n",
      "hp.rt_prior_prec = 5E-3\n",
      "hp.alpha = dp_alpha\n",
      "dp = DpMixtureGibbs(data, hp)\n",
      "dp.nsamps = 100\n",
      "dp.burn_in = 0\n",
      "dp.run()\n",
      "if limit_n > 1000:\n",
      "    plt.spy(dp.ZZ_all>t, markersize=1)\n",
      "else:\n",
      "    plt.imshow(dp.ZZ_all.todense(), cmap='cool')\n",
      "    plt.colorbar()\n",
      "plt.show()"
     ],
     "language": "python",
     "metadata": {},
     "outputs": [
      {
       "output_type": "stream",
       "stream": "stdout",
       "text": [
        "DpMixtureGibbs initialised\n",
        "\tSAMPLE\tIteration 1\ttime 0.26\tnumClusters 24"
       ]
      },
      {
       "output_type": "stream",
       "stream": "stdout",
       "text": [
        "\n"
       ]
      },
      {
       "output_type": "stream",
       "stream": "stdout",
       "text": [
        "\tSAMPLE\tIteration 2\ttime 0.23\tnumClusters 24\n"
       ]
      },
      {
       "output_type": "stream",
       "stream": "stdout",
       "text": [
        "\tSAMPLE\tIteration 3\ttime 0.23\tnumClusters 23\n"
       ]
      },
      {
       "output_type": "stream",
       "stream": "stdout",
       "text": [
        "\tSAMPLE\tIteration 4\ttime 0.23\tnumClusters 23\n"
       ]
      },
      {
       "output_type": "stream",
       "stream": "stdout",
       "text": [
        "\tSAMPLE\tIteration 5\ttime 0.23\tnumClusters 25\n"
       ]
      },
      {
       "output_type": "stream",
       "stream": "stdout",
       "text": [
        "\tSAMPLE\tIteration 6\ttime 0.23\tnumClusters 24\n"
       ]
      },
      {
       "output_type": "stream",
       "stream": "stdout",
       "text": [
        "\tSAMPLE\tIteration 7\ttime 0.23\tnumClusters 24\n"
       ]
      },
      {
       "output_type": "stream",
       "stream": "stdout",
       "text": [
        "\tSAMPLE\tIteration 8\ttime 0.23\tnumClusters 24\n"
       ]
      },
      {
       "output_type": "stream",
       "stream": "stdout",
       "text": [
        "\tSAMPLE\tIteration 9\ttime 0.23\tnumClusters 25\n"
       ]
      },
      {
       "output_type": "stream",
       "stream": "stdout",
       "text": [
        "\tSAMPLE\tIteration 10\ttime 0.24\tnumClusters 25\n"
       ]
      },
      {
       "output_type": "stream",
       "stream": "stdout",
       "text": [
        "\tSAMPLE\tIteration 11\ttime 0.25\tnumClusters 25\n"
       ]
      },
      {
       "output_type": "stream",
       "stream": "stdout",
       "text": [
        "\tSAMPLE\tIteration 12\ttime 0.23\tnumClusters 25\n"
       ]
      },
      {
       "output_type": "stream",
       "stream": "stdout",
       "text": [
        "\tSAMPLE\tIteration 13\ttime 0.23\tnumClusters 24\n"
       ]
      },
      {
       "output_type": "stream",
       "stream": "stdout",
       "text": [
        "\tSAMPLE\tIteration 14\ttime 0.24\tnumClusters 25\n"
       ]
      },
      {
       "output_type": "stream",
       "stream": "stdout",
       "text": [
        "\tSAMPLE\tIteration 15\ttime 0.23\tnumClusters 26\n"
       ]
      },
      {
       "output_type": "stream",
       "stream": "stdout",
       "text": [
        "\tSAMPLE\tIteration 16\ttime 0.23\tnumClusters 25\n"
       ]
      },
      {
       "output_type": "stream",
       "stream": "stdout",
       "text": [
        "\tSAMPLE\tIteration 17\ttime 0.23\tnumClusters 26\n"
       ]
      },
      {
       "output_type": "stream",
       "stream": "stdout",
       "text": [
        "\tSAMPLE\tIteration 18\ttime 0.23\tnumClusters 27\n"
       ]
      },
      {
       "output_type": "stream",
       "stream": "stdout",
       "text": [
        "\tSAMPLE\tIteration 19\ttime 0.24\tnumClusters 26\n"
       ]
      },
      {
       "output_type": "stream",
       "stream": "stdout",
       "text": [
        "\tSAMPLE\tIteration 20\ttime 0.24\tnumClusters 28\n"
       ]
      },
      {
       "output_type": "stream",
       "stream": "stdout",
       "text": [
        "\tSAMPLE\tIteration 21\ttime 0.24\tnumClusters 26\n"
       ]
      },
      {
       "output_type": "stream",
       "stream": "stdout",
       "text": [
        "\tSAMPLE\tIteration 22\ttime 0.25\tnumClusters 27\n"
       ]
      },
      {
       "output_type": "stream",
       "stream": "stdout",
       "text": [
        "\tSAMPLE\tIteration 23\ttime 0.23\tnumClusters 27\n"
       ]
      },
      {
       "output_type": "stream",
       "stream": "stdout",
       "text": [
        "\tSAMPLE\tIteration 24\ttime 0.23\tnumClusters 28\n"
       ]
      },
      {
       "output_type": "stream",
       "stream": "stdout",
       "text": [
        "\tSAMPLE\tIteration 25\ttime 0.24\tnumClusters 29\n"
       ]
      },
      {
       "output_type": "stream",
       "stream": "stdout",
       "text": [
        "\tSAMPLE\tIteration 26\ttime 0.23\tnumClusters 28\n"
       ]
      },
      {
       "output_type": "stream",
       "stream": "stdout",
       "text": [
        "\tSAMPLE\tIteration 27\ttime 0.23\tnumClusters 28\n"
       ]
      },
      {
       "output_type": "stream",
       "stream": "stdout",
       "text": [
        "\tSAMPLE\tIteration 28\ttime 0.23\tnumClusters 27\n"
       ]
      },
      {
       "output_type": "stream",
       "stream": "stdout",
       "text": [
        "\tSAMPLE\tIteration 29\ttime 0.23\tnumClusters 27\n"
       ]
      },
      {
       "output_type": "stream",
       "stream": "stdout",
       "text": [
        "\tSAMPLE\tIteration 30\ttime 0.23\tnumClusters 28\n"
       ]
      },
      {
       "output_type": "stream",
       "stream": "stdout",
       "text": [
        "\tSAMPLE\tIteration 31\ttime 0.23\tnumClusters 27\n"
       ]
      },
      {
       "output_type": "stream",
       "stream": "stdout",
       "text": [
        "\tSAMPLE\tIteration 32\ttime 0.23\tnumClusters 28\n"
       ]
      },
      {
       "output_type": "stream",
       "stream": "stdout",
       "text": [
        "\tSAMPLE\tIteration 33\ttime 0.23\tnumClusters 27\n"
       ]
      },
      {
       "output_type": "stream",
       "stream": "stdout",
       "text": [
        "\tSAMPLE\tIteration 34\ttime 0.23\tnumClusters 27\n"
       ]
      },
      {
       "output_type": "stream",
       "stream": "stdout",
       "text": [
        "\tSAMPLE\tIteration 35\ttime 0.23\tnumClusters 27\n"
       ]
      },
      {
       "output_type": "stream",
       "stream": "stdout",
       "text": [
        "\tSAMPLE\tIteration 36\ttime 0.23\tnumClusters 27\n"
       ]
      },
      {
       "output_type": "stream",
       "stream": "stdout",
       "text": [
        "\tSAMPLE\tIteration 37\ttime 0.23\tnumClusters 28\n"
       ]
      },
      {
       "output_type": "stream",
       "stream": "stdout",
       "text": [
        "\tSAMPLE\tIteration 38\ttime 0.25\tnumClusters 27\n"
       ]
      },
      {
       "output_type": "stream",
       "stream": "stdout",
       "text": [
        "\tSAMPLE\tIteration 39\ttime 0.23\tnumClusters 28\n"
       ]
      },
      {
       "output_type": "stream",
       "stream": "stdout",
       "text": [
        "\tSAMPLE\tIteration 40\ttime 0.23\tnumClusters 28\n"
       ]
      },
      {
       "output_type": "stream",
       "stream": "stdout",
       "text": [
        "\tSAMPLE\tIteration 41\ttime 0.23\tnumClusters 27\n"
       ]
      },
      {
       "output_type": "stream",
       "stream": "stdout",
       "text": [
        "\tSAMPLE\tIteration 42\ttime 0.23\tnumClusters 28\n"
       ]
      },
      {
       "output_type": "stream",
       "stream": "stdout",
       "text": [
        "\tSAMPLE\tIteration 43\ttime 0.23\tnumClusters 27\n"
       ]
      },
      {
       "output_type": "stream",
       "stream": "stdout",
       "text": [
        "\tSAMPLE\tIteration 44\ttime 0.23\tnumClusters 27\n"
       ]
      },
      {
       "output_type": "stream",
       "stream": "stdout",
       "text": [
        "\tSAMPLE\tIteration 45\ttime 0.23\tnumClusters 28\n"
       ]
      },
      {
       "output_type": "stream",
       "stream": "stdout",
       "text": [
        "\tSAMPLE\tIteration 46\ttime 0.23\tnumClusters 28\n"
       ]
      },
      {
       "output_type": "stream",
       "stream": "stdout",
       "text": [
        "\tSAMPLE\tIteration 47\ttime 0.23\tnumClusters 26\n"
       ]
      },
      {
       "output_type": "stream",
       "stream": "stdout",
       "text": [
        "\tSAMPLE\tIteration 48\ttime 0.23\tnumClusters 28\n"
       ]
      },
      {
       "output_type": "stream",
       "stream": "stdout",
       "text": [
        "\tSAMPLE\tIteration 49\ttime 0.24\tnumClusters 27\n"
       ]
      },
      {
       "output_type": "stream",
       "stream": "stdout",
       "text": [
        "\tSAMPLE\tIteration 50\ttime 0.23\tnumClusters 29\n"
       ]
      },
      {
       "output_type": "stream",
       "stream": "stdout",
       "text": [
        "\tSAMPLE\tIteration 51\ttime 0.23\tnumClusters 27\n"
       ]
      },
      {
       "output_type": "stream",
       "stream": "stdout",
       "text": [
        "\tSAMPLE\tIteration 52\ttime 0.25\tnumClusters 27\n"
       ]
      },
      {
       "output_type": "stream",
       "stream": "stdout",
       "text": [
        "\tSAMPLE\tIteration 53\ttime 0.23\tnumClusters 28\n"
       ]
      },
      {
       "output_type": "stream",
       "stream": "stdout",
       "text": [
        "\tSAMPLE\tIteration 54\ttime 0.23\tnumClusters 27\n"
       ]
      },
      {
       "output_type": "stream",
       "stream": "stdout",
       "text": [
        "\tSAMPLE\tIteration 55\ttime 0.24\tnumClusters 28\n"
       ]
      },
      {
       "output_type": "stream",
       "stream": "stdout",
       "text": [
        "\tSAMPLE\tIteration 56\ttime 0.23\tnumClusters 28\n"
       ]
      },
      {
       "output_type": "stream",
       "stream": "stdout",
       "text": [
        "\tSAMPLE\tIteration 57\ttime 0.23\tnumClusters 28\n"
       ]
      },
      {
       "output_type": "stream",
       "stream": "stdout",
       "text": [
        "\tSAMPLE\tIteration 58\ttime 0.23\tnumClusters 29\n"
       ]
      },
      {
       "output_type": "stream",
       "stream": "stdout",
       "text": [
        "\tSAMPLE\tIteration 59\ttime 0.23\tnumClusters 27\n"
       ]
      },
      {
       "output_type": "stream",
       "stream": "stdout",
       "text": [
        "\tSAMPLE\tIteration 60\ttime 0.23\tnumClusters 28\n"
       ]
      },
      {
       "output_type": "stream",
       "stream": "stdout",
       "text": [
        "\tSAMPLE\tIteration 61\ttime 0.23\tnumClusters 29\n"
       ]
      },
      {
       "output_type": "stream",
       "stream": "stdout",
       "text": [
        "\tSAMPLE\tIteration 62\ttime 0.23\tnumClusters 30\n"
       ]
      },
      {
       "output_type": "stream",
       "stream": "stdout",
       "text": [
        "\tSAMPLE\tIteration 63\ttime 0.23\tnumClusters 29\n"
       ]
      },
      {
       "output_type": "stream",
       "stream": "stdout",
       "text": [
        "\tSAMPLE\tIteration 64\ttime 0.24\tnumClusters 30\n"
       ]
      },
      {
       "output_type": "stream",
       "stream": "stdout",
       "text": [
        "\tSAMPLE\tIteration 65\ttime 0.23\tnumClusters 29\n"
       ]
      },
      {
       "output_type": "stream",
       "stream": "stdout",
       "text": [
        "\tSAMPLE\tIteration 66\ttime 0.23\tnumClusters 30\n"
       ]
      },
      {
       "output_type": "stream",
       "stream": "stdout",
       "text": [
        "\tSAMPLE\tIteration 67\ttime 0.23\tnumClusters 30\n"
       ]
      },
      {
       "output_type": "stream",
       "stream": "stdout",
       "text": [
        "\tSAMPLE\tIteration 68\ttime 0.26\tnumClusters 30\n"
       ]
      },
      {
       "output_type": "stream",
       "stream": "stdout",
       "text": [
        "\tSAMPLE\tIteration 69\ttime 0.24\tnumClusters 28\n"
       ]
      },
      {
       "output_type": "stream",
       "stream": "stdout",
       "text": [
        "\tSAMPLE\tIteration 70\ttime 0.23\tnumClusters 29\n"
       ]
      },
      {
       "output_type": "stream",
       "stream": "stdout",
       "text": [
        "\tSAMPLE\tIteration 71\ttime 0.23\tnumClusters 28\n"
       ]
      },
      {
       "output_type": "stream",
       "stream": "stdout",
       "text": [
        "\tSAMPLE\tIteration 72\ttime 0.24\tnumClusters 28\n"
       ]
      },
      {
       "output_type": "stream",
       "stream": "stdout",
       "text": [
        "\tSAMPLE\tIteration 73\ttime 0.24\tnumClusters 29\n"
       ]
      },
      {
       "output_type": "stream",
       "stream": "stdout",
       "text": [
        "\tSAMPLE\tIteration 74\ttime 0.23\tnumClusters 29\n"
       ]
      },
      {
       "output_type": "stream",
       "stream": "stdout",
       "text": [
        "\tSAMPLE\tIteration 75\ttime 0.24\tnumClusters 29\n"
       ]
      },
      {
       "output_type": "stream",
       "stream": "stdout",
       "text": [
        "\tSAMPLE\tIteration 76\ttime 0.23\tnumClusters 29\n"
       ]
      },
      {
       "output_type": "stream",
       "stream": "stdout",
       "text": [
        "\tSAMPLE\tIteration 77\ttime 0.23\tnumClusters 29\n"
       ]
      },
      {
       "output_type": "stream",
       "stream": "stdout",
       "text": [
        "\tSAMPLE\tIteration 78\ttime 0.24\tnumClusters 30\n"
       ]
      },
      {
       "output_type": "stream",
       "stream": "stdout",
       "text": [
        "\tSAMPLE\tIteration 79\ttime 0.23\tnumClusters 29\n"
       ]
      },
      {
       "output_type": "stream",
       "stream": "stdout",
       "text": [
        "\tSAMPLE\tIteration 80\ttime 0.24\tnumClusters 29\n"
       ]
      },
      {
       "output_type": "stream",
       "stream": "stdout",
       "text": [
        "\tSAMPLE\tIteration 81\ttime 0.23\tnumClusters 29\n"
       ]
      },
      {
       "output_type": "stream",
       "stream": "stdout",
       "text": [
        "\tSAMPLE\tIteration 82\ttime 0.23\tnumClusters 29\n"
       ]
      },
      {
       "output_type": "stream",
       "stream": "stdout",
       "text": [
        "\tSAMPLE\tIteration 83\ttime 0.23\tnumClusters 28\n"
       ]
      },
      {
       "output_type": "stream",
       "stream": "stdout",
       "text": [
        "\tSAMPLE\tIteration 84\ttime 0.24\tnumClusters 29\n"
       ]
      },
      {
       "output_type": "stream",
       "stream": "stdout",
       "text": [
        "\tSAMPLE\tIteration 85\ttime 0.23\tnumClusters 30\n"
       ]
      },
      {
       "output_type": "stream",
       "stream": "stdout",
       "text": [
        "\tSAMPLE\tIteration 86\ttime 0.24\tnumClusters 28\n"
       ]
      },
      {
       "output_type": "stream",
       "stream": "stdout",
       "text": [
        "\tSAMPLE\tIteration 87\ttime 0.25\tnumClusters 31\n"
       ]
      },
      {
       "output_type": "stream",
       "stream": "stdout",
       "text": [
        "\tSAMPLE\tIteration 88\ttime 0.24\tnumClusters 27\n"
       ]
      },
      {
       "output_type": "stream",
       "stream": "stdout",
       "text": [
        "\tSAMPLE\tIteration 89\ttime 0.23\tnumClusters 28\n"
       ]
      },
      {
       "output_type": "stream",
       "stream": "stdout",
       "text": [
        "\tSAMPLE\tIteration 90\ttime 0.23\tnumClusters 29\n"
       ]
      },
      {
       "output_type": "stream",
       "stream": "stdout",
       "text": [
        "\tSAMPLE\tIteration 91\ttime 0.23\tnumClusters 29\n"
       ]
      },
      {
       "output_type": "stream",
       "stream": "stdout",
       "text": [
        "\tSAMPLE\tIteration 92\ttime 0.23\tnumClusters 29\n"
       ]
      },
      {
       "output_type": "stream",
       "stream": "stdout",
       "text": [
        "\tSAMPLE\tIteration 93\ttime 0.23\tnumClusters 28\n"
       ]
      },
      {
       "output_type": "stream",
       "stream": "stdout",
       "text": [
        "\tSAMPLE\tIteration 94\ttime 0.24\tnumClusters 29\n"
       ]
      },
      {
       "output_type": "stream",
       "stream": "stdout",
       "text": [
        "\tSAMPLE\tIteration 95\ttime 0.24\tnumClusters 29\n"
       ]
      },
      {
       "output_type": "stream",
       "stream": "stdout",
       "text": [
        "\tSAMPLE\tIteration 96\ttime 0.24\tnumClusters 29\n"
       ]
      },
      {
       "output_type": "stream",
       "stream": "stdout",
       "text": [
        "\tSAMPLE\tIteration 97\ttime 0.24\tnumClusters 27\n"
       ]
      },
      {
       "output_type": "stream",
       "stream": "stdout",
       "text": [
        "\tSAMPLE\tIteration 98\ttime 0.24\tnumClusters 29\n"
       ]
      },
      {
       "output_type": "stream",
       "stream": "stdout",
       "text": [
        "\tSAMPLE\tIteration 99\ttime 0.24\tnumClusters 28\n"
       ]
      },
      {
       "output_type": "stream",
       "stream": "stdout",
       "text": [
        "\tSAMPLE\tIteration 100\ttime 0.25\tnumClusters 28\n"
       ]
      },
      {
       "output_type": "stream",
       "stream": "stdout",
       "text": [
        "DONE!\n"
       ]
      },
      {
       "metadata": {},
       "output_type": "display_data",
       "png": "[encoded data removed]",
       "text": [
        "<matplotlib.figure.Figure at 0x7fa36f4595d0>"
       ]
      }
     ],
     "prompt_number": 5
    },
    {
     "cell_type": "markdown",
     "metadata": {},
     "source": [
      "Now need to read the alignment results from all the clustering ..."
     ]
    },
    {
     "cell_type": "code",
     "collapsed": false,
     "input": [],
     "language": "python",
     "metadata": {},
     "outputs": []
    }
   ],
   "metadata": {}
  }
 ]
}