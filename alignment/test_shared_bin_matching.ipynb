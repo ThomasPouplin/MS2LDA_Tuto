{
 "metadata": {
  "name": "",
  "signature": "sha256:b19c242d3ba8acdc81d9cc37bb0aade5d56692b92d3eae3d0af48d766ac94303"
 },
 "nbformat": 3,
 "nbformat_minor": 0,
 "worksheets": [
  {
   "cells": [
    {
     "cell_type": "heading",
     "level": 3,
     "metadata": {},
     "source": [
      "Preliminary"
     ]
    },
    {
     "cell_type": "markdown",
     "metadata": {},
     "source": [
      "Import some stuff"
     ]
    },
    {
     "cell_type": "code",
     "collapsed": false,
     "input": [
      "import sys\n",
      "\n",
      "basedir = '../'\n",
      "sys.path.append(basedir) # need to do this to be able to import the stuff below\n",
      "\n",
      "import itertools\n",
      "from operator import attrgetter\n",
      "from operator import itemgetter\n",
      "import time\n",
      "\n",
      "from discretisation.discrete_mass_clusterer import DiscreteVB\n",
      "from discretisation.models import HyperPars\n",
      "from discretisation.plotting import ClusterPlotter\n",
      "from discretisation.preprocessing import FileLoader\n",
      "import discretisation.utils as utils\n",
      "from dp_rt_clusterer import DpMixtureGibbs\n",
      "\n",
      "%pylab inline"
     ],
     "language": "python",
     "metadata": {},
     "outputs": [
      {
       "output_type": "stream",
       "stream": "stdout",
       "text": [
        "Populating the interactive namespace from numpy and matplotlib\n"
       ]
      }
     ],
     "prompt_number": 1
    },
    {
     "cell_type": "markdown",
     "metadata": {},
     "source": [
      "Define a whole bunch of useful functions"
     ]
    },
    {
     "cell_type": "code",
     "collapsed": false,
     "input": [
      "def plot_hist(mapping, filename, mass_tol, rt_tol):\n",
      "    no_trans = (mapping > 0).sum(1)\n",
      "    mini_hist = []\n",
      "    for i in np.arange(10) + 1:\n",
      "        mini_hist.append((no_trans == i).sum())\n",
      "    print 'mini_hist ' + str(mini_hist)\n",
      "    plt.figure()\n",
      "    plt.subplot(1, 2, 1)\n",
      "    plt.bar(np.arange(10) + 1, mini_hist)\n",
      "    title = 'Binning -- MASS_TOL ' + str(mass_tol) + ', RT_TOL ' + str(rt_tol)\n",
      "    plt.title(title)\n",
      "    plt.subplot(1, 2, 2)\n",
      "    plt.spy(mapping, markersize=1)\n",
      "    plt.title('possible')\n",
      "    plt.suptitle(filename)\n",
      "    plt.show()     \n",
      "    \n",
      "def annotate(annotations, feature, msg):\n",
      "    if feature in annotations:\n",
      "        current_msg = annotations[feature]\n",
      "        annotations[feature] = current_msg + \" \" + msg\n",
      "    else:\n",
      "        annotations[feature] = msg\n",
      "    \n",
      "def get_transformation_map(transformations):\n",
      "    tmap = {}\n",
      "    t = 1\n",
      "    for trans in transformations:\n",
      "        tmap[t] = trans\n",
      "        t += 1\n",
      "    return tmap\n",
      "\n",
      "def find_same_top_id(key, items):\n",
      "    indices = []\n",
      "    results = []\n",
      "    for a in range(len(items)):\n",
      "        check = items[a]\n",
      "        if key.top_id == check.top_id:\n",
      "            indices.append(a)\n",
      "            results.append(check)\n",
      "    return indices, results"
     ],
     "language": "python",
     "metadata": {},
     "outputs": [],
     "prompt_number": 2
    },
    {
     "cell_type": "markdown",
     "metadata": {},
     "source": [
      "Here we load 4 std1 pos files and process them with the following parameters."
     ]
    },
    {
     "cell_type": "code",
     "collapsed": false,
     "input": [
      "start = time.time()\n",
      "\n",
      "database = '../discretisation/database/std1_mols.csv'\n",
      "transformation = '../discretisation/mulsubs/mulsub2.txt'\n",
      "input_file = './input/std1_csv_2'\n",
      "\n",
      "binning_mass_tol = 2.0                  # mass tolerance in ppm when binning\n",
      "binning_rt_tol = 5.0                    # rt tolerance in seconds when binning\n",
      "within_file_rt_sd = 2.5                 # standard deviation of each cluster when clustering by precursor masses in a single file\n",
      "across_file_rt_sd = 10.0                # standard deviation of mixture component when clustering by RT across files\n",
      "alpha_mass = 10000.0                    # concentration parameter for precursor mass clustering\n",
      "alpha_rt = 10000.0                      # concentration parameter for DP mixture on RT\n",
      "t = 0.50                                # threshold for cluster membership for precursor mass clustering\n",
      "limit_n = 1000                          # the number of features to load per file to make debugging easier, -1 to load all\n",
      "\n",
      "mass_clustering_n_iterations = 20       # no. of iterations for VB precursor clustering\n",
      "rt_clustering_nsamps = 200              # no. of total samples for Gibbs RT clustering\n",
      "rt_clustering_burnin = 100              # no. of burn-in samples for Gibbs RT clustering"
     ],
     "language": "python",
     "metadata": {},
     "outputs": [],
     "prompt_number": 3
    },
    {
     "cell_type": "heading",
     "level": 3,
     "metadata": {},
     "source": [
      "Step 1"
     ]
    },
    {
     "cell_type": "markdown",
     "metadata": {},
     "source": [
      "First stage clustering. Here we do the usual precursor mass clustering of peak features to some common bins shared across files"
     ]
    },
    {
     "cell_type": "code",
     "collapsed": false,
     "input": [
      "# First stage clustering. \n",
      "# Here we cluster peak features by their precursor masses to the common bins shared across files.\n",
      "loader = FileLoader()\n",
      "data_list = loader.load_model_input(input_file, database, transformation, binning_mass_tol, binning_rt_tol, limit_n=limit_n)\n",
      "transformations = data_list[0].transformations\n",
      "tmap = get_transformation_map(transformations)\n",
      "all_bins = []\n",
      "posterior_bin_rts = []    \n",
      "annotations = {}\n",
      "\n",
      "file_bins = []\n",
      "file_post_rts = []\n",
      "\n",
      "for j in range(len(data_list)):\n",
      "\n",
      "    # run precursor mass clustering\n",
      "    peak_data = data_list[j]\n",
      "    plot_hist(peak_data.possible, input_file, binning_mass_tol, binning_rt_tol)\n",
      "    print \"Clustering file \" + str(j) + \" by precursor masses\"\n",
      "    hp = HyperPars()\n",
      "    hp.rt_prec = 1.0/(within_file_rt_sd*within_file_rt_sd)\n",
      "    hp.alpha = alpha_mass\n",
      "    discrete = DiscreteVB(peak_data, hp)\n",
      "    # discrete = ContinuousVB(peak_data, hp)\n",
      "    discrete.n_iterations = mass_clustering_n_iterations\n",
      "    print discrete\n",
      "    discrete.run()\n",
      "\n",
      "    # pick the non-empty bins for the second stage clustering\n",
      "    cluster_membership = (discrete.Z>t)\n",
      "    s = cluster_membership.sum(0)\n",
      "    nnz_idx = s.nonzero()[1]  \n",
      "    nnz_idx = np.squeeze(np.asarray(nnz_idx)) # flatten the thing\n",
      "\n",
      "    # find the non-empty bins\n",
      "    bins = [peak_data.bins[a] for a in nnz_idx]\n",
      "    all_bins.extend(bins)\n",
      "    file_bins.append(bins)\n",
      "\n",
      "    # find the non-empty bins' posterior RT values\n",
      "    bin_rts = discrete.cluster_rt_mean[nnz_idx]\n",
      "    plt.figure()\n",
      "    plt.plot(bin_rts, '.b')\n",
      "    plt.title(\"Posterior RT values for file \" + str(j))\n",
      "    plt.xlabel(\"Non-empty bins\")\n",
      "    plt.ylabel(\"RT\")\n",
      "    plt.show()\n",
      "    bin_rts = bin_rts.ravel().tolist()\n",
      "    posterior_bin_rts.extend(bin_rts)\n",
      "    file_post_rts.append(bin_rts)\n",
      "\n",
      "    # make some plots\n",
      "    cp = ClusterPlotter(peak_data, discrete)\n",
      "    cp.summary(file_idx=j)\n",
      "    # cp.plot_biggest(3)        \n",
      "\n",
      "    # assign peaks into their respective bins, \n",
      "    # this makes it easier when matching peaks across the same bins later\n",
      "    # note: a peak can belong to multiple bins, depending on the choice of threshold t\n",
      "    cx = cluster_membership.tocoo()\n",
      "    for i,j,v in itertools.izip(cx.row, cx.col, cx.data):\n",
      "        f = peak_data.features[i]\n",
      "        bb = peak_data.bins[j] # copy of the common bin specific to file j\n",
      "        bb.add_feature(f)    \n",
      "        # annotate each feature by its precursor mass & adduct type probabilities, for reporting later\n",
      "        bin_prob = discrete.Z[i, j]\n",
      "        trans_idx = discrete.possible[i, j]\n",
      "        tran = tmap[trans_idx]\n",
      "        msg = \"{:s}@{:3.5f} prob={:.2f}\".format(tran.name, bb.mass, bin_prob)            \n",
      "        annotate(annotations, f, msg)            "
     ],
     "language": "python",
     "metadata": {},
     "outputs": [
      {
       "output_type": "stream",
       "stream": "stdout",
       "text": [
        "4999 features read from std1-file1.identified.csv\n",
        "Using only 1000 features from std1-file1.identified.csv\n",
        "4986 features read from std1-file2.identified.csv"
       ]
      },
      {
       "output_type": "stream",
       "stream": "stdout",
       "text": [
        "\n",
        "Using only 1000 features from std1-file2.identified.csv\n",
        "6836 features read from std1-file3.identified.csv"
       ]
      },
      {
       "output_type": "stream",
       "stream": "stdout",
       "text": [
        "\n",
        "Using only 1000 features from std1-file3.identified.csv\n",
        "9752 features read from std1-file4.identified.csv"
       ]
      },
      {
       "output_type": "stream",
       "stream": "stdout",
       "text": [
        "\n",
        "Using only 1000 features from std1-file4.identified.csv\n",
        "Discretising at mass_tol=2.0\n",
        "Making top-level bins shared across files......"
       ]
      },
      {
       "output_type": "stream",
       "stream": "stdout",
       "text": [
        "......"
       ]
      },
      {
       "output_type": "stream",
       "stream": "stdout",
       "text": [
        "....."
       ]
      },
      {
       "output_type": "stream",
       "stream": "stdout",
       "text": [
        "...\n"
       ]
      },
      {
       "output_type": "stream",
       "stream": "stdout",
       "text": [
        "Total top bins=859 total features=4000\n",
        "Instantiating local bins for file 0.."
       ]
      },
      {
       "output_type": "stream",
       "stream": "stdout",
       "text": [
        "..."
       ]
      },
      {
       "output_type": "stream",
       "stream": "stdout",
       "text": [
        "\n",
        "File 0 has 1291 local bins instantiated\n",
        "Building matrices for file 0.."
       ]
      },
      {
       "output_type": "stream",
       "stream": "stdout",
       "text": [
        ".."
       ]
      },
      {
       "output_type": "stream",
       "stream": "stdout",
       "text": [
        ".\n"
       ]
      },
      {
       "output_type": "stream",
       "stream": "stdout",
       "text": [
        "Instantiating local bins for file 1.."
       ]
      },
      {
       "output_type": "stream",
       "stream": "stdout",
       "text": [
        "..."
       ]
      },
      {
       "output_type": "stream",
       "stream": "stdout",
       "text": [
        "\n",
        "File 1 has 1232 local bins instantiated\n",
        "Building matrices for file 1.."
       ]
      },
      {
       "output_type": "stream",
       "stream": "stdout",
       "text": [
        ".."
       ]
      },
      {
       "output_type": "stream",
       "stream": "stdout",
       "text": [
        ".\n"
       ]
      },
      {
       "output_type": "stream",
       "stream": "stdout",
       "text": [
        "Instantiating local bins for file 2..."
       ]
      },
      {
       "output_type": "stream",
       "stream": "stdout",
       "text": [
        "..\n",
        "File 2 has 1148 local bins instantiated\n",
        "Building matrices for file 2"
       ]
      },
      {
       "output_type": "stream",
       "stream": "stdout",
       "text": [
        ".."
       ]
      },
      {
       "output_type": "stream",
       "stream": "stdout",
       "text": [
        ".."
       ]
      },
      {
       "output_type": "stream",
       "stream": "stdout",
       "text": [
        ".\n"
       ]
      },
      {
       "output_type": "stream",
       "stream": "stdout",
       "text": [
        "Instantiating local bins for file 3.."
       ]
      },
      {
       "output_type": "stream",
       "stream": "stdout",
       "text": [
        "..."
       ]
      },
      {
       "output_type": "stream",
       "stream": "stdout",
       "text": [
        "\n",
        "File 3 has 1177 local bins instantiated\n",
        "Building matrices for file 3.."
       ]
      },
      {
       "output_type": "stream",
       "stream": "stdout",
       "text": [
        ".."
       ]
      },
      {
       "output_type": "stream",
       "stream": "stdout",
       "text": [
        ".\n"
       ]
      },
      {
       "output_type": "stream",
       "stream": "stdout",
       "text": [
        "mini_hist [614, 350, 23, 11, 2, 0, 0, 0, 0, 0]\n"
       ]
      },
      {
       "metadata": {},
       "output_type": "display_data",
       "png": "[encoded data removed]",
       "text": [
        "<matplotlib.figure.Figure at 0x7f05f5e1fa10>"
       ]
      },
      {
       "output_type": "stream",
       "stream": "stdout",
       "text": [
        "Clustering file 0 by precursor masses\n",
        "DiscreteVB initialising\n",
        "Startup .."
       ]
      },
      {
       "output_type": "stream",
       "stream": "stdout",
       "text": [
        ".."
       ]
      },
      {
       "output_type": "stream",
       "stream": "stdout",
       "text": [
        ".\n"
       ]
      },
      {
       "output_type": "stream",
       "stream": "stdout",
       "text": [
        "Variational Bayes for discrete mass model\n",
        "Hyperparameters alpha=10000.0, mass_prec=100, mass_prior_prec=100, rt_prec=0.16, rt_prior_prec=100\n",
        "n_iterations = 20\n",
        "386 peaks to be re-sampled\n",
        "Iteration 0 Change in Z: 184.608436277"
       ]
      },
      {
       "output_type": "stream",
       "stream": "stdout",
       "text": [
        "\n",
        "Iteration 1 Change in Z: 0.562552389593"
       ]
      },
      {
       "output_type": "stream",
       "stream": "stdout",
       "text": [
        "\n",
        "Iteration 2 Change in Z: 0.00238950920383"
       ]
      },
      {
       "output_type": "stream",
       "stream": "stdout",
       "text": [
        "\n",
        "Iteration 3 Change in Z: 1.43869755576e-05"
       ]
      },
      {
       "output_type": "stream",
       "stream": "stdout",
       "text": [
        "\n",
        "Iteration 4 Change in Z: 1.10460103525e-07"
       ]
      },
      {
       "output_type": "stream",
       "stream": "stdout",
       "text": [
        "\n",
        "Iteration 5 Change in Z: 9.63594322646e-10"
       ]
      },
      {
       "output_type": "stream",
       "stream": "stdout",
       "text": [
        "\n",
        "Iteration 6 Change in Z: 8.97794815889e-12"
       ]
      },
      {
       "output_type": "stream",
       "stream": "stdout",
       "text": [
        "\n",
        "Iteration 7 Change in Z: 8.69615413589e-14"
       ]
      },
      {
       "output_type": "stream",
       "stream": "stdout",
       "text": [
        "\n",
        "Iteration 8 Change in Z: 8.64385040084e-16"
       ]
      },
      {
       "output_type": "stream",
       "stream": "stdout",
       "text": [
        "\n",
        "Iteration 9 Change in Z: 9.00595736123e-18"
       ]
      },
      {
       "output_type": "stream",
       "stream": "stdout",
       "text": [
        "\n",
        "Iteration 10 Change in Z: 4.11612377196e-19"
       ]
      },
      {
       "output_type": "stream",
       "stream": "stdout",
       "text": [
        "\n",
        "Iteration 11 Change in Z: 3.32957278181e-19"
       ]
      },
      {
       "output_type": "stream",
       "stream": "stdout",
       "text": [
        "\n",
        "Iteration 12 Change in Z: 2.92761252153e-19"
       ]
      },
      {
       "output_type": "stream",
       "stream": "stdout",
       "text": [
        "\n",
        "Iteration 13 Change in Z: 2.9561960817e-19"
       ]
      },
      {
       "output_type": "stream",
       "stream": "stdout",
       "text": [
        "\n",
        "Iteration 14 Change in Z: 3.17423565955e-19"
       ]
      },
      {
       "output_type": "stream",
       "stream": "stdout",
       "text": [
        "\n",
        "Iteration 15 Change in Z: 2.92754625949e-19"
       ]
      },
      {
       "output_type": "stream",
       "stream": "stdout",
       "text": [
        "\n",
        "Iteration 16 Change in Z: 2.95627831031e-19"
       ]
      },
      {
       "output_type": "stream",
       "stream": "stdout",
       "text": [
        "\n",
        "Iteration 17 Change in Z: 3.1741736832e-19"
       ]
      },
      {
       "output_type": "stream",
       "stream": "stdout",
       "text": [
        "\n",
        "Iteration 18 Change in Z: 2.92764547084e-19"
       ]
      },
      {
       "output_type": "stream",
       "stream": "stdout",
       "text": [
        "\n",
        "Iteration 19 Change in Z: 2.9561609612e-19"
       ]
      },
      {
       "output_type": "stream",
       "stream": "stdout",
       "text": [
        "\n"
       ]
      },
      {
       "metadata": {},
       "output_type": "display_data",
       "png": "[encoded data removed]",
       "text": [
        "<matplotlib.figure.Figure at 0x7f05f1d07490>"
       ]
      },
      {
       "output_type": "stream",
       "stream": "stdout",
       "text": [
        "Cluster output\n",
        "Number of non-empty clusters: 700 (of 1291)\n",
        "\n",
        "Size: count\n",
        "0: 591\n",
        "1: 662\n",
        "2: 34\n",
        "3: 3\n",
        "4: 1\n",
        "\n",
        "Trans: count\n",
        "M+2H: 2\n",
        "M+H+NH4: 0\n",
        "M+H+Na: 0\n",
        "M+H+K: 0\n",
        "M+ACN+2H: 0\n",
        "M+2Na: 0\n",
        "M+H: 711\n",
        "M+HC13: 27\n",
        "M+H2C13: 0\n",
        "M+NH4: 0\n",
        "M+Na: 2\n",
        "M+NaC13: 0\n",
        "M+CH3OH+H: 0\n",
        "M+K: 1\n",
        "M+KC13: 0\n",
        "M+ACN+H: 0\n",
        "M+2Na-H: 0\n",
        "M+IsoProp+H: 0\n",
        "M+ACN+Na: 0\n",
        "M+2K-H: 0\n",
        "M+DMSO+H: 0\n",
        "M+2ACN+H: 0\n"
       ]
      },
      {
       "metadata": {},
       "output_type": "display_data",
       "png": "[encoded data removed]",
       "text": [
        "<matplotlib.figure.Figure at 0x7f05f5e1f950>"
       ]
      },
      {
       "output_type": "stream",
       "stream": "stdout",
       "text": [
        "mini_hist [662, 315, 18, 5, 0, 0, 0, 0, 0, 0]\n"
       ]
      },
      {
       "metadata": {},
       "output_type": "display_data",
       "png": "[encoded data removed]",
       "text": [
        "<matplotlib.figure.Figure at 0x7f05f1abed90>"
       ]
      },
      {
       "output_type": "stream",
       "stream": "stdout",
       "text": [
        "Clustering file 1 by precursor masses\n",
        "DiscreteVB initialising\n",
        "Startup .."
       ]
      },
      {
       "output_type": "stream",
       "stream": "stdout",
       "text": [
        ".."
       ]
      },
      {
       "output_type": "stream",
       "stream": "stdout",
       "text": [
        ".\n"
       ]
      },
      {
       "output_type": "stream",
       "stream": "stdout",
       "text": [
        "Variational Bayes for discrete mass model\n",
        "Hyperparameters alpha=10000.0, mass_prec=100, mass_prior_prec=100, rt_prec=0.16, rt_prior_prec=100\n",
        "n_iterations = 20\n",
        "338 peaks to be re-sampled\n",
        "Iteration 0 Change in Z: 161.912710559"
       ]
      },
      {
       "output_type": "stream",
       "stream": "stdout",
       "text": [
        "\n",
        "Iteration 1 Change in Z: 0.475611869993"
       ]
      },
      {
       "output_type": "stream",
       "stream": "stdout",
       "text": [
        "\n",
        "Iteration 2 Change in Z: 0.00188914902626"
       ]
      },
      {
       "output_type": "stream",
       "stream": "stdout",
       "text": [
        "\n",
        "Iteration 3 Change in Z: 1.0887602059e-05"
       ]
      },
      {
       "output_type": "stream",
       "stream": "stdout",
       "text": [
        "\n",
        "Iteration 4 Change in Z: 8.46711892286e-08"
       ]
      },
      {
       "output_type": "stream",
       "stream": "stdout",
       "text": [
        "\n",
        "Iteration 5 Change in Z: 7.76179953392e-10"
       ]
      },
      {
       "output_type": "stream",
       "stream": "stdout",
       "text": [
        "\n",
        "Iteration 6 Change in Z: 7.70646847692e-12"
       ]
      },
      {
       "output_type": "stream",
       "stream": "stdout",
       "text": [
        "\n",
        "Iteration 7 Change in Z: 7.97798290235e-14"
       ]
      },
      {
       "output_type": "stream",
       "stream": "stdout",
       "text": [
        "\n",
        "Iteration 8 Change in Z: 8.47528283875e-16"
       ]
      },
      {
       "output_type": "stream",
       "stream": "stdout",
       "text": [
        "\n",
        "Iteration 9 Change in Z: 9.25597088364e-18"
       ]
      },
      {
       "output_type": "stream",
       "stream": "stdout",
       "text": [
        "\n",
        "Iteration 10 Change in Z: 2.80042054644e-19"
       ]
      },
      {
       "output_type": "stream",
       "stream": "stdout",
       "text": [
        "\n",
        "Iteration 11 Change in Z: 1.68403351656e-19"
       ]
      },
      {
       "output_type": "stream",
       "stream": "stdout",
       "text": [
        "\n",
        "Iteration 12 Change in Z: 1.70891897407e-19"
       ]
      },
      {
       "output_type": "stream",
       "stream": "stdout",
       "text": [
        "\n",
        "Iteration 13 Change in Z: 1.67765493687e-19"
       ]
      },
      {
       "output_type": "stream",
       "stream": "stdout",
       "text": [
        "\n",
        "Iteration 14 Change in Z: 1.70571016573e-19"
       ]
      },
      {
       "output_type": "stream",
       "stream": "stdout",
       "text": [
        "\n",
        "Iteration 15 Change in Z: 1.67292650604e-19"
       ]
      },
      {
       "output_type": "stream",
       "stream": "stdout",
       "text": [
        "\n",
        "Iteration 16 Change in Z: 1.70660582451e-19"
       ]
      },
      {
       "output_type": "stream",
       "stream": "stdout",
       "text": [
        "\n",
        "Iteration 17 Change in Z: 1.67377520091e-19"
       ]
      },
      {
       "output_type": "stream",
       "stream": "stdout",
       "text": [
        "\n",
        "Iteration 18 Change in Z: 1.70621762605e-19"
       ]
      },
      {
       "output_type": "stream",
       "stream": "stdout",
       "text": [
        "\n",
        "Iteration 19 Change in Z: 1.67250293013e-19"
       ]
      },
      {
       "output_type": "stream",
       "stream": "stdout",
       "text": [
        "\n"
       ]
      },
      {
       "metadata": {},
       "output_type": "display_data",
       "png": "[encoded data removed]",
       "text": [
        "<matplotlib.figure.Figure at 0x7f05f1ad7d10>"
       ]
      },
      {
       "output_type": "stream",
       "stream": "stdout",
       "text": [
        "Cluster output\n",
        "Number of non-empty clusters: 749 (of 1232)\n",
        "\n",
        "Size: count\n",
        "0: 483\n",
        "1: 705\n",
        "2: 37\n",
        "3: 6\n",
        "4: 1\n",
        "\n",
        "Trans: count\n",
        "M+2H: 1\n",
        "M+H+NH4: 0\n",
        "M+H+Na: 0\n",
        "M+H+K: 0\n",
        "M+ACN+2H: 0\n",
        "M+2Na: 0\n",
        "M+H: 751\n",
        "M+HC13: 32\n",
        "M+H2C13: 0\n",
        "M+NH4: 2\n",
        "M+Na: 12\n",
        "M+NaC13: 0\n",
        "M+CH3OH+H: 0\n",
        "M+K: 1\n",
        "M+KC13: 0\n",
        "M+ACN+H: 2\n",
        "M+2Na-H: 0\n",
        "M+IsoProp+H: 0\n",
        "M+ACN+Na: 0\n",
        "M+2K-H: 0\n",
        "M+DMSO+H: 0\n",
        "M+2ACN+H: 0\n"
       ]
      },
      {
       "metadata": {},
       "output_type": "display_data",
       "png": "[encoded data removed]",
       "text": [
        "<matplotlib.figure.Figure at 0x7f05f194cd10>"
       ]
      },
      {
       "output_type": "stream",
       "stream": "stdout",
       "text": [
        "mini_hist [727, 252, 17, 4, 0, 0, 0, 0, 0, 0]\n"
       ]
      },
      {
       "metadata": {},
       "output_type": "display_data",
       "png": "[encoded data removed]",
       "text": [
        "<matplotlib.figure.Figure at 0x7f05f1eda610>"
       ]
      },
      {
       "output_type": "stream",
       "stream": "stdout",
       "text": [
        "Clustering file 2 by precursor masses\n",
        "DiscreteVB initialising\n",
        "Startup .."
       ]
      },
      {
       "output_type": "stream",
       "stream": "stdout",
       "text": [
        ".."
       ]
      },
      {
       "output_type": "stream",
       "stream": "stdout",
       "text": [
        ".\n"
       ]
      },
      {
       "output_type": "stream",
       "stream": "stdout",
       "text": [
        "Variational Bayes for discrete mass model\n",
        "Hyperparameters alpha=10000.0, mass_prec=100, mass_prior_prec=100, rt_prec=0.16, rt_prior_prec=100\n",
        "n_iterations = 20\n",
        "273 peaks to be re-sampled\n",
        "Iteration 0 Change in Z: 134.910257802"
       ]
      },
      {
       "output_type": "stream",
       "stream": "stdout",
       "text": [
        "\n",
        "Iteration 1 Change in Z: 0.379939644645"
       ]
      },
      {
       "output_type": "stream",
       "stream": "stdout",
       "text": [
        "\n",
        "Iteration 2 Change in Z: 0.00143747591439"
       ]
      },
      {
       "output_type": "stream",
       "stream": "stdout",
       "text": [
        "\n",
        "Iteration 3 Change in Z: 7.41916081523e-06"
       ]
      },
      {
       "output_type": "stream",
       "stream": "stdout",
       "text": [
        "\n",
        "Iteration 4 Change in Z: 5.02032103285e-08"
       ]
      },
      {
       "output_type": "stream",
       "stream": "stdout",
       "text": [
        "\n",
        "Iteration 5 Change in Z: 4.10256658797e-10"
       ]
      },
      {
       "output_type": "stream",
       "stream": "stdout",
       "text": [
        "\n",
        "Iteration 6 Change in Z: 3.76902873707e-12"
       ]
      },
      {
       "output_type": "stream",
       "stream": "stdout",
       "text": [
        "\n",
        "Iteration 7 Change in Z: 3.71613846106e-14"
       ]
      },
      {
       "output_type": "stream",
       "stream": "stdout",
       "text": [
        "\n",
        "Iteration 8 Change in Z: 3.82259137518e-16"
       ]
      },
      {
       "output_type": "stream",
       "stream": "stdout",
       "text": [
        "\n",
        "Iteration 9 Change in Z: 4.0977031852e-18"
       ]
      },
      {
       "output_type": "stream",
       "stream": "stdout",
       "text": [
        "\n",
        "Iteration 10 Change in Z: 9.86404343641e-20"
       ]
      },
      {
       "output_type": "stream",
       "stream": "stdout",
       "text": [
        "\n",
        "Iteration 11 Change in Z: 5.70444802513e-20"
       ]
      },
      {
       "output_type": "stream",
       "stream": "stdout",
       "text": [
        "\n",
        "Iteration 12 Change in Z: 5.71164665922e-20"
       ]
      },
      {
       "output_type": "stream",
       "stream": "stdout",
       "text": [
        "\n",
        "Iteration 13 Change in Z: 5.59739333142e-20"
       ]
      },
      {
       "output_type": "stream",
       "stream": "stdout",
       "text": [
        "\n",
        "Iteration 14 Change in Z: 5.59477885993e-20"
       ]
      },
      {
       "output_type": "stream",
       "stream": "stdout",
       "text": [
        "\n",
        "Iteration 15 Change in Z: 5.69710883332e-20"
       ]
      },
      {
       "output_type": "stream",
       "stream": "stdout",
       "text": [
        "\n",
        "Iteration 16 Change in Z: 5.6002954631e-20"
       ]
      },
      {
       "output_type": "stream",
       "stream": "stdout",
       "text": [
        "\n",
        "Iteration 17 Change in Z: 5.59674738212e-20"
       ]
      },
      {
       "output_type": "stream",
       "stream": "stdout",
       "text": [
        "\n",
        "Iteration 18 Change in Z: 5.69514030608e-20"
       ]
      },
      {
       "output_type": "stream",
       "stream": "stdout",
       "text": [
        "\n",
        "Iteration 19 Change in Z: 5.59701461118e-20"
       ]
      },
      {
       "output_type": "stream",
       "stream": "stdout",
       "text": [
        "\n"
       ]
      },
      {
       "metadata": {},
       "output_type": "display_data",
       "png": "[encoded data removed]",
       "text": [
        "<matplotlib.figure.Figure at 0x7f05f1a51410>"
       ]
      },
      {
       "output_type": "stream",
       "stream": "stdout",
       "text": [
        "Cluster output\n",
        "Number of non-empty clusters: 803 (of 1148)\n",
        "\n",
        "Size: count\n",
        "0: 345\n",
        "1: 756\n",
        "2: 42\n",
        "3: 4\n",
        "4: 1\n",
        "\n",
        "Trans: count\n",
        "M+2H: 2\n",
        "M+H+NH4: 0\n",
        "M+H+Na: 0\n",
        "M+H+K: 0\n",
        "M+ACN+2H: 2\n",
        "M+2Na: 0\n",
        "M+H: 801\n",
        "M+HC13: 36\n",
        "M+H2C13: 0\n",
        "M+NH4: 0\n",
        "M+Na: 5\n",
        "M+NaC13: 0\n",
        "M+CH3OH+H: 0\n",
        "M+K: 1\n",
        "M+KC13: 0\n",
        "M+ACN+H: 8\n",
        "M+2Na-H: 0\n",
        "M+IsoProp+H: 0\n",
        "M+ACN+Na: 0\n",
        "M+2K-H: 0\n",
        "M+DMSO+H: 0\n",
        "M+2ACN+H: 1\n"
       ]
      },
      {
       "metadata": {},
       "output_type": "display_data",
       "png": "[encoded data removed]",
       "text": [
        "<matplotlib.figure.Figure at 0x7f05f203cdd0>"
       ]
      },
      {
       "output_type": "stream",
       "stream": "stdout",
       "text": [
        "mini_hist [714, 262, 19, 4, 0, 1, 0, 0, 0, 0]\n"
       ]
      },
      {
       "metadata": {},
       "output_type": "display_data",
       "png": "[encoded data removed]",
       "text": [
        "<matplotlib.figure.Figure at 0x7f05f197f650>"
       ]
      },
      {
       "output_type": "stream",
       "stream": "stdout",
       "text": [
        "Clustering file 3 by precursor masses\n",
        "DiscreteVB initialising\n",
        "Startup .."
       ]
      },
      {
       "output_type": "stream",
       "stream": "stdout",
       "text": [
        ".."
       ]
      },
      {
       "output_type": "stream",
       "stream": "stdout",
       "text": [
        ".\n"
       ]
      },
      {
       "output_type": "stream",
       "stream": "stdout",
       "text": [
        "Variational Bayes for discrete mass model\n",
        "Hyperparameters alpha=10000.0, mass_prec=100, mass_prior_prec=100, rt_prec=0.16, rt_prior_prec=100\n",
        "n_iterations = 20\n",
        "286 peaks to be re-sampled\n",
        "Iteration 0 Change in Z: 141.255354085"
       ]
      },
      {
       "output_type": "stream",
       "stream": "stdout",
       "text": [
        "\n",
        "Iteration 1 Change in Z: 0.395927377405"
       ]
      },
      {
       "output_type": "stream",
       "stream": "stdout",
       "text": [
        "\n",
        "Iteration 2 Change in Z: 0.00157605108066"
       ]
      },
      {
       "output_type": "stream",
       "stream": "stdout",
       "text": [
        "\n",
        "Iteration 3 Change in Z: 9.00932745214e-06"
       ]
      },
      {
       "output_type": "stream",
       "stream": "stdout",
       "text": [
        "\n",
        "Iteration 4 Change in Z: 6.6754251811e-08"
       ]
      },
      {
       "output_type": "stream",
       "stream": "stdout",
       "text": [
        "\n",
        "Iteration 5 Change in Z: 5.67001645812e-10"
       ]
      },
      {
       "output_type": "stream",
       "stream": "stdout",
       "text": [
        "\n",
        "Iteration 6 Change in Z: 5.15785663075e-12"
       ]
      },
      {
       "output_type": "stream",
       "stream": "stdout",
       "text": [
        "\n",
        "Iteration 7 Change in Z: 4.88135687223e-14"
       ]
      },
      {
       "output_type": "stream",
       "stream": "stdout",
       "text": [
        "\n",
        "Iteration 8 Change in Z: 4.7659927981e-16"
       ]
      },
      {
       "output_type": "stream",
       "stream": "stdout",
       "text": [
        "\n",
        "Iteration 9 Change in Z: 4.66195188676e-18"
       ]
      },
      {
       "output_type": "stream",
       "stream": "stdout",
       "text": [
        "\n",
        "Iteration 10 Change in Z: 1.41166003684e-19"
       ]
      },
      {
       "output_type": "stream",
       "stream": "stdout",
       "text": [
        "\n",
        "Iteration 11 Change in Z: 6.75617071617e-20"
       ]
      },
      {
       "output_type": "stream",
       "stream": "stdout",
       "text": [
        "\n",
        "Iteration 12 Change in Z: 6.34809870056e-20"
       ]
      },
      {
       "output_type": "stream",
       "stream": "stdout",
       "text": [
        "\n",
        "Iteration 13 Change in Z: 6.63897354717e-20"
       ]
      },
      {
       "output_type": "stream",
       "stream": "stdout",
       "text": [
        "\n",
        "Iteration 14 Change in Z: 6.97518782313e-20"
       ]
      },
      {
       "output_type": "stream",
       "stream": "stdout",
       "text": [
        "\n",
        "Iteration 15 Change in Z: 6.37694268839e-20"
       ]
      },
      {
       "output_type": "stream",
       "stream": "stdout",
       "text": [
        "\n",
        "Iteration 16 Change in Z: 6.42444091668e-20"
       ]
      },
      {
       "output_type": "stream",
       "stream": "stdout",
       "text": [
        "\n",
        "Iteration 17 Change in Z: 6.55508245152e-20"
       ]
      },
      {
       "output_type": "stream",
       "stream": "stdout",
       "text": [
        "\n",
        "Iteration 18 Change in Z: 6.98721595392e-20"
       ]
      },
      {
       "output_type": "stream",
       "stream": "stdout",
       "text": [
        "\n",
        "Iteration 19 Change in Z: 6.45358731249e-20"
       ]
      },
      {
       "output_type": "stream",
       "stream": "stdout",
       "text": [
        "\n"
       ]
      },
      {
       "metadata": {},
       "output_type": "display_data",
       "png": "[encoded data removed]",
       "text": [
        "<matplotlib.figure.Figure at 0x7f05f1909610>"
       ]
      },
      {
       "output_type": "stream",
       "stream": "stdout",
       "text": [
        "Cluster output\n",
        "Number of non-empty clusters: 802 (of 1177)\n",
        "\n",
        "Size: count\n",
        "0: 375\n",
        "1: 762\n",
        "2: 34\n",
        "3: 5\n",
        "4: 1\n",
        "\n",
        "Trans: count\n",
        "M+2H: 2\n",
        "M+H+NH4: 0\n",
        "M+H+Na: 0\n",
        "M+H+K: 0\n",
        "M+ACN+2H: 3\n",
        "M+2Na: 0\n",
        "M+H: 805\n",
        "M+HC13: 29\n",
        "M+H2C13: 0\n",
        "M+NH4: 0\n",
        "M+Na: 5\n",
        "M+NaC13: 0\n",
        "M+CH3OH+H: 0\n",
        "M+K: 0\n",
        "M+KC13: 0\n",
        "M+ACN+H: 5\n",
        "M+2Na-H: 0\n",
        "M+IsoProp+H: 0\n",
        "M+ACN+Na: 0\n",
        "M+2K-H: 0\n",
        "M+DMSO+H: 0\n",
        "M+2ACN+H: 0\n"
       ]
      },
      {
       "metadata": {},
       "output_type": "display_data",
       "png": "[encoded data removed]",
       "text": [
        "<matplotlib.figure.Figure at 0x7f05f1aa35d0>"
       ]
      }
     ],
     "prompt_number": 4
    },
    {
     "cell_type": "markdown",
     "metadata": {},
     "source": [
      "Notice the distribution of values in the Z matrices (peak to cluster assignment) for each file. This kind of suggests that the problem doesn't have to be solved by a probability model at all? i.e. the graph-based approach in CAMERA is good enough. Especially for high precision mass spec."
     ]
    },
    {
     "cell_type": "markdown",
     "metadata": {},
     "source": [
      "Plot posterior RTs of the same bins across files"
     ]
    },
    {
     "cell_type": "code",
     "collapsed": false,
     "input": [
      "first_bins = file_bins[0]\n",
      "first_rts = file_post_rts[0]\n",
      "second_bins = file_bins[1]\n",
      "second_rts = file_post_rts[1]\n",
      "xs = []\n",
      "ys = []\n",
      "for j1 in range(len(first_bins)):\n",
      "    bin1 = first_bins[j1]\n",
      "    j2s, bin2s = find_same_top_id(bin1, second_bins)\n",
      "    for j2 in j2s:        \n",
      "        rt1 = first_rts[j1]\n",
      "        rt2 = second_rts[j2]\n",
      "        xs.append(rt1)\n",
      "        ys.append(rt2)\n",
      "\n",
      "plt.figure()\n",
      "plt.plot(np.array(xs), np.array(ys), '.b')\n",
      "plt.xlabel(\"File 0\")\n",
      "plt.ylabel(\"File 1\")\n",
      "plt.title(\"Bin-vs-bin posterior RTs\")\n",
      "plt.show()\n",
      "\n",
      "sizes = []\n",
      "for bin1 in first_bins:\n",
      "    sizes.append(bin1.get_features_count())\n",
      "plt.figure()\n",
      "plt.plot(np.array(sizes), 'r.')\n",
      "sizes = []\n",
      "for bin2 in second_bins:\n",
      "    sizes.append(bin2.get_features_count())\n",
      "plt.plot(np.array(sizes), 'g.')\n",
      "plt.title(\"Bin sizes in file 0 & 1\")\n",
      "plt.xlabel(\"Bins\")\n",
      "plt.ylabel(\"Sizes\")\n",
      "plt.show()"
     ],
     "language": "python",
     "metadata": {},
     "outputs": [
      {
       "metadata": {},
       "output_type": "display_data",
       "png": "[encoded data removed]",
       "text": [
        "<matplotlib.figure.Figure at 0x7f05f197ba90>"
       ]
      },
      {
       "metadata": {},
       "output_type": "display_data",
       "png": "[encoded data removed]",
       "text": [
        "<matplotlib.figure.Figure at 0x7f05f20303d0>"
       ]
      }
     ],
     "prompt_number": 5
    },
    {
     "cell_type": "heading",
     "level": 3,
     "metadata": {},
     "source": [
      "Step 2"
     ]
    },
    {
     "cell_type": "markdown",
     "metadata": {},
     "source": [
      "Second stage clustering. Here we cluster the bins across all the fils using a DP mixture on the posterior RT values of the bins."
     ]
    },
    {
     "cell_type": "code",
     "collapsed": false,
     "input": [
      "# Second-stage clustering\n",
      "N = len(all_bins)\n",
      "assert N == len(posterior_bin_rts)\n",
      "\n",
      "# Here we cluster the 'concrete' common bins across files by their posterior RT values\n",
      "hp = HyperPars()\n",
      "hp.rt_prec = 1.0/(across_file_rt_sd*across_file_rt_sd)\n",
      "hp.rt_prior_prec = 5E-3\n",
      "hp.alpha = alpha_rt\n",
      "data = (posterior_bin_rts, all_bins)\n",
      "dp = DpMixtureGibbs(data, hp)\n",
      "dp.nsamps = rt_clustering_nsamps\n",
      "dp.burn_in = rt_clustering_burnin\n",
      "dp.run()"
     ],
     "language": "python",
     "metadata": {},
     "outputs": [
      {
       "output_type": "stream",
       "stream": "stdout",
       "text": [
        "DpMixtureGibbs initialised\n",
        "\tBURN-IN\tIteration 1\ttime 2.74\tnumClusters 1619"
       ]
      },
      {
       "output_type": "stream",
       "stream": "stdout",
       "text": [
        "\n"
       ]
      },
      {
       "output_type": "stream",
       "stream": "stdout",
       "text": [
        "\tBURN-IN\tIteration 2\ttime 4.03\tnumClusters 1619\n"
       ]
      },
      {
       "output_type": "stream",
       "stream": "stdout",
       "text": [
        "\tBURN-IN\tIteration 3\ttime 3.93\tnumClusters 1619\n"
       ]
      },
      {
       "output_type": "stream",
       "stream": "stdout",
       "text": [
        "\tBURN-IN\tIteration 4\ttime 3.95\tnumClusters 1618\n"
       ]
      },
      {
       "output_type": "stream",
       "stream": "stdout",
       "text": [
        "\tBURN-IN\tIteration 5\ttime 3.84\tnumClusters 1618\n"
       ]
      },
      {
       "output_type": "stream",
       "stream": "stdout",
       "text": [
        "\tBURN-IN\tIteration 6\ttime 3.85\tnumClusters 1617\n"
       ]
      },
      {
       "output_type": "stream",
       "stream": "stdout",
       "text": [
        "\tBURN-IN\tIteration 7\ttime 3.86\tnumClusters 1619\n"
       ]
      },
      {
       "output_type": "stream",
       "stream": "stdout",
       "text": [
        "\tBURN-IN\tIteration 8\ttime 3.91\tnumClusters 1619\n"
       ]
      },
      {
       "output_type": "stream",
       "stream": "stdout",
       "text": [
        "\tBURN-IN\tIteration 9\ttime 3.88\tnumClusters 1619\n"
       ]
      },
      {
       "output_type": "stream",
       "stream": "stdout",
       "text": [
        "\tBURN-IN\tIteration 10\ttime 3.84\tnumClusters 1617\n"
       ]
      },
      {
       "output_type": "stream",
       "stream": "stdout",
       "text": [
        "\tBURN-IN\tIteration 11\ttime 3.86\tnumClusters 1618\n"
       ]
      },
      {
       "output_type": "stream",
       "stream": "stdout",
       "text": [
        "\tBURN-IN\tIteration 12\ttime 3.88\tnumClusters 1619\n"
       ]
      },
      {
       "output_type": "stream",
       "stream": "stdout",
       "text": [
        "\tBURN-IN\tIteration 13\ttime 3.97\tnumClusters 1619\n"
       ]
      },
      {
       "output_type": "stream",
       "stream": "stdout",
       "text": [
        "\tBURN-IN\tIteration 14\ttime 4.11\tnumClusters 1618\n"
       ]
      },
      {
       "output_type": "stream",
       "stream": "stdout",
       "text": [
        "\tBURN-IN\tIteration 15\ttime 4.02\tnumClusters 1618\n"
       ]
      },
      {
       "output_type": "stream",
       "stream": "stdout",
       "text": [
        "\tBURN-IN\tIteration 16\ttime 4.10\tnumClusters 1619\n"
       ]
      },
      {
       "output_type": "stream",
       "stream": "stdout",
       "text": [
        "\tBURN-IN\tIteration 17\ttime 4.00\tnumClusters 1619\n"
       ]
      },
      {
       "output_type": "stream",
       "stream": "stdout",
       "text": [
        "\tBURN-IN\tIteration 18\ttime 3.98\tnumClusters 1618\n"
       ]
      },
      {
       "output_type": "stream",
       "stream": "stdout",
       "text": [
        "\tBURN-IN\tIteration 19\ttime 3.94\tnumClusters 1618\n"
       ]
      },
      {
       "output_type": "stream",
       "stream": "stdout",
       "text": [
        "\tBURN-IN\tIteration 20\ttime 4.03\tnumClusters 1617\n"
       ]
      },
      {
       "output_type": "stream",
       "stream": "stdout",
       "text": [
        "\tBURN-IN\tIteration 21\ttime 4.15\tnumClusters 1619\n"
       ]
      },
      {
       "output_type": "stream",
       "stream": "stdout",
       "text": [
        "\tBURN-IN\tIteration 22\ttime 3.96\tnumClusters 1619\n"
       ]
      },
      {
       "output_type": "stream",
       "stream": "stdout",
       "text": [
        "\tBURN-IN\tIteration 23\ttime 4.06\tnumClusters 1618\n"
       ]
      },
      {
       "output_type": "stream",
       "stream": "stdout",
       "text": [
        "\tBURN-IN\tIteration 24\ttime 3.93\tnumClusters 1618\n"
       ]
      },
      {
       "output_type": "stream",
       "stream": "stdout",
       "text": [
        "\tBURN-IN\tIteration 25\ttime 4.00\tnumClusters 1619\n"
       ]
      },
      {
       "output_type": "stream",
       "stream": "stdout",
       "text": [
        "\tBURN-IN\tIteration 26\ttime 3.94\tnumClusters 1619\n"
       ]
      },
      {
       "output_type": "stream",
       "stream": "stdout",
       "text": [
        "\tBURN-IN\tIteration 27\ttime 3.96\tnumClusters 1619\n"
       ]
      },
      {
       "output_type": "stream",
       "stream": "stdout",
       "text": [
        "\tBURN-IN\tIteration 28\ttime 4.03\tnumClusters 1619\n"
       ]
      },
      {
       "output_type": "stream",
       "stream": "stdout",
       "text": [
        "\tBURN-IN\tIteration 29\ttime 3.89\tnumClusters 1619\n"
       ]
      },
      {
       "output_type": "stream",
       "stream": "stdout",
       "text": [
        "\tBURN-IN\tIteration 30\ttime 3.96\tnumClusters 1619\n"
       ]
      },
      {
       "output_type": "stream",
       "stream": "stdout",
       "text": [
        "\tBURN-IN\tIteration 31\ttime 4.12\tnumClusters 1618\n"
       ]
      },
      {
       "output_type": "stream",
       "stream": "stdout",
       "text": [
        "\tBURN-IN\tIteration 32\ttime 3.87\tnumClusters 1619\n"
       ]
      },
      {
       "output_type": "stream",
       "stream": "stdout",
       "text": [
        "\tBURN-IN\tIteration 33\ttime 3.82\tnumClusters 1619\n"
       ]
      },
      {
       "output_type": "stream",
       "stream": "stdout",
       "text": [
        "\tBURN-IN\tIteration 34\ttime 3.82\tnumClusters 1618\n"
       ]
      },
      {
       "output_type": "stream",
       "stream": "stdout",
       "text": [
        "\tBURN-IN\tIteration 35\ttime 3.87\tnumClusters 1618\n"
       ]
      },
      {
       "output_type": "stream",
       "stream": "stdout",
       "text": [
        "\tBURN-IN\tIteration 36\ttime 3.88\tnumClusters 1619\n"
       ]
      },
      {
       "output_type": "stream",
       "stream": "stdout",
       "text": [
        "\tBURN-IN\tIteration 37\ttime 3.82\tnumClusters 1618\n"
       ]
      },
      {
       "output_type": "stream",
       "stream": "stdout",
       "text": [
        "\tBURN-IN\tIteration 38\ttime 3.93\tnumClusters 1619\n"
       ]
      },
      {
       "output_type": "stream",
       "stream": "stdout",
       "text": [
        "\tBURN-IN\tIteration 39\ttime 3.89\tnumClusters 1618\n"
       ]
      },
      {
       "output_type": "stream",
       "stream": "stdout",
       "text": [
        "\tBURN-IN\tIteration 40\ttime 3.89\tnumClusters 1618\n"
       ]
      },
      {
       "output_type": "stream",
       "stream": "stdout",
       "text": [
        "\tBURN-IN\tIteration 41\ttime 3.89\tnumClusters 1617\n"
       ]
      },
      {
       "output_type": "stream",
       "stream": "stdout",
       "text": [
        "\tBURN-IN\tIteration 42\ttime 3.82\tnumClusters 1619\n"
       ]
      },
      {
       "output_type": "stream",
       "stream": "stdout",
       "text": [
        "\tBURN-IN\tIteration 43\ttime 3.87\tnumClusters 1618\n"
       ]
      },
      {
       "output_type": "stream",
       "stream": "stdout",
       "text": [
        "\tBURN-IN\tIteration 44\ttime 3.84\tnumClusters 1618\n"
       ]
      },
      {
       "output_type": "stream",
       "stream": "stdout",
       "text": [
        "\tBURN-IN\tIteration 45\ttime 3.81\tnumClusters 1619\n"
       ]
      },
      {
       "output_type": "stream",
       "stream": "stdout",
       "text": [
        "\tBURN-IN\tIteration 46\ttime 3.87\tnumClusters 1618\n"
       ]
      },
      {
       "output_type": "stream",
       "stream": "stdout",
       "text": [
        "\tBURN-IN\tIteration 47\ttime 4.09\tnumClusters 1616\n"
       ]
      },
      {
       "output_type": "stream",
       "stream": "stdout",
       "text": [
        "\tBURN-IN\tIteration 48\ttime 3.87\tnumClusters 1618\n"
       ]
      },
      {
       "output_type": "stream",
       "stream": "stdout",
       "text": [
        "\tBURN-IN\tIteration 49\ttime 3.84\tnumClusters 1618\n"
       ]
      },
      {
       "output_type": "stream",
       "stream": "stdout",
       "text": [
        "\tBURN-IN\tIteration 50\ttime 3.86\tnumClusters 1618\n"
       ]
      },
      {
       "output_type": "stream",
       "stream": "stdout",
       "text": [
        "\tBURN-IN\tIteration 51\ttime 3.83\tnumClusters 1618\n"
       ]
      },
      {
       "output_type": "stream",
       "stream": "stdout",
       "text": [
        "\tBURN-IN\tIteration 52\ttime 3.87\tnumClusters 1618\n"
       ]
      },
      {
       "output_type": "stream",
       "stream": "stdout",
       "text": [
        "\tBURN-IN\tIteration 53\ttime 3.89\tnumClusters 1618\n"
       ]
      },
      {
       "output_type": "stream",
       "stream": "stdout",
       "text": [
        "\tBURN-IN\tIteration 54\ttime 3.85\tnumClusters 1619\n"
       ]
      },
      {
       "output_type": "stream",
       "stream": "stdout",
       "text": [
        "\tBURN-IN\tIteration 55\ttime 3.89\tnumClusters 1617\n"
       ]
      },
      {
       "output_type": "stream",
       "stream": "stdout",
       "text": [
        "\tBURN-IN\tIteration 56\ttime 3.90\tnumClusters 1618\n"
       ]
      },
      {
       "output_type": "stream",
       "stream": "stdout",
       "text": [
        "\tBURN-IN\tIteration 57\ttime 3.89\tnumClusters 1618\n"
       ]
      },
      {
       "output_type": "stream",
       "stream": "stdout",
       "text": [
        "\tBURN-IN\tIteration 58\ttime 3.86\tnumClusters 1617\n"
       ]
      },
      {
       "output_type": "stream",
       "stream": "stdout",
       "text": [
        "\tBURN-IN\tIteration 59\ttime 3.84\tnumClusters 1618\n"
       ]
      },
      {
       "output_type": "stream",
       "stream": "stdout",
       "text": [
        "\tBURN-IN\tIteration 60\ttime 3.89\tnumClusters 1618\n"
       ]
      },
      {
       "output_type": "stream",
       "stream": "stdout",
       "text": [
        "\tBURN-IN\tIteration 61\ttime 3.85\tnumClusters 1618\n"
       ]
      },
      {
       "output_type": "stream",
       "stream": "stdout",
       "text": [
        "\tBURN-IN\tIteration 62\ttime 3.98\tnumClusters 1618\n"
       ]
      },
      {
       "output_type": "stream",
       "stream": "stdout",
       "text": [
        "\tBURN-IN\tIteration 63\ttime 3.95\tnumClusters 1618\n"
       ]
      },
      {
       "output_type": "stream",
       "stream": "stdout",
       "text": [
        "\tBURN-IN\tIteration 64\ttime 3.89\tnumClusters 1618\n"
       ]
      },
      {
       "output_type": "stream",
       "stream": "stdout",
       "text": [
        "\tBURN-IN\tIteration 65\ttime 4.62\tnumClusters 1619\n"
       ]
      },
      {
       "output_type": "stream",
       "stream": "stdout",
       "text": [
        "\tBURN-IN\tIteration 66\ttime 4.00\tnumClusters 1619\n"
       ]
      },
      {
       "output_type": "stream",
       "stream": "stdout",
       "text": [
        "\tBURN-IN\tIteration 67\ttime 3.87\tnumClusters 1618\n"
       ]
      },
      {
       "output_type": "stream",
       "stream": "stdout",
       "text": [
        "\tBURN-IN\tIteration 68\ttime 3.92\tnumClusters 1618\n"
       ]
      },
      {
       "output_type": "stream",
       "stream": "stdout",
       "text": [
        "\tBURN-IN\tIteration 69\ttime 3.98\tnumClusters 1617\n"
       ]
      },
      {
       "output_type": "stream",
       "stream": "stdout",
       "text": [
        "\tBURN-IN\tIteration 70\ttime 3.85\tnumClusters 1619\n"
       ]
      },
      {
       "output_type": "stream",
       "stream": "stdout",
       "text": [
        "\tBURN-IN\tIteration 71\ttime 3.82\tnumClusters 1618\n"
       ]
      },
      {
       "output_type": "stream",
       "stream": "stdout",
       "text": [
        "\tBURN-IN\tIteration 72\ttime 3.87\tnumClusters 1619\n"
       ]
      },
      {
       "output_type": "stream",
       "stream": "stdout",
       "text": [
        "\tBURN-IN\tIteration 73\ttime 3.86\tnumClusters 1619\n"
       ]
      },
      {
       "output_type": "stream",
       "stream": "stdout",
       "text": [
        "\tBURN-IN\tIteration 74\ttime 3.83\tnumClusters 1619\n"
       ]
      },
      {
       "output_type": "stream",
       "stream": "stdout",
       "text": [
        "\tBURN-IN\tIteration 75\ttime 3.85\tnumClusters 1617\n"
       ]
      },
      {
       "output_type": "stream",
       "stream": "stdout",
       "text": [
        "\tBURN-IN\tIteration 76\ttime 4.17\tnumClusters 1618\n"
       ]
      },
      {
       "output_type": "stream",
       "stream": "stdout",
       "text": [
        "\tBURN-IN\tIteration 77\ttime 4.18\tnumClusters 1618\n"
       ]
      },
      {
       "output_type": "stream",
       "stream": "stdout",
       "text": [
        "\tBURN-IN\tIteration 78\ttime 3.86\tnumClusters 1619\n"
       ]
      },
      {
       "output_type": "stream",
       "stream": "stdout",
       "text": [
        "\tBURN-IN\tIteration 79\ttime 3.89\tnumClusters 1619\n"
       ]
      },
      {
       "output_type": "stream",
       "stream": "stdout",
       "text": [
        "\tBURN-IN\tIteration 80\ttime 3.83\tnumClusters 1618\n"
       ]
      },
      {
       "output_type": "stream",
       "stream": "stdout",
       "text": [
        "\tBURN-IN\tIteration 81\ttime 3.84\tnumClusters 1618\n"
       ]
      },
      {
       "output_type": "stream",
       "stream": "stdout",
       "text": [
        "\tBURN-IN\tIteration 82\ttime 3.84\tnumClusters 1619\n"
       ]
      },
      {
       "output_type": "stream",
       "stream": "stdout",
       "text": [
        "\tBURN-IN\tIteration 83\ttime 3.89\tnumClusters 1618\n"
       ]
      },
      {
       "output_type": "stream",
       "stream": "stdout",
       "text": [
        "\tBURN-IN\tIteration 84\ttime 3.83\tnumClusters 1619\n"
       ]
      },
      {
       "output_type": "stream",
       "stream": "stdout",
       "text": [
        "\tBURN-IN\tIteration 85\ttime 3.89\tnumClusters 1617\n"
       ]
      },
      {
       "output_type": "stream",
       "stream": "stdout",
       "text": [
        "\tBURN-IN\tIteration 86\ttime 3.90\tnumClusters 1619\n"
       ]
      },
      {
       "output_type": "stream",
       "stream": "stdout",
       "text": [
        "\tBURN-IN\tIteration 87\ttime 3.91\tnumClusters 1619\n"
       ]
      },
      {
       "output_type": "stream",
       "stream": "stdout",
       "text": [
        "\tBURN-IN\tIteration 88\ttime 3.85\tnumClusters 1618\n"
       ]
      },
      {
       "output_type": "stream",
       "stream": "stdout",
       "text": [
        "\tBURN-IN\tIteration 89\ttime 3.87\tnumClusters 1617\n"
       ]
      },
      {
       "output_type": "stream",
       "stream": "stdout",
       "text": [
        "\tBURN-IN\tIteration 90\ttime 4.38\tnumClusters 1618\n"
       ]
      },
      {
       "output_type": "stream",
       "stream": "stdout",
       "text": [
        "\tBURN-IN\tIteration 91\ttime 3.98\tnumClusters 1618\n"
       ]
      },
      {
       "output_type": "stream",
       "stream": "stdout",
       "text": [
        "\tBURN-IN\tIteration 92\ttime 3.90\tnumClusters 1617\n"
       ]
      },
      {
       "output_type": "stream",
       "stream": "stdout",
       "text": [
        "\tBURN-IN\tIteration 93\ttime 3.98\tnumClusters 1618\n"
       ]
      },
      {
       "output_type": "stream",
       "stream": "stdout",
       "text": [
        "\tBURN-IN\tIteration 94\ttime 3.99\tnumClusters 1618\n"
       ]
      },
      {
       "output_type": "stream",
       "stream": "stdout",
       "text": [
        "\tBURN-IN\tIteration 95\ttime 4.13\tnumClusters 1618\n"
       ]
      },
      {
       "output_type": "stream",
       "stream": "stdout",
       "text": [
        "\tBURN-IN\tIteration 96\ttime 3.93\tnumClusters 1618\n"
       ]
      },
      {
       "output_type": "stream",
       "stream": "stdout",
       "text": [
        "\tBURN-IN\tIteration 97\ttime 3.94\tnumClusters 1619\n"
       ]
      },
      {
       "output_type": "stream",
       "stream": "stdout",
       "text": [
        "\tBURN-IN\tIteration 98\ttime 4.10\tnumClusters 1617\n"
       ]
      },
      {
       "output_type": "stream",
       "stream": "stdout",
       "text": [
        "\tBURN-IN\tIteration 99\ttime 4.13\tnumClusters 1618\n"
       ]
      },
      {
       "output_type": "stream",
       "stream": "stdout",
       "text": [
        "\tBURN-IN\tIteration 100\ttime 3.87\tnumClusters 1618\n"
       ]
      },
      {
       "output_type": "stream",
       "stream": "stdout",
       "text": [
        "\tSAMPLE\tIteration 101\ttime 4.08\tnumClusters 1618\n"
       ]
      },
      {
       "output_type": "stream",
       "stream": "stdout",
       "text": [
        "\tSAMPLE\tIteration 102\ttime 3.94\tnumClusters 1617\n"
       ]
      },
      {
       "output_type": "stream",
       "stream": "stdout",
       "text": [
        "\tSAMPLE\tIteration 103\ttime 3.96\tnumClusters 1617\n"
       ]
      },
      {
       "output_type": "stream",
       "stream": "stdout",
       "text": [
        "\tSAMPLE\tIteration 104\ttime 3.91\tnumClusters 1619\n"
       ]
      },
      {
       "output_type": "stream",
       "stream": "stdout",
       "text": [
        "\tSAMPLE\tIteration 105\ttime 4.15\tnumClusters 1618\n"
       ]
      },
      {
       "output_type": "stream",
       "stream": "stdout",
       "text": [
        "\tSAMPLE\tIteration 106\ttime 3.92\tnumClusters 1618\n"
       ]
      },
      {
       "output_type": "stream",
       "stream": "stdout",
       "text": [
        "\tSAMPLE\tIteration 107\ttime 4.01\tnumClusters 1619\n"
       ]
      },
      {
       "output_type": "stream",
       "stream": "stdout",
       "text": [
        "\tSAMPLE\tIteration 108\ttime 3.90\tnumClusters 1618\n"
       ]
      },
      {
       "output_type": "stream",
       "stream": "stdout",
       "text": [
        "\tSAMPLE\tIteration 109\ttime 4.01\tnumClusters 1618\n"
       ]
      },
      {
       "output_type": "stream",
       "stream": "stdout",
       "text": [
        "\tSAMPLE\tIteration 110\ttime 4.06\tnumClusters 1617\n"
       ]
      },
      {
       "output_type": "stream",
       "stream": "stdout",
       "text": [
        "\tSAMPLE\tIteration 111\ttime 4.18\tnumClusters 1618\n"
       ]
      },
      {
       "output_type": "stream",
       "stream": "stdout",
       "text": [
        "\tSAMPLE\tIteration 112\ttime 4.04\tnumClusters 1619\n"
       ]
      },
      {
       "output_type": "stream",
       "stream": "stdout",
       "text": [
        "\tSAMPLE\tIteration 113\ttime 4.41\tnumClusters 1617\n"
       ]
      },
      {
       "output_type": "stream",
       "stream": "stdout",
       "text": [
        "\tSAMPLE\tIteration 114\ttime 4.81\tnumClusters 1618\n"
       ]
      },
      {
       "output_type": "stream",
       "stream": "stdout",
       "text": [
        "\tSAMPLE\tIteration 115\ttime 4.28\tnumClusters 1617\n"
       ]
      },
      {
       "output_type": "stream",
       "stream": "stdout",
       "text": [
        "\tSAMPLE\tIteration 116\ttime 4.19\tnumClusters 1618\n"
       ]
      },
      {
       "output_type": "stream",
       "stream": "stdout",
       "text": [
        "\tSAMPLE\tIteration 117\ttime 4.02\tnumClusters 1620\n"
       ]
      },
      {
       "output_type": "stream",
       "stream": "stdout",
       "text": [
        "\tSAMPLE\tIteration 118\ttime 4.11\tnumClusters 1619\n"
       ]
      },
      {
       "output_type": "stream",
       "stream": "stdout",
       "text": [
        "\tSAMPLE\tIteration 119\ttime 3.95\tnumClusters 1618\n"
       ]
      },
      {
       "output_type": "stream",
       "stream": "stdout",
       "text": [
        "\tSAMPLE\tIteration 120\ttime 3.91\tnumClusters 1618\n"
       ]
      },
      {
       "output_type": "stream",
       "stream": "stdout",
       "text": [
        "\tSAMPLE\tIteration 121\ttime 4.01\tnumClusters 1617\n"
       ]
      },
      {
       "output_type": "stream",
       "stream": "stdout",
       "text": [
        "\tSAMPLE\tIteration 122\ttime 4.32\tnumClusters 1619\n"
       ]
      },
      {
       "output_type": "stream",
       "stream": "stdout",
       "text": [
        "\tSAMPLE\tIteration 123\ttime 4.27\tnumClusters 1618\n"
       ]
      },
      {
       "output_type": "stream",
       "stream": "stdout",
       "text": [
        "\tSAMPLE\tIteration 124\ttime 3.90\tnumClusters 1619\n"
       ]
      },
      {
       "output_type": "stream",
       "stream": "stdout",
       "text": [
        "\tSAMPLE\tIteration 125\ttime 3.99\tnumClusters 1618\n"
       ]
      },
      {
       "output_type": "stream",
       "stream": "stdout",
       "text": [
        "\tSAMPLE\tIteration 126\ttime 3.88\tnumClusters 1618\n"
       ]
      },
      {
       "output_type": "stream",
       "stream": "stdout",
       "text": [
        "\tSAMPLE\tIteration 127\ttime 3.97\tnumClusters 1618\n"
       ]
      },
      {
       "output_type": "stream",
       "stream": "stdout",
       "text": [
        "\tSAMPLE\tIteration 128\ttime 3.91\tnumClusters 1619\n"
       ]
      },
      {
       "output_type": "stream",
       "stream": "stdout",
       "text": [
        "\tSAMPLE\tIteration 129\ttime 3.96\tnumClusters 1617\n"
       ]
      },
      {
       "output_type": "stream",
       "stream": "stdout",
       "text": [
        "\tSAMPLE\tIteration 130\ttime 3.90\tnumClusters 1619\n"
       ]
      },
      {
       "output_type": "stream",
       "stream": "stdout",
       "text": [
        "\tSAMPLE\tIteration 131\ttime 3.96\tnumClusters 1617\n"
       ]
      },
      {
       "output_type": "stream",
       "stream": "stdout",
       "text": [
        "\tSAMPLE\tIteration 132\ttime 3.94\tnumClusters 1619\n"
       ]
      },
      {
       "output_type": "stream",
       "stream": "stdout",
       "text": [
        "\tSAMPLE\tIteration 133\ttime 3.94\tnumClusters 1618\n"
       ]
      },
      {
       "output_type": "stream",
       "stream": "stdout",
       "text": [
        "\tSAMPLE\tIteration 134\ttime 4.10\tnumClusters 1619\n"
       ]
      },
      {
       "output_type": "stream",
       "stream": "stdout",
       "text": [
        "\tSAMPLE\tIteration 135\ttime 4.02\tnumClusters 1619\n"
       ]
      },
      {
       "output_type": "stream",
       "stream": "stdout",
       "text": [
        "\tSAMPLE\tIteration 136\ttime 3.96\tnumClusters 1618\n"
       ]
      },
      {
       "output_type": "stream",
       "stream": "stdout",
       "text": [
        "\tSAMPLE\tIteration 137\ttime 3.95\tnumClusters 1617\n"
       ]
      },
      {
       "output_type": "stream",
       "stream": "stdout",
       "text": [
        "\tSAMPLE\tIteration 138\ttime 3.93\tnumClusters 1618\n"
       ]
      },
      {
       "output_type": "stream",
       "stream": "stdout",
       "text": [
        "\tSAMPLE\tIteration 139\ttime 4.01\tnumClusters 1618\n"
       ]
      },
      {
       "output_type": "stream",
       "stream": "stdout",
       "text": [
        "\tSAMPLE\tIteration 140\ttime 3.87\tnumClusters 1618\n"
       ]
      },
      {
       "output_type": "stream",
       "stream": "stdout",
       "text": [
        "\tSAMPLE\tIteration 141\ttime 4.01\tnumClusters 1618\n"
       ]
      },
      {
       "output_type": "stream",
       "stream": "stdout",
       "text": [
        "\tSAMPLE\tIteration 142\ttime 3.92\tnumClusters 1618\n"
       ]
      },
      {
       "output_type": "stream",
       "stream": "stdout",
       "text": [
        "\tSAMPLE\tIteration 143\ttime 4.22\tnumClusters 1618\n"
       ]
      },
      {
       "output_type": "stream",
       "stream": "stdout",
       "text": [
        "\tSAMPLE\tIteration 144\ttime 4.16\tnumClusters 1619\n"
       ]
      },
      {
       "output_type": "stream",
       "stream": "stdout",
       "text": [
        "\tSAMPLE\tIteration 145\ttime 4.20\tnumClusters 1618\n"
       ]
      },
      {
       "output_type": "stream",
       "stream": "stdout",
       "text": [
        "\tSAMPLE\tIteration 146\ttime 4.18\tnumClusters 1617\n"
       ]
      },
      {
       "output_type": "stream",
       "stream": "stdout",
       "text": [
        "\tSAMPLE\tIteration 147\ttime 4.01\tnumClusters 1618\n"
       ]
      },
      {
       "output_type": "stream",
       "stream": "stdout",
       "text": [
        "\tSAMPLE\tIteration 148\ttime 4.15\tnumClusters 1619\n"
       ]
      },
      {
       "output_type": "stream",
       "stream": "stdout",
       "text": [
        "\tSAMPLE\tIteration 149\ttime 4.05\tnumClusters 1619\n"
       ]
      },
      {
       "output_type": "stream",
       "stream": "stdout",
       "text": [
        "\tSAMPLE\tIteration 150\ttime 4.18\tnumClusters 1618\n"
       ]
      },
      {
       "output_type": "stream",
       "stream": "stdout",
       "text": [
        "\tSAMPLE\tIteration 151\ttime 4.84\tnumClusters 1619\n"
       ]
      },
      {
       "output_type": "stream",
       "stream": "stdout",
       "text": [
        "\tSAMPLE\tIteration 152\ttime 4.15\tnumClusters 1618\n"
       ]
      },
      {
       "output_type": "stream",
       "stream": "stdout",
       "text": [
        "\tSAMPLE\tIteration 153\ttime 4.28\tnumClusters 1618\n"
       ]
      },
      {
       "output_type": "stream",
       "stream": "stdout",
       "text": [
        "\tSAMPLE\tIteration 154\ttime 5.06\tnumClusters 1619\n"
       ]
      },
      {
       "output_type": "stream",
       "stream": "stdout",
       "text": [
        "\tSAMPLE\tIteration 155\ttime 4.13\tnumClusters 1619\n"
       ]
      },
      {
       "output_type": "stream",
       "stream": "stdout",
       "text": [
        "\tSAMPLE\tIteration 156\ttime 4.03\tnumClusters 1619\n"
       ]
      },
      {
       "output_type": "stream",
       "stream": "stdout",
       "text": [
        "\tSAMPLE\tIteration 157\ttime 4.06\tnumClusters 1618\n"
       ]
      },
      {
       "output_type": "stream",
       "stream": "stdout",
       "text": [
        "\tSAMPLE\tIteration 158\ttime 4.23\tnumClusters 1617\n"
       ]
      },
      {
       "output_type": "stream",
       "stream": "stdout",
       "text": [
        "\tSAMPLE\tIteration 159\ttime 4.21\tnumClusters 1619\n"
       ]
      },
      {
       "output_type": "stream",
       "stream": "stdout",
       "text": [
        "\tSAMPLE\tIteration 160\ttime 4.16\tnumClusters 1619\n"
       ]
      },
      {
       "output_type": "stream",
       "stream": "stdout",
       "text": [
        "\tSAMPLE\tIteration 161\ttime 4.14\tnumClusters 1619\n"
       ]
      },
      {
       "output_type": "stream",
       "stream": "stdout",
       "text": [
        "\tSAMPLE\tIteration 162\ttime 4.09\tnumClusters 1618\n"
       ]
      },
      {
       "output_type": "stream",
       "stream": "stdout",
       "text": [
        "\tSAMPLE\tIteration 163\ttime 4.23\tnumClusters 1619\n"
       ]
      },
      {
       "output_type": "stream",
       "stream": "stdout",
       "text": [
        "\tSAMPLE\tIteration 164\ttime 4.34\tnumClusters 1618\n"
       ]
      },
      {
       "output_type": "stream",
       "stream": "stdout",
       "text": [
        "\tSAMPLE\tIteration 165\ttime 4.30\tnumClusters 1619\n"
       ]
      },
      {
       "output_type": "stream",
       "stream": "stdout",
       "text": [
        "\tSAMPLE\tIteration 166\ttime 3.93\tnumClusters 1618\n"
       ]
      },
      {
       "output_type": "stream",
       "stream": "stdout",
       "text": [
        "\tSAMPLE\tIteration 167\ttime 3.93\tnumClusters 1618\n"
       ]
      },
      {
       "output_type": "stream",
       "stream": "stdout",
       "text": [
        "\tSAMPLE\tIteration 168\ttime 3.94\tnumClusters 1617\n"
       ]
      },
      {
       "output_type": "stream",
       "stream": "stdout",
       "text": [
        "\tSAMPLE\tIteration 169\ttime 4.03\tnumClusters 1619\n"
       ]
      },
      {
       "output_type": "stream",
       "stream": "stdout",
       "text": [
        "\tSAMPLE\tIteration 170\ttime 4.02\tnumClusters 1618\n"
       ]
      },
      {
       "output_type": "stream",
       "stream": "stdout",
       "text": [
        "\tSAMPLE\tIteration 171\ttime 3.94\tnumClusters 1618\n"
       ]
      },
      {
       "output_type": "stream",
       "stream": "stdout",
       "text": [
        "\tSAMPLE\tIteration 172\ttime 4.22\tnumClusters 1618\n"
       ]
      },
      {
       "output_type": "stream",
       "stream": "stdout",
       "text": [
        "\tSAMPLE\tIteration 173\ttime 4.01\tnumClusters 1619\n"
       ]
      },
      {
       "output_type": "stream",
       "stream": "stdout",
       "text": [
        "\tSAMPLE\tIteration 174\ttime 3.92\tnumClusters 1619\n"
       ]
      },
      {
       "output_type": "stream",
       "stream": "stdout",
       "text": [
        "\tSAMPLE\tIteration 175\ttime 3.97\tnumClusters 1619\n"
       ]
      },
      {
       "output_type": "stream",
       "stream": "stdout",
       "text": [
        "\tSAMPLE\tIteration 176\ttime 3.95\tnumClusters 1618\n"
       ]
      },
      {
       "output_type": "stream",
       "stream": "stdout",
       "text": [
        "\tSAMPLE\tIteration 177\ttime 3.97\tnumClusters 1619\n"
       ]
      },
      {
       "output_type": "stream",
       "stream": "stdout",
       "text": [
        "\tSAMPLE\tIteration 178\ttime 3.87\tnumClusters 1618\n"
       ]
      },
      {
       "output_type": "stream",
       "stream": "stdout",
       "text": [
        "\tSAMPLE\tIteration 179\ttime 4.11\tnumClusters 1618\n"
       ]
      },
      {
       "output_type": "stream",
       "stream": "stdout",
       "text": [
        "\tSAMPLE\tIteration 180\ttime 4.09\tnumClusters 1618\n"
       ]
      },
      {
       "output_type": "stream",
       "stream": "stdout",
       "text": [
        "\tSAMPLE\tIteration 181\ttime 4.12\tnumClusters 1618\n"
       ]
      },
      {
       "output_type": "stream",
       "stream": "stdout",
       "text": [
        "\tSAMPLE\tIteration 182\ttime 3.91\tnumClusters 1618\n"
       ]
      },
      {
       "output_type": "stream",
       "stream": "stdout",
       "text": [
        "\tSAMPLE\tIteration 183\ttime 3.99\tnumClusters 1619\n"
       ]
      },
      {
       "output_type": "stream",
       "stream": "stdout",
       "text": [
        "\tSAMPLE\tIteration 184\ttime 3.99\tnumClusters 1617\n"
       ]
      },
      {
       "output_type": "stream",
       "stream": "stdout",
       "text": [
        "\tSAMPLE\tIteration 185\ttime 3.97\tnumClusters 1617\n"
       ]
      },
      {
       "output_type": "stream",
       "stream": "stdout",
       "text": [
        "\tSAMPLE\tIteration 186\ttime 3.99\tnumClusters 1618\n"
       ]
      },
      {
       "output_type": "stream",
       "stream": "stdout",
       "text": [
        "\tSAMPLE\tIteration 187\ttime 4.12\tnumClusters 1617\n"
       ]
      },
      {
       "output_type": "stream",
       "stream": "stdout",
       "text": [
        "\tSAMPLE\tIteration 188\ttime 4.31\tnumClusters 1619\n"
       ]
      },
      {
       "output_type": "stream",
       "stream": "stdout",
       "text": [
        "\tSAMPLE\tIteration 189\ttime 4.01\tnumClusters 1618\n"
       ]
      },
      {
       "output_type": "stream",
       "stream": "stdout",
       "text": [
        "\tSAMPLE\tIteration 190\ttime 3.95\tnumClusters 1619\n"
       ]
      },
      {
       "output_type": "stream",
       "stream": "stdout",
       "text": [
        "\tSAMPLE\tIteration 191\ttime 4.02\tnumClusters 1618\n"
       ]
      },
      {
       "output_type": "stream",
       "stream": "stdout",
       "text": [
        "\tSAMPLE\tIteration 192\ttime 4.21\tnumClusters 1618\n"
       ]
      },
      {
       "output_type": "stream",
       "stream": "stdout",
       "text": [
        "\tSAMPLE\tIteration 193\ttime 4.14\tnumClusters 1619\n"
       ]
      },
      {
       "output_type": "stream",
       "stream": "stdout",
       "text": [
        "\tSAMPLE\tIteration 194\ttime 3.99\tnumClusters 1618\n"
       ]
      },
      {
       "output_type": "stream",
       "stream": "stdout",
       "text": [
        "\tSAMPLE\tIteration 195\ttime 3.97\tnumClusters 1618\n"
       ]
      },
      {
       "output_type": "stream",
       "stream": "stdout",
       "text": [
        "\tSAMPLE\tIteration 196\ttime 4.05\tnumClusters 1618\n"
       ]
      },
      {
       "output_type": "stream",
       "stream": "stdout",
       "text": [
        "\tSAMPLE\tIteration 197\ttime 4.16\tnumClusters 1619\n"
       ]
      },
      {
       "output_type": "stream",
       "stream": "stdout",
       "text": [
        "\tSAMPLE\tIteration 198\ttime 4.02\tnumClusters 1618\n"
       ]
      },
      {
       "output_type": "stream",
       "stream": "stdout",
       "text": [
        "\tSAMPLE\tIteration 199\ttime 4.03\tnumClusters 1618\n"
       ]
      },
      {
       "output_type": "stream",
       "stream": "stdout",
       "text": [
        "\tSAMPLE\tIteration 200\ttime 3.95\tnumClusters 1619\n"
       ]
      },
      {
       "output_type": "stream",
       "stream": "stdout",
       "text": [
        "DONE!\n"
       ]
      }
     ],
     "prompt_number": 6
    },
    {
     "cell_type": "code",
     "collapsed": false,
     "input": [
      "# plot distribution of values in ZZ_all\n",
      "ZZ_all = dp.ZZ_all\n",
      "x = []\n",
      "cx = ZZ_all.tocoo()    \n",
      "for i,j,v in itertools.izip(cx.row, cx.col, cx.data):\n",
      "    x.append(v)       \n",
      "x = np.array(x)\n",
      "plt.figure() \n",
      "plt.hist(x, 10)\n",
      "plt.title(\"DP RT clustering -- ZZ_all\")\n",
      "plt.xlabel(\"Probabilities\")\n",
      "plt.ylabel(\"Count\")\n",
      "plt.show()        "
     ],
     "language": "python",
     "metadata": {},
     "outputs": [
      {
       "metadata": {},
       "output_type": "display_data",
       "png": "[encoded data removed]",
       "text": [
        "<matplotlib.figure.Figure at 0x7f05f0d22a50>"
       ]
      }
     ],
     "prompt_number": 7
    },
    {
     "cell_type": "heading",
     "level": 3,
     "metadata": {},
     "source": [
      "Step 3"
     ]
    },
    {
     "cell_type": "markdown",
     "metadata": {},
     "source": [
      "Now need to construct the alignment results from all the clustering output above"
     ]
    },
    {
     "cell_type": "code",
     "collapsed": false,
     "input": [
      "# count frequencies of aligned peaksets produced across the Gibbs samples\n",
      "print \"Counting frequencies of aligned peaksets\"\n",
      "matching_results = dp.matching_results\n",
      "counter = dict()\n",
      "for peakset in matching_results:\n",
      "    if len(peakset) > 1:\n",
      "        peakset = sorted(peakset, key = attrgetter('file_id'))\n",
      "        peakset = tuple(peakset)\n",
      "    if peakset not in counter:\n",
      "        counter[peakset] = 1\n",
      "    else:\n",
      "        counter[peakset] += 1\n",
      "\n",
      "# normalise the counts\n",
      "print \"Normalising counts\"\n",
      "S = dp.samples_obtained\n",
      "for key, value in counter.items():\n",
      "    new_value = float(value)/S\n",
      "    counter[key] = new_value"
     ],
     "language": "python",
     "metadata": {},
     "outputs": [
      {
       "output_type": "stream",
       "stream": "stdout",
       "text": [
        "Counting frequencies of aligned peaksets\n",
        "Normalising counts"
       ]
      },
      {
       "output_type": "stream",
       "stream": "stdout",
       "text": [
        "\n"
       ]
      }
     ],
     "prompt_number": 8
    },
    {
     "cell_type": "markdown",
     "metadata": {},
     "source": [
      "Print reports"
     ]
    },
    {
     "cell_type": "code",
     "collapsed": false,
     "input": [
      "# print report of aligned peaksets in descending order of probabilities\n",
      "print \n",
      "print \"==========================================================================\"\n",
      "print \"REPORT\"\n",
      "print \"==========================================================================\"\n",
      "sorted_list = sorted(counter.items(), key=itemgetter(1), reverse=True)\n",
      "probs = []\n",
      "i = 0\n",
      "for item in sorted_list:\n",
      "    features = item[0]\n",
      "    if len(features)==1:\n",
      "        continue # skip all the singleton stuff\n",
      "    prob = item[1]\n",
      "    mzs = np.array([f.mass for f in features])\n",
      "    rts = np.array([f.rt for f in features])\n",
      "    avg_mz = np.mean(mzs)\n",
      "    avg_rt = np.mean(rts)\n",
      "    print str(i+1) + \". avg m/z=\" + str(avg_mz) + \" avg RT=\" + str(avg_rt) + \" prob=\" + str(prob)\n",
      "    for f in features:\n",
      "        msg = annotations[f]            \n",
      "        output = \"\\tfeature_id {:d} file_id {:d} mz {:3.5f} RT {:5.2f} intensity {:.4e}\\t{:s}\".format(\n",
      "                    f.feature_id, f.file_id, f.mass, f.rt, f.intensity, msg)\n",
      "        print(output) \n",
      "    probs.append(prob)\n",
      "    i += 1"
     ],
     "language": "python",
     "metadata": {},
     "outputs": [
      {
       "output_type": "stream",
       "stream": "stdout",
       "text": [
        "\n",
        "==========================================================================\n",
        "REPORT\n",
        "==========================================================================\n",
        "1. avg m/z=102.033790497 avg RT=2654.4375 prob=1.0\n",
        "\tfeature_id 56 file_id 0 mz 102.03373 RT 2746.70 intensity 2.4372e+06\tM+H@101.02645 prob=1.00\n",
        "\tfeature_id 58 file_id 1 mz 102.03373 RT 2684.80 intensity 2.4839e+06\tM+H@101.02645 prob=1.00\n",
        "\tfeature_id 40 file_id 2 mz 102.03383 RT 2642.86 intensity 2.5484e+06\tM+H@101.02655 prob=1.00\n",
        "\tfeature_id 41 file_id 3 mz 102.03387 RT 2543.39 intensity 4.9813e+06\tM+H@101.02659 prob=1.00\n",
        "2. avg m/z=305.084343894 avg RT=690.045013428 prob=1.0\n",
        "\tfeature_id 736 file_id 2 mz 305.08429 RT 702.67 intensity 7.7282e+04\tM+H@304.07702 prob=1.00\n",
        "\tfeature_id 790 file_id 3 mz 305.08439 RT 677.42 intensity 1.8153e+05\tM+H@304.07712 prob=1.00\n",
        "3. avg m/z=95.0438030381 avg RT=1717.48498535 prob=1.0\n",
        "\tfeature_id 721 file_id 2 mz 95.04379 RT 1654.39 intensity 7.9899e+04\tM+H@94.03652 prob=0.50\n",
        "\tfeature_id 864 file_id 3 mz 95.04381 RT 1780.58 intensity 1.5983e+05\tM+H@94.03654 prob=0.50\n",
        "4. avg m/z=170.011500784 avg RT=1003.7250061 prob=1.0\n",
        "\tfeature_id 55 file_id 0 mz 170.01152 RT 1000.24 intensity 2.4381e+06\tM+H@169.00424 prob=1.00\n",
        "\tfeature_id 51 file_id 1 mz 170.01148 RT 1007.21 intensity 2.6743e+06\tM+H@169.00421 prob=1.00\n",
        "5. avg m/z=94.0449641075 avg RT=62.9136009216 prob=1.0\n",
        "\tfeature_id 224 file_id 0 mz 94.04499 RT 93.45 intensity 5.9687e+05\tM+H@93.03771 prob=0.50\n",
        "\tfeature_id 293 file_id 1 mz 94.04494 RT 32.38 intensity 4.1004e+05\tM+H@93.03767 prob=1.00\n",
        "6. avg m/z=151.086443445 avg RT=347.821990967 prob=1.0\n",
        "\tfeature_id 523 file_id 0 mz 151.08636 RT 348.74 intensity 2.1434e+05\tM+H@150.07908 prob=1.00\n",
        "\tfeature_id 514 file_id 1 mz 151.08635 RT 348.82 intensity 2.0720e+05\tM+H@150.07908 prob=1.00\n",
        "\tfeature_id 441 file_id 2 mz 151.08653 RT 344.56 intensity 1.5286e+05\tM+H@150.07926 prob=1.00\n",
        "\tfeature_id 623 file_id 3 mz 151.08653 RT 349.17 intensity 2.5301e+05\tM+H@150.07925 prob=1.00\n",
        "7. avg m/z=441.133501733 avg RT=831.397491455 prob=1.0\n",
        "\tfeature_id 776 file_id 0 mz 441.13325 RT 830.30 intensity 1.1809e+05\tM+H@440.12597 prob=1.00\n",
        "\tfeature_id 714 file_id 1 mz 441.13315 RT 832.16 intensity 1.2701e+05\tM+H@440.12588 prob=1.00\n",
        "\tfeature_id 547 file_id 2 mz 441.13386 RT 834.88 intensity 1.1459e+05\tM+H@440.12658 prob=1.00\n",
        "\tfeature_id 883 file_id 3 mz 441.13374 RT 828.26 intensity 1.5423e+05\tM+H@440.12647 prob=0.52\n",
        "8. avg m/z=148.060268684 avg RT=1023.18002319 prob=1.0\n",
        "\tfeature_id 127 file_id 0 mz 148.06020 RT 1018.18 intensity 1.3341e+06\tM+H@147.05292 prob=1.00\n",
        "\tfeature_id 122 file_id 1 mz 148.06017 RT 1029.56 intensity 1.1920e+06\tM+H@147.05290 prob=1.00\n",
        "\tfeature_id 81 file_id 2 mz 148.06035 RT 1028.56 intensity 1.0752e+06\tM+H@147.05308 prob=1.00\n",
        "\tfeature_id 82 file_id 3 mz 148.06035 RT 1016.42 intensity 2.6056e+06\tM+H@147.05308 prob=1.00\n",
        "9. avg m/z=577.133137235 avg RT=103.85200119 prob=1.0\n",
        "\tfeature_id 716 file_id 0 mz 577.13309 RT 103.13 intensity 1.3472e+05\tM+H@576.12581 prob=1.00\n",
        "\tfeature_id 638 file_id 1 mz 577.13319 RT 104.58 intensity 1.4717e+05\tM+H@576.12591 prob=1.00\n",
        "10. avg m/z=167.089349207 avg RT=747.945983887 prob=1.0\n",
        "\tfeature_id 151 file_id 1 mz 167.08925 RT 742.27 intensity 8.8478e+05\tM+HC13@165.07876 prob=0.52\n",
        "\tfeature_id 116 file_id 2 mz 167.08939 RT 753.16 intensity 7.8936e+05\tM+HC13@165.07895 prob=0.54\n",
        "\tfeature_id 142 file_id 3 mz 167.08941 RT 748.40 intensity 1.3818e+06\tM+HC13@165.07898 prob=0.52\n",
        "11. avg m/z=310.142488601 avg RT=855.962982178 prob=1.0\n",
        "\tfeature_id 823 file_id 0 mz 310.14256 RT 852.04 intensity 1.0438e+05\tM+H@309.13528 prob=1.00\n",
        "\tfeature_id 855 file_id 1 mz 310.14242 RT 859.88 intensity 8.8757e+04\tM+H@309.13515 prob=1.00\n",
        "12. avg m/z=169.057962153 avg RT=1099.75994873 prob=1.0\n",
        "\tfeature_id 1000 file_id 0 mz 169.05799 RT 1098.69 intensity 6.7201e+04\tM+H@168.05071 prob=1.00\n",
        "\tfeature_id 925 file_id 1 mz 169.05794 RT 1100.83 intensity 7.4322e+04\tM+H@168.05066 prob=1.00\n",
        "13. avg m/z=168.989518868 avg RT=879.643493652 prob=1.0\n",
        "\tfeature_id 513 file_id 0 mz 168.98944 RT 885.71 intensity 2.1626e+05\tM+H@167.98216 prob=1.00\n",
        "\tfeature_id 507 file_id 1 mz 168.98941 RT 896.51 intensity 2.1149e+05\tM+H@167.98214 prob=1.00\n",
        "\tfeature_id 738 file_id 2 mz 168.98954 RT 868.91 intensity 7.7204e+04\tM+H@167.98226 prob=1.00\n",
        "\tfeature_id 119 file_id 3 mz 168.98968 RT 867.44 intensity 1.7154e+06\tM+H@167.98241 prob=1.00\n",
        "14. avg m/z=133.060607043 avg RT=1114.21746826 prob=1.0\n",
        "\tfeature_id 196 file_id 0 mz 133.06052 RT 1112.08 intensity 7.5552e+05\tM+H@132.05324 prob=1.00\n",
        "\tfeature_id 168 file_id 1 mz 133.06050 RT 1110.75 intensity 7.5544e+05\tM+H@132.05322 prob=1.00\n",
        "\tfeature_id 135 file_id 2 mz 133.06070 RT 1121.47 intensity 6.5362e+05\tM+H@132.05342 prob=1.00\n",
        "\tfeature_id 110 file_id 3 mz 133.06072 RT 1112.57 intensity 2.0026e+06\tM+H@132.05344 prob=1.00\n",
        "15. avg m/z=210.831726 avg RT=830.679000854 prob=1.0\n",
        "\tfeature_id 863 file_id 0 mz 211.08241 RT 831.73 intensity 9.4984e+04\tM+HC13@209.07194 prob=0.52\n",
        "\tfeature_id 834 file_id 1 mz 211.08243 RT 832.16 intensity 9.4730e+04\tM+HC13@209.07191 prob=0.54\n",
        "\tfeature_id 66 file_id 2 mz 210.07944 RT 833.39 intensity 1.3504e+06\tM+H@209.07217 prob=1.00\n",
        "\tfeature_id 780 file_id 3 mz 211.08262 RT 825.44 intensity 1.8641e+05\tM+HC13@209.07213 prob=0.54\n",
        "16. avg m/z=364.099582088 avg RT=425.006011963 prob=1.0\n",
        "\tfeature_id 714 file_id 0 mz 364.09962 RT 426.78 intensity 1.3489e+05\tM+H@363.09235 prob=1.00\n",
        "\tfeature_id 590 file_id 1 mz 364.09954 RT 423.23 intensity 1.6792e+05\tM+H@363.09226 prob=1.00\n",
        "17. avg m/z=174.998807364 avg RT=2074.82995605 prob=1.0\n",
        "\tfeature_id 915 file_id 2 mz 174.99882 RT 2047.00 intensity 5.3778e+04\tM+H@173.99154 prob=1.00\n",
        "\tfeature_id 960 file_id 3 mz 174.99880 RT 2102.66 intensity 1.3097e+05\tM+H@173.99152 prob=1.00\n",
        "18. avg m/z=94.5455950161 avg RT=39.7116994858 prob=1.0\n",
        "\tfeature_id 601 file_id 2 mz 94.54557 RT 31.05 intensity 1.0402e+05\tM+H@93.53829 prob=1.00\n",
        "\tfeature_id 762 file_id 3 mz 94.54562 RT 48.38 intensity 1.9072e+05\tM+H@93.53834 prob=1.00\n",
        "19. avg m/z=465.249670083 avg RT=345.986503601 prob=1.0\n",
        "\tfeature_id 221 file_id 0 mz 465.24934 RT 345.69 intensity 6.0870e+05\tM+H@464.24206 prob=1.00\n",
        "\tfeature_id 206 file_id 1 mz 465.24928 RT 351.85 intensity 6.0342e+05\tM+H@464.24200 prob=1.00\n",
        "\tfeature_id 270 file_id 2 mz 465.25012 RT 343.03 intensity 2.7957e+05\tM+H@464.24285 prob=1.00\n",
        "\tfeature_id 223 file_id 3 mz 465.24994 RT 343.38 intensity 8.6462e+05\tM+H@464.24266 prob=1.00\n",
        "20. avg m/z=213.018140327 avg RT=2216.14001465 prob=1.0\n",
        "\tfeature_id 548 file_id 2 mz 213.01813 RT 2325.22 intensity 1.1458e+05\tM+H@212.01085 prob=1.00\n",
        "\tfeature_id 464 file_id 3 mz 213.01815 RT 2107.06 intensity 3.5935e+05\tM+H@212.01087 prob=1.00\n",
        "21. avg m/z=216.097884009 avg RT=1109.27496338 prob=1.0\n",
        "\tfeature_id 502 file_id 2 mz 216.09786 RT 1121.47 intensity 1.2663e+05\tM+H@215.09058 prob=1.00\n",
        "\tfeature_id 277 file_id 3 mz 216.09791 RT 1097.08 intensity 6.4980e+05\tM+H@215.09063 prob=1.00\n",
        "22. avg m/z=311.179694752 avg RT=829.223983765 prob=1.0\n",
        "\tfeature_id 837 file_id 0 mz 311.17954 RT 833.15 intensity 1.0009e+05\tM+H@310.17227 prob=1.00\n",
        "\tfeature_id 848 file_id 1 mz 311.17948 RT 829.31 intensity 8.9981e+04\tM+H@310.17220 prob=1.00\n",
        "\tfeature_id 457 file_id 2 mz 311.17989 RT 829.00 intensity 1.4416e+05\tM+H@310.17261 prob=1.00\n",
        "\tfeature_id 620 file_id 3 mz 311.17987 RT 825.44 intensity 2.5431e+05\tM+H@310.17259 prob=1.00\n",
        "23. avg m/z=508.202057441 avg RT=751.697998047 prob=1.0\n",
        "\tfeature_id 256 file_id 0 mz 508.20210 RT 753.55 intensity 5.3261e+05\tM+H@507.19483 prob=1.00\n",
        "\tfeature_id 225 file_id 1 mz 508.20201 RT 749.84 intensity 5.4556e+05\tM+H@507.19473 prob=1.00\n",
        "24. avg m/z=135.043881985 avg RT=807.100494385 prob=1.0\n",
        "\tfeature_id 311 file_id 0 mz 135.04384 RT 804.32 intensity 4.2202e+05\tM+H@134.03656 prob=1.00\n",
        "\tfeature_id 302 file_id 1 mz 135.04382 RT 804.85 intensity 3.9082e+05\tM+H@134.03654 prob=1.00\n",
        "\tfeature_id 376 file_id 2 mz 135.04394 RT 812.29 intensity 1.8192e+05\tM+H@134.03666 prob=1.00\n",
        "\tfeature_id 458 file_id 3 mz 135.04393 RT 806.95 intensity 3.6192e+05\tM+H@134.03666 prob=1.00\n",
        "25. avg m/z=204.086647134 avg RT=903.281982422 prob=1.0\n",
        "\tfeature_id 826 file_id 2 mz 204.08658 RT 1003.98 intensity 6.4354e+04\tM+H@203.07930 prob=1.00\n",
        "\tfeature_id 390 file_id 3 mz 204.08671 RT 802.58 intensity 4.2985e+05\tM+H@203.07944 prob=1.00\n",
        "26. avg m/z=537.194419758 avg RT=1198.49332682 prob=1.0\n",
        "\tfeature_id 749 file_id 0 mz 537.19427 RT 1198.04 intensity 1.2581e+05\tM+H@536.18699 prob=1.00\n",
        "\tfeature_id 657 file_id 1 mz 537.19402 RT 1204.09 intensity 1.4187e+05\tM+H@536.18675 prob=1.00\n",
        "\tfeature_id 675 file_id 3 mz 537.19497 RT 1193.35 intensity 2.2980e+05\tM+H@536.18769 prob=1.00\n",
        "27. avg m/z=151.03515058 avg RT=2171.36004639 prob=1.0\n",
        "\tfeature_id 394 file_id 1 mz 151.03509 RT 2413.79 intensity 2.9064e+05\tM+H@150.02781 prob=0.50\n",
        "\tfeature_id 648 file_id 3 mz 151.03521 RT 1928.93 intensity 2.4146e+05\tM+H@150.02794 prob=0.50\n",
        "28. avg m/z=103.03158525 avg RT=2120.44661458 prob=1.0\n",
        "\tfeature_id 763 file_id 0 mz 103.03160 RT 2115.74 intensity 1.2201e+05\tM+H@102.02432 prob=1.00\n",
        "\tfeature_id 514 file_id 2 mz 103.03157 RT 2142.94 intensity 1.2384e+05\tM+H@102.02429 prob=1.00\n",
        "\tfeature_id 791 file_id 3 mz 103.03159 RT 2102.66 intensity 1.8143e+05\tM+H@102.02431 prob=1.00\n",
        "29. avg m/z=90.9766814449 avg RT=1801.9800415 prob=1.0\n",
        "\tfeature_id 539 file_id 2 mz 90.97667 RT 1843.66 intensity 1.1633e+05\tM+H@89.96940 prob=1.00\n",
        "\tfeature_id 872 file_id 3 mz 90.97669 RT 1760.30 intensity 1.5751e+05\tM+H@89.96941 prob=1.00\n",
        "30. avg m/z=152.056518067 avg RT=865.488021851 prob=1.0\n",
        "\tfeature_id 418 file_id 0 mz 152.05642 RT 862.57 intensity 3.0388e+05\tM+H@151.04915 prob=1.00\n",
        "\tfeature_id 391 file_id 1 mz 152.05639 RT 865.93 intensity 2.9284e+05\tM+H@151.04912 prob=1.00\n",
        "\tfeature_id 225 file_id 2 mz 152.05662 RT 868.91 intensity 3.4175e+05\tM+H@151.04934 prob=1.00\n",
        "\tfeature_id 789 file_id 3 mz 152.05664 RT 864.55 intensity 1.8189e+05\tM+H@151.04936 prob=1.00\n",
        "31. avg m/z=152.070469858 avg RT=857.316009521 prob=1.0\n",
        "\tfeature_id 384 file_id 0 mz 152.07036 RT 908.62 intensity 3.4047e+05\tM+H@151.06308 prob=1.00\n",
        "\tfeature_id 103 file_id 1 mz 152.07042 RT 804.85 intensity 1.5576e+06\tM+H@151.06314 prob=1.00\n",
        "\tfeature_id 78 file_id 2 mz 152.07053 RT 812.29 intensity 1.1356e+06\tM+H@151.06325 prob=1.00\n",
        "\tfeature_id 475 file_id 3 mz 152.07057 RT 903.51 intensity 3.5123e+05\tM+H@151.06330 prob=1.00\n",
        "32. avg m/z=222.097020777 avg RT=755.962493896 prob=1.0\n",
        "\tfeature_id 323 file_id 0 mz 222.09688 RT 708.47 intensity 4.0710e+05\tM+H@221.08961 prob=1.00\n",
        "\tfeature_id 966 file_id 1 mz 222.09684 RT 801.93 intensity 6.8947e+04\tM+H@221.08956 prob=1.00\n",
        "\tfeature_id 154 file_id 2 mz 222.09721 RT 710.87 intensity 5.4742e+05\tM+H@221.08993 prob=1.00\n",
        "\tfeature_id 590 file_id 3 mz 222.09715 RT 802.58 intensity 2.7585e+05\tM+H@221.08987 prob=1.00\n",
        "33. avg m/z=252.089849548 avg RT=796.639480591 prob=1.0\n",
        "\tfeature_id 392 file_id 0 mz 252.08970 RT 795.52 intensity 3.3395e+05\tM+H@251.08242 prob=1.00\n",
        "\tfeature_id 325 file_id 1 mz 252.08967 RT 793.17 intensity 3.6898e+05\tM+H@251.08239 prob=1.00\n",
        "\tfeature_id 159 file_id 2 mz 252.09001 RT 801.10 intensity 5.3530e+05\tM+H@251.08273 prob=1.00\n",
        "\tfeature_id 102 file_id 3 mz 252.09003 RT 796.76 intensity 2.1930e+06\tM+H@251.08275 prob=1.00\n",
        "34. avg m/z=125.9861612 avg RT=2765.48999023 prob=1.0\n",
        "\tfeature_id 336 file_id 0 mz 125.98610 RT 2748.26 intensity 3.8541e+05\tM+H@124.97882 prob=1.00\n",
        "\tfeature_id 364 file_id 3 mz 125.98622 RT 2782.72 intensity 4.6099e+05\tM+H@124.97895 prob=1.00\n",
        "35. avg m/z=232.061226314 avg RT=828.79800415 prob=1.0\n",
        "\tfeature_id 232 file_id 1 mz 232.06110 RT 832.16 intensity 5.3118e+05\tM+Na@209.07191 prob=0.54\n",
        "\tfeature_id 398 file_id 3 mz 232.06136 RT 825.44 intensity 4.1764e+05\tM+Na@209.07213 prob=0.54\n",
        "36. avg m/z=347.095031044 avg RT=540.898498535 prob=1.0\n",
        "\tfeature_id 74 file_id 2 mz 347.09505 RT 543.59 intensity 1.2036e+06\tM+H@346.08777 prob=1.00\n",
        "\tfeature_id 89 file_id 3 mz 347.09501 RT 538.21 intensity 2.4088e+06\tM+H@346.08774 prob=1.00\n",
        "37. avg m/z=250.092123611 avg RT=971.867980957 prob=1.0\n",
        "\tfeature_id 464 file_id 2 mz 250.09208 RT 977.81 intensity 1.4047e+05\tM+H@249.08480 prob=1.00\n",
        "\tfeature_id 193 file_id 3 mz 250.09217 RT 965.93 intensity 9.7890e+05\tM+H@249.08489 prob=1.00\n",
        "38. avg m/z=228.127959226 avg RT=1038.96496582 prob=1.0\n",
        "\tfeature_id 963 file_id 0 mz 228.12796 RT 1037.74 intensity 7.4432e+04\tM+H@227.12069 prob=0.84\n",
        "\tfeature_id 896 file_id 1 mz 228.12796 RT 1040.19 intensity 8.0812e+04\tM+H@227.12068 prob=0.66\n",
        "39. avg m/z=208.039226098 avg RT=70.3092002869 prob=1.0\n",
        "\tfeature_id 765 file_id 2 mz 208.03923 RT 81.57 intensity 7.1628e+04\tM+H@207.03195 prob=0.83\n",
        "\tfeature_id 955 file_id 3 mz 208.03923 RT 59.05 intensity 1.3183e+05\tM+H@207.03195 prob=1.00\n",
        "40. avg m/z=157.012879859 avg RT=441.829498291 prob=1.0\n",
        "\tfeature_id 845 file_id 0 mz 157.01289 RT 441.30 intensity 9.8442e+04\tM+H@156.00562 prob=1.00\n",
        "\tfeature_id 870 file_id 1 mz 157.01287 RT 442.36 intensity 8.4033e+04\tM+H@156.00559 prob=1.00\n",
        "41. avg m/z=273.123271818 avg RT=814.931976318 prob=1.0\n",
        "\tfeature_id 467 file_id 2 mz 273.12328 RT 818.59 intensity 1.3934e+05\tM+H@272.11600 prob=1.00\n",
        "\tfeature_id 383 file_id 3 mz 273.12326 RT 811.27 intensity 4.3538e+05\tM+H@272.11599 prob=1.00\n",
        "42. avg m/z=102.53226757 avg RT=2344.52661133 prob=1.0\n",
        "\tfeature_id 991 file_id 1 mz 102.53218 RT 2387.93 intensity 6.5232e+04\tM+H@101.52490 prob=1.00\n",
        "\tfeature_id 776 file_id 2 mz 102.53230 RT 2339.26 intensity 7.0355e+04\tM+H@101.52503 prob=1.00\n",
        "\tfeature_id 938 file_id 3 mz 102.53232 RT 2306.39 intensity 1.3761e+05\tM+H@101.52504 prob=1.00\n",
        "43. avg m/z=637.304590805 avg RT=292.24899292 prob=1.0\n",
        "\tfeature_id 620 file_id 2 mz 637.30476 RT 293.86 intensity 9.9832e+04\tM+H@636.29749 prob=1.00\n",
        "\tfeature_id 377 file_id 3 mz 637.30442 RT 290.64 intensity 4.4546e+05\tM+H@636.29714 prob=1.00\n",
        "44. avg m/z=100.117694178 avg RT=822.20401001 prob=1.0\n",
        "\tfeature_id 566 file_id 2 mz 100.11774 RT 824.60 intensity 1.1121e+05\tM+H@99.11046 prob=1.00\n",
        "\tfeature_id 627 file_id 3 mz 100.11765 RT 819.80 intensity 2.5196e+05\tM+H@99.11038 prob=1.00\n",
        "45. avg m/z=175.118793168 avg RT=1595.72250366 prob=1.0\n",
        "\tfeature_id 271 file_id 0 mz 175.11870 RT 1585.76 intensity 4.9764e+05\tM+H@174.11142 prob=1.00\n",
        "\tfeature_id 246 file_id 1 mz 175.11866 RT 1584.35 intensity 5.0214e+05\tM+H@174.11139 prob=1.00\n",
        "\tfeature_id 121 file_id 2 mz 175.11892 RT 1611.04 intensity 7.5923e+05\tM+H@174.11165 prob=1.00\n",
        "\tfeature_id 74 file_id 3 mz 175.11889 RT 1601.74 intensity 3.0868e+06\tM+H@174.11161 prob=1.00\n",
        "46. avg m/z=211.478297817 avg RT=2108.41491699 prob=1.0\n",
        "\tfeature_id 700 file_id 1 mz 211.47830 RT 2114.17 intensity 1.3069e+05\tM+H@210.47102 prob=1.00\n",
        "\tfeature_id 804 file_id 3 mz 211.47830 RT 2102.66 intensity 1.7825e+05\tM+H@210.47102 prob=1.00\n",
        "47. avg m/z=398.228841996 avg RT=1861.77496338 prob=1.0\n",
        "\tfeature_id 734 file_id 2 mz 398.22890 RT 1858.11 intensity 7.7512e+04\tM+H@397.22162 prob=1.00\n",
        "\tfeature_id 933 file_id 3 mz 398.22878 RT 1865.44 intensity 1.3928e+05\tM+H@397.22151 prob=1.00\n",
        "48. avg m/z=264.076752518 avg RT=809.75 prob=1.0\n",
        "\tfeature_id 622 file_id 0 mz 264.07663 RT 789.67 intensity 1.7628e+05\tM+H@263.06936 prob=1.00\n",
        "\tfeature_id 659 file_id 1 mz 264.07667 RT 816.46 intensity 1.3999e+05\tM+H@263.06940 prob=0.69\n",
        "\tfeature_id 861 file_id 2 mz 264.07695 RT 823.12 intensity 6.0843e+04\tM+H@263.06968 prob=0.52\n",
        "49. avg m/z=278.134674535 avg RT=1135.7800293 prob=1.0\n",
        "\tfeature_id 852 file_id 2 mz 278.13465 RT 1183.81 intensity 6.1737e+04\tM+H@277.12738 prob=1.00\n",
        "\tfeature_id 490 file_id 3 mz 278.13470 RT 1087.75 intensity 3.3777e+05\tM+H@277.12742 prob=1.00\n",
        "50. avg m/z=210.079268203 avg RT=829.774007161 prob=1.0\n",
        "\tfeature_id 117 file_id 0 mz 210.07921 RT 831.73 intensity 1.4959e+06\tM+H@209.07194 prob=1.00\n",
        "\tfeature_id 102 file_id 1 mz 210.07919 RT 832.16 intensity 1.5803e+06\tM+H@209.07191 prob=1.00\n",
        "\tfeature_id 72 file_id 3 mz 210.07940 RT 825.44 intensity 3.1373e+06\tM+H@209.07213 prob=1.00\n",
        "51. avg m/z=104.030073934 avg RT=2384.69500732 prob=1.0\n",
        "\tfeature_id 691 file_id 0 mz 104.03005 RT 2309.11 intensity 1.4175e+05\tM+H@103.02277 prob=1.00\n",
        "\tfeature_id 704 file_id 1 mz 104.03004 RT 2339.32 intensity 1.2870e+05\tM+H@103.02276 prob=1.00\n",
        "\tfeature_id 729 file_id 2 mz 104.03010 RT 2487.46 intensity 7.8208e+04\tM+H@103.02282 prob=1.00\n",
        "\tfeature_id 824 file_id 3 mz 104.03011 RT 2402.89 intensity 1.7251e+05\tM+H@103.02283 prob=1.00\n",
        "52. avg m/z=349.054196993 avg RT=898.580993652 prob=1.0\n",
        "\tfeature_id 215 file_id 0 mz 349.05388 RT 908.62 intensity 6.6086e+05\tM+H@348.04660 prob=0.50\n",
        "\tfeature_id 195 file_id 2 mz 349.05452 RT 888.54 intensity 4.1987e+05\tM+H@348.04724 prob=1.00\n",
        "53. avg m/z=298.096726022 avg RT=594.946243286 prob=1.0\n",
        "\tfeature_id 11 file_id 0 mz 298.09649 RT 597.33 intensity 6.6945e+06\tM+H@297.08921 prob=1.00\n",
        "\tfeature_id 14 file_id 1 mz 298.09646 RT 599.15 intensity 6.8150e+06\tM+H@297.08918 prob=1.00\n",
        "\tfeature_id 11 file_id 2 mz 298.09699 RT 594.90 intensity 5.0893e+06\tM+H@297.08972 prob=1.00\n",
        "\tfeature_id 5 file_id 3 mz 298.09696 RT 588.41 intensity 1.4595e+07\tM+H@297.08969 prob=1.00\n",
        "54. avg m/z=228.053452909 avg RT=1022.15499878 prob=1.0\n",
        "\tfeature_id 817 file_id 2 mz 228.05344 RT 1023.48 intensity 6.5526e+04\tM+H@227.04616 prob=1.00\n",
        "\tfeature_id 715 file_id 3 mz 228.05347 RT 1020.83 intensity 2.0852e+05\tM+H@227.04619 prob=1.00\n",
        "55. avg m/z=149.023317588 avg RT=346.185501099 prob=1.0\n",
        "\tfeature_id 203 file_id 2 mz 149.02331 RT 346.10 intensity 4.0500e+05\tM+H@148.01603 prob=1.00\n",
        "\tfeature_id 186 file_id 3 mz 149.02333 RT 346.27 intensity 1.0175e+06\tM+H@148.01605 prob=1.00\n",
        "56. avg m/z=245.07569194 avg RT=549.980499268 prob=1.0\n",
        "\tfeature_id 146 file_id 0 mz 245.07571 RT 550.52 intensity 1.0811e+06\tM+H@244.06844 prob=1.00\n",
        "\tfeature_id 137 file_id 1 mz 245.07567 RT 549.45 intensity 1.0649e+06\tM+H@244.06839 prob=1.00\n",
        "57. avg m/z=144.065419684 avg RT=420.361251831 prob=1.0\n",
        "\tfeature_id 138 file_id 0 mz 144.06534 RT 376.43 intensity 1.1827e+06\tM+H@143.05806 prob=1.00\n",
        "\tfeature_id 33 file_id 1 mz 144.06535 RT 564.01 intensity 3.5718e+06\tM+H@143.05807 prob=1.00\n",
        "\tfeature_id 172 file_id 2 mz 144.06548 RT 368.34 intensity 5.0560e+05\tM+H@143.05820 prob=1.00\n",
        "\tfeature_id 301 file_id 3 mz 144.06551 RT 372.67 intensity 5.7061e+05\tM+H@143.05823 prob=1.00\n",
        "58. avg m/z=89.5067226224 avg RT=2310.44006348 prob=1.0\n",
        "\tfeature_id 577 file_id 0 mz 89.50674 RT 2290.62 intensity 1.9020e+05\tM+H@88.49946 prob=0.50\n",
        "\tfeature_id 467 file_id 1 mz 89.50671 RT 2330.26 intensity 2.3458e+05\tM+H@88.49943 prob=0.50\n",
        "59. avg m/z=214.917451475 avg RT=2112.01501465 prob=1.0\n",
        "\tfeature_id 777 file_id 0 mz 214.91746 RT 2114.26 intensity 1.1792e+05\tM+H@213.91018 prob=1.00\n",
        "\tfeature_id 767 file_id 1 mz 214.91744 RT 2109.77 intensity 1.1157e+05\tM+H@213.91017 prob=1.00\n",
        "60. avg m/z=130.049776125 avg RT=1071.97750854 prob=1.0\n",
        "\tfeature_id 373 file_id 0 mz 130.04969 RT 1082.06 intensity 3.5192e+05\tM+H@129.04241 prob=1.00\n",
        "\tfeature_id 678 file_id 1 mz 130.04967 RT 1026.57 intensity 1.3583e+05\tM+H@129.04239 prob=1.00\n",
        "\tfeature_id 389 file_id 2 mz 130.04986 RT 1094.62 intensity 1.7280e+05\tM+H@129.04258 prob=1.00\n",
        "\tfeature_id 326 file_id 3 mz 130.04989 RT 1084.66 intensity 5.2248e+05\tM+H@129.04261 prob=1.00\n",
        "61. avg m/z=388.638037847 avg RT=459.552001953 prob=1.0\n",
        "\tfeature_id 677 file_id 0 mz 378.14852 RT 464.62 intensity 1.4865e+05\tM+HC13@376.13785 prob=0.53\n",
        "\tfeature_id 644 file_id 1 mz 399.12690 RT 468.55 intensity 1.4500e+05\tM+Na@376.13780 prob=0.54\n",
        "\tfeature_id 618 file_id 2 mz 399.12767 RT 455.03 intensity 1.0013e+05\tM+Na@376.13850 prob=0.54\n",
        "\tfeature_id 619 file_id 3 mz 378.14907 RT 450.01 intensity 2.5512e+05\tM+HC13@376.13841 prob=0.52\n",
        "62. avg m/z=190.979107808 avg RT=2075.38000488 prob=1.0\n",
        "\tfeature_id 967 file_id 1 mz 190.97907 RT 2062.37 intensity 6.8692e+04\tM+H@189.97180 prob=1.00\n",
        "\tfeature_id 812 file_id 2 mz 190.97914 RT 2088.39 intensity 6.6517e+04\tM+H@189.97187 prob=1.00\n",
        "63. avg m/z=74.032241753 avg RT=2052.10244751 prob=1.0\n",
        "\tfeature_id 506 file_id 0 mz 74.03223 RT 2056.88 intensity 2.2246e+05\tM+H@73.02496 prob=1.00\n",
        "\tfeature_id 503 file_id 1 mz 74.03222 RT 2044.34 intensity 2.1333e+05\tM+H@73.02495 prob=1.00\n",
        "\tfeature_id 862 file_id 2 mz 74.03226 RT 2069.99 intensity 6.0766e+04\tM+H@73.02499 prob=1.00\n",
        "\tfeature_id 911 file_id 3 mz 74.03225 RT 2037.20 intensity 1.4377e+05\tM+H@73.02497 prob=1.00\n",
        "64. avg m/z=76.0392619618 avg RT=1112.64498901 prob=1.0\n",
        "\tfeature_id 472 file_id 0 mz 76.03921 RT 1117.12 intensity 2.5143e+05\tM+H@75.03194 prob=1.00\n",
        "\tfeature_id 463 file_id 1 mz 76.03920 RT 1105.78 intensity 2.3675e+05\tM+H@75.03193 prob=1.00\n",
        "\tfeature_id 248 file_id 2 mz 76.03931 RT 1119.71 intensity 3.0182e+05\tM+H@75.03203 prob=1.00\n",
        "\tfeature_id 216 file_id 3 mz 76.03932 RT 1107.97 intensity 8.9413e+05\tM+H@75.03204 prob=1.00\n",
        "65. avg m/z=70.0126651219 avg RT=2704.26993815 prob=1.0\n",
        "\tfeature_id 459 file_id 0 mz 70.01264 RT 2673.63 intensity 2.6751e+05\tM+H@69.00536 prob=1.00\n",
        "\tfeature_id 390 file_id 1 mz 70.01263 RT 2587.48 intensity 2.9574e+05\tM+H@69.00536 prob=1.00\n",
        "\tfeature_id 947 file_id 3 mz 70.01272 RT 2851.70 intensity 1.3501e+05\tM+H@69.00545 prob=1.00\n",
        "66. avg m/z=144.065413781 avg RT=786.449991862 prob=1.0\n",
        "\tfeature_id 437 file_id 1 mz 144.06532 RT 797.55 intensity 2.5470e+05\tM+H@143.05804 prob=1.00\n",
        "\tfeature_id 550 file_id 2 mz 144.06545 RT 785.44 intensity 1.1401e+05\tM+H@143.05817 prob=1.00\n",
        "\tfeature_id 768 file_id 3 mz 144.06548 RT 776.36 intensity 1.8908e+05\tM+H@143.05820 prob=1.00\n",
        "67. avg m/z=158.002763975 avg RT=2405.63500977 prob=1.0\n",
        "\tfeature_id 928 file_id 2 mz 158.00275 RT 2364.31 intensity 5.2838e+04\tM+H@156.99547 prob=1.00\n",
        "\tfeature_id 990 file_id 3 mz 158.00278 RT 2446.96 intensity 1.2421e+05\tM+H@156.99550 prob=1.00\n",
        "68. avg m/z=196.003463172 avg RT=815.220016479 prob=1.0\n",
        "\tfeature_id 290 file_id 0 mz 196.00341 RT 814.54 intensity 4.6961e+05\tM+H@194.99613 prob=1.00\n",
        "\tfeature_id 256 file_id 1 mz 196.00339 RT 810.67 intensity 4.7504e+05\tM+H@194.99611 prob=1.00\n",
        "\tfeature_id 202 file_id 2 mz 196.00353 RT 820.12 intensity 4.0526e+05\tM+H@194.99625 prob=1.00\n",
        "\tfeature_id 315 file_id 3 mz 196.00353 RT 815.56 intensity 5.3698e+05\tM+H@194.99625 prob=1.00\n",
        "69. avg m/z=208.039274932 avg RT=2389.49499512 prob=1.0\n",
        "\tfeature_id 612 file_id 2 mz 208.03925 RT 2398.84 intensity 1.0133e+05\tM+H@207.03198 prob=0.68\n",
        "\tfeature_id 756 file_id 3 mz 208.03930 RT 2380.15 intensity 1.9279e+05\tM+H@207.03202 prob=1.00\n",
        "70. avg m/z=136.061719499 avg RT=668.63949585 prob=1.0\n",
        "\tfeature_id 41 file_id 0 mz 136.06162 RT 896.47 intensity 2.8213e+06\tM+H@135.05435 prob=1.00\n",
        "\tfeature_id 528 file_id 1 mz 136.06164 RT 590.29 intensity 2.0241e+05\tM+H@135.05437 prob=1.00\n",
        "\tfeature_id 623 file_id 2 mz 136.06178 RT 596.49 intensity 9.9333e+04\tM+H@135.05450 prob=1.00\n",
        "\tfeature_id 564 file_id 3 mz 136.06183 RT 591.30 intensity 2.9395e+05\tM+H@135.05455 prob=1.00\n",
        "71. avg m/z=144.065412272 avg RT=497.682510376 prob=1.0\n",
        "\tfeature_id 32 file_id 0 mz 144.06537 RT 559.25 intensity 3.5398e+06\tM+H@143.05810 prob=1.00\n",
        "\tfeature_id 123 file_id 1 mz 144.06531 RT 379.55 intensity 1.1901e+06\tM+H@143.05803 prob=1.00\n",
        "\tfeature_id 860 file_id 2 mz 144.06546 RT 670.42 intensity 6.0980e+04\tM+H@143.05818 prob=1.00\n",
        "\tfeature_id 274 file_id 3 mz 144.06551 RT 381.52 intensity 6.6082e+05\tM+H@143.05824 prob=1.00\n",
        "72. avg m/z=249.094500747 avg RT=642.57901001 prob=1.0\n",
        "\tfeature_id 232 file_id 2 mz 249.09449 RT 645.37 intensity 3.2941e+05\tM+H@248.08721 prob=1.00\n",
        "\tfeature_id 275 file_id 3 mz 249.09451 RT 639.79 intensity 6.5936e+05\tM+H@248.08724 prob=1.00\n",
        "73. avg m/z=153.032656564 avg RT=2069.5675354 prob=1.0\n",
        "\tfeature_id 410 file_id 0 mz 153.03262 RT 2053.81 intensity 3.1107e+05\tM+H@152.02534 prob=1.00\n",
        "\tfeature_id 990 file_id 1 mz 153.03267 RT 2109.77 intensity 6.5293e+04\tM+H@152.02539 prob=1.00\n",
        "\tfeature_id 227 file_id 2 mz 153.03268 RT 2071.51 intensity 3.3758e+05\tM+H@152.02540 prob=1.00\n",
        "\tfeature_id 349 file_id 3 mz 153.03266 RT 2043.18 intensity 4.8362e+05\tM+H@152.02538 prob=1.00\n",
        "74. avg m/z=186.075859635 avg RT=709.219497681 prob=1.0\n",
        "\tfeature_id 922 file_id 0 mz 186.07574 RT 710.03 intensity 8.2705e+04\tM+H@185.06846 prob=1.00\n",
        "\tfeature_id 890 file_id 1 mz 186.07570 RT 709.64 intensity 8.1724e+04\tM+H@185.06843 prob=1.00\n",
        "\tfeature_id 886 file_id 2 mz 186.07595 RT 712.50 intensity 5.7580e+04\tM+H@185.06867 prob=1.00\n",
        "\tfeature_id 885 file_id 3 mz 186.07605 RT 704.70 intensity 1.5381e+05\tM+H@185.06877 prob=1.00\n",
        "75. avg m/z=363.089398882 avg RT=608.516021729 prob=1.0\n",
        "\tfeature_id 936 file_id 1 mz 363.08909 RT 647.44 intensity 7.3191e+04\tM+H@362.08182 prob=1.00\n",
        "\tfeature_id 665 file_id 2 mz 363.08970 RT 569.59 intensity 9.0649e+04\tM+H@362.08243 prob=1.00\n",
        "76. avg m/z=115.038816458 avg RT=690.651519775 prob=1.0\n",
        "\tfeature_id 876 file_id 0 mz 115.03883 RT 826.02 intensity 9.2540e+04\tM+H@114.03155 prob=1.00\n",
        "\tfeature_id 531 file_id 1 mz 115.03880 RT 555.28 intensity 2.0005e+05\tM+H@114.03153 prob=1.00\n",
        "77. avg m/z=102.033793159 avg RT=2674.91748047 prob=1.0\n",
        "\tfeature_id 61 file_id 0 mz 102.03374 RT 2567.85 intensity 2.3922e+06\tM+H@101.02646 prob=1.00\n",
        "\tfeature_id 55 file_id 1 mz 102.03373 RT 2713.66 intensity 2.6173e+06\tM+H@101.02645 prob=1.00\n",
        "\tfeature_id 32 file_id 2 mz 102.03383 RT 2543.47 intensity 2.9574e+06\tM+H@101.02656 prob=1.00\n",
        "\tfeature_id 47 file_id 3 mz 102.03387 RT 2874.69 intensity 4.6141e+06\tM+H@101.02660 prob=1.00\n",
        "78. avg m/z=82.5370899779 avg RT=2434.88000488 prob=1.0\n",
        "\tfeature_id 877 file_id 0 mz 82.53708 RT 2350.83 intensity 9.2343e+04\tM+H@81.52981 prob=1.00\n",
        "\tfeature_id 651 file_id 1 mz 82.53710 RT 2518.93 intensity 1.4346e+05\tM+H@81.52982 prob=1.00\n",
        "79. avg m/z=125.986142621 avg RT=2619.19250488 prob=1.0\n",
        "\tfeature_id 372 file_id 0 mz 125.98609 RT 2662.75 intensity 3.5201e+05\tM+H@124.97882 prob=1.00\n",
        "\tfeature_id 296 file_id 1 mz 125.98608 RT 2587.48 intensity 3.9932e+05\tM+H@124.97881 prob=1.00\n",
        "\tfeature_id 406 file_id 2 mz 125.98618 RT 2581.87 intensity 1.6637e+05\tM+H@124.97890 prob=1.00\n",
        "\tfeature_id 375 file_id 3 mz 125.98622 RT 2644.67 intensity 4.4811e+05\tM+H@124.97894 prob=1.00\n",
        "80. avg m/z=121.083998695 avg RT=745.361999512 prob=1.0\n",
        "\tfeature_id 732 file_id 1 mz 121.08392 RT 743.79 intensity 1.2110e+05\tM+H@120.07665 prob=0.66\n",
        "\tfeature_id 994 file_id 3 mz 121.08408 RT 746.93 intensity 1.2341e+05\tM+H@120.07680 prob=0.52\n",
        "81. avg m/z=189.558611838 avg RT=1196.36505127 prob=1.0\n",
        "\tfeature_id 811 file_id 2 mz 189.55858 RT 1200.92 intensity 6.6629e+04\tM+H@188.55131 prob=1.00\n",
        "\tfeature_id 738 file_id 3 mz 189.55864 RT 1191.81 intensity 1.9897e+05\tM+H@188.55136 prob=1.00\n",
        "82. avg m/z=82.5370950894 avg RT=2622.54504395 prob=1.0\n",
        "\tfeature_id 736 file_id 0 mz 82.53709 RT 2501.02 intensity 1.2994e+05\tM+H@81.52981 prob=1.00\n",
        "\tfeature_id 706 file_id 1 mz 82.53710 RT 2744.07 intensity 1.2838e+05\tM+H@81.52982 prob=1.00\n",
        "83. avg m/z=123.048689501 avg RT=2181.18994141 prob=1.0\n",
        "\tfeature_id 264 file_id 1 mz 123.04870 RT 2099.50 intensity 4.6776e+05\tM+H@122.04142 prob=1.00\n",
        "\tfeature_id 385 file_id 3 mz 123.04868 RT 2262.88 intensity 4.3364e+05\tM+H@122.04140 prob=1.00\n",
        "84. avg m/z=167.012770506 avg RT=1912.8133138 prob=1.0\n",
        "\tfeature_id 6 file_id 1 mz 167.01278 RT 2114.17 intensity 8.0876e+06\tM+H@166.00550 prob=1.00\n",
        "\tfeature_id 166 file_id 2 mz 167.01277 RT 1815.28 intensity 5.1665e+05\tM+H@166.00550 prob=1.00\n",
        "\tfeature_id 221 file_id 3 mz 167.01276 RT 1808.99 intensity 8.7194e+05\tM+H@166.00549 prob=1.00\n",
        "85. avg m/z=223.097788245 avg RT=665.256011963 prob=1.0\n",
        "\tfeature_id 663 file_id 2 mz 223.09775 RT 670.42 intensity 9.0965e+04\tM+H@222.09048 prob=1.00\n",
        "\tfeature_id 839 file_id 3 mz 223.09782 RT 660.10 intensity 1.6685e+05\tM+H@222.09055 prob=1.00\n",
        "86. avg m/z=73.5318272808 avg RT=2632.01501465 prob=1.0\n",
        "\tfeature_id 419 file_id 0 mz 73.53180 RT 2665.85 intensity 3.0375e+05\tM+H@72.52452 prob=1.00\n",
        "\tfeature_id 309 file_id 1 mz 73.53180 RT 2387.93 intensity 3.8388e+05\tM+H@72.52453 prob=1.00\n",
        "\tfeature_id 753 file_id 2 mz 73.53184 RT 2601.11 intensity 7.4048e+04\tM+H@72.52457 prob=1.00\n",
        "\tfeature_id 518 file_id 3 mz 73.53187 RT 2873.17 intensity 3.1567e+05\tM+H@72.52459 prob=1.00\n",
        "87. avg m/z=174.998819247 avg RT=2109.5 prob=1.0\n",
        "\tfeature_id 680 file_id 2 mz 174.99881 RT 2135.45 intensity 8.6789e+04\tM+H@173.99154 prob=1.00\n",
        "\tfeature_id 917 file_id 3 mz 174.99882 RT 2083.55 intensity 1.4190e+05\tM+H@173.99155 prob=1.00\n",
        "88. avg m/z=112.086903794 avg RT=947.96697998 prob=1.0\n",
        "\tfeature_id 998 file_id 2 mz 112.08687 RT 965.91 intensity 4.6265e+04\tM+H@111.07959 prob=1.00\n",
        "\tfeature_id 865 file_id 3 mz 112.08694 RT 930.02 intensity 1.5964e+05\tM+H@111.07966 prob=1.00\n",
        "89. avg m/z=102.535352586 avg RT=2641.98498535 prob=1.0\n",
        "\tfeature_id 518 file_id 0 mz 102.53531 RT 2746.70 intensity 2.1527e+05\tM+H@101.52804 prob=0.50\n",
        "\tfeature_id 360 file_id 3 mz 102.53539 RT 2537.27 intensity 4.7058e+05\tM+H@101.52812 prob=0.50\n",
        "90. avg m/z=82.5370862947 avg RT=2345.18005371 prob=1.0\n",
        "\tfeature_id 974 file_id 0 mz 82.53708 RT 2253.79 intensity 7.2928e+04\tM+H@81.52980 prob=1.00\n",
        "\tfeature_id 746 file_id 1 mz 82.53710 RT 2436.57 intensity 1.1792e+05\tM+H@81.52982 prob=1.00\n",
        "91. avg m/z=296.112825044 avg RT=353.645492554 prob=1.0\n",
        "\tfeature_id 933 file_id 2 mz 296.11282 RT 352.29 intensity 5.2362e+04\tM+H@295.10554 prob=1.00\n",
        "\tfeature_id 861 file_id 3 mz 296.11283 RT 355.00 intensity 1.6142e+05\tM+H@295.10556 prob=1.00\n",
        "92. avg m/z=131.070030772 avg RT=403.029495239 prob=1.0\n",
        "\tfeature_id 910 file_id 0 mz 131.07004 RT 402.32 intensity 8.6238e+04\tM+H@130.06277 prob=1.00\n",
        "\tfeature_id 889 file_id 1 mz 131.07002 RT 403.74 intensity 8.1895e+04\tM+H@130.06274 prob=1.00\n",
        "93. avg m/z=81.0447248612 avg RT=980.61151123 prob=1.0\n",
        "\tfeature_id 973 file_id 0 mz 81.04469 RT 998.74 intensity 7.2939e+04\tM+H@80.03741 prob=1.00\n",
        "\tfeature_id 581 file_id 1 mz 81.04470 RT 972.01 intensity 1.7043e+05\tM+H@80.03742 prob=1.00\n",
        "\tfeature_id 712 file_id 2 mz 81.04475 RT 996.34 intensity 8.2177e+04\tM+H@80.03747 prob=1.00\n",
        "\tfeature_id 711 file_id 3 mz 81.04477 RT 955.36 intensity 2.0908e+05\tM+H@80.03749 prob=1.00\n",
        "94. avg m/z=272.043408228 avg RT=983.79598999 prob=1.0\n",
        "\tfeature_id 515 file_id 2 mz 272.04337 RT 984.14 intensity 1.2215e+05\tM+H@271.03609 prob=1.00\n",
        "\tfeature_id 242 file_id 3 mz 272.04345 RT 983.45 intensity 7.8239e+05\tM+H@271.03617 prob=1.00\n",
        "95. avg m/z=224.07741864 avg RT=742.589996338 prob=1.0\n",
        "\tfeature_id 842 file_id 0 mz 224.07743 RT 742.91 intensity 9.9164e+04\tM+H@223.07016 prob=1.00\n",
        "\tfeature_id 807 file_id 1 mz 224.07740 RT 742.27 intensity 1.0126e+05\tM+H@223.07013 prob=1.00\n",
        "96. avg m/z=143.996663362 avg RT=2302.01000977 prob=1.0\n",
        "\tfeature_id 444 file_id 0 mz 143.99673 RT 2121.68 intensity 2.8126e+05\tM+H@142.98946 prob=0.50\n",
        "\tfeature_id 568 file_id 1 mz 143.99660 RT 2482.34 intensity 1.7622e+05\tM+H@142.98932 prob=0.50\n",
        "97. avg m/z=125.986154482 avg RT=2535.10992432 prob=1.0\n",
        "\tfeature_id 223 file_id 0 mz 125.98614 RT 2381.71 intensity 6.0154e+05\tM+H@124.97886 prob=1.00\n",
        "\tfeature_id 281 file_id 1 mz 125.98609 RT 2566.15 intensity 4.3708e+05\tM+H@124.97881 prob=1.00\n",
        "\tfeature_id 384 file_id 2 mz 125.98617 RT 2538.65 intensity 1.7707e+05\tM+H@124.97889 prob=1.00\n",
        "\tfeature_id 384 file_id 3 mz 125.98622 RT 2653.93 intensity 4.3442e+05\tM+H@124.97895 prob=1.00\n",
        "98. avg m/z=375.125617773 avg RT=394.880004883 prob=1.0\n",
        "\tfeature_id 673 file_id 0 mz 375.12562 RT 402.32 intensity 1.5056e+05\tM+H@374.11834 prob=1.00\n",
        "\tfeature_id 752 file_id 1 mz 375.12562 RT 387.44 intensity 1.1464e+05\tM+H@374.11834 prob=1.00\n",
        "99. avg m/z=83.0855068087 avg RT=819.561004639 prob=1.0\n",
        "\tfeature_id 185 file_id 0 mz 83.08552 RT 814.54 intensity 7.9303e+05\tM+H@82.07824 prob=1.00\n",
        "\tfeature_id 172 file_id 1 mz 83.08552 RT 815.01 intensity 7.4700e+05\tM+H@82.07824 prob=1.00\n",
        "\tfeature_id 167 file_id 2 mz 83.08550 RT 826.07 intensity 5.1545e+05\tM+H@82.07822 prob=1.00\n",
        "\tfeature_id 172 file_id 3 mz 83.08550 RT 822.62 intensity 1.0698e+06\tM+H@82.07822 prob=1.00\n",
        "100. avg m/z=254.088284979 avg RT=841.12802124 prob=1.0\n",
        "\tfeature_id 938 file_id 2 mz 254.08828 RT 844.02 intensity 5.1571e+04\tM+H@253.08100 prob=1.00\n",
        "\tfeature_id 981 file_id 3 mz 254.08829 RT 838.24 intensity 1.2683e+05\tM+H@253.08102 prob=1.00\n",
        "101. avg m/z=158.002808247 avg RT=2563.98498535 prob=1.0\n",
        "\tfeature_id 846 file_id 2 mz 158.00275 RT 2454.04 intensity 6.2817e+04\tM+H@156.99547 prob=1.00\n",
        "\tfeature_id 397 file_id 3 mz 158.00287 RT 2673.93 intensity 4.1883e+05\tM+H@156.99559 prob=1.00\n",
        "102. avg m/z=400.128715131 avg RT=885.236999512 prob=1.0\n",
        "\tfeature_id 453 file_id 2 mz 400.12876 RT 903.03 intensity 1.4510e+05\tM+H@399.12148 prob=1.00\n",
        "\tfeature_id 671 file_id 3 mz 400.12867 RT 867.44 intensity 2.3180e+05\tM+H@399.12139 prob=1.00\n",
        "103. avg m/z=82.0222457814 avg RT=2614.69006348 prob=1.0\n",
        "\tfeature_id 783 file_id 0 mz 82.02224 RT 2543.05 intensity 1.1621e+05\tM+H@81.01496 prob=1.00\n",
        "\tfeature_id 779 file_id 1 mz 82.02225 RT 2686.33 intensity 1.0742e+05\tM+H@81.01498 prob=1.00\n",
        "104. avg m/z=268.117725897 avg RT=704.166000366 prob=1.0\n",
        "\tfeature_id 160 file_id 0 mz 268.11752 RT 706.90 intensity 9.9470e+05\tM+H@267.11024 prob=1.00\n",
        "\tfeature_id 141 file_id 1 mz 268.11747 RT 701.86 intensity 9.9792e+05\tM+H@267.11020 prob=1.00\n",
        "\tfeature_id 54 file_id 2 mz 268.11795 RT 707.62 intensity 1.8616e+06\tM+H@267.11067 prob=1.00\n",
        "\tfeature_id 26 file_id 3 mz 268.11797 RT 700.29 intensity 7.1972e+06\tM+H@267.11069 prob=1.00\n",
        "105. avg m/z=304.175569801 avg RT=862.664978027 prob=1.0\n",
        "\tfeature_id 168 file_id 2 mz 304.17557 RT 888.54 intensity 5.1537e+05\tM+H@303.16829 prob=1.00\n",
        "\tfeature_id 239 file_id 3 mz 304.17557 RT 836.79 intensity 7.9457e+05\tM+H@303.16830 prob=1.00\n",
        "106. avg m/z=94.0450885214 avg RT=2168.44000244 prob=1.0\n",
        "\tfeature_id 116 file_id 0 mz 94.04505 RT 2293.70 intensity 1.4997e+06\tM+H@93.03777 prob=0.50\n",
        "\tfeature_id 8 file_id 3 mz 94.04513 RT 2043.18 intensity 1.3244e+07\tM+H@93.03785 prob=1.00\n",
        "107. avg m/z=173.078368695 avg RT=426.048995972 prob=1.0\n",
        "\tfeature_id 880 file_id 2 mz 173.07835 RT 425.55 intensity 5.8722e+04\tM+H@172.07107 prob=1.00\n",
        "\tfeature_id 979 file_id 3 mz 173.07839 RT 426.55 intensity 1.2725e+05\tM+H@172.07111 prob=1.00\n",
        "108. avg m/z=141.138448796 avg RT=820.99798584 prob=1.0\n",
        "\tfeature_id 852 file_id 0 mz 141.13840 RT 817.43 intensity 9.6695e+04\tM+H@140.13112 prob=0.63\n",
        "\tfeature_id 856 file_id 1 mz 141.13838 RT 816.46 intensity 8.8348e+04\tM+H@140.13110 prob=0.51\n",
        "\tfeature_id 224 file_id 2 mz 141.13850 RT 826.07 intensity 3.4198e+05\tM+H@140.13123 prob=0.51\n",
        "\tfeature_id 325 file_id 3 mz 141.13851 RT 824.03 intensity 5.2474e+05\tM+H@140.13124 prob=0.50\n",
        "109. avg m/z=102.033832876 avg RT=2091.98335775 prob=1.0\n",
        "\tfeature_id 5 file_id 0 mz 102.03381 RT 2236.84 intensity 8.8444e+06\tM+H@101.02653 prob=1.00\n",
        "\tfeature_id 34 file_id 2 mz 102.03384 RT 2021.35 intensity 2.7630e+06\tM+H@101.02656 prob=1.00\n",
        "\tfeature_id 40 file_id 3 mz 102.03385 RT 2017.76 intensity 5.0023e+06\tM+H@101.02658 prob=1.00\n",
        "110. avg m/z=174.038362645 avg RT=864.160013835 prob=1.0\n",
        "\tfeature_id 951 file_id 0 mz 174.03828 RT 864.09 intensity 7.6628e+04\tM+H@173.03101 prob=0.52\n",
        "\tfeature_id 950 file_id 1 mz 174.03826 RT 862.90 intensity 7.0842e+04\tM+H@173.03098 prob=0.66\n",
        "\tfeature_id 661 file_id 2 mz 174.03855 RT 865.49 intensity 9.1351e+04\tM+H@173.03127 prob=0.71\n",
        "111. avg m/z=348.070462902 avg RT=1015.59500122 prob=1.0\n",
        "\tfeature_id 662 file_id 2 mz 348.07047 RT 1023.48 intensity 9.1307e+04\tM+H@347.06320 prob=1.00\n",
        "\tfeature_id 524 file_id 3 mz 348.07045 RT 1007.71 intensity 3.1332e+05\tM+H@347.06317 prob=1.00\n",
        "112. avg m/z=84.9596947116 avg RT=2117.68499756 prob=1.0\n",
        "\tfeature_id 260 file_id 0 mz 84.95968 RT 2106.83 intensity 5.2343e+05\tM+H@83.95240 prob=1.00\n",
        "\tfeature_id 277 file_id 1 mz 84.95967 RT 2109.77 intensity 4.4449e+05\tM+H@83.95239 prob=1.00\n",
        "\tfeature_id 807 file_id 2 mz 84.95972 RT 2127.96 intensity 6.7130e+04\tM+H@83.95244 prob=1.00\n",
        "\tfeature_id 734 file_id 3 mz 84.95971 RT 2126.18 intensity 2.0016e+05\tM+H@83.95244 prob=1.00\n",
        "113. avg m/z=106.049763761 avg RT=1117.89749146 prob=1.0\n",
        "\tfeature_id 214 file_id 0 mz 106.04969 RT 1113.76 intensity 6.6711e+05\tM+H@105.04241 prob=1.00\n",
        "\tfeature_id 193 file_id 1 mz 106.04966 RT 1115.69 intensity 6.5198e+05\tM+H@105.04238 prob=1.00\n",
        "\tfeature_id 119 file_id 2 mz 106.04985 RT 1124.96 intensity 7.7476e+05\tM+H@105.04257 prob=1.00\n",
        "\tfeature_id 104 file_id 3 mz 106.04985 RT 1117.18 intensity 2.1354e+06\tM+H@105.04258 prob=1.00\n",
        "114. avg m/z=79.0178420706 avg RT=2618.02490234 prob=1.0\n",
        "\tfeature_id 675 file_id 0 mz 79.01786 RT 2504.15 intensity 1.4982e+05\tM+H@78.01059 prob=1.00\n",
        "\tfeature_id 591 file_id 1 mz 79.01782 RT 2731.90 intensity 1.6718e+05\tM+H@78.01055 prob=1.00\n",
        "115. avg m/z=312.943033795 avg RT=2113.27502441 prob=1.0\n",
        "\tfeature_id 678 file_id 2 mz 312.94310 RT 2147.45 intensity 8.7135e+04\tM+H@311.93583 prob=1.00\n",
        "\tfeature_id 966 file_id 3 mz 312.94296 RT 2079.10 intensity 1.2944e+05\tM+H@311.93569 prob=1.00\n",
        "116. avg m/z=124.086812478 avg RT=906.425984701 prob=1.0\n",
        "\tfeature_id 706 file_id 0 mz 124.08676 RT 951.73 intensity 1.3838e+05\tM+H@123.07948 prob=1.00\n",
        "\tfeature_id 730 file_id 1 mz 124.08676 RT 995.27 intensity 1.2127e+05\tM+H@123.07948 prob=1.00\n",
        "\tfeature_id 512 file_id 2 mz 124.08692 RT 772.27 intensity 1.2522e+05\tM+H@123.07964 prob=1.00\n",
        "117. avg m/z=174.998807005 avg RT=2153.35510254 prob=1.0\n",
        "\tfeature_id 715 file_id 2 mz 174.99881 RT 2176.10 intensity 8.1353e+04\tM+H@173.99154 prob=1.00\n",
        "\tfeature_id 971 file_id 3 mz 174.99880 RT 2130.61 intensity 1.2841e+05\tM+H@173.99153 prob=1.00\n",
        "118. avg m/z=131.533430494 avg RT=2024.875 prob=1.0\n",
        "\tfeature_id 575 file_id 2 mz 131.53343 RT 2047.00 intensity 1.0958e+05\tM+H@130.52615 prob=1.00\n",
        "\tfeature_id 508 file_id 3 mz 131.53343 RT 2002.75 intensity 3.2134e+05\tM+H@130.52616 prob=1.00\n",
        "119. avg m/z=125.986160583 avg RT=2446.48748779 prob=1.0\n",
        "\tfeature_id 212 file_id 0 mz 125.98614 RT 2350.83 intensity 6.7664e+05\tM+H@124.97886 prob=1.00\n",
        "\tfeature_id 189 file_id 1 mz 125.98612 RT 2349.90 intensity 6.8425e+05\tM+H@124.97884 prob=1.00\n",
        "\tfeature_id 259 file_id 2 mz 125.98617 RT 2334.58 intensity 2.8708e+05\tM+H@124.97889 prob=1.00\n",
        "\tfeature_id 371 file_id 3 mz 125.98622 RT 2750.64 intensity 4.5489e+05\tM+H@124.97895 prob=1.00\n",
        "120. avg m/z=356.095253335 avg RT=448.114501953 prob=1.0\n",
        "\tfeature_id 939 file_id 2 mz 356.09521 RT 453.47 intensity 5.1115e+04\tM+H@355.08793 prob=1.00\n",
        "\tfeature_id 656 file_id 3 mz 356.09530 RT 442.76 intensity 2.3803e+05\tM+H@355.08802 prob=1.00\n",
        "121. avg m/z=94.545362444 avg RT=4.40778493881 prob=1.0\n",
        "\tfeature_id 962 file_id 0 mz 94.54538 RT  4.42 intensity 7.4467e+04\tM+H@93.53810 prob=1.00\n",
        "\tfeature_id 923 file_id 1 mz 94.54535 RT  4.39 intensity 7.4466e+04\tM+H@93.53807 prob=1.00\n",
        "122. avg m/z=95.0468414031 avg RT=2058.20507812 prob=1.0\n",
        "\tfeature_id 988 file_id 0 mz 95.04687 RT 2066.06 intensity 6.9293e+04\tM+H@94.03959 prob=1.00\n",
        "\tfeature_id 903 file_id 1 mz 95.04682 RT 2050.35 intensity 7.9459e+04\tM+H@94.03954 prob=1.00\n",
        "123. avg m/z=269.087889899 avg RT=616.771499634 prob=1.0\n",
        "\tfeature_id 45 file_id 0 mz 269.08771 RT 616.70 intensity 2.7088e+06\tM+H@268.08043 prob=1.00\n",
        "\tfeature_id 49 file_id 1 mz 269.08769 RT 619.99 intensity 2.7620e+06\tM+H@268.08041 prob=1.00\n",
        "\tfeature_id 27 file_id 2 mz 269.08807 RT 617.39 intensity 3.4426e+06\tM+H@268.08080 prob=1.00\n",
        "\tfeature_id 22 file_id 3 mz 269.08809 RT 613.01 intensity 7.6017e+06\tM+H@268.08081 prob=1.00\n",
        "124. avg m/z=294.939005849 avg RT=1258.85498047 prob=1.0\n",
        "\tfeature_id 215 file_id 2 mz 294.93903 RT 1278.77 intensity 3.6545e+05\tM+H@293.93175 prob=1.00\n",
        "\tfeature_id 287 file_id 3 mz 294.93899 RT 1238.94 intensity 6.1336e+05\tM+H@293.93171 prob=1.00\n",
        "125. avg m/z=124.543457945 avg RT=2156.07250977 prob=1.0\n",
        "\tfeature_id 870 file_id 0 mz 124.54347 RT 2103.84 intensity 9.3622e+04\tM+H@123.53620 prob=0.52\n",
        "\tfeature_id 880 file_id 1 mz 124.54347 RT 2099.50 intensity 8.2927e+04\tM+H@123.53619 prob=1.00\n",
        "\tfeature_id 830 file_id 2 mz 124.54344 RT 2240.05 intensity 6.3941e+04\tM+H@123.53616 prob=1.00\n",
        "\tfeature_id 973 file_id 3 mz 124.54345 RT 2180.90 intensity 1.2803e+05\tM+H@123.53618 prob=1.00\n",
        "126. avg m/z=348.069738083 avg RT=1044.45501709 prob=1.0\n",
        "\tfeature_id 683 file_id 0 mz 348.06976 RT 1054.81 intensity 1.4465e+05\tM+H@347.06248 prob=1.00\n",
        "\tfeature_id 509 file_id 1 mz 348.06972 RT 1034.10 intensity 2.0950e+05\tM+H@347.06244 prob=1.00\n",
        "127. avg m/z=360.149731195 avg RT=776.899983724 prob=1.0\n",
        "\tfeature_id 949 file_id 0 mz 360.14959 RT 795.52 intensity 7.6679e+04\tM+H@359.14232 prob=1.00\n",
        "\tfeature_id 771 file_id 1 mz 360.14948 RT 772.51 intensity 1.0977e+05\tM+H@359.14220 prob=1.00\n",
        "\tfeature_id 708 file_id 2 mz 360.15012 RT 762.67 intensity 8.2649e+04\tM+H@359.14284 prob=1.00\n",
        "128. avg m/z=141.958410719 avg RT=2521.38500977 prob=1.0\n",
        "\tfeature_id 836 file_id 0 mz 141.95839 RT 2709.50 intensity 1.0014e+05\tM+H@140.95111 prob=1.00\n",
        "\tfeature_id 954 file_id 1 mz 141.95843 RT 2333.27 intensity 7.0303e+04\tM+H@140.95115 prob=1.00\n",
        "129. avg m/z=200.002754748 avg RT=814.5 prob=1.0\n",
        "\tfeature_id 701 file_id 0 mz 200.00271 RT 813.08 intensity 1.3916e+05\tM+H@198.99543 prob=1.00\n",
        "\tfeature_id 599 file_id 1 mz 200.00267 RT 810.67 intensity 1.6329e+05\tM+H@198.99539 prob=1.00\n",
        "\tfeature_id 508 file_id 2 mz 200.00279 RT 820.12 intensity 1.2582e+05\tM+H@198.99552 prob=1.00\n",
        "\tfeature_id 777 file_id 3 mz 200.00285 RT 814.13 intensity 1.8685e+05\tM+H@198.99557 prob=1.00\n",
        "130. avg m/z=190.126388419 avg RT=1063.2749939 prob=1.0\n",
        "\tfeature_id 435 file_id 0 mz 190.12630 RT 1061.09 intensity 2.9054e+05\tM+H@189.11902 prob=1.00\n",
        "\tfeature_id 386 file_id 1 mz 190.12625 RT 1058.74 intensity 2.9878e+05\tM+H@189.11898 prob=0.53\n",
        "\tfeature_id 336 file_id 2 mz 190.12648 RT 1079.30 intensity 2.0996e+05\tM+H@189.11921 prob=0.70\n",
        "\tfeature_id 307 file_id 3 mz 190.12652 RT 1053.97 intensity 5.5612e+05\tM+H@189.11925 prob=0.66\n",
        "131. avg m/z=325.150726769 avg RT=975.089996338 prob=1.0\n",
        "\tfeature_id 673 file_id 2 mz 325.15070 RT 994.82 intensity 8.8434e+04\tM+H@324.14342 prob=1.00\n",
        "\tfeature_id 210 file_id 3 mz 325.15075 RT 955.36 intensity 9.1504e+05\tM+H@324.14348 prob=1.00\n",
        "132. avg m/z=141.05440834 avg RT=560.174499512 prob=1.0\n",
        "\tfeature_id 942 file_id 0 mz 141.05442 RT 565.07 intensity 7.8498e+04\tM+H@140.04715 prob=1.00\n",
        "\tfeature_id 962 file_id 1 mz 141.05439 RT 555.28 intensity 6.9380e+04\tM+H@140.04712 prob=1.00\n",
        "133. avg m/z=102.535362906 avg RT=1992.2199707 prob=1.0\n",
        "\tfeature_id 475 file_id 0 mz 102.53528 RT 1971.19 intensity 2.4940e+05\tM+H@101.52800 prob=0.50\n",
        "\tfeature_id 386 file_id 3 mz 102.53545 RT 2013.25 intensity 4.3360e+05\tM+H@101.52817 prob=1.00\n",
        "134. avg m/z=205.079057082 avg RT=557.897491455 prob=1.0\n",
        "\tfeature_id 890 file_id 2 mz 205.07901 RT 560.43 intensity 5.7225e+04\tM+H@204.07173 prob=1.00\n",
        "\tfeature_id 820 file_id 3 mz 205.07911 RT 555.36 intensity 1.7343e+05\tM+H@204.07183 prob=1.00\n",
        "135. avg m/z=302.196180269 avg RT=775.457977295 prob=1.0\n",
        "\tfeature_id 806 file_id 2 mz 302.19618 RT 780.54 intensity 6.7356e+04\tM+H@301.18891 prob=1.00\n",
        "\tfeature_id 993 file_id 3 mz 302.19618 RT 770.38 intensity 1.2342e+05\tM+H@301.18890 prob=1.00\n",
        "136. avg m/z=141.958399786 avg RT=2646.32507324 prob=1.0\n",
        "\tfeature_id 835 file_id 0 mz 141.95842 RT 2591.12 intensity 1.0083e+05\tM+H@140.95114 prob=1.00\n",
        "\tfeature_id 679 file_id 1 mz 141.95838 RT 2701.53 intensity 1.3572e+05\tM+H@140.95110 prob=1.00\n",
        "137. avg m/z=79.0178521052 avg RT=2485.76501465 prob=1.0\n",
        "\tfeature_id 793 file_id 0 mz 79.01787 RT 2440.49 intensity 1.1298e+05\tM+H@78.01059 prob=1.00\n",
        "\tfeature_id 622 file_id 1 mz 79.01783 RT 2531.04 intensity 1.5270e+05\tM+H@78.01056 prob=1.00\n",
        "138. avg m/z=234.133443325 avg RT=758.068496704 prob=1.0\n",
        "\tfeature_id 220 file_id 0 mz 234.13329 RT 759.61 intensity 6.1054e+05\tM+H@233.12602 prob=1.00\n",
        "\tfeature_id 203 file_id 1 mz 234.13326 RT 755.88 intensity 6.0712e+05\tM+H@233.12599 prob=1.00\n",
        "\tfeature_id 61 file_id 2 mz 234.13360 RT 761.09 intensity 1.5420e+06\tM+H@233.12632 prob=1.00\n",
        "\tfeature_id 33 file_id 3 mz 234.13362 RT 755.69 intensity 6.3314e+06\tM+H@233.12634 prob=1.00\n",
        "139. avg m/z=125.986149692 avg RT=2708.37744141 prob=1.0\n",
        "\tfeature_id 322 file_id 0 mz 125.98613 RT 2606.69 intensity 4.0710e+05\tM+H@124.97885 prob=1.00\n",
        "\tfeature_id 314 file_id 1 mz 125.98607 RT 2718.26 intensity 3.7882e+05\tM+H@124.97880 prob=1.00\n",
        "\tfeature_id 446 file_id 2 mz 125.98617 RT 2679.89 intensity 1.4978e+05\tM+H@124.97890 prob=1.00\n",
        "\tfeature_id 350 file_id 3 mz 125.98623 RT 2828.67 intensity 4.8239e+05\tM+H@124.97895 prob=1.00\n",
        "140. avg m/z=100.114988186 avg RT=822.938995361 prob=1.0\n",
        "\tfeature_id 417 file_id 2 mz 100.11504 RT 826.07 intensity 1.6348e+05\tM+H@99.10776 prob=1.00\n",
        "\tfeature_id 487 file_id 3 mz 100.11494 RT 819.80 intensity 3.4172e+05\tM+H@99.10766 prob=1.00\n",
        "141. avg m/z=113.034456952 avg RT=525.1720047 prob=1.0\n",
        "\tfeature_id 114 file_id 0 mz 113.03442 RT 546.12 intensity 1.5204e+06\tM+H@112.02714 prob=1.00\n",
        "\tfeature_id 113 file_id 1 mz 113.03439 RT 555.28 intensity 1.3834e+06\tM+H@112.02712 prob=1.00\n",
        "\tfeature_id 100 file_id 2 mz 113.03448 RT 542.01 intensity 8.7263e+05\tM+H@112.02721 prob=1.00\n",
        "\tfeature_id 271 file_id 3 mz 113.03453 RT 457.27 intensity 6.7128e+05\tM+H@112.02726 prob=1.00\n",
        "142. avg m/z=130.159026701 avg RT=681.222015381 prob=1.0\n",
        "\tfeature_id 206 file_id 2 mz 130.15900 RT 685.03 intensity 3.9443e+05\tM+H@129.15173 prob=1.00\n",
        "\tfeature_id 284 file_id 3 mz 130.15905 RT 677.42 intensity 6.2431e+05\tM+H@129.15177 prob=1.00\n",
        "143. avg m/z=113.034449033 avg RT=482.376502991 prob=1.0\n",
        "\tfeature_id 244 file_id 0 mz 113.03441 RT 464.62 intensity 5.5544e+05\tM+H@112.02713 prob=1.00\n",
        "\tfeature_id 229 file_id 1 mz 113.03438 RT 470.08 intensity 5.3336e+05\tM+H@112.02710 prob=1.00\n",
        "\tfeature_id 211 file_id 2 mz 113.03450 RT 456.59 intensity 3.7844e+05\tM+H@112.02722 prob=1.00\n",
        "\tfeature_id 99 file_id 3 mz 113.03451 RT 538.21 intensity 2.2520e+06\tM+H@112.02723 prob=1.00\n",
        "144. avg m/z=206.073702506 avg RT=802.967987061 prob=1.0\n",
        "\tfeature_id 923 file_id 0 mz 206.07377 RT 827.45 intensity 8.2677e+04\tM+H@205.06649 prob=0.51\n",
        "\tfeature_id 969 file_id 1 mz 206.07363 RT 778.49 intensity 6.8646e+04\tM+H@205.06636 prob=1.00\n",
        "145. avg m/z=90.9766661473 avg RT=1793.83001709 prob=1.0\n",
        "\tfeature_id 495 file_id 2 mz 90.97666 RT 1794.99 intensity 1.2881e+05\tM+H@89.96939 prob=1.00\n",
        "\tfeature_id 945 file_id 3 mz 90.97667 RT 1792.67 intensity 1.3554e+05\tM+H@89.96939 prob=1.00\n",
        "146. avg m/z=325.165328009 avg RT=734.942993164 prob=1.0\n",
        "\tfeature_id 954 file_id 0 mz 325.16537 RT 735.24 intensity 7.6331e+04\tM+H@324.15809 prob=1.00\n",
        "\tfeature_id 957 file_id 1 mz 325.16529 RT 734.65 intensity 6.9847e+04\tM+H@324.15801 prob=1.00\n",
        "147. avg m/z=130.049814731 avg RT=434.777999878 prob=1.0\n",
        "\tfeature_id 382 file_id 2 mz 130.04982 RT 435.58 intensity 1.7751e+05\tM+H@129.04254 prob=1.00\n",
        "\tfeature_id 494 file_id 3 mz 130.04981 RT 433.98 intensity 3.3511e+05\tM+H@129.04254 prob=1.00\n",
        "148. avg m/z=296.9707092 avg RT=2151.29003906 prob=1.0\n",
        "\tfeature_id 479 file_id 0 mz 296.97068 RT 2111.30 intensity 2.4760e+05\tM+H@295.96341 prob=0.65\n",
        "\tfeature_id 532 file_id 3 mz 296.97074 RT 2191.28 intensity 3.0843e+05\tM+H@295.96346 prob=1.00\n",
        "149. avg m/z=246.021564414 avg RT=288.135498047 prob=1.0\n",
        "\tfeature_id 341 file_id 2 mz 246.02158 RT 287.17 intensity 2.0690e+05\tM+H@245.01430 prob=1.00\n",
        "\tfeature_id 744 file_id 3 mz 246.02155 RT 289.10 intensity 1.9655e+05\tM+H@245.01428 prob=1.00\n",
        "150. avg m/z=101.071042442 avg RT=1594.97497559 prob=1.0\n",
        "\tfeature_id 803 file_id 2 mz 101.07105 RT 1596.00 intensity 6.7637e+04\tM+H@100.06377 prob=1.00\n",
        "\tfeature_id 788 file_id 3 mz 101.07104 RT 1593.95 intensity 1.8336e+05\tM+H@100.06376 prob=1.00\n",
        "151. avg m/z=391.785231338 avg RT=142.368701935 prob=1.0\n",
        "\tfeature_id 557 file_id 0 mz 392.28679 RT 199.07 intensity 1.9850e+05\tM+HC13@390.27631 prob=0.54\n",
        "\tfeature_id 316 file_id 1 mz 391.28368 RT 85.67 intensity 3.7710e+05\tM+H@390.27640 prob=1.00\n",
        "152. avg m/z=100.121039925 avg RT=821.750976562 prob=1.0\n",
        "\tfeature_id 938 file_id 0 mz 100.12100 RT 817.43 intensity 8.0014e+04\tM+H@99.11372 prob=1.00\n",
        "\tfeature_id 687 file_id 2 mz 100.12108 RT 826.07 intensity 8.5865e+04\tM+H@99.11380 prob=1.00\n",
        "153. avg m/z=141.958377838 avg RT=2710.45996094 prob=1.0\n",
        "\tfeature_id 816 file_id 0 mz 141.95839 RT 2748.26 intensity 1.0660e+05\tM+H@140.95111 prob=1.00\n",
        "\tfeature_id 650 file_id 1 mz 141.95837 RT 2672.66 intensity 1.4362e+05\tM+H@140.95109 prob=1.00\n",
        "154. avg m/z=226.951237292 avg RT=1259.90499878 prob=1.0\n",
        "\tfeature_id 161 file_id 0 mz 226.95104 RT 1260.89 intensity 9.9069e+05\tM+H@225.94376 prob=1.00\n",
        "\tfeature_id 142 file_id 1 mz 226.95101 RT 1261.17 intensity 9.7143e+05\tM+H@225.94373 prob=1.00\n",
        "\tfeature_id 95 file_id 2 mz 226.95145 RT 1275.59 intensity 9.2712e+05\tM+H@225.94417 prob=1.00\n",
        "\tfeature_id 123 file_id 3 mz 226.95145 RT 1241.97 intensity 1.6762e+06\tM+H@225.94418 prob=1.00\n",
        "155. avg m/z=138.510649953 avg RT=2097.44506836 prob=1.0\n",
        "\tfeature_id 707 file_id 2 mz 138.51064 RT 2109.87 intensity 8.2801e+04\tM+H@137.50336 prob=1.00\n",
        "\tfeature_id 822 file_id 3 mz 138.51066 RT 2085.02 intensity 1.7314e+05\tM+H@137.50338 prob=1.00\n",
        "156. avg m/z=73.5318211567 avg RT=2695.06994629 prob=1.0\n",
        "\tfeature_id 443 file_id 0 mz 73.53180 RT 2634.80 intensity 2.8157e+05\tM+H@72.52452 prob=1.00\n",
        "\tfeature_id 369 file_id 1 mz 73.53178 RT 2712.14 intensity 3.1420e+05\tM+H@72.52451 prob=1.00\n",
        "\tfeature_id 754 file_id 2 mz 73.53184 RT 2705.63 intensity 7.3783e+04\tM+H@72.52456 prob=1.00\n",
        "\tfeature_id 572 file_id 3 mz 73.53187 RT 2727.71 intensity 2.8546e+05\tM+H@72.52459 prob=1.00\n",
        "157. avg m/z=199.169114121 avg RT=313.493003845 prob=1.0\n",
        "\tfeature_id 164 file_id 0 mz 199.16900 RT 315.96 intensity 9.4350e+05\tM+H@198.16172 prob=1.00\n",
        "\tfeature_id 171 file_id 1 mz 199.16898 RT 316.29 intensity 7.4952e+05\tM+H@198.16170 prob=1.00\n",
        "\tfeature_id 47 file_id 2 mz 199.16924 RT 308.55 intensity 2.0921e+06\tM+H@198.16197 prob=1.00\n",
        "\tfeature_id 93 file_id 3 mz 199.16924 RT 313.17 intensity 2.3514e+06\tM+H@198.16196 prob=1.00\n",
        "158. avg m/z=82.022236479 avg RT=2429.25500488 prob=1.0\n",
        "\tfeature_id 769 file_id 0 mz 82.02224 RT 2558.55 intensity 1.1920e+05\tM+H@81.01496 prob=1.00\n",
        "\tfeature_id 676 file_id 1 mz 82.02224 RT 2299.96 intensity 1.3624e+05\tM+H@81.01496 prob=1.00\n",
        "159. avg m/z=451.099204931 avg RT=103.85200119 prob=1.0\n",
        "\tfeature_id 873 file_id 0 mz 451.09925 RT 103.13 intensity 9.3136e+04\tM+H@450.09197 prob=1.00\n",
        "\tfeature_id 842 file_id 1 mz 451.09916 RT 104.58 intensity 9.1528e+04\tM+H@450.09189 prob=1.00\n",
        "160. avg m/z=133.059414077 avg RT=1798.0 prob=1.0\n",
        "\tfeature_id 118 file_id 0 mz 133.05934 RT 1789.97 intensity 1.4943e+06\tM+H@132.05206 prob=1.00\n",
        "\tfeature_id 24 file_id 3 mz 133.05949 RT 1806.03 intensity 7.5111e+06\tM+H@132.05221 prob=1.00\n",
        "161. avg m/z=242.925410865 avg RT=1245.65002441 prob=1.0\n",
        "\tfeature_id 494 file_id 2 mz 242.92540 RT 1266.01 intensity 1.2890e+05\tM+H@241.91813 prob=1.00\n",
        "\tfeature_id 575 file_id 3 mz 242.92542 RT 1225.29 intensity 2.8142e+05\tM+H@241.91814 prob=1.00\n",
        "162. avg m/z=100.123754926 avg RT=824.132995605 prob=1.0\n",
        "\tfeature_id 942 file_id 1 mz 100.12371 RT 822.19 intensity 7.1597e+04\tM+H@99.11643 prob=1.00\n",
        "\tfeature_id 746 file_id 2 mz 100.12380 RT 826.07 intensity 7.5723e+04\tM+H@99.11652 prob=1.00\n",
        "163. avg m/z=236.117816742 avg RT=646.580993652 prob=1.0\n",
        "\tfeature_id 766 file_id 0 mz 236.11784 RT 647.29 intensity 1.2062e+05\tM+H@235.11056 prob=1.00\n",
        "\tfeature_id 745 file_id 1 mz 236.11780 RT 645.88 intensity 1.1879e+05\tM+H@235.11052 prob=1.00\n",
        "164. avg m/z=125.986139911 avg RT=2637.45501709 prob=1.0\n",
        "\tfeature_id 365 file_id 0 mz 125.98610 RT 2625.39 intensity 3.6045e+05\tM+H@124.97882 prob=1.00\n",
        "\tfeature_id 317 file_id 1 mz 125.98607 RT 2628.60 intensity 3.7682e+05\tM+H@124.97879 prob=1.00\n",
        "\tfeature_id 349 file_id 2 mz 125.98617 RT 2479.46 intensity 2.0137e+05\tM+H@124.97890 prob=1.00\n",
        "\tfeature_id 352 file_id 3 mz 125.98622 RT 2816.37 intensity 4.8068e+05\tM+H@124.97895 prob=1.00\n",
        "165. avg m/z=82.0222470778 avg RT=2531.69995117 prob=1.0\n",
        "\tfeature_id 825 file_id 0 mz 82.02224 RT 2622.27 intensity 1.0397e+05\tM+H@81.01497 prob=1.00\n",
        "\tfeature_id 709 file_id 1 mz 82.02225 RT 2441.13 intensity 1.2760e+05\tM+H@81.01498 prob=1.00\n",
        "166. avg m/z=176.013131417 avg RT=19.6749569575 prob=1.0\n",
        "\tfeature_id 900 file_id 0 mz 176.01308 RT  4.42 intensity 8.7893e+04\tM+H@175.00580 prob=1.00\n",
        "\tfeature_id 815 file_id 1 mz 176.01302 RT  4.39 intensity 9.9680e+04\tM+H@175.00574 prob=1.00\n",
        "\tfeature_id 800 file_id 2 mz 176.01329 RT 50.21 intensity 6.8216e+04\tM+H@175.00602 prob=1.00\n",
        "167. avg m/z=94.5457796119 avg RT=2194.68334961 prob=1.0\n",
        "\tfeature_id 98 file_id 1 mz 94.54583 RT 2050.35 intensity 1.6211e+06\tM+H@93.53855 prob=1.00\n",
        "\tfeature_id 48 file_id 2 mz 94.54585 RT 2069.99 intensity 2.0848e+06\tM+H@93.53858 prob=1.00\n",
        "\tfeature_id 667 file_id 3 mz 94.54566 RT 2463.71 intensity 2.3276e+05\tM+H@93.53838 prob=0.50\n",
        "168. avg m/z=81.5205380472 avg RT=2517.48999023 prob=1.0\n",
        "\tfeature_id 111 file_id 0 mz 81.52057 RT 2676.71 intensity 1.5732e+06\tM+H@80.51329 prob=1.00\n",
        "\tfeature_id 77 file_id 1 mz 81.52057 RT 2505.20 intensity 2.0188e+06\tM+H@80.51329 prob=1.00\n",
        "\tfeature_id 146 file_id 2 mz 81.52048 RT 2370.56 intensity 5.7037e+05\tM+H@80.51320 prob=1.00\n",
        "169. avg m/z=144.065401056 avg RT=724.43766276 prob=1.0\n",
        "\tfeature_id 492 file_id 1 mz 144.06531 RT 787.33 intensity 2.1803e+05\tM+H@143.05803 prob=1.00\n",
        "\tfeature_id 39 file_id 2 mz 144.06548 RT 561.95 intensity 2.5775e+06\tM+H@143.05821 prob=1.00\n",
        "\tfeature_id 719 file_id 3 mz 144.06541 RT 824.03 intensity 2.0692e+05\tM+H@143.05814 prob=1.00\n",
        "170. avg m/z=122.547012624 avg RT=2369.27502441 prob=1.0\n",
        "\tfeature_id 491 file_id 1 mz 122.54693 RT 2520.46 intensity 2.2138e+05\tM+H@121.53965 prob=0.50\n",
        "\tfeature_id 42 file_id 3 mz 122.54710 RT 2218.09 intensity 4.9163e+06\tM+H@121.53982 prob=0.50\n",
        "171. avg m/z=508.704172964 avg RT=752.038497925 prob=1.0\n",
        "\tfeature_id 841 file_id 0 mz 509.20558 RT 753.55 intensity 9.9473e+04\tM+HC13@507.19483 prob=0.52\n",
        "\tfeature_id 778 file_id 1 mz 509.20540 RT 749.84 intensity 1.0787e+05\tM+HC13@507.19473 prob=0.52\n",
        "\tfeature_id 342 file_id 2 mz 508.20295 RT 756.35 intensity 2.0671e+05\tM+H@507.19567 prob=1.00\n",
        "\tfeature_id 304 file_id 3 mz 508.20276 RT 748.40 intensity 5.6721e+05\tM+H@507.19549 prob=1.00\n",
        "172. avg m/z=151.035197376 avg RT=2483.04492188 prob=1.0\n",
        "\tfeature_id 347 file_id 0 mz 151.03514 RT 2293.70 intensity 3.7799e+05\tM+H@150.02786 prob=0.50\n",
        "\tfeature_id 519 file_id 3 mz 151.03526 RT 2672.39 intensity 3.1550e+05\tM+H@150.02798 prob=1.00\n",
        "173. avg m/z=175.105717949 avg RT=370.755004883 prob=1.0\n",
        "\tfeature_id 858 file_id 0 mz 175.10562 RT 376.43 intensity 9.5480e+04\tM+HC13@173.09505 prob=0.52\n",
        "\tfeature_id 703 file_id 2 mz 175.10581 RT 365.08 intensity 8.3667e+04\tM+HC13@173.09526 prob=0.52\n",
        "174. avg m/z=359.130301847 avg RT=832.122009277 prob=1.0\n",
        "\tfeature_id 732 file_id 0 mz 359.13011 RT 830.30 intensity 1.3102e+05\tM+H@358.12283 prob=1.00\n",
        "\tfeature_id 624 file_id 1 mz 359.13005 RT 832.16 intensity 1.5258e+05\tM+H@358.12277 prob=1.00\n",
        "\tfeature_id 581 file_id 2 mz 359.13055 RT 836.36 intensity 1.0741e+05\tM+H@358.12328 prob=1.00\n",
        "\tfeature_id 445 file_id 3 mz 359.13050 RT 829.67 intensity 3.7652e+05\tM+H@358.12322 prob=1.00\n",
        "175. avg m/z=238.070852063 avg RT=533.487996419 prob=1.0\n",
        "\tfeature_id 611 file_id 0 mz 238.07077 RT 540.22 intensity 1.7817e+05\tM+H@237.06350 prob=1.00\n",
        "\tfeature_id 550 file_id 1 mz 238.07074 RT 534.63 intensity 1.8610e+05\tM+H@237.06347 prob=1.00\n",
        "\tfeature_id 898 file_id 2 mz 238.07104 RT 525.61 intensity 5.5810e+04\tM+H@237.06376 prob=1.00\n",
        "176. avg m/z=141.958412607 avg RT=2452.90002441 prob=1.0\n",
        "\tfeature_id 848 file_id 0 mz 141.95840 RT 2630.08 intensity 9.7871e+04\tM+H@140.95113 prob=1.00\n",
        "\tfeature_id 982 file_id 1 mz 141.95842 RT 2275.72 intensity 6.6084e+04\tM+H@140.95115 prob=1.00\n",
        "177. avg m/z=319.135679246 avg RT=401.395004272 prob=1.0\n",
        "\tfeature_id 902 file_id 0 mz 319.13574 RT 402.32 intensity 8.7507e+04\tM+H@318.12846 prob=1.00\n",
        "\tfeature_id 858 file_id 1 mz 319.13562 RT 400.47 intensity 8.8192e+04\tM+H@318.12834 prob=1.00\n",
        "178. avg m/z=167.033762585 avg RT=352.372741699 prob=1.0\n",
        "\tfeature_id 342 file_id 0 mz 167.03368 RT 357.84 intensity 3.8355e+05\tM+H@166.02640 prob=1.00\n",
        "\tfeature_id 319 file_id 1 mz 167.03366 RT 357.91 intensity 3.7594e+05\tM+H@166.02638 prob=1.00\n",
        "\tfeature_id 143 file_id 2 mz 167.03386 RT 344.56 intensity 5.8453e+05\tM+H@166.02659 prob=1.00\n",
        "\tfeature_id 228 file_id 3 mz 167.03385 RT 349.17 intensity 8.4225e+05\tM+H@166.02657 prob=1.00\n",
        "179. avg m/z=348.098039458 avg RT=516.581003825 prob=1.0\n",
        "\tfeature_id 489 file_id 0 mz 348.09767 RT 537.23 intensity 2.3623e+05\tM+H@347.09039 prob=1.00\n",
        "\tfeature_id 672 file_id 2 mz 348.09824 RT 481.58 intensity 8.8653e+04\tM+H@347.09096 prob=1.00\n",
        "\tfeature_id 534 file_id 3 mz 348.09821 RT 530.93 intensity 3.0658e+05\tM+H@347.09093 prob=1.00\n",
        "180. avg m/z=804.042946363 avg RT=324.613510132 prob=1.0\n",
        "\tfeature_id 898 file_id 0 mz 804.54430 RT 199.07 intensity 8.8256e+04\tM+HC13@802.53370 prob=0.52\n",
        "\tfeature_id 739 file_id 1 mz 803.54160 RT 450.16 intensity 1.2004e+05\tM+H@802.53432 prob=1.00\n",
        "181. avg m/z=88.0631332209 avg RT=1607.10998535 prob=1.0\n",
        "\tfeature_id 742 file_id 2 mz 88.06314 RT 1609.38 intensity 7.6779e+04\tM+H@87.05586 prob=0.52\n",
        "\tfeature_id 526 file_id 3 mz 88.06313 RT 1604.84 intensity 3.1037e+05\tM+H@87.05585 prob=0.64\n",
        "182. avg m/z=137.045664374 avg RT=811.125747681 prob=1.0\n",
        "\tfeature_id 295 file_id 0 mz 137.04559 RT 908.62 intensity 4.6223e+05\tM+H@136.03831 prob=1.00\n",
        "\tfeature_id 321 file_id 1 mz 137.04556 RT 896.51 intensity 3.7294e+05\tM+H@136.03828 prob=1.00\n",
        "\tfeature_id 889 file_id 2 mz 137.04574 RT 560.43 intensity 5.7376e+04\tM+H@136.03846 prob=1.00\n",
        "\tfeature_id 157 file_id 3 mz 137.04577 RT 878.94 intensity 1.2303e+06\tM+H@136.03850 prob=1.00\n",
        "183. avg m/z=200.172328704 avg RT=314.147989909 prob=1.0\n",
        "\tfeature_id 819 file_id 0 mz 200.17225 RT 317.58 intensity 1.0522e+05\tM+H@199.16497 prob=0.53\n",
        "\tfeature_id 895 file_id 1 mz 200.17221 RT 314.70 intensity 8.1137e+04\tM+H@199.16493 prob=0.53\n",
        "\tfeature_id 278 file_id 2 mz 200.17253 RT 310.16 intensity 2.5684e+05\tM+H@199.16525 prob=0.53\n",
        "184. avg m/z=246.079933356 avg RT=540.898498535 prob=1.0\n",
        "\tfeature_id 559 file_id 2 mz 246.07994 RT 543.59 intensity 1.1240e+05\tM+H@245.07266 prob=0.53\n",
        "\tfeature_id 579 file_id 3 mz 246.07993 RT 538.21 intensity 2.8005e+05\tM+H@245.07265 prob=1.00\n",
        "185. avg m/z=104.030050109 avg RT=2067.97998047 prob=1.0\n",
        "\tfeature_id 980 file_id 1 mz 104.03002 RT 2009.50 intensity 6.6642e+04\tM+H@103.02274 prob=1.00\n",
        "\tfeature_id 187 file_id 2 mz 104.03008 RT 2126.46 intensity 4.5621e+05\tM+H@103.02281 prob=1.00\n",
        "186. avg m/z=296.196960637 avg RT=1906.20001221 prob=1.0\n",
        "\tfeature_id 622 file_id 2 mz 296.19693 RT 1906.66 intensity 9.9724e+04\tM+H@295.18966 prob=1.00\n",
        "\tfeature_id 229 file_id 3 mz 296.19699 RT 1905.74 intensity 8.3943e+05\tM+H@295.18971 prob=1.00\n",
        "187. avg m/z=177.102032043 avg RT=968.650497437 prob=1.0\n",
        "\tfeature_id 121 file_id 0 mz 177.10197 RT 969.27 intensity 1.4683e+06\tM+H@176.09469 prob=1.00\n",
        "\tfeature_id 108 file_id 1 mz 177.10194 RT 965.67 intensity 1.4440e+06\tM+H@176.09467 prob=1.00\n",
        "\tfeature_id 179 file_id 2 mz 177.10207 RT 993.30 intensity 4.9138e+05\tM+H@176.09480 prob=1.00\n",
        "\tfeature_id 363 file_id 3 mz 177.10214 RT 946.36 intensity 4.6436e+05\tM+H@176.09486 prob=1.00\n",
        "188. avg m/z=223.154005139 avg RT=355.164001465 prob=1.0\n",
        "\tfeature_id 324 file_id 2 mz 223.15401 RT 353.86 intensity 2.2333e+05\tM+H@222.14674 prob=1.00\n",
        "\tfeature_id 571 file_id 3 mz 223.15400 RT 356.46 intensity 2.8703e+05\tM+H@222.14672 prob=1.00\n",
        "189. avg m/z=79.0178939961 avg RT=2284.22509766 prob=1.0\n",
        "\tfeature_id 741 file_id 0 mz 79.01786 RT 2451.34 intensity 1.2824e+05\tM+H@78.01059 prob=1.00\n",
        "\tfeature_id 975 file_id 1 mz 79.01792 RT 2117.11 intensity 6.8156e+04\tM+H@78.01065 prob=1.00\n",
        "190. avg m/z=206.073633866 avg RT=792.881988525 prob=1.0\n",
        "\tfeature_id 970 file_id 0 mz 206.07366 RT 791.13 intensity 7.3272e+04\tM+H@205.06638 prob=0.70\n",
        "\tfeature_id 939 file_id 1 mz 206.07361 RT 794.63 intensity 7.2086e+04\tM+H@205.06633 prob=1.00\n",
        "191. avg m/z=117.138507019 avg RT=1992.91000366 prob=1.0\n",
        "\tfeature_id 267 file_id 0 mz 117.13846 RT 1971.19 intensity 5.0109e+05\tM+H@116.13118 prob=1.00\n",
        "\tfeature_id 216 file_id 1 mz 117.13843 RT 1973.78 intensity 5.7038e+05\tM+H@116.13116 prob=1.00\n",
        "\tfeature_id 141 file_id 2 mz 117.13858 RT 2014.91 intensity 6.0129e+05\tM+H@116.13131 prob=1.00\n",
        "\tfeature_id 109 file_id 3 mz 117.13856 RT 2011.76 intensity 2.0693e+06\tM+H@116.13128 prob=1.00\n",
        "192. avg m/z=472.145862054 avg RT=827.82749939 prob=1.0\n",
        "\tfeature_id 112 file_id 0 mz 472.14556 RT 830.30 intensity 1.5700e+06\tM+H@471.13828 prob=1.00\n",
        "\tfeature_id 89 file_id 1 mz 472.14548 RT 832.16 intensity 1.7566e+06\tM+H@471.13820 prob=1.00\n",
        "\tfeature_id 169 file_id 2 mz 472.14627 RT 830.46 intensity 5.1013e+05\tM+H@471.13899 prob=1.00\n",
        "\tfeature_id 282 file_id 3 mz 472.14614 RT 818.39 intensity 6.3176e+05\tM+H@471.13887 prob=1.00\n",
        "193. avg m/z=413.265629372 avg RT=289.06350708 prob=1.0\n",
        "\tfeature_id 422 file_id 0 mz 413.26549 RT 215.64 intensity 3.0161e+05\tM+H@412.25821 prob=1.00\n",
        "\tfeature_id 928 file_id 1 mz 413.26577 RT 362.49 intensity 7.4113e+04\tM+H@412.25849 prob=1.00\n",
        "194. avg m/z=393.136462815 avg RT=481.859741211 prob=1.0\n",
        "\tfeature_id 941 file_id 0 mz 393.13620 RT 537.23 intensity 7.8847e+04\tM+H@392.12893 prob=1.00\n",
        "\tfeature_id 435 file_id 1 mz 393.13610 RT 479.36 intensity 2.5585e+05\tM+H@392.12882 prob=1.00\n",
        "\tfeature_id 788 file_id 2 mz 393.13681 RT 455.03 intensity 6.9071e+04\tM+H@392.12953 prob=1.00\n",
        "\tfeature_id 912 file_id 3 mz 393.13674 RT 455.81 intensity 1.4376e+05\tM+H@392.12946 prob=1.00\n",
        "195. avg m/z=81.5205242319 avg RT=1986.05499268 prob=1.0\n",
        "\tfeature_id 190 file_id 0 mz 81.52053 RT 2010.76 intensity 7.6667e+05\tM+H@80.51326 prob=1.00\n",
        "\tfeature_id 195 file_id 1 mz 81.52051 RT 1961.35 intensity 6.4370e+05\tM+H@80.51324 prob=1.00\n",
        "196. avg m/z=141.958386382 avg RT=2632.23999023 prob=1.0\n",
        "\tfeature_id 804 file_id 0 mz 141.95838 RT 2690.74 intensity 1.0982e+05\tM+H@140.95111 prob=1.00\n",
        "\tfeature_id 652 file_id 1 mz 141.95839 RT 2573.74 intensity 1.4325e+05\tM+H@140.95111 prob=1.00\n",
        "197. avg m/z=104.052643615 avg RT=830.564005534 prob=1.0\n",
        "\tfeature_id 785 file_id 0 mz 104.05264 RT 827.45 intensity 1.1504e+05\tM+H@103.04536 prob=1.00\n",
        "\tfeature_id 768 file_id 1 mz 104.05261 RT 827.88 intensity 1.1151e+05\tM+H@103.04533 prob=1.00\n",
        "\tfeature_id 908 file_id 2 mz 104.05269 RT 836.36 intensity 5.4794e+04\tM+H@103.04541 prob=1.00\n",
        "198. avg m/z=151.035247427 avg RT=2266.84997559 prob=1.0\n",
        "\tfeature_id 35 file_id 2 mz 151.03525 RT 2069.99 intensity 2.7230e+06\tM+H@150.02797 prob=0.50\n",
        "\tfeature_id 392 file_id 3 mz 151.03525 RT 2463.71 intensity 4.2747e+05\tM+H@150.02797 prob=0.50\n",
        "199. avg m/z=372.185918349 avg RT=787.026000977 prob=1.0\n",
        "\tfeature_id 780 file_id 0 mz 372.18601 RT 786.73 intensity 1.1671e+05\tM+H@371.17873 prob=1.00\n",
        "\tfeature_id 718 file_id 1 mz 372.18583 RT 787.33 intensity 1.2585e+05\tM+H@371.17855 prob=1.00\n",
        "200. avg m/z=233.06288948 avg RT=753.063985189 prob=1.0\n",
        "\tfeature_id 826 file_id 0 mz 233.06281 RT 741.38 intensity 1.0383e+05\tM+H@232.05553 prob=1.00\n",
        "\tfeature_id 776 file_id 1 mz 233.06276 RT 769.49 intensity 1.0798e+05\tM+H@232.05548 prob=1.00\n",
        "\tfeature_id 973 file_id 2 mz 233.06310 RT 748.33 intensity 4.7955e+04\tM+H@232.05582 prob=1.00\n",
        "201. avg m/z=538.172662838 avg RT=615.20098877 prob=1.0\n",
        "\tfeature_id 564 file_id 2 mz 538.17278 RT 617.39 intensity 1.1155e+05\tM+HC13@536.16183 prob=0.54\n",
        "\tfeature_id 561 file_id 3 mz 538.17254 RT 613.01 intensity 2.9475e+05\tM+HC13@536.16175 prob=0.53\n",
        "202. avg m/z=213.018102855 avg RT=2426.2800293 prob=1.0\n",
        "\tfeature_id 930 file_id 2 mz 213.01807 RT 2630.00 intensity 5.2675e+04\tM+H@212.01080 prob=1.00\n",
        "\tfeature_id 767 file_id 3 mz 213.01813 RT 2222.56 intensity 1.8908e+05\tM+H@212.01085 prob=1.00\n",
        "203. avg m/z=81.5205511008 avg RT=2564.27001953 prob=1.0\n",
        "\tfeature_id 100 file_id 0 mz 81.52057 RT 2737.45 intensity 1.6792e+06\tM+H@80.51330 prob=1.00\n",
        "\tfeature_id 73 file_id 1 mz 81.52057 RT 2450.32 intensity 2.0849e+06\tM+H@80.51329 prob=1.00\n",
        "\tfeature_id 185 file_id 2 mz 81.52051 RT 2505.04 intensity 4.5828e+05\tM+H@80.51324 prob=1.00\n",
        "204. avg m/z=158.002709356 avg RT=32.4681997299 prob=1.0\n",
        "\tfeature_id 425 file_id 0 mz 158.00263 RT 23.68 intensity 2.9981e+05\tM+H@156.99536 prob=1.00\n",
        "\tfeature_id 356 file_id 1 mz 158.00259 RT 65.65 intensity 3.2942e+05\tM+H@156.99532 prob=1.00\n",
        "\tfeature_id 462 file_id 2 mz 158.00280 RT 19.36 intensity 1.4155e+05\tM+H@156.99553 prob=1.00\n",
        "\tfeature_id 681 file_id 3 mz 158.00281 RT 21.18 intensity 2.2611e+05\tM+H@156.99553 prob=1.00\n",
        "205. avg m/z=79.0178176333 avg RT=42.3997497559 prob=1.0\n",
        "\tfeature_id 705 file_id 0 mz 79.01783 RT 38.86 intensity 1.3862e+05\tM+H@78.01056 prob=1.00\n",
        "\tfeature_id 656 file_id 1 mz 79.01780 RT 45.94 intensity 1.4223e+05\tM+H@78.01053 prob=1.00\n",
        "206. avg m/z=205.09699002 avg RT=790.731002808 prob=1.0\n",
        "\tfeature_id 28 file_id 0 mz 205.09689 RT 786.73 intensity 3.6199e+06\tM+H@204.08962 prob=1.00\n",
        "\tfeature_id 28 file_id 1 mz 205.09687 RT 788.79 intensity 3.8366e+06\tM+H@204.08959 prob=1.00\n",
        "\tfeature_id 67 file_id 2 mz 205.09709 RT 796.43 intensity 1.3145e+06\tM+H@204.08982 prob=1.00\n",
        "\tfeature_id 81 file_id 3 mz 205.09710 RT 790.97 intensity 2.6296e+06\tM+H@204.08982 prob=1.00\n",
        "207. avg m/z=141.958396109 avg RT=2520.05993652 prob=1.0\n",
        "\tfeature_id 844 file_id 0 mz 141.95840 RT 2518.13 intensity 9.8491e+04\tM+H@140.95112 prob=1.00\n",
        "\tfeature_id 667 file_id 1 mz 141.95839 RT 2521.99 intensity 1.3828e+05\tM+H@140.95112 prob=1.00\n",
        "208. avg m/z=124.039244714 avg RT=451.505500793 prob=1.0\n",
        "\tfeature_id 19 file_id 0 mz 124.03918 RT 455.39 intensity 4.7670e+06\tM+H@123.03190 prob=1.00\n",
        "\tfeature_id 22 file_id 1 mz 124.03916 RT 454.77 intensity 4.7185e+06\tM+H@123.03189 prob=1.00\n",
        "\tfeature_id 18 file_id 2 mz 124.03931 RT 448.75 intensity 4.2116e+06\tM+H@123.03204 prob=1.00\n",
        "\tfeature_id 37 file_id 3 mz 124.03932 RT 447.11 intensity 5.5483e+06\tM+H@123.03205 prob=1.00\n",
        "209. avg m/z=101.096014451 avg RT=36.316649437 prob=1.0\n",
        "\tfeature_id 830 file_id 0 mz 101.09602 RT 26.69 intensity 1.0234e+05\tM+H@100.08874 prob=1.00\n",
        "\tfeature_id 865 file_id 1 mz 101.09601 RT 45.94 intensity 8.6433e+04\tM+H@100.08873 prob=1.00\n",
        "210. avg m/z=84.0443869935 avg RT=562.887674967 prob=1.0\n",
        "\tfeature_id 805 file_id 1 mz 84.04438 RT 569.83 intensity 1.0224e+05\tM+H@83.03711 prob=1.00\n",
        "\tfeature_id 657 file_id 2 mz 84.04439 RT 563.47 intensity 9.2506e+04\tM+H@83.03711 prob=1.00\n",
        "\tfeature_id 863 file_id 3 mz 84.04439 RT 555.36 intensity 1.5991e+05\tM+H@83.03712 prob=1.00\n",
        "211. avg m/z=198.002679308 avg RT=816.661514282 prob=1.0\n",
        "\tfeature_id 179 file_id 0 mz 198.00264 RT 820.30 intensity 8.2133e+05\tM+H@196.99537 prob=1.00\n",
        "\tfeature_id 133 file_id 1 mz 198.00262 RT 810.67 intensity 1.1052e+06\tM+H@196.99534 prob=1.00\n",
        "\tfeature_id 101 file_id 2 mz 198.00274 RT 820.12 intensity 8.6597e+05\tM+H@196.99546 prob=1.00\n",
        "\tfeature_id 160 file_id 3 mz 198.00271 RT 815.56 intensity 1.1797e+06\tM+H@196.99544 prob=1.00\n",
        "212. avg m/z=122.547041159 avg RT=2279.22998047 prob=1.0\n",
        "\tfeature_id 224 file_id 1 mz 122.54698 RT 2432.00 intensity 5.4922e+05\tM+H@121.53970 prob=0.50\n",
        "\tfeature_id 7 file_id 2 mz 122.54711 RT 2126.46 intensity 6.5476e+06\tM+H@121.53983 prob=0.50\n",
        "213. avg m/z=111.02007344 avg RT=2022.08999634 prob=1.0\n",
        "\tfeature_id 617 file_id 0 mz 111.02006 RT 2017.04 intensity 1.7704e+05\tM+H@110.01278 prob=1.00\n",
        "\tfeature_id 576 file_id 1 mz 111.02004 RT 2014.12 intensity 1.7238e+05\tM+H@110.01276 prob=1.00\n",
        "\tfeature_id 381 file_id 2 mz 111.02013 RT 2045.44 intensity 1.7796e+05\tM+H@110.01286 prob=1.00\n",
        "\tfeature_id 297 file_id 3 mz 111.02007 RT 2011.76 intensity 5.9154e+05\tM+H@110.01279 prob=1.00\n",
        "214. avg m/z=124.086829729 avg RT=614.884994507 prob=1.0\n",
        "\tfeature_id 604 file_id 1 mz 124.08677 RT 797.55 intensity 1.6179e+05\tM+H@123.07950 prob=1.00\n",
        "\tfeature_id 574 file_id 2 mz 124.08689 RT 432.22 intensity 1.0963e+05\tM+H@123.07961 prob=1.00\n",
        "215. avg m/z=82.5370912622 avg RT=2540.73010254 prob=1.0\n",
        "\tfeature_id 740 file_id 0 mz 82.53708 RT 2451.34 intensity 1.2878e+05\tM+H@81.52981 prob=1.00\n",
        "\tfeature_id 722 file_id 1 mz 82.53710 RT 2630.12 intensity 1.2392e+05\tM+H@81.52982 prob=1.00\n",
        "216. avg m/z=82.5370890043 avg RT=2471.29992676 prob=1.0\n",
        "\tfeature_id 739 file_id 0 mz 82.53709 RT 2592.70 intensity 1.2939e+05\tM+H@81.52981 prob=1.00\n",
        "\tfeature_id 824 file_id 1 mz 82.53709 RT 2349.90 intensity 9.7692e+04\tM+H@81.52981 prob=1.00\n",
        "217. avg m/z=120.065407378 avg RT=1047.32250977 prob=1.0\n",
        "\tfeature_id 137 file_id 0 mz 120.06534 RT 1050.11 intensity 1.1981e+06\tM+H@119.05807 prob=1.00\n",
        "\tfeature_id 130 file_id 1 mz 120.06533 RT 1043.24 intensity 1.1606e+06\tM+H@119.05805 prob=1.00\n",
        "\tfeature_id 82 file_id 2 mz 120.06546 RT 1054.04 intensity 1.0571e+06\tM+H@119.05818 prob=1.00\n",
        "\tfeature_id 90 file_id 3 mz 120.06551 RT 1041.90 intensity 2.3966e+06\tM+H@119.05823 prob=1.00\n",
        "218. avg m/z=125.986144547 avg RT=2712.47247314 prob=1.0\n",
        "\tfeature_id 337 file_id 0 mz 125.98610 RT 2752.90 intensity 3.8511e+05\tM+H@124.97882 prob=1.00\n",
        "\tfeature_id 322 file_id 1 mz 125.98608 RT 2753.18 intensity 3.7167e+05\tM+H@124.97881 prob=1.00\n",
        "\tfeature_id 396 file_id 2 mz 125.98617 RT 2561.09 intensity 1.7110e+05\tM+H@124.97890 prob=1.00\n",
        "\tfeature_id 365 file_id 3 mz 125.98622 RT 2782.72 intensity 4.6099e+05\tM+H@124.97895 prob=1.00\n",
        "219. avg m/z=125.986158264 avg RT=2143.17004395 prob=1.0\n",
        "\tfeature_id 596 file_id 2 mz 125.98616 RT 2057.81 intensity 1.0548e+05\tM+H@124.97888 prob=1.00\n",
        "\tfeature_id 171 file_id 3 mz 125.98616 RT 2228.53 intensity 1.0710e+06\tM+H@124.97888 prob=1.00\n",
        "220. avg m/z=122.546992131 avg RT=2495.31005859 prob=1.0\n",
        "\tfeature_id 692 file_id 0 mz 122.54693 RT 2609.81 intensity 1.4157e+05\tM+H@121.53965 prob=0.50\n",
        "\tfeature_id 368 file_id 1 mz 122.54695 RT 2482.34 intensity 3.1441e+05\tM+H@121.53967 prob=0.50\n",
        "\tfeature_id 96 file_id 3 mz 122.54710 RT 2393.78 intensity 2.3329e+06\tM+H@121.53983 prob=0.50\n",
        "221. avg m/z=240.180488069 avg RT=351.405487061 prob=1.0\n",
        "\tfeature_id 173 file_id 2 mz 240.18050 RT 350.73 intensity 5.0298e+05\tM+H@239.17322 prob=1.00\n",
        "\tfeature_id 324 file_id 3 mz 240.18047 RT 352.08 intensity 5.2503e+05\tM+H@239.17320 prob=1.00\n",
        "222. avg m/z=465.169028229 avg RT=711.177001953 prob=1.0\n",
        "\tfeature_id 727 file_id 0 mz 465.16863 RT 714.75 intensity 1.3246e+05\tM+H@464.16135 prob=1.00\n",
        "\tfeature_id 612 file_id 1 mz 465.16857 RT 712.76 intensity 1.5705e+05\tM+H@464.16129 prob=1.00\n",
        "\tfeature_id 674 file_id 2 mz 465.16945 RT 712.50 intensity 8.8306e+04\tM+H@464.16217 prob=1.00\n",
        "\tfeature_id 650 file_id 3 mz 465.16947 RT 704.70 intensity 2.4002e+05\tM+H@464.16219 prob=1.00\n",
        "223. avg m/z=100.085119582 avg RT=820.300491333 prob=1.0\n",
        "\tfeature_id 864 file_id 0 mz 100.08509 RT 818.87 intensity 9.4392e+04\tM+H@99.07781 prob=1.00\n",
        "\tfeature_id 774 file_id 1 mz 100.08513 RT 816.46 intensity 1.0831e+05\tM+H@99.07785 prob=1.00\n",
        "\tfeature_id 588 file_id 2 mz 100.08506 RT 826.07 intensity 1.0603e+05\tM+H@99.07778 prob=1.00\n",
        "\tfeature_id 785 file_id 3 mz 100.08520 RT 819.80 intensity 1.8401e+05\tM+H@99.07793 prob=1.00\n",
        "224. avg m/z=82.0222379395 avg RT=2545.18994141 prob=1.0\n",
        "\tfeature_id 802 file_id 0 mz 82.02224 RT 2737.45 intensity 1.0996e+05\tM+H@81.01497 prob=1.00\n",
        "\tfeature_id 648 file_id 1 mz 82.02223 RT 2352.93 intensity 1.4398e+05\tM+H@81.01496 prob=1.00\n",
        "225. avg m/z=104.030056609 avg RT=1988.70495605 prob=1.0\n",
        "\tfeature_id 989 file_id 1 mz 104.03000 RT 1975.34 intensity 6.5302e+04\tM+H@103.02272 prob=1.00\n",
        "\tfeature_id 876 file_id 2 mz 104.03011 RT 2002.07 intensity 5.8926e+04\tM+H@103.02284 prob=1.00\n",
        "226. avg m/z=155.042293329 avg RT=1118.09002686 prob=1.0\n",
        "\tfeature_id 993 file_id 0 mz 155.04231 RT 1123.79 intensity 6.8345e+04\tM+H@154.03503 prob=1.00\n",
        "\tfeature_id 914 file_id 1 mz 155.04228 RT 1112.39 intensity 7.6084e+04\tM+H@154.03500 prob=0.53\n",
        "227. avg m/z=384.098194998 avg RT=254.949989319 prob=1.0\n",
        "\tfeature_id 701 file_id 2 mz 384.09829 RT 253.85 intensity 8.3960e+04\tM+HC13@382.08778 prob=0.52\n",
        "\tfeature_id 721 file_id 3 mz 384.09810 RT 256.05 intensity 2.0490e+05\tM+HC13@382.08763 prob=0.52\n",
        "228. avg m/z=127.050075066 avg RT=419.238998413 prob=1.0\n",
        "\tfeature_id 130 file_id 0 mz 127.04999 RT 425.18 intensity 1.3089e+06\tM+H@126.04272 prob=1.00\n",
        "\tfeature_id 115 file_id 1 mz 127.04997 RT 423.23 intensity 1.3779e+06\tM+H@126.04269 prob=1.00\n",
        "\tfeature_id 97 file_id 2 mz 127.05015 RT 414.02 intensity 8.8863e+05\tM+H@126.04287 prob=1.00\n",
        "\tfeature_id 146 file_id 3 mz 127.05019 RT 414.53 intensity 1.3143e+06\tM+H@126.04291 prob=1.00\n",
        "229. avg m/z=369.350866739 avg RT=311.335006714 prob=1.0\n",
        "\tfeature_id 751 file_id 0 mz 369.35090 RT 314.36 intensity 1.2530e+05\tM+H@368.34362 prob=1.00\n",
        "\tfeature_id 665 file_id 1 mz 369.35084 RT 308.31 intensity 1.3899e+05\tM+H@368.34356 prob=1.00\n",
        "230. avg m/z=141.958396926 avg RT=2583.18994141 prob=1.0\n",
        "\tfeature_id 846 file_id 0 mz 141.95840 RT 2661.18 intensity 9.7946e+04\tM+H@140.95112 prob=1.00\n",
        "\tfeature_id 693 file_id 1 mz 141.95840 RT 2505.20 intensity 1.3260e+05\tM+H@140.95112 prob=1.00\n",
        "231. avg m/z=141.958386879 avg RT=2532.73510742 prob=1.0\n",
        "\tfeature_id 948 file_id 0 mz 141.95840 RT 2412.61 intensity 7.6718e+04\tM+H@140.95113 prob=1.00\n",
        "\tfeature_id 630 file_id 1 mz 141.95837 RT 2652.86 intensity 1.5064e+05\tM+H@140.95109 prob=1.00\n",
        "232. avg m/z=330.059619904 avg RT=913.939483643 prob=1.0\n",
        "\tfeature_id 136 file_id 0 mz 330.05932 RT 923.81 intensity 1.2157e+06\tM+H@329.05205 prob=1.00\n",
        "\tfeature_id 125 file_id 1 mz 330.05929 RT 919.19 intensity 1.1830e+06\tM+H@329.05201 prob=1.00\n",
        "\tfeature_id 86 file_id 2 mz 330.05994 RT 907.80 intensity 1.0323e+06\tM+H@329.05266 prob=1.00\n",
        "\tfeature_id 73 file_id 3 mz 330.05992 RT 904.96 intensity 3.0964e+06\tM+H@329.05265 prob=1.00\n",
        "233. avg m/z=258.611758853 avg RT=1191.69000244 prob=1.0\n",
        "\tfeature_id 969 file_id 2 mz 259.11334 RT 1199.21 intensity 4.8511e+04\tM+HC13@257.10290 prob=0.54\n",
        "\tfeature_id 62 file_id 3 mz 258.11018 RT 1184.17 intensity 3.8100e+06\tM+H@257.10290 prob=1.00\n",
        "234. avg m/z=299.099806294 avg RT=597.024505615 prob=1.0\n",
        "\tfeature_id 161 file_id 1 mz 299.09965 RT 599.15 intensity 8.2056e+05\tM+HC13@297.08918 prob=0.52\n",
        "\tfeature_id 140 file_id 2 mz 299.09997 RT 594.90 intensity 6.1453e+05\tM+HC13@297.08972 prob=0.52\n",
        "235. avg m/z=81.5205380469 avg RT=2513.80330404 prob=1.0\n",
        "\tfeature_id 78 file_id 0 mz 81.52057 RT 2421.91 intensity 2.1245e+06\tM+H@80.51330 prob=1.00\n",
        "\tfeature_id 97 file_id 1 mz 81.52056 RT 2737.97 intensity 1.6417e+06\tM+H@80.51329 prob=1.00\n",
        "\tfeature_id 148 file_id 2 mz 81.52048 RT 2381.53 intensity 5.6555e+05\tM+H@80.51320 prob=1.00\n",
        "236. avg m/z=322.149599254 avg RT=807.356994629 prob=1.0\n",
        "\tfeature_id 978 file_id 2 mz 322.14958 RT 810.67 intensity 4.7300e+04\tM+H@321.14230 prob=1.00\n",
        "\tfeature_id 638 file_id 3 mz 322.14962 RT 804.04 intensity 2.4479e+05\tM+H@321.14234 prob=1.00\n",
        "237. avg m/z=72.0808151642 avg RT=885.779998779 prob=1.0\n",
        "\tfeature_id 231 file_id 0 mz 72.08078 RT 893.41 intensity 5.7342e+05\tM+H@71.07351 prob=1.00\n",
        "\tfeature_id 267 file_id 1 mz 72.08077 RT 893.56 intensity 4.6014e+05\tM+H@71.07349 prob=1.00\n",
        "\tfeature_id 177 file_id 2 mz 72.08085 RT 890.15 intensity 4.9213e+05\tM+H@71.07357 prob=1.00\n",
        "\tfeature_id 374 file_id 3 mz 72.08086 RT 866.00 intensity 4.5038e+05\tM+H@71.07359 prob=1.00\n",
        "238. avg m/z=102.535347292 avg RT=1976.17501831 prob=1.0\n",
        "\tfeature_id 88 file_id 0 mz 102.53538 RT 2111.30 intensity 1.8397e+06\tM+H@101.52810 prob=0.50\n",
        "\tfeature_id 482 file_id 1 mz 102.53526 RT 1873.94 intensity 2.2596e+05\tM+H@101.52799 prob=0.50\n",
        "\tfeature_id 296 file_id 2 mz 102.53537 RT 2024.54 intensity 2.4487e+05\tM+H@101.52810 prob=0.50\n",
        "\tfeature_id 510 file_id 3 mz 102.53537 RT 1894.92 intensity 3.2102e+05\tM+H@101.52809 prob=0.50\n",
        "239. avg m/z=185.023240028 avg RT=2385.36499023 prob=1.0\n",
        "\tfeature_id 722 file_id 2 mz 185.02322 RT 2546.68 intensity 7.9856e+04\tM+H@184.01594 prob=1.00\n",
        "\tfeature_id 975 file_id 3 mz 185.02326 RT 2224.05 intensity 1.2800e+05\tM+H@184.01598 prob=1.00\n",
        "240. avg m/z=125.986100782 avg RT=59.6512680054 prob=1.0\n",
        "\tfeature_id 382 file_id 0 mz 125.98609 RT 55.76 intensity 3.4094e+05\tM+H@124.97881 prob=1.00\n",
        "\tfeature_id 359 file_id 1 mz 125.98604 RT 56.54 intensity 3.2420e+05\tM+H@124.97877 prob=1.00\n",
        "\tfeature_id 552 file_id 2 mz 125.98617 RT 66.65 intensity 1.1396e+05\tM+H@124.97890 prob=1.00\n",
        "241. avg m/z=245.135936891 avg RT=352.914489746 prob=1.0\n",
        "\tfeature_id 118 file_id 2 mz 245.13595 RT 352.29 intensity 7.8592e+05\tM+H@244.12867 prob=1.00\n",
        "\tfeature_id 233 file_id 3 mz 245.13593 RT 353.54 intensity 8.2391e+05\tM+H@244.12865 prob=1.00\n",
        "242. avg m/z=134.057174821 avg RT=1795.15002441 prob=1.0\n",
        "\tfeature_id 664 file_id 1 mz 134.05710 RT 1767.17 intensity 1.3919e+05\tM+H@133.04982 prob=0.83\n",
        "\tfeature_id 598 file_id 2 mz 134.05723 RT 1813.73 intensity 1.0459e+05\tM+H@133.04996 prob=0.67\n",
        "\tfeature_id 504 file_id 3 mz 134.05720 RT 1804.55 intensity 3.2589e+05\tM+H@133.04992 prob=1.00\n",
        "243. avg m/z=137.06486159 avg RT=900.434997559 prob=1.0\n",
        "\tfeature_id 726 file_id 0 mz 137.06480 RT 898.00 intensity 1.3261e+05\tM+H@136.05753 prob=0.52\n",
        "\tfeature_id 734 file_id 1 mz 137.06478 RT 899.55 intensity 1.2077e+05\tM+H@136.05751 prob=1.00\n",
        "\tfeature_id 361 file_id 2 mz 137.06493 RT 909.38 intensity 1.9218e+05\tM+H@136.05765 prob=0.53\n",
        "\tfeature_id 876 file_id 3 mz 137.06493 RT 894.80 intensity 1.5659e+05\tM+H@136.05766 prob=0.52\n",
        "244. avg m/z=141.958395572 avg RT=2537.875 prob=1.0\n",
        "\tfeature_id 857 file_id 0 mz 141.95838 RT 2759.12 intensity 9.5750e+04\tM+H@140.95110 prob=1.00\n",
        "\tfeature_id 960 file_id 1 mz 141.95841 RT 2316.63 intensity 6.9453e+04\tM+H@140.95114 prob=1.00\n",
        "245. avg m/z=167.012729506 avg RT=2075.99666341 prob=1.0\n",
        "\tfeature_id 117 file_id 1 mz 167.01265 RT 2355.98 intensity 1.3075e+06\tM+H@166.00537 prob=1.00\n",
        "\tfeature_id 134 file_id 2 mz 167.01278 RT 1997.26 intensity 6.5853e+05\tM+H@166.00550 prob=1.00\n",
        "\tfeature_id 208 file_id 3 mz 167.01276 RT 1874.75 intensity 9.2525e+05\tM+H@166.00548 prob=1.00\n",
        "246. avg m/z=94.0650778522 avg RT=612.621002197 prob=1.0\n",
        "\tfeature_id 159 file_id 0 mz 94.06504 RT 612.23 intensity 9.9808e+05\tM+H@93.05776 prob=1.00\n",
        "\tfeature_id 147 file_id 1 mz 94.06501 RT 608.09 intensity 9.1371e+05\tM+H@93.05774 prob=1.00\n",
        "\tfeature_id 120 file_id 2 mz 94.06512 RT 614.27 intensity 7.6857e+05\tM+H@93.05784 prob=1.00\n",
        "\tfeature_id 319 file_id 3 mz 94.06514 RT 615.89 intensity 5.3412e+05\tM+H@93.05787 prob=1.00\n",
        "247. avg m/z=213.018117009 avg RT=2353.57495117 prob=1.0\n",
        "\tfeature_id 637 file_id 2 mz 213.01812 RT 2408.26 intensity 9.6482e+04\tM+H@212.01085 prob=1.00\n",
        "\tfeature_id 887 file_id 3 mz 213.01811 RT 2298.89 intensity 1.5088e+05\tM+H@212.01083 prob=1.00\n",
        "248. avg m/z=102.091162376 avg RT=2.97925502062 prob=1.0\n",
        "\tfeature_id 46 file_id 0 mz 102.09116 RT  4.42 intensity 2.6865e+06\tM+H@101.08389 prob=1.00\n",
        "\tfeature_id 29 file_id 1 mz 102.09116 RT  1.54 intensity 3.8221e+06\tM+H@101.08388 prob=1.00\n",
        "249. avg m/z=141.958410087 avg RT=2414.68005371 prob=1.0\n",
        "\tfeature_id 908 file_id 0 mz 141.95841 RT 2485.51 intensity 8.6815e+04\tM+H@140.95114 prob=1.00\n",
        "\tfeature_id 912 file_id 1 mz 141.95841 RT 2343.85 intensity 7.6607e+04\tM+H@140.95113 prob=1.00\n",
        "250. avg m/z=123.048648125 avg RT=2225.77502441 prob=1.0\n",
        "\tfeature_id 546 file_id 1 mz 123.04862 RT 2233.46 intensity 1.8870e+05\tM+H@122.04134 prob=1.00\n",
        "\tfeature_id 318 file_id 3 mz 123.04868 RT 2218.09 intensity 5.3463e+05\tM+H@122.04140 prob=1.00\n",
        "251. avg m/z=222.097082653 avg RT=807.09197998 prob=1.0\n",
        "\tfeature_id 282 file_id 1 mz 222.09685 RT 709.64 intensity 4.3597e+05\tM+H@221.08958 prob=1.00\n",
        "\tfeature_id 365 file_id 2 mz 222.09715 RT 1003.98 intensity 1.8829e+05\tM+H@221.08988 prob=1.00\n",
        "\tfeature_id 152 file_id 3 mz 222.09724 RT 707.65 intensity 1.2550e+06\tM+H@221.08996 prob=1.00\n",
        "252. avg m/z=208.081482157 avg RT=1078.39001465 prob=1.0\n",
        "\tfeature_id 927 file_id 2 mz 208.08142 RT 1086.03 intensity 5.3059e+04\tM+H@207.07414 prob=1.00\n",
        "\tfeature_id 243 file_id 3 mz 208.08155 RT 1070.75 intensity 7.7905e+05\tM+H@207.07427 prob=1.00\n",
        "253. avg m/z=104.030066662 avg RT=2406.27496338 prob=1.0\n",
        "\tfeature_id 803 file_id 0 mz 104.03005 RT 2400.22 intensity 1.0991e+05\tM+H@103.02277 prob=1.00\n",
        "\tfeature_id 933 file_id 1 mz 104.03003 RT 2485.38 intensity 7.3378e+04\tM+H@103.02275 prob=1.00\n",
        "\tfeature_id 633 file_id 2 mz 104.03009 RT 2425.61 intensity 9.7289e+04\tM+H@103.02281 prob=1.00\n",
        "\tfeature_id 663 file_id 3 mz 104.03010 RT 2313.89 intensity 2.3524e+05\tM+H@103.02282 prob=1.00\n",
        "254. avg m/z=127.050106402 avg RT=975.154495239 prob=1.0\n",
        "\tfeature_id 75 file_id 0 mz 127.05003 RT 972.44 intensity 2.1382e+06\tM+H@126.04275 prob=1.00\n",
        "\tfeature_id 70 file_id 1 mz 127.05001 RT 970.42 intensity 2.1467e+06\tM+H@126.04273 prob=1.00\n",
        "\tfeature_id 45 file_id 2 mz 127.05020 RT 996.34 intensity 2.2822e+06\tM+H@126.04292 prob=1.00\n",
        "\tfeature_id 48 file_id 3 mz 127.05019 RT 961.42 intensity 4.6050e+06\tM+H@126.04291 prob=1.00\n",
        "255. avg m/z=145.068581273 avg RT=470.218505859 prob=1.0\n",
        "\tfeature_id 997 file_id 0 mz 145.06858 RT 376.43 intensity 6.7729e+04\tM+HC13@143.05806 prob=0.52\n",
        "\tfeature_id 493 file_id 1 mz 145.06858 RT 564.01 intensity 2.1737e+05\tM+HC13@143.05807 prob=0.52\n",
        "256. avg m/z=116.10688501 avg RT=344.366744995 prob=1.0\n",
        "\tfeature_id 685 file_id 0 mz 116.10682 RT 344.17 intensity 1.4444e+05\tM+H@115.09955 prob=1.00\n",
        "\tfeature_id 835 file_id 1 mz 116.10681 RT 345.78 intensity 9.3529e+04\tM+H@115.09953 prob=1.00\n",
        "\tfeature_id 463 file_id 2 mz 116.10694 RT 338.35 intensity 1.4155e+05\tM+H@115.09966 prob=1.00\n",
        "\tfeature_id 484 file_id 3 mz 116.10697 RT 349.17 intensity 3.4381e+05\tM+H@115.09969 prob=1.00\n",
        "257. avg m/z=144.065434137 avg RT=706.088663737 prob=1.0\n",
        "\tfeature_id 353 file_id 1 mz 144.06533 RT 826.46 intensity 3.3411e+05\tM+H@143.05805 prob=1.00\n",
        "\tfeature_id 965 file_id 2 mz 144.06546 RT 736.45 intensity 4.8909e+04\tM+H@143.05818 prob=1.00\n",
        "\tfeature_id 46 file_id 3 mz 144.06551 RT 555.36 intensity 4.6439e+06\tM+H@143.05824 prob=1.00\n",
        "258. avg m/z=702.861963889 avg RT=1261.91998291 prob=1.0\n",
        "\tfeature_id 913 file_id 2 mz 702.86221 RT 1280.36 intensity 5.3897e+04\tM+H@701.85494 prob=1.00\n",
        "\tfeature_id 982 file_id 3 mz 702.86171 RT 1243.48 intensity 1.2677e+05\tM+H@701.85444 prob=1.00\n",
        "259. avg m/z=125.986165226 avg RT=2235.19494629 prob=1.0\n",
        "\tfeature_id 180 file_id 0 mz 125.98614 RT 2270.66 intensity 8.0722e+05\tM+H@124.97887 prob=1.00\n",
        "\tfeature_id 40 file_id 1 mz 125.98619 RT 2127.40 intensity 3.0844e+06\tM+H@124.97891 prob=1.00\n",
        "\tfeature_id 201 file_id 2 mz 125.98617 RT 2269.33 intensity 4.0672e+05\tM+H@124.97889 prob=1.00\n",
        "\tfeature_id 204 file_id 3 mz 125.98616 RT 2273.39 intensity 9.4035e+05\tM+H@124.97888 prob=1.00\n",
        "260. avg m/z=95.043839099 avg RT=1991.23498535 prob=1.0\n",
        "\tfeature_id 480 file_id 0 mz 95.04387 RT 2121.68 intensity 2.4653e+05\tM+H@94.03659 prob=1.00\n",
        "\tfeature_id 795 file_id 3 mz 95.04381 RT 1860.79 intensity 1.8122e+05\tM+H@94.03653 prob=0.50\n",
        "261. avg m/z=74.5305938982 avg RT=2061.10253906 prob=1.0\n",
        "\tfeature_id 461 file_id 0 mz 74.53058 RT 2053.81 intensity 2.6605e+05\tM+H@73.52331 prob=1.00\n",
        "\tfeature_id 444 file_id 1 mz 74.53057 RT 2056.35 intensity 2.4730e+05\tM+H@73.52330 prob=1.00\n",
        "\tfeature_id 789 file_id 2 mz 74.53061 RT 2074.57 intensity 6.8967e+04\tM+H@73.52334 prob=1.00\n",
        "\tfeature_id 886 file_id 3 mz 74.53060 RT 2059.68 intensity 1.5187e+05\tM+H@73.52333 prob=1.00\n",
        "262. avg m/z=419.151834148 avg RT=829.386016846 prob=1.0\n",
        "\tfeature_id 932 file_id 2 mz 419.15186 RT 831.92 intensity 5.2398e+04\tM+H@418.14458 prob=1.00\n",
        "\tfeature_id 609 file_id 3 mz 419.15181 RT 826.85 intensity 2.6147e+05\tM+H@418.14453 prob=1.00\n",
        "263. avg m/z=114.558302522 avg RT=2154.91253662 prob=1.0\n",
        "\tfeature_id 446 file_id 0 mz 114.55825 RT 2035.55 intensity 2.7681e+05\tM+H@113.55097 prob=1.00\n",
        "\tfeature_id 927 file_id 1 mz 114.55828 RT 2154.07 intensity 7.4118e+04\tM+H@113.55101 prob=1.00\n",
        "\tfeature_id 294 file_id 2 mz 114.55833 RT 2177.62 intensity 2.4606e+05\tM+H@113.55105 prob=1.00\n",
        "\tfeature_id 529 file_id 3 mz 114.55835 RT 2252.41 intensity 3.0919e+05\tM+H@113.55108 prob=0.66\n",
        "264. avg m/z=136.061707436 avg RT=824.545501709 prob=1.0\n",
        "\tfeature_id 517 file_id 0 mz 136.06166 RT 600.29 intensity 2.1543e+05\tM+H@135.05439 prob=1.00\n",
        "\tfeature_id 52 file_id 1 mz 136.06160 RT 893.56 intensity 2.6339e+06\tM+H@135.05432 prob=1.00\n",
        "\tfeature_id 21 file_id 2 mz 136.06176 RT 910.97 intensity 3.7301e+06\tM+H@135.05448 prob=1.00\n",
        "\tfeature_id 69 file_id 3 mz 136.06181 RT 893.36 intensity 3.2939e+06\tM+H@135.05453 prob=1.00\n",
        "265. avg m/z=133.075959675 avg RT=745.488006592 prob=1.0\n",
        "\tfeature_id 778 file_id 2 mz 133.07594 RT 749.95 intensity 7.0236e+04\tM+H@132.06867 prob=1.00\n",
        "\tfeature_id 930 file_id 3 mz 133.07598 RT 741.03 intensity 1.3974e+05\tM+H@132.06870 prob=1.00\n",
        "266. avg m/z=189.123181562 avg RT=1066.84500122 prob=1.0\n",
        "\tfeature_id 29 file_id 0 mz 189.12307 RT 1067.44 intensity 3.6110e+06\tM+H@188.11579 prob=1.00\n",
        "\tfeature_id 35 file_id 1 mz 189.12305 RT 1060.31 intensity 3.5078e+06\tM+H@188.11577 prob=1.00\n",
        "\tfeature_id 42 file_id 2 mz 189.12328 RT 1082.65 intensity 2.4517e+06\tM+H@188.11601 prob=1.00\n",
        "\tfeature_id 30 file_id 3 mz 189.12332 RT 1056.98 intensity 6.5832e+06\tM+H@188.11605 prob=1.00\n",
        "267. avg m/z=125.986160799 avg RT=2275.77746582 prob=1.0\n",
        "\tfeature_id 200 file_id 0 mz 125.98615 RT 2307.57 intensity 7.4367e+05\tM+H@124.97887 prob=1.00\n",
        "\tfeature_id 92 file_id 1 mz 125.98616 RT 2167.49 intensity 1.7125e+06\tM+H@124.97889 prob=1.00\n",
        "\tfeature_id 238 file_id 2 mz 125.98617 RT 2309.66 intensity 3.2012e+05\tM+H@124.97889 prob=1.00\n",
        "\tfeature_id 237 file_id 3 mz 125.98617 RT 2318.39 intensity 8.0361e+05\tM+H@124.97889 prob=1.00\n",
        "268. avg m/z=156.07661077 avg RT=1531.58248901 prob=1.0\n",
        "\tfeature_id 447 file_id 0 mz 156.07650 RT 1525.97 intensity 2.7640e+05\tM+H@155.06923 prob=1.00\n",
        "\tfeature_id 523 file_id 1 mz 156.07646 RT 1517.53 intensity 2.0500e+05\tM+H@155.06919 prob=1.00\n",
        "\tfeature_id 241 file_id 2 mz 156.07675 RT 1543.62 intensity 3.1425e+05\tM+H@155.06947 prob=1.00\n",
        "\tfeature_id 162 file_id 3 mz 156.07673 RT 1539.21 intensity 1.1619e+06\tM+H@155.06946 prob=1.00\n",
        "269. avg m/z=133.031609586 avg RT=831.763504028 prob=1.0\n",
        "\tfeature_id 657 file_id 0 mz 133.03156 RT 827.45 intensity 1.5888e+05\tM+H@132.02428 prob=1.00\n",
        "\tfeature_id 578 file_id 1 mz 133.03156 RT 832.16 intensity 1.7199e+05\tM+H@132.02428 prob=1.00\n",
        "\tfeature_id 739 file_id 2 mz 133.03165 RT 836.36 intensity 7.7176e+04\tM+H@132.02438 prob=1.00\n",
        "\tfeature_id 879 file_id 3 mz 133.03167 RT 831.08 intensity 1.5577e+05\tM+H@132.02439 prob=1.00\n",
        "270. avg m/z=111.116731399 avg RT=314.569000244 prob=1.0\n",
        "\tfeature_id 149 file_id 0 mz 111.11666 RT 315.96 intensity 1.0626e+06\tM+H@110.10939 prob=1.00\n",
        "\tfeature_id 106 file_id 3 mz 111.11680 RT 313.17 intensity 2.1253e+06\tM+H@110.10952 prob=1.00\n",
        "271. avg m/z=82.5370894867 avg RT=2393.05493164 prob=1.0\n",
        "\tfeature_id 977 file_id 0 mz 82.53708 RT 2172.73 intensity 7.1265e+04\tM+H@81.52980 prob=1.00\n",
        "\tfeature_id 720 file_id 1 mz 82.53710 RT 2613.38 intensity 1.2484e+05\tM+H@81.52983 prob=1.00\n",
        "272. avg m/z=94.0450652701 avg RT=2240.26501465 prob=1.0\n",
        "\tfeature_id 101 file_id 0 mz 94.04509 RT 2213.83 intensity 1.6631e+06\tM+H@93.03781 prob=0.50\n",
        "\tfeature_id 107 file_id 1 mz 94.04504 RT 2266.70 intensity 1.4833e+06\tM+H@93.03777 prob=0.50\n",
        "273. avg m/z=82.5371052583 avg RT=44.792350769 prob=1.0\n",
        "\tfeature_id 760 file_id 0 mz 82.53710 RT 54.20 intensity 1.2300e+05\tM+H@81.52982 prob=1.00\n",
        "\tfeature_id 775 file_id 1 mz 82.53711 RT 35.38 intensity 1.0826e+05\tM+H@81.52984 prob=1.00\n",
        "274. avg m/z=100.111987455 avg RT=819.925506592 prob=1.0\n",
        "\tfeature_id 1 file_id 0 mz 100.11196 RT 814.54 intensity 2.1214e+07\tM+H@99.10468 prob=1.00\n",
        "\tfeature_id 2 file_id 1 mz 100.11196 RT 815.01 intensity 2.1694e+07\tM+H@99.10468 prob=1.00\n",
        "\tfeature_id 1 file_id 2 mz 100.11202 RT 827.53 intensity 2.2070e+07\tM+H@99.10474 prob=1.00\n",
        "\tfeature_id 1 file_id 3 mz 100.11201 RT 822.62 intensity 4.0956e+07\tM+H@99.10474 prob=1.00\n",
        "275. avg m/z=139.002331098 avg RT=440.242492676 prob=1.0\n",
        "\tfeature_id 847 file_id 0 mz 139.00234 RT 439.70 intensity 9.7891e+04\tM+H@137.99507 prob=1.00\n",
        "\tfeature_id 853 file_id 1 mz 139.00232 RT 440.78 intensity 8.9039e+04\tM+H@137.99504 prob=1.00\n",
        "276. avg m/z=377.145414941 avg RT=459.552001953 prob=1.0\n",
        "\tfeature_id 162 file_id 0 mz 377.14513 RT 464.62 intensity 9.6173e+05\tM+H@376.13785 prob=1.00\n",
        "\tfeature_id 144 file_id 1 mz 377.14507 RT 468.55 intensity 9.6057e+05\tM+H@376.13780 prob=1.00\n",
        "\tfeature_id 133 file_id 2 mz 377.14577 RT 455.03 intensity 6.7595e+05\tM+H@376.13850 prob=1.00\n",
        "\tfeature_id 132 file_id 3 mz 377.14568 RT 450.01 intensity 1.5635e+06\tM+H@376.13841 prob=1.00\n",
        "277. avg m/z=95.0437826029 avg RT=2416.38338216 prob=1.0\n",
        "\tfeature_id 504 file_id 0 mz 95.04378 RT 2278.35 intensity 2.2355e+05\tM+H@94.03650 prob=0.50\n",
        "\tfeature_id 681 file_id 1 mz 95.04373 RT 2432.00 intensity 1.3486e+05\tM+H@94.03645 prob=0.50\n",
        "\tfeature_id 686 file_id 3 mz 95.04384 RT 2538.80 intensity 2.2418e+05\tM+H@94.03656 prob=0.50\n",
        "278. avg m/z=102.535329236 avg RT=1921.99336751 prob=1.0\n",
        "\tfeature_id 474 file_id 0 mz 102.53535 RT 2017.04 intensity 2.5067e+05\tM+H@101.52808 prob=0.50\n",
        "\tfeature_id 464 file_id 1 mz 102.53525 RT 1905.15 intensity 2.3589e+05\tM+H@101.52797 prob=1.00\n",
        "\tfeature_id 541 file_id 3 mz 102.53539 RT 1843.79 intensity 3.0340e+05\tM+H@101.52811 prob=0.50\n",
        "279. avg m/z=365.105204142 avg RT=839.390991211 prob=1.0\n",
        "\tfeature_id 107 file_id 0 mz 365.10487 RT 706.90 intensity 1.6513e+06\tM+H@364.09759 prob=1.00\n",
        "\tfeature_id 937 file_id 3 mz 365.10554 RT 971.88 intensity 1.3766e+05\tM+H@364.09826 prob=0.50\n",
        "280. avg m/z=110.521507479 avg RT=2016.80668132 prob=1.0\n",
        "\tfeature_id 712 file_id 0 mz 110.52151 RT 2017.04 intensity 1.3527e+05\tM+H@109.51423 prob=0.50\n",
        "\tfeature_id 619 file_id 1 mz 110.52150 RT 2017.13 intensity 1.5408e+05\tM+H@109.51422 prob=0.50\n",
        "\tfeature_id 192 file_id 3 mz 110.52151 RT 2016.25 intensity 9.8321e+05\tM+H@109.51424 prob=0.50\n",
        "281. avg m/z=574.177236432 avg RT=831.227996826 prob=1.0\n",
        "\tfeature_id 503 file_id 0 mz 574.17725 RT 830.30 intensity 2.2572e+05\tM+H@573.16997 prob=1.00\n",
        "\tfeature_id 451 file_id 1 mz 574.17722 RT 832.16 intensity 2.4308e+05\tM+H@573.16995 prob=1.00\n",
        "282. avg m/z=232.06123977 avg RT=838.32598877 prob=1.0\n",
        "\tfeature_id 248 file_id 0 mz 232.06110 RT 841.78 intensity 5.4353e+05\tM+H@231.05382 prob=1.00\n",
        "\tfeature_id 189 file_id 2 mz 232.06138 RT 834.88 intensity 4.4614e+05\tM+H@231.05411 prob=0.51\n",
        "283. avg m/z=222.097163493 avg RT=902.565002441 prob=1.0\n",
        "\tfeature_id 492 file_id 2 mz 222.09712 RT 807.45 intensity 1.3027e+05\tM+H@221.08985 prob=1.00\n",
        "\tfeature_id 128 file_id 3 mz 222.09721 RT 997.68 intensity 1.5991e+06\tM+H@221.08993 prob=1.00\n",
        "284. avg m/z=125.986144365 avg RT=2529.2300415 prob=1.0\n",
        "\tfeature_id 288 file_id 0 mz 125.98612 RT 2479.33 intensity 4.7349e+05\tM+H@124.97885 prob=1.00\n",
        "\tfeature_id 327 file_id 1 mz 125.98607 RT 2616.40 intensity 3.6817e+05\tM+H@124.97879 prob=1.00\n",
        "\tfeature_id 310 file_id 2 mz 125.98617 RT 2425.61 intensity 2.3504e+05\tM+H@124.97889 prob=1.00\n",
        "\tfeature_id 355 file_id 3 mz 125.98622 RT 2595.58 intensity 4.7884e+05\tM+H@124.97894 prob=1.00\n",
        "285. avg m/z=324.058512646 avg RT=1176.83496094 prob=1.0\n",
        "\tfeature_id 317 file_id 0 mz 324.05855 RT 1178.57 intensity 4.1604e+05\tM+H@323.05127 prob=1.00\n",
        "\tfeature_id 275 file_id 1 mz 324.05848 RT 1175.10 intensity 4.4569e+05\tM+H@323.05120 prob=1.00\n",
        "286. avg m/z=265.111625851 avg RT=1788.46252441 prob=1.0\n",
        "\tfeature_id 24 file_id 0 mz 265.11147 RT 1768.40 intensity 3.9165e+06\tM+H@264.10419 prob=1.00\n",
        "\tfeature_id 25 file_id 1 mz 265.11140 RT 1767.17 intensity 4.2511e+06\tM+H@264.10412 prob=1.00\n",
        "\tfeature_id 25 file_id 2 mz 265.11183 RT 1813.73 intensity 3.5569e+06\tM+H@264.10456 prob=1.00\n",
        "\tfeature_id 28 file_id 3 mz 265.11180 RT 1804.55 intensity 6.9510e+06\tM+H@264.10453 prob=1.00\n",
        "287. avg m/z=144.065391373 avg RT=839.128011068 prob=1.0\n",
        "\tfeature_id 837 file_id 1 mz 144.06525 RT 960.92 intensity 9.2505e+04\tM+H@143.05797 prob=1.00\n",
        "\tfeature_id 436 file_id 2 mz 144.06541 RT 827.53 intensity 1.5520e+05\tM+H@143.05813 prob=1.00\n",
        "\tfeature_id 965 file_id 3 mz 144.06552 RT 728.93 intensity 1.2956e+05\tM+H@143.05824 prob=1.00\n",
        "288. avg m/z=195.08607174 avg RT=585.714508057 prob=1.0\n",
        "\tfeature_id 829 file_id 0 mz 195.08609 RT 587.00 intensity 1.0280e+05\tM+H@194.07882 prob=1.00\n",
        "\tfeature_id 902 file_id 1 mz 195.08605 RT 584.43 intensity 7.9771e+04\tM+H@194.07877 prob=1.00\n",
        "289. avg m/z=217.104625754 avg RT=415.028991699 prob=1.0\n",
        "\tfeature_id 546 file_id 2 mz 217.10462 RT 414.02 intensity 1.1488e+05\tM+H@216.09735 prob=1.00\n",
        "\tfeature_id 978 file_id 3 mz 217.10463 RT 416.04 intensity 1.2732e+05\tM+H@216.09735 prob=1.00\n",
        "290. avg m/z=123.04020162 avg RT=2055.84002686 prob=1.0\n",
        "\tfeature_id 528 file_id 0 mz 123.04020 RT 2050.78 intensity 2.1215e+05\tM+H@122.03292 prob=1.00\n",
        "\tfeature_id 530 file_id 1 mz 123.04016 RT 2048.84 intensity 2.0172e+05\tM+H@122.03289 prob=1.00\n",
        "\tfeature_id 370 file_id 2 mz 123.04023 RT 2074.57 intensity 1.8554e+05\tM+H@122.03295 prob=1.00\n",
        "\tfeature_id 655 file_id 3 mz 123.04022 RT 2049.17 intensity 2.3823e+05\tM+H@122.03295 prob=1.00\n",
        "291. avg m/z=138.187716576 avg RT=1788.46252441 prob=1.0\n",
        "\tfeature_id 35 file_id 0 mz 133.05935 RT 1768.40 intensity 3.3460e+06\tM+2H@264.10419 prob=0.55\n",
        "\tfeature_id 38 file_id 1 mz 133.05931 RT 1767.17 intensity 3.3190e+06\tM+2H@264.10412 prob=0.53\n",
        "\tfeature_id 41 file_id 2 mz 133.05947 RT 1813.73 intensity 2.4723e+06\tM+2H@264.10456 prob=0.55\n",
        "\tfeature_id 329 file_id 3 mz 153.57274 RT 1804.55 intensity 5.1493e+05\tM+ACN+2H@264.10453 prob=0.54\n",
        "292. avg m/z=103.094410882 avg RT=2.97925502062 prob=1.0\n",
        "\tfeature_id 745 file_id 0 mz 103.09442 RT  4.42 intensity 1.2656e+05\tM+HC13@101.08389 prob=0.52\n",
        "\tfeature_id 521 file_id 1 mz 103.09441 RT  1.54 intensity 2.0539e+05\tM+HC13@101.08388 prob=0.52\n",
        "293. avg m/z=278.186050464 avg RT=346.403999329 prob=1.0\n",
        "\tfeature_id 943 file_id 0 mz 278.18587 RT 351.78 intensity 7.8320e+04\tM+H@277.17860 prob=1.00\n",
        "\tfeature_id 910 file_id 1 mz 278.18587 RT 350.33 intensity 7.7766e+04\tM+H@277.17859 prob=1.00\n",
        "\tfeature_id 828 file_id 2 mz 278.18625 RT 343.03 intensity 6.4027e+04\tM+H@277.17897 prob=1.00\n",
        "\tfeature_id 989 file_id 3 mz 278.18621 RT 340.48 intensity 1.2462e+05\tM+H@277.17893 prob=1.00\n",
        "294. avg m/z=114.558298641 avg RT=2084.32247925 prob=1.0\n",
        "\tfeature_id 343 file_id 0 mz 114.55828 RT 2041.64 intensity 3.8337e+05\tM+H@113.55101 prob=1.00\n",
        "\tfeature_id 987 file_id 1 mz 114.55826 RT 2182.39 intensity 6.5650e+04\tM+H@113.55099 prob=1.00\n",
        "\tfeature_id 76 file_id 2 mz 114.55832 RT 2074.57 intensity 1.1851e+06\tM+H@113.55105 prob=1.00\n",
        "\tfeature_id 136 file_id 3 mz 114.55832 RT 2038.69 intensity 1.4870e+06\tM+H@113.55105 prob=1.00\n",
        "295. avg m/z=319.099641359 avg RT=554.847005208 prob=1.0\n",
        "\tfeature_id 930 file_id 0 mz 319.09947 RT 553.43 intensity 8.1152e+04\tM+H@318.09219 prob=1.00\n",
        "\tfeature_id 823 file_id 1 mz 319.09943 RT 556.74 intensity 9.8175e+04\tM+H@318.09215 prob=1.00\n",
        "\tfeature_id 595 file_id 2 mz 319.10003 RT 554.37 intensity 1.0553e+05\tM+H@318.09275 prob=1.00\n",
        "296. avg m/z=169.049278992 avg RT=675.483978271 prob=1.0\n",
        "\tfeature_id 303 file_id 0 mz 169.04934 RT 557.80 intensity 4.3688e+05\tM+H@168.04206 prob=1.00\n",
        "\tfeature_id 508 file_id 1 mz 169.04922 RT 793.17 intensity 2.0994e+05\tM+H@168.04194 prob=1.00\n",
        "297. avg m/z=325.150785774 avg RT=894.503997803 prob=1.0\n",
        "\tfeature_id 244 file_id 2 mz 325.15081 RT 915.80 intensity 3.0933e+05\tM+H@324.14353 prob=1.00\n",
        "\tfeature_id 156 file_id 3 mz 325.15076 RT 873.21 intensity 1.2326e+06\tM+H@324.14349 prob=1.00\n",
        "298. avg m/z=153.073702448 avg RT=805.360005697 prob=1.0\n",
        "\tfeature_id 849 file_id 0 mz 153.07367 RT 801.38 intensity 9.7624e+04\tM+H@152.06639 prob=0.65\n",
        "\tfeature_id 822 file_id 1 mz 153.07365 RT 806.30 intensity 9.8372e+04\tM+H@152.06638 prob=0.52\n",
        "\tfeature_id 854 file_id 3 mz 153.07379 RT 808.39 intensity 1.6270e+05\tM+H@152.06651 prob=0.52\n",
        "299. avg m/z=261.09422597 avg RT=495.187001546 prob=1.0\n",
        "\tfeature_id 973 file_id 1 mz 261.09390 RT 504.89 intensity 6.8208e+04\tM+H@260.08663 prob=1.00\n",
        "\tfeature_id 667 file_id 2 mz 261.09438 RT 491.86 intensity 8.9612e+04\tM+H@260.08710 prob=1.00\n",
        "\tfeature_id 815 file_id 3 mz 261.09440 RT 488.81 intensity 1.7518e+05\tM+H@260.08712 prob=1.00\n",
        "300. avg m/z=119.089480445 avg RT=883.717997233 prob=1.0\n",
        "\tfeature_id 871 file_id 1 mz 119.08937 RT 893.56 intensity 8.4003e+04\tM+HC13@117.07877 prob=0.52\n",
        "\tfeature_id 437 file_id 2 mz 119.08951 RT 890.15 intensity 1.5472e+05\tM+HC13@117.07894 prob=0.52\n",
        "\tfeature_id 997 file_id 3 mz 119.08956 RT 867.44 intensity 1.2200e+05\tM+HC13@117.07895 prob=0.52\n",
        "301. avg m/z=566.177310831 avg RT=610.179992676 prob=1.0\n",
        "\tfeature_id 989 file_id 0 mz 566.17716 RT 609.25 intensity 6.9185e+04\tM+H@565.16988 prob=1.00\n",
        "\tfeature_id 940 file_id 1 mz 566.17724 RT 614.05 intensity 7.1957e+04\tM+H@565.16996 prob=1.00\n",
        "\tfeature_id 550 file_id 3 mz 566.17753 RT 607.25 intensity 3.0029e+05\tM+H@565.17026 prob=1.00\n",
        "302. avg m/z=167.012652825 avg RT=52.7147189379 prob=1.0\n",
        "\tfeature_id 400 file_id 0 mz 167.01253 RT  4.42 intensity 3.1925e+05\tM+H@166.00526 prob=1.00\n",
        "\tfeature_id 268 file_id 1 mz 167.01255 RT 77.92 intensity 4.5902e+05\tM+H@166.00527 prob=1.00\n",
        "\tfeature_id 126 file_id 2 mz 167.01278 RT 77.10 intensity 7.1927e+05\tM+H@166.00550 prob=1.00\n",
        "\tfeature_id 166 file_id 3 mz 167.01275 RT 51.42 intensity 1.1456e+06\tM+H@166.00547 prob=1.00\n",
        "303. avg m/z=255.938834772 avg RT=2046.82495117 prob=1.0\n",
        "\tfeature_id 974 file_id 2 mz 255.93883 RT 2065.43 intensity 4.7880e+04\tM+H@254.93155 prob=1.00\n",
        "\tfeature_id 961 file_id 3 mz 255.93884 RT 2028.22 intensity 1.3029e+05\tM+H@254.93156 prob=1.00\n",
        "304. avg m/z=430.913983606 avg RT=1261.91998291 prob=1.0\n",
        "\tfeature_id 344 file_id 2 mz 430.91403 RT 1280.36 intensity 2.0633e+05\tM+H@429.90676 prob=1.00\n",
        "\tfeature_id 448 file_id 3 mz 430.91393 RT 1243.48 intensity 3.7231e+05\tM+H@429.90666 prob=1.00\n",
        "305. avg m/z=291.15503616 avg RT=1119.73504639 prob=1.0\n",
        "\tfeature_id 468 file_id 2 mz 291.15502 RT 1128.43 intensity 1.3898e+05\tM+H@290.14774 prob=1.00\n",
        "\tfeature_id 127 file_id 3 mz 291.15505 RT 1111.04 intensity 1.6139e+06\tM+H@290.14778 prob=1.00\n",
        "306. avg m/z=79.0178379723 avg RT=2577.69506836 prob=1.0\n",
        "\tfeature_id 639 file_id 0 mz 79.01785 RT 2574.04 intensity 1.6841e+05\tM+H@78.01057 prob=1.00\n",
        "\tfeature_id 601 file_id 1 mz 79.01783 RT 2581.35 intensity 1.6226e+05\tM+H@78.01055 prob=1.00\n",
        "307. avg m/z=82.022239235 avg RT=2408.60998535 prob=1.0\n",
        "\tfeature_id 733 file_id 0 mz 82.02224 RT 2482.43 intensity 1.3050e+05\tM+H@81.01496 prob=1.00\n",
        "\tfeature_id 661 file_id 1 mz 82.02224 RT 2334.79 intensity 1.3968e+05\tM+H@81.01497 prob=1.00\n",
        "308. avg m/z=158.00276085 avg RT=2429.7199707 prob=1.0\n",
        "\tfeature_id 863 file_id 2 mz 158.00274 RT 2441.39 intensity 6.0685e+04\tM+H@156.99546 prob=1.00\n",
        "\tfeature_id 987 file_id 3 mz 158.00278 RT 2418.05 intensity 1.2547e+05\tM+H@156.99551 prob=1.00\n",
        "309. avg m/z=265.11776685 avg RT=398.909500122 prob=1.0\n",
        "\tfeature_id 992 file_id 0 mz 265.11779 RT 397.35 intensity 6.8592e+04\tM+H@264.11051 prob=1.00\n",
        "\tfeature_id 948 file_id 1 mz 265.11774 RT 400.47 intensity 7.0901e+04\tM+H@264.11047 prob=1.00\n",
        "310. avg m/z=161.011003904 avg RT=451.888748169 prob=1.0\n",
        "\tfeature_id 914 file_id 0 mz 161.01091 RT 455.39 intensity 8.5807e+04\tM+H@160.00363 prob=1.00\n",
        "\tfeature_id 851 file_id 1 mz 161.01090 RT 456.30 intensity 8.9304e+04\tM+H@160.00362 prob=1.00\n",
        "\tfeature_id 813 file_id 2 mz 161.01108 RT 448.75 intensity 6.6450e+04\tM+H@160.00380 prob=1.00\n",
        "\tfeature_id 808 file_id 3 mz 161.01113 RT 447.11 intensity 1.7772e+05\tM+H@160.00386 prob=1.00\n",
        "311. avg m/z=566.888113455 avg RT=1259.48751831 prob=1.0\n",
        "\tfeature_id 944 file_id 0 mz 566.88773 RT 1260.89 intensity 7.8277e+04\tM+H@565.88046 prob=1.00\n",
        "\tfeature_id 876 file_id 1 mz 566.88774 RT 1261.17 intensity 8.3116e+04\tM+H@565.88046 prob=1.00\n",
        "\tfeature_id 593 file_id 2 mz 566.88862 RT 1272.41 intensity 1.0563e+05\tM+H@565.88135 prob=1.00\n",
        "\tfeature_id 705 file_id 3 mz 566.88836 RT 1243.48 intensity 2.1184e+05\tM+H@565.88108 prob=1.00\n",
        "312. avg m/z=392.286901546 avg RT=276.897994995 prob=1.0\n",
        "\tfeature_id 935 file_id 0 mz 392.28672 RT 215.64 intensity 8.0481e+04\tM+H@391.27945 prob=1.00\n",
        "\tfeature_id 832 file_id 1 mz 392.28708 RT 338.16 intensity 9.5105e+04\tM+H@391.27980 prob=1.00\n",
        "313. avg m/z=124.086830684 avg RT=791.087997437 prob=1.0\n",
        "\tfeature_id 547 file_id 0 mz 124.08676 RT 852.04 intensity 2.0445e+05\tM+H@123.07948 prob=1.00\n",
        "\tfeature_id 565 file_id 1 mz 124.08673 RT 856.89 intensity 1.7767e+05\tM+H@123.07945 prob=1.00\n",
        "\tfeature_id 590 file_id 2 mz 124.08692 RT 614.27 intensity 1.0590e+05\tM+H@123.07965 prob=1.00\n",
        "\tfeature_id 976 file_id 3 mz 124.08691 RT 841.15 intensity 1.2797e+05\tM+H@123.07964 prob=1.00\n",
        "314. avg m/z=74.0600334778 avg RT=1050.41003418 prob=1.0\n",
        "\tfeature_id 693 file_id 0 mz 74.06000 RT 1051.68 intensity 1.4154e+05\tM+H@73.05272 prob=1.00\n",
        "\tfeature_id 697 file_id 1 mz 74.05998 RT 1052.51 intensity 1.3136e+05\tM+H@73.05271 prob=1.00\n",
        "\tfeature_id 710 file_id 2 mz 74.06007 RT 1054.04 intensity 8.2354e+04\tM+H@73.05280 prob=1.00\n",
        "\tfeature_id 697 file_id 3 mz 74.06008 RT 1043.41 intensity 2.1511e+05\tM+H@73.05281 prob=1.00\n",
        "315. avg m/z=340.19620891 avg RT=816.941986084 prob=1.0\n",
        "\tfeature_id 676 file_id 0 mz 340.19620 RT 815.99 intensity 1.4964e+05\tM+H@339.18892 prob=1.00\n",
        "\tfeature_id 691 file_id 1 mz 340.19622 RT 817.90 intensity 1.3283e+05\tM+H@339.18894 prob=1.00\n",
        "316. avg m/z=166.086144404 avg RT=746.303985596 prob=1.0\n",
        "\tfeature_id 4 file_id 0 mz 166.08606 RT 741.38 intensity 8.8901e+06\tM+H@165.07878 prob=1.00\n",
        "\tfeature_id 3 file_id 1 mz 166.08604 RT 742.27 intensity 9.2452e+06\tM+H@165.07876 prob=1.00\n",
        "\tfeature_id 5 file_id 2 mz 166.08623 RT 753.16 intensity 7.9167e+06\tM+H@165.07895 prob=1.00\n",
        "\tfeature_id 7 file_id 3 mz 166.08625 RT 748.40 intensity 1.4120e+07\tM+H@165.07898 prob=1.00\n",
        "317. avg m/z=281.106651526 avg RT=740.028015137 prob=1.0\n",
        "\tfeature_id 690 file_id 2 mz 281.10662 RT 745.02 intensity 8.5746e+04\tM+H@280.09935 prob=1.00\n",
        "\tfeature_id 345 file_id 3 mz 281.10668 RT 735.04 intensity 4.8773e+05\tM+H@280.09940 prob=1.00\n",
        "318. avg m/z=429.190378502 avg RT=845.057983398 prob=1.0\n",
        "\tfeature_id 871 file_id 2 mz 429.19049 RT 850.42 intensity 5.9453e+04\tM+H@428.18322 prob=1.00\n",
        "\tfeature_id 368 file_id 3 mz 429.19026 RT 839.69 intensity 4.5666e+05\tM+H@428.18299 prob=1.00\n",
        "319. avg m/z=79.0178457729 avg RT=2504.7401123 prob=1.0\n",
        "\tfeature_id 649 file_id 0 mz 79.01784 RT 2591.12 intensity 1.6332e+05\tM+H@78.01057 prob=1.00\n",
        "\tfeature_id 769 file_id 1 mz 79.01785 RT 2418.36 intensity 1.1114e+05\tM+H@78.01057 prob=1.00\n",
        "320. avg m/z=233.062842374 avg RT=682.92199707 prob=1.0\n",
        "\tfeature_id 810 file_id 0 mz 233.06274 RT 679.52 intensity 1.0829e+05\tM+H@232.05546 prob=1.00\n",
        "\tfeature_id 726 file_id 1 mz 233.06269 RT 684.22 intensity 1.2272e+05\tM+H@232.05541 prob=1.00\n",
        "\tfeature_id 748 file_id 2 mz 233.06310 RT 685.03 intensity 7.4944e+04\tM+H@232.05582 prob=1.00\n",
        "321. avg m/z=383.094075843 avg RT=269.288497925 prob=1.0\n",
        "\tfeature_id 208 file_id 0 mz 383.09412 RT 268.90 intensity 7.0307e+05\tM+H@382.08685 prob=1.00\n",
        "\tfeature_id 166 file_id 1 mz 383.09403 RT 269.68 intensity 7.7096e+05\tM+H@382.08675 prob=1.00\n",
        "322. avg m/z=81.5205540876 avg RT=42.9017252922 prob=1.0\n",
        "\tfeature_id 115 file_id 0 mz 81.52056 RT 49.60 intensity 1.5124e+06\tM+H@80.51328 prob=1.00\n",
        "\tfeature_id 112 file_id 1 mz 81.52055 RT 56.54 intensity 1.3986e+06\tM+H@80.51328 prob=1.00\n",
        "\tfeature_id 196 file_id 2 mz 81.52053 RT 44.28 intensity 4.1827e+05\tM+H@80.51326 prob=1.00\n",
        "\tfeature_id 165 file_id 3 mz 81.52057 RT 21.18 intensity 1.1459e+06\tM+H@80.51330 prob=1.00\n",
        "323. avg m/z=81.5205129559 avg RT=1883.94500732 prob=1.0\n",
        "\tfeature_id 216 file_id 0 mz 81.52052 RT 1937.80 intensity 6.5696e+05\tM+H@80.51324 prob=1.00\n",
        "\tfeature_id 249 file_id 1 mz 81.52051 RT 1830.09 intensity 4.9002e+05\tM+H@80.51323 prob=1.00\n",
        "324. avg m/z=254.063448707 avg RT=451.738998413 prob=1.0\n",
        "\tfeature_id 935 file_id 2 mz 254.06342 RT 453.47 intensity 5.2110e+04\tM+H@253.05614 prob=0.85\n",
        "\tfeature_id 515 file_id 3 mz 254.06348 RT 450.01 intensity 3.1770e+05\tM+H@253.05620 prob=0.65\n",
        "325. avg m/z=81.5205349828 avg RT=2170.42498779 prob=1.0\n",
        "\tfeature_id 76 file_id 0 mz 81.52056 RT 2336.91 intensity 2.1358e+06\tM+H@80.51329 prob=1.00\n",
        "\tfeature_id 8 file_id 1 mz 81.52057 RT 2109.77 intensity 7.8867e+06\tM+H@80.51330 prob=1.00\n",
        "\tfeature_id 44 file_id 2 mz 81.52048 RT 2127.96 intensity 2.3700e+06\tM+H@80.51321 prob=1.00\n",
        "\tfeature_id 52 file_id 3 mz 81.52052 RT 2107.06 intensity 4.3458e+06\tM+H@80.51324 prob=1.00\n",
        "326. avg m/z=102.033788633 avg RT=1193.22334798 prob=1.0\n",
        "\tfeature_id 253 file_id 0 mz 102.03367 RT 1193.17 intensity 5.3817e+05\tM+H@101.02640 prob=1.00\n",
        "\tfeature_id 147 file_id 2 mz 102.03384 RT 1183.81 intensity 5.6964e+05\tM+H@101.02656 prob=1.00\n",
        "\tfeature_id 285 file_id 3 mz 102.03385 RT 1202.69 intensity 6.2049e+05\tM+H@101.02658 prob=1.00\n",
        "327. avg m/z=266.114864134 avg RT=1795.5600179 prob=1.0\n",
        "\tfeature_id 270 file_id 0 mz 266.11465 RT 1768.40 intensity 4.9768e+05\tM+HC13@264.10419 prob=0.55\n",
        "\tfeature_id 183 file_id 2 mz 266.11497 RT 1813.73 intensity 4.6418e+05\tM+HC13@264.10456 prob=0.54\n",
        "\tfeature_id 220 file_id 3 mz 266.11497 RT 1804.55 intensity 8.7241e+05\tM+HC13@264.10453 prob=0.54\n",
        "328. avg m/z=102.033793969 avg RT=2587.9675293 prob=1.0\n",
        "\tfeature_id 86 file_id 0 mz 102.03373 RT 2711.08 intensity 1.9639e+06\tM+H@101.02646 prob=1.00\n",
        "\tfeature_id 44 file_id 1 mz 102.03373 RT 2546.32 intensity 2.9076e+06\tM+H@101.02646 prob=1.00\n",
        "\tfeature_id 29 file_id 2 mz 102.03384 RT 2505.04 intensity 3.2072e+06\tM+H@101.02656 prob=1.00\n",
        "\tfeature_id 44 file_id 3 mz 102.03387 RT 2589.43 intensity 4.6977e+06\tM+H@101.02659 prob=1.00\n",
        "329. avg m/z=102.033792543 avg RT=2572.04998779 prob=1.0\n",
        "\tfeature_id 80 file_id 0 mz 102.03374 RT 2720.39 intensity 2.1011e+06\tM+H@101.02646 prob=1.00\n",
        "\tfeature_id 59 file_id 1 mz 102.03373 RT 2657.44 intensity 2.4546e+06\tM+H@101.02645 prob=1.00\n",
        "\tfeature_id 23 file_id 2 mz 102.03384 RT 2460.37 intensity 3.6195e+06\tM+H@101.02657 prob=1.00\n",
        "\tfeature_id 32 file_id 3 mz 102.03386 RT 2450.00 intensity 6.5046e+06\tM+H@101.02658 prob=1.00\n",
        "330. avg m/z=174.342061332 avg RT=339.792251587 prob=1.0\n",
        "\tfeature_id 929 file_id 0 mz 175.09437 RT 338.05 intensity 8.1352e+04\tM+HC13@173.08391 prob=0.55\n",
        "\tfeature_id 210 file_id 1 mz 174.09122 RT 347.30 intensity 5.9440e+05\tM+H@173.08394 prob=1.00\n",
        "\tfeature_id 329 file_id 2 mz 174.09132 RT 331.90 intensity 2.2124e+05\tM+H@173.08404 prob=1.00\n",
        "\tfeature_id 353 file_id 3 mz 174.09133 RT 341.93 intensity 4.8005e+05\tM+H@173.08406 prob=1.00\n",
        "331. avg m/z=151.035150535 avg RT=2717.38000488 prob=1.0\n",
        "\tfeature_id 592 file_id 0 mz 151.03503 RT 2557.01 intensity 1.8506e+05\tM+H@150.02775 prob=0.50\n",
        "\tfeature_id 452 file_id 3 mz 151.03527 RT 2877.75 intensity 3.6654e+05\tM+H@150.02799 prob=1.00\n",
        "332. avg m/z=149.063653173 avg RT=1023.44497681 prob=1.0\n",
        "\tfeature_id 975 file_id 2 mz 149.06365 RT 1031.94 intensity 4.7839e+04\tM+H@148.05637 prob=0.70\n",
        "\tfeature_id 977 file_id 3 mz 149.06366 RT 1014.95 intensity 1.2737e+05\tM+H@148.05638 prob=0.52\n",
        "333. avg m/z=523.17689494 avg RT=1185.75 prob=1.0\n",
        "\tfeature_id 818 file_id 0 mz 523.17699 RT 1186.70 intensity 1.0617e+05\tM+H@522.16971 prob=1.00\n",
        "\tfeature_id 755 file_id 1 mz 523.17680 RT 1184.80 intensity 1.1385e+05\tM+H@522.16952 prob=1.00\n",
        "334. avg m/z=102.054853919 avg RT=1071.61999512 prob=1.0\n",
        "\tfeature_id 637 file_id 0 mz 102.05483 RT 1045.45 intensity 1.6902e+05\tM+H@101.04753 prob=1.00\n",
        "\tfeature_id 639 file_id 1 mz 102.05479 RT 1050.97 intensity 1.4691e+05\tM+H@101.04751 prob=1.00\n",
        "\tfeature_id 333 file_id 2 mz 102.05485 RT 1148.16 intensity 2.1728e+05\tM+H@101.04758 prob=1.00\n",
        "\tfeature_id 713 file_id 3 mz 102.05494 RT 1041.90 intensity 2.0884e+05\tM+H@101.04767 prob=1.00\n",
        "335. avg m/z=81.5205198023 avg RT=1811.14001465 prob=1.0\n",
        "\tfeature_id 259 file_id 0 mz 81.52052 RT 1827.66 intensity 5.2550e+05\tM+H@80.51324 prob=1.00\n",
        "\tfeature_id 255 file_id 1 mz 81.52052 RT 1794.62 intensity 4.7533e+05\tM+H@80.51325 prob=1.00\n",
        "336. avg m/z=81.5205187589 avg RT=1961.40496826 prob=1.0\n",
        "\tfeature_id 207 file_id 0 mz 81.52052 RT 1953.71 intensity 7.1036e+05\tM+H@80.51324 prob=1.00\n",
        "\tfeature_id 184 file_id 1 mz 81.52052 RT 1969.10 intensity 7.0261e+05\tM+H@80.51324 prob=1.00\n",
        "337. avg m/z=331.062788695 avg RT=915.878997803 prob=1.0\n",
        "\tfeature_id 805 file_id 0 mz 331.06250 RT 925.34 intensity 1.0977e+05\tM+H@330.05522 prob=0.52\n",
        "\tfeature_id 514 file_id 3 mz 331.06308 RT 906.42 intensity 3.1892e+05\tM+H@330.05581 prob=0.52\n",
        "338. avg m/z=132.065401412 avg RT=998.20199585 prob=1.0\n",
        "\tfeature_id 91 file_id 0 mz 132.06532 RT 1003.22 intensity 1.8041e+06\tM+H@131.05805 prob=1.00\n",
        "\tfeature_id 86 file_id 1 mz 132.06529 RT 995.27 intensity 1.8310e+06\tM+H@131.05802 prob=1.00\n",
        "\tfeature_id 59 file_id 2 mz 132.06549 RT 1000.90 intensity 1.7171e+06\tM+H@131.05821 prob=1.00\n",
        "\tfeature_id 43 file_id 3 mz 132.06550 RT 993.41 intensity 4.9071e+06\tM+H@131.05823 prob=1.00\n",
        "339. avg m/z=125.986138867 avg RT=2679.66241455 prob=1.0\n",
        "\tfeature_id 375 file_id 0 mz 125.98609 RT 2651.89 intensity 3.5007e+05\tM+H@124.97881 prob=1.00\n",
        "\tfeature_id 346 file_id 1 mz 125.98607 RT 2674.17 intensity 3.5124e+05\tM+H@124.97879 prob=1.00\n",
        "\tfeature_id 439 file_id 2 mz 125.98618 RT 2655.71 intensity 1.5321e+05\tM+H@124.97890 prob=1.00\n",
        "\tfeature_id 369 file_id 3 mz 125.98622 RT 2736.88 intensity 4.5628e+05\tM+H@124.97895 prob=1.00\n",
        "340. avg m/z=474.218033418 avg RT=790.001983643 prob=1.0\n",
        "\tfeature_id 666 file_id 0 mz 474.21784 RT 795.52 intensity 1.5431e+05\tM+H@473.21056 prob=1.00\n",
        "\tfeature_id 751 file_id 1 mz 474.21762 RT 779.97 intensity 1.1464e+05\tM+H@473.21034 prob=1.00\n",
        "\tfeature_id 711 file_id 2 mz 474.21837 RT 796.43 intensity 8.2336e+04\tM+H@473.21110 prob=1.00\n",
        "\tfeature_id 645 file_id 3 mz 474.21830 RT 788.08 intensity 2.4270e+05\tM+H@473.21103 prob=1.00\n",
        "341. avg m/z=213.018109119 avg RT=2444.79992676 prob=1.0\n",
        "\tfeature_id 834 file_id 2 mz 213.01808 RT 2554.68 intensity 6.3333e+04\tM+H@212.01080 prob=1.00\n",
        "\tfeature_id 913 file_id 3 mz 213.01814 RT 2334.92 intensity 1.4320e+05\tM+H@212.01086 prob=1.00\n",
        "342. avg m/z=537.168735924 avg RT=616.780502319 prob=1.0\n",
        "\tfeature_id 209 file_id 0 mz 537.16842 RT 621.19 intensity 7.0034e+05\tM+H@536.16115 prob=1.00\n",
        "\tfeature_id 187 file_id 1 mz 537.16839 RT 615.53 intensity 6.8889e+05\tM+H@536.16111 prob=1.00\n",
        "\tfeature_id 142 file_id 2 mz 537.16911 RT 617.39 intensity 5.9885e+05\tM+H@536.16183 prob=1.00\n",
        "\tfeature_id 130 file_id 3 mz 537.16903 RT 613.01 intensity 1.5851e+06\tM+H@536.16175 prob=1.00\n",
        "343. avg m/z=348.098013629 avg RT=526.008341471 prob=1.0\n",
        "\tfeature_id 737 file_id 0 mz 348.09760 RT 475.41 intensity 1.2942e+05\tM+H@347.09033 prob=1.00\n",
        "\tfeature_id 451 file_id 2 mz 348.09824 RT 554.37 intensity 1.4605e+05\tM+H@347.09096 prob=1.00\n",
        "\tfeature_id 647 file_id 3 mz 348.09820 RT 548.24 intensity 2.4185e+05\tM+H@347.09092 prob=1.00\n",
        "344. avg m/z=102.054841828 avg RT=1106.75003052 prob=1.0\n",
        "\tfeature_id 429 file_id 0 mz 102.05477 RT 1128.80 intensity 2.9448e+05\tM+H@101.04749 prob=1.00\n",
        "\tfeature_id 427 file_id 1 mz 102.05475 RT 1122.35 intensity 2.6011e+05\tM+H@101.04747 prob=1.00\n",
        "\tfeature_id 696 file_id 2 mz 102.05492 RT 1054.04 intensity 8.4939e+04\tM+H@101.04764 prob=1.00\n",
        "\tfeature_id 380 file_id 3 mz 102.05493 RT 1121.81 intensity 4.3925e+05\tM+H@101.04766 prob=1.00\n",
        "345. avg m/z=379.152985082 avg RT=888.446004232 prob=1.0\n",
        "\tfeature_id 703 file_id 0 mz 379.15289 RT 890.35 intensity 1.3871e+05\tM+H@378.14562 prob=1.00\n",
        "\tfeature_id 563 file_id 1 mz 379.15269 RT 887.43 intensity 1.8048e+05\tM+H@378.14542 prob=1.00\n",
        "\tfeature_id 953 file_id 3 mz 379.15337 RT 887.56 intensity 1.3313e+05\tM+H@378.14609 prob=1.00\n",
        "346. avg m/z=94.0450302013 avg RT=2396.09997559 prob=1.0\n",
        "\tfeature_id 263 file_id 0 mz 94.04498 RT 2609.81 intensity 5.0821e+05\tM+H@93.03771 prob=0.50\n",
        "\tfeature_id 79 file_id 1 mz 94.04508 RT 2182.39 intensity 1.9106e+06\tM+H@93.03780 prob=0.50\n",
        "347. avg m/z=86.0963131033 avg RT=786.29548645 prob=1.0\n",
        "\tfeature_id 129 file_id 0 mz 86.09626 RT 785.25 intensity 1.3164e+06\tM+H@85.08898 prob=1.00\n",
        "\tfeature_id 118 file_id 1 mz 86.09624 RT 779.97 intensity 1.2858e+06\tM+H@85.08896 prob=1.00\n",
        "\tfeature_id 158 file_id 2 mz 86.09636 RT 793.33 intensity 5.3939e+05\tM+H@85.08908 prob=1.00\n",
        "\tfeature_id 175 file_id 3 mz 86.09640 RT 786.63 intensity 1.0657e+06\tM+H@85.08912 prob=1.00\n",
        "348. avg m/z=324.128754815 avg RT=813.673492432 prob=1.0\n",
        "\tfeature_id 176 file_id 0 mz 324.12851 RT 764.18 intensity 8.6184e+05\tM+H@323.12124 prob=1.00\n",
        "\tfeature_id 148 file_id 1 mz 324.12847 RT 761.92 intensity 9.1211e+05\tM+H@323.12119 prob=1.00\n",
        "\tfeature_id 106 file_id 2 mz 324.12906 RT 762.67 intensity 8.3847e+05\tM+H@323.12178 prob=1.00\n",
        "\tfeature_id 817 file_id 3 mz 324.12898 RT 965.93 intensity 1.7436e+05\tM+H@323.12170 prob=1.00\n",
        "349. avg m/z=348.989462359 avg RT=1.54009997845 prob=1.0\n",
        "\tfeature_id 926 file_id 0 mz 348.98945 RT  1.54 intensity 8.2131e+04\tM+H@347.98217 prob=1.00\n",
        "\tfeature_id 763 file_id 1 mz 348.98947 RT  1.54 intensity 1.1227e+05\tM+H@347.98220 prob=1.00\n",
        "350. avg m/z=167.012654033 avg RT=2699.63663737 prob=1.0\n",
        "\tfeature_id 348 file_id 0 mz 167.01259 RT 2695.41 intensity 3.7726e+05\tM+H@166.00532 prob=1.00\n",
        "\tfeature_id 284 file_id 1 mz 167.01257 RT 2657.44 intensity 4.3378e+05\tM+H@166.00529 prob=1.00\n",
        "\tfeature_id 183 file_id 3 mz 167.01280 RT 2746.06 intensity 1.0381e+06\tM+H@166.00553 prob=1.00\n",
        "351. avg m/z=99.0439728088 avg RT=440.088500977 prob=1.0\n",
        "\tfeature_id 833 file_id 0 mz 99.04390 RT 423.58 intensity 1.0156e+05\tM+H@98.03662 prob=1.00\n",
        "\tfeature_id 392 file_id 2 mz 99.04405 RT 456.59 intensity 1.7183e+05\tM+H@98.03677 prob=1.00\n",
        "352. avg m/z=153.040595305 avg RT=518.289001465 prob=1.0\n",
        "\tfeature_id 851 file_id 2 mz 153.04057 RT 520.57 intensity 6.2067e+04\tM+H@152.03329 prob=1.00\n",
        "\tfeature_id 996 file_id 3 mz 153.04062 RT 516.01 intensity 1.2260e+05\tM+H@152.03335 prob=1.00\n",
        "353. avg m/z=234.097176163 avg RT=957.402008057 prob=1.0\n",
        "\tfeature_id 999 file_id 2 mz 234.09710 RT 962.45 intensity 4.6234e+04\tM+H@233.08982 prob=1.00\n",
        "\tfeature_id 330 file_id 3 mz 234.09725 RT 952.36 intensity 5.1324e+05\tM+H@233.08998 prob=1.00\n",
        "354. avg m/z=449.126379168 avg RT=553.603744507 prob=1.0\n",
        "\tfeature_id 679 file_id 0 mz 449.12614 RT 554.89 intensity 1.4752e+05\tM+H@448.11886 prob=1.00\n",
        "\tfeature_id 573 file_id 1 mz 449.12599 RT 552.36 intensity 1.7433e+05\tM+H@448.11871 prob=1.00\n",
        "\tfeature_id 700 file_id 2 mz 449.12677 RT 558.91 intensity 8.4368e+04\tM+H@448.11949 prob=1.00\n",
        "\tfeature_id 858 file_id 3 mz 449.12662 RT 548.24 intensity 1.6241e+05\tM+H@448.11935 prob=1.00\n",
        "355. avg m/z=70.0651848416 avg RT=942.373504639 prob=1.0\n",
        "\tfeature_id 426 file_id 0 mz 70.06515 RT 947.02 intensity 2.9934e+05\tM+H@69.05787 prob=1.00\n",
        "\tfeature_id 434 file_id 1 mz 70.06515 RT 942.15 intensity 2.5625e+05\tM+H@69.05787 prob=1.00\n",
        "\tfeature_id 348 file_id 2 mz 70.06523 RT 948.82 intensity 2.0139e+05\tM+H@69.05795 prob=1.00\n",
        "\tfeature_id 289 file_id 3 mz 70.06522 RT 931.51 intensity 6.1179e+05\tM+H@69.05794 prob=1.00\n",
        "356. avg m/z=70.0126627064 avg RT=2744.55338542 prob=1.0\n",
        "\tfeature_id 401 file_id 0 mz 70.01264 RT 2729.68 intensity 3.1741e+05\tM+H@69.00537 prob=1.00\n",
        "\tfeature_id 408 file_id 1 mz 70.01263 RT 2728.87 intensity 2.7476e+05\tM+H@69.00535 prob=1.00\n",
        "\tfeature_id 986 file_id 3 mz 70.01272 RT 2775.11 intensity 1.2551e+05\tM+H@69.00544 prob=1.00\n",
        "357. avg m/z=81.5205503749 avg RT=2133.18499756 prob=1.0\n",
        "\tfeature_id 51 file_id 0 mz 81.52057 RT 2253.79 intensity 2.5952e+06\tM+H@80.51329 prob=1.00\n",
        "\tfeature_id 169 file_id 1 mz 81.52053 RT 2012.58 intensity 7.5261e+05\tM+H@80.51325 prob=1.00\n",
        "358. avg m/z=101.115207921 avg RT=821.564005534 prob=1.0\n",
        "\tfeature_id 124 file_id 0 mz 101.11521 RT 814.54 intensity 1.4002e+06\tM+HC13@99.10468 prob=0.53\n",
        "\tfeature_id 63 file_id 2 mz 101.11521 RT 827.53 intensity 1.4514e+06\tM+HC13@99.10474 prob=0.54\n",
        "\tfeature_id 80 file_id 3 mz 101.11521 RT 822.62 intensity 2.7302e+06\tM+HC13@99.10474 prob=0.54\n",
        "359. avg m/z=192.06157069 avg RT=2056.55668132 prob=1.0\n",
        "\tfeature_id 713 file_id 0 mz 192.06155 RT 2049.26 intensity 1.3520e+05\tM+H@191.05428 prob=1.00\n",
        "\tfeature_id 602 file_id 1 mz 192.06152 RT 2045.84 intensity 1.6181e+05\tM+H@191.05425 prob=0.73\n",
        "\tfeature_id 257 file_id 2 mz 192.06164 RT 2074.57 intensity 2.8851e+05\tM+H@191.05436 prob=0.73\n",
        "360. avg m/z=83.5170849507 avg RT=2173.74499512 prob=1.0\n",
        "\tfeature_id 660 file_id 0 mz 83.51708 RT 2129.13 intensity 1.5640e+05\tM+H@82.50981 prob=1.00\n",
        "\tfeature_id 981 file_id 1 mz 83.51709 RT 2218.36 intensity 6.6087e+04\tM+H@82.50981 prob=1.00\n",
        "361. avg m/z=231.991662262 avg RT=2122.64001465 prob=1.0\n",
        "\tfeature_id 521 file_id 2 mz 231.99167 RT 2126.46 intensity 1.2123e+05\tM+H@230.98440 prob=1.00\n",
        "\tfeature_id 901 file_id 3 mz 231.99165 RT 2118.82 intensity 1.4652e+05\tM+H@230.98437 prob=1.00\n",
        "362. avg m/z=296.970668049 avg RT=2132.99493408 prob=1.0\n",
        "\tfeature_id 896 file_id 0 mz 296.97052 RT 2165.17 intensity 8.8499e+04\tM+H@295.96324 prob=1.00\n",
        "\tfeature_id 398 file_id 1 mz 296.97057 RT 2114.17 intensity 2.8797e+05\tM+H@295.96329 prob=0.82\n",
        "\tfeature_id 156 file_id 2 mz 296.97082 RT 2126.46 intensity 5.4087e+05\tM+H@295.96354 prob=0.52\n",
        "\tfeature_id 358 file_id 3 mz 296.97077 RT 2126.18 intensity 4.7347e+05\tM+H@295.96349 prob=1.00\n",
        "363. avg m/z=246.06629574 avg RT=522.084747314 prob=1.0\n",
        "\tfeature_id 516 file_id 0 mz 246.06612 RT 532.71 intensity 2.1579e+05\tM+H@245.05885 prob=1.00\n",
        "\tfeature_id 518 file_id 1 mz 246.06609 RT 504.89 intensity 2.0607e+05\tM+H@245.05881 prob=1.00\n",
        "\tfeature_id 735 file_id 2 mz 246.06647 RT 554.37 intensity 7.7397e+04\tM+H@245.05919 prob=1.00\n",
        "\tfeature_id 476 file_id 3 mz 246.06650 RT 496.38 intensity 3.5111e+05\tM+H@245.05923 prob=0.50\n",
        "364. avg m/z=122.547115486 avg RT=2339.31494141 prob=1.0\n",
        "\tfeature_id 30 file_id 1 mz 122.54712 RT 2124.46 intensity 3.7785e+06\tM+H@121.53984 prob=1.00\n",
        "\tfeature_id 163 file_id 3 mz 122.54711 RT 2554.17 intensity 1.1500e+06\tM+H@121.53983 prob=1.00\n",
        "365. avg m/z=126.021901739 avg RT=976.3125 prob=1.0\n",
        "\tfeature_id 262 file_id 0 mz 126.02184 RT 975.61 intensity 5.0879e+05\tM+H@125.01456 prob=1.00\n",
        "\tfeature_id 245 file_id 1 mz 126.02181 RT 978.33 intensity 5.0396e+05\tM+H@125.01453 prob=1.00\n",
        "\tfeature_id 165 file_id 2 mz 126.02194 RT 979.43 intensity 5.2081e+05\tM+H@125.01466 prob=1.00\n",
        "\tfeature_id 263 file_id 3 mz 126.02202 RT 971.88 intensity 6.8955e+05\tM+H@125.01474 prob=1.00\n",
        "366. avg m/z=178.070885315 avg RT=1102.07495117 prob=1.0\n",
        "\tfeature_id 916 file_id 2 mz 178.07083 RT 1107.07 intensity 5.3711e+04\tM+H@177.06356 prob=1.00\n",
        "\tfeature_id 425 file_id 3 mz 178.07094 RT 1097.08 intensity 3.9378e+05\tM+H@177.06366 prob=1.00\n",
        "367. avg m/z=151.035136666 avg RT=2629.64752197 prob=1.0\n",
        "\tfeature_id 481 file_id 0 mz 151.03508 RT 2446.68 intensity 2.4451e+05\tM+H@150.02780 prob=0.50\n",
        "\tfeature_id 525 file_id 1 mz 151.03502 RT 2581.35 intensity 2.0389e+05\tM+H@150.02774 prob=0.50\n",
        "\tfeature_id 402 file_id 2 mz 151.03522 RT 2718.52 intensity 1.6717e+05\tM+H@150.02794 prob=0.50\n",
        "\tfeature_id 453 file_id 3 mz 151.03523 RT 2772.04 intensity 3.6500e+05\tM+H@150.02795 prob=0.50\n",
        "368. avg m/z=100.105604305 avg RT=820.768005371 prob=1.0\n",
        "\tfeature_id 782 file_id 1 mz 100.10556 RT 817.90 intensity 1.0647e+05\tM+H@99.09828 prob=1.00\n",
        "\tfeature_id 621 file_id 2 mz 100.10565 RT 824.60 intensity 9.9824e+04\tM+H@99.09837 prob=1.00\n",
        "\tfeature_id 730 file_id 3 mz 100.10561 RT 819.80 intensity 2.0104e+05\tM+H@99.09833 prob=1.00\n",
        "369. avg m/z=467.137456562 avg RT=686.340026855 prob=1.0\n",
        "\tfeature_id 675 file_id 2 mz 467.13754 RT 631.65 intensity 8.7539e+04\tM+H@466.13026 prob=1.00\n",
        "\tfeature_id 351 file_id 3 mz 467.13738 RT 741.03 intensity 4.8089e+05\tM+H@466.13010 prob=0.50\n",
        "370. avg m/z=291.104740867 avg RT=488.89100647 prob=1.0\n",
        "\tfeature_id 315 file_id 1 mz 291.10451 RT 504.89 intensity 3.7880e+05\tM+H@290.09723 prob=1.00\n",
        "\tfeature_id 732 file_id 2 mz 291.10497 RT 472.89 intensity 7.7950e+04\tM+H@290.09769 prob=1.00\n",
        "371. avg m/z=160.086823017 avg RT=346.306999207 prob=1.0\n",
        "\tfeature_id 188 file_id 0 mz 160.08675 RT 347.21 intensity 7.7114e+05\tM+H@159.07947 prob=1.00\n",
        "\tfeature_id 176 file_id 1 mz 160.08673 RT 348.82 intensity 7.3269e+05\tM+H@159.07946 prob=1.00\n",
        "\tfeature_id 149 file_id 2 mz 160.08690 RT 341.48 intensity 5.6269e+05\tM+H@159.07962 prob=1.00\n",
        "\tfeature_id 206 file_id 3 mz 160.08691 RT 347.72 intensity 9.3489e+05\tM+H@159.07963 prob=1.00\n",
        "372. avg m/z=198.084549471 avg RT=1138.92498779 prob=1.0\n",
        "\tfeature_id 540 file_id 0 mz 198.08456 RT 1140.51 intensity 2.0695e+05\tM+H@197.07728 prob=0.53\n",
        "\tfeature_id 524 file_id 1 mz 198.08454 RT 1137.34 intensity 2.0458e+05\tM+H@197.07726 prob=0.70\n",
        "373. avg m/z=82.5370964861 avg RT=2538.66003418 prob=1.0\n",
        "\tfeature_id 817 file_id 0 mz 82.53709 RT 2390.99 intensity 1.0623e+05\tM+H@81.52981 prob=1.00\n",
        "\tfeature_id 684 file_id 1 mz 82.53711 RT 2686.33 intensity 1.3387e+05\tM+H@81.52983 prob=1.00\n",
        "374. avg m/z=271.083967539 avg RT=336.032999674 prob=1.0\n",
        "\tfeature_id 901 file_id 0 mz 271.08387 RT 338.05 intensity 8.7657e+04\tM+K@232.12091 prob=0.56\n",
        "\tfeature_id 884 file_id 1 mz 271.08383 RT 338.16 intensity 8.2665e+04\tM+K@232.12090 prob=0.51\n",
        "\tfeature_id 924 file_id 2 mz 271.08420 RT 331.90 intensity 5.3361e+04\tM+K@232.12122 prob=0.56\n",
        "375. avg m/z=125.986112353 avg RT=27.2107999325 prob=1.0\n",
        "\tfeature_id 409 file_id 0 mz 125.98606 RT 34.27 intensity 3.1142e+05\tM+H@124.97878 prob=1.00\n",
        "\tfeature_id 403 file_id 1 mz 125.98602 RT 30.87 intensity 2.7941e+05\tM+H@124.97874 prob=1.00\n",
        "\tfeature_id 643 file_id 2 mz 125.98617 RT 14.97 intensity 9.5321e+04\tM+H@124.97890 prob=1.00\n",
        "\tfeature_id 419 file_id 3 mz 125.98620 RT 28.74 intensity 4.0001e+05\tM+H@124.97892 prob=1.00\n",
        "376. avg m/z=111.618352948 avg RT=313.896499634 prob=1.0\n",
        "\tfeature_id 875 file_id 0 mz 112.11994 RT 315.96 intensity 9.2578e+04\tM+HC13@110.10939 prob=0.52\n",
        "\tfeature_id 157 file_id 1 mz 111.11665 RT 316.29 intensity 8.3421e+05\tM+H@110.10937 prob=1.00\n",
        "\tfeature_id 60 file_id 2 mz 111.11676 RT 310.16 intensity 1.6721e+06\tM+H@110.10948 prob=1.00\n",
        "\tfeature_id 758 file_id 3 mz 112.12007 RT 313.17 intensity 1.9251e+05\tM+HC13@110.10952 prob=0.52\n",
        "377. avg m/z=108.576377088 avg RT=1606.39001465 prob=1.0\n",
        "\tfeature_id 589 file_id 2 mz 108.57639 RT 1611.04 intensity 1.0596e+05\tM+ACN+2H@174.11165 prob=0.54\n",
        "\tfeature_id 335 file_id 3 mz 108.57637 RT 1601.74 intensity 5.0168e+05\tM+ACN+2H@174.11161 prob=0.55\n",
        "378. avg m/z=94.0450285734 avg RT=2278.82006836 prob=1.0\n",
        "\tfeature_id 230 file_id 0 mz 94.04500 RT 2507.29 intensity 5.8139e+05\tM+H@93.03772 prob=0.50\n",
        "\tfeature_id 5 file_id 1 mz 94.04506 RT 2050.35 intensity 8.2006e+06\tM+H@93.03778 prob=0.50\n",
        "379. avg m/z=169.049174958 avg RT=779.429992676 prob=1.0\n",
        "\tfeature_id 573 file_id 0 mz 169.04927 RT 798.46 intensity 1.9090e+05\tM+H@168.04200 prob=1.00\n",
        "\tfeature_id 794 file_id 1 mz 169.04908 RT 760.40 intensity 1.0522e+05\tM+H@168.04180 prob=1.00\n",
        "380. avg m/z=89.506696459 avg RT=2403.5 prob=1.0\n",
        "\tfeature_id 553 file_id 0 mz 89.50667 RT 2550.86 intensity 2.0185e+05\tM+H@88.49939 prob=0.50\n",
        "\tfeature_id 468 file_id 1 mz 89.50673 RT 2256.14 intensity 2.3446e+05\tM+H@88.49945 prob=0.50\n",
        "381. avg m/z=102.033827333 avg RT=2165.99743652 prob=1.0\n",
        "\tfeature_id 16 file_id 0 mz 102.03377 RT 2383.25 intensity 4.9445e+06\tM+H@101.02650 prob=1.00\n",
        "\tfeature_id 1 file_id 1 mz 102.03385 RT 2114.17 intensity 2.3715e+07\tM+H@101.02657 prob=1.00\n",
        "\tfeature_id 37 file_id 2 mz 102.03383 RT 2063.91 intensity 2.7132e+06\tM+H@101.02655 prob=1.00\n",
        "\tfeature_id 2 file_id 3 mz 102.03387 RT 2102.66 intensity 2.7654e+07\tM+H@101.02659 prob=1.00\n",
        "382. avg m/z=143.996694007 avg RT=2800.25500488 prob=1.0\n",
        "\tfeature_id 623 file_id 1 mz 143.99656 RT 2725.82 intensity 1.5260e+05\tM+H@142.98928 prob=0.50\n",
        "\tfeature_id 536 file_id 3 mz 143.99683 RT 2874.69 intensity 3.0648e+05\tM+H@142.98955 prob=1.00\n",
        "383. avg m/z=132.003010376 avg RT=1256.19665527 prob=1.0\n",
        "\tfeature_id 771 file_id 0 mz 132.00293 RT 1265.45 intensity 1.1914e+05\tM+H@130.99565 prob=0.73\n",
        "\tfeature_id 717 file_id 1 mz 132.00293 RT 1268.72 intensity 1.2587e+05\tM+H@130.99566 prob=1.00\n",
        "\tfeature_id 248 file_id 3 mz 132.00317 RT 1234.42 intensity 7.4029e+05\tM+H@130.99589 prob=1.00\n",
        "384. avg m/z=115.111527698 avg RT=28.0222501755 prob=1.0\n",
        "\tfeature_id 868 file_id 0 mz 115.11155 RT 26.69 intensity 9.3868e+04\tM+H@114.10427 prob=1.00\n",
        "\tfeature_id 883 file_id 1 mz 115.11151 RT 29.35 intensity 8.2745e+04\tM+H@114.10423 prob=1.00\n",
        "385. avg m/z=413.26573554 avg RT=236.851493835 prob=1.0\n",
        "\tfeature_id 715 file_id 0 mz 413.26564 RT 135.54 intensity 1.3478e+05\tM+H@412.25836 prob=1.00\n",
        "\tfeature_id 888 file_id 1 mz 413.26584 RT 338.16 intensity 8.2196e+04\tM+H@412.25856 prob=1.00\n",
        "386. avg m/z=138.048899958 avg RT=616.536010742 prob=1.0\n",
        "\tfeature_id 511 file_id 0 mz 138.04886 RT 615.21 intensity 2.1878e+05\tM+H@137.04159 prob=1.00\n",
        "\tfeature_id 497 file_id 1 mz 138.04886 RT 618.50 intensity 2.1642e+05\tM+H@137.04158 prob=0.66\n",
        "\tfeature_id 388 file_id 3 mz 138.04898 RT 615.89 intensity 4.3036e+05\tM+H@137.04170 prob=0.64\n",
        "387. avg m/z=299.099764059 avg RT=595.818481445 prob=1.0\n",
        "\tfeature_id 183 file_id 0 mz 299.09965 RT 601.78 intensity 7.9600e+05\tM+H@298.09237 prob=0.83\n",
        "\tfeature_id 117 file_id 3 mz 299.09988 RT 589.85 intensity 1.7666e+06\tM+H@298.09260 prob=0.52\n",
        "388. avg m/z=275.073710022 avg RT=559.369506836 prob=1.0\n",
        "\tfeature_id 191 file_id 2 mz 275.07370 RT 561.95 intensity 4.3813e+05\tM+H@274.06642 prob=1.00\n",
        "\tfeature_id 249 file_id 3 mz 275.07372 RT 556.79 intensity 7.3981e+05\tM+H@274.06645 prob=1.00\n",
        "389. avg m/z=184.98538827 avg RT=2037.07495117 prob=1.0\n",
        "\tfeature_id 990 file_id 2 mz 184.98536 RT 2062.39 intensity 4.6577e+04\tM+H@183.97808 prob=1.00\n",
        "\tfeature_id 776 file_id 3 mz 184.98542 RT 2011.76 intensity 1.8701e+05\tM+H@183.97815 prob=1.00\n",
        "390. avg m/z=165.05452358 avg RT=335.305252075 prob=1.0\n",
        "\tfeature_id 191 file_id 0 mz 165.05444 RT 339.58 intensity 7.6619e+05\tM+H@164.04716 prob=1.00\n",
        "\tfeature_id 178 file_id 1 mz 165.05443 RT 336.63 intensity 7.2810e+05\tM+H@164.04715 prob=1.00\n",
        "\tfeature_id 272 file_id 2 mz 165.05461 RT 331.90 intensity 2.6488e+05\tM+H@164.04733 prob=1.00\n",
        "\tfeature_id 251 file_id 3 mz 165.05462 RT 333.11 intensity 7.1695e+05\tM+H@164.04734 prob=1.00\n",
        "391. avg m/z=426.160465835 avg RT=736.882492065 prob=1.0\n",
        "\tfeature_id 668 file_id 0 mz 426.16015 RT 741.38 intensity 1.5211e+05\tM+H@425.15287 prob=1.00\n",
        "\tfeature_id 609 file_id 1 mz 426.16008 RT 737.71 intensity 1.5746e+05\tM+H@425.15280 prob=1.00\n",
        "\tfeature_id 573 file_id 2 mz 426.16085 RT 736.45 intensity 1.0966e+05\tM+H@425.15357 prob=1.00\n",
        "\tfeature_id 462 file_id 3 mz 426.16078 RT 732.00 intensity 3.5995e+05\tM+H@425.15351 prob=1.00\n",
        "392. avg m/z=244.092581686 avg RT=1163.25500488 prob=1.0\n",
        "\tfeature_id 131 file_id 1 mz 244.09235 RT 1160.47 intensity 1.1344e+06\tM+H@243.08507 prob=1.00\n",
        "\tfeature_id 66 file_id 3 mz 244.09282 RT 1166.04 intensity 3.4240e+06\tM+H@243.08554 prob=0.50\n",
        "393. avg m/z=234.131544899 avg RT=337.543251038 prob=1.0\n",
        "\tfeature_id 143 file_id 0 mz 234.13140 RT 338.05 intensity 1.1080e+06\tM+HC13@232.12091 prob=0.55\n",
        "\tfeature_id 136 file_id 1 mz 234.13136 RT 341.21 intensity 1.0753e+06\tM+HC13@232.12090 prob=0.50\n",
        "\tfeature_id 136 file_id 2 mz 234.13171 RT 331.90 intensity 6.3217e+05\tM+HC13@232.12122 prob=0.55\n",
        "\tfeature_id 180 file_id 3 mz 234.13171 RT 339.02 intensity 1.0532e+06\tM+HC13@232.12123 prob=0.53\n",
        "394. avg m/z=119.081503479 avg RT=1595.81500244 prob=1.0\n",
        "\tfeature_id 501 file_id 2 mz 119.08150 RT 1597.68 intensity 1.2702e+05\tM+H@118.07423 prob=1.00\n",
        "\tfeature_id 367 file_id 3 mz 119.08151 RT 1593.95 intensity 4.5717e+05\tM+H@118.07423 prob=1.00\n",
        "395. avg m/z=79.0178473422 avg RT=2500.97497559 prob=1.0\n",
        "\tfeature_id 661 file_id 0 mz 79.01786 RT 2515.04 intensity 1.5630e+05\tM+H@78.01058 prob=1.00\n",
        "\tfeature_id 683 file_id 1 mz 79.01784 RT 2486.91 intensity 1.3448e+05\tM+H@78.01056 prob=1.00\n",
        "396. avg m/z=89.5068145916 avg RT=2104.01489258 prob=1.0\n",
        "\tfeature_id 590 file_id 0 mz 89.50681 RT 2145.64 intensity 1.8574e+05\tM+H@88.49953 prob=1.00\n",
        "\tfeature_id 401 file_id 2 mz 89.50682 RT 2062.39 intensity 1.6808e+05\tM+H@88.49954 prob=1.00\n",
        "397. avg m/z=577.133319005 avg RT=76.1870994568 prob=1.0\n",
        "\tfeature_id 888 file_id 0 mz 577.13346 RT 76.00 intensity 9.0062e+04\tM+H@576.12618 prob=1.00\n",
        "\tfeature_id 949 file_id 1 mz 577.13318 RT 76.37 intensity 7.0848e+04\tM+H@576.12590 prob=1.00\n",
        "398. avg m/z=160.107973494 avg RT=787.74899292 prob=1.0\n",
        "\tfeature_id 355 file_id 2 mz 160.10796 RT 791.78 intensity 1.9705e+05\tM+H@159.10068 prob=1.00\n",
        "\tfeature_id 530 file_id 3 mz 160.10799 RT 783.72 intensity 3.0898e+05\tM+H@159.10071 prob=1.00\n",
        "399. avg m/z=239.966414328 avg RT=2089.49749756 prob=1.0\n",
        "\tfeature_id 891 file_id 0 mz 239.96635 RT 2079.80 intensity 8.9816e+04\tM+H@238.95908 prob=1.00\n",
        "\tfeature_id 793 file_id 1 mz 239.96636 RT 2081.78 intensity 1.0522e+05\tM+H@238.95909 prob=1.00\n",
        "\tfeature_id 605 file_id 2 mz 239.96645 RT 2111.39 intensity 1.0309e+05\tM+H@238.95917 prob=1.00\n",
        "\tfeature_id 849 file_id 3 mz 239.96649 RT 2085.02 intensity 1.6455e+05\tM+H@238.95922 prob=1.00\n",
        "400. avg m/z=347.095042107 avg RT=564.093994141 prob=1.0\n",
        "\tfeature_id 534 file_id 2 mz 347.09502 RT 656.06 intensity 1.1822e+05\tM+H@346.08774 prob=1.00\n",
        "\tfeature_id 121 file_id 3 mz 347.09507 RT 472.13 intensity 1.6834e+06\tM+H@346.08779 prob=1.00\n",
        "401. avg m/z=321.132027678 avg RT=330.684672038 prob=1.0\n",
        "\tfeature_id 909 file_id 1 mz 321.13169 RT 335.10 intensity 7.7891e+04\tM+H@320.12441 prob=1.00\n",
        "\tfeature_id 762 file_id 2 mz 321.13219 RT 325.36 intensity 7.2716e+04\tM+H@320.12491 prob=1.00\n",
        "\tfeature_id 900 file_id 3 mz 321.13221 RT 331.60 intensity 1.4653e+05\tM+H@320.12493 prob=1.00\n",
        "402. avg m/z=300.092273246 avg RT=593.834747314 prob=1.0\n",
        "\tfeature_id 450 file_id 0 mz 300.09207 RT 594.36 intensity 2.7317e+05\tM+H@299.08480 prob=1.00\n",
        "\tfeature_id 406 file_id 1 mz 300.09203 RT 597.67 intensity 2.7508e+05\tM+H@299.08476 prob=1.00\n",
        "\tfeature_id 326 file_id 2 mz 300.09252 RT 594.90 intensity 2.2188e+05\tM+H@299.08525 prob=1.00\n",
        "\tfeature_id 279 file_id 3 mz 300.09246 RT 588.41 intensity 6.3561e+05\tM+H@299.08519 prob=1.00\n",
        "403. avg m/z=101.070862879 avg RT=940.756673177 prob=1.0\n",
        "\tfeature_id 612 file_id 0 mz 101.07082 RT 885.71 intensity 1.7715e+05\tM+H@100.06354 prob=1.00\n",
        "\tfeature_id 501 file_id 1 mz 101.07082 RT 1007.21 intensity 2.1360e+05\tM+H@100.06354 prob=1.00\n",
        "\tfeature_id 702 file_id 2 mz 101.07095 RT 929.35 intensity 8.3812e+04\tM+H@100.06367 prob=0.50\n",
        "404. avg m/z=159.023919371 avg RT=2164.16491699 prob=1.0\n",
        "\tfeature_id 533 file_id 2 mz 159.02388 RT 2066.95 intensity 1.1824e+05\tM+H@158.01660 prob=1.00\n",
        "\tfeature_id 754 file_id 3 mz 159.02396 RT 2261.38 intensity 1.9373e+05\tM+H@158.01669 prob=1.00\n",
        "405. avg m/z=141.958402627 avg RT=2413.5300293 prob=1.0\n",
        "\tfeature_id 983 file_id 0 mz 141.95842 RT 2350.83 intensity 7.0123e+04\tM+H@140.95114 prob=1.00\n",
        "\tfeature_id 724 file_id 1 mz 141.95839 RT 2476.23 intensity 1.2328e+05\tM+H@140.95111 prob=1.00\n",
        "406. avg m/z=357.058628276 avg RT=312.135009766 prob=1.0\n",
        "\tfeature_id 995 file_id 0 mz 357.05868 RT 312.76 intensity 6.8087e+04\tM+H@356.05140 prob=1.00\n",
        "\tfeature_id 958 file_id 1 mz 357.05858 RT 311.51 intensity 6.9824e+04\tM+H@356.05130 prob=1.00\n",
        "407. avg m/z=409.160376254 avg RT=595.098503113 prob=1.0\n",
        "\tfeature_id 866 file_id 0 mz 409.16018 RT 774.82 intensity 9.3937e+04\tM+H@408.15291 prob=1.00\n",
        "\tfeature_id 143 file_id 1 mz 409.16014 RT 590.29 intensity 9.6348e+05\tM+H@408.15286 prob=1.00\n",
        "\tfeature_id 641 file_id 2 mz 409.16071 RT 591.72 intensity 9.6000e+04\tM+H@408.15344 prob=1.00\n",
        "\tfeature_id 934 file_id 3 mz 409.16047 RT 423.56 intensity 1.3927e+05\tM+H@408.15319 prob=1.00\n",
        "408. avg m/z=179.081322695 avg RT=354.344497681 prob=1.0\n",
        "\tfeature_id 454 file_id 1 mz 179.08120 RT 356.40 intensity 2.4139e+05\tM+ACN+H@137.04753 prob=0.54\n",
        "\tfeature_id 250 file_id 2 mz 179.08145 RT 352.29 intensity 2.9702e+05\tM+ACN+H@137.04766 prob=0.54\n",
        "409. avg m/z=442.228084087 avg RT=813.32699585 prob=1.0\n",
        "\tfeature_id 650 file_id 0 mz 442.22809 RT 814.54 intensity 1.6256e+05\tM+H@441.22081 prob=1.00\n",
        "\tfeature_id 621 file_id 1 mz 442.22808 RT 812.12 intensity 1.5286e+05\tM+H@441.22081 prob=1.00\n",
        "410. avg m/z=273.094244956 avg RT=382.85874939 prob=1.0\n",
        "\tfeature_id 204 file_id 0 mz 273.09403 RT 385.92 intensity 7.3338e+05\tM+H@272.08676 prob=1.00\n",
        "\tfeature_id 170 file_id 1 mz 273.09398 RT 384.26 intensity 7.5022e+05\tM+H@272.08671 prob=1.00\n",
        "\tfeature_id 218 file_id 2 mz 273.09449 RT 378.28 intensity 3.5053e+05\tM+H@272.08721 prob=1.00\n",
        "\tfeature_id 195 file_id 3 mz 273.09448 RT 382.98 intensity 9.6830e+05\tM+H@272.08720 prob=1.00\n",
        "411. avg m/z=83.5170726919 avg RT=2143.38000488 prob=1.0\n",
        "\tfeature_id 912 file_id 0 mz 83.51707 RT 2168.18 intensity 8.5960e+04\tM+H@82.50979 prob=1.00\n",
        "\tfeature_id 597 file_id 1 mz 83.51708 RT 2118.58 intensity 1.6409e+05\tM+H@82.50980 prob=1.00\n",
        "412. avg m/z=180.975985305 avg RT=813.139994303 prob=1.0\n",
        "\tfeature_id 598 file_id 0 mz 180.97596 RT 810.16 intensity 1.8429e+05\tM+H@179.96869 prob=1.00\n",
        "\tfeature_id 613 file_id 1 mz 180.97595 RT 810.67 intensity 1.5670e+05\tM+H@179.96867 prob=1.00\n",
        "\tfeature_id 772 file_id 2 mz 180.97605 RT 818.59 intensity 7.1146e+04\tM+H@179.96877 prob=1.00\n",
        "413. avg m/z=114.558297399 avg RT=42.0946502686 prob=1.0\n",
        "\tfeature_id 849 file_id 2 mz 114.55828 RT 26.67 intensity 6.2290e+04\tM+H@113.55101 prob=1.00\n",
        "\tfeature_id 716 file_id 3 mz 114.55831 RT 57.52 intensity 2.0770e+05\tM+H@113.55103 prob=1.00\n",
        "414. avg m/z=115.069303206 avg RT=1036.86002604 prob=1.0\n",
        "\tfeature_id 413 file_id 0 mz 115.06928 RT 1028.63 intensity 3.0772e+05\tM+H@114.06200 prob=1.00\n",
        "\tfeature_id 387 file_id 1 mz 115.06926 RT 1029.56 intensity 2.9814e+05\tM+H@114.06198 prob=0.52\n",
        "\tfeature_id 289 file_id 2 mz 115.06937 RT 1052.39 intensity 2.5142e+05\tM+H@114.06209 prob=0.52\n",
        "415. avg m/z=295.026188894 avg RT=989.192993164 prob=1.0\n",
        "\tfeature_id 998 file_id 0 mz 295.02592 RT 994.24 intensity 6.7621e+04\tM+H@294.01865 prob=1.00\n",
        "\tfeature_id 993 file_id 2 mz 295.02645 RT 984.14 intensity 4.6419e+04\tM+H@294.01918 prob=1.00\n",
        "416. avg m/z=81.5205483478 avg RT=2651.65332031 prob=1.0\n",
        "\tfeature_id 105 file_id 0 mz 81.52058 RT 2720.39 intensity 1.6526e+06\tM+H@80.51330 prob=1.00\n",
        "\tfeature_id 91 file_id 1 mz 81.52057 RT 2747.11 intensity 1.7368e+06\tM+H@80.51329 prob=1.00\n",
        "\tfeature_id 181 file_id 2 mz 81.52050 RT 2487.46 intensity 4.8201e+05\tM+H@80.51323 prob=1.00\n",
        "417. avg m/z=146.980175051 avg RT=625.058013916 prob=1.0\n",
        "\tfeature_id 910 file_id 2 mz 146.98009 RT 580.57 intensity 5.4202e+04\tM+H@145.97282 prob=1.00\n",
        "\tfeature_id 810 file_id 3 mz 146.98026 RT 669.55 intensity 1.7725e+05\tM+H@145.97298 prob=1.00\n",
        "418. avg m/z=109.521602566 avg RT=2083.14001465 prob=1.0\n",
        "\tfeature_id 579 file_id 2 mz 109.52159 RT 2097.62 intensity 1.0759e+05\tM+H@108.51431 prob=1.00\n",
        "\tfeature_id 359 file_id 3 mz 109.52162 RT 2068.66 intensity 4.7246e+05\tM+H@108.51434 prob=1.00\n",
        "419. avg m/z=255.944074081 avg RT=2113.66247559 prob=1.0\n",
        "\tfeature_id 225 file_id 0 mz 255.94404 RT 2114.26 intensity 5.9481e+05\tM+H@254.93676 prob=1.00\n",
        "\tfeature_id 190 file_id 1 mz 255.94399 RT 2109.77 intensity 6.6507e+05\tM+H@254.93672 prob=1.00\n",
        "\tfeature_id 155 file_id 2 mz 255.94414 RT 2127.96 intensity 5.4352e+05\tM+H@254.93686 prob=1.00\n",
        "\tfeature_id 264 file_id 3 mz 255.94413 RT 2102.66 intensity 6.8778e+05\tM+H@254.93685 prob=1.00\n",
        "420. avg m/z=141.958484703 avg RT=32.1016821861 prob=1.0\n",
        "\tfeature_id 367 file_id 0 mz 141.95840 RT  2.98 intensity 3.5936e+05\tM+H@140.95112 prob=1.00\n",
        "\tfeature_id 430 file_id 1 mz 141.95837 RT 65.65 intensity 2.5778e+05\tM+H@140.95109 prob=1.00\n",
        "\tfeature_id 304 file_id 2 mz 141.95857 RT 31.05 intensity 2.3770e+05\tM+H@140.95129 prob=1.00\n",
        "\tfeature_id 454 file_id 3 mz 141.95861 RT 28.74 intensity 3.6430e+05\tM+H@140.95133 prob=1.00\n",
        "421. avg m/z=473.149353664 avg RT=832.493988037 prob=1.0\n",
        "\tfeature_id 524 file_id 0 mz 473.14899 RT 837.46 intensity 2.1384e+05\tM+H@472.14172 prob=1.00\n",
        "\tfeature_id 829 file_id 2 mz 473.14971 RT 827.53 intensity 6.3973e+04\tM+H@472.14244 prob=0.65\n",
        "422. avg m/z=122.071206738 avg RT=1788.07998657 prob=1.0\n",
        "\tfeature_id 229 file_id 0 mz 122.07114 RT 1766.86 intensity 5.8188e+05\tM+H@121.06386 prob=1.00\n",
        "\tfeature_id 212 file_id 1 mz 122.07111 RT 1773.23 intensity 5.7886e+05\tM+H@121.06383 prob=1.00\n",
        "\tfeature_id 216 file_id 2 mz 122.07128 RT 1810.64 intensity 3.5950e+05\tM+H@121.06400 prob=1.00\n",
        "\tfeature_id 259 file_id 3 mz 122.07131 RT 1801.59 intensity 6.9520e+05\tM+H@121.06403 prob=1.00\n",
        "423. avg m/z=73.5318212367 avg RT=2554.16007487 prob=1.0\n",
        "\tfeature_id 378 file_id 0 mz 73.53181 RT 2466.83 intensity 3.4845e+05\tM+H@72.52453 prob=1.00\n",
        "\tfeature_id 372 file_id 1 mz 73.53179 RT 2725.82 intensity 3.1251e+05\tM+H@72.52451 prob=1.00\n",
        "\tfeature_id 553 file_id 3 mz 73.53186 RT 2469.83 intensity 2.9933e+05\tM+H@72.52459 prob=1.00\n",
        "424. avg m/z=141.95838683 avg RT=2666.18505859 prob=1.0\n",
        "\tfeature_id 807 file_id 0 mz 141.95840 RT 2728.12 intensity 1.0918e+05\tM+H@140.95112 prob=1.00\n",
        "\tfeature_id 653 file_id 1 mz 141.95837 RT 2604.25 intensity 1.4310e+05\tM+H@140.95110 prob=1.00\n",
        "425. avg m/z=494.186543594 avg RT=804.584991455 prob=1.0\n",
        "\tfeature_id 738 file_id 0 mz 494.18654 RT 804.32 intensity 1.2941e+05\tM+H@493.17927 prob=1.00\n",
        "\tfeature_id 698 file_id 1 mz 494.18654 RT 804.85 intensity 1.3119e+05\tM+H@493.17927 prob=1.00\n",
        "426. avg m/z=124.086793289 avg RT=370.345336914 prob=1.0\n",
        "\tfeature_id 697 file_id 0 mz 124.08672 RT 403.96 intensity 1.4086e+05\tM+H@123.07945 prob=1.00\n",
        "\tfeature_id 687 file_id 1 mz 124.08674 RT 421.64 intensity 1.3358e+05\tM+H@123.07947 prob=1.00\n",
        "\tfeature_id 597 file_id 2 mz 124.08691 RT 285.43 intensity 1.0535e+05\tM+H@123.07964 prob=1.00\n",
        "427. avg m/z=545.200249496 avg RT=737.666992188 prob=1.0\n",
        "\tfeature_id 864 file_id 2 mz 545.20037 RT 743.33 intensity 6.0598e+04\tM+H@544.19310 prob=1.00\n",
        "\tfeature_id 816 file_id 3 mz 545.20012 RT 732.00 intensity 1.7482e+05\tM+H@544.19285 prob=1.00\n",
        "428. avg m/z=149.080653185 avg RT=399.260749817 prob=1.0\n",
        "\tfeature_id 840 file_id 0 mz 149.08054 RT 407.25 intensity 9.9893e+04\tM+H@148.07326 prob=1.00\n",
        "\tfeature_id 787 file_id 1 mz 149.08052 RT 405.36 intensity 1.0606e+05\tM+H@148.07325 prob=1.00\n",
        "\tfeature_id 543 file_id 2 mz 149.08077 RT 398.51 intensity 1.1599e+05\tM+H@148.07349 prob=1.00\n",
        "\tfeature_id 775 file_id 3 mz 149.08078 RT 385.92 intensity 1.8736e+05\tM+H@148.07351 prob=1.00\n",
        "429. avg m/z=82.0222408968 avg RT=2391.89501953 prob=1.0\n",
        "\tfeature_id 725 file_id 0 mz 82.02223 RT 2304.50 intensity 1.3282e+05\tM+H@81.01496 prob=1.00\n",
        "\tfeature_id 721 file_id 1 mz 82.02225 RT 2479.29 intensity 1.2433e+05\tM+H@81.01497 prob=1.00\n",
        "430. avg m/z=160.075551844 avg RT=968.645980835 prob=1.0\n",
        "\tfeature_id 139 file_id 0 mz 160.07546 RT 970.86 intensity 1.1754e+06\tM+H@159.06818 prob=1.00\n",
        "\tfeature_id 128 file_id 1 mz 160.07543 RT 964.09 intensity 1.1679e+06\tM+H@159.06815 prob=1.00\n",
        "\tfeature_id 291 file_id 2 mz 160.07567 RT 991.78 intensity 2.4953e+05\tM+H@159.06840 prob=1.00\n",
        "\tfeature_id 653 file_id 3 mz 160.07565 RT 947.85 intensity 2.3877e+05\tM+H@159.06837 prob=1.00\n",
        "431. avg m/z=206.100259948 avg RT=790.731002808 prob=1.0\n",
        "\tfeature_id 320 file_id 0 mz 206.10015 RT 786.73 intensity 4.0963e+05\tM+HC13@204.08962 prob=0.52\n",
        "\tfeature_id 285 file_id 1 mz 206.10013 RT 788.79 intensity 4.3373e+05\tM+HC13@204.08959 prob=0.52\n",
        "\tfeature_id 432 file_id 2 mz 206.10036 RT 796.43 intensity 1.5725e+05\tM+HC13@204.08982 prob=0.52\n",
        "\tfeature_id 523 file_id 3 mz 206.10040 RT 790.97 intensity 3.1401e+05\tM+HC13@204.08982 prob=0.52\n",
        "432. avg m/z=90.9766768637 avg RT=1796.42999268 prob=1.0\n",
        "\tfeature_id 476 file_id 2 mz 90.97667 RT 1749.07 intensity 1.3558e+05\tM+H@89.96940 prob=1.00\n",
        "\tfeature_id 895 file_id 3 mz 90.97668 RT 1843.79 intensity 1.4767e+05\tM+H@89.96941 prob=1.00\n",
        "433. avg m/z=138.510649398 avg RT=2108.00500488 prob=1.0\n",
        "\tfeature_id 859 file_id 0 mz 138.51066 RT 2094.85 intensity 9.5381e+04\tM+H@137.50339 prob=1.00\n",
        "\tfeature_id 766 file_id 1 mz 138.51065 RT 2078.82 intensity 1.1201e+05\tM+H@137.50337 prob=1.00\n",
        "\tfeature_id 900 file_id 2 mz 138.51063 RT 2183.71 intensity 5.5427e+04\tM+H@137.50336 prob=1.00\n",
        "\tfeature_id 949 file_id 3 mz 138.51065 RT 2074.64 intensity 1.3412e+05\tM+H@137.50337 prob=1.00\n",
        "434. avg m/z=148.096573141 avg RT=902.925984701 prob=1.0\n",
        "\tfeature_id 787 file_id 0 mz 148.09653 RT 896.47 intensity 1.1396e+05\tM+H@147.08925 prob=1.00\n",
        "\tfeature_id 806 file_id 1 mz 148.09649 RT 896.51 intensity 1.0221e+05\tM+H@147.08922 prob=1.00\n",
        "\tfeature_id 424 file_id 2 mz 148.09670 RT 915.80 intensity 1.6149e+05\tM+H@147.08942 prob=1.00\n",
        "435. avg m/z=362.925639243 avg RT=1263.29498291 prob=1.0\n",
        "\tfeature_id 530 file_id 0 mz 362.92566 RT 1260.89 intensity 2.1063e+05\tM+H@361.91839 prob=1.00\n",
        "\tfeature_id 487 file_id 1 mz 362.92561 RT 1265.70 intensity 2.2293e+05\tM+H@361.91834 prob=1.00\n",
        "436. avg m/z=137.045701945 avg RT=616.780502319 prob=1.0\n",
        "\tfeature_id 21 file_id 0 mz 137.04565 RT 621.19 intensity 4.3728e+06\tM+H@136.03837 prob=1.00\n",
        "\tfeature_id 26 file_id 1 mz 137.04563 RT 615.53 intensity 4.2301e+06\tM+H@136.03836 prob=1.00\n",
        "\tfeature_id 20 file_id 2 mz 137.04574 RT 617.39 intensity 3.8343e+06\tM+H@136.03847 prob=1.00\n",
        "\tfeature_id 20 file_id 3 mz 137.04578 RT 613.01 intensity 8.3058e+06\tM+H@136.03851 prob=1.00\n",
        "437. avg m/z=150.058232536 avg RT=830.677490234 prob=1.0\n",
        "\tfeature_id 123 file_id 0 mz 150.05819 RT 828.87 intensity 1.4632e+06\tM+H@149.05091 prob=1.00\n",
        "\tfeature_id 104 file_id 1 mz 150.05817 RT 827.88 intensity 1.5153e+06\tM+H@149.05089 prob=1.00\n",
        "\tfeature_id 79 file_id 2 mz 150.05830 RT 834.88 intensity 1.1048e+06\tM+H@149.05103 prob=1.00\n",
        "\tfeature_id 100 file_id 3 mz 150.05827 RT 831.08 intensity 2.2216e+06\tM+H@149.05100 prob=1.00\n",
        "438. avg m/z=246.066185683 avg RT=550.702514648 prob=1.0\n",
        "\tfeature_id 353 file_id 0 mz 246.06621 RT 546.12 intensity 3.7453e+05\tM+HC13@244.05591 prob=0.52\n",
        "\tfeature_id 311 file_id 1 mz 246.06616 RT 555.28 intensity 3.8191e+05\tM+HC13@244.05581 prob=0.52\n",
        "439. avg m/z=255.11014018 avg RT=336.032999674 prob=1.0\n",
        "\tfeature_id 38 file_id 0 mz 255.11005 RT 338.05 intensity 2.9627e+06\tM+Na@232.12091 prob=0.55\n",
        "\tfeature_id 43 file_id 1 mz 255.11002 RT 338.16 intensity 2.9555e+06\tM+Na@232.12090 prob=0.50\n",
        "\tfeature_id 53 file_id 2 mz 255.11035 RT 331.90 intensity 1.8779e+06\tM+Na@232.12122 prob=0.55\n",
        "440. avg m/z=171.005456373 avg RT=2112.91998291 prob=1.0\n",
        "\tfeature_id 831 file_id 0 mz 171.00545 RT 2121.68 intensity 1.0233e+05\tM+H@169.99818 prob=1.00\n",
        "\tfeature_id 713 file_id 1 mz 171.00546 RT 2108.30 intensity 1.2724e+05\tM+H@169.99819 prob=1.00\n",
        "\tfeature_id 488 file_id 2 mz 171.00543 RT 2123.46 intensity 1.3215e+05\tM+H@169.99815 prob=1.00\n",
        "\tfeature_id 857 file_id 3 mz 171.00548 RT 2098.24 intensity 1.6249e+05\tM+H@169.99821 prob=1.00\n",
        "441. avg m/z=280.993032437 avg RT=2149.61002604 prob=1.0\n",
        "\tfeature_id 789 file_id 1 mz 280.99291 RT 2074.37 intensity 1.0587e+05\tM+H@279.98563 prob=1.00\n",
        "\tfeature_id 887 file_id 2 mz 280.99308 RT 2289.44 intensity 5.7549e+04\tM+H@279.98580 prob=1.00\n",
        "\tfeature_id 600 file_id 3 mz 280.99311 RT 2085.02 intensity 2.6957e+05\tM+H@279.98584 prob=1.00\n",
        "442. avg m/z=357.141752517 avg RT=361.699666341 prob=1.0\n",
        "\tfeature_id 762 file_id 0 mz 357.14154 RT 362.43 intensity 1.2202e+05\tM+H@356.13426 prob=1.00\n",
        "\tfeature_id 640 file_id 1 mz 357.14157 RT 364.02 intensity 1.4624e+05\tM+H@356.13429 prob=1.00\n",
        "\tfeature_id 395 file_id 2 mz 357.14215 RT 358.65 intensity 1.7142e+05\tM+H@356.13487 prob=1.00\n",
        "443. avg m/z=120.080710195 avg RT=747.269989014 prob=1.0\n",
        "\tfeature_id 110 file_id 0 mz 120.08065 RT 741.38 intensity 1.5922e+06\tM+H@119.07338 prob=1.00\n",
        "\tfeature_id 99 file_id 2 mz 120.08077 RT 753.16 intensity 8.8265e+05\tM+H@119.07349 prob=1.00\n",
        "444. avg m/z=82.0137857156 avg RT=2049.81005859 prob=1.0\n",
        "\tfeature_id 862 file_id 0 mz 82.01379 RT 2050.78 intensity 9.5078e+04\tM+H@81.00651 prob=1.00\n",
        "\tfeature_id 924 file_id 1 mz 82.01379 RT 2048.84 intensity 7.4452e+04\tM+H@81.00651 prob=1.00\n",
        "445. avg m/z=98.0963502495 avg RT=344.441335042 prob=1.0\n",
        "\tfeature_id 907 file_id 0 mz 98.09631 RT 344.17 intensity 8.6850e+04\tM+H@97.08903 prob=1.00\n",
        "\tfeature_id 993 file_id 1 mz 98.09631 RT 345.78 intensity 6.5126e+04\tM+H@97.08903 prob=1.00\n",
        "\tfeature_id 952 file_id 3 mz 98.09643 RT 343.38 intensity 1.3383e+05\tM+H@97.08916 prob=1.00\n",
        "446. avg m/z=85.5736312824 avg RT=1607.98999023 prob=1.0\n",
        "\tfeature_id 859 file_id 2 mz 85.57362 RT 1612.69 intensity 6.1037e+04\tM+H@84.56635 prob=1.00\n",
        "\tfeature_id 520 file_id 3 mz 85.57364 RT 1603.29 intensity 3.1544e+05\tM+H@84.56636 prob=1.00\n",
        "447. avg m/z=219.083766396 avg RT=563.771499634 prob=1.0\n",
        "\tfeature_id 405 file_id 0 mz 219.08363 RT 566.52 intensity 3.1452e+05\tM+H@218.07635 prob=1.00\n",
        "\tfeature_id 375 file_id 1 mz 219.08360 RT 569.83 intensity 3.1054e+05\tM+H@218.07632 prob=1.00\n",
        "\tfeature_id 194 file_id 2 mz 219.08390 RT 561.95 intensity 4.2313e+05\tM+H@218.07662 prob=1.00\n",
        "\tfeature_id 273 file_id 3 mz 219.08394 RT 556.79 intensity 6.6827e+05\tM+H@218.07667 prob=1.00\n",
        "448. avg m/z=199.837807918 avg RT=1792.7199707 prob=1.0\n",
        "\tfeature_id 218 file_id 1 mz 266.11459 RT 1771.71 intensity 5.6047e+05\tM+H@265.10731 prob=0.83\n",
        "\tfeature_id 236 file_id 2 mz 133.56103 RT 1813.73 intensity 3.2291e+05\tM+2H@265.10770 prob=0.51\n",
        "449. avg m/z=167.012709704 avg RT=2057.63995361 prob=1.0\n",
        "\tfeature_id 99 file_id 1 mz 167.01266 RT 2318.14 intensity 1.6135e+06\tM+H@166.00538 prob=1.00\n",
        "\tfeature_id 225 file_id 3 mz 167.01276 RT 1797.14 intensity 8.5660e+05\tM+H@166.00548 prob=1.00\n",
        "450. avg m/z=124.543437179 avg RT=2189.13000488 prob=1.0\n",
        "\tfeature_id 955 file_id 2 mz 124.54342 RT 2277.07 intensity 4.9931e+04\tM+H@123.53614 prob=1.00\n",
        "\tfeature_id 751 file_id 3 mz 124.54345 RT 2101.19 intensity 1.9413e+05\tM+H@123.53618 prob=1.00\n",
        "451. avg m/z=113.963576298 avg RT=2019.67999268 prob=1.0\n",
        "\tfeature_id 981 file_id 0 mz 113.96355 RT 2018.59 intensity 7.0932e+04\tM+H@112.95627 prob=1.00\n",
        "\tfeature_id 802 file_id 3 mz 113.96360 RT 2020.77 intensity 1.7924e+05\tM+H@112.95633 prob=1.00\n",
        "452. avg m/z=95.0437466592 avg RT=2637.6266276 prob=1.0\n",
        "\tfeature_id 958 file_id 0 mz 95.04371 RT 2746.70 intensity 7.5739e+04\tM+H@94.03644 prob=0.50\n",
        "\tfeature_id 963 file_id 1 mz 95.04369 RT 2582.89 intensity 6.9341e+04\tM+H@94.03642 prob=0.50\n",
        "\tfeature_id 765 file_id 3 mz 95.04383 RT 2583.29 intensity 1.8959e+05\tM+H@94.03656 prob=0.50\n",
        "453. avg m/z=147.043828532 avg RT=336.570007324 prob=1.0\n",
        "\tfeature_id 492 file_id 0 mz 147.04385 RT 338.05 intensity 2.3220e+05\tM+H@146.03658 prob=1.00\n",
        "\tfeature_id 535 file_id 1 mz 147.04380 RT 335.10 intensity 1.9668e+05\tM+H@146.03653 prob=1.00\n",
        "454. avg m/z=310.187279337 avg RT=831.448018392 prob=1.0\n",
        "\tfeature_id 385 file_id 0 mz 310.18714 RT 831.73 intensity 3.3968e+05\tM+H@309.17986 prob=0.52\n",
        "\tfeature_id 343 file_id 1 mz 310.18711 RT 832.16 intensity 3.5249e+05\tM+H@309.17983 prob=0.64\n",
        "\tfeature_id 171 file_id 2 mz 310.18759 RT 830.46 intensity 5.0955e+05\tM+H@309.18032 prob=0.65\n",
        "455. avg m/z=202.17993372 avg RT=926.884506226 prob=1.0\n",
        "\tfeature_id 434 file_id 0 mz 202.17983 RT 929.93 intensity 2.9084e+05\tM+H@201.17256 prob=1.00\n",
        "\tfeature_id 381 file_id 1 mz 202.17979 RT 925.27 intensity 3.0484e+05\tM+H@201.17252 prob=1.00\n",
        "\tfeature_id 223 file_id 2 mz 202.18005 RT 948.82 intensity 3.4422e+05\tM+H@201.17277 prob=1.00\n",
        "\tfeature_id 197 file_id 3 mz 202.18006 RT 903.51 intensity 9.6297e+05\tM+H@201.17278 prob=1.00\n",
        "456. avg m/z=174.102425939 avg RT=372.495506287 prob=1.0\n",
        "\tfeature_id 154 file_id 0 mz 174.10233 RT 376.43 intensity 1.0380e+06\tM+H@173.09505 prob=1.00\n",
        "\tfeature_id 134 file_id 1 mz 174.10228 RT 364.02 intensity 1.0861e+06\tM+H@173.09501 prob=1.00\n",
        "\tfeature_id 107 file_id 2 mz 174.10253 RT 365.08 intensity 8.3841e+05\tM+H@173.09526 prob=1.00\n",
        "\tfeature_id 139 file_id 3 mz 174.10256 RT 384.45 intensity 1.4266e+06\tM+H@173.09528 prob=1.00\n",
        "457. avg m/z=176.013176679 avg RT=40.141500473 prob=1.0\n",
        "\tfeature_id 974 file_id 1 mz 176.01304 RT 56.54 intensity 6.8163e+04\tM+H@175.00576 prob=1.00\n",
        "\tfeature_id 740 file_id 2 mz 176.01331 RT 23.74 intensity 7.7027e+04\tM+H@175.00604 prob=1.00\n",
        "458. avg m/z=100.138915386 avg RT=818.130004883 prob=1.0\n",
        "\tfeature_id 809 file_id 1 mz 100.13892 RT 816.46 intensity 1.0086e+05\tM+H@99.13165 prob=1.00\n",
        "\tfeature_id 794 file_id 3 mz 100.13891 RT 819.80 intensity 1.8127e+05\tM+H@99.13163 prob=1.00\n",
        "459. avg m/z=114.558281031 avg RT=2062.68005371 prob=1.0\n",
        "\tfeature_id 393 file_id 0 mz 114.55829 RT 2062.99 intensity 3.3251e+05\tM+H@113.55102 prob=1.00\n",
        "\tfeature_id 328 file_id 1 mz 114.55827 RT 2062.37 intensity 3.6584e+05\tM+H@113.55099 prob=1.00\n",
        "460. avg m/z=168.015923997 avg RT=2351.07666016 prob=1.0\n",
        "\tfeature_id 1000 file_id 1 mz 168.01584 RT 2303.00 intensity 6.4139e+04\tM+H@167.00856 prob=1.00\n",
        "\tfeature_id 909 file_id 2 mz 168.01592 RT 2397.26 intensity 5.4598e+04\tM+H@167.00864 prob=1.00\n",
        "\tfeature_id 998 file_id 3 mz 168.01601 RT 2352.97 intensity 1.2181e+05\tM+H@167.00874 prob=1.00\n",
        "461. avg m/z=141.958392264 avg RT=2571.14501953 prob=1.0\n",
        "\tfeature_id 899 file_id 0 mz 141.95841 RT 2455.96 intensity 8.7906e+04\tM+H@140.95113 prob=1.00\n",
        "\tfeature_id 660 file_id 1 mz 141.95837 RT 2686.33 intensity 1.3998e+05\tM+H@140.95110 prob=1.00\n",
        "462. avg m/z=110.019961686 avg RT=2022.36669922 prob=1.0\n",
        "\tfeature_id 109 file_id 0 mz 110.01994 RT 2017.04 intensity 1.6278e+06\tM+H@109.01267 prob=1.00\n",
        "\tfeature_id 80 file_id 1 mz 110.01992 RT 2033.81 intensity 1.9032e+06\tM+H@109.01265 prob=1.00\n",
        "\tfeature_id 10 file_id 3 mz 110.02002 RT 2016.25 intensity 1.1980e+07\tM+H@109.01274 prob=1.00\n",
        "463. avg m/z=269.121004906 avg RT=703.254007975 prob=1.0\n"
       ]
      },
      {
       "output_type": "stream",
       "stream": "stdout",
       "text": [
        "\tfeature_id 707 file_id 1 mz 269.12063 RT 701.86 intensity 1.2808e+05\tM+HC13@267.11020 prob=0.52\n",
        "\tfeature_id 274 file_id 2 mz 269.12121 RT 707.62 intensity 2.6350e+05\tM+HC13@267.11067 prob=0.52\n",
        "\tfeature_id 179 file_id 3 mz 269.12118 RT 700.29 intensity 1.0601e+06\tM+HC13@267.11069 prob=0.54\n",
        "464. avg m/z=72.0808280253 avg RT=1986.54498291 prob=1.0\n",
        "\tfeature_id 449 file_id 0 mz 72.08080 RT 1963.25 intensity 2.7542e+05\tM+H@71.07352 prob=1.00\n",
        "\tfeature_id 421 file_id 1 mz 72.08078 RT 1969.10 intensity 2.6617e+05\tM+H@71.07351 prob=1.00\n",
        "\tfeature_id 303 file_id 2 mz 72.08086 RT 2002.07 intensity 2.3834e+05\tM+H@71.07359 prob=1.00\n",
        "\tfeature_id 265 file_id 3 mz 72.08087 RT 2011.76 intensity 6.8505e+05\tM+H@71.07359 prob=1.00\n",
        "465. avg m/z=203.146765395 avg RT=872.660980225 prob=1.0\n",
        "\tfeature_id 630 file_id 0 mz 203.14679 RT 871.76 intensity 1.7272e+05\tM+HC13@201.13622 prob=0.52\n",
        "\tfeature_id 635 file_id 1 mz 203.14674 RT 873.56 intensity 1.4799e+05\tM+HC13@201.13618 prob=0.52\n",
        "466. avg m/z=82.0222574523 avg RT=43.8913002014 prob=1.0\n",
        "\tfeature_id 883 file_id 0 mz 82.02227 RT 31.24 intensity 9.1141e+04\tM+H@81.01499 prob=1.00\n",
        "\tfeature_id 860 file_id 1 mz 82.02225 RT 56.54 intensity 8.8098e+04\tM+H@81.01497 prob=1.00\n",
        "467. avg m/z=167.012679734 avg RT=2667.16333008 prob=1.0\n",
        "\tfeature_id 298 file_id 0 mz 167.01261 RT 2592.70 intensity 4.5112e+05\tM+H@166.00534 prob=1.00\n",
        "\tfeature_id 220 file_id 1 mz 167.01261 RT 2534.10 intensity 5.5369e+05\tM+H@166.00533 prob=1.00\n",
        "\tfeature_id 176 file_id 3 mz 167.01281 RT 2874.69 intensity 1.0654e+06\tM+H@166.00554 prob=1.00\n",
        "468. avg m/z=233.128340707 avg RT=337.161506653 prob=1.0\n",
        "\tfeature_id 6 file_id 0 mz 233.12818 RT 338.05 intensity 7.9086e+06\tM+H@232.12091 prob=1.00\n",
        "\tfeature_id 10 file_id 1 mz 233.12818 RT 339.68 intensity 7.6095e+06\tM+H@232.12090 prob=1.00\n",
        "\tfeature_id 14 file_id 2 mz 233.12850 RT 331.90 intensity 4.6062e+06\tM+H@232.12122 prob=1.00\n",
        "\tfeature_id 23 file_id 3 mz 233.12850 RT 339.02 intensity 7.5118e+06\tM+H@232.12123 prob=1.00\n",
        "469. avg m/z=89.0595976116 avg RT=181.155595779 prob=1.0\n",
        "\tfeature_id 742 file_id 1 mz 89.05953 RT 50.52 intensity 1.1971e+05\tM+H@88.05225 prob=1.00\n",
        "\tfeature_id 825 file_id 2 mz 89.05967 RT 311.79 intensity 6.4468e+04\tM+H@88.05239 prob=1.00\n",
        "470. avg m/z=263.073821055 avg RT=607.9375 prob=1.0\n",
        "\tfeature_id 425 file_id 2 mz 263.07376 RT 583.76 intensity 1.6142e+05\tM+H@262.06648 prob=1.00\n",
        "\tfeature_id 522 file_id 3 mz 263.07389 RT 632.11 intensity 3.1489e+05\tM+H@262.06661 prob=1.00\n",
        "471. avg m/z=159.076232165 avg RT=1141.76498413 prob=1.0\n",
        "\tfeature_id 391 file_id 0 mz 159.07612 RT 1138.82 intensity 3.3417e+05\tM+H@158.06884 prob=1.00\n",
        "\tfeature_id 367 file_id 1 mz 159.07609 RT 1135.69 intensity 3.1509e+05\tM+H@158.06881 prob=1.00\n",
        "\tfeature_id 482 file_id 2 mz 159.07634 RT 1151.75 intensity 1.3447e+05\tM+H@158.06907 prob=1.00\n",
        "\tfeature_id 554 file_id 3 mz 159.07638 RT 1140.80 intensity 2.9863e+05\tM+H@158.06910 prob=1.00\n",
        "472. avg m/z=331.062767922 avg RT=913.493988037 prob=1.0\n",
        "\tfeature_id 773 file_id 1 mz 331.06247 RT 919.19 intensity 1.0885e+05\tM+HC13@329.05201 prob=0.52\n",
        "\tfeature_id 660 file_id 2 mz 331.06307 RT 907.80 intensity 9.1600e+04\tM+HC13@329.05266 prob=0.52\n",
        "473. avg m/z=291.104775088 avg RT=517.410514832 prob=1.0\n",
        "\tfeature_id 341 file_id 0 mz 291.10457 RT 520.25 intensity 3.8359e+05\tM+H@290.09730 prob=1.00\n",
        "\tfeature_id 357 file_id 1 mz 291.10454 RT 531.59 intensity 3.2930e+05\tM+H@290.09726 prob=1.00\n",
        "\tfeature_id 561 file_id 2 mz 291.10496 RT 513.87 intensity 1.1218e+05\tM+H@290.09768 prob=1.00\n",
        "\tfeature_id 516 file_id 3 mz 291.10503 RT 503.94 intensity 3.1708e+05\tM+H@290.09775 prob=1.00\n",
        "474. avg m/z=70.0651964143 avg RT=384.025756836 prob=1.0\n",
        "\tfeature_id 354 file_id 0 mz 70.06517 RT 384.32 intensity 3.7403e+05\tM+H@69.05789 prob=1.00\n",
        "\tfeature_id 373 file_id 1 mz 70.06515 RT 389.05 intensity 3.1177e+05\tM+H@69.05788 prob=1.00\n",
        "\tfeature_id 617 file_id 2 mz 70.06523 RT 378.28 intensity 1.0042e+05\tM+H@69.05795 prob=1.00\n",
        "\tfeature_id 468 file_id 3 mz 70.06524 RT 384.45 intensity 3.5719e+05\tM+H@69.05796 prob=1.00\n",
        "475. avg m/z=79.0178406006 avg RT=2622.77990723 prob=1.0\n",
        "\tfeature_id 647 file_id 0 mz 79.01785 RT 2729.68 intensity 1.6433e+05\tM+H@78.01057 prob=1.00\n",
        "\tfeature_id 614 file_id 1 mz 79.01784 RT 2515.88 intensity 1.5657e+05\tM+H@78.01056 prob=1.00\n",
        "476. avg m/z=167.012718853 avg RT=2288.25667318 prob=1.0\n",
        "\tfeature_id 26 file_id 0 mz 167.01277 RT 2165.17 intensity 3.6846e+06\tM+H@166.00550 prob=1.00\n",
        "\tfeature_id 201 file_id 1 mz 167.01261 RT 2511.29 intensity 6.1383e+05\tM+H@166.00533 prob=1.00\n",
        "\tfeature_id 34 file_id 3 mz 167.01277 RT 2188.31 intensity 6.1398e+06\tM+H@166.00550 prob=1.00\n",
        "477. avg m/z=70.0126812068 avg RT=2266.30505371 prob=1.0\n",
        "\tfeature_id 433 file_id 0 mz 70.01266 RT 2440.49 intensity 2.9119e+05\tM+H@69.00538 prob=1.00\n",
        "\tfeature_id 479 file_id 1 mz 70.01270 RT 2092.12 intensity 2.2777e+05\tM+H@69.00543 prob=1.00\n",
        "478. avg m/z=110.008759233 avg RT=2058.4800415 prob=1.0\n",
        "\tfeature_id 380 file_id 0 mz 110.00872 RT 2052.30 intensity 3.4538e+05\tM+H@109.00145 prob=1.00\n",
        "\tfeature_id 418 file_id 1 mz 110.00867 RT 2056.35 intensity 2.6700e+05\tM+H@109.00139 prob=1.00\n",
        "\tfeature_id 743 file_id 2 mz 110.00878 RT 2076.10 intensity 7.6625e+04\tM+H@109.00150 prob=1.00\n",
        "\tfeature_id 860 file_id 3 mz 110.00887 RT 2049.17 intensity 1.6161e+05\tM+H@109.00159 prob=1.00\n",
        "479. avg m/z=431.213821871 avg RT=729.294006348 prob=1.0\n",
        "\tfeature_id 866 file_id 2 mz 431.21381 RT 731.20 intensity 6.0055e+04\tM+H@430.20654 prob=1.00\n",
        "\tfeature_id 344 file_id 3 mz 431.21383 RT 727.39 intensity 4.9012e+05\tM+H@430.20655 prob=1.00\n",
        "480. avg m/z=309.184109408 avg RT=828.143981934 prob=1.0\n",
        "\tfeature_id 44 file_id 0 mz 309.18393 RT 830.30 intensity 2.7290e+06\tM+H@308.17665 prob=1.00\n",
        "\tfeature_id 46 file_id 1 mz 309.18388 RT 829.31 intensity 2.7945e+06\tM+H@308.17661 prob=1.00\n",
        "\tfeature_id 19 file_id 2 mz 309.18434 RT 827.53 intensity 3.9220e+06\tM+H@308.17707 prob=1.00\n",
        "\tfeature_id 29 file_id 3 mz 309.18428 RT 825.44 intensity 6.6448e+06\tM+H@308.17700 prob=1.00\n",
        "481. avg m/z=117.054551499 avg RT=447.069000244 prob=1.0\n",
        "\tfeature_id 337 file_id 1 mz 117.05445 RT 470.08 intensity 3.5868e+05\tM+H@116.04718 prob=1.00\n",
        "\tfeature_id 220 file_id 2 mz 117.05459 RT 456.59 intensity 3.4534e+05\tM+H@116.04732 prob=1.00\n",
        "\tfeature_id 629 file_id 3 mz 117.05461 RT 414.53 intensity 2.5168e+05\tM+H@116.04733 prob=1.00\n",
        "482. avg m/z=245.06313736 avg RT=550.702514648 prob=1.0\n",
        "\tfeature_id 20 file_id 0 mz 245.06319 RT 546.12 intensity 4.4261e+06\tM+H@244.05591 prob=1.00\n",
        "\tfeature_id 21 file_id 1 mz 245.06309 RT 555.28 intensity 4.7301e+06\tM+H@244.05581 prob=1.00\n",
        "483. avg m/z=158.002800794 avg RT=2485.69506836 prob=1.0\n",
        "\tfeature_id 895 file_id 2 mz 158.00274 RT 2398.84 intensity 5.6209e+04\tM+H@156.99546 prob=1.00\n",
        "\tfeature_id 577 file_id 3 mz 158.00286 RT 2572.55 intensity 2.8075e+05\tM+H@156.99558 prob=1.00\n",
        "484. avg m/z=169.049289731 avg RT=699.338500977 prob=1.0\n",
        "\tfeature_id 296 file_id 0 mz 169.04935 RT 566.52 intensity 4.5380e+05\tM+H@168.04207 prob=1.00\n",
        "\tfeature_id 552 file_id 1 mz 169.04923 RT 832.16 intensity 1.8488e+05\tM+H@168.04195 prob=1.00\n",
        "485. avg m/z=95.0438115007 avg RT=2214.45007324 prob=1.0\n",
        "\tfeature_id 410 file_id 1 mz 95.04379 RT 2201.86 intensity 2.7212e+05\tM+H@94.03651 prob=0.50\n",
        "\tfeature_id 370 file_id 3 mz 95.04383 RT 2227.04 intensity 4.5519e+05\tM+H@94.03656 prob=0.50\n",
        "486. avg m/z=258.11812344 avg RT=798.50600179 prob=1.0\n",
        "\tfeature_id 768 file_id 0 mz 258.11798 RT 831.73 intensity 1.1926e+05\tM+H@257.11071 prob=1.00\n",
        "\tfeature_id 754 file_id 1 mz 258.11797 RT 779.97 intensity 1.1412e+05\tM+H@257.11069 prob=1.00\n",
        "\tfeature_id 926 file_id 2 mz 258.11842 RT 783.82 intensity 5.3081e+04\tM+H@257.11114 prob=1.00\n",
        "487. avg m/z=114.066120902 avg RT=1035.92250061 prob=1.0\n",
        "\tfeature_id 9 file_id 0 mz 114.06607 RT 1037.74 intensity 7.1254e+06\tM+H@113.05879 prob=1.00\n",
        "\tfeature_id 12 file_id 1 mz 114.06605 RT 1031.08 intensity 6.9225e+06\tM+H@113.05877 prob=1.00\n",
        "\tfeature_id 9 file_id 2 mz 114.06618 RT 1054.04 intensity 5.8247e+06\tM+H@113.05890 prob=1.00\n",
        "\tfeature_id 11 file_id 3 mz 114.06619 RT 1020.83 intensity 1.0998e+07\tM+H@113.05892 prob=1.00\n",
        "488. avg m/z=220.117742656 avg RT=848.410507202 prob=1.0\n",
        "\tfeature_id 786 file_id 0 mz 220.11756 RT 852.04 intensity 1.1477e+05\tM+H@219.11028 prob=1.00\n",
        "\tfeature_id 672 file_id 1 mz 220.11755 RT 843.64 intensity 1.3698e+05\tM+H@219.11027 prob=1.00\n",
        "\tfeature_id 122 file_id 2 mz 220.11794 RT 855.35 intensity 7.5570e+05\tM+H@219.11067 prob=1.00\n",
        "\tfeature_id 107 file_id 3 mz 220.11792 RT 842.60 intensity 2.0917e+06\tM+H@219.11064 prob=1.00\n",
        "489. avg m/z=125.042493664 avg RT=450.416666667 prob=1.0\n",
        "\tfeature_id 428 file_id 0 mz 125.04241 RT 455.39 intensity 2.9677e+05\tM+HC13@123.03190 prob=0.52\n",
        "\tfeature_id 267 file_id 2 mz 125.04251 RT 448.75 intensity 2.8081e+05\tM+HC13@123.03204 prob=0.52\n",
        "\tfeature_id 457 file_id 3 mz 125.04256 RT 447.11 intensity 3.6307e+05\tM+HC13@123.03205 prob=0.52\n",
        "490. avg m/z=208.039355561 avg RT=2186.66003418 prob=1.0\n",
        "\tfeature_id 153 file_id 2 mz 208.03936 RT 2176.10 intensity 5.4799e+05\tM+H@207.03208 prob=1.00\n",
        "\tfeature_id 290 file_id 3 mz 208.03936 RT 2197.22 intensity 6.1154e+05\tM+H@207.03208 prob=1.00\n",
        "491. avg m/z=291.104764767 avg RT=491.62399292 prob=1.0\n",
        "\tfeature_id 318 file_id 1 mz 291.10452 RT 477.80 intensity 3.7638e+05\tM+H@290.09725 prob=1.00\n",
        "\tfeature_id 431 file_id 2 mz 291.10500 RT 505.45 intensity 1.5733e+05\tM+H@290.09773 prob=1.00\n",
        "492. avg m/z=82.0222416522 avg RT=2389.625 prob=1.0\n",
        "\tfeature_id 799 file_id 0 mz 82.02224 RT 2584.89 intensity 1.1024e+05\tM+H@81.01497 prob=1.00\n",
        "\tfeature_id 516 file_id 1 mz 82.02224 RT 2194.36 intensity 2.0621e+05\tM+H@81.01496 prob=1.00\n",
        "493. avg m/z=82.5370914458 avg RT=2535.7800293 prob=1.0\n",
        "\tfeature_id 730 file_id 0 mz 82.53709 RT 2644.11 intensity 1.3163e+05\tM+H@81.52981 prob=1.00\n",
        "\tfeature_id 760 file_id 1 mz 82.53709 RT 2427.45 intensity 1.1272e+05\tM+H@81.52982 prob=1.00\n",
        "494. avg m/z=132.854241865 avg RT=785.912994385 prob=1.0\n",
        "\tfeature_id 355 file_id 0 mz 133.10502 RT 783.77 intensity 3.7395e+05\tM+HC13@131.09449 prob=0.52\n",
        "\tfeature_id 298 file_id 1 mz 133.10500 RT 782.92 intensity 3.9679e+05\tM+HC13@131.09448 prob=0.52\n",
        "\tfeature_id 305 file_id 2 mz 133.10507 RT 791.78 intensity 2.3721e+05\tM+HC13@131.09458 prob=0.52\n",
        "\tfeature_id 31 file_id 3 mz 132.10188 RT 785.18 intensity 6.5613e+06\tM+H@131.09460 prob=1.00\n",
        "495. avg m/z=81.5205391125 avg RT=2154.33001709 prob=1.0\n",
        "\tfeature_id 77 file_id 0 mz 81.52057 RT 2384.80 intensity 2.1305e+06\tM+H@80.51329 prob=1.00\n",
        "\tfeature_id 207 file_id 1 mz 81.52051 RT 1923.86 intensity 6.0067e+05\tM+H@80.51323 prob=1.00\n",
        "496. avg m/z=170.080873188 avg RT=1037.30197144 prob=1.0\n",
        "\tfeature_id 988 file_id 1 mz 170.08073 RT 1081.19 intensity 6.5467e+04\tM+H@169.07345 prob=1.00\n",
        "\tfeature_id 83 file_id 3 mz 170.08102 RT 993.41 intensity 2.5499e+06\tM+H@169.07374 prob=0.50\n",
        "497. avg m/z=208.039345311 avg RT=2219.23999023 prob=1.0\n",
        "\tfeature_id 295 file_id 2 mz 208.03932 RT 2272.42 intensity 2.4502e+05\tM+H@207.03205 prob=0.67\n",
        "\tfeature_id 232 file_id 3 mz 208.03937 RT 2166.06 intensity 8.2896e+05\tM+H@207.03209 prob=1.00\n",
        "498. avg m/z=130.521814671 avg RT=2059.57674154 prob=1.0\n",
        "\tfeature_id 990 file_id 0 mz 130.52181 RT 2053.81 intensity 6.8722e+04\tM+H@129.51453 prob=1.00\n",
        "\tfeature_id 920 file_id 1 mz 130.52177 RT 2050.35 intensity 7.4770e+04\tM+H@129.51449 prob=1.00\n",
        "\tfeature_id 801 file_id 2 mz 130.52187 RT 2074.57 intensity 6.7932e+04\tM+H@129.51459 prob=1.00\n",
        "499. avg m/z=203.147011458 avg RT=871.217987061 prob=1.0\n",
        "\tfeature_id 162 file_id 2 mz 203.14702 RT 883.72 intensity 5.2512e+05\tM+H@202.13974 prob=0.68\n",
        "\tfeature_id 196 file_id 3 mz 203.14700 RT 858.72 intensity 9.6380e+05\tM+H@202.13973 prob=0.65\n",
        "500. avg m/z=89.5066823637 avg RT=2464.07495117 prob=1.0\n",
        "\tfeature_id 498 file_id 0 mz 89.50669 RT 2482.43 intensity 2.2780e+05\tM+H@88.49941 prob=0.50\n",
        "\tfeature_id 392 file_id 1 mz 89.50668 RT 2445.72 intensity 2.9101e+05\tM+H@88.49940 prob=0.50\n",
        "501. avg m/z=81.5205580465 avg RT=2188.52502441 prob=1.0\n",
        "\tfeature_id 66 file_id 0 mz 81.52056 RT 2347.75 intensity 2.2368e+06\tM+H@80.51329 prob=1.00\n",
        "\tfeature_id 167 file_id 1 mz 81.52055 RT 2029.30 intensity 7.7024e+05\tM+H@80.51327 prob=1.00\n",
        "502. avg m/z=104.030076467 avg RT=2463.66748047 prob=1.0\n",
        "\tfeature_id 971 file_id 0 mz 104.03004 RT 2463.71 intensity 7.3113e+04\tM+H@103.02277 prob=1.00\n",
        "\tfeature_id 575 file_id 1 mz 104.03004 RT 2269.71 intensity 1.7241e+05\tM+H@103.02276 prob=1.00\n",
        "\tfeature_id 875 file_id 2 mz 104.03010 RT 2630.00 intensity 5.9035e+04\tM+H@103.02282 prob=1.00\n",
        "\tfeature_id 956 file_id 3 mz 104.03012 RT 2491.25 intensity 1.3163e+05\tM+H@103.02285 prob=1.00\n",
        "503. avg m/z=82.5370899061 avg RT=2444.70996094 prob=1.0\n",
        "\tfeature_id 742 file_id 0 mz 82.53709 RT 2522.78 intensity 1.2791e+05\tM+H@81.52981 prob=1.00\n",
        "\tfeature_id 843 file_id 1 mz 82.53709 RT 2366.64 intensity 9.1118e+04\tM+H@81.52981 prob=1.00\n",
        "504. avg m/z=409.411246452 avg RT=682.61151123 prob=1.0\n",
        "\tfeature_id 665 file_id 0 mz 410.16357 RT 587.00 intensity 1.5509e+05\tM+HC13@408.15289 prob=0.52\n",
        "\tfeature_id 694 file_id 1 mz 409.15999 RT 782.92 intensity 1.3194e+05\tM+H@408.15272 prob=1.00\n",
        "\tfeature_id 571 file_id 2 mz 409.16074 RT 782.18 intensity 1.1033e+05\tM+H@408.15347 prob=1.00\n",
        "\tfeature_id 574 file_id 3 mz 409.16069 RT 578.34 intensity 2.8202e+05\tM+H@408.15341 prob=1.00\n",
        "505. avg m/z=122.547070684 avg RT=2019.91003418 prob=1.0\n",
        "\tfeature_id 66 file_id 1 mz 122.54706 RT 2189.87 intensity 2.2537e+06\tM+H@121.53979 prob=0.50\n",
        "\tfeature_id 140 file_id 3 mz 122.54708 RT 1849.95 intensity 1.4109e+06\tM+H@121.53980 prob=0.50\n",
        "506. avg m/z=73.5318207257 avg RT=41.6194992065 prob=1.0\n",
        "\tfeature_id 471 file_id 0 mz 73.53179 RT 23.68 intensity 2.5189e+05\tM+H@72.52451 prob=1.00\n",
        "\tfeature_id 422 file_id 1 mz 73.53178 RT 45.94 intensity 2.6474e+05\tM+H@72.52450 prob=1.00\n",
        "\tfeature_id 761 file_id 2 mz 73.53186 RT 69.64 intensity 7.3361e+04\tM+H@72.52458 prob=1.00\n",
        "\tfeature_id 611 file_id 3 mz 73.53186 RT 27.21 intensity 2.5779e+05\tM+H@72.52458 prob=1.00\n",
        "507. avg m/z=141.958393911 avg RT=2653.51501465 prob=1.0\n",
        "\tfeature_id 834 file_id 0 mz 141.95841 RT 2549.31 intensity 1.0121e+05\tM+H@140.95113 prob=1.00\n",
        "\tfeature_id 643 file_id 1 mz 141.95838 RT 2757.72 intensity 1.4517e+05\tM+H@140.95110 prob=1.00\n",
        "508. avg m/z=263.073824457 avg RT=590.127990723 prob=1.0\n",
        "\tfeature_id 480 file_id 2 mz 263.07387 RT 606.25 intensity 1.3501e+05\tM+H@262.06659 prob=1.00\n",
        "\tfeature_id 539 file_id 3 mz 263.07378 RT 574.01 intensity 3.0416e+05\tM+H@262.06650 prob=1.00\n",
        "509. avg m/z=152.035972453 avg RT=2053.97247314 prob=1.0\n",
        "\tfeature_id 458 file_id 0 mz 152.03594 RT 2056.88 intensity 2.6761e+05\tM+H@151.02867 prob=1.00\n",
        "\tfeature_id 399 file_id 1 mz 152.03594 RT 2045.84 intensity 2.8519e+05\tM+H@151.02866 prob=1.00\n",
        "\tfeature_id 262 file_id 2 mz 152.03600 RT 2069.99 intensity 2.8478e+05\tM+H@151.02873 prob=1.00\n",
        "\tfeature_id 414 file_id 3 mz 152.03600 RT 2043.18 intensity 4.0361e+05\tM+H@151.02873 prob=1.00\n",
        "510. avg m/z=167.092880857 avg RT=964.557006836 prob=1.0\n",
        "\tfeature_id 903 file_id 2 mz 167.09294 RT 987.22 intensity 5.5096e+04\tM+H@166.08566 prob=1.00\n",
        "\tfeature_id 916 file_id 3 mz 167.09282 RT 941.90 intensity 1.4193e+05\tM+H@166.08555 prob=1.00\n",
        "511. avg m/z=82.5370951277 avg RT=2723.02990723 prob=1.0\n",
        "\tfeature_id 709 file_id 0 mz 82.53709 RT 2712.64 intensity 1.3626e+05\tM+H@81.52981 prob=1.00\n",
        "\tfeature_id 674 file_id 1 mz 82.53710 RT 2733.42 intensity 1.3669e+05\tM+H@81.52982 prob=1.00\n",
        "512. avg m/z=167.012667353 avg RT=54.0649018288 prob=1.0\n",
        "\tfeature_id 310 file_id 0 mz 167.01258 RT 85.51 intensity 4.2395e+05\tM+H@166.00530 prob=1.00\n",
        "\tfeature_id 339 file_id 1 mz 167.01253 RT 38.40 intensity 3.5769e+05\tM+H@166.00525 prob=1.00\n",
        "\tfeature_id 145 file_id 2 mz 167.01278 RT 66.65 intensity 5.7323e+05\tM+H@166.00550 prob=1.00\n",
        "\tfeature_id 203 file_id 3 mz 167.01279 RT 25.70 intensity 9.4073e+05\tM+H@166.00551 prob=1.00\n",
        "513. avg m/z=208.039374585 avg RT=2139.72497559 prob=1.0\n",
        "\tfeature_id 104 file_id 2 mz 208.03938 RT 2142.94 intensity 8.4307e+05\tM+H@207.03211 prob=1.00\n",
        "\tfeature_id 219 file_id 3 mz 208.03937 RT 2136.51 intensity 8.7568e+05\tM+H@207.03209 prob=1.00\n",
        "514. avg m/z=129.12725801 avg RT=315.079246521 prob=1.0\n",
        "\tfeature_id 194 file_id 0 mz 129.12719 RT 315.96 intensity 7.5689e+05\tM+H@128.11991 prob=1.00\n",
        "\tfeature_id 208 file_id 1 mz 129.12716 RT 319.49 intensity 5.9859e+05\tM+H@128.11988 prob=1.00\n",
        "\tfeature_id 56 file_id 2 mz 129.12735 RT 310.16 intensity 1.8036e+06\tM+H@128.12007 prob=1.00\n",
        "\tfeature_id 112 file_id 3 mz 129.12734 RT 314.70 intensity 1.9723e+06\tM+H@128.12006 prob=1.00\n",
        "515. avg m/z=152.070466403 avg RT=875.245498657 prob=1.0\n",
        "\tfeature_id 126 file_id 0 mz 152.07043 RT 804.32 intensity 1.3559e+06\tM+H@151.06316 prob=1.00\n",
        "\tfeature_id 380 file_id 1 mz 152.07033 RT 907.12 intensity 3.0615e+05\tM+H@151.06305 prob=1.00\n",
        "\tfeature_id 405 file_id 2 mz 152.07056 RT 982.59 intensity 1.6641e+05\tM+H@151.06329 prob=1.00\n",
        "\tfeature_id 103 file_id 3 mz 152.07054 RT 806.95 intensity 2.1680e+06\tM+H@151.06327 prob=1.00\n",
        "516. avg m/z=329.084400429 avg RT=424.554992676 prob=1.0\n",
        "\tfeature_id 394 file_id 2 mz 329.08441 RT 425.55 intensity 1.7144e+05\tM+H@328.07713 prob=1.00\n",
        "\tfeature_id 652 file_id 3 mz 329.08439 RT 423.56 intensity 2.3922e+05\tM+H@328.07712 prob=1.00\n",
        "517. avg m/z=349.070034083 avg RT=95.9599990845 prob=1.0\n",
        "\tfeature_id 723 file_id 0 mz 349.07003 RT 103.13 intensity 1.3296e+05\tM+H@348.06276 prob=1.00\n",
        "\tfeature_id 992 file_id 1 mz 349.07003 RT 88.79 intensity 6.5168e+04\tM+H@348.06276 prob=1.00\n",
        "518. avg m/z=232.0815325 avg RT=447.930496216 prob=1.0\n",
        "\tfeature_id 430 file_id 2 mz 232.08149 RT 448.75 intensity 1.5741e+05\tM+H@231.07422 prob=1.00\n",
        "\tfeature_id 185 file_id 3 mz 232.08157 RT 447.11 intensity 1.0257e+06\tM+H@231.07430 prob=1.00\n",
        "519. avg m/z=102.532290706 avg RT=2302.08333333 prob=1.0\n",
        "\tfeature_id 744 file_id 1 mz 102.53226 RT 2207.83 intensity 1.1963e+05\tM+H@101.52498 prob=1.00\n",
        "\tfeature_id 925 file_id 2 mz 102.53230 RT 2444.53 intensity 5.3164e+04\tM+H@101.52502 prob=1.00\n",
        "\tfeature_id 838 file_id 3 mz 102.53232 RT 2253.89 intensity 1.6758e+05\tM+H@101.52504 prob=1.00\n",
        "520. avg m/z=106.9505448 avg RT=1244.78497314 prob=1.0\n",
        "\tfeature_id 670 file_id 2 mz 106.95053 RT 1262.74 intensity 8.9184e+04\tM+H@105.94325 prob=1.00\n",
        "\tfeature_id 830 file_id 3 mz 106.95056 RT 1226.83 intensity 1.7030e+05\tM+H@105.94328 prob=1.00\n",
        "521. avg m/z=102.535319134 avg RT=2376.36010742 prob=1.0\n",
        "\tfeature_id 487 file_id 0 mz 102.53532 RT 2550.86 intensity 2.3728e+05\tM+H@101.52804 prob=0.50\n",
        "\tfeature_id 145 file_id 1 mz 102.53532 RT 2201.86 intensity 9.4161e+05\tM+H@101.52804 prob=0.50\n",
        "522. avg m/z=214.089187121 avg RT=1.54009997845 prob=1.0\n",
        "\tfeature_id 767 file_id 0 mz 214.08920 RT  1.54 intensity 1.2019e+05\tM+H@213.08193 prob=1.00\n",
        "\tfeature_id 692 file_id 1 mz 214.08917 RT  1.54 intensity 1.3278e+05\tM+H@213.08189 prob=1.00\n",
        "523. avg m/z=132.101792957 avg RT=786.157999674 prob=1.0\n",
        "\tfeature_id 14 file_id 0 mz 132.10177 RT 783.77 intensity 5.9212e+06\tM+H@131.09449 prob=1.00\n",
        "\tfeature_id 18 file_id 1 mz 132.10175 RT 782.92 intensity 5.7540e+06\tM+H@131.09448 prob=1.00\n",
        "\tfeature_id 24 file_id 2 mz 132.10185 RT 791.78 intensity 3.5781e+06\tM+H@131.09458 prob=1.00\n",
        "524. avg m/z=233.091831392 avg RT=826.37399292 prob=1.0\n",
        "\tfeature_id 881 file_id 0 mz 233.09172 RT 824.59 intensity 9.1289e+04\tM+H@232.08444 prob=1.00\n",
        "\tfeature_id 937 file_id 1 mz 233.09167 RT 832.16 intensity 7.2915e+04\tM+H@232.08440 prob=1.00\n",
        "\tfeature_id 252 file_id 2 mz 233.09197 RT 827.53 intensity 2.9455e+05\tM+H@232.08470 prob=1.00\n",
        "\tfeature_id 306 file_id 3 mz 233.09197 RT 821.21 intensity 5.5984e+05\tM+H@232.08469 prob=1.00\n",
        "525. avg m/z=100.111979921 avg RT=937.071014404 prob=1.0\n",
        "\tfeature_id 738 file_id 1 mz 100.11190 RT 893.56 intensity 1.2008e+05\tM+H@99.10463 prob=1.00\n",
        "\tfeature_id 890 file_id 3 mz 100.11206 RT 980.58 intensity 1.4938e+05\tM+H@99.10478 prob=1.00\n",
        "526. avg m/z=377.105132897 avg RT=571.137674967 prob=1.0\n",
        "\tfeature_id 972 file_id 0 mz 377.10494 RT 566.52 intensity 7.3094e+04\tM+H@376.09766 prob=1.00\n",
        "\tfeature_id 938 file_id 1 mz 377.10493 RT 574.21 intensity 7.2417e+04\tM+H@376.09766 prob=1.00\n",
        "\tfeature_id 879 file_id 2 mz 377.10553 RT 572.69 intensity 5.8752e+04\tM+H@376.09825 prob=1.00\n",
        "527. avg m/z=195.006000584 avg RT=816.292495728 prob=1.0\n",
        "\tfeature_id 800 file_id 0 mz 195.00594 RT 814.54 intensity 1.1017e+05\tM+H@193.99866 prob=1.00\n",
        "\tfeature_id 695 file_id 1 mz 195.00591 RT 812.12 intensity 1.3165e+05\tM+H@193.99863 prob=1.00\n",
        "\tfeature_id 554 file_id 2 mz 195.00607 RT 820.12 intensity 1.1364e+05\tM+H@193.99879 prob=1.00\n",
        "\tfeature_id 935 file_id 3 mz 195.00608 RT 818.39 intensity 1.3823e+05\tM+H@193.99880 prob=1.00\n",
        "528. avg m/z=86.059991886 avg RT=993.548980713 prob=1.0\n",
        "\tfeature_id 982 file_id 2 mz 86.05998 RT 999.38 intensity 4.7112e+04\tM+H@85.05270 prob=1.00\n",
        "\tfeature_id 873 file_id 3 mz 86.06001 RT 987.72 intensity 1.5726e+05\tM+H@85.05273 prob=1.00\n",
        "529. avg m/z=216.101646412 avg RT=339.627502441 prob=1.0\n",
        "\tfeature_id 934 file_id 0 mz 216.10168 RT 338.05 intensity 8.0627e+04\tM+H@215.09440 prob=1.00\n",
        "\tfeature_id 944 file_id 1 mz 216.10161 RT 341.21 intensity 7.1216e+04\tM+H@215.09433 prob=1.00\n",
        "530. avg m/z=175.105709692 avg RT=382.689987183 prob=1.0\n",
        "\tfeature_id 814 file_id 1 mz 175.10559 RT 377.98 intensity 9.9893e+04\tM+H@174.09832 prob=1.00\n",
        "\tfeature_id 910 file_id 3 mz 175.10583 RT 387.39 intensity 1.4397e+05\tM+H@174.09855 prob=0.65\n",
        "531. avg m/z=187.086394751 avg RT=815.959487915 prob=1.0\n",
        "\tfeature_id 932 file_id 0 mz 187.08632 RT 817.43 intensity 8.1081e+04\tM+H@186.07904 prob=1.00\n",
        "\tfeature_id 839 file_id 1 mz 187.08630 RT 816.46 intensity 9.2378e+04\tM+H@186.07902 prob=1.00\n",
        "\tfeature_id 360 file_id 2 mz 187.08648 RT 820.12 intensity 1.9321e+05\tM+H@186.07921 prob=1.00\n",
        "\tfeature_id 928 file_id 3 mz 187.08648 RT 809.83 intensity 1.4012e+05\tM+H@186.07920 prob=1.00\n",
        "532. avg m/z=183.48670345 avg RT=27.7315006256 prob=1.0\n",
        "\tfeature_id 988 file_id 2 mz 183.98824 RT 25.20 intensity 4.6756e+04\tM+HC13@181.97789 prob=0.52\n",
        "\tfeature_id 164 file_id 3 mz 182.98517 RT 30.26 intensity 1.1486e+06\tM+H@181.97789 prob=1.00\n",
        "533. avg m/z=124.006230343 avg RT=1000.81550598 prob=1.0\n",
        "\tfeature_id 753 file_id 0 mz 124.00614 RT 1012.21 intensity 1.2481e+05\tM+H@122.99887 prob=1.00\n",
        "\tfeature_id 705 file_id 1 mz 124.00612 RT 1008.70 intensity 1.2866e+05\tM+H@122.99884 prob=1.00\n",
        "\tfeature_id 954 file_id 2 mz 124.00634 RT 991.78 intensity 5.0007e+04\tM+H@122.99907 prob=1.00\n",
        "\tfeature_id 943 file_id 3 mz 124.00631 RT 990.57 intensity 1.3698e+05\tM+H@122.99904 prob=1.00\n",
        "534. avg m/z=336.165306417 avg RT=731.04598999 prob=1.0\n",
        "\tfeature_id 727 file_id 2 mz 336.16528 RT 734.71 intensity 7.8958e+04\tM+H@335.15801 prob=1.00\n",
        "\tfeature_id 460 file_id 3 mz 336.16533 RT 727.39 intensity 3.6130e+05\tM+H@335.15805 prob=1.00\n",
        "535. avg m/z=82.5370917802 avg RT=2517.45495605 prob=1.0\n",
        "\tfeature_id 750 file_id 0 mz 82.53709 RT 2564.77 intensity 1.2564e+05\tM+H@81.52981 prob=1.00\n",
        "\tfeature_id 682 file_id 1 mz 82.53709 RT 2470.14 intensity 1.3462e+05\tM+H@81.52982 prob=1.00\n",
        "536. avg m/z=271.105089003 avg RT=358.841499329 prob=1.0\n",
        "\tfeature_id 559 file_id 0 mz 271.10490 RT 360.89 intensity 1.9705e+05\tM+H@270.09762 prob=0.52\n",
        "\tfeature_id 466 file_id 1 mz 271.10486 RT 360.96 intensity 2.3463e+05\tM+H@270.09758 prob=1.00\n",
        "\tfeature_id 193 file_id 2 mz 271.10531 RT 357.05 intensity 4.2527e+05\tM+H@270.09804 prob=1.00\n",
        "\tfeature_id 312 file_id 3 mz 271.10529 RT 356.46 intensity 5.4293e+05\tM+H@270.09801 prob=1.00\n",
        "537. avg m/z=367.143661667 avg RT=1768.53497314 prob=1.0\n",
        "\tfeature_id 842 file_id 2 mz 367.14367 RT 1770.49 intensity 6.3011e+04\tM+H@366.13639 prob=1.00\n",
        "\tfeature_id 639 file_id 3 mz 367.14366 RT 1766.58 intensity 2.4424e+05\tM+H@366.13638 prob=1.00\n",
        "538. avg m/z=75.0803882273 avg RT=9.51540970802 prob=1.0\n",
        "\tfeature_id 235 file_id 0 mz 75.08040 RT 11.76 intensity 5.7034e+05\tM+H@74.07312 prob=1.00\n",
        "\tfeature_id 363 file_id 1 mz 75.08038 RT  7.27 intensity 3.1871e+05\tM+H@74.07310 prob=1.00\n",
        "539. avg m/z=89.1071626819 avg RT=1945.76501465 prob=1.0\n",
        "\tfeature_id 964 file_id 0 mz 89.10718 RT 1948.92 intensity 7.3971e+04\tM+H@88.09990 prob=0.50\n",
        "\tfeature_id 931 file_id 1 mz 89.10715 RT 1942.61 intensity 7.3470e+04\tM+H@88.09987 prob=1.00\n",
        "540. avg m/z=115.557045785 avg RT=2057.38000488 prob=1.0\n",
        "\tfeature_id 386 file_id 2 mz 115.55705 RT 2074.57 intensity 1.7518e+05\tM+H@114.54977 prob=1.00\n",
        "\tfeature_id 710 file_id 3 mz 115.55704 RT 2040.19 intensity 2.0933e+05\tM+H@114.54977 prob=1.00\n",
        "541. avg m/z=205.070368784 avg RT=673.235992432 prob=1.0\n",
        "\tfeature_id 453 file_id 0 mz 205.07037 RT 700.60 intensity 2.7003e+05\tM+H@204.06310 prob=0.50\n",
        "\tfeature_id 556 file_id 1 mz 205.07036 RT 645.88 intensity 1.8212e+05\tM+H@204.06309 prob=0.50\n",
        "542. avg m/z=158.002827395 avg RT=2578.28503418 prob=1.0\n",
        "\tfeature_id 343 file_id 2 mz 158.00282 RT 2630.00 intensity 2.0635e+05\tM+H@156.99554 prob=1.00\n",
        "\tfeature_id 819 file_id 3 mz 158.00284 RT 2526.57 intensity 1.7409e+05\tM+H@156.99556 prob=1.00\n",
        "543. avg m/z=133.560949623 avg RT=1788.22998047 prob=1.0\n",
        "\tfeature_id 594 file_id 0 mz 133.56093 RT 1789.97 intensity 1.8468e+05\tM+H@132.55366 prob=1.00\n",
        "\tfeature_id 288 file_id 1 mz 133.56091 RT 1768.69 intensity 4.2265e+05\tM+H@132.55363 prob=0.66\n",
        "\tfeature_id 200 file_id 3 mz 133.56101 RT 1806.03 intensity 9.5431e+05\tM+H@132.55373 prob=1.00\n",
        "544. avg m/z=275.099804343 avg RT=386.916503906 prob=1.0\n",
        "\tfeature_id 919 file_id 1 mz 275.09956 RT 395.55 intensity 7.4896e+04\tM+H@274.09229 prob=1.00\n",
        "\tfeature_id 792 file_id 2 mz 275.10004 RT 378.28 intensity 6.8797e+04\tM+H@274.09277 prob=1.00\n",
        "545. avg m/z=227.052419632 avg RT=444.225502014 prob=1.0\n",
        "\tfeature_id 340 file_id 0 mz 227.05226 RT 447.63 intensity 3.8375e+05\tM+H@226.04498 prob=1.00\n",
        "\tfeature_id 297 file_id 1 mz 227.05223 RT 448.61 intensity 3.9758e+05\tM+H@226.04495 prob=1.00\n",
        "\tfeature_id 200 file_id 2 mz 227.05258 RT 442.28 intensity 4.0898e+05\tM+H@226.04530 prob=1.00\n",
        "\tfeature_id 431 file_id 3 mz 227.05261 RT 438.38 intensity 3.8963e+05\tM+H@226.04534 prob=1.00\n",
        "546. avg m/z=271.916395155 avg RT=2066.08996582 prob=1.0\n",
        "\tfeature_id 902 file_id 2 mz 271.91643 RT 2115.93 intensity 5.5326e+04\tM+H@270.90915 prob=1.00\n",
        "\tfeature_id 893 file_id 3 mz 271.91636 RT 2016.25 intensity 1.4783e+05\tM+H@270.90909 prob=1.00\n",
        "547. avg m/z=105.042308196 avg RT=1255.80004883 prob=1.0\n",
        "\tfeature_id 497 file_id 2 mz 105.04230 RT 1277.18 intensity 1.2816e+05\tM+H@104.03502 prob=1.00\n",
        "\tfeature_id 889 file_id 3 mz 105.04232 RT 1234.42 intensity 1.4963e+05\tM+H@104.03504 prob=1.00\n",
        "548. avg m/z=391.149744927 avg RT=604.860244751 prob=1.0\n",
        "\tfeature_id 921 file_id 0 mz 391.14947 RT 606.26 intensity 8.2755e+04\tM+H@390.14219 prob=1.00\n",
        "\tfeature_id 849 file_id 1 mz 391.14947 RT 605.11 intensity 8.9930e+04\tM+H@390.14220 prob=1.00\n",
        "\tfeature_id 506 file_id 2 mz 391.15005 RT 609.51 intensity 1.2594e+05\tM+H@390.14277 prob=1.00\n",
        "\tfeature_id 328 file_id 3 mz 391.14999 RT 598.56 intensity 5.1855e+05\tM+H@390.14271 prob=1.00\n",
        "549. avg m/z=342.139128764 avg RT=547.780487061 prob=1.0\n",
        "\tfeature_id 839 file_id 0 mz 342.13914 RT 544.65 intensity 1.0008e+05\tM+H@341.13186 prob=1.00\n",
        "\tfeature_id 736 file_id 1 mz 342.13912 RT 550.91 intensity 1.2069e+05\tM+H@341.13184 prob=1.00\n",
        "550. avg m/z=249.123186998 avg RT=361.178253174 prob=1.0\n",
        "\tfeature_id 539 file_id 0 mz 249.12301 RT 362.43 intensity 2.0711e+05\tM+H@248.11573 prob=1.00\n",
        "\tfeature_id 488 file_id 1 mz 249.12296 RT 362.49 intensity 2.2243e+05\tM+H@248.11569 prob=1.00\n",
        "\tfeature_id 246 file_id 2 mz 249.12339 RT 361.87 intensity 3.0343e+05\tM+H@248.11611 prob=1.00\n",
        "\tfeature_id 320 file_id 3 mz 249.12339 RT 357.93 intensity 5.3401e+05\tM+H@248.11611 prob=1.00\n",
        "551. avg m/z=335.094713422 avg RT=684.725992839 prob=1.0\n",
        "\tfeature_id 571 file_id 0 mz 335.09430 RT 706.90 intensity 1.9117e+05\tM+H@334.08702 prob=0.50\n",
        "\tfeature_id 340 file_id 2 mz 335.09491 RT 677.73 intensity 2.0776e+05\tM+H@334.08763 prob=1.00\n",
        "\tfeature_id 332 file_id 3 mz 335.09494 RT 669.55 intensity 5.1009e+05\tM+H@334.08766 prob=1.00\n",
        "552. avg m/z=153.572547386 avg RT=1781.57661947 prob=1.0\n",
        "\tfeature_id 905 file_id 0 mz 153.57248 RT 1771.46 intensity 8.7294e+04\tM+H@152.56520 prob=0.64\n",
        "\tfeature_id 788 file_id 1 mz 153.57248 RT 1761.08 intensity 1.0597e+05\tM+H@152.56520 prob=1.00\n",
        "\tfeature_id 477 file_id 2 mz 153.57269 RT 1812.19 intensity 1.3550e+05\tM+H@152.56541 prob=0.50\n",
        "553. avg m/z=167.012654725 avg RT=2654.02661133 prob=1.0\n",
        "\tfeature_id 309 file_id 0 mz 167.01259 RT 2746.70 intensity 4.2633e+05\tM+H@166.00532 prob=1.00\n",
        "\tfeature_id 272 file_id 1 mz 167.01257 RT 2751.67 intensity 4.4966e+05\tM+H@166.00530 prob=1.00\n",
        "\tfeature_id 120 file_id 3 mz 167.01279 RT 2463.71 intensity 1.6855e+06\tM+H@166.00552 prob=1.00\n",
        "554. avg m/z=187.059836078 avg RT=809.390991211 prob=1.0\n",
        "\tfeature_id 946 file_id 0 mz 187.05985 RT 783.77 intensity 7.7884e+04\tM+H@186.05257 prob=1.00\n",
        "\tfeature_id 869 file_id 1 mz 187.05982 RT 835.01 intensity 8.5710e+04\tM+H@186.05255 prob=1.00\n",
        "555. avg m/z=102.532273544 avg RT=2272.98999023 prob=1.0\n",
        "\tfeature_id 864 file_id 1 mz 102.53220 RT 2303.00 intensity 8.6565e+04\tM+H@101.52493 prob=1.00\n",
        "\tfeature_id 716 file_id 2 mz 102.53230 RT 2312.77 intensity 8.0603e+04\tM+H@101.52503 prob=1.00\n",
        "\tfeature_id 783 file_id 3 mz 102.53232 RT 2203.20 intensity 1.8512e+05\tM+H@101.52504 prob=1.00\n",
        "556. avg m/z=291.15434926 avg RT=1110.55999756 prob=1.0\n",
        "\tfeature_id 955 file_id 0 mz 291.15438 RT 1108.73 intensity 7.6314e+04\tM+H@290.14711 prob=1.00\n",
        "\tfeature_id 913 file_id 1 mz 291.15432 RT 1112.39 intensity 7.6141e+04\tM+H@290.14704 prob=1.00\n",
        "557. avg m/z=200.075850652 avg RT=1800.0 prob=1.0\n",
        "\tfeature_id 540 file_id 2 mz 200.07581 RT 1802.86 intensity 1.1625e+05\tM+H@199.06854 prob=1.00\n",
        "\tfeature_id 269 file_id 3 mz 200.07589 RT 1797.14 intensity 6.7897e+05\tM+H@199.06861 prob=1.00\n",
        "558. avg m/z=467.137381541 avg RT=664.467010498 prob=1.0\n",
        "\tfeature_id 375 file_id 2 mz 467.13743 RT 670.42 intensity 1.8243e+05\tM+H@466.13015 prob=1.00\n",
        "\tfeature_id 317 file_id 3 mz 467.13733 RT 658.52 intensity 5.3536e+05\tM+H@466.13006 prob=0.50\n",
        "559. avg m/z=296.965448169 avg RT=2045.31994629 prob=1.0\n",
        "\tfeature_id 695 file_id 2 mz 296.96546 RT 2063.91 intensity 8.4964e+04\tM+H@295.95818 prob=1.00\n",
        "\tfeature_id 617 file_id 3 mz 296.96544 RT 2026.73 intensity 2.5653e+05\tM+H@295.95816 prob=1.00\n",
        "560. avg m/z=413.265529544 avg RT=237.153007507 prob=1.0\n",
        "\tfeature_id 491 file_id 0 mz 413.26557 RT 164.40 intensity 2.3458e+05\tM+H@412.25830 prob=1.00\n",
        "\tfeature_id 579 file_id 1 mz 413.26548 RT 309.91 intensity 1.7196e+05\tM+H@412.25821 prob=1.00\n",
        "561. avg m/z=81.5205251283 avg RT=1883.32000732 prob=1.0\n",
        "\tfeature_id 205 file_id 0 mz 81.52053 RT 1994.93 intensity 7.2849e+05\tM+H@80.51325 prob=1.00\n",
        "\tfeature_id 278 file_id 1 mz 81.52052 RT 1771.71 intensity 4.4320e+05\tM+H@80.51324 prob=1.00\n",
        "562. avg m/z=82.5371050337 avg RT=40.863699913 prob=1.0\n",
        "\tfeature_id 772 file_id 0 mz 82.53711 RT 26.69 intensity 1.1905e+05\tM+H@81.52983 prob=1.00\n",
        "\tfeature_id 765 file_id 1 mz 82.53710 RT 55.03 intensity 1.1217e+05\tM+H@81.52983 prob=1.00\n",
        "563. avg m/z=227.12489505 avg RT=1038.17500305 prob=1.0\n",
        "\tfeature_id 140 file_id 0 mz 227.12477 RT 1042.34 intensity 1.1622e+06\tM+H@226.11749 prob=1.00\n",
        "\tfeature_id 127 file_id 1 mz 227.12472 RT 1037.14 intensity 1.1681e+06\tM+H@226.11744 prob=1.00\n",
        "\tfeature_id 98 file_id 2 mz 227.12503 RT 1052.39 intensity 8.8440e+05\tM+H@226.11776 prob=1.00\n",
        "\tfeature_id 95 file_id 3 mz 227.12506 RT 1020.83 intensity 2.3458e+06\tM+H@226.11778 prob=1.00\n",
        "564. avg m/z=147.076242725 avg RT=1086.4375 prob=1.0\n",
        "\tfeature_id 153 file_id 0 mz 147.07615 RT 1085.36 intensity 1.0533e+06\tM+H@146.06887 prob=1.00\n",
        "\tfeature_id 138 file_id 1 mz 147.07612 RT 1082.83 intensity 1.0279e+06\tM+H@146.06885 prob=1.00\n",
        "\tfeature_id 115 file_id 2 mz 147.07634 RT 1092.90 intensity 7.9854e+05\tM+H@146.06907 prob=1.00\n",
        "\tfeature_id 105 file_id 3 mz 147.07635 RT 1084.66 intensity 2.1330e+06\tM+H@146.06908 prob=1.00\n",
        "565. avg m/z=185.02325154 avg RT=2359.97998047 prob=1.0\n",
        "\tfeature_id 704 file_id 2 mz 185.02322 RT 2524.22 intensity 8.3368e+04\tM+H@184.01595 prob=1.00\n",
        "\tfeature_id 948 file_id 3 mz 185.02328 RT 2195.74 intensity 1.3489e+05\tM+H@184.01600 prob=1.00\n",
        "566. avg m/z=498.900874948 avg RT=1259.48751831 prob=1.0\n",
        "\tfeature_id 843 file_id 0 mz 498.90052 RT 1260.89 intensity 9.8849e+04\tM+H@497.89324 prob=1.00\n",
        "\tfeature_id 781 file_id 1 mz 498.90044 RT 1261.17 intensity 1.0658e+05\tM+H@497.89316 prob=1.00\n",
        "\tfeature_id 438 file_id 2 mz 498.90136 RT 1272.41 intensity 1.5424e+05\tM+H@497.89409 prob=1.00\n",
        "\tfeature_id 558 file_id 3 mz 498.90118 RT 1243.48 intensity 2.9665e+05\tM+H@497.89390 prob=1.00\n",
        "567. avg m/z=134.044627824 avg RT=1053.52749634 prob=1.0\n",
        "\tfeature_id 193 file_id 0 mz 134.04454 RT 1053.24 intensity 7.5767e+05\tM+H@133.03727 prob=1.00\n",
        "\tfeature_id 179 file_id 1 mz 134.04453 RT 1054.06 intensity 7.1590e+05\tM+H@133.03726 prob=1.00\n",
        "\tfeature_id 144 file_id 2 mz 134.04471 RT 1057.36 intensity 5.7818e+05\tM+H@133.03744 prob=1.00\n",
        "\tfeature_id 91 file_id 3 mz 134.04472 RT 1049.45 intensity 2.3891e+06\tM+H@133.03745 prob=1.00\n",
        "568. avg m/z=81.5205485243 avg RT=1978.62506104 prob=1.0\n",
        "\tfeature_id 7 file_id 0 mz 81.52059 RT 2106.83 intensity 7.8431e+06\tM+H@80.51331 prob=1.00\n",
        "\tfeature_id 239 file_id 1 mz 81.52051 RT 1850.42 intensity 5.1807e+05\tM+H@80.51323 prob=1.00\n",
        "569. avg m/z=130.130682979 avg RT=312.483001709 prob=1.0\n",
        "\tfeature_id 444 file_id 2 mz 130.13068 RT 311.79 intensity 1.5077e+05\tM+H@129.12340 prob=0.52\n",
        "\tfeature_id 851 file_id 3 mz 130.13069 RT 313.17 intensity 1.6423e+05\tM+H@129.12341 prob=0.52\n",
        "570. avg m/z=82.5370945566 avg RT=2699.7800293 prob=1.0\n",
        "\tfeature_id 702 file_id 0 mz 82.53709 RT 2746.70 intensity 1.3889e+05\tM+H@81.52982 prob=1.00\n",
        "\tfeature_id 719 file_id 1 mz 82.53710 RT 2652.86 intensity 1.2495e+05\tM+H@81.52982 prob=1.00\n",
        "571. avg m/z=159.968857838 avg RT=12.3351035515 prob=1.0\n",
        "\tfeature_id 790 file_id 0 mz 159.96877 RT  4.42 intensity 1.1335e+05\tM+H@158.96149 prob=1.00\n",
        "\tfeature_id 588 file_id 1 mz 159.96876 RT  1.54 intensity 1.6849e+05\tM+H@158.96148 prob=1.00\n",
        "\tfeature_id 362 file_id 2 mz 159.96905 RT 31.05 intensity 1.9125e+05\tM+H@158.96177 prob=1.00\n",
        "572. avg m/z=95.545330588 avg RT=2051.66003418 prob=1.0\n",
        "\tfeature_id 874 file_id 0 mz 95.54534 RT 2041.64 intensity 9.2597e+04\tM+H@94.53806 prob=1.00\n",
        "\tfeature_id 820 file_id 1 mz 95.54532 RT 2050.35 intensity 9.8456e+04\tM+H@94.53804 prob=1.00\n",
        "\tfeature_id 519 file_id 2 mz 95.54530 RT 2068.47 intensity 1.2134e+05\tM+H@94.53803 prob=1.00\n",
        "\tfeature_id 833 file_id 3 mz 95.54536 RT 2046.18 intensity 1.6889e+05\tM+H@94.53809 prob=1.00\n",
        "573. avg m/z=125.986160335 avg RT=2418.34002686 prob=1.0\n",
        "\tfeature_id 203 file_id 0 mz 125.98613 RT 2323.03 intensity 7.3439e+05\tM+H@124.97886 prob=1.00\n",
        "\tfeature_id 175 file_id 1 mz 125.98612 RT 2306.04 intensity 7.3640e+05\tM+H@124.97884 prob=1.00\n",
        "\tfeature_id 266 file_id 2 mz 125.98617 RT 2358.05 intensity 2.8156e+05\tM+H@124.97889 prob=1.00\n",
        "\tfeature_id 382 file_id 3 mz 125.98623 RT 2686.24 intensity 4.3769e+05\tM+H@124.97895 prob=1.00\n",
        "574. avg m/z=235.092416826 avg RT=1069.33502197 prob=1.0\n",
        "\tfeature_id 920 file_id 2 mz 235.09234 RT 1072.54 intensity 5.3447e+04\tM+H@234.08506 prob=1.00\n",
        "\tfeature_id 280 file_id 3 mz 235.09249 RT 1066.13 intensity 6.3390e+05\tM+H@234.08522 prob=1.00\n",
        "575. avg m/z=122.547118064 avg RT=2242.13338216 prob=1.0\n",
        "\tfeature_id 23 file_id 0 mz 122.54712 RT 2103.84 intensity 4.1065e+06\tM+H@121.53984 prob=0.66\n",
        "\tfeature_id 24 file_id 1 mz 122.54713 RT 2108.30 intensity 4.4003e+06\tM+H@121.53985 prob=0.52\n",
        "\tfeature_id 150 file_id 3 mz 122.54711 RT 2514.26 intensity 1.2711e+06\tM+H@121.53984 prob=1.00\n",
        "576. avg m/z=217.179688602 avg RT=313.962997437 prob=1.0\n",
        "\tfeature_id 281 file_id 0 mz 217.17953 RT 319.20 intensity 4.8666e+05\tM+H@216.17225 prob=1.00\n",
        "\tfeature_id 280 file_id 1 mz 217.17947 RT 314.70 intensity 4.4249e+05\tM+H@216.17219 prob=1.00\n",
        "\tfeature_id 30 file_id 2 mz 217.17989 RT 311.79 intensity 3.1431e+06\tM+H@216.17261 prob=1.00\n",
        "\tfeature_id 94 file_id 3 mz 217.17988 RT 310.16 intensity 2.3488e+06\tM+H@216.17260 prob=1.00\n",
        "577. avg m/z=123.04558878 avg RT=2113.05993652 prob=1.0\n",
        "\tfeature_id 585 file_id 2 mz 123.04558 RT 2123.46 intensity 1.0696e+05\tM+H@122.03830 prob=1.00\n",
        "\tfeature_id 867 file_id 3 mz 123.04560 RT 2102.66 intensity 1.5909e+05\tM+H@122.03833 prob=1.00\n",
        "578. avg m/z=117.054511686 avg RT=439.823501587 prob=1.0\n",
        "\tfeature_id 358 file_id 0 mz 117.05447 RT 467.69 intensity 3.6875e+05\tM+H@116.04719 prob=1.00\n",
        "\tfeature_id 517 file_id 1 mz 117.05440 RT 423.23 intensity 2.0612e+05\tM+H@116.04712 prob=1.00\n",
        "\tfeature_id 374 file_id 2 mz 117.05455 RT 414.02 intensity 1.8297e+05\tM+H@116.04728 prob=1.00\n",
        "\tfeature_id 291 file_id 3 mz 117.05463 RT 454.36 intensity 6.0856e+05\tM+H@116.04735 prob=1.00\n",
        "579. avg m/z=401.131671158 avg RT=444.427327474 prob=1.0\n",
        "\tfeature_id 856 file_id 0 mz 401.13151 RT 444.48 intensity 9.5973e+04\tM+H@400.12423 prob=0.68\n",
        "\tfeature_id 825 file_id 1 mz 401.13148 RT 456.30 intensity 9.7546e+04\tM+H@400.12420 prob=1.00\n",
        "\tfeature_id 411 file_id 3 mz 401.13202 RT 432.50 intensity 4.0613e+05\tM+H@400.12475 prob=0.65\n",
        "580. avg m/z=102.03379083 avg RT=53.0404510498 prob=1.0\n",
        "\tfeature_id 82 file_id 0 mz 102.03374 RT 58.87 intensity 2.0749e+06\tM+H@101.02646 prob=1.00\n",
        "\tfeature_id 82 file_id 1 mz 102.03372 RT 38.40 intensity 1.8673e+06\tM+H@101.02644 prob=1.00\n",
        "\tfeature_id 28 file_id 2 mz 102.03385 RT 77.10 intensity 3.4138e+06\tM+H@101.02658 prob=1.00\n",
        "\tfeature_id 55 file_id 3 mz 102.03386 RT 37.79 intensity 4.1130e+06\tM+H@101.02658 prob=1.00\n",
        "581. avg m/z=89.1073330131 avg RT=1988.46002197 prob=1.0\n",
        "\tfeature_id 511 file_id 2 mz 89.10733 RT 1992.41 intensity 1.2537e+05\tM+H@88.10005 prob=1.00\n",
        "\tfeature_id 396 file_id 3 mz 89.10734 RT 1984.51 intensity 4.1897e+05\tM+H@88.10006 prob=1.00\n",
        "582. avg m/z=73.5318217526 avg RT=2568.05330404 prob=1.0\n",
        "\tfeature_id 415 file_id 0 mz 73.53181 RT 2606.69 intensity 3.0713e+05\tM+H@72.52453 prob=1.00\n",
        "\tfeature_id 334 file_id 1 mz 73.53179 RT 2529.53 intensity 3.6107e+05\tM+H@72.52452 prob=1.00\n",
        "\tfeature_id 578 file_id 3 mz 73.53187 RT 2567.94 intensity 2.8011e+05\tM+H@72.52459 prob=1.00\n",
        "583. avg m/z=202.143607711 avg RT=870.398986816 prob=1.0\n",
        "\tfeature_id 102 file_id 0 mz 202.14349 RT 871.76 intensity 1.6600e+06\tM+H@201.13622 prob=1.00\n",
        "\tfeature_id 101 file_id 1 mz 202.14345 RT 873.56 intensity 1.5866e+06\tM+H@201.13618 prob=1.00\n",
        "\tfeature_id 13 file_id 2 mz 202.14373 RT 880.48 intensity 4.8409e+06\tM+H@201.13646 prob=1.00\n",
        "\tfeature_id 18 file_id 3 mz 202.14375 RT 855.79 intensity 8.8844e+06\tM+H@201.13648 prob=1.00\n",
        "584. avg m/z=213.018125288 avg RT=2361.16992188 prob=1.0\n",
        "\tfeature_id 655 file_id 2 mz 213.01813 RT 2442.96 intensity 9.3075e+04\tM+H@212.01085 prob=1.00\n",
        "\tfeature_id 920 file_id 3 mz 213.01812 RT 2279.38 intensity 1.4139e+05\tM+H@212.01085 prob=1.00\n",
        "585. avg m/z=265.118335967 avg RT=386.492996216 prob=1.0\n",
        "\tfeature_id 671 file_id 2 mz 265.11832 RT 390.00 intensity 8.8988e+04\tM+H@264.11105 prob=1.00\n",
        "\tfeature_id 497 file_id 3 mz 265.11835 RT 382.98 intensity 3.2965e+05\tM+H@264.11107 prob=1.00\n",
        "586. avg m/z=94.5456291898 avg RT=2756.52001953 prob=1.0\n",
        "\tfeature_id 635 file_id 2 mz 94.54561 RT 2741.00 intensity 9.6817e+04\tM+H@93.53833 prob=1.00\n",
        "\tfeature_id 798 file_id 3 mz 94.54565 RT 2772.04 intensity 1.8119e+05\tM+H@93.53837 prob=0.50\n",
        "587. avg m/z=187.059870603 avg RT=567.446990967 prob=1.0\n",
        "\tfeature_id 500 file_id 0 mz 187.05991 RT 565.07 intensity 2.2634e+05\tM+H@186.05264 prob=1.00\n",
        "\tfeature_id 538 file_id 1 mz 187.05983 RT 569.83 intensity 1.9562e+05\tM+H@186.05255 prob=1.00\n",
        "588. avg m/z=536.16488431 avg RT=292.808990479 prob=1.0\n",
        "\tfeature_id 785 file_id 1 mz 536.16438 RT 294.98 intensity 1.0619e+05\tM+H@535.15710 prob=1.00\n",
        "\tfeature_id 792 file_id 3 mz 536.16539 RT 290.64 intensity 1.8142e+05\tM+H@535.15811 prob=0.50\n",
        "589. avg m/z=279.134060461 avg RT=1141.49499512 prob=1.0\n",
        "\tfeature_id 286 file_id 2 mz 279.13405 RT 1151.75 intensity 2.5274e+05\tM+H@278.12677 prob=1.00\n",
        "\tfeature_id 212 file_id 3 mz 279.13407 RT 1131.24 intensity 9.0395e+05\tM+H@278.12679 prob=1.00\n",
        "590. avg m/z=246.066383262 avg RT=538.085327148 prob=1.0\n",
        "\tfeature_id 397 file_id 1 mz 246.06616 RT 561.11 intensity 2.8834e+05\tM+H@245.05888 prob=1.00\n",
        "\tfeature_id 407 file_id 2 mz 246.06648 RT 502.06 intensity 1.6629e+05\tM+H@245.05921 prob=0.55\n",
        "\tfeature_id 748 file_id 3 mz 246.06651 RT 551.09 intensity 1.9478e+05\tM+H@245.05924 prob=1.00\n",
        "591. avg m/z=143.996645374 avg RT=2473.93493652 prob=1.0\n",
        "\tfeature_id 618 file_id 1 mz 143.99656 RT 2696.96 intensity 1.5451e+05\tM+H@142.98928 prob=0.50\n",
        "\tfeature_id 985 file_id 3 mz 143.99673 RT 2250.91 intensity 1.2562e+05\tM+H@142.98945 prob=0.50\n",
        "592. avg m/z=265.015439231 avg RT=2055.45001221 prob=1.0\n",
        "\tfeature_id 794 file_id 0 mz 265.01529 RT 2047.74 intensity 1.1221e+05\tM+H@264.00801 prob=1.00\n",
        "\tfeature_id 677 file_id 1 mz 265.01526 RT 2050.35 intensity 1.3595e+05\tM+H@264.00799 prob=1.00\n",
        "\tfeature_id 249 file_id 2 mz 265.01563 RT 2073.04 intensity 2.9724e+05\tM+H@264.00836 prob=1.00\n",
        "\tfeature_id 513 file_id 3 mz 265.01557 RT 2050.67 intensity 3.1978e+05\tM+H@264.00829 prob=1.00\n",
        "593. avg m/z=293.170413057 avg RT=1930.19000244 prob=1.0\n",
        "\tfeature_id 952 file_id 1 mz 293.17014 RT 1909.80 intensity 7.0778e+04\tM+H@292.16286 prob=1.00\n",
        "\tfeature_id 604 file_id 3 mz 293.17069 RT 1950.58 intensity 2.6566e+05\tM+H@292.16341 prob=1.00\n",
        "594. avg m/z=305.084284842 avg RT=590.717010498 prob=1.0\n",
        "\tfeature_id 251 file_id 2 mz 305.08425 RT 618.94 intensity 2.9471e+05\tM+H@304.07698 prob=1.00\n",
        "\tfeature_id 921 file_id 3 mz 305.08432 RT 562.49 intensity 1.4129e+05\tM+H@304.07704 prob=1.00\n",
        "595. avg m/z=449.170337131 avg RT=759.968994141 prob=1.0\n",
        "\tfeature_id 500 file_id 2 mz 449.17040 RT 764.25 intensity 1.2741e+05\tM+H@448.16312 prob=1.00\n",
        "\tfeature_id 257 file_id 3 mz 449.17027 RT 755.69 intensity 7.0610e+05\tM+H@448.16300 prob=1.00\n",
        "596. avg m/z=400.128405763 avg RT=441.783500671 prob=1.0\n",
        "\tfeature_id 197 file_id 0 mz 400.12813 RT 447.63 intensity 7.4810e+05\tM+H@399.12085 prob=1.00\n",
        "\tfeature_id 162 file_id 1 mz 400.12803 RT 450.16 intensity 8.1556e+05\tM+H@399.12075 prob=1.00\n",
        "\tfeature_id 93 file_id 2 mz 400.12880 RT 433.89 intensity 9.3819e+05\tM+H@399.12153 prob=1.00\n",
        "\tfeature_id 85 file_id 3 mz 400.12867 RT 435.45 intensity 2.5149e+06\tM+H@399.12139 prob=1.00\n",
        "597. avg m/z=133.068609147 avg RT=997.374654134 prob=1.0\n",
        "\tfeature_id 879 file_id 0 mz 133.06856 RT 1004.72 intensity 9.1669e+04\tM+H@132.06129 prob=0.52\n",
        "\tfeature_id 891 file_id 1 mz 133.06853 RT 998.26 intensity 8.1705e+04\tM+H@132.06126 prob=0.66\n",
        "\tfeature_id 610 file_id 3 mz 133.06873 RT 989.15 intensity 2.6137e+05\tM+H@132.06146 prob=0.81\n",
        "598. avg m/z=346.12453163 avg RT=1023.14501953 prob=1.0\n",
        "\tfeature_id 853 file_id 2 mz 346.12454 RT 877.23 intensity 6.1719e+04\tM+H@345.11726 prob=1.00\n",
        "\tfeature_id 472 file_id 3 mz 346.12452 RT 1169.06 intensity 3.5369e+05\tM+H@345.11725 prob=1.00\n",
        "599. avg m/z=363.089412814 avg RT=566.292251587 prob=1.0\n",
        "\tfeature_id 778 file_id 0 mz 363.08920 RT 566.52 intensity 1.1765e+05\tM+H@362.08192 prob=1.00\n",
        "\tfeature_id 699 file_id 1 mz 363.08912 RT 574.21 intensity 1.3102e+05\tM+H@362.08185 prob=1.00\n",
        "\tfeature_id 669 file_id 2 mz 363.08969 RT 561.95 intensity 8.9233e+04\tM+H@362.08241 prob=1.00\n",
        "\tfeature_id 859 file_id 3 mz 363.08964 RT 562.49 intensity 1.6196e+05\tM+H@362.08236 prob=1.00\n",
        "600. avg m/z=102.033848392 avg RT=2024.3550415 prob=1.0\n",
        "\tfeature_id 2 file_id 0 mz 102.03386 RT 2111.30 intensity 2.0800e+07\tM+H@101.02659 prob=1.00\n",
        "\tfeature_id 38 file_id 2 mz 102.03384 RT 1937.41 intensity 2.6072e+06\tM+H@101.02656 prob=1.00\n",
        "601. avg m/z=81.5205386142 avg RT=2507.34659831 prob=1.0\n",
        "\tfeature_id 73 file_id 0 mz 81.52057 RT 2409.50 intensity 2.1562e+06\tM+H@80.51329 prob=1.00\n",
        "\tfeature_id 94 file_id 1 mz 81.52056 RT 2712.14 intensity 1.6979e+06\tM+H@80.51328 prob=1.00\n",
        "\tfeature_id 151 file_id 2 mz 81.52049 RT 2400.40 intensity 5.4948e+05\tM+H@80.51321 prob=1.00\n",
        "602. avg m/z=120.58235658 avg RT=745.924499512 prob=1.0\n",
        "\tfeature_id 754 file_id 0 mz 121.08394 RT 741.38 intensity 1.2414e+05\tM+HC13@119.07338 prob=0.52\n",
        "\tfeature_id 105 file_id 1 mz 120.08064 RT 740.75 intensity 1.4973e+06\tM+H@119.07336 prob=1.00\n",
        "\tfeature_id 809 file_id 2 mz 121.08405 RT 753.16 intensity 6.7022e+04\tM+HC13@119.07349 prob=0.52\n",
        "\tfeature_id 134 file_id 3 mz 120.08079 RT 748.40 intensity 1.5051e+06\tM+H@119.07352 prob=1.00\n",
        "603. avg m/z=82.0222444654 avg RT=2460.66003418 prob=1.0\n",
        "\tfeature_id 721 file_id 0 mz 82.02223 RT 2335.37 intensity 1.3347e+05\tM+H@81.01496 prob=1.00\n",
        "\tfeature_id 761 file_id 1 mz 82.02226 RT 2585.95 intensity 1.1255e+05\tM+H@81.01498 prob=1.00\n",
        "604. avg m/z=137.045651592 avg RT=896.367004395 prob=1.0\n",
        "\tfeature_id 290 file_id 1 mz 137.04559 RT 902.59 intensity 4.1817e+05\tM+H@136.03831 prob=1.00\n",
        "\tfeature_id 419 file_id 2 mz 137.04571 RT 890.15 intensity 1.6310e+05\tM+H@136.03844 prob=1.00\n",
        "605. avg m/z=141.958397251 avg RT=2548.39501953 prob=1.0\n",
        "\tfeature_id 860 file_id 0 mz 141.95841 RT 2535.22 intensity 9.5332e+04\tM+H@140.95113 prob=1.00\n",
        "\tfeature_id 669 file_id 1 mz 141.95838 RT 2561.57 intensity 1.3811e+05\tM+H@140.95111 prob=1.00\n",
        "606. avg m/z=192.086570493 avg RT=1165.0199585 prob=1.0\n",
        "\tfeature_id 474 file_id 2 mz 192.08654 RT 1171.69 intensity 1.3649e+05\tM+H@191.07926 prob=1.00\n",
        "\tfeature_id 241 file_id 3 mz 192.08660 RT 1158.35 intensity 7.8684e+05\tM+H@191.07933 prob=1.00\n",
        "607. avg m/z=158.002783523 avg RT=2406.63989258 prob=1.0\n",
        "\tfeature_id 960 file_id 2 mz 158.00274 RT 2315.89 intensity 4.9468e+04\tM+H@156.99547 prob=1.00\n",
        "\tfeature_id 951 file_id 3 mz 158.00282 RT 2497.39 intensity 1.3391e+05\tM+H@156.99555 prob=1.00\n",
        "608. avg m/z=130.049752524 avg RT=1038.05749512 prob=1.0\n",
        "\tfeature_id 681 file_id 0 mz 130.04969 RT 1016.69 intensity 1.4656e+05\tM+H@129.04241 prob=1.00\n",
        "\tfeature_id 370 file_id 1 mz 130.04965 RT 1084.46 intensity 3.1367e+05\tM+H@129.04237 prob=1.00\n",
        "\tfeature_id 706 file_id 2 mz 130.04984 RT 1030.25 intensity 8.3164e+04\tM+H@129.04256 prob=1.00\n",
        "\tfeature_id 706 file_id 3 mz 130.04983 RT 1020.83 intensity 2.1161e+05\tM+H@129.04256 prob=1.00\n",
        "609. avg m/z=149.063931171 avg RT=355.369743347 prob=1.0\n",
        "\tfeature_id 465 file_id 0 mz 139.05807 RT 356.33 intensity 2.5718e+05\tM+HC13@137.04754 prob=0.54\n",
        "\tfeature_id 472 file_id 1 mz 139.05805 RT 356.40 intensity 2.3117e+05\tM+HC13@137.04753 prob=0.54\n",
        "\tfeature_id 648 file_id 2 mz 139.05819 RT 352.29 intensity 9.4118e+04\tM+HC13@137.04766 prob=0.54\n",
        "\tfeature_id 725 file_id 3 mz 179.08141 RT 356.46 intensity 2.0397e+05\tM+ACN+H@137.04766 prob=0.52\n",
        "610. avg m/z=218.1022318 avg RT=947.891998291 prob=1.0\n",
        "\tfeature_id 963 file_id 2 mz 218.10217 RT 953.89 intensity 4.9123e+04\tM+H@217.09489 prob=1.00\n",
        "\tfeature_id 402 file_id 3 mz 218.10229 RT 941.90 intensity 4.1258e+05\tM+H@217.09502 prob=1.00\n",
        "611. avg m/z=370.149701115 avg RT=678.738006592 prob=1.0\n",
        "\tfeature_id 689 file_id 2 mz 370.14969 RT 683.21 intensity 8.5802e+04\tM+H@369.14242 prob=1.00\n",
        "\tfeature_id 428 file_id 3 mz 370.14971 RT 674.27 intensity 3.9239e+05\tM+H@369.14243 prob=1.00\n",
        "612. avg m/z=204.086540165 avg RT=829.772994995 prob=1.0\n",
        "\tfeature_id 680 file_id 0 mz 204.08645 RT 805.78 intensity 1.4717e+05\tM+H@203.07918 prob=1.00\n",
        "\tfeature_id 194 file_id 1 mz 204.08636 RT 711.20 intensity 6.4748e+05\tM+H@203.07908 prob=1.00\n",
        "\tfeature_id 383 file_id 2 mz 204.08667 RT 805.85 intensity 1.7717e+05\tM+H@203.07939 prob=1.00\n",
        "\tfeature_id 260 file_id 3 mz 204.08668 RT 996.26 intensity 6.9452e+05\tM+H@203.07941 prob=1.00\n",
        "613. avg m/z=348.097975272 avg RT=548.244018555 prob=1.0\n",
        "\tfeature_id 509 file_id 0 mz 348.09772 RT 559.25 intensity 2.2014e+05\tM+H@347.09044 prob=1.00\n",
        "\tfeature_id 422 file_id 2 mz 348.09823 RT 537.24 intensity 1.6207e+05\tM+H@347.09095 prob=1.00\n",
        "614. avg m/z=98.511988337 avg RT=19.9398145676 prob=1.0\n",
        "\tfeature_id 878 file_id 0 mz 98.51191 RT  2.98 intensity 9.1905e+04\tM+H@97.50463 prob=1.00\n",
        "\tfeature_id 745 file_id 2 mz 98.51207 RT 36.90 intensity 7.5840e+04\tM+H@97.50479 prob=1.00\n",
        "615. avg m/z=378.148775973 avg RT=460.246002197 prob=1.0\n",
        "\tfeature_id 626 file_id 1 mz 378.14843 RT 467.02 intensity 1.5163e+05\tM+H@377.14116 prob=0.51\n",
        "\tfeature_id 603 file_id 2 mz 378.14912 RT 453.47 intensity 1.0328e+05\tM+H@377.14184 prob=0.51\n",
        "616. avg m/z=213.018145679 avg RT=2386.26489258 prob=1.0\n",
        "\tfeature_id 845 file_id 2 mz 213.01814 RT 2506.64 intensity 6.2853e+04\tM+H@212.01086 prob=1.00\n",
        "\tfeature_id 918 file_id 3 mz 213.01816 RT 2265.89 intensity 1.4187e+05\tM+H@212.01088 prob=1.00\n",
        "617. avg m/z=125.986146955 avg RT=2548.43249512 prob=1.0\n",
        "\tfeature_id 255 file_id 0 mz 125.98613 RT 2440.49 intensity 5.3286e+05\tM+H@124.97885 prob=1.00\n",
        "\tfeature_id 347 file_id 1 mz 125.98607 RT 2652.86 intensity 3.4936e+05\tM+H@124.97879 prob=1.00\n",
        "\tfeature_id 309 file_id 2 mz 125.98617 RT 2395.68 intensity 2.3524e+05\tM+H@124.97889 prob=1.00\n",
        "\tfeature_id 372 file_id 3 mz 125.98622 RT 2704.70 intensity 4.5438e+05\tM+H@124.97894 prob=1.00\n",
        "618. avg m/z=104.030083221 avg RT=2123.7199707 prob=1.0\n",
        "\tfeature_id 490 file_id 1 mz 104.03004 RT 2222.90 intensity 2.2153e+05\tM+H@103.02277 prob=1.00\n",
        "\tfeature_id 814 file_id 2 mz 104.03012 RT 2024.54 intensity 6.6266e+04\tM+H@103.02285 prob=1.00\n",
        "619. avg m/z=102.033733753 avg RT=48.9747335911 prob=1.0\n",
        "\tfeature_id 47 file_id 0 mz 102.03376 RT  4.42 intensity 2.6763e+06\tM+H@101.02648 prob=1.00\n",
        "\tfeature_id 63 file_id 1 mz 102.03371 RT 93.53 intensity 2.3638e+06\tM+H@101.02644 prob=1.00\n",
        "620. avg m/z=123.048677047 avg RT=41.994099617 prob=1.0\n",
        "\tfeature_id 681 file_id 2 mz 123.04868 RT 31.05 intensity 8.6716e+04\tM+H@122.04140 prob=1.00\n",
        "\tfeature_id 800 file_id 3 mz 123.04868 RT 52.94 intensity 1.8081e+05\tM+H@122.04140 prob=1.00\n",
        "621. avg m/z=94.0450917162 avg RT=2116.79003906 prob=1.0\n",
        "\tfeature_id 94 file_id 0 mz 94.04511 RT 2171.21 intensity 1.7410e+06\tM+H@93.03783 prob=0.50\n",
        "\tfeature_id 9 file_id 1 mz 94.04507 RT 2062.37 intensity 7.8048e+06\tM+H@93.03780 prob=0.50\n",
        "622. avg m/z=70.0126720336 avg RT=2512.44335938 prob=1.0\n",
        "\tfeature_id 454 file_id 0 mz 70.01264 RT 2636.35 intensity 2.6982e+05\tM+H@69.00536 prob=1.00\n",
        "\tfeature_id 584 file_id 1 mz 70.01266 RT 2349.90 intensity 1.6975e+05\tM+H@69.00538 prob=1.00\n",
        "\tfeature_id 995 file_id 3 mz 70.01272 RT 2551.08 intensity 1.2331e+05\tM+H@69.00544 prob=1.00\n",
        "623. avg m/z=81.52054273 avg RT=2132.2199707 prob=1.0\n",
        "\tfeature_id 59 file_id 0 mz 81.52056 RT 2284.46 intensity 2.3957e+06\tM+H@80.51329 prob=1.00\n",
        "\tfeature_id 177 file_id 1 mz 81.52052 RT 1979.98 intensity 7.2814e+05\tM+H@80.51325 prob=1.00\n",
        "624. avg m/z=335.16013781 avg RT=358.291503906 prob=1.0\n",
        "\tfeature_id 652 file_id 2 mz 335.16013 RT 358.65 intensity 9.3774e+04\tM+H@334.15285 prob=1.00\n",
        "\tfeature_id 498 file_id 3 mz 335.16015 RT 357.93 intensity 3.2880e+05\tM+H@334.15287 prob=1.00\n",
        "625. avg m/z=141.958392876 avg RT=2536.05505371 prob=1.0\n",
        "\tfeature_id 892 file_id 0 mz 141.95841 RT 2440.49 intensity 8.9797e+04\tM+H@140.95114 prob=1.00\n",
        "\tfeature_id 685 file_id 1 mz 141.95837 RT 2631.62 intensity 1.3375e+05\tM+H@140.95109 prob=1.00\n",
        "626. avg m/z=122.547072558 avg RT=1981.48492432 prob=1.0\n",
        "\tfeature_id 61 file_id 1 mz 122.54706 RT 2182.39 intensity 2.4251e+06\tM+H@121.53979 prob=0.50\n",
        "\tfeature_id 153 file_id 3 mz 122.54708 RT 1780.58 intensity 1.2431e+06\tM+H@121.53980 prob=0.50\n",
        "627. avg m/z=141.958487108 avg RT=2087.33502197 prob=1.0\n",
        "\tfeature_id 531 file_id 0 mz 141.95848 RT 2052.30 intensity 2.1043e+05\tM+H@140.95120 prob=1.00\n",
        "\tfeature_id 994 file_id 1 mz 141.95844 RT 2218.36 intensity 6.5119e+04\tM+H@140.95116 prob=1.00\n",
        "\tfeature_id 883 file_id 2 mz 141.95850 RT 2065.43 intensity 5.7799e+04\tM+H@140.95122 prob=1.00\n",
        "\tfeature_id 283 file_id 3 mz 141.95854 RT 2013.25 intensity 6.2716e+05\tM+H@140.95126 prob=1.00\n",
        "628. avg m/z=362.926446106 avg RT=1259.46002197 prob=1.0\n",
        "\tfeature_id 256 file_id 2 mz 362.92647 RT 1272.41 intensity 2.9004e+05\tM+H@361.91919 prob=1.00\n",
        "\tfeature_id 336 file_id 3 mz 362.92642 RT 1246.51 intensity 4.9981e+05\tM+H@361.91915 prob=1.00\n",
        "629. avg m/z=167.012668627 avg RT=39.8682003021 prob=1.0\n",
        "\tfeature_id 359 file_id 0 mz 167.01258 RT 41.94 intensity 3.6849e+05\tM+H@166.00530 prob=1.00\n",
        "\tfeature_id 154 file_id 3 mz 167.01276 RT 37.79 intensity 1.2385e+06\tM+H@166.00549 prob=1.00\n",
        "630. avg m/z=205.070431141 avg RT=629.566497803 prob=1.0\n",
        "\tfeature_id 87 file_id 0 mz 205.07052 RT 563.61 intensity 1.9433e+06\tM+H@204.06325 prob=0.50\n",
        "\tfeature_id 428 file_id 1 mz 205.07034 RT 695.52 intensity 2.5992e+05\tM+H@204.06306 prob=1.00\n",
        "631. avg m/z=158.963880392 avg RT=1261.43499756 prob=1.0\n",
        "\tfeature_id 279 file_id 0 mz 158.96377 RT 1260.89 intensity 4.8964e+05\tM+H@157.95649 prob=1.00\n",
        "\tfeature_id 248 file_id 1 mz 158.96374 RT 1265.70 intensity 4.9432e+05\tM+H@157.95646 prob=1.00\n",
        "\tfeature_id 176 file_id 2 mz 158.96399 RT 1277.18 intensity 4.9537e+05\tM+H@157.95672 prob=1.00\n",
        "\tfeature_id 213 file_id 3 mz 158.96402 RT 1241.97 intensity 9.0372e+05\tM+H@157.95675 prob=1.00\n",
        "632. avg m/z=82.5370920013 avg RT=2562.63500977 prob=1.0\n",
        "\tfeature_id 747 file_id 0 mz 82.53709 RT 2665.85 intensity 1.2596e+05\tM+H@81.52981 prob=1.00\n",
        "\tfeature_id 731 file_id 1 mz 82.53710 RT 2459.42 intensity 1.2115e+05\tM+H@81.52982 prob=1.00\n",
        "633. avg m/z=82.5370924306 avg RT=2526.07995605 prob=1.0\n",
        "\tfeature_id 893 file_id 0 mz 82.53709 RT 2341.53 intensity 8.9594e+04\tM+H@81.52981 prob=1.00\n",
        "\tfeature_id 701 file_id 1 mz 82.53710 RT 2710.63 intensity 1.3036e+05\tM+H@81.52982 prob=1.00\n",
        "634. avg m/z=102.033793667 avg RT=2607.44750977 prob=1.0\n",
        "\tfeature_id 70 file_id 0 mz 102.03373 RT 2631.65 intensity 2.2118e+06\tM+H@101.02646 prob=1.00\n",
        "\tfeature_id 42 file_id 1 mz 102.03373 RT 2564.62 intensity 2.9638e+06\tM+H@101.02646 prob=1.00\n",
        "\tfeature_id 26 file_id 2 mz 102.03384 RT 2487.46 intensity 3.4638e+06\tM+H@101.02656 prob=1.00\n",
        "\tfeature_id 53 file_id 3 mz 102.03387 RT 2746.06 intensity 4.3179e+06\tM+H@101.02659 prob=1.00\n",
        "635. avg m/z=538.17200681 avg RT=625.085998535 prob=1.0\n",
        "\tfeature_id 770 file_id 0 mz 538.17206 RT 622.69 intensity 1.1915e+05\tM+H@537.16478 prob=0.52\n",
        "\tfeature_id 740 file_id 1 mz 538.17195 RT 627.48 intensity 1.2000e+05\tM+H@537.16468 prob=1.00\n",
        "636. avg m/z=144.047597923 avg RT=1789.57748413 prob=1.0\n",
        "\tfeature_id 600 file_id 0 mz 144.04753 RT 1766.86 intensity 1.8349e+05\tM+H@143.04025 prob=1.00\n",
        "\tfeature_id 547 file_id 1 mz 144.04749 RT 1773.23 intensity 1.8840e+05\tM+H@143.04022 prob=1.00\n",
        "\tfeature_id 551 file_id 2 mz 144.04768 RT 1812.19 intensity 1.1400e+05\tM+H@143.04040 prob=1.00\n",
        "\tfeature_id 668 file_id 3 mz 144.04769 RT 1806.03 intensity 2.3224e+05\tM+H@143.04041 prob=1.00\n",
        "637. avg m/z=89.5067251352 avg RT=2301.8449707 prob=1.0\n",
        "\tfeature_id 596 file_id 0 mz 89.50675 RT 2253.79 intensity 1.8456e+05\tM+H@88.49947 prob=0.50\n",
        "\tfeature_id 429 file_id 1 mz 89.50670 RT 2349.90 intensity 2.5845e+05\tM+H@88.49943 prob=0.50\n",
        "638. avg m/z=130.097472225 avg RT=948.207000732 prob=1.0\n",
        "\tfeature_id 298 file_id 2 mz 130.09748 RT 969.36 intensity 2.4436e+05\tM+H@129.09020 prob=1.00\n",
        "\tfeature_id 246 file_id 3 mz 130.09747 RT 927.05 intensity 7.5461e+05\tM+H@129.09019 prob=1.00\n",
        "639. avg m/z=187.059847035 avg RT=795.812988281 prob=1.0\n",
        "\tfeature_id 915 file_id 0 mz 187.05987 RT 798.46 intensity 8.5000e+04\tM+H@186.05259 prob=1.00\n",
        "\tfeature_id 882 file_id 1 mz 187.05983 RT 793.17 intensity 8.2883e+04\tM+H@186.05255 prob=1.00\n",
        "640. avg m/z=345.133470617 avg RT=883.490997314 prob=1.0\n",
        "\tfeature_id 312 file_id 0 mz 345.13350 RT 884.17 intensity 4.2145e+05\tM+H@344.12623 prob=1.00\n",
        "\tfeature_id 252 file_id 1 mz 345.13344 RT 882.82 intensity 4.7957e+05\tM+H@344.12616 prob=1.00\n",
        "641. avg m/z=82.0222544191 avg RT=45.5968494415 prob=1.0\n",
        "\tfeature_id 872 file_id 0 mz 82.02225 RT 57.32 intensity 9.3188e+04\tM+H@81.01497 prob=1.00\n",
        "\tfeature_id 867 file_id 1 mz 82.02226 RT 33.88 intensity 8.6031e+04\tM+H@81.01499 prob=1.00\n",
        "642. avg m/z=99.0439924335 avg RT=451.920501709 prob=1.0\n",
        "\tfeature_id 568 file_id 0 mz 99.04394 RT 467.69 intensity 1.9208e+05\tM+H@98.03666 prob=1.00\n",
        "\tfeature_id 541 file_id 1 mz 99.04392 RT 471.62 intensity 1.9249e+05\tM+H@98.03665 prob=1.00\n",
        "\tfeature_id 679 file_id 2 mz 99.04404 RT 414.02 intensity 8.7097e+04\tM+H@98.03676 prob=1.00\n",
        "\tfeature_id 538 file_id 3 mz 99.04407 RT 454.36 intensity 3.0602e+05\tM+H@98.03679 prob=1.00\n",
        "643. avg m/z=383.094977083 avg RT=254.949989319 prob=1.0\n",
        "\tfeature_id 204 file_id 2 mz 383.09505 RT 253.85 intensity 4.0088e+05\tM+H@382.08778 prob=1.00\n",
        "\tfeature_id 215 file_id 3 mz 383.09490 RT 256.05 intensity 8.9695e+05\tM+H@382.08763 prob=1.00\n",
        "644. avg m/z=73.5318249397 avg RT=2666.70996094 prob=1.0\n",
        "\tfeature_id 424 file_id 0 mz 73.53180 RT 2598.95 intensity 3.0011e+05\tM+H@72.52453 prob=1.00\n",
        "\tfeature_id 361 file_id 1 mz 73.53178 RT 2757.72 intensity 3.2315e+05\tM+H@72.52451 prob=1.00\n",
        "\tfeature_id 733 file_id 2 mz 73.53184 RT 2527.45 intensity 7.7733e+04\tM+H@72.52457 prob=1.00\n",
        "\tfeature_id 560 file_id 3 mz 73.53187 RT 2782.72 intensity 2.9537e+05\tM+H@72.52459 prob=1.00\n",
        "645. avg m/z=102.033833599 avg RT=2059.60331217 prob=1.0\n",
        "\tfeature_id 3 file_id 0 mz 102.03382 RT 2209.24 intensity 9.5066e+06\tM+H@101.02654 prob=1.00\n",
        "\tfeature_id 36 file_id 2 mz 102.03384 RT 2000.47 intensity 2.7147e+06\tM+H@101.02656 prob=1.00\n",
        "\tfeature_id 56 file_id 3 mz 102.03384 RT 1969.10 intensity 3.9588e+06\tM+H@101.02657 prob=1.00\n",
        "646. avg m/z=138.054872901 avg RT=355.369743347 prob=1.0\n",
        "\tfeature_id 34 file_id 0 mz 138.05482 RT 356.33 intensity 3.4816e+06\tM+H@137.04754 prob=1.00\n",
        "\tfeature_id 37 file_id 1 mz 138.05480 RT 356.40 intensity 3.3319e+06\tM+H@137.04753 prob=1.00\n",
        "\tfeature_id 69 file_id 2 mz 138.05493 RT 352.29 intensity 1.2714e+06\tM+H@137.04766 prob=1.00\n",
        "\tfeature_id 161 file_id 3 mz 138.05494 RT 356.46 intensity 1.1777e+06\tM+H@137.04766 prob=1.00\n",
        "647. avg m/z=213.018101108 avg RT=2375.0 prob=1.0\n",
        "\tfeature_id 793 file_id 2 mz 213.01807 RT 2569.10 intensity 6.8791e+04\tM+H@212.01079 prob=1.00\n",
        "\tfeature_id 687 file_id 3 mz 213.01813 RT 2180.90 intensity 2.2180e+05\tM+H@212.01086 prob=1.00\n",
        "648. avg m/z=79.0178386577 avg RT=2553.08996582 prob=1.0\n",
        "\tfeature_id 724 file_id 0 mz 79.01786 RT 2471.54 intensity 1.3287e+05\tM+H@78.01059 prob=1.00\n",
        "\tfeature_id 645 file_id 1 mz 79.01782 RT 2634.64 intensity 1.4500e+05\tM+H@78.01054 prob=1.00\n",
        "649. avg m/z=154.989991172 avg RT=2026.36332194 prob=1.0\n",
        "\tfeature_id 955 file_id 1 mz 154.98990 RT 2018.66 intensity 7.0190e+04\tM+H@153.98263 prob=1.00\n",
        "\tfeature_id 731 file_id 2 mz 154.99000 RT 2051.66 intensity 7.8034e+04\tM+H@153.98273 prob=1.00\n",
        "\tfeature_id 373 file_id 3 mz 154.99007 RT 2008.77 intensity 4.5360e+05\tM+H@153.98279 prob=1.00\n",
        "650. avg m/z=204.086553119 avg RT=733.254013062 prob=1.0\n",
        "\tfeature_id 213 file_id 0 mz 204.08639 RT 710.03 intensity 6.7336e+05\tM+H@203.07911 prob=1.00\n",
        "\tfeature_id 680 file_id 1 mz 204.08640 RT 810.67 intensity 1.3560e+05\tM+H@203.07913 prob=1.00\n",
        "\tfeature_id 152 file_id 2 mz 204.08668 RT 707.62 intensity 5.4898e+05\tM+H@203.07940 prob=1.00\n",
        "\tfeature_id 147 file_id 3 mz 204.08674 RT 704.70 intensity 1.2966e+06\tM+H@203.07947 prob=1.00\n",
        "651. avg m/z=547.213280889 avg RT=793.288497925 prob=1.0\n",
        "\tfeature_id 360 file_id 0 mz 547.21300 RT 791.13 intensity 3.6658e+05\tM+H@546.20572 prob=1.00\n",
        "\tfeature_id 286 file_id 1 mz 547.21295 RT 793.17 intensity 4.3247e+05\tM+H@546.20567 prob=1.00\n",
        "\tfeature_id 682 file_id 2 mz 547.21377 RT 796.43 intensity 8.6666e+04\tM+H@546.20649 prob=1.00\n",
        "\tfeature_id 540 file_id 3 mz 547.21341 RT 792.42 intensity 3.0415e+05\tM+H@546.20614 prob=1.00\n",
        "652. avg m/z=199.029165752 avg RT=78.3515748978 prob=1.0\n",
        "\tfeature_id 904 file_id 0 mz 199.02904 RT 91.86 intensity 8.7314e+04\tM+H@198.02177 prob=1.00\n",
        "\tfeature_id 850 file_id 1 mz 199.02900 RT 77.92 intensity 8.9578e+04\tM+H@198.02172 prob=1.00\n",
        "\tfeature_id 429 file_id 2 mz 199.02933 RT 86.10 intensity 1.5751e+05\tM+H@198.02206 prob=1.00\n",
        "\tfeature_id 932 file_id 3 mz 199.02929 RT 57.52 intensity 1.3932e+05\tM+H@198.02201 prob=1.00\n",
        "653. avg m/z=487.177644582 avg RT=1160.52001953 prob=1.0\n",
        "\tfeature_id 494 file_id 0 mz 487.17771 RT 1163.81 intensity 2.3158e+05\tM+H@486.17044 prob=1.00\n",
        "\tfeature_id 489 file_id 1 mz 487.17758 RT 1157.23 intensity 2.2192e+05\tM+H@486.17030 prob=1.00\n",
        "654. avg m/z=649.244461682 avg RT=784.808990479 prob=1.0\n",
        "\tfeature_id 987 file_id 0 mz 649.24453 RT 782.29 intensity 6.9376e+04\tM+H@648.23725 prob=1.00\n",
        "\tfeature_id 894 file_id 1 mz 649.24439 RT 787.33 intensity 8.1377e+04\tM+H@648.23712 prob=1.00\n",
        "655. avg m/z=144.065357924 avg RT=1002.44500732 prob=1.0\n",
        "\tfeature_id 970 file_id 1 mz 144.06524 RT 1007.21 intensity 6.8607e+04\tM+H@143.05797 prob=1.00\n",
        "\tfeature_id 821 file_id 3 mz 144.06547 RT 997.68 intensity 1.7339e+05\tM+H@143.05820 prob=1.00\n",
        "656. avg m/z=220.154208122 avg RT=872.750976562 prob=1.0\n",
        "\tfeature_id 481 file_id 2 mz 220.15421 RT 885.32 intensity 1.3457e+05\tM+H@219.14694 prob=1.00\n",
        "\tfeature_id 634 file_id 3 mz 220.15420 RT 860.18 intensity 2.4568e+05\tM+H@219.14693 prob=1.00\n",
        "657. avg m/z=81.5205625002 avg RT=2521.09997559 prob=1.0\n",
        "\tfeature_id 103 file_id 0 mz 81.52057 RT 2692.30 intensity 1.6539e+06\tM+H@80.51329 prob=1.00\n",
        "\tfeature_id 69 file_id 1 mz 81.52056 RT 2349.90 intensity 2.2442e+06\tM+H@80.51328 prob=1.00\n",
        "658. avg m/z=70.0126266427 avg RT=49.2886505127 prob=1.0\n",
        "\tfeature_id 445 file_id 0 mz 70.01264 RT 48.06 intensity 2.7755e+05\tM+H@69.00536 prob=1.00\n",
        "\tfeature_id 449 file_id 1 mz 70.01261 RT 50.52 intensity 2.4515e+05\tM+H@69.00534 prob=1.00\n",
        "659. avg m/z=95.0437810112 avg RT=2442.92498779 prob=1.0\n",
        "\tfeature_id 936 file_id 0 mz 95.04374 RT 2507.29 intensity 8.0161e+04\tM+H@94.03646 prob=0.50\n",
        "\tfeature_id 519 file_id 1 mz 95.04375 RT 2293.89 intensity 2.0558e+05\tM+H@94.03648 prob=0.50\n",
        "\tfeature_id 496 file_id 2 mz 95.04380 RT 2509.85 intensity 1.2865e+05\tM+H@94.03653 prob=0.50\n",
        "\tfeature_id 625 file_id 3 mz 95.04383 RT 2460.67 intensity 2.5242e+05\tM+H@94.03656 prob=0.50\n",
        "660. avg m/z=70.0126629925 avg RT=2690.15323893 prob=1.0\n",
        "\tfeature_id 431 file_id 0 mz 70.01264 RT 2625.39 intensity 2.9212e+05\tM+H@69.00537 prob=1.00\n",
        "\tfeature_id 413 file_id 1 mz 70.01262 RT 2616.40 intensity 2.7073e+05\tM+H@69.00535 prob=1.00\n",
        "\tfeature_id 962 file_id 3 mz 70.01272 RT 2828.67 intensity 1.3025e+05\tM+H@69.00545 prob=1.00\n",
        "661. avg m/z=158.961124277 avg RT=41.8946495056 prob=1.0\n",
        "\tfeature_id 984 file_id 0 mz 158.96104 RT 54.20 intensity 6.9706e+04\tM+H@157.95376 prob=1.00\n",
        "\tfeature_id 907 file_id 2 mz 158.96121 RT 29.59 intensity 5.4810e+04\tM+H@157.95393 prob=1.00\n",
        "662. avg m/z=233.844696599 avg RT=1788.82501221 prob=1.0\n",
        "\tfeature_id 729 file_id 0 mz 134.05711 RT 1768.40 intensity 1.3189e+05\tM+2H@266.09969 prob=0.52\n",
        "\tfeature_id 617 file_id 1 mz 267.10691 RT 1771.71 intensity 1.5541e+05\tM+H@266.09963 prob=1.00\n",
        "\tfeature_id 460 file_id 2 mz 267.10739 RT 1810.64 intensity 1.4335e+05\tM+H@266.10011 prob=1.00\n",
        "\tfeature_id 599 file_id 3 mz 267.10738 RT 1804.55 intensity 2.7046e+05\tM+H@266.10010 prob=1.00\n",
        "663. avg m/z=188.572083357 avg RT=791.462997437 prob=1.0\n",
        "\tfeature_id 827 file_id 0 mz 189.07363 RT 789.67 intensity 1.0371e+05\tM+HC13@187.06313 prob=0.52\n",
        "\tfeature_id 772 file_id 1 mz 189.07362 RT 787.33 intensity 1.0977e+05\tM+HC13@187.06311 prob=0.52\n",
        "\tfeature_id 276 file_id 2 mz 188.07053 RT 796.43 intensity 2.6158e+05\tM+H@187.06325 prob=1.00\n",
        "\tfeature_id 322 file_id 3 mz 188.07055 RT 792.42 intensity 5.3108e+05\tM+H@187.06328 prob=1.00\n",
        "664. avg m/z=167.012727132 avg RT=2048.44506836 prob=1.0\n",
        "\tfeature_id 76 file_id 1 mz 167.01269 RT 2253.10 intensity 2.0308e+06\tM+H@166.00542 prob=1.00\n",
        "\tfeature_id 222 file_id 3 mz 167.01276 RT 1843.79 intensity 8.7073e+05\tM+H@166.00549 prob=1.00\n",
        "665. avg m/z=363.089428888 avg RT=591.800018311 prob=1.0\n",
        "\tfeature_id 816 file_id 1 mz 363.08917 RT 590.29 intensity 9.9364e+04\tM+H@362.08189 prob=1.00\n",
        "\tfeature_id 918 file_id 2 mz 363.08969 RT 593.31 intensity 5.3525e+04\tM+H@362.08241 prob=1.00\n",
        "666. avg m/z=287.099942657 avg RT=395.057502747 prob=1.0\n",
        "\tfeature_id 404 file_id 0 mz 287.09971 RT 400.67 intensity 3.1545e+05\tM+H@286.09243 prob=1.00\n",
        "\tfeature_id 338 file_id 1 mz 287.09965 RT 400.47 intensity 3.5861e+05\tM+H@286.09238 prob=1.00\n",
        "\tfeature_id 229 file_id 2 mz 287.10019 RT 391.70 intensity 3.3361e+05\tM+H@286.09291 prob=1.00\n",
        "\tfeature_id 313 file_id 3 mz 287.10021 RT 387.39 intensity 5.4123e+05\tM+H@286.09294 prob=1.00\n",
        "667. avg m/z=125.986154697 avg RT=2440.21746826 prob=1.0\n",
        "\tfeature_id 232 file_id 0 mz 125.98613 RT 2409.50 intensity 5.7207e+05\tM+H@124.97885 prob=1.00\n",
        "\tfeature_id 198 file_id 1 mz 125.98611 RT 2368.15 intensity 6.2361e+05\tM+H@124.97883 prob=1.00\n",
        "\tfeature_id 290 file_id 2 mz 125.98617 RT 2379.95 intensity 2.5030e+05\tM+H@124.97889 prob=1.00\n",
        "\tfeature_id 362 file_id 3 mz 125.98622 RT 2603.27 intensity 4.6879e+05\tM+H@124.97894 prob=1.00\n",
        "668. avg m/z=132.076414291 avg RT=1002.04931641 prob=1.0\n",
        "\tfeature_id 999 file_id 0 mz 132.07629 RT 1004.72 intensity 6.7597e+04\tM+H@131.06901 prob=1.00\n",
        "\tfeature_id 952 file_id 2 mz 132.07654 RT 1015.13 intensity 5.0195e+04\tM+H@131.06926 prob=1.00\n",
        "\tfeature_id 834 file_id 3 mz 132.07642 RT 986.30 intensity 1.6852e+05\tM+H@131.06914 prob=1.00\n",
        "669. avg m/z=509.159637737 avg RT=1160.52001953 prob=1.0\n",
        "\tfeature_id 436 file_id 0 mz 509.15972 RT 1163.81 intensity 2.9013e+05\tM+H@508.15245 prob=1.00\n",
        "\tfeature_id 404 file_id 1 mz 509.15955 RT 1157.23 intensity 2.7538e+05\tM+H@508.15227 prob=1.00\n",
        "670. avg m/z=417.198103637 avg RT=794.427001953 prob=1.0\n",
        "\tfeature_id 313 file_id 2 mz 417.19811 RT 796.43 intensity 2.3341e+05\tM+H@416.19083 prob=1.00\n",
        "\tfeature_id 245 file_id 3 mz 417.19810 RT 792.42 intensity 7.6965e+05\tM+H@416.19082 prob=1.00\n",
        "671. avg m/z=94.5437156151 avg RT=2068.94995117 prob=1.0\n",
        "\tfeature_id 827 file_id 2 mz 94.54368 RT 2100.70 intensity 6.4334e+04\tM+H@93.53640 prob=1.00\n",
        "\tfeature_id 869 file_id 3 mz 94.54375 RT 2037.20 intensity 1.5826e+05\tM+H@93.53648 prob=1.00\n",
        "672. avg m/z=82.537094398 avg RT=2557.8449707 prob=1.0\n",
        "\tfeature_id 781 file_id 0 mz 82.53709 RT 2414.16 intensity 1.1648e+05\tM+H@81.52981 prob=1.00\n",
        "\tfeature_id 711 file_id 1 mz 82.53710 RT 2701.53 intensity 1.2733e+05\tM+H@81.52983 prob=1.00\n",
        "673. avg m/z=342.117850355 avg RT=417.397664388 prob=1.0\n",
        "\tfeature_id 796 file_id 0 mz 342.11774 RT 420.40 intensity 1.1163e+05\tM+H@341.11047 prob=1.00\n",
        "\tfeature_id 688 file_id 1 mz 342.11767 RT 426.41 intensity 1.3349e+05\tM+H@341.11039 prob=1.00\n",
        "\tfeature_id 983 file_id 3 mz 342.11814 RT 405.39 intensity 1.2658e+05\tM+H@341.11086 prob=0.50\n",
        "674. avg m/z=104.030033824 avg RT=2093.58502197 prob=1.0\n",
        "\tfeature_id 971 file_id 1 mz 104.02999 RT 1936.35 intensity 6.8534e+04\tM+H@103.02271 prob=1.00\n",
        "\tfeature_id 390 file_id 2 mz 104.03008 RT 2250.82 intensity 1.7259e+05\tM+H@103.02280 prob=1.00\n",
        "675. avg m/z=125.986144916 avg RT=2567.74499512 prob=1.0\n",
        "\tfeature_id 366 file_id 0 mz 125.98610 RT 2690.74 intensity 3.5974e+05\tM+H@124.97882 prob=1.00\n",
        "\tfeature_id 259 file_id 1 mz 125.98609 RT 2518.93 intensity 4.7322e+05\tM+H@124.97881 prob=1.00\n",
        "\tfeature_id 331 file_id 2 mz 125.98617 RT 2433.51 intensity 2.1903e+05\tM+H@124.97890 prob=1.00\n",
        "\tfeature_id 346 file_id 3 mz 125.98622 RT 2627.80 intensity 4.8615e+05\tM+H@124.97894 prob=1.00\n",
        "676. avg m/z=513.247608606 avg RT=840.835494995 prob=1.0\n",
        "\tfeature_id 788 file_id 0 mz 513.24746 RT 836.02 intensity 1.1374e+05\tM+H@512.24018 prob=1.00\n",
        "\tfeature_id 631 file_id 1 mz 513.24713 RT 853.90 intensity 1.5010e+05\tM+H@512.23985 prob=1.00\n",
        "\tfeature_id 245 file_id 2 mz 513.24806 RT 840.92 intensity 3.0630e+05\tM+H@512.24078 prob=1.00\n",
        "\tfeature_id 181 file_id 3 mz 513.24779 RT 832.50 intensity 1.0502e+06\tM+H@512.24051 prob=1.00\n",
        "677. avg m/z=610.233429946 avg RT=744.875976562 prob=1.0\n",
        "\tfeature_id 722 file_id 0 mz 610.23351 RT 747.48 intensity 1.3321e+05\tM+H@609.22623 prob=1.00\n",
        "\tfeature_id 686 file_id 1 mz 610.23335 RT 742.27 intensity 1.3369e+05\tM+H@609.22607 prob=1.00\n",
        "678. avg m/z=176.10277913 avg RT=1142.61248779 prob=1.0\n",
        "\tfeature_id 170 file_id 0 mz 176.10266 RT 1138.82 intensity 9.1679e+05\tM+H@175.09539 prob=1.00\n",
        "\tfeature_id 146 file_id 1 mz 176.10263 RT 1140.68 intensity 9.3803e+05\tM+H@175.09535 prob=1.00\n",
        "\tfeature_id 160 file_id 2 mz 176.10288 RT 1151.75 intensity 5.3472e+05\tM+H@175.09561 prob=1.00\n",
        "\tfeature_id 149 file_id 3 mz 176.10294 RT 1139.20 intensity 1.2730e+06\tM+H@175.09567 prob=1.00\n",
        "679. avg m/z=118.086137325 avg RT=886.141494751 prob=1.0\n",
        "\tfeature_id 79 file_id 0 mz 118.08607 RT 893.41 intensity 2.1228e+06\tM+H@117.07879 prob=1.00\n",
        "\tfeature_id 78 file_id 1 mz 118.08605 RT 893.56 intensity 1.9791e+06\tM+H@117.07877 prob=1.00\n",
        "\tfeature_id 33 file_id 2 mz 118.08621 RT 890.15 intensity 2.9516e+06\tM+H@117.07894 prob=1.00\n",
        "\tfeature_id 86 file_id 3 mz 118.08622 RT 867.44 intensity 2.4982e+06\tM+H@117.07895 prob=1.00\n",
        "680. avg m/z=102.535328449 avg RT=1850.41998291 prob=1.0\n",
        "\tfeature_id 502 file_id 0 mz 102.53528 RT 1920.26 intensity 2.2575e+05\tM+H@101.52801 prob=0.50\n",
        "\tfeature_id 607 file_id 3 mz 102.53538 RT 1780.58 intensity 2.6241e+05\tM+H@101.52810 prob=0.50\n",
        "681. avg m/z=109.022328908 avg RT=2061.29333496 prob=1.0\n",
        "\tfeature_id 996 file_id 0 mz 109.02232 RT 2066.06 intensity 6.7766e+04\tM+H@108.01504 prob=1.00\n",
        "\tfeature_id 737 file_id 1 mz 109.02230 RT 2018.66 intensity 1.2059e+05\tM+H@108.01502 prob=1.00\n",
        "\tfeature_id 683 file_id 2 mz 109.02237 RT 2099.16 intensity 8.6234e+04\tM+H@108.01509 prob=1.00\n",
        "682. avg m/z=90.5258517866 avg RT=2635.15673828 prob=1.0\n",
        "\tfeature_id 240 file_id 0 mz 90.52576 RT 2524.33 intensity 5.6113e+05\tM+H@89.51848 prob=0.50\n",
        "\tfeature_id 409 file_id 2 mz 90.52588 RT 2501.86 intensity 1.6535e+05\tM+H@89.51860 prob=1.00\n",
        "\tfeature_id 408 file_id 3 mz 90.52592 RT 2879.28 intensity 4.0750e+05\tM+H@89.51864 prob=1.00\n",
        "683. avg m/z=82.0222389892 avg RT=2427.18493652 prob=1.0\n",
        "\tfeature_id 720 file_id 0 mz 82.02223 RT 2445.14 intensity 1.3371e+05\tM+H@81.01496 prob=1.00\n",
        "\tfeature_id 663 file_id 1 mz 82.02225 RT 2409.23 intensity 1.3923e+05\tM+H@81.01497 prob=1.00\n",
        "684. avg m/z=559.150398801 avg RT=616.605997721 prob=1.0\n",
        "\tfeature_id 961 file_id 0 mz 559.15012 RT 613.72 intensity 7.4468e+04\tM+H@558.14285 prob=1.00\n",
        "\tfeature_id 854 file_id 1 mz 559.15024 RT 614.05 intensity 8.9015e+04\tM+H@558.14296 prob=0.52\n",
        "\tfeature_id 877 file_id 2 mz 559.15083 RT 622.05 intensity 5.8881e+04\tM+H@558.14355 prob=0.84\n",
        "685. avg m/z=141.958410301 avg RT=2447.2199707 prob=1.0\n",
        "\tfeature_id 894 file_id 0 mz 141.95842 RT 2471.54 intensity 8.8872e+04\tM+H@140.95115 prob=1.00\n",
        "\tfeature_id 753 file_id 1 mz 141.95840 RT 2422.90 intensity 1.1448e+05\tM+H@140.95112 prob=1.00\n",
        "686. avg m/z=102.532301932 avg RT=2173.4050293 prob=1.0\n",
        "\tfeature_id 382 file_id 1 mz 102.53230 RT 2108.30 intensity 3.0313e+05\tM+H@101.52502 prob=1.00\n",
        "\tfeature_id 556 file_id 2 mz 102.53230 RT 2238.51 intensity 1.1325e+05\tM+H@101.52503 prob=1.00\n",
        "687. avg m/z=243.599211225 avg RT=408.181991577 prob=1.0\n",
        "\tfeature_id 726 file_id 2 mz 244.10081 RT 414.02 intensity 7.9327e+04\tM+HC13@242.09033 prob=0.52\n",
        "\tfeature_id 266 file_id 3 mz 243.09762 RT 402.35 intensity 6.8363e+05\tM+H@242.09034 prob=1.00\n",
        "688. avg m/z=122.547017141 avg RT=2784.60498047 prob=1.0\n",
        "\tfeature_id 664 file_id 0 mz 122.54692 RT 2746.70 intensity 1.5551e+05\tM+H@121.53964 prob=0.50\n",
        "\tfeature_id 199 file_id 3 mz 122.54711 RT 2822.51 intensity 9.5575e+05\tM+H@121.53984 prob=1.00\n",
        "689. avg m/z=169.049280994 avg RT=573.348999023 prob=1.0\n",
        "\tfeature_id 620 file_id 0 mz 169.04928 RT 591.41 intensity 1.7638e+05\tM+H@168.04201 prob=1.00\n",
        "\tfeature_id 301 file_id 1 mz 169.04928 RT 555.28 intensity 3.9166e+05\tM+H@168.04200 prob=1.00\n",
        "690. avg m/z=85.0282039135 avg RT=576.211486816 prob=1.0\n",
        "\tfeature_id 824 file_id 0 mz 85.02821 RT 565.07 intensity 1.0411e+05\tM+H@84.02094 prob=0.52\n",
        "\tfeature_id 654 file_id 1 mz 85.02819 RT 587.36 intensity 1.4280e+05\tM+H@84.02092 prob=1.00\n",
        "691. avg m/z=81.0335235872 avg RT=490.498504639 prob=1.0\n",
        "\tfeature_id 676 file_id 2 mz 81.03352 RT 415.64 intensity 8.7428e+04\tM+H@80.02625 prob=1.00\n",
        "\tfeature_id 493 file_id 3 mz 81.03352 RT 565.36 intensity 3.3520e+05\tM+H@80.02625 prob=1.00\n",
        "692. avg m/z=334.149664759 avg RT=426.048995972 prob=1.0\n",
        "\tfeature_id 626 file_id 2 mz 334.14964 RT 425.55 intensity 9.8799e+04\tM+H@333.14236 prob=1.00\n",
        "\tfeature_id 430 file_id 3 mz 334.14969 RT 426.55 intensity 3.8964e+05\tM+H@333.14242 prob=1.00\n",
        "693. avg m/z=457.277343389 avg RT=303.979003906 prob=1.0\n",
        "\tfeature_id 967 file_id 2 mz 457.27751 RT 303.74 intensity 4.8664e+04\tM+H@456.27023 prob=1.00\n",
        "\tfeature_id 939 file_id 3 mz 457.27718 RT 304.22 intensity 1.3760e+05\tM+H@456.26990 prob=1.00\n",
        "694. avg m/z=310.142536128 avg RT=857.511016846 prob=1.0\n",
        "\tfeature_id 871 file_id 0 mz 310.14252 RT 864.09 intensity 9.3248e+04\tM+H@309.13524 prob=1.00\n",
        "\tfeature_id 846 file_id 1 mz 310.14255 RT 850.93 intensity 9.0759e+04\tM+H@309.13528 prob=1.00\n",
        "695. avg m/z=79.0211895776 avg RT=492.61000061 prob=1.0\n",
        "\tfeature_id 166 file_id 0 mz 79.02115 RT 497.83 intensity 9.3354e+05\tM+H@78.01388 prob=1.00\n",
        "\tfeature_id 159 file_id 1 mz 79.02114 RT 496.85 intensity 8.2551e+05\tM+H@78.01386 prob=1.00\n",
        "\tfeature_id 108 file_id 2 mz 79.02122 RT 488.46 intensity 8.3451e+05\tM+H@78.01394 prob=1.00\n",
        "\tfeature_id 144 file_id 3 mz 79.02125 RT 487.30 intensity 1.3616e+06\tM+H@78.01397 prob=1.00\n",
        "696. avg m/z=465.198241415 avg RT=703.95300293 prob=1.0\n",
        "\tfeature_id 956 file_id 2 mz 465.19830 RT 707.62 intensity 4.9684e+04\tM+H@464.19103 prob=1.00\n",
        "\tfeature_id 295 file_id 3 mz 465.19818 RT 700.29 intensity 5.9563e+05\tM+H@464.19090 prob=1.00\n",
        "697. avg m/z=324.059277735 avg RT=1181.14996338 prob=1.0\n",
        "\tfeature_id 240 file_id 2 mz 324.05931 RT 1187.22 intensity 3.1453e+05\tM+H@323.05203 prob=1.00\n",
        "\tfeature_id 122 file_id 3 mz 324.05925 RT 1175.08 intensity 1.6816e+06\tM+H@323.05197 prob=1.00\n",
        "698. avg m/z=188.070396735 avg RT=788.49899292 prob=1.0\n",
        "\tfeature_id 144 file_id 0 mz 188.07041 RT 789.67 intensity 1.1045e+06\tM+H@187.06313 prob=1.00\n",
        "\tfeature_id 129 file_id 1 mz 188.07038 RT 787.33 intensity 1.1638e+06\tM+H@187.06311 prob=1.00\n",
        "699. avg m/z=294.938331434 avg RT=1263.29498291 prob=1.0\n",
        "\tfeature_id 468 file_id 0 mz 294.93835 RT 1260.89 intensity 2.5390e+05\tM+H@293.93107 prob=1.00\n",
        "\tfeature_id 416 file_id 1 mz 294.93832 RT 1265.70 intensity 2.6819e+05\tM+H@293.93104 prob=1.00\n",
        "700. avg m/z=115.038824829 avg RT=675.483978271 prob=1.0\n",
        "\tfeature_id 514 file_id 0 mz 115.03883 RT 557.80 intensity 2.1625e+05\tM+H@114.03156 prob=1.00\n",
        "\tfeature_id 857 file_id 1 mz 115.03882 RT 793.17 intensity 8.8331e+04\tM+H@114.03154 prob=1.00\n",
        "701. avg m/z=82.0222422777 avg RT=2531.18005371 prob=1.0\n",
        "\tfeature_id 699 file_id 0 mz 82.02223 RT 2409.50 intensity 1.3985e+05\tM+H@81.01496 prob=1.00\n",
        "\tfeature_id 791 file_id 1 mz 82.02225 RT 2652.86 intensity 1.0540e+05\tM+H@81.01498 prob=1.00\n",
        "702. avg m/z=81.5205451053 avg RT=2514.28662109 prob=1.0\n",
        "\tfeature_id 84 file_id 0 mz 81.52057 RT 2466.83 intensity 1.9897e+06\tM+H@80.51330 prob=1.00\n",
        "\tfeature_id 96 file_id 1 mz 81.52056 RT 2634.64 intensity 1.6493e+06\tM+H@80.51329 prob=1.00\n",
        "\tfeature_id 170 file_id 2 mz 81.52050 RT 2441.39 intensity 5.0985e+05\tM+H@80.51322 prob=1.00\n",
        "703. avg m/z=82.0222449132 avg RT=2555.20996094 prob=1.0\n",
        "\tfeature_id 735 file_id 0 mz 82.02223 RT 2375.49 intensity 1.3017e+05\tM+H@81.01495 prob=1.00\n",
        "\tfeature_id 801 file_id 1 mz 82.02226 RT 2734.93 intensity 1.0289e+05\tM+H@81.01498 prob=1.00\n",
        "704. avg m/z=170.081110735 avg RT=993.805999756 prob=1.0\n",
        "\tfeature_id 150 file_id 2 mz 170.08113 RT 1082.65 intensity 5.5194e+05\tM+H@169.07385 prob=1.00\n",
        "\tfeature_id 15 file_id 3 mz 170.08110 RT 904.96 intensity 9.3639e+06\tM+H@169.07382 prob=1.00\n",
        "705. avg m/z=81.0334898768 avg RT=495.962501526 prob=1.0\n",
        "\tfeature_id 603 file_id 0 mz 81.03347 RT 467.69 intensity 1.8156e+05\tM+H@80.02619 prob=1.00\n",
        "\tfeature_id 566 file_id 1 mz 81.03345 RT 470.08 intensity 1.7760e+05\tM+H@80.02618 prob=1.00\n",
        "\tfeature_id 946 file_id 2 mz 81.03351 RT 591.72 intensity 5.0554e+04\tM+H@80.02623 prob=1.00\n",
        "\tfeature_id 557 file_id 3 mz 81.03353 RT 454.36 intensity 2.9757e+05\tM+H@80.02625 prob=1.00\n",
        "706. avg m/z=254.102052258 avg RT=796.253997803 prob=1.0\n",
        "\tfeature_id 719 file_id 0 mz 254.10193 RT 795.52 intensity 1.3403e+05\tM+H@253.09465 prob=1.00\n",
        "\tfeature_id 649 file_id 1 mz 254.10189 RT 796.09 intensity 1.4363e+05\tM+H@253.09462 prob=1.00\n",
        "\tfeature_id 261 file_id 2 mz 254.10221 RT 799.54 intensity 2.8507e+05\tM+H@253.09494 prob=1.00\n",
        "\tfeature_id 169 file_id 3 mz 254.10217 RT 793.87 intensity 1.1413e+06\tM+H@253.09490 prob=1.00\n",
        "707. avg m/z=125.986150339 avg RT=2418.66253662 prob=1.0\n",
        "\tfeature_id 268 file_id 0 mz 125.98612 RT 2466.83 intensity 4.9965e+05\tM+H@124.97885 prob=1.00\n",
        "\tfeature_id 181 file_id 1 mz 125.98612 RT 2330.26 intensity 7.1214e+05\tM+H@124.97885 prob=1.00\n",
        "\tfeature_id 364 file_id 2 mz 125.98617 RT 2503.45 intensity 1.8840e+05\tM+H@124.97890 prob=1.00\n",
        "\tfeature_id 253 file_id 3 mz 125.98619 RT 2374.11 intensity 7.1182e+05\tM+H@124.97891 prob=1.00\n",
        "708. avg m/z=172.007156577 avg RT=998.214996338 prob=1.0\n",
        "\tfeature_id 867 file_id 0 mz 172.00712 RT 1004.72 intensity 9.3884e+04\tM+H@170.99984 prob=1.00\n",
        "\tfeature_id 819 file_id 1 mz 172.00707 RT 1007.21 intensity 9.8494e+04\tM+H@170.99979 prob=1.00\n",
        "\tfeature_id 783 file_id 2 mz 172.00716 RT 991.78 intensity 6.9553e+04\tM+H@170.99989 prob=1.00\n",
        "\tfeature_id 882 file_id 3 mz 172.00728 RT 989.15 intensity 1.5489e+05\tM+H@171.00000 prob=1.00\n",
        "709. avg m/z=349.070069179 avg RT=110.503501892 prob=1.0\n",
        "\tfeature_id 985 file_id 0 mz 349.07004 RT 116.43 intensity 6.9592e+04\tM+H@348.06277 prob=1.00\n",
        "\tfeature_id 813 file_id 1 mz 349.07010 RT 104.58 intensity 9.9991e+04\tM+H@348.06282 prob=1.00\n",
        "710. avg m/z=100.116303341 avg RT=821.652008057 prob=1.0\n",
        "\tfeature_id 615 file_id 1 mz 100.11630 RT 816.46 intensity 1.5645e+05\tM+H@99.10903 prob=1.00\n",
        "\tfeature_id 586 file_id 3 mz 100.11630 RT 826.85 intensity 2.7718e+05\tM+H@99.10903 prob=1.00\n",
        "711. avg m/z=445.181293587 avg RT=787.026000977 prob=1.0\n",
        "\tfeature_id 815 file_id 0 mz 445.18131 RT 786.73 intensity 1.0683e+05\tM+H@444.17404 prob=1.00\n",
        "\tfeature_id 670 file_id 1 mz 445.18127 RT 787.33 intensity 1.3726e+05\tM+H@444.17400 prob=1.00\n",
        "712. avg m/z=194.005333626 avg RT=815.942993164 prob=1.0\n",
        "\tfeature_id 682 file_id 0 mz 194.00526 RT 813.08 intensity 1.4606e+05\tM+H@192.99799 prob=1.00\n",
        "\tfeature_id 574 file_id 1 mz 194.00526 RT 810.67 intensity 1.7263e+05\tM+H@192.99798 prob=1.00\n",
        "\tfeature_id 483 file_id 2 mz 194.00540 RT 821.63 intensity 1.3392e+05\tM+H@192.99813 prob=1.00\n",
        "\tfeature_id 812 file_id 3 mz 194.00541 RT 818.39 intensity 1.7565e+05\tM+H@192.99814 prob=1.00\n",
        "713. avg m/z=167.012741671 avg RT=2064.596639 prob=1.0\n",
        "\tfeature_id 83 file_id 1 mz 167.01269 RT 2266.70 intensity 1.8603e+06\tM+H@166.00541 prob=1.00\n",
        "\tfeature_id 132 file_id 2 mz 167.01278 RT 2021.35 intensity 6.8882e+05\tM+H@166.00550 prob=1.00\n",
        "\tfeature_id 198 file_id 3 mz 167.01276 RT 1905.74 intensity 9.6157e+05\tM+H@166.00548 prob=1.00\n",
        "714. avg m/z=228.128304477 avg RT=1036.61001587 prob=1.0\n",
        "\tfeature_id 878 file_id 2 mz 228.12828 RT 1052.39 intensity 5.8784e+04\tM+HC13@226.11776 prob=0.54\n",
        "\tfeature_id 787 file_id 3 mz 228.12833 RT 1020.83 intensity 1.8348e+05\tM+HC13@226.11778 prob=0.52\n",
        "715. avg m/z=104.030067868 avg RT=2423.55249023 prob=1.0\n",
        "\tfeature_id 801 file_id 0 mz 104.03005 RT 2383.25 intensity 1.1011e+05\tM+H@103.02277 prob=1.00\n",
        "\tfeature_id 821 file_id 1 mz 104.03002 RT 2432.00 intensity 9.8385e+04\tM+H@103.02275 prob=1.00\n",
        "\tfeature_id 835 file_id 2 mz 104.03010 RT 2577.07 intensity 6.3262e+04\tM+H@103.02283 prob=1.00\n",
        "\tfeature_id 683 file_id 3 mz 104.03010 RT 2301.89 intensity 2.2585e+05\tM+H@103.02282 prob=1.00\n",
        "716. avg m/z=634.875412784 avg RT=1254.92004395 prob=1.0\n",
        "\tfeature_id 730 file_id 2 mz 634.87561 RT 1272.41 intensity 7.8086e+04\tM+H@633.86833 prob=1.00\n",
        "\tfeature_id 852 file_id 3 mz 634.87521 RT 1237.43 intensity 1.6353e+05\tM+H@633.86794 prob=1.00\n",
        "717. avg m/z=125.986184409 avg RT=2151.46246338 prob=1.0\n",
        "\tfeature_id 31 file_id 0 mz 125.98621 RT 2121.68 intensity 3.5569e+06\tM+H@124.97893 prob=1.00\n",
        "\tfeature_id 31 file_id 1 mz 125.98620 RT 2109.77 intensity 3.7116e+06\tM+H@124.97893 prob=1.00\n",
        "\tfeature_id 65 file_id 2 mz 125.98617 RT 2127.96 intensity 1.3695e+06\tM+H@124.97889 prob=1.00\n",
        "\tfeature_id 182 file_id 3 mz 125.98616 RT 2246.44 intensity 1.0494e+06\tM+H@124.97888 prob=1.00\n",
        "718. avg m/z=102.532286095 avg RT=2263.36336263 prob=0.99\n",
        "\tfeature_id 800 file_id 1 mz 102.53224 RT 2241.01 intensity 1.0301e+05\tM+H@101.52496 prob=1.00\n",
        "\tfeature_id 848 file_id 2 mz 102.53230 RT 2381.53 intensity 6.2358e+04\tM+H@101.52503 prob=1.00\n",
        "\tfeature_id 618 file_id 3 mz 102.53232 RT 2167.55 intensity 2.5522e+05\tM+H@101.52504 prob=1.00\n",
        "719. avg m/z=168.015956326 avg RT=2269.16333008 prob=0.99\n",
        "\tfeature_id 792 file_id 1 mz 168.01590 RT 2210.84 intensity 1.0540e+05\tM+H@167.00863 prob=1.00\n",
        "\tfeature_id 838 file_id 2 mz 168.01596 RT 2350.21 intensity 6.3214e+04\tM+H@167.00868 prob=1.00\n",
        "\tfeature_id 774 file_id 3 mz 168.01601 RT 2246.44 intensity 1.8751e+05\tM+H@167.00873 prob=0.83\n",
        "720. avg m/z=123.048684615 avg RT=2204.94500732 prob=0.99\n",
        "\tfeature_id 305 file_id 0 mz 123.04872 RT 2103.84 intensity 4.3552e+05\tM+H@122.04144 prob=1.00\n",
        "\tfeature_id 477 file_id 1 mz 123.04865 RT 2209.33 intensity 2.2886e+05\tM+H@122.04138 prob=1.00\n",
        "\tfeature_id 127 file_id 2 mz 123.04868 RT 2126.46 intensity 7.1572e+05\tM+H@122.04140 prob=1.00\n",
        "\tfeature_id 567 file_id 3 mz 123.04869 RT 2380.15 intensity 2.9119e+05\tM+H@122.04141 prob=1.00\n",
        "721. avg m/z=95.043809208 avg RT=2248.56500244 prob=0.99\n",
        "\tfeature_id 455 file_id 0 mz 95.04383 RT 2171.21 intensity 2.6929e+05\tM+H@94.03655 prob=0.50\n",
        "\tfeature_id 502 file_id 1 mz 95.04374 RT 2310.59 intensity 2.1358e+05\tM+H@94.03647 prob=0.50\n",
        "\tfeature_id 237 file_id 2 mz 95.04384 RT 2156.48 intensity 3.2247e+05\tM+H@94.03656 prob=0.50\n",
        "\tfeature_id 469 file_id 3 mz 95.04383 RT 2355.98 intensity 3.5613e+05\tM+H@94.03655 prob=0.50\n",
        "722. avg m/z=122.547069702 avg RT=2496.125 prob=0.99\n",
        "\tfeature_id 131 file_id 0 mz 122.54703 RT 2293.70 intensity 1.3070e+06\tM+H@121.53975 prob=0.50\n",
        "\tfeature_id 202 file_id 3 mz 122.54711 RT 2698.55 intensity 9.5085e+05\tM+H@121.53983 prob=1.00\n",
        "723. avg m/z=102.033790745 avg RT=2428.66666667 prob=0.99\n",
        "\tfeature_id 13 file_id 0 mz 102.03379 RT 2309.11 intensity 6.0534e+06\tM+H@101.02651 prob=1.00\n",
        "\tfeature_id 57 file_id 1 mz 102.03373 RT 2614.89 intensity 2.5202e+06\tM+H@101.02645 prob=1.00\n",
        "\tfeature_id 21 file_id 3 mz 102.03386 RT 2362.00 intensity 8.1443e+06\tM+H@101.02658 prob=1.00\n",
        "724. avg m/z=73.531840064 avg RT=2304.69995117 prob=0.99\n",
        "\tfeature_id 362 file_id 0 mz 73.53182 RT 2304.50 intensity 3.6313e+05\tM+H@72.52455 prob=1.00\n",
        "\tfeature_id 594 file_id 3 mz 73.53186 RT 2304.90 intensity 2.7230e+05\tM+H@72.52458 prob=1.00\n",
        "725. avg m/z=151.035177546 avg RT=2282.41247559 prob=0.99\n",
        "\tfeature_id 537 file_id 0 mz 151.03505 RT 2533.65 intensity 2.0760e+05\tM+H@150.02777 prob=0.50\n",
        "\tfeature_id 233 file_id 1 mz 151.03518 RT 2168.99 intensity 5.2902e+05\tM+H@150.02790 prob=0.50\n",
        "\tfeature_id 178 file_id 2 mz 151.03525 RT 2176.10 intensity 4.9154e+05\tM+H@150.02797 prob=0.50\n",
        "\tfeature_id 252 file_id 3 mz 151.03524 RT 2250.91 intensity 7.1252e+05\tM+H@150.02796 prob=0.50\n",
        "726. avg m/z=73.5318471136 avg RT=2289.83496094 prob=0.99\n",
        "\tfeature_id 333 file_id 0 mz 73.53184 RT 2253.79 intensity 3.8884e+05\tM+H@72.52456 prob=1.00\n",
        "\tfeature_id 595 file_id 3 mz 73.53185 RT 2325.88 intensity 2.7193e+05\tM+H@72.52458 prob=1.00\n",
        "727. avg m/z=159.023937086 avg RT=2139.23010254 prob=0.99\n",
        "\tfeature_id 851 file_id 0 mz 159.02392 RT 2087.31 intensity 9.7275e+04\tM+H@158.01665 prob=1.00\n",
        "\tfeature_id 710 file_id 1 mz 159.02390 RT 2074.37 intensity 1.2743e+05\tM+H@158.01663 prob=1.00\n",
        "\tfeature_id 308 file_id 2 mz 159.02396 RT 2109.87 intensity 2.3564e+05\tM+H@158.01668 prob=1.00\n",
        "\tfeature_id 750 file_id 3 mz 159.02396 RT 2285.37 intensity 1.9415e+05\tM+H@158.01668 prob=1.00\n",
        "728. avg m/z=89.5067340608 avg RT=2453.67993164 prob=0.99\n",
        "\tfeature_id 610 file_id 0 mz 89.50666 RT 2653.45 intensity 1.7835e+05\tM+H@88.49939 prob=0.50\n",
        "\tfeature_id 847 file_id 2 mz 89.50681 RT 2253.91 intensity 6.2683e+04\tM+H@88.49953 prob=1.00\n",
        "729. avg m/z=73.5318180992 avg RT=2204.38663737 prob=0.99\n",
        "\tfeature_id 370 file_id 0 mz 73.53183 RT 2296.79 intensity 3.5668e+05\tM+H@72.52456 prob=1.00\n",
        "\tfeature_id 131 file_id 2 mz 73.53177 RT 2066.95 intensity 6.8989e+05\tM+H@72.52449 prob=1.00\n",
        "\tfeature_id 517 file_id 3 mz 73.53186 RT 2249.42 intensity 3.1667e+05\tM+H@72.52458 prob=1.00\n",
        "730. avg m/z=73.5318115513 avg RT=2557.11995443 prob=0.99\n",
        "\tfeature_id 439 file_id 0 mz 73.53180 RT 2658.08 intensity 2.8575e+05\tM+H@72.52452 prob=1.00\n",
        "\tfeature_id 371 file_id 1 mz 73.53179 RT 2634.64 intensity 3.1344e+05\tM+H@72.52451 prob=1.00\n",
        "\tfeature_id 573 file_id 3 mz 73.53185 RT 2378.64 intensity 2.8501e+05\tM+H@72.52458 prob=1.00\n",
        "731. avg m/z=102.532287701 avg RT=2207.84747314 prob=0.99\n",
        "\tfeature_id 534 file_id 0 mz 102.53230 RT 2087.31 intensity 2.0950e+05\tM+H@101.52502 prob=1.00\n",
        "\tfeature_id 998 file_id 1 mz 102.53220 RT 2368.15 intensity 6.4608e+04\tM+H@101.52492 prob=1.00\n",
        "\tfeature_id 328 file_id 2 mz 102.53234 RT 2138.45 intensity 2.2164e+05\tM+H@101.52506 prob=1.00\n",
        "\tfeature_id 845 file_id 3 mz 102.53232 RT 2237.48 intensity 1.6596e+05\tM+H@101.52504 prob=1.00\n",
        "732. avg m/z=159.023969438 avg RT=2185.00500488 prob=0.99\n",
        "\tfeature_id 403 file_id 2 mz 159.02396 RT 2147.45 intensity 1.6703e+05\tM+H@158.01669 prob=1.00\n",
        "\tfeature_id 733 file_id 3 mz 159.02397 RT 2222.56 intensity 2.0032e+05\tM+H@158.01670 prob=1.00\n",
        "733. avg m/z=89.5067657675 avg RT=2464.23665365 prob=0.99\n",
        "\tfeature_id 555 file_id 0 mz 89.50666 RT 2746.70 intensity 2.0098e+05\tM+H@88.49938 prob=0.50\n",
        "\tfeature_id 777 file_id 2 mz 89.50682 RT 2168.54 intensity 7.0303e+04\tM+H@88.49954 prob=1.00\n",
        "\tfeature_id 755 file_id 3 mz 89.50682 RT 2477.47 intensity 1.9308e+05\tM+H@88.49954 prob=1.00\n",
        "734. avg m/z=73.531870482 avg RT=2313.81494141 prob=0.99\n",
        "\tfeature_id 278 file_id 0 mz 73.53188 RT 2148.63 intensity 4.9013e+05\tM+H@72.52460 prob=1.00\n",
        "\tfeature_id 533 file_id 3 mz 73.53186 RT 2479.00 intensity 3.0794e+05\tM+H@72.52459 prob=1.00\n",
        "735. avg m/z=73.5318398573 avg RT=2382.04671224 prob=0.99\n",
        "\tfeature_id 318 file_id 0 mz 73.53184 RT 2221.50 intensity 4.1391e+05\tM+H@72.52456 prob=1.00\n",
        "\tfeature_id 312 file_id 1 mz 73.53181 RT 2306.04 intensity 3.8151e+05\tM+H@72.52454 prob=1.00\n",
        "\tfeature_id 588 file_id 3 mz 73.53187 RT 2618.60 intensity 2.7669e+05\tM+H@72.52459 prob=1.00\n",
        "736. avg m/z=151.035118269 avg RT=2313.31994629 prob=0.99\n",
        "\tfeature_id 379 file_id 0 mz 151.03513 RT 2270.66 intensity 3.4782e+05\tM+H@150.02786 prob=0.50\n",
        "\tfeature_id 341 file_id 1 mz 151.03510 RT 2355.98 intensity 3.5638e+05\tM+H@150.02783 prob=0.50\n",
        "737. avg m/z=208.03929694 avg RT=2343.78991699 prob=0.99\n",
        "\tfeature_id 491 file_id 2 mz 208.03927 RT 2373.69 intensity 1.3054e+05\tM+H@207.03199 prob=0.67\n",
        "\tfeature_id 559 file_id 3 mz 208.03933 RT 2313.89 intensity 2.9643e+05\tM+H@207.03205 prob=0.83\n",
        "738. avg m/z=123.048645076 avg RT=2324.02001953 prob=0.99\n",
        "\tfeature_id 695 file_id 0 mz 123.04863 RT 2278.35 intensity 1.4118e+05\tM+H@122.04136 prob=1.00\n",
        "\tfeature_id 703 file_id 1 mz 123.04861 RT 2292.37 intensity 1.2916e+05\tM+H@122.04133 prob=1.00\n",
        "\tfeature_id 410 file_id 2 mz 123.04866 RT 2412.97 intensity 1.6509e+05\tM+H@122.04138 prob=1.00\n",
        "\tfeature_id 436 file_id 3 mz 123.04868 RT 2312.39 intensity 3.8435e+05\tM+H@122.04140 prob=1.00\n",
        "739. avg m/z=95.0438193311 avg RT=2298.69995117 prob=0.99\n",
        "\tfeature_id 395 file_id 1 mz 95.04381 RT 2182.39 intensity 2.8943e+05\tM+H@94.03653 prob=0.50\n",
        "\tfeature_id 535 file_id 3 mz 95.04383 RT 2415.01 intensity 3.0652e+05\tM+H@94.03656 prob=0.50\n",
        "740. avg m/z=82.0222431928 avg RT=2378.54492188 prob=0.99\n",
        "\tfeature_id 535 file_id 0 mz 82.02224 RT 2204.65 intensity 2.0922e+05\tM+H@81.01496 prob=1.00\n",
        "\tfeature_id 757 file_id 1 mz 82.02225 RT 2552.44 intensity 1.1321e+05\tM+H@81.01497 prob=1.00\n",
        "741. avg m/z=123.048650271 avg RT=2290.44669596 prob=0.98\n",
        "\tfeature_id 548 file_id 0 mz 123.04864 RT 2213.83 intensity 2.0386e+05\tM+H@122.04136 prob=1.00\n",
        "\tfeature_id 553 file_id 1 mz 123.04861 RT 2253.10 intensity 1.8483e+05\tM+H@122.04134 prob=1.00\n",
        "\tfeature_id 612 file_id 3 mz 123.04870 RT 2404.41 intensity 2.5749e+05\tM+H@122.04142 prob=1.00\n",
        "742. avg m/z=182.985063973 avg RT=2147.30004883 prob=0.98\n",
        "\tfeature_id 602 file_id 0 mz 182.98500 RT 2278.35 intensity 1.8329e+05\tM+H@181.97772 prob=0.50\n",
        "\tfeature_id 45 file_id 3 mz 182.98513 RT 2016.25 intensity 4.6691e+06\tM+H@181.97785 prob=0.50\n",
        "743. avg m/z=102.033786173 avg RT=2431.6632487 prob=0.97\n",
        "\tfeature_id 22 file_id 0 mz 102.03377 RT 2431.19 intensity 4.2614e+06\tM+H@101.02649 prob=1.00\n",
        "\tfeature_id 54 file_id 1 mz 102.03373 RT 2584.42 intensity 2.6305e+06\tM+H@101.02646 prob=1.00\n",
        "\tfeature_id 12 file_id 3 mz 102.03386 RT 2279.38 intensity 1.0833e+07\tM+H@101.02658 prob=1.00\n",
        "744. avg m/z=104.030068125 avg RT=2367.0300293 prob=0.97\n",
        "\tfeature_id 667 file_id 0 mz 104.03005 RT 2263.01 intensity 1.5215e+05\tM+H@103.02277 prob=1.00\n",
        "\tfeature_id 362 file_id 1 mz 104.03005 RT 2163.01 intensity 3.2105e+05\tM+H@103.02278 prob=1.00\n",
        "\tfeature_id 882 file_id 2 mz 104.03010 RT 2675.07 intensity 5.8248e+04\tM+H@103.02283 prob=1.00\n",
        "745. avg m/z=182.985020598 avg RT=2237.67004395 prob=0.96\n",
        "\tfeature_id 532 file_id 0 mz 182.98498 RT 2424.99 intensity 2.0980e+05\tM+H@181.97770 prob=0.50\n",
        "\tfeature_id 153 file_id 1 mz 182.98507 RT 2050.35 intensity 8.6716e+05\tM+H@181.97779 prob=0.50\n",
        "746. avg m/z=167.012701782 avg RT=2489.88997396 prob=0.95\n",
        "\tfeature_id 171 file_id 0 mz 167.01266 RT 2431.19 intensity 8.9264e+05\tM+H@166.00538 prob=1.00\n",
        "\tfeature_id 149 file_id 1 mz 167.01265 RT 2419.88 intensity 9.0487e+05\tM+H@166.00537 prob=1.00\n",
        "\tfeature_id 174 file_id 3 mz 167.01280 RT 2618.60 intensity 1.0673e+06\tM+H@166.00553 prob=1.00\n",
        "747. avg m/z=151.035134525 avg RT=2474.80999756 prob=0.94\n",
        "\tfeature_id 515 file_id 0 mz 151.03507 RT 2482.43 intensity 2.1603e+05\tM+H@150.02779 prob=0.50\n",
        "\tfeature_id 542 file_id 1 mz 151.03499 RT 2718.26 intensity 1.9146e+05\tM+H@150.02772 prob=0.50\n",
        "\tfeature_id 254 file_id 2 mz 151.03524 RT 2347.09 intensity 2.9187e+05\tM+H@150.02797 prob=0.50\n",
        "\tfeature_id 299 file_id 3 mz 151.03524 RT 2351.46 intensity 5.8255e+05\tM+H@150.02796 prob=0.50\n",
        "748. avg m/z=151.035101666 avg RT=2467.86328125 prob=0.94\n",
        "\tfeature_id 576 file_id 0 mz 151.03504 RT 2522.78 intensity 1.9038e+05\tM+H@150.02776 prob=0.50\n",
        "\tfeature_id 470 file_id 1 mz 151.03503 RT 2500.66 intensity 2.3410e+05\tM+H@150.02775 prob=0.50\n",
        "\tfeature_id 314 file_id 3 mz 151.03523 RT 2380.15 intensity 5.3890e+05\tM+H@150.02796 prob=0.50\n",
        "749. avg m/z=102.535340373 avg RT=2391.69244385 prob=0.93\n",
        "\tfeature_id 476 file_id 0 mz 102.53534 RT 2533.65 intensity 2.4940e+05\tM+H@101.52806 prob=0.50\n",
        "\tfeature_id 188 file_id 1 mz 102.53531 RT 2266.70 intensity 6.8709e+05\tM+H@101.52803 prob=0.50\n",
        "\tfeature_id 263 file_id 2 mz 102.53536 RT 2505.04 intensity 2.8431e+05\tM+H@101.52808 prob=0.50\n",
        "\tfeature_id 191 file_id 3 mz 102.53536 RT 2261.38 intensity 9.9025e+05\tM+H@101.52808 prob=0.50\n",
        "750. avg m/z=102.535327286 avg RT=2446.61336263 prob=0.93\n",
        "\tfeature_id 473 file_id 0 mz 102.53533 RT 2507.29 intensity 2.5080e+05\tM+H@101.52805 prob=0.50\n",
        "\tfeature_id 354 file_id 1 mz 102.53530 RT 2482.34 intensity 3.3386e+05\tM+H@101.52802 prob=0.50\n",
        "\tfeature_id 182 file_id 2 mz 102.53535 RT 2350.21 intensity 4.7831e+05\tM+H@101.52807 prob=0.50\n",
        "751. avg m/z=82.5370924879 avg RT=2183.28670247 prob=0.93\n",
        "\tfeature_id 462 file_id 0 mz 82.53710 RT 2069.12 intensity 2.6497e+05\tM+H@81.52983 prob=1.00\n",
        "\tfeature_id 741 file_id 1 mz 82.53709 RT 2413.79 intensity 1.1977e+05\tM+H@81.52981 prob=1.00\n",
        "\tfeature_id 606 file_id 2 mz 82.53708 RT 2066.95 intensity 1.0302e+05\tM+H@81.52981 prob=1.00\n",
        "752. avg m/z=73.5318313202 avg RT=2446.30330404 prob=0.92\n",
        "\tfeature_id 363 file_id 0 mz 73.53182 RT 2398.69 intensity 3.6304e+05\tM+H@72.52454 prob=1.00\n",
        "\tfeature_id 305 file_id 1 mz 73.53181 RT 2424.41 intensity 3.8788e+05\tM+H@72.52453 prob=1.00\n",
        "\tfeature_id 544 file_id 3 mz 73.53187 RT 2515.81 intensity 3.0214e+05\tM+H@72.52459 prob=1.00\n",
        "753. avg m/z=102.033795179 avg RT=2372.29663086 prob=0.9\n",
        "\tfeature_id 8 file_id 0 mz 102.03379 RT 2293.70 intensity 7.1770e+06\tM+H@101.02652 prob=1.00\n",
        "\tfeature_id 47 file_id 1 mz 102.03373 RT 2575.27 intensity 2.7813e+06\tM+H@101.02645 prob=1.00\n",
        "\tfeature_id 9 file_id 3 mz 102.03386 RT 2247.92 intensity 1.2135e+07\tM+H@101.02658 prob=1.00\n",
        "754. avg m/z=73.5318310209 avg RT=2535.61336263 prob=0.89\n",
        "\tfeature_id 374 file_id 0 mz 73.53182 RT 2350.83 intensity 3.5100e+05\tM+H@72.52455 prob=1.00\n",
        "\tfeature_id 331 file_id 1 mz 73.53180 RT 2436.57 intensity 3.6317e+05\tM+H@72.52452 prob=1.00\n",
        "\tfeature_id 509 file_id 3 mz 73.53187 RT 2819.44 intensity 3.2113e+05\tM+H@72.52459 prob=1.00\n",
        "755. avg m/z=73.5318234266 avg RT=2491.49666341 prob=0.89\n",
        "\tfeature_id 338 file_id 0 mz 73.53182 RT 2409.50 intensity 3.8477e+05\tM+H@72.52454 prob=1.00\n",
        "\tfeature_id 385 file_id 1 mz 73.53179 RT 2573.74 intensity 2.9953e+05\tM+H@72.52451 prob=1.00\n",
        "\tfeature_id 552 file_id 3 mz 73.53186 RT 2491.25 intensity 2.9990e+05\tM+H@72.52459 prob=1.00\n",
        "756. avg m/z=90.5259090398 avg RT=2336.10498047 prob=0.85\n",
        "\tfeature_id 218 file_id 0 mz 90.52590 RT 2145.64 intensity 6.4254e+05\tM+H@89.51863 prob=1.00\n",
        "\tfeature_id 404 file_id 3 mz 90.52592 RT 2526.57 intensity 4.0995e+05\tM+H@89.51864 prob=1.00\n",
        "757. avg m/z=167.01266074 avg RT=2476.96329753 prob=0.85\n",
        "\tfeature_id 226 file_id 0 mz 167.01263 RT 2488.61 intensity 5.9112e+05\tM+H@166.00535 prob=1.00\n",
        "\tfeature_id 269 file_id 1 mz 167.01258 RT 2614.89 intensity 4.5374e+05\tM+H@166.00530 prob=1.00\n",
        "\tfeature_id 71 file_id 3 mz 167.01277 RT 2327.39 intensity 3.2337e+06\tM+H@166.00550 prob=1.00\n",
        "758. avg m/z=102.033797478 avg RT=2434.96746826 prob=0.83\n",
        "\tfeature_id 30 file_id 0 mz 102.03376 RT 2443.59 intensity 3.5926e+06\tM+H@101.02649 prob=1.00\n",
        "\tfeature_id 60 file_id 1 mz 102.03373 RT 2636.14 intensity 2.4290e+06\tM+H@101.02645 prob=1.00\n",
        "\tfeature_id 8 file_id 2 mz 102.03384 RT 2325.22 intensity 6.0291e+06\tM+H@101.02657 prob=1.00\n",
        "\tfeature_id 14 file_id 3 mz 102.03386 RT 2334.92 intensity 9.3787e+06\tM+H@101.02658 prob=1.00\n",
        "759. avg m/z=102.033803115 avg RT=2279.54663086 prob=0.81\n",
        "\tfeature_id 18 file_id 0 mz 102.03378 RT 2392.54 intensity 4.8553e+06\tM+H@101.02650 prob=1.00\n",
        "\tfeature_id 13 file_id 1 mz 102.03377 RT 2318.14 intensity 6.8917e+06\tM+H@101.02650 prob=1.00\n",
        "\tfeature_id 2 file_id 2 mz 102.03386 RT 2127.96 intensity 1.9983e+07\tM+H@101.02658 prob=1.00\n",
        "760. avg m/z=151.035206283 avg RT=1984.125 prob=0.81\n",
        "\tfeature_id 226 file_id 1 mz 151.03521 RT 2124.46 intensity 5.4220e+05\tM+H@150.02793 prob=0.50\n",
        "\tfeature_id 726 file_id 3 mz 151.03520 RT 1843.79 intensity 2.0242e+05\tM+H@150.02793 prob=0.50\n",
        "761. avg m/z=151.035123142 avg RT=1921.34000651 prob=0.81\n",
        "\tfeature_id 828 file_id 0 mz 151.03497 RT 1802.43 intensity 1.0330e+05\tM+H@150.02769 prob=0.50\n",
        "\tfeature_id 230 file_id 1 mz 151.03521 RT 2143.66 intensity 5.3256e+05\tM+H@150.02794 prob=0.50\n",
        "\tfeature_id 731 file_id 3 mz 151.03519 RT 1817.93 intensity 2.0082e+05\tM+H@150.02791 prob=0.50\n",
        "762. avg m/z=73.5318351163 avg RT=2357.50333659 prob=0.8\n",
        "\tfeature_id 371 file_id 0 mz 73.53182 RT 2375.49 intensity 3.5233e+05\tM+H@72.52454 prob=1.00\n",
        "\tfeature_id 304 file_id 1 mz 73.53182 RT 2251.58 intensity 3.8973e+05\tM+H@72.52455 prob=1.00\n",
        "\tfeature_id 565 file_id 3 mz 73.53186 RT 2445.44 intensity 2.9381e+05\tM+H@72.52459 prob=1.00\n",
        "763. avg m/z=82.5370981153 avg RT=2189.74499512 prob=0.79\n",
        "\tfeature_id 423 file_id 0 mz 82.53711 RT 2046.22 intensity 3.0017e+05\tM+H@81.52983 prob=1.00\n",
        "\tfeature_id 844 file_id 1 mz 82.53709 RT 2333.27 intensity 9.0912e+04\tM+H@81.52981 prob=1.00\n",
        "764. avg m/z=213.018120751 avg RT=2286.27502441 prob=0.76\n",
        "\tfeature_id 599 file_id 2 mz 213.01811 RT 2376.81 intensity 1.0443e+05\tM+H@212.01083 prob=1.00\n",
        "\tfeature_id 728 file_id 3 mz 213.01813 RT 2195.74 intensity 2.0211e+05\tM+H@212.01085 prob=1.00\n",
        "765. avg m/z=81.5205221672 avg RT=1517.79998779 prob=0.76\n",
        "\tfeature_id 558 file_id 0 mz 81.52052 RT 1529.20 intensity 1.9791e+05\tM+H@80.51324 prob=1.00\n",
        "\tfeature_id 607 file_id 1 mz 81.52053 RT 1506.40 intensity 1.6075e+05\tM+H@80.51325 prob=1.00\n",
        "766. avg m/z=70.0126747398 avg RT=2643.66003418 prob=0.75\n",
        "\tfeature_id 448 file_id 0 mz 70.01264 RT 2648.78 intensity 2.7612e+05\tM+H@69.00536 prob=1.00\n",
        "\tfeature_id 988 file_id 3 mz 70.01271 RT 2638.54 intensity 1.2491e+05\tM+H@69.00544 prob=1.00\n",
        "767. avg m/z=70.0126698606 avg RT=2605.06665039 prob=0.75\n",
        "\tfeature_id 412 file_id 0 mz 70.01264 RT 2687.60 intensity 3.0894e+05\tM+H@69.00536 prob=1.00\n",
        "\tfeature_id 417 file_id 1 mz 70.01265 RT 2422.90 intensity 2.6701e+05\tM+H@69.00537 prob=1.00\n",
        "\tfeature_id 950 file_id 3 mz 70.01272 RT 2704.70 intensity 1.3394e+05\tM+H@69.00544 prob=1.00\n",
        "768. avg m/z=102.033797759 avg RT=2326.51326497 prob=0.73\n",
        "\tfeature_id 15 file_id 0 mz 102.03378 RT 2336.91 intensity 5.6183e+06\tM+H@101.02650 prob=1.00\n",
        "\tfeature_id 23 file_id 1 mz 102.03376 RT 2432.00 intensity 4.4367e+06\tM+H@101.02648 prob=1.00\n",
        "\tfeature_id 6 file_id 3 mz 102.03386 RT 2210.63 intensity 1.4325e+07\tM+H@101.02658 prob=1.00\n",
        "769. avg m/z=73.5318437533 avg RT=2398.79663086 prob=0.72\n",
        "\tfeature_id 302 file_id 0 mz 73.53186 RT 2178.77 intensity 4.3696e+05\tM+H@72.52458 prob=1.00\n",
        "\tfeature_id 329 file_id 1 mz 73.53181 RT 2352.93 intensity 3.6524e+05\tM+H@72.52453 prob=1.00\n",
        "\tfeature_id 597 file_id 3 mz 73.53187 RT 2664.69 intensity 2.7061e+05\tM+H@72.52459 prob=1.00\n",
        "770. avg m/z=70.0126780383 avg RT=2313.75500488 prob=0.71\n",
        "\tfeature_id 427 file_id 0 mz 70.01265 RT 2510.40 intensity 2.9688e+05\tM+H@69.00538 prob=1.00\n",
        "\tfeature_id 352 file_id 1 mz 70.01270 RT 2117.11 intensity 3.3547e+05\tM+H@69.00543 prob=1.00\n",
        "771. avg m/z=81.5205674663 avg RT=2434.85009766 prob=0.7\n",
        "\tfeature_id 81 file_id 0 mz 81.52057 RT 2451.34 intensity 2.0862e+06\tM+H@80.51330 prob=1.00\n",
        "\tfeature_id 65 file_id 1 mz 81.52056 RT 2418.36 intensity 2.2601e+06\tM+H@80.51329 prob=1.00\n",
        "772. avg m/z=122.547036862 avg RT=2138.46496582 prob=0.7\n",
        "\tfeature_id 119 file_id 1 mz 122.54700 RT 2290.88 intensity 1.2213e+06\tM+H@121.53973 prob=0.50\n",
        "\tfeature_id 125 file_id 3 mz 122.54707 RT 1986.05 intensity 1.6538e+06\tM+H@121.53979 prob=0.50\n",
        "773. avg m/z=167.012705232 avg RT=2422.74493408 prob=0.7\n",
        "\tfeature_id 157 file_id 0 mz 167.01267 RT 2400.22 intensity 1.0240e+06\tM+H@166.00539 prob=1.00\n",
        "\tfeature_id 257 file_id 1 mz 167.01258 RT 2582.89 intensity 4.7367e+05\tM+H@166.00530 prob=1.00\n",
        "\tfeature_id 50 file_id 2 mz 167.01278 RT 2304.98 intensity 1.9806e+06\tM+H@166.00551 prob=1.00\n",
        "\tfeature_id 97 file_id 3 mz 167.01279 RT 2402.89 intensity 2.2999e+06\tM+H@166.00551 prob=1.00\n",
        "774. avg m/z=73.5318423764 avg RT=2333.03503418 prob=0.69\n",
        "\tfeature_id 339 file_id 0 mz 73.53183 RT 2276.82 intensity 3.8413e+05\tM+H@72.52455 prob=1.00\n",
        "\tfeature_id 576 file_id 3 mz 73.53186 RT 2389.25 intensity 2.8097e+05\tM+H@72.52458 prob=1.00\n",
        "775. avg m/z=125.986148566 avg RT=2318.67498779 prob=0.68\n",
        "\tfeature_id 219 file_id 0 mz 125.98614 RT 2370.87 intensity 6.1318e+05\tM+H@124.97886 prob=1.00\n",
        "\tfeature_id 139 file_id 1 mz 125.98613 RT 2234.97 intensity 1.0266e+06\tM+H@124.97885 prob=1.00\n",
        "\tfeature_id 253 file_id 2 mz 125.98616 RT 2315.89 intensity 2.9435e+05\tM+H@124.97889 prob=1.00\n",
        "\tfeature_id 247 file_id 3 mz 125.98617 RT 2352.97 intensity 7.4343e+05\tM+H@124.97889 prob=1.00\n",
        "776. avg m/z=125.986178055 avg RT=2342.76000977 prob=0.68\n",
        "\tfeature_id 169 file_id 0 mz 125.98615 RT 2253.79 intensity 9.1721e+05\tM+H@124.97888 prob=1.00\n",
        "\tfeature_id 161 file_id 2 mz 125.98616 RT 2214.19 intensity 5.3439e+05\tM+H@124.97889 prob=1.00\n",
        "\tfeature_id 327 file_id 3 mz 125.98622 RT 2560.30 intensity 5.2080e+05\tM+H@124.97894 prob=1.00\n",
        "777. avg m/z=167.012648374 avg RT=2613.81998698 prob=0.68\n",
        "\tfeature_id 346 file_id 0 mz 167.01260 RT 2715.75 intensity 3.7991e+05\tM+H@166.00533 prob=1.00\n",
        "\tfeature_id 289 file_id 1 mz 167.01257 RT 2736.46 intensity 4.2111e+05\tM+H@166.00529 prob=1.00\n",
        "\tfeature_id 87 file_id 3 mz 167.01278 RT 2389.25 intensity 2.4288e+06\tM+H@166.00550 prob=1.00\n",
        "778. avg m/z=73.5318538459 avg RT=2280.32250977 prob=0.67\n",
        "\tfeature_id 324 file_id 0 mz 73.53185 RT 2204.65 intensity 4.0598e+05\tM+H@72.52457 prob=1.00\n",
        "\tfeature_id 291 file_id 1 mz 73.53184 RT 2209.33 intensity 4.1709e+05\tM+H@72.52456 prob=1.00\n",
        "\tfeature_id 490 file_id 2 mz 73.53186 RT 2171.56 intensity 1.3070e+05\tM+H@72.52458 prob=1.00\n",
        "\tfeature_id 525 file_id 3 mz 73.53187 RT 2535.75 intensity 3.1312e+05\tM+H@72.52459 prob=1.00\n",
        "779. avg m/z=102.033793412 avg RT=2543.58752441 prob=0.67\n",
        "\tfeature_id 62 file_id 0 mz 102.03374 RT 2592.70 intensity 2.3550e+06\tM+H@101.02647 prob=1.00\n",
        "\tfeature_id 53 file_id 1 mz 102.03373 RT 2736.46 intensity 2.6317e+06\tM+H@101.02645 prob=1.00\n",
        "\tfeature_id 17 file_id 2 mz 102.03384 RT 2425.61 intensity 4.3066e+06\tM+H@101.02656 prob=1.00\n",
        "\tfeature_id 27 file_id 3 mz 102.03386 RT 2419.58 intensity 7.1288e+06\tM+H@101.02658 prob=1.00\n",
        "780. avg m/z=102.033794123 avg RT=2388.82999674 prob=0.66\n",
        "\tfeature_id 27 file_id 0 mz 102.03376 RT 2459.05 intensity 3.6615e+06\tM+H@101.02648 prob=1.00\n",
        "\tfeature_id 17 file_id 1 mz 102.03377 RT 2355.98 intensity 5.7629e+06\tM+H@101.02649 prob=1.00\n",
        "\tfeature_id 17 file_id 3 mz 102.03386 RT 2351.46 intensity 8.9060e+06\tM+H@101.02658 prob=1.00\n",
        "781. avg m/z=167.012706071 avg RT=2564.27746582 prob=0.66\n",
        "\tfeature_id 308 file_id 0 mz 167.01260 RT 2631.65 intensity 4.2804e+05\tM+H@166.00532 prob=1.00\n",
        "\tfeature_id 132 file_id 1 mz 167.01264 RT 2404.66 intensity 1.1265e+06\tM+H@166.00536 prob=1.00\n",
        "\tfeature_id 80 file_id 2 mz 167.01278 RT 2433.51 intensity 1.0815e+06\tM+H@166.00551 prob=1.00\n",
        "\tfeature_id 184 file_id 3 mz 167.01281 RT 2787.29 intensity 1.0332e+06\tM+H@166.00553 prob=1.00\n",
        "782. avg m/z=82.0222383946 avg RT=2350.15002441 prob=0.65\n",
        "\tfeature_id 700 file_id 0 mz 82.02223 RT 2323.03 intensity 1.3943e+05\tM+H@81.01495 prob=1.00\n",
        "\tfeature_id 689 file_id 1 mz 82.02225 RT 2377.27 intensity 1.3340e+05\tM+H@81.01497 prob=1.00\n",
        "783. avg m/z=81.520563995 avg RT=2454.1550293 prob=0.65\n",
        "\tfeature_id 99 file_id 0 mz 81.52057 RT 2611.36 intensity 1.6815e+06\tM+H@80.51330 prob=1.00\n",
        "\tfeature_id 64 file_id 1 mz 81.52055 RT 2296.95 intensity 2.2783e+06\tM+H@80.51328 prob=1.00\n",
        "784. avg m/z=73.5318270942 avg RT=2596.08502197 prob=0.65\n",
        "\tfeature_id 351 file_id 0 mz 73.53181 RT 2451.34 intensity 3.7488e+05\tM+H@72.52454 prob=1.00\n",
        "\tfeature_id 383 file_id 1 mz 73.53178 RT 2660.50 intensity 3.0257e+05\tM+H@72.52451 prob=1.00\n",
        "\tfeature_id 691 file_id 2 mz 73.53184 RT 2471.48 intensity 8.5580e+04\tM+H@72.52457 prob=1.00\n",
        "\tfeature_id 563 file_id 3 mz 73.53187 RT 2801.02 intensity 2.9403e+05\tM+H@72.52459 prob=1.00\n",
        "785. avg m/z=81.5205655081 avg RT=2441.29003906 prob=0.65\n",
        "\tfeature_id 90 file_id 0 mz 81.52057 RT 2549.31 intensity 1.8176e+06\tM+H@80.51330 prob=1.00\n",
        "\tfeature_id 67 file_id 1 mz 81.52056 RT 2333.27 intensity 2.2488e+06\tM+H@80.51328 prob=1.00\n",
        "786. avg m/z=208.039327077 avg RT=2253.13000488 prob=0.65\n",
        "\tfeature_id 391 file_id 2 mz 208.03929 RT 2328.32 intensity 1.7220e+05\tM+H@207.03201 prob=1.00\n",
        "\tfeature_id 254 file_id 3 mz 208.03936 RT 2177.94 intensity 7.1139e+05\tM+H@207.03209 prob=1.00\n",
        "787. avg m/z=208.03931091 avg RT=2211.31665039 prob=0.64\n",
        "\tfeature_id 369 file_id 0 mz 208.03927 RT 2115.74 intensity 3.5719e+05\tM+H@207.03199 prob=0.51\n",
        "\tfeature_id 265 file_id 2 mz 208.03932 RT 2250.82 intensity 2.8246e+05\tM+H@207.03204 prob=1.00\n",
        "\tfeature_id 421 file_id 3 mz 208.03934 RT 2267.39 intensity 3.9987e+05\tM+H@207.03207 prob=1.00\n",
        "788. avg m/z=73.5318345693 avg RT=2310.01501465 prob=0.64\n",
        "\tfeature_id 364 file_id 0 mz 73.53182 RT 2323.03 intensity 3.6093e+05\tM+H@72.52455 prob=1.00\n",
        "\tfeature_id 320 file_id 1 mz 73.53181 RT 2360.57 intensity 3.7544e+05\tM+H@72.52453 prob=1.00\n",
        "\tfeature_id 510 file_id 2 mz 73.53185 RT 2201.99 intensity 1.2544e+05\tM+H@72.52458 prob=1.00\n",
        "\tfeature_id 593 file_id 3 mz 73.53185 RT 2354.47 intensity 2.7237e+05\tM+H@72.52458 prob=1.00\n",
        "789. avg m/z=73.5318188418 avg RT=2526.05330404 prob=0.64\n",
        "\tfeature_id 386 file_id 0 mz 73.53180 RT 2720.39 intensity 3.3901e+05\tM+H@72.52452 prob=1.00\n",
        "\tfeature_id 307 file_id 1 mz 73.53180 RT 2450.32 intensity 3.8527e+05\tM+H@72.52453 prob=1.00\n",
        "\tfeature_id 548 file_id 3 mz 73.53186 RT 2407.45 intensity 3.0094e+05\tM+H@72.52458 prob=1.00\n",
        "790. avg m/z=213.018144497 avg RT=2267.25500488 prob=0.64\n",
        "\tfeature_id 455 file_id 2 mz 213.01813 RT 2292.54 intensity 1.4478e+05\tM+H@212.01085 prob=1.00\n",
        "\tfeature_id 848 file_id 3 mz 213.01816 RT 2241.97 intensity 1.6479e+05\tM+H@212.01088 prob=1.00\n",
        "791. avg m/z=73.5318395843 avg RT=2381.64501953 prob=0.63\n",
        "\tfeature_id 377 file_id 0 mz 73.53182 RT 2341.53 intensity 3.4888e+05\tM+H@72.52455 prob=1.00\n",
        "\tfeature_id 324 file_id 1 mz 73.53182 RT 2283.28 intensity 3.6913e+05\tM+H@72.52454 prob=1.00\n",
        "\tfeature_id 562 file_id 2 mz 73.53185 RT 2273.97 intensity 1.1211e+05\tM+H@72.52457 prob=1.00\n",
        "\tfeature_id 606 file_id 3 mz 73.53187 RT 2627.80 intensity 2.6346e+05\tM+H@72.52459 prob=1.00\n",
        "792. avg m/z=81.520514968 avg RT=1600.54498291 prob=0.63\n",
        "\tfeature_id 437 file_id 0 mz 81.52051 RT 1638.99 intensity 2.8776e+05\tM+H@80.51323 prob=1.00\n",
        "\tfeature_id 527 file_id 1 mz 81.52052 RT 1562.10 intensity 2.0311e+05\tM+H@80.51324 prob=1.00\n",
        "793. avg m/z=102.033777942 avg RT=1873.29998779 prob=0.63\n",
        "\tfeature_id 40 file_id 0 mz 102.03373 RT 1971.19 intensity 2.8315e+06\tM+H@101.02645 prob=1.00\n",
        "\tfeature_id 51 file_id 2 mz 102.03383 RT 1775.41 intensity 1.9776e+06\tM+H@101.02655 prob=1.00\n",
        "794. avg m/z=122.547048135 avg RT=2117.89996338 prob=0.62\n",
        "\tfeature_id 114 file_id 1 mz 122.54702 RT 2266.70 intensity 1.3811e+06\tM+H@121.53974 prob=0.50\n",
        "\tfeature_id 124 file_id 3 mz 122.54708 RT 1969.10 intensity 1.6606e+06\tM+H@121.53980 prob=0.50\n",
        "795. avg m/z=146.499413214 avg RT=2131.87003581 prob=0.61\n",
        "\tfeature_id 913 file_id 0 mz 146.49938 RT 2178.77 intensity 8.5868e+04\tM+H@145.49211 prob=1.00\n",
        "\tfeature_id 358 file_id 1 mz 146.49941 RT 2108.30 intensity 3.2887e+05\tM+H@145.49214 prob=1.00\n",
        "\tfeature_id 486 file_id 3 mz 146.49944 RT 2108.54 intensity 3.4282e+05\tM+H@145.49216 prob=1.00\n",
        "796. avg m/z=102.033816207 avg RT=1893.07336426 prob=0.61\n",
        "\tfeature_id 39 file_id 0 mz 102.03375 RT 2017.04 intensity 2.8678e+06\tM+H@101.02647 prob=1.00\n",
        "\tfeature_id 46 file_id 2 mz 102.03385 RT 1818.39 intensity 2.1692e+06\tM+H@101.02657 prob=1.00\n",
        "\tfeature_id 68 file_id 3 mz 102.03385 RT 1843.79 intensity 3.3472e+06\tM+H@101.02657 prob=1.00\n",
        "797. avg m/z=82.0222510593 avg RT=2235.09000651 prob=0.61\n",
        "\tfeature_id 289 file_id 0 mz 82.02225 RT 2112.77 intensity 4.7104e+05\tM+H@81.01497 prob=1.00\n",
        "\tfeature_id 712 file_id 1 mz 82.02225 RT 2486.91 intensity 1.2732e+05\tM+H@81.01497 prob=1.00\n",
        "\tfeature_id 707 file_id 3 mz 82.02226 RT 2105.59 intensity 2.1076e+05\tM+H@81.01498 prob=1.00\n",
        "798. avg m/z=146.499422296 avg RT=2142.65991211 prob=0.61\n",
        "\tfeature_id 698 file_id 0 mz 146.49941 RT 2159.14 intensity 1.4021e+05\tM+H@145.49214 prob=1.00\n",
        "\tfeature_id 537 file_id 3 mz 146.49943 RT 2126.18 intensity 3.0616e+05\tM+H@145.49216 prob=1.00\n",
        "799. avg m/z=213.01815418 avg RT=2269.11999512 prob=0.6\n",
        "\tfeature_id 186 file_id 2 mz 213.01816 RT 2142.94 intensity 4.5748e+05\tM+H@212.01089 prob=1.00\n",
        "\tfeature_id 967 file_id 3 mz 213.01814 RT 2395.30 intensity 1.2909e+05\tM+H@212.01087 prob=1.00\n",
        "800. avg m/z=73.5318330962 avg RT=2506.54996745 prob=0.59\n",
        "\tfeature_id 376 file_id 0 mz 73.53182 RT 2431.19 intensity 3.4969e+05\tM+H@72.52454 prob=1.00\n",
        "\tfeature_id 313 file_id 1 mz 73.53181 RT 2337.82 intensity 3.7956e+05\tM+H@72.52454 prob=1.00\n",
        "\tfeature_id 546 file_id 3 mz 73.53187 RT 2750.64 intensity 3.0201e+05\tM+H@72.52459 prob=1.00\n",
        "801. avg m/z=94.5456332338 avg RT=2428.52001953 prob=0.57\n",
        "\tfeature_id 627 file_id 2 mz 94.54561 RT 2630.00 intensity 9.8695e+04\tM+H@93.53833 prob=1.00\n",
        "\tfeature_id 403 file_id 3 mz 94.54566 RT 2227.04 intensity 4.1087e+05\tM+H@93.53838 prob=0.50\n",
        "802. avg m/z=81.5205141751 avg RT=1573.23504639 prob=0.57\n",
        "\tfeature_id 466 file_id 0 mz 81.52051 RT 1605.05 intensity 2.5602e+05\tM+H@80.51323 prob=1.00\n",
        "\tfeature_id 548 file_id 1 mz 81.52052 RT 1541.42 intensity 1.8830e+05\tM+H@80.51325 prob=1.00\n",
        "803. avg m/z=185.023267477 avg RT=2277.48510742 prob=0.57\n",
        "\tfeature_id 553 file_id 2 mz 185.02326 RT 2450.85 intensity 1.1382e+05\tM+H@184.01598 prob=1.00\n",
        "\tfeature_id 688 file_id 3 mz 185.02328 RT 2104.12 intensity 2.2170e+05\tM+H@184.01600 prob=1.00\n",
        "804. avg m/z=104.030068588 avg RT=2272.94000244 prob=0.57\n",
        "\tfeature_id 486 file_id 0 mz 104.03008 RT 2184.83 intensity 2.3757e+05\tM+H@103.02280 prob=1.00\n",
        "\tfeature_id 911 file_id 1 mz 104.03003 RT 2457.92 intensity 7.7472e+04\tM+H@103.02275 prob=1.00\n",
        "\tfeature_id 411 file_id 2 mz 104.03009 RT 2275.52 intensity 1.6496e+05\tM+H@103.02281 prob=1.00\n",
        "\tfeature_id 399 file_id 3 mz 104.03008 RT 2173.49 intensity 4.1707e+05\tM+H@103.02281 prob=1.00\n",
        "805. avg m/z=151.035253342 avg RT=2400.31005859 prob=0.56\n",
        "\tfeature_id 192 file_id 2 mz 151.03525 RT 2205.04 intensity 4.3512e+05\tM+H@150.02798 prob=1.00\n",
        "\tfeature_id 471 file_id 3 mz 151.03525 RT 2595.58 intensity 3.5396e+05\tM+H@150.02798 prob=1.00\n",
        "806. avg m/z=90.5259089524 avg RT=2463.14501953 prob=0.56\n",
        "\tfeature_id 542 file_id 2 mz 90.52590 RT 2252.36 intensity 1.1611e+05\tM+H@89.51863 prob=1.00\n",
        "\tfeature_id 437 file_id 3 mz 90.52592 RT 2673.93 intensity 3.8344e+05\tM+H@89.51864 prob=1.00\n",
        "807. avg m/z=167.012674299 avg RT=2574.57999674 prob=0.55\n",
        "\tfeature_id 326 file_id 0 mz 167.01259 RT 2658.08 intensity 3.9908e+05\tM+H@166.00532 prob=1.00\n",
        "\tfeature_id 183 file_id 1 mz 167.01262 RT 2476.23 intensity 7.0660e+05\tM+H@166.00535 prob=1.00\n",
        "\tfeature_id 168 file_id 3 mz 167.01281 RT 2589.43 intensity 1.1429e+06\tM+H@166.00553 prob=1.00\n",
        "808. avg m/z=104.0300708 avg RT=2350.4366862 prob=0.55\n",
        "\tfeature_id 662 file_id 0 mz 104.03005 RT 2293.70 intensity 1.5627e+05\tM+H@103.02278 prob=1.00\n",
        "\tfeature_id 483 file_id 1 mz 104.03006 RT 2209.33 intensity 2.2547e+05\tM+H@103.02278 prob=1.00\n",
        "\tfeature_id 785 file_id 2 mz 104.03010 RT 2548.28 intensity 6.9256e+04\tM+H@103.02282 prob=1.00\n",
        "809. avg m/z=167.012706696 avg RT=2343.09002686 prob=0.53\n",
        "\tfeature_id 74 file_id 0 mz 167.01271 RT 2236.84 intensity 2.1469e+06\tM+H@166.00543 prob=1.00\n",
        "\tfeature_id 263 file_id 1 mz 167.01257 RT 2605.78 intensity 4.6778e+05\tM+H@166.00529 prob=1.00\n",
        "\tfeature_id 31 file_id 2 mz 167.01279 RT 2230.85 intensity 3.0975e+06\tM+H@166.00551 prob=1.00\n",
        "\tfeature_id 65 file_id 3 mz 167.01277 RT 2298.89 intensity 3.6914e+06\tM+H@166.00549 prob=1.00\n",
        "810. avg m/z=167.012671459 avg RT=2507.8733724 prob=0.53\n",
        "\tfeature_id 201 file_id 0 mz 167.01265 RT 2443.59 intensity 7.4069e+05\tM+H@166.00538 prob=1.00\n",
        "\tfeature_id 276 file_id 1 mz 167.01257 RT 2646.77 intensity 4.4553e+05\tM+H@166.00529 prob=1.00\n",
        "\tfeature_id 114 file_id 3 mz 167.01279 RT 2433.26 intensity 1.9313e+06\tM+H@166.00551 prob=1.00\n",
        "811. avg m/z=102.033811574 avg RT=2360.78997803 prob=0.52\n",
        "\tfeature_id 43 file_id 0 mz 102.03375 RT 2516.57 intensity 2.7835e+06\tM+H@101.02648 prob=1.00\n",
        "\tfeature_id 11 file_id 1 mz 102.03379 RT 2266.70 intensity 7.4137e+06\tM+H@101.02651 prob=1.00\n",
        "\tfeature_id 4 file_id 2 mz 102.03385 RT 2257.00 intensity 8.0350e+06\tM+H@101.02657 prob=1.00\n",
        "\tfeature_id 25 file_id 3 mz 102.03386 RT 2402.89 intensity 7.3788e+06\tM+H@101.02659 prob=1.00\n",
        "812. avg m/z=102.033795564 avg RT=2499.23331706 prob=0.52\n",
        "\tfeature_id 50 file_id 0 mz 102.03375 RT 2533.65 intensity 2.6136e+06\tM+H@101.02647 prob=1.00\n",
        "\tfeature_id 16 file_id 1 mz 102.03377 RT 2339.32 intensity 5.9512e+06\tM+H@101.02650 prob=1.00\n",
        "\tfeature_id 49 file_id 3 mz 102.03386 RT 2624.73 intensity 4.5458e+06\tM+H@101.02659 prob=1.00\n",
        "813. avg m/z=104.03006633 avg RT=2301.23254395 prob=0.52\n",
        "\tfeature_id 561 file_id 0 mz 104.03006 RT 2224.55 intensity 1.9449e+05\tM+H@103.02279 prob=1.00\n",
        "\tfeature_id 671 file_id 1 mz 104.03002 RT 2381.86 intensity 1.3703e+05\tM+H@103.02275 prob=1.00\n",
        "\tfeature_id 568 file_id 2 mz 104.03009 RT 2389.37 intensity 1.1074e+05\tM+H@103.02282 prob=1.00\n",
        "\tfeature_id 489 file_id 3 mz 104.03009 RT 2209.15 intensity 3.3989e+05\tM+H@103.02281 prob=1.00\n",
        "814. avg m/z=102.033809815 avg RT=2526.61505127 prob=0.52\n",
        "\tfeature_id 72 file_id 0 mz 102.03374 RT 2647.23 intensity 2.1641e+06\tM+H@101.02646 prob=1.00\n",
        "\tfeature_id 7 file_id 1 mz 102.03379 RT 2253.10 intensity 8.0766e+06\tM+H@101.02651 prob=1.00\n",
        "\tfeature_id 15 file_id 2 mz 102.03384 RT 2405.11 intensity 4.5140e+06\tM+H@101.02657 prob=1.00\n",
        "\tfeature_id 50 file_id 3 mz 102.03387 RT 2801.02 intensity 4.5221e+06\tM+H@101.02660 prob=1.00\n",
        "815. avg m/z=167.012705178 avg RT=2527.80010986 prob=0.52\n",
        "\tfeature_id 155 file_id 0 mz 167.01266 RT 2378.61 intensity 1.0373e+06\tM+H@166.00538 prob=1.00\n",
        "\tfeature_id 234 file_id 1 mz 167.01258 RT 2564.62 intensity 5.2879e+05\tM+H@166.00530 prob=1.00\n",
        "\tfeature_id 70 file_id 2 mz 167.01278 RT 2405.11 intensity 1.2679e+06\tM+H@166.00551 prob=1.00\n",
        "\tfeature_id 177 file_id 3 mz 167.01280 RT 2762.86 intensity 1.0632e+06\tM+H@166.00552 prob=1.00\n",
        "816. avg m/z=168.015942332 avg RT=2225.81665039 prob=0.52\n",
        "\tfeature_id 861 file_id 1 mz 168.01587 RT 2234.97 intensity 8.7274e+04\tM+H@167.00860 prob=1.00\n",
        "\tfeature_id 758 file_id 2 mz 168.01595 RT 2323.66 intensity 7.3405e+04\tM+H@167.00867 prob=1.00\n",
        "\tfeature_id 381 file_id 3 mz 168.01601 RT 2118.82 intensity 4.3858e+05\tM+H@167.00873 prob=1.00\n",
        "817. avg m/z=102.033799784 avg RT=2497.61993408 prob=0.51\n",
        "\tfeature_id 65 file_id 0 mz 102.03374 RT 2737.45 intensity 2.2513e+06\tM+H@101.02646 prob=1.00\n",
        "\tfeature_id 20 file_id 1 mz 102.03375 RT 2404.66 intensity 5.4481e+06\tM+H@101.02648 prob=1.00\n",
        "\tfeature_id 12 file_id 2 mz 102.03384 RT 2384.66 intensity 4.9054e+06\tM+H@101.02656 prob=1.00\n",
        "\tfeature_id 35 file_id 3 mz 102.03386 RT 2463.71 intensity 6.0942e+06\tM+H@101.02659 prob=1.00\n",
        "818. avg m/z=81.5205150248 avg RT=1634.24499512 prob=0.51\n",
        "\tfeature_id 352 file_id 0 mz 81.52051 RT 1684.14 intensity 3.7460e+05\tM+H@80.51324 prob=1.00\n",
        "\tfeature_id 495 file_id 1 mz 81.52052 RT 1584.35 intensity 2.1672e+05\tM+H@80.51324 prob=1.00\n",
        "819. avg m/z=168.015985819 avg RT=2196.37243652 prob=0.51\n",
        "\tfeature_id 432 file_id 0 mz 168.01602 RT 2115.74 intensity 2.9136e+05\tM+H@167.00874 prob=0.51\n",
        "\tfeature_id 351 file_id 1 mz 168.01596 RT 2103.89 intensity 3.3836e+05\tM+H@167.00868 prob=1.00\n",
        "\tfeature_id 520 file_id 2 mz 168.01596 RT 2236.97 intensity 1.2134e+05\tM+H@167.00868 prob=1.00\n",
        "\tfeature_id 946 file_id 3 mz 168.01601 RT 2328.89 intensity 1.3514e+05\tM+H@167.00874 prob=0.52\n",
        "820. avg m/z=167.012677829 avg RT=2433.04329427 prob=0.51\n",
        "\tfeature_id 125 file_id 0 mz 167.01269 RT 2309.11 intensity 1.3889e+06\tM+H@166.00541 prob=1.00\n",
        "\tfeature_id 254 file_id 1 mz 167.01257 RT 2712.14 intensity 4.7565e+05\tM+H@166.00530 prob=1.00\n",
        "\tfeature_id 59 file_id 3 mz 167.01277 RT 2277.88 intensity 3.8756e+06\tM+H@166.00550 prob=1.00\n",
        "821. avg m/z=167.012740954 avg RT=2247.11995443 prob=0.5\n",
        "\tfeature_id 10 file_id 0 mz 167.01282 RT 2114.26 intensity 6.7055e+06\tM+H@166.00554 prob=1.00\n",
        "\tfeature_id 196 file_id 1 mz 167.01260 RT 2499.14 intensity 6.2798e+05\tM+H@166.00533 prob=1.00\n",
        "\tfeature_id 6 file_id 2 mz 167.01280 RT 2127.96 intensity 7.7470e+06\tM+H@166.00553 prob=1.00\n",
        "822. avg m/z=73.5318241692 avg RT=2568.01751709 prob=0.5\n",
        "\tfeature_id 395 file_id 0 mz 73.53180 RT 2550.86 intensity 3.2674e+05\tM+H@72.52453 prob=1.00\n",
        "\tfeature_id 374 file_id 1 mz 73.53179 RT 2592.05 intensity 3.1158e+05\tM+H@72.52451 prob=1.00\n",
        "\tfeature_id 699 file_id 2 mz 73.53184 RT 2441.39 intensity 8.4645e+04\tM+H@72.52456 prob=1.00\n",
        "\tfeature_id 603 file_id 3 mz 73.53187 RT 2687.77 intensity 2.6688e+05\tM+H@72.52459 prob=1.00\n",
        "823. avg m/z=167.012719255 avg RT=2203.58658854 prob=0.5\n",
        "\tfeature_id 165 file_id 1 mz 167.01263 RT 2444.19 intensity 7.9834e+05\tM+H@166.00535 prob=1.00\n",
        "\tfeature_id 91 file_id 2 mz 167.01275 RT 2063.91 intensity 9.5318e+05\tM+H@166.00547 prob=1.00\n",
        "\tfeature_id 13 file_id 3 mz 167.01278 RT 2102.66 intensity 1.0666e+07\tM+H@166.00551 prob=1.00\n",
        "824. avg m/z=168.01597509 avg RT=2223.24991862 prob=0.49\n",
        "\tfeature_id 351 file_id 1 mz 168.01596 RT 2103.89 intensity 3.3836e+05\tM+H@167.00868 prob=1.00\n",
        "\tfeature_id 520 file_id 2 mz 168.01596 RT 2236.97 intensity 1.2134e+05\tM+H@167.00868 prob=1.00\n",
        "\tfeature_id 946 file_id 3 mz 168.01601 RT 2328.89 intensity 1.3514e+05\tM+H@167.00874 prob=0.52\n",
        "825. avg m/z=167.012706784 avg RT=2504.22003174 prob=0.49\n",
        "\tfeature_id 306 file_id 0 mz 167.01263 RT 2609.81 intensity 4.3321e+05\tM+H@166.00535 prob=1.00\n",
        "\tfeature_id 191 file_id 1 mz 167.01262 RT 2482.34 intensity 6.6481e+05\tM+H@166.00534 prob=1.00\n",
        "\tfeature_id 62 file_id 2 mz 167.01278 RT 2370.56 intensity 1.5313e+06\tM+H@166.00550 prob=1.00\n",
        "\tfeature_id 159 file_id 3 mz 167.01281 RT 2554.17 intensity 1.2002e+06\tM+H@166.00553 prob=1.00\n",
        "826. avg m/z=167.012679752 avg RT=2568.69677734 prob=0.48\n",
        "\tfeature_id 155 file_id 0 mz 167.01266 RT 2378.61 intensity 1.0373e+06\tM+H@166.00538 prob=1.00\n",
        "\tfeature_id 234 file_id 1 mz 167.01258 RT 2564.62 intensity 5.2879e+05\tM+H@166.00530 prob=1.00\n",
        "\tfeature_id 177 file_id 3 mz 167.01280 RT 2762.86 intensity 1.0632e+06\tM+H@166.00552 prob=1.00\n",
        "827. avg m/z=102.033800381 avg RT=2395.38663737 prob=0.48\n",
        "\tfeature_id 43 file_id 0 mz 102.03375 RT 2516.57 intensity 2.7835e+06\tM+H@101.02648 prob=1.00\n",
        "\tfeature_id 11 file_id 1 mz 102.03379 RT 2266.70 intensity 7.4137e+06\tM+H@101.02651 prob=1.00\n",
        "\tfeature_id 25 file_id 3 mz 102.03386 RT 2402.89 intensity 7.3788e+06\tM+H@101.02659 prob=1.00\n",
        "828. avg m/z=168.015961251 avg RT=2198.29748535 prob=0.48\n",
        "\tfeature_id 432 file_id 0 mz 168.01602 RT 2115.74 intensity 2.9136e+05\tM+H@167.00874 prob=0.51\n",
        "\tfeature_id 861 file_id 1 mz 168.01587 RT 2234.97 intensity 8.7274e+04\tM+H@167.00860 prob=1.00\n",
        "\tfeature_id 758 file_id 2 mz 168.01595 RT 2323.66 intensity 7.3405e+04\tM+H@167.00867 prob=1.00\n",
        "\tfeature_id 381 file_id 3 mz 168.01601 RT 2118.82 intensity 4.3858e+05\tM+H@167.00873 prob=1.00\n",
        "829. avg m/z=167.012715048 avg RT=2344.7175293 prob=0.47\n",
        "\tfeature_id 60 file_id 0 mz 167.01273 RT 2213.83 intensity 2.3927e+06\tM+H@166.00546 prob=1.00\n",
        "\tfeature_id 287 file_id 1 mz 167.01257 RT 2683.28 intensity 4.2527e+05\tM+H@166.00529 prob=1.00\n",
        "\tfeature_id 31 file_id 2 mz 167.01279 RT 2230.85 intensity 3.0975e+06\tM+H@166.00551 prob=1.00\n",
        "\tfeature_id 51 file_id 3 mz 167.01277 RT 2250.91 intensity 4.4712e+06\tM+H@166.00550 prob=1.00\n",
        "830. avg m/z=104.030059008 avg RT=2331.92675781 prob=0.47\n",
        "\tfeature_id 561 file_id 0 mz 104.03006 RT 2224.55 intensity 1.9449e+05\tM+H@103.02279 prob=1.00\n",
        "\tfeature_id 671 file_id 1 mz 104.03002 RT 2381.86 intensity 1.3703e+05\tM+H@103.02275 prob=1.00\n",
        "\tfeature_id 568 file_id 2 mz 104.03009 RT 2389.37 intensity 1.1074e+05\tM+H@103.02282 prob=1.00\n",
        "831. avg m/z=167.012697934 avg RT=2473.54504395 prob=0.47\n",
        "\tfeature_id 201 file_id 0 mz 167.01265 RT 2443.59 intensity 7.4069e+05\tM+H@166.00538 prob=1.00\n",
        "\tfeature_id 276 file_id 1 mz 167.01257 RT 2646.77 intensity 4.4553e+05\tM+H@166.00529 prob=1.00\n",
        "\tfeature_id 62 file_id 2 mz 167.01278 RT 2370.56 intensity 1.5313e+06\tM+H@166.00550 prob=1.00\n",
        "\tfeature_id 114 file_id 3 mz 167.01279 RT 2433.26 intensity 1.9313e+06\tM+H@166.00551 prob=1.00\n",
        "832. avg m/z=167.012683259 avg RT=2548.77335612 prob=0.45\n",
        "\tfeature_id 306 file_id 0 mz 167.01263 RT 2609.81 intensity 4.3321e+05\tM+H@166.00535 prob=1.00\n",
        "\tfeature_id 191 file_id 1 mz 167.01262 RT 2482.34 intensity 6.6481e+05\tM+H@166.00534 prob=1.00\n",
        "\tfeature_id 159 file_id 3 mz 167.01281 RT 2554.17 intensity 1.2002e+06\tM+H@166.00553 prob=1.00\n",
        "833. avg m/z=104.030075174 avg RT=2315.11499023 prob=0.45\n",
        "\tfeature_id 662 file_id 0 mz 104.03005 RT 2293.70 intensity 1.5627e+05\tM+H@103.02278 prob=1.00\n",
        "\tfeature_id 483 file_id 1 mz 104.03006 RT 2209.33 intensity 2.2547e+05\tM+H@103.02278 prob=1.00\n",
        "\tfeature_id 785 file_id 2 mz 104.03010 RT 2548.28 intensity 6.9256e+04\tM+H@103.02282 prob=1.00\n",
        "\tfeature_id 489 file_id 3 mz 104.03009 RT 2209.15 intensity 3.3989e+05\tM+H@103.02281 prob=1.00\n",
        "834. avg m/z=111.039074327 avg RT=2306.26501465 prob=0.44\n",
        "\tfeature_id 222 file_id 2 mz 111.03905 RT 2492.24 intensity 3.4462e+05\tM+H@110.03177 prob=1.00\n",
        "\tfeature_id 262 file_id 3 mz 111.03910 RT 2120.29 intensity 6.9026e+05\tM+H@110.03182 prob=1.00\n",
        "835. avg m/z=167.012701088 avg RT=2532.21252441 prob=0.42\n",
        "\tfeature_id 326 file_id 0 mz 167.01259 RT 2658.08 intensity 3.9908e+05\tM+H@166.00532 prob=1.00\n",
        "\tfeature_id 183 file_id 1 mz 167.01262 RT 2476.23 intensity 7.0660e+05\tM+H@166.00535 prob=1.00\n",
        "\tfeature_id 70 file_id 2 mz 167.01278 RT 2405.11 intensity 1.2679e+06\tM+H@166.00551 prob=1.00\n",
        "\tfeature_id 168 file_id 3 mz 167.01281 RT 2589.43 intensity 1.1429e+06\tM+H@166.00553 prob=1.00\n",
        "836. avg m/z=102.033788905 avg RT=1902.85003662 prob=0.42\n",
        "\tfeature_id 42 file_id 0 mz 102.03373 RT 2004.40 intensity 2.8060e+06\tM+H@101.02646 prob=1.00\n",
        "\tfeature_id 49 file_id 2 mz 102.03384 RT 1801.30 intensity 2.0463e+06\tM+H@101.02657 prob=1.00\n",
        "837. avg m/z=104.030078027 avg RT=2287.61002604 prob=0.41\n",
        "\tfeature_id 564 file_id 1 mz 104.03004 RT 2253.10 intensity 1.7825e+05\tM+H@103.02277 prob=1.00\n",
        "\tfeature_id 692 file_id 2 mz 104.03010 RT 2454.04 intensity 8.5507e+04\tM+H@103.02283 prob=1.00\n",
        "\tfeature_id 361 file_id 3 mz 104.03009 RT 2155.69 intensity 4.6892e+05\tM+H@103.02281 prob=1.00\n",
        "838. avg m/z=73.5318348827 avg RT=2468.64245605 prob=0.41\n",
        "\tfeature_id 376 file_id 0 mz 73.53182 RT 2431.19 intensity 3.4969e+05\tM+H@72.52454 prob=1.00\n",
        "\tfeature_id 313 file_id 1 mz 73.53181 RT 2337.82 intensity 3.7956e+05\tM+H@72.52454 prob=1.00\n",
        "\tfeature_id 645 file_id 2 mz 73.53184 RT 2354.92 intensity 9.5080e+04\tM+H@72.52456 prob=1.00\n",
        "\tfeature_id 546 file_id 3 mz 73.53187 RT 2750.64 intensity 3.0201e+05\tM+H@72.52459 prob=1.00\n",
        "839. avg m/z=73.531818575 avg RT=2610.22672526 prob=0.4\n",
        "\tfeature_id 395 file_id 0 mz 73.53180 RT 2550.86 intensity 3.2674e+05\tM+H@72.52453 prob=1.00\n",
        "\tfeature_id 374 file_id 1 mz 73.53179 RT 2592.05 intensity 3.1158e+05\tM+H@72.52451 prob=1.00\n",
        "\tfeature_id 603 file_id 3 mz 73.53187 RT 2687.77 intensity 2.6688e+05\tM+H@72.52459 prob=1.00\n",
        "840. avg m/z=391.283709428 avg RT=634.660003662 prob=0.4\n",
        "\tfeature_id 688 file_id 0 mz 391.28370 RT 785.25 intensity 1.4274e+05\tM+H@390.27642 prob=1.00\n",
        "\tfeature_id 197 file_id 1 mz 391.28372 RT 484.07 intensity 6.2778e+05\tM+H@390.27644 prob=1.00\n",
        "841. avg m/z=213.018147157 avg RT=2214.02669271 prob=0.4\n",
        "\tfeature_id 916 file_id 0 mz 213.01813 RT 2103.84 intensity 8.4958e+04\tM+H@212.01086 prob=1.00\n",
        "\tfeature_id 186 file_id 2 mz 213.01816 RT 2142.94 intensity 4.5748e+05\tM+H@212.01089 prob=1.00\n",
        "\tfeature_id 967 file_id 3 mz 213.01814 RT 2395.30 intensity 1.2909e+05\tM+H@212.01087 prob=1.00\n",
        "842. avg m/z=146.499412625 avg RT=2143.6550293 prob=0.39\n",
        "\tfeature_id 913 file_id 0 mz 146.49938 RT 2178.77 intensity 8.5868e+04\tM+H@145.49211 prob=1.00\n",
        "\tfeature_id 486 file_id 3 mz 146.49944 RT 2108.54 intensity 3.4282e+05\tM+H@145.49216 prob=1.00\n",
        "843. avg m/z=102.033794121 avg RT=2533.3550415 prob=0.39\n",
        "\tfeature_id 63 file_id 0 mz 102.03374 RT 2609.81 intensity 2.3463e+06\tM+H@101.02647 prob=1.00\n",
        "\tfeature_id 48 file_id 1 mz 102.03372 RT 2605.78 intensity 2.7703e+06\tM+H@101.02645 prob=1.00\n",
        "\tfeature_id 15 file_id 2 mz 102.03384 RT 2405.11 intensity 4.5140e+06\tM+H@101.02657 prob=1.00\n",
        "\tfeature_id 38 file_id 3 mz 102.03387 RT 2512.72 intensity 5.2813e+06\tM+H@101.02659 prob=1.00\n",
        "844. avg m/z=146.499419661 avg RT=2131.20662435 prob=0.39\n",
        "\tfeature_id 698 file_id 0 mz 146.49941 RT 2159.14 intensity 1.4021e+05\tM+H@145.49214 prob=1.00\n",
        "\tfeature_id 358 file_id 1 mz 146.49941 RT 2108.30 intensity 3.2887e+05\tM+H@145.49214 prob=1.00\n",
        "\tfeature_id 537 file_id 3 mz 146.49943 RT 2126.18 intensity 3.0616e+05\tM+H@145.49216 prob=1.00\n",
        "845. avg m/z=82.0222356617 avg RT=2307.875 prob=0.38\n",
        "\tfeature_id 728 file_id 0 mz 82.02224 RT 2341.53 intensity 1.3229e+05\tM+H@81.01496 prob=1.00\n",
        "\tfeature_id 673 file_id 1 mz 82.02223 RT 2274.22 intensity 1.3697e+05\tM+H@81.01496 prob=1.00\n",
        "846. avg m/z=73.5318209822 avg RT=2580.95001221 prob=0.38\n",
        "\tfeature_id 398 file_id 0 mz 73.53180 RT 2752.90 intensity 3.2386e+05\tM+H@72.52452 prob=1.00\n",
        "\tfeature_id 378 file_id 1 mz 73.53178 RT 2686.33 intensity 3.0808e+05\tM+H@72.52451 prob=1.00\n",
        "\tfeature_id 725 file_id 2 mz 73.53184 RT 2461.97 intensity 7.9496e+04\tM+H@72.52457 prob=1.00\n",
        "\tfeature_id 543 file_id 3 mz 73.53186 RT 2422.60 intensity 3.0249e+05\tM+H@72.52458 prob=1.00\n",
        "847. avg m/z=102.033798446 avg RT=2496.36999512 prob=0.38\n",
        "\tfeature_id 53 file_id 0 mz 102.03374 RT 2544.62 intensity 2.4715e+06\tM+H@101.02647 prob=1.00\n",
        "\tfeature_id 39 file_id 1 mz 102.03374 RT 2518.93 intensity 3.2058e+06\tM+H@101.02646 prob=1.00\n",
        "\tfeature_id 12 file_id 2 mz 102.03384 RT 2384.66 intensity 4.9054e+06\tM+H@101.02656 prob=1.00\n",
        "\tfeature_id 39 file_id 3 mz 102.03387 RT 2537.27 intensity 5.2676e+06\tM+H@101.02659 prob=1.00\n",
        "848. avg m/z=151.035253994 avg RT=2411.82006836 prob=0.37\n",
        "\tfeature_id 192 file_id 2 mz 151.03525 RT 2205.04 intensity 4.3512e+05\tM+H@150.02798 prob=1.00\n",
        "\tfeature_id 481 file_id 3 mz 151.03526 RT 2618.60 intensity 3.4602e+05\tM+H@150.02798 prob=1.00\n",
        "849. avg m/z=81.5205120768 avg RT=1618.11999512 prob=0.37\n",
        "\tfeature_id 406 file_id 0 mz 81.52051 RT 1651.89 intensity 3.1412e+05\tM+H@80.51323 prob=1.00\n",
        "\tfeature_id 495 file_id 1 mz 81.52052 RT 1584.35 intensity 2.1672e+05\tM+H@80.51324 prob=1.00\n",
        "850. avg m/z=111.039076012 avg RT=2222.07006836 prob=0.37\n",
        "\tfeature_id 567 file_id 1 mz 111.03907 RT 2095.07 intensity 1.7724e+05\tM+H@110.03180 prob=1.00\n",
        "\tfeature_id 210 file_id 2 mz 111.03906 RT 2450.85 intensity 3.8071e+05\tM+H@110.03178 prob=1.00\n",
        "\tfeature_id 262 file_id 3 mz 111.03910 RT 2120.29 intensity 6.9026e+05\tM+H@110.03182 prob=1.00\n",
        "851. avg m/z=73.5318361577 avg RT=2417.53670247 prob=0.37\n",
        "\tfeature_id 377 file_id 0 mz 73.53182 RT 2341.53 intensity 3.4888e+05\tM+H@72.52455 prob=1.00\n",
        "\tfeature_id 324 file_id 1 mz 73.53182 RT 2283.28 intensity 3.6913e+05\tM+H@72.52454 prob=1.00\n",
        "\tfeature_id 606 file_id 3 mz 73.53187 RT 2627.80 intensity 2.6346e+05\tM+H@72.52459 prob=1.00\n",
        "852. avg m/z=81.520519874 avg RT=1708.91998291 prob=0.36\n",
        "\tfeature_id 292 file_id 0 mz 81.52053 RT 1766.86 intensity 4.6518e+05\tM+H@80.51326 prob=1.00\n",
        "\tfeature_id 409 file_id 1 mz 81.52051 RT 1650.98 intensity 2.7251e+05\tM+H@80.51323 prob=1.00\n",
        "853. avg m/z=73.5318287635 avg RT=2346.02335612 prob=0.36\n",
        "\tfeature_id 364 file_id 0 mz 73.53182 RT 2323.03 intensity 3.6093e+05\tM+H@72.52455 prob=1.00\n",
        "\tfeature_id 320 file_id 1 mz 73.53181 RT 2360.57 intensity 3.7544e+05\tM+H@72.52453 prob=1.00\n",
        "\tfeature_id 593 file_id 3 mz 73.53185 RT 2354.47 intensity 2.7237e+05\tM+H@72.52458 prob=1.00\n",
        "854. avg m/z=102.033798399 avg RT=2490.50250244 prob=0.36\n",
        "\tfeature_id 53 file_id 0 mz 102.03374 RT 2544.62 intensity 2.4715e+06\tM+H@101.02647 prob=1.00\n",
        "\tfeature_id 39 file_id 1 mz 102.03374 RT 2518.93 intensity 3.2058e+06\tM+H@101.02646 prob=1.00\n",
        "\tfeature_id 10 file_id 2 mz 102.03384 RT 2361.19 intensity 5.2279e+06\tM+H@101.02656 prob=1.00\n",
        "\tfeature_id 39 file_id 3 mz 102.03387 RT 2537.27 intensity 5.2676e+06\tM+H@101.02659 prob=1.00\n",
        "855. avg m/z=82.0222458828 avg RT=2253.39664714 prob=0.36\n",
        "\tfeature_id 728 file_id 0 mz 82.02224 RT 2341.53 intensity 1.3229e+05\tM+H@81.01496 prob=1.00\n",
        "\tfeature_id 673 file_id 1 mz 82.02223 RT 2274.22 intensity 1.3697e+05\tM+H@81.01496 prob=1.00\n",
        "\tfeature_id 518 file_id 2 mz 82.02227 RT 2144.44 intensity 1.2181e+05\tM+H@81.01499 prob=1.00\n",
        "856. avg m/z=167.012714402 avg RT=2353.18499756 prob=0.36\n",
        "\tfeature_id 60 file_id 0 mz 167.01273 RT 2213.83 intensity 2.3927e+06\tM+H@166.00546 prob=1.00\n",
        "\tfeature_id 287 file_id 1 mz 167.01257 RT 2683.28 intensity 4.2527e+05\tM+H@166.00529 prob=1.00\n",
        "\tfeature_id 43 file_id 2 mz 167.01279 RT 2264.72 intensity 2.3981e+06\tM+H@166.00551 prob=1.00\n",
        "\tfeature_id 51 file_id 3 mz 167.01277 RT 2250.91 intensity 4.4712e+06\tM+H@166.00550 prob=1.00\n",
        "857. avg m/z=73.5318241919 avg RT=2483.2699585 prob=0.36\n",
        "\tfeature_id 386 file_id 0 mz 73.53180 RT 2720.39 intensity 3.3901e+05\tM+H@72.52452 prob=1.00\n",
        "\tfeature_id 307 file_id 1 mz 73.53180 RT 2450.32 intensity 3.8527e+05\tM+H@72.52453 prob=1.00\n",
        "\tfeature_id 645 file_id 2 mz 73.53184 RT 2354.92 intensity 9.5080e+04\tM+H@72.52456 prob=1.00\n",
        "\tfeature_id 548 file_id 3 mz 73.53186 RT 2407.45 intensity 3.0094e+05\tM+H@72.52458 prob=1.00\n",
        "858. avg m/z=167.012704768 avg RT=2390.96246338 prob=0.36\n",
        "\tfeature_id 125 file_id 0 mz 167.01269 RT 2309.11 intensity 1.3889e+06\tM+H@166.00541 prob=1.00\n",
        "\tfeature_id 254 file_id 1 mz 167.01257 RT 2712.14 intensity 4.7565e+05\tM+H@166.00530 prob=1.00\n",
        "\tfeature_id 43 file_id 2 mz 167.01279 RT 2264.72 intensity 2.3981e+06\tM+H@166.00551 prob=1.00\n",
        "\tfeature_id 59 file_id 3 mz 167.01277 RT 2277.88 intensity 3.8756e+06\tM+H@166.00550 prob=1.00\n",
        "859. avg m/z=208.039330729 avg RT=2259.10498047 prob=0.36\n",
        "\tfeature_id 265 file_id 2 mz 208.03932 RT 2250.82 intensity 2.8246e+05\tM+H@207.03204 prob=1.00\n",
        "\tfeature_id 421 file_id 3 mz 208.03934 RT 2267.39 intensity 3.9987e+05\tM+H@207.03207 prob=1.00\n",
        "860. avg m/z=213.018140701 avg RT=2212.78336589 prob=0.36\n",
        "\tfeature_id 916 file_id 0 mz 213.01813 RT 2103.84 intensity 8.4958e+04\tM+H@212.01086 prob=1.00\n",
        "\tfeature_id 455 file_id 2 mz 213.01813 RT 2292.54 intensity 1.4478e+05\tM+H@212.01085 prob=1.00\n",
        "\tfeature_id 848 file_id 3 mz 213.01816 RT 2241.97 intensity 1.6479e+05\tM+H@212.01088 prob=1.00\n",
        "861. avg m/z=81.5205313202 avg RT=2382.27335612 prob=0.35\n",
        "\tfeature_id 99 file_id 0 mz 81.52057 RT 2611.36 intensity 1.6815e+06\tM+H@80.51330 prob=1.00\n",
        "\tfeature_id 64 file_id 1 mz 81.52055 RT 2296.95 intensity 2.2783e+06\tM+H@80.51328 prob=1.00\n",
        "\tfeature_id 94 file_id 2 mz 81.52047 RT 2238.51 intensity 9.3212e+05\tM+H@80.51319 prob=1.00\n",
        "862. avg m/z=102.535400766 avg RT=1680.80999756 prob=0.35\n",
        "\tfeature_id 584 file_id 2 mz 102.53537 RT 1568.95 intensity 1.0702e+05\tM+H@101.52810 prob=0.50\n",
        "\tfeature_id 584 file_id 3 mz 102.53543 RT 1792.67 intensity 2.7770e+05\tM+H@101.52815 prob=0.50\n",
        "863. avg m/z=81.5205215651 avg RT=1561.97003174 prob=0.35\n",
        "\tfeature_id 470 file_id 0 mz 81.52052 RT 1582.52 intensity 2.5257e+05\tM+H@80.51324 prob=1.00\n",
        "\tfeature_id 548 file_id 1 mz 81.52052 RT 1541.42 intensity 1.8830e+05\tM+H@80.51325 prob=1.00\n",
        "864. avg m/z=81.5205323289 avg RT=2373.69669596 prob=0.35\n",
        "\tfeature_id 90 file_id 0 mz 81.52057 RT 2549.31 intensity 1.8176e+06\tM+H@80.51330 prob=1.00\n",
        "\tfeature_id 67 file_id 1 mz 81.52056 RT 2333.27 intensity 2.2488e+06\tM+H@80.51328 prob=1.00\n",
        "\tfeature_id 94 file_id 2 mz 81.52047 RT 2238.51 intensity 9.3212e+05\tM+H@80.51319 prob=1.00\n",
        "865. avg m/z=82.0222477048 avg RT=2281.57999674 prob=0.35\n",
        "\tfeature_id 700 file_id 0 mz 82.02223 RT 2323.03 intensity 1.3943e+05\tM+H@81.01495 prob=1.00\n",
        "\tfeature_id 689 file_id 1 mz 82.02225 RT 2377.27 intensity 1.3340e+05\tM+H@81.01497 prob=1.00\n",
        "\tfeature_id 518 file_id 2 mz 82.02227 RT 2144.44 intensity 1.2181e+05\tM+H@81.01499 prob=1.00\n",
        "866. avg m/z=208.039308475 avg RT=2207.33333333 prob=0.35\n",
        "\tfeature_id 369 file_id 0 mz 208.03927 RT 2115.74 intensity 3.5719e+05\tM+H@207.03199 prob=0.51\n",
        "\tfeature_id 391 file_id 2 mz 208.03929 RT 2328.32 intensity 1.7220e+05\tM+H@207.03201 prob=1.00\n",
        "\tfeature_id 254 file_id 3 mz 208.03936 RT 2177.94 intensity 7.1139e+05\tM+H@207.03209 prob=1.00\n",
        "867. avg m/z=111.039063961 avg RT=2272.96008301 prob=0.35\n",
        "\tfeature_id 567 file_id 1 mz 111.03907 RT 2095.07 intensity 1.7724e+05\tM+H@110.03180 prob=1.00\n",
        "\tfeature_id 210 file_id 2 mz 111.03906 RT 2450.85 intensity 3.8071e+05\tM+H@110.03178 prob=1.00\n",
        "868. avg m/z=167.012743992 avg RT=2181.25494385 prob=0.34\n",
        "\tfeature_id 10 file_id 0 mz 167.01282 RT 2114.26 intensity 6.7055e+06\tM+H@166.00554 prob=1.00\n",
        "\tfeature_id 165 file_id 1 mz 167.01263 RT 2444.19 intensity 7.9834e+05\tM+H@166.00535 prob=1.00\n",
        "\tfeature_id 91 file_id 2 mz 167.01275 RT 2063.91 intensity 9.5318e+05\tM+H@166.00547 prob=1.00\n",
        "\tfeature_id 13 file_id 3 mz 167.01278 RT 2102.66 intensity 1.0666e+07\tM+H@166.00551 prob=1.00\n",
        "869. avg m/z=73.5318297665 avg RT=2571.47998047 prob=0.34\n",
        "\tfeature_id 368 file_id 0 mz 73.53181 RT 2516.57 intensity 3.5752e+05\tM+H@72.52453 prob=1.00\n",
        "\tfeature_id 333 file_id 1 mz 73.53180 RT 2473.19 intensity 3.6113e+05\tM+H@72.52452 prob=1.00\n",
        "\tfeature_id 699 file_id 2 mz 73.53184 RT 2441.39 intensity 8.4645e+04\tM+H@72.52456 prob=1.00\n",
        "\tfeature_id 542 file_id 3 mz 73.53187 RT 2854.77 intensity 3.0313e+05\tM+H@72.52460 prob=1.00\n",
        "870. avg m/z=167.01270233 avg RT=2313.54992676 prob=0.34\n",
        "\tfeature_id 196 file_id 1 mz 167.01260 RT 2499.14 intensity 6.2798e+05\tM+H@166.00533 prob=1.00\n",
        "\tfeature_id 6 file_id 2 mz 167.01280 RT 2127.96 intensity 7.7470e+06\tM+H@166.00553 prob=1.00\n",
        "871. avg m/z=167.012680597 avg RT=2607.86661784 prob=0.34\n",
        "\tfeature_id 308 file_id 0 mz 167.01260 RT 2631.65 intensity 4.2804e+05\tM+H@166.00532 prob=1.00\n",
        "\tfeature_id 132 file_id 1 mz 167.01264 RT 2404.66 intensity 1.1265e+06\tM+H@166.00536 prob=1.00\n",
        "\tfeature_id 184 file_id 3 mz 167.01281 RT 2787.29 intensity 1.0332e+06\tM+H@166.00553 prob=1.00\n",
        "872. avg m/z=102.033778163 avg RT=2576.10335286 prob=0.34\n",
        "\tfeature_id 63 file_id 0 mz 102.03374 RT 2609.81 intensity 2.3463e+06\tM+H@101.02647 prob=1.00\n",
        "\tfeature_id 48 file_id 1 mz 102.03372 RT 2605.78 intensity 2.7703e+06\tM+H@101.02645 prob=1.00\n",
        "\tfeature_id 38 file_id 3 mz 102.03387 RT 2512.72 intensity 5.2813e+06\tM+H@101.02659 prob=1.00\n",
        "873. avg m/z=102.03380688 avg RT=2355.87249756 prob=0.34\n",
        "\tfeature_id 27 file_id 0 mz 102.03376 RT 2459.05 intensity 3.6615e+06\tM+H@101.02648 prob=1.00\n",
        "\tfeature_id 17 file_id 1 mz 102.03377 RT 2355.98 intensity 5.7629e+06\tM+H@101.02649 prob=1.00\n",
        "\tfeature_id 4 file_id 2 mz 102.03385 RT 2257.00 intensity 8.0350e+06\tM+H@101.02657 prob=1.00\n",
        "\tfeature_id 17 file_id 3 mz 102.03386 RT 2351.46 intensity 8.9060e+06\tM+H@101.02658 prob=1.00\n",
        "874. avg m/z=102.033783354 avg RT=1876.45001221 prob=0.34\n",
        "\tfeature_id 48 file_id 0 mz 102.03374 RT 1977.49 intensity 2.6642e+06\tM+H@101.02646 prob=1.00\n",
        "\tfeature_id 51 file_id 2 mz 102.03383 RT 1775.41 intensity 1.9776e+06\tM+H@101.02655 prob=1.00\n",
        "875. avg m/z=102.033799737 avg RT=2491.75244141 prob=0.33\n",
        "\tfeature_id 65 file_id 0 mz 102.03374 RT 2737.45 intensity 2.2513e+06\tM+H@101.02646 prob=1.00\n",
        "\tfeature_id 20 file_id 1 mz 102.03375 RT 2404.66 intensity 5.4481e+06\tM+H@101.02648 prob=1.00\n",
        "\tfeature_id 10 file_id 2 mz 102.03384 RT 2361.19 intensity 5.2279e+06\tM+H@101.02656 prob=1.00\n",
        "\tfeature_id 35 file_id 3 mz 102.03386 RT 2463.71 intensity 6.0942e+06\tM+H@101.02659 prob=1.00\n",
        "876. avg m/z=391.283780039 avg RT=617.70350647 prob=0.33\n",
        "\tfeature_id 688 file_id 0 mz 391.28370 RT 785.25 intensity 1.4274e+05\tM+H@390.27642 prob=1.00\n",
        "\tfeature_id 116 file_id 1 mz 391.28386 RT 450.16 intensity 1.3535e+06\tM+H@390.27658 prob=1.00\n",
        "877. avg m/z=226.951449559 avg RT=1334.00500488 prob=0.33\n",
        "\tfeature_id 275 file_id 2 mz 226.95144 RT 1348.78 intensity 2.6192e+05\tM+H@225.94416 prob=1.00\n",
        "\tfeature_id 474 file_id 3 mz 226.95146 RT 1319.23 intensity 3.5141e+05\tM+H@225.94418 prob=1.00\n",
        "878. avg m/z=81.520513303 avg RT=1701.97497559 prob=0.33\n",
        "\tfeature_id 293 file_id 0 mz 81.52052 RT 1752.97 intensity 4.6466e+05\tM+H@80.51324 prob=1.00\n",
        "\tfeature_id 409 file_id 1 mz 81.52051 RT 1650.98 intensity 2.7251e+05\tM+H@80.51323 prob=1.00\n",
        "879. avg m/z=102.033797913 avg RT=2311.0300293 prob=0.32\n",
        "\tfeature_id 17 file_id 0 mz 102.03377 RT 2358.55 intensity 4.8934e+06\tM+H@101.02650 prob=1.00\n",
        "\tfeature_id 19 file_id 1 mz 102.03376 RT 2378.80 intensity 5.6590e+06\tM+H@101.02648 prob=1.00\n",
        "\tfeature_id 4 file_id 3 mz 102.03386 RT 2195.74 intensity 1.5762e+07\tM+H@101.02658 prob=1.00\n",
        "880. avg m/z=167.012681904 avg RT=2568.74249268 prob=0.32\n",
        "\tfeature_id 346 file_id 0 mz 167.01260 RT 2715.75 intensity 3.7991e+05\tM+H@166.00533 prob=1.00\n",
        "\tfeature_id 289 file_id 1 mz 167.01257 RT 2736.46 intensity 4.2111e+05\tM+H@166.00529 prob=1.00\n",
        "\tfeature_id 80 file_id 2 mz 167.01278 RT 2433.51 intensity 1.0815e+06\tM+H@166.00551 prob=1.00\n",
        "\tfeature_id 87 file_id 3 mz 167.01278 RT 2389.25 intensity 2.4288e+06\tM+H@166.00550 prob=1.00\n",
        "881. avg m/z=102.033799088 avg RT=2567.11669922 prob=0.32\n",
        "\tfeature_id 72 file_id 0 mz 102.03374 RT 2647.23 intensity 2.1641e+06\tM+H@101.02646 prob=1.00\n",
        "\tfeature_id 7 file_id 1 mz 102.03379 RT 2253.10 intensity 8.0766e+06\tM+H@101.02651 prob=1.00\n",
        "\tfeature_id 50 file_id 3 mz 102.03387 RT 2801.02 intensity 4.5221e+06\tM+H@101.02660 prob=1.00\n",
        "882. avg m/z=125.986164897 avg RT=2315.8125 prob=0.32\n",
        "\tfeature_id 169 file_id 0 mz 125.98615 RT 2253.79 intensity 9.1721e+05\tM+H@124.97888 prob=1.00\n",
        "\tfeature_id 139 file_id 1 mz 125.98613 RT 2234.97 intensity 1.0266e+06\tM+H@124.97885 prob=1.00\n",
        "\tfeature_id 161 file_id 2 mz 125.98616 RT 2214.19 intensity 5.3439e+05\tM+H@124.97889 prob=1.00\n",
        "\tfeature_id 327 file_id 3 mz 125.98622 RT 2560.30 intensity 5.2080e+05\tM+H@124.97894 prob=1.00\n",
        "883. avg m/z=125.98615628 avg RT=2346.57666016 prob=0.32\n",
        "\tfeature_id 219 file_id 0 mz 125.98614 RT 2370.87 intensity 6.1318e+05\tM+H@124.97886 prob=1.00\n",
        "\tfeature_id 253 file_id 2 mz 125.98616 RT 2315.89 intensity 2.9435e+05\tM+H@124.97889 prob=1.00\n",
        "\tfeature_id 247 file_id 3 mz 125.98617 RT 2352.97 intensity 7.4343e+05\tM+H@124.97889 prob=1.00\n",
        "884. avg m/z=73.5318269919 avg RT=2593.70751953 prob=0.32\n",
        "\tfeature_id 351 file_id 0 mz 73.53181 RT 2451.34 intensity 3.7488e+05\tM+H@72.52454 prob=1.00\n",
        "\tfeature_id 383 file_id 1 mz 73.53178 RT 2660.50 intensity 3.0257e+05\tM+H@72.52451 prob=1.00\n",
        "\tfeature_id 725 file_id 2 mz 73.53184 RT 2461.97 intensity 7.9496e+04\tM+H@72.52457 prob=1.00\n",
        "\tfeature_id 563 file_id 3 mz 73.53187 RT 2801.02 intensity 2.9403e+05\tM+H@72.52459 prob=1.00\n",
        "885. avg m/z=104.030073977 avg RT=2183.60247803 prob=0.31\n",
        "\tfeature_id 330 file_id 0 mz 104.03010 RT 2094.85 intensity 3.9161e+05\tM+H@103.02282 prob=1.00\n",
        "\tfeature_id 616 file_id 1 mz 104.03003 RT 2303.00 intensity 1.5560e+05\tM+H@103.02275 prob=1.00\n",
        "\tfeature_id 353 file_id 2 mz 104.03009 RT 2233.90 intensity 1.9828e+05\tM+H@103.02281 prob=1.00\n",
        "\tfeature_id 294 file_id 3 mz 104.03009 RT 2102.66 intensity 5.9707e+05\tM+H@103.02281 prob=1.00\n",
        "886. avg m/z=102.033806987 avg RT=2464.72247314 prob=0.31\n",
        "\tfeature_id 50 file_id 0 mz 102.03375 RT 2533.65 intensity 2.6136e+06\tM+H@101.02647 prob=1.00\n",
        "\tfeature_id 16 file_id 1 mz 102.03377 RT 2339.32 intensity 5.9512e+06\tM+H@101.02650 prob=1.00\n",
        "\tfeature_id 10 file_id 2 mz 102.03384 RT 2361.19 intensity 5.2279e+06\tM+H@101.02656 prob=1.00\n",
        "\tfeature_id 49 file_id 3 mz 102.03386 RT 2624.73 intensity 4.5458e+06\tM+H@101.02659 prob=1.00\n",
        "887. avg m/z=73.5318486832 avg RT=2279.21004232 prob=0.31\n",
        "\tfeature_id 339 file_id 0 mz 73.53183 RT 2276.82 intensity 3.8413e+05\tM+H@72.52455 prob=1.00\n",
        "\tfeature_id 490 file_id 2 mz 73.53186 RT 2171.56 intensity 1.3070e+05\tM+H@72.52458 prob=1.00\n",
        "\tfeature_id 576 file_id 3 mz 73.53186 RT 2389.25 intensity 2.8097e+05\tM+H@72.52458 prob=1.00\n",
        "888. avg m/z=94.5456370105 avg RT=2418.875 prob=0.31\n",
        "\tfeature_id 642 file_id 2 mz 94.54562 RT 2610.71 intensity 9.5867e+04\tM+H@93.53834 prob=1.00\n",
        "\tfeature_id 403 file_id 3 mz 94.54566 RT 2227.04 intensity 4.1087e+05\tM+H@93.53838 prob=0.50\n",
        "889. avg m/z=167.012679425 avg RT=2461.99991862 prob=0.3\n",
        "\tfeature_id 157 file_id 0 mz 167.01267 RT 2400.22 intensity 1.0240e+06\tM+H@166.00539 prob=1.00\n",
        "\tfeature_id 257 file_id 1 mz 167.01258 RT 2582.89 intensity 4.7367e+05\tM+H@166.00530 prob=1.00\n",
        "\tfeature_id 97 file_id 3 mz 167.01279 RT 2402.89 intensity 2.2999e+06\tM+H@166.00551 prob=1.00\n",
        "890. avg m/z=73.531826038 avg RT=2614.8433431 prob=0.3\n",
        "\tfeature_id 368 file_id 0 mz 73.53181 RT 2516.57 intensity 3.5752e+05\tM+H@72.52453 prob=1.00\n",
        "\tfeature_id 333 file_id 1 mz 73.53180 RT 2473.19 intensity 3.6113e+05\tM+H@72.52452 prob=1.00\n",
        "\tfeature_id 542 file_id 3 mz 73.53187 RT 2854.77 intensity 3.0313e+05\tM+H@72.52460 prob=1.00\n",
        "891. avg m/z=81.5205336344 avg RT=2369.40340169 prob=0.3\n",
        "\tfeature_id 81 file_id 0 mz 81.52057 RT 2451.34 intensity 2.0862e+06\tM+H@80.51330 prob=1.00\n",
        "\tfeature_id 65 file_id 1 mz 81.52056 RT 2418.36 intensity 2.2601e+06\tM+H@80.51329 prob=1.00\n",
        "\tfeature_id 94 file_id 2 mz 81.52047 RT 2238.51 intensity 9.3212e+05\tM+H@80.51319 prob=1.00\n",
        "892. avg m/z=81.5205126116 avg RT=1606.99499512 prob=0.29\n",
        "\tfeature_id 406 file_id 0 mz 81.52051 RT 1651.89 intensity 3.1412e+05\tM+H@80.51323 prob=1.00\n",
        "\tfeature_id 527 file_id 1 mz 81.52052 RT 1562.10 intensity 2.0311e+05\tM+H@80.51324 prob=1.00"
       ]
      },
      {
       "output_type": "stream",
       "stream": "stdout",
       "text": [
        "\n",
        "893. avg m/z=122.547044107 avg RT=2126.375 prob=0.29\n",
        "\tfeature_id 114 file_id 1 mz 122.54702 RT 2266.70 intensity 1.3811e+06\tM+H@121.53974 prob=0.50\n",
        "\tfeature_id 125 file_id 3 mz 122.54707 RT 1986.05 intensity 1.6538e+06\tM+H@121.53979 prob=0.50\n",
        "894. avg m/z=102.03379728 avg RT=2306.57340495 prob=0.29\n",
        "\tfeature_id 17 file_id 0 mz 102.03377 RT 2358.55 intensity 4.8934e+06\tM+H@101.02650 prob=1.00\n",
        "\tfeature_id 19 file_id 1 mz 102.03376 RT 2378.80 intensity 5.6590e+06\tM+H@101.02648 prob=1.00\n",
        "\tfeature_id 3 file_id 3 mz 102.03386 RT 2182.37 intensity 1.6411e+07\tM+H@101.02658 prob=1.00\n",
        "895. avg m/z=102.03380207 avg RT=2306.94002279 prob=0.29\n",
        "\tfeature_id 37 file_id 0 mz 102.03376 RT 2488.61 intensity 3.0847e+06\tM+H@101.02648 prob=1.00\n",
        "\tfeature_id 4 file_id 1 mz 102.03379 RT 2236.47 intensity 9.0023e+06\tM+H@101.02651 prob=1.00\n",
        "\tfeature_id 4 file_id 3 mz 102.03386 RT 2195.74 intensity 1.5762e+07\tM+H@101.02658 prob=1.00\n",
        "896. avg m/z=90.5259201961 avg RT=2296.74499512 prob=0.29\n",
        "\tfeature_id 186 file_id 0 mz 90.52593 RT 2106.83 intensity 7.9084e+05\tM+H@89.51865 prob=1.00\n",
        "\tfeature_id 432 file_id 3 mz 90.52591 RT 2486.66 intensity 3.8800e+05\tM+H@89.51863 prob=1.00\n",
        "897. avg m/z=102.033789745 avg RT=1889.39501953 prob=0.29\n",
        "\tfeature_id 48 file_id 0 mz 102.03374 RT 1977.49 intensity 2.6642e+06\tM+H@101.02646 prob=1.00\n",
        "\tfeature_id 49 file_id 2 mz 102.03384 RT 1801.30 intensity 2.0463e+06\tM+H@101.02657 prob=1.00\n",
        "898. avg m/z=122.547066364 avg RT=2085.4800415 prob=0.28\n",
        "\tfeature_id 72 file_id 1 mz 122.54706 RT 2201.86 intensity 2.1075e+06\tM+H@121.53978 prob=0.50\n",
        "\tfeature_id 124 file_id 3 mz 122.54708 RT 1969.10 intensity 1.6606e+06\tM+H@121.53980 prob=0.50\n",
        "899. avg m/z=90.5259124463 avg RT=2307.89489746 prob=0.28\n",
        "\tfeature_id 199 file_id 0 mz 90.52591 RT 2129.13 intensity 7.4456e+05\tM+H@89.51864 prob=1.00\n",
        "\tfeature_id 432 file_id 3 mz 90.52591 RT 2486.66 intensity 3.8800e+05\tM+H@89.51863 prob=1.00\n",
        "900. avg m/z=167.012706049 avg RT=2351.55749512 prob=0.28\n",
        "\tfeature_id 74 file_id 0 mz 167.01271 RT 2236.84 intensity 2.1469e+06\tM+H@166.00543 prob=1.00\n",
        "\tfeature_id 263 file_id 1 mz 167.01257 RT 2605.78 intensity 4.6778e+05\tM+H@166.00529 prob=1.00\n",
        "\tfeature_id 43 file_id 2 mz 167.01279 RT 2264.72 intensity 2.3981e+06\tM+H@166.00551 prob=1.00\n",
        "\tfeature_id 65 file_id 3 mz 167.01277 RT 2298.89 intensity 3.6914e+06\tM+H@166.00549 prob=1.00\n",
        "901. avg m/z=73.5318452811 avg RT=2367.58996582 prob=0.28\n",
        "\tfeature_id 302 file_id 0 mz 73.53186 RT 2178.77 intensity 4.3696e+05\tM+H@72.52458 prob=1.00\n",
        "\tfeature_id 329 file_id 1 mz 73.53181 RT 2352.93 intensity 3.6524e+05\tM+H@72.52453 prob=1.00\n",
        "\tfeature_id 562 file_id 2 mz 73.53185 RT 2273.97 intensity 1.1211e+05\tM+H@72.52457 prob=1.00\n",
        "\tfeature_id 597 file_id 3 mz 73.53187 RT 2664.69 intensity 2.7061e+05\tM+H@72.52459 prob=1.00\n",
        "902. avg m/z=90.5259125033 avg RT=2249.95662435 prob=0.27\n",
        "\tfeature_id 199 file_id 0 mz 90.52591 RT 2129.13 intensity 7.4456e+05\tM+H@89.51864 prob=1.00\n",
        "\tfeature_id 292 file_id 2 mz 90.52591 RT 2127.96 intensity 2.4903e+05\tM+H@89.51863 prob=1.00\n",
        "\tfeature_id 409 file_id 3 mz 90.52591 RT 2492.78 intensity 4.0698e+05\tM+H@89.51864 prob=1.00\n",
        "903. avg m/z=73.5318134642 avg RT=2620.61002604 prob=0.27\n",
        "\tfeature_id 398 file_id 0 mz 73.53180 RT 2752.90 intensity 3.2386e+05\tM+H@72.52452 prob=1.00\n",
        "\tfeature_id 378 file_id 1 mz 73.53178 RT 2686.33 intensity 3.0808e+05\tM+H@72.52451 prob=1.00\n",
        "\tfeature_id 543 file_id 3 mz 73.53186 RT 2422.60 intensity 3.0249e+05\tM+H@72.52458 prob=1.00\n",
        "904. avg m/z=102.033811089 avg RT=2290.81243896 prob=0.27\n",
        "\tfeature_id 15 file_id 0 mz 102.03378 RT 2336.91 intensity 5.6183e+06\tM+H@101.02650 prob=1.00\n",
        "\tfeature_id 23 file_id 1 mz 102.03376 RT 2432.00 intensity 4.4367e+06\tM+H@101.02648 prob=1.00\n",
        "\tfeature_id 3 file_id 2 mz 102.03385 RT 2183.71 intensity 1.2539e+07\tM+H@101.02657 prob=1.00\n",
        "\tfeature_id 6 file_id 3 mz 102.03386 RT 2210.63 intensity 1.4325e+07\tM+H@101.02658 prob=1.00\n",
        "905. avg m/z=102.033793959 avg RT=2538.4800415 prob=0.26\n",
        "\tfeature_id 63 file_id 0 mz 102.03374 RT 2609.81 intensity 2.3463e+06\tM+H@101.02647 prob=1.00\n",
        "\tfeature_id 48 file_id 1 mz 102.03372 RT 2605.78 intensity 2.7703e+06\tM+H@101.02645 prob=1.00\n",
        "\tfeature_id 17 file_id 2 mz 102.03384 RT 2425.61 intensity 4.3066e+06\tM+H@101.02656 prob=1.00\n",
        "\tfeature_id 38 file_id 3 mz 102.03387 RT 2512.72 intensity 5.2813e+06\tM+H@101.02659 prob=1.00\n",
        "906. avg m/z=102.033784113 avg RT=2533.60668945 prob=0.26\n",
        "\tfeature_id 53 file_id 0 mz 102.03374 RT 2544.62 intensity 2.4715e+06\tM+H@101.02647 prob=1.00\n",
        "\tfeature_id 39 file_id 1 mz 102.03374 RT 2518.93 intensity 3.2058e+06\tM+H@101.02646 prob=1.00\n",
        "\tfeature_id 39 file_id 3 mz 102.03387 RT 2537.27 intensity 5.2676e+06\tM+H@101.02659 prob=1.00\n",
        "907. avg m/z=104.030091244 avg RT=2220.29504395 prob=0.26\n",
        "\tfeature_id 356 file_id 0 mz 104.03010 RT 2135.12 intensity 3.7323e+05\tM+H@103.02282 prob=1.00\n",
        "\tfeature_id 231 file_id 1 mz 104.03009 RT 2109.77 intensity 5.3232e+05\tM+H@103.02281 prob=1.00\n",
        "\tfeature_id 764 file_id 2 mz 104.03010 RT 2513.05 intensity 7.2181e+04\tM+H@103.02282 prob=1.00\n",
        "\tfeature_id 302 file_id 3 mz 104.03009 RT 2123.24 intensity 5.6768e+05\tM+H@103.02281 prob=1.00\n",
        "908. avg m/z=90.5259208798 avg RT=2299.80505371 prob=0.26\n",
        "\tfeature_id 186 file_id 0 mz 90.52593 RT 2106.83 intensity 7.9084e+05\tM+H@89.51865 prob=1.00\n",
        "\tfeature_id 409 file_id 3 mz 90.52591 RT 2492.78 intensity 4.0698e+05\tM+H@89.51864 prob=1.00\n",
        "909. avg m/z=90.5259176698 avg RT=2242.52335612 prob=0.26\n",
        "\tfeature_id 186 file_id 0 mz 90.52593 RT 2106.83 intensity 7.9084e+05\tM+H@89.51865 prob=1.00\n",
        "\tfeature_id 292 file_id 2 mz 90.52591 RT 2127.96 intensity 2.4903e+05\tM+H@89.51863 prob=1.00\n",
        "\tfeature_id 409 file_id 3 mz 90.52591 RT 2492.78 intensity 4.0698e+05\tM+H@89.51864 prob=1.00\n",
        "910. avg m/z=90.5259120475 avg RT=2247.91658529 prob=0.25\n",
        "\tfeature_id 199 file_id 0 mz 90.52591 RT 2129.13 intensity 7.4456e+05\tM+H@89.51864 prob=1.00\n",
        "\tfeature_id 292 file_id 2 mz 90.52591 RT 2127.96 intensity 2.4903e+05\tM+H@89.51863 prob=1.00\n",
        "\tfeature_id 432 file_id 3 mz 90.52591 RT 2486.66 intensity 3.8800e+05\tM+H@89.51863 prob=1.00\n",
        "911. avg m/z=70.0126791468 avg RT=2696.15002441 prob=0.25\n",
        "\tfeature_id 412 file_id 0 mz 70.01264 RT 2687.60 intensity 3.0894e+05\tM+H@69.00536 prob=1.00\n",
        "\tfeature_id 950 file_id 3 mz 70.01272 RT 2704.70 intensity 1.3394e+05\tM+H@69.00544 prob=1.00\n",
        "912. avg m/z=70.0126669225 avg RT=2570.07332357 prob=0.25\n",
        "\tfeature_id 448 file_id 0 mz 70.01264 RT 2648.78 intensity 2.7612e+05\tM+H@69.00536 prob=1.00\n",
        "\tfeature_id 417 file_id 1 mz 70.01265 RT 2422.90 intensity 2.6701e+05\tM+H@69.00537 prob=1.00\n",
        "\tfeature_id 988 file_id 3 mz 70.01271 RT 2638.54 intensity 1.2491e+05\tM+H@69.00544 prob=1.00\n",
        "913. avg m/z=213.018124871 avg RT=2225.46337891 prob=0.24\n",
        "\tfeature_id 916 file_id 0 mz 213.01813 RT 2103.84 intensity 8.4958e+04\tM+H@212.01086 prob=1.00\n",
        "\tfeature_id 599 file_id 2 mz 213.01811 RT 2376.81 intensity 1.0443e+05\tM+H@212.01083 prob=1.00\n",
        "\tfeature_id 728 file_id 3 mz 213.01813 RT 2195.74 intensity 2.0211e+05\tM+H@212.01085 prob=1.00\n",
        "914. avg m/z=104.030078978 avg RT=2196.62750244 prob=0.24\n",
        "\tfeature_id 274 file_id 0 mz 104.03012 RT 2114.26 intensity 4.9491e+05\tM+H@103.02284 prob=1.00\n",
        "\tfeature_id 715 file_id 1 mz 104.03003 RT 2354.45 intensity 1.2697e+05\tM+H@103.02275 prob=1.00\n",
        "\tfeature_id 302 file_id 2 mz 104.03008 RT 2200.46 intensity 2.3888e+05\tM+H@103.02281 prob=1.00\n",
        "\tfeature_id 298 file_id 3 mz 104.03009 RT 2117.34 intensity 5.8328e+05\tM+H@103.02281 prob=1.00\n",
        "915. avg m/z=111.039063821 avg RT=2246.95507812 prob=0.24\n",
        "\tfeature_id 567 file_id 1 mz 111.03907 RT 2095.07 intensity 1.7724e+05\tM+H@110.03180 prob=1.00\n",
        "\tfeature_id 219 file_id 2 mz 111.03906 RT 2398.84 intensity 3.5003e+05\tM+H@110.03178 prob=1.00\n",
        "916. avg m/z=90.5259083006 avg RT=2473.92004395 prob=0.23\n",
        "\tfeature_id 542 file_id 2 mz 90.52590 RT 2252.36 intensity 1.1611e+05\tM+H@89.51863 prob=1.00\n",
        "\tfeature_id 427 file_id 3 mz 90.52591 RT 2695.48 intensity 3.9244e+05\tM+H@89.51864 prob=1.00\n",
        "917. avg m/z=102.033777433 avg RT=2582.91333008 prob=0.23\n",
        "\tfeature_id 62 file_id 0 mz 102.03374 RT 2592.70 intensity 2.3550e+06\tM+H@101.02647 prob=1.00\n",
        "\tfeature_id 53 file_id 1 mz 102.03373 RT 2736.46 intensity 2.6317e+06\tM+H@101.02645 prob=1.00\n",
        "\tfeature_id 27 file_id 3 mz 102.03386 RT 2419.58 intensity 7.1288e+06\tM+H@101.02658 prob=1.00\n",
        "918. avg m/z=102.033801437 avg RT=2302.48339844 prob=0.23\n",
        "\tfeature_id 37 file_id 0 mz 102.03376 RT 2488.61 intensity 3.0847e+06\tM+H@101.02648 prob=1.00\n",
        "\tfeature_id 4 file_id 1 mz 102.03379 RT 2236.47 intensity 9.0023e+06\tM+H@101.02651 prob=1.00\n",
        "\tfeature_id 3 file_id 3 mz 102.03386 RT 2182.37 intensity 1.6411e+07\tM+H@101.02658 prob=1.00\n",
        "919. avg m/z=70.0126756948 avg RT=2317.61999512 prob=0.23\n",
        "\tfeature_id 416 file_id 0 mz 70.01265 RT 2518.13 intensity 3.0591e+05\tM+H@69.00537 prob=1.00\n",
        "\tfeature_id 352 file_id 1 mz 70.01270 RT 2117.11 intensity 3.3547e+05\tM+H@69.00543 prob=1.00\n",
        "920. avg m/z=391.283732002 avg RT=613.804000854 prob=0.22\n",
        "\tfeature_id 688 file_id 0 mz 391.28370 RT 785.25 intensity 1.4274e+05\tM+H@390.27642 prob=1.00\n",
        "\tfeature_id 235 file_id 1 mz 391.28376 RT 442.36 intensity 5.2592e+05\tM+H@390.27649 prob=1.00\n",
        "921. avg m/z=81.5205190719 avg RT=1715.05499268 prob=0.22\n",
        "\tfeature_id 264 file_id 0 mz 81.52053 RT 1779.13 intensity 5.0658e+05\tM+H@80.51325 prob=1.00\n",
        "\tfeature_id 409 file_id 1 mz 81.52051 RT 1650.98 intensity 2.7251e+05\tM+H@80.51323 prob=1.00\n",
        "922. avg m/z=73.5318304126 avg RT=2576.625 prob=0.21\n",
        "\tfeature_id 368 file_id 0 mz 73.53181 RT 2516.57 intensity 3.5752e+05\tM+H@72.52453 prob=1.00\n",
        "\tfeature_id 333 file_id 1 mz 73.53180 RT 2473.19 intensity 3.6113e+05\tM+H@72.52452 prob=1.00\n",
        "\tfeature_id 725 file_id 2 mz 73.53184 RT 2461.97 intensity 7.9496e+04\tM+H@72.52457 prob=1.00\n",
        "\tfeature_id 542 file_id 3 mz 73.53187 RT 2854.77 intensity 3.0313e+05\tM+H@72.52460 prob=1.00\n",
        "923. avg m/z=102.033813847 avg RT=2272.79003906 prob=0.21\n",
        "\tfeature_id 37 file_id 0 mz 102.03376 RT 2488.61 intensity 3.0847e+06\tM+H@101.02648 prob=1.00\n",
        "\tfeature_id 4 file_id 1 mz 102.03379 RT 2236.47 intensity 9.0023e+06\tM+H@101.02651 prob=1.00\n",
        "\tfeature_id 3 file_id 2 mz 102.03385 RT 2183.71 intensity 1.2539e+07\tM+H@101.02657 prob=1.00\n",
        "\tfeature_id 3 file_id 3 mz 102.03386 RT 2182.37 intensity 1.6411e+07\tM+H@101.02658 prob=1.00\n",
        "924. avg m/z=104.030076298 avg RT=2210.7199707 prob=0.2\n",
        "\tfeature_id 330 file_id 0 mz 104.03010 RT 2094.85 intensity 3.9161e+05\tM+H@103.02282 prob=1.00\n",
        "\tfeature_id 377 file_id 1 mz 104.03005 RT 2182.39 intensity 3.0853e+05\tM+H@103.02277 prob=1.00\n",
        "\tfeature_id 505 file_id 2 mz 104.03008 RT 2354.92 intensity 1.2610e+05\tM+H@103.02281 prob=1.00\n",
        "925. avg m/z=82.0222432419 avg RT=2240.44669596 prob=0.2\n",
        "\tfeature_id 728 file_id 0 mz 82.02224 RT 2341.53 intensity 1.3229e+05\tM+H@81.01496 prob=1.00\n",
        "\tfeature_id 673 file_id 1 mz 82.02223 RT 2274.22 intensity 1.3697e+05\tM+H@81.01496 prob=1.00\n",
        "\tfeature_id 707 file_id 3 mz 82.02226 RT 2105.59 intensity 2.1076e+05\tM+H@81.01498 prob=1.00\n",
        "926. avg m/z=73.5318393338 avg RT=2318.625 prob=0.2\n",
        "\tfeature_id 371 file_id 0 mz 73.53182 RT 2375.49 intensity 3.5233e+05\tM+H@72.52454 prob=1.00\n",
        "\tfeature_id 304 file_id 1 mz 73.53182 RT 2251.58 intensity 3.8973e+05\tM+H@72.52455 prob=1.00\n",
        "\tfeature_id 510 file_id 2 mz 73.53185 RT 2201.99 intensity 1.2544e+05\tM+H@72.52458 prob=1.00\n",
        "\tfeature_id 565 file_id 3 mz 73.53186 RT 2445.44 intensity 2.9381e+05\tM+H@72.52459 prob=1.00\n",
        "927. avg m/z=81.5205242198 avg RT=1544.46002197 prob=0.2\n",
        "\tfeature_id 470 file_id 0 mz 81.52052 RT 1582.52 intensity 2.5257e+05\tM+H@80.51324 prob=1.00\n",
        "\tfeature_id 607 file_id 1 mz 81.52053 RT 1506.40 intensity 1.6075e+05\tM+H@80.51325 prob=1.00\n",
        "928. avg m/z=167.012679536 avg RT=2380.50333659 prob=0.19\n",
        "\tfeature_id 74 file_id 0 mz 167.01271 RT 2236.84 intensity 2.1469e+06\tM+H@166.00543 prob=1.00\n",
        "\tfeature_id 263 file_id 1 mz 167.01257 RT 2605.78 intensity 4.6778e+05\tM+H@166.00529 prob=1.00\n",
        "\tfeature_id 65 file_id 3 mz 167.01277 RT 2298.89 intensity 3.6914e+06\tM+H@166.00549 prob=1.00\n",
        "929. avg m/z=151.035127323 avg RT=1923.5600179 prob=0.19\n",
        "\tfeature_id 828 file_id 0 mz 151.03497 RT 1802.43 intensity 1.0330e+05\tM+H@150.02769 prob=0.50\n",
        "\tfeature_id 226 file_id 1 mz 151.03521 RT 2124.46 intensity 5.4220e+05\tM+H@150.02793 prob=0.50\n",
        "\tfeature_id 726 file_id 3 mz 151.03520 RT 1843.79 intensity 2.0242e+05\tM+H@150.02793 prob=0.50\n",
        "930. avg m/z=73.5318210844 avg RT=2583.32751465 prob=0.19\n",
        "\tfeature_id 398 file_id 0 mz 73.53180 RT 2752.90 intensity 3.2386e+05\tM+H@72.52452 prob=1.00\n",
        "\tfeature_id 378 file_id 1 mz 73.53178 RT 2686.33 intensity 3.0808e+05\tM+H@72.52451 prob=1.00\n",
        "\tfeature_id 691 file_id 2 mz 73.53184 RT 2471.48 intensity 8.5580e+04\tM+H@72.52457 prob=1.00\n",
        "\tfeature_id 543 file_id 3 mz 73.53186 RT 2422.60 intensity 3.0249e+05\tM+H@72.52458 prob=1.00\n",
        "931. avg m/z=185.023267507 avg RT=2261.70007324 prob=0.19\n",
        "\tfeature_id 557 file_id 2 mz 185.02326 RT 2419.28 intensity 1.1291e+05\tM+H@184.01598 prob=1.00\n",
        "\tfeature_id 688 file_id 3 mz 185.02328 RT 2104.12 intensity 2.2170e+05\tM+H@184.01600 prob=1.00\n",
        "932. avg m/z=151.035200011 avg RT=1980.79498291 prob=0.19\n",
        "\tfeature_id 230 file_id 1 mz 151.03521 RT 2143.66 intensity 5.3256e+05\tM+H@150.02794 prob=0.50\n",
        "\tfeature_id 731 file_id 3 mz 151.03519 RT 1817.93 intensity 2.0082e+05\tM+H@150.02791 prob=0.50\n",
        "933. avg m/z=185.023257174 avg RT=2290.19506836 prob=0.19\n",
        "\tfeature_id 638 file_id 2 mz 185.02323 RT 2476.27 intensity 9.6358e+04\tM+H@184.01596 prob=1.00\n",
        "\tfeature_id 688 file_id 3 mz 185.02328 RT 2104.12 intensity 2.2170e+05\tM+H@184.01600 prob=1.00\n",
        "934. avg m/z=102.033811204 avg RT=2279.20001221 prob=0.19\n",
        "\tfeature_id 17 file_id 0 mz 102.03377 RT 2358.55 intensity 4.8934e+06\tM+H@101.02650 prob=1.00\n",
        "\tfeature_id 19 file_id 1 mz 102.03376 RT 2378.80 intensity 5.6590e+06\tM+H@101.02648 prob=1.00\n",
        "\tfeature_id 3 file_id 2 mz 102.03385 RT 2183.71 intensity 1.2539e+07\tM+H@101.02657 prob=1.00\n",
        "\tfeature_id 4 file_id 3 mz 102.03386 RT 2195.74 intensity 1.5762e+07\tM+H@101.02658 prob=1.00\n",
        "935. avg m/z=104.030089751 avg RT=2248.6866862 prob=0.18\n",
        "\tfeature_id 231 file_id 1 mz 104.03009 RT 2109.77 intensity 5.3232e+05\tM+H@103.02281 prob=1.00\n",
        "\tfeature_id 764 file_id 2 mz 104.03010 RT 2513.05 intensity 7.2181e+04\tM+H@103.02282 prob=1.00\n",
        "\tfeature_id 302 file_id 3 mz 104.03009 RT 2123.24 intensity 5.6768e+05\tM+H@103.02281 prob=1.00\n",
        "936. avg m/z=90.52591313 avg RT=2310.95495605 prob=0.18\n",
        "\tfeature_id 199 file_id 0 mz 90.52591 RT 2129.13 intensity 7.4456e+05\tM+H@89.51864 prob=1.00\n",
        "\tfeature_id 409 file_id 3 mz 90.52591 RT 2492.78 intensity 4.0698e+05\tM+H@89.51864 prob=1.00\n",
        "937. avg m/z=104.030056283 avg RT=2268.44995117 prob=0.18\n",
        "\tfeature_id 616 file_id 1 mz 104.03003 RT 2303.00 intensity 1.5560e+05\tM+H@103.02275 prob=1.00\n",
        "\tfeature_id 353 file_id 2 mz 104.03009 RT 2233.90 intensity 1.9828e+05\tM+H@103.02281 prob=1.00\n",
        "938. avg m/z=73.5318513623 avg RT=2316.57666016 prob=0.17\n",
        "\tfeature_id 324 file_id 0 mz 73.53185 RT 2204.65 intensity 4.0598e+05\tM+H@72.52457 prob=1.00\n",
        "\tfeature_id 291 file_id 1 mz 73.53184 RT 2209.33 intensity 4.1709e+05\tM+H@72.52456 prob=1.00\n",
        "\tfeature_id 525 file_id 3 mz 73.53187 RT 2535.75 intensity 3.1312e+05\tM+H@72.52459 prob=1.00\n",
        "939. avg m/z=104.030072069 avg RT=2264.75333659 prob=0.17\n",
        "\tfeature_id 533 file_id 1 mz 104.03004 RT 2233.46 intensity 1.9795e+05\tM+H@103.02276 prob=1.00\n",
        "\tfeature_id 602 file_id 2 mz 104.03009 RT 2405.11 intensity 1.0344e+05\tM+H@103.02282 prob=1.00\n",
        "\tfeature_id 361 file_id 3 mz 104.03009 RT 2155.69 intensity 4.6892e+05\tM+H@103.02281 prob=1.00\n",
        "940. avg m/z=90.5259070578 avg RT=2448.51501465 prob=0.17\n",
        "\tfeature_id 542 file_id 2 mz 90.52590 RT 2252.36 intensity 1.1611e+05\tM+H@89.51863 prob=1.00\n",
        "\tfeature_id 440 file_id 3 mz 90.52591 RT 2644.67 intensity 3.8046e+05\tM+H@89.51863 prob=1.00\n",
        "941. avg m/z=102.033807827 avg RT=2455.72998047 prob=0.17\n",
        "\tfeature_id 50 file_id 0 mz 102.03375 RT 2533.65 intensity 2.6136e+06\tM+H@101.02647 prob=1.00\n",
        "\tfeature_id 16 file_id 1 mz 102.03377 RT 2339.32 intensity 5.9512e+06\tM+H@101.02650 prob=1.00\n",
        "\tfeature_id 8 file_id 2 mz 102.03384 RT 2325.22 intensity 6.0291e+06\tM+H@101.02657 prob=1.00\n",
        "\tfeature_id 49 file_id 3 mz 102.03386 RT 2624.73 intensity 4.5458e+06\tM+H@101.02659 prob=1.00\n",
        "942. avg m/z=82.0222473877 avg RT=2299.83996582 prob=0.17\n",
        "\tfeature_id 289 file_id 0 mz 82.02225 RT 2112.77 intensity 4.7104e+05\tM+H@81.01497 prob=1.00\n",
        "\tfeature_id 712 file_id 1 mz 82.02225 RT 2486.91 intensity 1.2732e+05\tM+H@81.01497 prob=1.00\n",
        "943. avg m/z=104.030065566 avg RT=2268.65490723 prob=0.17\n",
        "\tfeature_id 377 file_id 1 mz 104.03005 RT 2182.39 intensity 3.0853e+05\tM+H@103.02277 prob=1.00\n",
        "\tfeature_id 505 file_id 2 mz 104.03008 RT 2354.92 intensity 1.2610e+05\tM+H@103.02281 prob=1.00\n",
        "944. avg m/z=167.012690673 avg RT=2382.67333984 prob=0.17\n",
        "\tfeature_id 60 file_id 0 mz 167.01273 RT 2213.83 intensity 2.3927e+06\tM+H@166.00546 prob=1.00\n",
        "\tfeature_id 287 file_id 1 mz 167.01257 RT 2683.28 intensity 4.2527e+05\tM+H@166.00529 prob=1.00\n",
        "\tfeature_id 51 file_id 3 mz 167.01277 RT 2250.91 intensity 4.4712e+06\tM+H@166.00550 prob=1.00\n",
        "945. avg m/z=102.033781766 avg RT=2471.54996745 prob=0.17\n",
        "\tfeature_id 30 file_id 0 mz 102.03376 RT 2443.59 intensity 3.5926e+06\tM+H@101.02649 prob=1.00\n",
        "\tfeature_id 60 file_id 1 mz 102.03373 RT 2636.14 intensity 2.4290e+06\tM+H@101.02645 prob=1.00\n",
        "\tfeature_id 14 file_id 3 mz 102.03386 RT 2334.92 intensity 9.3787e+06\tM+H@101.02658 prob=1.00\n",
        "946. avg m/z=73.5318203361 avg RT=2575.80499268 prob=0.16\n",
        "\tfeature_id 398 file_id 0 mz 73.53180 RT 2752.90 intensity 3.2386e+05\tM+H@72.52452 prob=1.00\n",
        "\tfeature_id 378 file_id 1 mz 73.53178 RT 2686.33 intensity 3.0808e+05\tM+H@72.52451 prob=1.00\n",
        "\tfeature_id 699 file_id 2 mz 73.53184 RT 2441.39 intensity 8.4645e+04\tM+H@72.52456 prob=1.00\n",
        "\tfeature_id 543 file_id 3 mz 73.53186 RT 2422.60 intensity 3.0249e+05\tM+H@72.52458 prob=1.00\n",
        "947. avg m/z=82.5370957811 avg RT=2180.67004395 prob=0.16\n",
        "\tfeature_id 423 file_id 0 mz 82.53711 RT 2046.22 intensity 3.0017e+05\tM+H@81.52983 prob=1.00\n",
        "\tfeature_id 874 file_id 1 mz 82.53709 RT 2315.12 intensity 8.3273e+04\tM+H@81.52981 prob=1.00\n",
        "948. avg m/z=104.030076949 avg RT=2266.36505127 prob=0.16\n",
        "\tfeature_id 486 file_id 0 mz 104.03008 RT 2184.83 intensity 2.3757e+05\tM+H@103.02280 prob=1.00\n",
        "\tfeature_id 564 file_id 1 mz 104.03004 RT 2253.10 intensity 1.7825e+05\tM+H@103.02277 prob=1.00\n",
        "\tfeature_id 692 file_id 2 mz 104.03010 RT 2454.04 intensity 8.5507e+04\tM+H@103.02283 prob=1.00\n",
        "\tfeature_id 399 file_id 3 mz 104.03008 RT 2173.49 intensity 4.1707e+05\tM+H@103.02281 prob=1.00\n",
        "949. avg m/z=102.033785897 avg RT=2535.27327474 prob=0.16\n",
        "\tfeature_id 65 file_id 0 mz 102.03374 RT 2737.45 intensity 2.2513e+06\tM+H@101.02646 prob=1.00\n",
        "\tfeature_id 20 file_id 1 mz 102.03375 RT 2404.66 intensity 5.4481e+06\tM+H@101.02648 prob=1.00\n",
        "\tfeature_id 35 file_id 3 mz 102.03386 RT 2463.71 intensity 6.0942e+06\tM+H@101.02659 prob=1.00\n",
        "950. avg m/z=73.5318515184 avg RT=2287.92999268 prob=0.16\n",
        "\tfeature_id 324 file_id 0 mz 73.53185 RT 2204.65 intensity 4.0598e+05\tM+H@72.52457 prob=1.00\n",
        "\tfeature_id 291 file_id 1 mz 73.53184 RT 2209.33 intensity 4.1709e+05\tM+H@72.52456 prob=1.00\n",
        "\tfeature_id 510 file_id 2 mz 73.53185 RT 2201.99 intensity 1.2544e+05\tM+H@72.52458 prob=1.00\n",
        "\tfeature_id 525 file_id 3 mz 73.53187 RT 2535.75 intensity 3.1312e+05\tM+H@72.52459 prob=1.00\n",
        "951. avg m/z=104.030076043 avg RT=2293.54337565 prob=0.16\n",
        "\tfeature_id 564 file_id 1 mz 104.03004 RT 2253.10 intensity 1.7825e+05\tM+H@103.02277 prob=1.00\n",
        "\tfeature_id 692 file_id 2 mz 104.03010 RT 2454.04 intensity 8.5507e+04\tM+H@103.02283 prob=1.00\n",
        "\tfeature_id 399 file_id 3 mz 104.03008 RT 2173.49 intensity 4.1707e+05\tM+H@103.02281 prob=1.00\n",
        "952. avg m/z=104.030074287 avg RT=2257.89672852 prob=0.16\n",
        "\tfeature_id 356 file_id 0 mz 104.03010 RT 2135.12 intensity 3.7323e+05\tM+H@103.02282 prob=1.00\n",
        "\tfeature_id 533 file_id 1 mz 104.03004 RT 2233.46 intensity 1.9795e+05\tM+H@103.02276 prob=1.00\n",
        "\tfeature_id 602 file_id 2 mz 104.03009 RT 2405.11 intensity 1.0344e+05\tM+H@103.02282 prob=1.00\n",
        "953. avg m/z=104.030072506 avg RT=2353.57006836 prob=0.15\n",
        "\tfeature_id 564 file_id 1 mz 104.03004 RT 2253.10 intensity 1.7825e+05\tM+H@103.02277 prob=1.00\n",
        "\tfeature_id 692 file_id 2 mz 104.03010 RT 2454.04 intensity 8.5507e+04\tM+H@103.02283 prob=1.00\n",
        "954. avg m/z=167.01268806 avg RT=2254.04992676 prob=0.15\n",
        "\tfeature_id 165 file_id 1 mz 167.01263 RT 2444.19 intensity 7.9834e+05\tM+H@166.00535 prob=1.00\n",
        "\tfeature_id 91 file_id 2 mz 167.01275 RT 2063.91 intensity 9.5318e+05\tM+H@166.00547 prob=1.00\n",
        "955. avg m/z=73.5318305148 avg RT=2579.00250244 prob=0.15\n",
        "\tfeature_id 368 file_id 0 mz 73.53181 RT 2516.57 intensity 3.5752e+05\tM+H@72.52453 prob=1.00\n",
        "\tfeature_id 333 file_id 1 mz 73.53180 RT 2473.19 intensity 3.6113e+05\tM+H@72.52452 prob=1.00\n",
        "\tfeature_id 691 file_id 2 mz 73.53184 RT 2471.48 intensity 8.5580e+04\tM+H@72.52457 prob=1.00\n",
        "\tfeature_id 542 file_id 3 mz 73.53187 RT 2854.77 intensity 3.0313e+05\tM+H@72.52460 prob=1.00\n",
        "956. avg m/z=167.012691219 avg RT=2433.96746826 prob=0.15\n",
        "\tfeature_id 226 file_id 0 mz 167.01263 RT 2488.61 intensity 5.9112e+05\tM+H@166.00535 prob=1.00\n",
        "\tfeature_id 269 file_id 1 mz 167.01258 RT 2614.89 intensity 4.5374e+05\tM+H@166.00530 prob=1.00\n",
        "\tfeature_id 50 file_id 2 mz 167.01278 RT 2304.98 intensity 1.9806e+06\tM+H@166.00551 prob=1.00\n",
        "\tfeature_id 71 file_id 3 mz 167.01277 RT 2327.39 intensity 3.2337e+06\tM+H@166.00550 prob=1.00\n",
        "957. avg m/z=104.030077982 avg RT=2232.34503174 prob=0.15\n",
        "\tfeature_id 356 file_id 0 mz 104.03010 RT 2135.12 intensity 3.7323e+05\tM+H@103.02282 prob=1.00\n",
        "\tfeature_id 533 file_id 1 mz 104.03004 RT 2233.46 intensity 1.9795e+05\tM+H@103.02276 prob=1.00\n",
        "\tfeature_id 602 file_id 2 mz 104.03009 RT 2405.11 intensity 1.0344e+05\tM+H@103.02282 prob=1.00\n",
        "\tfeature_id 361 file_id 3 mz 104.03009 RT 2155.69 intensity 4.6892e+05\tM+H@103.02281 prob=1.00\n",
        "958. avg m/z=167.012751127 avg RT=2211.00494385 prob=0.15\n",
        "\tfeature_id 10 file_id 0 mz 167.01282 RT 2114.26 intensity 6.7055e+06\tM+H@166.00554 prob=1.00\n",
        "\tfeature_id 196 file_id 1 mz 167.01260 RT 2499.14 intensity 6.2798e+05\tM+H@166.00533 prob=1.00\n",
        "\tfeature_id 6 file_id 2 mz 167.01280 RT 2127.96 intensity 7.7470e+06\tM+H@166.00553 prob=1.00\n",
        "\tfeature_id 13 file_id 3 mz 167.01278 RT 2102.66 intensity 1.0666e+07\tM+H@166.00551 prob=1.00\n",
        "959. avg m/z=102.033811507 avg RT=1888.86002604 prob=0.15\n",
        "\tfeature_id 42 file_id 0 mz 102.03373 RT 2004.40 intensity 2.8060e+06\tM+H@101.02646 prob=1.00\n",
        "\tfeature_id 46 file_id 2 mz 102.03385 RT 1818.39 intensity 2.1692e+06\tM+H@101.02657 prob=1.00\n",
        "\tfeature_id 68 file_id 3 mz 102.03385 RT 1843.79 intensity 3.3472e+06\tM+H@101.02657 prob=1.00\n",
        "960. avg m/z=102.033810729 avg RT=2275.85754395 prob=0.15\n",
        "\tfeature_id 17 file_id 0 mz 102.03377 RT 2358.55 intensity 4.8934e+06\tM+H@101.02650 prob=1.00\n",
        "\tfeature_id 19 file_id 1 mz 102.03376 RT 2378.80 intensity 5.6590e+06\tM+H@101.02648 prob=1.00\n",
        "\tfeature_id 3 file_id 2 mz 102.03385 RT 2183.71 intensity 1.2539e+07\tM+H@101.02657 prob=1.00\n",
        "\tfeature_id 3 file_id 3 mz 102.03386 RT 2182.37 intensity 1.6411e+07\tM+H@101.02658 prob=1.00\n",
        "961. avg m/z=104.030063569 avg RT=2319.28503418 prob=0.14\n",
        "\tfeature_id 533 file_id 1 mz 104.03004 RT 2233.46 intensity 1.9795e+05\tM+H@103.02276 prob=1.00\n",
        "\tfeature_id 602 file_id 2 mz 104.03009 RT 2405.11 intensity 1.0344e+05\tM+H@103.02282 prob=1.00\n",
        "962. avg m/z=102.033791674 avg RT=1911.39501953 prob=0.14\n",
        "\tfeature_id 42 file_id 0 mz 102.03373 RT 2004.40 intensity 2.8060e+06\tM+H@101.02646 prob=1.00\n",
        "\tfeature_id 46 file_id 2 mz 102.03385 RT 1818.39 intensity 2.1692e+06\tM+H@101.02657 prob=1.00\n",
        "963. avg m/z=104.030077274 avg RT=2224.23254395 prob=0.14\n",
        "\tfeature_id 356 file_id 0 mz 104.03010 RT 2135.12 intensity 3.7323e+05\tM+H@103.02282 prob=1.00\n",
        "\tfeature_id 533 file_id 1 mz 104.03004 RT 2233.46 intensity 1.9795e+05\tM+H@103.02276 prob=1.00\n",
        "\tfeature_id 602 file_id 2 mz 104.03009 RT 2405.11 intensity 1.0344e+05\tM+H@103.02282 prob=1.00\n",
        "\tfeature_id 302 file_id 3 mz 104.03009 RT 2123.24 intensity 5.6768e+05\tM+H@103.02281 prob=1.00\n",
        "964. avg m/z=167.012704035 avg RT=2401.02746582 prob=0.13\n",
        "\tfeature_id 125 file_id 0 mz 167.01269 RT 2309.11 intensity 1.3889e+06\tM+H@166.00541 prob=1.00\n",
        "\tfeature_id 254 file_id 1 mz 167.01257 RT 2712.14 intensity 4.7565e+05\tM+H@166.00530 prob=1.00\n",
        "\tfeature_id 50 file_id 2 mz 167.01278 RT 2304.98 intensity 1.9806e+06\tM+H@166.00551 prob=1.00\n",
        "\tfeature_id 59 file_id 3 mz 167.01277 RT 2277.88 intensity 3.8756e+06\tM+H@166.00550 prob=1.00\n",
        "965. avg m/z=104.030091509 avg RT=2311.41003418 prob=0.13\n",
        "\tfeature_id 231 file_id 1 mz 104.03009 RT 2109.77 intensity 5.3232e+05\tM+H@103.02281 prob=1.00\n",
        "\tfeature_id 764 file_id 2 mz 104.03010 RT 2513.05 intensity 7.2181e+04\tM+H@103.02282 prob=1.00\n",
        "966. avg m/z=102.033784332 avg RT=1886.24499512 prob=0.13\n",
        "\tfeature_id 40 file_id 0 mz 102.03373 RT 1971.19 intensity 2.8315e+06\tM+H@101.02645 prob=1.00\n",
        "\tfeature_id 49 file_id 2 mz 102.03384 RT 1801.30 intensity 2.0463e+06\tM+H@101.02657 prob=1.00\n",
        "967. avg m/z=104.030063745 avg RT=2306.09000651 prob=0.13\n",
        "\tfeature_id 486 file_id 0 mz 104.03008 RT 2184.83 intensity 2.3757e+05\tM+H@103.02280 prob=1.00\n",
        "\tfeature_id 911 file_id 1 mz 104.03003 RT 2457.92 intensity 7.7472e+04\tM+H@103.02275 prob=1.00\n",
        "\tfeature_id 411 file_id 2 mz 104.03009 RT 2275.52 intensity 1.6496e+05\tM+H@103.02281 prob=1.00\n",
        "968. avg m/z=82.0222548757 avg RT=2212.42749023 prob=0.13\n",
        "\tfeature_id 289 file_id 0 mz 82.02225 RT 2112.77 intensity 4.7104e+05\tM+H@81.01497 prob=1.00\n",
        "\tfeature_id 712 file_id 1 mz 82.02225 RT 2486.91 intensity 1.2732e+05\tM+H@81.01497 prob=1.00\n",
        "\tfeature_id 518 file_id 2 mz 82.02227 RT 2144.44 intensity 1.2181e+05\tM+H@81.01499 prob=1.00\n",
        "\tfeature_id 707 file_id 3 mz 82.02226 RT 2105.59 intensity 2.1076e+05\tM+H@81.01498 prob=1.00\n",
        "969. avg m/z=104.030092913 avg RT=2252.64672852 prob=0.13\n",
        "\tfeature_id 356 file_id 0 mz 104.03010 RT 2135.12 intensity 3.7323e+05\tM+H@103.02282 prob=1.00\n",
        "\tfeature_id 231 file_id 1 mz 104.03009 RT 2109.77 intensity 5.3232e+05\tM+H@103.02281 prob=1.00\n",
        "\tfeature_id 764 file_id 2 mz 104.03010 RT 2513.05 intensity 7.2181e+04\tM+H@103.02282 prob=1.00\n",
        "970. avg m/z=102.033814322 avg RT=2276.13250732 prob=0.12\n",
        "\tfeature_id 37 file_id 0 mz 102.03376 RT 2488.61 intensity 3.0847e+06\tM+H@101.02648 prob=1.00\n",
        "\tfeature_id 4 file_id 1 mz 102.03379 RT 2236.47 intensity 9.0023e+06\tM+H@101.02651 prob=1.00\n",
        "\tfeature_id 3 file_id 2 mz 102.03385 RT 2183.71 intensity 1.2539e+07\tM+H@101.02657 prob=1.00\n",
        "\tfeature_id 4 file_id 3 mz 102.03386 RT 2195.74 intensity 1.5762e+07\tM+H@101.02658 prob=1.00\n",
        "971. avg m/z=104.030072238 avg RT=2213.32324219 prob=0.12\n",
        "\tfeature_id 377 file_id 1 mz 104.03005 RT 2182.39 intensity 3.0853e+05\tM+H@103.02277 prob=1.00\n",
        "\tfeature_id 505 file_id 2 mz 104.03008 RT 2354.92 intensity 1.2610e+05\tM+H@103.02281 prob=1.00\n",
        "\tfeature_id 294 file_id 3 mz 104.03009 RT 2102.66 intensity 5.9707e+05\tM+H@103.02281 prob=1.00\n",
        "972. avg m/z=241.129397343 avg RT=1280.11499023 prob=0.12\n",
        "\tfeature_id 808 file_id 2 mz 241.12936 RT 1333.40 intensity 6.7031e+04\tM+H@240.12209 prob=1.00\n",
        "\tfeature_id 740 file_id 3 mz 241.12943 RT 1226.83 intensity 1.9809e+05\tM+H@240.12216 prob=1.00\n",
        "973. avg m/z=102.033799859 avg RT=1930.41503906 prob=0.12\n",
        "\tfeature_id 39 file_id 0 mz 102.03375 RT 2017.04 intensity 2.8678e+06\tM+H@101.02647 prob=1.00\n",
        "\tfeature_id 68 file_id 3 mz 102.03385 RT 1843.79 intensity 3.3472e+06\tM+H@101.02657 prob=1.00\n",
        "974. avg m/z=94.5456311156 avg RT=2446.20507812 prob=0.12\n",
        "\tfeature_id 656 file_id 2 mz 94.54560 RT 2665.37 intensity 9.3056e+04\tM+H@93.53833 prob=1.00\n",
        "\tfeature_id 403 file_id 3 mz 94.54566 RT 2227.04 intensity 4.1087e+05\tM+H@93.53838 prob=0.50\n",
        "975. avg m/z=104.030066498 avg RT=2224.08333333 prob=0.12\n",
        "\tfeature_id 715 file_id 1 mz 104.03003 RT 2354.45 intensity 1.2697e+05\tM+H@103.02275 prob=1.00\n",
        "\tfeature_id 302 file_id 2 mz 104.03008 RT 2200.46 intensity 2.3888e+05\tM+H@103.02281 prob=1.00\n",
        "\tfeature_id 298 file_id 3 mz 104.03009 RT 2117.34 intensity 5.8328e+05\tM+H@103.02281 prob=1.00\n",
        "976. avg m/z=90.5259172141 avg RT=2240.48331706 prob=0.12\n",
        "\tfeature_id 186 file_id 0 mz 90.52593 RT 2106.83 intensity 7.9084e+05\tM+H@89.51865 prob=1.00\n",
        "\tfeature_id 292 file_id 2 mz 90.52591 RT 2127.96 intensity 2.4903e+05\tM+H@89.51863 prob=1.00\n",
        "\tfeature_id 432 file_id 3 mz 90.52591 RT 2486.66 intensity 3.8800e+05\tM+H@89.51863 prob=1.00\n",
        "977. avg m/z=73.5318276304 avg RT=2457.35247803 prob=0.11\n",
        "\tfeature_id 338 file_id 0 mz 73.53182 RT 2409.50 intensity 3.8477e+05\tM+H@72.52454 prob=1.00\n",
        "\tfeature_id 385 file_id 1 mz 73.53179 RT 2573.74 intensity 2.9953e+05\tM+H@72.52451 prob=1.00\n",
        "\tfeature_id 645 file_id 2 mz 73.53184 RT 2354.92 intensity 9.5080e+04\tM+H@72.52456 prob=1.00\n",
        "\tfeature_id 552 file_id 3 mz 73.53186 RT 2491.25 intensity 2.9990e+05\tM+H@72.52459 prob=1.00\n",
        "978. avg m/z=104.030055783 avg RT=2366.7199707 prob=0.11\n",
        "\tfeature_id 911 file_id 1 mz 104.03003 RT 2457.92 intensity 7.7472e+04\tM+H@103.02275 prob=1.00\n",
        "\tfeature_id 411 file_id 2 mz 104.03009 RT 2275.52 intensity 1.6496e+05\tM+H@103.02281 prob=1.00\n",
        "979. avg m/z=104.030055589 avg RT=2277.45495605 prob=0.11\n",
        "\tfeature_id 715 file_id 1 mz 104.03003 RT 2354.45 intensity 1.2697e+05\tM+H@103.02275 prob=1.00\n",
        "\tfeature_id 302 file_id 2 mz 104.03008 RT 2200.46 intensity 2.3888e+05\tM+H@103.02281 prob=1.00\n",
        "980. avg m/z=104.030078619 avg RT=2183.70495605 prob=0.11\n",
        "\tfeature_id 330 file_id 0 mz 104.03010 RT 2094.85 intensity 3.9161e+05\tM+H@103.02282 prob=1.00\n",
        "\tfeature_id 377 file_id 1 mz 104.03005 RT 2182.39 intensity 3.0853e+05\tM+H@103.02277 prob=1.00\n",
        "\tfeature_id 505 file_id 2 mz 104.03008 RT 2354.92 intensity 1.2610e+05\tM+H@103.02281 prob=1.00\n",
        "\tfeature_id 294 file_id 3 mz 104.03009 RT 2102.66 intensity 5.9707e+05\tM+H@103.02281 prob=1.00\n",
        "981. avg m/z=73.5318333262 avg RT=2490.44000244 prob=0.11\n",
        "\tfeature_id 374 file_id 0 mz 73.53182 RT 2350.83 intensity 3.5100e+05\tM+H@72.52455 prob=1.00\n",
        "\tfeature_id 331 file_id 1 mz 73.53180 RT 2436.57 intensity 3.6317e+05\tM+H@72.52452 prob=1.00\n",
        "\tfeature_id 645 file_id 2 mz 73.53184 RT 2354.92 intensity 9.5080e+04\tM+H@72.52456 prob=1.00\n",
        "\tfeature_id 509 file_id 3 mz 73.53187 RT 2819.44 intensity 3.2113e+05\tM+H@72.52459 prob=1.00\n",
        "982. avg m/z=111.039078193 avg RT=2285.57006836 prob=0.11\n",
        "\tfeature_id 210 file_id 2 mz 111.03906 RT 2450.85 intensity 3.8071e+05\tM+H@110.03178 prob=1.00\n",
        "\tfeature_id 262 file_id 3 mz 111.03910 RT 2120.29 intensity 6.9026e+05\tM+H@110.03182 prob=1.00\n",
        "983. avg m/z=104.030071125 avg RT=2253.9366862 prob=0.11\n",
        "\tfeature_id 533 file_id 1 mz 104.03004 RT 2233.46 intensity 1.9795e+05\tM+H@103.02276 prob=1.00\n",
        "\tfeature_id 602 file_id 2 mz 104.03009 RT 2405.11 intensity 1.0344e+05\tM+H@103.02282 prob=1.00\n",
        "\tfeature_id 302 file_id 3 mz 104.03009 RT 2123.24 intensity 5.6768e+05\tM+H@103.02281 prob=1.00\n",
        "984. avg m/z=102.033807672 avg RT=2343.47247314 prob=0.1\n",
        "\tfeature_id 8 file_id 0 mz 102.03379 RT 2293.70 intensity 7.1770e+06\tM+H@101.02652 prob=1.00\n",
        "\tfeature_id 47 file_id 1 mz 102.03373 RT 2575.27 intensity 2.7813e+06\tM+H@101.02645 prob=1.00\n",
        "\tfeature_id 4 file_id 2 mz 102.03385 RT 2257.00 intensity 8.0350e+06\tM+H@101.02657 prob=1.00\n",
        "\tfeature_id 9 file_id 3 mz 102.03386 RT 2247.92 intensity 1.2135e+07\tM+H@101.02658 prob=1.00\n",
        "985. avg m/z=104.030070109 avg RT=2210.58333333 prob=0.1\n",
        "\tfeature_id 330 file_id 0 mz 104.03010 RT 2094.85 intensity 3.9161e+05\tM+H@103.02282 prob=1.00\n",
        "\tfeature_id 616 file_id 1 mz 104.03003 RT 2303.00 intensity 1.5560e+05\tM+H@103.02275 prob=1.00\n",
        "\tfeature_id 353 file_id 2 mz 104.03009 RT 2233.90 intensity 1.9828e+05\tM+H@103.02281 prob=1.00\n",
        "986. avg m/z=104.030066049 avg RT=2213.18660482 prob=0.1\n",
        "\tfeature_id 616 file_id 1 mz 104.03003 RT 2303.00 intensity 1.5560e+05\tM+H@103.02275 prob=1.00\n",
        "\tfeature_id 353 file_id 2 mz 104.03009 RT 2233.90 intensity 1.9828e+05\tM+H@103.02281 prob=1.00\n",
        "\tfeature_id 294 file_id 3 mz 104.03009 RT 2102.66 intensity 5.9707e+05\tM+H@103.02281 prob=1.00\n",
        "987. avg m/z=104.030078294 avg RT=2192.9574585 prob=0.1\n",
        "\tfeature_id 274 file_id 0 mz 104.03012 RT 2114.26 intensity 4.9491e+05\tM+H@103.02284 prob=1.00\n",
        "\tfeature_id 715 file_id 1 mz 104.03003 RT 2354.45 intensity 1.2697e+05\tM+H@103.02275 prob=1.00\n",
        "\tfeature_id 302 file_id 2 mz 104.03008 RT 2200.46 intensity 2.3888e+05\tM+H@103.02281 prob=1.00\n",
        "\tfeature_id 294 file_id 3 mz 104.03009 RT 2102.66 intensity 5.9707e+05\tM+H@103.02281 prob=1.00\n",
        "988. avg m/z=122.54704089 avg RT=2129.9899292 prob=0.1\n",
        "\tfeature_id 119 file_id 1 mz 122.54700 RT 2290.88 intensity 1.2213e+06\tM+H@121.53973 prob=0.50\n",
        "\tfeature_id 124 file_id 3 mz 122.54708 RT 1969.10 intensity 1.6606e+06\tM+H@121.53980 prob=0.50\n",
        "989. avg m/z=104.030064895 avg RT=2302.30997721 prob=0.1\n",
        "\tfeature_id 911 file_id 1 mz 104.03003 RT 2457.92 intensity 7.7472e+04\tM+H@103.02275 prob=1.00\n",
        "\tfeature_id 411 file_id 2 mz 104.03009 RT 2275.52 intensity 1.6496e+05\tM+H@103.02281 prob=1.00\n",
        "\tfeature_id 399 file_id 3 mz 104.03008 RT 2173.49 intensity 4.1707e+05\tM+H@103.02281 prob=1.00\n",
        "990. avg m/z=82.0222537002 avg RT=2248.03995768 prob=0.09\n",
        "\tfeature_id 289 file_id 0 mz 82.02225 RT 2112.77 intensity 4.7104e+05\tM+H@81.01497 prob=1.00\n",
        "\tfeature_id 712 file_id 1 mz 82.02225 RT 2486.91 intensity 1.2732e+05\tM+H@81.01497 prob=1.00\n",
        "\tfeature_id 518 file_id 2 mz 82.02227 RT 2144.44 intensity 1.2181e+05\tM+H@81.01499 prob=1.00\n",
        "991. avg m/z=104.03007315 avg RT=2218.21663411 prob=0.09\n",
        "\tfeature_id 377 file_id 1 mz 104.03005 RT 2182.39 intensity 3.0853e+05\tM+H@103.02277 prob=1.00\n",
        "\tfeature_id 505 file_id 2 mz 104.03008 RT 2354.92 intensity 1.2610e+05\tM+H@103.02281 prob=1.00\n",
        "\tfeature_id 298 file_id 3 mz 104.03009 RT 2117.34 intensity 5.8328e+05\tM+H@103.02281 prob=1.00\n",
        "992. avg m/z=102.033817111 avg RT=2255.25250244 prob=0.09\n",
        "\tfeature_id 18 file_id 0 mz 102.03378 RT 2392.54 intensity 4.8553e+06\tM+H@101.02650 prob=1.00\n",
        "\tfeature_id 13 file_id 1 mz 102.03377 RT 2318.14 intensity 6.8917e+06\tM+H@101.02650 prob=1.00\n",
        "\tfeature_id 2 file_id 2 mz 102.03386 RT 2127.96 intensity 1.9983e+07\tM+H@101.02658 prob=1.00\n",
        "\tfeature_id 3 file_id 3 mz 102.03386 RT 2182.37 intensity 1.6411e+07\tM+H@101.02658 prob=1.00\n",
        "993. avg m/z=102.033793574 avg RT=2538.46252441 prob=0.09\n",
        "\tfeature_id 62 file_id 0 mz 102.03374 RT 2592.70 intensity 2.3550e+06\tM+H@101.02647 prob=1.00\n",
        "\tfeature_id 53 file_id 1 mz 102.03373 RT 2736.46 intensity 2.6317e+06\tM+H@101.02645 prob=1.00\n",
        "\tfeature_id 15 file_id 2 mz 102.03384 RT 2405.11 intensity 4.5140e+06\tM+H@101.02657 prob=1.00\n",
        "\tfeature_id 27 file_id 3 mz 102.03386 RT 2419.58 intensity 7.1288e+06\tM+H@101.02658 prob=1.00\n",
        "994. avg m/z=102.033809677 avg RT=2521.50250244 prob=0.09\n",
        "\tfeature_id 72 file_id 0 mz 102.03374 RT 2647.23 intensity 2.1641e+06\tM+H@101.02646 prob=1.00\n",
        "\tfeature_id 7 file_id 1 mz 102.03379 RT 2253.10 intensity 8.0766e+06\tM+H@101.02651 prob=1.00\n",
        "\tfeature_id 12 file_id 2 mz 102.03384 RT 2384.66 intensity 4.9054e+06\tM+H@101.02656 prob=1.00\n",
        "\tfeature_id 50 file_id 3 mz 102.03387 RT 2801.02 intensity 4.5221e+06\tM+H@101.02660 prob=1.00\n",
        "995. avg m/z=73.5318248153 avg RT=2573.16253662 prob=0.09\n",
        "\tfeature_id 395 file_id 0 mz 73.53180 RT 2550.86 intensity 3.2674e+05\tM+H@72.52453 prob=1.00\n",
        "\tfeature_id 374 file_id 1 mz 73.53179 RT 2592.05 intensity 3.1158e+05\tM+H@72.52451 prob=1.00\n",
        "\tfeature_id 725 file_id 2 mz 73.53184 RT 2461.97 intensity 7.9496e+04\tM+H@72.52457 prob=1.00\n",
        "\tfeature_id 603 file_id 3 mz 73.53187 RT 2687.77 intensity 2.6688e+05\tM+H@72.52459 prob=1.00\n",
        "996. avg m/z=104.03007363 avg RT=2188.10498047 prob=0.09\n",
        "\tfeature_id 330 file_id 0 mz 104.03010 RT 2094.85 intensity 3.9161e+05\tM+H@103.02282 prob=1.00\n",
        "\tfeature_id 715 file_id 1 mz 104.03003 RT 2354.45 intensity 1.2697e+05\tM+H@103.02275 prob=1.00\n",
        "\tfeature_id 302 file_id 2 mz 104.03008 RT 2200.46 intensity 2.3888e+05\tM+H@103.02281 prob=1.00\n",
        "\tfeature_id 294 file_id 3 mz 104.03009 RT 2102.66 intensity 5.9707e+05\tM+H@103.02281 prob=1.00\n",
        "997. avg m/z=104.030079325 avg RT=2192.125 prob=0.09\n",
        "\tfeature_id 274 file_id 0 mz 104.03012 RT 2114.26 intensity 4.9491e+05\tM+H@103.02284 prob=1.00\n",
        "\tfeature_id 616 file_id 1 mz 104.03003 RT 2303.00 intensity 1.5560e+05\tM+H@103.02275 prob=1.00\n",
        "\tfeature_id 353 file_id 2 mz 104.03009 RT 2233.90 intensity 1.9828e+05\tM+H@103.02281 prob=1.00\n",
        "\tfeature_id 298 file_id 3 mz 104.03009 RT 2117.34 intensity 5.8328e+05\tM+H@103.02281 prob=1.00\n",
        "998. avg m/z=102.033795954 avg RT=1909.17004395 prob=0.08\n",
        "\tfeature_id 39 file_id 0 mz 102.03375 RT 2017.04 intensity 2.8678e+06\tM+H@101.02647 prob=1.00\n",
        "\tfeature_id 49 file_id 2 mz 102.03384 RT 1801.30 intensity 2.0463e+06\tM+H@101.02657 prob=1.00\n",
        "999. avg m/z=81.5205144332 avg RT=1611.66998291 prob=0.08\n",
        "\tfeature_id 437 file_id 0 mz 81.52051 RT 1638.99 intensity 2.8776e+05\tM+H@80.51323 prob=1.00\n",
        "\tfeature_id 495 file_id 1 mz 81.52052 RT 1584.35 intensity 2.1672e+05\tM+H@80.51324 prob=1.00\n",
        "1000. avg m/z=90.5259097765 avg RT=2266.72330729 prob=0.08\n",
        "\tfeature_id 218 file_id 0 mz 90.52590 RT 2145.64 intensity 6.4254e+05\tM+H@89.51863 prob=1.00\n",
        "\tfeature_id 292 file_id 2 mz 90.52591 RT 2127.96 intensity 2.4903e+05\tM+H@89.51863 prob=1.00\n",
        "\tfeature_id 404 file_id 3 mz 90.52592 RT 2526.57 intensity 4.0995e+05\tM+H@89.51864 prob=1.00\n",
        "1001. avg m/z=104.030065586 avg RT=2219.18994141 prob=0.08\n",
        "\tfeature_id 715 file_id 1 mz 104.03003 RT 2354.45 intensity 1.2697e+05\tM+H@103.02275 prob=1.00\n",
        "\tfeature_id 302 file_id 2 mz 104.03008 RT 2200.46 intensity 2.3888e+05\tM+H@103.02281 prob=1.00\n",
        "\tfeature_id 294 file_id 3 mz 104.03009 RT 2102.66 intensity 5.9707e+05\tM+H@103.02281 prob=1.00\n",
        "1002. avg m/z=73.5318359562 avg RT=2403.2199707 prob=0.08\n",
        "\tfeature_id 363 file_id 0 mz 73.53182 RT 2398.69 intensity 3.6304e+05\tM+H@72.52454 prob=1.00\n",
        "\tfeature_id 305 file_id 1 mz 73.53181 RT 2424.41 intensity 3.8788e+05\tM+H@72.52453 prob=1.00\n",
        "\tfeature_id 562 file_id 2 mz 73.53185 RT 2273.97 intensity 1.1211e+05\tM+H@72.52457 prob=1.00\n",
        "\tfeature_id 544 file_id 3 mz 73.53187 RT 2515.81 intensity 3.0214e+05\tM+H@72.52459 prob=1.00\n",
        "1003. avg m/z=81.5205124709 avg RT=1722.02996826 prob=0.07\n",
        "\tfeature_id 282 file_id 0 mz 81.52052 RT 1793.08 intensity 4.8265e+05\tM+H@80.51324 prob=1.00\n",
        "\tfeature_id 409 file_id 1 mz 81.52051 RT 1650.98 intensity 2.7251e+05\tM+H@80.51323 prob=1.00\n",
        "1004. avg m/z=102.53533525 avg RT=2435.12996419 prob=0.07\n",
        "\tfeature_id 476 file_id 0 mz 102.53534 RT 2533.65 intensity 2.4940e+05\tM+H@101.52806 prob=0.50\n",
        "\tfeature_id 188 file_id 1 mz 102.53531 RT 2266.70 intensity 6.8709e+05\tM+H@101.52803 prob=0.50\n",
        "\tfeature_id 263 file_id 2 mz 102.53536 RT 2505.04 intensity 2.8431e+05\tM+H@101.52808 prob=0.50\n",
        "1005. avg m/z=90.5259200634 avg RT=2247.2800293 prob=0.07\n",
        "\tfeature_id 186 file_id 0 mz 90.52593 RT 2106.83 intensity 7.9084e+05\tM+H@89.51865 prob=1.00\n",
        "\tfeature_id 660 file_id 3 mz 90.52591 RT 2387.73 intensity 2.3724e+05\tM+H@89.51863 prob=1.00\n",
        "1006. avg m/z=102.5353344 avg RT=2400.30499268 prob=0.07\n",
        "\tfeature_id 473 file_id 0 mz 102.53533 RT 2507.29 intensity 2.5080e+05\tM+H@101.52805 prob=0.50\n",
        "\tfeature_id 354 file_id 1 mz 102.53530 RT 2482.34 intensity 3.3386e+05\tM+H@101.52802 prob=0.50\n",
        "\tfeature_id 182 file_id 2 mz 102.53535 RT 2350.21 intensity 4.7831e+05\tM+H@101.52807 prob=0.50\n",
        "\tfeature_id 191 file_id 3 mz 102.53536 RT 2261.38 intensity 9.9025e+05\tM+H@101.52808 prob=0.50\n",
        "1007. avg m/z=151.03525355 avg RT=2382.67004395 prob=0.07\n",
        "\tfeature_id 192 file_id 2 mz 151.03525 RT 2205.04 intensity 4.3512e+05\tM+H@150.02798 prob=1.00\n",
        "\tfeature_id 467 file_id 3 mz 151.03525 RT 2560.30 intensity 3.5832e+05\tM+H@150.02798 prob=1.00\n",
        "1008. avg m/z=104.030083967 avg RT=2192.22747803 prob=0.07\n",
        "\tfeature_id 274 file_id 0 mz 104.03012 RT 2114.26 intensity 4.9491e+05\tM+H@103.02284 prob=1.00\n",
        "\tfeature_id 377 file_id 1 mz 104.03005 RT 2182.39 intensity 3.0853e+05\tM+H@103.02277 prob=1.00\n",
        "\tfeature_id 505 file_id 2 mz 104.03008 RT 2354.92 intensity 1.2610e+05\tM+H@103.02281 prob=1.00\n",
        "\tfeature_id 298 file_id 3 mz 104.03009 RT 2117.34 intensity 5.8328e+05\tM+H@103.02281 prob=1.00\n",
        "1009. avg m/z=104.030078437 avg RT=2261.91503906 prob=0.07\n",
        "\tfeature_id 486 file_id 0 mz 104.03008 RT 2184.83 intensity 2.3757e+05\tM+H@103.02280 prob=1.00\n",
        "\tfeature_id 564 file_id 1 mz 104.03004 RT 2253.10 intensity 1.7825e+05\tM+H@103.02277 prob=1.00\n",
        "\tfeature_id 692 file_id 2 mz 104.03010 RT 2454.04 intensity 8.5507e+04\tM+H@103.02283 prob=1.00\n",
        "\tfeature_id 361 file_id 3 mz 104.03009 RT 2155.69 intensity 4.6892e+05\tM+H@103.02281 prob=1.00\n",
        "1010. avg m/z=102.033798722 avg RT=1917.71502686 prob=0.07\n",
        "\tfeature_id 39 file_id 0 mz 102.03375 RT 2017.04 intensity 2.8678e+06\tM+H@101.02647 prob=1.00\n",
        "\tfeature_id 46 file_id 2 mz 102.03385 RT 1818.39 intensity 2.1692e+06\tM+H@101.02657 prob=1.00\n",
        "1011. avg m/z=81.5205118122 avg RT=1583.57501221 prob=0.07\n",
        "\tfeature_id 466 file_id 0 mz 81.52051 RT 1605.05 intensity 2.5602e+05\tM+H@80.51323 prob=1.00\n",
        "\tfeature_id 527 file_id 1 mz 81.52052 RT 1562.10 intensity 2.0311e+05\tM+H@80.51324 prob=1.00\n",
        "1012. avg m/z=104.030075865 avg RT=2223.05664062 prob=0.07\n",
        "\tfeature_id 274 file_id 0 mz 104.03012 RT 2114.26 intensity 4.9491e+05\tM+H@103.02284 prob=1.00\n",
        "\tfeature_id 715 file_id 1 mz 104.03003 RT 2354.45 intensity 1.2697e+05\tM+H@103.02275 prob=1.00\n",
        "\tfeature_id 302 file_id 2 mz 104.03008 RT 2200.46 intensity 2.3888e+05\tM+H@103.02281 prob=1.00\n",
        "1013. avg m/z=102.033809653 avg RT=2531.74005127 prob=0.07\n",
        "\tfeature_id 72 file_id 0 mz 102.03374 RT 2647.23 intensity 2.1641e+06\tM+H@101.02646 prob=1.00\n",
        "\tfeature_id 7 file_id 1 mz 102.03379 RT 2253.10 intensity 8.0766e+06\tM+H@101.02651 prob=1.00\n",
        "\tfeature_id 17 file_id 2 mz 102.03384 RT 2425.61 intensity 4.3066e+06\tM+H@101.02656 prob=1.00\n",
        "\tfeature_id 50 file_id 3 mz 102.03387 RT 2801.02 intensity 4.5221e+06\tM+H@101.02660 prob=1.00\n",
        "1014. avg m/z=82.5370963737 avg RT=2241.45507812 prob=0.06\n",
        "\tfeature_id 462 file_id 0 mz 82.53710 RT 2069.12 intensity 2.6497e+05\tM+H@81.52983 prob=1.00\n",
        "\tfeature_id 741 file_id 1 mz 82.53709 RT 2413.79 intensity 1.1977e+05\tM+H@81.52981 prob=1.00\n",
        "1015. avg m/z=151.035098563 avg RT=2517.38330078 prob=0.06\n",
        "\tfeature_id 515 file_id 0 mz 151.03507 RT 2482.43 intensity 2.1603e+05\tM+H@150.02779 prob=0.50\n",
        "\tfeature_id 542 file_id 1 mz 151.03499 RT 2718.26 intensity 1.9146e+05\tM+H@150.02772 prob=0.50\n",
        "\tfeature_id 299 file_id 3 mz 151.03524 RT 2351.46 intensity 5.8255e+05\tM+H@150.02796 prob=0.50\n",
        "1016. avg m/z=102.033801583 avg RT=2284.34667969 prob=0.06\n",
        "\tfeature_id 37 file_id 0 mz 102.03376 RT 2488.61 intensity 3.0847e+06\tM+H@101.02648 prob=1.00\n",
        "\tfeature_id 4 file_id 1 mz 102.03379 RT 2236.47 intensity 9.0023e+06\tM+H@101.02651 prob=1.00\n",
        "\tfeature_id 2 file_id 2 mz 102.03386 RT 2127.96 intensity 1.9983e+07\tM+H@101.02658 prob=1.00\n",
        "1017. avg m/z=82.0222490127 avg RT=2216.44500732 prob=0.06\n",
        "\tfeature_id 728 file_id 0 mz 82.02224 RT 2341.53 intensity 1.3229e+05\tM+H@81.01496 prob=1.00\n",
        "\tfeature_id 673 file_id 1 mz 82.02223 RT 2274.22 intensity 1.3697e+05\tM+H@81.01496 prob=1.00\n",
        "\tfeature_id 518 file_id 2 mz 82.02227 RT 2144.44 intensity 1.2181e+05\tM+H@81.01499 prob=1.00\n",
        "\tfeature_id 707 file_id 3 mz 82.02226 RT 2105.59 intensity 2.1076e+05\tM+H@81.01498 prob=1.00\n",
        "1018. avg m/z=104.030096418 avg RT=2215.08001709 prob=0.06\n",
        "\tfeature_id 274 file_id 0 mz 104.03012 RT 2114.26 intensity 4.9491e+05\tM+H@103.02284 prob=1.00\n",
        "\tfeature_id 231 file_id 1 mz 104.03009 RT 2109.77 intensity 5.3232e+05\tM+H@103.02281 prob=1.00\n",
        "\tfeature_id 764 file_id 2 mz 104.03010 RT 2513.05 intensity 7.2181e+04\tM+H@103.02282 prob=1.00\n",
        "\tfeature_id 302 file_id 3 mz 104.03009 RT 2123.24 intensity 5.6768e+05\tM+H@103.02281 prob=1.00\n",
        "1019. avg m/z=104.030090444 avg RT=2246.72005208 prob=0.06\n",
        "\tfeature_id 231 file_id 1 mz 104.03009 RT 2109.77 intensity 5.3232e+05\tM+H@103.02281 prob=1.00\n",
        "\tfeature_id 764 file_id 2 mz 104.03010 RT 2513.05 intensity 7.2181e+04\tM+H@103.02282 prob=1.00\n",
        "\tfeature_id 298 file_id 3 mz 104.03009 RT 2117.34 intensity 5.8328e+05\tM+H@103.02281 prob=1.00\n",
        "1020. avg m/z=104.030079302 avg RT=2187.375 prob=0.06\n",
        "\tfeature_id 330 file_id 0 mz 104.03010 RT 2094.85 intensity 3.9161e+05\tM+H@103.02282 prob=1.00\n",
        "\tfeature_id 377 file_id 1 mz 104.03005 RT 2182.39 intensity 3.0853e+05\tM+H@103.02277 prob=1.00\n",
        "\tfeature_id 505 file_id 2 mz 104.03008 RT 2354.92 intensity 1.2610e+05\tM+H@103.02281 prob=1.00\n",
        "\tfeature_id 298 file_id 3 mz 104.03009 RT 2117.34 intensity 5.8328e+05\tM+H@103.02281 prob=1.00\n",
        "1021. avg m/z=151.035136852 avg RT=2437.66998291 prob=0.06\n",
        "\tfeature_id 576 file_id 0 mz 151.03504 RT 2522.78 intensity 1.9038e+05\tM+H@150.02776 prob=0.50\n",
        "\tfeature_id 470 file_id 1 mz 151.03503 RT 2500.66 intensity 2.3410e+05\tM+H@150.02775 prob=0.50\n",
        "\tfeature_id 254 file_id 2 mz 151.03524 RT 2347.09 intensity 2.9187e+05\tM+H@150.02797 prob=0.50\n",
        "\tfeature_id 314 file_id 3 mz 151.03523 RT 2380.15 intensity 5.3890e+05\tM+H@150.02796 prob=0.50\n",
        "1022. avg m/z=167.012707808 avg RT=2512.85754395 prob=0.06\n",
        "\tfeature_id 306 file_id 0 mz 167.01263 RT 2609.81 intensity 4.3321e+05\tM+H@166.00535 prob=1.00\n",
        "\tfeature_id 191 file_id 1 mz 167.01262 RT 2482.34 intensity 6.6481e+05\tM+H@166.00534 prob=1.00\n",
        "\tfeature_id 70 file_id 2 mz 167.01278 RT 2405.11 intensity 1.2679e+06\tM+H@166.00551 prob=1.00\n",
        "\tfeature_id 159 file_id 3 mz 167.01281 RT 2554.17 intensity 1.2002e+06\tM+H@166.00553 prob=1.00\n",
        "1023. avg m/z=70.0126750296 avg RT=2324.60009766 prob=0.06\n",
        "\tfeature_id 414 file_id 0 mz 70.01265 RT 2532.09 intensity 3.0757e+05\tM+H@69.00537 prob=1.00\n",
        "\tfeature_id 352 file_id 1 mz 70.01270 RT 2117.11 intensity 3.3547e+05\tM+H@69.00543 prob=1.00\n",
        "1024. avg m/z=104.030076328 avg RT=2217.05330404 prob=0.06\n",
        "\tfeature_id 274 file_id 0 mz 104.03012 RT 2114.26 intensity 4.9491e+05\tM+H@103.02284 prob=1.00\n",
        "\tfeature_id 616 file_id 1 mz 104.03003 RT 2303.00 intensity 1.5560e+05\tM+H@103.02275 prob=1.00\n",
        "\tfeature_id 353 file_id 2 mz 104.03009 RT 2233.90 intensity 1.9828e+05\tM+H@103.02281 prob=1.00\n",
        "1025. avg m/z=104.030066878 avg RT=2296.3766276 prob=0.05\n",
        "\tfeature_id 911 file_id 1 mz 104.03003 RT 2457.92 intensity 7.7472e+04\tM+H@103.02275 prob=1.00\n",
        "\tfeature_id 411 file_id 2 mz 104.03009 RT 2275.52 intensity 1.6496e+05\tM+H@103.02281 prob=1.00\n",
        "\tfeature_id 361 file_id 3 mz 104.03009 RT 2155.69 intensity 4.6892e+05\tM+H@103.02281 prob=1.00\n",
        "1026. avg m/z=104.030066268 avg RT=2220.04663086 prob=0.05\n",
        "\tfeature_id 616 file_id 1 mz 104.03003 RT 2303.00 intensity 1.5560e+05\tM+H@103.02275 prob=1.00\n",
        "\tfeature_id 353 file_id 2 mz 104.03009 RT 2233.90 intensity 1.9828e+05\tM+H@103.02281 prob=1.00\n",
        "\tfeature_id 302 file_id 3 mz 104.03009 RT 2123.24 intensity 5.6768e+05\tM+H@103.02281 prob=1.00\n",
        "1027. avg m/z=102.033772606 avg RT=2362.54003906 prob=0.05\n",
        "\tfeature_id 37 file_id 0 mz 102.03376 RT 2488.61 intensity 3.0847e+06\tM+H@101.02648 prob=1.00\n",
        "\tfeature_id 4 file_id 1 mz 102.03379 RT 2236.47 intensity 9.0023e+06\tM+H@101.02651 prob=1.00\n",
        "1028. avg m/z=104.030083283 avg RT=2188.55743408 prob=0.05\n",
        "\tfeature_id 274 file_id 0 mz 104.03012 RT 2114.26 intensity 4.9491e+05\tM+H@103.02284 prob=1.00\n",
        "\tfeature_id 377 file_id 1 mz 104.03005 RT 2182.39 intensity 3.0853e+05\tM+H@103.02277 prob=1.00\n",
        "\tfeature_id 505 file_id 2 mz 104.03008 RT 2354.92 intensity 1.2610e+05\tM+H@103.02281 prob=1.00\n",
        "\tfeature_id 294 file_id 3 mz 104.03009 RT 2102.66 intensity 5.9707e+05\tM+H@103.02281 prob=1.00\n",
        "1029. avg m/z=81.5205173309 avg RT=1590.20501709 prob=0.05\n",
        "\tfeature_id 437 file_id 0 mz 81.52051 RT 1638.99 intensity 2.8776e+05\tM+H@80.51323 prob=1.00\n",
        "\tfeature_id 548 file_id 1 mz 81.52052 RT 1541.42 intensity 1.8830e+05\tM+H@80.51325 prob=1.00\n",
        "1030. avg m/z=102.033814361 avg RT=1887.37670898 prob=0.05\n",
        "\tfeature_id 39 file_id 0 mz 102.03375 RT 2017.04 intensity 2.8678e+06\tM+H@101.02647 prob=1.00\n",
        "\tfeature_id 49 file_id 2 mz 102.03384 RT 1801.30 intensity 2.0463e+06\tM+H@101.02657 prob=1.00\n",
        "\tfeature_id 68 file_id 3 mz 102.03385 RT 1843.79 intensity 3.3472e+06\tM+H@101.02657 prob=1.00\n",
        "1031. avg m/z=104.030066961 avg RT=2218.07999674 prob=0.05\n",
        "\tfeature_id 616 file_id 1 mz 104.03003 RT 2303.00 intensity 1.5560e+05\tM+H@103.02275 prob=1.00\n",
        "\tfeature_id 353 file_id 2 mz 104.03009 RT 2233.90 intensity 1.9828e+05\tM+H@103.02281 prob=1.00\n",
        "\tfeature_id 298 file_id 3 mz 104.03009 RT 2117.34 intensity 5.8328e+05\tM+H@103.02281 prob=1.00\n",
        "1032. avg m/z=104.030074313 avg RT=2191.77502441 prob=0.05\n",
        "\tfeature_id 330 file_id 0 mz 104.03010 RT 2094.85 intensity 3.9161e+05\tM+H@103.02282 prob=1.00\n",
        "\tfeature_id 715 file_id 1 mz 104.03003 RT 2354.45 intensity 1.2697e+05\tM+H@103.02275 prob=1.00\n",
        "\tfeature_id 302 file_id 2 mz 104.03008 RT 2200.46 intensity 2.3888e+05\tM+H@103.02281 prob=1.00\n",
        "\tfeature_id 298 file_id 3 mz 104.03009 RT 2117.34 intensity 5.8328e+05\tM+H@103.02281 prob=1.00\n",
        "1033. avg m/z=104.030072456 avg RT=2220.18326823 prob=0.05\n",
        "\tfeature_id 377 file_id 1 mz 104.03005 RT 2182.39 intensity 3.0853e+05\tM+H@103.02277 prob=1.00\n",
        "\tfeature_id 505 file_id 2 mz 104.03008 RT 2354.92 intensity 1.2610e+05\tM+H@103.02281 prob=1.00\n",
        "\tfeature_id 302 file_id 3 mz 104.03009 RT 2123.24 intensity 5.6768e+05\tM+H@103.02281 prob=1.00\n",
        "1034. avg m/z=104.030091952 avg RT=2228.40753174 prob=0.04\n",
        "\tfeature_id 356 file_id 0 mz 104.03010 RT 2135.12 intensity 3.7323e+05\tM+H@103.02282 prob=1.00\n",
        "\tfeature_id 231 file_id 1 mz 104.03009 RT 2109.77 intensity 5.3232e+05\tM+H@103.02281 prob=1.00\n",
        "\tfeature_id 764 file_id 2 mz 104.03010 RT 2513.05 intensity 7.2181e+04\tM+H@103.02282 prob=1.00\n",
        "\tfeature_id 361 file_id 3 mz 104.03009 RT 2155.69 intensity 4.6892e+05\tM+H@103.02281 prob=1.00\n",
        "1035. avg m/z=104.030091764 avg RT=2218.82006836 prob=0.04\n",
        "\tfeature_id 356 file_id 0 mz 104.03010 RT 2135.12 intensity 3.7323e+05\tM+H@103.02282 prob=1.00\n",
        "\tfeature_id 231 file_id 1 mz 104.03009 RT 2109.77 intensity 5.3232e+05\tM+H@103.02281 prob=1.00\n",
        "\tfeature_id 764 file_id 2 mz 104.03010 RT 2513.05 intensity 7.2181e+04\tM+H@103.02282 prob=1.00\n",
        "\tfeature_id 298 file_id 3 mz 104.03009 RT 2117.34 intensity 5.8328e+05\tM+H@103.02281 prob=1.00\n",
        "1036. avg m/z=81.5205143641 avg RT=1649.50500488 prob=0.04\n",
        "\tfeature_id 334 file_id 0 mz 81.52051 RT 1714.66 intensity 3.8868e+05\tM+H@80.51323 prob=1.00\n",
        "\tfeature_id 495 file_id 1 mz 81.52052 RT 1584.35 intensity 2.1672e+05\tM+H@80.51324 prob=1.00\n",
        "1037. avg m/z=104.030071818 avg RT=2251.97005208 prob=0.04\n",
        "\tfeature_id 533 file_id 1 mz 104.03004 RT 2233.46 intensity 1.9795e+05\tM+H@103.02276 prob=1.00\n",
        "\tfeature_id 602 file_id 2 mz 104.03009 RT 2405.11 intensity 1.0344e+05\tM+H@103.02282 prob=1.00\n",
        "\tfeature_id 298 file_id 3 mz 104.03009 RT 2117.34 intensity 5.8328e+05\tM+H@103.02281 prob=1.00\n",
        "1038. avg m/z=104.030070076 avg RT=2268.48999023 prob=0.04\n",
        "\tfeature_id 486 file_id 0 mz 104.03008 RT 2184.83 intensity 2.3757e+05\tM+H@103.02280 prob=1.00\n",
        "\tfeature_id 911 file_id 1 mz 104.03003 RT 2457.92 intensity 7.7472e+04\tM+H@103.02275 prob=1.00\n",
        "\tfeature_id 411 file_id 2 mz 104.03009 RT 2275.52 intensity 1.6496e+05\tM+H@103.02281 prob=1.00\n",
        "\tfeature_id 361 file_id 3 mz 104.03009 RT 2155.69 intensity 4.6892e+05\tM+H@103.02281 prob=1.00\n",
        "1039. avg m/z=111.039075445 avg RT=2319.85498047 prob=0.04\n",
        "\tfeature_id 239 file_id 2 mz 111.03905 RT 2519.42 intensity 3.1543e+05\tM+H@110.03177 prob=1.00\n",
        "\tfeature_id 262 file_id 3 mz 111.03910 RT 2120.29 intensity 6.9026e+05\tM+H@110.03182 prob=1.00\n",
        "1040. avg m/z=104.030099811 avg RT=2245.69335938 prob=0.04\n",
        "\tfeature_id 274 file_id 0 mz 104.03012 RT 2114.26 intensity 4.9491e+05\tM+H@103.02284 prob=1.00\n",
        "\tfeature_id 231 file_id 1 mz 104.03009 RT 2109.77 intensity 5.3232e+05\tM+H@103.02281 prob=1.00\n",
        "\tfeature_id 764 file_id 2 mz 104.03010 RT 2513.05 intensity 7.2181e+04\tM+H@103.02282 prob=1.00\n",
        "1041. avg m/z=102.033815471 avg RT=2272.5324707 prob=0.04\n",
        "\tfeature_id 18 file_id 0 mz 102.03378 RT 2392.54 intensity 4.8553e+06\tM+H@101.02650 prob=1.00\n",
        "\tfeature_id 13 file_id 1 mz 102.03377 RT 2318.14 intensity 6.8917e+06\tM+H@101.02650 prob=1.00\n",
        "\tfeature_id 3 file_id 2 mz 102.03385 RT 2183.71 intensity 1.2539e+07\tM+H@101.02657 prob=1.00\n",
        "\tfeature_id 4 file_id 3 mz 102.03386 RT 2195.74 intensity 1.5762e+07\tM+H@101.02658 prob=1.00\n",
        "1042. avg m/z=82.537093649 avg RT=2148.8133138 prob=0.04\n",
        "\tfeature_id 423 file_id 0 mz 82.53711 RT 2046.22 intensity 3.0017e+05\tM+H@81.52983 prob=1.00\n",
        "\tfeature_id 844 file_id 1 mz 82.53709 RT 2333.27 intensity 9.0912e+04\tM+H@81.52981 prob=1.00\n",
        "\tfeature_id 606 file_id 2 mz 82.53708 RT 2066.95 intensity 1.0302e+05\tM+H@81.52981 prob=1.00\n",
        "1043. avg m/z=111.039073435 avg RT=2235.86669922 prob=0.04\n",
        "\tfeature_id 567 file_id 1 mz 111.03907 RT 2095.07 intensity 1.7724e+05\tM+H@110.03180 prob=1.00\n",
        "\tfeature_id 222 file_id 2 mz 111.03905 RT 2492.24 intensity 3.4462e+05\tM+H@110.03177 prob=1.00\n",
        "\tfeature_id 262 file_id 3 mz 111.03910 RT 2120.29 intensity 6.9026e+05\tM+H@110.03182 prob=1.00\n",
        "1044. avg m/z=104.030090695 avg RT=2259.50333659 prob=0.04\n",
        "\tfeature_id 231 file_id 1 mz 104.03009 RT 2109.77 intensity 5.3232e+05\tM+H@103.02281 prob=1.00\n",
        "\tfeature_id 764 file_id 2 mz 104.03010 RT 2513.05 intensity 7.2181e+04\tM+H@103.02282 prob=1.00\n",
        "\tfeature_id 361 file_id 3 mz 104.03009 RT 2155.69 intensity 4.6892e+05\tM+H@103.02281 prob=1.00\n",
        "1045. avg m/z=90.5259077919 avg RT=2440.08007812 prob=0.04\n",
        "\tfeature_id 542 file_id 2 mz 90.52590 RT 2252.36 intensity 1.1611e+05\tM+H@89.51863 prob=1.00\n",
        "\tfeature_id 407 file_id 3 mz 90.52591 RT 2627.80 intensity 4.0772e+05\tM+H@89.51864 prob=1.00\n",
        "1046. avg m/z=102.03379281 avg RT=1924.09503174 prob=0.04\n",
        "\tfeature_id 42 file_id 0 mz 102.03373 RT 2004.40 intensity 2.8060e+06\tM+H@101.02646 prob=1.00\n",
        "\tfeature_id 68 file_id 3 mz 102.03385 RT 1843.79 intensity 3.3472e+06\tM+H@101.02657 prob=1.00\n",
        "1047. avg m/z=81.5205149745 avg RT=1596.6550293 prob=0.03\n",
        "\tfeature_id 406 file_id 0 mz 81.52051 RT 1651.89 intensity 3.1412e+05\tM+H@80.51323 prob=1.00\n",
        "\tfeature_id 548 file_id 1 mz 81.52052 RT 1541.42 intensity 1.8830e+05\tM+H@80.51325 prob=1.00\n",
        "1048. avg m/z=104.030081185 avg RT=2250.94335938 prob=0.03\n",
        "\tfeature_id 274 file_id 0 mz 104.03012 RT 2114.26 intensity 4.9491e+05\tM+H@103.02284 prob=1.00\n",
        "\tfeature_id 533 file_id 1 mz 104.03004 RT 2233.46 intensity 1.9795e+05\tM+H@103.02276 prob=1.00\n",
        "\tfeature_id 602 file_id 2 mz 104.03009 RT 2405.11 intensity 1.0344e+05\tM+H@103.02282 prob=1.00\n",
        "1049. avg m/z=104.030083447 avg RT=2193.70245361 prob=0.03\n",
        "\tfeature_id 274 file_id 0 mz 104.03012 RT 2114.26 intensity 4.9491e+05\tM+H@103.02284 prob=1.00\n",
        "\tfeature_id 377 file_id 1 mz 104.03005 RT 2182.39 intensity 3.0853e+05\tM+H@103.02277 prob=1.00\n",
        "\tfeature_id 505 file_id 2 mz 104.03008 RT 2354.92 intensity 1.2610e+05\tM+H@103.02281 prob=1.00\n",
        "\tfeature_id 302 file_id 3 mz 104.03009 RT 2123.24 intensity 5.6768e+05\tM+H@103.02281 prob=1.00\n",
        "1050. avg m/z=104.030065805 avg RT=2226.04996745 prob=0.03\n",
        "\tfeature_id 715 file_id 1 mz 104.03003 RT 2354.45 intensity 1.2697e+05\tM+H@103.02275 prob=1.00\n",
        "\tfeature_id 302 file_id 2 mz 104.03008 RT 2200.46 intensity 2.3888e+05\tM+H@103.02281 prob=1.00\n",
        "\tfeature_id 302 file_id 3 mz 104.03009 RT 2123.24 intensity 5.6768e+05\tM+H@103.02281 prob=1.00\n",
        "1051. avg m/z=90.525906636 avg RT=2316.14990234 prob=0.03\n",
        "\tfeature_id 218 file_id 0 mz 90.52590 RT 2145.64 intensity 6.4254e+05\tM+H@89.51863 prob=1.00\n",
        "\tfeature_id 432 file_id 3 mz 90.52591 RT 2486.66 intensity 3.8800e+05\tM+H@89.51863 prob=1.00\n",
        "1052. avg m/z=104.030078641 avg RT=2188.45495605 prob=0.03\n",
        "\tfeature_id 274 file_id 0 mz 104.03012 RT 2114.26 intensity 4.9491e+05\tM+H@103.02284 prob=1.00\n",
        "\tfeature_id 616 file_id 1 mz 104.03003 RT 2303.00 intensity 1.5560e+05\tM+H@103.02275 prob=1.00\n",
        "\tfeature_id 353 file_id 2 mz 104.03009 RT 2233.90 intensity 1.9828e+05\tM+H@103.02281 prob=1.00\n",
        "\tfeature_id 294 file_id 3 mz 104.03009 RT 2102.66 intensity 5.9707e+05\tM+H@103.02281 prob=1.00\n",
        "1053. avg m/z=104.030082517 avg RT=2217.18994141 prob=0.03\n",
        "\tfeature_id 274 file_id 0 mz 104.03012 RT 2114.26 intensity 4.9491e+05\tM+H@103.02284 prob=1.00\n",
        "\tfeature_id 377 file_id 1 mz 104.03005 RT 2182.39 intensity 3.0853e+05\tM+H@103.02277 prob=1.00\n",
        "\tfeature_id 505 file_id 2 mz 104.03008 RT 2354.92 intensity 1.2610e+05\tM+H@103.02281 prob=1.00\n",
        "1054. avg m/z=102.033766371 avg RT=2368.67504883 prob=0.03\n",
        "\tfeature_id 17 file_id 0 mz 102.03377 RT 2358.55 intensity 4.8934e+06\tM+H@101.02650 prob=1.00\n",
        "\tfeature_id 19 file_id 1 mz 102.03376 RT 2378.80 intensity 5.6590e+06\tM+H@101.02648 prob=1.00\n",
        "1055. avg m/z=104.030078458 avg RT=2198.10247803 prob=0.03\n",
        "\tfeature_id 274 file_id 0 mz 104.03012 RT 2114.26 intensity 4.9491e+05\tM+H@103.02284 prob=1.00\n",
        "\tfeature_id 715 file_id 1 mz 104.03003 RT 2354.45 intensity 1.2697e+05\tM+H@103.02275 prob=1.00\n",
        "\tfeature_id 302 file_id 2 mz 104.03008 RT 2200.46 intensity 2.3888e+05\tM+H@103.02281 prob=1.00\n",
        "\tfeature_id 302 file_id 3 mz 104.03009 RT 2123.24 intensity 5.6768e+05\tM+H@103.02281 prob=1.00\n",
        "1056. avg m/z=102.033800918 avg RT=2387.99743652 prob=0.03\n",
        "\tfeature_id 22 file_id 0 mz 102.03377 RT 2431.19 intensity 4.2614e+06\tM+H@101.02649 prob=1.00\n",
        "\tfeature_id 54 file_id 1 mz 102.03373 RT 2584.42 intensity 2.6305e+06\tM+H@101.02646 prob=1.00\n",
        "\tfeature_id 4 file_id 2 mz 102.03385 RT 2257.00 intensity 8.0350e+06\tM+H@101.02657 prob=1.00\n",
        "\tfeature_id 12 file_id 3 mz 102.03386 RT 2279.38 intensity 1.0833e+07\tM+H@101.02658 prob=1.00\n",
        "1057. avg m/z=104.030073168 avg RT=2327.55999756 prob=0.03\n",
        "\tfeature_id 667 file_id 0 mz 104.03005 RT 2263.01 intensity 1.5215e+05\tM+H@103.02277 prob=1.00\n",
        "\tfeature_id 362 file_id 1 mz 104.03005 RT 2163.01 intensity 3.2105e+05\tM+H@103.02278 prob=1.00\n",
        "\tfeature_id 882 file_id 2 mz 104.03010 RT 2675.07 intensity 5.8248e+04\tM+H@103.02283 prob=1.00\n",
        "\tfeature_id 489 file_id 3 mz 104.03009 RT 2209.15 intensity 3.3989e+05\tM+H@103.02281 prob=1.00\n",
        "1058. avg m/z=104.030069646 avg RT=2216.58666992 prob=0.03\n",
        "\tfeature_id 330 file_id 0 mz 104.03010 RT 2094.85 intensity 3.9161e+05\tM+H@103.02282 prob=1.00\n",
        "\tfeature_id 715 file_id 1 mz 104.03003 RT 2354.45 intensity 1.2697e+05\tM+H@103.02275 prob=1.00\n",
        "\tfeature_id 302 file_id 2 mz 104.03008 RT 2200.46 intensity 2.3888e+05\tM+H@103.02281 prob=1.00\n",
        "1059. avg m/z=167.012720676 avg RT=2460.05749512 prob=0.03\n",
        "\tfeature_id 171 file_id 0 mz 167.01266 RT 2431.19 intensity 8.9264e+05\tM+H@166.00538 prob=1.00\n",
        "\tfeature_id 149 file_id 1 mz 167.01265 RT 2419.88 intensity 9.0487e+05\tM+H@166.00537 prob=1.00\n",
        "\tfeature_id 62 file_id 2 mz 167.01278 RT 2370.56 intensity 1.5313e+06\tM+H@166.00550 prob=1.00\n",
        "\tfeature_id 174 file_id 3 mz 167.01280 RT 2618.60 intensity 1.0673e+06\tM+H@166.00553 prob=1.00\n",
        "1060. avg m/z=391.283682134 avg RT=647.462005615 prob=0.03\n",
        "\tfeature_id 688 file_id 0 mz 391.28370 RT 785.25 intensity 1.4274e+05\tM+H@390.27642 prob=1.00\n",
        "\tfeature_id 271 file_id 1 mz 391.28366 RT 509.67 intensity 4.5032e+05\tM+H@390.27639 prob=1.00\n",
        "1061. avg m/z=104.030074893 avg RT=2297.32340495 prob=0.03\n",
        "\tfeature_id 486 file_id 0 mz 104.03008 RT 2184.83 intensity 2.3757e+05\tM+H@103.02280 prob=1.00\n",
        "\tfeature_id 564 file_id 1 mz 104.03004 RT 2253.10 intensity 1.7825e+05\tM+H@103.02277 prob=1.00\n",
        "\tfeature_id 692 file_id 2 mz 104.03010 RT 2454.04 intensity 8.5507e+04\tM+H@103.02283 prob=1.00\n",
        "1062. avg m/z=102.033809662 avg RT=1883.16337077 prob=0.03\n",
        "\tfeature_id 42 file_id 0 mz 102.03373 RT 2004.40 intensity 2.8060e+06\tM+H@101.02646 prob=1.00\n",
        "\tfeature_id 49 file_id 2 mz 102.03384 RT 1801.30 intensity 2.0463e+06\tM+H@101.02657 prob=1.00\n",
        "\tfeature_id 68 file_id 3 mz 102.03385 RT 1843.79 intensity 3.3472e+06\tM+H@101.02657 prob=1.00\n",
        "1063. avg m/z=102.033782515 avg RT=1889.9050293 prob=0.03\n",
        "\tfeature_id 42 file_id 0 mz 102.03373 RT 2004.40 intensity 2.8060e+06\tM+H@101.02646 prob=1.00\n",
        "\tfeature_id 51 file_id 2 mz 102.03383 RT 1775.41 intensity 1.9776e+06\tM+H@101.02655 prob=1.00\n",
        "1064. avg m/z=185.023261315 avg RT=2253.04504395 prob=0.03\n",
        "\tfeature_id 578 file_id 2 mz 185.02324 RT 2401.97 intensity 1.0816e+05\tM+H@184.01597 prob=1.00\n",
        "\tfeature_id 688 file_id 3 mz 185.02328 RT 2104.12 intensity 2.2170e+05\tM+H@184.01600 prob=1.00\n",
        "1065. avg m/z=73.5318214772 avg RT=2637.62003581 prob=0.03\n",
        "\tfeature_id 351 file_id 0 mz 73.53181 RT 2451.34 intensity 3.7488e+05\tM+H@72.52454 prob=1.00\n",
        "\tfeature_id 383 file_id 1 mz 73.53178 RT 2660.50 intensity 3.0257e+05\tM+H@72.52451 prob=1.00\n",
        "\tfeature_id 563 file_id 3 mz 73.53187 RT 2801.02 intensity 2.9403e+05\tM+H@72.52459 prob=1.00\n",
        "1066. avg m/z=104.030074661 avg RT=2187.27252197 prob=0.02\n",
        "\tfeature_id 330 file_id 0 mz 104.03010 RT 2094.85 intensity 3.9161e+05\tM+H@103.02282 prob=1.00\n",
        "\tfeature_id 616 file_id 1 mz 104.03003 RT 2303.00 intensity 1.5560e+05\tM+H@103.02275 prob=1.00\n",
        "\tfeature_id 353 file_id 2 mz 104.03009 RT 2233.90 intensity 1.9828e+05\tM+H@103.02281 prob=1.00\n",
        "\tfeature_id 298 file_id 3 mz 104.03009 RT 2117.34 intensity 5.8328e+05\tM+H@103.02281 prob=1.00\n",
        "1067. avg m/z=102.033816437 avg RT=2262.19500732 prob=0.02\n",
        "\tfeature_id 37 file_id 0 mz 102.03376 RT 2488.61 intensity 3.0847e+06\tM+H@101.02648 prob=1.00\n",
        "\tfeature_id 4 file_id 1 mz 102.03379 RT 2236.47 intensity 9.0023e+06\tM+H@101.02651 prob=1.00\n",
        "\tfeature_id 2 file_id 2 mz 102.03386 RT 2127.96 intensity 1.9983e+07\tM+H@101.02658 prob=1.00\n",
        "\tfeature_id 4 file_id 3 mz 102.03386 RT 2195.74 intensity 1.5762e+07\tM+H@101.02658 prob=1.00\n",
        "1068. avg m/z=104.030078782 avg RT=2188.84997559 prob=0.02\n",
        "\tfeature_id 330 file_id 0 mz 104.03010 RT 2094.85 intensity 3.9161e+05\tM+H@103.02282 prob=1.00\n",
        "\tfeature_id 377 file_id 1 mz 104.03005 RT 2182.39 intensity 3.0853e+05\tM+H@103.02277 prob=1.00\n",
        "\tfeature_id 505 file_id 2 mz 104.03008 RT 2354.92 intensity 1.2610e+05\tM+H@103.02281 prob=1.00\n",
        "\tfeature_id 302 file_id 3 mz 104.03009 RT 2123.24 intensity 5.6768e+05\tM+H@103.02281 prob=1.00\n",
        "1069. avg m/z=90.5259148502 avg RT=2327.84997559 prob=0.02\n",
        "\tfeature_id 199 file_id 0 mz 90.52591 RT 2129.13 intensity 7.4456e+05\tM+H@89.51864 prob=1.00\n",
        "\tfeature_id 404 file_id 3 mz 90.52592 RT 2526.57 intensity 4.0995e+05\tM+H@89.51864 prob=1.00\n",
        "1070. avg m/z=102.033792513 avg RT=1897.94000244 prob=0.02\n",
        "\tfeature_id 48 file_id 0 mz 102.03374 RT 1977.49 intensity 2.6642e+06\tM+H@101.02646 prob=1.00\n",
        "\tfeature_id 46 file_id 2 mz 102.03385 RT 1818.39 intensity 2.1692e+06\tM+H@101.02657 prob=1.00\n",
        "1071. avg m/z=104.030073804 avg RT=2201.8425293 prob=0.02\n",
        "\tfeature_id 356 file_id 0 mz 104.03010 RT 2135.12 intensity 3.7323e+05\tM+H@103.02282 prob=1.00\n",
        "\tfeature_id 715 file_id 1 mz 104.03003 RT 2354.45 intensity 1.2697e+05\tM+H@103.02275 prob=1.00\n",
        "\tfeature_id 302 file_id 2 mz 104.03008 RT 2200.46 intensity 2.3888e+05\tM+H@103.02281 prob=1.00\n",
        "\tfeature_id 298 file_id 3 mz 104.03009 RT 2117.34 intensity 5.8328e+05\tM+H@103.02281 prob=1.00\n",
        "1072. avg m/z=81.5205090508 avg RT=1682.82000732 prob=0.02\n",
        "\tfeature_id 334 file_id 0 mz 81.52051 RT 1714.66 intensity 3.8868e+05\tM+H@80.51323 prob=1.00\n",
        "\tfeature_id 409 file_id 1 mz 81.52051 RT 1650.98 intensity 2.7251e+05\tM+H@80.51323 prob=1.00\n",
        "1073. avg m/z=102.033802969 avg RT=2297.68334961 prob=0.02\n",
        "\tfeature_id 18 file_id 0 mz 102.03378 RT 2392.54 intensity 4.8553e+06\tM+H@101.02650 prob=1.00\n",
        "\tfeature_id 13 file_id 1 mz 102.03377 RT 2318.14 intensity 6.8917e+06\tM+H@101.02650 prob=1.00\n",
        "\tfeature_id 3 file_id 3 mz 102.03386 RT 2182.37 intensity 1.6411e+07\tM+H@101.02658 prob=1.00\n",
        "1074. avg m/z=182.985020261 avg RT=2250.84509277 prob=0.02\n",
        "\tfeature_id 533 file_id 0 mz 182.98497 RT 2451.34 intensity 2.0963e+05\tM+H@181.97770 prob=0.50\n",
        "\tfeature_id 153 file_id 1 mz 182.98507 RT 2050.35 intensity 8.6716e+05\tM+H@181.97779 prob=0.50\n",
        "1075. avg m/z=104.030077794 avg RT=2222.75756836 prob=0.02\n",
        "\tfeature_id 356 file_id 0 mz 104.03010 RT 2135.12 intensity 3.7323e+05\tM+H@103.02282 prob=1.00\n",
        "\tfeature_id 533 file_id 1 mz 104.03004 RT 2233.46 intensity 1.9795e+05\tM+H@103.02276 prob=1.00\n",
        "\tfeature_id 602 file_id 2 mz 104.03009 RT 2405.11 intensity 1.0344e+05\tM+H@103.02282 prob=1.00\n",
        "\tfeature_id 298 file_id 3 mz 104.03009 RT 2117.34 intensity 5.8328e+05\tM+H@103.02281 prob=1.00\n",
        "1076. avg m/z=185.023255424 avg RT=2299.7800293 prob=0.02\n",
        "\tfeature_id 631 file_id 2 mz 185.02323 RT 2495.44 intensity 9.7652e+04\tM+H@184.01595 prob=1.00\n",
        "\tfeature_id 688 file_id 3 mz 185.02328 RT 2104.12 intensity 2.2170e+05\tM+H@184.01600 prob=1.00\n",
        "1077. avg m/z=104.030082451 avg RT=2249.48754883 prob=0.02\n",
        "\tfeature_id 356 file_id 0 mz 104.03010 RT 2135.12 intensity 3.7323e+05\tM+H@103.02282 prob=1.00\n",
        "\tfeature_id 564 file_id 1 mz 104.03004 RT 2253.10 intensity 1.7825e+05\tM+H@103.02277 prob=1.00\n",
        "\tfeature_id 692 file_id 2 mz 104.03010 RT 2454.04 intensity 8.5507e+04\tM+H@103.02283 prob=1.00\n",
        "\tfeature_id 361 file_id 3 mz 104.03009 RT 2155.69 intensity 4.6892e+05\tM+H@103.02281 prob=1.00\n",
        "1078. avg m/z=104.030082448 avg RT=2219.01751709 prob=0.02\n",
        "\tfeature_id 274 file_id 0 mz 104.03012 RT 2114.26 intensity 4.9491e+05\tM+H@103.02284 prob=1.00\n",
        "\tfeature_id 533 file_id 1 mz 104.03004 RT 2233.46 intensity 1.9795e+05\tM+H@103.02276 prob=1.00\n",
        "\tfeature_id 602 file_id 2 mz 104.03009 RT 2405.11 intensity 1.0344e+05\tM+H@103.02282 prob=1.00\n",
        "\tfeature_id 302 file_id 3 mz 104.03009 RT 2123.24 intensity 5.6768e+05\tM+H@103.02281 prob=1.00\n",
        "1079. avg m/z=167.012722 avg RT=2443.66247559 prob=0.02\n",
        "\tfeature_id 171 file_id 0 mz 167.01266 RT 2431.19 intensity 8.9264e+05\tM+H@166.00538 prob=1.00\n",
        "\tfeature_id 149 file_id 1 mz 167.01265 RT 2419.88 intensity 9.0487e+05\tM+H@166.00537 prob=1.00\n",
        "\tfeature_id 50 file_id 2 mz 167.01278 RT 2304.98 intensity 1.9806e+06\tM+H@166.00551 prob=1.00\n",
        "\tfeature_id 174 file_id 3 mz 167.01280 RT 2618.60 intensity 1.0673e+06\tM+H@166.00553 prob=1.00\n",
        "1080. avg m/z=182.985064708 avg RT=2114.98339844 prob=0.02\n",
        "\tfeature_id 602 file_id 0 mz 182.98500 RT 2278.35 intensity 1.8329e+05\tM+H@181.97772 prob=0.50\n",
        "\tfeature_id 153 file_id 1 mz 182.98507 RT 2050.35 intensity 8.6716e+05\tM+H@181.97779 prob=0.50\n",
        "\tfeature_id 45 file_id 3 mz 182.98513 RT 2016.25 intensity 4.6691e+06\tM+H@181.97785 prob=0.50\n",
        "1081. avg m/z=102.033774904 avg RT=2355.33996582 prob=0.02\n",
        "\tfeature_id 18 file_id 0 mz 102.03378 RT 2392.54 intensity 4.8553e+06\tM+H@101.02650 prob=1.00\n",
        "\tfeature_id 13 file_id 1 mz 102.03377 RT 2318.14 intensity 6.8917e+06\tM+H@101.02650 prob=1.00\n",
        "1082. avg m/z=90.5259082984 avg RT=2352.9699707 prob=0.02\n",
        "\tfeature_id 218 file_id 0 mz 90.52590 RT 2145.64 intensity 6.4254e+05\tM+H@89.51863 prob=1.00\n",
        "\tfeature_id 400 file_id 3 mz 90.52591 RT 2560.30 intensity 4.1462e+05\tM+H@89.51864 prob=1.00\n",
        "1083. avg m/z=102.033803602 avg RT=2302.13997396 prob=0.02\n",
        "\tfeature_id 18 file_id 0 mz 102.03378 RT 2392.54 intensity 4.8553e+06\tM+H@101.02650 prob=1.00\n",
        "\tfeature_id 13 file_id 1 mz 102.03377 RT 2318.14 intensity 6.8917e+06\tM+H@101.02650 prob=1.00\n",
        "\tfeature_id 4 file_id 3 mz 102.03386 RT 2195.74 intensity 1.5762e+07\tM+H@101.02658 prob=1.00\n",
        "1084. avg m/z=391.283682413 avg RT=596.115997314 prob=0.02\n",
        "\tfeature_id 688 file_id 0 mz 391.28370 RT 785.25 intensity 1.4274e+05\tM+H@390.27642 prob=1.00\n",
        "\tfeature_id 292 file_id 1 mz 391.28367 RT 406.98 intensity 4.1094e+05\tM+H@390.27639 prob=1.00\n",
        "1085. avg m/z=167.012701347 avg RT=2539.3125 prob=0.02\n",
        "\tfeature_id 326 file_id 0 mz 167.01259 RT 2658.08 intensity 3.9908e+05\tM+H@166.00532 prob=1.00\n",
        "\tfeature_id 183 file_id 1 mz 167.01262 RT 2476.23 intensity 7.0660e+05\tM+H@166.00535 prob=1.00\n",
        "\tfeature_id 80 file_id 2 mz 167.01278 RT 2433.51 intensity 1.0815e+06\tM+H@166.00551 prob=1.00\n",
        "\tfeature_id 168 file_id 3 mz 167.01281 RT 2589.43 intensity 1.1429e+06\tM+H@166.00553 prob=1.00\n",
        "1086. avg m/z=104.030096938 avg RT=2213.6050415 prob=0.02\n",
        "\tfeature_id 274 file_id 0 mz 104.03012 RT 2114.26 intensity 4.9491e+05\tM+H@103.02284 prob=1.00\n",
        "\tfeature_id 231 file_id 1 mz 104.03009 RT 2109.77 intensity 5.3232e+05\tM+H@103.02281 prob=1.00\n",
        "\tfeature_id 764 file_id 2 mz 104.03010 RT 2513.05 intensity 7.2181e+04\tM+H@103.02282 prob=1.00\n",
        "\tfeature_id 298 file_id 3 mz 104.03009 RT 2117.34 intensity 5.8328e+05\tM+H@103.02281 prob=1.00\n",
        "1087. avg m/z=81.5205155596 avg RT=1623.11999512 prob=0.01\n",
        "\tfeature_id 352 file_id 0 mz 81.52051 RT 1684.14 intensity 3.7460e+05\tM+H@80.51324 prob=1.00\n",
        "\tfeature_id 527 file_id 1 mz 81.52052 RT 1562.10 intensity 2.0311e+05\tM+H@80.51324 prob=1.00\n",
        "1088. avg m/z=90.5259073196 avg RT=2319.20996094 prob=0.01\n",
        "\tfeature_id 218 file_id 0 mz 90.52590 RT 2145.64 intensity 6.4254e+05\tM+H@89.51863 prob=1.00\n",
        "\tfeature_id 409 file_id 3 mz 90.52591 RT 2492.78 intensity 4.0698e+05\tM+H@89.51864 prob=1.00\n",
        "1089. avg m/z=73.5318249176 avg RT=2575.54003906 prob=0.01\n",
        "\tfeature_id 395 file_id 0 mz 73.53180 RT 2550.86 intensity 3.2674e+05\tM+H@72.52453 prob=1.00\n",
        "\tfeature_id 374 file_id 1 mz 73.53179 RT 2592.05 intensity 3.1158e+05\tM+H@72.52451 prob=1.00\n",
        "\tfeature_id 691 file_id 2 mz 73.53184 RT 2471.48 intensity 8.5580e+04\tM+H@72.52457 prob=1.00\n",
        "\tfeature_id 603 file_id 3 mz 73.53187 RT 2687.77 intensity 2.6688e+05\tM+H@72.52459 prob=1.00\n",
        "1090. avg m/z=202.06820202 avg RT=1383.13995361 prob=0.01\n",
        "\tfeature_id 499 file_id 0 mz 202.06824 RT 1391.70 intensity 2.2709e+05\tM+H@201.06096 prob=1.00\n",
        "\tfeature_id 400 file_id 1 mz 202.06817 RT 1374.58 intensity 2.8496e+05\tM+H@201.06089 prob=1.00\n",
        "1091. avg m/z=73.531842359 avg RT=2355.02752686 prob=0.01\n",
        "\tfeature_id 318 file_id 0 mz 73.53184 RT 2221.50 intensity 4.1391e+05\tM+H@72.52456 prob=1.00\n",
        "\tfeature_id 312 file_id 1 mz 73.53181 RT 2306.04 intensity 3.8151e+05\tM+H@72.52454 prob=1.00\n",
        "\tfeature_id 562 file_id 2 mz 73.53185 RT 2273.97 intensity 1.1211e+05\tM+H@72.52457 prob=1.00\n",
        "\tfeature_id 588 file_id 3 mz 73.53187 RT 2618.60 intensity 2.7669e+05\tM+H@72.52459 prob=1.00\n",
        "1092. avg m/z=90.525908174 avg RT=2253.41992188 prob=0.01\n",
        "\tfeature_id 218 file_id 0 mz 90.52590 RT 2145.64 intensity 6.4254e+05\tM+H@89.51863 prob=1.00\n",
        "\tfeature_id 292 file_id 2 mz 90.52591 RT 2127.96 intensity 2.4903e+05\tM+H@89.51863 prob=1.00\n",
        "\tfeature_id 432 file_id 3 mz 90.52591 RT 2486.66 intensity 3.8800e+05\tM+H@89.51863 prob=1.00\n",
        "1093. avg m/z=82.5370965024 avg RT=2201.19506836 prob=0.01\n",
        "\tfeature_id 462 file_id 0 mz 82.53710 RT 2069.12 intensity 2.6497e+05\tM+H@81.52983 prob=1.00\n",
        "\tfeature_id 844 file_id 1 mz 82.53709 RT 2333.27 intensity 9.0912e+04\tM+H@81.52981 prob=1.00\n",
        "1094. avg m/z=102.033798763 avg RT=2302.93001302 prob=0.01\n",
        "\tfeature_id 37 file_id 0 mz 102.03376 RT 2488.61 intensity 3.0847e+06\tM+H@101.02648 prob=1.00\n",
        "\tfeature_id 4 file_id 1 mz 102.03379 RT 2236.47 intensity 9.0023e+06\tM+H@101.02651 prob=1.00\n",
        "\tfeature_id 3 file_id 2 mz 102.03385 RT 2183.71 intensity 1.2539e+07\tM+H@101.02657 prob=1.00\n",
        "1095. avg m/z=159.023947666 avg RT=2148.12670898 prob=0.01\n",
        "\tfeature_id 710 file_id 1 mz 159.02390 RT 2074.37 intensity 1.2743e+05\tM+H@158.01663 prob=1.00\n",
        "\tfeature_id 403 file_id 2 mz 159.02396 RT 2147.45 intensity 1.6703e+05\tM+H@158.01669 prob=1.00\n",
        "\tfeature_id 733 file_id 3 mz 159.02397 RT 2222.56 intensity 2.0032e+05\tM+H@158.01670 prob=1.00\n",
        "1096. avg m/z=122.547062335 avg RT=2093.95507812 prob=0.01\n",
        "\tfeature_id 72 file_id 1 mz 122.54706 RT 2201.86 intensity 2.1075e+06\tM+H@121.53978 prob=0.50\n",
        "\tfeature_id 125 file_id 3 mz 122.54707 RT 1986.05 intensity 1.6538e+06\tM+H@121.53979 prob=0.50\n",
        "1097. avg m/z=104.030078805 avg RT=2193.59997559 prob=0.01\n",
        "\tfeature_id 274 file_id 0 mz 104.03012 RT 2114.26 intensity 4.9491e+05\tM+H@103.02284 prob=1.00\n",
        "\tfeature_id 616 file_id 1 mz 104.03003 RT 2303.00 intensity 1.5560e+05\tM+H@103.02275 prob=1.00\n",
        "\tfeature_id 353 file_id 2 mz 104.03009 RT 2233.90 intensity 1.9828e+05\tM+H@103.02281 prob=1.00\n",
        "\tfeature_id 302 file_id 3 mz 104.03009 RT 2123.24 intensity 5.6768e+05\tM+H@103.02281 prob=1.00\n",
        "1098. avg m/z=73.5318440526 avg RT=2273.10498047 prob=0.01\n",
        "\tfeature_id 370 file_id 0 mz 73.53183 RT 2296.79 intensity 3.5668e+05\tM+H@72.52456 prob=1.00\n",
        "\tfeature_id 517 file_id 3 mz 73.53186 RT 2249.42 intensity 3.1667e+05\tM+H@72.52458 prob=1.00\n",
        "1099. avg m/z=73.5318674202 avg RT=2266.39664714 prob=0.01\n",
        "\tfeature_id 278 file_id 0 mz 73.53188 RT 2148.63 intensity 4.9013e+05\tM+H@72.52460 prob=1.00\n",
        "\tfeature_id 490 file_id 2 mz 73.53186 RT 2171.56 intensity 1.3070e+05\tM+H@72.52458 prob=1.00\n",
        "\tfeature_id 533 file_id 3 mz 73.53186 RT 2479.00 intensity 3.0794e+05\tM+H@72.52459 prob=1.00\n",
        "1100. avg m/z=151.035153757 avg RT=2317.8499349 prob=0.01\n",
        "\tfeature_id 537 file_id 0 mz 151.03505 RT 2533.65 intensity 2.0760e+05\tM+H@150.02777 prob=0.50\n",
        "\tfeature_id 233 file_id 1 mz 151.03518 RT 2168.99 intensity 5.2902e+05\tM+H@150.02790 prob=0.50\n",
        "\tfeature_id 252 file_id 3 mz 151.03524 RT 2250.91 intensity 7.1252e+05\tM+H@150.02796 prob=0.50\n",
        "1101. avg m/z=104.030068967 avg RT=2230.01000977 prob=0.01\n",
        "\tfeature_id 356 file_id 0 mz 104.03010 RT 2135.12 intensity 3.7323e+05\tM+H@103.02282 prob=1.00\n",
        "\tfeature_id 715 file_id 1 mz 104.03003 RT 2354.45 intensity 1.2697e+05\tM+H@103.02275 prob=1.00\n",
        "\tfeature_id 302 file_id 2 mz 104.03008 RT 2200.46 intensity 2.3888e+05\tM+H@103.02281 prob=1.00\n",
        "1102. avg m/z=168.015971746 avg RT=2230.80749512 prob=0.01\n",
        "\tfeature_id 432 file_id 0 mz 168.01602 RT 2115.74 intensity 2.9136e+05\tM+H@167.00874 prob=0.51\n",
        "\tfeature_id 792 file_id 1 mz 168.01590 RT 2210.84 intensity 1.0540e+05\tM+H@167.00863 prob=1.00\n",
        "\tfeature_id 838 file_id 2 mz 168.01596 RT 2350.21 intensity 6.3214e+04\tM+H@167.00868 prob=1.00\n",
        "\tfeature_id 774 file_id 3 mz 168.01601 RT 2246.44 intensity 1.8751e+05\tM+H@167.00873 prob=0.83\n",
        "1103. avg m/z=102.532288624 avg RT=2219.35003662 prob=0.01\n",
        "\tfeature_id 534 file_id 0 mz 102.53230 RT 2087.31 intensity 2.0950e+05\tM+H@101.52502 prob=1.00\n",
        "\tfeature_id 800 file_id 1 mz 102.53224 RT 2241.01 intensity 1.0301e+05\tM+H@101.52496 prob=1.00\n",
        "\tfeature_id 848 file_id 2 mz 102.53230 RT 2381.53 intensity 6.2358e+04\tM+H@101.52503 prob=1.00\n",
        "\tfeature_id 618 file_id 3 mz 102.53232 RT 2167.55 intensity 2.5522e+05\tM+H@101.52504 prob=1.00\n",
        "1104. avg m/z=95.0438251294 avg RT=2251.29329427 prob=0.01\n",
        "\tfeature_id 395 file_id 1 mz 95.04381 RT 2182.39 intensity 2.8943e+05\tM+H@94.03653 prob=0.50\n",
        "\tfeature_id 237 file_id 2 mz 95.04384 RT 2156.48 intensity 3.2247e+05\tM+H@94.03656 prob=0.50\n",
        "\tfeature_id 535 file_id 3 mz 95.04383 RT 2415.01 intensity 3.0652e+05\tM+H@94.03656 prob=0.50\n",
        "1105. avg m/z=102.0337871 avg RT=1894.78997803 prob=0.01\n",
        "\tfeature_id 40 file_id 0 mz 102.03373 RT 1971.19 intensity 2.8315e+06\tM+H@101.02645 prob=1.00\n",
        "\tfeature_id 46 file_id 2 mz 102.03385 RT 1818.39 intensity 2.1692e+06\tM+H@101.02657 prob=1.00\n",
        "1106. avg m/z=104.030073121 avg RT=2198.17248535 prob=0.01\n",
        "\tfeature_id 356 file_id 0 mz 104.03010 RT 2135.12 intensity 3.7323e+05\tM+H@103.02282 prob=1.00\n",
        "\tfeature_id 715 file_id 1 mz 104.03003 RT 2354.45 intensity 1.2697e+05\tM+H@103.02275 prob=1.00\n",
        "\tfeature_id 302 file_id 2 mz 104.03008 RT 2200.46 intensity 2.3888e+05\tM+H@103.02281 prob=1.00\n",
        "\tfeature_id 294 file_id 3 mz 104.03009 RT 2102.66 intensity 5.9707e+05\tM+H@103.02281 prob=1.00\n",
        "1107. avg m/z=104.030073794 avg RT=2193.25 prob=0.01\n",
        "\tfeature_id 330 file_id 0 mz 104.03010 RT 2094.85 intensity 3.9161e+05\tM+H@103.02282 prob=1.00\n",
        "\tfeature_id 715 file_id 1 mz 104.03003 RT 2354.45 intensity 1.2697e+05\tM+H@103.02275 prob=1.00\n",
        "\tfeature_id 302 file_id 2 mz 104.03008 RT 2200.46 intensity 2.3888e+05\tM+H@103.02281 prob=1.00\n",
        "\tfeature_id 302 file_id 3 mz 104.03009 RT 2123.24 intensity 5.6768e+05\tM+H@103.02281 prob=1.00\n",
        "1108. avg m/z=102.532284864 avg RT=2248.02661133 prob=0.01\n",
        "\tfeature_id 998 file_id 1 mz 102.53220 RT 2368.15 intensity 6.4608e+04\tM+H@101.52492 prob=1.00\n",
        "\tfeature_id 328 file_id 2 mz 102.53234 RT 2138.45 intensity 2.2164e+05\tM+H@101.52506 prob=1.00\n",
        "\tfeature_id 845 file_id 3 mz 102.53232 RT 2237.48 intensity 1.6596e+05\tM+H@101.52504 prob=1.00\n",
        "1109. avg m/z=90.525911124 avg RT=2307.30993652 prob=0.01\n",
        "\tfeature_id 292 file_id 2 mz 90.52591 RT 2127.96 intensity 2.4903e+05\tM+H@89.51863 prob=1.00\n",
        "\tfeature_id 432 file_id 3 mz 90.52591 RT 2486.66 intensity 3.8800e+05\tM+H@89.51863 prob=1.00\n",
        "1110. avg m/z=122.547075009 avg RT=2548.125 prob=0.01\n",
        "\tfeature_id 131 file_id 0 mz 122.54703 RT 2293.70 intensity 1.3070e+06\tM+H@121.53975 prob=0.50\n",
        "\tfeature_id 194 file_id 3 mz 122.54712 RT 2802.55 intensity 9.7685e+05\tM+H@121.53984 prob=1.00\n",
        "1111. avg m/z=82.5370920928 avg RT=2142.76334635 prob=0.01\n",
        "\tfeature_id 423 file_id 0 mz 82.53711 RT 2046.22 intensity 3.0017e+05\tM+H@81.52983 prob=1.00\n",
        "\tfeature_id 874 file_id 1 mz 82.53709 RT 2315.12 intensity 8.3273e+04\tM+H@81.52981 prob=1.00\n",
        "\tfeature_id 606 file_id 2 mz 82.53708 RT 2066.95 intensity 1.0302e+05\tM+H@81.52981 prob=1.00\n",
        "1112. avg m/z=82.53708744 avg RT=2240.36999512 prob=0.01\n",
        "\tfeature_id 741 file_id 1 mz 82.53709 RT 2413.79 intensity 1.1977e+05\tM+H@81.52981 prob=1.00\n",
        "\tfeature_id 606 file_id 2 mz 82.53708 RT 2066.95 intensity 1.0302e+05\tM+H@81.52981 prob=1.00\n",
        "1113. avg m/z=167.012731441 avg RT=2207.45328776 prob=0.01\n",
        "\tfeature_id 10 file_id 0 mz 167.01282 RT 2114.26 intensity 6.7055e+06\tM+H@166.00554 prob=1.00\n",
        "\tfeature_id 165 file_id 1 mz 167.01263 RT 2444.19 intensity 7.9834e+05\tM+H@166.00535 prob=1.00\n",
        "\tfeature_id 91 file_id 2 mz 167.01275 RT 2063.91 intensity 9.5318e+05\tM+H@166.00547 prob=1.00\n",
        "1114. avg m/z=123.048686607 avg RT=2231.10668945 prob=0.01\n",
        "\tfeature_id 305 file_id 0 mz 123.04872 RT 2103.84 intensity 4.3552e+05\tM+H@122.04144 prob=1.00\n",
        "\tfeature_id 477 file_id 1 mz 123.04865 RT 2209.33 intensity 2.2886e+05\tM+H@122.04138 prob=1.00\n",
        "\tfeature_id 567 file_id 3 mz 123.04869 RT 2380.15 intensity 2.9119e+05\tM+H@122.04141 prob=1.00\n",
        "1115. avg m/z=208.039288384 avg RT=2267.77327474 prob=0.01\n",
        "\tfeature_id 369 file_id 0 mz 208.03927 RT 2115.74 intensity 3.5719e+05\tM+H@207.03199 prob=0.51\n",
        "\tfeature_id 491 file_id 2 mz 208.03927 RT 2373.69 intensity 1.3054e+05\tM+H@207.03199 prob=0.67\n",
        "\tfeature_id 559 file_id 3 mz 208.03933 RT 2313.89 intensity 2.9643e+05\tM+H@207.03205 prob=0.83\n",
        "1116. avg m/z=104.030082968 avg RT=2217.5425415 prob=0.01\n",
        "\tfeature_id 274 file_id 0 mz 104.03012 RT 2114.26 intensity 4.9491e+05\tM+H@103.02284 prob=1.00\n",
        "\tfeature_id 533 file_id 1 mz 104.03004 RT 2233.46 intensity 1.9795e+05\tM+H@103.02276 prob=1.00\n",
        "\tfeature_id 602 file_id 2 mz 104.03009 RT 2405.11 intensity 1.0344e+05\tM+H@103.02282 prob=1.00\n",
        "\tfeature_id 298 file_id 3 mz 104.03009 RT 2117.34 intensity 5.8328e+05\tM+H@103.02281 prob=1.00\n",
        "1117. avg m/z=104.030065036 avg RT=2292.31756592 prob=0.01\n",
        "\tfeature_id 561 file_id 0 mz 104.03006 RT 2224.55 intensity 1.9449e+05\tM+H@103.02279 prob=1.00\n",
        "\tfeature_id 671 file_id 1 mz 104.03002 RT 2381.86 intensity 1.3703e+05\tM+H@103.02275 prob=1.00\n",
        "\tfeature_id 568 file_id 2 mz 104.03009 RT 2389.37 intensity 1.1074e+05\tM+H@103.02282 prob=1.00\n",
        "\tfeature_id 399 file_id 3 mz 104.03008 RT 2173.49 intensity 4.1707e+05\tM+H@103.02281 prob=1.00\n",
        "1118. avg m/z=95.0438000353 avg RT=2279.26000977 prob=0.01\n",
        "\tfeature_id 455 file_id 0 mz 95.04383 RT 2171.21 intensity 2.6929e+05\tM+H@94.03655 prob=0.50\n",
        "\tfeature_id 502 file_id 1 mz 95.04374 RT 2310.59 intensity 2.1358e+05\tM+H@94.03647 prob=0.50\n",
        "\tfeature_id 469 file_id 3 mz 95.04383 RT 2355.98 intensity 3.5613e+05\tM+H@94.03655 prob=0.50\n",
        "1119. avg m/z=167.012700064 avg RT=2523.57501221 prob=0.01\n",
        "\tfeature_id 326 file_id 0 mz 167.01259 RT 2658.08 intensity 3.9908e+05\tM+H@166.00532 prob=1.00\n",
        "\tfeature_id 183 file_id 1 mz 167.01262 RT 2476.23 intensity 7.0660e+05\tM+H@166.00535 prob=1.00\n",
        "\tfeature_id 62 file_id 2 mz 167.01278 RT 2370.56 intensity 1.5313e+06\tM+H@166.00550 prob=1.00\n",
        "\tfeature_id 168 file_id 3 mz 167.01281 RT 2589.43 intensity 1.1429e+06\tM+H@166.00553 prob=1.00\n",
        "1120. avg m/z=123.048652791 avg RT=2321.07751465 prob=0.01\n",
        "\tfeature_id 548 file_id 0 mz 123.04864 RT 2213.83 intensity 2.0386e+05\tM+H@122.04136 prob=1.00\n",
        "\tfeature_id 553 file_id 1 mz 123.04861 RT 2253.10 intensity 1.8483e+05\tM+H@122.04134 prob=1.00\n",
        "\tfeature_id 410 file_id 2 mz 123.04866 RT 2412.97 intensity 1.6509e+05\tM+H@122.04138 prob=1.00\n",
        "\tfeature_id 612 file_id 3 mz 123.04870 RT 2404.41 intensity 2.5749e+05\tM+H@122.04142 prob=1.00\n",
        "1121. avg m/z=89.5067627412 avg RT=2461.60994466 prob=0.01\n",
        "\tfeature_id 610 file_id 0 mz 89.50666 RT 2653.45 intensity 1.7835e+05\tM+H@88.49939 prob=0.50\n",
        "\tfeature_id 847 file_id 2 mz 89.50681 RT 2253.91 intensity 6.2683e+04\tM+H@88.49953 prob=1.00\n",
        "\tfeature_id 755 file_id 3 mz 89.50682 RT 2477.47 intensity 1.9308e+05\tM+H@88.49954 prob=1.00\n",
        "1122. avg m/z=202.068197505 avg RT=1375.13995361 prob=0.01\n",
        "\tfeature_id 438 file_id 0 mz 202.06823 RT 1375.70 intensity 2.8620e+05\tM+H@201.06095 prob=1.00\n",
        "\tfeature_id 400 file_id 1 mz 202.06817 RT 1374.58 intensity 2.8496e+05\tM+H@201.06089 prob=1.00\n",
        "1123. avg m/z=82.5370875687 avg RT=2200.10998535 prob=0.01\n",
        "\tfeature_id 844 file_id 1 mz 82.53709 RT 2333.27 intensity 9.0912e+04\tM+H@81.52981 prob=1.00\n",
        "\tfeature_id 606 file_id 2 mz 82.53708 RT 2066.95 intensity 1.0302e+05\tM+H@81.52981 prob=1.00\n",
        "1124. avg m/z=102.033804347 avg RT=2385.75 prob=0.01\n",
        "\tfeature_id 13 file_id 0 mz 102.03379 RT 2309.11 intensity 6.0534e+06\tM+H@101.02651 prob=1.00\n",
        "\tfeature_id 57 file_id 1 mz 102.03373 RT 2614.89 intensity 2.5202e+06\tM+H@101.02645 prob=1.00\n",
        "\tfeature_id 4 file_id 2 mz 102.03385 RT 2257.00 intensity 8.0350e+06\tM+H@101.02657 prob=1.00\n",
        "\tfeature_id 21 file_id 3 mz 102.03386 RT 2362.00 intensity 8.1443e+06\tM+H@101.02658 prob=1.00\n",
        "1125. avg m/z=102.033793984 avg RT=2528.24249268 prob=0.01\n",
        "\tfeature_id 63 file_id 0 mz 102.03374 RT 2609.81 intensity 2.3463e+06\tM+H@101.02647 prob=1.00\n",
        "\tfeature_id 48 file_id 1 mz 102.03372 RT 2605.78 intensity 2.7703e+06\tM+H@101.02645 prob=1.00\n",
        "\tfeature_id 12 file_id 2 mz 102.03384 RT 2384.66 intensity 4.9054e+06\tM+H@101.02656 prob=1.00\n",
        "\tfeature_id 38 file_id 3 mz 102.03387 RT 2512.72 intensity 5.2813e+06\tM+H@101.02659 prob=1.00\n",
        "1126. avg m/z=73.531818724 avg RT=2506.56994629 prob=0.01\n",
        "\tfeature_id 439 file_id 0 mz 73.53180 RT 2658.08 intensity 2.8575e+05\tM+H@72.52452 prob=1.00\n",
        "\tfeature_id 371 file_id 1 mz 73.53179 RT 2634.64 intensity 3.1344e+05\tM+H@72.52451 prob=1.00\n",
        "\tfeature_id 645 file_id 2 mz 73.53184 RT 2354.92 intensity 9.5080e+04\tM+H@72.52456 prob=1.00\n",
        "\tfeature_id 573 file_id 3 mz 73.53185 RT 2378.64 intensity 2.8501e+05\tM+H@72.52458 prob=1.00\n",
        "1127. avg m/z=102.033794606 avg RT=2307.02001953 prob=0.01\n",
        "\tfeature_id 17 file_id 0 mz 102.03377 RT 2358.55 intensity 4.8934e+06\tM+H@101.02650 prob=1.00\n",
        "\tfeature_id 19 file_id 1 mz 102.03376 RT 2378.80 intensity 5.6590e+06\tM+H@101.02648 prob=1.00\n",
        "\tfeature_id 3 file_id 2 mz 102.03385 RT 2183.71 intensity 1.2539e+07\tM+H@101.02657 prob=1.00\n",
        "1128. avg m/z=167.012728768 avg RT=2243.25325521 prob=0.01\n",
        "\tfeature_id 196 file_id 1 mz 167.01260 RT 2499.14 intensity 6.2798e+05\tM+H@166.00533 prob=1.00\n",
        "\tfeature_id 6 file_id 2 mz 167.01280 RT 2127.96 intensity 7.7470e+06\tM+H@166.00553 prob=1.00\n",
        "\tfeature_id 13 file_id 3 mz 167.01278 RT 2102.66 intensity 1.0666e+07\tM+H@166.00551 prob=1.00\n",
        "1129. avg m/z=73.5318471416 avg RT=2260.31998698 prob=0.01\n",
        "\tfeature_id 362 file_id 0 mz 73.53182 RT 2304.50 intensity 3.6313e+05\tM+H@72.52455 prob=1.00\n",
        "\tfeature_id 490 file_id 2 mz 73.53186 RT 2171.56 intensity 1.3070e+05\tM+H@72.52458 prob=1.00\n",
        "\tfeature_id 594 file_id 3 mz 73.53186 RT 2304.90 intensity 2.7230e+05\tM+H@72.52458 prob=1.00\n",
        "1130. avg m/z=73.5318201399 avg RT=2215.53995768 prob=0.01\n",
        "\tfeature_id 333 file_id 0 mz 73.53184 RT 2253.79 intensity 3.8884e+05\tM+H@72.52456 prob=1.00\n",
        "\tfeature_id 131 file_id 2 mz 73.53177 RT 2066.95 intensity 6.8989e+05\tM+H@72.52449 prob=1.00\n",
        "\tfeature_id 595 file_id 3 mz 73.53185 RT 2325.88 intensity 2.7193e+05\tM+H@72.52458 prob=1.00\n",
        "1131. avg m/z=104.030083156 avg RT=2227.13000488 prob=0.01\n",
        "\tfeature_id 274 file_id 0 mz 104.03012 RT 2114.26 intensity 4.9491e+05\tM+H@103.02284 prob=1.00\n",
        "\tfeature_id 533 file_id 1 mz 104.03004 RT 2233.46 intensity 1.9795e+05\tM+H@103.02276 prob=1.00\n",
        "\tfeature_id 602 file_id 2 mz 104.03009 RT 2405.11 intensity 1.0344e+05\tM+H@103.02282 prob=1.00\n",
        "\tfeature_id 361 file_id 3 mz 104.03009 RT 2155.69 intensity 4.6892e+05\tM+H@103.02281 prob=1.00\n",
        "1132. avg m/z=159.023948074 avg RT=2160.85009766 prob=0.01\n",
        "\tfeature_id 851 file_id 0 mz 159.02392 RT 2087.31 intensity 9.7275e+04\tM+H@158.01665 prob=1.00\n",
        "\tfeature_id 308 file_id 2 mz 159.02396 RT 2109.87 intensity 2.3564e+05\tM+H@158.01668 prob=1.00\n",
        "\tfeature_id 750 file_id 3 mz 159.02396 RT 2285.37 intensity 1.9415e+05\tM+H@158.01668 prob=1.00\n",
        "1133. avg m/z=123.048657363 avg RT=2249.45001221 prob=0.01\n",
        "\tfeature_id 548 file_id 0 mz 123.04864 RT 2213.83 intensity 2.0386e+05\tM+H@122.04136 prob=1.00\n",
        "\tfeature_id 553 file_id 1 mz 123.04861 RT 2253.10 intensity 1.8483e+05\tM+H@122.04134 prob=1.00\n",
        "\tfeature_id 127 file_id 2 mz 123.04868 RT 2126.46 intensity 7.1572e+05\tM+H@122.04140 prob=1.00\n",
        "\tfeature_id 612 file_id 3 mz 123.04870 RT 2404.41 intensity 2.5749e+05\tM+H@122.04142 prob=1.00\n",
        "1134. avg m/z=102.033793436 avg RT=2533.34997559 prob=0.01\n",
        "\tfeature_id 62 file_id 0 mz 102.03374 RT 2592.70 intensity 2.3550e+06\tM+H@101.02647 prob=1.00\n",
        "\tfeature_id 53 file_id 1 mz 102.03373 RT 2736.46 intensity 2.6317e+06\tM+H@101.02645 prob=1.00\n",
        "\tfeature_id 12 file_id 2 mz 102.03384 RT 2384.66 intensity 4.9054e+06\tM+H@101.02656 prob=1.00\n",
        "\tfeature_id 27 file_id 3 mz 102.03386 RT 2419.58 intensity 7.1288e+06\tM+H@101.02658 prob=1.00\n",
        "1135. avg m/z=293.134237676 avg RT=1355.375 prob=0.01\n",
        "\tfeature_id 951 file_id 2 mz 293.13419 RT 1359.08 intensity 5.0295e+04\tM+H@292.12691 prob=1.00\n",
        "\tfeature_id 321 file_id 3 mz 293.13429 RT 1351.67 intensity 5.3334e+05\tM+H@292.12701 prob=1.00\n",
        "1136. avg m/z=102.033815962 avg RT=2258.85253906 prob=0.01\n",
        "\tfeature_id 37 file_id 0 mz 102.03376 RT 2488.61 intensity 3.0847e+06\tM+H@101.02648 prob=1.00\n",
        "\tfeature_id 4 file_id 1 mz 102.03379 RT 2236.47 intensity 9.0023e+06\tM+H@101.02651 prob=1.00\n",
        "\tfeature_id 2 file_id 2 mz 102.03386 RT 2127.96 intensity 1.9983e+07\tM+H@101.02658 prob=1.00\n",
        "\tfeature_id 3 file_id 3 mz 102.03386 RT 2182.37 intensity 1.6411e+07\tM+H@101.02658 prob=1.00\n",
        "1137. avg m/z=89.5067386001 avg RT=2457.61999512 prob=0.01\n",
        "\tfeature_id 555 file_id 0 mz 89.50666 RT 2746.70 intensity 2.0098e+05\tM+H@88.49938 prob=0.50\n",
        "\tfeature_id 777 file_id 2 mz 89.50682 RT 2168.54 intensity 7.0303e+04\tM+H@88.49954 prob=1.00\n",
        "1138. avg m/z=102.033797426 avg RT=2288.4366862 prob=0.01\n",
        "\tfeature_id 17 file_id 0 mz 102.03377 RT 2358.55 intensity 4.8934e+06\tM+H@101.02650 prob=1.00\n",
        "\tfeature_id 19 file_id 1 mz 102.03376 RT 2378.80 intensity 5.6590e+06\tM+H@101.02648 prob=1.00\n",
        "\tfeature_id 2 file_id 2 mz 102.03386 RT 2127.96 intensity 1.9983e+07\tM+H@101.02658 prob=1.00\n",
        "1139. avg m/z=123.048639984 avg RT=2294.37003581 prob=0.01\n",
        "\tfeature_id 695 file_id 0 mz 123.04863 RT 2278.35 intensity 1.4118e+05\tM+H@122.04136 prob=1.00\n",
        "\tfeature_id 703 file_id 1 mz 123.04861 RT 2292.37 intensity 1.2916e+05\tM+H@122.04133 prob=1.00\n",
        "\tfeature_id 436 file_id 3 mz 123.04868 RT 2312.39 intensity 3.8435e+05\tM+H@122.04140 prob=1.00\n",
        "1140. avg m/z=151.035161817 avg RT=2267.57999674 prob=0.01\n",
        "\tfeature_id 379 file_id 0 mz 151.03513 RT 2270.66 intensity 3.4782e+05\tM+H@150.02786 prob=0.50\n",
        "\tfeature_id 341 file_id 1 mz 151.03510 RT 2355.98 intensity 3.5638e+05\tM+H@150.02783 prob=0.50\n",
        "\tfeature_id 178 file_id 2 mz 151.03525 RT 2176.10 intensity 4.9154e+05\tM+H@150.02797 prob=0.50\n",
        "1141. avg m/z=82.0222509036 avg RT=2300.50992839 prob=0.01\n",
        "\tfeature_id 535 file_id 0 mz 82.02224 RT 2204.65 intensity 2.0922e+05\tM+H@81.01496 prob=1.00\n",
        "\tfeature_id 757 file_id 1 mz 82.02225 RT 2552.44 intensity 1.1321e+05\tM+H@81.01497 prob=1.00\n",
        "\tfeature_id 518 file_id 2 mz 82.02227 RT 2144.44 intensity 1.2181e+05\tM+H@81.01499 prob=1.00\n"
       ]
      }
     ],
     "prompt_number": 9
    },
    {
     "cell_type": "markdown",
     "metadata": {},
     "source": [
      "Report above shows the list of numbered aligned peaksets (excluding the singleton peaksets), alongside their probabilit values, and the precursor mass and adduct type annotations for each peak."
     ]
    },
    {
     "cell_type": "code",
     "collapsed": false,
     "input": [
      "probs = np.array(probs) \n",
      "plt.figure()\n",
      "plt.hist(probs, 10)\n",
      "plt.title(\"Aligned peaksets probabilities\")\n",
      "plt.xlabel(\"Probabilities\")\n",
      "plt.ylabel(\"Count\")\n",
      "plt.show()"
     ],
     "language": "python",
     "metadata": {},
     "outputs": [
      {
       "metadata": {},
       "output_type": "display_data",
       "png": "[encoded data removed]",
       "text": [
        "<matplotlib.figure.Figure at 0x7f05f0bc3590>"
       ]
      }
     ],
     "prompt_number": 10
    },
    {
     "cell_type": "code",
     "collapsed": false,
     "input": [
      "end = time.time()\n",
      "utils.timer(\"TOTAL ELAPSED TIME\", start, end)"
     ],
     "language": "python",
     "metadata": {},
     "outputs": [
      {
       "output_type": "stream",
       "stream": "stdout",
       "text": [
        "TOTAL ELAPSED TIME 00 hours 14 minutes 24.46 seconds\n"
       ]
      }
     ],
     "prompt_number": 11
    },
    {
     "cell_type": "heading",
     "level": 3,
     "metadata": {},
     "source": [
      "Step 4"
     ]
    },
    {
     "cell_type": "markdown",
     "metadata": {},
     "source": [
      "Evaluate performance .."
     ]
    }
   ],
   "metadata": {}
  }
 ]
}