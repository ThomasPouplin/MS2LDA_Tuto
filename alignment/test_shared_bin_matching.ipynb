{
 "metadata": {
  "name": "",
  "signature": "sha256:b19c242d3ba8acdc81d9cc37bb0aade5d56692b92d3eae3d0af48d766ac94303"
 },
 "nbformat": 3,
 "nbformat_minor": 0,
 "worksheets": [
  {
   "cells": [
    {
     "cell_type": "heading",
     "level": 3,
     "metadata": {},
     "source": [
      "Preliminary"
     ]
    },
    {
     "cell_type": "markdown",
     "metadata": {},
     "source": [
      "Import some stuff"
     ]
    },
    {
     "cell_type": "code",
     "collapsed": false,
     "input": [
      "import sys\n",
      "\n",
      "basedir = '../'\n",
      "sys.path.append(basedir) # need to do this to be able to import the stuff below\n",
      "\n",
      "import itertools\n",
      "from operator import attrgetter\n",
      "from operator import itemgetter\n",
      "import time\n",
      "\n",
      "from discretisation.discrete_mass_clusterer import DiscreteVB\n",
      "from discretisation.continuous_mass_clusterer import ContinuousVB\n",
      "from discretisation.models import HyperPars\n",
      "from discretisation.plotting import ClusterPlotter\n",
      "from discretisation.preprocessing import FileLoader\n",
      "import discretisation.utils as utils\n",
      "from dp_rt_clusterer import DpMixtureGibbs\n",
      "\n",
      "%pylab inline"
     ],
     "language": "python",
     "metadata": {},
     "outputs": [
      {
       "output_type": "stream",
       "stream": "stdout",
       "text": [
        "Populating the interactive namespace from numpy and matplotlib\n"
       ]
      }
     ],
     "prompt_number": 1
    },
    {
     "cell_type": "markdown",
     "metadata": {},
     "source": [
      "Define a whole bunch of useful functions"
     ]
    },
    {
     "cell_type": "code",
     "collapsed": false,
     "input": [
      "def plot_hist(mapping, filename, mass_tol, rt_tol):\n",
      "    no_trans = (mapping > 0).sum(1)\n",
      "    mini_hist = []\n",
      "    for i in np.arange(10) + 1:\n",
      "        mini_hist.append((no_trans == i).sum())\n",
      "    print 'mini_hist ' + str(mini_hist)\n",
      "    plt.figure()\n",
      "    plt.subplot(1, 2, 1)\n",
      "    plt.bar(np.arange(10) + 1, mini_hist)\n",
      "    title = 'Binning -- MASS_TOL ' + str(mass_tol) + ', RT_TOL ' + str(rt_tol)\n",
      "    plt.title(title)\n",
      "    plt.subplot(1, 2, 2)\n",
      "    plt.spy(mapping, markersize=1)\n",
      "    plt.title('possible')\n",
      "    plt.suptitle(filename)\n",
      "    plt.show()     \n",
      "    \n",
      "def annotate(annotations, feature, msg):\n",
      "    if feature in annotations:\n",
      "        current_msg = annotations[feature]\n",
      "        annotations[feature] = current_msg + \" \" + msg\n",
      "    else:\n",
      "        annotations[feature] = msg\n",
      "    \n",
      "def get_transformation_map(transformations):\n",
      "    tmap = {}\n",
      "    t = 1\n",
      "    for trans in transformations:\n",
      "        tmap[t] = trans\n",
      "        t += 1\n",
      "    return tmap"
     ],
     "language": "python",
     "metadata": {},
     "outputs": [],
     "prompt_number": 2
    },
    {
     "cell_type": "markdown",
     "metadata": {},
     "source": [
      "Parameters. Here we load 3 std1 pos files and process them with the following parameters."
     ]
    },
    {
     "cell_type": "code",
     "collapsed": false,
     "input": [
      "start = time.time()\n",
      "\n",
      "database = '../discretisation/database/std1_mols.csv'\n",
      "transformation = '../discretisation/mulsubs/mulsub2.txt'\n",
      "input_file = './input/std1_csv_2'\n",
      "\n",
      "binning_mass_tol = 2.0                  # mass tolerance in ppm when binning\n",
      "binning_rt_tol = 60.0                   # rt tolerance in seconds when binning\n",
      "within_file_rt_sd = 10.0                # standard deviation of each cluster when clustering by precursor masses in a single file\n",
      "across_file_rt_sd = 30.0                # standard deviation of mixture component when clustering by RT across files\n",
      "alpha_mass = 10000.0                    # concentration parameter for precursor mass clustering\n",
      "alpha_rt = 10000.0                      # concentration parameter for DP mixture on RT\n",
      "t = 0.50                                # threshold for cluster membership for precursor mass clustering\n",
      "limit_n = 1000                          # the number of features to load per file to make debugging easier, -1 to load all\n",
      "\n",
      "mass_clustering_n_iterations = 20       # no. of iterations for VB precursor clustering\n",
      "rt_clustering_nsamps = 200              # no. of total samples for Gibbs RT clustering\n",
      "rt_clustering_burnin = 100              # no. of burn-in samples for Gibbs RT clustering"
     ],
     "language": "python",
     "metadata": {},
     "outputs": [],
     "prompt_number": 3
    },
    {
     "cell_type": "heading",
     "level": 3,
     "metadata": {},
     "source": [
      "Step 1"
     ]
    },
    {
     "cell_type": "markdown",
     "metadata": {},
     "source": [
      "First stage clustering. Here we do the usual precursor mass clustering of peak features to some common bins shared across files"
     ]
    },
    {
     "cell_type": "code",
     "collapsed": false,
     "input": [
      "# First stage clustering. \n",
      "# Here we cluster peak features by their precursor masses to the common bins shared across files.\n",
      "loader = FileLoader()\n",
      "data_list = loader.load_model_input(input_file, database, transformation, binning_mass_tol, binning_rt_tol, limit_n=limit_n)\n",
      "transformations = data_list[0].transformations\n",
      "tmap = get_transformation_map(transformations)\n",
      "all_bins = []\n",
      "posterior_bin_rts = []    \n",
      "annotations = {}\n",
      "\n",
      "file_bins = []\n",
      "file_post_rts = []\n",
      "\n",
      "for j in range(len(data_list)):\n",
      "\n",
      "    # run precursor mass clustering\n",
      "    peak_data = data_list[j]\n",
      "    plot_hist(peak_data.possible, input_file, binning_mass_tol, binning_rt_tol)\n",
      "    print \"Clustering file \" + str(j) + \" by precursor masses\"\n",
      "    hp = HyperPars()\n",
      "    hp.rt_prec = 1.0/(within_file_rt_sd*within_file_rt_sd)\n",
      "    hp.alpha = alpha_mass\n",
      "    # discrete = DiscreteVB(peak_data, hp)\n",
      "    discrete = ContinuousVB(peak_data, hp)\n",
      "    discrete.n_iterations = mass_clustering_n_iterations\n",
      "    print discrete\n",
      "    discrete.run()\n",
      "\n",
      "    # pick the non-empty bins for the second stage clustering\n",
      "    cluster_membership = (discrete.Z>t)\n",
      "    s = cluster_membership.sum(0)\n",
      "    nnz_idx = s.nonzero()[1]  \n",
      "    nnz_idx = np.squeeze(np.asarray(nnz_idx)) # flatten the thing\n",
      "\n",
      "    # find the non-empty bins\n",
      "    bins = [peak_data.bins[a] for a in nnz_idx]\n",
      "    all_bins.extend(bins)\n",
      "    file_bins.append(bins)\n",
      "\n",
      "    # find the non-empty bins' posterior RT values\n",
      "    bin_rts = discrete.cluster_rt_mean[nnz_idx]\n",
      "    plt.figure()\n",
      "    plt.plot(bin_rts, '.b')\n",
      "    bin_rts = bin_rts.ravel().tolist()\n",
      "    posterior_bin_rts.extend(bin_rts)\n",
      "    file_post_rts.append(bin_rts)\n",
      "\n",
      "    # make some plots\n",
      "    cp = ClusterPlotter(peak_data, discrete)\n",
      "    cp.summary(file_idx=j)\n",
      "    # cp.plot_biggest(3)        \n",
      "\n",
      "    # assign peaks into their respective bins, \n",
      "    # this makes it easier when matching peaks across the same bins later\n",
      "    # note: a peak can belong to multiple bins, depending on the choice of threshold t\n",
      "    cx = cluster_membership.tocoo()\n",
      "    for i,j,v in itertools.izip(cx.row, cx.col, cx.data):\n",
      "        f = peak_data.features[i]\n",
      "        bb = peak_data.bins[j] # copy of the common bin specific to file j\n",
      "        bb.add_feature(f)    \n",
      "        # annotate each feature by its precursor mass & adduct type probabilities, for reporting later\n",
      "        bin_prob = discrete.Z[i, j]\n",
      "        trans_idx = discrete.possible[i, j]\n",
      "        tran = tmap[trans_idx]\n",
      "        msg = \"{:s}@{:3.5f} prob={:.2f}\".format(tran.name, bb.mass, bin_prob)            \n",
      "        annotate(annotations, f, msg)"
     ],
     "language": "python",
     "metadata": {},
     "outputs": [
      {
       "output_type": "stream",
       "stream": "stdout",
       "text": [
        "4999 features read from std1-file1.identified.csv\n",
        "Using only 1000 features from std1-file1.identified.csv\n",
        "5792 features read from std3-file1.identified.csv"
       ]
      },
      {
       "output_type": "stream",
       "stream": "stdout",
       "text": [
        "\n",
        "Using only 1000 features from std3-file1.identified.csv\n",
        "Discretising at mass_tol=2.0, rt_tol=60.0\n",
        "Making common bins\t....."
       ]
      },
      {
       "output_type": "stream",
       "stream": "stdout",
       "text": [
        "..."
       ]
      },
      {
       "output_type": "stream",
       "stream": "stdout",
       "text": [
        "..\n"
       ]
      },
      {
       "output_type": "stream",
       "stream": "stdout",
       "text": [
        "Total clusters=1023 total features=2000\n",
        "Discretising file 0\t.."
       ]
      },
      {
       "output_type": "stream",
       "stream": "stdout",
       "text": [
        ".."
       ]
      },
      {
       "output_type": "stream",
       "stream": "stdout",
       "text": [
        ".\n"
       ]
      },
      {
       "output_type": "stream",
       "stream": "stdout",
       "text": [
        "Discretising file 1\t.."
       ]
      },
      {
       "output_type": "stream",
       "stream": "stdout",
       "text": [
        ".."
       ]
      },
      {
       "output_type": "stream",
       "stream": "stdout",
       "text": [
        ".\n"
       ]
      },
      {
       "output_type": "stream",
       "stream": "stdout",
       "text": [
        "mini_hist [621, 300, 51, 28, 0, 0, 0, 0, 0, 0]\n"
       ]
      },
      {
       "metadata": {},
       "output_type": "display_data",
       "png": "[encoded data removed]",
       "text": [
        "<matplotlib.figure.Figure at 0x7f57dfd7f3d0>"
       ]
      },
      {
       "output_type": "stream",
       "stream": "stdout",
       "text": [
        "Clustering file 0 by precursor masses\n",
        "Continuous Clusterer initialised - wow\n",
        "Variational Bayes for continuous mass model\n",
        "Hyperparameters alpha=10000.0, mass_prec=100, mass_prior_prec=100, rt_prec=0.01, rt_prior_prec=100\n",
        "n_iterations = 20\n",
        "Running the clustering\n",
        "379 peaks to be re-sampled\n",
        "Iteration 0"
       ]
      },
      {
       "output_type": "stream",
       "stream": "stdout",
       "text": [
        "\n"
       ]
      },
      {
       "ename": "AttributeError",
       "evalue": "rts not found",
       "output_type": "pyerr",
       "traceback": [
        "\u001b[1;31m---------------------------------------------------------------------------\u001b[0m\n\u001b[1;31mAttributeError\u001b[0m                            Traceback (most recent call last)",
        "\u001b[1;32m<ipython-input-4-5abd09b0a97b>\u001b[0m in \u001b[0;36m<module>\u001b[1;34m()\u001b[0m\n\u001b[0;32m     25\u001b[0m     \u001b[0mdiscrete\u001b[0m\u001b[1;33m.\u001b[0m\u001b[0mn_iterations\u001b[0m \u001b[1;33m=\u001b[0m \u001b[0mmass_clustering_n_iterations\u001b[0m\u001b[1;33m\u001b[0m\u001b[0m\n\u001b[0;32m     26\u001b[0m     \u001b[1;32mprint\u001b[0m \u001b[0mdiscrete\u001b[0m\u001b[1;33m\u001b[0m\u001b[0m\n\u001b[1;32m---> 27\u001b[1;33m     \u001b[0mdiscrete\u001b[0m\u001b[1;33m.\u001b[0m\u001b[0mrun\u001b[0m\u001b[1;33m(\u001b[0m\u001b[1;33m)\u001b[0m\u001b[1;33m\u001b[0m\u001b[0m\n\u001b[0m\u001b[0;32m     28\u001b[0m \u001b[1;33m\u001b[0m\u001b[0m\n\u001b[0;32m     29\u001b[0m     \u001b[1;31m# pick the non-empty bins for the second stage clustering\u001b[0m\u001b[1;33m\u001b[0m\u001b[1;33m\u001b[0m\u001b[0m\n",
        "\u001b[1;32m/home/joewandy/git/metabolomics_tools/alignment/input/discretisation/continuous_mass_clusterer.py\u001b[0m in \u001b[0;36mrun\u001b[1;34m(self)\u001b[0m\n",
        "\u001b[1;32m/usr/lib64/python2.7/site-packages/scipy/sparse/base.pyc\u001b[0m in \u001b[0;36m__getattr__\u001b[1;34m(self, attr)\u001b[0m\n\u001b[0;32m    497\u001b[0m             \u001b[1;32mreturn\u001b[0m \u001b[0mself\u001b[0m\u001b[1;33m.\u001b[0m\u001b[0mgetnnz\u001b[0m\u001b[1;33m(\u001b[0m\u001b[1;33m)\u001b[0m\u001b[1;33m\u001b[0m\u001b[0m\n\u001b[0;32m    498\u001b[0m         \u001b[1;32melse\u001b[0m\u001b[1;33m:\u001b[0m\u001b[1;33m\u001b[0m\u001b[0m\n\u001b[1;32m--> 499\u001b[1;33m             \u001b[1;32mraise\u001b[0m \u001b[0mAttributeError\u001b[0m\u001b[1;33m(\u001b[0m\u001b[0mattr\u001b[0m \u001b[1;33m+\u001b[0m \u001b[1;34m\" not found\"\u001b[0m\u001b[1;33m)\u001b[0m\u001b[1;33m\u001b[0m\u001b[0m\n\u001b[0m\u001b[0;32m    500\u001b[0m \u001b[1;33m\u001b[0m\u001b[0m\n\u001b[0;32m    501\u001b[0m     \u001b[1;32mdef\u001b[0m \u001b[0mtranspose\u001b[0m\u001b[1;33m(\u001b[0m\u001b[0mself\u001b[0m\u001b[1;33m)\u001b[0m\u001b[1;33m:\u001b[0m\u001b[1;33m\u001b[0m\u001b[0m\n",
        "\u001b[1;31mAttributeError\u001b[0m: rts not found"
       ]
      }
     ],
     "prompt_number": 4
    },
    {
     "cell_type": "markdown",
     "metadata": {},
     "source": [
      "Notice the distribution of values in the Z matrices (peak to cluster assignment) for each file. This kind of suggests that the problem doesn't have to be solved by a probability model at all? i.e. the graph-based approach in CAMERA is good enough. Especially for high precision mass spec."
     ]
    },
    {
     "cell_type": "markdown",
     "metadata": {},
     "source": [
      "Plot posterior RTs of the same bins across files"
     ]
    },
    {
     "cell_type": "code",
     "collapsed": false,
     "input": [
      "def find_same_id(key, items):\n",
      "    for a in range(len(items)):\n",
      "        check = items[a]\n",
      "        if key.bin_id == check.bin_id:\n",
      "            return a, check\n",
      "    return 0, None\n",
      "\n",
      "first_bins = file_bins[0]\n",
      "first_rts = file_post_rts[0]\n",
      "second_bins = file_bins[1]\n",
      "second_rts = file_post_rts[1]\n",
      "print len(first_bins)\n",
      "print len(first_rts)\n",
      "print len(second_bins)\n",
      "print len(second_rts)\n",
      "\n",
      "xs = []\n",
      "ys = []\n",
      "for j1 in range(len(first_bins)):\n",
      "    bin1 = first_bins[j1]\n",
      "    j2, bin2 = find_same_id(bin1, second_bins)\n",
      "    if bin2 is not None:        \n",
      "        rt1 = first_rts[j1]\n",
      "        rt2 = second_rts[j2]\n",
      "        xs.append(rt1)\n",
      "        ys.append(rt2)\n",
      "        \n",
      "plt.figure()\n",
      "plt.plot(np.array(xs), np.array(ys), '.b', markersize=1)\n",
      "plt.xlabel('File 0')\n",
      "plt.ylabel('File 1')\n",
      "plt.title('Bin-vs-bin posterior RTs')\n",
      "\n",
      "sizes = []\n",
      "for bin1 in first_bins:\n",
      "    sizes.append(bin1.get_features_count())\n",
      "plt.figure()\n",
      "plt.plot(np.array(sizes), 'r.')\n",
      "sizes = []\n",
      "for bin2 in second_bins:\n",
      "    sizes.append(bin2.get_features_count())\n",
      "plt.plot(np.array(sizes), 'g.')\n",
      "plt.title('Bin sizes in file 0 & 1')"
     ],
     "language": "python",
     "metadata": {},
     "outputs": [
      {
       "output_type": "stream",
       "stream": "stdout",
       "text": [
        "552\n",
        "552\n",
        "564\n",
        "564\n"
       ]
      },
      {
       "metadata": {},
       "output_type": "pyout",
       "prompt_number": 5,
       "text": [
        "<matplotlib.text.Text at 0x7f7e2391fa50>"
       ]
      },
      {
       "metadata": {},
       "output_type": "display_data",
       "png": "[encoded data removed]",
       "text": [
        "<matplotlib.figure.Figure at 0x7f7e23a4bd50>"
       ]
      },
      {
       "metadata": {},
       "output_type": "display_data",
       "png": "[encoded data removed]",
       "text": [
        "<matplotlib.figure.Figure at 0x7f7e44652190>"
       ]
      }
     ],
     "prompt_number": 5
    },
    {
     "cell_type": "heading",
     "level": 3,
     "metadata": {},
     "source": [
      "Step 2"
     ]
    },
    {
     "cell_type": "markdown",
     "metadata": {},
     "source": [
      "Second stage clustering. Here we cluster the bins across all the fils using a DP mixture on the posterior RT values of the bins."
     ]
    },
    {
     "cell_type": "code",
     "collapsed": false,
     "input": [
      "# Second-stage clustering\n",
      "N = len(all_bins)\n",
      "assert N == len(posterior_bin_rts)\n",
      "\n",
      "# Here we cluster the 'concrete' common bins across files by their posterior RT values\n",
      "hp = HyperPars()\n",
      "hp.rt_prec = 1.0/(across_file_rt_sd*across_file_rt_sd)\n",
      "hp.rt_prior_prec = 5E-3\n",
      "hp.alpha = alpha_rt\n",
      "data = (posterior_bin_rts, all_bins)\n",
      "dp = DpMixtureGibbs(data, hp)\n",
      "dp.nsamps = rt_clustering_nsamps\n",
      "dp.burn_in = rt_clustering_burnin\n",
      "dp.run()"
     ],
     "language": "python",
     "metadata": {},
     "outputs": [
      {
       "output_type": "stream",
       "stream": "stdout",
       "text": [
        "DpMixtureGibbs initialised\n",
        "\tBURN-IN\tIteration 1\ttime 0.12\tnumClusters 57"
       ]
      },
      {
       "output_type": "stream",
       "stream": "stdout",
       "text": [
        "\n"
       ]
      },
      {
       "output_type": "stream",
       "stream": "stdout",
       "text": [
        "\tBURN-IN\tIteration 2\ttime 0.13\tnumClusters 45\n"
       ]
      },
      {
       "output_type": "stream",
       "stream": "stdout",
       "text": [
        "\tBURN-IN\tIteration 3\ttime 0.13\tnumClusters 46\n"
       ]
      },
      {
       "output_type": "stream",
       "stream": "stdout",
       "text": [
        "\tBURN-IN\tIteration 4\ttime 0.13\tnumClusters 53\n"
       ]
      },
      {
       "output_type": "stream",
       "stream": "stdout",
       "text": [
        "\tBURN-IN\tIteration 5\ttime 0.13\tnumClusters 56\n"
       ]
      },
      {
       "output_type": "stream",
       "stream": "stdout",
       "text": [
        "\tBURN-IN\tIteration 6\ttime 0.13\tnumClusters 57\n"
       ]
      },
      {
       "output_type": "stream",
       "stream": "stdout",
       "text": [
        "\tBURN-IN\tIteration 7\ttime 0.14\tnumClusters 59\n"
       ]
      },
      {
       "output_type": "stream",
       "stream": "stdout",
       "text": [
        "\tBURN-IN\tIteration 8\ttime 0.14\tnumClusters 57\n"
       ]
      },
      {
       "output_type": "stream",
       "stream": "stdout",
       "text": [
        "\tBURN-IN\tIteration 9\ttime 0.13\tnumClusters 59\n"
       ]
      },
      {
       "output_type": "stream",
       "stream": "stdout",
       "text": [
        "\tBURN-IN\tIteration 10\ttime 0.14\tnumClusters 63\n"
       ]
      },
      {
       "output_type": "stream",
       "stream": "stdout",
       "text": [
        "\tBURN-IN\tIteration 11\ttime 0.13\tnumClusters 57\n"
       ]
      },
      {
       "output_type": "stream",
       "stream": "stdout",
       "text": [
        "\tBURN-IN\tIteration 12\ttime 0.13\tnumClusters 60\n"
       ]
      },
      {
       "output_type": "stream",
       "stream": "stdout",
       "text": [
        "\tBURN-IN\tIteration 13\ttime 0.13\tnumClusters 57\n"
       ]
      },
      {
       "output_type": "stream",
       "stream": "stdout",
       "text": [
        "\tBURN-IN\tIteration 14\ttime 0.13\tnumClusters 57\n"
       ]
      },
      {
       "output_type": "stream",
       "stream": "stdout",
       "text": [
        "\tBURN-IN\tIteration 15\ttime 0.13\tnumClusters 57\n"
       ]
      },
      {
       "output_type": "stream",
       "stream": "stdout",
       "text": [
        "\tBURN-IN\tIteration 16\ttime 0.13\tnumClusters 58\n"
       ]
      },
      {
       "output_type": "stream",
       "stream": "stdout",
       "text": [
        "\tBURN-IN\tIteration 17\ttime 0.13\tnumClusters 58\n"
       ]
      },
      {
       "output_type": "stream",
       "stream": "stdout",
       "text": [
        "\tBURN-IN\tIteration 18\ttime 0.13\tnumClusters 60\n"
       ]
      },
      {
       "output_type": "stream",
       "stream": "stdout",
       "text": [
        "\tBURN-IN\tIteration 19\ttime 0.13\tnumClusters 59\n"
       ]
      },
      {
       "output_type": "stream",
       "stream": "stdout",
       "text": [
        "\tBURN-IN\tIteration 20\ttime 0.13\tnumClusters 57\n"
       ]
      },
      {
       "output_type": "stream",
       "stream": "stdout",
       "text": [
        "\tBURN-IN\tIteration 21\ttime 0.13\tnumClusters 58\n"
       ]
      },
      {
       "output_type": "stream",
       "stream": "stdout",
       "text": [
        "\tBURN-IN\tIteration 22\ttime 0.13\tnumClusters 59\n"
       ]
      },
      {
       "output_type": "stream",
       "stream": "stdout",
       "text": [
        "\tBURN-IN\tIteration 23\ttime 0.13\tnumClusters 58\n"
       ]
      },
      {
       "output_type": "stream",
       "stream": "stdout",
       "text": [
        "\tBURN-IN\tIteration 24\ttime 0.13\tnumClusters 60\n"
       ]
      },
      {
       "output_type": "stream",
       "stream": "stdout",
       "text": [
        "\tBURN-IN\tIteration 25\ttime 0.13\tnumClusters 58\n"
       ]
      },
      {
       "output_type": "stream",
       "stream": "stdout",
       "text": [
        "\tBURN-IN\tIteration 26\ttime 0.13\tnumClusters 51\n"
       ]
      },
      {
       "output_type": "stream",
       "stream": "stdout",
       "text": [
        "\tBURN-IN\tIteration 27\ttime 0.13\tnumClusters 46\n"
       ]
      },
      {
       "output_type": "stream",
       "stream": "stdout",
       "text": [
        "\tBURN-IN\tIteration 28\ttime 0.13\tnumClusters 40\n"
       ]
      },
      {
       "output_type": "stream",
       "stream": "stdout",
       "text": [
        "\tBURN-IN\tIteration 29\ttime 0.13\tnumClusters 45\n"
       ]
      },
      {
       "output_type": "stream",
       "stream": "stdout",
       "text": [
        "\tBURN-IN\tIteration 30\ttime 0.13\tnumClusters 47\n"
       ]
      },
      {
       "output_type": "stream",
       "stream": "stdout",
       "text": [
        "\tBURN-IN\tIteration 31\ttime 0.13\tnumClusters 45\n"
       ]
      },
      {
       "output_type": "stream",
       "stream": "stdout",
       "text": [
        "\tBURN-IN\tIteration 32\ttime 0.13\tnumClusters 47\n"
       ]
      },
      {
       "output_type": "stream",
       "stream": "stdout",
       "text": [
        "\tBURN-IN\tIteration 33\ttime 0.13\tnumClusters 41\n"
       ]
      },
      {
       "output_type": "stream",
       "stream": "stdout",
       "text": [
        "\tBURN-IN\tIteration 34\ttime 0.13\tnumClusters 42\n"
       ]
      },
      {
       "output_type": "stream",
       "stream": "stdout",
       "text": [
        "\tBURN-IN\tIteration 35\ttime 0.13\tnumClusters 46\n"
       ]
      },
      {
       "output_type": "stream",
       "stream": "stdout",
       "text": [
        "\tBURN-IN\tIteration 36\ttime 0.13\tnumClusters 46\n"
       ]
      },
      {
       "output_type": "stream",
       "stream": "stdout",
       "text": [
        "\tBURN-IN\tIteration 37\ttime 0.13\tnumClusters 48\n"
       ]
      },
      {
       "output_type": "stream",
       "stream": "stdout",
       "text": [
        "\tBURN-IN\tIteration 38\ttime 0.13\tnumClusters 43\n"
       ]
      },
      {
       "output_type": "stream",
       "stream": "stdout",
       "text": [
        "\tBURN-IN\tIteration 39\ttime 0.13\tnumClusters 46\n"
       ]
      },
      {
       "output_type": "stream",
       "stream": "stdout",
       "text": [
        "\tBURN-IN\tIteration 40\ttime 0.12\tnumClusters 42\n"
       ]
      },
      {
       "output_type": "stream",
       "stream": "stdout",
       "text": [
        "\tBURN-IN\tIteration 41\ttime 0.13\tnumClusters 42\n"
       ]
      },
      {
       "output_type": "stream",
       "stream": "stdout",
       "text": [
        "\tBURN-IN\tIteration 42\ttime 0.12\tnumClusters 43\n"
       ]
      },
      {
       "output_type": "stream",
       "stream": "stdout",
       "text": [
        "\tBURN-IN\tIteration 43\ttime 0.12\tnumClusters 42\n"
       ]
      },
      {
       "output_type": "stream",
       "stream": "stdout",
       "text": [
        "\tBURN-IN\tIteration 44\ttime 0.13\tnumClusters 47\n"
       ]
      },
      {
       "output_type": "stream",
       "stream": "stdout",
       "text": [
        "\tBURN-IN\tIteration 45\ttime 0.13\tnumClusters 46\n"
       ]
      },
      {
       "output_type": "stream",
       "stream": "stdout",
       "text": [
        "\tBURN-IN\tIteration 46\ttime 0.12\tnumClusters 41\n"
       ]
      },
      {
       "output_type": "stream",
       "stream": "stdout",
       "text": [
        "\tBURN-IN\tIteration 47\ttime 0.12\tnumClusters 43\n"
       ]
      },
      {
       "output_type": "stream",
       "stream": "stdout",
       "text": [
        "\tBURN-IN\tIteration 48\ttime 0.12\tnumClusters 46\n"
       ]
      },
      {
       "output_type": "stream",
       "stream": "stdout",
       "text": [
        "\tBURN-IN\tIteration 49\ttime 0.13\tnumClusters 50\n"
       ]
      },
      {
       "output_type": "stream",
       "stream": "stdout",
       "text": [
        "\tBURN-IN\tIteration 50\ttime 0.13\tnumClusters 43\n"
       ]
      },
      {
       "output_type": "stream",
       "stream": "stdout",
       "text": [
        "\tBURN-IN\tIteration 51\ttime 0.12\tnumClusters 42\n"
       ]
      },
      {
       "output_type": "stream",
       "stream": "stdout",
       "text": [
        "\tBURN-IN\tIteration 52\ttime 0.12\tnumClusters 44\n"
       ]
      },
      {
       "output_type": "stream",
       "stream": "stdout",
       "text": [
        "\tBURN-IN\tIteration 53\ttime 0.12\tnumClusters 43\n"
       ]
      },
      {
       "output_type": "stream",
       "stream": "stdout",
       "text": [
        "\tBURN-IN\tIteration 54\ttime 0.12\tnumClusters 46\n"
       ]
      },
      {
       "output_type": "stream",
       "stream": "stdout",
       "text": [
        "\tBURN-IN\tIteration 55\ttime 0.13\tnumClusters 43\n"
       ]
      },
      {
       "output_type": "stream",
       "stream": "stdout",
       "text": [
        "\tBURN-IN\tIteration 56\ttime 0.13\tnumClusters 46\n"
       ]
      },
      {
       "output_type": "stream",
       "stream": "stdout",
       "text": [
        "\tBURN-IN\tIteration 57\ttime 0.13\tnumClusters 45\n"
       ]
      },
      {
       "output_type": "stream",
       "stream": "stdout",
       "text": [
        "\tBURN-IN\tIteration 58\ttime 0.12\tnumClusters 44\n"
       ]
      },
      {
       "output_type": "stream",
       "stream": "stdout",
       "text": [
        "\tBURN-IN\tIteration 59\ttime 0.12\tnumClusters 42\n"
       ]
      },
      {
       "output_type": "stream",
       "stream": "stdout",
       "text": [
        "\tBURN-IN\tIteration 60\ttime 0.12\tnumClusters 47\n"
       ]
      },
      {
       "output_type": "stream",
       "stream": "stdout",
       "text": [
        "\tBURN-IN\tIteration 61\ttime 0.13\tnumClusters 48\n"
       ]
      },
      {
       "output_type": "stream",
       "stream": "stdout",
       "text": [
        "\tBURN-IN\tIteration 62\ttime 0.13\tnumClusters 45\n"
       ]
      },
      {
       "output_type": "stream",
       "stream": "stdout",
       "text": [
        "\tBURN-IN\tIteration 63\ttime 0.13\tnumClusters 46\n"
       ]
      },
      {
       "output_type": "stream",
       "stream": "stdout",
       "text": [
        "\tBURN-IN\tIteration 64\ttime 0.12\tnumClusters 43\n"
       ]
      },
      {
       "output_type": "stream",
       "stream": "stdout",
       "text": [
        "\tBURN-IN\tIteration 65\ttime 0.12\tnumClusters 44\n"
       ]
      },
      {
       "output_type": "stream",
       "stream": "stdout",
       "text": [
        "\tBURN-IN\tIteration 66\ttime 0.12\tnumClusters 45\n"
       ]
      },
      {
       "output_type": "stream",
       "stream": "stdout",
       "text": [
        "\tBURN-IN\tIteration 67\ttime 0.13\tnumClusters 47\n"
       ]
      },
      {
       "output_type": "stream",
       "stream": "stdout",
       "text": [
        "\tBURN-IN\tIteration 68\ttime 0.13\tnumClusters 45\n"
       ]
      },
      {
       "output_type": "stream",
       "stream": "stdout",
       "text": [
        "\tBURN-IN\tIteration 69\ttime 0.12\tnumClusters 45\n"
       ]
      },
      {
       "output_type": "stream",
       "stream": "stdout",
       "text": [
        "\tBURN-IN\tIteration 70\ttime 0.12\tnumClusters 45\n"
       ]
      },
      {
       "output_type": "stream",
       "stream": "stdout",
       "text": [
        "\tBURN-IN\tIteration 71\ttime 0.13\tnumClusters 43\n"
       ]
      },
      {
       "output_type": "stream",
       "stream": "stdout",
       "text": [
        "\tBURN-IN\tIteration 72\ttime 0.12\tnumClusters 46\n"
       ]
      },
      {
       "output_type": "stream",
       "stream": "stdout",
       "text": [
        "\tBURN-IN\tIteration 73\ttime 0.12\tnumClusters 45\n"
       ]
      },
      {
       "output_type": "stream",
       "stream": "stdout",
       "text": [
        "\tBURN-IN\tIteration 74\ttime 0.12\tnumClusters 45\n"
       ]
      },
      {
       "output_type": "stream",
       "stream": "stdout",
       "text": [
        "\tBURN-IN\tIteration 75\ttime 0.13\tnumClusters 45\n"
       ]
      },
      {
       "output_type": "stream",
       "stream": "stdout",
       "text": [
        "\tBURN-IN\tIteration 76\ttime 0.13\tnumClusters 44\n"
       ]
      },
      {
       "output_type": "stream",
       "stream": "stdout",
       "text": [
        "\tBURN-IN\tIteration 77\ttime 0.13\tnumClusters 45\n"
       ]
      },
      {
       "output_type": "stream",
       "stream": "stdout",
       "text": [
        "\tBURN-IN\tIteration 78\ttime 0.13\tnumClusters 46\n"
       ]
      },
      {
       "output_type": "stream",
       "stream": "stdout",
       "text": [
        "\tBURN-IN\tIteration 79\ttime 0.13\tnumClusters 46\n"
       ]
      },
      {
       "output_type": "stream",
       "stream": "stdout",
       "text": [
        "\tBURN-IN\tIteration 80\ttime 0.13\tnumClusters 48\n"
       ]
      },
      {
       "output_type": "stream",
       "stream": "stdout",
       "text": [
        "\tBURN-IN\tIteration 81\ttime 0.13\tnumClusters 45\n"
       ]
      },
      {
       "output_type": "stream",
       "stream": "stdout",
       "text": [
        "\tBURN-IN\tIteration 82\ttime 0.12\tnumClusters 44\n"
       ]
      },
      {
       "output_type": "stream",
       "stream": "stdout",
       "text": [
        "\tBURN-IN\tIteration 83\ttime 0.12\tnumClusters 44\n"
       ]
      },
      {
       "output_type": "stream",
       "stream": "stdout",
       "text": [
        "\tBURN-IN\tIteration 84\ttime 0.12\tnumClusters 45\n"
       ]
      },
      {
       "output_type": "stream",
       "stream": "stdout",
       "text": [
        "\tBURN-IN\tIteration 85\ttime 0.13\tnumClusters 47\n"
       ]
      },
      {
       "output_type": "stream",
       "stream": "stdout",
       "text": [
        "\tBURN-IN\tIteration 86\ttime 0.13\tnumClusters 46\n"
       ]
      },
      {
       "output_type": "stream",
       "stream": "stdout",
       "text": [
        "\tBURN-IN\tIteration 87\ttime 0.13\tnumClusters 47\n"
       ]
      },
      {
       "output_type": "stream",
       "stream": "stdout",
       "text": [
        "\tBURN-IN\tIteration 88\ttime 0.13\tnumClusters 44\n"
       ]
      },
      {
       "output_type": "stream",
       "stream": "stdout",
       "text": [
        "\tBURN-IN\tIteration 89\ttime 0.13\tnumClusters 45\n"
       ]
      },
      {
       "output_type": "stream",
       "stream": "stdout",
       "text": [
        "\tBURN-IN\tIteration 90\ttime 0.13\tnumClusters 47\n"
       ]
      },
      {
       "output_type": "stream",
       "stream": "stdout",
       "text": [
        "\tBURN-IN\tIteration 91\ttime 0.13\tnumClusters 45\n"
       ]
      },
      {
       "output_type": "stream",
       "stream": "stdout",
       "text": [
        "\tBURN-IN\tIteration 92\ttime 0.13\tnumClusters 46\n"
       ]
      },
      {
       "output_type": "stream",
       "stream": "stdout",
       "text": [
        "\tBURN-IN\tIteration 93\ttime 0.13\tnumClusters 46\n"
       ]
      },
      {
       "output_type": "stream",
       "stream": "stdout",
       "text": [
        "\tBURN-IN\tIteration 94\ttime 0.13\tnumClusters 48\n"
       ]
      },
      {
       "output_type": "stream",
       "stream": "stdout",
       "text": [
        "\tBURN-IN\tIteration 95\ttime 0.13\tnumClusters 45\n"
       ]
      },
      {
       "output_type": "stream",
       "stream": "stdout",
       "text": [
        "\tBURN-IN\tIteration 96\ttime 0.13\tnumClusters 48\n"
       ]
      },
      {
       "output_type": "stream",
       "stream": "stdout",
       "text": [
        "\tBURN-IN\tIteration 97\ttime 0.13\tnumClusters 49\n"
       ]
      },
      {
       "output_type": "stream",
       "stream": "stdout",
       "text": [
        "\tBURN-IN\tIteration 98\ttime 0.13\tnumClusters 51\n"
       ]
      },
      {
       "output_type": "stream",
       "stream": "stdout",
       "text": [
        "\tBURN-IN\tIteration 99\ttime 0.13\tnumClusters 53\n"
       ]
      },
      {
       "output_type": "stream",
       "stream": "stdout",
       "text": [
        "\tBURN-IN\tIteration 100\ttime 0.13\tnumClusters 53\n"
       ]
      },
      {
       "output_type": "stream",
       "stream": "stdout",
       "text": [
        "\tSAMPLE\tIteration 101\ttime 0.13\tnumClusters 55\n"
       ]
      },
      {
       "output_type": "stream",
       "stream": "stdout",
       "text": [
        "\tSAMPLE\tIteration 102\ttime 0.13\tnumClusters 54\n"
       ]
      },
      {
       "output_type": "stream",
       "stream": "stdout",
       "text": [
        "\tSAMPLE\tIteration 103\ttime 0.13\tnumClusters 54\n"
       ]
      },
      {
       "output_type": "stream",
       "stream": "stdout",
       "text": [
        "\tSAMPLE\tIteration 104\ttime 0.13\tnumClusters 53\n"
       ]
      },
      {
       "output_type": "stream",
       "stream": "stdout",
       "text": [
        "\tSAMPLE\tIteration 105\ttime 0.13\tnumClusters 53\n"
       ]
      },
      {
       "output_type": "stream",
       "stream": "stdout",
       "text": [
        "\tSAMPLE\tIteration 106\ttime 0.13\tnumClusters 53\n"
       ]
      },
      {
       "output_type": "stream",
       "stream": "stdout",
       "text": [
        "\tSAMPLE\tIteration 107\ttime 0.13\tnumClusters 53\n"
       ]
      },
      {
       "output_type": "stream",
       "stream": "stdout",
       "text": [
        "\tSAMPLE\tIteration 108\ttime 0.14\tnumClusters 53\n"
       ]
      },
      {
       "output_type": "stream",
       "stream": "stdout",
       "text": [
        "\tSAMPLE\tIteration 109\ttime 0.14\tnumClusters 53\n"
       ]
      },
      {
       "output_type": "stream",
       "stream": "stdout",
       "text": [
        "\tSAMPLE\tIteration 110\ttime 0.13\tnumClusters 52\n"
       ]
      },
      {
       "output_type": "stream",
       "stream": "stdout",
       "text": [
        "\tSAMPLE\tIteration 111\ttime 0.14\tnumClusters 53\n"
       ]
      },
      {
       "output_type": "stream",
       "stream": "stdout",
       "text": [
        "\tSAMPLE\tIteration 112\ttime 0.14\tnumClusters 53\n"
       ]
      },
      {
       "output_type": "stream",
       "stream": "stdout",
       "text": [
        "\tSAMPLE\tIteration 113\ttime 0.13\tnumClusters 54\n"
       ]
      },
      {
       "output_type": "stream",
       "stream": "stdout",
       "text": [
        "\tSAMPLE\tIteration 114\ttime 0.14\tnumClusters 54\n"
       ]
      },
      {
       "output_type": "stream",
       "stream": "stdout",
       "text": [
        "\tSAMPLE\tIteration 115\ttime 0.14\tnumClusters 53\n"
       ]
      },
      {
       "output_type": "stream",
       "stream": "stdout",
       "text": [
        "\tSAMPLE\tIteration 116\ttime 0.13\tnumClusters 54\n"
       ]
      },
      {
       "output_type": "stream",
       "stream": "stdout",
       "text": [
        "\tSAMPLE\tIteration 117\ttime 0.13\tnumClusters 53\n"
       ]
      },
      {
       "output_type": "stream",
       "stream": "stdout",
       "text": [
        "\tSAMPLE\tIteration 118\ttime 0.13\tnumClusters 53\n"
       ]
      },
      {
       "output_type": "stream",
       "stream": "stdout",
       "text": [
        "\tSAMPLE\tIteration 119\ttime 0.13\tnumClusters 54\n"
       ]
      },
      {
       "output_type": "stream",
       "stream": "stdout",
       "text": [
        "\tSAMPLE\tIteration 120\ttime 0.13\tnumClusters 55\n"
       ]
      },
      {
       "output_type": "stream",
       "stream": "stdout",
       "text": [
        "\tSAMPLE\tIteration 121\ttime 0.14\tnumClusters 53\n"
       ]
      },
      {
       "output_type": "stream",
       "stream": "stdout",
       "text": [
        "\tSAMPLE\tIteration 122\ttime 0.13\tnumClusters 54\n"
       ]
      },
      {
       "output_type": "stream",
       "stream": "stdout",
       "text": [
        "\tSAMPLE\tIteration 123\ttime 0.13\tnumClusters 53\n"
       ]
      },
      {
       "output_type": "stream",
       "stream": "stdout",
       "text": [
        "\tSAMPLE\tIteration 124\ttime 0.13\tnumClusters 52\n"
       ]
      },
      {
       "output_type": "stream",
       "stream": "stdout",
       "text": [
        "\tSAMPLE\tIteration 125\ttime 0.13\tnumClusters 53\n"
       ]
      },
      {
       "output_type": "stream",
       "stream": "stdout",
       "text": [
        "\tSAMPLE\tIteration 126\ttime 0.13\tnumClusters 53\n"
       ]
      },
      {
       "output_type": "stream",
       "stream": "stdout",
       "text": [
        "\tSAMPLE\tIteration 127\ttime 0.13\tnumClusters 54\n"
       ]
      },
      {
       "output_type": "stream",
       "stream": "stdout",
       "text": [
        "\tSAMPLE\tIteration 128\ttime 0.13\tnumClusters 54\n"
       ]
      },
      {
       "output_type": "stream",
       "stream": "stdout",
       "text": [
        "\tSAMPLE\tIteration 129\ttime 0.13\tnumClusters 53\n"
       ]
      },
      {
       "output_type": "stream",
       "stream": "stdout",
       "text": [
        "\tSAMPLE\tIteration 130\ttime 0.13\tnumClusters 53\n"
       ]
      },
      {
       "output_type": "stream",
       "stream": "stdout",
       "text": [
        "\tSAMPLE\tIteration 131\ttime 0.13\tnumClusters 53\n"
       ]
      },
      {
       "output_type": "stream",
       "stream": "stdout",
       "text": [
        "\tSAMPLE\tIteration 132\ttime 0.13\tnumClusters 52\n"
       ]
      },
      {
       "output_type": "stream",
       "stream": "stdout",
       "text": [
        "\tSAMPLE\tIteration 133\ttime 0.13\tnumClusters 52\n"
       ]
      },
      {
       "output_type": "stream",
       "stream": "stdout",
       "text": [
        "\tSAMPLE\tIteration 134\ttime 0.13\tnumClusters 53\n"
       ]
      },
      {
       "output_type": "stream",
       "stream": "stdout",
       "text": [
        "\tSAMPLE\tIteration 135\ttime 0.13\tnumClusters 53\n"
       ]
      },
      {
       "output_type": "stream",
       "stream": "stdout",
       "text": [
        "\tSAMPLE\tIteration 136\ttime 0.13\tnumClusters 53\n"
       ]
      },
      {
       "output_type": "stream",
       "stream": "stdout",
       "text": [
        "\tSAMPLE\tIteration 137\ttime 0.13\tnumClusters 54\n"
       ]
      },
      {
       "output_type": "stream",
       "stream": "stdout",
       "text": [
        "\tSAMPLE\tIteration 138\ttime 0.13\tnumClusters 54\n"
       ]
      },
      {
       "output_type": "stream",
       "stream": "stdout",
       "text": [
        "\tSAMPLE\tIteration 139\ttime 0.13\tnumClusters 52\n"
       ]
      },
      {
       "output_type": "stream",
       "stream": "stdout",
       "text": [
        "\tSAMPLE\tIteration 140\ttime 0.13\tnumClusters 54\n"
       ]
      },
      {
       "output_type": "stream",
       "stream": "stdout",
       "text": [
        "\tSAMPLE\tIteration 141\ttime 0.13\tnumClusters 52\n"
       ]
      },
      {
       "output_type": "stream",
       "stream": "stdout",
       "text": [
        "\tSAMPLE\tIteration 142\ttime 0.13\tnumClusters 55\n"
       ]
      },
      {
       "output_type": "stream",
       "stream": "stdout",
       "text": [
        "\tSAMPLE\tIteration 143\ttime 0.13\tnumClusters 51\n"
       ]
      },
      {
       "output_type": "stream",
       "stream": "stdout",
       "text": [
        "\tSAMPLE\tIteration 144\ttime 0.13\tnumClusters 52\n"
       ]
      },
      {
       "output_type": "stream",
       "stream": "stdout",
       "text": [
        "\tSAMPLE\tIteration 145\ttime 0.13\tnumClusters 53\n"
       ]
      },
      {
       "output_type": "stream",
       "stream": "stdout",
       "text": [
        "\tSAMPLE\tIteration 146\ttime 0.13\tnumClusters 54\n"
       ]
      },
      {
       "output_type": "stream",
       "stream": "stdout",
       "text": [
        "\tSAMPLE\tIteration 147\ttime 0.13\tnumClusters 53\n"
       ]
      },
      {
       "output_type": "stream",
       "stream": "stdout",
       "text": [
        "\tSAMPLE\tIteration 148\ttime 0.13\tnumClusters 52\n"
       ]
      },
      {
       "output_type": "stream",
       "stream": "stdout",
       "text": [
        "\tSAMPLE\tIteration 149\ttime 0.13\tnumClusters 53\n"
       ]
      },
      {
       "output_type": "stream",
       "stream": "stdout",
       "text": [
        "\tSAMPLE\tIteration 150\ttime 0.13\tnumClusters 53\n"
       ]
      },
      {
       "output_type": "stream",
       "stream": "stdout",
       "text": [
        "\tSAMPLE\tIteration 151\ttime 0.13\tnumClusters 55\n"
       ]
      },
      {
       "output_type": "stream",
       "stream": "stdout",
       "text": [
        "\tSAMPLE\tIteration 152\ttime 0.13\tnumClusters 52\n"
       ]
      },
      {
       "output_type": "stream",
       "stream": "stdout",
       "text": [
        "\tSAMPLE\tIteration 153\ttime 0.13\tnumClusters 53\n"
       ]
      },
      {
       "output_type": "stream",
       "stream": "stdout",
       "text": [
        "\tSAMPLE\tIteration 154\ttime 0.13\tnumClusters 52\n"
       ]
      },
      {
       "output_type": "stream",
       "stream": "stdout",
       "text": [
        "\tSAMPLE\tIteration 155\ttime 0.13\tnumClusters 56\n"
       ]
      },
      {
       "output_type": "stream",
       "stream": "stdout",
       "text": [
        "\tSAMPLE\tIteration 156\ttime 0.12\tnumClusters 53\n"
       ]
      },
      {
       "output_type": "stream",
       "stream": "stdout",
       "text": [
        "\tSAMPLE\tIteration 157\ttime 0.13\tnumClusters 56\n"
       ]
      },
      {
       "output_type": "stream",
       "stream": "stdout",
       "text": [
        "\tSAMPLE\tIteration 158\ttime 0.13\tnumClusters 53\n"
       ]
      },
      {
       "output_type": "stream",
       "stream": "stdout",
       "text": [
        "\tSAMPLE\tIteration 159\ttime 0.13\tnumClusters 54\n"
       ]
      },
      {
       "output_type": "stream",
       "stream": "stdout",
       "text": [
        "\tSAMPLE\tIteration 160\ttime 0.13\tnumClusters 54\n"
       ]
      },
      {
       "output_type": "stream",
       "stream": "stdout",
       "text": [
        "\tSAMPLE\tIteration 161\ttime 0.13\tnumClusters 54\n"
       ]
      },
      {
       "output_type": "stream",
       "stream": "stdout",
       "text": [
        "\tSAMPLE\tIteration 162\ttime 0.12\tnumClusters 53\n"
       ]
      },
      {
       "output_type": "stream",
       "stream": "stdout",
       "text": [
        "\tSAMPLE\tIteration 163\ttime 0.12\tnumClusters 53\n"
       ]
      },
      {
       "output_type": "stream",
       "stream": "stdout",
       "text": [
        "\tSAMPLE\tIteration 164\ttime 0.13\tnumClusters 54\n"
       ]
      },
      {
       "output_type": "stream",
       "stream": "stdout",
       "text": [
        "\tSAMPLE\tIteration 165\ttime 0.13\tnumClusters 53\n"
       ]
      },
      {
       "output_type": "stream",
       "stream": "stdout",
       "text": [
        "\tSAMPLE\tIteration 166\ttime 0.13\tnumClusters 52\n"
       ]
      },
      {
       "output_type": "stream",
       "stream": "stdout",
       "text": [
        "\tSAMPLE\tIteration 167\ttime 0.13\tnumClusters 56\n"
       ]
      },
      {
       "output_type": "stream",
       "stream": "stdout",
       "text": [
        "\tSAMPLE\tIteration 168\ttime 0.12\tnumClusters 54\n"
       ]
      },
      {
       "output_type": "stream",
       "stream": "stdout",
       "text": [
        "\tSAMPLE\tIteration 169\ttime 0.12\tnumClusters 54\n"
       ]
      },
      {
       "output_type": "stream",
       "stream": "stdout",
       "text": [
        "\tSAMPLE\tIteration 170\ttime 0.12\tnumClusters 55\n"
       ]
      },
      {
       "output_type": "stream",
       "stream": "stdout",
       "text": [
        "\tSAMPLE\tIteration 171\ttime 0.12\tnumClusters 53\n"
       ]
      },
      {
       "output_type": "stream",
       "stream": "stdout",
       "text": [
        "\tSAMPLE\tIteration 172\ttime 0.12\tnumClusters 53\n"
       ]
      },
      {
       "output_type": "stream",
       "stream": "stdout",
       "text": [
        "\tSAMPLE\tIteration 173\ttime 0.12\tnumClusters 52\n"
       ]
      },
      {
       "output_type": "stream",
       "stream": "stdout",
       "text": [
        "\tSAMPLE\tIteration 174\ttime 0.12\tnumClusters 53\n"
       ]
      },
      {
       "output_type": "stream",
       "stream": "stdout",
       "text": [
        "\tSAMPLE\tIteration 175\ttime 0.12\tnumClusters 54\n"
       ]
      },
      {
       "output_type": "stream",
       "stream": "stdout",
       "text": [
        "\tSAMPLE\tIteration 176\ttime 0.12\tnumClusters 53\n"
       ]
      },
      {
       "output_type": "stream",
       "stream": "stdout",
       "text": [
        "\tSAMPLE\tIteration 177\ttime 0.12\tnumClusters 54\n"
       ]
      },
      {
       "output_type": "stream",
       "stream": "stdout",
       "text": [
        "\tSAMPLE\tIteration 178\ttime 0.13\tnumClusters 54\n"
       ]
      },
      {
       "output_type": "stream",
       "stream": "stdout",
       "text": [
        "\tSAMPLE\tIteration 179\ttime 0.12\tnumClusters 51\n"
       ]
      },
      {
       "output_type": "stream",
       "stream": "stdout",
       "text": [
        "\tSAMPLE\tIteration 180\ttime 0.12\tnumClusters 56\n"
       ]
      },
      {
       "output_type": "stream",
       "stream": "stdout",
       "text": [
        "\tSAMPLE\tIteration 181\ttime 0.12\tnumClusters 54\n"
       ]
      },
      {
       "output_type": "stream",
       "stream": "stdout",
       "text": [
        "\tSAMPLE\tIteration 182\ttime 0.12\tnumClusters 55\n"
       ]
      },
      {
       "output_type": "stream",
       "stream": "stdout",
       "text": [
        "\tSAMPLE\tIteration 183\ttime 0.12\tnumClusters 54\n"
       ]
      },
      {
       "output_type": "stream",
       "stream": "stdout",
       "text": [
        "\tSAMPLE\tIteration 184\ttime 0.12\tnumClusters 54\n"
       ]
      },
      {
       "output_type": "stream",
       "stream": "stdout",
       "text": [
        "\tSAMPLE\tIteration 185\ttime 0.12\tnumClusters 54\n"
       ]
      },
      {
       "output_type": "stream",
       "stream": "stdout",
       "text": [
        "\tSAMPLE\tIteration 186\ttime 0.12\tnumClusters 53\n"
       ]
      },
      {
       "output_type": "stream",
       "stream": "stdout",
       "text": [
        "\tSAMPLE\tIteration 187\ttime 0.13\tnumClusters 54\n"
       ]
      },
      {
       "output_type": "stream",
       "stream": "stdout",
       "text": [
        "\tSAMPLE\tIteration 188\ttime 0.12\tnumClusters 52\n"
       ]
      },
      {
       "output_type": "stream",
       "stream": "stdout",
       "text": [
        "\tSAMPLE\tIteration 189\ttime 0.12\tnumClusters 52\n"
       ]
      },
      {
       "output_type": "stream",
       "stream": "stdout",
       "text": [
        "\tSAMPLE\tIteration 190\ttime 0.12\tnumClusters 53\n"
       ]
      },
      {
       "output_type": "stream",
       "stream": "stdout",
       "text": [
        "\tSAMPLE\tIteration 191\ttime 0.12\tnumClusters 53\n"
       ]
      },
      {
       "output_type": "stream",
       "stream": "stdout",
       "text": [
        "\tSAMPLE\tIteration 192\ttime 0.12\tnumClusters 52\n"
       ]
      },
      {
       "output_type": "stream",
       "stream": "stdout",
       "text": [
        "\tSAMPLE\tIteration 193\ttime 0.12\tnumClusters 55\n"
       ]
      },
      {
       "output_type": "stream",
       "stream": "stdout",
       "text": [
        "\tSAMPLE\tIteration 194\ttime 0.12\tnumClusters 54\n"
       ]
      },
      {
       "output_type": "stream",
       "stream": "stdout",
       "text": [
        "\tSAMPLE\tIteration 195\ttime 0.13\tnumClusters 53\n"
       ]
      },
      {
       "output_type": "stream",
       "stream": "stdout",
       "text": [
        "\tSAMPLE\tIteration 196\ttime 0.12\tnumClusters 53\n"
       ]
      },
      {
       "output_type": "stream",
       "stream": "stdout",
       "text": [
        "\tSAMPLE\tIteration 197\ttime 0.12\tnumClusters 52\n"
       ]
      },
      {
       "output_type": "stream",
       "stream": "stdout",
       "text": [
        "\tSAMPLE\tIteration 198\ttime 0.12\tnumClusters 54\n"
       ]
      },
      {
       "output_type": "stream",
       "stream": "stdout",
       "text": [
        "\tSAMPLE\tIteration 199\ttime 0.12\tnumClusters 53\n"
       ]
      },
      {
       "output_type": "stream",
       "stream": "stdout",
       "text": [
        "\tSAMPLE\tIteration 200\ttime 0.12\tnumClusters 51\n"
       ]
      },
      {
       "output_type": "stream",
       "stream": "stdout",
       "text": [
        "DONE!\n"
       ]
      }
     ],
     "prompt_number": 6
    },
    {
     "cell_type": "markdown",
     "metadata": {},
     "source": [
      "Observe the no. of clusters is so high?? Need to tweak the hyperparameters further ..? \n",
      "\n",
      "Also, the gibbs sampling code above is not well-vectorised, so this can probably go a lot faster. \n",
      "\n",
      "Furthermore, within each sample, we match the peaks in each bin to those other peaks with the nearest mass difference in other same bins (but coming from different files) in the same RT cluster. This is probably not necessary?"
     ]
    },
    {
     "cell_type": "code",
     "collapsed": false,
     "input": [
      "# plot distribution of values in ZZ_all\n",
      "ZZ_all = dp.ZZ_all\n",
      "x = []\n",
      "cx = ZZ_all.tocoo()    \n",
      "for i,j,v in itertools.izip(cx.row, cx.col, cx.data):\n",
      "    x.append(v)       \n",
      "x = np.array(x)\n",
      "plt.figure() \n",
      "plt.hist(x, 10)\n",
      "plt.title('DP RT clustering -- ZZ_all')\n",
      "plt.xlabel('Probabilities')\n",
      "plt.ylabel('Count')\n",
      "plt.show()        "
     ],
     "language": "python",
     "metadata": {},
     "outputs": [
      {
       "metadata": {},
       "output_type": "display_data",
       "png": "[encoded data removed]",
       "text": [
        "<matplotlib.figure.Figure at 0x7f7e22f61190>"
       ]
      }
     ],
     "prompt_number": 7
    },
    {
     "cell_type": "markdown",
     "metadata": {},
     "source": [
      "From the distribution of values in Z in the plot above, we don't see much uncertainty in results .. but this is because for the STD dataset that we use, the RT deviations across files are fairly minimal. "
     ]
    },
    {
     "cell_type": "heading",
     "level": 3,
     "metadata": {},
     "source": [
      "Step 3"
     ]
    },
    {
     "cell_type": "markdown",
     "metadata": {},
     "source": [
      "Now need to construct the alignment results from all the clustering output above"
     ]
    },
    {
     "cell_type": "code",
     "collapsed": false,
     "input": [
      "# count frequencies of aligned peaksets produced across the Gibbs samples\n",
      "print \"Counting frequencies of aligned peaksets\"\n",
      "matching_results = dp.matching_results\n",
      "counter = dict()\n",
      "for peakset in matching_results:\n",
      "    if len(peakset) > 1:\n",
      "        peakset = sorted(peakset, key = attrgetter('file_id'))\n",
      "        peakset = tuple(peakset)\n",
      "    if peakset not in counter:\n",
      "        counter[peakset] = 1\n",
      "    else:\n",
      "        counter[peakset] += 1\n",
      "\n",
      "# normalise the counts\n",
      "print \"Normalising counts\"\n",
      "S = dp.samples_obtained\n",
      "for key, value in counter.items():\n",
      "    new_value = float(value)/S\n",
      "    counter[key] = new_value"
     ],
     "language": "python",
     "metadata": {},
     "outputs": [
      {
       "output_type": "stream",
       "stream": "stdout",
       "text": [
        "Counting frequencies of aligned peaksets\n",
        "Normalising counts"
       ]
      },
      {
       "output_type": "stream",
       "stream": "stdout",
       "text": [
        "\n"
       ]
      }
     ],
     "prompt_number": 8
    },
    {
     "cell_type": "markdown",
     "metadata": {},
     "source": [
      "Print reports"
     ]
    },
    {
     "cell_type": "code",
     "collapsed": false,
     "input": [
      "# print report of aligned peaksets in descending order of probabilities\n",
      "print \n",
      "print \"==========================================================================\"\n",
      "print \"REPORT\"\n",
      "print \"==========================================================================\"\n",
      "sorted_list = sorted(counter.items(), key=itemgetter(1), reverse=True)\n",
      "probs = []\n",
      "i = 0\n",
      "for item in sorted_list:\n",
      "    features = item[0]\n",
      "    if len(features)==1:\n",
      "        continue # skip all the singleton stuff\n",
      "    prob = item[1]\n",
      "    mzs = np.array([f.mass for f in features])\n",
      "    rts = np.array([f.rt for f in features])\n",
      "    avg_mz = np.mean(mzs)\n",
      "    avg_rt = np.mean(rts)\n",
      "    print str(i+1) + \". avg m/z=\" + str(avg_mz) + \" avg RT=\" + str(avg_rt) + \" prob=\" + str(prob)\n",
      "    for f in features:\n",
      "        msg = annotations[f]            \n",
      "        output = \"\\tfile_id {:d} mz {:3.5f} RT {:4.2f} intensity {:.4e}\\t{:s}\".format(f.file_id, f.mass, f.rt, f.intensity, msg)\n",
      "        print(output) \n",
      "    probs.append(prob)\n",
      "    i += 1"
     ],
     "language": "python",
     "metadata": {},
     "outputs": [
      {
       "output_type": "stream",
       "stream": "stdout",
       "text": [
        "\n",
        "==========================================================================\n",
        "REPORT\n",
        "==========================================================================\n",
        "1. avg m/z=74.0599903187 avg RT=1052.09503174 prob=1.0\n",
        "\tfile_id 0 mz 74.06000 RT 1051.68 intensity 1.4154e+05\tM+H@73.05272 prob=1.00\n",
        "\tfile_id 1 mz 74.05998 RT 1052.51 intensity 1.3136e+05\tM+H@73.05272 prob=1.00\n",
        "2. avg m/z=349.053844907 avg RT=907.872009277 prob=1.0\n",
        "\tfile_id 0 mz 349.05388 RT 908.62 intensity 6.6086e+05\tM+H@348.04660 prob=1.00\n",
        "\tfile_id 1 mz 349.05381 RT 907.12 intensity 6.9731e+05\tM+H@348.04660 prob=1.00\n",
        "3. avg m/z=158.00261427 avg RT=44.6649494171 prob=1.0\n",
        "\tfile_id 0 mz 158.00263 RT 23.68 intensity 2.9981e+05\tM+H@156.99536 prob=1.00\n",
        "\tfile_id 1 mz 158.00259 RT 65.65 intensity 3.2942e+05\tM+H@156.99536 prob=1.00\n",
        "4. avg m/z=125.986138922 avg RT=2244.38000488 prob=1.0\n",
        "\tfile_id 0 mz 125.98615 RT 2253.79 intensity 9.1721e+05\tM+H@124.97888 prob=1.00\n",
        "\tfile_id 1 mz 125.98613 RT 2234.97 intensity 1.0266e+06\tM+H@124.97888 prob=0.94\n",
        "5. avg m/z=102.535267361 avg RT=1729.5 prob=1.0\n",
        "\tfile_id 0 mz 102.53528 RT 1721.08 intensity 1.7023e+05\tM+H@101.52800 prob=1.00\n",
        "\tfile_id 1 mz 102.53526 RT 1737.92 intensity 1.8364e+05\tM+H@101.52800 prob=1.00\n",
        "6. avg m/z=310.142488601 avg RT=855.962982178 prob=1.0\n",
        "\tfile_id 0 mz 310.14256 RT 852.04 intensity 1.0438e+05\tM+H@309.13528 prob=1.00\n",
        "\tfile_id 1 mz 310.14242 RT 859.88 intensity 8.8757e+04\tM+H@309.13528 prob=1.00\n",
        "7. avg m/z=169.057962153 avg RT=1099.75994873 prob=1.0\n",
        "\tfile_id 0 mz 169.05799 RT 1098.69 intensity 6.7201e+04\tM+H@168.05071 prob=0.57\n",
        "\tfile_id 1 mz 169.05794 RT 1100.83 intensity 7.4322e+04\tM+H@168.05071 prob=0.76\n",
        "8. avg m/z=133.105007617 avg RT=783.347991943 prob=1.0\n",
        "\tfile_id 0 mz 133.10502 RT 783.77 intensity 3.7395e+05\tM+HC13@131.09449 prob=0.52\n",
        "\tfile_id 1 mz 133.10500 RT 782.92 intensity 3.9679e+05\tM+HC13@131.09449 prob=0.52\n",
        "9. avg m/z=89.5066285977 avg RT=2.25648504496 prob=1.0\n",
        "\tfile_id 0 mz 89.50664 RT 2.98 intensity 8.5335e+05\tM+H@88.49936 prob=1.00\n",
        "\tfile_id 1 mz 89.50662 RT 1.54 intensity 8.6063e+05\tM+H@88.49936 prob=1.00\n",
        "10. avg m/z=151.03501501 avg RT=2643.57507324 prob=1.0\n",
        "\tfile_id 0 mz 151.03503 RT 2681.37 intensity 1.6909e+05\tM+H@150.02775 prob=0.99\n",
        "\tfile_id 1 mz 151.03500 RT 2605.78 intensity 1.8588e+05\tM+H@150.02775 prob=1.00\n",
        "11. avg m/z=102.033736736 avg RT=21.4105856419 prob=1.0\n",
        "\tfile_id 0 mz 102.03376 RT 4.42 intensity 2.6763e+06\tM+H@101.02648 prob=1.00\n",
        "\tfile_id 1 mz 102.03372 RT 38.40 intensity 1.8673e+06\tM+H@101.02648 prob=1.00\n",
        "12. avg m/z=325.042667065 avg RT=847.842010498 prob=1.0\n",
        "\tfile_id 0 mz 325.04266 RT 852.04 intensity 2.6195e+05\tM+H@324.03539 prob=1.00\n",
        "\tfile_id 1 mz 325.04267 RT 843.64 intensity 2.3555e+05\tM+H@324.03539 prob=1.00\n",
        "13. avg m/z=309.183907303 avg RT=829.802978516 prob=1.0\n",
        "\tfile_id 0 mz 309.18393 RT 830.30 intensity 2.7290e+06\tM+H@308.17665 prob=1.00\n",
        "\tfile_id 1 mz 309.18388 RT 829.31 intensity 2.7945e+06\tM+H@308.17665 prob=1.00\n",
        "14. avg m/z=153.57247804 avg RT=1766.2699585 prob=1.0\n",
        "\tfile_id 0 mz 153.57248 RT 1771.46 intensity 8.7294e+04\tM+ACN+2H@264.10419 prob=0.55\n",
        "\tfile_id 1 mz 153.57248 RT 1761.08 intensity 1.0597e+05\tM+ACN+2H@264.10419 prob=0.62\n",
        "15. avg m/z=399.126923418 avg RT=468.119003296 prob=1.0\n",
        "\tfile_id 0 mz 399.12695 RT 467.69 intensity 1.4778e+05\tM+Na@376.13785 prob=0.53\n",
        "\tfile_id 1 mz 399.12690 RT 468.55 intensity 1.4500e+05\tM+Na@376.13785 prob=0.52\n",
        "16. avg m/z=115.038817924 avg RT=556.540496826 prob=1.0\n",
        "\tfile_id 0 mz 115.03883 RT 557.80 intensity 2.1625e+05\tM+H@114.03156 prob=1.00\n",
        "\tfile_id 1 mz 115.03880 RT 555.28 intensity 2.0005e+05\tM+H@114.03156 prob=1.00\n",
        "17. avg m/z=508.202057441 avg RT=751.697998047 prob=1.0\n",
        "\tfile_id 0 mz 508.20210 RT 753.55 intensity 5.3261e+05\tM+H@507.19483 prob=1.00\n",
        "\tfile_id 1 mz 508.20201 RT 749.84 intensity 5.4556e+05\tM+H@507.19483 prob=1.00\n",
        "18. avg m/z=161.07867578 avg RT=966.680999756 prob=1.0\n",
        "\tfile_id 0 mz 161.07869 RT 970.86 intensity 1.2381e+05\tM+HC13@159.06818 prob=0.53\n",
        "\tfile_id 1 mz 161.07866 RT 962.50 intensity 1.0638e+05\tM+HC13@159.06818 prob=0.53\n",
        "19. avg m/z=73.5317945847 avg RT=2695.83508301 prob=1.0\n",
        "\tfile_id 0 mz 73.53180 RT 2665.85 intensity 3.0375e+05\tM+H@72.52452 prob=0.93\n",
        "\tfile_id 1 mz 73.53179 RT 2725.82 intensity 3.1251e+05\tM+H@72.52452 prob=1.00\n",
        "20. avg m/z=82.5370803516 avg RT=2254.96496582 prob=1.0\n",
        "\tfile_id 0 mz 82.53708 RT 2253.79 intensity 7.2928e+04\tM+H@81.52980 prob=1.00\n",
        "\tfile_id 1 mz 82.53708 RT 2256.14 intensity 8.0102e+04\tM+H@81.52980 prob=1.00\n",
        "21. avg m/z=339.015775624 avg RT=1011.95001221 prob=1.0\n",
        "\tfile_id 0 mz 339.01582 RT 1016.69 intensity 3.1561e+05\tM+H@338.00851 prob=1.00\n",
        "\tfile_id 1 mz 339.01573 RT 1007.21 intensity 3.5221e+05\tM+H@338.00851 prob=1.00\n",
        "22. avg m/z=102.53530152 avg RT=2721.40002441 prob=1.0\n",
        "\tfile_id 0 mz 102.53532 RT 2704.83 intensity 1.8657e+05\tM+H@101.52804 prob=1.00\n",
        "\tfile_id 1 mz 102.53528 RT 2737.97 intensity 2.1584e+05\tM+H@101.52804 prob=1.00\n",
        "23. avg m/z=73.5317943317 avg RT=2616.79492188 prob=1.0\n",
        "\tfile_id 0 mz 73.53180 RT 2598.95 intensity 3.0011e+05\tM+H@72.52453 prob=1.00\n",
        "\tfile_id 1 mz 73.53179 RT 2634.64 intensity 3.1344e+05\tM+H@72.52453 prob=1.00\n",
        "24. avg m/z=81.5205689024 avg RT=2527.25500488 prob=1.0\n",
        "\tfile_id 0 mz 81.52057 RT 2549.31 intensity 1.8176e+06\tM+H@80.51330 prob=1.00\n",
        "\tfile_id 1 mz 81.52057 RT 2505.20 intensity 2.0188e+06\tM+H@80.51330 prob=1.00\n",
        "25. avg m/z=228.127959226 avg RT=1038.96496582 prob=1.0\n",
        "\tfile_id 0 mz 228.12796 RT 1037.74 intensity 7.4432e+04\tM+HC13@226.11749 prob=0.51\n",
        "\tfile_id 1 mz 228.12796 RT 1040.19 intensity 8.0812e+04\tM+HC13@226.11749 prob=0.54\n",
        "26. avg m/z=157.012879859 avg RT=441.829498291 prob=1.0\n",
        "\tfile_id 0 mz 157.01289 RT 441.30 intensity 9.8442e+04\tM+H@156.00562 prob=1.00\n",
        "\tfile_id 1 mz 157.01287 RT 442.36 intensity 8.4033e+04\tM+H@156.00562 prob=1.00\n",
        "27. avg m/z=141.958379671 avg RT=2758.42004395 prob=1.0\n",
        "\tfile_id 0 mz 141.95838 RT 2759.12 intensity 9.5750e+04\tM+H@140.95110 prob=1.00\n",
        "\tfile_id 1 mz 141.95838 RT 2757.72 intensity 1.4517e+05\tM+H@140.95110 prob=1.00\n",
        "28. avg m/z=162.471704432 avg RT=2348.11010742 prob=1.0\n",
        "\tfile_id 0 mz 182.98500 RT 2352.37 intensity 1.8435e+05\tM+ACN+H@140.95114 prob=0.99\n",
        "\tfile_id 1 mz 141.95841 RT 2343.85 intensity 7.6607e+04\tM+H@140.95114 prob=1.00\n",
        "29. avg m/z=190.126274765 avg RT=1059.91497803 prob=1.0\n",
        "\tfile_id 0 mz 190.12630 RT 1061.09 intensity 2.9054e+05\tM+H@189.11902 prob=0.53\n",
        "\tfile_id 1 mz 190.12625 RT 1058.74 intensity 2.9878e+05\tM+H@189.11902 prob=0.57\n",
        "30. avg m/z=199.029033658 avg RT=94.2591018677 prob=1.0\n",
        "\tfile_id 0 mz 199.02904 RT 91.86 intensity 8.7314e+04\tM+H@198.02177 prob=1.00\n",
        "\tfile_id 1 mz 199.02902 RT 96.66 intensity 1.1223e+05\tM+H@198.02177 prob=1.00\n",
        "31. avg m/z=175.105606303 avg RT=377.205993652 prob=1.0\n",
        "\tfile_id 0 mz 175.10562 RT 376.43 intensity 9.5480e+04\tM+HC13@173.09505 prob=0.52\n",
        "\tfile_id 1 mz 175.10559 RT 377.98 intensity 9.9893e+04\tM+HC13@173.09505 prob=0.52\n",
        "32. avg m/z=125.986092948 avg RT=2599.42004395 prob=1.0\n",
        "\tfile_id 0 mz 125.98610 RT 2611.36 intensity 3.8915e+05\tM+H@124.97885 prob=0.63\n",
        "\tfile_id 1 mz 125.98608 RT 2587.48 intensity 3.9932e+05\tM+H@124.97885 prob=0.90\n",
        "33. avg m/z=89.5067264015 avg RT=2273.20495605 prob=1.0\n",
        "\tfile_id 0 mz 89.50674 RT 2272.19 intensity 2.0329e+05\tM+H@88.49946 prob=1.00\n",
        "\tfile_id 1 mz 89.50671 RT 2274.22 intensity 2.2863e+05\tM+H@88.49946 prob=1.00\n",
        "34. avg m/z=79.0178498417 avg RT=2495.52990723 prob=1.0\n",
        "\tfile_id 0 mz 79.01786 RT 2504.15 intensity 1.4982e+05\tM+H@78.01059 prob=1.00\n",
        "\tfile_id 1 mz 79.01784 RT 2486.91 intensity 1.3448e+05\tM+H@78.01059 prob=1.00\n",
        "35. avg m/z=73.5318104475 avg RT=2406.0300293 prob=1.0\n",
        "\tfile_id 0 mz 73.53182 RT 2375.49 intensity 3.5233e+05\tM+H@72.52454 prob=1.00\n",
        "\tfile_id 1 mz 73.53180 RT 2436.57 intensity 3.6317e+05\tM+H@72.52454 prob=1.00\n",
        "36. avg m/z=205.572098709 avg RT=800.82598877 prob=1.0\n",
        "\tfile_id 0 mz 205.07056 RT 823.16 intensity 1.2559e+06\tM+H@204.06329 prob=1.00\n",
        "\tfile_id 1 mz 206.07363 RT 778.49 intensity 6.8646e+04\tM+HC13@204.06329 prob=0.92\n",
        "37. avg m/z=94.0449700236 avg RT=2611.0949707 prob=1.0\n",
        "\tfile_id 0 mz 94.04497 RT 2631.65 intensity 4.8093e+05\tM+H@93.03771 prob=1.00\n",
        "\tfile_id 1 mz 94.04497 RT 2590.54 intensity 5.5163e+05\tM+H@93.03771 prob=1.00\n",
        "38. avg m/z=245.07569194 avg RT=549.980499268 prob=1.0\n",
        "\tfile_id 0 mz 245.07571 RT 550.52 intensity 1.0811e+06\tM+H@244.06844 prob=1.00\n",
        "\tfile_id 1 mz 245.07567 RT 549.45 intensity 1.0649e+06\tM+H@244.06844 prob=1.00\n",
        "39. avg m/z=94.0450699089 avg RT=2225.15002441 prob=1.0\n",
        "\tfile_id 0 mz 94.04509 RT 2213.83 intensity 1.6631e+06\tM+H@93.03780 prob=1.00\n",
        "\tfile_id 1 mz 94.04505 RT 2236.47 intensity 1.7415e+06\tM+H@93.03780 prob=1.00\n",
        "40. avg m/z=82.5370855608 avg RT=2350.36499023 prob=1.0\n",
        "\tfile_id 0 mz 82.53708 RT 2350.83 intensity 9.2343e+04\tM+H@81.52981 prob=1.00\n",
        "\tfile_id 1 mz 82.53709 RT 2349.90 intensity 9.7692e+04\tM+H@81.52981 prob=1.00\n",
        "41. avg m/z=214.917451475 avg RT=2112.01501465 prob=1.0\n",
        "\tfile_id 0 mz 214.91746 RT 2114.26 intensity 1.1792e+05\tM+H@213.91018 prob=1.00\n",
        "\tfile_id 1 mz 214.91744 RT 2109.77 intensity 1.1157e+05\tM+H@213.91018 prob=1.00\n",
        "42. avg m/z=94.0449696805 avg RT=2728.42492676 prob=1.0\n",
        "\tfile_id 0 mz 94.04498 RT 2720.39 intensity 4.7391e+05\tM+H@93.03770 prob=0.98\n",
        "\tfile_id 1 mz 94.04496 RT 2736.46 intensity 6.0351e+05\tM+H@93.03770 prob=1.00\n",
        "43. avg m/z=81.5205663035 avg RT=2724.79492188 prob=1.0\n",
        "\tfile_id 0 mz 81.52057 RT 2737.45 intensity 1.6792e+06\tM+H@80.51330 prob=1.00\n",
        "\tfile_id 1 mz 81.52056 RT 2712.14 intensity 1.6979e+06\tM+H@80.51330 prob=0.97\n",
        "44. avg m/z=205.070522283 avg RT=829.092010498 prob=1.0\n",
        "\tfile_id 0 mz 205.07052 RT 831.73 intensity 1.2211e+06\tM+H@204.06329 prob=1.00\n",
        "\tfile_id 1 mz 205.07052 RT 826.46 intensity 1.1786e+06\tM+H@204.06329 prob=1.00\n",
        "45. avg m/z=89.5066526529 avg RT=2695.58007812 prob=1.0\n",
        "\tfile_id 0 mz 89.50666 RT 2704.83 intensity 1.9016e+05\tM+H@88.49937 prob=1.00\n",
        "\tfile_id 1 mz 89.50664 RT 2686.33 intensity 2.6270e+05\tM+H@88.49937 prob=1.00\n",
        "46. avg m/z=81.5205620051 avg RT=2340.51000977 prob=1.0\n",
        "\tfile_id 0 mz 81.52056 RT 2347.75 intensity 2.2368e+06\tM+H@80.51329 prob=1.00\n",
        "\tfile_id 1 mz 81.52056 RT 2333.27 intensity 2.2488e+06\tM+H@80.51329 prob=1.00\n",
        "47. avg m/z=130.049677173 avg RT=1021.62997437 prob=1.0\n",
        "\tfile_id 0 mz 130.04969 RT 1016.69 intensity 1.4656e+05\tM+H@129.04241 prob=1.00\n",
        "\tfile_id 1 mz 130.04967 RT 1026.57 intensity 1.3583e+05\tM+H@129.04241 prob=1.00\n",
        "48. avg m/z=79.0178551056 avg RT=2404.67504883 prob=1.0\n",
        "\tfile_id 0 mz 79.01786 RT 2390.99 intensity 7.6808e+04\tM+H@78.01059 prob=1.00\n",
        "\tfile_id 1 mz 79.01785 RT 2418.36 intensity 1.1114e+05\tM+H@78.01059 prob=1.00\n",
        "49. avg m/z=233.091712666 avg RT=823.391998291 prob=1.0\n",
        "\tfile_id 0 mz 233.09172 RT 824.59 intensity 9.1289e+04\tM+H@232.08444 prob=1.00\n",
        "\tfile_id 1 mz 233.09171 RT 822.19 intensity 1.0422e+05\tM+H@232.08444 prob=1.00\n",
        "50. avg m/z=175.118680851 avg RT=1585.05499268 prob=1.0\n",
        "\tfile_id 0 mz 175.11870 RT 1585.76 intensity 4.9764e+05\tM+H@174.11142 prob=1.00\n",
        "\tfile_id 1 mz 175.11866 RT 1584.35 intensity 5.0214e+05\tM+H@174.11142 prob=1.00\n",
        "51. avg m/z=102.033774932 avg RT=2365.93005371 prob=1.0\n",
        "\tfile_id 0 mz 102.03378 RT 2392.54 intensity 4.8553e+06\tM+H@101.02650 prob=1.00\n",
        "\tfile_id 1 mz 102.03377 RT 2339.32 intensity 5.9512e+06\tM+H@101.02650 prob=0.69\n",
        "52. avg m/z=348.097655429 avg RT=551.436004639 prob=1.0\n",
        "\tfile_id 0 mz 348.09770 RT 547.59 intensity 2.6841e+05\tM+HC13@346.08723 prob=0.52\n",
        "\tfile_id 1 mz 348.09761 RT 555.28 intensity 2.6082e+05\tM+HC13@346.08723 prob=0.55\n",
        "53. avg m/z=174.091180629 avg RT=341.133499146 prob=1.0\n",
        "\tfile_id 0 mz 174.09115 RT 334.97 intensity 7.1290e+05\tM+H@173.08391 prob=1.00\n",
        "\tfile_id 1 mz 174.09122 RT 347.30 intensity 5.9440e+05\tM+H@173.08391 prob=1.00\n",
        "54. avg m/z=219.083611429 avg RT=568.173492432 prob=1.0\n",
        "\tfile_id 0 mz 219.08363 RT 566.52 intensity 3.1452e+05\tM+H@218.07635 prob=1.00\n",
        "\tfile_id 1 mz 219.08360 RT 569.83 intensity 3.1054e+05\tM+H@218.07635 prob=1.00\n",
        "55. avg m/z=347.59607038 avg RT=555.808502197 prob=1.0\n",
        "\tfile_id 0 mz 348.09772 RT 559.25 intensity 2.2014e+05\tM+HC13@346.08723 prob=0.56\n",
        "\tfile_id 1 mz 347.09442 RT 552.36 intensity 2.2481e+06\tM+H@346.08723 prob=1.00\n",
        "56. avg m/z=95.0437200955 avg RT=2483.98498535 prob=1.0\n",
        "\tfile_id 0 mz 95.04373 RT 2493.25 intensity 8.9979e+04\tM+H@94.03646 prob=1.00\n",
        "\tfile_id 1 mz 95.04371 RT 2474.72 intensity 1.0628e+05\tM+H@94.03646 prob=1.00\n",
        "57. avg m/z=89.5066768858 avg RT=2493.98498535 prob=1.0\n",
        "\tfile_id 0 mz 89.50669 RT 2502.59 intensity 2.2170e+05\tM+H@88.49941 prob=1.00\n",
        "\tfile_id 1 mz 89.50667 RT 2485.38 intensity 2.7182e+05\tM+H@88.49941 prob=1.00\n",
        "58. avg m/z=82.537088719 avg RT=2402.39001465 prob=1.0\n",
        "\tfile_id 0 mz 82.53709 RT 2390.99 intensity 1.0623e+05\tM+H@81.52981 prob=1.00\n",
        "\tfile_id 1 mz 82.53709 RT 2413.79 intensity 1.1977e+05\tM+H@81.52981 prob=1.00\n",
        "59. avg m/z=94.0451338438 avg RT=2134.9050293 prob=1.0\n",
        "\tfile_id 0 mz 94.04517 RT 2115.74 intensity 1.7204e+06\tM+H@93.03783 prob=1.00\n",
        "\tfile_id 1 mz 94.04510 RT 2154.07 intensity 2.0806e+06\tM+H@93.03783 prob=1.00\n",
        "60. avg m/z=182.985050335 avg RT=2035.44500732 prob=1.0\n",
        "\tfile_id 0 mz 182.98508 RT 2037.08 intensity 7.3615e+05\tM+H@181.97780 prob=0.75\n",
        "\tfile_id 1 mz 182.98503 RT 2033.81 intensity 9.0079e+05\tM+H@181.97780 prob=0.84\n",
        "61. avg m/z=95.0438612499 avg RT=2114.98999023 prob=1.0\n",
        "\tfile_id 0 mz 95.04387 RT 2121.68 intensity 2.4653e+05\tM+H@94.03658 prob=1.00\n",
        "\tfile_id 1 mz 95.04385 RT 2108.30 intensity 2.9066e+05\tM+H@94.03658 prob=1.00\n",
        "62. avg m/z=101.070831979 avg RT=1012.69500732 prob=1.0\n",
        "\tfile_id 0 mz 101.07085 RT 1018.18 intensity 2.0648e+05\tM+H@100.06357 prob=1.00\n",
        "\tfile_id 1 mz 101.07082 RT 1007.21 intensity 2.1360e+05\tM+H@100.06357 prob=1.00\n",
        "63. avg m/z=102.535317204 avg RT=2479.56506348 prob=1.0\n",
        "\tfile_id 0 mz 102.53533 RT 2507.29 intensity 2.5080e+05\tM+H@101.52805 prob=1.00\n",
        "\tfile_id 1 mz 102.53530 RT 2451.84 intensity 3.5971e+05\tM+H@101.52805 prob=1.00\n",
        "64. avg m/z=246.079401951 avg RT=551.43951416 prob=1.0\n",
        "\tfile_id 0 mz 246.07938 RT 553.43 intensity 8.8747e+04\tM+HC13@244.06844 prob=0.51\n",
        "\tfile_id 1 mz 246.07942 RT 549.45 intensity 9.2407e+04\tM+HC13@244.06844 prob=0.54\n",
        "65. avg m/z=95.0437144056 avg RT=2517.75 prob=1.0\n",
        "\tfile_id 0 mz 95.04373 RT 2516.57 intensity 8.0826e+04\tM+H@94.03646 prob=1.00\n",
        "\tfile_id 1 mz 95.04370 RT 2518.93 intensity 9.5486e+04\tM+H@94.03646 prob=1.00\n",
        "66. avg m/z=172.007093276 avg RT=1005.96499634 prob=1.0\n",
        "\tfile_id 0 mz 172.00712 RT 1004.72 intensity 9.3884e+04\tM+H@170.99984 prob=1.00\n",
        "\tfile_id 1 mz 172.00707 RT 1007.21 intensity 9.8494e+04\tM+H@170.99984 prob=1.00\n",
        "67. avg m/z=95.0437043508 avg RT=2725.55493164 prob=1.0\n",
        "\tfile_id 0 mz 95.04371 RT 2737.45 intensity 6.9529e+04\tM+H@94.03644 prob=1.00\n",
        "\tfile_id 1 mz 95.04369 RT 2713.66 intensity 7.3654e+04\tM+H@94.03644 prob=1.00\n",
        "68. avg m/z=131.070030772 avg RT=403.029495239 prob=1.0\n",
        "\tfile_id 0 mz 131.07004 RT 402.32 intensity 8.6238e+04\tM+H@130.06277 prob=1.00\n",
        "\tfile_id 1 mz 131.07002 RT 403.74 intensity 8.1895e+04\tM+H@130.06277 prob=1.00\n",
        "69. avg m/z=162.471652306 avg RT=2631.33508301 prob=1.0\n",
        "\tfile_id 0 mz 182.98493 RT 2609.81 intensity 1.6639e+05\tM+ACN+H@140.95113 prob=1.00\n",
        "\tfile_id 1 mz 141.95837 RT 2652.86 intensity 1.5064e+05\tM+H@140.95113 prob=0.99\n",
        "70. avg m/z=125.98619824 avg RT=2124.53991699 prob=1.0\n",
        "\tfile_id 0 mz 125.98621 RT 2121.68 intensity 3.5569e+06\tM+H@124.97893 prob=0.51\n",
        "\tfile_id 1 mz 125.98619 RT 2127.40 intensity 3.0844e+06\tM+H@124.97893 prob=0.65\n",
        "71. avg m/z=95.0438110773 avg RT=2188.93493652 prob=1.0\n",
        "\tfile_id 0 mz 95.04382 RT 2195.48 intensity 2.3000e+05\tM+H@94.03655 prob=1.00\n",
        "\tfile_id 1 mz 95.04381 RT 2182.39 intensity 2.8943e+05\tM+H@94.03655 prob=1.00\n",
        "72. avg m/z=82.53709594 avg RT=2728.66491699 prob=1.0\n",
        "\tfile_id 0 mz 82.53709 RT 2746.70 intensity 1.3889e+05\tM+H@81.52982 prob=1.00\n",
        "\tfile_id 1 mz 82.53710 RT 2710.63 intensity 1.3036e+05\tM+H@81.52982 prob=1.00\n",
        "73. avg m/z=104.030044435 avg RT=2369.77001953 prob=1.0\n",
        "\tfile_id 0 mz 104.03005 RT 2400.22 intensity 1.0991e+05\tM+H@103.02277 prob=1.00\n",
        "\tfile_id 1 mz 104.03004 RT 2339.32 intensity 1.2870e+05\tM+H@103.02277 prob=0.67\n",
        "74. avg m/z=409.160154191 avg RT=588.647003174 prob=1.0\n",
        "\tfile_id 0 mz 409.16017 RT 587.00 intensity 9.1784e+05\tM+H@408.15289 prob=1.00\n",
        "\tfile_id 1 mz 409.16014 RT 590.29 intensity 9.6348e+05\tM+H@408.15289 prob=1.00\n",
        "75. avg m/z=268.117493789 avg RT=704.378997803 prob=1.0\n",
        "\tfile_id 0 mz 268.11752 RT 706.90 intensity 9.9470e+05\tM+H@267.11024 prob=1.00\n",
        "\tfile_id 1 mz 268.11747 RT 701.86 intensity 9.9792e+05\tM+H@267.11024 prob=1.00\n",
        "76. avg m/z=375.125617773 avg RT=394.880004883 prob=1.0\n",
        "\tfile_id 0 mz 375.12562 RT 402.32 intensity 1.5056e+05\tM+H@374.11834 prob=1.00\n",
        "\tfile_id 1 mz 375.12562 RT 387.44 intensity 1.1464e+05\tM+H@374.11834 prob=1.00\n",
        "77. avg m/z=269.087697821 avg RT=618.342010498 prob=1.0\n",
        "\tfile_id 0 mz 269.08771 RT 616.70 intensity 2.7088e+06\tM+2H@536.16115 prob=0.51\n",
        "\tfile_id 1 mz 269.08769 RT 619.99 intensity 2.7620e+06\tM+2H@536.16115 prob=0.53\n",
        "78. avg m/z=104.030101213 avg RT=2112.01501465 prob=1.0\n",
        "\tfile_id 0 mz 104.03012 RT 2114.26 intensity 4.9491e+05\tM+H@103.02284 prob=1.00\n",
        "\tfile_id 1 mz 104.03009 RT 2109.77 intensity 5.3232e+05\tM+H@103.02284 prob=1.00\n",
        "79. avg m/z=104.030044538 avg RT=2289.41003418 prob=1.0\n",
        "\tfile_id 0 mz 104.03005 RT 2309.11 intensity 1.4175e+05\tM+H@103.02278 prob=1.00\n",
        "\tfile_id 1 mz 104.03004 RT 2269.71 intensity 1.7241e+05\tM+H@103.02278 prob=1.00\n",
        "80. avg m/z=125.042407701 avg RT=456.615005493 prob=1.0\n",
        "\tfile_id 0 mz 125.04241 RT 455.39 intensity 2.9677e+05\tM+HC13@123.03190 prob=0.52\n",
        "\tfile_id 1 mz 125.04240 RT 457.84 intensity 3.0713e+05\tM+HC13@123.03190 prob=0.52\n",
        "81. avg m/z=95.0438154984 avg RT=2177.48510742 prob=1.0\n",
        "\tfile_id 0 mz 95.04384 RT 2153.11 intensity 2.5361e+05\tM+H@94.03655 prob=1.00\n",
        "\tfile_id 1 mz 95.04379 RT 2201.86 intensity 2.7212e+05\tM+H@94.03655 prob=0.81\n",
        "82. avg m/z=254.101911963 avg RT=795.806976318 prob=1.0\n",
        "\tfile_id 0 mz 254.10193 RT 795.52 intensity 1.3403e+05\tM+H@253.09465 prob=1.00\n",
        "\tfile_id 1 mz 254.10189 RT 796.09 intensity 1.4363e+05\tM+H@253.09465 prob=1.00\n",
        "83. avg m/z=72.0807918234 avg RT=1966.17498779 prob=1.0\n",
        "\tfile_id 0 mz 72.08080 RT 1963.25 intensity 2.7542e+05\tM+H@71.07352 prob=1.00\n",
        "\tfile_id 1 mz 72.08078 RT 1969.10 intensity 2.6617e+05\tM+H@71.07352 prob=1.00\n",
        "84. avg m/z=366.108280286 avg RT=757.734008789 prob=1.0\n",
        "\tfile_id 0 mz 366.10830 RT 756.58 intensity 4.6430e+05\tM+HC13@364.09775 prob=0.57\n",
        "\tfile_id 1 mz 366.10826 RT 758.89 intensity 5.1223e+05\tM+HC13@364.09775 prob=0.57\n",
        "85. avg m/z=205.070389504 avg RT=380.344009399 prob=1.0\n",
        "\tfile_id 0 mz 205.07041 RT 381.14 intensity 1.7920e+05\tM+H@204.06314 prob=1.00\n",
        "\tfile_id 1 mz 205.07037 RT 379.55 intensity 1.7059e+05\tM+H@204.06314 prob=1.00\n",
        "86. avg m/z=126.021824305 avg RT=976.971008301 prob=1.0\n",
        "\tfile_id 0 mz 126.02184 RT 975.61 intensity 5.0879e+05\tM+H@125.01456 prob=1.00\n",
        "\tfile_id 1 mz 126.02181 RT 978.33 intensity 5.0396e+05\tM+H@125.01456 prob=1.00\n",
        "87. avg m/z=167.012698514 avg RT=2244.97009277 prob=1.0\n",
        "\tfile_id 0 mz 167.01271 RT 2236.84 intensity 2.1469e+06\tM+ACN+H@124.97888 prob=0.74\n",
        "\tfile_id 1 mz 167.01269 RT 2253.10 intensity 2.0308e+06\tM+ACN+H@124.97888 prob=0.96\n",
        "88. avg m/z=104.004162374 avg RT=2554.59997559 prob=1.0\n",
        "\tfile_id 0 mz 82.02224 RT 2543.05 intensity 1.1621e+05\tM+H@81.01496 prob=1.00\n",
        "\tfile_id 1 mz 125.98609 RT 2566.15 intensity 4.3708e+05\tM+2Na-H@81.01496 prob=1.00\n",
        "89. avg m/z=89.5066498366 avg RT=2746.15002441 prob=1.0\n",
        "\tfile_id 0 mz 89.50666 RT 2746.70 intensity 2.0098e+05\tM+H@88.49938 prob=1.00\n",
        "\tfile_id 1 mz 89.50664 RT 2745.60 intensity 2.4923e+05\tM+H@88.49938 prob=1.00\n",
        "90. avg m/z=149.023154655 avg RT=355.603988647 prob=1.0\n",
        "\tfile_id 0 mz 149.02317 RT 356.33 intensity 1.2593e+06\tM+H@148.01589 prob=1.00\n",
        "\tfile_id 1 mz 149.02314 RT 354.88 intensity 1.2018e+06\tM+H@148.01589 prob=1.00\n",
        "91. avg m/z=94.5457702751 avg RT=2058.96508789 prob=1.0\n",
        "\tfile_id 0 mz 94.54571 RT 2067.58 intensity 1.1561e+06\tM+H@93.53844 prob=1.00\n",
        "\tfile_id 1 mz 94.54583 RT 2050.35 intensity 1.6211e+06\tM+H@93.53844 prob=1.00\n",
        "92. avg m/z=95.0437649354 avg RT=2286.11999512 prob=1.0\n",
        "\tfile_id 0 mz 95.04378 RT 2278.35 intensity 2.2355e+05\tM+H@94.03649 prob=0.98\n",
        "\tfile_id 1 mz 95.04375 RT 2293.89 intensity 2.0558e+05\tM+H@94.03649 prob=1.00\n",
        "93. avg m/z=159.968762241 avg RT=2.97925502062 prob=1.0\n",
        "\tfile_id 0 mz 159.96877 RT 4.42 intensity 1.1335e+05\tM+H@158.96149 prob=1.00\n",
        "\tfile_id 1 mz 159.96876 RT 1.54 intensity 1.6849e+05\tM+H@158.96149 prob=1.00\n",
        "94. avg m/z=94.0451217685 avg RT=2143.20507812 prob=1.0\n",
        "\tfile_id 0 mz 94.04513 RT 2151.61 intensity 1.7164e+06\tM+H@93.03783 prob=1.00\n",
        "\tfile_id 1 mz 94.04511 RT 2134.80 intensity 1.7670e+06\tM+H@93.03783 prob=1.00\n",
        "95. avg m/z=95.0437778893 avg RT=2244.97009277 prob=1.0\n",
        "\tfile_id 0 mz 95.04379 RT 2236.84 intensity 2.3991e+05\tM+H@94.03651 prob=1.00\n",
        "\tfile_id 1 mz 95.04377 RT 2253.10 intensity 2.4595e+05\tM+H@94.03651 prob=1.00\n",
        "96. avg m/z=143.996531667 avg RT=37.85435009 prob=1.0\n",
        "\tfile_id 0 mz 143.99653 RT 19.16 intensity 1.3568e+05\tM+H@142.98926 prob=1.00\n",
        "\tfile_id 1 mz 143.99653 RT 56.54 intensity 1.4949e+05\tM+H@142.98926 prob=1.00\n",
        "97. avg m/z=110.008678748 avg RT=2059.67004395 prob=1.0\n",
        "\tfile_id 0 mz 110.00869 RT 2062.99 intensity 2.4299e+05\tM+H@109.00145 prob=1.00\n",
        "\tfile_id 1 mz 110.00867 RT 2056.35 intensity 2.6700e+05\tM+H@109.00145 prob=1.00\n",
        "98. avg m/z=94.545362444 avg RT=4.40778493881 prob=1.0\n",
        "\tfile_id 0 mz 94.54538 RT 4.42 intensity 7.4467e+04\tM+H@93.53810 prob=1.00\n",
        "\tfile_id 1 mz 94.54535 RT 4.39 intensity 7.4466e+04\tM+H@93.53810 prob=1.00\n",
        "99. avg m/z=141.958387478 avg RT=2630.85009766 prob=1.0\n",
        "\tfile_id 0 mz 141.95840 RT 2630.08 intensity 9.7871e+04\tM+H@140.95113 prob=1.00\n",
        "\tfile_id 1 mz 141.95837 RT 2631.62 intensity 1.3375e+05\tM+H@140.95113 prob=1.00\n",
        "100. avg m/z=95.0468414031 avg RT=2058.20507812 prob=1.0\n",
        "\tfile_id 0 mz 95.04687 RT 2066.06 intensity 6.9293e+04\tM+H@94.03959 prob=1.00\n",
        "\tfile_id 1 mz 95.04682 RT 2050.35 intensity 7.9459e+04\tM+H@94.03959 prob=1.00\n",
        "101. avg m/z=167.012624985 avg RT=2482.42004395 prob=1.0\n",
        "\tfile_id 0 mz 167.01263 RT 2488.61 intensity 5.9112e+05\tM+ACN+H@124.97885 prob=0.91\n",
        "\tfile_id 1 mz 167.01262 RT 2476.23 intensity 7.0660e+05\tM+ACN+H@124.97885 prob=0.99\n",
        "102. avg m/z=167.012597868 avg RT=2578.66003418 prob=1.0\n",
        "\tfile_id 0 mz 167.01261 RT 2592.70 intensity 4.5112e+05\tM+H@166.00534 prob=0.68\n",
        "\tfile_id 1 mz 167.01258 RT 2564.62 intensity 5.2879e+05\tM+H@166.00534 prob=0.99\n",
        "103. avg m/z=474.217774336 avg RT=794.345977783 prob=1.0\n",
        "\tfile_id 0 mz 474.21784 RT 795.52 intensity 1.5431e+05\tM+H@473.21056 prob=1.00\n",
        "\tfile_id 1 mz 474.21771 RT 793.17 intensity 1.5095e+05\tM+H@473.21056 prob=1.00\n",
        "104. avg m/z=95.0437025159 avg RT=2673.02502441 prob=1.0\n",
        "\tfile_id 0 mz 95.04371 RT 2664.30 intensity 7.1086e+04\tM+H@94.03643 prob=1.00\n",
        "\tfile_id 1 mz 95.04369 RT 2681.75 intensity 7.4563e+04\tM+H@94.03643 prob=1.00\n",
        "105. avg m/z=252.089681834 avg RT=794.345977783 prob=1.0\n",
        "\tfile_id 0 mz 252.08970 RT 795.52 intensity 3.3395e+05\tM+H@251.08242 prob=1.00\n",
        "\tfile_id 1 mz 252.08967 RT 793.17 intensity 3.6898e+05\tM+H@251.08242 prob=1.00\n",
        "106. avg m/z=348.069738083 avg RT=1044.45501709 prob=1.0\n",
        "\tfile_id 0 mz 348.06976 RT 1054.81 intensity 1.4465e+05\tM+H@347.06260 prob=1.00\n",
        "\tfile_id 1 mz 348.06972 RT 1034.10 intensity 2.0950e+05\tM+H@347.06260 prob=1.00\n",
        "107. avg m/z=229.081554988 avg RT=471.963500977 prob=1.0\n",
        "\tfile_id 0 mz 229.08157 RT 472.31 intensity 2.4318e+05\tM+H@228.07429 prob=1.00\n",
        "\tfile_id 1 mz 229.08154 RT 471.62 intensity 2.2679e+05\tM+H@228.07429 prob=1.00\n",
        "108. avg m/z=377.145102279 avg RT=466.584503174 prob=1.0\n",
        "\tfile_id 0 mz 377.14513 RT 464.62 intensity 9.6173e+05\tM+H@376.13785 prob=1.00\n",
        "\tfile_id 1 mz 377.14507 RT 468.55 intensity 9.6057e+05\tM+H@376.13785 prob=1.00\n",
        "109. avg m/z=141.05440834 avg RT=560.174499512 prob=1.0\n",
        "\tfile_id 0 mz 141.05442 RT 565.07 intensity 7.8498e+04\tM+H@140.04715 prob=1.00\n",
        "\tfile_id 1 mz 141.05439 RT 555.28 intensity 6.9380e+04\tM+H@140.04715 prob=1.00\n",
        "110. avg m/z=246.096736675 avg RT=563.81149292 prob=1.0\n",
        "\tfile_id 0 mz 246.09677 RT 563.61 intensity 5.3130e+05\tM+ACN+H@204.06325 prob=0.53\n",
        "\tfile_id 1 mz 246.09670 RT 564.01 intensity 4.4800e+05\tM+ACN+H@204.06325 prob=0.53\n",
        "111. avg m/z=467.136728131 avg RT=757.721984863 prob=1.0\n",
        "\tfile_id 0 mz 467.13677 RT 745.96 intensity 6.8076e+05\tM+H@466.12950 prob=1.00\n",
        "\tfile_id 1 mz 467.13668 RT 769.49 intensity 4.6376e+05\tM+H@466.12950 prob=1.00\n",
        "112. avg m/z=81.5205097115 avg RT=1667.55999756 prob=1.0\n",
        "\tfile_id 0 mz 81.52051 RT 1684.14 intensity 3.7460e+05\tM+H@80.51324 prob=1.00\n",
        "\tfile_id 1 mz 81.52051 RT 1650.98 intensity 2.7251e+05\tM+H@80.51324 prob=0.99\n",
        "113. avg m/z=162.471651732 avg RT=2703.95996094 prob=1.0\n",
        "\tfile_id 0 mz 182.98492 RT 2706.39 intensity 1.6804e+05\tM+ACN+H@140.95111 prob=0.98\n",
        "\tfile_id 1 mz 141.95838 RT 2701.53 intensity 1.3572e+05\tM+H@140.95111 prob=1.00\n",
        "114. avg m/z=141.958396589 avg RT=2597.68505859 prob=1.0\n",
        "\tfile_id 0 mz 141.95842 RT 2591.12 intensity 1.0083e+05\tM+H@140.95113 prob=0.76\n",
        "\tfile_id 1 mz 141.95837 RT 2604.25 intensity 1.4310e+05\tM+H@140.95113 prob=1.00\n",
        "115. avg m/z=125.986064817 avg RT=56.1520004272 prob=1.0\n",
        "\tfile_id 0 mz 125.98609 RT 55.76 intensity 3.4094e+05\tM+2Na-H@81.01497 prob=0.52\n",
        "\tfile_id 1 mz 125.98604 RT 56.54 intensity 3.2420e+05\tM+2Na-H@81.01497 prob=0.52\n",
        "116. avg m/z=307.128275085 avg RT=773.664001465 prob=1.0\n",
        "\tfile_id 0 mz 307.12829 RT 774.82 intensity 1.2297e+05\tM+H@306.12101 prob=1.00\n",
        "\tfile_id 1 mz 307.12826 RT 772.51 intensity 1.1970e+05\tM+H@306.12101 prob=1.00\n",
        "117. avg m/z=169.049314635 avg RT=560.901000977 prob=1.0\n",
        "\tfile_id 0 mz 169.04935 RT 566.52 intensity 4.5380e+05\tM+H@168.04207 prob=1.00\n",
        "\tfile_id 1 mz 169.04928 RT 555.28 intensity 3.9166e+05\tM+H@168.04207 prob=1.00\n",
        "118. avg m/z=153.032642774 avg RT=2081.79003906 prob=1.0\n",
        "\tfile_id 0 mz 153.03262 RT 2053.81 intensity 3.1107e+05\tM+H@152.02534 prob=1.00\n",
        "\tfile_id 1 mz 153.03267 RT 2109.77 intensity 6.5293e+04\tM+H@152.02534 prob=1.00\n",
        "119. avg m/z=95.0438310967 avg RT=2162.64001465 prob=1.0\n",
        "\tfile_id 0 mz 95.04383 RT 2171.21 intensity 2.6929e+05\tM+H@94.03655 prob=1.00\n",
        "\tfile_id 1 mz 95.04383 RT 2154.07 intensity 2.9621e+05\tM+H@94.03655 prob=1.00\n",
        "120. avg m/z=465.249308864 avg RT=348.772003174 prob=1.0\n",
        "\tfile_id 0 mz 465.24934 RT 345.69 intensity 6.0870e+05\tM+H@464.24206 prob=1.00\n",
        "\tfile_id 1 mz 465.24928 RT 351.85 intensity 6.0342e+05\tM+H@464.24206 prob=1.00\n",
        "121. avg m/z=325.165328009 avg RT=734.942993164 prob=1.0\n",
        "\tfile_id 0 mz 325.16537 RT 735.24 intensity 7.6331e+04\tM+H@324.15809 prob=1.00\n",
        "\tfile_id 1 mz 325.16529 RT 734.65 intensity 6.9847e+04\tM+H@324.15809 prob=1.00\n",
        "122. avg m/z=162.471750438 avg RT=2187.46496582 prob=1.0\n",
        "\tfile_id 0 mz 182.98506 RT 2197.02 intensity 1.8988e+05\tM+ACN+H@140.95116 prob=0.61\n",
        "\tfile_id 1 mz 141.95844 RT 2177.91 intensity 7.1075e+04\tM+H@140.95116 prob=1.00\n",
        "123. avg m/z=148.096509948 avg RT=896.489990234 prob=1.0\n",
        "\tfile_id 0 mz 148.09653 RT 896.47 intensity 1.1396e+05\tM+H@147.08925 prob=1.00\n",
        "\tfile_id 1 mz 148.09649 RT 896.51 intensity 1.0221e+05\tM+H@147.08925 prob=1.00\n",
        "124. avg m/z=487.23111224 avg RT=342.687011719 prob=1.0\n",
        "\tfile_id 0 mz 487.23119 RT 345.69 intensity 2.1443e+05\tM+Na@464.24206 prob=0.61\n",
        "\tfile_id 1 mz 487.23104 RT 339.68 intensity 3.5880e+05\tM+Na@464.24206 prob=0.53\n",
        "125. avg m/z=133.06854755 avg RT=1001.48797607 prob=1.0\n",
        "\tfile_id 0 mz 133.06856 RT 1004.72 intensity 9.1669e+04\tM+HC13@131.05805 prob=0.52\n",
        "\tfile_id 1 mz 133.06853 RT 998.26 intensity 8.1705e+04\tM+HC13@131.05805 prob=0.55\n",
        "126. avg m/z=198.002631284 avg RT=811.872009277 prob=1.0\n",
        "\tfile_id 0 mz 198.00264 RT 813.08 intensity 1.0553e+06\tM+NH4@179.96869 prob=0.51\n",
        "\tfile_id 1 mz 198.00262 RT 810.67 intensity 1.1052e+06\tM+NH4@179.96869 prob=0.53\n",
        "127. avg m/z=190.049585034 avg RT=357.877990723 prob=1.0\n",
        "\tfile_id 0 mz 190.04959 RT 357.84 intensity 1.2653e+05\tM+ACN+H@148.01589 prob=0.53\n",
        "\tfile_id 1 mz 190.04958 RT 357.91 intensity 1.2358e+05\tM+ACN+H@148.01589 prob=0.53\n",
        "128. avg m/z=167.012563654 avg RT=81.7152023315 prob=1.0\n",
        "\tfile_id 0 mz 167.01258 RT 85.51 intensity 4.2395e+05\tM+H@166.00530 prob=0.99\n",
        "\tfile_id 1 mz 167.01255 RT 77.92 intensity 4.5902e+05\tM+H@166.00530 prob=0.89\n",
        "129. avg m/z=102.033734953 avg RT=2615.82495117 prob=1.0\n",
        "\tfile_id 0 mz 102.03374 RT 2647.23 intensity 2.1641e+06\tM+H@101.02647 prob=0.56\n",
        "\tfile_id 1 mz 102.03373 RT 2584.42 intensity 2.6305e+06\tM+H@101.02647 prob=1.00\n",
        "130. avg m/z=451.099204931 avg RT=103.85200119 prob=1.0\n",
        "\tfile_id 0 mz 451.09925 RT 103.13 intensity 9.3136e+04\tM+H@450.09197 prob=1.00\n",
        "\tfile_id 1 mz 451.09916 RT 104.58 intensity 9.1528e+04\tM+H@450.09197 prob=1.00\n",
        "131. avg m/z=82.0222380512 avg RT=2199.50500488 prob=1.0\n",
        "\tfile_id 0 mz 82.02224 RT 2204.65 intensity 2.0922e+05\tM+H@81.01496 prob=1.00\n",
        "\tfile_id 1 mz 82.02224 RT 2194.36 intensity 2.0621e+05\tM+H@81.01496 prob=1.00\n",
        "132. avg m/z=82.5370935572 avg RT=2637.1151123 prob=1.0\n",
        "\tfile_id 0 mz 82.53709 RT 2644.11 intensity 1.3163e+05\tM+H@81.52981 prob=1.00\n",
        "\tfile_id 1 mz 82.53710 RT 2630.12 intensity 1.2392e+05\tM+H@81.52981 prob=1.00\n",
        "133. avg m/z=265.015277358 avg RT=2049.04504395 prob=1.0\n",
        "\tfile_id 0 mz 265.01529 RT 2047.74 intensity 1.1221e+05\tM+H@264.00801 prob=1.00\n",
        "\tfile_id 1 mz 265.01526 RT 2050.35 intensity 1.3595e+05\tM+H@264.00801 prob=1.00\n",
        "134. avg m/z=137.064793579 avg RT=898.776000977 prob=1.0\n",
        "\tfile_id 0 mz 137.06480 RT 898.00 intensity 1.3261e+05\tM+HC13@135.05435 prob=0.52\n",
        "\tfile_id 1 mz 137.06478 RT 899.55 intensity 1.2077e+05\tM+HC13@135.05435 prob=0.52\n",
        "135. avg m/z=151.035015902 avg RT=2720.88000488 prob=1.0\n",
        "\tfile_id 0 mz 151.03504 RT 2723.50 intensity 1.7713e+05\tM+H@150.02775 prob=1.00\n",
        "\tfile_id 1 mz 151.03499 RT 2718.26 intensity 1.9146e+05\tM+H@150.02775 prob=1.00\n",
        "136. avg m/z=273.094007492 avg RT=385.085998535 prob=1.0\n",
        "\tfile_id 0 mz 273.09403 RT 385.92 intensity 7.3338e+05\tM+H@272.08676 prob=1.00\n",
        "\tfile_id 1 mz 273.09398 RT 384.26 intensity 7.5022e+05\tM+H@272.08676 prob=1.00\n",
        "137. avg m/z=169.049263421 avg RT=827.661010742 prob=1.0\n",
        "\tfile_id 0 mz 169.04930 RT 823.16 intensity 2.1473e+05\tM+H@168.04202 prob=1.00\n",
        "\tfile_id 1 mz 169.04923 RT 832.16 intensity 1.8488e+05\tM+H@168.04202 prob=1.00\n",
        "138. avg m/z=102.532298582 avg RT=2097.80505371 prob=1.0\n",
        "\tfile_id 0 mz 102.53230 RT 2087.31 intensity 2.0950e+05\tM+H@101.52502 prob=1.00\n",
        "\tfile_id 1 mz 102.53230 RT 2108.30 intensity 3.0313e+05\tM+H@101.52502 prob=1.00\n",
        "139. avg m/z=287.099682429 avg RT=400.569503784 prob=1.0\n",
        "\tfile_id 0 mz 287.09971 RT 400.67 intensity 3.1545e+05\tM+Na@264.11051 prob=0.51\n",
        "\tfile_id 1 mz 287.09965 RT 400.47 intensity 3.5861e+05\tM+Na@264.11051 prob=0.51\n",
        "140. avg m/z=95.0437493875 avg RT=2328.39501953 prob=1.0\n",
        "\tfile_id 0 mz 95.04376 RT 2346.20 intensity 1.6628e+05\tM+H@94.03649 prob=0.98\n",
        "\tfile_id 1 mz 95.04374 RT 2310.59 intensity 2.1358e+05\tM+H@94.03649 prob=1.00\n",
        "141. avg m/z=151.03503794 avg RT=2526.28991699 prob=1.0\n",
        "\tfile_id 0 mz 151.03505 RT 2533.65 intensity 2.0760e+05\tM+H@150.02777 prob=1.00\n",
        "\tfile_id 1 mz 151.03503 RT 2518.93 intensity 2.3868e+05\tM+H@150.02777 prob=1.00\n",
        "142. avg m/z=117.054459888 avg RT=468.885513306 prob=1.0\n",
        "\tfile_id 0 mz 117.05447 RT 467.69 intensity 3.6875e+05\tM+H@116.04719 prob=1.00\n",
        "\tfile_id 1 mz 117.05445 RT 470.08 intensity 3.5868e+05\tM+H@116.04719 prob=1.00\n",
        "143. avg m/z=151.035161372 avg RT=2220.55993652 prob=1.0\n",
        "\tfile_id 0 mz 151.03519 RT 2204.65 intensity 4.3566e+05\tM+H@150.02790 prob=1.00\n",
        "\tfile_id 1 mz 151.03513 RT 2236.47 intensity 4.4919e+05\tM+H@150.02790 prob=1.00\n",
        "144. avg m/z=393.136140052 avg RT=477.386993408 prob=1.0\n",
        "\tfile_id 0 mz 393.13618 RT 475.41 intensity 2.7135e+05\tM+H@392.12890 prob=1.00\n",
        "\tfile_id 1 mz 393.13610 RT 479.36 intensity 2.5585e+05\tM+H@392.12890 prob=1.00\n",
        "145. avg m/z=102.53530343 avg RT=2588.55993652 prob=1.0\n",
        "\tfile_id 0 mz 102.53532 RT 2592.70 intensity 1.9554e+05\tM+H@101.52804 prob=0.99\n",
        "\tfile_id 1 mz 102.53529 RT 2584.42 intensity 2.3794e+05\tM+H@101.52804 prob=1.00\n",
        "146. avg m/z=94.0449763716 avg RT=2566.23510742 prob=1.0\n",
        "\tfile_id 0 mz 94.04499 RT 2567.85 intensity 4.9385e+05\tM+H@93.03771 prob=1.00\n",
        "\tfile_id 1 mz 94.04497 RT 2564.62 intensity 6.6059e+05\tM+H@93.03771 prob=1.00\n",
        "147. avg m/z=162.471712124 avg RT=2355.94006348 prob=1.0\n",
        "\tfile_id 0 mz 182.98499 RT 2378.61 intensity 1.9167e+05\tM+ACN+H@140.95114 prob=1.00\n",
        "\tfile_id 1 mz 141.95843 RT 2333.27 intensity 7.0303e+04\tM+H@140.95114 prob=1.00\n",
        "148. avg m/z=255.944016586 avg RT=2112.01501465 prob=1.0\n",
        "\tfile_id 0 mz 255.94404 RT 2114.26 intensity 5.9481e+05\tM+ACN+H@213.91018 prob=0.52\n",
        "\tfile_id 1 mz 255.94399 RT 2109.77 intensity 6.6507e+05\tM+ACN+H@213.91018 prob=0.52\n",
        "149. avg m/z=104.030034274 avg RT=2474.54492188 prob=1.0\n",
        "\tfile_id 0 mz 104.03004 RT 2463.71 intensity 7.3113e+04\tM+H@103.02277 prob=1.00\n",
        "\tfile_id 1 mz 104.03003 RT 2485.38 intensity 7.3378e+04\tM+H@103.02277 prob=1.00\n",
        "150. avg m/z=441.133201516 avg RT=831.227996826 prob=1.0\n",
        "\tfile_id 0 mz 441.13325 RT 830.30 intensity 1.1809e+05\tM+H@440.12597 prob=1.00\n",
        "\tfile_id 1 mz 441.13315 RT 832.16 intensity 1.2701e+05\tM+H@440.12597 prob=1.00\n",
        "151. avg m/z=151.035213541 avg RT=2152.14990234 prob=1.0\n",
        "\tfile_id 0 mz 151.03521 RT 2160.64 intensity 5.0522e+05\tM+H@150.02795 prob=1.00\n",
        "\tfile_id 1 mz 151.03521 RT 2143.66 intensity 5.3256e+05\tM+H@150.02795 prob=1.00\n",
        "152. avg m/z=319.135679246 avg RT=401.395004272 prob=1.0\n",
        "\tfile_id 0 mz 319.13574 RT 402.32 intensity 8.7507e+04\tM+H@318.12846 prob=1.00\n",
        "\tfile_id 1 mz 319.13562 RT 400.47 intensity 8.8192e+04\tM+H@318.12846 prob=1.00\n",
        "153. avg m/z=162.471654724 avg RT=2581.65002441 prob=1.0\n",
        "\tfile_id 0 mz 182.98492 RT 2589.56 intensity 1.7104e+05\tM+ACN+H@140.95113 prob=0.53\n",
        "\tfile_id 1 mz 141.95839 RT 2573.74 intensity 1.4325e+05\tM+H@140.95113 prob=1.00\n",
        "154. avg m/z=101.115204134 avg RT=815.496002197 prob=1.0\n",
        "\tfile_id 0 mz 101.11521 RT 814.54 intensity 1.4002e+06\tM+HC13@99.10468 prob=0.53\n",
        "\tfile_id 1 mz 101.11520 RT 816.46 intensity 1.4334e+06\tM+HC13@99.10468 prob=0.53\n",
        "155. avg m/z=144.047512709 avg RT=1770.04498291 prob=1.0\n",
        "\tfile_id 0 mz 144.04753 RT 1766.86 intensity 1.8349e+05\tM+H@143.04025 prob=1.00\n",
        "\tfile_id 1 mz 144.04749 RT 1773.23 intensity 1.8840e+05\tM+H@143.04025 prob=1.00\n",
        "156. avg m/z=513.247089881 avg RT=856.724975586 prob=1.0\n",
        "\tfile_id 0 mz 513.24705 RT 859.55 intensity 1.5192e+05\tM+H@512.23977 prob=1.00\n",
        "\tfile_id 1 mz 513.24713 RT 853.90 intensity 1.5010e+05\tM+H@512.23977 prob=1.00\n",
        "157. avg m/z=122.546933808 avg RT=2545.92004395 prob=1.0\n",
        "\tfile_id 0 mz 122.54695 RT 2516.57 intensity 2.1372e+05\tM+H@121.53966 prob=1.00\n",
        "\tfile_id 1 mz 122.54692 RT 2575.27 intensity 2.0908e+05\tM+H@121.53966 prob=0.80\n",
        "158. avg m/z=189.073625246 avg RT=788.49899292 prob=1.0\n",
        "\tfile_id 0 mz 189.07363 RT 789.67 intensity 1.0371e+05\tM+HC13@187.06313 prob=0.53\n",
        "\tfile_id 1 mz 189.07362 RT 787.33 intensity 1.0977e+05\tM+HC13@187.06313 prob=0.53\n",
        "159. avg m/z=95.0437206106 avg RT=2520.69506836 prob=1.0\n",
        "\tfile_id 0 mz 95.04374 RT 2507.29 intensity 8.0161e+04\tM+H@94.03646 prob=1.00\n",
        "\tfile_id 1 mz 95.04371 RT 2534.10 intensity 8.6827e+04\tM+H@94.03646 prob=1.00\n",
        "160. avg m/z=205.070501321 avg RT=566.720489502 prob=1.0\n",
        "\tfile_id 0 mz 205.07052 RT 563.61 intensity 1.9433e+06\tM+H@204.06325 prob=1.00\n",
        "\tfile_id 1 mz 205.07048 RT 569.83 intensity 1.6785e+06\tM+H@204.06325 prob=1.00\n",
        "161. avg m/z=270.090869343 avg RT=618.342010498 prob=1.0\n",
        "\tfile_id 0 mz 270.09089 RT 616.70 intensity 2.6674e+05\tM+HC13@268.08043 prob=0.52\n",
        "\tfile_id 1 mz 270.09085 RT 619.99 intensity 2.8268e+05\tM+HC13@268.08043 prob=0.52\n",
        "162. avg m/z=89.5066502989 avg RT=2611.84997559 prob=1.0\n",
        "\tfile_id 0 mz 89.50666 RT 2631.65 intensity 1.8458e+05\tM+H@88.49939 prob=1.00\n",
        "\tfile_id 1 mz 89.50664 RT 2592.05 intensity 2.5294e+05\tM+H@88.49939 prob=0.97\n",
        "163. avg m/z=342.117706339 avg RT=423.402496338 prob=1.0\n",
        "\tfile_id 0 mz 342.11774 RT 420.40 intensity 1.1163e+05\tM+H@341.11047 prob=1.00\n",
        "\tfile_id 1 mz 342.11767 RT 426.41 intensity 1.3349e+05\tM+H@341.11047 prob=1.00\n",
        "164. avg m/z=102.054809268 avg RT=1048.20996094 prob=1.0\n",
        "\tfile_id 0 mz 102.05483 RT 1045.45 intensity 1.6902e+05\tM+H@101.04753 prob=1.00\n",
        "\tfile_id 1 mz 102.05479 RT 1050.97 intensity 1.4691e+05\tM+H@101.04753 prob=1.00\n",
        "165. avg m/z=104.030040524 avg RT=2298.34997559 prob=1.0\n",
        "\tfile_id 0 mz 104.03005 RT 2293.70 intensity 1.5627e+05\tM+H@103.02278 prob=1.00\n",
        "\tfile_id 1 mz 104.03003 RT 2303.00 intensity 1.5560e+05\tM+H@103.02278 prob=1.00\n",
        "166. avg m/z=98.0963083681 avg RT=344.973999023 prob=1.0\n",
        "\tfile_id 0 mz 98.09631 RT 344.17 intensity 8.6850e+04\tM+H@97.08903 prob=1.00\n",
        "\tfile_id 1 mz 98.09631 RT 345.78 intensity 6.5126e+04\tM+H@97.08903 prob=1.00\n",
        "167. avg m/z=311.179511733 avg RT=831.230987549 prob=1.0\n",
        "\tfile_id 0 mz 311.17954 RT 833.15 intensity 1.0009e+05\tM+H@310.17227 prob=1.00\n",
        "\tfile_id 1 mz 311.17948 RT 829.31 intensity 8.9981e+04\tM+H@310.17227 prob=1.00\n",
        "168. avg m/z=151.03496836 avg RT=51.5693492889 prob=1.0\n",
        "\tfile_id 0 mz 151.03499 RT 49.60 intensity 1.5777e+05\tM+H@150.02771 prob=1.00\n",
        "\tfile_id 1 mz 151.03495 RT 53.54 intensity 1.6905e+05\tM+H@150.02771 prob=1.00\n",
        "169. avg m/z=81.0334597981 avg RT=468.885513306 prob=1.0\n",
        "\tfile_id 0 mz 81.03347 RT 467.69 intensity 1.8156e+05\tM+H@80.02619 prob=1.00\n",
        "\tfile_id 1 mz 81.03345 RT 470.08 intensity 1.7760e+05\tM+H@80.02619 prob=1.00\n",
        "170. avg m/z=360.149536744 avg RT=784.013977051 prob=1.0\n",
        "\tfile_id 0 mz 360.14959 RT 795.52 intensity 7.6679e+04\tM+H@359.14232 prob=1.00\n",
        "\tfile_id 1 mz 360.14948 RT 772.51 intensity 1.0977e+05\tM+H@359.14232 prob=1.00\n",
        "171. avg m/z=81.5205269084 avg RT=1786.875 prob=1.0\n",
        "\tfile_id 0 mz 81.52053 RT 1779.13 intensity 5.0658e+05\tM+H@80.51326 prob=1.00\n",
        "\tfile_id 1 mz 81.52052 RT 1794.62 intensity 4.7533e+05\tM+H@80.51326 prob=0.83\n",
        "172. avg m/z=372.185918349 avg RT=787.026000977 prob=1.0\n",
        "\tfile_id 0 mz 372.18601 RT 786.73 intensity 1.1671e+05\tM+H@371.17873 prob=1.00\n",
        "\tfile_id 1 mz 372.18583 RT 787.33 intensity 1.2585e+05\tM+H@371.17873 prob=1.00\n",
        "173. avg m/z=426.160114273 avg RT=739.541992188 prob=1.0\n",
        "\tfile_id 0 mz 426.16015 RT 741.38 intensity 1.5211e+05\tM+H@425.15287 prob=1.00\n",
        "\tfile_id 1 mz 426.16008 RT 737.71 intensity 1.5746e+05\tM+H@425.15287 prob=1.00\n",
        "174. avg m/z=177.101957586 avg RT=967.470001221 prob=1.0\n",
        "\tfile_id 0 mz 177.10197 RT 969.27 intensity 1.4683e+06\tM+NH4@159.06818 prob=0.53\n",
        "\tfile_id 1 mz 177.10194 RT 965.67 intensity 1.4440e+06\tM+NH4@159.06818 prob=0.51\n",
        "175. avg m/z=95.545327567 avg RT=2045.99505615 prob=1.0\n",
        "\tfile_id 0 mz 95.54534 RT 2041.64 intensity 9.2597e+04\tM+H@94.53806 prob=1.00\n",
        "\tfile_id 1 mz 95.54532 RT 2050.35 intensity 9.8456e+04\tM+H@94.53806 prob=1.00\n",
        "176. avg m/z=160.075443211 avg RT=967.475982666 prob=1.0\n",
        "\tfile_id 0 mz 160.07546 RT 970.86 intensity 1.1754e+06\tM+H@159.06818 prob=1.00\n",
        "\tfile_id 1 mz 160.07543 RT 964.09 intensity 1.1679e+06\tM+H@159.06818 prob=1.00\n",
        "177. avg m/z=83.5170823701 avg RT=2110.46508789 prob=1.0\n",
        "\tfile_id 0 mz 83.51709 RT 2102.35 intensity 1.4207e+05\tM+H@82.50981 prob=1.00\n",
        "\tfile_id 1 mz 83.51708 RT 2118.58 intensity 1.6409e+05\tM+H@82.50981 prob=1.00\n",
        "178. avg m/z=243.097121835 avg RT=422.61050415 prob=1.0\n",
        "\tfile_id 0 mz 243.09714 RT 421.99 intensity 4.9324e+05\tM+H@242.08987 prob=1.00\n",
        "\tfile_id 1 mz 243.09710 RT 423.23 intensity 5.2567e+05\tM+H@242.08987 prob=1.00\n",
        "179. avg m/z=79.0178176333 avg RT=42.3997497559 prob=1.0\n",
        "\tfile_id 0 mz 79.01783 RT 38.86 intensity 1.3862e+05\tM+H@78.01056 prob=1.00\n",
        "\tfile_id 1 mz 79.01780 RT 45.94 intensity 1.4223e+05\tM+H@78.01056 prob=1.00\n",
        "180. avg m/z=122.54692506 avg RT=2591.61999512 prob=1.0\n",
        "\tfile_id 0 mz 122.54693 RT 2592.70 intensity 1.3154e+05\tM+H@121.53965 prob=1.00\n",
        "\tfile_id 1 mz 122.54692 RT 2590.54 intensity 1.6701e+05\tM+H@121.53965 prob=1.00\n",
        "181. avg m/z=120.065333696 avg RT=1046.67498779 prob=1.0\n",
        "\tfile_id 0 mz 120.06534 RT 1050.11 intensity 1.1981e+06\tM+H@119.05807 prob=0.52\n",
        "\tfile_id 1 mz 120.06533 RT 1043.24 intensity 1.1606e+06\tM+H@119.05807 prob=0.60\n",
        "182. avg m/z=70.0126355 avg RT=2729.27502441 prob=1.0\n",
        "\tfile_id 0 mz 70.01264 RT 2729.68 intensity 3.1741e+05\tM+H@69.00537 prob=1.00\n",
        "\tfile_id 1 mz 70.01263 RT 2728.87 intensity 2.7476e+05\tM+H@69.00537 prob=1.00\n",
        "183. avg m/z=95.0437419373 avg RT=2412.27001953 prob=1.0\n",
        "\tfile_id 0 mz 95.04375 RT 2392.54 intensity 1.5047e+05\tM+H@94.03648 prob=1.00\n",
        "\tfile_id 1 mz 95.04373 RT 2432.00 intensity 1.3486e+05\tM+H@94.03648 prob=1.00\n",
        "184. avg m/z=81.0446978737 avg RT=972.227996826 prob=1.0\n",
        "\tfile_id 0 mz 81.04470 RT 972.44 intensity 1.7095e+05\tM+H@80.03742 prob=1.00\n",
        "\tfile_id 1 mz 81.04470 RT 972.01 intensity 1.7043e+05\tM+H@80.03742 prob=1.00\n",
        "185. avg m/z=73.5317917486 avg RT=2703.35998535 prob=1.0\n",
        "\tfile_id 0 mz 73.53180 RT 2720.39 intensity 3.3901e+05\tM+H@72.52452 prob=1.00\n",
        "\tfile_id 1 mz 73.53178 RT 2686.33 intensity 3.0808e+05\tM+H@72.52452 prob=1.00\n",
        "186. avg m/z=79.0179380896 avg RT=2111.97009277 prob=1.0\n",
        "\tfile_id 0 mz 79.01795 RT 2106.83 intensity 8.2762e+04\tM+H@78.01068 prob=1.00\n",
        "\tfile_id 1 mz 79.01792 RT 2117.11 intensity 6.8156e+04\tM+H@78.01068 prob=1.00\n",
        "187. avg m/z=95.0437020513 avg RT=2741.57995605 prob=1.0\n",
        "\tfile_id 0 mz 95.04371 RT 2746.70 intensity 7.5739e+04\tM+H@94.03644 prob=1.00\n",
        "\tfile_id 1 mz 95.04369 RT 2736.46 intensity 7.3437e+04\tM+H@94.03644 prob=1.00\n",
        "188. avg m/z=159.023913443 avg RT=2080.84008789 prob=1.0\n",
        "\tfile_id 0 mz 159.02392 RT 2087.31 intensity 9.7275e+04\tM+H@158.01665 prob=1.00\n",
        "\tfile_id 1 mz 159.02390 RT 2074.37 intensity 1.2743e+05\tM+H@158.01665 prob=1.00\n",
        "189. avg m/z=95.0437857566 avg RT=2228.98498535 prob=1.0\n",
        "\tfile_id 0 mz 95.04380 RT 2221.50 intensity 2.2145e+05\tM+H@94.03651 prob=1.00\n",
        "\tfile_id 1 mz 95.04377 RT 2236.47 intensity 2.4588e+05\tM+H@94.03651 prob=1.00\n",
        "190. avg m/z=102.033770123 avg RT=2357.26501465 prob=1.0\n",
        "\tfile_id 0 mz 102.03377 RT 2358.55 intensity 4.8934e+06\tM+H@101.02650 prob=1.00\n",
        "\tfile_id 1 mz 102.03377 RT 2355.98 intensity 5.7629e+06\tM+H@101.02650 prob=1.00\n",
        "191. avg m/z=95.0437272052 avg RT=2456.10998535 prob=1.0\n",
        "\tfile_id 0 mz 95.04374 RT 2448.21 intensity 1.1719e+05\tM+H@94.03646 prob=1.00\n",
        "\tfile_id 1 mz 95.04372 RT 2464.01 intensity 1.2177e+05\tM+H@94.03646 prob=1.00\n",
        "192. avg m/z=151.035125408 avg RT=2285.30993652 prob=1.0\n",
        "\tfile_id 0 mz 151.03513 RT 2270.66 intensity 3.4782e+05\tM+H@150.02786 prob=1.00\n",
        "\tfile_id 1 mz 151.03512 RT 2299.96 intensity 3.6320e+05\tM+H@150.02786 prob=1.00\n",
        "193. avg m/z=102.03374183 avg RT=2539.98498535 prob=1.0\n",
        "\tfile_id 0 mz 102.03375 RT 2533.65 intensity 2.6136e+06\tM+H@101.02647 prob=1.00\n",
        "\tfile_id 1 mz 102.03373 RT 2546.32 intensity 2.9076e+06\tM+H@101.02647 prob=1.00\n",
        "194. avg m/z=577.133321823 avg RT=90.2894020081 prob=1.0\n",
        "\tfile_id 0 mz 577.13346 RT 76.00 intensity 9.0062e+04\tM+H@576.12581 prob=1.00\n",
        "\tfile_id 1 mz 577.13319 RT 104.58 intensity 1.4717e+05\tM+H@576.12581 prob=1.00\n",
        "195. avg m/z=162.471711273 avg RT=2277.03503418 prob=1.0\n",
        "\tfile_id 0 mz 182.98500 RT 2278.35 intensity 1.8329e+05\tM+ACN+H@140.95115 prob=1.00\n",
        "\tfile_id 1 mz 141.95842 RT 2275.72 intensity 6.6084e+04\tM+H@140.95115 prob=1.00\n",
        "196. avg m/z=146.499370239 avg RT=2480.83508301 prob=1.0\n",
        "\tfile_id 0 mz 125.98612 RT 2479.33 intensity 4.7349e+05\tM+H@124.97885 prob=0.51\n",
        "\tfile_id 1 mz 167.01262 RT 2482.34 intensity 6.6481e+05\tM+ACN+H@124.97885 prob=0.98\n",
        "197. avg m/z=94.0449708089 avg RT=2673.02502441 prob=1.0\n",
        "\tfile_id 0 mz 94.04498 RT 2664.30 intensity 4.7994e+05\tM+H@93.03769 prob=1.00\n",
        "\tfile_id 1 mz 94.04496 RT 2681.75 intensity 5.7197e+05\tM+H@93.03769 prob=1.00\n",
        "198. avg m/z=187.490066685 avg RT=810.414001465 prob=1.0\n",
        "\tfile_id 0 mz 178.97675 RT 810.16 intensity 7.6659e+04\tM+H@177.96947 prob=1.00\n",
        "\tfile_id 1 mz 196.00339 RT 810.67 intensity 4.7504e+05\tM+NH4@177.96947 prob=0.52\n",
        "199. avg m/z=89.5066494128 avg RT=2640.25500488 prob=1.0\n",
        "\tfile_id 0 mz 89.50666 RT 2653.45 intensity 1.7835e+05\tM+H@88.49939 prob=0.77\n",
        "\tfile_id 1 mz 89.50664 RT 2627.06 intensity 2.3806e+05\tM+H@88.49939 prob=1.00\n",
        "200. avg m/z=137.045640415 avg RT=618.360015869 prob=1.0\n",
        "\tfile_id 0 mz 137.04565 RT 621.19 intensity 4.3728e+06\tM+H@136.03837 prob=1.00\n",
        "\tfile_id 1 mz 137.04563 RT 615.53 intensity 4.2301e+06\tM+H@136.03837 prob=1.00\n",
        "201. avg m/z=102.03378359 avg RT=2301.80493164 prob=1.0\n",
        "\tfile_id 0 mz 102.03378 RT 2336.91 intensity 5.6183e+06\tM+H@101.02652 prob=0.80\n",
        "\tfile_id 1 mz 102.03379 RT 2266.70 intensity 7.4137e+06\tM+H@101.02652 prob=1.00\n",
        "202. avg m/z=73.5318179204 avg RT=2323.78503418 prob=1.0\n",
        "\tfile_id 0 mz 73.53182 RT 2341.53 intensity 3.4888e+05\tM+H@72.52455 prob=1.00\n",
        "\tfile_id 1 mz 73.53181 RT 2306.04 intensity 3.8151e+05\tM+H@72.52455 prob=1.00\n",
        "203. avg m/z=151.035221042 avg RT=2138.78503418 prob=1.0\n",
        "\tfile_id 0 mz 151.03523 RT 2153.11 intensity 5.3599e+05\tM+H@150.02795 prob=1.00\n",
        "\tfile_id 1 mz 151.03521 RT 2124.46 intensity 5.4220e+05\tM+H@150.02795 prob=1.00\n",
        "204. avg m/z=128.053250452 avg RT=987.183013916 prob=1.0\n",
        "\tfile_id 0 mz 128.05326 RT 986.64 intensity 1.0830e+05\tM+H@127.04598 prob=0.72\n",
        "\tfile_id 1 mz 128.05324 RT 987.73 intensity 1.0006e+05\tM+H@127.04598 prob=0.74\n",
        "205. avg m/z=365.105092743 avg RT=795.812988281 prob=1.0\n",
        "\tfile_id 0 mz 365.10511 RT 798.46 intensity 2.4118e+06\tM+H@364.09775 prob=1.00\n",
        "\tfile_id 1 mz 365.10508 RT 793.17 intensity 2.5692e+06\tM+H@364.09775 prob=1.00\n",
        "206. avg m/z=133.059330166 avg RT=1767.78503418 prob=1.0\n",
        "\tfile_id 0 mz 133.05935 RT 1768.40 intensity 3.3460e+06\tM+2H@264.10419 prob=0.55\n",
        "\tfile_id 1 mz 133.05931 RT 1767.17 intensity 3.3190e+06\tM+2H@264.10419 prob=0.55\n",
        "207. avg m/z=145.068595381 avg RT=561.631011963 prob=1.0\n",
        "\tfile_id 0 mz 145.06861 RT 559.25 intensity 2.1971e+05\tM+HC13@143.05810 prob=0.51\n",
        "\tfile_id 1 mz 145.06858 RT 564.01 intensity 2.1737e+05\tM+HC13@143.05810 prob=0.51\n",
        "208. avg m/z=73.5317911588 avg RT=2625.06506348 prob=1.0\n",
        "\tfile_id 0 mz 73.53180 RT 2658.08 intensity 2.8575e+05\tM+H@72.52453 prob=1.00\n",
        "\tfile_id 1 mz 73.53179 RT 2592.05 intensity 3.1158e+05\tM+H@72.52453 prob=1.00\n",
        "209. avg m/z=102.033781935 avg RT=2339.54992676 prob=1.0\n",
        "\tfile_id 0 mz 122.54701 RT 2329.20 intensity 9.3065e+05\tM+ACN+H@80.51329 prob=0.58\n",
        "\tfile_id 1 mz 81.52056 RT 2349.90 intensity 2.2442e+06\tM+H@80.51329 prob=1.00\n",
        "210. avg m/z=119.089387417 avg RT=891.95401001 prob=1.0\n",
        "\tfile_id 0 mz 119.08940 RT 890.35 intensity 1.0686e+05\tM+HC13@117.07879 prob=0.51\n",
        "\tfile_id 1 mz 119.08937 RT 893.56 intensity 8.4003e+04\tM+HC13@117.07879 prob=0.54\n",
        "211. avg m/z=365.104905465 avg RT=732.897003174 prob=1.0\n",
        "\tfile_id 0 mz 365.10487 RT 706.90 intensity 1.6513e+06\tM+H@364.09775 prob=1.00\n",
        "\tfile_id 1 mz 365.10494 RT 758.89 intensity 3.8448e+06\tM+H@364.09775 prob=1.00\n",
        "212. avg m/z=94.044986469 avg RT=2499.95007324 prob=1.0\n",
        "\tfile_id 0 mz 94.04500 RT 2488.61 intensity 6.9427e+05\tM+H@93.03772 prob=1.00\n",
        "\tfile_id 1 mz 94.04497 RT 2511.29 intensity 6.9962e+05\tM+H@93.03772 prob=1.00\n",
        "213. avg m/z=125.986038357 avg RT=32.5693502426 prob=1.0\n",
        "\tfile_id 0 mz 125.98606 RT 34.27 intensity 3.1142e+05\tM+H@124.97881 prob=0.57\n",
        "\tfile_id 1 mz 125.98602 RT 30.87 intensity 2.7941e+05\tM+H@124.97881 prob=0.58\n",
        "214. avg m/z=152.070425696 avg RT=804.584991455 prob=1.0\n",
        "\tfile_id 0 mz 152.07043 RT 804.32 intensity 1.3559e+06\tM+NH4@134.03656 prob=0.53\n",
        "\tfile_id 1 mz 152.07042 RT 804.85 intensity 1.5576e+06\tM+NH4@134.03656 prob=0.51\n",
        "215. avg m/z=82.5370927789 avg RT=2491.09997559 prob=1.0\n",
        "\tfile_id 0 mz 82.53709 RT 2522.78 intensity 1.2791e+05\tM+H@81.52981 prob=1.00\n",
        "\tfile_id 1 mz 82.53710 RT 2459.42 intensity 1.2115e+05\tM+H@81.52981 prob=0.83\n",
        "216. avg m/z=134.04453807 avg RT=1053.65002441 prob=1.0\n",
        "\tfile_id 0 mz 134.04454 RT 1053.24 intensity 7.5767e+05\tM+H@133.03727 prob=1.00\n",
        "\tfile_id 1 mz 134.04453 RT 1054.06 intensity 7.1590e+05\tM+H@133.03727 prob=1.00\n",
        "217. avg m/z=187.086309556 avg RT=816.941986084 prob=1.0\n",
        "\tfile_id 0 mz 187.08632 RT 817.43 intensity 8.1081e+04\tM+H@186.07904 prob=1.00\n",
        "\tfile_id 1 mz 187.08630 RT 816.46 intensity 9.2378e+04\tM+H@186.07904 prob=1.00\n",
        "218. avg m/z=124.086764711 avg RT=824.79598999 prob=1.0\n",
        "\tfile_id 0 mz 124.08676 RT 852.04 intensity 2.0445e+05\tM+H@123.07948 prob=1.00\n",
        "\tfile_id 1 mz 124.08677 RT 797.55 intensity 1.6179e+05\tM+H@123.07948 prob=1.00\n",
        "219. avg m/z=410.163539587 avg RT=588.647003174 prob=1.0\n",
        "\tfile_id 0 mz 410.16357 RT 587.00 intensity 1.5509e+05\tM+HC13@408.15289 prob=0.52\n",
        "\tfile_id 1 mz 410.16351 RT 590.29 intensity 1.6885e+05\tM+HC13@408.15289 prob=0.52\n",
        "220. avg m/z=225.583603442 avg RT=822.584991455 prob=1.0\n",
        "\tfile_id 0 mz 205.07037 RT 849.08 intensity 5.2730e+05\tM+H@204.06329 prob=1.00\n",
        "\tfile_id 1 mz 246.09684 RT 796.09 intensity 1.8664e+05\tM+ACN+H@204.06329 prob=0.64\n",
        "221. avg m/z=83.0855167966 avg RT=814.773010254 prob=1.0\n",
        "\tfile_id 0 mz 83.08552 RT 814.54 intensity 7.9303e+05\tM+H@82.07824 prob=1.00\n",
        "\tfile_id 1 mz 83.08552 RT 815.01 intensity 7.4700e+05\tM+H@82.07824 prob=1.00\n",
        "222. avg m/z=258.117977101 avg RT=805.847991943 prob=1.0\n",
        "\tfile_id 0 mz 258.11798 RT 831.73 intensity 1.1926e+05\tM+H@257.11071 prob=1.00\n",
        "\tfile_id 1 mz 258.11797 RT 779.97 intensity 1.1412e+05\tM+H@257.11071 prob=1.00\n",
        "223. avg m/z=102.091162376 avg RT=2.97925502062 prob=1.0\n",
        "\tfile_id 0 mz 102.09116 RT 4.42 intensity 2.6865e+06\tM+H@101.08389 prob=1.00\n",
        "\tfile_id 1 mz 102.09116 RT 1.54 intensity 3.8221e+06\tM+H@101.08389 prob=1.00\n",
        "224. avg m/z=123.040179576 avg RT=2049.81005859 prob=1.0\n",
        "\tfile_id 0 mz 123.04020 RT 2050.78 intensity 2.1215e+05\tM+H@122.03292 prob=0.51\n",
        "\tfile_id 1 mz 123.04016 RT 2048.84 intensity 2.0172e+05\tM+H@122.03292 prob=1.00\n",
        "225. avg m/z=165.054433783 avg RT=338.105499268 prob=1.0\n",
        "\tfile_id 0 mz 165.05444 RT 339.58 intensity 7.6619e+05\tM+H@164.04716 prob=1.00\n",
        "\tfile_id 1 mz 165.05443 RT 336.63 intensity 7.2810e+05\tM+H@164.04716 prob=1.00\n",
        "226. avg m/z=95.043704117 avg RT=2568.36999512 prob=1.0\n",
        "\tfile_id 0 mz 95.04371 RT 2546.20 intensity 7.6573e+04\tM+H@94.03643 prob=0.95\n",
        "\tfile_id 1 mz 95.04370 RT 2590.54 intensity 7.1507e+04\tM+H@94.03643 prob=1.00\n",
        "227. avg m/z=194.005259281 avg RT=811.872009277 prob=1.0\n",
        "\tfile_id 0 mz 194.00526 RT 813.08 intensity 1.4606e+05\tM+H@192.99799 prob=1.00\n",
        "\tfile_id 1 mz 194.00526 RT 810.67 intensity 1.7263e+05\tM+H@192.99799 prob=1.00\n",
        "228. avg m/z=90.5257273745 avg RT=50.0059509277 prob=1.0\n",
        "\tfile_id 0 mz 90.52574 RT 43.47 intensity 4.9598e+05\tM+H@89.51846 prob=1.00\n",
        "\tfile_id 1 mz 90.52572 RT 56.54 intensity 4.8086e+05\tM+H@89.51846 prob=1.00\n",
        "229. avg m/z=82.0222450984 avg RT=2111.27001953 prob=1.0\n",
        "\tfile_id 0 mz 82.02225 RT 2112.77 intensity 4.7104e+05\tM+H@81.01497 prob=1.00\n",
        "\tfile_id 1 mz 82.02224 RT 2109.77 intensity 4.7332e+05\tM+H@81.01497 prob=1.00\n",
        "230. avg m/z=210.079201193 avg RT=831.942016602 prob=1.0\n",
        "\tfile_id 0 mz 210.07921 RT 831.73 intensity 1.4959e+06\tM+H@209.07194 prob=1.00\n",
        "\tfile_id 1 mz 210.07919 RT 832.16 intensity 1.5803e+06\tM+H@209.07194 prob=1.00\n",
        "231. avg m/z=152.070344029 avg RT=907.872009277 prob=1.0\n",
        "\tfile_id 0 mz 152.07036 RT 908.62 intensity 3.4047e+05\tM+H@151.06308 prob=1.00\n",
        "\tfile_id 1 mz 152.07033 RT 907.12 intensity 3.0615e+05\tM+H@151.06308 prob=1.00\n",
        "232. avg m/z=82.5370899121 avg RT=2420.80493164 prob=1.0\n",
        "\tfile_id 0 mz 82.53709 RT 2414.16 intensity 1.1648e+05\tM+H@81.52981 prob=1.00\n",
        "\tfile_id 1 mz 82.53709 RT 2427.45 intensity 1.1272e+05\tM+H@81.52981 prob=1.00\n",
        "233. avg m/z=104.030037987 avg RT=2368.84997559 prob=1.0\n",
        "\tfile_id 0 mz 104.03005 RT 2383.25 intensity 1.1011e+05\tM+H@103.02277 prob=1.00\n",
        "\tfile_id 1 mz 104.03003 RT 2354.45 intensity 1.2697e+05\tM+H@103.02277 prob=1.00\n",
        "234. avg m/z=234.133278455 avg RT=757.746002197 prob=1.0\n",
        "\tfile_id 0 mz 234.13329 RT 759.61 intensity 6.1054e+05\tM+H@233.12602 prob=1.00\n",
        "\tfile_id 1 mz 234.13326 RT 755.88 intensity 6.0712e+05\tM+H@233.12602 prob=1.00\n",
        "235. avg m/z=102.535284477 avg RT=1754.75 prob=1.0\n",
        "\tfile_id 0 mz 102.53529 RT 1756.07 intensity 1.7494e+05\tM+H@101.52800 prob=0.98\n",
        "\tfile_id 1 mz 102.53528 RT 1753.43 intensity 1.8088e+05\tM+H@101.52800 prob=1.00\n",
        "236. avg m/z=102.535269384 avg RT=1864.375 prob=1.0\n",
        "\tfile_id 0 mz 102.53527 RT 1854.81 intensity 2.0190e+05\tM+H@101.52799 prob=1.00\n",
        "\tfile_id 1 mz 102.53526 RT 1873.94 intensity 2.2596e+05\tM+H@101.52799 prob=1.00\n",
        "237. avg m/z=127.04998171 avg RT=424.204498291 prob=1.0\n",
        "\tfile_id 0 mz 127.04999 RT 425.18 intensity 1.3089e+06\tM+H@126.04272 prob=1.00\n",
        "\tfile_id 1 mz 127.04997 RT 423.23 intensity 1.3779e+06\tM+H@126.04272 prob=1.00\n",
        "238. avg m/z=70.012718557 avg RT=2111.97009277 prob=1.0\n",
        "\tfile_id 0 mz 70.01273 RT 2106.83 intensity 4.1892e+05\tM+H@69.00546 prob=1.00\n",
        "\tfile_id 1 mz 70.01270 RT 2117.11 intensity 3.3547e+05\tM+H@69.00546 prob=1.00\n",
        "239. avg m/z=245.564491572 avg RT=545.209991455 prob=1.0\n",
        "\tfile_id 0 mz 245.06289 RT 585.53 intensity 1.3197e+06\tM+H@244.05591 prob=1.00\n",
        "\tfile_id 1 mz 246.06609 RT 504.89 intensity 2.0607e+05\tM+HC13@244.05591 prob=0.52\n",
        "240. avg m/z=82.5370992239 avg RT=2062.73510742 prob=1.0\n",
        "\tfile_id 0 mz 82.53710 RT 2069.12 intensity 2.6497e+05\tM+ACN+2H@122.03292 prob=0.74\n",
        "\tfile_id 1 mz 82.53710 RT 2056.35 intensity 3.0945e+05\tM+ACN+2H@122.03292 prob=0.61\n",
        "241. avg m/z=391.785074841 avg RT=227.229003906 prob=1.0\n",
        "\tfile_id 0 mz 392.28672 RT 215.64 intensity 8.0481e+04\tM+HC13@390.27631 prob=0.54\n",
        "\tfile_id 1 mz 391.28343 RT 238.82 intensity 2.0520e+05\tM+H@390.27631 prob=1.00\n",
        "242. avg m/z=298.096473241 avg RT=598.239501953 prob=1.0\n",
        "\tfile_id 0 mz 298.09649 RT 597.33 intensity 6.6945e+06\tM+H@297.08921 prob=1.00\n",
        "\tfile_id 1 mz 298.09646 RT 599.15 intensity 6.8150e+06\tM+H@297.08921 prob=1.00\n",
        "243. avg m/z=139.002331098 avg RT=440.242492676 prob=1.0\n",
        "\tfile_id 0 mz 139.00234 RT 439.70 intensity 9.7891e+04\tM+H@137.99507 prob=1.00\n",
        "\tfile_id 1 mz 139.00232 RT 440.78 intensity 8.9039e+04\tM+H@137.99507 prob=1.00\n",
        "244. avg m/z=81.5205266889 avg RT=1987.45501709 prob=1.0\n",
        "\tfile_id 0 mz 81.52053 RT 1994.93 intensity 7.2849e+05\tM+H@80.51326 prob=1.00\n",
        "\tfile_id 1 mz 81.52052 RT 1979.98 intensity 7.2814e+05\tM+H@80.51326 prob=0.98\n",
        "245. avg m/z=86.0598058138 avg RT=1002.97497559 prob=1.0\n",
        "\tfile_id 0 mz 86.05982 RT 1003.22 intensity 9.0013e+04\tM+H@85.05255 prob=1.00\n",
        "\tfile_id 1 mz 86.05979 RT 1002.73 intensity 7.0750e+04\tM+H@85.05255 prob=1.00\n",
        "246. avg m/z=81.5205191511 avg RT=1782.3949585 prob=1.0\n",
        "\tfile_id 0 mz 81.52052 RT 1793.08 intensity 4.8265e+05\tM+H@80.51326 prob=0.94\n",
        "\tfile_id 1 mz 81.52052 RT 1771.71 intensity 4.4320e+05\tM+H@80.51326 prob=1.00\n",
        "247. avg m/z=411.21540651 avg RT=856.724975586 prob=1.0\n",
        "\tfile_id 0 mz 411.21545 RT 859.55 intensity 1.4943e+06\tM+H@410.20817 prob=1.00\n",
        "\tfile_id 1 mz 411.21537 RT 853.90 intensity 1.4341e+06\tM+H@410.20817 prob=1.00\n",
        "248. avg m/z=124.517357131 avg RT=2196.29992676 prob=1.0\n",
        "\tfile_id 0 mz 146.49941 RT 2159.14 intensity 1.4021e+05\tM+2Na-H@101.52806 prob=0.98\n",
        "\tfile_id 1 mz 102.53530 RT 2233.46 intensity 8.0038e+05\tM+H@101.52806 prob=0.60\n",
        "249. avg m/z=574.177236432 avg RT=831.227996826 prob=1.0\n",
        "\tfile_id 0 mz 574.17725 RT 830.30 intensity 2.2572e+05\tM+H@573.16997 prob=1.00\n",
        "\tfile_id 1 mz 574.17722 RT 832.16 intensity 2.4308e+05\tM+H@573.16997 prob=1.00\n",
        "250. avg m/z=412.218771644 avg RT=856.724975586 prob=1.0\n",
        "\tfile_id 0 mz 412.21878 RT 859.55 intensity 2.4885e+05\tM+HC13@410.20817 prob=0.52\n",
        "\tfile_id 1 mz 412.21876 RT 853.90 intensity 2.3106e+05\tM+HC13@410.20817 prob=0.52\n",
        "251. avg m/z=170.080905121 avg RT=910.886993408 prob=1.0\n",
        "\tfile_id 0 mz 170.08092 RT 910.13 intensity 6.1818e+06\tM+H@169.07364 prob=1.00\n",
        "\tfile_id 1 mz 170.08089 RT 911.64 intensity 5.9735e+06\tM+H@169.07364 prob=1.00\n",
        "252. avg m/z=133.031559842 avg RT=829.803009033 prob=1.0\n",
        "\tfile_id 0 mz 133.03156 RT 827.45 intensity 1.5888e+05\tM+H@132.02428 prob=1.00\n",
        "\tfile_id 1 mz 133.03156 RT 832.16 intensity 1.7199e+05\tM+H@132.02428 prob=1.00\n",
        "253. avg m/z=124.006132661 avg RT=1010.45501709 prob=1.0\n",
        "\tfile_id 0 mz 124.00614 RT 1012.21 intensity 1.2481e+05\tM+H@122.99887 prob=1.00\n",
        "\tfile_id 1 mz 124.00612 RT 1008.70 intensity 1.2866e+05\tM+H@122.99887 prob=1.00\n",
        "254. avg m/z=73.5317937774 avg RT=2604.27001953 prob=1.0\n",
        "\tfile_id 0 mz 73.53180 RT 2634.80 intensity 2.8157e+05\tM+H@72.52453 prob=1.00\n",
        "\tfile_id 1 mz 73.53179 RT 2573.74 intensity 2.9953e+05\tM+H@72.52453 prob=1.00\n",
        "255. avg m/z=171.005458586 avg RT=2114.98999023 prob=1.0\n",
        "\tfile_id 0 mz 171.00545 RT 2121.68 intensity 1.0233e+05\tM+H@169.99818 prob=1.00\n",
        "\tfile_id 1 mz 171.00546 RT 2108.30 intensity 1.2724e+05\tM+H@169.99818 prob=1.00\n",
        "256. avg m/z=104.004194204 avg RT=2406.0 prob=1.0\n",
        "\tfile_id 0 mz 125.98614 RT 2370.87 intensity 6.1318e+05\tM+2Na-H@81.01496 prob=0.53\n",
        "\tfile_id 1 mz 82.02225 RT 2441.13 intensity 1.2760e+05\tM+H@81.01496 prob=0.97\n",
        "257. avg m/z=383.094075843 avg RT=269.288497925 prob=1.0\n",
        "\tfile_id 0 mz 383.09412 RT 268.90 intensity 7.0307e+05\tM+H@382.08685 prob=1.00\n",
        "\tfile_id 1 mz 383.09403 RT 269.68 intensity 7.7096e+05\tM+H@382.08685 prob=1.00\n",
        "258. avg m/z=195.08607174 avg RT=585.714508057 prob=1.0\n",
        "\tfile_id 0 mz 195.08609 RT 587.00 intensity 1.0280e+05\tM+H@194.07882 prob=1.00\n",
        "\tfile_id 1 mz 195.08605 RT 584.43 intensity 7.9771e+04\tM+H@194.07882 prob=1.00\n",
        "259. avg m/z=122.547001102 avg RT=2319.81994629 prob=1.0\n",
        "\tfile_id 0 mz 122.54701 RT 2321.50 intensity 1.0010e+06\tM+H@121.53974 prob=0.93\n",
        "\tfile_id 1 mz 122.54700 RT 2318.14 intensity 1.1866e+06\tM+H@121.53974 prob=0.98\n",
        "260. avg m/z=300.092052553 avg RT=596.01651001 prob=1.0\n",
        "\tfile_id 0 mz 300.09207 RT 594.36 intensity 2.7317e+05\tM+H@299.08480 prob=1.00\n",
        "\tfile_id 1 mz 300.09203 RT 597.67 intensity 2.7508e+05\tM+H@299.08480 prob=1.00\n",
        "261. avg m/z=122.546972223 avg RT=2470.22509766 prob=1.0\n",
        "\tfile_id 0 mz 122.54697 RT 2488.61 intensity 2.6833e+05\tM+H@121.53970 prob=1.00\n",
        "\tfile_id 1 mz 122.54697 RT 2451.84 intensity 4.6558e+05\tM+H@121.53970 prob=1.00\n",
        "262. avg m/z=117.138445402 avg RT=1972.48498535 prob=1.0\n",
        "\tfile_id 0 mz 117.13846 RT 1971.19 intensity 5.0109e+05\tM+H@116.13118 prob=1.00\n",
        "\tfile_id 1 mz 117.13843 RT 1973.78 intensity 5.7038e+05\tM+H@116.13118 prob=1.00\n",
        "263. avg m/z=143.996717913 avg RT=2120.13000488 prob=1.0\n",
        "\tfile_id 0 mz 143.99673 RT 2121.68 intensity 2.8126e+05\tM+H@142.98946 prob=1.00\n",
        "\tfile_id 1 mz 143.99670 RT 2118.58 intensity 3.2332e+05\tM+H@142.98946 prob=1.00\n",
        "264. avg m/z=124.543470869 avg RT=2101.67004395 prob=1.0\n",
        "\tfile_id 0 mz 124.54347 RT 2103.84 intensity 9.3622e+04\tM+H@123.53620 prob=0.79\n",
        "\tfile_id 1 mz 124.54347 RT 2099.50 intensity 8.2927e+04\tM+H@123.53620 prob=1.00\n",
        "265. avg m/z=227.052244104 avg RT=448.123001099 prob=1.0\n",
        "\tfile_id 0 mz 227.05226 RT 447.63 intensity 3.8375e+05\tM+H@226.04498 prob=1.00\n",
        "\tfile_id 1 mz 227.05223 RT 448.61 intensity 3.9758e+05\tM+H@226.04498 prob=1.00\n",
        "266. avg m/z=122.546980373 avg RT=2428.49499512 prob=1.0\n",
        "\tfile_id 0 mz 122.54699 RT 2424.99 intensity 5.5732e+05\tM+ACN+H@80.51329 prob=0.98\n",
        "\tfile_id 1 mz 122.54698 RT 2432.00 intensity 5.4922e+05\tM+ACN+H@80.51329 prob=0.76\n",
        "267. avg m/z=102.5352908 avg RT=76.5945987701 prob=1.0\n",
        "\tfile_id 0 mz 102.53530 RT 96.64 intensity 2.0482e+05\tM+H@101.52802 prob=1.00\n",
        "\tfile_id 1 mz 102.53528 RT 56.54 intensity 1.6689e+05\tM+H@101.52802 prob=1.00\n",
        "268. avg m/z=86.0962472652 avg RT=782.609985352 prob=1.0\n",
        "\tfile_id 0 mz 86.09626 RT 785.25 intensity 1.3164e+06\tM+H@85.08898 prob=1.00\n",
        "\tfile_id 1 mz 86.09624 RT 779.97 intensity 1.2858e+06\tM+H@85.08898 prob=1.00\n",
        "269. avg m/z=102.535301674 avg RT=2567.01000977 prob=1.0\n",
        "\tfile_id 0 mz 102.53531 RT 2569.40 intensity 2.0739e+05\tM+H@101.52804 prob=1.00\n",
        "\tfile_id 1 mz 102.53529 RT 2564.62 intensity 2.6462e+05\tM+H@101.52804 prob=1.00\n",
        "270. avg m/z=113.034393796 avg RT=467.351013184 prob=1.0\n",
        "\tfile_id 0 mz 113.03441 RT 464.62 intensity 5.5544e+05\tM+H@112.02713 prob=1.00\n",
        "\tfile_id 1 mz 113.03438 RT 470.08 intensity 5.3336e+05\tM+H@112.02713 prob=1.00\n",
        "271. avg m/z=106.049675093 avg RT=1114.72497559 prob=1.0\n",
        "\tfile_id 0 mz 106.04969 RT 1113.76 intensity 6.6711e+05\tM+H@105.04241 prob=1.00\n",
        "\tfile_id 1 mz 106.04966 RT 1115.69 intensity 6.5198e+05\tM+H@105.04241 prob=1.00\n",
        "272. avg m/z=102.033853686 avg RT=2112.73498535 prob=1.0\n",
        "\tfile_id 0 mz 102.03386 RT 2111.30 intensity 2.0800e+07\tM+H@101.02659 prob=1.00\n",
        "\tfile_id 1 mz 102.03385 RT 2114.17 intensity 2.3715e+07\tM+H@101.02659 prob=1.00\n",
        "273. avg m/z=73.5318135262 avg RT=2379.63000488 prob=1.0\n",
        "\tfile_id 0 mz 73.53182 RT 2398.69 intensity 3.6304e+05\tM+H@72.52454 prob=1.00\n",
        "\tfile_id 1 mz 73.53181 RT 2360.57 intensity 3.7544e+05\tM+H@72.52454 prob=0.98\n",
        "274. avg m/z=89.5067759831 avg RT=2181.23999023 prob=1.0\n",
        "\tfile_id 0 mz 89.50681 RT 2145.64 intensity 1.8574e+05\tM+H@88.49951 prob=1.00\n",
        "\tfile_id 1 mz 89.50674 RT 2216.84 intensity 2.6223e+05\tM+H@88.49951 prob=0.98\n",
        "275. avg m/z=166.086050088 avg RT=741.824981689 prob=1.0\n",
        "\tfile_id 0 mz 166.08606 RT 741.38 intensity 8.8901e+06\tM+H@165.07878 prob=1.00\n",
        "\tfile_id 1 mz 166.08604 RT 742.27 intensity 9.2452e+06\tM+H@165.07878 prob=1.00\n",
        "276. avg m/z=122.547016994 avg RT=2292.28991699 prob=1.0\n",
        "\tfile_id 0 mz 122.54703 RT 2293.70 intensity 1.3070e+06\tM+H@121.53974 prob=1.00\n",
        "\tfile_id 1 mz 122.54700 RT 2290.88 intensity 1.2213e+06\tM+H@121.53974 prob=0.99\n",
        "277. avg m/z=120.080645962 avg RT=741.066009521 prob=1.0\n",
        "\tfile_id 0 mz 120.08065 RT 741.38 intensity 1.5922e+06\tM+H@119.07338 prob=1.00\n",
        "\tfile_id 1 mz 120.08064 RT 740.75 intensity 1.4973e+06\tM+H@119.07338 prob=1.00\n",
        "278. avg m/z=81.5205321043 avg RT=2011.66998291 prob=1.0\n",
        "\tfile_id 0 mz 81.52053 RT 2010.76 intensity 7.6667e+05\tM+H@80.51326 prob=1.00\n",
        "\tfile_id 1 mz 81.52053 RT 2012.58 intensity 7.5261e+05\tM+H@80.51326 prob=1.00\n",
        "279. avg m/z=220.11755379 avg RT=847.842010498 prob=1.0\n",
        "\tfile_id 0 mz 220.11756 RT 852.04 intensity 1.1477e+05\tM+H@219.11035 prob=1.00\n",
        "\tfile_id 1 mz 220.11755 RT 843.64 intensity 1.3698e+05\tM+H@219.11035 prob=1.00\n",
        "280. avg m/z=94.0449731673 avg RT=93.4892997742 prob=1.0\n",
        "\tfile_id 0 mz 94.04499 RT 93.45 intensity 5.9687e+05\tM+H@93.03771 prob=1.00\n",
        "\tfile_id 1 mz 94.04496 RT 93.53 intensity 6.0690e+05\tM+H@93.03771 prob=1.00\n",
        "281. avg m/z=102.033774348 avg RT=2413.28491211 prob=1.0\n",
        "\tfile_id 0 mz 81.52057 RT 2421.91 intensity 2.1245e+06\tM+H@80.51329 prob=1.00\n",
        "\tfile_id 1 mz 122.54697 RT 2404.66 intensity 7.3863e+05\tM+ACN+H@80.51329 prob=0.70\n",
        "282. avg m/z=238.070759015 avg RT=537.425994873 prob=1.0\n",
        "\tfile_id 0 mz 238.07077 RT 540.22 intensity 1.7817e+05\tM+H@237.06350 prob=1.00\n",
        "\tfile_id 1 mz 238.07074 RT 534.63 intensity 1.8610e+05\tM+H@237.06350 prob=1.00\n",
        "283. avg m/z=82.5370856558 avg RT=2328.32507324 prob=1.0\n",
        "\tfile_id 0 mz 82.53709 RT 2341.53 intensity 8.9594e+04\tM+H@81.52981 prob=1.00\n",
        "\tfile_id 1 mz 82.53709 RT 2315.12 intensity 8.3273e+04\tM+H@81.52981 prob=1.00\n",
        "284. avg m/z=359.130077943 avg RT=831.227996826 prob=1.0\n",
        "\tfile_id 0 mz 359.13011 RT 830.30 intensity 1.3102e+05\tM+H@358.12283 prob=1.00\n",
        "\tfile_id 1 mz 359.13005 RT 832.16 intensity 1.5258e+05\tM+H@358.12283 prob=1.00\n",
        "285. avg m/z=81.5205699237 avg RT=2429.91003418 prob=1.0\n",
        "\tfile_id 0 mz 81.52057 RT 2409.50 intensity 2.1562e+06\tM+H@80.51329 prob=1.00\n",
        "\tfile_id 1 mz 81.52057 RT 2450.32 intensity 2.0849e+06\tM+H@80.51329 prob=1.00\n",
        "286. avg m/z=275.073329358 avg RT=563.085021973 prob=1.0\n",
        "\tfile_id 0 mz 275.07334 RT 559.25 intensity 3.7494e+05\tM+H@274.06611 prob=1.00\n",
        "\tfile_id 1 mz 275.07332 RT 566.92 intensity 4.4265e+05\tM+H@274.06611 prob=1.00\n",
        "287. avg m/z=167.012603101 avg RT=2612.34997559 prob=1.0\n",
        "\tfile_id 0 mz 167.01263 RT 2609.81 intensity 4.3321e+05\tM+ACN+H@124.97885 prob=0.84\n",
        "\tfile_id 1 mz 167.01258 RT 2614.89 intensity 4.5374e+05\tM+ACN+H@124.97885 prob=0.90\n",
        "288. avg m/z=369.350866739 avg RT=311.335006714 prob=1.0\n",
        "\tfile_id 0 mz 369.35090 RT 314.36 intensity 1.2530e+05\tM+H@368.34362 prob=1.00\n",
        "\tfile_id 1 mz 369.35084 RT 308.31 intensity 1.3899e+05\tM+H@368.34362 prob=1.00\n",
        "289. avg m/z=264.076623557 avg RT=784.820983887 prob=1.0\n",
        "\tfile_id 0 mz 264.07663 RT 789.67 intensity 1.7628e+05\tM+H@263.06936 prob=0.99\n",
        "\tfile_id 1 mz 264.07661 RT 779.97 intensity 1.7621e+05\tM+H@263.06936 prob=1.00\n",
        "290. avg m/z=222.096868779 avg RT=709.055999756 prob=1.0\n",
        "\tfile_id 0 mz 222.09688 RT 708.47 intensity 4.0710e+05\tM+H@221.08961 prob=0.56\n",
        "\tfile_id 1 mz 222.09685 RT 709.64 intensity 4.3597e+05\tM+H@221.08961 prob=0.54\n",
        "291. avg m/z=265.11776685 avg RT=398.909500122 prob=1.0\n",
        "\tfile_id 0 mz 265.11779 RT 397.35 intensity 6.8592e+04\tM+H@264.11051 prob=1.00\n",
        "\tfile_id 1 mz 265.11774 RT 400.47 intensity 7.0901e+04\tM+H@264.11051 prob=1.00\n",
        "292. avg m/z=146.499346116 avg RT=2606.23498535 prob=1.0\n",
        "\tfile_id 0 mz 125.98613 RT 2606.69 intensity 4.0710e+05\tM+H@124.97885 prob=0.78\n",
        "\tfile_id 1 mz 167.01257 RT 2605.78 intensity 4.6778e+05\tM+ACN+H@124.97885 prob=0.72\n",
        "293. avg m/z=122.546910112 avg RT=92.6945991516 prob=1.0\n",
        "\tfile_id 0 mz 122.54692 RT 91.86 intensity 5.4815e+05\tM+H@121.53964 prob=1.00\n",
        "\tfile_id 1 mz 122.54690 RT 93.53 intensity 5.7193e+05\tM+H@121.53964 prob=1.00\n",
        "294. avg m/z=100.085107353 avg RT=817.661987305 prob=1.0\n",
        "\tfile_id 0 mz 100.08509 RT 818.87 intensity 9.4392e+04\tM+H@99.07781 prob=1.00\n",
        "\tfile_id 1 mz 100.08513 RT 816.46 intensity 1.0831e+05\tM+H@99.07781 prob=1.00\n",
        "295. avg m/z=125.986078201 avg RT=2663.02990723 prob=1.0\n",
        "\tfile_id 0 mz 125.98609 RT 2651.89 intensity 3.5007e+05\tM+H@124.97879 prob=0.88\n",
        "\tfile_id 1 mz 125.98607 RT 2674.17 intensity 3.5124e+05\tM+H@124.97879 prob=1.00\n",
        "296. avg m/z=340.19620891 avg RT=816.941986084 prob=1.0\n",
        "\tfile_id 0 mz 340.19620 RT 815.99 intensity 1.4964e+05\tM+H@339.18892 prob=1.00\n",
        "\tfile_id 1 mz 340.19622 RT 817.90 intensity 1.3283e+05\tM+H@339.18892 prob=1.00\n",
        "297. avg m/z=246.096897239 avg RT=822.677978516 prob=1.0\n",
        "\tfile_id 0 mz 246.09691 RT 824.59 intensity 2.4892e+05\tM+ACN+H@204.06329 prob=0.61\n",
        "\tfile_id 1 mz 246.09688 RT 820.76 intensity 2.5329e+05\tM+ACN+H@204.06329 prob=0.55\n",
        "298. avg m/z=151.03500857 avg RT=2630.49499512 prob=1.0\n",
        "\tfile_id 0 mz 151.03502 RT 2668.94 intensity 1.6817e+05\tM+H@150.02775 prob=1.00\n",
        "\tfile_id 1 mz 151.03500 RT 2592.05 intensity 1.9649e+05\tM+H@150.02775 prob=1.00\n",
        "299. avg m/z=102.5353054 avg RT=2313.625 prob=1.0\n",
        "\tfile_id 0 mz 102.53532 RT 2309.11 intensity 5.4358e+05\tM+H@101.52803 prob=1.00\n",
        "\tfile_id 1 mz 102.53529 RT 2318.14 intensity 6.2109e+05\tM+H@101.52803 prob=0.52\n",
        "300. avg m/z=175.094372005 avg RT=339.627502441 prob=1.0\n",
        "\tfile_id 0 mz 175.09437 RT 338.05 intensity 8.1352e+04\tM+HC13@173.08391 prob=0.55\n",
        "\tfile_id 1 mz 175.09437 RT 341.21 intensity 6.4608e+04\tM+HC13@173.08391 prob=0.55\n",
        "301. avg m/z=138.510656297 avg RT=2086.83508301 prob=1.0\n",
        "\tfile_id 0 mz 138.51066 RT 2094.85 intensity 9.5381e+04\tM+H@137.50339 prob=1.00\n",
        "\tfile_id 1 mz 138.51065 RT 2078.82 intensity 1.1201e+05\tM+H@137.50339 prob=1.00\n",
        "302. avg m/z=100.111958957 avg RT=814.773010254 prob=1.0\n",
        "\tfile_id 0 mz 100.11196 RT 814.54 intensity 2.1214e+07\tM+H@99.10468 prob=0.50\n",
        "\tfile_id 1 mz 100.11196 RT 815.01 intensity 2.1694e+07\tM+H@99.10468 prob=0.50\n",
        "303. avg m/z=206.073747666 avg RT=828.377990723 prob=1.0\n",
        "\tfile_id 0 mz 206.07377 RT 827.45 intensity 8.2677e+04\tM+HC13@204.06329 prob=0.61\n",
        "\tfile_id 1 mz 206.07372 RT 829.31 intensity 8.1614e+04\tM+HC13@204.06329 prob=0.55\n",
        "304. avg m/z=310.187121982 avg RT=831.942016602 prob=1.0\n",
        "\tfile_id 0 mz 310.18714 RT 831.73 intensity 3.3968e+05\tM+HC13@308.17665 prob=0.52\n",
        "\tfile_id 1 mz 310.18711 RT 832.16 intensity 3.5249e+05\tM+HC13@308.17665 prob=0.52\n",
        "305. avg m/z=275.073371916 avg RT=578.406494141 prob=1.0\n",
        "\tfile_id 0 mz 275.07339 RT 566.52 intensity 3.9636e+05\tM+H@274.06611 prob=1.00\n",
        "\tfile_id 1 mz 275.07335 RT 590.29 intensity 2.0736e+05\tM+H@274.06611 prob=1.00\n",
        "306. avg m/z=94.0449729662 avg RT=2745.38500977 prob=1.0\n",
        "\tfile_id 0 mz 94.04498 RT 2746.70 intensity 5.5722e+05\tM+H@93.03770 prob=1.00\n",
        "\tfile_id 1 mz 94.04497 RT 2744.07 intensity 5.5697e+05\tM+H@93.03770 prob=1.00\n",
        "307. avg m/z=81.5205112774 avg RT=1594.70001221 prob=1.0\n",
        "\tfile_id 0 mz 81.52051 RT 1605.05 intensity 2.5602e+05\tM+H@80.51323 prob=1.00\n",
        "\tfile_id 1 mz 81.52052 RT 1584.35 intensity 2.1672e+05\tM+H@80.51323 prob=1.00\n",
        "308. avg m/z=73.5318233869 avg RT=2290.03503418 prob=1.0\n",
        "\tfile_id 0 mz 73.53183 RT 2296.79 intensity 3.5668e+05\tM+H@72.52455 prob=1.00\n",
        "\tfile_id 1 mz 73.53182 RT 2283.28 intensity 3.6913e+05\tM+H@72.52455 prob=1.00\n",
        "309. avg m/z=102.033790471 avg RT=2275.57995605 prob=1.0\n",
        "\tfile_id 0 mz 81.52056 RT 2284.46 intensity 2.3957e+06\tM+H@80.51329 prob=1.00\n",
        "\tfile_id 1 mz 122.54702 RT 2266.70 intensity 1.3811e+06\tM+ACN+H@80.51329 prob=0.98\n",
        "310. avg m/z=167.089257283 avg RT=741.062988281 prob=1.0\n",
        "\tfile_id 0 mz 167.08927 RT 739.85 intensity 8.8802e+05\tM+HC13@165.07878 prob=0.52\n",
        "\tfile_id 1 mz 167.08925 RT 742.27 intensity 8.8478e+05\tM+HC13@165.07878 prob=0.53\n",
        "311. avg m/z=162.471682137 avg RT=2463.78503418 prob=1.0\n",
        "\tfile_id 0 mz 182.98497 RT 2451.34 intensity 2.0963e+05\tM+ACN+H@140.95114 prob=0.96\n",
        "\tfile_id 1 mz 141.95839 RT 2476.23 intensity 1.2328e+05\tM+H@140.95114 prob=1.00\n",
        "312. avg m/z=102.033730483 avg RT=2623.26989746 prob=1.0\n",
        "\tfile_id 0 mz 102.03373 RT 2631.65 intensity 2.2118e+06\tM+H@101.02647 prob=1.00\n",
        "\tfile_id 1 mz 102.03373 RT 2614.89 intensity 2.5202e+06\tM+H@101.02647 prob=1.00\n",
        "313. avg m/z=246.066139214 avg RT=546.907989502 prob=1.0\n",
        "\tfile_id 0 mz 246.06612 RT 532.71 intensity 2.1579e+05\tM+HC13@244.05591 prob=0.57\n",
        "\tfile_id 1 mz 246.06616 RT 561.11 intensity 2.8834e+05\tM+HC13@244.05591 prob=0.53\n",
        "314. avg m/z=81.5205187589 avg RT=1961.40496826 prob=1.0\n",
        "\tfile_id 0 mz 81.52052 RT 1953.71 intensity 7.1036e+05\tM+H@80.51324 prob=1.00\n",
        "\tfile_id 1 mz 81.52052 RT 1969.10 intensity 7.0261e+05\tM+H@80.51324 prob=0.98\n",
        "315. avg m/z=89.5066645649 avg RT=2534.89501953 prob=1.0\n",
        "\tfile_id 0 mz 89.50667 RT 2550.86 intensity 2.0185e+05\tM+H@88.49939 prob=1.00\n",
        "\tfile_id 1 mz 89.50666 RT 2518.93 intensity 2.7965e+05\tM+H@88.49939 prob=0.84\n",
        "316. avg m/z=151.035103358 avg RT=2365.73498535 prob=1.0\n",
        "\tfile_id 0 mz 151.03510 RT 2375.49 intensity 2.8225e+05\tM+H@150.02783 prob=1.00\n",
        "\tfile_id 1 mz 151.03510 RT 2355.98 intensity 3.5638e+05\tM+H@150.02783 prob=1.00\n",
        "317. avg m/z=89.5067783721 avg RT=2192.7598877 prob=1.0\n",
        "\tfile_id 0 mz 89.50677 RT 2203.13 intensity 1.9418e+05\tM+H@88.49951 prob=1.00\n",
        "\tfile_id 1 mz 89.50678 RT 2182.39 intensity 2.4730e+05\tM+H@88.49951 prob=1.00\n",
        "318. avg m/z=89.5067083933 avg RT=2379.69995117 prob=1.0\n",
        "\tfile_id 0 mz 89.50671 RT 2409.50 intensity 2.3644e+05\tM+H@88.49944 prob=1.00\n",
        "\tfile_id 1 mz 89.50670 RT 2349.90 intensity 2.5845e+05\tM+H@88.49944 prob=1.00\n",
        "319. avg m/z=102.033734105 avg RT=2566.23510742 prob=1.0\n",
        "\tfile_id 0 mz 102.03374 RT 2567.85 intensity 2.3922e+06\tM+H@101.02647 prob=0.95\n",
        "\tfile_id 1 mz 102.03373 RT 2564.62 intensity 2.9638e+06\tM+H@101.02647 prob=0.99\n",
        "320. avg m/z=150.026405126 avg RT=354.088989258 prob=1.0\n",
        "\tfile_id 0 mz 150.02642 RT 353.30 intensity 9.6356e+04\tM+HC13@148.01589 prob=0.53\n",
        "\tfile_id 1 mz 150.02639 RT 354.88 intensity 8.6229e+04\tM+HC13@148.01589 prob=0.54\n",
        "321. avg m/z=152.056407272 avg RT=864.249023438 prob=1.0\n",
        "\tfile_id 0 mz 152.05642 RT 862.57 intensity 3.0388e+05\tM+H@151.04915 prob=1.00\n",
        "\tfile_id 1 mz 152.05639 RT 865.93 intensity 2.9284e+05\tM+H@151.04915 prob=1.00\n",
        "322. avg m/z=200.002689516 avg RT=811.872009277 prob=1.0\n",
        "\tfile_id 0 mz 200.00271 RT 813.08 intensity 1.3916e+05\tM+H@198.99543 prob=1.00\n",
        "\tfile_id 1 mz 200.00267 RT 810.67 intensity 1.6329e+05\tM+H@198.99543 prob=1.00\n",
        "323. avg m/z=151.03503916 avg RT=2528.44006348 prob=1.0\n",
        "\tfile_id 0 mz 151.03504 RT 2522.78 intensity 1.9038e+05\tM+H@150.02777 prob=1.00\n",
        "\tfile_id 1 mz 151.03504 RT 2534.10 intensity 2.1559e+05\tM+H@150.02777 prob=1.00\n",
        "324. avg m/z=348.989462359 avg RT=1.54009997845 prob=1.0\n",
        "\tfile_id 0 mz 348.98945 RT 1.54 intensity 8.2131e+04\tM+H@347.98217 prob=1.00\n",
        "\tfile_id 1 mz 348.98947 RT 1.54 intensity 1.1227e+05\tM+H@347.98217 prob=1.00\n",
        "325. avg m/z=70.0651597499 avg RT=386.685501099 prob=1.0\n",
        "\tfile_id 0 mz 70.06517 RT 384.32 intensity 3.7403e+05\tM+H@69.05789 prob=1.00\n",
        "\tfile_id 1 mz 70.06515 RT 389.05 intensity 3.1177e+05\tM+H@69.05789 prob=1.00\n",
        "326. avg m/z=122.546914974 avg RT=2679.22998047 prob=1.0\n",
        "\tfile_id 0 mz 122.54692 RT 2676.71 intensity 1.1531e+05\tM+H@121.53964 prob=1.00\n",
        "\tfile_id 1 mz 122.54691 RT 2681.75 intensity 1.5392e+05\tM+H@121.53964 prob=1.00\n",
        "327. avg m/z=141.958413721 avg RT=2333.72998047 prob=1.0\n",
        "\tfile_id 0 mz 141.95842 RT 2350.83 intensity 7.0123e+04\tM+H@140.95114 prob=1.00\n",
        "\tfile_id 1 mz 141.95841 RT 2316.63 intensity 6.9453e+04\tM+H@140.95114 prob=0.94\n",
        "328. avg m/z=141.958382127 avg RT=2697.91503906 prob=1.0\n",
        "\tfile_id 0 mz 141.95839 RT 2709.50 intensity 1.0014e+05\tM+H@140.95111 prob=1.00\n",
        "\tfile_id 1 mz 141.95837 RT 2686.33 intensity 1.3998e+05\tM+H@140.95111 prob=1.00\n",
        "329. avg m/z=122.546999919 avg RT=2352.625 prob=1.0\n",
        "\tfile_id 0 mz 122.54701 RT 2346.20 intensity 8.6322e+05\tM+ACN+H@80.51329 prob=1.00\n",
        "\tfile_id 1 mz 122.54699 RT 2359.05 intensity 9.9844e+05\tM+ACN+H@80.51329 prob=0.99\n",
        "330. avg m/z=548.216575937 avg RT=791.42098999 prob=1.0\n",
        "\tfile_id 0 mz 548.21670 RT 791.13 intensity 8.6652e+04\tM+HC13@546.20572 prob=0.52\n",
        "\tfile_id 1 mz 548.21645 RT 791.71 intensity 1.0054e+05\tM+HC13@546.20572 prob=0.52\n",
        "331. avg m/z=263.073370209 avg RT=816.0 prob=1.0\n",
        "\tfile_id 0 mz 263.07333 RT 849.08 intensity 7.5976e+05\tM+H@262.06625 prob=1.00\n",
        "\tfile_id 1 mz 263.07341 RT 782.92 intensity 2.4184e+06\tM+H@262.06625 prob=0.93\n",
        "332. avg m/z=239.966357836 avg RT=2080.79003906 prob=1.0\n",
        "\tfile_id 0 mz 239.96635 RT 2079.80 intensity 8.9816e+04\tM+H@238.95908 prob=1.00\n",
        "\tfile_id 1 mz 239.96636 RT 2081.78 intensity 1.0522e+05\tM+H@238.95908 prob=1.00\n",
        "333. avg m/z=132.065307681 avg RT=999.24697876 prob=1.0\n",
        "\tfile_id 0 mz 132.06532 RT 1003.22 intensity 1.8041e+06\tM+H@131.05805 prob=1.00\n",
        "\tfile_id 1 mz 132.06529 RT 995.27 intensity 1.8310e+06\tM+H@131.05805 prob=1.00\n",
        "334. avg m/z=122.547037293 avg RT=2235.15002441 prob=1.0\n",
        "\tfile_id 0 mz 122.54705 RT 2236.84 intensity 1.7147e+06\tM+H@121.53977 prob=0.79\n",
        "\tfile_id 1 mz 122.54703 RT 2233.46 intensity 1.8284e+06\tM+H@121.53977 prob=0.87\n",
        "335. avg m/z=104.052622606 avg RT=827.664001465 prob=1.0\n",
        "\tfile_id 0 mz 104.05264 RT 827.45 intensity 1.1504e+05\tM+H@103.04536 prob=1.00\n",
        "\tfile_id 1 mz 104.05261 RT 827.88 intensity 1.1151e+05\tM+H@103.04536 prob=1.00\n",
        "336. avg m/z=88.0391358328 avg RT=1053.66003418 prob=1.0\n",
        "\tfile_id 0 mz 88.03915 RT 1054.81 intensity 7.4966e+04\tM+ACN+2H@133.03727 prob=0.51\n",
        "\tfile_id 1 mz 88.03912 RT 1052.51 intensity 6.8988e+04\tM+ACN+2H@133.03727 prob=0.52\n",
        "337. avg m/z=101.096019982 avg RT=53.1714992523 prob=1.0\n",
        "\tfile_id 0 mz 101.09603 RT 60.40 intensity 1.0467e+05\tM+H@100.08875 prob=1.00\n",
        "\tfile_id 1 mz 101.09601 RT 45.94 intensity 8.6433e+04\tM+H@100.08875 prob=1.00\n",
        "338. avg m/z=161.010902457 avg RT=455.847000122 prob=1.0\n",
        "\tfile_id 0 mz 161.01091 RT 455.39 intensity 8.5807e+04\tM+H@160.00363 prob=1.00\n",
        "\tfile_id 1 mz 161.01090 RT 456.30 intensity 8.9304e+04\tM+H@160.00363 prob=1.00\n",
        "339. avg m/z=95.0437508041 avg RT=2360.2800293 prob=1.0\n",
        "\tfile_id 0 mz 95.04376 RT 2355.44 intensity 1.5694e+05\tM+H@94.03648 prob=0.98\n",
        "\tfile_id 1 mz 95.04374 RT 2365.12 intensity 1.8085e+05\tM+H@94.03648 prob=1.00\n",
        "340. avg m/z=141.958381943 avg RT=2666.91992188 prob=1.0\n",
        "\tfile_id 0 mz 141.95840 RT 2661.18 intensity 9.7946e+04\tM+H@140.95111 prob=0.61\n",
        "\tfile_id 1 mz 141.95837 RT 2672.66 intensity 1.4362e+05\tM+H@140.95111 prob=1.00\n",
        "341. avg m/z=171.991277553 avg RT=8.74797511101 prob=1.0\n",
        "\tfile_id 0 mz 171.99129 RT 5.88 intensity 8.3897e+04\tM+H@170.98401 prob=1.00\n",
        "\tfile_id 1 mz 171.99126 RT 11.61 intensity 9.6080e+04\tM+H@170.98401 prob=1.00\n",
        "342. avg m/z=307.101889674 avg RT=780.20098877 prob=1.0\n",
        "\tfile_id 0 mz 307.10191 RT 767.23 intensity 2.1120e+05\tM+H@306.09464 prob=1.00\n",
        "\tfile_id 1 mz 307.10187 RT 793.17 intensity 2.0223e+05\tM+H@306.09464 prob=1.00\n",
        "343. avg m/z=123.048622226 avg RT=2265.72509766 prob=1.0\n",
        "\tfile_id 0 mz 123.04863 RT 2278.35 intensity 1.4118e+05\tM+H@122.04136 prob=1.00\n",
        "\tfile_id 1 mz 123.04861 RT 2253.10 intensity 1.8483e+05\tM+H@122.04136 prob=0.99\n",
        "344. avg m/z=124.51739468 avg RT=2106.07006836 prob=1.0\n",
        "\tfile_id 0 mz 102.53537 RT 2103.84 intensity 1.8240e+06\tM+H@101.52810 prob=1.00\n",
        "\tfile_id 1 mz 146.49941 RT 2108.30 intensity 3.2887e+05\tM+2Na-H@101.52810 prob=0.73\n",
        "345. avg m/z=124.086733432 avg RT=412.804000854 prob=1.0\n",
        "\tfile_id 0 mz 124.08672 RT 403.96 intensity 1.4086e+05\tM+H@123.07945 prob=1.00\n",
        "\tfile_id 1 mz 124.08674 RT 421.64 intensity 1.3358e+05\tM+H@123.07945 prob=1.00\n",
        "346. avg m/z=204.086372979 avg RT=710.618988037 prob=1.0\n",
        "\tfile_id 0 mz 204.08639 RT 710.03 intensity 6.7336e+05\tM+H@203.07911 prob=1.00\n",
        "\tfile_id 1 mz 204.08636 RT 711.20 intensity 6.4748e+05\tM+H@203.07911 prob=1.00\n",
        "347. avg m/z=102.033732995 avg RT=2697.94006348 prob=1.0\n",
        "\tfile_id 0 mz 102.03373 RT 2711.08 intensity 1.9639e+06\tM+H@101.02645 prob=0.94\n",
        "\tfile_id 1 mz 102.03373 RT 2684.80 intensity 2.4839e+06\tM+H@101.02645 prob=1.00\n",
        "348. avg m/z=146.164864958 avg RT=2657.76000977 prob=1.0\n",
        "\tfile_id 0 mz 146.16488 RT 2658.08 intensity 1.2340e+05\tM+H@145.15760 prob=1.00\n",
        "\tfile_id 1 mz 146.16485 RT 2657.44 intensity 1.4835e+05\tM+H@145.15760 prob=1.00\n",
        "349. avg m/z=148.060184809 avg RT=1023.87002563 prob=1.0\n",
        "\tfile_id 0 mz 148.06020 RT 1018.18 intensity 1.3341e+06\tM+H@147.05292 prob=1.00\n",
        "\tfile_id 1 mz 148.06017 RT 1029.56 intensity 1.1920e+06\tM+H@147.05292 prob=1.00\n",
        "350. avg m/z=89.5067362165 avg RT=2254.96496582 prob=1.0\n",
        "\tfile_id 0 mz 89.50675 RT 2253.79 intensity 1.8456e+05\tM+H@88.49946 prob=1.00\n",
        "\tfile_id 1 mz 89.50673 RT 2256.14 intensity 2.3446e+05\tM+H@88.49946 prob=1.00\n",
        "351. avg m/z=102.535263284 avg RT=1939.45501709 prob=1.0\n",
        "\tfile_id 0 mz 102.53527 RT 1942.56 intensity 2.3490e+05\tM+H@101.52800 prob=1.00\n",
        "\tfile_id 1 mz 102.53525 RT 1936.35 intensity 2.5681e+05\tM+H@101.52800 prob=1.00\n",
        "352. avg m/z=115.111527698 avg RT=28.0222501755 prob=1.0\n",
        "\tfile_id 0 mz 115.11155 RT 26.69 intensity 9.3868e+04\tM+H@114.10427 prob=1.00\n",
        "\tfile_id 1 mz 115.11151 RT 29.35 intensity 8.2745e+04\tM+H@114.10427 prob=1.00\n",
        "353. avg m/z=199.586963514 avg RT=1780.83996582 prob=1.0\n",
        "\tfile_id 0 mz 133.05934 RT 1789.97 intensity 1.4943e+06\tM+2H@264.10419 prob=0.55\n",
        "\tfile_id 1 mz 266.11459 RT 1771.71 intensity 5.6047e+05\tM+HC13@264.10419 prob=0.54\n",
        "354. avg m/z=133.060507298 avg RT=1111.41497803 prob=1.0\n",
        "\tfile_id 0 mz 133.06052 RT 1112.08 intensity 7.5552e+05\tM+H@132.05324 prob=1.00\n",
        "\tfile_id 1 mz 133.06050 RT 1110.75 intensity 7.5544e+05\tM+H@132.05324 prob=1.00\n",
        "355. avg m/z=135.043829221 avg RT=804.584991455 prob=1.0\n",
        "\tfile_id 0 mz 135.04384 RT 804.32 intensity 4.2202e+05\tM+H@134.03656 prob=1.00\n",
        "\tfile_id 1 mz 135.04382 RT 804.85 intensity 3.9082e+05\tM+H@134.03656 prob=1.00\n",
        "356. avg m/z=102.033757887 avg RT=2445.52502441 prob=1.0\n",
        "\tfile_id 0 mz 102.03376 RT 2459.05 intensity 3.6615e+06\tM+H@101.02648 prob=1.00\n",
        "\tfile_id 1 mz 102.03376 RT 2432.00 intensity 4.4367e+06\tM+H@101.02648 prob=1.00\n",
        "357. avg m/z=227.124743363 avg RT=1039.73999023 prob=1.0\n",
        "\tfile_id 0 mz 227.12477 RT 1042.34 intensity 1.1622e+06\tM+H@226.11749 prob=1.00\n",
        "\tfile_id 1 mz 227.12472 RT 1037.14 intensity 1.1681e+06\tM+H@226.11749 prob=1.00\n",
        "358. avg m/z=74.5305796137 avg RT=2055.08007812 prob=1.0\n",
        "\tfile_id 0 mz 74.53058 RT 2053.81 intensity 2.6605e+05\tM+H@73.52331 prob=1.00\n",
        "\tfile_id 1 mz 74.53057 RT 2056.35 intensity 2.4730e+05\tM+H@73.52331 prob=1.00\n",
        "359. avg m/z=151.035124927 avg RT=2321.19006348 prob=1.0\n",
        "\tfile_id 0 mz 151.03513 RT 2309.11 intensity 3.3895e+05\tM+H@150.02786 prob=1.00\n",
        "\tfile_id 1 mz 151.03512 RT 2333.27 intensity 3.5165e+05\tM+H@150.02786 prob=0.75\n",
        "360. avg m/z=246.096769518 avg RT=818.933990479 prob=1.0\n",
        "\tfile_id 0 mz 246.09673 RT 849.08 intensity 1.0865e+05\tM+ACN+H@204.06329 prob=0.52\n",
        "\tfile_id 1 mz 246.09681 RT 788.79 intensity 1.7602e+05\tM+ACN+H@204.06329 prob=0.66\n",
        "361. avg m/z=378.148474834 avg RT=465.820007324 prob=1.0\n",
        "\tfile_id 0 mz 378.14852 RT 464.62 intensity 1.4865e+05\tM+HC13@376.13785 prob=0.54\n",
        "\tfile_id 1 mz 378.14843 RT 467.02 intensity 1.5163e+05\tM+HC13@376.13785 prob=0.54\n",
        "362. avg m/z=82.0222471523 avg RT=2711.89001465 prob=1.0\n",
        "\tfile_id 0 mz 82.02224 RT 2737.45 intensity 1.0996e+05\tM+H@81.01497 prob=1.00\n",
        "\tfile_id 1 mz 82.02225 RT 2686.33 intensity 1.0742e+05\tM+H@81.01497 prob=1.00\n",
        "363. avg m/z=365.105005666 avg RT=763.031982422 prob=1.0\n",
        "\tfile_id 0 mz 365.10502 RT 756.58 intensity 3.4974e+06\tM+H@364.09775 prob=1.00\n",
        "\tfile_id 1 mz 365.10499 RT 769.49 intensity 3.4645e+06\tM+H@364.09775 prob=1.00\n",
        "364. avg m/z=182.984919145 avg RT=2.25648504496 prob=1.0\n",
        "\tfile_id 0 mz 182.98494 RT 2.98 intensity 8.8153e+05\tM+ACN+H@140.95112 prob=0.52\n",
        "\tfile_id 1 mz 182.98490 RT 1.54 intensity 1.2148e+06\tM+ACN+H@140.95112 prob=0.52\n",
        "365. avg m/z=70.0127081239 avg RT=2112.87011719 prob=1.0\n",
        "\tfile_id 0 mz 70.01271 RT 2133.62 intensity 3.8012e+05\tM+H@69.00546 prob=1.00\n",
        "\tfile_id 1 mz 70.01270 RT 2092.12 intensity 2.2777e+05\tM+H@69.00546 prob=1.00\n",
        "366. avg m/z=82.0222418461 avg RT=2484.66992188 prob=1.0\n",
        "\tfile_id 0 mz 82.02224 RT 2482.43 intensity 1.3050e+05\tM+H@81.01496 prob=1.00\n",
        "\tfile_id 1 mz 82.02225 RT 2486.91 intensity 1.2732e+05\tM+H@81.01496 prob=1.00\n",
        "367. avg m/z=167.012581545 avg RT=2652.42504883 prob=1.0\n",
        "\tfile_id 0 mz 167.01259 RT 2658.08 intensity 3.9908e+05\tM+H@166.00532 prob=0.74\n",
        "\tfile_id 1 mz 167.01257 RT 2646.77 intensity 4.4553e+05\tM+H@166.00532 prob=0.95\n",
        "368. avg m/z=202.143472422 avg RT=872.660980225 prob=1.0\n",
        "\tfile_id 0 mz 202.14349 RT 871.76 intensity 1.6600e+06\tM+H@201.13622 prob=1.00\n",
        "\tfile_id 1 mz 202.14345 RT 873.56 intensity 1.5866e+06\tM+H@201.13622 prob=1.00\n",
        "369. avg m/z=442.228084087 avg RT=813.32699585 prob=1.0\n",
        "\tfile_id 0 mz 442.22809 RT 814.54 intensity 1.6256e+05\tM+H@441.22081 prob=1.00\n",
        "\tfile_id 1 mz 442.22808 RT 812.12 intensity 1.5286e+05\tM+H@441.22081 prob=1.00\n",
        "370. avg m/z=81.5205171497 avg RT=1545.64996338 prob=1.0\n",
        "\tfile_id 0 mz 81.52052 RT 1529.20 intensity 1.9791e+05\tM+H@80.51324 prob=1.00\n",
        "\tfile_id 1 mz 81.52052 RT 1562.10 intensity 2.0311e+05\tM+H@80.51324 prob=0.98\n",
        "371. avg m/z=82.5370923464 avg RT=2659.35510254 prob=1.0\n",
        "\tfile_id 0 mz 82.53709 RT 2665.85 intensity 1.2596e+05\tM+H@81.52981 prob=1.00\n",
        "\tfile_id 1 mz 82.53710 RT 2652.86 intensity 1.2495e+05\tM+H@81.52981 prob=1.00\n",
        "372. avg m/z=89.5066533747 avg RT=2623.61499023 prob=1.0\n",
        "\tfile_id 0 mz 89.50667 RT 2597.40 intensity 1.8863e+05\tM+H@88.49939 prob=1.00\n",
        "\tfile_id 1 mz 89.50664 RT 2649.83 intensity 2.4685e+05\tM+H@88.49939 prob=0.97\n",
        "373. avg m/z=94.0450904523 avg RT=2185.8848877 prob=1.0\n",
        "\tfile_id 0 mz 94.04510 RT 2189.38 intensity 1.6487e+06\tM+H@93.03783 prob=1.00\n",
        "\tfile_id 1 mz 94.04508 RT 2182.39 intensity 1.9106e+06\tM+H@93.03783 prob=1.00\n",
        "374. avg m/z=174.091176958 avg RT=339.627502441 prob=1.0\n",
        "\tfile_id 0 mz 174.09119 RT 338.05 intensity 8.0120e+05\tM+H@173.08391 prob=1.00\n",
        "\tfile_id 1 mz 174.09117 RT 341.21 intensity 7.3808e+05\tM+H@173.08391 prob=1.00\n",
        "375. avg m/z=494.186543594 avg RT=804.584991455 prob=1.0\n",
        "\tfile_id 0 mz 494.18654 RT 804.32 intensity 1.2941e+05\tM+H@493.17927 prob=1.00\n",
        "\tfile_id 1 mz 494.18654 RT 804.85 intensity 1.3119e+05\tM+H@493.17927 prob=1.00\n",
        "376. avg m/z=167.012658103 avg RT=2410.04992676 prob=1.0\n",
        "\tfile_id 0 mz 167.01267 RT 2400.22 intensity 1.0240e+06\tM+ACN+H@124.97885 prob=0.89\n",
        "\tfile_id 1 mz 167.01265 RT 2419.88 intensity 9.0487e+05\tM+ACN+H@124.97885 prob=0.91\n",
        "377. avg m/z=94.0650241055 avg RT=610.15802002 prob=1.0\n",
        "\tfile_id 0 mz 94.06504 RT 612.23 intensity 9.9808e+05\tM+H@93.05776 prob=1.00\n",
        "\tfile_id 1 mz 94.06501 RT 608.09 intensity 9.1371e+05\tM+H@93.05776 prob=1.00\n",
        "378. avg m/z=94.044961164 avg RT=51.5365009308 prob=1.0\n",
        "\tfile_id 0 mz 94.04497 RT 46.53 intensity 4.5000e+05\tM+H@93.03767 prob=1.00\n",
        "\tfile_id 1 mz 94.04495 RT 56.54 intensity 4.5346e+05\tM+H@93.03767 prob=0.98\n",
        "379. avg m/z=99.0439102168 avg RT=447.601013184 prob=1.0\n",
        "\tfile_id 0 mz 99.04390 RT 423.58 intensity 1.0156e+05\tM+H@98.03666 prob=1.00\n",
        "\tfile_id 1 mz 99.04392 RT 471.62 intensity 1.9249e+05\tM+H@98.03666 prob=1.00\n",
        "380. avg m/z=211.08241987 avg RT=831.942016602 prob=1.0\n",
        "\tfile_id 0 mz 211.08241 RT 831.73 intensity 9.4984e+04\tM+HC13@209.07194 prob=0.53\n",
        "\tfile_id 1 mz 211.08243 RT 832.16 intensity 9.4730e+04\tM+HC13@209.07194 prob=0.53\n",
        "381. avg m/z=151.035012898 avg RT=2621.26501465 prob=1.0\n",
        "\tfile_id 0 mz 151.03504 RT 2592.70 intensity 1.7400e+05\tM+H@150.02775 prob=1.00\n",
        "\tfile_id 1 mz 151.03498 RT 2649.83 intensity 1.8142e+05\tM+H@150.02775 prob=1.00\n",
        "382. avg m/z=73.5318378426 avg RT=2215.41503906 prob=1.0\n",
        "\tfile_id 0 mz 73.53184 RT 2221.50 intensity 4.1391e+05\tM+H@72.52456 prob=1.00\n",
        "\tfile_id 1 mz 73.53184 RT 2209.33 intensity 4.1709e+05\tM+H@72.52456 prob=1.00\n",
        "383. avg m/z=246.066185683 avg RT=550.702514648 prob=1.0\n",
        "\tfile_id 0 mz 246.06621 RT 546.12 intensity 3.7453e+05\tM+HC13@244.05591 prob=0.57\n",
        "\tfile_id 1 mz 246.06616 RT 555.28 intensity 3.8191e+05\tM+HC13@244.05591 prob=0.52\n",
        "384. avg m/z=102.535314444 avg RT=2251.77001953 prob=1.0\n",
        "\tfile_id 0 mz 102.53532 RT 2236.84 intensity 7.5611e+05\tM+H@101.52803 prob=0.94\n",
        "\tfile_id 1 mz 102.53531 RT 2266.70 intensity 6.8709e+05\tM+H@101.52803 prob=1.00\n",
        "385. avg m/z=150.058176871 avg RT=828.375 prob=1.0\n",
        "\tfile_id 0 mz 150.05819 RT 828.87 intensity 1.4632e+06\tM+NH4@132.02428 prob=0.52\n",
        "\tfile_id 1 mz 150.05817 RT 827.88 intensity 1.5153e+06\tM+NH4@132.02428 prob=0.53\n",
        "386. avg m/z=132.101761967 avg RT=783.347991943 prob=1.0\n",
        "\tfile_id 0 mz 132.10177 RT 783.77 intensity 5.9212e+06\tM+H@131.09449 prob=1.00\n",
        "\tfile_id 1 mz 132.10175 RT 782.92 intensity 5.7540e+06\tM+H@131.09449 prob=1.00\n",
        "387. avg m/z=82.0137857156 avg RT=2049.81005859 prob=1.0\n",
        "\tfile_id 0 mz 82.01379 RT 2050.78 intensity 9.5078e+04\tM+H@81.00651 prob=1.00\n",
        "\tfile_id 1 mz 82.01379 RT 2048.84 intensity 7.4452e+04\tM+H@81.00651 prob=1.00\n",
        "388. avg m/z=81.5205703914 avg RT=2733.75 prob=1.0\n",
        "\tfile_id 0 mz 81.52058 RT 2720.39 intensity 1.6526e+06\tM+H@80.51330 prob=1.00\n",
        "\tfile_id 1 mz 81.52057 RT 2747.11 intensity 1.7368e+06\tM+H@80.51330 prob=1.00\n",
        "389. avg m/z=81.520562097 avg RT=2275.36999512 prob=1.0\n",
        "\tfile_id 0 mz 81.52057 RT 2253.79 intensity 2.5952e+06\tM+H@80.51329 prob=1.00\n",
        "\tfile_id 1 mz 81.52055 RT 2296.95 intensity 2.2783e+06\tM+H@80.51329 prob=0.97\n",
        "390. avg m/z=94.044968459 avg RT=2746.07495117 prob=1.0\n",
        "\tfile_id 0 mz 94.04498 RT 2737.45 intensity 4.9184e+05\tM+H@93.03770 prob=1.00\n",
        "\tfile_id 1 mz 94.04495 RT 2754.70 intensity 4.9800e+05\tM+H@93.03770 prob=1.00\n",
        "391. avg m/z=141.958386816 avg RT=2.25648504496 prob=1.0\n",
        "\tfile_id 0 mz 141.95840 RT 2.98 intensity 3.5936e+05\tM+H@140.95112 prob=1.00\n",
        "\tfile_id 1 mz 141.95838 RT 1.54 intensity 3.8998e+05\tM+H@140.95112 prob=1.00\n",
        "392. avg m/z=102.535318908 avg RT=2507.99499512 prob=1.0\n",
        "\tfile_id 0 mz 102.53534 RT 2533.65 intensity 2.4940e+05\tM+H@101.52805 prob=0.94\n",
        "\tfile_id 1 mz 102.53530 RT 2482.34 intensity 3.3386e+05\tM+H@101.52805 prob=1.00\n",
        "393. avg m/z=82.0222387759 avg RT=2409.36499023 prob=1.0\n",
        "\tfile_id 0 mz 82.02223 RT 2409.50 intensity 1.3985e+05\tM+H@81.01496 prob=1.00\n",
        "\tfile_id 1 mz 82.02225 RT 2409.23 intensity 1.3923e+05\tM+H@81.01496 prob=1.00\n",
        "394. avg m/z=559.15018308 avg RT=613.884002686 prob=1.0\n",
        "\tfile_id 0 mz 559.15012 RT 613.72 intensity 7.4468e+04\tM+H@558.14285 prob=0.52\n",
        "\tfile_id 1 mz 559.15024 RT 614.05 intensity 8.9015e+04\tM+H@558.14285 prob=0.52\n",
        "395. avg m/z=122.546929337 avg RT=2544.1550293 prob=1.0\n",
        "\tfile_id 0 mz 122.54693 RT 2567.85 intensity 1.5060e+05\tM+H@121.53966 prob=1.00\n",
        "\tfile_id 1 mz 122.54693 RT 2520.46 intensity 2.2138e+05\tM+H@121.53966 prob=1.00\n",
        "396. avg m/z=79.0178365749 avg RT=2586.23510742 prob=1.0\n",
        "\tfile_id 0 mz 79.01784 RT 2591.12 intensity 1.6332e+05\tM+H@78.01057 prob=1.00\n",
        "\tfile_id 1 mz 79.01783 RT 2581.35 intensity 1.6226e+05\tM+H@78.01057 prob=1.00\n",
        "397. avg m/z=245.063105464 avg RT=556.540496826 prob=1.0\n",
        "\tfile_id 0 mz 245.06312 RT 557.80 intensity 3.7280e+06\tM+H@244.05591 prob=1.00\n",
        "\tfile_id 1 mz 245.06309 RT 555.28 intensity 4.7301e+06\tM+H@244.05591 prob=1.00\n",
        "398. avg m/z=143.996529719 avg RT=41.8599996567 prob=1.0\n",
        "\tfile_id 0 mz 143.99656 RT 58.87 intensity 1.3019e+05\tM+H@142.98926 prob=1.00\n",
        "\tfile_id 1 mz 143.99650 RT 24.85 intensity 1.4146e+05\tM+H@142.98926 prob=1.00\n",
        "399. avg m/z=384.097367691 avg RT=270.169494629 prob=1.0\n",
        "\tfile_id 0 mz 384.09741 RT 268.90 intensity 1.5906e+05\tM+HC13@382.08685 prob=0.52\n",
        "\tfile_id 1 mz 384.09733 RT 271.44 intensity 1.6630e+05\tM+HC13@382.08685 prob=0.52\n",
        "400. avg m/z=114.558281031 avg RT=2062.68005371 prob=1.0\n",
        "\tfile_id 0 mz 114.55829 RT 2062.99 intensity 3.3251e+05\tM+H@113.55101 prob=1.00\n",
        "\tfile_id 1 mz 114.55827 RT 2062.37 intensity 3.6584e+05\tM+H@113.55101 prob=1.00\n",
        "401. avg m/z=167.012550896 avg RT=40.1715507507 prob=1.0\n",
        "\tfile_id 0 mz 167.01258 RT 41.94 intensity 3.6849e+05\tM+ACN+H@124.97881 prob=1.00\n",
        "\tfile_id 1 mz 167.01253 RT 38.40 intensity 3.5769e+05\tM+ACN+H@124.97881 prob=0.99\n",
        "402. avg m/z=81.520567852 avg RT=2623.0 prob=1.0\n",
        "\tfile_id 0 mz 81.52057 RT 2611.36 intensity 1.6815e+06\tM+H@80.51330 prob=1.00\n",
        "\tfile_id 1 mz 81.52056 RT 2634.64 intensity 1.6493e+06\tM+H@80.51330 prob=1.00\n",
        "403. avg m/z=82.5371011947 avg RT=54.6173496246 prob=1.0\n",
        "\tfile_id 0 mz 82.53710 RT 54.20 intensity 1.2300e+05\tM+H@81.52982 prob=1.00\n",
        "\tfile_id 1 mz 82.53710 RT 55.03 intensity 1.1217e+05\tM+H@81.52982 prob=1.00\n",
        "404. avg m/z=171.084113959 avg RT=910.886993408 prob=1.0\n",
        "\tfile_id 0 mz 171.08412 RT 910.13 intensity 5.6230e+05\tM+HC13@169.07364 prob=0.52\n",
        "\tfile_id 1 mz 171.08411 RT 911.64 intensity 5.3374e+05\tM+HC13@169.07364 prob=0.52\n",
        "405. avg m/z=122.546915122 avg RT=2745.38500977 prob=1.0\n",
        "\tfile_id 0 mz 122.54692 RT 2746.70 intensity 1.5551e+05\tM+H@121.53964 prob=1.00\n",
        "\tfile_id 1 mz 122.54691 RT 2744.07 intensity 1.5096e+05\tM+H@121.53964 prob=1.00\n",
        "406. avg m/z=130.521788431 avg RT=2052.08007812 prob=1.0\n",
        "\tfile_id 0 mz 130.52181 RT 2053.81 intensity 6.8722e+04\tM+H@129.51453 prob=1.00\n",
        "\tfile_id 1 mz 130.52177 RT 2050.35 intensity 7.4770e+04\tM+H@129.51453 prob=1.00\n",
        "407. avg m/z=167.012653968 avg RT=2367.29504395 prob=1.0\n",
        "\tfile_id 0 mz 167.01266 RT 2378.61 intensity 1.0373e+06\tM+H@166.00538 prob=0.99\n",
        "\tfile_id 1 mz 167.01265 RT 2355.98 intensity 1.3075e+06\tM+H@166.00538 prob=0.94\n",
        "408. avg m/z=224.07741864 avg RT=742.589996338 prob=1.0\n",
        "\tfile_id 0 mz 224.07743 RT 742.91 intensity 9.9164e+04\tM+H@223.07016 prob=1.00\n",
        "\tfile_id 1 mz 224.07740 RT 742.27 intensity 1.0126e+05\tM+H@223.07016 prob=1.00\n",
        "409. avg m/z=94.0451010802 avg RT=2170.09997559 prob=1.0\n",
        "\tfile_id 0 mz 94.04511 RT 2171.21 intensity 1.7410e+06\tM+H@93.03783 prob=1.00\n",
        "\tfile_id 1 mz 94.04509 RT 2168.99 intensity 1.8879e+06\tM+H@93.03783 prob=1.00\n",
        "410. avg m/z=174.102306871 avg RT=370.222503662 prob=1.0\n",
        "\tfile_id 0 mz 174.10233 RT 376.43 intensity 1.0380e+06\tM+H@173.09505 prob=1.00\n",
        "\tfile_id 1 mz 174.10228 RT 364.02 intensity 1.0861e+06\tM+H@173.09505 prob=1.00\n",
        "411. avg m/z=169.049203731 avg RT=821.12399292 prob=1.0\n",
        "\tfile_id 0 mz 169.04919 RT 849.08 intensity 8.7263e+04\tM+H@168.04202 prob=1.00\n",
        "\tfile_id 1 mz 169.04922 RT 793.17 intensity 2.0994e+05\tM+H@168.04202 prob=0.71\n",
        "412. avg m/z=203.146765395 avg RT=872.660980225 prob=1.0\n",
        "\tfile_id 0 mz 203.14679 RT 871.76 intensity 1.7272e+05\tM+HC13@201.13622 prob=0.52\n",
        "\tfile_id 1 mz 203.14674 RT 873.56 intensity 1.4799e+05\tM+HC13@201.13622 prob=0.52\n",
        "413. avg m/z=122.546930902 avg RT=2526.43505859 prob=1.0\n",
        "\tfile_id 0 mz 122.54694 RT 2544.62 intensity 1.7308e+05\tM+H@121.53966 prob=1.00\n",
        "\tfile_id 1 mz 122.54693 RT 2508.25 intensity 2.5467e+05\tM+H@121.53966 prob=1.00\n",
        "414. avg m/z=152.03594089 avg RT=2051.35992432 prob=1.0\n",
        "\tfile_id 0 mz 152.03594 RT 2056.88 intensity 2.6761e+05\tM+H@151.02867 prob=1.00\n",
        "\tfile_id 1 mz 152.03594 RT 2045.84 intensity 2.8519e+05\tM+H@151.02867 prob=1.00\n",
        "415. avg m/z=167.01264208 avg RT=2437.68994141 prob=1.0\n",
        "\tfile_id 0 mz 167.01266 RT 2431.19 intensity 8.9264e+05\tM+H@166.00538 prob=0.82\n",
        "\tfile_id 1 mz 167.01263 RT 2444.19 intensity 7.9834e+05\tM+H@166.00538 prob=0.99\n",
        "416. avg m/z=151.03502036 avg RT=2550.13500977 prob=1.0\n",
        "\tfile_id 0 mz 151.03503 RT 2557.01 intensity 1.8506e+05\tM+H@150.02777 prob=1.00\n",
        "\tfile_id 1 mz 151.03501 RT 2543.26 intensity 2.0340e+05\tM+H@150.02777 prob=1.00\n",
        "417. avg m/z=104.030060836 avg RT=2216.94006348 prob=1.0\n",
        "\tfile_id 0 mz 104.03006 RT 2224.55 intensity 1.9449e+05\tM+H@103.02280 prob=1.00\n",
        "\tfile_id 1 mz 104.03006 RT 2209.33 intensity 2.2547e+05\tM+H@103.02280 prob=1.00\n",
        "418. avg m/z=305.083713473 avg RT=620.589019775 prob=1.0\n",
        "\tfile_id 0 mz 305.08373 RT 621.19 intensity 3.7608e+05\tM+H@304.07645 prob=1.00\n",
        "\tfile_id 1 mz 305.08370 RT 619.99 intensity 3.9582e+05\tM+H@304.07645 prob=1.00\n",
        "419. avg m/z=304.175043781 avg RT=854.072998047 prob=1.0\n",
        "\tfile_id 0 mz 304.17513 RT 834.59 intensity 1.1628e+05\tM+H@303.16770 prob=1.00\n",
        "\tfile_id 1 mz 304.17496 RT 873.56 intensity 1.7225e+05\tM+H@303.16770 prob=1.00\n",
        "420. avg m/z=102.535265195 avg RT=1895.94500732 prob=1.0\n",
        "\tfile_id 0 mz 102.53528 RT 1886.74 intensity 2.1517e+05\tM+H@101.52799 prob=1.00\n",
        "\tfile_id 1 mz 102.53525 RT 1905.15 intensity 2.3589e+05\tM+H@101.52799 prob=0.89\n",
        "421. avg m/z=151.086355953 avg RT=348.776489258 prob=1.0\n",
        "\tfile_id 0 mz 151.08636 RT 348.74 intensity 2.1434e+05\tM+H@150.07908 prob=1.00\n",
        "\tfile_id 1 mz 151.08635 RT 348.82 intensity 2.0720e+05\tM+H@150.07908 prob=1.00\n",
        "422. avg m/z=186.07572204 avg RT=709.838989258 prob=1.0\n",
        "\tfile_id 0 mz 186.07574 RT 710.03 intensity 8.2705e+04\tM+H@185.06846 prob=1.00\n",
        "\tfile_id 1 mz 186.07570 RT 709.64 intensity 8.1724e+04\tM+H@185.06846 prob=1.00\n",
        "423. avg m/z=82.5370918088 avg RT=2485.57995605 prob=1.0\n",
        "\tfile_id 0 mz 82.53709 RT 2501.02 intensity 1.2994e+05\tM+H@81.52981 prob=1.00"
       ]
      },
      {
       "output_type": "stream",
       "stream": "stdout",
       "text": [
        "\n",
        "\tfile_id 1 mz 82.53709 RT 2470.14 intensity 1.3462e+05\tM+H@81.52981 prob=1.00\n",
        "424. avg m/z=102.535300565 avg RT=1804.00500488 prob=1.0\n",
        "\tfile_id 0 mz 102.53532 RT 1811.86 intensity 1.9011e+05\tM+H@101.52803 prob=1.00\n",
        "\tfile_id 1 mz 102.53529 RT 1796.15 intensity 2.0641e+05\tM+H@101.52803 prob=1.00\n",
        "425. avg m/z=102.033766175 avg RT=2381.02502441 prob=1.0\n",
        "\tfile_id 0 mz 102.03377 RT 2383.25 intensity 4.9445e+06\tM+H@101.02650 prob=1.00\n",
        "\tfile_id 1 mz 102.03376 RT 2378.80 intensity 5.6590e+06\tM+H@101.02650 prob=1.00\n",
        "426. avg m/z=174.038270649 avg RT=863.493011475 prob=1.0\n",
        "\tfile_id 0 mz 174.03828 RT 864.09 intensity 7.6628e+04\tM+Na@151.04915 prob=0.52\n",
        "\tfile_id 1 mz 174.03826 RT 862.90 intensity 7.0842e+04\tM+Na@151.04915 prob=0.53\n",
        "427. avg m/z=122.546916337 avg RT=2570.875 prob=1.0\n",
        "\tfile_id 0 mz 122.54692 RT 2577.13 intensity 1.4429e+05\tM+H@121.53966 prob=0.50\n",
        "\tfile_id 1 mz 122.54691 RT 2564.62 intensity 2.2738e+05\tM+H@121.53966 prob=1.00\n",
        "428. avg m/z=81.5205151003 avg RT=1949.57501221 prob=1.0\n",
        "\tfile_id 0 mz 81.52052 RT 1937.80 intensity 6.5696e+05\tM+H@80.51324 prob=1.00\n",
        "\tfile_id 1 mz 81.52051 RT 1961.35 intensity 6.4370e+05\tM+H@80.51324 prob=1.00\n",
        "429. avg m/z=153.073660818 avg RT=803.843994141 prob=1.0\n",
        "\tfile_id 0 mz 153.07367 RT 801.38 intensity 9.7624e+04\tM+HC13@151.06316 prob=0.50\n",
        "\tfile_id 1 mz 153.07365 RT 806.30 intensity 9.8372e+04\tM+HC13@151.06316 prob=0.54\n",
        "430. avg m/z=94.0449762705 avg RT=2583.98498535 prob=1.0\n",
        "\tfile_id 0 mz 94.04499 RT 2592.70 intensity 4.8945e+05\tM+H@93.03771 prob=1.00\n",
        "\tfile_id 1 mz 94.04496 RT 2575.27 intensity 5.6320e+05\tM+H@93.03771 prob=1.00\n",
        "431. avg m/z=141.95839963 avg RT=2535.65002441 prob=1.0\n",
        "\tfile_id 0 mz 141.95841 RT 2549.31 intensity 1.0121e+05\tM+H@140.95113 prob=1.00\n",
        "\tfile_id 1 mz 141.95839 RT 2521.99 intensity 1.3828e+05\tM+H@140.95113 prob=1.00\n",
        "432. avg m/z=102.53528353 avg RT=21.4105856419 prob=1.0\n",
        "\tfile_id 0 mz 102.53529 RT 4.42 intensity 2.1253e+05\tM+H@101.52802 prob=1.00\n",
        "\tfile_id 1 mz 102.53527 RT 38.40 intensity 1.5743e+05\tM+H@101.52802 prob=1.00\n",
        "433. avg m/z=81.5205825623 avg RT=2108.30004883 prob=1.0\n",
        "\tfile_id 0 mz 81.52059 RT 2106.83 intensity 7.8431e+06\tM+H@80.51331 prob=1.00\n",
        "\tfile_id 1 mz 81.52057 RT 2109.77 intensity 7.8867e+06\tM+H@80.51331 prob=1.00\n",
        "434. avg m/z=122.547117859 avg RT=2114.15002441 prob=1.0\n",
        "\tfile_id 0 mz 122.54712 RT 2103.84 intensity 4.1065e+06\tM+ACN+H@80.51331 prob=0.51\n",
        "\tfile_id 1 mz 122.54712 RT 2124.46 intensity 3.7785e+06\tM+ACN+H@80.51331 prob=0.68\n",
        "435. avg m/z=146.499334819 avg RT=2687.01000977 prob=1.0\n",
        "\tfile_id 0 mz 125.98610 RT 2690.74 intensity 3.5974e+05\tM+H@124.97879 prob=1.00\n",
        "\tfile_id 1 mz 167.01257 RT 2683.28 intensity 4.2527e+05\tM+ACN+H@124.97879 prob=0.95\n",
        "436. avg m/z=73.5317938099 avg RT=2633.5949707 prob=1.0\n",
        "\tfile_id 0 mz 73.53181 RT 2606.69 intensity 3.0713e+05\tM+H@72.52453 prob=1.00\n",
        "\tfile_id 1 mz 73.53178 RT 2660.50 intensity 3.0257e+05\tM+H@72.52453 prob=0.97\n",
        "437. avg m/z=82.0222467938 avg RT=2568.66491699 prob=1.0\n",
        "\tfile_id 0 mz 82.02224 RT 2584.89 intensity 1.1024e+05\tM+H@81.01496 prob=0.97\n",
        "\tfile_id 1 mz 82.02225 RT 2552.44 intensity 1.1321e+05\tM+H@81.01496 prob=1.00\n",
        "438. avg m/z=307.101864501 avg RT=561.629486084 prob=1.0\n",
        "\tfile_id 0 mz 307.10187 RT 566.52 intensity 2.1845e+05\tM+H@306.09459 prob=1.00\n",
        "\tfile_id 1 mz 307.10186 RT 556.74 intensity 2.1315e+05\tM+H@306.09459 prob=1.00\n",
        "439. avg m/z=84.9596742226 avg RT=2108.30004883 prob=1.0\n",
        "\tfile_id 0 mz 84.95968 RT 2106.83 intensity 5.2343e+05\tM+H@83.95240 prob=1.00\n",
        "\tfile_id 1 mz 84.95967 RT 2109.77 intensity 4.4449e+05\tM+H@83.95240 prob=1.00\n",
        "440. avg m/z=265.111433211 avg RT=1767.78503418 prob=1.0\n",
        "\tfile_id 0 mz 265.11147 RT 1768.40 intensity 3.9165e+06\tM+H@264.10419 prob=1.00\n",
        "\tfile_id 1 mz 265.11140 RT 1767.17 intensity 4.2511e+06\tM+H@264.10419 prob=1.00\n",
        "441. avg m/z=89.506775757 avg RT=2185.02001953 prob=1.0\n",
        "\tfile_id 0 mz 89.50679 RT 2169.68 intensity 1.9423e+05\tM+H@88.49951 prob=1.00\n",
        "\tfile_id 1 mz 89.50677 RT 2200.36 intensity 2.2409e+05\tM+H@88.49951 prob=1.00\n",
        "442. avg m/z=123.048630448 avg RT=2223.64501953 prob=1.0\n",
        "\tfile_id 0 mz 123.04864 RT 2213.83 intensity 2.0386e+05\tM+H@122.04136 prob=0.61\n",
        "\tfile_id 1 mz 123.04862 RT 2233.46 intensity 1.8870e+05\tM+H@122.04136 prob=1.00\n",
        "443. avg m/z=70.0126306523 avg RT=2632.58996582 prob=1.0\n",
        "\tfile_id 0 mz 70.01264 RT 2648.78 intensity 2.7612e+05\tM+H@69.00536 prob=1.00\n",
        "\tfile_id 1 mz 70.01262 RT 2616.40 intensity 2.7073e+05\tM+H@69.00536 prob=0.99\n",
        "444. avg m/z=134.057103174 avg RT=1767.78503418 prob=1.0\n",
        "\tfile_id 0 mz 134.05711 RT 1768.40 intensity 1.3189e+05\tM+2H@266.09969 prob=0.52\n",
        "\tfile_id 1 mz 134.05710 RT 1767.17 intensity 1.3919e+05\tM+2H@266.09969 prob=0.52\n",
        "445. avg m/z=189.123059728 avg RT=1063.875 prob=1.0\n",
        "\tfile_id 0 mz 189.12307 RT 1067.44 intensity 3.6110e+06\tM+H@188.11579 prob=1.00\n",
        "\tfile_id 1 mz 189.12305 RT 1060.31 intensity 3.5078e+06\tM+H@188.11579 prob=1.00\n",
        "446. avg m/z=122.071121647 avg RT=1770.04498291 prob=1.0\n",
        "\tfile_id 0 mz 122.07114 RT 1766.86 intensity 5.8188e+05\tM+H@121.06386 prob=1.00\n",
        "\tfile_id 1 mz 122.07111 RT 1773.23 intensity 5.7886e+05\tM+H@121.06386 prob=1.00\n",
        "447. avg m/z=82.5370951277 avg RT=2723.02990723 prob=1.0\n",
        "\tfile_id 0 mz 82.53709 RT 2712.64 intensity 1.3626e+05\tM+H@81.52982 prob=1.00\n",
        "\tfile_id 1 mz 82.53710 RT 2733.42 intensity 1.3669e+05\tM+H@81.52982 prob=1.00\n",
        "448. avg m/z=136.061612636 avg RT=895.016998291 prob=1.0\n",
        "\tfile_id 0 mz 136.06162 RT 896.47 intensity 2.8213e+06\tM+H@135.05435 prob=1.00\n",
        "\tfile_id 1 mz 136.06160 RT 893.56 intensity 2.6339e+06\tM+H@135.05435 prob=1.00\n",
        "449. avg m/z=89.5067327893 avg RT=2275.88000488 prob=1.0\n",
        "\tfile_id 0 mz 89.50676 RT 2221.50 intensity 1.9103e+05\tM+H@88.49946 prob=0.63\n",
        "\tfile_id 1 mz 89.50671 RT 2330.26 intensity 2.3458e+05\tM+H@88.49946 prob=1.00\n",
        "450. avg m/z=103.094410882 avg RT=2.97925502062 prob=1.0\n",
        "\tfile_id 0 mz 103.09442 RT 4.42 intensity 1.2656e+05\tM+HC13@101.08389 prob=0.52\n",
        "\tfile_id 1 mz 103.09441 RT 1.54 intensity 2.0539e+05\tM+HC13@101.08389 prob=0.52\n",
        "451. avg m/z=349.070034083 avg RT=95.9599990845 prob=1.0\n",
        "\tfile_id 0 mz 349.07003 RT 103.13 intensity 1.3296e+05\tM+H@348.06276 prob=1.00\n",
        "\tfile_id 1 mz 349.07003 RT 88.79 intensity 6.5168e+04\tM+H@348.06276 prob=1.00\n",
        "452. avg m/z=82.5371090973 avg RT=31.0387010574 prob=1.0\n",
        "\tfile_id 0 mz 82.53711 RT 26.69 intensity 1.1905e+05\tM+H@81.52982 prob=1.00\n",
        "\tfile_id 1 mz 82.53711 RT 35.38 intensity 1.0826e+05\tM+H@81.52982 prob=1.00\n",
        "453. avg m/z=566.177198949 avg RT=611.645996094 prob=1.0\n",
        "\tfile_id 0 mz 566.17716 RT 609.25 intensity 6.9185e+04\tM+H@565.16988 prob=1.00\n",
        "\tfile_id 1 mz 566.17724 RT 614.05 intensity 7.1957e+04\tM+H@565.16988 prob=1.00\n",
        "454. avg m/z=89.5067332122 avg RT=2262.79504395 prob=1.0\n",
        "\tfile_id 0 mz 89.50674 RT 2290.62 intensity 1.9020e+05\tM+H@88.49946 prob=1.00\n",
        "\tfile_id 1 mz 89.50673 RT 2234.97 intensity 2.4293e+05\tM+H@88.49946 prob=1.00\n",
        "455. avg m/z=409.160087002 avg RT=778.872009277 prob=1.0\n",
        "\tfile_id 0 mz 409.16018 RT 774.82 intensity 9.3937e+04\tM+H@408.15291 prob=1.00\n",
        "\tfile_id 1 mz 409.15999 RT 782.92 intensity 1.3194e+05\tM+H@408.15291 prob=1.00\n",
        "456. avg m/z=214.089187121 avg RT=1.54009997845 prob=1.0\n",
        "\tfile_id 0 mz 214.08920 RT 1.54 intensity 1.2019e+05\tM+H@213.08193 prob=1.00\n",
        "\tfile_id 1 mz 214.08917 RT 1.54 intensity 1.3278e+05\tM+H@213.08193 prob=1.00\n",
        "457. avg m/z=125.986083368 avg RT=2620.89489746 prob=1.0\n",
        "\tfile_id 0 mz 125.98610 RT 2625.39 intensity 3.6045e+05\tM+2Na-H@81.01497 prob=0.84\n",
        "\tfile_id 1 mz 125.98607 RT 2616.40 intensity 3.6817e+05\tM+2Na-H@81.01497 prob=0.56\n",
        "458. avg m/z=151.035007934 avg RT=2725.97009277 prob=1.0\n",
        "\tfile_id 0 mz 151.03502 RT 2704.83 intensity 1.7241e+05\tM+H@150.02775 prob=1.00\n",
        "\tfile_id 1 mz 151.03500 RT 2747.11 intensity 1.9755e+05\tM+H@150.02775 prob=1.00\n",
        "459. avg m/z=122.546990849 avg RT=2382.63000488 prob=1.0\n",
        "\tfile_id 0 mz 122.54700 RT 2392.54 intensity 7.4544e+05\tM+H@121.53973 prob=0.73\n",
        "\tfile_id 1 mz 122.54698 RT 2372.72 intensity 8.7479e+05\tM+H@121.53973 prob=0.72\n",
        "460. avg m/z=205.572138792 avg RT=795.077972412 prob=1.0\n",
        "\tfile_id 0 mz 205.07067 RT 795.52 intensity 1.0896e+06\tM+H@204.06329 prob=1.00\n",
        "\tfile_id 1 mz 206.07361 RT 794.63 intensity 7.2086e+04\tM+HC13@204.06329 prob=0.84\n",
        "461. avg m/z=79.017833864 avg RT=2730.78991699 prob=1.0\n",
        "\tfile_id 0 mz 79.01785 RT 2729.68 intensity 1.6433e+05\tM+H@78.01057 prob=1.00\n",
        "\tfile_id 1 mz 79.01782 RT 2731.90 intensity 1.6718e+05\tM+H@78.01057 prob=1.00\n",
        "462. avg m/z=216.101646412 avg RT=339.627502441 prob=1.0\n",
        "\tfile_id 0 mz 216.10168 RT 338.05 intensity 8.0627e+04\tM+H@215.09440 prob=1.00\n",
        "\tfile_id 1 mz 216.10161 RT 341.21 intensity 7.1216e+04\tM+H@215.09440 prob=1.00\n",
        "463. avg m/z=102.033789975 avg RT=2273.40002441 prob=1.0\n",
        "\tfile_id 0 mz 102.03379 RT 2293.70 intensity 7.1770e+06\tM+H@101.02652 prob=1.00\n",
        "\tfile_id 1 mz 102.03379 RT 2253.10 intensity 8.0766e+06\tM+H@101.02652 prob=0.82\n",
        "464. avg m/z=137.045589894 avg RT=905.604003906 prob=1.0\n",
        "\tfile_id 0 mz 137.04559 RT 908.62 intensity 4.6223e+05\tM+H@136.03831 prob=1.00\n",
        "\tfile_id 1 mz 137.04559 RT 902.59 intensity 4.1817e+05\tM+H@136.03831 prob=1.00\n",
        "465. avg m/z=217.179496075 avg RT=316.95149231 prob=1.0\n",
        "\tfile_id 0 mz 217.17953 RT 319.20 intensity 4.8666e+05\tM+H@216.17225 prob=1.00\n",
        "\tfile_id 1 mz 217.17947 RT 314.70 intensity 4.4249e+05\tM+H@216.17225 prob=1.00\n",
        "466. avg m/z=192.061538219 avg RT=2047.54998779 prob=1.0\n",
        "\tfile_id 0 mz 192.06155 RT 2049.26 intensity 1.3520e+05\tM+H@191.05428 prob=0.60\n",
        "\tfile_id 1 mz 192.06152 RT 2045.84 intensity 1.6181e+05\tM+H@191.05428 prob=0.68\n",
        "467. avg m/z=72.0807761462 avg RT=893.486999512 prob=1.0\n",
        "\tfile_id 0 mz 72.08078 RT 893.41 intensity 5.7342e+05\tM+H@71.07351 prob=1.00\n",
        "\tfile_id 1 mz 72.08077 RT 893.56 intensity 4.6014e+05\tM+H@71.07351 prob=1.00\n",
        "468. avg m/z=149.080530798 avg RT=406.305496216 prob=1.0\n",
        "\tfile_id 0 mz 149.08054 RT 407.25 intensity 9.9893e+04\tM+H@148.07326 prob=1.00\n",
        "\tfile_id 1 mz 149.08052 RT 405.36 intensity 1.0606e+05\tM+H@148.07326 prob=1.00\n",
        "469. avg m/z=94.5454046322 avg RT=98.2232971191 prob=1.0\n",
        "\tfile_id 0 mz 94.54542 RT 96.64 intensity 9.1428e+04\tM+H@93.53814 prob=1.00\n",
        "\tfile_id 1 mz 94.54539 RT 99.80 intensity 7.9024e+04\tM+H@93.53814 prob=1.00\n",
        "470. avg m/z=114.558264847 avg RT=2037.72503662 prob=1.0\n",
        "\tfile_id 0 mz 114.55828 RT 2041.64 intensity 3.8337e+05\tM+H@113.55101 prob=1.00\n",
        "\tfile_id 1 mz 114.55825 RT 2033.81 intensity 3.9259e+05\tM+H@113.55101 prob=1.00\n",
        "471. avg m/z=75.0803882273 avg RT=9.51540970802 prob=1.0\n",
        "\tfile_id 0 mz 75.08040 RT 11.76 intensity 5.7034e+05\tM+H@74.07312 prob=1.00\n",
        "\tfile_id 1 mz 75.08038 RT 7.27 intensity 3.1871e+05\tM+H@74.07312 prob=1.00\n",
        "472. avg m/z=104.030067146 avg RT=2173.92004395 prob=1.0\n",
        "\tfile_id 0 mz 104.03008 RT 2184.83 intensity 2.3757e+05\tM+H@103.02280 prob=1.00\n",
        "\tfile_id 1 mz 104.03005 RT 2163.01 intensity 3.2105e+05\tM+H@103.02280 prob=1.00\n",
        "473. avg m/z=89.1071626819 avg RT=1945.76501465 prob=1.0\n",
        "\tfile_id 0 mz 89.10718 RT 1948.92 intensity 7.3971e+04\tM+H@88.09990 prob=1.00\n",
        "\tfile_id 1 mz 89.10715 RT 1942.61 intensity 7.3470e+04\tM+H@88.09990 prob=1.00\n",
        "474. avg m/z=205.070368784 avg RT=673.235992432 prob=1.0\n",
        "\tfile_id 0 mz 205.07037 RT 700.60 intensity 2.7003e+05\tM+H@204.06310 prob=1.00\n",
        "\tfile_id 1 mz 205.07036 RT 645.88 intensity 1.8212e+05\tM+H@204.06310 prob=1.00\n",
        "475. avg m/z=82.0222482411 avg RT=56.9314498901 prob=1.0\n",
        "\tfile_id 0 mz 82.02225 RT 57.32 intensity 9.3188e+04\tM+H@81.01497 prob=1.00\n",
        "\tfile_id 1 mz 82.02225 RT 56.54 intensity 8.8098e+04\tM+H@81.01497 prob=1.00\n",
        "476. avg m/z=401.131495455 avg RT=450.391494751 prob=1.0\n",
        "\tfile_id 0 mz 401.13151 RT 444.48 intensity 9.5973e+04\tM+HC13@399.12085 prob=0.51\n",
        "\tfile_id 1 mz 401.13148 RT 456.30 intensity 9.7546e+04\tM+HC13@399.12085 prob=0.61\n",
        "477. avg m/z=79.0178463078 avg RT=2515.45996094 prob=1.0\n",
        "\tfile_id 0 mz 79.01786 RT 2515.04 intensity 1.5630e+05\tM+H@78.01059 prob=1.00\n",
        "\tfile_id 1 mz 79.01784 RT 2515.88 intensity 1.5657e+05\tM+H@78.01059 prob=1.00\n",
        "478. avg m/z=73.5318164894 avg RT=2314.875 prob=1.0\n",
        "\tfile_id 0 mz 73.53183 RT 2276.82 intensity 3.8413e+05\tM+H@72.52455 prob=1.00\n",
        "\tfile_id 1 mz 73.53181 RT 2352.93 intensity 3.6524e+05\tM+H@72.52455 prob=0.99\n",
        "479. avg m/z=151.03518936 avg RT=2197.11999512 prob=1.0\n",
        "\tfile_id 0 mz 151.03521 RT 2189.38 intensity 4.5320e+05\tM+H@150.02790 prob=0.83\n",
        "\tfile_id 1 mz 151.03517 RT 2204.86 intensity 4.8603e+05\tM+H@150.02790 prob=1.00\n",
        "480. avg m/z=233.062785717 avg RT=755.432983398 prob=1.0\n",
        "\tfile_id 0 mz 233.06281 RT 741.38 intensity 1.0383e+05\tM+H@232.05555 prob=1.00\n",
        "\tfile_id 1 mz 233.06276 RT 769.49 intensity 1.0798e+05\tM+H@232.05555 prob=1.00\n",
        "481. avg m/z=151.035129452 avg RT=2305.91992188 prob=1.0\n",
        "\tfile_id 0 mz 151.03514 RT 2293.70 intensity 3.7799e+05\tM+H@150.02786 prob=1.00\n",
        "\tfile_id 1 mz 151.03512 RT 2318.14 intensity 3.7084e+05\tM+H@150.02786 prob=1.00\n",
        "482. avg m/z=73.5318308575 avg RT=2252.68505859 prob=1.0\n",
        "\tfile_id 0 mz 73.53184 RT 2253.79 intensity 3.8884e+05\tM+H@72.52456 prob=1.00\n",
        "\tfile_id 1 mz 73.53182 RT 2251.58 intensity 3.8973e+05\tM+H@72.52456 prob=1.00\n",
        "483. avg m/z=342.139128764 avg RT=547.780487061 prob=1.0\n",
        "\tfile_id 0 mz 342.13914 RT 544.65 intensity 1.0008e+05\tM+H@341.13186 prob=1.00\n",
        "\tfile_id 1 mz 342.13912 RT 550.91 intensity 1.2069e+05\tM+H@341.13186 prob=1.00\n",
        "484. avg m/z=594.159704946 avg RT=103.041000366 prob=1.0\n",
        "\tfile_id 0 mz 594.15974 RT 101.50 intensity 7.3687e+04\tM+NH4@576.12581 prob=0.54\n",
        "\tfile_id 1 mz 594.15967 RT 104.58 intensity 9.0765e+04\tM+NH4@576.12581 prob=0.55\n",
        "485. avg m/z=187.059836078 avg RT=809.390991211 prob=1.0\n",
        "\tfile_id 0 mz 187.05985 RT 783.77 intensity 7.7884e+04\tM+H@186.05261 prob=1.00\n",
        "\tfile_id 1 mz 187.05982 RT 835.01 intensity 8.5710e+04\tM+H@186.05261 prob=1.00\n",
        "486. avg m/z=102.535303047 avg RT=2746.9050293 prob=1.0\n",
        "\tfile_id 0 mz 102.53531 RT 2746.70 intensity 2.1527e+05\tM+H@101.52804 prob=1.00\n",
        "\tfile_id 1 mz 102.53529 RT 2747.11 intensity 2.2405e+05\tM+H@101.52804 prob=1.00\n",
        "487. avg m/z=291.15434926 avg RT=1110.55999756 prob=1.0\n",
        "\tfile_id 0 mz 291.15438 RT 1108.73 intensity 7.6314e+04\tM+H@290.14711 prob=1.00\n",
        "\tfile_id 1 mz 291.15432 RT 1112.39 intensity 7.6141e+04\tM+H@290.14711 prob=1.00\n",
        "488. avg m/z=89.5066415159 avg RT=66.1224021912 prob=1.0\n",
        "\tfile_id 0 mz 89.50665 RT 65.08 intensity 1.9344e+05\tM+H@88.49938 prob=1.00\n",
        "\tfile_id 1 mz 89.50663 RT 67.17 intensity 4.6931e+05\tM+H@88.49938 prob=1.00\n",
        "489. avg m/z=279.133401666 avg RT=1125.56500244 prob=1.0\n",
        "\tfile_id 0 mz 279.13344 RT 1127.12 intensity 3.3683e+05\tM+H@278.12616 prob=1.00\n",
        "\tfile_id 1 mz 279.13337 RT 1124.01 intensity 3.3254e+05\tM+H@278.12616 prob=1.00\n",
        "490. avg m/z=113.034405958 avg RT=550.702514648 prob=1.0\n",
        "\tfile_id 0 mz 113.03442 RT 546.12 intensity 1.5204e+06\tM+H@112.02714 prob=1.00\n",
        "\tfile_id 1 mz 113.03439 RT 555.28 intensity 1.3834e+06\tM+H@112.02714 prob=1.00\n",
        "491. avg m/z=325.131712697 avg RT=770.622009277 prob=1.0\n",
        "\tfile_id 0 mz 325.13178 RT 767.23 intensity 9.0969e+04\tM+H@324.12450 prob=0.50\n",
        "\tfile_id 1 mz 325.13165 RT 774.01 intensity 8.3052e+04\tM+H@324.12450 prob=0.55\n",
        "492. avg m/z=151.035084893 avg RT=2430.23498535 prob=1.0\n",
        "\tfile_id 0 mz 151.03508 RT 2446.68 intensity 2.4451e+05\tM+H@150.02780 prob=1.00\n",
        "\tfile_id 1 mz 151.03509 RT 2413.79 intensity 2.9064e+05\tM+H@150.02780 prob=0.87\n",
        "493. avg m/z=118.086057291 avg RT=893.486999512 prob=1.0\n",
        "\tfile_id 0 mz 118.08607 RT 893.41 intensity 2.1228e+06\tM+H@117.07879 prob=1.00\n",
        "\tfile_id 1 mz 118.08605 RT 893.56 intensity 1.9791e+06\tM+H@117.07879 prob=1.00\n",
        "494. avg m/z=102.535329244 avg RT=2193.34509277 prob=1.0\n",
        "\tfile_id 0 mz 102.53534 RT 2184.83 intensity 9.4813e+05\tM+H@101.52806 prob=1.00\n",
        "\tfile_id 1 mz 102.53532 RT 2201.86 intensity 9.4161e+05\tM+H@101.52806 prob=1.00\n",
        "495. avg m/z=162.471772411 avg RT=2051.32507324 prob=1.0\n",
        "\tfile_id 0 mz 141.95848 RT 2052.30 intensity 2.1043e+05\tM+H@140.95120 prob=1.00\n",
        "\tfile_id 1 mz 182.98507 RT 2050.35 intensity 8.6716e+05\tM+ACN+H@140.95120 prob=0.70\n",
        "496. avg m/z=269.120652035 avg RT=701.226013184 prob=1.0\n",
        "\tfile_id 0 mz 269.12068 RT 700.60 intensity 1.2759e+05\tM+H@268.11340 prob=0.53\n",
        "\tfile_id 1 mz 269.12063 RT 701.86 intensity 1.2808e+05\tM+H@268.11340 prob=0.51\n",
        "497. avg m/z=195.005925163 avg RT=813.32699585 prob=1.0\n",
        "\tfile_id 0 mz 195.00594 RT 814.54 intensity 1.1017e+05\tM+H@193.99866 prob=1.00\n",
        "\tfile_id 1 mz 195.00591 RT 812.12 intensity 1.3165e+05\tM+H@193.99866 prob=1.00\n",
        "498. avg m/z=102.53536411 avg RT=2123.14501953 prob=1.0\n",
        "\tfile_id 0 mz 102.53538 RT 2132.12 intensity 1.4669e+06\tM+H@101.52810 prob=1.00\n",
        "\tfile_id 1 mz 102.53535 RT 2114.17 intensity 2.0470e+06\tM+H@101.52810 prob=1.00\n",
        "499. avg m/z=291.104557767 avg RT=525.918518066 prob=1.0\n",
        "\tfile_id 0 mz 291.10457 RT 520.25 intensity 3.8359e+05\tM+H@290.09730 prob=1.00\n",
        "\tfile_id 1 mz 291.10454 RT 531.59 intensity 3.2930e+05\tM+H@290.09730 prob=1.00\n",
        "500. avg m/z=110.52150423 avg RT=2017.08502197 prob=1.0\n",
        "\tfile_id 0 mz 110.52151 RT 2017.04 intensity 1.3527e+05\tM+H@109.51423 prob=1.00\n",
        "\tfile_id 1 mz 110.52150 RT 2017.13 intensity 1.5408e+05\tM+H@109.51423 prob=1.00\n",
        "501. avg m/z=102.535274721 avg RT=1974.03997803 prob=1.0\n",
        "\tfile_id 0 mz 102.53528 RT 1971.19 intensity 2.4940e+05\tM+H@101.52800 prob=1.00\n",
        "\tfile_id 1 mz 102.53527 RT 1976.89 intensity 2.6698e+05\tM+H@101.52800 prob=0.91\n",
        "502. avg m/z=74.0322270989 avg RT=2050.60992432 prob=1.0\n",
        "\tfile_id 0 mz 74.03223 RT 2056.88 intensity 2.2246e+05\tM+H@73.02496 prob=1.00\n",
        "\tfile_id 1 mz 74.03222 RT 2044.34 intensity 2.1333e+05\tM+H@73.02496 prob=1.00\n",
        "503. avg m/z=125.986091311 avg RT=2753.03991699 prob=1.0\n",
        "\tfile_id 0 mz 125.98610 RT 2752.90 intensity 3.8511e+05\tM+H@124.97882 prob=0.77\n",
        "\tfile_id 1 mz 125.98608 RT 2753.18 intensity 3.7167e+05\tM+H@124.97882 prob=0.74\n",
        "504. avg m/z=115.069270266 avg RT=1029.09503174 prob=1.0\n",
        "\tfile_id 0 mz 115.06928 RT 1028.63 intensity 3.0772e+05\tM+H@114.06200 prob=0.59\n",
        "\tfile_id 1 mz 115.06926 RT 1029.56 intensity 2.9814e+05\tM+H@114.06200 prob=0.57\n",
        "505. avg m/z=82.0222471821 avg RT=2637.56506348 prob=1.0\n",
        "\tfile_id 0 mz 82.02224 RT 2622.27 intensity 1.0397e+05\tM+H@81.01497 prob=1.00\n",
        "\tfile_id 1 mz 82.02225 RT 2652.86 intensity 1.0540e+05\tM+H@81.01497 prob=1.00\n",
        "506. avg m/z=151.035061083 avg RT=2461.77990723 prob=1.0\n",
        "\tfile_id 0 mz 151.03507 RT 2482.43 intensity 2.1603e+05\tM+H@150.02780 prob=1.00\n",
        "\tfile_id 1 mz 151.03506 RT 2441.13 intensity 2.5537e+05\tM+H@150.02780 prob=1.00\n",
        "507. avg m/z=204.086426744 avg RT=808.223999023 prob=1.0\n",
        "\tfile_id 0 mz 204.08645 RT 805.78 intensity 1.4717e+05\tM+H@203.07918 prob=0.85\n",
        "\tfile_id 1 mz 204.08640 RT 810.67 intensity 1.3560e+05\tM+H@203.07918 prob=0.71\n",
        "508. avg m/z=89.5067880788 avg RT=2166.99499512 prob=1.0\n",
        "\tfile_id 0 mz 89.50682 RT 2129.13 intensity 1.9211e+05\tM+H@88.49951 prob=1.00\n",
        "\tfile_id 1 mz 89.50675 RT 2204.86 intensity 2.2419e+05\tM+H@88.49951 prob=1.00\n",
        "509. avg m/z=110.019933444 avg RT=2025.42504883 prob=1.0\n",
        "\tfile_id 0 mz 110.01994 RT 2017.04 intensity 1.6278e+06\tM+H@109.01267 prob=1.00\n",
        "\tfile_id 1 mz 110.01992 RT 2033.81 intensity 1.9032e+06\tM+H@109.01267 prob=1.00\n",
        "510. avg m/z=187.059870603 avg RT=567.446990967 prob=1.0\n",
        "\tfile_id 0 mz 187.05991 RT 565.07 intensity 2.2634e+05\tM+H@186.05264 prob=1.00\n",
        "\tfile_id 1 mz 187.05983 RT 569.83 intensity 1.9562e+05\tM+H@186.05264 prob=1.00\n",
        "511. avg m/z=363.089183072 avg RT=578.406494141 prob=1.0\n",
        "\tfile_id 0 mz 363.08920 RT 566.52 intensity 1.1765e+05\tM+H@362.08192 prob=1.00\n",
        "\tfile_id 1 mz 363.08917 RT 590.29 intensity 9.9364e+04\tM+H@362.08192 prob=1.00\n",
        "512. avg m/z=70.0126556775 avg RT=2431.69494629 prob=1.0\n",
        "\tfile_id 0 mz 70.01266 RT 2440.49 intensity 2.9119e+05\tM+H@69.00538 prob=1.00\n",
        "\tfile_id 1 mz 70.01265 RT 2422.90 intensity 2.6701e+05\tM+H@69.00538 prob=1.00\n",
        "513. avg m/z=319.099447273 avg RT=555.087005615 prob=1.0\n",
        "\tfile_id 0 mz 319.09947 RT 553.43 intensity 8.1152e+04\tM+H@318.09219 prob=1.00\n",
        "\tfile_id 1 mz 319.09943 RT 556.74 intensity 9.8175e+04\tM+H@318.09219 prob=1.00\n",
        "514. avg m/z=141.138388119 avg RT=816.941986084 prob=1.0\n",
        "\tfile_id 0 mz 141.13840 RT 817.43 intensity 9.6695e+04\tM+ACN+H@99.10468 prob=0.51\n",
        "\tfile_id 1 mz 141.13838 RT 816.46 intensity 8.8348e+04\tM+ACN+H@99.10468 prob=0.52\n",
        "515. avg m/z=151.035019133 avg RT=2577.69506836 prob=1.0\n",
        "\tfile_id 0 mz 151.03502 RT 2574.04 intensity 1.7612e+05\tM+H@150.02777 prob=1.00\n",
        "\tfile_id 1 mz 151.03502 RT 2581.35 intensity 2.0389e+05\tM+H@150.02777 prob=0.79\n",
        "516. avg m/z=90.0547985866 avg RT=1108.07501221 prob=1.0\n",
        "\tfile_id 0 mz 90.05481 RT 1105.40 intensity 8.7897e+05\tM+H@89.04754 prob=1.00\n",
        "\tfile_id 1 mz 90.05478 RT 1110.75 intensity 8.0468e+05\tM+H@89.04754 prob=1.00\n",
        "517. avg m/z=82.5370749759 avg RT=2173.08996582 prob=1.0\n",
        "\tfile_id 0 mz 82.53708 RT 2172.73 intensity 7.1265e+04\tM+H@81.52980 prob=1.00\n",
        "\tfile_id 1 mz 82.53707 RT 2173.45 intensity 7.6010e+04\tM+H@81.52980 prob=1.00\n",
        "518. avg m/z=81.5205138395 avg RT=1828.875 prob=1.0\n",
        "\tfile_id 0 mz 81.52052 RT 1827.66 intensity 5.2550e+05\tM+H@80.51324 prob=1.00\n",
        "\tfile_id 1 mz 81.52051 RT 1830.09 intensity 4.9002e+05\tM+H@80.51324 prob=1.00\n",
        "519. avg m/z=162.471659672 avg RT=2536.52502441 prob=1.0\n",
        "\tfile_id 0 mz 182.98492 RT 2567.85 intensity 1.8813e+05\tM+ACN+H@140.95113 prob=0.99\n",
        "\tfile_id 1 mz 141.95840 RT 2505.20 intensity 1.3260e+05\tM+H@140.95113 prob=1.00\n",
        "520. avg m/z=168.98942575 avg RT=891.110992432 prob=1.0\n",
        "\tfile_id 0 mz 168.98944 RT 885.71 intensity 2.1626e+05\tM+H@167.98216 prob=1.00\n",
        "\tfile_id 1 mz 168.98941 RT 896.51 intensity 2.1149e+05\tM+H@167.98216 prob=1.00\n",
        "521. avg m/z=111.020046089 avg RT=2015.58001709 prob=1.0\n",
        "\tfile_id 0 mz 111.02006 RT 2017.04 intensity 1.7704e+05\tM+H@110.01278 prob=1.00\n",
        "\tfile_id 1 mz 111.02004 RT 2014.12 intensity 1.7238e+05\tM+H@110.01278 prob=1.00\n",
        "522. avg m/z=95.0437024515 avg RT=2587.79492188 prob=1.0\n",
        "\tfile_id 0 mz 95.04371 RT 2592.70 intensity 6.8709e+04\tM+H@94.03643 prob=1.00\n",
        "\tfile_id 1 mz 95.04369 RT 2582.89 intensity 6.9341e+04\tM+H@94.03643 prob=1.00\n",
        "523. avg m/z=141.958397251 avg RT=2548.39501953 prob=1.0\n",
        "\tfile_id 0 mz 141.95841 RT 2535.22 intensity 9.5332e+04\tM+H@140.95113 prob=1.00\n",
        "\tfile_id 1 mz 141.95838 RT 2561.57 intensity 1.3811e+05\tM+H@140.95113 prob=1.00\n",
        "524. avg m/z=167.012583514 avg RT=2728.42492676 prob=1.0\n",
        "\tfile_id 0 mz 167.01260 RT 2720.39 intensity 4.0573e+05\tM+H@166.00532 prob=0.58\n",
        "\tfile_id 1 mz 167.01257 RT 2736.46 intensity 4.2111e+05\tM+H@166.00532 prob=0.53\n",
        "525. avg m/z=102.033779636 avg RT=2313.625 prob=1.0\n",
        "\tfile_id 0 mz 102.03379 RT 2309.11 intensity 6.0534e+06\tM+H@101.02652 prob=1.00\n",
        "\tfile_id 1 mz 102.03377 RT 2318.14 intensity 6.8917e+06\tM+H@101.02652 prob=1.00\n",
        "526. avg m/z=95.0436923274 avg RT=87.9423027039 prob=1.0\n",
        "\tfile_id 0 mz 95.04370 RT 85.51 intensity 8.7470e+04\tM+H@94.03643 prob=1.00\n",
        "\tfile_id 1 mz 95.04368 RT 90.38 intensity 9.2616e+04\tM+H@94.03643 prob=1.00\n",
        "527. avg m/z=81.5205550125 avg RT=53.071100235 prob=1.0\n",
        "\tfile_id 0 mz 81.52056 RT 49.60 intensity 1.5124e+06\tM+H@80.51328 prob=1.00\n",
        "\tfile_id 1 mz 81.52055 RT 56.54 intensity 1.3986e+06\tM+H@80.51328 prob=1.00\n",
        "528. avg m/z=102.033734843 avg RT=2736.95495605 prob=1.0\n",
        "\tfile_id 0 mz 102.03374 RT 2737.45 intensity 2.2513e+06\tM+H@101.02645 prob=1.00\n",
        "\tfile_id 1 mz 102.03373 RT 2736.46 intensity 2.6317e+06\tM+H@101.02645 prob=1.00\n",
        "529. avg m/z=144.065323674 avg RT=377.98600769 prob=1.0\n",
        "\tfile_id 0 mz 144.06534 RT 376.43 intensity 1.1827e+06\tM+H@143.05806 prob=1.00\n",
        "\tfile_id 1 mz 144.06531 RT 379.55 intensity 1.1901e+06\tM+H@143.05806 prob=1.00\n",
        "530. avg m/z=205.096882386 avg RT=787.757995605 prob=1.0\n",
        "\tfile_id 0 mz 205.09689 RT 786.73 intensity 3.6199e+06\tM+NH4@187.06313 prob=0.52\n",
        "\tfile_id 1 mz 205.09687 RT 788.79 intensity 3.8366e+06\tM+NH4@187.06313 prob=0.53\n",
        "531. avg m/z=264.07669774 avg RT=818.378997803 prob=1.0\n",
        "\tfile_id 0 mz 264.07672 RT 820.30 intensity 1.5098e+05\tM+HC13@262.06625 prob=0.99\n",
        "\tfile_id 1 mz 264.07667 RT 816.46 intensity 1.3999e+05\tM+HC13@262.06625 prob=0.98\n",
        "532. avg m/z=94.0450704865 avg RT=2223.08508301 prob=1.0\n",
        "\tfile_id 0 mz 94.04507 RT 2236.84 intensity 1.6977e+06\tM+H@93.03780 prob=1.00\n",
        "\tfile_id 1 mz 94.04507 RT 2209.33 intensity 1.8525e+06\tM+H@93.03780 prob=0.97\n",
        "533. avg m/z=176.013060668 avg RT=30.4831354618 prob=1.0\n",
        "\tfile_id 0 mz 176.01308 RT 4.42 intensity 8.7893e+04\tM+H@175.00580 prob=1.00\n",
        "\tfile_id 1 mz 176.01304 RT 56.54 intensity 6.8163e+04\tM+H@175.00580 prob=1.00\n",
        "534. avg m/z=125.986081224 avg RT=2657.80505371 prob=1.0\n",
        "\tfile_id 0 mz 125.98609 RT 2662.75 intensity 3.5201e+05\tM+H@124.97879 prob=1.00\n",
        "\tfile_id 1 mz 125.98607 RT 2652.86 intensity 3.4936e+05\tM+H@124.97879 prob=0.92\n",
        "535. avg m/z=70.012639975 avg RT=2570.69995117 prob=1.0\n",
        "\tfile_id 0 mz 70.01265 RT 2553.92 intensity 3.1001e+05\tM+H@69.00536 prob=1.00\n",
        "\tfile_id 1 mz 70.01263 RT 2587.48 intensity 2.9574e+05\tM+H@69.00536 prob=1.00\n",
        "536. avg m/z=391.149471589 avg RT=605.684997559 prob=1.0\n",
        "\tfile_id 0 mz 391.14947 RT 606.26 intensity 8.2755e+04\tM+H@390.14219 prob=1.00\n",
        "\tfile_id 1 mz 391.14947 RT 605.11 intensity 8.9930e+04\tM+H@390.14219 prob=1.00\n",
        "537. avg m/z=147.001115777 avg RT=2138.93994141 prob=1.0\n",
        "\tfile_id 0 mz 167.01277 RT 2165.17 intensity 3.6846e+06\tM+ACN+H@124.97893 prob=0.57\n",
        "\tfile_id 1 mz 126.98946 RT 2112.71 intensity 8.0767e+04\tM+HC13@124.97893 prob=0.53\n",
        "538. avg m/z=102.535310971 avg RT=2356.47998047 prob=1.0\n",
        "\tfile_id 0 mz 102.53532 RT 2353.91 intensity 4.3769e+05\tM+H@101.52804 prob=1.00\n",
        "\tfile_id 1 mz 102.53530 RT 2359.05 intensity 5.2093e+05\tM+H@101.52804 prob=1.00\n",
        "539. avg m/z=151.035030156 avg RT=2537.34997559 prob=1.0\n",
        "\tfile_id 0 mz 151.03503 RT 2574.04 intensity 1.7612e+05\tM+H@150.02777 prob=1.00\n",
        "\tfile_id 1 mz 151.03503 RT 2500.66 intensity 2.3410e+05\tM+H@150.02777 prob=1.00\n",
        "540. avg m/z=466.252685718 avg RT=337.337005615 prob=1.0\n",
        "\tfile_id 0 mz 466.25277 RT 338.05 intensity 1.4139e+05\tM+H@465.24549 prob=0.52\n",
        "\tfile_id 1 mz 466.25260 RT 336.63 intensity 1.1600e+05\tM+H@465.24549 prob=0.54\n",
        "541. avg m/z=102.033736664 avg RT=2592.54003906 prob=1.0\n",
        "\tfile_id 0 mz 102.03374 RT 2609.81 intensity 2.3463e+06\tM+H@101.02647 prob=1.00\n",
        "\tfile_id 1 mz 102.03373 RT 2575.27 intensity 2.7813e+06\tM+H@101.02647 prob=0.94\n",
        "542. avg m/z=81.5205679501 avg RT=2442.59509277 prob=1.0\n",
        "\tfile_id 0 mz 81.52057 RT 2466.83 intensity 1.9897e+06\tM+H@80.51329 prob=1.00\n",
        "\tfile_id 1 mz 81.52056 RT 2418.36 intensity 2.2601e+06\tM+H@80.51329 prob=1.00\n",
        "543. avg m/z=73.5317906514 avg RT=2755.30993652 prob=1.0\n",
        "\tfile_id 0 mz 73.53180 RT 2752.90 intensity 3.2386e+05\tM+H@72.52452 prob=1.00\n",
        "\tfile_id 1 mz 73.53178 RT 2757.72 intensity 3.2315e+05\tM+H@72.52452 prob=1.00\n",
        "544. avg m/z=82.0222455538 avg RT=2572.25 prob=1.0\n",
        "\tfile_id 0 mz 82.02224 RT 2558.55 intensity 1.1920e+05\tM+H@81.01496 prob=1.00\n",
        "\tfile_id 1 mz 82.02226 RT 2585.95 intensity 1.1255e+05\tM+H@81.01496 prob=0.95\n",
        "545. avg m/z=109.022307951 avg RT=2042.36004639 prob=1.0\n",
        "\tfile_id 0 mz 109.02232 RT 2066.06 intensity 6.7766e+04\tM+H@108.01503 prob=1.00\n",
        "\tfile_id 1 mz 109.02230 RT 2018.66 intensity 1.2059e+05\tM+H@108.01503 prob=1.00\n",
        "546. avg m/z=278.185869837 avg RT=351.056503296 prob=1.0\n",
        "\tfile_id 0 mz 278.18587 RT 351.78 intensity 7.8320e+04\tM+H@277.17860 prob=1.00\n",
        "\tfile_id 1 mz 278.18587 RT 350.33 intensity 7.7766e+04\tM+H@277.17860 prob=1.00\n",
        "547. avg m/z=577.133134417 avg RT=89.7496986389 prob=1.0\n",
        "\tfile_id 0 mz 577.13309 RT 103.13 intensity 1.3472e+05\tM+H@576.12581 prob=1.00\n",
        "\tfile_id 1 mz 577.13318 RT 76.37 intensity 7.0848e+04\tM+H@576.12581 prob=1.00\n",
        "548. avg m/z=147.112466434 avg RT=1602.64001465 prob=1.0\n",
        "\tfile_id 0 mz 147.11249 RT 1605.05 intensity 1.1341e+05\tM+H@146.10521 prob=1.00\n",
        "\tfile_id 1 mz 147.11244 RT 1600.23 intensity 8.2560e+04\tM+H@146.10521 prob=1.00\n",
        "549. avg m/z=116.106817696 avg RT=344.973999023 prob=1.0\n",
        "\tfile_id 0 mz 116.10682 RT 344.17 intensity 1.4444e+05\tM+H@115.09955 prob=1.00\n",
        "\tfile_id 1 mz 116.10681 RT 345.78 intensity 9.3529e+04\tM+H@115.09955 prob=1.00\n",
        "550. avg m/z=79.0211456379 avg RT=497.340499878 prob=1.0\n",
        "\tfile_id 0 mz 79.02115 RT 497.83 intensity 9.3354e+05\tM+H@78.01388 prob=1.00\n",
        "\tfile_id 1 mz 79.02114 RT 496.85 intensity 8.2551e+05\tM+H@78.01388 prob=1.00\n",
        "551. avg m/z=73.5318010531 avg RT=2512.02502441 prob=1.0\n",
        "\tfile_id 0 mz 73.53180 RT 2550.86 intensity 3.2674e+05\tM+H@72.52453 prob=1.00\n",
        "\tfile_id 1 mz 73.53180 RT 2473.19 intensity 3.6113e+05\tM+H@72.52453 prob=1.00\n",
        "552. avg m/z=307.101911783 avg RT=778.718994141 prob=1.0\n",
        "\tfile_id 0 mz 307.10192 RT 795.52 intensity 1.7919e+05\tM+H@306.09464 prob=1.00\n",
        "\tfile_id 1 mz 307.10190 RT 761.92 intensity 2.3188e+05\tM+H@306.09464 prob=1.00\n",
        "553. avg m/z=136.061653473 avg RT=595.294006348 prob=1.0\n",
        "\tfile_id 0 mz 136.06166 RT 600.29 intensity 2.1543e+05\tM+H@135.05439 prob=1.00\n",
        "\tfile_id 1 mz 136.06164 RT 590.29 intensity 2.0241e+05\tM+H@135.05439 prob=1.00\n",
        "554. avg m/z=538.17200681 avg RT=625.085998535 prob=1.0\n",
        "\tfile_id 0 mz 538.17206 RT 622.69 intensity 1.1915e+05\tM+HC13@536.16115 prob=0.55\n",
        "\tfile_id 1 mz 538.17195 RT 627.48 intensity 1.2000e+05\tM+HC13@536.16115 prob=0.53\n",
        "555. avg m/z=465.16859783 avg RT=713.753997803 prob=1.0\n",
        "\tfile_id 0 mz 465.16863 RT 714.75 intensity 1.3246e+05\tM+H@464.16135 prob=1.00\n",
        "\tfile_id 1 mz 465.16857 RT 712.76 intensity 1.5705e+05\tM+H@464.16135 prob=1.00\n",
        "556. avg m/z=114.066056653 avg RT=1034.40997314 prob=1.0\n",
        "\tfile_id 0 mz 114.06607 RT 1037.74 intensity 7.1254e+06\tM+H@113.05879 prob=0.50\n",
        "\tfile_id 1 mz 114.06605 RT 1031.08 intensity 6.9225e+06\tM+H@113.05879 prob=0.58\n",
        "557. avg m/z=345.133470617 avg RT=883.490997314 prob=1.0\n",
        "\tfile_id 0 mz 345.13350 RT 884.17 intensity 4.2145e+05\tM+H@344.12623 prob=1.00\n",
        "\tfile_id 1 mz 345.13344 RT 882.82 intensity 4.7957e+05\tM+H@344.12623 prob=1.00\n",
        "558. avg m/z=509.205490509 avg RT=751.697998047 prob=1.0\n",
        "\tfile_id 0 mz 509.20558 RT 753.55 intensity 9.9473e+04\tM+HC13@507.19483 prob=0.52\n",
        "\tfile_id 1 mz 509.20540 RT 749.84 intensity 1.0787e+05\tM+HC13@507.19483 prob=0.52\n",
        "559. avg m/z=121.083933224 avg RT=742.583984375 prob=1.0\n",
        "\tfile_id 0 mz 121.08394 RT 741.38 intensity 1.2414e+05\tM+HC13@119.07338 prob=0.52\n",
        "\tfile_id 1 mz 121.08392 RT 743.79 intensity 1.2110e+05\tM+HC13@119.07338 prob=0.52\n",
        "560. avg m/z=73.5317853775 avg RT=52.4047489166 prob=1.0\n",
        "\tfile_id 0 mz 73.53179 RT 58.87 intensity 2.8536e+05\tM+H@72.52452 prob=1.00\n",
        "\tfile_id 1 mz 73.53178 RT 45.94 intensity 2.6474e+05\tM+H@72.52452 prob=1.00\n",
        "561. avg m/z=73.5318026666 avg RT=2498.18005371 prob=1.0\n",
        "\tfile_id 0 mz 73.53181 RT 2466.83 intensity 3.4845e+05\tM+H@72.52453 prob=0.98\n",
        "\tfile_id 1 mz 73.53179 RT 2529.53 intensity 3.6107e+05\tM+H@72.52453 prob=1.00\n",
        "562. avg m/z=115.038823363 avg RT=809.595001221 prob=1.0\n",
        "\tfile_id 0 mz 115.03883 RT 826.02 intensity 9.2540e+04\tM+H@114.03155 prob=1.00\n",
        "\tfile_id 1 mz 115.03882 RT 793.17 intensity 8.8331e+04\tM+H@114.03155 prob=1.00\n",
        "563. avg m/z=104.030045245 avg RT=2258.05505371 prob=1.0\n",
        "\tfile_id 0 mz 104.03005 RT 2263.01 intensity 1.5215e+05\tM+H@103.02278 prob=1.00\n",
        "\tfile_id 1 mz 104.03004 RT 2253.10 intensity 1.7825e+05\tM+H@103.02278 prob=1.00\n",
        "564. avg m/z=329.083737492 avg RT=435.455490112 prob=1.0\n",
        "\tfile_id 0 mz 329.08376 RT 438.10 intensity 2.3862e+05\tM+H@328.07648 prob=1.00\n",
        "\tfile_id 1 mz 329.08372 RT 432.81 intensity 2.7163e+05\tM+H@328.07648 prob=1.00\n",
        "565. avg m/z=547.212972266 avg RT=792.149993896 prob=1.0\n",
        "\tfile_id 0 mz 547.21300 RT 791.13 intensity 3.6658e+05\tM+H@546.20572 prob=1.00\n",
        "\tfile_id 1 mz 547.21295 RT 793.17 intensity 4.3247e+05\tM+H@546.20572 prob=1.00\n",
        "566. avg m/z=267.106936169 avg RT=1770.05499268 prob=1.0\n",
        "\tfile_id 0 mz 267.10696 RT 1768.40 intensity 1.4356e+05\tM+H@266.09969 prob=1.00\n",
        "\tfile_id 1 mz 267.10691 RT 1771.71 intensity 1.5541e+05\tM+H@266.09969 prob=1.00\n",
        "567. avg m/z=82.5370902462 avg RT=2443.95507812 prob=1.0\n",
        "\tfile_id 0 mz 82.53708 RT 2451.34 intensity 1.2878e+05\tM+H@81.52981 prob=1.00\n",
        "\tfile_id 1 mz 82.53710 RT 2436.57 intensity 1.1792e+05\tM+H@81.52981 prob=1.00\n",
        "568. avg m/z=102.535258042 avg RT=1561.7300415 prob=1.0\n",
        "\tfile_id 0 mz 102.53527 RT 1551.79 intensity 1.0514e+05\tM+H@101.52799 prob=1.00\n",
        "\tfile_id 1 mz 102.53525 RT 1571.67 intensity 1.2642e+05\tM+H@101.52799 prob=1.00\n",
        "569. avg m/z=649.244461682 avg RT=784.808990479 prob=1.0\n",
        "\tfile_id 0 mz 649.24453 RT 782.29 intensity 6.9376e+04\tM+H@648.23725 prob=1.00\n",
        "\tfile_id 1 mz 649.24439 RT 787.33 intensity 8.1377e+04\tM+H@648.23725 prob=1.00\n",
        "570. avg m/z=146.499336902 avg RT=2749.96496582 prob=1.0\n",
        "\tfile_id 0 mz 125.98610 RT 2748.26 intensity 3.8541e+05\tM+H@124.97882 prob=0.67\n",
        "\tfile_id 1 mz 167.01257 RT 2751.67 intensity 4.4966e+05\tM+ACN+H@124.97882 prob=0.53\n",
        "571. avg m/z=102.535296332 avg RT=2633.89489746 prob=1.0\n",
        "\tfile_id 0 mz 102.53531 RT 2631.65 intensity 2.0615e+05\tM+H@101.52803 prob=1.00\n",
        "\tfile_id 1 mz 102.53529 RT 2636.14 intensity 2.1691e+05\tM+H@101.52803 prob=1.00\n",
        "572. avg m/z=81.5205675141 avg RT=2729.17993164 prob=1.0\n",
        "\tfile_id 0 mz 81.52057 RT 2720.39 intensity 1.6526e+06\tM+H@80.51330 prob=1.00\n",
        "\tfile_id 1 mz 81.52056 RT 2737.97 intensity 1.6417e+06\tM+H@80.51330 prob=1.00\n",
        "573. avg m/z=70.0126266427 avg RT=49.2886505127 prob=1.0\n",
        "\tfile_id 0 mz 70.01264 RT 48.06 intensity 2.7755e+05\tM+H@69.00536 prob=1.00\n",
        "\tfile_id 1 mz 70.01261 RT 50.52 intensity 2.4515e+05\tM+H@69.00536 prob=1.00\n",
        "574. avg m/z=102.535286917 avg RT=16.3037502766 prob=1.0\n",
        "\tfile_id 0 mz 102.53531 RT 28.21 intensity 1.6005e+05\tM+H@101.52802 prob=1.00\n",
        "\tfile_id 1 mz 102.53527 RT 4.39 intensity 2.0545e+05\tM+H@101.52802 prob=1.00\n",
        "575. avg m/z=130.521946623 avg RT=2051.32507324 prob=1.0\n",
        "\tfile_id 0 mz 110.00872 RT 2052.30 intensity 3.4538e+05\tM+H@109.00145 prob=1.00\n",
        "\tfile_id 1 mz 151.03517 RT 2050.35 intensity 2.7251e+06\tM+ACN+H@109.00145 prob=0.59\n",
        "576. avg m/z=263.073514134 avg RT=820.532989502 prob=1.0\n",
        "\tfile_id 0 mz 263.07353 RT 820.30 intensity 2.2363e+06\tM+H@262.06625 prob=1.00\n",
        "\tfile_id 1 mz 263.07350 RT 820.76 intensity 2.1232e+06\tM+H@262.06625 prob=1.00\n",
        "577. avg m/z=102.033718722 avg RT=92.6945991516 prob=1.0\n",
        "\tfile_id 0 mz 102.03373 RT 91.86 intensity 2.4018e+06\tM+H@101.02645 prob=1.00\n",
        "\tfile_id 1 mz 102.03371 RT 93.53 intensity 2.3638e+06\tM+H@101.02645 prob=1.00\n",
        "578. avg m/z=151.035005654 avg RT=2658.22497559 prob=1.0\n",
        "\tfile_id 0 mz 151.03503 RT 2631.65 intensity 1.6820e+05\tM+H@150.02775 prob=1.00\n",
        "\tfile_id 1 mz 151.03499 RT 2684.80 intensity 1.8420e+05\tM+H@150.02775 prob=0.82\n",
        "579. avg m/z=187.059847035 avg RT=795.812988281 prob=1.0\n",
        "\tfile_id 0 mz 187.05987 RT 798.46 intensity 8.5000e+04\tM+H@186.05261 prob=1.00\n",
        "\tfile_id 1 mz 187.05983 RT 793.17 intensity 8.2883e+04\tM+H@186.05261 prob=1.00\n",
        "580. avg m/z=130.049669334 avg RT=1083.26000977 prob=1.0\n",
        "\tfile_id 0 mz 130.04969 RT 1082.06 intensity 3.5192e+05\tM+H@129.04241 prob=1.00\n",
        "\tfile_id 1 mz 130.04965 RT 1084.46 intensity 3.1367e+05\tM+H@129.04241 prob=1.00\n",
        "581. avg m/z=95.0437575041 avg RT=2321.95007324 prob=1.0\n",
        "\tfile_id 0 mz 95.04377 RT 2309.11 intensity 1.8893e+05\tM+H@94.03649 prob=1.00\n",
        "\tfile_id 1 mz 95.04375 RT 2334.79 intensity 1.8101e+05\tM+H@94.03649 prob=1.00\n",
        "582. avg m/z=610.233429946 avg RT=744.875976562 prob=1.0\n",
        "\tfile_id 0 mz 610.23351 RT 747.48 intensity 1.3321e+05\tM+H@609.22623 prob=1.00\n",
        "\tfile_id 1 mz 610.23335 RT 742.27 intensity 1.3369e+05\tM+H@609.22623 prob=1.00\n",
        "583. avg m/z=104.00419274 avg RT=2379.48999023 prob=1.0\n",
        "\tfile_id 0 mz 125.98614 RT 2381.71 intensity 6.0154e+05\tM+2Na-H@81.01496 prob=0.54\n",
        "\tfile_id 1 mz 82.02225 RT 2377.27 intensity 1.3340e+05\tM+H@81.01496 prob=1.00\n",
        "584. avg m/z=167.012587219 avg RT=2713.94494629 prob=1.0\n",
        "\tfile_id 0 mz 167.01260 RT 2715.75 intensity 3.7991e+05\tM+H@166.00532 prob=0.59\n",
        "\tfile_id 1 mz 167.01257 RT 2712.14 intensity 4.7565e+05\tM+H@166.00532 prob=0.51\n",
        "585. avg m/z=263.073420971 avg RT=573.279022217 prob=1.0\n",
        "\tfile_id 0 mz 263.07344 RT 572.35 intensity 4.2845e+05\tM+H@262.06617 prob=1.00\n",
        "\tfile_id 1 mz 263.07340 RT 574.21 intensity 4.6959e+05\tM+H@262.06617 prob=1.00\n",
        "586. avg m/z=472.145517642 avg RT=831.227996826 prob=1.0\n",
        "\tfile_id 0 mz 472.14556 RT 830.30 intensity 1.5700e+06\tM+H@471.13828 prob=1.00\n",
        "\tfile_id 1 mz 472.14548 RT 832.16 intensity 1.7566e+06\tM+H@471.13828 prob=1.00\n",
        "587. avg m/z=73.5318121305 avg RT=2416.95495605 prob=1.0\n",
        "\tfile_id 0 mz 73.53182 RT 2409.50 intensity 3.8477e+05\tM+H@72.52454 prob=1.00\n",
        "\tfile_id 1 mz 73.53181 RT 2424.41 intensity 3.8788e+05\tM+H@72.52454 prob=1.00\n",
        "588. avg m/z=151.035104649 avg RT=2362.41992188 prob=1.0\n",
        "\tfile_id 0 mz 151.03513 RT 2336.91 intensity 3.2637e+05\tM+H@150.02783 prob=0.85\n",
        "\tfile_id 1 mz 151.03508 RT 2387.93 intensity 3.1550e+05\tM+H@150.02783 prob=1.00\n",
        "589. avg m/z=76.0392078101 avg RT=1111.45001221 prob=1.0\n",
        "\tfile_id 0 mz 76.03921 RT 1117.12 intensity 2.5143e+05\tM+H@75.03194 prob=1.00\n",
        "\tfile_id 1 mz 76.03920 RT 1105.78 intensity 2.3675e+05\tM+H@75.03194 prob=1.00\n",
        "590. avg m/z=102.033804699 avg RT=2222.85498047 prob=1.0\n",
        "\tfile_id 0 mz 102.03382 RT 2209.24 intensity 9.5066e+06\tM+H@101.02654 prob=1.00\n",
        "\tfile_id 1 mz 102.03379 RT 2236.47 intensity 9.0023e+06\tM+H@101.02654 prob=1.00\n",
        "591. avg m/z=537.168403735 avg RT=618.360015869 prob=1.0\n",
        "\tfile_id 0 mz 537.16842 RT 621.19 intensity 7.0034e+05\tM+H@536.16115 prob=1.00\n",
        "\tfile_id 1 mz 537.16839 RT 615.53 intensity 6.8889e+05\tM+H@536.16115 prob=1.00\n",
        "592. avg m/z=449.126063489 avg RT=553.627990723 prob=1.0\n",
        "\tfile_id 0 mz 449.12614 RT 554.89 intensity 1.4752e+05\tM+H@448.11882 prob=1.00\n",
        "\tfile_id 1 mz 449.12599 RT 552.36 intensity 1.7433e+05\tM+H@448.11882 prob=1.00\n",
        "593. avg m/z=141.958410301 avg RT=2447.2199707 prob=1.0\n",
        "\tfile_id 0 mz 141.95842 RT 2471.54 intensity 8.8872e+04\tM+H@140.95114 prob=1.00\n",
        "\tfile_id 1 mz 141.95840 RT 2422.90 intensity 1.1448e+05\tM+H@140.95114 prob=1.00\n",
        "594. avg m/z=89.5066535348 avg RT=2617.85009766 prob=1.0\n",
        "\tfile_id 0 mz 89.50667 RT 2623.83 intensity 1.8829e+05\tM+H@88.49939 prob=1.00\n",
        "\tfile_id 1 mz 89.50664 RT 2611.87 intensity 2.3791e+05\tM+H@88.49939 prob=1.00\n",
        "595. avg m/z=82.5371018471 avg RT=2042.27496338 prob=1.0\n",
        "\tfile_id 0 mz 82.53711 RT 2046.22 intensity 3.0017e+05\tM+H@81.52983 prob=0.50\n",
        "\tfile_id 1 mz 82.53710 RT 2038.33 intensity 2.4411e+05\tM+H@81.52983 prob=0.59\n",
        "596. avg m/z=379.152789977 avg RT=892.716003418 prob=1.0\n",
        "\tfile_id 0 mz 379.15289 RT 898.00 intensity 8.6177e+04\tM+H@378.14562 prob=1.00\n",
        "\tfile_id 1 mz 379.15269 RT 887.43 intensity 1.8048e+05\tM+H@378.14562 prob=1.00\n",
        "597. avg m/z=124.039171619 avg RT=455.080505371 prob=1.0\n",
        "\tfile_id 0 mz 124.03918 RT 455.39 intensity 4.7670e+06\tM+H@123.03190 prob=1.00\n",
        "\tfile_id 1 mz 124.03916 RT 454.77 intensity 4.7185e+06\tM+H@123.03190 prob=1.00\n",
        "598. avg m/z=123.048708286 avg RT=2101.67004395 prob=1.0\n",
        "\tfile_id 0 mz 123.04872 RT 2103.84 intensity 4.3552e+05\tM+H@122.04144 prob=0.58\n",
        "\tfile_id 1 mz 123.04870 RT 2099.50 intensity 4.6776e+05\tM+H@122.04144 prob=0.66\n",
        "599. avg m/z=377.10493567 avg RT=570.361999512 prob=1.0\n",
        "\tfile_id 0 mz 377.10494 RT 566.52 intensity 7.3094e+04\tM+H@376.09766 prob=1.00\n",
        "\tfile_id 1 mz 377.10493 RT 574.21 intensity 7.2417e+04\tM+H@376.09766 prob=1.00\n",
        "600. avg m/z=122.546904203 avg RT=2618.71496582 prob=1.0\n",
        "\tfile_id 0 mz 122.54691 RT 2631.65 intensity 1.4110e+05\tM+H@121.53965 prob=1.00\n",
        "\tfile_id 1 mz 122.54690 RT 2605.78 intensity 2.0853e+05\tM+H@121.53965 prob=1.00\n",
        "601. avg m/z=310.142536128 avg RT=857.511016846 prob=1.0\n",
        "\tfile_id 0 mz 310.14252 RT 864.09 intensity 9.3248e+04\tM+H@309.13528 prob=1.00\n",
        "\tfile_id 1 mz 310.14255 RT 850.93 intensity 9.0759e+04\tM+H@309.13528 prob=1.00\n",
        "602. avg m/z=180.97595531 avg RT=810.414001465 prob=1.0\n",
        "\tfile_id 0 mz 180.97596 RT 810.16 intensity 1.8429e+05\tM+H@179.96869 prob=1.00\n",
        "\tfile_id 1 mz 180.97595 RT 810.67 intensity 1.5670e+05\tM+H@179.96869 prob=1.00\n",
        "603. avg m/z=82.0222636303 avg RT=32.5566997528 prob=1.0\n",
        "\tfile_id 0 mz 82.02227 RT 31.24 intensity 9.1141e+04\tM+H@81.01497 prob=1.00\n",
        "\tfile_id 1 mz 82.02226 RT 33.88 intensity 8.6031e+04\tM+H@81.01497 prob=1.00\n",
        "604. avg m/z=73.5318089862 avg RT=2409.55993652 prob=1.0\n",
        "\tfile_id 0 mz 73.53182 RT 2431.19 intensity 3.4969e+05\tM+H@72.52454 prob=1.00\n",
        "\tfile_id 1 mz 73.53180 RT 2387.93 intensity 3.8388e+05\tM+H@72.52454 prob=1.00\n",
        "605. avg m/z=188.070396735 avg RT=788.49899292 prob=1.0\n",
        "\tfile_id 0 mz 188.07041 RT 789.67 intensity 1.1045e+06\tM+H@187.06313 prob=1.00\n",
        "\tfile_id 1 mz 188.07038 RT 787.33 intensity 1.1638e+06\tM+H@187.06313 prob=1.00\n",
        "606. avg m/z=102.033735534 avg RT=2614.41992188 prob=1.0\n",
        "\tfile_id 0 mz 102.03374 RT 2592.70 intensity 2.3550e+06\tM+H@101.02647 prob=1.00\n",
        "\tfile_id 1 mz 102.03373 RT 2636.14 intensity 2.4290e+06\tM+H@101.02647 prob=1.00\n",
        "607. avg m/z=73.5318079451 avg RT=2450.83007812 prob=1.0\n",
        "\tfile_id 0 mz 73.53181 RT 2451.34 intensity 3.7488e+05\tM+H@72.52454 prob=1.00\n",
        "\tfile_id 1 mz 73.53180 RT 2450.32 intensity 3.8527e+05\tM+H@72.52454 prob=1.00\n",
        "608. avg m/z=122.546967834 avg RT=2458.48498535 prob=1.0\n",
        "\tfile_id 0 mz 122.54698 RT 2459.05 intensity 3.4160e+05\tM+H@121.53970 prob=1.00\n",
        "\tfile_id 1 mz 122.54696 RT 2457.92 intensity 3.6857e+05\tM+H@121.53970 prob=1.00\n",
        "609. avg m/z=206.07371197 avg RT=567.446990967 prob=1.0\n",
        "\tfile_id 0 mz 206.07373 RT 565.07 intensity 1.4447e+05\tM+HC13@204.06325 prob=0.54\n",
        "\tfile_id 1 mz 206.07370 RT 569.83 intensity 1.2106e+05\tM+HC13@204.06325 prob=0.52\n",
        "610. avg m/z=102.033744898 avg RT=2517.75 prob=1.0\n",
        "\tfile_id 0 mz 102.03375 RT 2516.57 intensity 2.7835e+06\tM+H@101.02647 prob=1.00\n",
        "\tfile_id 1 mz 102.03374 RT 2518.93 intensity 3.2058e+06\tM+H@101.02647 prob=1.00\n",
        "611. avg m/z=400.128075952 avg RT=448.895507812 prob=1.0\n",
        "\tfile_id 0 mz 400.12813 RT 447.63 intensity 7.4810e+05\tM+H@399.12085 prob=1.00\n",
        "\tfile_id 1 mz 400.12803 RT 450.16 intensity 8.1556e+05\tM+H@399.12085 prob=1.00\n",
        "612. avg m/z=349.070069179 avg RT=110.503501892 prob=1.0\n",
        "\tfile_id 0 mz 349.07004 RT 116.43 intensity 6.9592e+04\tM+H@348.06276 prob=1.00\n",
        "\tfile_id 1 mz 349.07010 RT 104.58 intensity 9.9991e+04\tM+H@348.06276 prob=1.00\n",
        "613. avg m/z=445.181293587 avg RT=787.026000977 prob=1.0\n",
        "\tfile_id 0 mz 445.18131 RT 786.73 intensity 1.0683e+05\tM+H@444.17404 prob=1.00\n",
        "\tfile_id 1 mz 445.18127 RT 787.33 intensity 1.3726e+05\tM+H@444.17404 prob=1.00\n",
        "614. avg m/z=73.5318190786 avg RT=2330.42504883 prob=1.0\n",
        "\tfile_id 0 mz 73.53182 RT 2323.03 intensity 3.6093e+05\tM+H@72.52455 prob=1.00\n",
        "\tfile_id 1 mz 73.53181 RT 2337.82 intensity 3.7956e+05\tM+H@72.52455 prob=1.00\n",
        "615. avg m/z=90.5257125037 avg RT=17.6487002373 prob=1.0\n",
        "\tfile_id 0 mz 90.52573 RT 23.68 intensity 4.8047e+05\tM+H@89.51846 prob=1.00\n",
        "\tfile_id 1 mz 90.52570 RT 11.61 intensity 4.7638e+05\tM+H@89.51846 prob=1.00\n",
        "616. avg m/z=238.093037814 avg RT=713.753997803 prob=1.0\n",
        "\tfile_id 0 mz 238.09306 RT 714.75 intensity 2.3094e+05\tM+H@237.08578 prob=1.00\n",
        "\tfile_id 1 mz 238.09302 RT 712.76 intensity 2.3918e+05\tM+H@237.08578 prob=1.00\n",
        "617. avg m/z=94.0449708335 avg RT=2614.63000488 prob=1.0\n",
        "\tfile_id 0 mz 94.04498 RT 2609.81 intensity 5.0821e+05\tM+H@93.03771 prob=1.00\n",
        "\tfile_id 1 mz 94.04496 RT 2619.45 intensity 5.2087e+05\tM+H@93.03771 prob=1.00\n",
        "618. avg m/z=85.028212028 avg RT=584.981994629 prob=1.0\n",
        "\tfile_id 0 mz 85.02823 RT 582.61 intensity 1.5583e+05\tM+H@84.02095 prob=0.74\n",
        "\tfile_id 1 mz 85.02819 RT 587.36 intensity 1.4280e+05\tM+H@84.02095 prob=0.88\n",
        "619. avg m/z=356.066194534 avg RT=314.531494141 prob=0.99\n",
        "\tfile_id 0 mz 356.06624 RT 314.36 intensity 3.6426e+05\tM+HC13@354.05573 prob=0.52\n",
        "\tfile_id 1 mz 356.06614 RT 314.70 intensity 3.8387e+05\tM+HC13@354.05573 prob=0.52\n",
        "620. avg m/z=111.618292526 avg RT=316.12449646 prob=0.99\n",
        "\tfile_id 0 mz 112.11994 RT 315.96 intensity 9.2578e+04\tM+HC13@110.10939 prob=0.52\n",
        "\tfile_id 1 mz 111.11665 RT 316.29 intensity 8.3421e+05\tM+H@110.10939 prob=1.00\n",
        "621. avg m/z=249.122987833 avg RT=362.457504272 prob=0.99\n",
        "\tfile_id 0 mz 249.12301 RT 362.43 intensity 2.0711e+05\tM+H@248.11573 prob=1.00\n",
        "\tfile_id 1 mz 249.12296 RT 362.49 intensity 2.2243e+05\tM+H@248.11573 prob=1.00\n",
        "622. avg m/z=129.127171388 avg RT=317.727996826 prob=0.99\n",
        "\tfile_id 0 mz 129.12719 RT 315.96 intensity 7.5689e+05\tM+H@128.11991 prob=1.00\n",
        "\tfile_id 1 mz 129.12716 RT 319.49 intensity 5.9859e+05\tM+H@128.11991 prob=1.00\n",
        "623. avg m/z=170.15357031 avg RT=316.92250061 prob=0.99\n",
        "\tfile_id 0 mz 170.15360 RT 315.96 intensity 1.0800e+05\tM+ACN+H@128.11991 prob=0.52\n",
        "\tfile_id 1 mz 170.15354 RT 317.88 intensity 8.9124e+04\tM+ACN+H@128.11991 prob=0.52\n",
        "624. avg m/z=200.172228435 avg RT=316.140487671 prob=0.99\n",
        "\tfile_id 0 mz 200.17225 RT 317.58 intensity 1.0522e+05\tM+HC13@198.16172 prob=0.52\n",
        "\tfile_id 1 mz 200.17221 RT 314.70 intensity 8.1137e+04\tM+HC13@198.16172 prob=0.53\n",
        "625. avg m/z=271.104879803 avg RT=366.326507568 prob=0.99\n",
        "\tfile_id 0 mz 271.10490 RT 360.89 intensity 1.9705e+05\tM+Na@248.11573 prob=0.52\n",
        "\tfile_id 1 mz 271.10486 RT 371.76 intensity 1.5155e+05\tM+Na@248.11573 prob=0.57\n",
        "626. avg m/z=234.1313806 avg RT=339.627502441 prob=0.99\n",
        "\tfile_id 0 mz 234.13140 RT 338.05 intensity 1.1080e+06\tM+HC13@232.12091 prob=0.53\n",
        "\tfile_id 1 mz 234.13136 RT 341.21 intensity 1.0753e+06\tM+HC13@232.12091 prob=0.53\n",
        "627. avg m/z=357.141554863 avg RT=363.222000122 prob=0.99\n",
        "\tfile_id 0 mz 357.14154 RT 362.43 intensity 1.2202e+05\tM+H@356.13426 prob=1.00\n",
        "\tfile_id 1 mz 357.14157 RT 364.02 intensity 1.4624e+05\tM+H@356.13426 prob=1.00\n",
        "628. avg m/z=199.168987134 avg RT=316.12449646 prob=0.99\n",
        "\tfile_id 0 mz 199.16900 RT 315.96 intensity 9.4350e+05\tM+H@198.16172 prob=1.00\n",
        "\tfile_id 1 mz 199.16898 RT 316.29 intensity 7.4952e+05\tM+H@198.16172 prob=1.00\n",
        "629. avg m/z=357.058628276 avg RT=312.135009766 prob=0.99\n",
        "\tfile_id 0 mz 357.05868 RT 312.76 intensity 6.8087e+04\tM+H@356.05140 prob=1.00\n",
        "\tfile_id 1 mz 357.05858 RT 311.51 intensity 6.9824e+04\tM+H@356.05140 prob=1.00\n",
        "630. avg m/z=468.139779617 avg RT=693.254974365 prob=0.99\n",
        "\tfile_id 0 mz 468.13984 RT 694.19 intensity 9.7427e+04\tM+H@467.13257 prob=0.82\n",
        "\tfile_id 1 mz 468.13971 RT 692.32 intensity 1.0412e+05\tM+H@467.13257 prob=0.77\n",
        "631. avg m/z=167.033667448 avg RT=357.877990723 prob=0.99\n",
        "\tfile_id 0 mz 167.03368 RT 357.84 intensity 3.8355e+05\tM+H@166.02640 prob=1.00\n",
        "\tfile_id 1 mz 167.03366 RT 357.91 intensity 3.7594e+05\tM+H@166.02640 prob=1.00\n",
        "632. avg m/z=271.083851081 avg RT=338.101501465 prob=0.99\n",
        "\tfile_id 0 mz 271.08387 RT 338.05 intensity 8.7657e+04\tM+K@232.12091 prob=0.54\n",
        "\tfile_id 1 mz 271.08383 RT 338.16 intensity 8.2665e+04\tM+K@232.12091 prob=0.53\n",
        "633. avg m/z=147.04381238 avg RT=340.393005371 prob=0.99\n",
        "\tfile_id 0 mz 147.04382 RT 345.69 intensity 1.1871e+05\tM+H@146.03658 prob=1.00\n",
        "\tfile_id 1 mz 147.04380 RT 335.10 intensity 1.9668e+05\tM+H@146.03658 prob=1.00\n",
        "634. avg m/z=156.076482104 avg RT=1521.75 prob=0.99\n",
        "\tfile_id 0 mz 156.07650 RT 1525.97 intensity 2.7640e+05\tM+H@155.06923 prob=1.00\n",
        "\tfile_id 1 mz 156.07646 RT 1517.53 intensity 2.0500e+05\tM+H@155.06923 prob=1.00\n",
        "635. avg m/z=127.050018836 avg RT=971.432983398 prob=0.99\n",
        "\tfile_id 0 mz 127.05003 RT 972.44 intensity 2.1382e+06\tM+H@126.04275 prob=1.00\n",
        "\tfile_id 1 mz 127.05001 RT 970.42 intensity 2.1467e+06\tM+H@126.04275 prob=1.00\n",
        "636. avg m/z=355.062971136 avg RT=313.728500366 prob=0.99\n",
        "\tfile_id 0 mz 355.06301 RT 312.76 intensity 1.7948e+06\tM+H@354.05573 prob=1.00\n",
        "\tfile_id 1 mz 355.06293 RT 314.70 intensity 1.8588e+06\tM+H@354.05573 prob=1.00\n",
        "637. avg m/z=233.062715791 avg RT=681.869995117 prob=0.98\n",
        "\tfile_id 0 mz 233.06274 RT 679.52 intensity 1.0829e+05\tM+H@232.05546 prob=1.00\n",
        "\tfile_id 1 mz 233.06269 RT 684.22 intensity 1.2272e+05\tM+H@232.05546 prob=1.00\n",
        "638. avg m/z=179.08121753 avg RT=357.120498657 prob=0.98\n",
        "\tfile_id 0 mz 179.08124 RT 357.84 intensity 2.5856e+05\tM+ACN+H@137.04754 prob=0.53\n",
        "\tfile_id 1 mz 179.08120 RT 356.40 intensity 2.4139e+05\tM+ACN+H@137.04754 prob=0.54\n",
        "639. avg m/z=138.054810446 avg RT=356.361999512 prob=0.98\n",
        "\tfile_id 0 mz 138.05482 RT 356.33 intensity 3.4816e+06\tM+H@137.04754 prob=1.00\n",
        "\tfile_id 1 mz 138.05480 RT 356.40 intensity 3.3319e+06\tM+H@137.04754 prob=1.00\n",
        "640. avg m/z=160.086741228 avg RT=348.01499939 prob=0.98\n",
        "\tfile_id 0 mz 160.08675 RT 347.21 intensity 7.7114e+05\tM+H@159.07947 prob=1.00\n",
        "\tfile_id 1 mz 160.08673 RT 348.82 intensity 7.3269e+05\tM+H@159.07947 prob=1.00\n",
        "641. avg m/z=139.058062495 avg RT=356.361999512 prob=0.98\n",
        "\tfile_id 0 mz 139.05807 RT 356.33 intensity 2.5718e+05\tM+HC13@137.04754 prob=0.54\n",
        "\tfile_id 1 mz 139.05805 RT 356.40 intensity 2.3117e+05\tM+HC13@137.04754 prob=0.54\n",
        "642. avg m/z=117.073704984 avg RT=946.17300415 prob=0.97\n",
        "\tfile_id 0 mz 117.07372 RT 951.73 intensity 1.7627e+05\tM+HC13@115.06318 prob=0.52\n",
        "\tfile_id 1 mz 117.07369 RT 940.61 intensity 1.6344e+05\tM+HC13@115.06318 prob=0.53\n",
        "643. avg m/z=116.070439968 avg RT=946.17300415 prob=0.97\n",
        "\tfile_id 0 mz 116.07045 RT 951.73 intensity 3.2207e+06\tM+H@115.06318 prob=1.00\n",
        "\tfile_id 1 mz 116.07043 RT 940.61 intensity 3.0515e+06\tM+H@115.06318 prob=1.00\n",
        "644. avg m/z=467.136492476 avg RT=695.664001465 prob=0.97\n",
        "\tfile_id 0 mz 467.13653 RT 695.81 intensity 6.4658e+05\tM+H@466.12928 prob=1.00\n",
        "\tfile_id 1 mz 467.13645 RT 695.52 intensity 7.1088e+05\tM+H@466.12928 prob=1.00\n",
        "645. avg m/z=335.094260385 avg RT=691.511993408 prob=0.97\n",
        "\tfile_id 0 mz 335.09430 RT 706.90 intensity 1.9117e+05\tM+H@334.08698 prob=1.00\n",
        "\tfile_id 1 mz 335.09423 RT 676.12 intensity 3.4446e+05\tM+H@334.08698 prob=1.00\n",
        "646. avg m/z=102.054756818 avg RT=1125.57501221 prob=0.97\n",
        "\tfile_id 0 mz 102.05477 RT 1128.80 intensity 2.9448e+05\tM+H@101.04749 prob=1.00\n",
        "\tfile_id 1 mz 102.05475 RT 1122.35 intensity 2.6011e+05\tM+H@101.04749 prob=1.00\n",
        "647. avg m/z=263.073396409 avg RT=641.888977051 prob=0.97\n",
        "\tfile_id 0 mz 263.07339 RT 637.90 intensity 3.7100e+05\tM+H@262.06611 prob=1.00\n",
        "\tfile_id 1 mz 263.07340 RT 645.88 intensity 4.0805e+05\tM+H@262.06611 prob=1.00\n",
        "648. avg m/z=124.086759661 avg RT=973.502990723 prob=0.95\n",
        "\tfile_id 0 mz 124.08676 RT 951.73 intensity 1.3838e+05\tM+H@123.07948 prob=1.00\n",
        "\tfile_id 1 mz 124.08676 RT 995.27 intensity 1.2127e+05\tM+H@123.07948 prob=1.00\n",
        "649. avg m/z=331.062483228 avg RT=922.263000488 prob=0.94\n",
        "\tfile_id 0 mz 331.06250 RT 925.34 intensity 1.0977e+05\tM+HC13@329.05205 prob=0.52\n",
        "\tfile_id 1 mz 331.06247 RT 919.19 intensity 1.0885e+05\tM+HC13@329.05205 prob=0.55\n",
        "650. avg m/z=330.059307425 avg RT=921.49798584 prob=0.94\n",
        "\tfile_id 0 mz 330.05932 RT 923.81 intensity 1.2157e+06\tM+H@329.05205 prob=1.00\n",
        "\tfile_id 1 mz 330.05929 RT 919.19 intensity 1.1830e+06\tM+H@329.05205 prob=1.00\n",
        "651. avg m/z=198.084549471 avg RT=1138.92498779 prob=0.89\n",
        "\tfile_id 0 mz 198.08456 RT 1140.51 intensity 2.0695e+05\tM+Na@175.09539 prob=0.51\n",
        "\tfile_id 1 mz 198.08454 RT 1137.34 intensity 2.0458e+05\tM+Na@175.09539 prob=0.52\n",
        "652. avg m/z=70.0651477425 avg RT=944.583007812 prob=0.87\n",
        "\tfile_id 0 mz 70.06515 RT 947.02 intensity 2.9934e+05\tM+H@69.05787 prob=1.00\n",
        "\tfile_id 1 mz 70.06515 RT 942.15 intensity 2.5625e+05\tM+H@69.05787 prob=1.00\n",
        "653. avg m/z=176.102645538 avg RT=1139.75 prob=0.86\n",
        "\tfile_id 0 mz 176.10266 RT 1138.82 intensity 9.1679e+05\tM+NH4@158.06884 prob=0.51\n",
        "\tfile_id 1 mz 176.10263 RT 1140.68 intensity 9.3803e+05\tM+NH4@158.06884 prob=0.51\n",
        "654. avg m/z=159.076102141 avg RT=1137.25494385 prob=0.86\n",
        "\tfile_id 0 mz 159.07612 RT 1138.82 intensity 3.3417e+05\tM+H@158.06884 prob=1.00\n",
        "\tfile_id 1 mz 159.07609 RT 1135.69 intensity 3.1509e+05\tM+H@158.06884 prob=1.00\n",
        "655. avg m/z=94.0450314251 avg RT=2305.91992188 prob=0.85\n",
        "\tfile_id 0 mz 94.04505 RT 2293.70 intensity 1.4997e+06\tM+H@93.03774 prob=1.00\n",
        "\tfile_id 1 mz 94.04501 RT 2318.14 intensity 1.4300e+06\tM+H@93.03774 prob=1.00\n",
        "656. avg m/z=202.17981235 avg RT=927.602996826 prob=0.75\n",
        "\tfile_id 0 mz 202.17983 RT 929.93 intensity 2.9084e+05\tM+H@201.17256 prob=1.00\n",
        "\tfile_id 1 mz 202.17979 RT 925.27 intensity 3.0484e+05\tM+H@201.17256 prob=1.00\n",
        "657. avg m/z=536.164530345 avg RT=294.711990356 prob=0.74\n",
        "\tfile_id 0 mz 536.16468 RT 294.45 intensity 9.3960e+04\tM+H@535.15740 prob=1.00\n",
        "\tfile_id 1 mz 536.16438 RT 294.98 intensity 1.0619e+05\tM+H@535.15740 prob=1.00\n",
        "658. avg m/z=249.093995119 avg RT=649.736999512 prob=0.66\n",
        "\tfile_id 0 mz 249.09401 RT 652.03 intensity 2.7118e+05\tM+H@248.08673 prob=1.00\n",
        "\tfile_id 1 mz 249.09398 RT 647.44 intensity 2.9798e+05\tM+H@248.08673 prob=1.00\n",
        "659. avg m/z=238.116293646 avg RT=652.875 prob=0.66\n",
        "\tfile_id 0 mz 238.11629 RT 652.03 intensity 8.1089e+04\tM+HC13@236.10581 prob=0.52\n",
        "\tfile_id 1 mz 238.11630 RT 653.72 intensity 7.1019e+04\tM+HC13@236.10581 prob=0.52\n",
        "660. avg m/z=237.113070711 avg RT=652.875 prob=0.66\n",
        "\tfile_id 0 mz 237.11309 RT 652.03 intensity 5.8193e+05\tM+H@236.10581 prob=1.00\n",
        "\tfile_id 1 mz 237.11305 RT 653.72 intensity 5.9161e+05\tM+H@236.10581 prob=1.00\n",
        "661. avg m/z=236.117816742 avg RT=646.580993652 prob=0.65\n",
        "\tfile_id 0 mz 236.11784 RT 647.29 intensity 1.2062e+05\tM+H@235.11056 prob=1.00\n",
        "\tfile_id 1 mz 236.11780 RT 645.88 intensity 1.1879e+05\tM+H@235.11056 prob=1.00\n",
        "662. avg m/z=70.0126600029 avg RT=2336.46496582 prob=0.65\n",
        "\tfile_id 0 mz 70.01266 RT 2323.03 intensity 1.7978e+05\tM+H@69.00539 prob=1.00\n",
        "\tfile_id 1 mz 70.01266 RT 2349.90 intensity 1.6975e+05\tM+H@69.00539 prob=1.00\n",
        "663. avg m/z=82.0222404304 avg RT=2338.16003418 prob=0.6\n",
        "\tfile_id 0 mz 82.02224 RT 2341.53 intensity 1.3229e+05\tM+H@81.01495 prob=1.00\n",
        "\tfile_id 1 mz 82.02224 RT 2334.79 intensity 1.3968e+05\tM+H@81.01495 prob=1.00\n",
        "664. avg m/z=82.0222329153 avg RT=2304.79504395 prob=0.6\n",
        "\tfile_id 0 mz 82.02223 RT 2335.37 intensity 1.3347e+05\tM+H@81.01495 prob=1.00\n",
        "\tfile_id 1 mz 82.02223 RT 2274.22 intensity 1.3697e+05\tM+H@81.01495 prob=1.00\n",
        "665. avg m/z=125.986133464 avg RT=2318.91503906 prob=0.6\n",
        "\tfile_id 0 mz 125.98615 RT 2307.57 intensity 7.4367e+05\tM+2Na-H@81.01495 prob=0.58\n",
        "\tfile_id 1 mz 125.98612 RT 2330.26 intensity 7.1214e+05\tM+2Na-H@81.01495 prob=0.57\n",
        "666. avg m/z=125.986126321 avg RT=2350.36499023 prob=0.6\n",
        "\tfile_id 0 mz 125.98614 RT 2350.83 intensity 6.7664e+05\tM+2Na-H@81.01495 prob=0.58\n",
        "\tfile_id 1 mz 125.98612 RT 2349.90 intensity 6.8425e+05\tM+2Na-H@81.01495 prob=0.57\n",
        "667. avg m/z=82.0222340479 avg RT=2328.71496582 prob=0.6\n",
        "\tfile_id 0 mz 82.02223 RT 2304.50 intensity 1.3282e+05\tM+H@81.01495 prob=1.00\n",
        "\tfile_id 1 mz 82.02223 RT 2352.93 intensity 1.4398e+05\tM+H@81.01495 prob=1.00\n",
        "668. avg m/z=82.0222339621 avg RT=2311.49499512 prob=0.6\n",
        "\tfile_id 0 mz 82.02223 RT 2323.03 intensity 1.3943e+05\tM+H@81.01495 prob=1.00\n",
        "\tfile_id 1 mz 82.02224 RT 2299.96 intensity 1.3624e+05\tM+H@81.01495 prob=1.00\n",
        "669. avg m/z=125.986124462 avg RT=2314.53503418 prob=0.6\n",
        "\tfile_id 0 mz 125.98613 RT 2323.03 intensity 7.3439e+05\tM+2Na-H@81.01495 prob=0.58\n",
        "\tfile_id 1 mz 125.98612 RT 2306.04 intensity 7.3640e+05\tM+2Na-H@81.01495 prob=0.57\n",
        "670. avg m/z=244.092376911 avg RT=1160.5 prob=0.01\n",
        "\tfile_id 0 mz 244.09241 RT 1160.53 intensity 1.0537e+06\tM+2H@486.17044 prob=0.51\n",
        "\tfile_id 1 mz 244.09235 RT 1160.47 intensity 1.1344e+06\tM+2H@486.17044 prob=0.51\n",
        "671. avg m/z=487.177644582 avg RT=1160.52001953 prob=0.01\n",
        "\tfile_id 0 mz 487.17771 RT 1163.81 intensity 2.3158e+05\tM+H@486.17044 prob=1.00\n",
        "\tfile_id 1 mz 487.17758 RT 1157.23 intensity 2.2192e+05\tM+H@486.17044 prob=1.00\n",
        "672. avg m/z=509.159637737 avg RT=1160.52001953 prob=0.01\n",
        "\tfile_id 0 mz 509.15972 RT 1163.81 intensity 2.9013e+05\tM+Na@486.17044 prob=0.54\n",
        "\tfile_id 1 mz 509.15955 RT 1157.23 intensity 2.7538e+05\tM+Na@486.17044 prob=0.54\n"
       ]
      }
     ],
     "prompt_number": 9
    },
    {
     "cell_type": "markdown",
     "metadata": {},
     "source": [
      "Report above shows the list of numbered aligned peaksets (excluding the singleton peaksets), alongside their probabilit values, and the precursor mass and adduct type annotations for each peak."
     ]
    },
    {
     "cell_type": "code",
     "collapsed": false,
     "input": [
      "probs = np.array(probs) \n",
      "plt.figure()\n",
      "plt.hist(probs, 10)\n",
      "plt.title('Aligned peaksets probabilities')\n",
      "plt.xlabel('Probabilities')\n",
      "plt.ylabel('Count')\n",
      "plt.show()   "
     ],
     "language": "python",
     "metadata": {},
     "outputs": [
      {
       "metadata": {},
       "output_type": "display_data",
       "png": "[encoded data removed]",
       "text": [
        "<matplotlib.figure.Figure at 0x7f7e2397b990>"
       ]
      }
     ],
     "prompt_number": 10
    },
    {
     "cell_type": "code",
     "collapsed": false,
     "input": [
      "end = time.time()\n",
      "utils.timer(\"TOTAL ELAPSED TIME\", start, end)"
     ],
     "language": "python",
     "metadata": {},
     "outputs": [
      {
       "output_type": "stream",
       "stream": "stdout",
       "text": [
        "TOTAL ELAPSED TIME 00 hours 00 minutes 54.21 seconds\n"
       ]
      }
     ],
     "prompt_number": 11
    },
    {
     "cell_type": "markdown",
     "metadata": {},
     "source": [
      "This is definitely a lot faster than the HDP approach (which could run for hours for these 15k features). \n",
      "\n",
      "We definitely can improve the performance further on the discretisation code, inference codes, etc."
     ]
    },
    {
     "cell_type": "heading",
     "level": 3,
     "metadata": {},
     "source": [
      "Step 4"
     ]
    },
    {
     "cell_type": "markdown",
     "metadata": {},
     "source": [
      "Evaluate performance .."
     ]
    }
   ],
   "metadata": {}
  }
 ]
}