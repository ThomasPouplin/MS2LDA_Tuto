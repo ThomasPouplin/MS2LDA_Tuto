{
 "cells": [
  {
   "cell_type": "markdown",
   "metadata": {},
   "source": [
    "<h1>Experiment with beer3pos</h1>"
   ]
  },
  {
   "cell_type": "code",
   "execution_count": 1,
   "metadata": {
    "collapsed": false
   },
   "outputs": [],
   "source": [
    "%load_ext autoreload\n",
    "%autoreload 2\n",
    "%matplotlib inline"
   ]
  },
  {
   "cell_type": "code",
   "execution_count": 2,
   "metadata": {
    "collapsed": true
   },
   "outputs": [],
   "source": [
    "import os\n",
    "import sys\n",
    "basedir = '/home/joewandy/git/metabolomics_tools'\n",
    "sys.path.append(basedir)"
   ]
  },
  {
   "cell_type": "code",
   "execution_count": 3,
   "metadata": {
    "collapsed": false
   },
   "outputs": [],
   "source": [
    "import numpy as np\n",
    "import pylab as plt\n",
    "import pandas as pd\n",
    "import seaborn as sns\n",
    "sns.set(color_codes=True)\n",
    "from IPython.display import display, HTML\n",
    "\n",
    "import cPickle\n",
    "import random\n",
    "import copy\n",
    "import glob\n",
    "import gzip"
   ]
  },
  {
   "cell_type": "code",
   "execution_count": 4,
   "metadata": {
    "collapsed": false
   },
   "outputs": [],
   "source": [
    "from alignment.models import HyperPars as AlignmentHyperPars\n",
    "from alignment.experiment import *"
   ]
  },
  {
   "cell_type": "markdown",
   "metadata": {},
   "source": [
    "<h2>Experiment Parameters</h2>"
   ]
  },
  {
   "cell_type": "markdown",
   "metadata": {},
   "source": [
    "Set up all the experiment parameters"
   ]
  },
  {
   "cell_type": "code",
   "execution_count": 5,
   "metadata": {
    "collapsed": true
   },
   "outputs": [],
   "source": [
    "input_dir = '/home/joewandy/git/metabolomics_tools/alignment/input/beer3pos'\n",
    "transformation_file = '/home/joewandy/git/metabolomics_tools/alignment/pos_transformations_full.yml'\n",
    "gt_file = '/home/joewandy/git/metabolomics_tools/alignment/input/beer3pos/ground_truth/beer3.positive.dat'"
   ]
  },
  {
   "cell_type": "code",
   "execution_count": 6,
   "metadata": {
    "collapsed": false
   },
   "outputs": [
    {
     "name": "stdout",
     "output_type": "stream",
     "text": [
      "Hyperparameters across_file_mass_tol=10, across_file_rt_tol=60, alpha_mass=1, beta=0.1, dp_alpha=1000.0, mass_clustering_n_iterations=400, matching_alpha=0.3, rt_clustering_burnin=0, rt_clustering_nsamps=100, t=0.0, within_file_mass_tol=3, within_file_rt_tol=10\n"
     ]
    }
   ],
   "source": [
    "hp = AlignmentHyperPars()    \n",
    "hp.within_file_mass_tol = 3\n",
    "hp.within_file_rt_tol = 10\n",
    "hp.across_file_mass_tol = 10\n",
    "hp.across_file_rt_tol = 60\n",
    "hp.alpha_mass = 1\n",
    "hp.dp_alpha = 1000.0\n",
    "hp.beta = 0.1\n",
    "hp.t = 0.0\n",
    "hp.mass_clustering_n_iterations = 400\n",
    "hp.rt_clustering_nsamps = 100\n",
    "hp.rt_clustering_burnin = 0\n",
    "\n",
    "print hp"
   ]
  },
  {
   "cell_type": "code",
   "execution_count": 7,
   "metadata": {
    "collapsed": true
   },
   "outputs": [],
   "source": [
    "evaluation_method = 2\n",
    "n_iter = 1"
   ]
  },
  {
   "cell_type": "code",
   "execution_count": 8,
   "metadata": {
    "collapsed": false
   },
   "outputs": [],
   "source": [
    "param_list = []\n",
    "for mass_tol in range(2, 7, 2):\n",
    "    for rt_tol in range(5, 31, 5):\n",
    "        param_list.append((mass_tol, rt_tol))"
   ]
  },
  {
   "cell_type": "code",
   "execution_count": 9,
   "metadata": {
    "collapsed": true
   },
   "outputs": [],
   "source": [
    "param_list_mwg = []\n",
    "for mass_tol in range(2, 7, 2):\n",
    "    for rt_tol in range(5, 31, 5):\n",
    "        for group_tol in range(2, 11, 2):\n",
    "            for alpha in range(0, 11, 2):\n",
    "                param_list_mwg.append((mass_tol, rt_tol, group_tol, alpha/10.0))"
   ]
  },
  {
   "cell_type": "markdown",
   "metadata": {},
   "source": [
    "<h2>Create the first-stage clustering for all input files -- Gibbs, mh_biggest=True</h2>"
   ]
  },
  {
   "cell_type": "code",
   "execution_count": 10,
   "metadata": {
    "collapsed": false,
    "scrolled": true
   },
   "outputs": [
    {
     "name": "stdout",
     "output_type": "stream",
     "text": [
      "7553 features read from beer3-file1.csv\n",
      "7579 features read from beer3-file2.csv\n",
      "7240 features read from beer3-file3.csv\n"
     ]
    },
    {
     "name": "stderr",
     "output_type": "stream",
     "text": [
      "[Parallel(n_jobs=4)]: Done   1 out of   3 | elapsed:  2.9min remaining:  5.9min\n",
      "[Parallel(n_jobs=4)]: Done   2 out of   3 | elapsed:  3.0min remaining:  1.5min\n",
      "[Parallel(n_jobs=4)]: Done   3 out of   3 | elapsed:  3.0min finished\n"
     ]
    },
    {
     "name": "stdout",
     "output_type": "stream",
     "text": [
      "Saved to pickles/beer3pos/clustering.p\n",
      "Created 7553 clusters\n",
      "Created 7579 clusters\n",
      "Created 7240 clusters\n",
      "Binning with mh_biggest = True\n",
      "Binning with mh_biggest = True\n",
      "Binning with mh_biggest = True\n",
      "Assigning possible transformations 0/7553\n",
      "Assigning possible transformations 0/7579\n",
      "Assigning possible transformations 0/7240\n",
      "Assigning possible transformations 500/7553\n",
      "Assigning possible transformations 500/7579\n",
      "Assigning possible transformations 500/7240\n",
      "Assigning possible transformations 1000/7553\n",
      "Assigning possible transformations 1000/7579\n",
      "Assigning possible transformations 1000/7240\n",
      "Assigning possible transformations 1500/7553\n",
      "Assigning possible transformations 1500/7579\n",
      "Assigning possible transformations 1500/7240\n",
      "Assigning possible transformations 2000/7553\n",
      "Assigning possible transformations 2000/7579\n",
      "Assigning possible transformations 2000/7240\n",
      "Assigning possible transformations 2500/7553\n",
      "Assigning possible transformations 2500/7579\n",
      "Assigning possible transformations 2500/7240\n",
      "Assigning possible transformations 3000/7553\n",
      "Assigning possible transformations 3000/7579\n",
      "Assigning possible transformations 3000/7240\n",
      "Assigning possible transformations 3500/7553\n",
      "Assigning possible transformations 3500/7579\n",
      "Assigning possible transformations 3500/7240\n",
      "Assigning possible transformations 4000/7553\n",
      "Assigning possible transformations 4000/7579\n",
      "Assigning possible transformations 4000/7240\n",
      "Assigning possible transformations 4500/7553\n",
      "Assigning possible transformations 4500/7579\n",
      "Assigning possible transformations 4500/7240\n",
      "Assigning possible transformations 5000/7553\n",
      "Assigning possible transformations 5000/7579\n",
      "Assigning possible transformations 5000/7240\n",
      "Assigning possible transformations 5500/7553\n",
      "Assigning possible transformations 5500/7579\n",
      "Assigning possible transformations 5500/7240\n",
      "Assigning possible transformations 6000/7553\n",
      "Assigning possible transformations 6000/7579\n",
      "Assigning possible transformations 6000/7240\n",
      "Assigning possible transformations 6500/7553\n",
      "Assigning possible transformations 6500/7579\n",
      "Assigning possible transformations 6500/7240\n",
      "Assigning possible transformations 7000/7553\n",
      "Assigning possible transformations 7000/7579\n",
      "Assigning possible transformations 7000/7240\n",
      "Assigning possible transformations 7500/7553\n",
      "Assigning possible transformations 7500/7579\n",
      "1212 peaks to be re-sampled in stage 1\n",
      "1246 peaks to be re-sampled in stage 1\n",
      "1279 peaks to be re-sampled in stage 1\n"
     ]
    }
   ],
   "source": [
    "combined_list = load_or_create_clustering('pickles/beer3pos/clustering.p', input_dir, transformation_file, hp)"
   ]
  },
  {
   "cell_type": "markdown",
   "metadata": {},
   "source": [
    "<h2>Run experiment with beer3pos</h2>"
   ]
  },
  {
   "cell_type": "code",
   "execution_count": 11,
   "metadata": {
    "collapsed": false
   },
   "outputs": [],
   "source": [
    "n_files = 3"
   ]
  },
  {
   "cell_type": "code",
   "execution_count": 12,
   "metadata": {
    "collapsed": false
   },
   "outputs": [
    {
     "name": "stdout",
     "output_type": "stream",
     "text": [
      "['beer3-file3.csv', 'beer3-file1.csv', 'beer3-file2.csv']\n",
      "Saved to pickles/beer3pos/training_list.p\n"
     ]
    }
   ],
   "source": [
    "training_list = load_or_create_filelist('pickles/beer3pos/training_list.p', combined_list, n_iter, n_files)"
   ]
  },
  {
   "cell_type": "code",
   "execution_count": 13,
   "metadata": {
    "collapsed": false
   },
   "outputs": [
    {
     "name": "stdout",
     "output_type": "stream",
     "text": [
      "['beer3-file2.csv', 'beer3-file3.csv', 'beer3-file1.csv']\n",
      "Saved to pickles/beer3pos/testing_list.p\n"
     ]
    }
   ],
   "source": [
    "testing_list = load_or_create_filelist('pickles/beer3pos/testing_list.p', combined_list, n_iter, n_files)"
   ]
  },
  {
   "cell_type": "code",
   "execution_count": 14,
   "metadata": {
    "collapsed": false,
    "scrolled": true
   },
   "outputs": [
    {
     "name": "stdout",
     "output_type": "stream",
     "text": [
      "Iteration 0\n",
      "Training on ['beer3-file3.csv', 'beer3-file1.csv', 'beer3-file2.csv']\n",
      "mass_tol=2, rt_tol=5, tp=231, fp=23, fn=45, prec=0.909, rec=0.837, f1=0.872, th_prob=1.000\n",
      "mass_tol=2, rt_tol=10, tp=249, fp=28, fn=27, prec=0.899, rec=0.902, f1=0.901, th_prob=1.000\n",
      "mass_tol=2, rt_tol=15, tp=253, fp=28, fn=23, prec=0.900, rec=0.917, f1=0.908, th_prob=1.000\n",
      "mass_tol=2, rt_tol=20, tp=253, fp=30, fn=23, prec=0.894, rec=0.917, f1=0.905, th_prob=1.000\n",
      "mass_tol=2, rt_tol=25, tp=253, fp=30, fn=23, prec=0.894, rec=0.917, f1=0.905, th_prob=1.000\n",
      "mass_tol=2, rt_tol=30, tp=253, fp=30, fn=23, prec=0.894, rec=0.917, f1=0.905, th_prob=1.000\n",
      "mass_tol=4, rt_tol=5, tp=231, fp=23, fn=45, prec=0.909, rec=0.837, f1=0.872, th_prob=1.000\n",
      "mass_tol=4, rt_tol=10, tp=249, fp=28, fn=27, prec=0.899, rec=0.902, f1=0.901, th_prob=1.000\n",
      "mass_tol=4, rt_tol=15, tp=253, fp=28, fn=23, prec=0.900, rec=0.917, f1=0.908, th_prob=1.000\n",
      "mass_tol=4, rt_tol=20, tp=253, fp=30, fn=23, prec=0.894, rec=0.917, f1=0.905, th_prob=1.000\n",
      "mass_tol=4, rt_tol=25, tp=253, fp=30, fn=23, prec=0.894, rec=0.917, f1=0.905, th_prob=1.000\n",
      "mass_tol=4, rt_tol=30, tp=253, fp=30, fn=23, prec=0.894, rec=0.917, f1=0.905, th_prob=1.000\n",
      "mass_tol=6, rt_tol=5, tp=231, fp=23, fn=45, prec=0.909, rec=0.837, f1=0.872, th_prob=1.000\n",
      "mass_tol=6, rt_tol=10, tp=249, fp=28, fn=27, prec=0.899, rec=0.902, f1=0.901, th_prob=1.000\n",
      "mass_tol=6, rt_tol=15, tp=253, fp=28, fn=23, prec=0.900, rec=0.917, f1=0.908, th_prob=1.000\n",
      "mass_tol=6, rt_tol=20, tp=253, fp=30, fn=23, prec=0.894, rec=0.917, f1=0.905, th_prob=1.000\n",
      "mass_tol=6, rt_tol=25, tp=253, fp=30, fn=23, prec=0.894, rec=0.917, f1=0.905, th_prob=1.000\n",
      "mass_tol=6, rt_tol=30, tp=253, fp=30, fn=23, prec=0.894, rec=0.917, f1=0.905, th_prob=1.000\n",
      "Best row is\n",
      "mass_tol       2.000000\n",
      "rt_tol        15.000000\n",
      "TP           253.000000\n",
      "FP            28.000000\n",
      "FN            23.000000\n",
      "Prec           0.900356\n",
      "Rec            0.916667\n",
      "F1             0.908438\n",
      "Threshold      1.000000\n",
      "Name: 2, dtype: float64\n",
      "Testing on ['beer3-file2.csv', 'beer3-file3.csv', 'beer3-file1.csv']\n",
      "match_mode=0, mass_tol=2, rt_tol=15, tp=255, fp=28, fn=21, prec=0.901, rec=0.924, f1=0.912, th_prob=1.000\n",
      "\n",
      "Saved to pickles/beer3pos/res_match_feature.p\n"
     ]
    }
   ],
   "source": [
    "exp_results_1a = run_experiment(0, training_list, testing_list, param_list, 'pickles/beer3pos/res_match_feature.p', hp, evaluation_method, transformation_file, gt_file)"
   ]
  },
  {
   "cell_type": "code",
   "execution_count": 15,
   "metadata": {
    "collapsed": false,
    "scrolled": true
   },
   "outputs": [
    {
     "name": "stdout",
     "output_type": "stream",
     "text": [
      "Iteration 0\n",
      "Training on ['beer3-file3.csv', 'beer3-file1.csv', 'beer3-file2.csv']\n",
      "mass_tol=2, rt_tol=5, tp=223, fp=20, fn=53, prec=0.918, rec=0.808, f1=0.859, th_prob=1.000\n",
      "mass_tol=2, rt_tol=10, tp=241, fp=22, fn=35, prec=0.916, rec=0.873, f1=0.894, th_prob=1.000\n",
      "mass_tol=2, rt_tol=15, tp=247, fp=22, fn=29, prec=0.918, rec=0.895, f1=0.906, th_prob=1.000\n",
      "mass_tol=2, rt_tol=20, tp=247, fp=24, fn=29, prec=0.911, rec=0.895, f1=0.903, th_prob=1.000\n",
      "mass_tol=2, rt_tol=25, tp=247, fp=24, fn=29, prec=0.911, rec=0.895, f1=0.903, th_prob=1.000\n",
      "mass_tol=2, rt_tol=30, tp=247, fp=25, fn=29, prec=0.908, rec=0.895, f1=0.901, th_prob=1.000\n",
      "mass_tol=4, rt_tol=5, tp=223, fp=20, fn=53, prec=0.918, rec=0.808, f1=0.859, th_prob=1.000\n",
      "mass_tol=4, rt_tol=10, tp=241, fp=22, fn=35, prec=0.916, rec=0.873, f1=0.894, th_prob=1.000\n",
      "mass_tol=4, rt_tol=15, tp=247, fp=22, fn=29, prec=0.918, rec=0.895, f1=0.906, th_prob=1.000\n",
      "mass_tol=4, rt_tol=20, tp=247, fp=24, fn=29, prec=0.911, rec=0.895, f1=0.903, th_prob=1.000\n",
      "mass_tol=4, rt_tol=25, tp=247, fp=24, fn=29, prec=0.911, rec=0.895, f1=0.903, th_prob=1.000\n",
      "mass_tol=4, rt_tol=30, tp=247, fp=25, fn=29, prec=0.908, rec=0.895, f1=0.901, th_prob=1.000\n",
      "mass_tol=6, rt_tol=5, tp=223, fp=20, fn=53, prec=0.918, rec=0.808, f1=0.859, th_prob=1.000\n",
      "mass_tol=6, rt_tol=10, tp=241, fp=22, fn=35, prec=0.916, rec=0.873, f1=0.894, th_prob=1.000\n",
      "mass_tol=6, rt_tol=15, tp=247, fp=22, fn=29, prec=0.918, rec=0.895, f1=0.906, th_prob=1.000\n",
      "mass_tol=6, rt_tol=20, tp=247, fp=24, fn=29, prec=0.911, rec=0.895, f1=0.903, th_prob=1.000\n",
      "mass_tol=6, rt_tol=25, tp=247, fp=24, fn=29, prec=0.911, rec=0.895, f1=0.903, th_prob=1.000\n",
      "mass_tol=6, rt_tol=30, tp=247, fp=25, fn=29, prec=0.908, rec=0.895, f1=0.901, th_prob=1.000\n",
      "Best row is\n",
      "mass_tol       2.000000\n",
      "rt_tol        15.000000\n",
      "TP           247.000000\n",
      "FP            22.000000\n",
      "FN            29.000000\n",
      "Prec           0.918216\n",
      "Rec            0.894928\n",
      "F1             0.906422\n",
      "Threshold      1.000000\n",
      "Name: 2, dtype: float64\n",
      "Testing on ['beer3-file2.csv', 'beer3-file3.csv', 'beer3-file1.csv']\n",
      "match_mode=1, mass_tol=2, rt_tol=15, tp=247, fp=22, fn=29, prec=0.918, rec=0.895, f1=0.906, th_prob=1.000\n",
      "\n",
      "Saved to pickles/beer3pos/res_match_cluster.p\n"
     ]
    }
   ],
   "source": [
    "exp_results_1b = run_experiment(1, training_list, testing_list, param_list, 'pickles/beer3pos/res_match_cluster.p', hp, evaluation_method, transformation_file, gt_file)"
   ]
  },
  {
   "cell_type": "code",
   "execution_count": 16,
   "metadata": {
    "collapsed": false
   },
   "outputs": [
    {
     "name": "stdout",
     "output_type": "stream",
     "text": [
      "Iteration 0\n",
      "Training on ['beer3-file3.csv', 'beer3-file1.csv', 'beer3-file2.csv']\n",
      "mass_tol=2, rt_tol=5, tp=233, fp=23, fn=43, prec=0.910, rec=0.844, f1=0.876, th_prob=1.000\n",
      "mass_tol=2, rt_tol=10, tp=253, fp=26, fn=23, prec=0.907, rec=0.917, f1=0.912, th_prob=1.000\n",
      "mass_tol=2, rt_tol=15, tp=258, fp=25, fn=18, prec=0.912, rec=0.935, f1=0.923, th_prob=1.000\n",
      "mass_tol=2, rt_tol=20, tp=258, fp=27, fn=18, prec=0.905, rec=0.935, f1=0.920, th_prob=1.000\n",
      "mass_tol=2, rt_tol=25, tp=258, fp=27, fn=18, prec=0.905, rec=0.935, f1=0.920, th_prob=1.000\n",
      "mass_tol=2, rt_tol=30, tp=258, fp=27, fn=18, prec=0.905, rec=0.935, f1=0.920, th_prob=1.000\n",
      "mass_tol=4, rt_tol=5, tp=233, fp=23, fn=43, prec=0.910, rec=0.844, f1=0.876, th_prob=1.000\n",
      "mass_tol=4, rt_tol=10, tp=253, fp=26, fn=23, prec=0.907, rec=0.917, f1=0.912, th_prob=1.000\n",
      "mass_tol=4, rt_tol=15, tp=258, fp=25, fn=18, prec=0.912, rec=0.935, f1=0.923, th_prob=1.000\n",
      "mass_tol=4, rt_tol=20, tp=258, fp=27, fn=18, prec=0.905, rec=0.935, f1=0.920, th_prob=1.000\n",
      "mass_tol=4, rt_tol=25, tp=258, fp=27, fn=18, prec=0.905, rec=0.935, f1=0.920, th_prob=1.000\n",
      "mass_tol=4, rt_tol=30, tp=258, fp=27, fn=18, prec=0.905, rec=0.935, f1=0.920, th_prob=1.000\n",
      "mass_tol=6, rt_tol=5, tp=233, fp=23, fn=43, prec=0.910, rec=0.844, f1=0.876, th_prob=1.000\n",
      "mass_tol=6, rt_tol=10, tp=253, fp=26, fn=23, prec=0.907, rec=0.917, f1=0.912, th_prob=1.000\n",
      "mass_tol=6, rt_tol=15, tp=258, fp=25, fn=18, prec=0.912, rec=0.935, f1=0.923, th_prob=1.000\n",
      "mass_tol=6, rt_tol=20, tp=258, fp=27, fn=18, prec=0.905, rec=0.935, f1=0.920, th_prob=1.000\n",
      "mass_tol=6, rt_tol=25, tp=258, fp=27, fn=18, prec=0.905, rec=0.935, f1=0.920, th_prob=1.000\n",
      "mass_tol=6, rt_tol=30, tp=258, fp=27, fn=18, prec=0.905, rec=0.935, f1=0.920, th_prob=1.000\n",
      "Best row is\n",
      "mass_tol       2.000000\n",
      "rt_tol        15.000000\n",
      "TP           258.000000\n",
      "FP            25.000000\n",
      "FN            18.000000\n",
      "Prec           0.911661\n",
      "Rec            0.934783\n",
      "F1             0.923077\n",
      "Threshold      1.000000\n",
      "Name: 2, dtype: float64\n",
      "Testing on ['beer3-file2.csv', 'beer3-file3.csv', 'beer3-file1.csv']\n",
      "match_mode=3, mass_tol=2, rt_tol=15, tp=257, fp=26, fn=19, prec=0.908, rec=0.931, f1=0.919, th_prob=1.000\n",
      "\n",
      "Saved to pickles/beer3pos/res_mwg.p\n"
     ]
    }
   ],
   "source": [
    "exp_results_1c = run_experiment(3, training_list, testing_list, param_list, 'pickles/beer3pos/res_mwg.p', hp, evaluation_method, transformation_file, gt_file)"
   ]
  },
  {
   "cell_type": "markdown",
   "metadata": {},
   "source": [
    "<h2>Plotting</h2>"
   ]
  },
  {
   "cell_type": "code",
   "execution_count": null,
   "metadata": {
    "collapsed": false
   },
   "outputs": [],
   "source": [
    "def plot_density(exp_res, title):\n",
    "    training_dfs = []\n",
    "    for item in exp_res:\n",
    "        training_data, training_df, best_training_row, match_res = item\n",
    "        training_dfs.append(training_df)\n",
    "    combined = pd.concat(training_dfs, axis=0)\n",
    "    combined = combined.reset_index(drop=True)\n",
    "#     f, ax = plt.subplots(figsize=(6, 6))    \n",
    "#     sns.kdeplot(combined.Rec, combined.Prec, ax=ax)\n",
    "#     sns.rugplot(combined.Rec, ax=ax)\n",
    "#     sns.rugplot(combined.Prec, vertical=True, ax=ax)    \n",
    "#     ax.set_xlim([0.7, 1.0])\n",
    "#     ax.set_ylim([0.7, 1.0])\n",
    "    g = sns.JointGrid(x=\"Rec\", y=\"Prec\", data=combined, xlim=(0.7, 1.0), ylim=(0.7, 1.0))\n",
    "    g = g.plot_joint(sns.kdeplot)\n",
    "    g = g.plot_marginals(sns.kdeplot, shade=True)\n",
    "    ax = g.ax_joint\n",
    "    ax.set_xlabel('Rec')\n",
    "    ax.set_ylabel('Prec')\n",
    "    ax = g.ax_marg_x\n",
    "    ax.set_title(title)    "
   ]
  },
  {
   "cell_type": "code",
   "execution_count": null,
   "metadata": {
    "collapsed": false
   },
   "outputs": [],
   "source": [
    "plot_density(exp_results_1a, 'Feature matching')\n",
    "plot_density(exp_results_1b, 'Cluster matching')"
   ]
  }
 ],
 "metadata": {
  "kernelspec": {
   "display_name": "Python 2",
   "language": "python",
   "name": "python2"
  },
  "language_info": {
   "codemirror_mode": {
    "name": "ipython",
    "version": 2
   },
   "file_extension": ".py",
   "mimetype": "text/x-python",
   "name": "python",
   "nbconvert_exporter": "python",
   "pygments_lexer": "ipython2",
   "version": "2.7.10"
  }
 },
 "nbformat": 4,
 "nbformat_minor": 0
}
