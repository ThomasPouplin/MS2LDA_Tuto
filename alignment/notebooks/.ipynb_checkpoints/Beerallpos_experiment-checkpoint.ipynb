{
 "cells": [
  {
   "cell_type": "markdown",
   "metadata": {},
   "source": [
    "<h1>Experiment with beerallpos</h1>"
   ]
  },
  {
   "cell_type": "code",
   "execution_count": 1,
   "metadata": {
    "collapsed": false
   },
   "outputs": [],
   "source": [
    "%load_ext autoreload\n",
    "%autoreload 2\n",
    "%matplotlib inline"
   ]
  },
  {
   "cell_type": "code",
   "execution_count": 2,
   "metadata": {
    "collapsed": true
   },
   "outputs": [],
   "source": [
    "import os\n",
    "import sys\n",
    "basedir = '/home/joewandy/git/metabolomics_tools'\n",
    "sys.path.append(basedir)"
   ]
  },
  {
   "cell_type": "code",
   "execution_count": 3,
   "metadata": {
    "collapsed": false
   },
   "outputs": [],
   "source": [
    "import numpy as np\n",
    "import pylab as plt\n",
    "import pandas as pd\n",
    "import seaborn as sns\n",
    "sns.set(color_codes=True)\n",
    "from IPython.display import display, HTML\n",
    "\n",
    "import cPickle\n",
    "import random\n",
    "import copy\n",
    "import glob\n",
    "import gzip"
   ]
  },
  {
   "cell_type": "code",
   "execution_count": 4,
   "metadata": {
    "collapsed": false
   },
   "outputs": [],
   "source": [
    "from alignment.models import HyperPars as AlignmentHyperPars\n",
    "from alignment.experiment import *"
   ]
  },
  {
   "cell_type": "markdown",
   "metadata": {},
   "source": [
    "<h2>Experiment Parameters</h2>"
   ]
  },
  {
   "cell_type": "markdown",
   "metadata": {},
   "source": [
    "Set up all the experiment parameters"
   ]
  },
  {
   "cell_type": "code",
   "execution_count": 5,
   "metadata": {
    "collapsed": true
   },
   "outputs": [],
   "source": [
    "input_dir = '/home/joewandy/git/metabolomics_tools/alignment/input/beerallpos'\n",
    "transformation_file = '/home/joewandy/git/metabolomics_tools/alignment/pos_transformations_full.yml'\n",
    "gt_file = '/home/joewandy/git/metabolomics_tools/alignment/input/beerallpos/ground_truth/beerall.positive.dat'"
   ]
  },
  {
   "cell_type": "code",
   "execution_count": 6,
   "metadata": {
    "collapsed": false
   },
   "outputs": [
    {
     "name": "stdout",
     "output_type": "stream",
     "text": [
      "Hyperparameters across_file_mass_tol=10, across_file_rt_tol=60, alpha_mass=1, beta=0.1, dp_alpha=1000.0, mass_clustering_n_iterations=400, matching_alpha=0.3, rt_clustering_burnin=0, rt_clustering_nsamps=100, t=0.0, within_file_mass_tol=3, within_file_rt_tol=10\n"
     ]
    }
   ],
   "source": [
    "hp = AlignmentHyperPars()    \n",
    "hp.within_file_mass_tol = 3\n",
    "hp.within_file_rt_tol = 10\n",
    "hp.across_file_mass_tol = 10\n",
    "hp.across_file_rt_tol = 60\n",
    "hp.alpha_mass = 1\n",
    "hp.dp_alpha = 1000.0\n",
    "hp.beta = 0.1\n",
    "hp.t = 0.0\n",
    "hp.mass_clustering_n_iterations = 400\n",
    "hp.rt_clustering_nsamps = 100\n",
    "hp.rt_clustering_burnin = 0\n",
    "\n",
    "print hp"
   ]
  },
  {
   "cell_type": "code",
   "execution_count": 7,
   "metadata": {
    "collapsed": true
   },
   "outputs": [],
   "source": [
    "evaluation_method = 2\n",
    "n_iter = 1"
   ]
  },
  {
   "cell_type": "code",
   "execution_count": 8,
   "metadata": {
    "collapsed": false
   },
   "outputs": [],
   "source": [
    "param_list = []\n",
    "for mass_tol in range(2, 7, 2):\n",
    "    for rt_tol in range(5, 31, 5):\n",
    "        param_list.append((mass_tol, rt_tol))"
   ]
  },
  {
   "cell_type": "code",
   "execution_count": 9,
   "metadata": {
    "collapsed": true
   },
   "outputs": [],
   "source": [
    "param_list_mwg = []\n",
    "for mass_tol in range(2, 7, 2):\n",
    "    for rt_tol in range(5, 31, 5):\n",
    "        for group_tol in range(2, 11, 2):\n",
    "            for alpha in range(0, 11, 2):\n",
    "                param_list_mwg.append((mass_tol, rt_tol, group_tol, alpha/10.0))"
   ]
  },
  {
   "cell_type": "markdown",
   "metadata": {},
   "source": [
    "<h2>Create the first-stage clustering for all input files -- Gibbs, mh_biggest=True</h2>"
   ]
  },
  {
   "cell_type": "code",
   "execution_count": null,
   "metadata": {
    "collapsed": false,
    "scrolled": true
   },
   "outputs": [
    {
     "name": "stdout",
     "output_type": "stream",
     "text": [
      "6733 features read from beerall-file1.csv\n",
      "6997 features read from beerall-file2.csv\n",
      "7553 features read from beerall-file3.csv\n"
     ]
    }
   ],
   "source": [
    "combined_list = load_or_create_clustering('pickles/beerallpos/clustering.p', input_dir, transformation_file, hp)"
   ]
  },
  {
   "cell_type": "markdown",
   "metadata": {},
   "source": [
    "<h2>Run experiment with beerallpos</h2>"
   ]
  },
  {
   "cell_type": "code",
   "execution_count": 14,
   "metadata": {
    "collapsed": false
   },
   "outputs": [],
   "source": [
    "n_files = 3"
   ]
  },
  {
   "cell_type": "code",
   "execution_count": 15,
   "metadata": {
    "collapsed": false
   },
   "outputs": [
    {
     "name": "stdout",
     "output_type": "stream",
     "text": [
      "['beer1-file2.csv', 'beer1-file3.csv', 'beer1-file1.csv']\n",
      "Saved to pickles/beer1pos/training_list.p\n"
     ]
    }
   ],
   "source": [
    "training_list = load_or_create_filelist('pickles/beerallpos/training_list.p', combined_list, n_iter, n_files)"
   ]
  },
  {
   "cell_type": "code",
   "execution_count": 16,
   "metadata": {
    "collapsed": false
   },
   "outputs": [
    {
     "name": "stdout",
     "output_type": "stream",
     "text": [
      "['beer1-file3.csv', 'beer1-file2.csv', 'beer1-file1.csv']\n",
      "Saved to pickles/beer1pos/testing_list.p\n"
     ]
    }
   ],
   "source": [
    "testing_list = load_or_create_filelist('pickles/beerallpos/testing_list.p', combined_list, n_iter, n_files)"
   ]
  },
  {
   "cell_type": "code",
   "execution_count": 17,
   "metadata": {
    "collapsed": false,
    "scrolled": true
   },
   "outputs": [
    {
     "name": "stdout",
     "output_type": "stream",
     "text": [
      "Iteration 0\n",
      "Training on ['beer1-file2.csv', 'beer1-file3.csv', 'beer1-file1.csv']\n",
      "mass_tol=2, rt_tol=5, tp=235, fp=18, fn=42, prec=0.929, rec=0.848, f1=0.887, th_prob=1.000\n",
      "mass_tol=2, rt_tol=10, tp=250, fp=23, fn=27, prec=0.916, rec=0.903, f1=0.909, th_prob=1.000\n",
      "mass_tol=2, rt_tol=15, tp=260, fp=26, fn=17, prec=0.909, rec=0.939, f1=0.924, th_prob=1.000\n",
      "mass_tol=2, rt_tol=20, tp=263, fp=26, fn=14, prec=0.910, rec=0.949, f1=0.929, th_prob=1.000\n",
      "mass_tol=2, rt_tol=25, tp=263, fp=26, fn=14, prec=0.910, rec=0.949, f1=0.929, th_prob=1.000\n",
      "mass_tol=2, rt_tol=30, tp=264, fp=26, fn=13, prec=0.910, rec=0.953, f1=0.931, th_prob=1.000\n",
      "mass_tol=4, rt_tol=5, tp=235, fp=18, fn=42, prec=0.929, rec=0.848, f1=0.887, th_prob=1.000\n",
      "mass_tol=4, rt_tol=10, tp=250, fp=23, fn=27, prec=0.916, rec=0.903, f1=0.909, th_prob=1.000\n",
      "mass_tol=4, rt_tol=15, tp=260, fp=26, fn=17, prec=0.909, rec=0.939, f1=0.924, th_prob=1.000\n",
      "mass_tol=4, rt_tol=20, tp=263, fp=26, fn=14, prec=0.910, rec=0.949, f1=0.929, th_prob=1.000\n",
      "mass_tol=4, rt_tol=25, tp=263, fp=26, fn=14, prec=0.910, rec=0.949, f1=0.929, th_prob=1.000\n",
      "mass_tol=4, rt_tol=30, tp=264, fp=26, fn=13, prec=0.910, rec=0.953, f1=0.931, th_prob=1.000\n",
      "mass_tol=6, rt_tol=5, tp=235, fp=18, fn=42, prec=0.929, rec=0.848, f1=0.887, th_prob=1.000\n",
      "mass_tol=6, rt_tol=10, tp=250, fp=23, fn=27, prec=0.916, rec=0.903, f1=0.909, th_prob=1.000\n",
      "mass_tol=6, rt_tol=15, tp=260, fp=26, fn=17, prec=0.909, rec=0.939, f1=0.924, th_prob=1.000\n",
      "mass_tol=6, rt_tol=20, tp=263, fp=26, fn=14, prec=0.910, rec=0.949, f1=0.929, th_prob=1.000\n",
      "mass_tol=6, rt_tol=25, tp=263, fp=26, fn=14, prec=0.910, rec=0.949, f1=0.929, th_prob=1.000\n",
      "mass_tol=6, rt_tol=30, tp=264, fp=26, fn=13, prec=0.910, rec=0.953, f1=0.931, th_prob=1.000\n",
      "Best row is\n",
      "mass_tol       2.000000\n",
      "rt_tol        30.000000\n",
      "TP           264.000000\n",
      "FP            26.000000\n",
      "FN            13.000000\n",
      "Prec           0.910345\n",
      "Rec            0.953069\n",
      "F1             0.931217\n",
      "Threshold      1.000000\n",
      "Name: 5, dtype: float64\n",
      "Testing on ['beer1-file3.csv', 'beer1-file2.csv', 'beer1-file1.csv']\n",
      "match_mode=0, mass_tol=2, rt_tol=30, tp=264, fp=26, fn=13, prec=0.910, rec=0.953, f1=0.931, th_prob=1.000\n",
      "\n",
      "Saved to pickles/beer1pos/res_match_feature.p\n"
     ]
    }
   ],
   "source": [
    "exp_results_1a = run_experiment(0, training_list, testing_list, param_list, 'pickles/beerallpos/res_match_feature.p', hp, evaluation_method, transformation_file, gt_file)"
   ]
  },
  {
   "cell_type": "code",
   "execution_count": 18,
   "metadata": {
    "collapsed": false,
    "scrolled": true
   },
   "outputs": [
    {
     "name": "stdout",
     "output_type": "stream",
     "text": [
      "Iteration 0\n",
      "Training on ['beer1-file2.csv', 'beer1-file3.csv', 'beer1-file1.csv']\n",
      "mass_tol=2, rt_tol=5, tp=235, fp=14, fn=42, prec=0.944, rec=0.848, f1=0.894, th_prob=1.000\n",
      "mass_tol=2, rt_tol=10, tp=247, fp=18, fn=30, prec=0.932, rec=0.892, f1=0.911, th_prob=1.000\n",
      "mass_tol=2, rt_tol=15, tp=255, fp=21, fn=22, prec=0.924, rec=0.921, f1=0.922, th_prob=1.000\n",
      "mass_tol=2, rt_tol=20, tp=259, fp=21, fn=18, prec=0.925, rec=0.935, f1=0.930, th_prob=1.000\n",
      "mass_tol=2, rt_tol=25, tp=259, fp=21, fn=18, prec=0.925, rec=0.935, f1=0.930, th_prob=1.000\n",
      "mass_tol=2, rt_tol=30, tp=260, fp=21, fn=17, prec=0.925, rec=0.939, f1=0.932, th_prob=1.000\n",
      "mass_tol=4, rt_tol=5, tp=235, fp=14, fn=42, prec=0.944, rec=0.848, f1=0.894, th_prob=1.000\n",
      "mass_tol=4, rt_tol=10, tp=247, fp=18, fn=30, prec=0.932, rec=0.892, f1=0.911, th_prob=1.000\n",
      "mass_tol=4, rt_tol=15, tp=255, fp=21, fn=22, prec=0.924, rec=0.921, f1=0.922, th_prob=1.000\n",
      "mass_tol=4, rt_tol=20, tp=259, fp=21, fn=18, prec=0.925, rec=0.935, f1=0.930, th_prob=1.000\n",
      "mass_tol=4, rt_tol=25, tp=259, fp=21, fn=18, prec=0.925, rec=0.935, f1=0.930, th_prob=1.000\n",
      "mass_tol=4, rt_tol=30, tp=260, fp=21, fn=17, prec=0.925, rec=0.939, f1=0.932, th_prob=1.000\n",
      "mass_tol=6, rt_tol=5, tp=235, fp=14, fn=42, prec=0.944, rec=0.848, f1=0.894, th_prob=1.000\n",
      "mass_tol=6, rt_tol=10, tp=247, fp=18, fn=30, prec=0.932, rec=0.892, f1=0.911, th_prob=1.000\n",
      "mass_tol=6, rt_tol=15, tp=255, fp=21, fn=22, prec=0.924, rec=0.921, f1=0.922, th_prob=1.000\n",
      "mass_tol=6, rt_tol=20, tp=259, fp=21, fn=18, prec=0.925, rec=0.935, f1=0.930, th_prob=1.000\n",
      "mass_tol=6, rt_tol=25, tp=259, fp=21, fn=18, prec=0.925, rec=0.935, f1=0.930, th_prob=1.000\n",
      "mass_tol=6, rt_tol=30, tp=260, fp=21, fn=17, prec=0.925, rec=0.939, f1=0.932, th_prob=1.000\n",
      "Best row is\n",
      "mass_tol       2.000000\n",
      "rt_tol        30.000000\n",
      "TP           260.000000\n",
      "FP            21.000000\n",
      "FN            17.000000\n",
      "Prec           0.925267\n",
      "Rec            0.938628\n",
      "F1             0.931900\n",
      "Threshold      1.000000\n",
      "Name: 5, dtype: float64\n",
      "Testing on ['beer1-file3.csv', 'beer1-file2.csv', 'beer1-file1.csv']\n",
      "match_mode=1, mass_tol=2, rt_tol=30, tp=260, fp=21, fn=17, prec=0.925, rec=0.939, f1=0.932, th_prob=1.000\n",
      "\n",
      "Saved to pickles/beer1pos/res_match_cluster.p\n"
     ]
    }
   ],
   "source": [
    "exp_results_1b = run_experiment(1, training_list, testing_list, param_list, 'pickles/beerallpos/res_match_cluster.p', hp, evaluation_method, transformation_file, gt_file)"
   ]
  },
  {
   "cell_type": "code",
   "execution_count": 19,
   "metadata": {
    "collapsed": false
   },
   "outputs": [
    {
     "name": "stdout",
     "output_type": "stream",
     "text": [
      "Iteration 0\n",
      "Training on ['beer1-file2.csv', 'beer1-file3.csv', 'beer1-file1.csv']\n",
      "mass_tol=2, rt_tol=5, tp=235, fp=18, fn=42, prec=0.929, rec=0.848, f1=0.887, th_prob=1.000\n",
      "mass_tol=2, rt_tol=10, tp=250, fp=23, fn=27, prec=0.916, rec=0.903, f1=0.909, th_prob=1.000\n",
      "mass_tol=2, rt_tol=15, tp=260, fp=26, fn=17, prec=0.909, rec=0.939, f1=0.924, th_prob=1.000\n",
      "mass_tol=2, rt_tol=20, tp=263, fp=26, fn=14, prec=0.910, rec=0.949, f1=0.929, th_prob=1.000\n",
      "mass_tol=2, rt_tol=25, tp=263, fp=26, fn=14, prec=0.910, rec=0.949, f1=0.929, th_prob=1.000\n",
      "mass_tol=2, rt_tol=30, tp=264, fp=26, fn=13, prec=0.910, rec=0.953, f1=0.931, th_prob=1.000\n",
      "mass_tol=4, rt_tol=5, tp=235, fp=18, fn=42, prec=0.929, rec=0.848, f1=0.887, th_prob=1.000\n",
      "mass_tol=4, rt_tol=10, tp=250, fp=23, fn=27, prec=0.916, rec=0.903, f1=0.909, th_prob=1.000\n"
     ]
    },
    {
     "ename": "KeyboardInterrupt",
     "evalue": "",
     "output_type": "error",
     "traceback": [
      "\u001b[1;31m---------------------------------------------------------------------------\u001b[0m",
      "\u001b[1;31mKeyboardInterrupt\u001b[0m                         Traceback (most recent call last)",
      "\u001b[1;32m<ipython-input-19-2409facf0f0b>\u001b[0m in \u001b[0;36m<module>\u001b[1;34m()\u001b[0m\n\u001b[1;32m----> 1\u001b[1;33m \u001b[0mexp_results_1c\u001b[0m \u001b[1;33m=\u001b[0m \u001b[0mrun_experiment\u001b[0m\u001b[1;33m(\u001b[0m\u001b[1;36m3\u001b[0m\u001b[1;33m,\u001b[0m \u001b[0mtraining_list\u001b[0m\u001b[1;33m,\u001b[0m \u001b[0mtesting_list\u001b[0m\u001b[1;33m,\u001b[0m \u001b[0mparam_list\u001b[0m\u001b[1;33m,\u001b[0m \u001b[1;34m'pickles/beer1pos/res_mwg.p'\u001b[0m\u001b[1;33m,\u001b[0m \u001b[0mhp\u001b[0m\u001b[1;33m,\u001b[0m \u001b[0mevaluation_method\u001b[0m\u001b[1;33m,\u001b[0m \u001b[0mtransformation_file\u001b[0m\u001b[1;33m,\u001b[0m \u001b[0mgt_file\u001b[0m\u001b[1;33m)\u001b[0m\u001b[1;33m\u001b[0m\u001b[0m\n\u001b[0m",
      "\u001b[1;32m/home/joewandy/git/metabolomics_tools/alignment/experiment.pyc\u001b[0m in \u001b[0;36mrun_experiment\u001b[1;34m(match_mode, training_list, testing_list, param_list, filename, hp, evaluation_method, transformation_file, gt_file)\u001b[0m\n\u001b[0;32m    152\u001b[0m             \u001b[1;32mreturn\u001b[0m \u001b[0mexp_results\u001b[0m\u001b[1;33m\u001b[0m\u001b[0m\n\u001b[0;32m    153\u001b[0m     \u001b[1;32mexcept\u001b[0m \u001b[1;33m(\u001b[0m\u001b[0mIOError\u001b[0m\u001b[1;33m,\u001b[0m \u001b[0mEOFError\u001b[0m\u001b[1;33m)\u001b[0m\u001b[1;33m:\u001b[0m\u001b[1;33m\u001b[0m\u001b[0m\n\u001b[1;32m--> 154\u001b[1;33m         \u001b[0mexp_results\u001b[0m \u001b[1;33m=\u001b[0m \u001b[0mtrain_test\u001b[0m\u001b[1;33m(\u001b[0m\u001b[0mmatch_mode\u001b[0m\u001b[1;33m,\u001b[0m \u001b[0mtraining_list\u001b[0m\u001b[1;33m,\u001b[0m \u001b[0mtesting_list\u001b[0m\u001b[1;33m,\u001b[0m \u001b[0mparam_list\u001b[0m\u001b[1;33m,\u001b[0m \u001b[0mhp\u001b[0m\u001b[1;33m,\u001b[0m \u001b[0mevaluation_method\u001b[0m\u001b[1;33m,\u001b[0m \u001b[0mtransformation_file\u001b[0m\u001b[1;33m,\u001b[0m \u001b[0mgt_file\u001b[0m\u001b[1;33m)\u001b[0m\u001b[1;33m\u001b[0m\u001b[0m\n\u001b[0m\u001b[0;32m    155\u001b[0m         \u001b[1;32mwith\u001b[0m \u001b[0mgzip\u001b[0m\u001b[1;33m.\u001b[0m\u001b[0mGzipFile\u001b[0m\u001b[1;33m(\u001b[0m\u001b[0mfilename\u001b[0m\u001b[1;33m,\u001b[0m \u001b[1;34m'wb'\u001b[0m\u001b[1;33m)\u001b[0m \u001b[1;32mas\u001b[0m \u001b[0mf\u001b[0m\u001b[1;33m:\u001b[0m\u001b[1;33m\u001b[0m\u001b[0m\n\u001b[0;32m    156\u001b[0m             \u001b[0mcPickle\u001b[0m\u001b[1;33m.\u001b[0m\u001b[0mdump\u001b[0m\u001b[1;33m(\u001b[0m\u001b[0mexp_results\u001b[0m\u001b[1;33m,\u001b[0m \u001b[0mf\u001b[0m\u001b[1;33m,\u001b[0m \u001b[0mprotocol\u001b[0m\u001b[1;33m=\u001b[0m\u001b[0mcPickle\u001b[0m\u001b[1;33m.\u001b[0m\u001b[0mHIGHEST_PROTOCOL\u001b[0m\u001b[1;33m)\u001b[0m\u001b[1;33m\u001b[0m\u001b[0m\n",
      "\u001b[1;32m/home/joewandy/git/metabolomics_tools/alignment/experiment.pyc\u001b[0m in \u001b[0;36mtrain_test\u001b[1;34m(match_mode, training_list, testing_list, param_list, hp, evaluation_method, transformation_file, gt_file)\u001b[0m\n\u001b[0;32m    124\u001b[0m         \u001b[0mtraining_data\u001b[0m \u001b[1;33m=\u001b[0m \u001b[0mtraining_list\u001b[0m\u001b[1;33m[\u001b[0m\u001b[0mi\u001b[0m\u001b[1;33m]\u001b[0m\u001b[1;33m\u001b[0m\u001b[0m\n\u001b[0;32m    125\u001b[0m         \u001b[0mtesting_data\u001b[0m \u001b[1;33m=\u001b[0m \u001b[0mtesting_list\u001b[0m\u001b[1;33m[\u001b[0m\u001b[0mi\u001b[0m\u001b[1;33m]\u001b[0m\u001b[1;33m\u001b[0m\u001b[0m\n\u001b[1;32m--> 126\u001b[1;33m         \u001b[0mitem\u001b[0m \u001b[1;33m=\u001b[0m \u001b[0mtrain_test_single\u001b[0m\u001b[1;33m(\u001b[0m\u001b[0mmatch_mode\u001b[0m\u001b[1;33m,\u001b[0m \u001b[0mtraining_data\u001b[0m\u001b[1;33m,\u001b[0m \u001b[0mtesting_data\u001b[0m\u001b[1;33m,\u001b[0m \u001b[0mi\u001b[0m\u001b[1;33m,\u001b[0m \u001b[0mparam_list\u001b[0m\u001b[1;33m,\u001b[0m \u001b[0mhp\u001b[0m\u001b[1;33m,\u001b[0m \u001b[0mevaluation_method\u001b[0m\u001b[1;33m,\u001b[0m \u001b[0mtransformation_file\u001b[0m\u001b[1;33m,\u001b[0m \u001b[0mgt_file\u001b[0m\u001b[1;33m)\u001b[0m\u001b[1;33m\u001b[0m\u001b[0m\n\u001b[0m\u001b[0;32m    127\u001b[0m         \u001b[0mexp_results\u001b[0m\u001b[1;33m.\u001b[0m\u001b[0mappend\u001b[0m\u001b[1;33m(\u001b[0m\u001b[0mitem\u001b[0m\u001b[1;33m)\u001b[0m\u001b[1;33m\u001b[0m\u001b[0m\n\u001b[0;32m    128\u001b[0m         \u001b[1;32mprint\u001b[0m\u001b[1;33m\u001b[0m\u001b[0m\n",
      "\u001b[1;32m/home/joewandy/git/metabolomics_tools/alignment/experiment.pyc\u001b[0m in \u001b[0;36mtrain_test_single\u001b[1;34m(match_mode, training_data, testing_data, i, param_list, hp, evaluation_method, transformation_file, gt_file)\u001b[0m\n\u001b[0;32m    103\u001b[0m     \u001b[1;32mprint\u001b[0m \u001b[1;34m\"Iteration %d\"\u001b[0m \u001b[1;33m%\u001b[0m \u001b[0mi\u001b[0m\u001b[1;33m\u001b[0m\u001b[0m\n\u001b[0;32m    104\u001b[0m     \u001b[1;32mprint\u001b[0m \u001b[1;34m\"Training on %s\"\u001b[0m \u001b[1;33m%\u001b[0m \u001b[1;33m[\u001b[0m\u001b[0mx\u001b[0m\u001b[1;33m[\u001b[0m\u001b[1;36m0\u001b[0m\u001b[1;33m]\u001b[0m\u001b[1;33m.\u001b[0m\u001b[0mfilename\u001b[0m \u001b[1;32mfor\u001b[0m \u001b[0mx\u001b[0m \u001b[1;32min\u001b[0m \u001b[0mtraining_data\u001b[0m\u001b[1;33m]\u001b[0m\u001b[1;33m\u001b[0m\u001b[0m\n\u001b[1;32m--> 105\u001b[1;33m     \u001b[0mtraining_df\u001b[0m\u001b[1;33m,\u001b[0m \u001b[0mbest_training_row\u001b[0m \u001b[1;33m=\u001b[0m \u001b[0mtrain\u001b[0m\u001b[1;33m(\u001b[0m\u001b[0mtraining_data\u001b[0m\u001b[1;33m,\u001b[0m \u001b[0mparam_list\u001b[0m\u001b[1;33m,\u001b[0m \u001b[0mhp\u001b[0m\u001b[1;33m,\u001b[0m \u001b[0mmatch_mode\u001b[0m\u001b[1;33m,\u001b[0m \u001b[0mevaluation_method\u001b[0m\u001b[1;33m,\u001b[0m \u001b[0mtransformation_file\u001b[0m\u001b[1;33m,\u001b[0m \u001b[0mgt_file\u001b[0m\u001b[1;33m)\u001b[0m\u001b[1;33m\u001b[0m\u001b[0m\n\u001b[0m\u001b[0;32m    106\u001b[0m     \u001b[1;32mprint\u001b[0m \u001b[1;34m\"Best row is\\n%s\"\u001b[0m \u001b[1;33m%\u001b[0m \u001b[0mbest_training_row\u001b[0m\u001b[1;33m\u001b[0m\u001b[0m\n\u001b[0;32m    107\u001b[0m \u001b[1;33m\u001b[0m\u001b[0m\n",
      "\u001b[1;32m/home/joewandy/git/metabolomics_tools/alignment/experiment.pyc\u001b[0m in \u001b[0;36mtrain\u001b[1;34m(selected_data, param_list, hp, match_mode, evaluation_method, transformation_file, gt_file)\u001b[0m\n\u001b[0;32m     56\u001b[0m         aligner = Aligner(selected_files, None, transformation_file, \n\u001b[0;32m     57\u001b[0m                                hp, verbose=False, seed=1234567890)\n\u001b[1;32m---> 58\u001b[1;33m         \u001b[0maligner\u001b[0m\u001b[1;33m.\u001b[0m\u001b[0mrun\u001b[0m\u001b[1;33m(\u001b[0m\u001b[0mmatch_mode\u001b[0m\u001b[1;33m,\u001b[0m \u001b[0mfirst_stage_clustering_results\u001b[0m\u001b[1;33m=\u001b[0m\u001b[0mselected_clusterings\u001b[0m\u001b[1;33m)\u001b[0m\u001b[1;33m\u001b[0m\u001b[0m\n\u001b[0m\u001b[0;32m     59\u001b[0m \u001b[1;33m\u001b[0m\u001b[0m\n\u001b[0;32m     60\u001b[0m         \u001b[0mres\u001b[0m \u001b[1;33m=\u001b[0m \u001b[0maligner\u001b[0m\u001b[1;33m.\u001b[0m\u001b[0mevaluate_performance\u001b[0m\u001b[1;33m(\u001b[0m\u001b[0mgt_file\u001b[0m\u001b[1;33m,\u001b[0m \u001b[0mverbose\u001b[0m\u001b[1;33m=\u001b[0m\u001b[0mFalse\u001b[0m\u001b[1;33m,\u001b[0m \u001b[0mprint_TP\u001b[0m\u001b[1;33m=\u001b[0m\u001b[0mTrue\u001b[0m\u001b[1;33m,\u001b[0m \u001b[0mmethod\u001b[0m\u001b[1;33m=\u001b[0m\u001b[0mevaluation_method\u001b[0m\u001b[1;33m)\u001b[0m\u001b[1;33m\u001b[0m\u001b[0m\n",
      "\u001b[1;32m/home/joewandy/git/metabolomics_tools/alignment/shared_bin_matching.pyc\u001b[0m in \u001b[0;36mrun\u001b[1;34m(self, match_mode, first_stage_clustering_results)\u001b[0m\n\u001b[0;32m     76\u001b[0m             \u001b[1;32mif\u001b[0m \u001b[0mmatch_mode\u001b[0m \u001b[1;33m==\u001b[0m \u001b[1;36m3\u001b[0m\u001b[1;33m:\u001b[0m\u001b[1;33m\u001b[0m\u001b[0m\n\u001b[0;32m     77\u001b[0m                 \u001b[0muse_group\u001b[0m \u001b[1;33m=\u001b[0m \u001b[0mTrue\u001b[0m\u001b[1;33m\u001b[0m\u001b[0m\n\u001b[1;32m---> 78\u001b[1;33m             \u001b[0malignment_results\u001b[0m \u001b[1;33m=\u001b[0m \u001b[0mself\u001b[0m\u001b[1;33m.\u001b[0m\u001b[0m_match_peak_features\u001b[0m\u001b[1;33m(\u001b[0m\u001b[0mfile_data\u001b[0m\u001b[1;33m,\u001b[0m \u001b[0muse_group\u001b[0m\u001b[1;33m)\u001b[0m\u001b[1;33m\u001b[0m\u001b[0m\n\u001b[0m\u001b[0;32m     79\u001b[0m \u001b[1;33m\u001b[0m\u001b[0m\n\u001b[0;32m     80\u001b[0m         \u001b[1;32melif\u001b[0m \u001b[0mmatch_mode\u001b[0m \u001b[1;33m==\u001b[0m \u001b[1;36m1\u001b[0m\u001b[1;33m:\u001b[0m \u001b[1;31m# matching based on the MAP of precursor clustering\u001b[0m\u001b[1;33m\u001b[0m\u001b[0m\n",
      "\u001b[1;32m/home/joewandy/git/metabolomics_tools/alignment/shared_bin_matching.pyc\u001b[0m in \u001b[0;36m_match_peak_features\u001b[1;34m(self, file_data, use_group)\u001b[0m\n\u001b[0;32m    407\u001b[0m             \u001b[0malignment_file\u001b[0m\u001b[1;33m.\u001b[0m\u001b[0mreset_aligned_status\u001b[0m\u001b[1;33m(\u001b[0m\u001b[1;33m)\u001b[0m\u001b[1;33m\u001b[0m\u001b[0m\n\u001b[0;32m    408\u001b[0m             \u001b[0mmatcher\u001b[0m \u001b[1;33m=\u001b[0m \u001b[0mMaxWeightedMatching\u001b[0m\u001b[1;33m(\u001b[0m\u001b[0mmatched_results\u001b[0m\u001b[1;33m,\u001b[0m \u001b[0malignment_file\u001b[0m\u001b[1;33m,\u001b[0m \u001b[0mmy_options\u001b[0m\u001b[1;33m)\u001b[0m\u001b[1;33m\u001b[0m\u001b[0m\n\u001b[1;32m--> 409\u001b[1;33m             \u001b[0mmatched_results\u001b[0m \u001b[1;33m=\u001b[0m \u001b[0mmatcher\u001b[0m\u001b[1;33m.\u001b[0m\u001b[0mdo_matching\u001b[0m\u001b[1;33m(\u001b[0m\u001b[1;33m)\u001b[0m\u001b[1;33m\u001b[0m\u001b[0m\n\u001b[0m\u001b[0;32m    410\u001b[0m             \u001b[0moutput_count\u001b[0m \u001b[1;33m+=\u001b[0m \u001b[0mlen\u001b[0m\u001b[1;33m(\u001b[0m\u001b[0mmatched_results\u001b[0m\u001b[1;33m.\u001b[0m\u001b[0mget_all_features\u001b[0m\u001b[1;33m(\u001b[0m\u001b[1;33m)\u001b[0m\u001b[1;33m)\u001b[0m\u001b[1;33m\u001b[0m\u001b[0m\n\u001b[0;32m    411\u001b[0m             \u001b[1;32massert\u001b[0m \u001b[0minput_count\u001b[0m \u001b[1;33m==\u001b[0m \u001b[0moutput_count\u001b[0m\u001b[1;33m,\u001b[0m \u001b[1;34m\"input %d output %d\"\u001b[0m \u001b[1;33m%\u001b[0m \u001b[1;33m(\u001b[0m\u001b[0minput_count\u001b[0m\u001b[1;33m,\u001b[0m \u001b[0moutput_count\u001b[0m\u001b[1;33m)\u001b[0m\u001b[1;33m\u001b[0m\u001b[0m\n",
      "\u001b[1;32m/home/joewandy/git/metabolomics_tools/alignment/matching.pyc\u001b[0m in \u001b[0;36mdo_matching\u001b[1;34m(self)\u001b[0m\n\u001b[0;32m     77\u001b[0m                 \u001b[0mmate\u001b[0m \u001b[1;33m=\u001b[0m \u001b[0mself\u001b[0m\u001b[1;33m.\u001b[0m\u001b[0mhungarian_matching\u001b[0m\u001b[1;33m(\u001b[0m\u001b[0mself\u001b[0m\u001b[1;33m.\u001b[0m\u001b[0mmen\u001b[0m\u001b[1;33m,\u001b[0m \u001b[0mself\u001b[0m\u001b[1;33m.\u001b[0m\u001b[0mwomen\u001b[0m\u001b[1;33m,\u001b[0m \u001b[0mscore_arr\u001b[0m\u001b[1;33m)\u001b[0m\u001b[1;33m\u001b[0m\u001b[0m\n\u001b[0;32m     78\u001b[0m             \u001b[1;32melse\u001b[0m\u001b[1;33m:\u001b[0m\u001b[1;33m\u001b[0m\u001b[0m\n\u001b[1;32m---> 79\u001b[1;33m                 \u001b[0mmate\u001b[0m \u001b[1;33m=\u001b[0m \u001b[0mself\u001b[0m\u001b[1;33m.\u001b[0m\u001b[0mapproximate_matching_pq\u001b[0m\u001b[1;33m(\u001b[0m\u001b[0mself\u001b[0m\u001b[1;33m.\u001b[0m\u001b[0mmen\u001b[0m\u001b[1;33m,\u001b[0m \u001b[0mself\u001b[0m\u001b[1;33m.\u001b[0m\u001b[0mwomen\u001b[0m\u001b[1;33m,\u001b[0m \u001b[0mscore_arr\u001b[0m\u001b[1;33m)\u001b[0m\u001b[1;33m\u001b[0m\u001b[0m\n\u001b[0m\u001b[0;32m     80\u001b[0m             \u001b[1;32mif\u001b[0m \u001b[0mself\u001b[0m\u001b[1;33m.\u001b[0m\u001b[0mverbose\u001b[0m\u001b[1;33m:\u001b[0m\u001b[1;33m\u001b[0m\u001b[0m\n\u001b[0;32m     81\u001b[0m                 \u001b[1;32mprint\u001b[0m\u001b[1;33m\u001b[0m\u001b[0m\n",
      "\u001b[1;32m/home/joewandy/git/metabolomics_tools/alignment/matching.pyc\u001b[0m in \u001b[0;36mapproximate_matching_pq\u001b[1;34m(self, men, women, score_arr)\u001b[0m\n\u001b[0;32m    316\u001b[0m                 \u001b[0mmate\u001b[0m\u001b[1;33m[\u001b[0m\u001b[0mman\u001b[0m\u001b[1;33m]\u001b[0m \u001b[1;33m=\u001b[0m \u001b[0mwoman\u001b[0m\u001b[1;33m\u001b[0m\u001b[0m\n\u001b[0;32m    317\u001b[0m                 \u001b[0mscore_arr\u001b[0m\u001b[1;33m[\u001b[0m\u001b[0mi\u001b[0m\u001b[1;33m,\u001b[0m \u001b[1;33m:\u001b[0m\u001b[1;33m]\u001b[0m \u001b[1;33m=\u001b[0m \u001b[1;36m0\u001b[0m\u001b[1;33m\u001b[0m\u001b[0m\n\u001b[1;32m--> 318\u001b[1;33m                 \u001b[0mscore_arr\u001b[0m\u001b[1;33m[\u001b[0m\u001b[1;33m:\u001b[0m\u001b[1;33m,\u001b[0m \u001b[0mj\u001b[0m\u001b[1;33m]\u001b[0m \u001b[1;33m=\u001b[0m \u001b[1;36m0\u001b[0m\u001b[1;33m\u001b[0m\u001b[0m\n\u001b[0m\u001b[0;32m    319\u001b[0m \u001b[1;33m\u001b[0m\u001b[0m\n\u001b[0;32m    320\u001b[0m         \u001b[1;32mreturn\u001b[0m \u001b[0mmate\u001b[0m\u001b[1;33m\u001b[0m\u001b[0m\n",
      "\u001b[1;32m/home/joewandy/anaconda/lib/python2.7/site-packages/scipy/sparse/lil.pyc\u001b[0m in \u001b[0;36m__setitem__\u001b[1;34m(self, index, x)\u001b[0m\n\u001b[0;32m    284\u001b[0m \u001b[1;33m\u001b[0m\u001b[0m\n\u001b[0;32m    285\u001b[0m         \u001b[1;31m# General indexing\u001b[0m\u001b[1;33m\u001b[0m\u001b[1;33m\u001b[0m\u001b[0m\n\u001b[1;32m--> 286\u001b[1;33m         \u001b[0mi\u001b[0m\u001b[1;33m,\u001b[0m \u001b[0mj\u001b[0m \u001b[1;33m=\u001b[0m \u001b[0mself\u001b[0m\u001b[1;33m.\u001b[0m\u001b[0m_unpack_index\u001b[0m\u001b[1;33m(\u001b[0m\u001b[0mindex\u001b[0m\u001b[1;33m)\u001b[0m\u001b[1;33m\u001b[0m\u001b[0m\n\u001b[0m\u001b[0;32m    287\u001b[0m \u001b[1;33m\u001b[0m\u001b[0m\n\u001b[0;32m    288\u001b[0m         \u001b[1;31m# shortcut for common case of full matrix assign:\u001b[0m\u001b[1;33m\u001b[0m\u001b[1;33m\u001b[0m\u001b[0m\n",
      "\u001b[1;32m/home/joewandy/anaconda/lib/python2.7/site-packages/scipy/sparse/sputils.pyc\u001b[0m in \u001b[0;36m_unpack_index\u001b[1;34m(self, index)\u001b[0m\n\u001b[0;32m    266\u001b[0m \u001b[1;33m\u001b[0m\u001b[0m\n\u001b[0;32m    267\u001b[0m         \u001b[1;31m# Next, check for validity, or transform the index as needed.\u001b[0m\u001b[1;33m\u001b[0m\u001b[1;33m\u001b[0m\u001b[0m\n\u001b[1;32m--> 268\u001b[1;33m         \u001b[0mrow\u001b[0m\u001b[1;33m,\u001b[0m \u001b[0mcol\u001b[0m \u001b[1;33m=\u001b[0m \u001b[0mself\u001b[0m\u001b[1;33m.\u001b[0m\u001b[0m_check_boolean\u001b[0m\u001b[1;33m(\u001b[0m\u001b[0mrow\u001b[0m\u001b[1;33m,\u001b[0m \u001b[0mcol\u001b[0m\u001b[1;33m)\u001b[0m\u001b[1;33m\u001b[0m\u001b[0m\n\u001b[0m\u001b[0;32m    269\u001b[0m         \u001b[1;32mreturn\u001b[0m \u001b[0mrow\u001b[0m\u001b[1;33m,\u001b[0m \u001b[0mcol\u001b[0m\u001b[1;33m\u001b[0m\u001b[0m\n\u001b[0;32m    270\u001b[0m \u001b[1;33m\u001b[0m\u001b[0m\n",
      "\u001b[1;32m/home/joewandy/anaconda/lib/python2.7/site-packages/scipy/sparse/sputils.pyc\u001b[0m in \u001b[0;36m_check_boolean\u001b[1;34m(self, row, col)\u001b[0m\n\u001b[0;32m    315\u001b[0m                     \u001b[1;34m\" except boolean indexing where matrix and index are equal\"\u001b[0m\u001b[1;33m\u001b[0m\u001b[0m\n\u001b[0;32m    316\u001b[0m                     \" shapes.\")\n\u001b[1;32m--> 317\u001b[1;33m         \u001b[1;32mif\u001b[0m \u001b[0misinstance\u001b[0m\u001b[1;33m(\u001b[0m\u001b[0mrow\u001b[0m\u001b[1;33m,\u001b[0m \u001b[0mnp\u001b[0m\u001b[1;33m.\u001b[0m\u001b[0mndarray\u001b[0m\u001b[1;33m)\u001b[0m \u001b[1;32mand\u001b[0m \u001b[0mrow\u001b[0m\u001b[1;33m.\u001b[0m\u001b[0mdtype\u001b[0m\u001b[1;33m.\u001b[0m\u001b[0mkind\u001b[0m \u001b[1;33m==\u001b[0m \u001b[1;34m'b'\u001b[0m\u001b[1;33m:\u001b[0m\u001b[1;33m\u001b[0m\u001b[0m\n\u001b[0m\u001b[0;32m    318\u001b[0m             \u001b[0mrow\u001b[0m \u001b[1;33m=\u001b[0m \u001b[0mself\u001b[0m\u001b[1;33m.\u001b[0m\u001b[0m_boolean_index_to_array\u001b[0m\u001b[1;33m(\u001b[0m\u001b[0mrow\u001b[0m\u001b[1;33m)\u001b[0m\u001b[1;33m\u001b[0m\u001b[0m\n\u001b[0;32m    319\u001b[0m         \u001b[1;32mif\u001b[0m \u001b[0misinstance\u001b[0m\u001b[1;33m(\u001b[0m\u001b[0mcol\u001b[0m\u001b[1;33m,\u001b[0m \u001b[0mnp\u001b[0m\u001b[1;33m.\u001b[0m\u001b[0mndarray\u001b[0m\u001b[1;33m)\u001b[0m \u001b[1;32mand\u001b[0m \u001b[0mcol\u001b[0m\u001b[1;33m.\u001b[0m\u001b[0mdtype\u001b[0m\u001b[1;33m.\u001b[0m\u001b[0mkind\u001b[0m \u001b[1;33m==\u001b[0m \u001b[1;34m'b'\u001b[0m\u001b[1;33m:\u001b[0m\u001b[1;33m\u001b[0m\u001b[0m\n",
      "\u001b[1;31mKeyboardInterrupt\u001b[0m: "
     ]
    }
   ],
   "source": [
    "exp_results_1c = run_experiment(3, training_list, testing_list, param_list, 'pickles/beerallpos/res_mwg.p', hp, evaluation_method, transformation_file, gt_file)"
   ]
  },
  {
   "cell_type": "markdown",
   "metadata": {},
   "source": [
    "<h2>Plotting</h2>"
   ]
  },
  {
   "cell_type": "code",
   "execution_count": null,
   "metadata": {
    "collapsed": false
   },
   "outputs": [],
   "source": [
    "def plot_density(exp_res, title):\n",
    "    training_dfs = []\n",
    "    for item in exp_res:\n",
    "        training_data, training_df, best_training_row, match_res = item\n",
    "        training_dfs.append(training_df)\n",
    "    combined = pd.concat(training_dfs, axis=0)\n",
    "    combined = combined.reset_index(drop=True)\n",
    "#     f, ax = plt.subplots(figsize=(6, 6))    \n",
    "#     sns.kdeplot(combined.Rec, combined.Prec, ax=ax)\n",
    "#     sns.rugplot(combined.Rec, ax=ax)\n",
    "#     sns.rugplot(combined.Prec, vertical=True, ax=ax)    \n",
    "#     ax.set_xlim([0.7, 1.0])\n",
    "#     ax.set_ylim([0.7, 1.0])\n",
    "    g = sns.JointGrid(x=\"Rec\", y=\"Prec\", data=combined, xlim=(0.7, 1.0), ylim=(0.7, 1.0))\n",
    "    g = g.plot_joint(sns.kdeplot)\n",
    "    g = g.plot_marginals(sns.kdeplot, shade=True)\n",
    "    ax = g.ax_joint\n",
    "    ax.set_xlabel('Rec')\n",
    "    ax.set_ylabel('Prec')\n",
    "    ax = g.ax_marg_x\n",
    "    ax.set_title(title)    "
   ]
  },
  {
   "cell_type": "code",
   "execution_count": null,
   "metadata": {
    "collapsed": false
   },
   "outputs": [],
   "source": [
    "plot_density(exp_results_1a, 'Feature matching')\n",
    "plot_density(exp_results_1b, 'Cluster matching')"
   ]
  }
 ],
 "metadata": {
  "kernelspec": {
   "display_name": "Python 2",
   "language": "python",
   "name": "python2"
  },
  "language_info": {
   "codemirror_mode": {
    "name": "ipython",
    "version": 2
   },
   "file_extension": ".py",
   "mimetype": "text/x-python",
   "name": "python",
   "nbconvert_exporter": "python",
   "pygments_lexer": "ipython2",
   "version": "2.7.10"
  }
 },
 "nbformat": 4,
 "nbformat_minor": 0
}
