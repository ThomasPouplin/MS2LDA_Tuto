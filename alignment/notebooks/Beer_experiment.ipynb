{
 "cells": [
  {
   "cell_type": "markdown",
   "metadata": {},
   "source": [
    "<h1>Experiment with beer1pos</h1>"
   ]
  },
  {
   "cell_type": "code",
   "execution_count": 1,
   "metadata": {
    "collapsed": false
   },
   "outputs": [],
   "source": [
    "%load_ext autoreload\n",
    "%autoreload 2\n",
    "%matplotlib inline"
   ]
  },
  {
   "cell_type": "code",
   "execution_count": 2,
   "metadata": {
    "collapsed": true
   },
   "outputs": [],
   "source": [
    "import os\n",
    "import sys\n",
    "basedir = '/home/joewandy/git/metabolomics_tools'\n",
    "sys.path.append(basedir)"
   ]
  },
  {
   "cell_type": "code",
   "execution_count": 3,
   "metadata": {
    "collapsed": false
   },
   "outputs": [
    {
     "name": "stderr",
     "output_type": "stream",
     "text": [
      "/home/joewandy/anaconda/lib/python2.7/site-packages/matplotlib/__init__.py:872: UserWarning: axes.color_cycle is deprecated and replaced with axes.prop_cycle; please use the latter.\n",
      "  warnings.warn(self.msg_depr % (key, alt_key))\n"
     ]
    }
   ],
   "source": [
    "import numpy as np\n",
    "import pylab as plt\n",
    "import pandas as pd\n",
    "import seaborn as sns\n",
    "sns.set(color_codes=True)\n",
    "from IPython.display import display, HTML\n",
    "\n",
    "import cPickle\n",
    "import random\n",
    "import copy\n",
    "import glob\n",
    "import gzip"
   ]
  },
  {
   "cell_type": "code",
   "execution_count": 4,
   "metadata": {
    "collapsed": false
   },
   "outputs": [],
   "source": [
    "from alignment.models import HyperPars as AlignmentHyperPars\n",
    "from alignment.experiment import *"
   ]
  },
  {
   "cell_type": "markdown",
   "metadata": {},
   "source": [
    "<h2>Experiment Parameters</h2>"
   ]
  },
  {
   "cell_type": "markdown",
   "metadata": {},
   "source": [
    "Set up all the experiment parameters"
   ]
  },
  {
   "cell_type": "code",
   "execution_count": 5,
   "metadata": {
    "collapsed": true
   },
   "outputs": [],
   "source": [
    "input_dir = '/home/joewandy/git/metabolomics_tools/alignment/input/beer1pos'\n",
    "transformation_file = '/home/joewandy/git/metabolomics_tools/alignment/pos_transformations_full.yml'\n",
    "gt_file = '/home/joewandy/git/metabolomics_tools/alignment/input/beer1pos/ground_truth/ground_truth.txt'"
   ]
  },
  {
   "cell_type": "code",
   "execution_count": 17,
   "metadata": {
    "collapsed": false
   },
   "outputs": [
    {
     "name": "stdout",
     "output_type": "stream",
     "text": [
      "Hyperparameters across_file_mass_tol=10, across_file_rt_tol=60, alpha_mass=1.0, beta=0.1, dp_alpha=1000.0, mass_clustering_n_iterations=400, matching_alpha=0.3, rt_clustering_burnin=0, rt_clustering_nsamps=100, t=0.0, within_file_mass_tol=5, within_file_rt_tol=30\n"
     ]
    }
   ],
   "source": [
    "hp = AlignmentHyperPars()    \n",
    "hp.within_file_mass_tol = 5\n",
    "hp.within_file_rt_tol = 30\n",
    "hp.across_file_mass_tol = 10\n",
    "hp.across_file_rt_tol = 60\n",
    "hp.alpha_mass = 1.0\n",
    "hp.dp_alpha = 1000.0\n",
    "hp.beta = 0.1\n",
    "hp.t = 0.0\n",
    "hp.mass_clustering_n_iterations = 400\n",
    "hp.rt_clustering_nsamps = 100\n",
    "hp.rt_clustering_burnin = 0\n",
    "\n",
    "print hp"
   ]
  },
  {
   "cell_type": "code",
   "execution_count": 18,
   "metadata": {
    "collapsed": true
   },
   "outputs": [],
   "source": [
    "evaluation_method = 2\n",
    "n_iter = 1"
   ]
  },
  {
   "cell_type": "code",
   "execution_count": 19,
   "metadata": {
    "collapsed": false
   },
   "outputs": [],
   "source": [
    "param_list = []\n",
    "for mass_tol in range(2, 11, 2):\n",
    "    for rt_tol in range(5, 61, 5):\n",
    "        param_list.append((mass_tol, rt_tol))"
   ]
  },
  {
   "cell_type": "code",
   "execution_count": 20,
   "metadata": {
    "collapsed": true
   },
   "outputs": [],
   "source": [
    "param_list_mwg = []\n",
    "for mass_tol in range(2, 11, 2):\n",
    "    for rt_tol in range(5, 61, 5):\n",
    "        for group_tol in range(2, 11, 2):\n",
    "            for alpha in range(0, 11, 2):\n",
    "                param_list_mwg.append((mass_tol, rt_tol, group_tol, alpha/10.0))"
   ]
  },
  {
   "cell_type": "markdown",
   "metadata": {},
   "source": [
    "<h2>Create the first-stage clustering for all input files -- Gibbs, mh_biggest=True</h2>"
   ]
  },
  {
   "cell_type": "code",
   "execution_count": 21,
   "metadata": {
    "collapsed": false,
    "scrolled": true
   },
   "outputs": [
    {
     "name": "stdout",
     "output_type": "stream",
     "text": [
      "6733 features read from beer1-file1.csv\n",
      "7586 features read from beer1-file2.csv\n",
      "6823 features read from beer1-file3.csv\n"
     ]
    },
    {
     "name": "stderr",
     "output_type": "stream",
     "text": [
      "[Parallel(n_jobs=4)]: Done   1 out of   3 | elapsed:  5.1min remaining: 10.1min\n",
      "[Parallel(n_jobs=4)]: Done   2 out of   3 | elapsed:  5.8min remaining:  2.9min\n",
      "[Parallel(n_jobs=4)]: Done   3 out of   3 | elapsed:  5.8min finished\n"
     ]
    },
    {
     "name": "stdout",
     "output_type": "stream",
     "text": [
      "Saved to pickles/beer1pos/beer1_pos_clustering.p\n",
      "Created 6733 clusters\n",
      "Created 7586 clusters\n",
      "Created 6823 clusters\n",
      "Binning with mh_biggest = True\n",
      "Binning with mh_biggest = True\n",
      "Binning with mh_biggest = True\n",
      "Assigning possible transformations 0/6733\n",
      "Assigning possible transformations 0/7586\n",
      "Assigning possible transformations 0/6823\n",
      "Assigning possible transformations 500/6733\n",
      "Assigning possible transformations 500/7586\n",
      "Assigning possible transformations 500/6823\n",
      "Assigning possible transformations 1000/6733\n",
      "Assigning possible transformations 1000/7586\n",
      "Assigning possible transformations 1000/6823\n",
      "Assigning possible transformations 1500/6733\n",
      "Assigning possible transformations 1500/7586\n",
      "Assigning possible transformations 1500/6823\n",
      "Assigning possible transformations 2000/6733\n",
      "Assigning possible transformations 2000/7586\n",
      "Assigning possible transformations 2000/6823\n",
      "Assigning possible transformations 2500/6733\n",
      "Assigning possible transformations 2500/7586\n",
      "Assigning possible transformations 2500/6823\n",
      "Assigning possible transformations 3000/6733\n",
      "Assigning possible transformations 3000/7586\n",
      "Assigning possible transformations 3000/6823\n",
      "Assigning possible transformations 3500/6733\n",
      "Assigning possible transformations 3500/7586\n",
      "Assigning possible transformations 3500/6823\n",
      "Assigning possible transformations 4000/6733\n",
      "Assigning possible transformations 4000/7586\n",
      "Assigning possible transformations 4000/6823\n",
      "Assigning possible transformations 4500/6733\n",
      "Assigning possible transformations 4500/7586\n",
      "Assigning possible transformations 4500/6823\n",
      "Assigning possible transformations 5000/6733\n",
      "Assigning possible transformations 5000/7586\n",
      "Assigning possible transformations 5000/6823\n",
      "Assigning possible transformations 5500/6733\n",
      "Assigning possible transformations 5500/7586\n",
      "Assigning possible transformations 5500/6823\n",
      "Assigning possible transformations 6000/6733\n",
      "Assigning possible transformations 6000/7586\n",
      "Assigning possible transformations 6000/6823\n",
      "Assigning possible transformations 6500/6733\n",
      "Assigning possible transformations 6500/7586\n",
      "Assigning possible transformations 6500/6823\n",
      "2615 peaks to be re-sampled in stage 1\n",
      "Assigning possible transformations 7000/7586\n",
      "2710 peaks to be re-sampled in stage 1\n",
      "Assigning possible transformations 7500/7586\n",
      "3059 peaks to be re-sampled in stage 1\n"
     ]
    }
   ],
   "source": [
    "combined_list = load_or_create_clustering('pickles/beer1pos/beer1_pos_clustering.p', input_dir, transformation_file, hp)"
   ]
  },
  {
   "cell_type": "markdown",
   "metadata": {},
   "source": [
    "<h2>Run experiment with beer1pos</h2>"
   ]
  },
  {
   "cell_type": "code",
   "execution_count": 22,
   "metadata": {
    "collapsed": false
   },
   "outputs": [],
   "source": [
    "n_files = 3"
   ]
  },
  {
   "cell_type": "code",
   "execution_count": 23,
   "metadata": {
    "collapsed": false
   },
   "outputs": [
    {
     "name": "stdout",
     "output_type": "stream",
     "text": [
      "['beer1-file3.csv', 'beer1-file1.csv', 'beer1-file2.csv']\n",
      "Saved to pickles/beer1pos/training_list.p\n"
     ]
    }
   ],
   "source": [
    "training_list = load_or_create_filelist('pickles/beer1pos/training_list.p', combined_list, n_iter, n_files)"
   ]
  },
  {
   "cell_type": "code",
   "execution_count": 24,
   "metadata": {
    "collapsed": false
   },
   "outputs": [
    {
     "name": "stdout",
     "output_type": "stream",
     "text": [
      "['beer1-file1.csv', 'beer1-file2.csv', 'beer1-file3.csv']\n",
      "Saved to pickles/beer1pos/testing_list.p\n"
     ]
    }
   ],
   "source": [
    "testing_list = load_or_create_filelist('pickles/beer1pos/testing_list.p', combined_list, n_iter, n_files)"
   ]
  },
  {
   "cell_type": "code",
   "execution_count": 27,
   "metadata": {
    "collapsed": false,
    "scrolled": true
   },
   "outputs": [
    {
     "name": "stdout",
     "output_type": "stream",
     "text": [
      "Iteration 0\n",
      "Training on ['beer1-file3.csv', 'beer1-file1.csv', 'beer1-file2.csv']\n",
      "mass_tol=2, rt_tol=5, tp=233, fp=20, fn=44, prec=0.921, rec=0.841, f1=0.879, th_prob=1.000\n",
      "mass_tol=2, rt_tol=10, tp=251, fp=23, fn=26, prec=0.916, rec=0.906, f1=0.911, th_prob=1.000\n",
      "mass_tol=2, rt_tol=15, tp=258, fp=26, fn=19, prec=0.908, rec=0.931, f1=0.920, th_prob=1.000\n"
     ]
    },
    {
     "ename": "KeyboardInterrupt",
     "evalue": "",
     "output_type": "error",
     "traceback": [
      "\u001b[1;31m---------------------------------------------------------------------------\u001b[0m",
      "\u001b[1;31mKeyboardInterrupt\u001b[0m                         Traceback (most recent call last)",
      "\u001b[1;32m<ipython-input-27-6a4b3bd94544>\u001b[0m in \u001b[0;36m<module>\u001b[1;34m()\u001b[0m\n\u001b[1;32m----> 1\u001b[1;33m \u001b[0mexp_results_1a\u001b[0m \u001b[1;33m=\u001b[0m \u001b[0mrun_experiment\u001b[0m\u001b[1;33m(\u001b[0m\u001b[1;36m0\u001b[0m\u001b[1;33m,\u001b[0m \u001b[0mtraining_list\u001b[0m\u001b[1;33m,\u001b[0m \u001b[0mtesting_list\u001b[0m\u001b[1;33m,\u001b[0m \u001b[0mparam_list\u001b[0m\u001b[1;33m,\u001b[0m \u001b[1;34m'pickles/beer1pos/res_match_feature.p'\u001b[0m\u001b[1;33m,\u001b[0m \u001b[0mhp\u001b[0m\u001b[1;33m,\u001b[0m \u001b[0mevaluation_method\u001b[0m\u001b[1;33m,\u001b[0m \u001b[0mtransformation_file\u001b[0m\u001b[1;33m,\u001b[0m \u001b[0mgt_file\u001b[0m\u001b[1;33m)\u001b[0m\u001b[1;33m\u001b[0m\u001b[0m\n\u001b[0m",
      "\u001b[1;32m/home/joewandy/git/metabolomics_tools/alignment/experiment.pyc\u001b[0m in \u001b[0;36mrun_experiment\u001b[1;34m(match_mode, training_list, testing_list, param_list, filename, hp, evaluation_method, transformation_file, gt_file)\u001b[0m\n\u001b[0;32m    152\u001b[0m             \u001b[1;32mreturn\u001b[0m \u001b[0mexp_results\u001b[0m\u001b[1;33m\u001b[0m\u001b[0m\n\u001b[0;32m    153\u001b[0m     \u001b[1;32mexcept\u001b[0m \u001b[1;33m(\u001b[0m\u001b[0mIOError\u001b[0m\u001b[1;33m,\u001b[0m \u001b[0mEOFError\u001b[0m\u001b[1;33m)\u001b[0m\u001b[1;33m:\u001b[0m\u001b[1;33m\u001b[0m\u001b[0m\n\u001b[1;32m--> 154\u001b[1;33m         \u001b[0mexp_results\u001b[0m \u001b[1;33m=\u001b[0m \u001b[0mtrain_test\u001b[0m\u001b[1;33m(\u001b[0m\u001b[0mmatch_mode\u001b[0m\u001b[1;33m,\u001b[0m \u001b[0mtraining_list\u001b[0m\u001b[1;33m,\u001b[0m \u001b[0mtesting_list\u001b[0m\u001b[1;33m,\u001b[0m \u001b[0mparam_list\u001b[0m\u001b[1;33m,\u001b[0m \u001b[0mhp\u001b[0m\u001b[1;33m,\u001b[0m \u001b[0mevaluation_method\u001b[0m\u001b[1;33m,\u001b[0m \u001b[0mtransformation_file\u001b[0m\u001b[1;33m,\u001b[0m \u001b[0mgt_file\u001b[0m\u001b[1;33m)\u001b[0m\u001b[1;33m\u001b[0m\u001b[0m\n\u001b[0m\u001b[0;32m    155\u001b[0m         \u001b[1;32mwith\u001b[0m \u001b[0mgzip\u001b[0m\u001b[1;33m.\u001b[0m\u001b[0mGzipFile\u001b[0m\u001b[1;33m(\u001b[0m\u001b[0mfilename\u001b[0m\u001b[1;33m,\u001b[0m \u001b[1;34m'wb'\u001b[0m\u001b[1;33m)\u001b[0m \u001b[1;32mas\u001b[0m \u001b[0mf\u001b[0m\u001b[1;33m:\u001b[0m\u001b[1;33m\u001b[0m\u001b[0m\n\u001b[0;32m    156\u001b[0m             \u001b[0mcPickle\u001b[0m\u001b[1;33m.\u001b[0m\u001b[0mdump\u001b[0m\u001b[1;33m(\u001b[0m\u001b[0mexp_results\u001b[0m\u001b[1;33m,\u001b[0m \u001b[0mf\u001b[0m\u001b[1;33m,\u001b[0m \u001b[0mprotocol\u001b[0m\u001b[1;33m=\u001b[0m\u001b[0mcPickle\u001b[0m\u001b[1;33m.\u001b[0m\u001b[0mHIGHEST_PROTOCOL\u001b[0m\u001b[1;33m)\u001b[0m\u001b[1;33m\u001b[0m\u001b[0m\n",
      "\u001b[1;32m/home/joewandy/git/metabolomics_tools/alignment/experiment.pyc\u001b[0m in \u001b[0;36mtrain_test\u001b[1;34m(match_mode, training_list, testing_list, param_list, hp, evaluation_method, transformation_file, gt_file)\u001b[0m\n\u001b[0;32m    124\u001b[0m         \u001b[0mtraining_data\u001b[0m \u001b[1;33m=\u001b[0m \u001b[0mtraining_list\u001b[0m\u001b[1;33m[\u001b[0m\u001b[0mi\u001b[0m\u001b[1;33m]\u001b[0m\u001b[1;33m\u001b[0m\u001b[0m\n\u001b[0;32m    125\u001b[0m         \u001b[0mtesting_data\u001b[0m \u001b[1;33m=\u001b[0m \u001b[0mtesting_list\u001b[0m\u001b[1;33m[\u001b[0m\u001b[0mi\u001b[0m\u001b[1;33m]\u001b[0m\u001b[1;33m\u001b[0m\u001b[0m\n\u001b[1;32m--> 126\u001b[1;33m         \u001b[0mitem\u001b[0m \u001b[1;33m=\u001b[0m \u001b[0mtrain_test_single\u001b[0m\u001b[1;33m(\u001b[0m\u001b[0mmatch_mode\u001b[0m\u001b[1;33m,\u001b[0m \u001b[0mtraining_data\u001b[0m\u001b[1;33m,\u001b[0m \u001b[0mtesting_data\u001b[0m\u001b[1;33m,\u001b[0m \u001b[0mi\u001b[0m\u001b[1;33m,\u001b[0m \u001b[0mparam_list\u001b[0m\u001b[1;33m,\u001b[0m \u001b[0mhp\u001b[0m\u001b[1;33m,\u001b[0m \u001b[0mevaluation_method\u001b[0m\u001b[1;33m,\u001b[0m \u001b[0mtransformation_file\u001b[0m\u001b[1;33m,\u001b[0m \u001b[0mgt_file\u001b[0m\u001b[1;33m)\u001b[0m\u001b[1;33m\u001b[0m\u001b[0m\n\u001b[0m\u001b[0;32m    127\u001b[0m         \u001b[0mexp_results\u001b[0m\u001b[1;33m.\u001b[0m\u001b[0mappend\u001b[0m\u001b[1;33m(\u001b[0m\u001b[0mitem\u001b[0m\u001b[1;33m)\u001b[0m\u001b[1;33m\u001b[0m\u001b[0m\n\u001b[0;32m    128\u001b[0m         \u001b[1;32mprint\u001b[0m\u001b[1;33m\u001b[0m\u001b[0m\n",
      "\u001b[1;32m/home/joewandy/git/metabolomics_tools/alignment/experiment.pyc\u001b[0m in \u001b[0;36mtrain_test_single\u001b[1;34m(match_mode, training_data, testing_data, i, param_list, hp, evaluation_method, transformation_file, gt_file)\u001b[0m\n\u001b[0;32m    103\u001b[0m     \u001b[1;32mprint\u001b[0m \u001b[1;34m\"Iteration %d\"\u001b[0m \u001b[1;33m%\u001b[0m \u001b[0mi\u001b[0m\u001b[1;33m\u001b[0m\u001b[0m\n\u001b[0;32m    104\u001b[0m     \u001b[1;32mprint\u001b[0m \u001b[1;34m\"Training on %s\"\u001b[0m \u001b[1;33m%\u001b[0m \u001b[1;33m[\u001b[0m\u001b[0mx\u001b[0m\u001b[1;33m[\u001b[0m\u001b[1;36m0\u001b[0m\u001b[1;33m]\u001b[0m\u001b[1;33m.\u001b[0m\u001b[0mfilename\u001b[0m \u001b[1;32mfor\u001b[0m \u001b[0mx\u001b[0m \u001b[1;32min\u001b[0m \u001b[0mtraining_data\u001b[0m\u001b[1;33m]\u001b[0m\u001b[1;33m\u001b[0m\u001b[0m\n\u001b[1;32m--> 105\u001b[1;33m     \u001b[0mtraining_df\u001b[0m\u001b[1;33m,\u001b[0m \u001b[0mbest_training_row\u001b[0m \u001b[1;33m=\u001b[0m \u001b[0mtrain\u001b[0m\u001b[1;33m(\u001b[0m\u001b[0mtraining_data\u001b[0m\u001b[1;33m,\u001b[0m \u001b[0mparam_list\u001b[0m\u001b[1;33m,\u001b[0m \u001b[0mhp\u001b[0m\u001b[1;33m,\u001b[0m \u001b[0mmatch_mode\u001b[0m\u001b[1;33m,\u001b[0m \u001b[0mevaluation_method\u001b[0m\u001b[1;33m,\u001b[0m \u001b[0mtransformation_file\u001b[0m\u001b[1;33m,\u001b[0m \u001b[0mgt_file\u001b[0m\u001b[1;33m)\u001b[0m\u001b[1;33m\u001b[0m\u001b[0m\n\u001b[0m\u001b[0;32m    106\u001b[0m     \u001b[1;32mprint\u001b[0m \u001b[1;34m\"Best row is\\n%s\"\u001b[0m \u001b[1;33m%\u001b[0m \u001b[0mbest_training_row\u001b[0m\u001b[1;33m\u001b[0m\u001b[0m\n\u001b[0;32m    107\u001b[0m \u001b[1;33m\u001b[0m\u001b[0m\n",
      "\u001b[1;32m/home/joewandy/git/metabolomics_tools/alignment/experiment.pyc\u001b[0m in \u001b[0;36mtrain\u001b[1;34m(selected_data, param_list, hp, match_mode, evaluation_method, transformation_file, gt_file)\u001b[0m\n\u001b[0;32m     56\u001b[0m         aligner = Aligner(selected_files, None, transformation_file, \n\u001b[0;32m     57\u001b[0m                                hp, verbose=False, seed=1234567890)\n\u001b[1;32m---> 58\u001b[1;33m         \u001b[0maligner\u001b[0m\u001b[1;33m.\u001b[0m\u001b[0mrun\u001b[0m\u001b[1;33m(\u001b[0m\u001b[0mmatch_mode\u001b[0m\u001b[1;33m,\u001b[0m \u001b[0mfirst_stage_clustering_results\u001b[0m\u001b[1;33m=\u001b[0m\u001b[0mselected_clusterings\u001b[0m\u001b[1;33m)\u001b[0m\u001b[1;33m\u001b[0m\u001b[0m\n\u001b[0m\u001b[0;32m     59\u001b[0m \u001b[1;33m\u001b[0m\u001b[0m\n\u001b[0;32m     60\u001b[0m         \u001b[0mres\u001b[0m \u001b[1;33m=\u001b[0m \u001b[0maligner\u001b[0m\u001b[1;33m.\u001b[0m\u001b[0mevaluate_performance\u001b[0m\u001b[1;33m(\u001b[0m\u001b[0mgt_file\u001b[0m\u001b[1;33m,\u001b[0m \u001b[0mverbose\u001b[0m\u001b[1;33m=\u001b[0m\u001b[0mFalse\u001b[0m\u001b[1;33m,\u001b[0m \u001b[0mprint_TP\u001b[0m\u001b[1;33m=\u001b[0m\u001b[0mTrue\u001b[0m\u001b[1;33m,\u001b[0m \u001b[0mmethod\u001b[0m\u001b[1;33m=\u001b[0m\u001b[0mevaluation_method\u001b[0m\u001b[1;33m)\u001b[0m\u001b[1;33m\u001b[0m\u001b[0m\n",
      "\u001b[1;32m/home/joewandy/git/metabolomics_tools/alignment/shared_bin_matching.pyc\u001b[0m in \u001b[0;36mrun\u001b[1;34m(self, match_mode, first_stage_clustering_results)\u001b[0m\n\u001b[0;32m     76\u001b[0m             \u001b[1;32mif\u001b[0m \u001b[0mmatch_mode\u001b[0m \u001b[1;33m==\u001b[0m \u001b[1;36m3\u001b[0m\u001b[1;33m:\u001b[0m\u001b[1;33m\u001b[0m\u001b[0m\n\u001b[0;32m     77\u001b[0m                 \u001b[0muse_group\u001b[0m \u001b[1;33m=\u001b[0m \u001b[0mTrue\u001b[0m\u001b[1;33m\u001b[0m\u001b[0m\n\u001b[1;32m---> 78\u001b[1;33m             \u001b[0malignment_results\u001b[0m \u001b[1;33m=\u001b[0m \u001b[0mself\u001b[0m\u001b[1;33m.\u001b[0m\u001b[0m_match_peak_features\u001b[0m\u001b[1;33m(\u001b[0m\u001b[0mfile_data\u001b[0m\u001b[1;33m,\u001b[0m \u001b[0muse_group\u001b[0m\u001b[1;33m)\u001b[0m\u001b[1;33m\u001b[0m\u001b[0m\n\u001b[0m\u001b[0;32m     79\u001b[0m \u001b[1;33m\u001b[0m\u001b[0m\n\u001b[0;32m     80\u001b[0m         \u001b[1;32melif\u001b[0m \u001b[0mmatch_mode\u001b[0m \u001b[1;33m==\u001b[0m \u001b[1;36m1\u001b[0m\u001b[1;33m:\u001b[0m \u001b[1;31m# matching based on the MAP of precursor clustering\u001b[0m\u001b[1;33m\u001b[0m\u001b[0m\n",
      "\u001b[1;32m/home/joewandy/git/metabolomics_tools/alignment/shared_bin_matching.pyc\u001b[0m in \u001b[0;36m_match_peak_features\u001b[1;34m(self, file_data, use_group)\u001b[0m\n\u001b[0;32m    407\u001b[0m             \u001b[0malignment_file\u001b[0m\u001b[1;33m.\u001b[0m\u001b[0mreset_aligned_status\u001b[0m\u001b[1;33m(\u001b[0m\u001b[1;33m)\u001b[0m\u001b[1;33m\u001b[0m\u001b[0m\n\u001b[0;32m    408\u001b[0m             \u001b[0mmatcher\u001b[0m \u001b[1;33m=\u001b[0m \u001b[0mMaxWeightedMatching\u001b[0m\u001b[1;33m(\u001b[0m\u001b[0mmatched_results\u001b[0m\u001b[1;33m,\u001b[0m \u001b[0malignment_file\u001b[0m\u001b[1;33m,\u001b[0m \u001b[0mmy_options\u001b[0m\u001b[1;33m)\u001b[0m\u001b[1;33m\u001b[0m\u001b[0m\n\u001b[1;32m--> 409\u001b[1;33m             \u001b[0mmatched_results\u001b[0m \u001b[1;33m=\u001b[0m \u001b[0mmatcher\u001b[0m\u001b[1;33m.\u001b[0m\u001b[0mdo_matching\u001b[0m\u001b[1;33m(\u001b[0m\u001b[1;33m)\u001b[0m\u001b[1;33m\u001b[0m\u001b[0m\n\u001b[0m\u001b[0;32m    410\u001b[0m             \u001b[0moutput_count\u001b[0m \u001b[1;33m+=\u001b[0m \u001b[0mlen\u001b[0m\u001b[1;33m(\u001b[0m\u001b[0mmatched_results\u001b[0m\u001b[1;33m.\u001b[0m\u001b[0mget_all_features\u001b[0m\u001b[1;33m(\u001b[0m\u001b[1;33m)\u001b[0m\u001b[1;33m)\u001b[0m\u001b[1;33m\u001b[0m\u001b[0m\n\u001b[0;32m    411\u001b[0m             \u001b[1;32massert\u001b[0m \u001b[0minput_count\u001b[0m \u001b[1;33m==\u001b[0m \u001b[0moutput_count\u001b[0m\u001b[1;33m,\u001b[0m \u001b[1;34m\"input %d output %d\"\u001b[0m \u001b[1;33m%\u001b[0m \u001b[1;33m(\u001b[0m\u001b[0minput_count\u001b[0m\u001b[1;33m,\u001b[0m \u001b[0moutput_count\u001b[0m\u001b[1;33m)\u001b[0m\u001b[1;33m\u001b[0m\u001b[0m\n",
      "\u001b[1;32m/home/joewandy/git/metabolomics_tools/alignment/matching.pyc\u001b[0m in \u001b[0;36mdo_matching\u001b[1;34m(self)\u001b[0m\n\u001b[0;32m     77\u001b[0m                 \u001b[0mmate\u001b[0m \u001b[1;33m=\u001b[0m \u001b[0mself\u001b[0m\u001b[1;33m.\u001b[0m\u001b[0mhungarian_matching\u001b[0m\u001b[1;33m(\u001b[0m\u001b[0mself\u001b[0m\u001b[1;33m.\u001b[0m\u001b[0mmen\u001b[0m\u001b[1;33m,\u001b[0m \u001b[0mself\u001b[0m\u001b[1;33m.\u001b[0m\u001b[0mwomen\u001b[0m\u001b[1;33m,\u001b[0m \u001b[0mscore_arr\u001b[0m\u001b[1;33m)\u001b[0m\u001b[1;33m\u001b[0m\u001b[0m\n\u001b[0;32m     78\u001b[0m             \u001b[1;32melse\u001b[0m\u001b[1;33m:\u001b[0m\u001b[1;33m\u001b[0m\u001b[0m\n\u001b[1;32m---> 79\u001b[1;33m                 \u001b[0mmate\u001b[0m \u001b[1;33m=\u001b[0m \u001b[0mself\u001b[0m\u001b[1;33m.\u001b[0m\u001b[0mapproximate_matching_pq\u001b[0m\u001b[1;33m(\u001b[0m\u001b[0mself\u001b[0m\u001b[1;33m.\u001b[0m\u001b[0mmen\u001b[0m\u001b[1;33m,\u001b[0m \u001b[0mself\u001b[0m\u001b[1;33m.\u001b[0m\u001b[0mwomen\u001b[0m\u001b[1;33m,\u001b[0m \u001b[0mscore_arr\u001b[0m\u001b[1;33m)\u001b[0m\u001b[1;33m\u001b[0m\u001b[0m\n\u001b[0m\u001b[0;32m     80\u001b[0m             \u001b[1;32mif\u001b[0m \u001b[0mself\u001b[0m\u001b[1;33m.\u001b[0m\u001b[0mverbose\u001b[0m\u001b[1;33m:\u001b[0m\u001b[1;33m\u001b[0m\u001b[0m\n\u001b[0;32m     81\u001b[0m                 \u001b[1;32mprint\u001b[0m\u001b[1;33m\u001b[0m\u001b[0m\n",
      "\u001b[1;32m/home/joewandy/git/metabolomics_tools/alignment/matching.pyc\u001b[0m in \u001b[0;36mapproximate_matching_pq\u001b[1;34m(self, men, women, score_arr)\u001b[0m\n\u001b[0;32m    316\u001b[0m                 \u001b[0mmate\u001b[0m\u001b[1;33m[\u001b[0m\u001b[0mman\u001b[0m\u001b[1;33m]\u001b[0m \u001b[1;33m=\u001b[0m \u001b[0mwoman\u001b[0m\u001b[1;33m\u001b[0m\u001b[0m\n\u001b[0;32m    317\u001b[0m                 \u001b[0mscore_arr\u001b[0m\u001b[1;33m[\u001b[0m\u001b[0mi\u001b[0m\u001b[1;33m,\u001b[0m \u001b[1;33m:\u001b[0m\u001b[1;33m]\u001b[0m \u001b[1;33m=\u001b[0m \u001b[1;36m0\u001b[0m\u001b[1;33m\u001b[0m\u001b[0m\n\u001b[1;32m--> 318\u001b[1;33m                 \u001b[0mscore_arr\u001b[0m\u001b[1;33m[\u001b[0m\u001b[1;33m:\u001b[0m\u001b[1;33m,\u001b[0m \u001b[0mj\u001b[0m\u001b[1;33m]\u001b[0m \u001b[1;33m=\u001b[0m \u001b[1;36m0\u001b[0m\u001b[1;33m\u001b[0m\u001b[0m\n\u001b[0m\u001b[0;32m    319\u001b[0m \u001b[1;33m\u001b[0m\u001b[0m\n\u001b[0;32m    320\u001b[0m         \u001b[1;32mreturn\u001b[0m \u001b[0mmate\u001b[0m\u001b[1;33m\u001b[0m\u001b[0m\n",
      "\u001b[1;32m/home/joewandy/anaconda/lib/python2.7/site-packages/scipy/sparse/lil.pyc\u001b[0m in \u001b[0;36m__setitem__\u001b[1;34m(self, index, x)\u001b[0m\n\u001b[0;32m    311\u001b[0m         _csparsetools.lil_fancy_set(self.shape[0], self.shape[1],\n\u001b[0;32m    312\u001b[0m                                     \u001b[0mself\u001b[0m\u001b[1;33m.\u001b[0m\u001b[0mrows\u001b[0m\u001b[1;33m,\u001b[0m \u001b[0mself\u001b[0m\u001b[1;33m.\u001b[0m\u001b[0mdata\u001b[0m\u001b[1;33m,\u001b[0m\u001b[1;33m\u001b[0m\u001b[0m\n\u001b[1;32m--> 313\u001b[1;33m                                     i, j, x)\n\u001b[0m\u001b[0;32m    314\u001b[0m \u001b[1;33m\u001b[0m\u001b[0m\n\u001b[0;32m    315\u001b[0m     \u001b[1;32mdef\u001b[0m \u001b[0m_mul_scalar\u001b[0m\u001b[1;33m(\u001b[0m\u001b[0mself\u001b[0m\u001b[1;33m,\u001b[0m \u001b[0mother\u001b[0m\u001b[1;33m)\u001b[0m\u001b[1;33m:\u001b[0m\u001b[1;33m\u001b[0m\u001b[0m\n",
      "\u001b[1;31mKeyboardInterrupt\u001b[0m: "
     ]
    }
   ],
   "source": [
    "exp_results_1a = run_experiment(0, training_list, testing_list, param_list, 'pickles/beer1pos/res_match_feature.p', hp, evaluation_method, transformation_file, gt_file)"
   ]
  },
  {
   "cell_type": "code",
   "execution_count": null,
   "metadata": {
    "collapsed": false,
    "scrolled": true
   },
   "outputs": [],
   "source": [
    "exp_results_1b = run_experiment(1, training_list, testing_list, param_list, 'pickles/beer1pos/res_match_cluster.p', hp, evaluation_method, transformation_file, gt_file)"
   ]
  },
  {
   "cell_type": "code",
   "execution_count": null,
   "metadata": {
    "collapsed": false
   },
   "outputs": [],
   "source": [
    "exp_results_1c = run_experiment(3, training_list, testing_list, param_list, 'pickles/beer1pos/res_mwg.p', hp, evaluation_method, transformation_file, gt_file)"
   ]
  },
  {
   "cell_type": "markdown",
   "metadata": {},
   "source": [
    "<h2>Plotting</h2>"
   ]
  },
  {
   "cell_type": "code",
   "execution_count": null,
   "metadata": {
    "collapsed": false
   },
   "outputs": [],
   "source": [
    "def plot_density(exp_res, title):\n",
    "    training_dfs = []\n",
    "    for item in exp_res:\n",
    "        training_data, training_df, best_training_row, match_res = item\n",
    "        training_dfs.append(training_df)\n",
    "    combined = pd.concat(training_dfs, axis=0)\n",
    "    combined = combined.reset_index(drop=True)\n",
    "#     f, ax = plt.subplots(figsize=(6, 6))    \n",
    "#     sns.kdeplot(combined.Rec, combined.Prec, ax=ax)\n",
    "#     sns.rugplot(combined.Rec, ax=ax)\n",
    "#     sns.rugplot(combined.Prec, vertical=True, ax=ax)    \n",
    "#     ax.set_xlim([0.7, 1.0])\n",
    "#     ax.set_ylim([0.7, 1.0])\n",
    "    g = sns.JointGrid(x=\"Rec\", y=\"Prec\", data=combined, xlim=(0.7, 1.0), ylim=(0.7, 1.0))\n",
    "    g = g.plot_joint(sns.kdeplot)\n",
    "    g = g.plot_marginals(sns.kdeplot, shade=True)\n",
    "    ax = g.ax_joint\n",
    "    ax.set_xlabel('Rec')\n",
    "    ax.set_ylabel('Prec')\n",
    "    ax = g.ax_marg_x\n",
    "    ax.set_title(title)    "
   ]
  },
  {
   "cell_type": "code",
   "execution_count": null,
   "metadata": {
    "collapsed": false
   },
   "outputs": [],
   "source": [
    "plot_density(exp_results_1a, 'Feature matching')\n",
    "plot_density(exp_results_1b, 'Cluster matching')"
   ]
  }
 ],
 "metadata": {
  "kernelspec": {
   "display_name": "Python 2",
   "language": "python",
   "name": "python2"
  },
  "language_info": {
   "codemirror_mode": {
    "name": "ipython",
    "version": 2
   },
   "file_extension": ".py",
   "mimetype": "text/x-python",
   "name": "python",
   "nbconvert_exporter": "python",
   "pygments_lexer": "ipython2",
   "version": "2.7.11"
  }
 },
 "nbformat": 4,
 "nbformat_minor": 0
}
