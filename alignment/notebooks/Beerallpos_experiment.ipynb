{
 "cells": [
  {
   "cell_type": "markdown",
   "metadata": {},
   "source": [
    "<h1>Experiment with beerallpos</h1>"
   ]
  },
  {
   "cell_type": "code",
   "execution_count": 1,
   "metadata": {
    "collapsed": false
   },
   "outputs": [],
   "source": [
    "%load_ext autoreload\n",
    "%autoreload 2\n",
    "%matplotlib inline"
   ]
  },
  {
   "cell_type": "code",
   "execution_count": 2,
   "metadata": {
    "collapsed": true
   },
   "outputs": [],
   "source": [
    "import os\n",
    "import sys\n",
    "basedir = '/home/joewandy/git/metabolomics_tools'\n",
    "sys.path.append(basedir)"
   ]
  },
  {
   "cell_type": "code",
   "execution_count": 3,
   "metadata": {
    "collapsed": false
   },
   "outputs": [],
   "source": [
    "import numpy as np\n",
    "import pylab as plt\n",
    "import pandas as pd\n",
    "import seaborn as sns\n",
    "sns.set(color_codes=True)\n",
    "from IPython.display import display, HTML\n",
    "\n",
    "import cPickle\n",
    "import random\n",
    "import copy\n",
    "import glob\n",
    "import gzip"
   ]
  },
  {
   "cell_type": "code",
   "execution_count": 4,
   "metadata": {
    "collapsed": false
   },
   "outputs": [],
   "source": [
    "from alignment.models import HyperPars as AlignmentHyperPars\n",
    "from alignment.experiment import *"
   ]
  },
  {
   "cell_type": "markdown",
   "metadata": {},
   "source": [
    "<h2>Experiment Parameters</h2>"
   ]
  },
  {
   "cell_type": "markdown",
   "metadata": {},
   "source": [
    "Set up all the experiment parameters"
   ]
  },
  {
   "cell_type": "code",
   "execution_count": 5,
   "metadata": {
    "collapsed": true
   },
   "outputs": [],
   "source": [
    "input_dir = '/home/joewandy/git/metabolomics_tools/alignment/input/beerallpos'\n",
    "transformation_file = '/home/joewandy/git/metabolomics_tools/alignment/pos_transformations_full.yml'\n",
    "gt_file = '/home/joewandy/git/metabolomics_tools/alignment/input/beerallpos/ground_truth/beerall.positive.dat'"
   ]
  },
  {
   "cell_type": "code",
   "execution_count": 6,
   "metadata": {
    "collapsed": false
   },
   "outputs": [
    {
     "name": "stdout",
     "output_type": "stream",
     "text": [
      "Hyperparameters across_file_mass_tol=10, across_file_rt_tol=60, alpha_mass=1, beta=0.1, dp_alpha=1000.0, mass_clustering_n_iterations=400, matching_alpha=0.3, rt_clustering_burnin=0, rt_clustering_nsamps=100, t=0.0, within_file_mass_tol=3, within_file_rt_tol=10\n"
     ]
    }
   ],
   "source": [
    "hp = AlignmentHyperPars()    \n",
    "hp.within_file_mass_tol = 3\n",
    "hp.within_file_rt_tol = 10\n",
    "hp.across_file_mass_tol = 10\n",
    "hp.across_file_rt_tol = 60\n",
    "hp.alpha_mass = 1\n",
    "hp.dp_alpha = 1000.0\n",
    "hp.beta = 0.1\n",
    "hp.t = 0.0\n",
    "hp.mass_clustering_n_iterations = 400\n",
    "hp.rt_clustering_nsamps = 100\n",
    "hp.rt_clustering_burnin = 0\n",
    "\n",
    "print hp"
   ]
  },
  {
   "cell_type": "code",
   "execution_count": 7,
   "metadata": {
    "collapsed": true
   },
   "outputs": [],
   "source": [
    "evaluation_method = 2\n",
    "n_iter = 1"
   ]
  },
  {
   "cell_type": "code",
   "execution_count": 8,
   "metadata": {
    "collapsed": false
   },
   "outputs": [],
   "source": [
    "param_list = []\n",
    "for mass_tol in range(2, 7, 2):\n",
    "    for rt_tol in range(5, 31, 5):\n",
    "        param_list.append((mass_tol, rt_tol))"
   ]
  },
  {
   "cell_type": "code",
   "execution_count": 9,
   "metadata": {
    "collapsed": true
   },
   "outputs": [],
   "source": [
    "param_list_mwg = []\n",
    "for mass_tol in range(2, 7, 2):\n",
    "    for rt_tol in range(5, 31, 5):\n",
    "        for group_tol in range(2, 11, 2):\n",
    "            for alpha in range(0, 11, 2):\n",
    "                param_list_mwg.append((mass_tol, rt_tol, group_tol, alpha/10.0))"
   ]
  },
  {
   "cell_type": "markdown",
   "metadata": {},
   "source": [
    "<h2>Create the first-stage clustering for all input files -- Gibbs, mh_biggest=True</h2>"
   ]
  },
  {
   "cell_type": "code",
   "execution_count": 10,
   "metadata": {
    "collapsed": false,
    "scrolled": true
   },
   "outputs": [
    {
     "name": "stdout",
     "output_type": "stream",
     "text": [
      "6733 features read from beerall-file1.csv\n",
      "6997 features read from beerall-file2.csv\n",
      "7553 features read from beerall-file3.csv\n"
     ]
    },
    {
     "name": "stderr",
     "output_type": "stream",
     "text": [
      "[Parallel(n_jobs=4)]: Done   1 out of   3 | elapsed:  2.2min remaining:  4.4min\n",
      "[Parallel(n_jobs=4)]: Done   2 out of   3 | elapsed:  2.3min remaining:  1.2min\n",
      "[Parallel(n_jobs=4)]: Done   3 out of   3 | elapsed:  2.7min finished\n"
     ]
    },
    {
     "name": "stdout",
     "output_type": "stream",
     "text": [
      "Saved to pickles/beerallpos/clustering.p\n",
      "Created 6733 clusters\n",
      "Created 6997 clusters\n",
      "Created 7553 clusters\n",
      "Binning with mh_biggest = True\n",
      "Binning with mh_biggest = True\n",
      "Binning with mh_biggest = True\n",
      "Assigning possible transformations 0/6733\n",
      "Assigning possible transformations 0/6997\n",
      "Assigning possible transformations 0/7553\n",
      "Assigning possible transformations 500/6733\n",
      "Assigning possible transformations 500/6997\n",
      "Assigning possible transformations 500/7553\n",
      "Assigning possible transformations 1000/6733\n",
      "Assigning possible transformations 1000/6997\n",
      "Assigning possible transformations 1000/7553\n",
      "Assigning possible transformations 1500/6733\n",
      "Assigning possible transformations 1500/6997\n",
      "Assigning possible transformations 1500/7553\n",
      "Assigning possible transformations 2000/6733\n",
      "Assigning possible transformations 2000/6997\n",
      "Assigning possible transformations 2000/7553\n",
      "Assigning possible transformations 2500/6733\n",
      "Assigning possible transformations 2500/6997\n",
      "Assigning possible transformations 2500/7553\n",
      "Assigning possible transformations 3000/6733\n",
      "Assigning possible transformations 3000/6997\n",
      "Assigning possible transformations 3000/7553\n",
      "Assigning possible transformations 3500/6733\n",
      "Assigning possible transformations 3500/6997\n",
      "Assigning possible transformations 3500/7553\n",
      "Assigning possible transformations 4000/6733\n",
      "Assigning possible transformations 4000/6997\n",
      "Assigning possible transformations 4000/7553\n",
      "Assigning possible transformations 4500/6733\n",
      "Assigning possible transformations 4500/6997\n",
      "Assigning possible transformations 4500/7553\n",
      "Assigning possible transformations 5000/6733\n",
      "Assigning possible transformations 5000/6997\n",
      "Assigning possible transformations 5000/7553\n",
      "Assigning possible transformations 5500/6733\n",
      "Assigning possible transformations 5500/6997\n",
      "Assigning possible transformations 5500/7553\n",
      "Assigning possible transformations 6000/6733\n",
      "Assigning possible transformations 6000/6997\n",
      "Assigning possible transformations 6000/7553\n",
      "Assigning possible transformations 6500/6733\n",
      "Assigning possible transformations 6500/6997\n",
      "Assigning possible transformations 6500/7553\n",
      "1102 peaks to be re-sampled in stage 1\n",
      "1132 peaks to be re-sampled in stage 1\n",
      "Assigning possible transformations 7000/7553\n",
      "Assigning possible transformations 7500/7553\n",
      "1246 peaks to be re-sampled in stage 1\n"
     ]
    }
   ],
   "source": [
    "combined_list = load_or_create_clustering('pickles/beerallpos/clustering.p', input_dir, transformation_file, hp)"
   ]
  },
  {
   "cell_type": "markdown",
   "metadata": {},
   "source": [
    "<h2>Run experiment with beerallpos</h2>"
   ]
  },
  {
   "cell_type": "code",
   "execution_count": 11,
   "metadata": {
    "collapsed": false
   },
   "outputs": [],
   "source": [
    "n_files = 3"
   ]
  },
  {
   "cell_type": "code",
   "execution_count": 12,
   "metadata": {
    "collapsed": false
   },
   "outputs": [
    {
     "name": "stdout",
     "output_type": "stream",
     "text": [
      "['beerall-file3.csv', 'beerall-file1.csv', 'beerall-file2.csv']\n",
      "Saved to pickles/beerallpos/training_list.p\n"
     ]
    }
   ],
   "source": [
    "training_list = load_or_create_filelist('pickles/beerallpos/training_list.p', combined_list, n_iter, n_files)"
   ]
  },
  {
   "cell_type": "code",
   "execution_count": 13,
   "metadata": {
    "collapsed": false
   },
   "outputs": [
    {
     "name": "stdout",
     "output_type": "stream",
     "text": [
      "['beerall-file1.csv', 'beerall-file2.csv', 'beerall-file3.csv']\n",
      "Saved to pickles/beerallpos/testing_list.p\n"
     ]
    }
   ],
   "source": [
    "testing_list = load_or_create_filelist('pickles/beerallpos/testing_list.p', combined_list, n_iter, n_files)"
   ]
  },
  {
   "cell_type": "code",
   "execution_count": 14,
   "metadata": {
    "collapsed": false,
    "scrolled": true
   },
   "outputs": [
    {
     "name": "stdout",
     "output_type": "stream",
     "text": [
      "Iteration 0\n",
      "Training on ['beerall-file3.csv', 'beerall-file1.csv', 'beerall-file2.csv']\n",
      "mass_tol=2, rt_tol=5, tp=183, fp=34, fn=44, prec=0.843, rec=0.806, f1=0.824, th_prob=1.000\n",
      "mass_tol=2, rt_tol=10, tp=198, fp=36, fn=29, prec=0.846, rec=0.872, f1=0.859, th_prob=1.000\n",
      "mass_tol=2, rt_tol=15, tp=198, fp=37, fn=29, prec=0.843, rec=0.872, f1=0.857, th_prob=1.000\n",
      "mass_tol=2, rt_tol=20, tp=199, fp=39, fn=28, prec=0.836, rec=0.877, f1=0.856, th_prob=1.000\n",
      "mass_tol=2, rt_tol=25, tp=203, fp=39, fn=24, prec=0.839, rec=0.894, f1=0.866, th_prob=1.000\n",
      "mass_tol=2, rt_tol=30, tp=203, fp=39, fn=24, prec=0.839, rec=0.894, f1=0.866, th_prob=1.000\n",
      "mass_tol=4, rt_tol=5, tp=183, fp=34, fn=44, prec=0.843, rec=0.806, f1=0.824, th_prob=1.000\n",
      "mass_tol=4, rt_tol=10, tp=198, fp=36, fn=29, prec=0.846, rec=0.872, f1=0.859, th_prob=1.000\n",
      "mass_tol=4, rt_tol=15, tp=198, fp=37, fn=29, prec=0.843, rec=0.872, f1=0.857, th_prob=1.000\n",
      "mass_tol=4, rt_tol=20, tp=199, fp=39, fn=28, prec=0.836, rec=0.877, f1=0.856, th_prob=1.000\n",
      "mass_tol=4, rt_tol=25, tp=203, fp=39, fn=24, prec=0.839, rec=0.894, f1=0.866, th_prob=1.000\n",
      "mass_tol=4, rt_tol=30, tp=203, fp=39, fn=24, prec=0.839, rec=0.894, f1=0.866, th_prob=1.000\n",
      "mass_tol=6, rt_tol=5, tp=183, fp=34, fn=44, prec=0.843, rec=0.806, f1=0.824, th_prob=1.000\n",
      "mass_tol=6, rt_tol=10, tp=198, fp=36, fn=29, prec=0.846, rec=0.872, f1=0.859, th_prob=1.000\n",
      "mass_tol=6, rt_tol=15, tp=198, fp=37, fn=29, prec=0.843, rec=0.872, f1=0.857, th_prob=1.000\n",
      "mass_tol=6, rt_tol=20, tp=199, fp=39, fn=28, prec=0.836, rec=0.877, f1=0.856, th_prob=1.000\n",
      "mass_tol=6, rt_tol=25, tp=203, fp=41, fn=24, prec=0.832, rec=0.894, f1=0.862, th_prob=1.000\n",
      "mass_tol=6, rt_tol=30, tp=203, fp=41, fn=24, prec=0.832, rec=0.894, f1=0.862, th_prob=1.000\n",
      "Best row is\n",
      "mass_tol       2.000000\n",
      "rt_tol        25.000000\n",
      "TP           203.000000\n",
      "FP            39.000000\n",
      "FN            24.000000\n",
      "Prec           0.838843\n",
      "Rec            0.894273\n",
      "F1             0.865672\n",
      "Threshold      1.000000\n",
      "Name: 4, dtype: float64\n",
      "Testing on ['beerall-file1.csv', 'beerall-file2.csv', 'beerall-file3.csv']\n",
      "match_mode=0, mass_tol=2, rt_tol=25, tp=202, fp=39, fn=25, prec=0.838, rec=0.890, f1=0.863, th_prob=1.000\n",
      "\n",
      "Saved to pickles/beerallpos/res_match_feature.p\n"
     ]
    }
   ],
   "source": [
    "exp_results_1a = run_experiment(0, training_list, testing_list, param_list, 'pickles/beerallpos/res_match_feature.p', hp, evaluation_method, transformation_file, gt_file)"
   ]
  },
  {
   "cell_type": "code",
   "execution_count": 15,
   "metadata": {
    "collapsed": false,
    "scrolled": true
   },
   "outputs": [
    {
     "name": "stdout",
     "output_type": "stream",
     "text": [
      "Iteration 0\n",
      "Training on ['beerall-file3.csv', 'beerall-file1.csv', 'beerall-file2.csv']\n",
      "mass_tol=2, rt_tol=5, tp=167, fp=30, fn=60, prec=0.848, rec=0.736, f1=0.788, th_prob=1.000\n",
      "mass_tol=2, rt_tol=10, tp=183, fp=32, fn=44, prec=0.851, rec=0.806, f1=0.828, th_prob=1.000\n",
      "mass_tol=2, rt_tol=15, tp=183, fp=33, fn=44, prec=0.847, rec=0.806, f1=0.826, th_prob=1.000\n",
      "mass_tol=2, rt_tol=20, tp=185, fp=34, fn=42, prec=0.845, rec=0.815, f1=0.830, th_prob=1.000\n",
      "mass_tol=2, rt_tol=25, tp=187, fp=36, fn=40, prec=0.839, rec=0.824, f1=0.831, th_prob=1.000\n",
      "mass_tol=2, rt_tol=30, tp=187, fp=36, fn=40, prec=0.839, rec=0.824, f1=0.831, th_prob=1.000\n",
      "mass_tol=4, rt_tol=5, tp=167, fp=30, fn=60, prec=0.848, rec=0.736, f1=0.788, th_prob=1.000\n",
      "mass_tol=4, rt_tol=10, tp=183, fp=32, fn=44, prec=0.851, rec=0.806, f1=0.828, th_prob=1.000\n",
      "mass_tol=4, rt_tol=15, tp=183, fp=33, fn=44, prec=0.847, rec=0.806, f1=0.826, th_prob=1.000\n",
      "mass_tol=4, rt_tol=20, tp=185, fp=34, fn=42, prec=0.845, rec=0.815, f1=0.830, th_prob=1.000\n",
      "mass_tol=4, rt_tol=25, tp=187, fp=36, fn=40, prec=0.839, rec=0.824, f1=0.831, th_prob=1.000\n",
      "mass_tol=4, rt_tol=30, tp=187, fp=36, fn=40, prec=0.839, rec=0.824, f1=0.831, th_prob=1.000\n",
      "mass_tol=6, rt_tol=5, tp=167, fp=32, fn=60, prec=0.839, rec=0.736, f1=0.784, th_prob=1.000\n",
      "mass_tol=6, rt_tol=10, tp=183, fp=34, fn=44, prec=0.843, rec=0.806, f1=0.824, th_prob=1.000\n",
      "mass_tol=6, rt_tol=15, tp=183, fp=35, fn=44, prec=0.839, rec=0.806, f1=0.822, th_prob=1.000\n",
      "mass_tol=6, rt_tol=20, tp=185, fp=36, fn=42, prec=0.837, rec=0.815, f1=0.826, th_prob=1.000\n",
      "mass_tol=6, rt_tol=25, tp=187, fp=40, fn=40, prec=0.824, rec=0.824, f1=0.824, th_prob=1.000\n",
      "mass_tol=6, rt_tol=30, tp=187, fp=40, fn=40, prec=0.824, rec=0.824, f1=0.824, th_prob=1.000\n",
      "Best row is\n",
      "mass_tol       2.000000\n",
      "rt_tol        25.000000\n",
      "TP           187.000000\n",
      "FP            36.000000\n",
      "FN            40.000000\n",
      "Prec           0.838565\n",
      "Rec            0.823789\n",
      "F1             0.831111\n",
      "Threshold      1.000000\n",
      "Name: 4, dtype: float64\n",
      "Testing on ['beerall-file1.csv', 'beerall-file2.csv', 'beerall-file3.csv']\n",
      "match_mode=1, mass_tol=2, rt_tol=25, tp=187, fp=36, fn=40, prec=0.839, rec=0.824, f1=0.831, th_prob=1.000\n",
      "\n",
      "Saved to pickles/beerallpos/res_match_cluster.p\n"
     ]
    }
   ],
   "source": [
    "exp_results_1b = run_experiment(1, training_list, testing_list, param_list, 'pickles/beerallpos/res_match_cluster.p', hp, evaluation_method, transformation_file, gt_file)"
   ]
  },
  {
   "cell_type": "code",
   "execution_count": 16,
   "metadata": {
    "collapsed": false
   },
   "outputs": [
    {
     "name": "stdout",
     "output_type": "stream",
     "text": [
      "Iteration 0\n",
      "Training on ['beerall-file3.csv', 'beerall-file1.csv', 'beerall-file2.csv']\n",
      "mass_tol=2, rt_tol=5, tp=181, fp=36, fn=46, prec=0.834, rec=0.797, f1=0.815, th_prob=1.000\n",
      "mass_tol=2, rt_tol=10, tp=196, fp=38, fn=31, prec=0.838, rec=0.863, f1=0.850, th_prob=1.000\n",
      "mass_tol=2, rt_tol=15, tp=199, fp=37, fn=28, prec=0.843, rec=0.877, f1=0.860, th_prob=1.000\n",
      "mass_tol=2, rt_tol=20, tp=198, fp=40, fn=29, prec=0.832, rec=0.872, f1=0.852, th_prob=1.000\n",
      "mass_tol=2, rt_tol=25, tp=202, fp=40, fn=25, prec=0.835, rec=0.890, f1=0.861, th_prob=1.000\n",
      "mass_tol=2, rt_tol=30, tp=202, fp=40, fn=25, prec=0.835, rec=0.890, f1=0.861, th_prob=1.000\n",
      "mass_tol=4, rt_tol=5, tp=181, fp=36, fn=46, prec=0.834, rec=0.797, f1=0.815, th_prob=1.000\n",
      "mass_tol=4, rt_tol=10, tp=196, fp=38, fn=31, prec=0.838, rec=0.863, f1=0.850, th_prob=1.000\n",
      "mass_tol=4, rt_tol=15, tp=199, fp=37, fn=28, prec=0.843, rec=0.877, f1=0.860, th_prob=1.000\n",
      "mass_tol=4, rt_tol=20, tp=198, fp=40, fn=29, prec=0.832, rec=0.872, f1=0.852, th_prob=1.000\n",
      "mass_tol=4, rt_tol=25, tp=202, fp=40, fn=25, prec=0.835, rec=0.890, f1=0.861, th_prob=1.000\n",
      "mass_tol=4, rt_tol=30, tp=202, fp=40, fn=25, prec=0.835, rec=0.890, f1=0.861, th_prob=1.000\n",
      "mass_tol=6, rt_tol=5, tp=181, fp=36, fn=46, prec=0.834, rec=0.797, f1=0.815, th_prob=1.000\n",
      "mass_tol=6, rt_tol=10, tp=196, fp=38, fn=31, prec=0.838, rec=0.863, f1=0.850, th_prob=1.000\n",
      "mass_tol=6, rt_tol=15, tp=199, fp=37, fn=28, prec=0.843, rec=0.877, f1=0.860, th_prob=1.000\n",
      "mass_tol=6, rt_tol=20, tp=198, fp=40, fn=29, prec=0.832, rec=0.872, f1=0.852, th_prob=1.000\n",
      "mass_tol=6, rt_tol=25, tp=202, fp=42, fn=25, prec=0.828, rec=0.890, f1=0.858, th_prob=1.000\n",
      "mass_tol=6, rt_tol=30, tp=202, fp=42, fn=25, prec=0.828, rec=0.890, f1=0.858, th_prob=1.000\n",
      "Best row is\n",
      "mass_tol       2.000000\n",
      "rt_tol        25.000000\n",
      "TP           202.000000\n",
      "FP            40.000000\n",
      "FN            25.000000\n",
      "Prec           0.834711\n",
      "Rec            0.889868\n",
      "F1             0.861407\n",
      "Threshold      1.000000\n",
      "Name: 4, dtype: float64\n",
      "Testing on ['beerall-file1.csv', 'beerall-file2.csv', 'beerall-file3.csv']\n",
      "match_mode=3, mass_tol=2, rt_tol=25, tp=204, fp=38, fn=23, prec=0.843, rec=0.899, f1=0.870, th_prob=1.000\n",
      "\n",
      "Saved to pickles/beerallpos/res_mwg.p\n"
     ]
    }
   ],
   "source": [
    "exp_results_1c = run_experiment(3, training_list, testing_list, param_list, 'pickles/beerallpos/res_mwg.p', hp, evaluation_method, transformation_file, gt_file)"
   ]
  },
  {
   "cell_type": "markdown",
   "metadata": {},
   "source": [
    "<h2>Plotting</h2>"
   ]
  },
  {
   "cell_type": "code",
   "execution_count": null,
   "metadata": {
    "collapsed": false
   },
   "outputs": [],
   "source": [
    "def plot_density(exp_res, title):\n",
    "    training_dfs = []\n",
    "    for item in exp_res:\n",
    "        training_data, training_df, best_training_row, match_res = item\n",
    "        training_dfs.append(training_df)\n",
    "    combined = pd.concat(training_dfs, axis=0)\n",
    "    combined = combined.reset_index(drop=True)\n",
    "#     f, ax = plt.subplots(figsize=(6, 6))    \n",
    "#     sns.kdeplot(combined.Rec, combined.Prec, ax=ax)\n",
    "#     sns.rugplot(combined.Rec, ax=ax)\n",
    "#     sns.rugplot(combined.Prec, vertical=True, ax=ax)    \n",
    "#     ax.set_xlim([0.7, 1.0])\n",
    "#     ax.set_ylim([0.7, 1.0])\n",
    "    g = sns.JointGrid(x=\"Rec\", y=\"Prec\", data=combined, xlim=(0.7, 1.0), ylim=(0.7, 1.0))\n",
    "    g = g.plot_joint(sns.kdeplot)\n",
    "    g = g.plot_marginals(sns.kdeplot, shade=True)\n",
    "    ax = g.ax_joint\n",
    "    ax.set_xlabel('Rec')\n",
    "    ax.set_ylabel('Prec')\n",
    "    ax = g.ax_marg_x\n",
    "    ax.set_title(title)    "
   ]
  },
  {
   "cell_type": "code",
   "execution_count": null,
   "metadata": {
    "collapsed": false
   },
   "outputs": [],
   "source": [
    "plot_density(exp_results_1a, 'Feature matching')\n",
    "plot_density(exp_results_1b, 'Cluster matching')"
   ]
  }
 ],
 "metadata": {
  "kernelspec": {
   "display_name": "Python 2",
   "language": "python",
   "name": "python2"
  },
  "language_info": {
   "codemirror_mode": {
    "name": "ipython",
    "version": 2
   },
   "file_extension": ".py",
   "mimetype": "text/x-python",
   "name": "python",
   "nbconvert_exporter": "python",
   "pygments_lexer": "ipython2",
   "version": "2.7.10"
  }
 },
 "nbformat": 4,
 "nbformat_minor": 0
}
