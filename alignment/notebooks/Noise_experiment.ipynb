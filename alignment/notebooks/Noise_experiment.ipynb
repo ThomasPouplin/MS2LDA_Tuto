{
 "cells": [
  {
   "cell_type": "markdown",
   "metadata": {},
   "source": [
    "<h1>Experiment with adding noise on the std1pos data</h1>"
   ]
  },
  {
   "cell_type": "code",
   "execution_count": 4,
   "metadata": {
    "collapsed": false
   },
   "outputs": [],
   "source": [
    "%load_ext autoreload\n",
    "%autoreload 2\n",
    "%matplotlib inline"
   ]
  },
  {
   "cell_type": "code",
   "execution_count": 5,
   "metadata": {
    "collapsed": true
   },
   "outputs": [],
   "source": [
    "import os\n",
    "import sys\n",
    "basedir = '/home/joewandy/git/metabolomics_tools'\n",
    "sys.path.append(basedir)"
   ]
  },
  {
   "cell_type": "code",
   "execution_count": 89,
   "metadata": {
    "collapsed": false
   },
   "outputs": [],
   "source": [
    "import numpy as np\n",
    "import pylab as plt\n",
    "import pandas as pd\n",
    "import seaborn as sns\n",
    "sns.set(color_codes=True)\n",
    "from IPython.display import display, HTML\n",
    "\n",
    "import cPickle\n",
    "import random\n",
    "import copy\n",
    "import glob\n",
    "import gzip"
   ]
  },
  {
   "cell_type": "code",
   "execution_count": 54,
   "metadata": {
    "collapsed": false
   },
   "outputs": [],
   "source": [
    "from alignment.models import HyperPars as AlignmentHyperPars\n",
    "from discretisation.adduct_cluster import AdductCluster, Peak, Possible\n",
    "from discretisation import utils\n",
    "from discretisation.preprocessing import FileLoader\n",
    "from alignment.shared_bin_matching import SharedBinMatching as Aligner\n",
    "from alignment.ground_truth import GroundTruth\n",
    "from discretisation.models import Feature, PeakData"
   ]
  },
  {
   "cell_type": "markdown",
   "metadata": {},
   "source": [
    "<h2>Experiment Parameters</h2>"
   ]
  },
  {
   "cell_type": "markdown",
   "metadata": {},
   "source": [
    "Set up all the experiment parameters"
   ]
  },
  {
   "cell_type": "code",
   "execution_count": 8,
   "metadata": {
    "collapsed": true
   },
   "outputs": [],
   "source": [
    "input_dir = '/home/joewandy/git/metabolomics_tools/alignment/input/std1_csv_full_old'\n",
    "transformation_file = '/home/joewandy/git/metabolomics_tools/alignment/pos_transformations_full.yml'\n",
    "gt_file = '/home/joewandy/git/metabolomics_tools/alignment/input/std1_csv_full_old/ground_truth/ground_truth.txt'"
   ]
  },
  {
   "cell_type": "code",
   "execution_count": 9,
   "metadata": {
    "collapsed": false
   },
   "outputs": [
    {
     "name": "stdout",
     "output_type": "stream",
     "text": [
      "Hyperparameters across_file_mass_tol=10, across_file_rt_tol=60, alpha_mass=1.0, beta=0.1, dp_alpha=1000.0, mass_clustering_n_iterations=200, matching_alpha=0.3, rt_clustering_burnin=0, rt_clustering_nsamps=100, t=0.0, within_file_mass_tol=5, within_file_rt_tol=30\n"
     ]
    }
   ],
   "source": [
    "hp = AlignmentHyperPars()    \n",
    "hp.within_file_mass_tol = 5\n",
    "hp.within_file_rt_tol = 30\n",
    "hp.across_file_mass_tol = 10\n",
    "hp.across_file_rt_tol = 60\n",
    "hp.alpha_mass = 1.0\n",
    "hp.dp_alpha = 1000.0\n",
    "hp.beta = 0.1\n",
    "hp.t = 0.0\n",
    "hp.mass_clustering_n_iterations = 200\n",
    "hp.rt_clustering_nsamps = 100\n",
    "hp.rt_clustering_burnin = 0\n",
    "\n",
    "print hp"
   ]
  },
  {
   "cell_type": "code",
   "execution_count": 10,
   "metadata": {
    "collapsed": true
   },
   "outputs": [],
   "source": [
    "evaluation_method = 2\n",
    "n_iter = 30"
   ]
  },
  {
   "cell_type": "code",
   "execution_count": 11,
   "metadata": {
    "collapsed": false
   },
   "outputs": [],
   "source": [
    "param_list = []\n",
    "for mass_tol in range(2, 11, 2):\n",
    "    for rt_tol in range(5, 101, 5):\n",
    "        param_list.append((mass_tol, rt_tol))\n",
    "\n",
    "# overwrite\n",
    "param_list = [(hp.across_file_mass_tol, hp.across_file_rt_tol)]"
   ]
  },
  {
   "cell_type": "markdown",
   "metadata": {},
   "source": [
    "<h2>Create the first-stage clustering for all input files -- Gibbs, mh_biggest=True</h2>"
   ]
  },
  {
   "cell_type": "code",
   "execution_count": 12,
   "metadata": {
    "collapsed": false,
    "scrolled": true
   },
   "outputs": [],
   "source": [
    "def load_or_create_clustering(filename, input_dir, transformation_file, hp):\n",
    "    try:\n",
    "        with gzip.GzipFile(filename, 'rb') as f:\n",
    "            combined_list = cPickle.load(f)\n",
    "            print \"Loaded from %s\" % filename\n",
    "            return combined_list\n",
    "    except (IOError, EOFError):\n",
    "        loader = FileLoader()        \n",
    "        data_list = loader.load_model_input(input_dir, synthetic=True)\n",
    "        aligner = Aligner(data_list, None, transformation_file, \n",
    "                               hp, verbose=False, seed=1234567890, parallel=True, mh_biggest=True, use_vb=False)\n",
    "        clustering_results = aligner._first_stage_clustering()\n",
    "        combined_list = zip(data_list, clustering_results)\n",
    "        with gzip.GzipFile(filename, 'wb') as f:\n",
    "            cPickle.dump(combined_list, f, protocol=cPickle.HIGHEST_PROTOCOL)        \n",
    "        print \"Saved to %s\" % filename\n",
    "        return combined_list"
   ]
  },
  {
   "cell_type": "code",
   "execution_count": 13,
   "metadata": {
    "collapsed": false
   },
   "outputs": [
    {
     "name": "stdout",
     "output_type": "stream",
     "text": [
      "Loaded from pickles/std1_pos_clustering.p\n"
     ]
    }
   ],
   "source": [
    "combined_list = load_or_create_clustering('pickles/std1_pos_clustering.p', input_dir, transformation_file, hp)"
   ]
  },
  {
   "cell_type": "markdown",
   "metadata": {},
   "source": [
    "<h2>Define Experimental Methods</h2>"
   ]
  },
  {
   "cell_type": "code",
   "execution_count": 14,
   "metadata": {
    "collapsed": false,
    "scrolled": true
   },
   "outputs": [],
   "source": [
    "def train(selected_data, param_list, hp, match_mode, evaluation_method):\n",
    "    \n",
    "    performances = []\n",
    "    for param in param_list:\n",
    "\n",
    "        # print \"Parameter mass_tol=%f rt_tol=%f\" % (param)\n",
    "        hp.across_file_mass_tol = param[0]\n",
    "        hp.across_file_rt_tol = param[1]\n",
    "        selected_files = [x[0] for x in selected_data]  \n",
    "        selected_clusterings = [x[1] for x in selected_data]            \n",
    "        aligner = Aligner(selected_files, None, transformation_file, \n",
    "                               hp, verbose=False, seed=1234567890)\n",
    "        aligner.run(match_mode, first_stage_clustering_results=selected_clusterings)\n",
    "\n",
    "        res = aligner.evaluate_performance(gt_file, verbose=False, print_TP=True, method=evaluation_method)\n",
    "        output = param+res[0]\n",
    "        performances.append(output)\n",
    "    \n",
    "    df = pd.DataFrame(performances, columns=['mass_tol', 'rt_tol', 'TP', 'FP', 'FN', 'Prec', 'Rec', 'F1', 'Threshold'])\n",
    "    \n",
    "    sorted_df = df.sort_values(['F1', 'mass_tol', 'rt_tol'], ascending=[False, True, True])\n",
    "    best_row = sorted_df.iloc[0]\n",
    "    return df, best_row"
   ]
  },
  {
   "cell_type": "code",
   "execution_count": 15,
   "metadata": {
    "collapsed": true
   },
   "outputs": [],
   "source": [
    "def test(selected_data, best_row, hp, match_mode, evaluation_method):\n",
    "\n",
    "    param = (best_row['mass_tol'], best_row['rt_tol'])\n",
    "    hp.across_file_mass_tol = param[0]\n",
    "    hp.across_file_rt_tol = param[1]\n",
    "    selected_files = [x[0] for x in selected_data]\n",
    "    selected_clusterings = [x[1] for x in selected_data]    \n",
    "    aligner = Aligner(selected_files, None, transformation_file, \n",
    "                           hp, verbose=False, seed=1234567890)\n",
    "    aligner.run(match_mode, first_stage_clustering_results=selected_clusterings)\n",
    "\n",
    "    res = aligner.evaluate_performance(gt_file, verbose=False, print_TP=True, method=evaluation_method)\n",
    "    output = param+res[0]\n",
    "    return output"
   ]
  },
  {
   "cell_type": "code",
   "execution_count": 103,
   "metadata": {
    "collapsed": true
   },
   "outputs": [],
   "source": [
    "def train_test_single(match_mode, training_data, testing_data, i):\n",
    "    \n",
    "    print training_data[0][0].num_peaks\n",
    "    print training_data[1][0].num_peaks    \n",
    "\n",
    "    print testing_data[0][0].num_peaks\n",
    "    print testing_data[1][0].num_peaks\n",
    "    \n",
    "    print \"Iteration %d\" % i\n",
    "    print \"Training on %s\" % [x[0].filename for x in training_data]\n",
    "    training_df, best_training_row = train(training_data, param_list, hp, match_mode, evaluation_method)\n",
    "\n",
    "    testing_data = testing_list[i]\n",
    "    print \"Testing on %s\" % [x[0].filename for x in testing_data]\n",
    "    match_res = test(testing_data, best_training_row, hp, match_mode, evaluation_method)\n",
    "    output = (match_mode,) + match_res\n",
    "    print \"match_mode=%d, mass_tol=%d, rt_tol=%d, tp=%d, fp=%d, fn=%d, prec=%.3f, rec=%.3f, f1=%.3f, th_prob=%.3f\" % output\n",
    "\n",
    "    item = (training_data, training_df, best_training_row, match_res)\n",
    "    return item"
   ]
  },
  {
   "cell_type": "code",
   "execution_count": 17,
   "metadata": {
    "collapsed": false,
    "scrolled": true
   },
   "outputs": [],
   "source": [
    "def train_test(match_mode, training_list, testing_list, idx=None):\n",
    "    assert len(training_list) == len(testing_list)\n",
    "    n_iter = len(training_list)\n",
    "    exp_results = []\n",
    "    if idx is not None:\n",
    "        for i in range(n_iter):\n",
    "            training_data = training_list[i]\n",
    "            testing_data = testing_list[i]\n",
    "            item = train_test_single(match_mode, training_data, testing_data, i)\n",
    "            exp_results.append(item)\n",
    "            print\n",
    "    else:\n",
    "        training_data = training_list[idx]\n",
    "        testing_data = testing_list[idx]\n",
    "        item = train_test_single(match_mode, training_data, testing_data, idx)\n",
    "        exp_results.append(item)\n",
    "        print\n",
    "        \n",
    "    return exp_results"
   ]
  },
  {
   "cell_type": "code",
   "execution_count": 18,
   "metadata": {
    "collapsed": false
   },
   "outputs": [],
   "source": [
    "def run_experiment(match_mode, training_list, testing_list, filename):\n",
    "    try:\n",
    "        with gzip.GzipFile(filename, 'rb') as f:        \n",
    "            exp_results = cPickle.load(f)\n",
    "            print \"Loaded from %s\" % filename\n",
    "            return exp_results\n",
    "    except (IOError, EOFError):\n",
    "        exp_results = train_test(match_mode, training_list, testing_list)\n",
    "        with gzip.GzipFile(filename, 'wb') as f:\n",
    "            cPickle.dump(exp_results, f, protocol=cPickle.HIGHEST_PROTOCOL)                        \n",
    "        print \"Saved to %s\" % filename\n",
    "    return exp_results"
   ]
  },
  {
   "cell_type": "code",
   "execution_count": 19,
   "metadata": {
    "collapsed": true
   },
   "outputs": [],
   "source": [
    "def load_or_create_filelist(filename, combined_list, n_iter, n_files):\n",
    "    try:\n",
    "        with gzip.GzipFile(filename, 'rb') as f:        \n",
    "            item_list = cPickle.load(f)\n",
    "            print \"Loaded from %s\" % filename\n",
    "            for item in item_list:\n",
    "                print \"%s\" % [x[0].filename for x in item]\n",
    "            return item_list\n",
    "    except (IOError, EOFError):\n",
    "        item_list = []\n",
    "        for i in range(n_iter):\n",
    "            item = random.sample(combined_list, n_files)\n",
    "            print \"%s\" % [x[0].filename for x in item]\n",
    "            item_list.append(item)\n",
    "        with gzip.GzipFile(filename, 'wb') as f:\n",
    "            cPickle.dump(item_list, f, protocol=cPickle.HIGHEST_PROTOCOL)                    \n",
    "        print \"Saved to %s\" % filename\n",
    "        return item_list"
   ]
  },
  {
   "cell_type": "markdown",
   "metadata": {},
   "source": [
    "<h2>Run experiment with 2 random files</h2>"
   ]
  },
  {
   "cell_type": "code",
   "execution_count": 20,
   "metadata": {
    "collapsed": false
   },
   "outputs": [],
   "source": [
    "n_files = 2"
   ]
  },
  {
   "cell_type": "code",
   "execution_count": 212,
   "metadata": {
    "collapsed": false
   },
   "outputs": [
    {
     "name": "stdout",
     "output_type": "stream",
     "text": [
      "Loaded from pickles/training_list_2.p\n",
      "['std1-file5.txt', 'std1-file7.txt']\n",
      "['std1-file5.txt', 'std1-file11.txt']\n",
      "['std1-file10.txt', 'std1-file5.txt']\n",
      "['std1-file9.txt', 'std1-file2.txt']\n",
      "['std1-file8.txt', 'std1-file5.txt']\n",
      "['std1-file7.txt', 'std1-file6.txt']\n",
      "['std1-file10.txt', 'std1-file3.txt']\n",
      "['std1-file8.txt', 'std1-file2.txt']\n",
      "['std1-file11.txt', 'std1-file7.txt']\n",
      "['std1-file1.txt', 'std1-file2.txt']\n",
      "['std1-file8.txt', 'std1-file1.txt']\n",
      "['std1-file6.txt', 'std1-file9.txt']\n",
      "['std1-file11.txt', 'std1-file7.txt']\n",
      "['std1-file7.txt', 'std1-file8.txt']\n",
      "['std1-file2.txt', 'std1-file7.txt']\n",
      "['std1-file2.txt', 'std1-file8.txt']\n",
      "['std1-file10.txt', 'std1-file7.txt']\n",
      "['std1-file9.txt', 'std1-file4.txt']\n",
      "['std1-file9.txt', 'std1-file4.txt']\n",
      "['std1-file7.txt', 'std1-file2.txt']\n",
      "['std1-file1.txt', 'std1-file10.txt']\n",
      "['std1-file2.txt', 'std1-file9.txt']\n",
      "['std1-file11.txt', 'std1-file1.txt']\n",
      "['std1-file1.txt', 'std1-file10.txt']\n",
      "['std1-file9.txt', 'std1-file8.txt']\n",
      "['std1-file3.txt', 'std1-file1.txt']\n",
      "['std1-file3.txt', 'std1-file9.txt']\n",
      "['std1-file8.txt', 'std1-file7.txt']\n",
      "['std1-file8.txt', 'std1-file11.txt']\n",
      "['std1-file7.txt', 'std1-file3.txt']\n"
     ]
    }
   ],
   "source": [
    "training_list = load_or_create_filelist('pickles/training_list_2.p', combined_list, n_iter, n_files)"
   ]
  },
  {
   "cell_type": "code",
   "execution_count": 22,
   "metadata": {
    "collapsed": false
   },
   "outputs": [
    {
     "name": "stdout",
     "output_type": "stream",
     "text": [
      "Loaded from pickles/testing_list_2.p\n",
      "['std1-file6.txt', 'std1-file8.txt']\n",
      "['std1-file7.txt', 'std1-file11.txt']\n",
      "['std1-file6.txt', 'std1-file2.txt']\n",
      "['std1-file4.txt', 'std1-file8.txt']\n",
      "['std1-file4.txt', 'std1-file7.txt']\n",
      "['std1-file7.txt', 'std1-file11.txt']\n",
      "['std1-file10.txt', 'std1-file1.txt']\n",
      "['std1-file3.txt', 'std1-file10.txt']\n",
      "['std1-file8.txt', 'std1-file11.txt']\n",
      "['std1-file5.txt', 'std1-file3.txt']\n",
      "['std1-file7.txt', 'std1-file5.txt']\n",
      "['std1-file7.txt', 'std1-file10.txt']\n",
      "['std1-file11.txt', 'std1-file9.txt']\n",
      "['std1-file2.txt', 'std1-file10.txt']\n",
      "['std1-file3.txt', 'std1-file7.txt']\n",
      "['std1-file11.txt', 'std1-file10.txt']\n",
      "['std1-file6.txt', 'std1-file9.txt']\n",
      "['std1-file11.txt', 'std1-file2.txt']\n",
      "['std1-file4.txt', 'std1-file10.txt']\n",
      "['std1-file10.txt', 'std1-file4.txt']\n",
      "['std1-file8.txt', 'std1-file3.txt']\n",
      "['std1-file8.txt', 'std1-file4.txt']\n",
      "['std1-file3.txt', 'std1-file11.txt']\n",
      "['std1-file9.txt', 'std1-file5.txt']\n",
      "['std1-file7.txt', 'std1-file4.txt']\n",
      "['std1-file3.txt', 'std1-file2.txt']\n",
      "['std1-file9.txt', 'std1-file1.txt']\n",
      "['std1-file6.txt', 'std1-file7.txt']\n",
      "['std1-file9.txt', 'std1-file11.txt']\n",
      "['std1-file10.txt', 'std1-file9.txt']\n"
     ]
    }
   ],
   "source": [
    "testing_list = load_or_create_filelist('pickles/testing_list_2.p', combined_list, n_iter, n_files)"
   ]
  },
  {
   "cell_type": "code",
   "execution_count": 187,
   "metadata": {
    "collapsed": true
   },
   "outputs": [],
   "source": [
    "idx = 0\n",
    "training_data = training_list[idx]\n",
    "testing_data = testing_list[idx]"
   ]
  },
  {
   "cell_type": "code",
   "execution_count": 188,
   "metadata": {
    "collapsed": false
   },
   "outputs": [
    {
     "name": "stdout",
     "output_type": "stream",
     "text": [
      "7076\n",
      "6319\n",
      "4146\n",
      "4101\n",
      "Iteration 0\n",
      "Training on ['std1-file5.txt', 'std1-file7.txt']\n",
      "Testing on ['std1-file6.txt', 'std1-file8.txt']\n",
      "match_mode=0, mass_tol=10, rt_tol=60, tp=117, fp=7, fn=13, prec=0.944, rec=0.900, f1=0.921, th_prob=1.000\n"
     ]
    }
   ],
   "source": [
    "exp_results = train_test_single(0,  training_data, testing_data, idx)"
   ]
  },
  {
   "cell_type": "code",
   "execution_count": 190,
   "metadata": {
    "collapsed": false
   },
   "outputs": [
    {
     "name": "stdout",
     "output_type": "stream",
     "text": [
      "Training result\n",
      "mass_tol     10.000000\n",
      "rt_tol       60.000000\n",
      "TP           25.000000\n",
      "FP            3.000000\n",
      "FN            8.000000\n",
      "Prec          0.892857\n",
      "Rec           0.757576\n",
      "F1            0.819672\n",
      "Threshold     1.000000\n",
      "Name: 0, dtype: float64\n"
     ]
    }
   ],
   "source": [
    "print \"Training result\"\n",
    "print exp_results[2]"
   ]
  },
  {
   "cell_type": "code",
   "execution_count": 191,
   "metadata": {
    "collapsed": false
   },
   "outputs": [
    {
     "name": "stdout",
     "output_type": "stream",
     "text": [
      "Testing result\n",
      "mass_tol      10.000000\n",
      "rt_tol        60.000000\n",
      "TP           117.000000\n",
      "FP             7.000000\n",
      "FN            13.000000\n",
      "Prec           0.943548\n",
      "Rec            0.900000\n",
      "F1             0.921260\n",
      "Threshold      1.000000\n",
      "Name: 0, dtype: float64\n"
     ]
    }
   ],
   "source": [
    "print \"Testing result\"\n",
    "df = pd.DataFrame([exp_results[3]], columns=['mass_tol', 'rt_tol', 'TP', 'FP', 'FN', 'Prec', 'Rec', 'F1', 'Threshold'])\n",
    "print df.iloc[0]"
   ]
  },
  {
   "cell_type": "code",
   "execution_count": 213,
   "metadata": {
    "collapsed": true
   },
   "outputs": [],
   "source": [
    "idx = 0\n",
    "training_data = training_list[idx]\n",
    "testing_data = testing_list[idx]"
   ]
  },
  {
   "cell_type": "code",
   "execution_count": 200,
   "metadata": {
    "collapsed": false
   },
   "outputs": [],
   "source": [
    "def add_noisy_peaks(peakdata, num_add):\n",
    "\n",
    "    next_id = peakdata.features[-1].feature_id\n",
    "    file_id = peakdata.features[-1].file_id\n",
    "    min_mz, max_mz = np.min(peakdata.mass), np.max(peakdata.mass)\n",
    "    min_intensity, max_intensity = np.min(peakdata.intensity), np.max(peakdata.intensity)\n",
    "    \n",
    "    if num_add > peakdata.num_peaks:\n",
    "        num_add = peakdata.num_peaks\n",
    "        \n",
    "    new_peaks = random.sample(peakdata.features, num_add)\n",
    "    to_add = list(peakdata.features)\n",
    "    for i in range(num_add):\n",
    "        next_id = next_id + 1\n",
    "        # mz = np.random.uniform(low=min_mz, high=max_mz)\n",
    "        mz = new_peaks[i].mass\n",
    "        rt = new_peaks[i].rt\n",
    "        intensity = np.random.uniform(low=min_intensity, high=max_intensity)\n",
    "        new_feature = Feature(next_id, mz, rt, intensity, file_id)\n",
    "        to_add.append(new_feature)\n",
    "        \n",
    "    new_peakdata = PeakData(to_add, peakdata.filename)\n",
    "    return new_peakdata"
   ]
  },
  {
   "cell_type": "code",
   "execution_count": 201,
   "metadata": {
    "collapsed": false
   },
   "outputs": [],
   "source": [
    "num_add = 10000\n",
    "\n",
    "single_set = training_data[0]\n",
    "peakdata = single_set[0]\n",
    "new_peakdata = add_noisy_peaks(peakdata, num_add)\n",
    "training_data[0] = (new_peakdata, None)\n",
    "\n",
    "single_set = training_data[1]\n",
    "peakdata = single_set[0]\n",
    "new_peakdata = add_noisy_peaks(peakdata, num_add)\n",
    "training_data[1] = (new_peakdata, None)"
   ]
  },
  {
   "cell_type": "markdown",
   "metadata": {},
   "source": [
    "Add a single noisy peak"
   ]
  },
  {
   "cell_type": "code",
   "execution_count": 227,
   "metadata": {
    "collapsed": true
   },
   "outputs": [],
   "source": [
    "single_set = training_data[1]\n",
    "peakdata = single_set[0]\n",
    "to_add = list(peakdata.features)\n",
    "next_id = peakdata.features[-1].feature_id\n",
    "next_id = next_id + 1\n",
    "mz = 126.0219\n",
    "rt = 1000\n",
    "intensity = 475694\n",
    "new_feature = Feature(next_id, mz, rt, intensity, file_id)\n",
    "to_add.append(new_feature)\n",
    "new_peakdata = PeakData(to_add, peakdata.filename)\n",
    "training_data[1] = (new_peakdata, None)"
   ]
  },
  {
   "cell_type": "code",
   "execution_count": 229,
   "metadata": {
    "collapsed": false
   },
   "outputs": [
    {
     "name": "stdout",
     "output_type": "stream",
     "text": [
      "[id=(6320,4) mass=126.0219 rt=1000.00 int=475690.72, id=(6321,4) mass=126.0219 rt=1000.00 int=475691.00, id=(6322,4) mass=126.0219 rt=1000.00 int=475692.00, id=(6323,4) mass=126.0219 rt=1000.00 int=475693.00]\n"
     ]
    }
   ],
   "source": [
    "print training_data[1][0].features[-5:-1]"
   ]
  },
  {
   "cell_type": "code",
   "execution_count": 230,
   "metadata": {
    "collapsed": false,
    "scrolled": false
   },
   "outputs": [
    {
     "name": "stdout",
     "output_type": "stream",
     "text": [
      "7076\n",
      "6324\n",
      "4146\n",
      "4101\n",
      "Iteration 0\n",
      "Training on ['std1-file5.txt', 'std1-file7.txt']\n",
      "TP\n",
      "id=(472,4) mass=419.1511 rt=844.11 int=330838.97 id=(1651,6) mass=419.1511 rt=868.82 int=53371.18\n",
      "id=(1757,4) mass=187.0380 rt=1009.00 int=37857.54 id=(2439,6) mass=187.0380 rt=994.31 int=22681.91\n",
      "id=(1098,4) mass=148.0036 rt=988.13 int=84804.91 id=(2559,6) mass=148.0037 rt=1028.53 int=20248.03\n",
      "id=(1207,4) mass=167.0482 rt=983.63 int=71338.05 id=(2486,6) mass=167.0484 rt=1028.53 int=21731.50\n",
      "id=(207,4) mass=339.0159 rt=1010.44 int=991850.38 id=(1500,6) mass=339.0158 rt=991.12 int=63851.89\n",
      "id=(69,4) mass=330.0594 rt=921.04 int=2748293.50 id=(265,6) mass=330.0592 rt=955.90 int=653659.31\n",
      "id=(233,4) mass=441.1332 rt=845.51 int=857483.19 id=(439,6) mass=441.1332 rt=868.82 int=355520.81\n",
      "id=(1037,4) mass=207.1125 rt=751.21 int=95757.73 id=(2388,6) mass=207.1125 rt=771.41 int=24067.34\n",
      "id=(125,4) mass=232.0611 rt=842.71 int=1696881.62 id=(269,6) mass=232.0611 rt=865.77 int=648982.25\n",
      "id=(190,4) mass=360.1497 rt=808.93 int=1070432.88 id=(517,6) mass=360.1494 rt=815.64 int=286101.75\n",
      "id=(1077,4) mass=273.0875 rt=844.11 int=87522.76 id=(2283,6) mass=273.0875 rt=865.77 int=27289.19\n",
      "id=(899,4) mass=173.1282 rt=791.96 int=123636.27 id=(2376,6) mass=173.1281 rt=840.58 int=24227.21\n",
      "id=(1242,4) mass=659.1118 rt=921.04 int=68220.47 id=(4016,6) mass=659.1119 rt=955.90 int=5537.86\n",
      "id=(1954,4) mass=248.0314 rt=903.50 int=30874.30 id=(1945,6) mass=248.0315 rt=907.70 int=38110.12\n",
      "id=(360,4) mass=465.1687 rt=721.01 int=475086.66 id=(2184,6) mass=465.1684 rt=664.60 int=30209.43\n",
      "id=(1536,4) mass=160.1077 rt=786.27 int=48847.85 id=(3183,6) mass=160.1077 rt=827.23 int=10862.26\n",
      "id=(47,4) mass=170.0115 rt=1009.00 int=3997116.75 id=(239,6) mass=170.0115 rt=991.12 int=770407.38\n",
      "id=(2376,4) mass=191.9933 rt=1011.88 int=21984.15 id=(4120,6) mass=191.9934 rt=991.12 int=5270.97\n",
      "id=(8,4) mass=132.1018 rt=793.37 int=11088355.00 id=(49,6) mass=132.1018 rt=840.58 int=5204136.50\n",
      "id=(549,4) mass=211.0379 rt=1009.00 int=259747.52 id=(2497,6) mass=211.0379 rt=991.12 int=21466.67\n",
      "id=(925,4) mass=251.0362 rt=988.13 int=117512.36 id=(2872,6) mass=251.0361 rt=1028.53 int=14233.20\n",
      "id=(4,4) mass=166.0861 rt=751.21 int=17091138.00 id=(28,6) mass=166.0861 rt=774.59 int=7668053.00\n",
      "id=(44,4) mass=210.0792 rt=842.71 int=4029650.25 id=(167,6) mass=210.0791 rt=868.82 int=1137624.50\n",
      "id=(303,4) mass=348.0699 rt=1027.86 int=600258.25 id=(2205,6) mass=348.0699 rt=1028.53 int=29500.16\n",
      "FP\n",
      "id=(150,4) mass=126.0219 rt=983.63 int=1453616.12 id=(6320,4) mass=324.1148 rt=1187.15 int=3038.39\n",
      "id=(24,4) mass=365.1050 rt=770.11 int=6941238.50 id=(147,6) mass=365.1049 rt=761.77 int=1354448.50\n",
      "id=(165,4) mass=349.0540 rt=903.50 int=1241615.88 id=(1799,6) mass=349.0541 rt=899.56 int=43863.97\n",
      "id=(3359,4) mass=224.0762 rt=995.71 int=11818.25 id=(3364,6) mass=224.0761 rt=1000.85 int=9161.88\n",
      "id=(6320,4) mass=324.1148 rt=1187.15 int=3038.39 id=(150,4) mass=126.0219 rt=983.63 int=1453616.12\n",
      "FN\n",
      "id=(150,4) mass=126.0219 rt=983.63 int=1453616.12 id=(335,6) mass=126.0219 rt=1026.97 int=475690.72\n",
      "id=(3411,4) mass=511.0753 rt=463.77 int=11471.97 id=(2361,6) mass=511.0753 rt=367.12 int=25018.60\n",
      "id=(191,4) mass=243.0971 rt=424.49 int=1056232.50 id=(131,6) mass=243.0972 rt=358.29 int=1506181.75\n",
      "id=(1971,4) mass=168.0763 rt=424.49 int=30370.16 id=(1721,6) mass=168.0766 rt=358.29 int=48644.98\n",
      "id=(19,4) mass=365.1051 rt=749.77 int=7649340.00 id=(147,6) mass=365.1049 rt=761.77 int=1354448.50\n",
      "id=(3017,4) mass=246.1231 rt=796.19 int=14337.38 id=(4015,6) mass=246.1230 rt=862.78 int=5540.21\n",
      "id=(3359,4) mass=224.0762 rt=995.71 int=11818.25 id=(2844,6) mass=224.0763 rt=1036.31 int=14630.95\n",
      "id=(165,4) mass=349.0540 rt=903.50 int=1241615.88 id=(1247,6) mass=349.0538 rt=883.34 int=91255.75\n",
      "id=(1314,4) mass=485.1873 rt=424.49 int=62516.50 id=(621,6) mass=485.1872 rt=358.29 int=219688.64\n",
      "Testing on ['std1-file6.txt', 'std1-file8.txt']\n",
      "TP\n",
      "id=(88,5) mass=152.0704 rt=803.99 int=2162306.00 id=(82,7) mass=152.0705 rt=806.90 int=2461254.00\n",
      "id=(138,5) mass=330.0595 rt=921.08 int=1205307.00 id=(172,7) mass=330.0599 rt=909.13 int=1211063.38\n",
      "id=(56,5) mass=365.1051 rt=755.53 int=3043415.00 id=(127,7) mass=365.1057 rt=752.77 int=1870203.12\n",
      "id=(111,5) mass=133.0606 rt=1112.39 int=1542786.12 id=(198,7) mass=133.0607 rt=1116.88 int=1008398.38\n",
      "id=(1405,5) mass=273.0874 rt=829.28 int=30858.58 id=(1351,7) mass=273.0878 rt=830.18 int=41621.47\n",
      "id=(695,5) mass=487.2312 rt=340.97 int=118736.85 id=(728,7) mass=487.2319 rt=334.31 int=134785.33\n",
      "id=(263,5) mass=102.0549 rt=1125.49 int=534847.25 id=(447,7) mass=102.0549 rt=1132.15 int=288632.84\n",
      "id=(169,5) mass=179.0812 rt=360.10 int=946727.44 id=(339,7) mass=179.0814 rt=351.07 int=448383.03\n",
      "id=(124,5) mass=198.0026 rt=811.06 int=1396053.12 id=(138,7) mass=198.0027 rt=813.77 int=1660046.88\n",
      "id=(1430,5) mass=419.1513 rt=826.48 int=29709.57 id=(1511,7) mass=419.1517 rt=830.18 int=33775.93\n",
      "id=(1455,5) mass=174.0383 rt=860.64 int=29055.58 id=(1127,7) mass=174.0385 rt=863.32 int=57366.12\n",
      "id=(3172,5) mass=191.9934 rt=1015.91 int=6489.59 id=(1840,7) mass=191.9935 rt=992.14 int=24003.81\n",
      "id=(541,5) mass=148.0965 rt=898.10 int=173306.16 id=(420,7) mass=148.0967 rt=892.48 int=307036.56\n",
      "id=(182,5) mass=147.1126 rt=1601.78 int=865675.25 id=(1135,7) mass=147.1126 rt=1622.10 int=56561.89\n",
      "id=(29,5) mass=138.0548 rt=357.15 int=4718458.00 id=(163,7) mass=138.0549 rt=351.07 int=1280461.00\n",
      "id=(102,5) mass=175.1188 rt=1583.19 int=1738816.75 id=(679,7) mass=175.1188 rt=1601.48 int=154294.05\n",
      "id=(691,5) mass=173.1282 rt=782.72 int=120000.91 id=(699,7) mass=173.1283 rt=787.56 int=146096.36\n",
      "id=(75,5) mass=148.0602 rt=1015.91 int=2486584.75 id=(145,7) mass=148.0603 rt=1022.59 int=1540994.12\n",
      "id=(1725,5) mass=251.0362 rt=975.98 int=22175.53 id=(1835,7) mass=251.0365 rt=972.83 int=24090.81\n",
      "id=(2466,5) mass=201.0867 rt=1169.08 int=11235.02 id=(3248,7) mass=201.0868 rt=1183.55 int=6983.74\n",
      "id=(1078,5) mass=165.0655 rt=455.82 int=48382.47 id=(1103,7) mass=165.0657 rt=448.42 int=59831.33\n",
      "id=(372,5) mass=108.5763 rt=1583.19 int=315832.50 id=(1122,7) mass=108.5763 rt=1597.36 int=58004.66\n",
      "id=(308,5) mass=211.0380 rt=998.81 int=413584.84 id=(361,7) mass=211.0382 rt=988.01 int=394625.22\n",
      "id=(2356,5) mass=211.1049 rt=1064.57 int=12150.18 id=(2803,7) mass=211.1051 rt=1065.49 int=10030.59\n",
      "id=(1364,5) mass=136.5304 rt=592.85 int=32745.25 id=(1837,7) mass=136.5305 rt=592.47 int=24063.00\n",
      "id=(266,5) mass=280.0917 rt=1185.02 int=527438.81 id=(382,7) mass=280.0921 rt=1215.51 int=354233.81\n",
      "id=(369,5) mass=86.0837 rt=1960.72 int=319506.34 id=(1596,7) mass=86.0838 rt=1971.73 int=30801.41\n",
      "id=(1649,5) mass=175.0232 rt=441.03 int=23953.91 id=(3954,7) mass=175.0234 rt=435.72 int=3410.27\n",
      "id=(2027,5) mass=343.1230 rt=755.53 int=16189.89 id=(1818,7) mass=343.1235 rt=758.33 int=24464.24\n",
      "id=(3032,5) mass=270.1079 rt=464.63 int=7284.18 id=(2298,7) mass=270.1083 rt=452.63 int=15271.76\n",
      "id=(3099,5) mass=194.0668 rt=521.55 int=6927.25 id=(2784,7) mass=194.0670 rt=520.68 int=10194.20\n",
      "id=(40,5) mass=133.0594 rt=1773.43 int=3508882.75 id=(134,7) mass=133.0595 rt=1799.19 int=1759030.88\n",
      "id=(594,5) mass=399.1443 rt=1769.21 int=145857.89 id=(3147,7) mass=399.1450 rt=1796.45 int=7611.11\n",
      "id=(207,5) mass=126.0218 rt=975.98 int=740615.50 id=(253,7) mass=126.0219 rt=970.06 int=662496.88\n",
      "id=(459,5) mass=165.0543 rt=336.52 int=224729.77 id=(1491,7) mass=165.0545 rt=339.91 int=34610.24\n",
      "id=(1120,5) mass=231.0260 rt=1017.33 int=44857.93 id=(3271,7) mass=231.0261 rt=1054.40 int=6830.13\n",
      "id=(173,5) mass=324.0588 rt=1170.52 int=929472.94 id=(634,7) mass=324.0592 rt=1219.67 int=174732.44\n",
      "id=(87,5) mass=150.0582 rt=827.88 int=2183911.00 id=(75,7) mass=150.0583 rt=830.18 int=2523531.25\n",
      "id=(1195,5) mass=559.1501 rt=613.21 int=40594.74 id=(1073,7) mass=559.1508 rt=612.14 int=61932.02\n",
      "id=(27,5) mass=205.0969 rt=786.98 int=5589971.50 id=(36,7) mass=205.0971 rt=790.33 int=3115751.50\n",
      "id=(103,5) mass=244.0925 rt=1161.83 int=1701878.38 id=(149,7) mass=244.0929 rt=1166.89 int=1446594.62\n",
      "id=(2787,5) mass=155.0925 rt=1024.44 int=8879.23 id=(2513,7) mass=155.0926 rt=1032.28 int=12617.12\n",
      "id=(28,5) mass=189.1231 rt=1066.01 int=4922558.00 id=(45,7) mass=189.1233 rt=1064.10 int=2888343.75\n",
      "id=(1065,5) mass=135.0478 rt=1050.18 int=49083.13 id=(1613,7) mass=135.0479 rt=1050.25 int=30221.51\n",
      "id=(1776,5) mass=116.0339 rt=1048.74 int=21037.08 id=(3483,7) mass=116.0341 rt=1061.33 int=5646.05\n",
      "id=(896,5) mass=197.1006 rt=1588.90 int=72239.89 id=(2160,7) mass=197.1008 rt=1604.23 int=17322.69\n",
      "id=(1586,5) mass=160.1077 rt=779.89 int=25684.12 id=(733,7) mass=160.1079 rt=783.41 int=132787.94\n",
      "id=(3357,5) mass=231.0834 rt=400.26 int=5656.34 id=(2386,7) mass=231.0837 rt=384.74 int=14062.38\n",
      "id=(3724,5) mass=384.1497 rt=1349.23 int=3951.13 id=(2776,7) mass=384.1502 rt=1330.03 int=10224.61\n",
      "id=(2261,5) mass=194.0807 rt=436.51 int=13328.56 id=(3716,7) mass=194.0810 rt=431.47 int=4594.88\n",
      "id=(44,5) mass=170.0116 rt=1000.23 int=3380173.00 id=(104,7) mass=170.0118 rt=986.63 int=2226658.00\n",
      "id=(533,5) mass=227.0522 rt=449.94 int=177198.20 id=(236,7) mass=227.0525 rt=441.38 int=739739.88\n",
      "id=(751,5) mass=399.1270 rt=469.04 int=103151.15 id=(805,7) mass=399.1276 rt=452.63 int=110232.01\n",
      "id=(306,5) mass=465.2492 rt=349.84 int=420141.03 id=(546,7) mass=465.2500 rt=344.10 int=217506.61\n",
      "id=(69,5) mass=177.1020 rt=973.09 int=2624118.00 id=(164,7) mass=177.1021 rt=971.44 int=1277487.50\n",
      "id=(185,5) mass=167.0336 rt=360.10 int=838989.88 id=(241,7) mass=167.0338 rt=345.50 int=700639.50\n",
      "id=(262,5) mass=89.1072 rt=1949.40 int=535339.25 id=(514,7) mass=89.1073 rt=1967.63 int=240378.69\n",
      "id=(2208,5) mass=168.0763 rt=425.94 int=13884.06 id=(3063,7) mass=168.0765 rt=414.47 int=8098.69\n",
      "id=(2600,5) mass=161.0917 rt=1041.56 int=10165.59 id=(2710,7) mass=161.0918 rt=1046.10 int=10883.78\n",
      "id=(126,5) mass=355.0629 rt=310.75 int=1300759.62 id=(158,7) mass=355.0635 rt=296.10 int=1310951.25\n",
      "id=(9,5) mass=132.1017 rt=781.31 int=9668475.00 id=(10,7) mass=132.1018 rt=786.18 int=8432406.00\n",
      "id=(1088,5) mass=346.0406 rt=1186.47 int=47285.32 id=(1222,7) mass=346.0412 rt=1225.22 int=49812.84\n",
      "id=(802,5) mass=213.0842 rt=1412.99 int=88527.78 id=(3054,7) mass=213.0845 rt=1427.95 int=8177.88\n",
      "id=(76,5) mass=191.1024 rt=1412.99 int=2483231.50 id=(850,7) mass=191.1025 rt=1426.57 int=98282.32\n",
      "id=(35,5) mass=118.0861 rt=882.32 int=4060460.75 id=(28,7) mass=118.0862 rt=879.97 int=4251941.50\n",
      "id=(2152,5) mass=177.0878 rt=893.81 int=14493.65 id=(1721,7) mass=177.0881 rt=900.81 int=26868.11\n",
      "id=(125,5) mass=200.0757 rt=1772.03 int=1324581.62 id=(2170,7) mass=200.0758 rt=1793.72 int=17135.56\n",
      "id=(1783,5) mass=286.1029 rt=550.93 int=20848.70 id=(1841,7) mass=286.1032 rt=540.48 int=23979.02\n",
      "id=(77,5) mass=144.0653 rt=566.82 int=2451395.75 id=(140,7) mass=144.0654 rt=558.71 int=1641615.75\n",
      "id=(1302,5) mass=202.0682 rt=1382.62 int=35814.50 id=(2762,7) mass=202.0684 rt=1390.72 int=10312.66\n",
      "id=(603,5) mass=360.1496 rt=761.26 int=144591.62 id=(390,7) mass=360.1501 rt=762.52 int=347211.84\n",
      "id=(242,5) mass=232.0611 rt=825.08 int=610537.12 id=(266,7) mass=232.0613 rt=830.18 int=614451.69\n",
      "id=(5,5) mass=166.0861 rt=744.06 int=13231864.00 id=(9,7) mass=166.0862 rt=747.22 int=8445030.00\n",
      "id=(123,5) mass=156.0766 rt=1518.41 int=1399956.38 id=(818,7) mass=156.0766 rt=1535.44 int=107070.69\n",
      "id=(1940,5) mass=485.1871 rt=424.43 int=17650.44 id=(1912,7) mass=485.1883 rt=414.47 int=22467.37\n",
      "id=(334,5) mass=94.5732 rt=1600.36 int=369439.31 id=(1583,7) mass=94.5733 rt=1615.23 int=31472.46\n",
      "id=(532,5) mass=153.5725 rt=1773.43 int=177453.33 id=(739,7) mass=153.5726 rt=1796.45 int=130281.31\n",
      "id=(426,5) mass=116.1068 rt=343.93 int=257411.55 id=(494,7) mass=116.1069 rt=338.52 int=253081.45\n",
      "id=(244,5) mass=377.1451 rt=464.63 int=601159.94 id=(238,7) mass=377.1457 rt=452.63 int=723587.94\n",
      "id=(36,5) mass=269.0876 rt=616.07 int=4056663.75 id=(27,7) mass=269.0880 rt=617.73 int=4431575.00\n",
      "id=(455,5) mass=487.1781 rt=1164.73 int=227227.84 id=(2187,7) mass=487.1790 rt=1168.28 int=16838.12\n",
      "id=(147,5) mass=349.0540 rt=896.68 int=1149397.88 id=(383,7) mass=349.0545 rt=949.27 int=353063.31\n",
      "id=(109,5) mass=146.1649 rt=2678.29 int=1597520.62 id=(2566,7) mass=146.1650 rt=2699.83 int=12134.73\n",
      "id=(31,5) mass=116.0705 rt=938.36 int=4562971.50 id=(31,7) mass=116.0706 rt=939.60 int=3707347.50\n",
      "id=(184,5) mass=119.0814 rt=1571.71 int=850156.06 id=(1379,7) mass=119.0815 rt=1589.11 int=40130.88\n",
      "id=(24,5) mass=124.0391 rt=455.82 int=6286897.00 id=(24,7) mass=124.0393 rt=448.42 int=4988153.00\n",
      "id=(1453,5) mass=109.0759 rt=352.77 int=29098.51 id=(2843,7) mass=109.0759 rt=344.10 int=9659.69\n",
      "id=(1011,5) mass=153.0403 rt=520.04 int=55278.16 id=(1400,7) mass=153.0405 rt=517.84 int=39324.72\n",
      "id=(154,5) mass=210.0792 rt=832.09 int=1096757.00 id=(171,7) mass=210.0794 rt=827.44 int=1213787.25\n",
      "id=(653,5) mass=162.0758 rt=1375.37 int=127578.15 id=(2501,7) mass=162.0759 rt=1385.20 int=12724.92\n",
      "id=(583,5) mass=198.0846 rt=1134.18 int=150293.12 id=(998,7) mass=198.0848 rt=1144.67 int=71355.98\n",
      "id=(93,5) mass=176.1028 rt=1135.64 int=1951059.62 id=(197,7) mass=176.1029 rt=1143.28 int=1018796.81\n",
      "id=(858,5) mass=509.1600 rt=1157.48 int=79127.98 id=(2974,7) mass=509.1606 rt=1168.28 int=8664.90\n",
      "id=(503,5) mass=266.0743 rt=1154.59 int=194952.88 id=(541,7) mass=266.0747 rt=1168.28 int=222363.73\n",
      "id=(11,5) mass=114.0661 rt=1031.56 int=8541903.00 id=(13,7) mass=114.0662 rt=1033.66 int=6473549.50\n",
      "id=(3558,5) mass=143.0313 rt=444.01 int=4684.61 id=(3016,7) mass=143.0314 rt=438.55 int=8394.82\n",
      "id=(2035,5) mass=465.1686 rt=714.96 int=16055.50 id=(2509,7) mass=465.1694 rt=710.77 int=12660.13\n",
      "id=(327,5) mass=339.0160 rt=1005.93 int=379580.34 id=(360,7) mass=339.0164 rt=986.63 int=397835.09\n",
      "id=(91,5) mass=263.0734 rt=782.72 int=2020410.50 id=(122,7) mass=263.0738 rt=783.41 int=1916483.75\n",
      "id=(505,5) mass=88.0630 rt=1588.90 int=193759.08 id=(1973,7) mass=88.0631 rt=1594.61 int=20875.19\n",
      "id=(285,5) mass=152.0564 rt=864.98 int=488184.34 id=(298,7) mass=152.0566 rt=868.87 int=537519.81\n",
      "id=(859,5) mass=441.1333 rt=846.23 int=78854.34 id=(1404,7) mass=441.1340 rt=831.55 int=39141.55\n",
      "id=(376,5) mass=116.5681 rt=1417.30 int=310986.88 id=(2381,7) mass=116.5682 rt=1421.05 int=14122.61\n",
      "id=(58,5) mass=127.0501 rt=981.72 int=3031994.50 id=(49,7) mass=127.0502 rt=983.88 int=2808868.75\n",
      "id=(356,5) mass=537.1683 rt=617.51 int=346114.28 id=(443,7) mass=537.1691 rt=617.73 int=291920.69\n",
      "id=(132,5) mass=258.1098 rt=1185.02 int=1247444.50 id=(265,7) mass=258.1102 rt=1215.51 int=617820.69\n",
      "id=(1679,5) mass=148.0035 rt=978.85 int=23300.52 id=(1200,7) mass=148.0037 rt=974.21 int=51115.06\n",
      "id=(821,5) mass=537.1948 rt=1201.01 int=84782.77 id=(3067,7) mass=537.1960 rt=1216.90 int=8081.77\n",
      "id=(312,5) mass=291.1046 rt=469.04 int=408361.88 id=(670,7) mass=291.1049 rt=458.24 int=160347.03\n",
      "id=(893,5) mass=207.1125 rt=744.06 int=72744.49 id=(1128,7) mass=207.1127 rt=749.99 int=57308.04\n",
      "id=(81,5) mass=255.1100 rt=342.45 int=2309139.25 id=(129,7) mass=255.1103 rt=334.31 int=1851795.50\n",
      "id=(917,5) mass=167.0482 rt=970.21 int=69076.20 id=(765,7) mass=167.0484 rt=971.44 int=122276.58\n",
      "id=(330,5) mass=291.0695 rt=617.51 int=373875.91 id=(264,7) mass=291.0699 rt=617.73 int=620535.31\n",
      "id=(98,5) mass=227.1248 rt=1041.56 int=1826754.75 id=(131,7) mass=227.1250 rt=1035.04 int=1822201.12\n",
      "id=(167,5) mass=243.0972 rt=421.42 int=956533.50 id=(162,7) mass=243.0975 rt=413.05 int=1289020.50\n",
      "id=(2351,5) mass=249.1067 rt=1097.85 int=12254.20 id=(1257,7) mass=249.1073 rt=1039.19 int=47301.91\n",
      "id=(341,5) mass=325.0428 rt=837.73 int=360815.22 id=(858,7) mass=325.0433 rt=866.09 int=96506.15\n",
      "FP\n",
      "id=(269,5) mass=229.0816 rt=461.70 int=524660.00 id=(199,7) mass=229.0818 rt=458.24 int=1000788.44\n",
      "id=(83,5) mass=265.1115 rt=1818.66 int=2278848.00 id=(23,7) mass=265.1118 rt=1799.19 int=5165376.00\n",
      "id=(55,5) mass=136.0616 rt=902.40 int=3046135.50 id=(30,7) mass=136.0618 rt=900.81 int=3976346.75\n",
      "id=(983,5) mass=136.0479 rt=1113.85 int=58645.12 id=(1336,7) mass=136.0480 rt=1094.65 int=42802.10\n",
      "id=(17,5) mass=233.1281 rt=336.52 int=7382659.50 id=(17,7) mass=233.1284 rt=332.91 int=6007172.00\n",
      "id=(1736,5) mass=157.0968 rt=945.58 int=21951.36 id=(1304,7) mass=157.0970 rt=943.75 int=44652.87\n",
      "id=(2588,5) mass=175.0709 rt=1051.61 int=10287.53 id=(2849,7) mass=175.0712 rt=1047.49 int=9599.01\n",
      "FN\n",
      "id=(16,5) mass=233.1282 rt=340.97 int=7520684.50 id=(17,7) mass=233.1284 rt=332.91 int=6007172.00\n",
      "id=(1674,5) mass=157.0968 rt=939.80 int=23400.15 id=(1304,7) mass=157.0970 rt=943.75 int=44652.87\n",
      "id=(2558,5) mass=175.0710 rt=1041.56 int=10495.91 id=(2849,7) mass=175.0712 rt=1047.49 int=9599.01\n",
      "id=(353,5) mass=348.0700 rt=1015.91 int=348817.31 id=(945,7) mass=348.0705 rt=1086.31 int=79878.56\n",
      "id=(33,5) mass=265.1115 rt=1766.40 int=4344222.00 id=(23,7) mass=265.1118 rt=1799.19 int=5165376.00\n",
      "id=(246,5) mass=229.0816 rt=467.56 int=590761.19 id=(199,7) mass=229.0818 rt=458.24 int=1000788.44\n",
      "id=(3750,5) mass=80.0300 rt=2095.96 int=3847.43 id=(2622,7) mass=80.0301 rt=2034.19 int=11593.38\n",
      "id=(245,5) mass=168.9894 rt=864.98 int=591316.81 id=(3359,7) mass=168.9901 rt=928.53 int=6349.99\n",
      "id=(1442,5) mass=164.0079 rt=1161.83 int=29398.26 id=(2290,7) mass=164.0080 rt=1236.31 int=15394.67\n",
      "id=(212,5) mass=142.0262 rt=1160.38 int=731009.12 id=(1143,7) mass=142.0263 rt=1229.39 int=55762.90\n",
      "id=(983,5) mass=136.0479 rt=1113.85 int=58645.12 id=(572,7) mass=136.0480 rt=1040.57 int=201793.06\n",
      "id=(734,5) mass=171.0054 rt=2127.85 int=108670.67 id=(809,7) mass=171.0054 rt=2042.32 int=108989.57\n",
      "id=(41,5) mass=136.0616 rt=896.68 int=3471986.00 id=(30,7) mass=136.0618 rt=900.81 int=3976346.75\n",
      "match_mode=0, mass_tol=10, rt_tol=60, tp=117, fp=7, fn=13, prec=0.944, rec=0.900, f1=0.921, th_prob=1.000\n"
     ]
    }
   ],
   "source": [
    "exp_results = train_test_single(0,  training_data, testing_data, idx)"
   ]
  },
  {
   "cell_type": "code",
   "execution_count": 231,
   "metadata": {
    "collapsed": false
   },
   "outputs": [
    {
     "name": "stdout",
     "output_type": "stream",
     "text": [
      "Training result\n",
      "mass_tol     10.000000\n",
      "rt_tol       60.000000\n",
      "TP           24.000000\n",
      "FP            5.000000\n",
      "FN            9.000000\n",
      "Prec          0.827586\n",
      "Rec           0.727273\n",
      "F1            0.774194\n",
      "Threshold     1.000000\n",
      "Name: 0, dtype: float64\n"
     ]
    }
   ],
   "source": [
    "print \"Training result\"\n",
    "print exp_results[2]"
   ]
  },
  {
   "cell_type": "code",
   "execution_count": 223,
   "metadata": {
    "collapsed": false
   },
   "outputs": [
    {
     "name": "stdout",
     "output_type": "stream",
     "text": [
      "Testing result\n",
      "mass_tol      10.000000\n",
      "rt_tol        60.000000\n",
      "TP           117.000000\n",
      "FP             7.000000\n",
      "FN            13.000000\n",
      "Prec           0.943548\n",
      "Rec            0.900000\n",
      "F1             0.921260\n",
      "Threshold      1.000000\n",
      "Name: 0, dtype: float64\n"
     ]
    }
   ],
   "source": [
    "print \"Testing result\"\n",
    "df = pd.DataFrame([exp_results[3]], columns=['mass_tol', 'rt_tol', 'TP', 'FP', 'FN', 'Prec', 'Rec', 'F1', 'Threshold'])\n",
    "print df.iloc[0]"
   ]
  },
  {
   "cell_type": "code",
   "execution_count": null,
   "metadata": {
    "collapsed": true
   },
   "outputs": [],
   "source": []
  }
 ],
 "metadata": {
  "kernelspec": {
   "display_name": "Python 2",
   "language": "python",
   "name": "python2"
  },
  "language_info": {
   "codemirror_mode": {
    "name": "ipython",
    "version": 2
   },
   "file_extension": ".py",
   "mimetype": "text/x-python",
   "name": "python",
   "nbconvert_exporter": "python",
   "pygments_lexer": "ipython2",
   "version": "2.7.10"
  }
 },
 "nbformat": 4,
 "nbformat_minor": 0
}
