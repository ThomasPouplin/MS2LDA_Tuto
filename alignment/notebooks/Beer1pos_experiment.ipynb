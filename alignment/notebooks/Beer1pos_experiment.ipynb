{
 "cells": [
  {
   "cell_type": "markdown",
   "metadata": {},
   "source": [
    "<h1>Experiment with beer1pos</h1>"
   ]
  },
  {
   "cell_type": "code",
   "execution_count": 1,
   "metadata": {
    "collapsed": false
   },
   "outputs": [],
   "source": [
    "%load_ext autoreload\n",
    "%autoreload 2\n",
    "%matplotlib inline"
   ]
  },
  {
   "cell_type": "code",
   "execution_count": 2,
   "metadata": {
    "collapsed": true
   },
   "outputs": [],
   "source": [
    "import os\n",
    "import sys\n",
    "basedir = '/home/joewandy/git/metabolomics_tools'\n",
    "sys.path.append(basedir)"
   ]
  },
  {
   "cell_type": "code",
   "execution_count": 3,
   "metadata": {
    "collapsed": false
   },
   "outputs": [
    {
     "name": "stderr",
     "output_type": "stream",
     "text": [
      "/home/joewandy/anaconda/lib/python2.7/site-packages/matplotlib/__init__.py:872: UserWarning: axes.color_cycle is deprecated and replaced with axes.prop_cycle; please use the latter.\n",
      "  warnings.warn(self.msg_depr % (key, alt_key))\n"
     ]
    }
   ],
   "source": [
    "import numpy as np\n",
    "import pylab as plt\n",
    "import pandas as pd\n",
    "import seaborn as sns\n",
    "sns.set(color_codes=True)\n",
    "from IPython.display import display, HTML\n",
    "\n",
    "import cPickle\n",
    "import random\n",
    "import copy\n",
    "import glob\n",
    "import gzip"
   ]
  },
  {
   "cell_type": "code",
   "execution_count": 4,
   "metadata": {
    "collapsed": false
   },
   "outputs": [],
   "source": [
    "from alignment.models import HyperPars as AlignmentHyperPars\n",
    "from alignment.experiment import *"
   ]
  },
  {
   "cell_type": "markdown",
   "metadata": {},
   "source": [
    "<h2>Experiment Parameters</h2>"
   ]
  },
  {
   "cell_type": "markdown",
   "metadata": {},
   "source": [
    "Set up all the experiment parameters"
   ]
  },
  {
   "cell_type": "code",
   "execution_count": 5,
   "metadata": {
    "collapsed": true
   },
   "outputs": [],
   "source": [
    "input_dir = '/home/joewandy/git/metabolomics_tools/alignment/input/beer1pos'\n",
    "transformation_file = '/home/joewandy/git/metabolomics_tools/alignment/pos_transformations_full.yml'\n",
    "gt_file = '/home/joewandy/git/metabolomics_tools/alignment/input/beer1pos/ground_truth/beer1.positive.dat'"
   ]
  },
  {
   "cell_type": "code",
   "execution_count": 6,
   "metadata": {
    "collapsed": false
   },
   "outputs": [
    {
     "name": "stdout",
     "output_type": "stream",
     "text": [
      "Hyperparameters across_file_mass_tol=6, across_file_rt_tol=30, alpha_mass=1, beta=0.1, dp_alpha=1000.0, mass_clustering_n_iterations=400, matching_alpha=0.3, rt_clustering_burnin=0, rt_clustering_nsamps=200, t=0.0, within_file_mass_tol=3, within_file_rt_tol=5\n"
     ]
    }
   ],
   "source": [
    "hp = AlignmentHyperPars()    \n",
    "hp.within_file_mass_tol = 3\n",
    "hp.within_file_rt_tol = 5\n",
    "hp.across_file_mass_tol = 6\n",
    "hp.across_file_rt_tol = 30\n",
    "hp.alpha_mass = 1\n",
    "hp.dp_alpha = 1000.0\n",
    "hp.beta = 0.1\n",
    "hp.t = 0.0\n",
    "hp.mass_clustering_n_iterations = 400\n",
    "hp.rt_clustering_nsamps = 200\n",
    "hp.rt_clustering_burnin = 0\n",
    "\n",
    "print hp"
   ]
  },
  {
   "cell_type": "code",
   "execution_count": 7,
   "metadata": {
    "collapsed": true
   },
   "outputs": [],
   "source": [
    "evaluation_method = 2\n",
    "n_iter = 1"
   ]
  },
  {
   "cell_type": "code",
   "execution_count": 8,
   "metadata": {
    "collapsed": false
   },
   "outputs": [],
   "source": [
    "param_list = []\n",
    "for mass_tol in range(2, 7, 2):\n",
    "    for rt_tol in range(5, 31, 5):\n",
    "        param_list.append((mass_tol, rt_tol))"
   ]
  },
  {
   "cell_type": "code",
   "execution_count": 9,
   "metadata": {
    "collapsed": true
   },
   "outputs": [],
   "source": [
    "param_list_mwg = []\n",
    "for mass_tol in range(2, 7, 2):\n",
    "    for rt_tol in range(5, 31, 5):\n",
    "        for group_tol in range(2, 11, 2):\n",
    "            for alpha in range(0, 11, 2):\n",
    "                param_list_mwg.append((mass_tol, rt_tol, group_tol, alpha/10.0))"
   ]
  },
  {
   "cell_type": "markdown",
   "metadata": {},
   "source": [
    "<h2>Create the first-stage clustering for all input files -- Gibbs, mh_biggest=True</h2>"
   ]
  },
  {
   "cell_type": "code",
   "execution_count": 10,
   "metadata": {
    "collapsed": false,
    "scrolled": true
   },
   "outputs": [
    {
     "name": "stdout",
     "output_type": "stream",
     "text": [
      "Loaded from pickles/beer1pos/clustering.p\n"
     ]
    }
   ],
   "source": [
    "combined_list = load_or_create_clustering('pickles/beer1pos/clustering.p', input_dir, transformation_file, hp)"
   ]
  },
  {
   "cell_type": "markdown",
   "metadata": {},
   "source": [
    "<h2>Run experiment with beer1pos</h2>"
   ]
  },
  {
   "cell_type": "code",
   "execution_count": 11,
   "metadata": {
    "collapsed": false
   },
   "outputs": [],
   "source": [
    "n_files = 3"
   ]
  },
  {
   "cell_type": "code",
   "execution_count": 12,
   "metadata": {
    "collapsed": false
   },
   "outputs": [
    {
     "name": "stdout",
     "output_type": "stream",
     "text": [
      "Loaded from pickles/beer1pos/training_list.p\n",
      "['beer1-file1.csv', 'beer1-file3.csv', 'beer1-file2.csv']\n"
     ]
    }
   ],
   "source": [
    "training_list = load_or_create_filelist('pickles/beer1pos/training_list.p', combined_list, n_iter, n_files)"
   ]
  },
  {
   "cell_type": "code",
   "execution_count": 13,
   "metadata": {
    "collapsed": false
   },
   "outputs": [
    {
     "name": "stdout",
     "output_type": "stream",
     "text": [
      "Loaded from pickles/beer1pos/testing_list.p\n",
      "['beer1-file1.csv', 'beer1-file3.csv', 'beer1-file2.csv']\n"
     ]
    }
   ],
   "source": [
    "testing_list = load_or_create_filelist('pickles/beer1pos/testing_list.p', combined_list, n_iter, n_files)"
   ]
  },
  {
   "cell_type": "code",
   "execution_count": 14,
   "metadata": {
    "collapsed": false,
    "scrolled": true
   },
   "outputs": [
    {
     "name": "stdout",
     "output_type": "stream",
     "text": [
      "Loaded from pickles/beer1pos/res_match_feature.p\n"
     ]
    }
   ],
   "source": [
    "exp_results_1a = run_experiment(0, training_list, testing_list, param_list, 'pickles/beer1pos/res_match_feature.p', hp, evaluation_method, transformation_file, gt_file)"
   ]
  },
  {
   "cell_type": "code",
   "execution_count": null,
   "metadata": {
    "collapsed": false,
    "scrolled": true
   },
   "outputs": [],
   "source": [
    "exp_results_1b = run_experiment(1, training_list, testing_list, param_list, 'pickles/beer1pos/res_match_cluster.p', hp, evaluation_method, transformation_file, gt_file)"
   ]
  },
  {
   "cell_type": "code",
   "execution_count": null,
   "metadata": {
    "collapsed": false
   },
   "outputs": [],
   "source": [
    "exp_results_1c = run_experiment(3, training_list, testing_list, param_list, 'pickles/beer1pos/res_mwg.p', hp, evaluation_method, transformation_file, gt_file)"
   ]
  },
  {
   "cell_type": "code",
   "execution_count": null,
   "metadata": {
    "collapsed": false,
    "scrolled": true
   },
   "outputs": [],
   "source": [
    "def second_stage_clustering(training_list, i):\n",
    "\n",
    "    training_data = training_list[i]\n",
    "    print \"Iteration %d\" % i\n",
    "    print \"Training on %s\" % [x[0].filename for x in training_data]\n",
    "\n",
    "    param = (hp.across_file_mass_tol, hp.across_file_rt_tol )\n",
    "    selected_files = [x[0] for x in training_data]  \n",
    "    selected_clusterings = [x[1] for x in training_data]            \n",
    "    aligner = Aligner(selected_files, None, transformation_file, \n",
    "                           hp, verbose=False, seed=1234567890, parallel=False)\n",
    "    match_mode = 2\n",
    "    aligner.run(match_mode, first_stage_clustering_results=selected_clusterings)\n",
    "\n",
    "    res = aligner.evaluate_performance(gt_file, verbose=False, print_TP=True, method=evaluation_method)\n",
    "    performances = []\n",
    "    for r in res:\n",
    "        performances.append(param+r)\n",
    "    df = pd.DataFrame(performances, columns=['mass_tol', 'rt_tol', 'TP', 'FP', 'FN', 'Prec', 'Rec', 'F1', 'Threshold'])\n",
    "    return df"
   ]
  },
  {
   "cell_type": "code",
   "execution_count": null,
   "metadata": {
    "collapsed": false,
    "scrolled": true
   },
   "outputs": [
    {
     "name": "stdout",
     "output_type": "stream",
     "text": [
      "Iteration 0\n",
      "Training on ['beer1-file1.csv', 'beer1-file3.csv', 'beer1-file2.csv']\n",
      "n 0\tcluster_list=1\tlast_K = 1\n",
      "n 1\tcluster_list=7\tlast_K = 3\n"
     ]
    },
    {
     "name": "stderr",
     "output_type": "stream",
     "text": [
      "[Parallel(n_jobs=1)]: Done   1 jobs       | elapsed:    0.0s\n",
      "[Parallel(n_jobs=1)]: Done   2 jobs       | elapsed:    0.3s\n"
     ]
    },
    {
     "name": "stdout",
     "output_type": "stream",
     "text": [
      "n 2\tcluster_list=1\tlast_K = 1\n",
      "n 3\tcluster_list=3\tlast_K = 2\n",
      "n 4\tcluster_list=6\tlast_K = 2\n",
      "n 5\tcluster_list=3\tlast_K = 1\n",
      "n 6\tcluster_list=3\tlast_K = 1\n",
      "n 7\tcluster_list=1\tlast_K = 1\n"
     ]
    },
    {
     "name": "stderr",
     "output_type": "stream",
     "text": [
      "[Parallel(n_jobs=1)]: Done   5 jobs       | elapsed:    0.6s\n",
      "[Parallel(n_jobs=1)]: Done   8 jobs       | elapsed:    0.7s\n"
     ]
    },
    {
     "name": "stdout",
     "output_type": "stream",
     "text": [
      "n 8\tcluster_list=1\tlast_K = 1\n",
      "n 9\tcluster_list=1\tlast_K = 1\n",
      "n 10\tcluster_list=15\tlast_K = 12\n",
      "n 11\tcluster_list=6\tlast_K = 3\n",
      "n 12\tcluster_list=1\tlast_K = 1\n",
      "n 13\tcluster_list=7\tlast_K = 3\n",
      "n 14\tcluster_list=1\tlast_K = 1\n",
      "n 15\tcluster_list=1\tlast_K = 1\n",
      "n 16\tcluster_list=2\tlast_K = 1\n",
      "n 17\tcluster_list=4\tlast_K = 3\n"
     ]
    },
    {
     "name": "stderr",
     "output_type": "stream",
     "text": [
      "[Parallel(n_jobs=1)]: Done  13 jobs       | elapsed:    2.0s\n",
      "[Parallel(n_jobs=1)]: Done  18 jobs       | elapsed:    2.5s\n"
     ]
    },
    {
     "name": "stdout",
     "output_type": "stream",
     "text": [
      "n 18\tcluster_list=5\tlast_K = 2\n",
      "n 19\tcluster_list=1\tlast_K = 1\n",
      "n 20\tcluster_list=2\tlast_K = 1\n",
      "n 21\tcluster_list=2\tlast_K = 1\n",
      "n 22\tcluster_list=2\tlast_K = 2\n",
      "n 23\tcluster_list=14\tlast_K = 6\n",
      "n 24\tcluster_list=1\tlast_K = 1\n",
      "n 25\tcluster_list=3\tlast_K = 3\n",
      "n 26\tcluster_list=2\tlast_K = 2\n",
      "n 27\tcluster_list=18\tlast_K = 7\n",
      "n 28\tcluster_list=18\tlast_K = 11\n",
      "n 29\tcluster_list=17\tlast_K = 17\n",
      "n 30\tcluster_list=12\tlast_K = 6\n",
      "n 31\tcluster_list=1\tlast_K = 1\n"
     ]
    },
    {
     "name": "stderr",
     "output_type": "stream",
     "text": [
      "[Parallel(n_jobs=1)]: Done  25 jobs       | elapsed:    3.5s\n",
      "[Parallel(n_jobs=1)]: Done  32 jobs       | elapsed:    7.7s\n"
     ]
    },
    {
     "name": "stdout",
     "output_type": "stream",
     "text": [
      "n 32\tcluster_list=2\tlast_K = 1\n",
      "n 33\tcluster_list=3\tlast_K = 3\n",
      "n 34\tcluster_list=8\tlast_K = 4\n",
      "n 35\tcluster_list=3\tlast_K = 1\n",
      "n 36\tcluster_list=1\tlast_K = 1\n",
      "n 37\tcluster_list=4\tlast_K = 2\n",
      "n 38\tcluster_list=2\tlast_K = 1\n",
      "n 39\tcluster_list=13\tlast_K = 6\n",
      "n 40\tcluster_list=1\tlast_K = 1\n",
      "n 41\tcluster_list=5\tlast_K = 2\n",
      "n 42\tcluster_list=1\tlast_K = 1\n",
      "n 43\tcluster_list=15\tlast_K = 9\n",
      "n 44\tcluster_list=1\tlast_K = 1\n",
      "n 45\tcluster_list=3\tlast_K = 1\n",
      "n 46\tcluster_list=2\tlast_K = 2\n",
      "n 47\tcluster_list=2\tlast_K = 2\n",
      "n 48\tcluster_list=4\tlast_K = 2\n",
      "n 49\tcluster_list=7\tlast_K = 4\n"
     ]
    },
    {
     "name": "stderr",
     "output_type": "stream",
     "text": [
      "[Parallel(n_jobs=1)]: Done  41 jobs       | elapsed:    9.1s\n",
      "[Parallel(n_jobs=1)]: Done  50 jobs       | elapsed:   10.8s\n"
     ]
    },
    {
     "name": "stdout",
     "output_type": "stream",
     "text": [
      "n 50\tcluster_list=5\tlast_K = 3\n",
      "n 51\tcluster_list=2\tlast_K = 1\n",
      "n 52\tcluster_list=11\tlast_K = 5\n",
      "n 53\tcluster_list=2\tlast_K = 2\n",
      "n 54\tcluster_list=4\tlast_K = 4\n",
      "n 55\tcluster_list=2\tlast_K = 2\n",
      "n 56\tcluster_list=5\tlast_K = 3\n",
      "n 57\tcluster_list=3\tlast_K = 1\n",
      "n 58\tcluster_list=4\tlast_K = 3\n",
      "n 59\tcluster_list=14\tlast_K = 13\n",
      "n 60\tcluster_list=9\tlast_K = 4\n",
      "n 61\tcluster_list=1\tlast_K = 1\n",
      "n 62\tcluster_list=3\tlast_K = 1\n",
      "n 63\tcluster_list=1\tlast_K = 1\n",
      "n 64\tcluster_list=3\tlast_K = 1\n",
      "n 65\tcluster_list=3\tlast_K = 2\n",
      "n 66\tcluster_list=3\tlast_K = 1\n",
      "n 67\tcluster_list=3\tlast_K = 1\n",
      "n 68\tcluster_list=1\tlast_K = 1\n",
      "n 69\tcluster_list=5\tlast_K = 2\n",
      "n 70\tcluster_list=5\tlast_K = 3\n",
      "n 71\tcluster_list=1\tlast_K = 1\n"
     ]
    },
    {
     "name": "stderr",
     "output_type": "stream",
     "text": [
      "[Parallel(n_jobs=1)]: Done  61 jobs       | elapsed:   13.7s\n",
      "[Parallel(n_jobs=1)]: Done  72 jobs       | elapsed:   14.5s\n"
     ]
    },
    {
     "name": "stdout",
     "output_type": "stream",
     "text": [
      "n 72\tcluster_list=3\tlast_K = 1\n",
      "n 73\tcluster_list=17\tlast_K = 8\n",
      "n 74\tcluster_list=7\tlast_K = 5\n",
      "n 75\tcluster_list=5\tlast_K = 2\n",
      "n 76\tcluster_list=1\tlast_K = 1\n",
      "n 77\tcluster_list=2\tlast_K = 2\n",
      "n 78\tcluster_list=1\tlast_K = 1\n",
      "n 79\tcluster_list=9\tlast_K = 4\n",
      "n 80\tcluster_list=18\tlast_K = 8\n",
      "n 81\tcluster_list=11\tlast_K = 6\n",
      "n 82\tcluster_list=14\tlast_K = 10\n",
      "n 83\tcluster_list=1\tlast_K = 1\n",
      "n 84\tcluster_list=10\tlast_K = 5\n",
      "n 85\tcluster_list=2\tlast_K = 2\n",
      "n 86\tcluster_list=3\tlast_K = 1\n",
      "n 87\tcluster_list=6\tlast_K = 3\n",
      "n 88\tcluster_list=26\tlast_K = 23\n",
      "n 89\tcluster_list=3\tlast_K = 3\n",
      "n 90\tcluster_list=12\tlast_K = 4\n",
      "n 91\tcluster_list=6\tlast_K = 5\n",
      "n 92\tcluster_list=5\tlast_K = 2\n",
      "n 93\tcluster_list=16\tlast_K = 6\n",
      "n 94\tcluster_list=3\tlast_K = 1\n",
      "n 95\tcluster_list=2\tlast_K = 1\n",
      "n 96\tcluster_list=1\tlast_K = 1\n",
      "n 97\tcluster_list=11\tlast_K = 10\n"
     ]
    },
    {
     "name": "stderr",
     "output_type": "stream",
     "text": [
      "[Parallel(n_jobs=1)]: Done  85 jobs       | elapsed:   19.1s\n",
      "[Parallel(n_jobs=1)]: Done  98 jobs       | elapsed:   24.9s\n"
     ]
    },
    {
     "name": "stdout",
     "output_type": "stream",
     "text": [
      "n 98\tcluster_list=7\tlast_K = 3\n",
      "n 99\tcluster_list=5\tlast_K = 3\n",
      "n 100\tcluster_list=5\tlast_K = 3\n",
      "n 101\tcluster_list=1\tlast_K = 1\n",
      "n 102\tcluster_list=3\tlast_K = 1\n",
      "n 103\tcluster_list=5\tlast_K = 4\n",
      "n 104\tcluster_list=4\tlast_K = 3\n",
      "n 105\tcluster_list=4\tlast_K = 2\n",
      "n 106\tcluster_list=1\tlast_K = 1\n",
      "n 107\tcluster_list=1\tlast_K = 1\n",
      "n 108\tcluster_list=3\tlast_K = 1\n",
      "n 109\tcluster_list=3\tlast_K = 1\n",
      "n 110\tcluster_list=24\tlast_K = 15\n",
      "n 111\tcluster_list=1\tlast_K = 1\n",
      "n 112\tcluster_list=5\tlast_K = 5\n",
      "n 113\tcluster_list=1\tlast_K = 1\n",
      "n 114\tcluster_list=2\tlast_K = 1\n",
      "n 115\tcluster_list=3\tlast_K = 1\n",
      "n 116\tcluster_list=4\tlast_K = 3\n",
      "n 117\tcluster_list=1\tlast_K = 1\n",
      "n 118\tcluster_list=3\tlast_K = 2\n",
      "n 119\tcluster_list=3\tlast_K = 2\n",
      "n 120\tcluster_list=2\tlast_K = 2\n",
      "n 121\tcluster_list=14\tlast_K = 6\n",
      "n 122\tcluster_list=23\tlast_K = 9\n",
      "n 123\tcluster_list=7\tlast_K = 3\n",
      "n 124\tcluster_list=1\tlast_K = 1\n",
      "n 125\tcluster_list=3\tlast_K = 3\n",
      "n 126\tcluster_list=5\tlast_K = 3\n",
      "n 127\tcluster_list=1\tlast_K = 1\n"
     ]
    },
    {
     "name": "stderr",
     "output_type": "stream",
     "text": [
      "[Parallel(n_jobs=1)]: Done 113 jobs       | elapsed:   28.2s\n",
      "[Parallel(n_jobs=1)]: Done 128 jobs       | elapsed:   31.3s\n"
     ]
    },
    {
     "name": "stdout",
     "output_type": "stream",
     "text": [
      "n 128\tcluster_list=1\tlast_K = 1\n",
      "n 129\tcluster_list=5\tlast_K = 2\n",
      "n 130\tcluster_list=11\tlast_K = 5\n",
      "n 131\tcluster_list=3\tlast_K = 3\n",
      "n 132\tcluster_list=5\tlast_K = 3\n",
      "n 133\tcluster_list=2\tlast_K = 2\n",
      "n 134\tcluster_list=7\tlast_K = 3\n",
      "n 135\tcluster_list=3\tlast_K = 1\n",
      "n 136\tcluster_list=19\tlast_K = 13\n",
      "n 137\tcluster_list=7\tlast_K = 3\n",
      "n 138\tcluster_list=2\tlast_K = 1\n",
      "n 139\tcluster_list=6\tlast_K = 2\n",
      "n 140\tcluster_list=5\tlast_K = 3\n",
      "n 141\tcluster_list=4\tlast_K = 2\n",
      "n 142\tcluster_list=2\tlast_K = 1\n",
      "n 143\tcluster_list=1\tlast_K = 1\n",
      "n 144\tcluster_list=6\tlast_K = 3\n",
      "n 145\tcluster_list=3\tlast_K = 2\n",
      "n 146\tcluster_list=9\tlast_K = 5\n",
      "n 147\tcluster_list=4\tlast_K = 2\n",
      "n 148\tcluster_list=2\tlast_K = 1\n",
      "n 149\tcluster_list=9\tlast_K = 4\n",
      "n 150\tcluster_list=1\tlast_K = 1\n",
      "n 151\tcluster_list=3\tlast_K = 1\n",
      "n 152\tcluster_list=3\tlast_K = 2\n",
      "n 153\tcluster_list=1\tlast_K = 1\n",
      "n 154\tcluster_list=9\tlast_K = 5\n",
      "n 155\tcluster_list=3\tlast_K = 2\n",
      "n 156\tcluster_list=1\tlast_K = 1\n",
      "n 157\tcluster_list=3\tlast_K = 2\n",
      "n 158\tcluster_list=2\tlast_K = 2\n",
      "n 159\tcluster_list=1\tlast_K = 1\n",
      "n 160\tcluster_list=16\tlast_K = 6\n",
      "n 161\tcluster_list=3\tlast_K = 1\n"
     ]
    },
    {
     "name": "stderr",
     "output_type": "stream",
     "text": [
      "[Parallel(n_jobs=1)]: Done 145 jobs       | elapsed:   35.1s\n",
      "[Parallel(n_jobs=1)]: Done 162 jobs       | elapsed:   37.9s\n"
     ]
    },
    {
     "name": "stdout",
     "output_type": "stream",
     "text": [
      "n 162\tcluster_list=3\tlast_K = 1\n",
      "n 163\tcluster_list=3\tlast_K = 1\n",
      "n 164\tcluster_list=18\tlast_K = 7\n",
      "n 165\tcluster_list=1\tlast_K = 1\n",
      "n 166\tcluster_list=10\tlast_K = 6\n",
      "n 167\tcluster_list=13\tlast_K = 5\n",
      "n 168\tcluster_list=14\tlast_K = 10\n",
      "n 169\tcluster_list=2\tlast_K = 2\n",
      "n 170\tcluster_list=1\tlast_K = 1\n",
      "n 171\tcluster_list=6\tlast_K = 4\n",
      "n 172\tcluster_list=13\tlast_K = 7\n",
      "n 173\tcluster_list=9\tlast_K = 3\n",
      "n 174\tcluster_list=2\tlast_K = 2\n",
      "n 175\tcluster_list=6\tlast_K = 4\n",
      "n 176\tcluster_list=12\tlast_K = 12\n",
      "n 177\tcluster_list=37\tlast_K = 16\n",
      "n 178\tcluster_list=5\tlast_K = 3\n",
      "n 179\tcluster_list=6\tlast_K = 3\n",
      "n 180\tcluster_list=8\tlast_K = 3\n",
      "n 181\tcluster_list=4\tlast_K = 2\n",
      "n 182\tcluster_list=6\tlast_K = 2\n",
      "n 183\tcluster_list=11\tlast_K = 8\n",
      "n 184\tcluster_list=8\tlast_K = 6\n",
      "n 185\tcluster_list=5\tlast_K = 3\n",
      "n 186\tcluster_list=1\tlast_K = 1\n",
      "n 187\tcluster_list=1\tlast_K = 1\n",
      "n 188\tcluster_list=1\tlast_K = 1\n",
      "n 189\tcluster_list=1\tlast_K = 1\n",
      "n 190\tcluster_list=3\tlast_K = 1\n",
      "n 191\tcluster_list=14\tlast_K = 6\n",
      "n 192\tcluster_list=1\tlast_K = 1\n",
      "n 193\tcluster_list=2\tlast_K = 1\n",
      "n 194\tcluster_list=3\tlast_K = 1\n",
      "n 195\tcluster_list=1\tlast_K = 1\n",
      "n 196\tcluster_list=47\tlast_K = 28\n",
      "n 197\tcluster_list=1\tlast_K = 1\n",
      "n 198\tcluster_list=1\tlast_K = 1\n",
      "n 199\tcluster_list=4\tlast_K = 2\n"
     ]
    },
    {
     "name": "stderr",
     "output_type": "stream",
     "text": [
      "[Parallel(n_jobs=1)]: Done 181 jobs       | elapsed:   46.8s\n",
      "[Parallel(n_jobs=1)]: Done 200 jobs       | elapsed:   54.9s\n"
     ]
    },
    {
     "name": "stdout",
     "output_type": "stream",
     "text": [
      "n 200\tcluster_list=9\tlast_K = 7\n",
      "n 201\tcluster_list=6\tlast_K = 4\n",
      "n 202\tcluster_list=3\tlast_K = 1\n",
      "n 203\tcluster_list=1\tlast_K = 1\n",
      "n 204\tcluster_list=1\tlast_K = 1\n",
      "n 205\tcluster_list=21\tlast_K = 19\n",
      "n 206\tcluster_list=1\tlast_K = 1\n",
      "n 207\tcluster_list=8\tlast_K = 4\n",
      "n 208\tcluster_list=5\tlast_K = 4\n",
      "n 209\tcluster_list=1\tlast_K = 1\n",
      "n 210\tcluster_list=1\tlast_K = 1\n",
      "n 211\tcluster_list=2\tlast_K = 2\n",
      "n 212\tcluster_list=6\tlast_K = 3\n",
      "n 213\tcluster_list=9\tlast_K = 3\n",
      "n 214\tcluster_list=1\tlast_K = 1\n",
      "n 215\tcluster_list=3\tlast_K = 1\n",
      "n 216\tcluster_list=1\tlast_K = 1\n",
      "n 217\tcluster_list=1\tlast_K = 1\n",
      "n 218\tcluster_list=15\tlast_K = 6\n",
      "n 219\tcluster_list=1\tlast_K = 1\n",
      "n 220\tcluster_list=3\tlast_K = 1\n",
      "n 221\tcluster_list=1\tlast_K = 1\n",
      "n 222\tcluster_list=20\tlast_K = 17\n",
      "n 223\tcluster_list=4\tlast_K = 4\n",
      "n 224\tcluster_list=3\tlast_K = 1\n",
      "n 225\tcluster_list=2\tlast_K = 2\n",
      "n 226\tcluster_list=6\tlast_K = 4\n",
      "n 227\tcluster_list=5\tlast_K = 3\n",
      "n 228\tcluster_list=1\tlast_K = 1\n",
      "n 229\tcluster_list=3\tlast_K = 1\n",
      "n 230\tcluster_list=3\tlast_K = 1\n",
      "n 231\tcluster_list=3\tlast_K = 1\n",
      "n 232\tcluster_list=4\tlast_K = 2\n"
     ]
    }
   ],
   "source": [
    "df1 = second_stage_clustering(training_list, 0)"
   ]
  },
  {
   "cell_type": "code",
   "execution_count": null,
   "metadata": {
    "collapsed": false
   },
   "outputs": [],
   "source": [
    "df1.to_pickle('pickles/beer1pos/df1.p')"
   ]
  },
  {
   "cell_type": "markdown",
   "metadata": {},
   "source": [
    "<h2>Plotting</h2>"
   ]
  },
  {
   "cell_type": "code",
   "execution_count": null,
   "metadata": {
    "collapsed": false
   },
   "outputs": [],
   "source": [
    "def plot_density(exp_res, title):\n",
    "    training_dfs = []\n",
    "    for item in exp_res:\n",
    "        training_data, training_df, best_training_row, match_res = item\n",
    "        training_dfs.append(training_df)\n",
    "    combined = pd.concat(training_dfs, axis=0)\n",
    "    combined = combined.reset_index(drop=True)\n",
    "#     f, ax = plt.subplots(figsize=(6, 6))    \n",
    "#     sns.kdeplot(combined.Rec, combined.Prec, ax=ax)\n",
    "#     sns.rugplot(combined.Rec, ax=ax)\n",
    "#     sns.rugplot(combined.Prec, vertical=True, ax=ax)    \n",
    "#     ax.set_xlim([0.7, 1.0])\n",
    "#     ax.set_ylim([0.7, 1.0])\n",
    "    g = sns.JointGrid(x=\"Rec\", y=\"Prec\", data=combined, xlim=(0.7, 1.0), ylim=(0.7, 1.0))\n",
    "    g = g.plot_joint(sns.kdeplot)\n",
    "    g = g.plot_marginals(sns.kdeplot, shade=True)\n",
    "    ax = g.ax_joint\n",
    "    ax.set_xlabel('Rec')\n",
    "    ax.set_ylabel('Prec')\n",
    "    ax = g.ax_marg_x\n",
    "    ax.set_title(title)    "
   ]
  },
  {
   "cell_type": "code",
   "execution_count": null,
   "metadata": {
    "collapsed": false
   },
   "outputs": [],
   "source": [
    "plot_density(exp_results_1a, 'Feature matching')\n",
    "plot_density(exp_results_1b, 'Cluster matching')"
   ]
  },
  {
   "cell_type": "code",
   "execution_count": null,
   "metadata": {
    "collapsed": false
   },
   "outputs": [],
   "source": [
    "print exp_results_1a"
   ]
  },
  {
   "cell_type": "code",
   "execution_count": null,
   "metadata": {
    "collapsed": false
   },
   "outputs": [],
   "source": [
    "print exp_results_1b"
   ]
  },
  {
   "cell_type": "code",
   "execution_count": null,
   "metadata": {
    "collapsed": false
   },
   "outputs": [],
   "source": [
    "def plot_scatter(exp_res, idx, df, title):\n",
    "    item = exp_res[idx]\n",
    "    training_data, training_df, best_training_row, match_res = item\n",
    "    training_df = training_df.reset_index(drop=True)\n",
    "    g = sns.JointGrid(x=\"Rec\", y=\"Prec\", data=training_df)\n",
    "    g = g.plot_joint(plt.scatter, color=\".5\", edgecolor=\"white\")\n",
    "    plt.figure(g.fig.number)\n",
    "    plt.plot(df.Rec, df.Prec, '.r-')    \n",
    "    # g = g.plot_marginals(sns.distplot, kde=False, color=\".5\")  \n",
    "    g = g.plot_marginals(sns.kdeplot, shade=True)\n",
    "    ax = g.ax_joint\n",
    "    ax.set_xlabel('Rec')\n",
    "    ax.set_ylabel('Prec')\n",
    "    ax.set_ylim([0.7, 1.0])\n",
    "    ax = g.ax_marg_x\n",
    "    ax.set_title(title)    "
   ]
  },
  {
   "cell_type": "code",
   "execution_count": null,
   "metadata": {
    "collapsed": false
   },
   "outputs": [],
   "source": [
    "plot_scatter(exp_results_1a, 0, df1, 'Title')"
   ]
  },
  {
   "cell_type": "code",
   "execution_count": null,
   "metadata": {
    "collapsed": false
   },
   "outputs": [],
   "source": [
    "plot_scatter(exp_results_1a, 0, df1, 'Title')"
   ]
  },
  {
   "cell_type": "code",
   "execution_count": null,
   "metadata": {
    "collapsed": true
   },
   "outputs": [],
   "source": []
  }
 ],
 "metadata": {
  "kernelspec": {
   "display_name": "Python 2",
   "language": "python",
   "name": "python2"
  },
  "language_info": {
   "codemirror_mode": {
    "name": "ipython",
    "version": 2
   },
   "file_extension": ".py",
   "mimetype": "text/x-python",
   "name": "python",
   "nbconvert_exporter": "python",
   "pygments_lexer": "ipython2",
   "version": "2.7.11"
  }
 },
 "nbformat": 4,
 "nbformat_minor": 0
}
