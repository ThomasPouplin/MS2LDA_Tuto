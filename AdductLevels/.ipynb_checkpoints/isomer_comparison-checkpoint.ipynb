{
 "metadata": {
  "name": "",
  "signature": "sha256:4e1bb9b3ffd8faae8a350fbb446c4570ba9aeef25e74bc458d1064b6d0f63037"
 },
 "nbformat": 3,
 "nbformat_minor": 0,
 "worksheets": [
  {
   "cells": [
    {
     "cell_type": "code",
     "collapsed": false,
     "input": [
      "import sys\n",
      "basedir = '../'\n",
      "sys.path.append(basedir) # need to do this to be able to import the stuff below\n",
      "\n",
      "from dilution_plotter import DilutionPlotter\n",
      "%pylab inline"
     ],
     "language": "python",
     "metadata": {},
     "outputs": [
      {
       "output_type": "stream",
       "stream": "stdout",
       "text": [
        "Populating the interactive namespace from numpy and matplotlib\n"
       ]
      }
     ],
     "prompt_number": 91
    },
    {
     "cell_type": "code",
     "collapsed": false,
     "input": [
      "std1_plotter = DilutionPlotter('std1')\n",
      "std1_plotter.populate_matrix()\n",
      "std2_plotter = DilutionPlotter('std2')\n",
      "std2_plotter.populate_matrix()"
     ],
     "language": "python",
     "metadata": {},
     "outputs": [
      {
       "output_type": "stream",
       "stream": "stdout",
       "text": [
        "Loading everything for std1\n",
        "DONE"
       ]
      },
      {
       "output_type": "stream",
       "stream": "stdout",
       "text": [
        "\n",
        "Loading everything for std2\n",
        "DONE"
       ]
      },
      {
       "output_type": "stream",
       "stream": "stdout",
       "text": [
        "\n"
       ]
      }
     ],
     "prompt_number": 92
    },
    {
     "cell_type": "markdown",
     "metadata": {},
     "source": [
      "Get all the formulas in an easy format"
     ]
    },
    {
     "cell_type": "code",
     "collapsed": false,
     "input": [
      "std1_formulas = []\n",
      "for db in std1_plotter.database:\n",
      "    std1_formulas.append(db.formula)\n",
      "\n",
      "std2_formulas = []\n",
      "for db in std2_plotter.database:\n",
      "    std2_formulas.append(db.formula)\n",
      "    \n",
      "t_names = []\n",
      "for t in std1_plotter.transformations:\n",
      "    t_names.append(t.name)"
     ],
     "language": "python",
     "metadata": {},
     "outputs": [],
     "prompt_number": 93
    },
    {
     "cell_type": "markdown",
     "metadata": {},
     "source": [
      "Intersect_1 and _2 hold the database positions of the matches"
     ]
    },
    {
     "cell_type": "code",
     "collapsed": false,
     "input": [
      "import numpy as np\n",
      "intersect_1 = []\n",
      "intersect_2 = []\n",
      "for pos1 in np.arange(len(std1_formulas)):\n",
      "    f1 = std1_formulas[pos1]\n",
      "    for pos2 in np.arange(len(std2_formulas)):\n",
      "        f2 = std2_formulas[pos2]\n",
      "        if f1 == f2:\n",
      "            intersect_1.append(pos1)\n",
      "            intersect_2.append(pos2)"
     ],
     "language": "python",
     "metadata": {},
     "outputs": [],
     "prompt_number": 94
    },
    {
     "cell_type": "code",
     "collapsed": false,
     "input": [
      "for j in np.arange(len(intersect_1)):\n",
      "    std1_vals = np.zeros((std1_plotter.T,std1_plotter.L))\n",
      "    std2_vals = np.zeros((std1_plotter.T,std1_plotter.L))\n",
      "    for i in np.arange(std1_plotter.T):\n",
      "        std1_vals[i,:] = std1_plotter.trans_logged_results[i][intersect_1[j],:]\n",
      "        std2_vals[i,:] = std2_plotter.trans_logged_results[i][intersect_2[j],:]\n",
      "#     print std1_plotter.database[intersect_1[j]]\n",
      "#     print std2_plotter.database[intersect_2[j]]\n",
      "    plt.figure()\n",
      "    plt.pcolor(std1_vals)\n",
      "    tstr = \"Std1 \" + std1_formulas[intersect_1[j]]\n",
      "    plt.title(tstr)\n",
      "    plt.figure()\n",
      "    plt.pcolor(std2_vals)\n",
      "    tstr = \"Std2 \" + std2_formulas[intersect_2[j]]\n",
      "    plt.title(tstr)"
     ],
     "language": "python",
     "metadata": {},
     "outputs": []
    },
    {
     "cell_type": "code",
     "collapsed": false,
     "input": [],
     "language": "python",
     "metadata": {},
     "outputs": []
    }
   ],
   "metadata": {}
  }
 ]
}