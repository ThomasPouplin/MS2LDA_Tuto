{
 "metadata": {
  "name": "",
  "signature": "sha256:24a2121319b442e16e9746b3f033e020a6286c3d0824e988ff1ae975698fc1a1"
 },
 "nbformat": 3,
 "nbformat_minor": 0,
 "worksheets": [
  {
   "cells": [
    {
     "cell_type": "markdown",
     "metadata": {},
     "source": [
      "Import stuff"
     ]
    },
    {
     "cell_type": "code",
     "collapsed": false,
     "input": [
      "import sys\n",
      "basedir = '../'\n",
      "sys.path.append(basedir) # need to do this to be able to import the stuff below\n",
      "\n",
      "from discretisation.continuous_mass_clusterer import ContinuousVB\n",
      "from discretisation.models import HyperPars\n",
      "from discretisation.preprocessing import FileLoader\n",
      "from discretisation import utils\n",
      "%pylab inline"
     ],
     "language": "python",
     "metadata": {},
     "outputs": [
      {
       "output_type": "stream",
       "stream": "stdout",
       "text": [
        "Populating the interactive namespace from numpy and matplotlib\n"
       ]
      }
     ],
     "prompt_number": 1
    },
    {
     "cell_type": "markdown",
     "metadata": {},
     "source": [
      "Say which dilution files to load"
     ]
    },
    {
     "cell_type": "code",
     "collapsed": false,
     "input": [
      "basedir = '.'\n",
      "dilutions = [\"1:1\", \"1:5\", \"1:10\", \"1:50\", \"1:100\", \"1:1000\"]\n",
      "input_files = [\n",
      "    basedir + '/dilutions_data/Positive/std1/Std1_1.txt',\n",
      "    basedir + '/dilutions_data/Positive/std1/Std1_1in5.txt',\n",
      "    basedir + '/dilutions_data/Positive/std1/Std1_1in10.txt',\n",
      "    basedir + '/dilutions_data/Positive/std1/Std1_1in50.txt',    \n",
      "    basedir + '/dilutions_data/Positive/std1/Std1_1in100.txt',\n",
      "    basedir + '/dilutions_data/Positive/std1/Std1_1in1000.txt'\n",
      "]\n",
      "assert len(input_files) == len(dilutions)\n",
      "database_file = basedir + '/database/std1_mols.csv'\n",
      "transformation_file = basedir + '/mulsubs/mulsub2.txt'    \n",
      "mass_tol = 2\n",
      "rt_tol = 5"
     ],
     "language": "python",
     "metadata": {},
     "outputs": [],
     "prompt_number": 2
    },
    {
     "cell_type": "markdown",
     "metadata": {},
     "source": [
      "Load and cluster all the files"
     ]
    },
    {
     "cell_type": "code",
     "collapsed": false,
     "input": [
      "def load_and_cluster(input_file, database_file, transformation_file, mass_tol, rt_tol):\n",
      "        print \"Loading \" + input_file\n",
      "        loader = FileLoader()        \n",
      "        peak_data = loader.load_model_input(input_file, database_file, transformation_file, mass_tol, rt_tol, make_bins=True)\n",
      "        print \"Clustering \" + input_file\n",
      "        hp = HyperPars()\n",
      "        cluster_model = ContinuousVB(peak_data, hp)\n",
      "        cluster_model.n_iterations = 20\n",
      "        print cluster_model\n",
      "        cluster_model.run()    \n",
      "        return peak_data, cluster_model"
     ],
     "language": "python",
     "metadata": {},
     "outputs": [],
     "prompt_number": 3
    },
    {
     "cell_type": "code",
     "collapsed": false,
     "input": [
      "L = len(dilutions)    \n",
      "filemap = {}\n",
      "for j in range(L):\n",
      "    dil = dilutions[j]\n",
      "    input_file = input_files[j]\n",
      "    load_res = load_and_cluster(input_file, database_file, transformation_file, mass_tol, rt_tol)\n",
      "    filemap[dil] = load_res    "
     ],
     "language": "python",
     "metadata": {},
     "outputs": [
      {
       "output_type": "stream",
       "stream": "stdout",
       "text": [
        "Loading ./dilutions_data/Positive/std1/Std1_1.txt\n",
        "3483 features read"
       ]
      },
      {
       "output_type": "stream",
       "stream": "stdout",
       "text": [
        "\n",
        "Discretising at mass_tol=2, rt_tol=5\n",
        ". "
       ]
      },
      {
       "output_type": "stream",
       "stream": "stdout",
       "text": [
        ". "
       ]
      },
      {
       "output_type": "stream",
       "stream": "stdout",
       "text": [
        ". "
       ]
      },
      {
       "output_type": "stream",
       "stream": "stdout",
       "text": [
        ". "
       ]
      },
      {
       "output_type": "stream",
       "stream": "stdout",
       "text": [
        ". "
       ]
      },
      {
       "output_type": "stream",
       "stream": "stdout",
       "text": [
        ". "
       ]
      },
      {
       "output_type": "stream",
       "stream": "stdout",
       "text": [
        ". "
       ]
      },
      {
       "output_type": "stream",
       "stream": "stdout",
       "text": [
        ". "
       ]
      },
      {
       "output_type": "stream",
       "stream": "stdout",
       "text": [
        ". "
       ]
      },
      {
       "output_type": "stream",
       "stream": "stdout",
       "text": [
        ". "
       ]
      },
      {
       "output_type": "stream",
       "stream": "stdout",
       "text": [
        ". "
       ]
      },
      {
       "output_type": "stream",
       "stream": "stdout",
       "text": [
        ". "
       ]
      },
      {
       "output_type": "stream",
       "stream": "stdout",
       "text": [
        ". "
       ]
      },
      {
       "output_type": "stream",
       "stream": "stdout",
       "text": [
        ". "
       ]
      },
      {
       "output_type": "stream",
       "stream": "stdout",
       "text": [
        ". "
       ]
      },
      {
       "output_type": "stream",
       "stream": "stdout",
       "text": [
        ". "
       ]
      },
      {
       "output_type": "stream",
       "stream": "stdout",
       "text": [
        ". "
       ]
      },
      {
       "output_type": "stream",
       "stream": "stdout",
       "text": [
        ". "
       ]
      },
      {
       "output_type": "stream",
       "stream": "stdout",
       "text": [
        ". "
       ]
      },
      {
       "output_type": "stream",
       "stream": "stdout",
       "text": [
        ". "
       ]
      },
      {
       "output_type": "stream",
       "stream": "stdout",
       "text": [
        ". "
       ]
      },
      {
       "output_type": "stream",
       "stream": "stdout",
       "text": [
        ". "
       ]
      },
      {
       "output_type": "stream",
       "stream": "stdout",
       "text": [
        ". "
       ]
      },
      {
       "output_type": "stream",
       "stream": "stdout",
       "text": [
        ". "
       ]
      },
      {
       "output_type": "stream",
       "stream": "stdout",
       "text": [
        ". "
       ]
      },
      {
       "output_type": "stream",
       "stream": "stdout",
       "text": [
        ". "
       ]
      },
      {
       "output_type": "stream",
       "stream": "stdout",
       "text": [
        ". "
       ]
      },
      {
       "output_type": "stream",
       "stream": "stdout",
       "text": [
        ". "
       ]
      },
      {
       "output_type": "stream",
       "stream": "stdout",
       "text": [
        ". "
       ]
      },
      {
       "output_type": "stream",
       "stream": "stdout",
       "text": [
        ". "
       ]
      },
      {
       "output_type": "stream",
       "stream": "stdout",
       "text": [
        ". "
       ]
      },
      {
       "output_type": "stream",
       "stream": "stdout",
       "text": [
        ". "
       ]
      },
      {
       "output_type": "stream",
       "stream": "stdout",
       "text": [
        ". "
       ]
      },
      {
       "output_type": "stream",
       "stream": "stdout",
       "text": [
        ". "
       ]
      },
      {
       "output_type": "stream",
       "stream": "stdout",
       "text": [
        ".\n"
       ]
      },
      {
       "output_type": "stream",
       "stream": "stdout",
       "text": [
        "Total bins=3483 total features=3483\n",
        "Clustering ./dilutions_data/Positive/std1/Std1_1.txt\n",
        "Continuous Clusterer initialised - wow\n",
        "Variational Bayes for continuous mass model\n",
        "Hyperparameters alpha=100.0, mass_prec=100, mass_prior_prec=100, rt_prec=10, rt_prior_prec=100\n",
        "n_iterations = 20\n",
        "Running the clustering\n",
        "914 peaks to be re-sampled\n",
        "Iteration 0"
       ]
      },
      {
       "output_type": "stream",
       "stream": "stdout",
       "text": [
        "\n"
       ]
      },
      {
       "output_type": "stream",
       "stream": "stdout",
       "text": [
        "Change in Z: 173.530752667\n",
        "Iteration 1\n"
       ]
      },
      {
       "output_type": "stream",
       "stream": "stdout",
       "text": [
        "Change in Z: 22.5782559787\n",
        "Iteration 2\n"
       ]
      },
      {
       "output_type": "stream",
       "stream": "stdout",
       "text": [
        "Change in Z: 20.0290904076\n",
        "Iteration 3\n"
       ]
      },
      {
       "output_type": "stream",
       "stream": "stdout",
       "text": [
        "Change in Z: 2.42054712062\n",
        "Iteration 4\n"
       ]
      },
      {
       "output_type": "stream",
       "stream": "stdout",
       "text": [
        "Change in Z: 3.07485254641\n",
        "Iteration 5\n"
       ]
      },
      {
       "output_type": "stream",
       "stream": "stdout",
       "text": [
        "Change in Z: 1.43978457189\n",
        "Iteration 6\n"
       ]
      },
      {
       "output_type": "stream",
       "stream": "stdout",
       "text": [
        "Change in Z: 0.0087484019215\n",
        "Iteration 7\n"
       ]
      },
      {
       "output_type": "stream",
       "stream": "stdout",
       "text": [
        "Change in Z: 0.00175102507616\n",
        "Iteration 8\n"
       ]
      },
      {
       "output_type": "stream",
       "stream": "stdout",
       "text": [
        "Change in Z: 0.000736944547772\n",
        "Iteration 9\n"
       ]
      },
      {
       "output_type": "stream",
       "stream": "stdout",
       "text": [
        "Change in Z: 0.000480248325435\n",
        "Iteration 10\n"
       ]
      },
      {
       "output_type": "stream",
       "stream": "stdout",
       "text": [
        "Change in Z: 0.000365066794578\n",
        "Iteration 11\n"
       ]
      },
      {
       "output_type": "stream",
       "stream": "stdout",
       "text": [
        "Change in Z: 0.000298767191539\n",
        "Iteration 12\n"
       ]
      },
      {
       "output_type": "stream",
       "stream": "stdout",
       "text": [
        "Change in Z: 0.00025855419958\n",
        "Iteration 13\n"
       ]
      },
      {
       "output_type": "stream",
       "stream": "stdout",
       "text": [
        "Change in Z: 0.000235339844433\n",
        "Iteration 14\n"
       ]
      },
      {
       "output_type": "stream",
       "stream": "stdout",
       "text": [
        "Change in Z: 0.000224764126303\n",
        "Iteration 15\n"
       ]
      },
      {
       "output_type": "stream",
       "stream": "stdout",
       "text": [
        "Change in Z: 0.000224991477171\n",
        "Iteration 16\n"
       ]
      },
      {
       "output_type": "stream",
       "stream": "stdout",
       "text": [
        "Change in Z: 0.00023602764313\n",
        "Iteration 17\n"
       ]
      },
      {
       "output_type": "stream",
       "stream": "stdout",
       "text": [
        "Change in Z: 0.000259715018878\n",
        "Iteration 18\n"
       ]
      },
      {
       "output_type": "stream",
       "stream": "stdout",
       "text": [
        "Change in Z: 0.000300346103257\n",
        "Iteration 19\n"
       ]
      },
      {
       "output_type": "stream",
       "stream": "stdout",
       "text": [
        "Change in Z: 0.000366221589257\n",
        "Loading ./dilutions_data/Positive/std1/Std1_1in5.txt\n",
        "3111 features read\n",
        "Discretising at mass_tol=2, rt_tol=5\n",
        "."
       ]
      },
      {
       "output_type": "stream",
       "stream": "stdout",
       "text": [
        " . "
       ]
      },
      {
       "output_type": "stream",
       "stream": "stdout",
       "text": [
        ". "
       ]
      },
      {
       "output_type": "stream",
       "stream": "stdout",
       "text": [
        ". "
       ]
      },
      {
       "output_type": "stream",
       "stream": "stdout",
       "text": [
        ". "
       ]
      },
      {
       "output_type": "stream",
       "stream": "stdout",
       "text": [
        ". "
       ]
      },
      {
       "output_type": "stream",
       "stream": "stdout",
       "text": [
        ". "
       ]
      },
      {
       "output_type": "stream",
       "stream": "stdout",
       "text": [
        ". "
       ]
      },
      {
       "output_type": "stream",
       "stream": "stdout",
       "text": [
        ". "
       ]
      },
      {
       "output_type": "stream",
       "stream": "stdout",
       "text": [
        ". "
       ]
      },
      {
       "output_type": "stream",
       "stream": "stdout",
       "text": [
        ". "
       ]
      },
      {
       "output_type": "stream",
       "stream": "stdout",
       "text": [
        ". "
       ]
      },
      {
       "output_type": "stream",
       "stream": "stdout",
       "text": [
        ". "
       ]
      },
      {
       "output_type": "stream",
       "stream": "stdout",
       "text": [
        ". "
       ]
      },
      {
       "output_type": "stream",
       "stream": "stdout",
       "text": [
        ". "
       ]
      },
      {
       "output_type": "stream",
       "stream": "stdout",
       "text": [
        ". "
       ]
      },
      {
       "output_type": "stream",
       "stream": "stdout",
       "text": [
        ". "
       ]
      },
      {
       "output_type": "stream",
       "stream": "stdout",
       "text": [
        ". "
       ]
      },
      {
       "output_type": "stream",
       "stream": "stdout",
       "text": [
        ". "
       ]
      },
      {
       "output_type": "stream",
       "stream": "stdout",
       "text": [
        ". "
       ]
      },
      {
       "output_type": "stream",
       "stream": "stdout",
       "text": [
        ". "
       ]
      },
      {
       "output_type": "stream",
       "stream": "stdout",
       "text": [
        ". "
       ]
      },
      {
       "output_type": "stream",
       "stream": "stdout",
       "text": [
        ". "
       ]
      },
      {
       "output_type": "stream",
       "stream": "stdout",
       "text": [
        ". "
       ]
      },
      {
       "output_type": "stream",
       "stream": "stdout",
       "text": [
        ". "
       ]
      },
      {
       "output_type": "stream",
       "stream": "stdout",
       "text": [
        ". "
       ]
      },
      {
       "output_type": "stream",
       "stream": "stdout",
       "text": [
        ". "
       ]
      },
      {
       "output_type": "stream",
       "stream": "stdout",
       "text": [
        ". "
       ]
      },
      {
       "output_type": "stream",
       "stream": "stdout",
       "text": [
        ". "
       ]
      },
      {
       "output_type": "stream",
       "stream": "stdout",
       "text": [
        ". "
       ]
      },
      {
       "output_type": "stream",
       "stream": "stdout",
       "text": [
        ". "
       ]
      },
      {
       "output_type": "stream",
       "stream": "stdout",
       "text": [
        ".\n"
       ]
      },
      {
       "output_type": "stream",
       "stream": "stdout",
       "text": [
        "Total bins=3111 total features=3111\n",
        "Clustering ./dilutions_data/Positive/std1/Std1_1in5.txt\n",
        "Continuous Clusterer initialised - wow\n",
        "Variational Bayes for continuous mass model\n",
        "Hyperparameters alpha=100.0, mass_prec=100, mass_prior_prec=100, rt_prec=10, rt_prior_prec=100\n",
        "n_iterations = 20\n",
        "Running the clustering\n",
        "847 peaks to be re-sampled\n",
        "Iteration 0"
       ]
      },
      {
       "output_type": "stream",
       "stream": "stdout",
       "text": [
        "\n"
       ]
      },
      {
       "output_type": "stream",
       "stream": "stdout",
       "text": [
        "Change in Z: 225.063991078\n",
        "Iteration 1\n"
       ]
      },
      {
       "output_type": "stream",
       "stream": "stdout",
       "text": [
        "Change in Z: 51.9901264795\n",
        "Iteration 2\n"
       ]
      },
      {
       "output_type": "stream",
       "stream": "stdout",
       "text": [
        "Change in Z: 51.7536334812\n",
        "Iteration 3\n"
       ]
      },
      {
       "output_type": "stream",
       "stream": "stdout",
       "text": [
        "Change in Z: 43.7078512745\n",
        "Iteration 4\n"
       ]
      },
      {
       "output_type": "stream",
       "stream": "stdout",
       "text": [
        "Change in Z: 2.1951692175\n",
        "Iteration 5\n"
       ]
      },
      {
       "output_type": "stream",
       "stream": "stdout",
       "text": [
        "Change in Z: 0.0670740420984\n",
        "Iteration 6\n"
       ]
      },
      {
       "output_type": "stream",
       "stream": "stdout",
       "text": [
        "Change in Z: 0.0162860145412\n",
        "Iteration 7\n"
       ]
      },
      {
       "output_type": "stream",
       "stream": "stdout",
       "text": [
        "Change in Z: 0.00510211126261\n",
        "Iteration 8\n"
       ]
      },
      {
       "output_type": "stream",
       "stream": "stdout",
       "text": [
        "Change in Z: 0.289889566635\n",
        "Iteration 9\n"
       ]
      },
      {
       "output_type": "stream",
       "stream": "stdout",
       "text": [
        "Change in Z: 2.09128830062\n",
        "Iteration 10\n"
       ]
      },
      {
       "output_type": "stream",
       "stream": "stdout",
       "text": [
        "Change in Z: 0.000241096020136\n",
        "Iteration 11\n"
       ]
      },
      {
       "output_type": "stream",
       "stream": "stdout",
       "text": [
        "Change in Z: 0.000101526132483\n",
        "Iteration 12\n"
       ]
      },
      {
       "output_type": "stream",
       "stream": "stdout",
       "text": [
        "Change in Z: 4.73896656454e-05\n",
        "Iteration 13\n"
       ]
      },
      {
       "output_type": "stream",
       "stream": "stdout",
       "text": [
        "Change in Z: 2.43222442794e-05\n",
        "Iteration 14\n"
       ]
      },
      {
       "output_type": "stream",
       "stream": "stdout",
       "text": [
        "Change in Z: 1.34361109384e-05\n",
        "Iteration 15\n"
       ]
      },
      {
       "output_type": "stream",
       "stream": "stdout",
       "text": [
        "Change in Z: 7.82874662655e-06\n",
        "Iteration 16\n"
       ]
      },
      {
       "output_type": "stream",
       "stream": "stdout",
       "text": [
        "Change in Z: 4.80476903873e-06\n",
        "Iteration 17\n"
       ]
      },
      {
       "output_type": "stream",
       "stream": "stdout",
       "text": [
        "Change in Z: 3.45627646124e-06\n",
        "Iteration 18\n"
       ]
      },
      {
       "output_type": "stream",
       "stream": "stdout",
       "text": [
        "Change in Z: 6.57156604823e-06\n",
        "Iteration 19\n"
       ]
      },
      {
       "output_type": "stream",
       "stream": "stdout",
       "text": [
        "Change in Z: 0.000201719293707\n",
        "Loading ./dilutions_data/Positive/std1/Std1_1in10.txt\n",
        "2757 features read"
       ]
      },
      {
       "output_type": "stream",
       "stream": "stdout",
       "text": [
        "\n",
        "Discretising at mass_tol=2, rt_tol=5\n",
        ". "
       ]
      },
      {
       "output_type": "stream",
       "stream": "stdout",
       "text": [
        ". "
       ]
      },
      {
       "output_type": "stream",
       "stream": "stdout",
       "text": [
        ". "
       ]
      },
      {
       "output_type": "stream",
       "stream": "stdout",
       "text": [
        ". "
       ]
      },
      {
       "output_type": "stream",
       "stream": "stdout",
       "text": [
        ". "
       ]
      },
      {
       "output_type": "stream",
       "stream": "stdout",
       "text": [
        ". "
       ]
      },
      {
       "output_type": "stream",
       "stream": "stdout",
       "text": [
        ". "
       ]
      },
      {
       "output_type": "stream",
       "stream": "stdout",
       "text": [
        ". "
       ]
      },
      {
       "output_type": "stream",
       "stream": "stdout",
       "text": [
        ". "
       ]
      },
      {
       "output_type": "stream",
       "stream": "stdout",
       "text": [
        ". "
       ]
      },
      {
       "output_type": "stream",
       "stream": "stdout",
       "text": [
        ". "
       ]
      },
      {
       "output_type": "stream",
       "stream": "stdout",
       "text": [
        ". "
       ]
      },
      {
       "output_type": "stream",
       "stream": "stdout",
       "text": [
        ". "
       ]
      },
      {
       "output_type": "stream",
       "stream": "stdout",
       "text": [
        ". "
       ]
      },
      {
       "output_type": "stream",
       "stream": "stdout",
       "text": [
        ". "
       ]
      },
      {
       "output_type": "stream",
       "stream": "stdout",
       "text": [
        ". "
       ]
      },
      {
       "output_type": "stream",
       "stream": "stdout",
       "text": [
        ". "
       ]
      },
      {
       "output_type": "stream",
       "stream": "stdout",
       "text": [
        ". "
       ]
      },
      {
       "output_type": "stream",
       "stream": "stdout",
       "text": [
        ". "
       ]
      },
      {
       "output_type": "stream",
       "stream": "stdout",
       "text": [
        ". "
       ]
      },
      {
       "output_type": "stream",
       "stream": "stdout",
       "text": [
        ". "
       ]
      },
      {
       "output_type": "stream",
       "stream": "stdout",
       "text": [
        ". "
       ]
      },
      {
       "output_type": "stream",
       "stream": "stdout",
       "text": [
        ". "
       ]
      },
      {
       "output_type": "stream",
       "stream": "stdout",
       "text": [
        ". "
       ]
      },
      {
       "output_type": "stream",
       "stream": "stdout",
       "text": [
        ". "
       ]
      },
      {
       "output_type": "stream",
       "stream": "stdout",
       "text": [
        ". "
       ]
      },
      {
       "output_type": "stream",
       "stream": "stdout",
       "text": [
        ". "
       ]
      },
      {
       "output_type": "stream",
       "stream": "stdout",
       "text": [
        ".\n"
       ]
      },
      {
       "output_type": "stream",
       "stream": "stdout",
       "text": [
        "Total bins=2757 total features=2757\n",
        "Clustering ./dilutions_data/Positive/std1/Std1_1in10.txt\n",
        "Continuous Clusterer initialised - wow\n",
        "Variational Bayes for continuous mass model\n",
        "Hyperparameters alpha=100.0, mass_prec=100, mass_prior_prec=100, rt_prec=10, rt_prior_prec=100\n",
        "n_iterations = 20\n",
        "Running the clustering\n",
        "704 peaks to be re-sampled\n",
        "Iteration 0"
       ]
      },
      {
       "output_type": "stream",
       "stream": "stdout",
       "text": [
        "\n"
       ]
      },
      {
       "output_type": "stream",
       "stream": "stdout",
       "text": [
        "Change in Z: 256.319623881\n",
        "Iteration 1\n"
       ]
      },
      {
       "output_type": "stream",
       "stream": "stdout",
       "text": [
        "Change in Z: 105.872038293\n",
        "Iteration 2\n"
       ]
      },
      {
       "output_type": "stream",
       "stream": "stdout",
       "text": [
        "Change in Z: 11.0517090719\n",
        "Iteration 3\n"
       ]
      },
      {
       "output_type": "stream",
       "stream": "stdout",
       "text": [
        "Change in Z: 0.285594255378\n",
        "Iteration 4\n"
       ]
      },
      {
       "output_type": "stream",
       "stream": "stdout",
       "text": [
        "Change in Z: 0.104472671441\n",
        "Iteration 5\n"
       ]
      },
      {
       "output_type": "stream",
       "stream": "stdout",
       "text": [
        "Change in Z: 2.84976878873\n",
        "Iteration 6\n"
       ]
      },
      {
       "output_type": "stream",
       "stream": "stdout",
       "text": [
        "Change in Z: 0.247733543943\n",
        "Iteration 7\n"
       ]
      },
      {
       "output_type": "stream",
       "stream": "stdout",
       "text": [
        "Change in Z: 0.0820703723209\n",
        "Iteration 8\n"
       ]
      },
      {
       "output_type": "stream",
       "stream": "stdout",
       "text": [
        "Change in Z: 0.00427300192477\n",
        "Iteration 9\n"
       ]
      },
      {
       "output_type": "stream",
       "stream": "stdout",
       "text": [
        "Change in Z: 0.000694366465334\n",
        "Iteration 10\n"
       ]
      },
      {
       "output_type": "stream",
       "stream": "stdout",
       "text": [
        "Change in Z: 0.000229485141645\n",
        "Iteration 11\n"
       ]
      },
      {
       "output_type": "stream",
       "stream": "stdout",
       "text": [
        "Change in Z: 8.13158598115e-05\n",
        "Iteration 12\n"
       ]
      },
      {
       "output_type": "stream",
       "stream": "stdout",
       "text": [
        "Change in Z: 3.21929202557e-05\n",
        "Iteration 13\n"
       ]
      },
      {
       "output_type": "stream",
       "stream": "stdout",
       "text": [
        "Change in Z: 1.4204306001e-05\n",
        "Iteration 14\n"
       ]
      },
      {
       "output_type": "stream",
       "stream": "stdout",
       "text": [
        "Change in Z: 6.80727270794e-06\n",
        "Iteration 15\n"
       ]
      },
      {
       "output_type": "stream",
       "stream": "stdout",
       "text": [
        "Change in Z: 3.45184808231e-06\n",
        "Iteration 16\n"
       ]
      },
      {
       "output_type": "stream",
       "stream": "stdout",
       "text": [
        "Change in Z: 1.81974411687e-06\n",
        "Iteration 17\n"
       ]
      },
      {
       "output_type": "stream",
       "stream": "stdout",
       "text": [
        "Change in Z: 9.87563294768e-07\n",
        "Iteration 18\n"
       ]
      },
      {
       "output_type": "stream",
       "stream": "stdout",
       "text": [
        "Change in Z: 5.48803256768e-07\n",
        "Iteration 19\n"
       ]
      },
      {
       "output_type": "stream",
       "stream": "stdout",
       "text": [
        "Change in Z: 3.11310530022e-07\n",
        "Loading ./dilutions_data/Positive/std1/Std1_1in50.txt\n",
        "2340 features read\n",
        "Discretising at mass_tol=2, rt_tol=5\n",
        ". "
       ]
      },
      {
       "output_type": "stream",
       "stream": "stdout",
       "text": [
        ". "
       ]
      },
      {
       "output_type": "stream",
       "stream": "stdout",
       "text": [
        ". "
       ]
      },
      {
       "output_type": "stream",
       "stream": "stdout",
       "text": [
        ". "
       ]
      },
      {
       "output_type": "stream",
       "stream": "stdout",
       "text": [
        ". "
       ]
      },
      {
       "output_type": "stream",
       "stream": "stdout",
       "text": [
        ". "
       ]
      },
      {
       "output_type": "stream",
       "stream": "stdout",
       "text": [
        ". "
       ]
      },
      {
       "output_type": "stream",
       "stream": "stdout",
       "text": [
        ". "
       ]
      },
      {
       "output_type": "stream",
       "stream": "stdout",
       "text": [
        ". "
       ]
      },
      {
       "output_type": "stream",
       "stream": "stdout",
       "text": [
        ". "
       ]
      },
      {
       "output_type": "stream",
       "stream": "stdout",
       "text": [
        ". "
       ]
      },
      {
       "output_type": "stream",
       "stream": "stdout",
       "text": [
        ". "
       ]
      },
      {
       "output_type": "stream",
       "stream": "stdout",
       "text": [
        ". "
       ]
      },
      {
       "output_type": "stream",
       "stream": "stdout",
       "text": [
        ". "
       ]
      },
      {
       "output_type": "stream",
       "stream": "stdout",
       "text": [
        ". "
       ]
      },
      {
       "output_type": "stream",
       "stream": "stdout",
       "text": [
        ". "
       ]
      },
      {
       "output_type": "stream",
       "stream": "stdout",
       "text": [
        ". "
       ]
      },
      {
       "output_type": "stream",
       "stream": "stdout",
       "text": [
        ". "
       ]
      },
      {
       "output_type": "stream",
       "stream": "stdout",
       "text": [
        ". "
       ]
      },
      {
       "output_type": "stream",
       "stream": "stdout",
       "text": [
        ". "
       ]
      },
      {
       "output_type": "stream",
       "stream": "stdout",
       "text": [
        ". "
       ]
      },
      {
       "output_type": "stream",
       "stream": "stdout",
       "text": [
        ". "
       ]
      },
      {
       "output_type": "stream",
       "stream": "stdout",
       "text": [
        ". "
       ]
      },
      {
       "output_type": "stream",
       "stream": "stdout",
       "text": [
        ".\n"
       ]
      },
      {
       "output_type": "stream",
       "stream": "stdout",
       "text": [
        "Total bins=2340 total features=2340\n",
        "Clustering ./dilutions_data/Positive/std1/Std1_1in50.txt\n",
        "Continuous Clusterer initialised - wow\n",
        "Variational Bayes for continuous mass model\n",
        "Hyperparameters alpha=100.0, mass_prec=100, mass_prior_prec=100, rt_prec=10, rt_prior_prec=100\n",
        "n_iterations = 20\n",
        "Running the clustering\n",
        "536 peaks to be re-sampled\n",
        "Iteration 0"
       ]
      },
      {
       "output_type": "stream",
       "stream": "stdout",
       "text": [
        "\n"
       ]
      },
      {
       "output_type": "stream",
       "stream": "stdout",
       "text": [
        "Change in Z: 287.111055577\n",
        "Iteration 1\n"
       ]
      },
      {
       "output_type": "stream",
       "stream": "stdout",
       "text": [
        "Change in Z: 23.5590765764\n",
        "Iteration 2\n"
       ]
      },
      {
       "output_type": "stream",
       "stream": "stdout",
       "text": [
        "Change in Z: 0.031126255312\n",
        "Iteration 3\n"
       ]
      },
      {
       "output_type": "stream",
       "stream": "stdout",
       "text": [
        "Change in Z: 0.0053124751134\n",
        "Iteration 4\n"
       ]
      },
      {
       "output_type": "stream",
       "stream": "stdout",
       "text": [
        "Change in Z: 0.00139415426004\n",
        "Iteration 5\n"
       ]
      },
      {
       "output_type": "stream",
       "stream": "stdout",
       "text": [
        "Change in Z: 0.000536344237019\n",
        "Iteration 6\n"
       ]
      },
      {
       "output_type": "stream",
       "stream": "stdout",
       "text": [
        "Change in Z: 0.000260609929613\n",
        "Iteration 7\n"
       ]
      },
      {
       "output_type": "stream",
       "stream": "stdout",
       "text": [
        "Change in Z: 0.000142070967184\n",
        "Iteration 8\n"
       ]
      },
      {
       "output_type": "stream",
       "stream": "stdout",
       "text": [
        "Change in Z: 8.21172178328e-05\n",
        "Iteration 9\n"
       ]
      },
      {
       "output_type": "stream",
       "stream": "stdout",
       "text": [
        "Change in Z: 4.91105664008e-05\n",
        "Iteration 10\n"
       ]
      },
      {
       "output_type": "stream",
       "stream": "stdout",
       "text": [
        "Change in Z: 3.00393473331e-05\n",
        "Iteration 11\n"
       ]
      },
      {
       "output_type": "stream",
       "stream": "stdout",
       "text": [
        "Change in Z: 1.8672593734e-05\n",
        "Iteration 12\n"
       ]
      },
      {
       "output_type": "stream",
       "stream": "stdout",
       "text": [
        "Change in Z: 1.17483716406e-05\n",
        "Iteration 13\n"
       ]
      },
      {
       "output_type": "stream",
       "stream": "stdout",
       "text": [
        "Change in Z: 7.46129140648e-06\n",
        "Iteration 14\n"
       ]
      },
      {
       "output_type": "stream",
       "stream": "stdout",
       "text": [
        "Change in Z: 4.77359403425e-06\n",
        "Iteration 15\n"
       ]
      },
      {
       "output_type": "stream",
       "stream": "stdout",
       "text": [
        "Change in Z: 3.07196704337e-06\n",
        "Iteration 16\n"
       ]
      },
      {
       "output_type": "stream",
       "stream": "stdout",
       "text": [
        "Change in Z: 1.98619140912e-06\n",
        "Iteration 17\n"
       ]
      },
      {
       "output_type": "stream",
       "stream": "stdout",
       "text": [
        "Change in Z: 1.28903209881e-06\n",
        "Iteration 18\n"
       ]
      },
      {
       "output_type": "stream",
       "stream": "stdout",
       "text": [
        "Change in Z: 8.39136801142e-07\n",
        "Iteration 19\n"
       ]
      },
      {
       "output_type": "stream",
       "stream": "stdout",
       "text": [
        "Change in Z: 5.47620407514e-07\n",
        "Loading ./dilutions_data/Positive/std1/Std1_1in100.txt\n",
        "2367 features read\n",
        "Discretising at mass_tol=2, rt_tol=5\n",
        ". "
       ]
      },
      {
       "output_type": "stream",
       "stream": "stdout",
       "text": [
        ". "
       ]
      },
      {
       "output_type": "stream",
       "stream": "stdout",
       "text": [
        ". "
       ]
      },
      {
       "output_type": "stream",
       "stream": "stdout",
       "text": [
        ". "
       ]
      },
      {
       "output_type": "stream",
       "stream": "stdout",
       "text": [
        ". "
       ]
      },
      {
       "output_type": "stream",
       "stream": "stdout",
       "text": [
        ". "
       ]
      },
      {
       "output_type": "stream",
       "stream": "stdout",
       "text": [
        ". "
       ]
      },
      {
       "output_type": "stream",
       "stream": "stdout",
       "text": [
        ". "
       ]
      },
      {
       "output_type": "stream",
       "stream": "stdout",
       "text": [
        ". "
       ]
      },
      {
       "output_type": "stream",
       "stream": "stdout",
       "text": [
        ". "
       ]
      },
      {
       "output_type": "stream",
       "stream": "stdout",
       "text": [
        ". "
       ]
      },
      {
       "output_type": "stream",
       "stream": "stdout",
       "text": [
        ". "
       ]
      },
      {
       "output_type": "stream",
       "stream": "stdout",
       "text": [
        ". "
       ]
      },
      {
       "output_type": "stream",
       "stream": "stdout",
       "text": [
        ". "
       ]
      },
      {
       "output_type": "stream",
       "stream": "stdout",
       "text": [
        ". "
       ]
      },
      {
       "output_type": "stream",
       "stream": "stdout",
       "text": [
        ". "
       ]
      },
      {
       "output_type": "stream",
       "stream": "stdout",
       "text": [
        ". "
       ]
      },
      {
       "output_type": "stream",
       "stream": "stdout",
       "text": [
        ". "
       ]
      },
      {
       "output_type": "stream",
       "stream": "stdout",
       "text": [
        ". "
       ]
      },
      {
       "output_type": "stream",
       "stream": "stdout",
       "text": [
        ". "
       ]
      },
      {
       "output_type": "stream",
       "stream": "stdout",
       "text": [
        ". "
       ]
      },
      {
       "output_type": "stream",
       "stream": "stdout",
       "text": [
        ". "
       ]
      },
      {
       "output_type": "stream",
       "stream": "stdout",
       "text": [
        ". "
       ]
      },
      {
       "output_type": "stream",
       "stream": "stdout",
       "text": [
        ".\n"
       ]
      },
      {
       "output_type": "stream",
       "stream": "stdout",
       "text": [
        "Total bins=2367 total features=2367\n",
        "Clustering ./dilutions_data/Positive/std1/Std1_1in100.txt\n",
        "Continuous Clusterer initialised - wow\n",
        "Variational Bayes for continuous mass model\n",
        "Hyperparameters alpha=100.0, mass_prec=100, mass_prior_prec=100, rt_prec=10, rt_prior_prec=100\n",
        "n_iterations = 20\n",
        "Running the clustering\n",
        "549 peaks to be re-sampled\n",
        "Iteration 0"
       ]
      },
      {
       "output_type": "stream",
       "stream": "stdout",
       "text": [
        "\n"
       ]
      },
      {
       "output_type": "stream",
       "stream": "stdout",
       "text": [
        "Change in Z: 310.348532015\n",
        "Iteration 1\n"
       ]
      },
      {
       "output_type": "stream",
       "stream": "stdout",
       "text": [
        "Change in Z: 40.7875661203\n",
        "Iteration 2\n"
       ]
      },
      {
       "output_type": "stream",
       "stream": "stdout",
       "text": [
        "Change in Z: 2.72854737603\n",
        "Iteration 3\n"
       ]
      },
      {
       "output_type": "stream",
       "stream": "stdout",
       "text": [
        "Change in Z: 0.144259743475\n",
        "Iteration 4\n"
       ]
      },
      {
       "output_type": "stream",
       "stream": "stdout",
       "text": [
        "Change in Z: 0.0482097418779\n",
        "Iteration 5\n"
       ]
      },
      {
       "output_type": "stream",
       "stream": "stdout",
       "text": [
        "Change in Z: 0.0789387132607\n",
        "Iteration 6\n"
       ]
      },
      {
       "output_type": "stream",
       "stream": "stdout",
       "text": [
        "Change in Z: 0.134908181136\n",
        "Iteration 7\n"
       ]
      },
      {
       "output_type": "stream",
       "stream": "stdout",
       "text": [
        "Change in Z: 0.0839326402715\n",
        "Iteration 8\n"
       ]
      },
      {
       "output_type": "stream",
       "stream": "stdout",
       "text": [
        "Change in Z: 0.0039734657335\n",
        "Iteration 9\n"
       ]
      },
      {
       "output_type": "stream",
       "stream": "stdout",
       "text": [
        "Change in Z: 7.67182209959e-06\n",
        "Iteration 10\n"
       ]
      },
      {
       "output_type": "stream",
       "stream": "stdout",
       "text": [
        "Change in Z: 2.72271081435e-06\n",
        "Iteration 11\n"
       ]
      },
      {
       "output_type": "stream",
       "stream": "stdout",
       "text": [
        "Change in Z: 9.82504136185e-07\n",
        "Iteration 12\n"
       ]
      },
      {
       "output_type": "stream",
       "stream": "stdout",
       "text": [
        "Change in Z: 3.58767056152e-07\n",
        "Iteration 13\n"
       ]
      },
      {
       "output_type": "stream",
       "stream": "stdout",
       "text": [
        "Change in Z: 1.32244537428e-07\n",
        "Iteration 14\n"
       ]
      },
      {
       "output_type": "stream",
       "stream": "stdout",
       "text": [
        "Change in Z: 4.91377209293e-08\n",
        "Iteration 15\n"
       ]
      },
      {
       "output_type": "stream",
       "stream": "stdout",
       "text": [
        "Change in Z: 1.83864416153e-08\n",
        "Iteration 16\n"
       ]
      },
      {
       "output_type": "stream",
       "stream": "stdout",
       "text": [
        "Change in Z: 6.92422068125e-09\n",
        "Iteration 17\n"
       ]
      },
      {
       "output_type": "stream",
       "stream": "stdout",
       "text": [
        "Change in Z: 2.62291438448e-09\n",
        "Iteration 18\n"
       ]
      },
      {
       "output_type": "stream",
       "stream": "stdout",
       "text": [
        "Change in Z: 9.9912375122e-10\n",
        "Iteration 19\n"
       ]
      },
      {
       "output_type": "stream",
       "stream": "stdout",
       "text": [
        "Change in Z: 3.82700617077e-10\n",
        "Loading ./dilutions_data/Positive/std1/Std1_1in1000.txt\n",
        "2043 features read\n",
        "Discretising at mass_tol=2, rt_tol=5\n",
        ". "
       ]
      },
      {
       "output_type": "stream",
       "stream": "stdout",
       "text": [
        ". "
       ]
      },
      {
       "output_type": "stream",
       "stream": "stdout",
       "text": [
        ". "
       ]
      },
      {
       "output_type": "stream",
       "stream": "stdout",
       "text": [
        ". "
       ]
      },
      {
       "output_type": "stream",
       "stream": "stdout",
       "text": [
        ". "
       ]
      },
      {
       "output_type": "stream",
       "stream": "stdout",
       "text": [
        ". "
       ]
      },
      {
       "output_type": "stream",
       "stream": "stdout",
       "text": [
        ". "
       ]
      },
      {
       "output_type": "stream",
       "stream": "stdout",
       "text": [
        ". "
       ]
      },
      {
       "output_type": "stream",
       "stream": "stdout",
       "text": [
        ". "
       ]
      },
      {
       "output_type": "stream",
       "stream": "stdout",
       "text": [
        ". "
       ]
      },
      {
       "output_type": "stream",
       "stream": "stdout",
       "text": [
        ". "
       ]
      },
      {
       "output_type": "stream",
       "stream": "stdout",
       "text": [
        ". "
       ]
      },
      {
       "output_type": "stream",
       "stream": "stdout",
       "text": [
        ". "
       ]
      },
      {
       "output_type": "stream",
       "stream": "stdout",
       "text": [
        ". "
       ]
      },
      {
       "output_type": "stream",
       "stream": "stdout",
       "text": [
        ". "
       ]
      },
      {
       "output_type": "stream",
       "stream": "stdout",
       "text": [
        ". "
       ]
      },
      {
       "output_type": "stream",
       "stream": "stdout",
       "text": [
        ". "
       ]
      },
      {
       "output_type": "stream",
       "stream": "stdout",
       "text": [
        ". "
       ]
      },
      {
       "output_type": "stream",
       "stream": "stdout",
       "text": [
        ". "
       ]
      },
      {
       "output_type": "stream",
       "stream": "stdout",
       "text": [
        ". "
       ]
      },
      {
       "output_type": "stream",
       "stream": "stdout",
       "text": [
        ".\n"
       ]
      },
      {
       "output_type": "stream",
       "stream": "stdout",
       "text": [
        "Total bins=2043 total features=2043\n",
        "Clustering ./dilutions_data/Positive/std1/Std1_1in1000.txt\n",
        "Continuous Clusterer initialised - wow\n",
        "Variational Bayes for continuous mass model\n",
        "Hyperparameters alpha=100.0, mass_prec=100, mass_prior_prec=100, rt_prec=10, rt_prior_prec=100\n",
        "n_iterations = 20\n",
        "Running the clustering\n",
        "486 peaks to be re-sampled\n",
        "Iteration 0"
       ]
      },
      {
       "output_type": "stream",
       "stream": "stdout",
       "text": [
        "\n"
       ]
      },
      {
       "output_type": "stream",
       "stream": "stdout",
       "text": [
        "Change in Z: 337.198099258\n",
        "Iteration 1\n"
       ]
      },
      {
       "output_type": "stream",
       "stream": "stdout",
       "text": [
        "Change in Z: 9.17456712998\n",
        "Iteration 2\n"
       ]
      },
      {
       "output_type": "stream",
       "stream": "stdout",
       "text": [
        "Change in Z: 0.364103504511\n",
        "Iteration 3\n"
       ]
      },
      {
       "output_type": "stream",
       "stream": "stdout",
       "text": [
        "Change in Z: 0.0416963189379\n",
        "Iteration 4\n"
       ]
      },
      {
       "output_type": "stream",
       "stream": "stdout",
       "text": [
        "Change in Z: 0.0043864566522\n",
        "Iteration 5\n"
       ]
      },
      {
       "output_type": "stream",
       "stream": "stdout",
       "text": [
        "Change in Z: 0.00197480660512\n",
        "Iteration 6\n"
       ]
      },
      {
       "output_type": "stream",
       "stream": "stdout",
       "text": [
        "Change in Z: 0.000917270945439\n",
        "Iteration 7\n"
       ]
      },
      {
       "output_type": "stream",
       "stream": "stdout",
       "text": [
        "Change in Z: 0.000428966152944\n",
        "Iteration 8\n"
       ]
      },
      {
       "output_type": "stream",
       "stream": "stdout",
       "text": [
        "Change in Z: 0.00020095539082\n",
        "Iteration 9\n"
       ]
      },
      {
       "output_type": "stream",
       "stream": "stdout",
       "text": [
        "Change in Z: 9.41917790768e-05\n",
        "Iteration 10\n"
       ]
      },
      {
       "output_type": "stream",
       "stream": "stdout",
       "text": [
        "Change in Z: 4.41587036765e-05\n",
        "Iteration 11\n"
       ]
      },
      {
       "output_type": "stream",
       "stream": "stdout",
       "text": [
        "Change in Z: 2.07041509148e-05\n",
        "Iteration 12\n"
       ]
      },
      {
       "output_type": "stream",
       "stream": "stdout",
       "text": [
        "Change in Z: 9.70768501369e-06\n",
        "Iteration 13\n"
       ]
      },
      {
       "output_type": "stream",
       "stream": "stdout",
       "text": [
        "Change in Z: 4.55178941269e-06\n",
        "Iteration 14\n"
       ]
      },
      {
       "output_type": "stream",
       "stream": "stdout",
       "text": [
        "Change in Z: 2.13427729312e-06\n",
        "Iteration 15\n"
       ]
      },
      {
       "output_type": "stream",
       "stream": "stdout",
       "text": [
        "Change in Z: 1.00074206269e-06\n",
        "Iteration 16\n"
       ]
      },
      {
       "output_type": "stream",
       "stream": "stdout",
       "text": [
        "Change in Z: 4.69238924212e-07\n",
        "Iteration 17\n"
       ]
      },
      {
       "output_type": "stream",
       "stream": "stdout",
       "text": [
        "Change in Z: 2.20023208037e-07\n",
        "Iteration 18\n"
       ]
      },
      {
       "output_type": "stream",
       "stream": "stdout",
       "text": [
        "Change in Z: 1.03165243781e-07\n",
        "Iteration 19\n"
       ]
      },
      {
       "output_type": "stream",
       "stream": "stdout",
       "text": [
        "Change in Z: 4.8374316236e-08\n"
       ]
      }
     ],
     "prompt_number": 4
    },
    {
     "cell_type": "markdown",
     "metadata": {},
     "source": [
      "Function to pick a single feature for plotting."
     ]
    },
    {
     "cell_type": "code",
     "collapsed": false,
     "input": [
      "identify_tol = 10\n",
      "\n",
      "def get_feature_intensity(peak_data, cluster_model, db_entry, t_find):\n",
      "\n",
      "    # find cluster membership for all peaks with transformation t_find\n",
      "    cluster_membership = (cluster_model.Z>0.5)\n",
      "    trans_mat = peak_data.possible.multiply(cluster_membership)\n",
      "    trans_mat = (trans_mat==t_find+1)    \n",
      "    trans_count = (trans_mat).sum(0)\n",
      "\n",
      "    # match prior bin masses against database entry's mass\n",
      "    prior_masses = peak_data.prior_masses\n",
      "    mass_ok = utils.mass_match(db_entry.mass, prior_masses, identify_tol)\n",
      "    ks = np.flatnonzero(mass_ok)\n",
      "    \n",
      "    # enumerate all the possible features\n",
      "    features = []\n",
      "    for k in ks:\n",
      "        if trans_count[0, k]==0:\n",
      "            continue\n",
      "        else:\n",
      "            temp = np.nonzero(trans_mat[:, k])\n",
      "            peak_idx = temp[0]\n",
      "            for n in peak_idx:\n",
      "                f = peak_data.features[n]\n",
      "                features.append(f)\n",
      "                \n",
      "    # if there are multiple features, pick one nearest to the db RT\n",
      "    if len(features)==1:\n",
      "        return math.log(features[0].intensity)\n",
      "    elif len(features)>1: \n",
      "        # shitty code\n",
      "        diff = 9999\n",
      "        closest = None\n",
      "        for f in features:\n",
      "            curr_diff = abs(f.rt-db_entry.rt)\n",
      "            if curr_diff<diff:\n",
      "                diff = curr_diff\n",
      "                closest = f\n",
      "        return math.log(closest.intensity)\n",
      "    else:\n",
      "        return 0"
     ],
     "language": "python",
     "metadata": {},
     "outputs": [],
     "prompt_number": 12
    },
    {
     "cell_type": "markdown",
     "metadata": {},
     "source": [
      "Function to plot heatmap for an adduct type to find"
     ]
    },
    {
     "cell_type": "code",
     "collapsed": false,
     "input": [
      "def plot_heatmap(database, dilutions, transformations, filemap, t_find):\n",
      "    \n",
      "    print \"Finding \" + str(transformations[t_find])\n",
      "    D = len(database)\n",
      "    L = len(dilutions)    \n",
      "    results = np.zeros((D, L))\n",
      "\n",
      "    # for all db entries\n",
      "    for d in range(D):\n",
      "        db_entry = database[d]\n",
      "        # for all dilution files\n",
      "        for l in range(L):\n",
      "            dil = dilutions[l]\n",
      "            # find the peak\n",
      "            load_res = filemap[dil]\n",
      "            peak_data = load_res[0]\n",
      "            cluster_model = load_res[1]\n",
      "            intense = get_feature_intensity(peak_data, cluster_model, db_entry, t_find)\n",
      "            results[d, l] = intense\n",
      "    # sort the results by first column\n",
      "    sres = results[results[:, 0].argsort()]    \n",
      "    # make heatmap\n",
      "    heatmap = plt.pcolor(sres)   \n",
      "    plt.show()\n",
      "    return results"
     ],
     "language": "python",
     "metadata": {},
     "outputs": [],
     "prompt_number": 6
    },
    {
     "cell_type": "markdown",
     "metadata": {},
     "source": [
      "Try for some adducts:"
     ]
    },
    {
     "cell_type": "code",
     "collapsed": false,
     "input": [
      "# get the database and transformations objects from any loaed file\n",
      "any_entry = filemap[filemap.keys()[0]]\n",
      "any_peak_data = any_entry[0]\n",
      "database = any_peak_data.database\n",
      "transformations = any_peak_data.transformations\n",
      "for t in range(len(transformations)):\n",
      "    plot_heatmap(database, dilutions, transformations, filemap, t) "
     ],
     "language": "python",
     "metadata": {},
     "outputs": [
      {
       "output_type": "stream",
       "stream": "stdout",
       "text": [
        "Finding Transformation(trans_id=1, name='M+2H', sub=1.00727645199076, mul=0.5, iso=0.0)\n"
       ]
      },
      {
       "metadata": {},
       "output_type": "display_data",
       "png": "[encoded data removed]",
       "text": [
        "<matplotlib.figure.Figure at 0x7f3390b57e10>"
       ]
      },
      {
       "output_type": "stream",
       "stream": "stdout",
       "text": [
        "Finding Transformation(trans_id=2, name='M+H+NH4', sub=9.52055100354076, mul=0.5, iso=0.0)\n"
       ]
      },
      {
       "metadata": {},
       "output_type": "display_data",
       "png": "[encoded data removed]",
       "text": [
        "<matplotlib.figure.Figure at 0x7f338ef39990>"
       ]
      },
      {
       "output_type": "stream",
       "stream": "stdout",
       "text": [
        "Finding Transformation(trans_id=3, name='M+H+Na', sub=11.99824876604076, mul=0.5, iso=0.0)\n"
       ]
      },
      {
       "metadata": {},
       "output_type": "display_data",
       "png": "[encoded data removed]",
       "text": [
        "<matplotlib.figure.Figure at 0x7f338eec6590>"
       ]
      },
      {
       "output_type": "stream",
       "stream": "stdout",
       "text": [
        "Finding Transformation(trans_id=4, name='M+H+K', sub=19.98521738604076, mul=0.5, iso=0.0)\n"
       ]
      },
      {
       "metadata": {},
       "output_type": "display_data",
       "png": "[encoded data removed]",
       "text": [
        "<matplotlib.figure.Figure at 0x7f338ef80750>"
       ]
      },
      {
       "output_type": "stream",
       "stream": "stdout",
       "text": [
        "Finding Transformation(trans_id=5, name='M+ACN+2H', sub=21.520551003540763, mul=0.5, iso=0.0)\n"
       ]
      },
      {
       "metadata": {},
       "output_type": "display_data",
       "png": "[encoded data removed]",
       "text": [
        "<matplotlib.figure.Figure at 0x7f3390b76450>"
       ]
      },
      {
       "output_type": "stream",
       "stream": "stdout",
       "text": [
        "Finding Transformation(trans_id=6, name='M+2Na', sub=22.98922108009076, mul=0.5, iso=0.0)\n"
       ]
      },
      {
       "metadata": {},
       "output_type": "display_data",
       "png": "[encoded data removed]",
       "text": [
        "<matplotlib.figure.Figure at 0x7f3390b57ed0>"
       ]
      },
      {
       "output_type": "stream",
       "stream": "stdout",
       "text": [
        "Finding Transformation(trans_id=7, name='M+H', sub=1.00727645199076, mul=1.0, iso=0.0)\n"
       ]
      },
      {
       "metadata": {},
       "output_type": "display_data",
       "png": "[encoded data removed]",
       "text": [
        "<matplotlib.figure.Figure at 0x7f338f80a110>"
       ]
      },
      {
       "output_type": "stream",
       "stream": "stdout",
       "text": [
        "Finding Transformation(trans_id=8, name='M+HC13', sub=1.00727645199076, mul=1.0, iso=-1.00335)\n"
       ]
      },
      {
       "metadata": {},
       "output_type": "display_data",
       "png": "[encoded data removed]",
       "text": [
        "<matplotlib.figure.Figure at 0x7f3391450310>"
       ]
      },
      {
       "output_type": "stream",
       "stream": "stdout",
       "text": [
        "Finding Transformation(trans_id=9, name='M+H2C13', sub=1.00727645199076, mul=1.0, iso=-2.0067)\n"
       ]
      },
      {
       "metadata": {},
       "output_type": "display_data",
       "png": "[encoded data removed]",
       "text": [
        "<matplotlib.figure.Figure at 0x7f338f547250>"
       ]
      },
      {
       "output_type": "stream",
       "stream": "stdout",
       "text": [
        "Finding Transformation(trans_id=10, name='M+NH4', sub=18.03382555509076, mul=1.0, iso=0.0)\n"
       ]
      },
      {
       "metadata": {},
       "output_type": "display_data",
       "png": "[encoded data removed]",
       "text": [
        "<matplotlib.figure.Figure at 0x7f338f212a90>"
       ]
      },
      {
       "output_type": "stream",
       "stream": "stdout",
       "text": [
        "Finding Transformation(trans_id=11, name='M+Na', sub=22.98922108009076, mul=1.0, iso=0.0)\n"
       ]
      },
      {
       "metadata": {},
       "output_type": "display_data",
       "png": "[encoded data removed]",
       "text": [
        "<matplotlib.figure.Figure at 0x7f338f547250>"
       ]
      },
      {
       "output_type": "stream",
       "stream": "stdout",
       "text": [
        "Finding Transformation(trans_id=12, name='M+NaC13', sub=22.98922108009076, mul=1.0, iso=-1.00335)\n"
       ]
      },
      {
       "metadata": {},
       "output_type": "display_data",
       "png": "[encoded data removed]",
       "text": [
        "<matplotlib.figure.Figure at 0x7f338ef80750>"
       ]
      },
      {
       "output_type": "stream",
       "stream": "stdout",
       "text": [
        "Finding Transformation(trans_id=13, name='M+CH3OH+H', sub=33.033491201890754, mul=1.0, iso=0.0)\n"
       ]
      },
      {
       "metadata": {},
       "output_type": "display_data",
       "png": "[encoded data removed]",
       "text": [
        "<matplotlib.figure.Figure at 0x7f338f1ff110>"
       ]
      },
      {
       "output_type": "stream",
       "stream": "stdout",
       "text": [
        "Finding Transformation(trans_id=14, name='M+K', sub=38.963158320090756, mul=1.0, iso=0.0)\n"
       ]
      },
      {
       "metadata": {},
       "output_type": "display_data",
       "png": "[encoded data removed]",
       "text": [
        "<matplotlib.figure.Figure at 0x7f3390b57e90>"
       ]
      },
      {
       "output_type": "stream",
       "stream": "stdout",
       "text": [
        "Finding Transformation(trans_id=15, name='M+KC13', sub=38.963158320090756, mul=1.0, iso=-1.00335)\n"
       ]
      },
      {
       "metadata": {},
       "output_type": "display_data",
       "png": "[encoded data removed]",
       "text": [
        "<matplotlib.figure.Figure at 0x7f338ee79350>"
       ]
      },
      {
       "output_type": "stream",
       "stream": "stdout",
       "text": [
        "Finding Transformation(trans_id=16, name='M+ACN+H', sub=42.03382555509076, mul=1.0, iso=0.0)\n"
       ]
      },
      {
       "metadata": {},
       "output_type": "display_data",
       "png": "[encoded data removed]",
       "text": [
        "<matplotlib.figure.Figure at 0x7f3391450310>"
       ]
      },
      {
       "output_type": "stream",
       "stream": "stdout",
       "text": [
        "Finding Transformation(trans_id=17, name='M+2Na-H', sub=44.97116570819076, mul=1.0, iso=0.0)\n"
       ]
      },
      {
       "metadata": {},
       "output_type": "display_data",
       "png": "[encoded data removed]",
       "text": [
        "<matplotlib.figure.Figure at 0x7f338f1ff110>"
       ]
      },
      {
       "output_type": "stream",
       "stream": "stdout",
       "text": [
        "Finding Transformation(trans_id=18, name='M+IsoProp+H', sub=61.06479132949075, mul=1.0, iso=0.0)\n"
       ]
      },
      {
       "metadata": {},
       "output_type": "display_data",
       "png": "[encoded data removed]",
       "text": [
        "<matplotlib.figure.Figure at 0x7f338f212a90>"
       ]
      },
      {
       "output_type": "stream",
       "stream": "stdout",
       "text": [
        "Finding Transformation(trans_id=19, name='M+ACN+Na', sub=64.01577018319077, mul=1.0, iso=0.0)\n"
       ]
      },
      {
       "metadata": {},
       "output_type": "display_data",
       "png": "[encoded data removed]",
       "text": [
        "<matplotlib.figure.Figure at 0x7f3390a334d0>"
       ]
      },
      {
       "output_type": "stream",
       "stream": "stdout",
       "text": [
        "Finding Transformation(trans_id=20, name='M+2K-H', sub=76.91904018819076, mul=1.0, iso=0.0)\n"
       ]
      },
      {
       "metadata": {},
       "output_type": "display_data",
       "png": "[encoded data removed]",
       "text": [
        "<matplotlib.figure.Figure at 0x7f3391450310>"
       ]
      },
      {
       "output_type": "stream",
       "stream": "stdout",
       "text": [
        "Finding Transformation(trans_id=21, name='M+DMSO+H', sub=79.02121199569076, mul=1.0, iso=0.0)\n"
       ]
      },
      {
       "metadata": {},
       "output_type": "display_data",
       "png": "[encoded data removed]",
       "text": [
        "<matplotlib.figure.Figure at 0x7f338f547250>"
       ]
      },
      {
       "output_type": "stream",
       "stream": "stdout",
       "text": [
        "Finding Transformation(trans_id=22, name='M+2ACN+H', sub=83.06037465819077, mul=1.0, iso=0.0)\n"
       ]
      },
      {
       "metadata": {},
       "output_type": "display_data",
       "png": "[encoded data removed]",
       "text": [
        "<matplotlib.figure.Figure at 0x7f338ede4e90>"
       ]
      }
     ],
     "prompt_number": 9
    },
    {
     "cell_type": "code",
     "collapsed": false,
     "input": [
      "results = plot_heatmap(database, dilutions, transformations, filemap, 6) \n",
      "print results"
     ],
     "language": "python",
     "metadata": {},
     "outputs": [
      {
       "output_type": "stream",
       "stream": "stdout",
       "text": [
        "Finding Transformation(trans_id=7, name='M+H', sub=1.00727645199076, mul=1.0, iso=0.0)\n"
       ]
      },
      {
       "metadata": {},
       "output_type": "display_data",
       "png": "[encoded data removed]",
       "text": [
        "<matplotlib.figure.Figure at 0x7f338efc0850>"
       ]
      },
      {
       "output_type": "stream",
       "stream": "stdout",
       "text": [
        "[[  0.           0.           0.           0.           0.           0.        ]\n",
        " [  0.           0.           0.           0.           0.           0.        ]\n",
        " [  0.           0.           0.           0.           0.           0.        ]\n",
        " [  0.           0.           0.           0.           0.           0.        ]\n",
        " [  0.           0.           0.           0.           0.           0.        ]\n",
        " [  0.           0.           0.           0.           0.           0.        ]\n",
        " [  0.           0.           0.           0.           0.           0.        ]\n",
        " [  0.           0.           0.           0.           0.           0.        ]\n",
        " [ 13.59787276  13.04514183  12.58004257  12.04972206  12.1423239\n",
        "   11.99571083]\n",
        " [  0.           0.           0.           0.           0.           0.        ]\n",
        " [  0.           0.           0.           0.           0.           0.        ]\n",
        " [  9.72434675  11.30780466   0.           9.73144757   0.          10.6009964 ]\n",
        " [  0.           0.           0.           0.           0.           0.        ]\n",
        " [  0.           0.           0.           0.           0.           0.        ]\n",
        " [  0.           0.           0.           0.           0.           0.        ]\n",
        " [  9.83867983  11.13962548   9.72934608  10.80365954  10.56597476\n",
        "   10.75432059]\n",
        " [  0.           0.           0.           0.           0.           0.        ]\n",
        " [  0.           0.           0.           0.           0.           0.        ]\n",
        " [ 10.66678407  11.09551844  10.71537027  10.59756506   0.          11.1161795 ]\n",
        " [  0.           0.           0.           0.           9.78467212   0.        ]\n",
        " [  0.           0.           0.           0.           0.           0.        ]\n",
        " [  0.           0.           0.           0.           0.           0.        ]\n",
        " [  0.           0.           0.           0.           0.           0.        ]\n",
        " [  0.           0.           0.           0.           0.           0.        ]\n",
        " [  0.           0.           0.           0.           0.           0.        ]\n",
        " [  0.           0.           0.           0.           0.           0.        ]\n",
        " [  0.           0.           0.           0.           0.           0.        ]\n",
        " [  0.           0.           0.           0.           0.           0.        ]\n",
        " [  0.           0.           0.           0.           0.           0.        ]\n",
        " [  0.           0.           0.           0.           0.           0.        ]\n",
        " [  0.           0.          10.47516325   0.           9.73589904   0.        ]\n",
        " [  0.           0.           0.           0.           0.           0.        ]\n",
        " [  0.           0.           0.           0.           0.           0.        ]\n",
        " [  0.           0.           0.           0.           0.           0.        ]\n",
        " [ 12.76559325  11.36147465   0.           0.           0.           0.        ]\n",
        " [ 10.51374171   0.           0.           0.           0.           0.        ]\n",
        " [  0.           0.           0.           0.           0.           0.        ]\n",
        " [  0.           0.           0.           0.           0.           0.        ]\n",
        " [  0.           0.           0.           0.           0.           0.        ]\n",
        " [  0.           0.           0.           0.           0.           0.        ]\n",
        " [  0.           0.           0.           0.           0.           0.        ]\n",
        " [  0.           0.           0.           0.           0.           0.        ]\n",
        " [ 14.88167403  16.08812519  14.85255032  14.56609352  14.60321457\n",
        "   14.55330953]\n",
        " [  0.           0.           0.           0.           0.           0.        ]\n",
        " [  0.           0.           0.           0.           0.           0.        ]\n",
        " [  0.           0.           0.           0.           0.           0.        ]\n",
        " [  0.           0.           0.           0.           0.           0.        ]\n",
        " [  0.           0.           0.           0.           0.           0.        ]\n",
        " [  0.           0.           0.           0.           0.           0.        ]\n",
        " [  0.           0.          12.10714504   0.          12.22886131   0.        ]\n",
        " [  0.           0.           9.80631134   0.           0.           0.        ]\n",
        " [  0.           0.           0.           0.           0.           0.        ]\n",
        " [  0.           0.           0.           0.           0.           0.        ]\n",
        " [  0.           0.           0.           0.           0.           0.        ]\n",
        " [  0.           0.           0.           0.           0.           0.        ]\n",
        " [ 11.93912873  11.50483454   0.           0.           0.           0.        ]\n",
        " [  0.           0.           0.           0.           0.           0.        ]\n",
        " [  0.           0.           0.           0.           0.           0.        ]\n",
        " [  0.           0.           0.           0.           0.           0.        ]\n",
        " [  0.           0.           0.           0.           0.           0.        ]\n",
        " [  0.           0.           0.           0.           0.           0.        ]\n",
        " [  0.           0.           0.           0.           0.           0.        ]\n",
        " [  0.           0.           0.           0.           0.           0.        ]\n",
        " [  0.           0.           0.           0.           0.           0.        ]\n",
        " [  0.           0.           0.           0.           0.           0.        ]\n",
        " [  0.           0.           0.           0.           0.           0.        ]\n",
        " [  0.           0.           0.           0.           0.           0.        ]\n",
        " [  0.           0.           0.           0.           0.           0.        ]\n",
        " [  0.           0.           0.           0.           0.           0.        ]\n",
        " [  0.           0.           0.           0.           0.           0.        ]\n",
        " [  0.          12.72394349  11.67430837   0.           0.           0.        ]\n",
        " [  0.           0.           0.           0.           0.           0.        ]\n",
        " [  0.           0.           0.           0.           0.           0.        ]\n",
        " [  0.           0.           0.           0.           0.           0.        ]\n",
        " [  0.           0.           0.           0.           0.           0.        ]\n",
        " [  0.           0.           0.           0.           0.           0.        ]\n",
        " [  0.           0.           0.           0.           0.           0.        ]\n",
        " [  0.           0.           0.           0.           0.           0.        ]\n",
        " [  0.           0.           0.           0.           0.           0.        ]\n",
        " [  0.           0.           0.           0.           0.           0.        ]\n",
        " [  0.           0.           0.           0.           0.           0.        ]\n",
        " [  0.           0.           0.           0.           0.           0.        ]\n",
        " [  0.           0.           0.           0.           0.           0.        ]\n",
        " [  0.           0.           0.           0.           0.           0.        ]\n",
        " [  0.           0.           0.           0.           0.           0.        ]\n",
        " [  0.           0.           0.           0.           0.           0.        ]\n",
        " [  0.           0.           0.           0.           0.           0.        ]\n",
        " [  0.           0.           0.           0.           0.           0.        ]\n",
        " [  0.           0.           0.           0.           0.           0.        ]\n",
        " [  0.           0.           0.           0.           0.           0.        ]\n",
        " [ 11.63463059   0.           0.           0.           0.           0.        ]\n",
        " [  0.           0.           0.           0.           0.           0.        ]\n",
        " [  0.           0.           0.           0.           0.           0.        ]\n",
        " [  0.           0.           0.           0.           0.           0.        ]\n",
        " [  0.           0.           0.           0.           0.           0.        ]\n",
        " [  0.           0.           0.           0.           0.           0.        ]\n",
        " [  0.           0.           0.           0.           0.           0.        ]\n",
        " [  0.           0.           0.           0.           0.           0.        ]\n",
        " [  0.           0.           0.           0.           0.           0.        ]\n",
        " [  0.           0.           0.           0.           0.           0.        ]\n",
        " [  0.           0.           0.           0.           0.           0.        ]\n",
        " [  0.           0.           0.           0.           0.           0.        ]\n",
        " [ 12.2636533   11.57698264   0.           0.           0.           0.        ]\n",
        " [  0.           0.           0.           0.           0.           0.        ]]\n"
       ]
      }
     ],
     "prompt_number": 11
    },
    {
     "cell_type": "code",
     "collapsed": false,
     "input": [],
     "language": "python",
     "metadata": {},
     "outputs": [],
     "prompt_number": 7
    }
   ],
   "metadata": {}
  }
 ]
}