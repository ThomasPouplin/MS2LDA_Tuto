{
 "metadata": {
  "name": "",
  "signature": "sha256:1440a2c795093a8b9b48929b2b3389ef646faadc4e7dac8c1d4ea4a4aae57bd5"
 },
 "nbformat": 3,
 "nbformat_minor": 0,
 "worksheets": [
  {
   "cells": [
    {
     "cell_type": "markdown",
     "metadata": {},
     "source": [
      "Import stuff"
     ]
    },
    {
     "cell_type": "code",
     "collapsed": false,
     "input": [
      "import sys\n",
      "basedir = '../'\n",
      "sys.path.append(basedir) # need to do this to be able to import the stuff below\n",
      "\n",
      "from discretisation.continuous_mass_clusterer import ContinuousVB\n",
      "from discretisation.models import HyperPars\n",
      "from discretisation.preprocessing import FileLoader\n",
      "from discretisation import utils\n",
      "%pylab inline"
     ],
     "language": "python",
     "metadata": {},
     "outputs": [
      {
       "output_type": "stream",
       "stream": "stdout",
       "text": [
        "Populating the interactive namespace from numpy and matplotlib\n"
       ]
      }
     ],
     "prompt_number": 1
    },
    {
     "cell_type": "markdown",
     "metadata": {},
     "source": [
      "Say which dilution files to load"
     ]
    },
    {
     "cell_type": "code",
     "collapsed": false,
     "input": [
      "basedir = '.'\n",
      "dilutions = [\"1:1\", \"1:5\", \"1:10\", \"1:50\", \"1:100\", \"1:1000\"]\n",
      "input_files = [\n",
      "    basedir + '/dilutions_data/Positive/std1/Std1_1.csv',\n",
      "    basedir + '/dilutions_data/Positive/std1/Std1_1in5.csv',\n",
      "    basedir + '/dilutions_data/Positive/std1/Std1_1in10.csv',\n",
      "    basedir + '/dilutions_data/Positive/std1/Std1_1in50.csv',    \n",
      "    basedir + '/dilutions_data/Positive/std1/Std1_1in100.csv',\n",
      "    basedir + '/dilutions_data/Positive/std1/Std1_1in1000.csv'\n",
      "]\n",
      "# dilutions = [\"1:1\"]\n",
      "# input_files = [\n",
      "#     basedir + '/dilutions_data/Positive/std1/Std1_1.csv',\n",
      "# ]\n",
      "assert len(input_files) == len(dilutions)\n",
      "database_file = basedir + '/database/std1_mols.csv'\n",
      "transformation_file = basedir + '/mulsubs/mulsub2.txt'    \n",
      "mass_tol = 2\n",
      "rt_tol = 5"
     ],
     "language": "python",
     "metadata": {},
     "outputs": [],
     "prompt_number": 2
    },
    {
     "cell_type": "markdown",
     "metadata": {},
     "source": [
      "Load and cluster all the files"
     ]
    },
    {
     "cell_type": "code",
     "collapsed": false,
     "input": [
      "def load_and_cluster(input_file, database_file, transformation_file, mass_tol, rt_tol):\n",
      "        print \"Loading \" + input_file\n",
      "        loader = FileLoader()        \n",
      "        peak_data = loader.load_model_input(input_file, database_file, transformation_file, mass_tol, rt_tol, make_bins=True)\n",
      "        print \"Clustering \" + input_file\n",
      "        hp = HyperPars()\n",
      "        cluster_model = ContinuousVB(peak_data, hp)\n",
      "        cluster_model.n_iterations = 20\n",
      "        print cluster_model\n",
      "        cluster_model.run()    \n",
      "        return peak_data, cluster_model"
     ],
     "language": "python",
     "metadata": {},
     "outputs": [],
     "prompt_number": 3
    },
    {
     "cell_type": "code",
     "collapsed": false,
     "input": [
      "L = len(dilutions)    \n",
      "filemap = {}\n",
      "for j in range(L):\n",
      "    dil = dilutions[j]\n",
      "    input_file = input_files[j]\n",
      "    load_res = load_and_cluster(input_file, database_file, transformation_file, mass_tol, rt_tol)\n",
      "    filemap[dil] = load_res    "
     ],
     "language": "python",
     "metadata": {},
     "outputs": [
      {
       "output_type": "stream",
       "stream": "stdout",
       "text": [
        "Loading ./dilutions_data/Positive/std1/Std1_1.csv\n",
        "3759 features read"
       ]
      },
      {
       "output_type": "stream",
       "stream": "stdout",
       "text": [
        "\n",
        "Discretising at mass_tol=2, rt_tol=5\n",
        ". "
       ]
      },
      {
       "output_type": "stream",
       "stream": "stdout",
       "text": [
        ". "
       ]
      },
      {
       "output_type": "stream",
       "stream": "stdout",
       "text": [
        ". "
       ]
      },
      {
       "output_type": "stream",
       "stream": "stdout",
       "text": [
        ". "
       ]
      },
      {
       "output_type": "stream",
       "stream": "stdout",
       "text": [
        ". "
       ]
      },
      {
       "output_type": "stream",
       "stream": "stdout",
       "text": [
        ". "
       ]
      },
      {
       "output_type": "stream",
       "stream": "stdout",
       "text": [
        ". "
       ]
      },
      {
       "output_type": "stream",
       "stream": "stdout",
       "text": [
        ". "
       ]
      },
      {
       "output_type": "stream",
       "stream": "stdout",
       "text": [
        ". "
       ]
      },
      {
       "output_type": "stream",
       "stream": "stdout",
       "text": [
        ". "
       ]
      },
      {
       "output_type": "stream",
       "stream": "stdout",
       "text": [
        ". "
       ]
      },
      {
       "output_type": "stream",
       "stream": "stdout",
       "text": [
        ". "
       ]
      },
      {
       "output_type": "stream",
       "stream": "stdout",
       "text": [
        ". "
       ]
      },
      {
       "output_type": "stream",
       "stream": "stdout",
       "text": [
        ". "
       ]
      },
      {
       "output_type": "stream",
       "stream": "stdout",
       "text": [
        ". "
       ]
      },
      {
       "output_type": "stream",
       "stream": "stdout",
       "text": [
        ". "
       ]
      },
      {
       "output_type": "stream",
       "stream": "stdout",
       "text": [
        ". "
       ]
      },
      {
       "output_type": "stream",
       "stream": "stdout",
       "text": [
        ". "
       ]
      },
      {
       "output_type": "stream",
       "stream": "stdout",
       "text": [
        ". "
       ]
      },
      {
       "output_type": "stream",
       "stream": "stdout",
       "text": [
        ". "
       ]
      },
      {
       "output_type": "stream",
       "stream": "stdout",
       "text": [
        ". "
       ]
      },
      {
       "output_type": "stream",
       "stream": "stdout",
       "text": [
        ". "
       ]
      },
      {
       "output_type": "stream",
       "stream": "stdout",
       "text": [
        ". "
       ]
      },
      {
       "output_type": "stream",
       "stream": "stdout",
       "text": [
        ". "
       ]
      },
      {
       "output_type": "stream",
       "stream": "stdout",
       "text": [
        ". "
       ]
      },
      {
       "output_type": "stream",
       "stream": "stdout",
       "text": [
        ". "
       ]
      },
      {
       "output_type": "stream",
       "stream": "stdout",
       "text": [
        ". "
       ]
      },
      {
       "output_type": "stream",
       "stream": "stdout",
       "text": [
        ". "
       ]
      },
      {
       "output_type": "stream",
       "stream": "stdout",
       "text": [
        ". "
       ]
      },
      {
       "output_type": "stream",
       "stream": "stdout",
       "text": [
        ". "
       ]
      },
      {
       "output_type": "stream",
       "stream": "stdout",
       "text": [
        ". "
       ]
      },
      {
       "output_type": "stream",
       "stream": "stdout",
       "text": [
        ". "
       ]
      },
      {
       "output_type": "stream",
       "stream": "stdout",
       "text": [
        ". "
       ]
      },
      {
       "output_type": "stream",
       "stream": "stdout",
       "text": [
        ". "
       ]
      },
      {
       "output_type": "stream",
       "stream": "stdout",
       "text": [
        ". "
       ]
      },
      {
       "output_type": "stream",
       "stream": "stdout",
       "text": [
        ". "
       ]
      },
      {
       "output_type": "stream",
       "stream": "stdout",
       "text": [
        ". "
       ]
      },
      {
       "output_type": "stream",
       "stream": "stdout",
       "text": [
        ".\n"
       ]
      },
      {
       "output_type": "stream",
       "stream": "stdout",
       "text": [
        "Total bins=3759 total features=3759\n",
        "Clustering ./dilutions_data/Positive/std1/Std1_1.csv\n",
        "Continuous Clusterer initialised - wow\n",
        "Variational Bayes for continuous mass model\n",
        "Hyperparameters alpha=100.0, mass_prec=100, mass_prior_prec=100, rt_prec=10, rt_prior_prec=100\n",
        "n_iterations = 20\n",
        "Running the clustering\n",
        "997 peaks to be re-sampled\n",
        "Iteration 0"
       ]
      },
      {
       "output_type": "stream",
       "stream": "stdout",
       "text": [
        "\n"
       ]
      },
      {
       "output_type": "stream",
       "stream": "stdout",
       "text": [
        "Change in Z: 337.687435742\n",
        "Iteration 1\n"
       ]
      },
      {
       "output_type": "stream",
       "stream": "stdout",
       "text": [
        "Change in Z: 152.255359311\n",
        "Iteration 2\n"
       ]
      },
      {
       "output_type": "stream",
       "stream": "stdout",
       "text": [
        "Change in Z: 15.5851130495\n",
        "Iteration 3\n"
       ]
      },
      {
       "output_type": "stream",
       "stream": "stdout",
       "text": [
        "Change in Z: 1.2988266518\n",
        "Iteration 4\n"
       ]
      },
      {
       "output_type": "stream",
       "stream": "stdout",
       "text": [
        "Change in Z: 0.202361727777\n",
        "Iteration 5\n"
       ]
      },
      {
       "output_type": "stream",
       "stream": "stdout",
       "text": [
        "Change in Z: 0.0359554769239\n",
        "Iteration 6\n"
       ]
      },
      {
       "output_type": "stream",
       "stream": "stdout",
       "text": [
        "Change in Z: 0.026410720075\n",
        "Iteration 7\n"
       ]
      },
      {
       "output_type": "stream",
       "stream": "stdout",
       "text": [
        "Change in Z: 0.0229031410676\n",
        "Iteration 8\n"
       ]
      },
      {
       "output_type": "stream",
       "stream": "stdout",
       "text": [
        "Change in Z: 0.0205490870856\n",
        "Iteration 9\n"
       ]
      },
      {
       "output_type": "stream",
       "stream": "stdout",
       "text": [
        "Change in Z: 0.0372149458785\n",
        "Iteration 10\n"
       ]
      },
      {
       "output_type": "stream",
       "stream": "stdout",
       "text": [
        "Change in Z: 0.0739090129067\n",
        "Iteration 11\n"
       ]
      },
      {
       "output_type": "stream",
       "stream": "stdout",
       "text": [
        "Change in Z: 0.0226229175997\n",
        "Iteration 12\n"
       ]
      },
      {
       "output_type": "stream",
       "stream": "stdout",
       "text": [
        "Change in Z: 0.02954285217\n",
        "Iteration 13\n"
       ]
      },
      {
       "output_type": "stream",
       "stream": "stdout",
       "text": [
        "Change in Z: 0.0710041483693\n",
        "Iteration 14\n"
       ]
      },
      {
       "output_type": "stream",
       "stream": "stdout",
       "text": [
        "Change in Z: 0.0262898875447\n",
        "Iteration 15\n"
       ]
      },
      {
       "output_type": "stream",
       "stream": "stdout",
       "text": [
        "Change in Z: 0.0035751202383\n",
        "Iteration 16\n"
       ]
      },
      {
       "output_type": "stream",
       "stream": "stdout",
       "text": [
        "Change in Z: 0.00191588100247\n",
        "Iteration 17\n"
       ]
      },
      {
       "output_type": "stream",
       "stream": "stdout",
       "text": [
        "Change in Z: 0.00805882292208\n",
        "Iteration 18\n"
       ]
      },
      {
       "output_type": "stream",
       "stream": "stdout",
       "text": [
        "Change in Z: 0.0381680696513\n",
        "Iteration 19\n"
       ]
      },
      {
       "output_type": "stream",
       "stream": "stdout",
       "text": [
        "Change in Z: 0.127469823479\n",
        "Loading ./dilutions_data/Positive/std1/Std1_1in5.csv\n",
        "3352 features read"
       ]
      },
      {
       "output_type": "stream",
       "stream": "stdout",
       "text": [
        "\n",
        "Discretising at mass_tol=2, rt_tol=5\n",
        ". "
       ]
      },
      {
       "output_type": "stream",
       "stream": "stdout",
       "text": [
        ". "
       ]
      },
      {
       "output_type": "stream",
       "stream": "stdout",
       "text": [
        ". "
       ]
      },
      {
       "output_type": "stream",
       "stream": "stdout",
       "text": [
        ". "
       ]
      },
      {
       "output_type": "stream",
       "stream": "stdout",
       "text": [
        ". "
       ]
      },
      {
       "output_type": "stream",
       "stream": "stdout",
       "text": [
        ". "
       ]
      },
      {
       "output_type": "stream",
       "stream": "stdout",
       "text": [
        ". "
       ]
      },
      {
       "output_type": "stream",
       "stream": "stdout",
       "text": [
        ". "
       ]
      },
      {
       "output_type": "stream",
       "stream": "stdout",
       "text": [
        ". "
       ]
      },
      {
       "output_type": "stream",
       "stream": "stdout",
       "text": [
        ". "
       ]
      },
      {
       "output_type": "stream",
       "stream": "stdout",
       "text": [
        ". "
       ]
      },
      {
       "output_type": "stream",
       "stream": "stdout",
       "text": [
        ". "
       ]
      },
      {
       "output_type": "stream",
       "stream": "stdout",
       "text": [
        ". "
       ]
      },
      {
       "output_type": "stream",
       "stream": "stdout",
       "text": [
        ". "
       ]
      },
      {
       "output_type": "stream",
       "stream": "stdout",
       "text": [
        ". "
       ]
      },
      {
       "output_type": "stream",
       "stream": "stdout",
       "text": [
        ". "
       ]
      },
      {
       "output_type": "stream",
       "stream": "stdout",
       "text": [
        ". "
       ]
      },
      {
       "output_type": "stream",
       "stream": "stdout",
       "text": [
        ". "
       ]
      },
      {
       "output_type": "stream",
       "stream": "stdout",
       "text": [
        ". "
       ]
      },
      {
       "output_type": "stream",
       "stream": "stdout",
       "text": [
        ". "
       ]
      },
      {
       "output_type": "stream",
       "stream": "stdout",
       "text": [
        ". "
       ]
      },
      {
       "output_type": "stream",
       "stream": "stdout",
       "text": [
        ". "
       ]
      },
      {
       "output_type": "stream",
       "stream": "stdout",
       "text": [
        ". "
       ]
      },
      {
       "output_type": "stream",
       "stream": "stdout",
       "text": [
        ". "
       ]
      },
      {
       "output_type": "stream",
       "stream": "stdout",
       "text": [
        ". "
       ]
      },
      {
       "output_type": "stream",
       "stream": "stdout",
       "text": [
        ". "
       ]
      },
      {
       "output_type": "stream",
       "stream": "stdout",
       "text": [
        ". "
       ]
      },
      {
       "output_type": "stream",
       "stream": "stdout",
       "text": [
        ". "
       ]
      },
      {
       "output_type": "stream",
       "stream": "stdout",
       "text": [
        ". "
       ]
      },
      {
       "output_type": "stream",
       "stream": "stdout",
       "text": [
        ". "
       ]
      },
      {
       "output_type": "stream",
       "stream": "stdout",
       "text": [
        ". "
       ]
      },
      {
       "output_type": "stream",
       "stream": "stdout",
       "text": [
        ". "
       ]
      },
      {
       "output_type": "stream",
       "stream": "stdout",
       "text": [
        ". "
       ]
      },
      {
       "output_type": "stream",
       "stream": "stdout",
       "text": [
        ".\n"
       ]
      },
      {
       "output_type": "stream",
       "stream": "stdout",
       "text": [
        "Total bins=3352 total features=3352\n",
        "Clustering ./dilutions_data/Positive/std1/Std1_1in5.csv\n",
        "Continuous Clusterer initialised - wow\n",
        "Variational Bayes for continuous mass model\n",
        "Hyperparameters alpha=100.0, mass_prec=100, mass_prior_prec=100, rt_prec=10, rt_prior_prec=100\n",
        "n_iterations = 20\n",
        "Running the clustering\n",
        "910 peaks to be re-sampled\n",
        "Iteration 0"
       ]
      },
      {
       "output_type": "stream",
       "stream": "stdout",
       "text": [
        "\n"
       ]
      },
      {
       "output_type": "stream",
       "stream": "stdout",
       "text": [
        "Change in Z: 272.751931736\n",
        "Iteration 1\n"
       ]
      },
      {
       "output_type": "stream",
       "stream": "stdout",
       "text": [
        "Change in Z: 133.442817357\n",
        "Iteration 2\n"
       ]
      },
      {
       "output_type": "stream",
       "stream": "stdout",
       "text": [
        "Change in Z: 13.4671407372\n",
        "Iteration 3\n"
       ]
      },
      {
       "output_type": "stream",
       "stream": "stdout",
       "text": [
        "Change in Z: 0.748702221958\n",
        "Iteration 4\n"
       ]
      },
      {
       "output_type": "stream",
       "stream": "stdout",
       "text": [
        "Change in Z: 0.058440286712\n",
        "Iteration 5\n"
       ]
      },
      {
       "output_type": "stream",
       "stream": "stdout",
       "text": [
        "Change in Z: 0.00395243274715\n",
        "Iteration 6\n"
       ]
      },
      {
       "output_type": "stream",
       "stream": "stdout",
       "text": [
        "Change in Z: 0.000795623852699\n",
        "Iteration 7\n"
       ]
      },
      {
       "output_type": "stream",
       "stream": "stdout",
       "text": [
        "Change in Z: 0.000196545633532\n",
        "Iteration 8\n"
       ]
      },
      {
       "output_type": "stream",
       "stream": "stdout",
       "text": [
        "Change in Z: 5.9992499815e-05\n",
        "Iteration 9\n"
       ]
      },
      {
       "output_type": "stream",
       "stream": "stdout",
       "text": [
        "Change in Z: 2.30731702345e-05\n",
        "Iteration 10\n"
       ]
      },
      {
       "output_type": "stream",
       "stream": "stdout",
       "text": [
        "Change in Z: 1.09605364396e-05\n",
        "Iteration 11\n"
       ]
      },
      {
       "output_type": "stream",
       "stream": "stdout",
       "text": [
        "Change in Z: 6.3291090819e-06\n",
        "Iteration 12\n"
       ]
      },
      {
       "output_type": "stream",
       "stream": "stdout",
       "text": [
        "Change in Z: 5.58998166142e-06\n",
        "Iteration 13\n"
       ]
      },
      {
       "output_type": "stream",
       "stream": "stdout",
       "text": [
        "Change in Z: 1.23749193401e-05\n",
        "Iteration 14\n"
       ]
      },
      {
       "output_type": "stream",
       "stream": "stdout",
       "text": [
        "Change in Z: 5.02457931881e-05\n",
        "Iteration 15\n"
       ]
      },
      {
       "output_type": "stream",
       "stream": "stdout",
       "text": [
        "Change in Z: 0.000233309162157\n",
        "Iteration 16\n"
       ]
      },
      {
       "output_type": "stream",
       "stream": "stdout",
       "text": [
        "Change in Z: 0.0011004802606\n",
        "Iteration 17\n"
       ]
      },
      {
       "output_type": "stream",
       "stream": "stdout",
       "text": [
        "Change in Z: 0.00511508089956\n",
        "Iteration 18\n"
       ]
      },
      {
       "output_type": "stream",
       "stream": "stdout",
       "text": [
        "Change in Z: 0.0219195789039\n",
        "Iteration 19\n"
       ]
      },
      {
       "output_type": "stream",
       "stream": "stdout",
       "text": [
        "Change in Z: 0.064347045983\n",
        "Loading ./dilutions_data/Positive/std1/Std1_1in10.csv\n",
        "2957 features read"
       ]
      },
      {
       "output_type": "stream",
       "stream": "stdout",
       "text": [
        "\n",
        "Discretising at mass_tol=2, rt_tol=5\n",
        ". "
       ]
      },
      {
       "output_type": "stream",
       "stream": "stdout",
       "text": [
        ". "
       ]
      },
      {
       "output_type": "stream",
       "stream": "stdout",
       "text": [
        ". "
       ]
      },
      {
       "output_type": "stream",
       "stream": "stdout",
       "text": [
        ". "
       ]
      },
      {
       "output_type": "stream",
       "stream": "stdout",
       "text": [
        ". "
       ]
      },
      {
       "output_type": "stream",
       "stream": "stdout",
       "text": [
        ". "
       ]
      },
      {
       "output_type": "stream",
       "stream": "stdout",
       "text": [
        ". "
       ]
      },
      {
       "output_type": "stream",
       "stream": "stdout",
       "text": [
        ". "
       ]
      },
      {
       "output_type": "stream",
       "stream": "stdout",
       "text": [
        ". "
       ]
      },
      {
       "output_type": "stream",
       "stream": "stdout",
       "text": [
        ". "
       ]
      },
      {
       "output_type": "stream",
       "stream": "stdout",
       "text": [
        ". "
       ]
      },
      {
       "output_type": "stream",
       "stream": "stdout",
       "text": [
        ". "
       ]
      },
      {
       "output_type": "stream",
       "stream": "stdout",
       "text": [
        ". "
       ]
      },
      {
       "output_type": "stream",
       "stream": "stdout",
       "text": [
        ". "
       ]
      },
      {
       "output_type": "stream",
       "stream": "stdout",
       "text": [
        ". "
       ]
      },
      {
       "output_type": "stream",
       "stream": "stdout",
       "text": [
        ". "
       ]
      },
      {
       "output_type": "stream",
       "stream": "stdout",
       "text": [
        ". "
       ]
      },
      {
       "output_type": "stream",
       "stream": "stdout",
       "text": [
        ". "
       ]
      },
      {
       "output_type": "stream",
       "stream": "stdout",
       "text": [
        ". "
       ]
      },
      {
       "output_type": "stream",
       "stream": "stdout",
       "text": [
        ". "
       ]
      },
      {
       "output_type": "stream",
       "stream": "stdout",
       "text": [
        ". "
       ]
      },
      {
       "output_type": "stream",
       "stream": "stdout",
       "text": [
        ". "
       ]
      },
      {
       "output_type": "stream",
       "stream": "stdout",
       "text": [
        ". "
       ]
      },
      {
       "output_type": "stream",
       "stream": "stdout",
       "text": [
        ". "
       ]
      },
      {
       "output_type": "stream",
       "stream": "stdout",
       "text": [
        ". "
       ]
      },
      {
       "output_type": "stream",
       "stream": "stdout",
       "text": [
        ". "
       ]
      },
      {
       "output_type": "stream",
       "stream": "stdout",
       "text": [
        ". "
       ]
      },
      {
       "output_type": "stream",
       "stream": "stdout",
       "text": [
        ". "
       ]
      },
      {
       "output_type": "stream",
       "stream": "stdout",
       "text": [
        ". "
       ]
      },
      {
       "output_type": "stream",
       "stream": "stdout",
       "text": [
        ".\n"
       ]
      },
      {
       "output_type": "stream",
       "stream": "stdout",
       "text": [
        "Total bins=2957 total features=2957\n",
        "Clustering ./dilutions_data/Positive/std1/Std1_1in10.csv\n",
        "Continuous Clusterer initialised - wow\n",
        "Variational Bayes for continuous mass model\n",
        "Hyperparameters alpha=100.0, mass_prec=100, mass_prior_prec=100, rt_prec=10, rt_prior_prec=100\n",
        "n_iterations = 20\n",
        "Running the clustering\n",
        "762 peaks to be re-sampled\n",
        "Iteration 0"
       ]
      },
      {
       "output_type": "stream",
       "stream": "stdout",
       "text": [
        "\n"
       ]
      },
      {
       "output_type": "stream",
       "stream": "stdout",
       "text": [
        "Change in Z: 229.361588369\n",
        "Iteration 1\n"
       ]
      },
      {
       "output_type": "stream",
       "stream": "stdout",
       "text": [
        "Change in Z: 109.153034312\n",
        "Iteration 2\n"
       ]
      },
      {
       "output_type": "stream",
       "stream": "stdout",
       "text": [
        "Change in Z: 12.4207170674\n",
        "Iteration 3\n"
       ]
      },
      {
       "output_type": "stream",
       "stream": "stdout",
       "text": [
        "Change in Z: 1.16250831524\n",
        "Iteration 4\n"
       ]
      },
      {
       "output_type": "stream",
       "stream": "stdout",
       "text": [
        "Change in Z: 0.980828623055\n",
        "Iteration 5\n"
       ]
      },
      {
       "output_type": "stream",
       "stream": "stdout",
       "text": [
        "Change in Z: 0.202817590401\n",
        "Iteration 6\n"
       ]
      },
      {
       "output_type": "stream",
       "stream": "stdout",
       "text": [
        "Change in Z: 0.00115432044275\n",
        "Iteration 7\n"
       ]
      },
      {
       "output_type": "stream",
       "stream": "stdout",
       "text": [
        "Change in Z: 0.000381403110251\n",
        "Iteration 8\n"
       ]
      },
      {
       "output_type": "stream",
       "stream": "stdout",
       "text": [
        "Change in Z: 0.000145936334897\n",
        "Iteration 9\n"
       ]
      },
      {
       "output_type": "stream",
       "stream": "stdout",
       "text": [
        "Change in Z: 6.30585715588e-05\n",
        "Iteration 10\n"
       ]
      },
      {
       "output_type": "stream",
       "stream": "stdout",
       "text": [
        "Change in Z: 3.01828763954e-05\n",
        "Iteration 11\n"
       ]
      },
      {
       "output_type": "stream",
       "stream": "stdout",
       "text": [
        "Change in Z: 1.73829472016e-05\n",
        "Iteration 12\n"
       ]
      },
      {
       "output_type": "stream",
       "stream": "stdout",
       "text": [
        "Change in Z: 2.01507574387e-05\n",
        "Iteration 13\n"
       ]
      },
      {
       "output_type": "stream",
       "stream": "stdout",
       "text": [
        "Change in Z: 6.49771282598e-05\n",
        "Iteration 14\n"
       ]
      },
      {
       "output_type": "stream",
       "stream": "stdout",
       "text": [
        "Change in Z: 0.00030042174598\n",
        "Iteration 15\n"
       ]
      },
      {
       "output_type": "stream",
       "stream": "stdout",
       "text": [
        "Change in Z: 0.00145608379835\n",
        "Iteration 16\n"
       ]
      },
      {
       "output_type": "stream",
       "stream": "stdout",
       "text": [
        "Change in Z: 0.00692981868659\n",
        "Iteration 17\n"
       ]
      },
      {
       "output_type": "stream",
       "stream": "stdout",
       "text": [
        "Change in Z: 0.0293180484375\n",
        "Iteration 18\n"
       ]
      },
      {
       "output_type": "stream",
       "stream": "stdout",
       "text": [
        "Change in Z: 0.0708936254231\n",
        "Iteration 19\n"
       ]
      },
      {
       "output_type": "stream",
       "stream": "stdout",
       "text": [
        "Change in Z: 0.0193179104284\n",
        "Loading ./dilutions_data/Positive/std1/Std1_1in50.csv\n",
        "2492 features read"
       ]
      },
      {
       "output_type": "stream",
       "stream": "stdout",
       "text": [
        "\n",
        "Discretising at mass_tol=2, rt_tol=5\n",
        ". "
       ]
      },
      {
       "output_type": "stream",
       "stream": "stdout",
       "text": [
        ". "
       ]
      },
      {
       "output_type": "stream",
       "stream": "stdout",
       "text": [
        ". "
       ]
      },
      {
       "output_type": "stream",
       "stream": "stdout",
       "text": [
        ". "
       ]
      },
      {
       "output_type": "stream",
       "stream": "stdout",
       "text": [
        ". "
       ]
      },
      {
       "output_type": "stream",
       "stream": "stdout",
       "text": [
        ". "
       ]
      },
      {
       "output_type": "stream",
       "stream": "stdout",
       "text": [
        ". "
       ]
      },
      {
       "output_type": "stream",
       "stream": "stdout",
       "text": [
        ". "
       ]
      },
      {
       "output_type": "stream",
       "stream": "stdout",
       "text": [
        ". "
       ]
      },
      {
       "output_type": "stream",
       "stream": "stdout",
       "text": [
        ". "
       ]
      },
      {
       "output_type": "stream",
       "stream": "stdout",
       "text": [
        ". "
       ]
      },
      {
       "output_type": "stream",
       "stream": "stdout",
       "text": [
        ". "
       ]
      },
      {
       "output_type": "stream",
       "stream": "stdout",
       "text": [
        ". "
       ]
      },
      {
       "output_type": "stream",
       "stream": "stdout",
       "text": [
        ". "
       ]
      },
      {
       "output_type": "stream",
       "stream": "stdout",
       "text": [
        ". "
       ]
      },
      {
       "output_type": "stream",
       "stream": "stdout",
       "text": [
        ". "
       ]
      },
      {
       "output_type": "stream",
       "stream": "stdout",
       "text": [
        ". "
       ]
      },
      {
       "output_type": "stream",
       "stream": "stdout",
       "text": [
        ". "
       ]
      },
      {
       "output_type": "stream",
       "stream": "stdout",
       "text": [
        ". "
       ]
      },
      {
       "output_type": "stream",
       "stream": "stdout",
       "text": [
        ". "
       ]
      },
      {
       "output_type": "stream",
       "stream": "stdout",
       "text": [
        ". "
       ]
      },
      {
       "output_type": "stream",
       "stream": "stdout",
       "text": [
        ". "
       ]
      },
      {
       "output_type": "stream",
       "stream": "stdout",
       "text": [
        ". "
       ]
      },
      {
       "output_type": "stream",
       "stream": "stdout",
       "text": [
        ". "
       ]
      },
      {
       "output_type": "stream",
       "stream": "stdout",
       "text": [
        ".\n"
       ]
      },
      {
       "output_type": "stream",
       "stream": "stdout",
       "text": [
        "Total bins=2492 total features=2492\n",
        "Clustering ./dilutions_data/Positive/std1/Std1_1in50.csv\n",
        "Continuous Clusterer initialised - wow\n",
        "Variational Bayes for continuous mass model\n",
        "Hyperparameters alpha=100.0, mass_prec=100, mass_prior_prec=100, rt_prec=10, rt_prior_prec=100\n",
        "n_iterations = 20\n",
        "Running the clustering\n",
        "581 peaks to be re-sampled\n",
        "Iteration 0"
       ]
      },
      {
       "output_type": "stream",
       "stream": "stdout",
       "text": [
        "\n"
       ]
      },
      {
       "output_type": "stream",
       "stream": "stdout",
       "text": [
        "Change in Z: 167.143432304\n",
        "Iteration 1\n"
       ]
      },
      {
       "output_type": "stream",
       "stream": "stdout",
       "text": [
        "Change in Z: 75.8920329837\n",
        "Iteration 2\n"
       ]
      },
      {
       "output_type": "stream",
       "stream": "stdout",
       "text": [
        "Change in Z: 6.54735645195\n",
        "Iteration 3\n"
       ]
      },
      {
       "output_type": "stream",
       "stream": "stdout",
       "text": [
        "Change in Z: 0.207388608927\n",
        "Iteration 4\n"
       ]
      },
      {
       "output_type": "stream",
       "stream": "stdout",
       "text": [
        "Change in Z: 0.00804656990283\n",
        "Iteration 5\n"
       ]
      },
      {
       "output_type": "stream",
       "stream": "stdout",
       "text": [
        "Change in Z: 0.00251880523862\n",
        "Iteration 6\n"
       ]
      },
      {
       "output_type": "stream",
       "stream": "stdout",
       "text": [
        "Change in Z: 0.00157491243348\n",
        "Iteration 7\n"
       ]
      },
      {
       "output_type": "stream",
       "stream": "stdout",
       "text": [
        "Change in Z: 0.00112889390521\n",
        "Iteration 8\n"
       ]
      },
      {
       "output_type": "stream",
       "stream": "stdout",
       "text": [
        "Change in Z: 0.00080968583239\n",
        "Iteration 9\n"
       ]
      },
      {
       "output_type": "stream",
       "stream": "stdout",
       "text": [
        "Change in Z: 0.000555439526227\n",
        "Iteration 10\n"
       ]
      },
      {
       "output_type": "stream",
       "stream": "stdout",
       "text": [
        "Change in Z: 0.000361441690611\n",
        "Iteration 11\n"
       ]
      },
      {
       "output_type": "stream",
       "stream": "stdout",
       "text": [
        "Change in Z: 0.000225707561324\n",
        "Iteration 12\n"
       ]
      },
      {
       "output_type": "stream",
       "stream": "stdout",
       "text": [
        "Change in Z: 0.000145865224888\n",
        "Iteration 13\n"
       ]
      },
      {
       "output_type": "stream",
       "stream": "stdout",
       "text": [
        "Change in Z: 0.000145502010412\n",
        "Iteration 14\n"
       ]
      },
      {
       "output_type": "stream",
       "stream": "stdout",
       "text": [
        "Change in Z: 0.000392274219366\n",
        "Iteration 15\n"
       ]
      },
      {
       "output_type": "stream",
       "stream": "stdout",
       "text": [
        "Change in Z: 0.00176079178004\n",
        "Iteration 16\n"
       ]
      },
      {
       "output_type": "stream",
       "stream": "stdout",
       "text": [
        "Change in Z: 0.0083937017716\n",
        "Iteration 17\n"
       ]
      },
      {
       "output_type": "stream",
       "stream": "stdout",
       "text": [
        "Change in Z: 0.0352239170342\n",
        "Iteration 18\n"
       ]
      },
      {
       "output_type": "stream",
       "stream": "stdout",
       "text": [
        "Change in Z: 0.0783669291695\n",
        "Iteration 19\n"
       ]
      },
      {
       "output_type": "stream",
       "stream": "stdout",
       "text": [
        "Change in Z: 0.0407719666813\n",
        "Loading ./dilutions_data/Positive/std1/Std1_1in100.csv\n",
        "2550 features read"
       ]
      },
      {
       "output_type": "stream",
       "stream": "stdout",
       "text": [
        "\n",
        "Discretising at mass_tol=2, rt_tol=5\n",
        ". "
       ]
      },
      {
       "output_type": "stream",
       "stream": "stdout",
       "text": [
        ". "
       ]
      },
      {
       "output_type": "stream",
       "stream": "stdout",
       "text": [
        ". "
       ]
      },
      {
       "output_type": "stream",
       "stream": "stdout",
       "text": [
        ". "
       ]
      },
      {
       "output_type": "stream",
       "stream": "stdout",
       "text": [
        ". "
       ]
      },
      {
       "output_type": "stream",
       "stream": "stdout",
       "text": [
        ". "
       ]
      },
      {
       "output_type": "stream",
       "stream": "stdout",
       "text": [
        ". "
       ]
      },
      {
       "output_type": "stream",
       "stream": "stdout",
       "text": [
        ". "
       ]
      },
      {
       "output_type": "stream",
       "stream": "stdout",
       "text": [
        ". "
       ]
      },
      {
       "output_type": "stream",
       "stream": "stdout",
       "text": [
        ". "
       ]
      },
      {
       "output_type": "stream",
       "stream": "stdout",
       "text": [
        ". "
       ]
      },
      {
       "output_type": "stream",
       "stream": "stdout",
       "text": [
        ". "
       ]
      },
      {
       "output_type": "stream",
       "stream": "stdout",
       "text": [
        ". "
       ]
      },
      {
       "output_type": "stream",
       "stream": "stdout",
       "text": [
        ". "
       ]
      },
      {
       "output_type": "stream",
       "stream": "stdout",
       "text": [
        ". "
       ]
      },
      {
       "output_type": "stream",
       "stream": "stdout",
       "text": [
        ". "
       ]
      },
      {
       "output_type": "stream",
       "stream": "stdout",
       "text": [
        ". "
       ]
      },
      {
       "output_type": "stream",
       "stream": "stdout",
       "text": [
        ". "
       ]
      },
      {
       "output_type": "stream",
       "stream": "stdout",
       "text": [
        ". "
       ]
      },
      {
       "output_type": "stream",
       "stream": "stdout",
       "text": [
        ". "
       ]
      },
      {
       "output_type": "stream",
       "stream": "stdout",
       "text": [
        ". "
       ]
      },
      {
       "output_type": "stream",
       "stream": "stdout",
       "text": [
        ". "
       ]
      },
      {
       "output_type": "stream",
       "stream": "stdout",
       "text": [
        ". "
       ]
      },
      {
       "output_type": "stream",
       "stream": "stdout",
       "text": [
        ". "
       ]
      },
      {
       "output_type": "stream",
       "stream": "stdout",
       "text": [
        ". "
       ]
      },
      {
       "output_type": "stream",
       "stream": "stdout",
       "text": [
        ".\n"
       ]
      },
      {
       "output_type": "stream",
       "stream": "stdout",
       "text": [
        "Total bins=2550 total features=2550\n",
        "Clustering ./dilutions_data/Positive/std1/Std1_1in100.csv\n",
        "Continuous Clusterer initialised - wow\n",
        "Variational Bayes for continuous mass model\n",
        "Hyperparameters alpha=100.0, mass_prec=100, mass_prior_prec=100, rt_prec=10, rt_prior_prec=100\n",
        "n_iterations = 20\n",
        "Running the clustering\n",
        "607 peaks to be re-sampled\n",
        "Iteration 0"
       ]
      },
      {
       "output_type": "stream",
       "stream": "stdout",
       "text": [
        "\n"
       ]
      },
      {
       "output_type": "stream",
       "stream": "stdout",
       "text": [
        "Change in Z: 169.475853719\n",
        "Iteration 1\n"
       ]
      },
      {
       "output_type": "stream",
       "stream": "stdout",
       "text": [
        "Change in Z: 78.5604450757\n",
        "Iteration 2\n"
       ]
      },
      {
       "output_type": "stream",
       "stream": "stdout",
       "text": [
        "Change in Z: 8.15661845374\n",
        "Iteration 3\n"
       ]
      },
      {
       "output_type": "stream",
       "stream": "stdout",
       "text": [
        "Change in Z: 0.576064881126\n",
        "Iteration 4\n"
       ]
      },
      {
       "output_type": "stream",
       "stream": "stdout",
       "text": [
        "Change in Z: 0.0349015676032\n",
        "Iteration 5\n"
       ]
      },
      {
       "output_type": "stream",
       "stream": "stdout",
       "text": [
        "Change in Z: 0.00853015614436\n",
        "Iteration 6\n"
       ]
      },
      {
       "output_type": "stream",
       "stream": "stdout",
       "text": [
        "Change in Z: 0.00932435308116\n",
        "Iteration 7\n"
       ]
      },
      {
       "output_type": "stream",
       "stream": "stdout",
       "text": [
        "Change in Z: 0.0195101233988\n",
        "Iteration 8\n"
       ]
      },
      {
       "output_type": "stream",
       "stream": "stdout",
       "text": [
        "Change in Z: 0.0561270947628\n",
        "Iteration 9\n"
       ]
      },
      {
       "output_type": "stream",
       "stream": "stdout",
       "text": [
        "Change in Z: 0.151492576642\n",
        "Iteration 10\n"
       ]
      },
      {
       "output_type": "stream",
       "stream": "stdout",
       "text": [
        "Change in Z: 0.172489792267\n",
        "Iteration 11\n"
       ]
      },
      {
       "output_type": "stream",
       "stream": "stdout",
       "text": [
        "Change in Z: 0.0998807621981\n",
        "Iteration 12\n"
       ]
      },
      {
       "output_type": "stream",
       "stream": "stdout",
       "text": [
        "Change in Z: 0.0728956405682\n",
        "Iteration 13\n"
       ]
      },
      {
       "output_type": "stream",
       "stream": "stdout",
       "text": [
        "Change in Z: 0.0090808832302\n",
        "Iteration 14\n"
       ]
      },
      {
       "output_type": "stream",
       "stream": "stdout",
       "text": [
        "Change in Z: 0.000749357216836\n",
        "Iteration 15\n"
       ]
      },
      {
       "output_type": "stream",
       "stream": "stdout",
       "text": [
        "Change in Z: 4.5582454886e-05\n",
        "Iteration 16\n"
       ]
      },
      {
       "output_type": "stream",
       "stream": "stdout",
       "text": [
        "Change in Z: 4.41435764127e-06\n",
        "Iteration 17\n"
       ]
      },
      {
       "output_type": "stream",
       "stream": "stdout",
       "text": [
        "Change in Z: 1.87551127176e-06\n",
        "Iteration 18\n"
       ]
      },
      {
       "output_type": "stream",
       "stream": "stdout",
       "text": [
        "Change in Z: 3.7589931455e-06\n",
        "Iteration 19\n"
       ]
      },
      {
       "output_type": "stream",
       "stream": "stdout",
       "text": [
        "Change in Z: 1.49354727499e-05\n",
        "Loading ./dilutions_data/Positive/std1/Std1_1in1000.csv\n",
        "2206 features read"
       ]
      },
      {
       "output_type": "stream",
       "stream": "stdout",
       "text": [
        "\n",
        "Discretising at mass_tol=2, rt_tol=5\n",
        "."
       ]
      },
      {
       "output_type": "stream",
       "stream": "stdout",
       "text": [
        " . "
       ]
      },
      {
       "output_type": "stream",
       "stream": "stdout",
       "text": [
        ". "
       ]
      },
      {
       "output_type": "stream",
       "stream": "stdout",
       "text": [
        ". "
       ]
      },
      {
       "output_type": "stream",
       "stream": "stdout",
       "text": [
        ". "
       ]
      },
      {
       "output_type": "stream",
       "stream": "stdout",
       "text": [
        ". "
       ]
      },
      {
       "output_type": "stream",
       "stream": "stdout",
       "text": [
        ". "
       ]
      },
      {
       "output_type": "stream",
       "stream": "stdout",
       "text": [
        ". "
       ]
      },
      {
       "output_type": "stream",
       "stream": "stdout",
       "text": [
        ". "
       ]
      },
      {
       "output_type": "stream",
       "stream": "stdout",
       "text": [
        ". "
       ]
      },
      {
       "output_type": "stream",
       "stream": "stdout",
       "text": [
        ". "
       ]
      },
      {
       "output_type": "stream",
       "stream": "stdout",
       "text": [
        ". "
       ]
      },
      {
       "output_type": "stream",
       "stream": "stdout",
       "text": [
        ". "
       ]
      },
      {
       "output_type": "stream",
       "stream": "stdout",
       "text": [
        ". "
       ]
      },
      {
       "output_type": "stream",
       "stream": "stdout",
       "text": [
        ". "
       ]
      },
      {
       "output_type": "stream",
       "stream": "stdout",
       "text": [
        ". "
       ]
      },
      {
       "output_type": "stream",
       "stream": "stdout",
       "text": [
        ". "
       ]
      },
      {
       "output_type": "stream",
       "stream": "stdout",
       "text": [
        ". "
       ]
      },
      {
       "output_type": "stream",
       "stream": "stdout",
       "text": [
        ". "
       ]
      },
      {
       "output_type": "stream",
       "stream": "stdout",
       "text": [
        ". "
       ]
      },
      {
       "output_type": "stream",
       "stream": "stdout",
       "text": [
        ". "
       ]
      },
      {
       "output_type": "stream",
       "stream": "stdout",
       "text": [
        ". "
       ]
      },
      {
       "output_type": "stream",
       "stream": "stdout",
       "text": [
        ".\n",
        "Total bins=2206 total features=2206\n",
        "Clustering ./dilutions_data/Positive/std1/Std1_1in1000.csv\n",
        "Continuous Clusterer initialised - wow\n",
        "Variational Bayes for continuous mass model\n",
        "Hyperparameters alpha=100.0, mass_prec=100, mass_prior_prec=100, rt_prec=10, rt_prior_prec=100\n",
        "n_iterations = 20\n",
        "Running the clustering\n",
        "532 peaks to be re-sampled"
       ]
      },
      {
       "output_type": "stream",
       "stream": "stdout",
       "text": [
        "\n",
        "Iteration 0"
       ]
      },
      {
       "output_type": "stream",
       "stream": "stdout",
       "text": [
        "\n"
       ]
      },
      {
       "output_type": "stream",
       "stream": "stdout",
       "text": [
        "Change in Z: 182.293657832\n",
        "Iteration 1\n"
       ]
      },
      {
       "output_type": "stream",
       "stream": "stdout",
       "text": [
        "Change in Z: 54.240405061\n",
        "Iteration 2\n"
       ]
      },
      {
       "output_type": "stream",
       "stream": "stdout",
       "text": [
        "Change in Z: 5.58373027643\n",
        "Iteration 3\n"
       ]
      },
      {
       "output_type": "stream",
       "stream": "stdout",
       "text": [
        "Change in Z: 0.251948084963\n",
        "Iteration 4\n"
       ]
      },
      {
       "output_type": "stream",
       "stream": "stdout",
       "text": [
        "Change in Z: 0.03743856293\n",
        "Iteration 5\n"
       ]
      },
      {
       "output_type": "stream",
       "stream": "stdout",
       "text": [
        "Change in Z: 0.00861796859187\n",
        "Iteration 6\n"
       ]
      },
      {
       "output_type": "stream",
       "stream": "stdout",
       "text": [
        "Change in Z: 0.00262205440827\n",
        "Iteration 7\n"
       ]
      },
      {
       "output_type": "stream",
       "stream": "stdout",
       "text": [
        "Change in Z: 0.00105837141018\n",
        "Iteration 8\n"
       ]
      },
      {
       "output_type": "stream",
       "stream": "stdout",
       "text": [
        "Change in Z: 0.00048549287379\n",
        "Iteration 9\n"
       ]
      },
      {
       "output_type": "stream",
       "stream": "stdout",
       "text": [
        "Change in Z: 0.000236342558848\n",
        "Iteration 10\n"
       ]
      },
      {
       "output_type": "stream",
       "stream": "stdout",
       "text": [
        "Change in Z: 0.000119412876057\n",
        "Iteration 11\n"
       ]
      },
      {
       "output_type": "stream",
       "stream": "stdout",
       "text": [
        "Change in Z: 6.23041032002e-05\n",
        "Iteration 12\n"
       ]
      },
      {
       "output_type": "stream",
       "stream": "stdout",
       "text": [
        "Change in Z: 3.37366437194e-05\n",
        "Iteration 13\n"
       ]
      },
      {
       "output_type": "stream",
       "stream": "stdout",
       "text": [
        "Change in Z: 1.97760768923e-05\n",
        "Iteration 14\n"
       ]
      },
      {
       "output_type": "stream",
       "stream": "stdout",
       "text": [
        "Change in Z: 1.60998460321e-05\n",
        "Iteration 15\n"
       ]
      },
      {
       "output_type": "stream",
       "stream": "stdout",
       "text": [
        "Change in Z: 3.12713046802e-05\n",
        "Iteration 16\n"
       ]
      },
      {
       "output_type": "stream",
       "stream": "stdout",
       "text": [
        "Change in Z: 0.000118427322076\n",
        "Iteration 17\n"
       ]
      },
      {
       "output_type": "stream",
       "stream": "stdout",
       "text": [
        "Change in Z: 0.000527477196782\n",
        "Iteration 18\n"
       ]
      },
      {
       "output_type": "stream",
       "stream": "stdout",
       "text": [
        "Change in Z: 0.00238771057302\n",
        "Iteration 19\n"
       ]
      },
      {
       "output_type": "stream",
       "stream": "stdout",
       "text": [
        "Change in Z: 0.010437131857\n"
       ]
      }
     ],
     "prompt_number": 4
    },
    {
     "cell_type": "markdown",
     "metadata": {},
     "source": [
      "Function to pick a single feature for plotting."
     ]
    },
    {
     "cell_type": "code",
     "collapsed": false,
     "input": [
      "identify_tol = 2\n",
      "\n",
      "def get_feature(peak_data, cluster_model, db_entry, t_find):\n",
      "\n",
      "    # find cluster membership for all peaks with transformation t_find\n",
      "    cluster_membership = (cluster_model.Z>0.5)\n",
      "    trans_mat = peak_data.possible.multiply(cluster_membership)\n",
      "    trans_mat = (trans_mat==t_find+1)    \n",
      "    trans_count = (trans_mat).sum(0)\n",
      "\n",
      "    # match prior bin masses against database entry's mass\n",
      "    prior_masses = peak_data.prior_masses\n",
      "    mass_ok = utils.mass_match(db_entry.mass, prior_masses, identify_tol)\n",
      "    ks = np.flatnonzero(mass_ok)\n",
      "    \n",
      "    # enumerate all the possible features\n",
      "    features = []\n",
      "    for k in ks:\n",
      "        if trans_count[0, k]==0:\n",
      "            continue\n",
      "        else:\n",
      "            temp = np.nonzero(trans_mat[:, k])\n",
      "            peak_idx = temp[0]\n",
      "            for n in peak_idx:\n",
      "                f = peak_data.features[n]\n",
      "                features.append(f)\n",
      "                \n",
      "    # if there are multiple features, pick the most intense one\n",
      "    if len(features)==1:\n",
      "        return features[0]\n",
      "    elif len(features)>1:\n",
      "        intenses = np.array([f.intensity for f in features])\n",
      "        most_intense = intenses.argmax()\n",
      "        return features[most_intense]\n",
      "    else:\n",
      "        return None"
     ],
     "language": "python",
     "metadata": {},
     "outputs": [],
     "prompt_number": 119
    },
    {
     "cell_type": "markdown",
     "metadata": {},
     "source": [
      "Function to plot heatmap for an adduct type to find"
     ]
    },
    {
     "cell_type": "code",
     "collapsed": false,
     "input": [
      "def plot_heatmap(database, dilutions, transformations, filemap, t_find):\n",
      "    \n",
      "    print \"Finding \" + str(transformations[t_find])\n",
      "    D = len(database)\n",
      "    L = len(dilutions)    \n",
      "    results = np.zeros((D, L))   \n",
      "\n",
      "    # for all db entries\n",
      "    for d in range(D):\n",
      "        db_entry = database[d]\n",
      "        # for all dilution files\n",
      "        for l in range(L):\n",
      "            dil = dilutions[l]\n",
      "            # find the peak\n",
      "            load_res = filemap[dil]\n",
      "            peak_data = load_res[0]\n",
      "            cluster_model = load_res[1]\n",
      "            f = get_feature(peak_data, cluster_model, db_entry, t_find)\n",
      "            if f is not None:\n",
      "                results[d, l] = math.log(f.intensity)\n",
      "    # sort the results by first column\n",
      "    sres = results[results[:, 0].argsort()]    \n",
      "    # make heatmap\n",
      "    heatmap = plt.pcolor(sres)   \n",
      "    plt.show()\n",
      "    return results"
     ],
     "language": "python",
     "metadata": {},
     "outputs": [],
     "prompt_number": 120
    },
    {
     "cell_type": "markdown",
     "metadata": {},
     "source": [
      "Try for some adducts:"
     ]
    },
    {
     "cell_type": "code",
     "collapsed": false,
     "input": [
      "# get the database and transformations objects from any loaed file\n",
      "any_entry = filemap[filemap.keys()[0]]\n",
      "any_peak_data = any_entry[0]\n",
      "database = any_peak_data.database\n",
      "transformations = any_peak_data.transformations"
     ],
     "language": "python",
     "metadata": {},
     "outputs": [],
     "prompt_number": 121
    },
    {
     "cell_type": "code",
     "collapsed": false,
     "input": [
      "# for t in range(len(transformations)):\n",
      "#     plot_heatmap(database, dilutions, transformations, filemap, t) "
     ],
     "language": "python",
     "metadata": {},
     "outputs": [],
     "prompt_number": 122
    },
    {
     "cell_type": "code",
     "collapsed": false,
     "input": [
      "results = plot_heatmap(database, dilutions, transformations, filemap, 6) "
     ],
     "language": "python",
     "metadata": {},
     "outputs": [
      {
       "output_type": "stream",
       "stream": "stdout",
       "text": [
        "Finding Transformation(trans_id=7, name='M+H', sub=1.00727645199076, mul=1.0, iso=0.0)\n",
        "Peak data 1:1\n",
        "Candidates for DatabaseEntry db_id=StdMix1_1, formula= C7H19N3, mass=145.157897626, name= Spermidine, rt=0 are \n",
        "\tFeature feature_id=3475, file_id=0, gt_adduct=None, gt_metabolite=None, intb=2837797766.9, intensity=2880634246.52, mass=146.165091401, maxo=24278942, rt=668.003 log(intensity)=21.7812763313 log(maxo)=17.0051199482 log(intb)=21.7662941541\n",
        "\tFeature feature_id=3476, file_id=0, gt_adduct=None, gt_metabolite=None, intb=1910071289.96, intensity=1971271561.65, mass=146.165087279, maxo=12892860, rt=962.036 log(intensity)=21.4019446342 log(maxo)=16.3721842277 log(intb)=21.3704064029\n",
        "\tFeature feature_id=3477, file_id=0, gt_adduct=None, gt_metabolite=None, intb=18775342.1144, intensity=26628796.9763, mass=146.165152547, maxo=1253065.875, rt=315.079 log(intensity)=17.0975037813 log(maxo)=14.0411038063 log(intb)=16.7480549773\n",
        "\tFeature feature_id=3478, file_id=0, gt_adduct=None, gt_metabolite=None, intb=635802250.41, intensity=649738307.089, mass=146.165156592, maxo=14310970, rt=547.64 log(intensity)=20.2920802353 log(maxo)=16.476536934 log(intb)=20.2703981459\n",
        "\tFeature feature_id=3479, file_id=0, gt_adduct=None, gt_metabolite=None, intb=78935817.2142, intensity=86510787.6376, mass=146.165164968, maxo=4234779.5, rt=453.178 log(intensity)=18.2757796767 log(maxo)=15.2588418186 log(intb)=18.1841456399\n",
        "\tFeature feature_id=3480, file_id=0, gt_adduct=None, gt_metabolite=None, intb=357350638.25, intensity=363291271.774, mass=146.165121301, maxo=17683760, rt=616.352 log(intensity)=19.7107154721 log(maxo)=16.6881572622 log(intb)=19.6942280377\n",
        "\tFeature feature_id=3481, file_id=0, gt_adduct=None, gt_metabolite=None, intb=318507276.155, intensity=323177405.917, mass=146.165121833, maxo=23091142, rt=639.045 log(intensity)=19.5937119747 log(maxo)=16.9549596387 log(intb)=19.5791558778\n",
        "\tFeature feature_id=3482, file_id=0, gt_adduct=None, gt_metabolite=None, intb=150306666.751, intensity=158739103.234, mass=146.165171689, maxo=5939121, rt=488.326 log(intensity)=18.8827725523 log(maxo)=15.5970717006 log(intb)=18.82818821\n",
        "Peak data 1:5\n",
        "Peak data 1:10\n",
        "Peak data 1:50\n",
        "Peak data 1:100\n",
        "Peak data 1:1000\n",
        "Candidates for DatabaseEntry db_id=StdMix1_1, formula= C7H19N3, mass=145.157897626, name= Spermidine, rt=0 are \n",
        "\tFeature feature_id=1695, file_id=0, gt_adduct=None, gt_metabolite=None, intb=197088329.678, intensity=198857262.553, mass=146.165089976, maxo=3431224.25, rt=655.696 log(intensity)=19.1080978517 log(maxo)=15.0484276797 log(intb)=19.0991625602\n",
        "\tFeature feature_id=1696, file_id=0, gt_adduct=None, gt_metabolite=None, intb=91334514.8913, intensity=97995224.6653, mass=146.165085601, maxo=630433.25, rt=1285.11 log(intensity)=18.4004293075 log(maxo)=13.3541625604 log(intb)=18.3300393124\n",
        "\tFeature feature_id=1697, file_id=0, gt_adduct=None, gt_metabolite=None, intb=45378638.5235, intensity=46287802.4314, mass=146.16509468, maxo=1393121.75, rt=891.855 log(intensity)=17.6503890379 log(maxo)=14.1470576502 log(intb)=17.6305520352\n",
        "\tFeature feature_id=1698, file_id=0, gt_adduct=None, gt_metabolite=None, intb=30139868.2698, intensity=30510698.8494, mass=146.16513489, maxo=2273372.25, rt=588.91 log(intensity)=17.233587962 log(maxo)=14.6367748598 log(intb)=17.2213593805\n",
        "\tFeature feature_id=1699, file_id=0, gt_adduct=None, gt_metabolite=None, intb=25049042.4597, intensity=25686749.6465, mass=146.165096772, maxo=1055409.25, rt=967.798 log(intensity)=17.061485839 log(maxo)=13.8694391644 log(intb)=17.0363461596\n",
        "\tFeature feature_id=1700, file_id=0, gt_adduct=None, gt_metabolite=None, intb=26661163.5863, intensity=27263138.7698, mass=146.165134336, maxo=1272985.625, rt=514.062 log(intensity)=17.1210461196 log(maxo)=14.0568755853 log(intb)=17.0987185172\n",
        "\tFeature feature_id=1701, file_id=0, gt_adduct=None, gt_metabolite=None, intb=58734810.6782, intensity=59427386.8929, mass=146.16509435, maxo=2330412, rt=735.489 log(intensity)=17.9002657369 log(maxo)=14.6615556339 log(intb)=17.8885431359\n",
        "\tFeature feature_id=1702, file_id=0, gt_adduct=None, gt_metabolite=None, intb=32881311.5217, intensity=33442636.4408, mass=146.165148196, maxo=1853776.375, rt=542.256 log(intensity)=17.325342184 log(maxo)=14.4327354002 log(intb)=17.3084150155\n",
        "\tFeature feature_id=1703, file_id=0, gt_adduct=None, gt_metabolite=None, intb=14488324.5368, intensity=15046238.9664, mass=146.16515942, maxo=884527.5, rt=464.535 log(intensity)=16.5266386154 log(maxo)=13.6928088831 log(intb)=16.4888536787\n",
        "\tFeature feature_id=1704, file_id=0, gt_adduct=None, gt_metabolite=None, intb=36965578.5077, intensity=37502806.1778, mass=146.16509158, maxo=1858835.625, rt=782.653 log(intensity)=17.4399263195 log(maxo)=14.4354608416 log(intb)=17.425497727\n",
        "\tFeature feature_id=1705, file_id=0, gt_adduct=None, gt_metabolite=None, intb=21113846.584, intensity=21623072.2983, mass=146.165091727, maxo=1137290.125, rt=943.298 log(intensity)=16.8892714645 log(maxo)=13.9441589073 log(intb)=16.8654396194\n",
        "\tFeature feature_id=1706, file_id=0, gt_adduct=None, gt_metabolite=None, intb=27065993.492, intensity=27469809.1425, mass=146.165151609, maxo=1853776.375, rt=562.42 log(intensity)=17.1285981102 log(maxo)=14.4327354002 log(intb)=17.1137886452\n",
        "\tFeature feature_id=1707, file_id=0, gt_adduct=None, gt_metabolite=None, intb=31936918.9262, intensity=32310083.1233, mass=146.165129729, maxo=2285614.75, rt=601.486 log(intensity)=17.2908899105 log(maxo)=14.6421455833 log(intb)=17.2792732317\n",
        "Peak data 1:1\n",
        "Peak data 1:5\n",
        "Peak data 1:10"
       ]
      },
      {
       "output_type": "stream",
       "stream": "stdout",
       "text": [
        "\n",
        "Peak data 1:50\n",
        "Peak data 1:100\n",
        "Peak data 1:1000\n",
        "Peak data 1:1\n",
        "Peak data 1:5\n",
        "Peak data 1:10\n",
        "Peak data 1:50\n",
        "Peak data 1:100\n",
        "Peak data 1:1000"
       ]
      },
      {
       "output_type": "stream",
       "stream": "stdout",
       "text": [
        "\n",
        "Peak data 1:1\n",
        "Peak data 1:5\n",
        "Peak data 1:10\n",
        "Peak data 1:50\n",
        "Peak data 1:100\n",
        "Peak data 1:1000\n",
        "Peak data 1:1\n",
        "Peak data 1:5\n",
        "Peak data 1:10"
       ]
      },
      {
       "output_type": "stream",
       "stream": "stdout",
       "text": [
        "\n",
        "Peak data 1:50\n",
        "Peak data 1:100\n",
        "Peak data 1:1000\n",
        "Peak data 1:1\n",
        "Peak data 1:5\n",
        "Peak data 1:10\n",
        "Peak data 1:50\n",
        "Peak data 1:100\n",
        "Peak data 1:1000"
       ]
      },
      {
       "output_type": "stream",
       "stream": "stdout",
       "text": [
        "\n",
        "Peak data 1:1\n",
        "Peak data 1:5\n",
        "Peak data 1:10\n",
        "Peak data 1:50\n",
        "Peak data 1:100\n",
        "Peak data 1:1000\n",
        "Peak data 1:1\n",
        "Peak data 1:5\n",
        "Peak data 1:10"
       ]
      },
      {
       "output_type": "stream",
       "stream": "stdout",
       "text": [
        "\n",
        "Peak data 1:50\n",
        "Peak data 1:100\n",
        "Peak data 1:1000\n",
        "Peak data 1:1\n",
        "Peak data 1:5\n",
        "Candidates for DatabaseEntry db_id=StdMix1_12, formula= C9H11NO2, mass=165.078978603, name= L-Phenylalanine, rt=0 are \n",
        "\tFeature feature_id=1969, file_id=0, gt_adduct=None, gt_metabolite=None, intb=106782775.556, intensity=107947341.856, mass=166.086262593, maxo=12689813, rt=498.878 log(intensity)=18.4971540908 log(maxo)=16.3563101036 log(intb)=18.4863071939\n",
        "\tFeature feature_id=2762, file_id=0, gt_adduct=None, gt_metabolite=None, intb=1402081.27124, intensity=2937332.5029, mass=166.086196969, maxo=168032.09375, rt=1347.26 log(intensity)=14.8930124155 log(maxo)=12.0319102744 log(intb)=14.153468313\n",
        "Peak data 1:10\n",
        "Candidates for DatabaseEntry db_id=StdMix1_12, formula= C9H11NO2, mass=165.078978603, name= L-Phenylalanine, rt=0 are \n",
        "\tFeature feature_id=1746, file_id=0, gt_adduct=None, gt_metabolite=None, intb=46545402.474, intensity=47208321.6624, mass=166.08622545, maxo=5544943, rt=499.568 log(intensity)=17.6700807414 log(maxo)=15.5283968992 log(intb)=17.6559387915\n",
        "\tFeature feature_id=2387, file_id=0, gt_adduct=None, gt_metabolite=None, intb=1426200.72679, intensity=2548060.6131, mass=166.086213991, maxo=118217.453125, rt=1347.98 log(intensity)=14.7508430839 log(maxo)=11.6802810306 log(intb)=14.1705246322\n",
        "Peak data 1:50\n",
        "Candidates for DatabaseEntry db_id=StdMix1_12, formula= C9H11NO2, mass=165.078978603, name= L-Phenylalanine, rt=0 are \n",
        "\tFeature feature_id=1441, file_id=0, gt_adduct=None, gt_metabolite=None, intb=6712721.49849, intensity=7457639.10895, mass=166.086300903, maxo=877118.75, rt=499.334 log(intensity)=15.8247494488 log(maxo)=13.684397667 log(intb)=15.7195150152\n",
        "\tFeature feature_id=2073, file_id=0, gt_adduct=None, gt_metabolite=None, intb=1083048.23863, intensity=1751643.61747, mass=166.086170051, maxo=134727.78125, rt=1351.66 log(intensity)=14.3760651151 log(maxo)=11.8110115865 log(intb)=13.8952900667\n",
        "Peak data 1:100\n",
        "Peak data 1:1000"
       ]
      },
      {
       "output_type": "stream",
       "stream": "stdout",
       "text": [
        "\n",
        "Peak data 1:1\n",
        "Candidates for DatabaseEntry db_id=StdMix1_13, formula= C6H13NO2, mass=131.094628667, name= L-Leucine, rt=0 are \n",
        "\tFeature feature_id=2415, file_id=0, gt_adduct=None, gt_metabolite=None, intb=1231870389.18, intensity=1233151936.84, mass=132.10181421, maxo=197374192, rt=522.662 log(intensity)=20.9328392789 log(maxo)=19.1006119368 log(intb)=20.9317994929\n",
        "\tFeature feature_id=3419, file_id=0, gt_adduct=None, gt_metabolite=None, intb=2525632.37355, intensity=3594892.63632, mass=132.101842925, maxo=231926.21875, rt=905.184 log(intensity)=15.095024684 log(maxo)=12.3541745774 log(intb)=14.7420020343\n",
        "\tFeature feature_id=3420, file_id=0, gt_adduct=None, gt_metabolite=None, intb=1595911.96195, intensity=2684191.17604, mass=132.101854658, maxo=192068.25, rt=1351.46 log(intensity)=14.8028900026 log(maxo)=12.1656060566 log(intb)=14.2829558938\n",
        "\tFeature feature_id=3421, file_id=0, gt_adduct=None, gt_metabolite=None, intb=3970942.27564, intensity=4920175.11679, mass=132.101851306, maxo=310911.53125, rt=683.191 log(intensity)=15.4088546807 log(maxo)=12.6472636853 log(intb)=15.1945139735\n",
        "\tFeature feature_id=3422, file_id=0, gt_adduct=None, gt_metabolite=None, intb=2456149.71636, intensity=3053650.33496, mass=132.101878004, maxo=355327.65625, rt=637.803 log(intensity)=14.9318482641 log(maxo)=12.7807956181 log(intb)=14.7141055258\n",
        "\tFeature feature_id=3423, file_id=0, gt_adduct=None, gt_metabolite=None, intb=4014352.89516, intensity=5077289.97412, mass=132.101836449, maxo=274985.65625, rt=703.427 log(intensity)=15.4402882075 log(maxo)=12.5244742162 log(intb)=15.2053867206\n",
        "\tFeature feature_id=3424, file_id=0, gt_adduct=None, gt_metabolite=None, intb=2257263.1, intensity=3234215.49093, mass=132.101858528, maxo=213785.703125, rt=881.78 log(intensity)=14.9892969498 log(maxo)=12.272729405 log(intb)=14.6296636197\n",
        "Peak data 1:5\n",
        "Peak data 1:10\n",
        "Peak data 1:50\n",
        "Peak data 1:100\n",
        "Peak data 1:1000\n",
        "Peak data 1:1\n",
        "Candidates for DatabaseEntry db_id=StdMix1_14, formula= C11H12N2O2, mass=204.08987764, name= L-Tryptophan, rt=0 are \n",
        "\tFeature feature_id=1167, file_id=0, gt_adduct=None, gt_metabolite=None, intb=178783.795226, intensity=179936.896313, mass=205.097278232, maxo=67627, rt=362.942 log(intensity)=12.1003614924 log(maxo)=11.1217625906 log(intb)=12.0939325069\n",
        "\tFeature feature_id=2274, file_id=0, gt_adduct=None, gt_metabolite=None, intb=923209955.026, intensity=923453017.977, mass=205.097181915, maxo=104721704, rt=557.627 log(intensity)=20.6436304824 log(maxo)=18.4668169514 log(intb)=20.6433672368\n",
        "Peak data 1:5\n",
        "Candidates for DatabaseEntry db_id=StdMix1_14, formula= C11H12N2O2, mass=204.08987764, name= L-Tryptophan, rt=0 are "
       ]
      },
      {
       "output_type": "stream",
       "stream": "stdout",
       "text": [
        "\n",
        "\tFeature feature_id=2129, file_id=0, gt_adduct=None, gt_metabolite=None, intb=72697161.0493, intensity=72738817.1081, mass=205.097190049, maxo=7569050.5, rt=558.006 log(intensity)=18.1023857355 log(maxo)=15.8395781882 log(intb)=18.1018128915\n",
        "\tFeature feature_id=2728, file_id=0, gt_adduct=None, gt_metabolite=None, intb=439433.38944, intensity=449188.971595, mass=205.09718016, maxo=39756.1015625, rt=1360.25 log(intensity)=13.0151989503 log(maxo)=10.5905186067 log(intb)=12.9932414248\n",
        "Peak data 1:10\n",
        "Peak data 1:50\n",
        "Candidates for DatabaseEntry db_id=StdMix1_14, formula= C11H12N2O2, mass=204.08987764, name= L-Tryptophan, rt=0 are \n",
        "\tFeature feature_id=1204, file_id=0, gt_adduct=None, gt_metabolite=None, intb=1528031.09103, intensity=1534579.50601, mass=205.097211857, maxo=179232.203125, rt=364.047 log(intensity)=14.243766964 log(maxo)=12.0964374683 log(intb)=14.239490596\n",
        "\tFeature feature_id=1480, file_id=0, gt_adduct=None, gt_metabolite=None, intb=2349054.67068, intensity=2354139.45039, mass=205.097279203, maxo=269102, rt=558.521 log(intensity)=14.6716858048 log(maxo)=12.5028457689 log(intb)=14.6695235374\n",
        "Peak data 1:100\n",
        "Candidates for DatabaseEntry db_id=StdMix1_14, formula= C11H12N2O2, mass=204.08987764, name= L-Tryptophan, rt=0 are \n",
        "\tFeature feature_id=1230, file_id=0, gt_adduct=None, gt_metabolite=None, intb=1658607.8939, intensity=1661166.42197, mass=205.097227487, maxo=186988.578125, rt=363.838 log(intensity)=14.3230305774 log(maxo)=12.1388028144 log(intb)=14.3214891904\n",
        "\tFeature feature_id=1434, file_id=0, gt_adduct=None, gt_metabolite=None, intb=998851.395645, intensity=998864.015645, mass=205.097317291, maxo=168530.609375, rt=557.318 log(intensity)=13.8143739279 log(maxo)=12.0348726703 log(intb)=13.8143612935\n",
        "Peak data 1:1000\n",
        "Peak data 1:1\n",
        "Candidates for DatabaseEntry db_id=StdMix1_15, formula= C8H9NO2, mass=151.063328539, name= 2-Phenylglycine, rt=0 are \n",
        "\tFeature feature_id=1325, file_id=0, gt_adduct=None, gt_metabolite=None, intb=5807363.2231, intensity=7770269.11621, mass=152.070604962, maxo=805752.4375, rt=289.513 log(intensity)=15.865815357 log(maxo)=13.5995318248 log(intb)=15.5746371916\n",
        "\tFeature feature_id=1821, file_id=0, gt_adduct=None, gt_metabolite=None, intb=1064533139.61, intensity=1065855813.48, mass=152.070498897, maxo=108349488, rt=436.521 log(intensity)=20.7870438941 log(maxo)=18.5008725605 log(intb)=20.7858021734\n",
        "\tFeature feature_id=2230, file_id=0, gt_adduct=None, gt_metabolite=None, intb=354397875.307, intensity=355681061.717, mass=152.070562227, maxo=39612156, rt=528.885 log(intensity)=19.6895449932 log(maxo)=17.4946465988 log(intb)=19.6859307815\n",
        "Peak data 1:5\n",
        "Candidates for DatabaseEntry db_id=StdMix1_15, formula= C8H9NO2, mass=151.063328539, name= 2-Phenylglycine, rt=0 are \n",
        "\tFeature feature_id=1857, file_id=0, gt_adduct=None, gt_metabolite=None, intb=562172643.787, intensity=563014651.654, mass=152.070663019, maxo=70647120, rt=437.165 log(intensity)=20.14881621 log(maxo)=18.0732079019 log(intb)=20.147319556\n",
        "\tFeature feature_id=2140, file_id=0, gt_adduct=None, gt_metabolite=None, intb=13570929.4874, intensity=14096145.2846, mass=152.070549745, maxo=1597833, rt=529.165 log(intensity)=16.4614119339 log(maxo)=14.2841588942 log(intb)=16.4234405252\n",
        "Peak data 1:10\n",
        "Candidates for DatabaseEntry db_id=StdMix1_15, formula= C8H9NO2, mass=151.063328539, name= 2-Phenylglycine, rt=0 are \n",
        "\tFeature feature_id=1557, file_id=0, gt_adduct=None, gt_metabolite=None, intb=343209831.496, intensity=343840468.385, mass=152.070649818, maxo=44087804, rt=437.677 log(intensity)=19.6556883531 log(maxo)=17.6016937489 log(intb)=19.6538525717\n",
        "\tFeature feature_id=1708, file_id=0, gt_adduct=None, gt_metabolite=None, intb=5322281.92093, intensity=6078741.44783, mass=152.070592534, maxo=711441.0625, rt=528.85 log(intensity)=15.6203082338 log(maxo)=13.4750478575 log(intb)=15.4874127019\n",
        "Peak data 1:50\n",
        "Peak data 1:100"
       ]
      },
      {
       "output_type": "stream",
       "stream": "stdout",
       "text": [
        "\n",
        "Peak data 1:1000\n",
        "Peak data 1:1\n",
        "Candidates for DatabaseEntry db_id=StdMix1_16, formula= C5H11NO2Se, mass=196.995500403, name= Selenomethionine, rt=0 are \n",
        "\tFeature feature_id=2212, file_id=0, gt_adduct=None, gt_metabolite=None, intb=819700033.258, intensity=819833917.93, mass=198.002770772, maxo=118776672, rt=538.837 log(intensity)=20.5246123386 log(maxo)=18.592755582 log(intb)=20.5244490182\n",
        "\tFeature feature_id=2213, file_id=0, gt_adduct=None, gt_metabolite=None, intb=21876847.2524, intensity=22081032.402, mass=198.002778054, maxo=2389171.5, rt=573.809 log(intensity)=16.9102295356 log(maxo)=14.6864572111 log(intb)=16.9009394325\n",
        "Peak data 1:5\n",
        "Peak data 1:10\n",
        "Peak data 1:50\n",
        "Peak data 1:100\n",
        "Peak data 1:1000\n",
        "Peak data 1:1\n",
        "Peak data 1:5"
       ]
      },
      {
       "output_type": "stream",
       "stream": "stdout",
       "text": [
        "\n",
        "Peak data 1:10\n",
        "Peak data 1:50\n",
        "Peak data 1:100\n",
        "Peak data 1:1000\n",
        "Peak data 1:1\n",
        "Peak data 1:5\n",
        "Peak data 1:10\n",
        "Peak data 1:50\n",
        "Peak data 1:100"
       ]
      },
      {
       "output_type": "stream",
       "stream": "stdout",
       "text": [
        "\n",
        "Peak data 1:1000\n",
        "Peak data 1:1\n",
        "Candidates for DatabaseEntry db_id=StdMix1_19, formula= C8H11NO3, mass=169.073893225, name= Pyridoxine, rt=0 are \n",
        "\tFeature feature_id=2459, file_id=0, gt_adduct=None, gt_metabolite=None, intb=34573636949.1, intensity=34576911577.5, mass=170.080927499, maxo=3529385216, rt=436.521 log(intensity)=24.2664520008 log(maxo)=21.984389533 log(intb)=24.2663572907\n",
        "\tFeature feature_id=2460, file_id=0, gt_adduct=None, gt_metabolite=None, intb=89708932.6071, intensity=93897956.6843, mass=170.081095413, maxo=5245139.5, rt=511.183 log(intensity)=18.3577191834 log(maxo)=15.4728123962 log(intb)=18.3120809052\n",
        "\tFeature feature_id=2461, file_id=0, gt_adduct=None, gt_metabolite=None, intb=165402675.732, intensity=168148073.02, mass=170.081173462, maxo=31605458, rt=483.308 log(intensity)=18.9403555362 log(maxo)=17.2688403852 log(intb)=18.9238935178\n",
        "\tFeature feature_id=3178, file_id=0, gt_adduct=None, gt_metabolite=None, intb=12442876.2388, intensity=14004031.306, mass=170.081109093, maxo=580221.9375, rt=641.522 log(intensity)=16.4548557966 log(maxo)=13.2711659602 log(intb)=16.3366588275\n",
        "Peak data 1:5\n",
        "Candidates for DatabaseEntry db_id=StdMix1_19, formula= C8H11NO3, mass=169.073893225, name= Pyridoxine, rt=0 are \n",
        "\tFeature feature_id=3210, file_id=0, gt_adduct=None, gt_metabolite=None, intb=17982000379.0, intensity=17984895242.1, mass=170.081120152, maxo=2277014272, rt=437.165 log(intensity)=23.6127980893 log(maxo)=21.5461308919 log(intb)=23.6126371156\n",
        "\tFeature feature_id=3211, file_id=0, gt_adduct=None, gt_metabolite=None, intb=44212178.4674, intensity=49550778.1292, mass=170.081153361, maxo=10406222, rt=409.266 log(intensity)=17.7185085225 log(maxo)=16.1579144545 log(intb)=17.60451084\n",
        "Peak data 1:10\n",
        "Candidates for DatabaseEntry db_id=StdMix1_19, formula= C8H11NO3, mass=169.073893225, name= Pyridoxine, rt=0 are \n",
        "\tFeature feature_id=2447, file_id=0, gt_adduct=None, gt_metabolite=None, intb=10780712670.9, intensity=10782408847.8, mass=170.08110572, maxo=1406467200, rt=437.677 log(intensity)=23.1011818327 log(maxo)=21.0643468653 log(intb)=23.1010245107\n",
        "\tFeature feature_id=2448, file_id=0, gt_adduct=None, gt_metabolite=None, intb=12340130.933, intensity=14044392.8981, mass=170.081129965, maxo=1456531.125, rt=522.611 log(intensity)=16.4577337921 log(maxo)=14.1915682249 log(intb)=16.3283671868\n",
        "\tFeature feature_id=2449, file_id=0, gt_adduct=None, gt_metabolite=None, intb=37477811.6138, intensity=39892492.5403, mass=170.081155174, maxo=8730249, rt=408.51 log(intensity)=17.5016987073 log(maxo)=15.9823044497 log(intb)=17.4392596255\n",
        "Peak data 1:50\n",
        "Candidates for DatabaseEntry db_id=StdMix1_19, formula= C8H11NO3, mass=169.073893225, name= Pyridoxine, rt=0 are \n",
        "\tFeature feature_id=2008, file_id=0, gt_adduct=None, gt_metabolite=None, intb=1676439825.1, intensity=1678535456.83, mass=170.081121091, maxo=219077136, rt=437.169 log(intensity)=21.2411874983 log(maxo)=19.2049344449 log(intb)=21.2399382301\n",
        "\tFeature feature_id=2009, file_id=0, gt_adduct=None, gt_metabolite=None, intb=7192037.32942, intensity=9879297.58963, mass=170.081159881, maxo=1093606.625, rt=409.466 log(intensity)=16.105951973 log(maxo)=13.9049916223 log(intb)=15.7884850455\n",
        "Peak data 1:100\n",
        "Peak data 1:1000\n",
        "Peak data 1:1\n",
        "Candidates for DatabaseEntry db_id=StdMix1_2, formula= C5H6N2O2, mass=126.042927448, name= Imidazole-4-acetate, rt=0 are "
       ]
      },
      {
       "output_type": "stream",
       "stream": "stdout",
       "text": [
        "\n",
        "\tFeature feature_id=1512, file_id=0, gt_adduct=None, gt_metabolite=None, intb=252510883.159, intensity=252670734.576, mass=127.050090356, maxo=34930804, rt=404.643 log(intensity)=19.3475977547 log(maxo)=17.368879634 log(intb)=19.3469649074\n",
        "\tFeature feature_id=2469, file_id=0, gt_adduct=None, gt_metabolite=None, intb=10265535247.8, intensity=10265644914.9, mass=127.050115342, maxo=1414458880, rt=528.885 log(intensity)=23.052068712 log(maxo)=21.0700128779 log(intb)=23.052058029\n",
        "\tFeature feature_id=2470, file_id=0, gt_adduct=None, gt_metabolite=None, intb=18181049.6601, intensity=18335988.1926, mass=127.050197195, maxo=842145.5625, rt=601.139 log(intensity)=16.7243762546 log(maxo)=13.6437081554 log(intb)=16.7158903821\n",
        "\tFeature feature_id=2471, file_id=0, gt_adduct=None, gt_metabolite=None, intb=7451042.35508, intensity=7555575.87421, mass=127.050193325, maxo=552631.375, rt=620.062 log(intensity)=15.837796375 log(maxo)=13.2224464669 log(intb)=15.823864494\n",
        "\tFeature feature_id=2896, file_id=0, gt_adduct=None, gt_metabolite=None, intb=8254019.94584, intensity=9098675.84322, mass=127.050156729, maxo=488555.78125, rt=641.522 log(intensity)=16.0236394492 log(maxo)=13.0992089328 log(intb)=15.9262109058\n",
        "Peak data 1:5\n",
        "Candidates for DatabaseEntry db_id=StdMix1_2, formula= C5H6N2O2, mass=126.042927448, name= Imidazole-4-acetate, rt=0 are \n",
        "\tFeature feature_id=1663, file_id=0, gt_adduct=None, gt_metabolite=None, intb=44317805.9113, intensity=44697256.0429, mass=127.050141189, maxo=5337001.5, rt=405.545 log(intensity)=17.6154226716 log(maxo)=15.4901745364 log(intb)=17.6068970936\n",
        "\tFeature feature_id=2417, file_id=0, gt_adduct=None, gt_metabolite=None, intb=1930688954.56, intensity=1931048611.54, mass=127.050135763, maxo=315212032, rt=529.165 log(intensity)=21.3813290144 log(maxo)=19.5687560878 log(intb)=21.3811427474\n",
        "Peak data 1:10\n",
        "Candidates for DatabaseEntry db_id=StdMix1_2, formula= C5H6N2O2, mass=126.042927448, name= Imidazole-4-acetate, rt=0 are \n",
        "\tFeature feature_id=1394, file_id=0, gt_adduct=None, gt_metabolite=None, intb=25107789.6727, intensity=25528669.7962, mass=127.050175791, maxo=3639533, rt=406.027 log(intensity)=17.0553126843 log(maxo)=15.1073659347 log(intb)=17.0386887015\n",
        "\tFeature feature_id=2039, file_id=0, gt_adduct=None, gt_metabolite=None, intb=1085376433.26, intensity=1085896448.47, mass=127.05017129, maxo=186897536, rt=528.85 log(intensity)=20.8056717026 log(maxo)=19.0460710888 log(intb)=20.8051927069\n",
        "Peak data 1:50\n",
        "Candidates for DatabaseEntry db_id=StdMix1_2, formula= C5H6N2O2, mass=126.042927448, name= Imidazole-4-acetate, rt=0 are \n",
        "\tFeature feature_id=1302, file_id=0, gt_adduct=None, gt_metabolite=None, intb=4499200.54631, intensity=4978905.91751, mass=127.050187085, maxo=516620.125, rt=405.677 log(intensity)=15.4207207296 log(maxo)=13.1550631155 log(intb)=15.3194102826\n",
        "\tFeature feature_id=1474, file_id=0, gt_adduct=None, gt_metabolite=None, intb=111038047.506, intensity=111664643.717, mass=127.050189912, maxo=19104634, rt=528.312 log(intensity)=18.531010685 log(maxo)=16.7654414814 log(intb)=18.5253834709\n",
        "\tFeature feature_id=1949, file_id=0, gt_adduct=None, gt_metabolite=None, intb=155880.772957, intensity=161745.911979, mass=127.050221666, maxo=27854.1015625, rt=1345.24 log(intensity)=11.9937819383 log(maxo)=10.2347355079 log(intb)=11.9568467181\n",
        "Peak data 1:100\n",
        "Candidates for DatabaseEntry db_id=StdMix1_2, formula= C5H6N2O2, mass=126.042927448, name= Imidazole-4-acetate, rt=0 are \n",
        "\tFeature feature_id=1284, file_id=0, gt_adduct=None, gt_metabolite=None, intb=2735623.25475, intensity=3322284.40992, mass=127.05019842, maxo=318599.5625, rt=405.501 log(intensity)=15.0161631796 log(maxo)=12.6716903033 log(intb)=14.821869849\n",
        "\tFeature feature_id=1427, file_id=0, gt_adduct=None, gt_metabolite=None, intb=57991007.749, intensity=58458976.6663, mass=127.050204416, maxo=10033594, rt=528.333 log(intensity)=17.8838358126 log(maxo)=16.1214494208 log(intb)=17.8757985177\n",
        "Peak data 1:1000\n",
        "Peak data 1:1\n",
        "Peak data 1:5\n",
        "Candidates for DatabaseEntry db_id=StdMix1_20, formula= C5H11NO2, mass=117.078978603, name= L-Valine, rt=0 are \n",
        "\tFeature feature_id=1727, file_id=0, gt_adduct=None, gt_metabolite=None, intb=18136148.4845, intensity=18136171.0957, mass=118.08622162, maxo=1349053.75, rt=317.483 log(intensity)=16.7134189052 log(maxo)=14.1149139787 log(intb)=16.7134176584\n",
        "\tFeature feature_id=1728, file_id=0, gt_adduct=None, gt_metabolite=None, intb=20701632.1413, intensity=20701700.2537, mass=118.086221825, maxo=422352.65625, rt=174.26 log(intensity)=16.8457263927 log(maxo)=12.9535959224 log(intb)=16.8457231025\n",
        "\tFeature feature_id=1729, file_id=0, gt_adduct=None, gt_metabolite=None, intb=11051090.1178, intensity=11051121.0246, mass=118.086223502, maxo=440379.75, rt=223.635 log(intensity)=16.218042431 log(maxo)=12.9953927018 log(intb)=16.2180396343\n",
        "\tFeature feature_id=1730, file_id=0, gt_adduct=None, gt_metabolite=None, intb=10890531.4221, intensity=10890574.5616, mass=118.086224093, maxo=319285.78125, rt=108.515 log(intensity)=16.203408254 log(maxo)=12.6738418467 log(intb)=16.2034042928\n",
        "\tFeature feature_id=1731, file_id=0, gt_adduct=None, gt_metabolite=None, intb=36252467.8096, intensity=36252514.5303, mass=118.086232772, maxo=1138802.375, rt=411.762 log(intensity)=17.4060193032 log(maxo)=13.9454877199 log(intb)=17.4060180145\n",
        "\tFeature feature_id=1732, file_id=0, gt_adduct=None, gt_metabolite=None, intb=5644021.12201, intensity=5644046.32086, mass=118.086219643, maxo=300854.96875, rt=41.5678 log(intensity)=15.546111799 log(maxo)=12.6143835962 log(intb)=15.5461073343\n",
        "\tFeature feature_id=1733, file_id=0, gt_adduct=None, gt_metabolite=None, intb=10973771.4275, intensity=10973789.0966, mass=118.086220431, maxo=749350.6875, rt=369.112 log(intensity)=16.211020178 log(maxo)=13.5269623605 log(intb)=16.2110185678\n",
        "\tFeature feature_id=1734, file_id=0, gt_adduct=None, gt_metabolite=None, intb=4633093.97302, intensity=4633115.39111, mass=118.08621796, maxo=267217.96875, rt=78.126 log(intensity)=15.3487400704 log(maxo)=12.4958199667 log(intb)=15.3487354476\n",
        "\tFeature feature_id=1735, file_id=0, gt_adduct=None, gt_metabolite=None, intb=8226192.80885, intensity=8226215.5185, mass=118.086208109, maxo=471788.53125, rt=268.26 log(intensity)=15.9228366271 log(maxo)=13.0642861372 log(intb)=15.9228338665\n",
        "\tFeature feature_id=1737, file_id=0, gt_adduct=None, gt_metabolite=None, intb=5455460.36067, intensity=5455475.39776, mass=118.08624264, maxo=482159.21875, rt=284.471 log(intensity)=15.5121303224 log(maxo)=13.0860296678 log(intb)=15.5121275661\n",
        "\tFeature feature_id=1738, file_id=0, gt_adduct=None, gt_metabolite=None, intb=7580776.63027, intensity=7580793.31902, mass=118.086230214, maxo=569142.0625, rt=295.991 log(intensity)=15.8411284116 log(maxo)=13.2518853524 log(intb)=15.8411262102\n",
        "\tFeature feature_id=1739, file_id=0, gt_adduct=None, gt_metabolite=None, intb=11925795.8039, intensity=11925817.2324, mass=118.0862195, maxo=622714.375, rt=338.872 log(intensity)=16.2942161234 log(maxo)=13.3418432255 log(intb)=16.2942143266\n",
        "\tFeature feature_id=1740, file_id=0, gt_adduct=None, gt_metabolite=None, intb=8471053.7777, intensity=8471068.8628, mass=118.086224973, maxo=654580.75, rt=356.538 log(intensity)=15.9521672526 log(maxo)=13.3917502333 log(intb)=15.9521654718\n",
        "\tFeature feature_id=2993, file_id=0, gt_adduct=None, gt_metabolite=None, intb=129122051.485, intensity=137599278.102, mass=118.086229783, maxo=16552836, rt=571.764 log(intensity)=18.7398562371 log(maxo)=16.6220680046 log(intb)=18.6762686506\n",
        "\tFeature feature_id=2994, file_id=0, gt_adduct=None, gt_metabolite=None, intb=89748532.3402, intensity=97650451.3408, mass=118.086233269, maxo=11914428, rt=536.7 log(intensity)=18.3969048373 log(maxo)=16.2932606606 log(intb)=18.3125222324\n",
        "Peak data 1:10\n",
        "Candidates for DatabaseEntry db_id=StdMix1_20, formula= C5H11NO2, mass=117.078978603, name= L-Valine, rt=0 are "
       ]
      },
      {
       "output_type": "stream",
       "stream": "stdout",
       "text": [
        "\n",
        "\tFeature feature_id=2696, file_id=0, gt_adduct=None, gt_metabolite=None, intb=73808500.837, intensity=87364707.3395, mass=118.08621515, maxo=9769446, rt=536.375 log(intensity)=18.2856019529 log(maxo)=16.0947703182 log(intb)=18.1169844704\n",
        "\tFeature feature_id=2697, file_id=0, gt_adduct=None, gt_metabolite=None, intb=57814009.9527, intensity=72224893.4748, mass=118.086205265, maxo=7668069.5, rt=572.831 log(intensity)=18.0952953294 log(maxo)=15.8525754467 log(intb)=17.872741691\n",
        "Peak data 1:50\n",
        "Peak data 1:100\n",
        "Peak data 1:1000\n",
        "Peak data 1:1\n",
        "Candidates for DatabaseEntry db_id=StdMix1_21, formula= C5H5N5, mass=135.054495187, name= Adenine, rt=0 are \n",
        "\tFeature feature_id=2455, file_id=0, gt_adduct=None, gt_metabolite=None, intb=8511763553.5, intensity=8512465805.19, mass=136.061683458, maxo=688367616, rt=498.435 log(intensity)=22.8647974914 log(maxo)=20.3498335788 log(intb)=22.8647149911\n",
        "\tFeature feature_id=2456, file_id=0, gt_adduct=None, gt_metabolite=None, intb=21433141.557, intensity=22124932.3243, mass=136.061813871, maxo=1241691.625, rt=599.902 log(intensity)=16.9122156901 log(maxo)=14.0319852216 log(intb)=16.8804489529\n",
        "\tFeature feature_id=2457, file_id=0, gt_adduct=None, gt_metabolite=None, intb=27166835.7972, intensity=27821860.9038, mass=136.061827805, maxo=1463638.5, rt=575.051 log(intensity)=17.1413326331 log(maxo)=14.1964360168 log(intb)=17.1175075152\n",
        "\tFeature feature_id=2458, file_id=0, gt_adduct=None, gt_metabolite=None, intb=10617668.3934, intensity=11141940.0784, mass=136.061749307, maxo=778936.0625, rt=618.826 log(intensity)=16.2262269316 log(maxo)=13.5656842451 log(intb)=16.178030001\n",
        "\tFeature feature_id=3427, file_id=0, gt_adduct=None, gt_metabolite=None, intb=1680306.83406, intensity=1680336.3786, mass=136.061765638, maxo=84480.3046875, rt=1208.49 log(intensity)=14.3345045567 log(maxo)=11.3442737056 log(intb)=14.334486974\n",
        "\tFeature feature_id=3428, file_id=0, gt_adduct=None, gt_metabolite=None, intb=2716831.22951, intensity=2716855.06363, mass=136.061778985, maxo=158722.125, rt=1365.87 log(intensity)=14.8149855427 log(maxo)=11.9749103108 log(intb)=14.81497677\n",
        "\tFeature feature_id=3429, file_id=0, gt_adduct=None, gt_metabolite=None, intb=2152534.54144, intensity=2152552.7899, mass=136.061741914, maxo=148718.8125, rt=889.719 log(intensity)=14.5821650399 log(maxo)=11.9098126376 log(intb)=14.5821565623\n",
        "\tFeature feature_id=3430, file_id=0, gt_adduct=None, gt_metabolite=None, intb=1103502.17834, intensity=1103523.06367, mass=136.061732866, maxo=76103.203125, rt=1169.52 log(intensity)=13.9140184049 log(maxo)=11.239845634 log(intb)=13.9139994787\n",
        "\tFeature feature_id=3431, file_id=0, gt_adduct=None, gt_metabolite=None, intb=3524911.12858, intensity=3524932.54008, mass=136.061760029, maxo=191677.515625, rt=805.669 log(intensity)=15.0753718565 log(maxo)=12.1635696328 log(intb)=15.0753657822\n",
        "\tFeature feature_id=3432, file_id=0, gt_adduct=None, gt_metabolite=None, intb=883069.879336, intensity=883081.669336, mass=136.061757215, maxo=95628.390625, rt=1023.49 log(intensity)=13.6911729661 log(maxo)=11.468225028 log(intb)=13.691159615\n",
        "\tFeature feature_id=3433, file_id=0, gt_adduct=None, gt_metabolite=None, intb=3175002.64443, intensity=3175018.11025, mass=136.061753351, maxo=281120.125, rt=761.492 log(intensity)=14.9708238943 log(maxo)=12.5465373481 log(intb)=14.9708190232\n",
        "\tFeature feature_id=3434, file_id=0, gt_adduct=None, gt_metabolite=None, intb=380657.264062, intensity=380661.314062, mass=136.061741208, maxo=107225.171875, rt=930.835 log(intensity)=12.8496653193 log(maxo)=11.5826863123 log(intb)=12.8496546799\n",
        "\tFeature feature_id=3435, file_id=0, gt_adduct=None, gt_metabolite=None, intb=9730359.52871, intensity=9730389.97844, mass=136.061751572, maxo=418949.46875, rt=698.352 log(intensity)=16.0907645334 log(maxo)=12.945505592 log(intb)=16.090761404\n",
        "\tFeature feature_id=3436, file_id=0, gt_adduct=None, gt_metabolite=None, intb=787697.549479, intensity=787714.882812, mass=136.061739882, maxo=59143.7421875, rt=1072.27 log(intensity)=13.5768914795 log(maxo)=10.9877260682 log(intb)=13.5768694747\n",
        "\tFeature feature_id=3437, file_id=0, gt_adduct=None, gt_metabolite=None, intb=2082427.64858, intensity=2082457.89902, mass=136.06177914, maxo=125462.109375, rt=1418.78 log(intensity)=14.5490594363 log(maxo)=11.7397590746 log(intb)=14.5490449098\n",
        "\tFeature feature_id=3438, file_id=0, gt_adduct=None, gt_metabolite=None, intb=13783442.4425, intensity=13783471.3695, mass=136.061749713, maxo=639263.875, rt=645.235 log(intensity)=16.4389807054 log(maxo)=13.368072598 log(intb)=16.4389786068\n",
        "\tFeature feature_id=3439, file_id=0, gt_adduct=None, gt_metabolite=None, intb=2036607.6602, intensity=2036628.50286, mass=136.061821896, maxo=147116.40625, rt=1390.84 log(intensity)=14.5268063039 log(maxo)=11.8989794316 log(intb)=14.52679607\n",
        "\tFeature feature_id=3440, file_id=0, gt_adduct=None, gt_metabolite=None, intb=4146208.52158, intensity=4146225.38258, mass=136.061735928, maxo=309389.4375, rt=727.995 log(intensity)=15.237708932 log(maxo)=12.6423560779 log(intb)=15.2377048654\n",
        "\tFeature feature_id=3441, file_id=0, gt_adduct=None, gt_metabolite=None, intb=2603594.81968, intensity=2603615.34022, mass=136.061734614, maxo=155442.671875, rt=850.659 log(intensity)=14.7724115526 log(maxo)=11.954032273 log(intb)=14.772403671\n",
        "\tFeature feature_id=3442, file_id=0, gt_adduct=None, gt_metabolite=None, intb=434309.121949, intensity=434312.888449, mass=136.061742445, maxo=142252.734375, rt=933.535 log(intensity)=12.9815204945 log(maxo)=11.8653605741 log(intb)=12.9815118221\n",
        "\tFeature feature_id=3443, file_id=0, gt_adduct=None, gt_metabolite=None, intb=1961277.55656, intensity=1961299.81593, mass=136.061732688, maxo=121531.4375, rt=978.876 log(intensity)=14.4891179828 log(maxo)=11.7079282532 log(intb)=14.4891066334\n",
        "\tFeature feature_id=3444, file_id=0, gt_adduct=None, gt_metabolite=None, intb=1526651.80994, intensity=1526671.56815, mass=136.061775769, maxo=107522.179688, rt=999.828 log(intensity)=14.238600478 log(maxo)=11.5854524279 log(intb)=14.2385875359\n",
        "\tFeature feature_id=3445, file_id=0, gt_adduct=None, gt_metabolite=None, intb=811831.245343, intensity=811850.723915, mass=136.061728708, maxo=62578.3515625, rt=1131.93 log(intensity)=13.6070717647 log(maxo)=11.0441746756 log(intb)=13.6070477716\n",
        "\tFeature feature_id=3446, file_id=0, gt_adduct=None, gt_metabolite=None, intb=855519.435905, intensity=855536.184238, mass=136.0617353, maxo=65421.2539062, rt=1246.04 log(intensity)=13.6594836674 log(maxo)=11.0886024679 log(intb)=13.6594640908\n",
        "\tFeature feature_id=3447, file_id=0, gt_adduct=None, gt_metabolite=None, intb=859665.478453, intensity=859683.387683, mass=136.061733433, maxo=92698.5625, rt=1261.45 log(intensity)=13.6643194466 log(maxo)=11.4371082444 log(intb)=13.664298614\n",
        "\tFeature feature_id=3448, file_id=0, gt_adduct=None, gt_metabolite=None, intb=1202076.53344, intensity=1202098.45281, mass=136.061734974, maxo=80612.203125, rt=1284.69 log(intensity)=13.9995792982 log(maxo)=11.2974053206 log(intb)=13.9995610638\n",
        "\tFeature feature_id=3449, file_id=0, gt_adduct=None, gt_metabolite=None, intb=2473664.01353, intensity=2473689.62405, mass=136.061737236, maxo=146289.53125, rt=1342.6 log(intensity)=14.721221369 log(maxo)=11.8933430277 log(intb)=14.7212110157\n",
        "\tFeature feature_id=3450, file_id=0, gt_adduct=None, gt_metabolite=None, intb=5723798.00717, intensity=5723813.21226, mass=136.061733869, maxo=479399.375, rt=675.512 log(intensity)=15.5601457867 log(maxo)=13.0802892973 log(intb)=15.5601431303\n",
        "\tFeature feature_id=3451, file_id=0, gt_adduct=None, gt_metabolite=None, intb=4196859.91214, intensity=4196879.33285, mass=136.061762278, maxo=251633.0625, rt=747.348 log(intensity)=15.2498517911 log(maxo)=12.4357272042 log(intb)=15.2498471637\n",
        "\tFeature feature_id=3452, file_id=0, gt_adduct=None, gt_metabolite=None, intb=2691509.56522, intensity=2691523.38342, mass=136.061762258, maxo=232096.046875, rt=774.19 log(intensity)=14.8056179048 log(maxo)=12.3549065601 log(intb)=14.8056127708\n",
        "\tFeature feature_id=3453, file_id=0, gt_adduct=None, gt_metabolite=None, intb=2514756.02658, intensity=2514771.11058, mass=136.061764321, maxo=203566.328125, rt=786.808 log(intensity)=14.7376923477 log(maxo)=12.2237471675 log(intb)=14.7376863495\n",
        "\tFeature feature_id=3454, file_id=0, gt_adduct=None, gt_metabolite=None, intb=2547087.95859, intensity=2547106.15859, mass=136.061753473, maxo=203886.28125, rt=833.938 log(intensity)=14.7504684329 log(maxo)=12.2253176725 log(intb)=14.7504612876\n",
        "\tFeature feature_id=3455, file_id=0, gt_adduct=None, gt_metabolite=None, intb=2755714.12313, intensity=2755736.30175, mass=136.061734092, maxo=149323.265625, rt=874.033 log(intensity)=14.829195225 log(maxo)=11.9138688028 log(intb)=14.8291871768\n",
        "\tFeature feature_id=3456, file_id=0, gt_adduct=None, gt_metabolite=None, intb=1602999.08911, intensity=1603014.44584, mass=136.061731506, maxo=137837.921875, rt=906.439 log(intensity)=14.2873964433 log(maxo)=11.8338337947 log(intb)=14.2873868634\n",
        "\tFeature feature_id=3457, file_id=0, gt_adduct=None, gt_metabolite=None, intb=1818036.89289, intensity=1818053.70947, mass=136.061729516, maxo=120541.90625, rt=920.567 log(intensity)=14.4132770964 log(maxo)=11.6997527412 log(intb)=14.4132678466\n",
        "\tFeature feature_id=3458, file_id=0, gt_adduct=None, gt_metabolite=None, intb=1810878.13224, intensity=1810897.3001, mass=136.061795902, maxo=125941.125, rt=960.782 log(intensity)=14.4093330263 log(maxo)=11.7435698148 log(intb)=14.4093224415\n",
        "\tFeature feature_id=3459, file_id=0, gt_adduct=None, gt_metabolite=None, intb=943385.554144, intensity=943400.84869, mass=136.061753861, maxo=106559.625, rt=1033.92 log(intensity)=13.7572465494 log(maxo)=11.5764599666 log(intb)=13.7572303372\n",
        "\tFeature feature_id=3460, file_id=0, gt_adduct=None, gt_metabolite=None, intb=1226825.27306, intensity=1226849.14953, mass=136.061744294, maxo=60277.6757812, rt=1057.51 log(intensity)=14.0199597736 log(maxo)=11.006717095 log(intb)=14.0199403118\n",
        "\tFeature feature_id=3461, file_id=0, gt_adduct=None, gt_metabolite=None, intb=618849.3052, intensity=618866.0102, mass=136.06172716, maxo=48184.4335938, rt=1112.72 log(intensity)=13.3356440665 log(maxo)=10.7827912934 log(intb)=13.3356170732\n",
        "\tFeature feature_id=3462, file_id=0, gt_adduct=None, gt_metabolite=None, intb=645037.541563, intensity=645050.474896, mass=136.061733827, maxo=64810.53125, rt=1156.62 log(intensity)=13.3770838484 log(maxo)=11.0792233884 log(intb)=13.3770637981\n",
        "\tFeature feature_id=3463, file_id=0, gt_adduct=None, gt_metabolite=None, intb=1175528.4561, intensity=1175548.9041, mass=136.061711425, maxo=87621.640625, rt=1324.44 log(intensity)=13.9772457489 log(maxo)=11.3807832855 log(intb)=13.9772283543\n",
        "Peak data 1:5\n",
        "Peak data 1:10\n",
        "Peak data 1:50\n",
        "Peak data 1:100"
       ]
      },
      {
       "output_type": "stream",
       "stream": "stdout",
       "text": [
        "\n",
        "Peak data 1:1000\n",
        "Peak data 1:1\n",
        "Candidates for DatabaseEntry db_id=StdMix1_22, formula= C5H9NO2, mass=115.063328539, name= L-Proline, rt=0 are \n",
        "\tFeature feature_id=1804, file_id=0, gt_adduct=None, gt_metabolite=None, intb=17901679.0032, intensity=22356457.4772, mass=116.070585757, maxo=1361896.875, rt=450.511 log(intensity)=16.9226257624 log(maxo)=14.124389047 log(intb)=16.7004050655\n",
        "\tFeature feature_id=3375, file_id=0, gt_adduct=None, gt_metabolite=None, intb=6896613940.59, intensity=6897713451.31, mass=116.070535781, maxo=989021760, rt=582.531 log(intensity)=22.6544558098 log(maxo)=20.7122268914 log(intb)=22.6542963949\n",
        "\tFeature feature_id=3376, file_id=0, gt_adduct=None, gt_metabolite=None, intb=21472752.6106, intensity=22967474.2407, mass=116.070585337, maxo=3306964.25, rt=553.852 log(intensity)=16.9495896096 log(maxo)=15.0115411815 log(intb)=16.8822953689\n",
        "Peak data 1:5\n",
        "Candidates for DatabaseEntry db_id=StdMix1_22, formula= C5H9NO2, mass=115.063328539, name= L-Proline, rt=0 are \n",
        "\tFeature feature_id=2965, file_id=0, gt_adduct=None, gt_metabolite=None, intb=1029339230.67, intensity=1029339251.03, mass=116.070574459, maxo=155997040, rt=581.981 log(intensity)=20.7521829295 log(maxo)=18.8653475907 log(intb)=20.7521829097\n",
        "\tFeature feature_id=2966, file_id=0, gt_adduct=None, gt_metabolite=None, intb=14165699.3153, intensity=14165738.8853, mass=116.070552886, maxo=421582.34375, rt=899.764 log(intensity)=16.4663368526 log(maxo)=12.9517703962 log(intb)=16.4663340593\n",
        "\tFeature feature_id=2967, file_id=0, gt_adduct=None, gt_metabolite=None, intb=44966904.5311, intensity=44967043.2879, mass=116.070554376, maxo=489097.09375, rt=1297.93 log(intensity)=17.621440408 log(maxo)=13.1003163045 log(intb)=17.6214373223\n",
        "\tFeature feature_id=2968, file_id=0, gt_adduct=None, gt_metabolite=None, intb=7428316.68543, intensity=7428339.82073, mass=116.070549045, maxo=375115.6875, rt=1215.41 log(intensity)=15.820812949 log(maxo)=12.8349897574 log(intb)=15.8208098346\n",
        "\tFeature feature_id=2969, file_id=0, gt_adduct=None, gt_metabolite=None, intb=27921524.5914, intensity=27921545.886, mass=116.070378829, maxo=2708417.25, rt=500.118 log(intensity)=17.1449092027 log(maxo)=14.8118749816 log(intb)=17.1449084401\n",
        "\tFeature feature_id=2970, file_id=0, gt_adduct=None, gt_metabolite=None, intb=42714489.5533, intensity=42714587.0755, mass=116.070545973, maxo=675653.9375, rt=677.391 log(intensity)=17.5700510376 log(maxo)=13.4234362972 log(intb)=17.5700487544\n",
        "\tFeature feature_id=2971, file_id=0, gt_adduct=None, gt_metabolite=None, intb=5323945.55756, intensity=5323966.17623, mass=116.070554598, maxo=300360, rt=1158.5 log(intensity)=15.4877291054 log(maxo)=12.6127370342 log(intb)=15.4877252326\n",
        "\tFeature feature_id=2972, file_id=0, gt_adduct=None, gt_metabolite=None, intb=11028394.6345, intensity=11028429.7428, mass=116.070553334, maxo=366344.3125, rt=986.398 log(intensity)=16.2159870187 log(maxo)=12.8113289147 log(intb)=16.2159838353\n",
        "\tFeature feature_id=2973, file_id=0, gt_adduct=None, gt_metabolite=None, intb=5667115.29508, intensity=5667132.23624, mass=116.070474742, maxo=422994.8125, rt=731.045 log(intensity)=15.5501937693 log(maxo)=12.9551151944 log(intb)=15.5501907799\n",
        "\tFeature feature_id=2974, file_id=0, gt_adduct=None, gt_metabolite=None, intb=5627408.80333, intensity=5627425.72067, mass=116.070546131, maxo=420727.6875, rt=811.266 log(intensity)=15.5431626523 log(maxo)=12.9497410803 log(intb)=15.5431596461\n",
        "\tFeature feature_id=2975, file_id=0, gt_adduct=None, gt_metabolite=None, intb=3081790.45331, intensity=3081808.061, mass=116.070610477, maxo=212368.40625, rt=1410.34 log(intensity)=14.9410270155 log(maxo)=12.2660778108 log(intb)=14.9410213021\n",
        "\tFeature feature_id=2976, file_id=0, gt_adduct=None, gt_metabolite=None, intb=8699239.5971, intensity=8699278.69531, mass=116.070552045, maxo=278527.4375, rt=1133.34 log(intensity)=15.9787506716 log(maxo)=12.5372718523 log(intb)=15.9787461772\n",
        "\tFeature feature_id=2977, file_id=0, gt_adduct=None, gt_metabolite=None, intb=7574651.04684, intensity=7574684.91143, mass=116.070556311, maxo=269323.125, rt=1064.87 log(intensity)=15.8403223126 log(maxo)=12.5036671459 log(intb)=15.8403178419\n",
        "\tFeature feature_id=2978, file_id=0, gt_adduct=None, gt_metabolite=None, intb=9880424.98812, intensity=9880442.57104, mass=116.070616483, maxo=690138.6875, rt=537.947 log(intensity)=16.1060678634 log(maxo)=13.4446478528 log(intb)=16.1060660838\n",
        "\tFeature feature_id=2979, file_id=0, gt_adduct=None, gt_metabolite=None, intb=7365072.3763, intensity=7365094.55386, mass=116.070517627, maxo=435806.59375, rt=746.756 log(intensity)=15.8122624461 log(maxo)=12.9849538316 log(intb)=15.8122594349\n",
        "\tFeature feature_id=2980, file_id=0, gt_adduct=None, gt_metabolite=None, intb=6047600.49516, intensity=6047619.74873, mass=116.070549426, maxo=388504.96875, rt=842.429 log(intensity)=15.6151753226 log(maxo)=12.8700612383 log(intb)=15.615172139\n",
        "\tFeature feature_id=2981, file_id=0, gt_adduct=None, gt_metabolite=None, intb=7178079.04171, intensity=7178102.37182, mass=116.07055125, maxo=353282.0625, rt=861.851 log(intensity)=15.7865456125 log(maxo)=12.7750220608 log(intb)=15.7865423623\n",
        "\tFeature feature_id=2982, file_id=0, gt_adduct=None, gt_metabolite=None, intb=8698111.48207, intensity=8698136.60535, mass=116.070553434, maxo=391737.46875, rt=923.559 log(intensity)=15.9786193774 log(maxo)=12.8783471718 log(intb)=15.978616489\n",
        "\tFeature feature_id=2983, file_id=0, gt_adduct=None, gt_metabolite=None, intb=5165240.65572, intensity=5165258.87726, mass=116.070554446, maxo=313067.4375, rt=1178.01 log(intensity)=15.4574657807 log(maxo)=12.6541739016 log(intb)=15.457462253\n",
        "\tFeature feature_id=2984, file_id=0, gt_adduct=None, gt_metabolite=None, intb=5475616.25, intensity=5475634.45, mass=116.070553961, maxo=346264.1875, rt=1194.68 log(intensity)=15.5158187082 log(maxo)=12.7549573104 log(intb)=15.5158153844\n",
        "\tFeature feature_id=2985, file_id=0, gt_adduct=None, gt_metabolite=None, intb=3451049.30505, intensity=3451069.51839, mass=116.070599494, maxo=211097.875, rt=1429.26 log(intensity)=15.0541947463 log(maxo)=12.2600771675 log(intb)=15.0541888892\n",
        "\tFeature feature_id=2986, file_id=0, gt_adduct=None, gt_metabolite=None, intb=17591710.3982, intensity=17591737.9631, mass=116.070593597, maxo=1140269.375, rt=555.504 log(intensity)=16.6829399159 log(maxo)=13.9467750863 log(intb)=16.6829383489\n",
        "\tFeature feature_id=2987, file_id=0, gt_adduct=None, gt_metabolite=None, intb=6544918.66138, intensity=6544937.75424, mass=116.070531819, maxo=411788.0625, rt=770.036 log(intensity)=15.6942024469 log(maxo)=12.9282640846 log(intb)=15.6941995297\n",
        "\tFeature feature_id=2988, file_id=0, gt_adduct=None, gt_metabolite=None, intb=7128487.37956, intensity=7128508.29156, mass=116.070543135, maxo=406807.75, rt=794.397 log(intensity)=15.7796125547 log(maxo)=12.9160959941 log(intb)=15.7796096212\n",
        "\tFeature feature_id=2989, file_id=0, gt_adduct=None, gt_metabolite=None, intb=4632422.74184, intensity=4632437.02094, mass=116.070546917, maxo=362904.1875, rt=825.491 log(intensity)=15.348593642 log(maxo)=12.8018941321 log(intb)=15.3485905596\n",
        "\tFeature feature_id=2990, file_id=0, gt_adduct=None, gt_metabolite=None, intb=5221429.85878, intensity=5221447.80355, mass=116.070558435, maxo=339141.125, rt=1007.21 log(intensity)=15.4682852784 log(maxo)=12.7341715977 log(intb)=15.4682818417\n",
        "\tFeature feature_id=2991, file_id=0, gt_adduct=None, gt_metabolite=None, intb=4558744.20225, intensity=4558761.30809, mass=116.070553622, maxo=303070.3125, rt=1039.35 log(intensity)=15.3325615016 log(maxo)=12.621720112 log(intb)=15.3325577493\n",
        "\tFeature feature_id=2992, file_id=0, gt_adduct=None, gt_metabolite=None, intb=2726007.76401, intensity=2726024.21984, mass=116.070602214, maxo=208375.734375, rt=1395.13 log(intensity)=14.818354776 log(maxo)=12.2470981443 log(intb)=14.8183487394\n",
        "Peak data 1:10\n",
        "Candidates for DatabaseEntry db_id=StdMix1_22, formula= C5H9NO2, mass=115.063328539, name= L-Proline, rt=0 are \n",
        "\tFeature feature_id=2678, file_id=0, gt_adduct=None, gt_metabolite=None, intb=451372544.491, intensity=451372565.814, mass=116.070596042, maxo=69216016, rt=582.86 log(intensity)=19.9278036447 log(maxo)=18.0527428389 log(intb)=19.9278035975\n",
        "\tFeature feature_id=2679, file_id=0, gt_adduct=None, gt_metabolite=None, intb=17032871.5267, intensity=17032924.0406, mass=116.070555183, maxo=397202.25, rt=900.059 log(intensity)=16.6506587373 log(maxo)=12.8922008758 log(intb)=16.6506556542\n",
        "\tFeature feature_id=2680, file_id=0, gt_adduct=None, gt_metabolite=None, intb=53020073.4648, intensity=53020267.1031, mass=116.070557216, maxo=410088.875, rt=1296.26 log(intensity)=17.7861847966 log(maxo)=12.9241291835 log(intb)=17.7861811444\n",
        "\tFeature feature_id=2681, file_id=0, gt_adduct=None, gt_metabolite=None, intb=19424987.4748, intensity=19425049.2007, mass=116.070543595, maxo=399085.59375, rt=758.924 log(intensity)=16.7820739871 log(maxo)=12.8969311935 log(intb)=16.7820708094\n",
        "\tFeature feature_id=2682, file_id=0, gt_adduct=None, gt_metabolite=None, intb=9813727.47204, intensity=9813765.41026, mass=116.070551528, maxo=305982.34375, rt=1034.35 log(intensity)=16.0992965918 log(maxo)=12.6312826791 log(intb)=16.0992927259\n",
        "\tFeature feature_id=2683, file_id=0, gt_adduct=None, gt_metabolite=None, intb=48632783.7638, intensity=48632864.5724, mass=116.070464712, maxo=2103844, rt=499.568 log(intensity)=17.6998100861 log(maxo)=14.5592767056 log(intb)=17.6998084245\n",
        "\tFeature feature_id=2684, file_id=0, gt_adduct=None, gt_metabolite=None, intb=6471829.73996, intensity=6471851.24284, mass=116.070552893, maxo=369243, rt=820.374 log(intensity)=15.6829727527 log(maxo)=12.8192102429 log(intb)=15.6829694302\n",
        "\tFeature feature_id=2685, file_id=0, gt_adduct=None, gt_metabolite=None, intb=31120734.5469, intensity=31120807.8161, mass=116.070552729, maxo=642129.6875, rt=655.824 log(intensity)=17.253387215 log(maxo)=13.3725455677 log(intb)=17.2533848607\n",
        "\tFeature feature_id=2686, file_id=0, gt_adduct=None, gt_metabolite=None, intb=7171756.17027, intensity=7171781.92079, mass=116.070554717, maxo=319573.25, rt=983.619 log(intensity)=15.7856647062 log(maxo)=12.674741791 log(intb)=15.7856611157\n",
        "\tFeature feature_id=2687, file_id=0, gt_adduct=None, gt_metabolite=None, intb=6102579.57549, intensity=6102608.14406, mass=116.070590082, maxo=278296.59375, rt=1364.83 log(intensity)=15.6242268024 log(maxo)=12.5364427079 log(intb)=15.624222121\n",
        "\tFeature feature_id=2688, file_id=0, gt_adduct=None, gt_metabolite=None, intb=7588789.89386, intensity=7588838.22575, mass=116.070597588, maxo=202114.71875, rt=1420.09 log(intensity)=15.8421890712 log(maxo)=12.2165907298 log(intb)=15.8421827024\n",
        "\tFeature feature_id=2689, file_id=0, gt_adduct=None, gt_metabolite=None, intb=4796292.67035, intensity=4796309.55952, mass=116.070547078, maxo=324759.5625, rt=964.384 log(intensity)=15.3833573384 log(maxo)=12.6908403798 log(intb)=15.3833538171\n",
        "\tFeature feature_id=2690, file_id=0, gt_adduct=None, gt_metabolite=None, intb=7617265.79459, intensity=7617294.19554, mass=116.070550425, maxo=373406.125, rt=1334.99 log(intensity)=15.8459317722 log(maxo)=12.8304219133 log(intb)=15.8459280437\n",
        "\tFeature feature_id=2691, file_id=0, gt_adduct=None, gt_metabolite=None, intb=7726143.56507, intensity=7726166.73636, mass=116.070540428, maxo=428984.90625, rt=695.371 log(intensity)=15.8601234032 log(maxo)=12.9691770137 log(intb)=15.8601204041\n",
        "\tFeature feature_id=2692, file_id=0, gt_adduct=None, gt_metabolite=None, intb=14224468.4515, intensity=14224492.3704, mass=116.07060411, maxo=777019.1875, rt=556.472 log(intensity)=16.4704758516 log(maxo)=13.5632203234 log(intb)=16.4704741701\n",
        "\tFeature feature_id=2693, file_id=0, gt_adduct=None, gt_metabolite=None, intb=4937711.98572, intensity=4937728.73189, mass=116.070552123, maxo=347876, rt=802.547 log(intensity)=15.4124160126 log(maxo)=12.7596013734 log(intb)=15.4124126211\n",
        "\tFeature feature_id=2694, file_id=0, gt_adduct=None, gt_metabolite=None, intb=5027801.04043, intensity=5027819.1112, mass=116.070558789, maxo=340077.34375, rt=839.508 log(intensity)=15.4304968718 log(maxo)=12.7369283523 log(intb)=15.4304932776\n",
        "\tFeature feature_id=2695, file_id=0, gt_adduct=None, gt_metabolite=None, intb=6755826.6713, intensity=6755847.26864, mass=116.070563078, maxo=381914.25, rt=1312.95 log(intensity)=15.7259189499 log(maxo)=12.852951386 log(intb)=15.7259159011\n",
        "Peak data 1:50\n",
        "Peak data 1:100\n",
        "Peak data 1:1000"
       ]
      },
      {
       "output_type": "stream",
       "stream": "stdout",
       "text": [
        "\n",
        "Peak data 1:1\n",
        "Candidates for DatabaseEntry db_id=StdMix1_23, formula= C10H12N2O, mass=176.094963018, name= Serotonin, rt=0 are \n",
        "\tFeature feature_id=720, file_id=0, gt_adduct=None, gt_metabolite=None, intb=2585671.40707, intensity=2643342.76477, mass=177.102231041, maxo=321715.21875, rt=256.919 log(intensity)=14.7875548729 log(maxo)=12.6814220194 log(intb)=14.7654957641\n",
        "\tFeature feature_id=1095, file_id=0, gt_adduct=None, gt_metabolite=None, intb=1242473.37949, intensity=1365928.48637, mass=177.10222927, maxo=120539.703125, rt=311.303 log(intensity)=14.1273449652 log(maxo)=11.6997344642 log(intb)=14.0326146118\n",
        "Peak data 1:5\n",
        "Candidates for DatabaseEntry db_id=StdMix1_23, formula= C10H12N2O, mass=176.094963018, name= Serotonin, rt=0 are \n",
        "\tFeature feature_id=1886, file_id=0, gt_adduct=None, gt_metabolite=None, intb=360632803.264, intensity=391976787.717, mass=177.102239233, maxo=6884627.5, rt=309.92 log(intensity)=19.786713181 log(maxo)=15.7448015856 log(intb)=19.7033708332\n",
        "\tFeature feature_id=1887, file_id=0, gt_adduct=None, gt_metabolite=None, intb=332142421.575, intensity=352430378.561, mass=177.102246266, maxo=9125772, rt=258.034 log(intensity)=19.6803636531 log(maxo)=16.0266130566 log(intb)=19.6210744155\n",
        "Peak data 1:10\n",
        "Candidates for DatabaseEntry db_id=StdMix1_23, formula= C10H12N2O, mass=176.094963018, name= Serotonin, rt=0 are \n",
        "\tFeature feature_id=2147, file_id=0, gt_adduct=None, gt_metabolite=None, intb=70674661.7022, intensity=70805219.854, mass=177.102247085, maxo=3411879.25, rt=388.44 log(intensity)=18.0754432827 log(maxo)=15.0427737972 log(intb)=18.0735976749\n",
        "\tFeature feature_id=2148, file_id=0, gt_adduct=None, gt_metabolite=None, intb=58680042.6282, intensity=59486116.0128, mass=177.102219024, maxo=826454.75, rt=610.394 log(intensity)=17.901253499 log(maxo)=13.6249004458 log(intb)=17.8876102377\n",
        "\tFeature feature_id=2149, file_id=0, gt_adduct=None, gt_metabolite=None, intb=3937453.08799, intensity=4048736.25489, mass=177.1021947, maxo=261792.65625, rt=678.662 log(intensity)=15.2139153546 log(maxo)=12.4753080811 log(intb)=15.1860446479\n",
        "\tFeature feature_id=2150, file_id=0, gt_adduct=None, gt_metabolite=None, intb=90069046.6452, intensity=90435123.8755, mass=177.102229627, maxo=2114167.75, rt=459.306 log(intensity)=18.3201432883 log(maxo)=14.5641717942 log(intb)=18.3160871191\n",
        "\tFeature feature_id=2151, file_id=0, gt_adduct=None, gt_metabolite=None, intb=2353272.09597, intensity=2515226.99549, mass=177.102171864, maxo=118779.335938, rt=790.949 log(intensity)=14.7378736141 log(maxo)=11.6850227309 log(intb)=14.6713172989\n",
        "\tFeature feature_id=2152, file_id=0, gt_adduct=None, gt_metabolite=None, intb=58044920.7912, intensity=58177413.7796, mass=177.102240974, maxo=2726952.5, rt=416.22 log(intensity)=17.879007758 log(maxo)=14.8186952433 log(intb)=17.8767277651\n",
        "\tFeature feature_id=2154, file_id=0, gt_adduct=None, gt_metabolite=None, intb=70606593.9402, intensity=70703461.5235, mass=177.10223382, maxo=4522157.5, rt=336.776 log(intensity)=18.0740050904 log(maxo)=15.3244997609 log(intb)=18.0726340967\n",
        "Peak data 1:50\n",
        "Peak data 1:100\n",
        "Candidates for DatabaseEntry db_id=StdMix1_23, formula= C10H12N2O, mass=176.094963018, name= Serotonin, rt=0 are \n",
        "\tFeature feature_id=1397, file_id=0, gt_adduct=None, gt_metabolite=None, intb=31455104.6431, intensity=32332252.1196, mass=177.102235271, maxo=1659892.25, rt=101.403 log(intensity)=17.2915758076 log(maxo)=14.3222632486 log(intb)=17.2640718377\n",
        "\tFeature feature_id=1398, file_id=0, gt_adduct=None, gt_metabolite=None, intb=26815374.4129, intensity=27745184.7023, mass=177.102250646, maxo=1690890, rt=212.983 log(intensity)=17.1385728589 log(maxo)=14.3407655755 log(intb)=17.1044859531\n",
        "Peak data 1:1000\n",
        "Peak data 1:1\n",
        "Peak data 1:5"
       ]
      },
      {
       "output_type": "stream",
       "stream": "stdout",
       "text": [
        "\n",
        "Peak data 1:10\n",
        "Peak data 1:50\n",
        "Peak data 1:100\n",
        "Peak data 1:1000\n",
        "Peak data 1:1\n",
        "Candidates for DatabaseEntry db_id=StdMix1_25, formula= C5H9NO3, mass=131.058243161, name= trans-4-Hydroxy-L-proline, rt=0 are \n",
        "\tFeature feature_id=1290, file_id=0, gt_adduct=None, gt_metabolite=None, intb=1358093.12352, intensity=1871622.61865, mass=132.065524465, maxo=216695.9375, rt=362.942 log(intensity)=14.4423163231 log(maxo)=12.2862504402 log(intb)=14.1215921588\n",
        "\tFeature feature_id=1807, file_id=0, gt_adduct=None, gt_metabolite=None, intb=33166020.4858, intensity=34009485.066, mass=132.065535693, maxo=669478.6875, rt=464.509 log(intensity)=17.3421500162 log(maxo)=13.4142546101 log(intb)=17.3170364304\n",
        "\tFeature feature_id=3005, file_id=0, gt_adduct=None, gt_metabolite=None, intb=1601408048.05, intensity=1601891970.07, mass=132.065455939, maxo=254490064, rt=623.806 log(intensity)=21.1944512489 log(maxo)=19.3547723519 log(intb)=21.1941491092\n",
        "Peak data 1:5\n",
        "Candidates for DatabaseEntry db_id=StdMix1_25, formula= C5H9NO3, mass=131.058243161, name= trans-4-Hydroxy-L-proline, rt=0 are \n",
        "\tFeature feature_id=1487, file_id=0, gt_adduct=None, gt_metabolite=None, intb=1316373.1593, intensity=1915552.96318, mass=132.065525747, maxo=149359.921875, rt=357.788 log(intensity)=14.4655168925 log(maxo)=11.9141142552 log(intb)=14.0903909064\n",
        "\tFeature feature_id=2415, file_id=0, gt_adduct=None, gt_metabolite=None, intb=155060892.07, intensity=155829872.445, mass=132.065461203, maxo=22827864, rt=624.056 log(intensity)=18.8642754089 log(maxo)=16.943492453 log(intb)=18.8593284498\n",
        "Peak data 1:10\n",
        "Candidates for DatabaseEntry db_id=StdMix1_25, formula= C5H9NO3, mass=131.058243161, name= trans-4-Hydroxy-L-proline, rt=0 are "
       ]
      },
      {
       "output_type": "stream",
       "stream": "stdout",
       "text": [
        "\n",
        "\tFeature feature_id=1241, file_id=0, gt_adduct=None, gt_metabolite=None, intb=1354753.80392, intensity=1974368.86503, mass=132.065525863, maxo=145268.203125, rt=358.217 log(intensity)=14.4957593432 log(maxo)=11.8863369896 log(intb)=14.1191303013\n",
        "\tFeature feature_id=2053, file_id=0, gt_adduct=None, gt_metabolite=None, intb=120996297.686, intensity=121757383.137, mass=132.065466765, maxo=19195680, rt=624.26 log(intensity)=18.6175409599 log(maxo)=16.7701958117 log(intb)=18.6112705055\n",
        "\tFeature feature_id=2054, file_id=0, gt_adduct=None, gt_metabolite=None, intb=2013098.86727, intensity=2940139.39869, mass=132.065509081, maxo=203240.109375, rt=576.576 log(intensity)=14.8939675527 log(maxo)=12.2221433639 log(intb)=14.5151858178\n",
        "Peak data 1:50\n",
        "Candidates for DatabaseEntry db_id=StdMix1_25, formula= C5H9NO3, mass=131.058243161, name= trans-4-Hydroxy-L-proline, rt=0 are \n",
        "\tFeature feature_id=1205, file_id=0, gt_adduct=None, gt_metabolite=None, intb=997674.873737, intensity=1531291.00455, mass=132.065502379, maxo=155332.140625, rt=356.452 log(intensity)=14.2416217314 log(maxo)=11.953320946 log(intb)=13.8131827244\n",
        "\tFeature feature_id=1496, file_id=0, gt_adduct=None, gt_metabolite=None, intb=1585736.66617, intensity=3199379.84153, mass=132.065510338, maxo=278400, rt=576.124 log(intensity)=14.9784675495 log(maxo)=12.5368142074 log(intb)=14.2765596309\n",
        "\tFeature feature_id=1626, file_id=0, gt_adduct=None, gt_metabolite=None, intb=17939222.3858, intensity=18635201.2112, mass=132.065472373, maxo=2739591.75, rt=624.562 log(intensity)=16.7405628883 log(maxo)=14.8233194709 log(intb)=16.7025000684\n",
        "Peak data 1:100\n",
        "Candidates for DatabaseEntry db_id=StdMix1_25, formula= C5H9NO3, mass=131.058243161, name= trans-4-Hydroxy-L-proline, rt=0 are \n",
        "\tFeature feature_id=1231, file_id=0, gt_adduct=None, gt_metabolite=None, intb=1190962.66948, intensity=2130728.94631, mass=132.065515238, maxo=147821.28125, rt=357.491 log(intensity)=14.5719747075 log(maxo)=11.9037592639 log(intb)=13.990272504\n",
        "\tFeature feature_id=1461, file_id=0, gt_adduct=None, gt_metabolite=None, intb=1130568.20787, intensity=1704459.69347, mass=132.065545576, maxo=191298.65625, rt=577.44 log(intensity)=14.3487587232 log(maxo)=12.1615911311 log(intb)=13.9382309031\n",
        "\tFeature feature_id=1547, file_id=0, gt_adduct=None, gt_metabolite=None, intb=9796709.58736, intensity=10450544.1331, mass=132.065473047, maxo=1461910.75, rt=624.049 log(intensity)=16.1621646052 log(maxo)=14.1952548709 log(intb)=16.0975571309\n",
        "Peak data 1:1000\n",
        "Candidates for DatabaseEntry db_id=StdMix1_25, formula= C5H9NO3, mass=131.058243161, name= trans-4-Hydroxy-L-proline, rt=0 are \n",
        "\tFeature feature_id=1213, file_id=0, gt_adduct=None, gt_metabolite=None, intb=911655.95908, intensity=1450603.92385, mass=132.065529457, maxo=155843.71875, rt=357.204 log(intensity)=14.1874905269 log(maxo)=11.9566089812 log(intb)=13.72301796\n",
        "\tFeature feature_id=1341, file_id=0, gt_adduct=None, gt_metabolite=None, intb=1049934.93819, intensity=1711478.05992, mass=132.065520932, maxo=176674.015625, rt=577.583 log(intensity)=14.3528679177 log(maxo)=12.0820615939 log(intb)=13.8642387566\n",
        "\tFeature feature_id=1374, file_id=0, gt_adduct=None, gt_metabolite=None, intb=1555755.21816, intensity=2180099.34049, mass=132.065465989, maxo=275936.90625, rt=624.161 log(intensity)=14.5948810028 log(maxo)=12.527927518 log(intb)=14.2574716565\n",
        "Peak data 1:1\n",
        "Candidates for DatabaseEntry db_id=StdMix1_26, formula= C4H7N3O, mass=113.058911863, name= Creatinine, rt=0 are \n",
        "\tFeature feature_id=3368, file_id=0, gt_adduct=None, gt_metabolite=None, intb=12103574610.7, intensity=12103786869.5, mass=114.066106027, maxo=1456343808, rt=499.67 log(intensity)=23.216784205 log(maxo)=21.0991948907 log(intb)=23.2167666683\n",
        "\tFeature feature_id=3369, file_id=0, gt_adduct=None, gt_metabolite=None, intb=23904474.9159, intensity=24075448.5453, mass=114.066222667, maxo=2074803.625, rt=555.092 log(intensity)=16.9967031466 log(maxo)=14.5453770686 log(intb)=16.9895762343\n",
        "\tFeature feature_id=3370, file_id=0, gt_adduct=None, gt_metabolite=None, intb=7903509.35821, intensity=8077408.41201, mass=114.066190815, maxo=833175.8125, rt=618.826 log(intensity)=15.904581638 log(maxo)=13.6329999583 log(intb)=15.8828174414\n",
        "\tFeature feature_id=3371, file_id=0, gt_adduct=None, gt_metabolite=None, intb=13296990.7291, intensity=13467404.6202, mass=114.066184661, maxo=929327.75, rt=591.251 log(intensity)=16.4157828513 log(maxo)=13.7422167543 log(intb)=16.4030483066\n",
        "\tFeature feature_id=3372, file_id=0, gt_adduct=None, gt_metabolite=None, intb=9415702.87187, intensity=9563306.70971, mass=114.066181783, maxo=873184.5625, rt=602.558 log(intensity)=16.0734441154 log(maxo)=13.6799022243 log(intb)=16.0578893718\n",
        "\tFeature feature_id=3373, file_id=0, gt_adduct=None, gt_metabolite=None, intb=6971354.83558, intensity=7180331.44769, mass=114.066163417, maxo=473446.8125, rt=637.803 log(intensity)=15.7868561026 log(maxo)=13.0677948569 log(intb)=15.7573201448\n",
        "Peak data 1:5\n",
        "Peak data 1:10\n",
        "Peak data 1:50\n",
        "Peak data 1:100\n",
        "Peak data 1:1000"
       ]
      },
      {
       "output_type": "stream",
       "stream": "stdout",
       "text": [
        "\n",
        "Peak data 1:1\n",
        "Candidates for DatabaseEntry db_id=StdMix1_27, formula= C8H16N2O3, mass=188.116092391, name= N2-Acetyl-L-lysine, rt=0 are \n",
        "\tFeature feature_id=57, file_id=0, gt_adduct=None, gt_metabolite=None, intb=84602.3812154, intensity=84607.3948154, mass=189.123080262, maxo=22430.7480469, rt=211.266 log(intensity)=11.3457769509 log(maxo)=10.0181879772 log(intb)=11.345717692\n",
        "\tFeature feature_id=2801, file_id=0, gt_adduct=None, gt_metabolite=None, intb=5648089286.67, intensity=5648331567.45, mass=189.123251751, maxo=803634816, rt=628.928 log(intensity)=22.4546260407 log(maxo)=20.504655515 log(intb)=22.4545831456\n",
        "\tFeature feature_id=2802, file_id=0, gt_adduct=None, gt_metabolite=None, intb=3326381.87177, intensity=3526988.93164, mass=189.123242335, maxo=316550.1875, rt=699.591 log(intensity)=15.075955071 log(maxo)=12.6652370783 log(intb)=15.0173957463\n",
        "Peak data 1:5\n",
        "Candidates for DatabaseEntry db_id=StdMix1_27, formula= C8H16N2O3, mass=188.116092391, name= N2-Acetyl-L-lysine, rt=0 are \n",
        "\tFeature feature_id=44, file_id=0, gt_adduct=None, gt_metabolite=None, intb=220306.470703, intensity=226710.509516, mass=189.12336755, maxo=55573, rt=176.759 log(intensity)=12.3314291941 log(maxo)=10.9254527508 log(intb)=12.3027749046\n",
        "\tFeature feature_id=2395, file_id=0, gt_adduct=None, gt_metabolite=None, intb=266457685.971, intensity=266564526.689, mass=189.123229864, maxo=42440088, rt=629.261 log(intensity)=19.4011268987 log(maxo)=17.5636039452 log(intb)=19.4007260121\n",
        "Peak data 1:10\n",
        "Peak data 1:50\n",
        "Peak data 1:100\n",
        "Peak data 1:1000\n",
        "Peak data 1:1\n",
        "Candidates for DatabaseEntry db_id=StdMix1_28, formula= C4H9NO3, mass=119.058243161, name= L-Threonine, rt=0 are \n",
        "\tFeature feature_id=2208, file_id=0, gt_adduct=None, gt_metabolite=None, intb=89178365.5256, intensity=89510646.8425, mass=120.065511743, maxo=7262296.5, rt=513.733 log(intensity)=18.3098681353 log(maxo)=15.7982066591 log(intb)=18.3061490292\n",
        "\tFeature feature_id=2209, file_id=0, gt_adduct=None, gt_metabolite=None, intb=28772211.0118, intensity=29770776.3556, mass=120.065517171, maxo=1418694.875, rt=571.325 log(intensity)=17.2090378111 log(maxo)=14.1652479048 log(intb)=17.1749205839\n",
        "\tFeature feature_id=2897, file_id=0, gt_adduct=None, gt_metabolite=None, intb=384601421.551, intensity=385505928.221, mass=120.065504822, maxo=56371228, rt=620.062 log(intensity)=19.7700671289 log(maxo)=17.8474694445 log(intb)=19.7677180873\n",
        "Peak data 1:5\n",
        "Candidates for DatabaseEntry db_id=StdMix1_28, formula= C4H9NO3, mass=119.058243161, name= L-Threonine, rt=0 are "
       ]
      },
      {
       "output_type": "stream",
       "stream": "stdout",
       "text": [
        "\n",
        "\tFeature feature_id=1866, file_id=0, gt_adduct=None, gt_metabolite=None, intb=1876869.84956, intensity=2075264.26322, mass=120.065521673, maxo=148890.75, rt=487.652 log(intensity)=14.5455990593 log(maxo)=11.9109680945 log(intb)=14.4451159736\n",
        "\tFeature feature_id=2429, file_id=0, gt_adduct=None, gt_metabolite=None, intb=22808077.3238, intensity=23838230.9761, mass=120.065528732, maxo=1753488.375, rt=513.976 log(intensity)=16.9868011934 log(maxo)=14.3771177189 log(intb)=16.9426252998\n",
        "\tFeature feature_id=2430, file_id=0, gt_adduct=None, gt_metabolite=None, intb=29099610.5916, intensity=29897355.9483, mass=120.065480262, maxo=3961688.75, rt=620.144 log(intensity)=17.2132806046 log(maxo)=15.1921809443 log(intb)=17.1862353503\n",
        "Peak data 1:10\n",
        "Candidates for DatabaseEntry db_id=StdMix1_28, formula= C4H9NO3, mass=119.058243161, name= L-Threonine, rt=0 are \n",
        "\tFeature feature_id=2042, file_id=0, gt_adduct=None, gt_metabolite=None, intb=13685902.8044, intensity=14673938.0381, mass=120.065535713, maxo=967725.875, rt=514.893 log(intensity)=16.5015835557 log(maxo)=13.7827041392 log(intb)=16.4318768686\n",
        "\tFeature feature_id=2043, file_id=0, gt_adduct=None, gt_metabolite=None, intb=27706706.2563, intensity=28427035.5033, mass=120.06548635, maxo=3877648.75, rt=620.443 log(intensity)=17.1628512047 log(maxo)=15.1707395356 log(intb)=17.137185045\n",
        "Peak data 1:50\n",
        "Candidates for DatabaseEntry db_id=StdMix1_28, formula= C4H9NO3, mass=119.058243161, name= L-Threonine, rt=0 are \n",
        "\tFeature feature_id=1903, file_id=0, gt_adduct=None, gt_metabolite=None, intb=6339733.83789, intensity=6800164.99629, mass=120.065481807, maxo=705151.375, rt=620.775 log(intensity)=15.732457434 log(maxo)=13.4661677751 log(intb)=15.6623473441\n",
        "\tFeature feature_id=1904, file_id=0, gt_adduct=None, gt_metabolite=None, intb=4834933.0372, intensity=5400618.64152, mass=120.065544548, maxo=312546.84375, rt=514.436 log(intensity)=15.5020240682 log(maxo)=12.6525096369 log(intb)=15.3913778372\n",
        "Peak data 1:100\n",
        "Candidates for DatabaseEntry db_id=StdMix1_28, formula= C4H9NO3, mass=119.058243161, name= L-Threonine, rt=0 are \n",
        "\tFeature feature_id=1847, file_id=0, gt_adduct=None, gt_metabolite=None, intb=4747787.13242, intensity=5131850.50093, mass=120.065494159, maxo=522697.5, rt=620.219 log(intensity)=15.4509768735 log(maxo)=13.1667581818 log(intb)=15.3731892006\n",
        "\tFeature feature_id=1848, file_id=0, gt_adduct=None, gt_metabolite=None, intb=7588190.55012, intensity=8474793.64062, mass=120.065547391, maxo=263337.5625, rt=517.001 log(intensity)=15.9526068617 log(maxo)=12.4811919958 log(intb)=15.8421037218\n",
        "Peak data 1:1000\n",
        "Peak data 1:1\n",
        "Peak data 1:5\n",
        "Peak data 1:10\n",
        "Peak data 1:50\n",
        "Peak data 1:100\n",
        "Peak data 1:1000"
       ]
      },
      {
       "output_type": "stream",
       "stream": "stdout",
       "text": [
        "\n",
        "Peak data 1:1\n",
        "Candidates for DatabaseEntry db_id=StdMix1_3, formula= C8H15NO6, mass=221.08993722, name= N-Acetyl-D-glucosamine, rt=0 are \n",
        "\tFeature feature_id=2323, file_id=0, gt_adduct=None, gt_metabolite=None, intb=489060559.125, intensity=489060580.41, mass=222.097094036, maxo=57794608, rt=552.611 log(intensity)=20.0079969261 log(maxo)=17.8724060421 log(intb)=20.0079968826\n",
        "\tFeature feature_id=2324, file_id=0, gt_adduct=None, gt_metabolite=None, intb=88147708.9691, intensity=88147731.485, mass=222.097076714, maxo=8107243, rt=591.251 log(intensity)=18.2945247318 log(maxo)=15.9082684176 log(intb)=18.2945244763\n",
        "\tFeature feature_id=2325, file_id=0, gt_adduct=None, gt_metabolite=None, intb=113143858.35, intensity=113143878.299, mass=222.097177117, maxo=7132448, rt=573.809 log(intensity)=18.5441708261 log(maxo)=15.7801650715 log(intb)=18.5441706497\n",
        "\tFeature feature_id=2975, file_id=0, gt_adduct=None, gt_metabolite=None, intb=81482.5961406, intensity=81487.6281406, mass=222.097265956, maxo=19580.2070312, rt=1306.6 log(intensity)=11.3082064858 log(maxo)=9.88227448964 log(intb)=11.3081447321\n",
        "Peak data 1:5\n",
        "Candidates for DatabaseEntry db_id=StdMix1_3, formula= C8H15NO6, mass=221.08993722, name= N-Acetyl-D-glucosamine, rt=0 are \n",
        "\tFeature feature_id=2182, file_id=0, gt_adduct=None, gt_metabolite=None, intb=63422923.8451, intensity=63438905.6923, mass=222.097171278, maxo=7996584.5, rt=551.728 log(intensity)=17.9655878857 log(maxo)=15.894525071 log(intb)=17.9653359289\n",
        "\tFeature feature_id=2183, file_id=0, gt_adduct=None, gt_metabolite=None, intb=10825501.0666, intensity=10841706.758, mass=222.097143523, maxo=959647.5625, rt=592.136 log(intensity)=16.1989109916 log(maxo)=13.7743213736 log(intb)=16.1974151187\n",
        "Peak data 1:10\n",
        "Candidates for DatabaseEntry db_id=StdMix1_3, formula= C8H15NO6, mass=221.08993722, name= N-Acetyl-D-glucosamine, rt=0 are \n",
        "\tFeature feature_id=1788, file_id=0, gt_adduct=None, gt_metabolite=None, intb=31831541.0284, intensity=31835161.7502, mass=222.097132798, maxo=4447460, rt=552.726 log(intensity)=17.2760819523 log(maxo)=15.3078437047 log(intb)=17.2759682124\n",
        "\tFeature feature_id=1789, file_id=0, gt_adduct=None, gt_metabolite=None, intb=6158899.83658, intensity=6162506.50641, mass=222.097127903, maxo=541551.875, rt=591.588 log(intensity)=15.6339941531 log(maxo)=13.2021941395 log(intb)=15.6334087216\n",
        "Peak data 1:50\n",
        "Peak data 1:100\n",
        "Peak data 1:1000\n",
        "Peak data 1:1\n",
        "Peak data 1:5"
       ]
      },
      {
       "output_type": "stream",
       "stream": "stdout",
       "text": [
        "\n",
        "Candidates for DatabaseEntry db_id=StdMix1_30, formula= C5H10N2O3, mass=146.069142198, name= L-Glutamine, rt=0 are \n",
        "\tFeature feature_id=52, file_id=0, gt_adduct=None, gt_metabolite=None, intb=557956.526577, intensity=716975.975205, mass=147.076378726, maxo=77612.8984375, rt=178.009 log(intensity)=13.4827976116 log(maxo)=11.2594889093 log(intb)=13.232036329\n",
        "\tFeature feature_id=2413, file_id=0, gt_adduct=None, gt_metabolite=None, intb=117783991.288, intensity=118322586.011, mass=147.076306682, maxo=17999436, rt=634.253 log(intensity)=18.5889252322 log(maxo)=16.705850982 log(intb)=18.5843629226\n",
        "Peak data 1:10\n",
        "Peak data 1:50\n",
        "Peak data 1:100\n",
        "Candidates for DatabaseEntry db_id=StdMix1_30, formula= C5H10N2O3, mass=146.069142198, name= L-Glutamine, rt=0 are \n",
        "\tFeature feature_id=1580, file_id=0, gt_adduct=None, gt_metabolite=None, intb=15648013.323, intensity=16018877.8333, mass=147.076326109, maxo=2195311, rt=634.132 log(intensity)=16.5892784493 log(maxo)=14.6018342801 log(intb)=16.5658545227\n",
        "\tFeature feature_id=2117, file_id=0, gt_adduct=None, gt_metabolite=None, intb=483504.091436, intensity=539566.963407, mass=147.07637158, maxo=55797.7148438, rt=1403.62 log(intensity)=13.1985221772 log(maxo)=10.9294881949 log(intb)=13.088815056\n",
        "Peak data 1:1000\n",
        "Candidates for DatabaseEntry db_id=StdMix1_30, formula= C5H10N2O3, mass=146.069142198, name= L-Glutamine, rt=0 are \n",
        "\tFeature feature_id=39, file_id=0, gt_adduct=None, gt_metabolite=None, intb=367279.303028, intensity=512010.245037, mass=147.076315091, maxo=68689.6796875, rt=58.4742 log(intensity)=13.1460999137 log(maxo)=11.137354244 log(intb)=12.8138778813\n",
        "\tFeature feature_id=1450, file_id=0, gt_adduct=None, gt_metabolite=None, intb=4149909.14523, intensity=4495701.37429, mass=147.07630345, maxo=538277.5, rt=634.254 log(intensity)=15.318632248 log(maxo)=13.1961295054 log(intb)=15.2385969993\n",
        "Peak data 1:1\n",
        "Peak data 1:5\n",
        "Peak data 1:10\n",
        "Peak data 1:50"
       ]
      },
      {
       "output_type": "stream",
       "stream": "stdout",
       "text": [
        "\n",
        "Peak data 1:100\n",
        "Peak data 1:1000\n",
        "Peak data 1:1\n",
        "Peak data 1:5\n",
        "Candidates for DatabaseEntry db_id=StdMix1_32, formula= C4H8N2O3, mass=132.053492134, name= L-Asparagine, rt=0 are \n",
        "\tFeature feature_id=47, file_id=0, gt_adduct=None, gt_metabolite=None, intb=159244.386048, intensity=162648.490202, mass=133.060815625, maxo=30978.5917969, rt=178.009 log(intensity)=11.9993466494 log(maxo)=10.3410516577 log(intb)=11.9781953204\n",
        "\tFeature feature_id=2327, file_id=0, gt_adduct=None, gt_metabolite=None, intb=8270102.41609, intensity=8331741.22469, mass=133.060723448, maxo=1230680.125, rt=639.472 log(intensity)=15.9355830229 log(maxo)=14.0230775217 log(intb)=15.928157451\n",
        "Peak data 1:10\n",
        "Peak data 1:50\n",
        "Peak data 1:100\n",
        "Peak data 1:1000\n",
        "Peak data 1:1"
       ]
      },
      {
       "output_type": "stream",
       "stream": "stdout",
       "text": [
        "\n",
        "Peak data 1:5\n",
        "Peak data 1:10\n",
        "Peak data 1:50\n",
        "Peak data 1:100\n",
        "Peak data 1:1000\n",
        "Peak data 1:1\n",
        "Peak data 1:5\n",
        "Candidates for DatabaseEntry db_id=StdMix1_34, formula= C3H7NO3, mass=105.042593097, name= L-Serine, rt=0 are "
       ]
      },
      {
       "output_type": "stream",
       "stream": "stdout",
       "text": [
        "\n",
        "\tFeature feature_id=2402, file_id=0, gt_adduct=None, gt_metabolite=None, intb=4379592.72292, intensity=4437144.52545, mass=106.049837505, maxo=670905.5, rt=659.586 log(intensity)=15.3055216026 log(maxo)=13.4163835715 log(intb)=15.2924662924\n",
        "\tFeature feature_id=2534, file_id=0, gt_adduct=None, gt_metabolite=None, intb=135350.471569, intensity=194920.532743, mass=106.049837761, maxo=27481.3984375, rt=1051.18 log(intensity)=12.1803472301 log(maxo)=10.2212646343 log(intb)=11.8156227791\n",
        "Peak data 1:10\n",
        "Peak data 1:50\n",
        "Peak data 1:100\n",
        "Peak data 1:1000\n",
        "Peak data 1:1\n",
        "Candidates for DatabaseEntry db_id=StdMix1_35, formula= C6H13N3O3, mass=175.0956913, name= L-Citrulline, rt=0 are \n",
        "\tFeature feature_id=2751, file_id=0, gt_adduct=None, gt_metabolite=None, intb=559703339.846, intensity=559841577.05, mass=176.102873863, maxo=82809048, rt=657.851 log(intensity)=20.1431644035 log(maxo)=18.2320478887 log(intb)=20.1429174511\n",
        "\tFeature feature_id=2752, file_id=0, gt_adduct=None, gt_metabolite=None, intb=6443616.31735, intensity=6606547.09396, mass=176.102841984, maxo=661091.625, rt=685.669 log(intensity)=15.7035716992 log(maxo)=13.401647725 log(intb)=15.6786004804\n",
        "Peak data 1:5\n",
        "Peak data 1:10\n",
        "Peak data 1:50\n",
        "Peak data 1:100\n",
        "Peak data 1:1000"
       ]
      },
      {
       "output_type": "stream",
       "stream": "stdout",
       "text": [
        "\n",
        "Peak data 1:1\n",
        "Peak data 1:5\n",
        "Peak data 1:10\n",
        "Peak data 1:50\n",
        "Peak data 1:100\n",
        "Peak data 1:1000\n",
        "Peak data 1:1\n",
        "Peak data 1:5\n",
        "Peak data 1:10"
       ]
      },
      {
       "output_type": "stream",
       "stream": "stdout",
       "text": [
        "\n",
        "Peak data 1:50\n",
        "Peak data 1:100\n",
        "Peak data 1:1000\n",
        "Peak data 1:1\n",
        "Peak data 1:5\n",
        "Candidates for DatabaseEntry db_id=StdMix1_38, formula= C2H5NO2, mass=75.0320284101, name= Glycine, rt=0 are \n",
        "\tFeature feature_id=2392, file_id=0, gt_adduct=None, gt_metabolite=None, intb=922621.272246, intensity=925775.761312, mass=76.0392803982, maxo=157204.09375, rt=659.586 log(intensity)=13.7383873259 log(maxo)=11.9653002003 log(intb)=13.7349741067\n",
        "\tFeature feature_id=2499, file_id=0, gt_adduct=None, gt_metabolite=None, intb=41155.1980923, intensity=41160.3764923, mass=76.0392907228, maxo=10379.9433594, rt=901.022 log(intensity)=10.6252313369 log(maxo)=9.2476307 log(intb)=10.6251055187\n",
        "Peak data 1:10\n",
        "Peak data 1:50\n",
        "Peak data 1:100\n",
        "Peak data 1:1000"
       ]
      },
      {
       "output_type": "stream",
       "stream": "stdout",
       "text": [
        "\n",
        "Peak data 1:1\n",
        "Candidates for DatabaseEntry db_id=StdMix1_39, formula= C8H20NO6P, mass=257.102823893, name= sn-glycero-3-Phosphocholine, rt=0 are \n",
        "\tFeature feature_id=2723, file_id=0, gt_adduct=None, gt_metabolite=None, intb=6118388421.47, intensity=6118477869.89, mass=258.109748626, maxo=858872128, rt=609.987 log(intensity)=22.5345791885 log(maxo)=20.5711306074 log(intb)=22.534564569\n",
        "\tFeature feature_id=2724, file_id=0, gt_adduct=None, gt_metabolite=None, intb=3051273.00761, intensity=3215453.88045, mass=258.109744301, maxo=147792.078125, rt=698.352 log(intensity)=14.9834790816 log(maxo)=11.9035616874 log(intb)=14.931069441\n",
        "\tFeature feature_id=2725, file_id=0, gt_adduct=None, gt_metabolite=None, intb=63387267.6882, intensity=63534793.714, mass=258.109730208, maxo=10616778, rt=647.748 log(intensity)=17.9670982463 log(maxo)=16.1779461379 log(intb)=17.9647735741\n",
        "Peak data 1:5\n",
        "Peak data 1:10\n",
        "Peak data 1:50\n",
        "Peak data 1:100\n",
        "Peak data 1:1000\n",
        "Peak data 1:1\n",
        "Peak data 1:5\n",
        "Peak data 1:10"
       ]
      },
      {
       "output_type": "stream",
       "stream": "stdout",
       "text": [
        "\n",
        "Peak data 1:50\n",
        "Peak data 1:100\n",
        "Peak data 1:1000\n",
        "Peak data 1:1\n",
        "Peak data 1:5\n",
        "Peak data 1:10\n",
        "Peak data 1:50\n",
        "Peak data 1:100\n",
        "Peak data 1:1000"
       ]
      },
      {
       "output_type": "stream",
       "stream": "stdout",
       "text": [
        "\n",
        "Peak data 1:1\n",
        "Candidates for DatabaseEntry db_id=StdMix1_41, formula= C6H13NO5, mass=179.079372534, name= D-Glucosamine, rt=0 are \n",
        "\tFeature feature_id=2754, file_id=0, gt_adduct=None, gt_metabolite=None, intb=175864856.377, intensity=176000240.374, mass=180.086511352, maxo=14592221, rt=648.987 log(intensity)=18.9859959188 log(maxo)=16.4959991365 log(intb)=18.9852263966\n",
        "\tFeature feature_id=2755, file_id=0, gt_adduct=None, gt_metabolite=None, intb=113648384.534, intensity=113768986.627, mass=180.086533882, maxo=9127201, rt=632.64 log(intensity)=18.5496805173 log(maxo)=16.0267696338 log(intb)=18.5486198938\n",
        "Peak data 1:5\n",
        "Peak data 1:10\n",
        "Peak data 1:50\n",
        "Peak data 1:100\n",
        "Peak data 1:1000\n",
        "Peak data 1:1\n",
        "Candidates for DatabaseEntry db_id=StdMix1_42, formula= C7H14N2O4, mass=190.095356949, name= meso-2_6-Diaminoheptanedioate, rt=0 are \n",
        "\tFeature feature_id=2769, file_id=0, gt_adduct=None, gt_metabolite=None, intb=129832112.744, intensity=129924012.719, mass=191.102481826, maxo=18883046, rt=705.908 log(intensity)=18.68246032 log(maxo)=16.7537750404 log(intb)=18.6817527334\n",
        "\tFeature feature_id=2867, file_id=0, gt_adduct=None, gt_metabolite=None, intb=2466231.14805, intensity=2501361.37491, mass=191.102509332, maxo=196717.75, rt=958.272 log(intensity)=14.7323456916 log(maxo)=12.1895252392 log(intb)=14.7182016923\n",
        "Peak data 1:5\n",
        "Candidates for DatabaseEntry db_id=StdMix1_42, formula= C7H14N2O4, mass=190.095356949, name= meso-2_6-Diaminoheptanedioate, rt=0 are "
       ]
      },
      {
       "output_type": "stream",
       "stream": "stdout",
       "text": [
        "\n",
        "\tFeature feature_id=2456, file_id=0, gt_adduct=None, gt_metabolite=None, intb=9685484.89985, intensity=9685503.23085, mass=191.102503033, maxo=1351535.875, rt=705.931 log(intensity)=16.0861408133 log(maxo)=14.1167521889 log(intb)=16.0861389207\n",
        "\tFeature feature_id=2509, file_id=0, gt_adduct=None, gt_metabolite=None, intb=412743.875488, intensity=451583.047355, mass=191.102465664, maxo=41944.921875, rt=962.897 log(intensity)=13.0205145715 log(maxo)=10.6441126527 log(intb)=12.9305825234\n",
        "Peak data 1:10\n",
        "Peak data 1:50\n",
        "Peak data 1:100\n",
        "Peak data 1:1000\n",
        "Peak data 1:1\n",
        "Candidates for DatabaseEntry db_id=StdMix1_43, formula= C6H9N3O2, mass=155.069476549, name= L-Histidine, rt=0 are \n",
        "\tFeature feature_id=3502, file_id=0, gt_adduct=None, gt_metabolite=None, intb=1953612440.25, intensity=1960914157.72, mass=156.076730746, maxo=112267856, rt=633.878 log(intensity)=21.3966766085 log(maxo)=18.5363981454 log(intb)=21.3929460292\n",
        "\tFeature feature_id=3503, file_id=0, gt_adduct=None, gt_metabolite=None, intb=560221793.513, intensity=574049961.772, mass=156.076720159, maxo=17915318, rt=700.831 log(intensity)=20.1682269919 log(maxo)=16.7011666591 log(intb)=20.1438433231\n",
        "Peak data 1:5\n",
        "Candidates for DatabaseEntry db_id=StdMix1_43, formula= C6H9N3O2, mass=155.069476549, name= L-Histidine, rt=0 are \n",
        "\tFeature feature_id=1889, file_id=0, gt_adduct=None, gt_metabolite=None, intb=4533297.37071, intensity=4896203.34899, mass=156.076763322, maxo=403388.0625, rt=447.241 log(intensity)=15.403970636 log(maxo)=12.9076543118 log(intb)=15.3269601291\n",
        "\tFeature feature_id=3194, file_id=0, gt_adduct=None, gt_metabolite=None, intb=261243357.495, intensity=265867791.359, mass=156.076721794, maxo=18401900, rt=633.005 log(intensity)=19.3985097182 log(maxo)=16.7279644781 log(intb)=19.3809629351\n",
        "Peak data 1:10\n",
        "Peak data 1:50\n",
        "Peak data 1:100\n",
        "Peak data 1:1000"
       ]
      },
      {
       "output_type": "stream",
       "stream": "stdout",
       "text": [
        "\n",
        "Peak data 1:1\n",
        "Candidates for DatabaseEntry db_id=StdMix1_44, formula= C4H10N2O2, mass=118.074227576, name= L-2_4-Diaminobutanoate, rt=0 are \n",
        "\tFeature feature_id=639, file_id=0, gt_adduct=None, gt_metabolite=None, intb=183653.106607, intensity=183660.645179, mass=119.081603951, maxo=33259.6601562, rt=259.408 log(intensity)=12.1208450141 log(maxo)=10.4121005349 log(intb)=12.120803967\n",
        "\tFeature feature_id=2991, file_id=0, gt_adduct=None, gt_metabolite=None, intb=35865712.1453, intensity=36554045.6757, mass=119.08147896, maxo=1768055, rt=762.739 log(intensity)=17.4143024268 log(maxo)=14.3853906303 log(intb)=17.3952923036\n",
        "Peak data 1:5\n",
        "Peak data 1:10\n",
        "Peak data 1:50\n",
        "Peak data 1:100\n",
        "Peak data 1:1000\n",
        "Peak data 1:1\n",
        "Peak data 1:5\n",
        "Candidates for DatabaseEntry db_id=StdMix1_45, formula= C6H14N2O2, mass=146.105527705, name= L-Lysine, rt=0 are "
       ]
      },
      {
       "output_type": "stream",
       "stream": "stdout",
       "text": [
        "\n",
        "\tFeature feature_id=2279, file_id=0, gt_adduct=None, gt_metabolite=None, intb=997665.619555, intensity=1041614.31637, mass=147.112730607, maxo=214981.046875, rt=629.261 log(intensity)=13.8562822949 log(maxo)=12.2783051492 log(intb)=13.8131734486\n",
        "\tFeature feature_id=2537, file_id=0, gt_adduct=None, gt_metabolite=None, intb=16809135.5755, intensity=17086373.2309, mass=147.112702745, maxo=1241694.5, rt=959.118 log(intensity)=16.6537918167 log(maxo)=14.031987537 log(intb)=16.6374330808\n",
        "Peak data 1:10\n",
        "Candidates for DatabaseEntry db_id=StdMix1_45, formula= C6H14N2O2, mass=146.105527705, name= L-Lysine, rt=0 are \n",
        "\tFeature feature_id=1885, file_id=0, gt_adduct=None, gt_metabolite=None, intb=513645.111176, intensity=564193.774493, mass=147.112690335, maxo=108048.828125, rt=630.498 log(intensity)=13.2431530433 log(maxo)=11.5903385162 log(intb)=13.1492878608\n",
        "\tFeature feature_id=2231, file_id=0, gt_adduct=None, gt_metabolite=None, intb=19804142.5983, intensity=20054266.1277, mass=147.112713071, maxo=1497511.875, rt=959.115 log(intensity)=16.8139524635 log(maxo)=14.2193155388 log(intb)=16.8014016959\n",
        "Peak data 1:50\n",
        "Candidates for DatabaseEntry db_id=StdMix1_45, formula= C6H14N2O2, mass=146.105527705, name= L-Lysine, rt=0 are \n",
        "\tFeature feature_id=1418, file_id=0, gt_adduct=None, gt_metabolite=None, intb=536444.906582, intensity=552084.575563, mass=147.112774455, maxo=120058.875, rt=504.358 log(intensity)=13.2214565301 log(maxo)=11.6957375264 log(intb)=13.1927191453\n",
        "\tFeature feature_id=1743, file_id=0, gt_adduct=None, gt_metabolite=None, intb=3707783.25855, intensity=3945375.9481, mass=147.112705814, maxo=283370.96875, rt=959.117 log(intensity)=15.1880548051 log(maxo)=12.5545121619 log(intb)=15.1259447516\n",
        "Peak data 1:100\n",
        "Candidates for DatabaseEntry db_id=StdMix1_45, formula= C6H14N2O2, mass=146.105527705, name= L-Lysine, rt=0 are \n",
        "\tFeature feature_id=1389, file_id=0, gt_adduct=None, gt_metabolite=None, intb=1288449.7493, intensity=1328004.46499, mass=147.112786379, maxo=171786.0625, rt=500.352 log(intensity)=14.0991879712 log(maxo)=12.0540051589 log(intb)=14.0689503089\n",
        "\tFeature feature_id=1627, file_id=0, gt_adduct=None, gt_metabolite=None, intb=2332482.02854, intensity=2593119.09777, mass=147.112720983, maxo=183684.96875, rt=958.904 log(intensity)=14.768371994 log(maxo)=12.1209774429 log(intb)=14.6624435069\n",
        "Peak data 1:1000\n",
        "Peak data 1:1\n",
        "Candidates for DatabaseEntry db_id=StdMix1_46, formula= C6H14N4O2, mass=174.111675715, name= L-Arginine, rt=0 are \n",
        "\tFeature feature_id=3162, file_id=0, gt_adduct=None, gt_metabolite=None, intb=1818914728.97, intensity=1819365945.96, mass=175.11884868, maxo=95959816, rt=1032.67 log(intensity)=21.321753896 log(maxo)=18.3794400785 log(intb)=21.3215058574\n",
        "\tFeature feature_id=3163, file_id=0, gt_adduct=None, gt_metabolite=None, intb=6229097.51435, intensity=6779487.60192, mass=175.118875006, maxo=253512, rt=956.834 log(intensity)=15.7294120821 log(maxo)=12.4431664382 log(intb)=15.644742019\n",
        "Peak data 1:5\n",
        "Peak data 1:10\n",
        "Peak data 1:50\n",
        "Peak data 1:100\n",
        "Peak data 1:1000"
       ]
      },
      {
       "output_type": "stream",
       "stream": "stdout",
       "text": [
        "\n",
        "Peak data 1:1\n",
        "Peak data 1:5\n",
        "Peak data 1:10\n",
        "Peak data 1:50\n",
        "Peak data 1:100\n",
        "Peak data 1:1000\n",
        "Peak data 1:1\n",
        "Peak data 1:5\n",
        "Peak data 1:10"
       ]
      },
      {
       "output_type": "stream",
       "stream": "stdout",
       "text": [
        "\n",
        "Peak data 1:50\n",
        "Peak data 1:100\n",
        "Peak data 1:1000\n",
        "Peak data 1:1\n",
        "Peak data 1:5\n",
        "Peak data 1:10\n",
        "Peak data 1:50\n",
        "Peak data 1:100\n",
        "Peak data 1:1000"
       ]
      },
      {
       "output_type": "stream",
       "stream": "stdout",
       "text": [
        "\n",
        "Peak data 1:1\n",
        "Candidates for DatabaseEntry db_id=StdMix1_5, formula= C13H16N2O2, mass=232.121177769, name= Melatonin, rt=0 are \n",
        "\tFeature feature_id=1555, file_id=0, gt_adduct=None, gt_metabolite=None, intb=20160950249.7, intensity=20162660901.9, mass=233.128264167, maxo=1698471552, rt=276.919 log(intensity)=23.7270982606 log(maxo)=21.2529945965 log(intb)=23.7270134144\n",
        "\tFeature feature_id=2815, file_id=0, gt_adduct=None, gt_metabolite=None, intb=107735.827585, intensity=110944.934613, mass=233.128452129, maxo=20870.765625, rt=915.312 log(intensity)=11.6167892726 log(maxo)=9.94610468483 log(intb)=11.5874374688\n",
        "Peak data 1:5\n",
        "Peak data 1:10\n",
        "Peak data 1:50\n",
        "Candidates for DatabaseEntry db_id=StdMix1_5, formula= C13H16N2O2, mass=232.121177769, name= Melatonin, rt=0 are \n",
        "\tFeature feature_id=1161, file_id=0, gt_adduct=None, gt_metabolite=None, intb=798415368.807, intensity=798948858.115, mass=233.128305847, maxo=85669552, rt=278.247 log(intensity)=20.4988074943 log(maxo)=18.2660080346 log(intb)=20.4981395323\n",
        "\tFeature feature_id=1220, file_id=0, gt_adduct=None, gt_metabolite=None, intb=14337967.2601, intensity=15406639.9479, mass=233.128415811, maxo=1821597, rt=338.795 log(intensity)=16.5503091399 log(maxo)=14.4152241468 log(intb)=16.47842163\n",
        "Peak data 1:100\n",
        "Peak data 1:1000\n",
        "Peak data 1:1\n",
        "Peak data 1:5\n",
        "Peak data 1:10"
       ]
      },
      {
       "output_type": "stream",
       "stream": "stdout",
       "text": [
        "\n",
        "Peak data 1:50\n",
        "Peak data 1:100\n",
        "Peak data 1:1000\n",
        "Peak data 1:1\n",
        "Peak data 1:5\n",
        "Peak data 1:10\n",
        "Peak data 1:50\n",
        "Peak data 1:100\n",
        "Peak data 1:1000"
       ]
      },
      {
       "output_type": "stream",
       "stream": "stdout",
       "text": [
        "\n",
        "Peak data 1:1\n",
        "Peak data 1:5\n",
        "Peak data 1:10\n",
        "Peak data 1:50\n",
        "Peak data 1:100\n",
        "Peak data 1:1000\n",
        "Peak data 1:1\n",
        "Peak data 1:5"
       ]
      },
      {
       "output_type": "stream",
       "stream": "stdout",
       "text": [
        "\n",
        "Peak data 1:10\n",
        "Peak data 1:50\n",
        "Peak data 1:100\n",
        "Peak data 1:1000\n",
        "Peak data 1:1\n",
        "Peak data 1:5\n",
        "Peak data 1:10\n",
        "Peak data 1:50\n",
        "Peak data 1:100"
       ]
      },
      {
       "output_type": "stream",
       "stream": "stdout",
       "text": [
        "\n",
        "Peak data 1:1000\n",
        "Peak data 1:1\n",
        "Peak data 1:5\n",
        "Peak data 1:10\n",
        "Peak data 1:50\n",
        "Peak data 1:100\n",
        "Peak data 1:1000\n",
        "Peak data 1:1\n",
        "Peak data 1:5"
       ]
      },
      {
       "output_type": "stream",
       "stream": "stdout",
       "text": [
        "\n",
        "Peak data 1:10\n",
        "Peak data 1:50\n",
        "Peak data 1:100\n",
        "Peak data 1:1000\n",
        "Peak data 1:1\n",
        "Peak data 1:5\n",
        "Peak data 1:10\n",
        "Peak data 1:50\n",
        "Peak data 1:100"
       ]
      },
      {
       "output_type": "stream",
       "stream": "stdout",
       "text": [
        "\n",
        "Peak data 1:1000\n",
        "Peak data 1:1\n",
        "Peak data 1:5\n",
        "Peak data 1:10\n",
        "Peak data 1:50\n",
        "Peak data 1:100\n",
        "Peak data 1:1000\n",
        "Peak data 1:1\n",
        "Peak data 1:5"
       ]
      },
      {
       "output_type": "stream",
       "stream": "stdout",
       "text": [
        "\n",
        "Peak data 1:10\n",
        "Peak data 1:50\n",
        "Peak data 1:100\n",
        "Peak data 1:1000\n",
        "Peak data 1:1\n",
        "Candidates for DatabaseEntry db_id=StdMix1_6, formula= C6H8N2, mass=108.068748268, name= Phenylhydrazine, rt=0 are \n",
        "\tFeature feature_id=822, file_id=0, gt_adduct=None, gt_metabolite=None, intb=2731625.314, intensity=2879384.19482, mass=109.076049938, maxo=275077.9375, rt=266.972 log(intensity)=14.873087008 log(maxo)=12.5248097456 log(intb)=14.8204073431\n",
        "\tFeature feature_id=1324, file_id=0, gt_adduct=None, gt_metabolite=None, intb=17023810.5515, intensity=17810916.4794, mass=109.076048551, maxo=2071719.5, rt=303.674 log(intensity)=16.6953221126 log(maxo)=14.5438894967 log(intb)=16.6501235427\n",
        "Peak data 1:5\n",
        "Candidates for DatabaseEntry db_id=StdMix1_6, formula= C6H8N2, mass=108.068748268, name= Phenylhydrazine, rt=0 are \n",
        "\tFeature feature_id=1700, file_id=0, gt_adduct=None, gt_metabolite=None, intb=10123784.835, intensity=10787100.8425, mass=109.07606336, maxo=1118136.5, rt=304.939 log(intensity)=16.1938616118 log(maxo)=13.9271740183 log(intb)=16.1303981475\n",
        "\tFeature feature_id=1701, file_id=0, gt_adduct=None, gt_metabolite=None, intb=3468776.67724, intensity=3910630.21536, mass=109.07608811, maxo=371188.75, rt=427.209 log(intensity)=15.1792090994 log(maxo)=12.8244659723 log(intb)=15.0593125472\n",
        "Peak data 1:10\n",
        "Peak data 1:50\n",
        "Peak data 1:100"
       ]
      },
      {
       "output_type": "stream",
       "stream": "stdout",
       "text": [
        "\n",
        "Peak data 1:1000\n",
        "Peak data 1:1\n",
        "Peak data 1:5\n",
        "Peak data 1:10\n",
        "Peak data 1:50\n",
        "Peak data 1:100\n",
        "Peak data 1:1000\n",
        "Peak data 1:1\n",
        "Peak data 1:5"
       ]
      },
      {
       "output_type": "stream",
       "stream": "stdout",
       "text": [
        "\n",
        "Peak data 1:10\n",
        "Peak data 1:50\n",
        "Peak data 1:100\n",
        "Peak data 1:1000\n",
        "Peak data 1:1\n",
        "Peak data 1:5\n",
        "Peak data 1:10\n",
        "Peak data 1:50\n",
        "Peak data 1:100"
       ]
      },
      {
       "output_type": "stream",
       "stream": "stdout",
       "text": [
        "\n",
        "Peak data 1:1000\n",
        "Peak data 1:1\n",
        "Peak data 1:5\n",
        "Peak data 1:10\n",
        "Peak data 1:50\n",
        "Peak data 1:100\n",
        "Peak data 1:1000\n",
        "Peak data 1:1\n",
        "Peak data 1:5"
       ]
      },
      {
       "output_type": "stream",
       "stream": "stdout",
       "text": [
        "\n",
        "Peak data 1:10\n",
        "Peak data 1:50\n",
        "Peak data 1:100\n",
        "Peak data 1:1000\n",
        "Peak data 1:1\n",
        "Peak data 1:5\n",
        "Peak data 1:10\n",
        "Peak data 1:50\n",
        "Peak data 1:100"
       ]
      },
      {
       "output_type": "stream",
       "stream": "stdout",
       "text": [
        "\n",
        "Peak data 1:1000\n",
        "Peak data 1:1\n",
        "Peak data 1:5\n",
        "Peak data 1:10\n",
        "Peak data 1:50\n",
        "Peak data 1:100\n",
        "Peak data 1:1000\n",
        "Peak data 1:1\n",
        "Candidates for DatabaseEntry db_id=StdMix1_67, formula= C6H12O5, mass=164.068473496, name= L-Rhamnose, rt=0 are "
       ]
      },
      {
       "output_type": "stream",
       "stream": "stdout",
       "text": [
        "\n",
        "\tFeature feature_id=1664, file_id=0, gt_adduct=None, gt_metabolite=None, intb=2454112.86159, intensity=2454126.80775, mass=165.075784766, maxo=353488.4375, rt=449.269 log(intensity)=14.7132815768 log(maxo)=12.7756060552 log(intb)=14.7132758941\n",
        "\tFeature feature_id=2095, file_id=0, gt_adduct=None, gt_metabolite=None, intb=2963335.41708, intensity=3014965.39013, mass=165.075741254, maxo=454689.28125, rt=548.885 log(intensity)=14.9190989088 log(maxo)=13.0273695663 log(intb)=14.901826022\n",
        "Peak data 1:5\n",
        "Peak data 1:10\n",
        "Peak data 1:50\n",
        "Peak data 1:100\n",
        "Peak data 1:1000\n",
        "Peak data 1:1\n",
        "Peak data 1:5\n",
        "Peak data 1:10\n",
        "Peak data 1:50\n",
        "Peak data 1:100"
       ]
      },
      {
       "output_type": "stream",
       "stream": "stdout",
       "text": [
        "\n",
        "Peak data 1:1000\n",
        "Peak data 1:1\n",
        "Peak data 1:5\n",
        "Peak data 1:10\n",
        "Peak data 1:50\n",
        "Peak data 1:100\n",
        "Peak data 1:1000\n",
        "Peak data 1:1\n",
        "Candidates for DatabaseEntry db_id=StdMix1_7, formula= C7H7NO2, mass=137.047678474, name= 4-Aminobenzoate, rt=0 are "
       ]
      },
      {
       "output_type": "stream",
       "stream": "stdout",
       "text": [
        "\n",
        "\tFeature feature_id=1244, file_id=0, gt_adduct=None, gt_metabolite=None, intb=999931.910577, intensity=1596490.28267, mass=138.054916775, maxo=231909.890625, rt=365.43 log(intensity)=14.2833182045 log(maxo)=12.3541041727 log(intb)=13.8154424662\n",
        "\tFeature feature_id=1937, file_id=0, gt_adduct=None, gt_metabolite=None, intb=21685070.192, intensity=21827011.4801, mass=138.054881362, maxo=3753899.5, rt=508.695 log(intensity)=16.8986588195 log(maxo)=15.1383057243 log(intb)=16.8921345721\n",
        "\tFeature feature_id=2293, file_id=0, gt_adduct=None, gt_metabolite=None, intb=62930489.1047, intensity=63230547.761, mass=138.054950844, maxo=7250609.5, rt=552.611 log(intensity)=17.962298093 log(maxo)=15.7965960923 log(intb)=17.9575413277\n",
        "\tFeature feature_id=2294, file_id=0, gt_adduct=None, gt_metabolite=None, intb=19642115.1783, intensity=19942083.9652, mass=138.054905909, maxo=2207757.25, rt=592.487 log(intensity)=16.8083428288 log(maxo)=14.6074877392 log(intb)=16.7931865526\n",
        "\tFeature feature_id=2295, file_id=0, gt_adduct=None, gt_metabolite=None, intb=20919350.7557, intensity=21236698.957, mass=138.054973601, maxo=1334304.625, rt=573.809 log(intensity)=16.8712413259 log(maxo)=14.103920834 log(intb)=16.8561851621\n",
        "Peak data 1:5\n",
        "Candidates for DatabaseEntry db_id=StdMix1_7, formula= C7H7NO2, mass=137.047678474, name= 4-Aminobenzoate, rt=0 are \n",
        "\tFeature feature_id=1955, file_id=0, gt_adduct=None, gt_metabolite=None, intb=5295467.70604, intensity=5645227.01156, mass=138.054956823, maxo=842481.75, rt=508.941 log(intensity)=15.5463209694 log(maxo)=13.6441072793 log(intb)=15.4823618629\n",
        "\tFeature feature_id=2226, file_id=0, gt_adduct=None, gt_metabolite=None, intb=11464839.7268, intensity=12580265.2229, mass=138.054970619, maxo=1290988.25, rt=553.011 log(intensity)=16.3476398919 log(maxo)=14.0709185683 log(intb)=16.2547954948\n",
        "\tFeature feature_id=2227, file_id=0, gt_adduct=None, gt_metabolite=None, intb=4960100.47099, intensity=6583211.60245, mass=138.054934473, maxo=303789.90625, rt=592.136 log(intensity)=15.7000332697 log(maxo)=12.6240916436 log(intb)=15.4169365547\n",
        "Peak data 1:10\n",
        "Candidates for DatabaseEntry db_id=StdMix1_7, formula= C7H7NO2, mass=137.047678474, name= 4-Aminobenzoate, rt=0 are \n",
        "\tFeature feature_id=1482, file_id=0, gt_adduct=None, gt_metabolite=None, intb=1860847.21084, intensity=2603017.62338, mass=138.054813808, maxo=345036.3125, rt=437.677 log(intensity)=14.7721819544 log(maxo)=12.7514049441 log(intb)=14.4365424317\n",
        "\tFeature feature_id=1631, file_id=0, gt_adduct=None, gt_metabolite=None, intb=3301813.57305, intensity=3764198.95507, mass=138.054955698, maxo=543480.5625, rt=508.418 log(intensity)=15.1410456356 log(maxo)=13.2057492213 log(intb)=15.0099824431\n",
        "\tFeature feature_id=1859, file_id=0, gt_adduct=None, gt_metabolite=None, intb=6000247.88802, intensity=6745702.55801, mass=138.054968463, maxo=808505, rt=552.726 log(intensity)=15.724416202 log(maxo)=13.6029421423 log(intb)=15.607311341\n",
        "Peak data 1:50\n",
        "Peak data 1:100\n",
        "Peak data 1:1000\n",
        "Peak data 1:1\n",
        "Peak data 1:5\n",
        "Peak data 1:10\n",
        "Peak data 1:50\n",
        "Peak data 1:100"
       ]
      },
      {
       "output_type": "stream",
       "stream": "stdout",
       "text": [
        "\n",
        "Peak data 1:1000\n",
        "Peak data 1:1\n",
        "Peak data 1:5\n",
        "Peak data 1:10\n",
        "Peak data 1:50\n",
        "Peak data 1:100\n",
        "Peak data 1:1000\n",
        "Peak data 1:1\n",
        "Peak data 1:5"
       ]
      },
      {
       "output_type": "stream",
       "stream": "stdout",
       "text": [
        "\n",
        "Peak data 1:10\n",
        "Peak data 1:50\n",
        "Peak data 1:100\n",
        "Peak data 1:1000\n",
        "Peak data 1:1\n",
        "Peak data 1:5\n",
        "Peak data 1:10\n",
        "Peak data 1:50\n",
        "Peak data 1:100"
       ]
      },
      {
       "output_type": "stream",
       "stream": "stdout",
       "text": [
        "\n",
        "Peak data 1:1000\n",
        "Peak data 1:1\n",
        "Peak data 1:5\n",
        "Peak data 1:10\n",
        "Peak data 1:50\n",
        "Peak data 1:100\n",
        "Peak data 1:1000\n",
        "Peak data 1:1\n",
        "Peak data 1:5"
       ]
      },
      {
       "output_type": "stream",
       "stream": "stdout",
       "text": [
        "\n",
        "Peak data 1:10\n",
        "Peak data 1:50\n",
        "Peak data 1:100\n",
        "Peak data 1:1000\n",
        "Peak data 1:1\n",
        "Peak data 1:5\n",
        "Peak data 1:10\n",
        "Peak data 1:50\n",
        "Peak data 1:100"
       ]
      },
      {
       "output_type": "stream",
       "stream": "stdout",
       "text": [
        "\n",
        "Peak data 1:1000\n",
        "Peak data 1:1\n",
        "Peak data 1:5\n",
        "Peak data 1:10\n",
        "Peak data 1:50\n",
        "Peak data 1:100\n",
        "Peak data 1:1000\n",
        "Peak data 1:1\n",
        "Peak data 1:5"
       ]
      },
      {
       "output_type": "stream",
       "stream": "stdout",
       "text": [
        "\n",
        "Peak data 1:10\n",
        "Peak data 1:50\n",
        "Peak data 1:100\n",
        "Peak data 1:1000\n",
        "Peak data 1:1\n",
        "Peak data 1:5\n",
        "Peak data 1:10\n",
        "Peak data 1:50\n",
        "Peak data 1:100"
       ]
      },
      {
       "output_type": "stream",
       "stream": "stdout",
       "text": [
        "\n",
        "Peak data 1:1000\n",
        "Peak data 1:1\n",
        "Candidates for DatabaseEntry db_id=StdMix1_8, formula= C6H5NO2, mass=123.03202841, name= Nicotinate, rt=0 are \n",
        "\tFeature feature_id=1595, file_id=0, gt_adduct=None, gt_metabolite=None, intb=7483633739.41, intensity=7487845095.26, mass=124.039242621, maxo=890650688, rt=405.878 log(intensity)=22.7365468888 log(maxo)=20.6074628637 log(intb)=22.735984305\n",
        "\tFeature feature_id=1839, file_id=0, gt_adduct=None, gt_metabolite=None, intb=44144282.7535, intensity=46877041.6646, mass=124.039309091, maxo=5290807, rt=449.269 log(intensity)=17.6630385968 log(maxo)=15.4814813442 log(intb)=17.6029739807\n",
        "Peak data 1:5\n",
        "Peak data 1:10\n",
        "Peak data 1:50\n",
        "Peak data 1:100\n",
        "Peak data 1:1000\n",
        "Peak data 1:1\n",
        "Peak data 1:5"
       ]
      },
      {
       "output_type": "stream",
       "stream": "stdout",
       "text": [
        "\n",
        "Peak data 1:10\n",
        "Peak data 1:50\n",
        "Peak data 1:100\n",
        "Peak data 1:1000\n",
        "Peak data 1:1\n",
        "Peak data 1:5\n",
        "Peak data 1:10\n",
        "Peak data 1:50\n",
        "Peak data 1:100"
       ]
      },
      {
       "output_type": "stream",
       "stream": "stdout",
       "text": [
        "\n",
        "Peak data 1:1000\n",
        "Peak data 1:1\n",
        "Peak data 1:5\n",
        "Peak data 1:10\n",
        "Peak data 1:50\n",
        "Peak data 1:100\n",
        "Peak data 1:1000\n",
        "Peak data 1:1\n",
        "Peak data 1:5"
       ]
      },
      {
       "output_type": "stream",
       "stream": "stdout",
       "text": [
        "\n",
        "Candidates for DatabaseEntry db_id=StdMix1_83, formula= C12H18N4O7P2S, mass=424.037142668, name= Thiamin diphosphate, rt=0 are \n",
        "\tFeature feature_id=2362, file_id=0, gt_adduct=None, gt_metabolite=None, intb=7461390.22365, intensity=7503602.54917, mass=425.043897926, maxo=402462, rt=609.996 log(intensity)=15.8308938031 log(maxo)=12.9053559614 log(intb)=15.8252523119\n",
        "\tFeature feature_id=2363, file_id=0, gt_adduct=None, gt_metabolite=None, intb=950669.586716, intensity=974755.954878, mass=425.043629939, maxo=85517.6640625, rt=654.508 log(intensity)=13.789942416 log(maxo)=11.3564782308 log(intb)=13.7649218434\n",
        "Peak data 1:10\n",
        "Candidates for DatabaseEntry db_id=StdMix1_83, formula= C12H18N4O7P2S, mass=424.037142668, name= Thiamin diphosphate, rt=0 are \n",
        "\tFeature feature_id=1989, file_id=0, gt_adduct=None, gt_metabolite=None, intb=9532612.62116, intensity=9588332.25876, mass=425.043910242, maxo=593666, rt=612.97 log(intensity)=16.0760575275 log(maxo)=13.2940721506 log(intb)=16.0702293851\n",
        "\tFeature feature_id=1990, file_id=0, gt_adduct=None, gt_metabolite=None, intb=1361717.55984, intensity=1390153.17776, mass=425.043758036, maxo=142322.59375, rt=649.544 log(intensity)=14.1449244989 log(maxo)=11.8658515469 log(intb)=14.1242573726\n",
        "Peak data 1:50\n",
        "Peak data 1:100\n",
        "Peak data 1:1000\n",
        "Peak data 1:1\n",
        "Peak data 1:5\n",
        "Peak data 1:10\n",
        "Peak data 1:50\n",
        "Peak data 1:100"
       ]
      },
      {
       "output_type": "stream",
       "stream": "stdout",
       "text": [
        "\n",
        "Candidates for DatabaseEntry db_id=StdMix1_84, formula= C5H9NO4, mass=147.053157783, name= L-Glutamate, rt=0 are \n",
        "\tFeature feature_id=1485, file_id=0, gt_adduct=None, gt_metabolite=None, intb=3181693.40562, intensity=3270621.55701, mass=148.060379987, maxo=510257.25, rt=606.394 log(intensity)=15.0004906034 log(maxo)=13.1426702893 log(intb)=14.9729241305\n",
        "\tFeature feature_id=1833, file_id=0, gt_adduct=None, gt_metabolite=None, intb=133510.287197, intensity=157999.126934, mass=148.060343767, maxo=40359.796875, rt=1270.82 log(intensity)=11.9703447863 log(maxo)=10.6055894416 log(intb)=11.8019338115\n",
        "Peak data 1:1000\n",
        "Peak data 1:1\n",
        "Peak data 1:5\n",
        "Peak data 1:10\n",
        "Peak data 1:50\n",
        "Peak data 1:100\n",
        "Peak data 1:1000\n",
        "Peak data 1:1\n",
        "Peak data 1:5"
       ]
      },
      {
       "output_type": "stream",
       "stream": "stdout",
       "text": [
        "\n",
        "Peak data 1:10\n",
        "Peak data 1:50\n",
        "Peak data 1:100\n",
        "Peak data 1:1000\n",
        "Peak data 1:1\n",
        "Peak data 1:5\n",
        "Peak data 1:10\n",
        "Peak data 1:50\n",
        "Peak data 1:100"
       ]
      },
      {
       "output_type": "stream",
       "stream": "stdout",
       "text": [
        "\n",
        "Peak data 1:1000\n",
        "Peak data 1:1\n",
        "Candidates for DatabaseEntry db_id=StdMix1_88, formula= C4H6O3, mass=102.031694059, name= 2-oxobutanoate, rt=0 are \n",
        "\tFeature feature_id=1056, file_id=0, gt_adduct=None, gt_metabolite=None, intb=2734155.39811, intensity=2783951.83112, mass=103.038963247, maxo=662168.4375, rt=310.059 log(intensity)=14.8393819982 log(maxo)=13.4032752399 log(intb)=14.8213331338\n",
        "\tFeature feature_id=1933, file_id=0, gt_adduct=None, gt_metabolite=None, intb=9513039.82636, intensity=9560675.00982, mass=103.03894431, maxo=896214.5625, rt=514.979 log(intensity)=16.0731688903 log(maxo)=13.7059351304 log(intb)=16.0681740287\n",
        "Peak data 1:5\n",
        "Peak data 1:10\n",
        "Peak data 1:50\n",
        "Peak data 1:100\n",
        "Peak data 1:1000\n",
        "Peak data 1:1\n",
        "Peak data 1:5"
       ]
      },
      {
       "output_type": "stream",
       "stream": "stdout",
       "text": [
        "\n",
        "Peak data 1:10\n",
        "Peak data 1:50\n",
        "Peak data 1:100\n",
        "Peak data 1:1000\n",
        "Peak data 1:1\n",
        "Peak data 1:5\n",
        "Candidates for DatabaseEntry db_id=StdMix1_9, formula= C17H20N4O6, mass=376.138284396, name= riboflavin, rt=0 are \n",
        "\tFeature feature_id=1297, file_id=0, gt_adduct=None, gt_metabolite=None, intb=1412143.07869, intensity=1439620.28087, mass=377.145155937, maxo=125161.257812, rt=299.731 log(intensity)=14.1798899429 log(maxo)=11.7373582474 log(intb)=14.1606190224\n",
        "\tFeature feature_id=1824, file_id=0, gt_adduct=None, gt_metabolite=None, intb=9564643.92249, intensity=9564664.24149, mass=377.145293088, maxo=975777.25, rt=456.005 log(intensity)=16.0735860574 log(maxo)=13.7909896119 log(intb)=16.073583933\n",
        "Peak data 1:10\n",
        "Candidates for DatabaseEntry db_id=StdMix1_9, formula= C17H20N4O6, mass=376.138284396, name= riboflavin, rt=0 are \n",
        "\tFeature feature_id=1110, file_id=0, gt_adduct=None, gt_metabolite=None, intb=353300.27758, intensity=354090.297302, mass=377.145366549, maxo=70403.2265625, rt=301.46 log(intensity)=12.7773072367 log(maxo)=11.1619943729 log(intb)=12.775073619\n",
        "\tFeature feature_id=1534, file_id=0, gt_adduct=None, gt_metabolite=None, intb=4945975.90884, intensity=4945996.19284, mass=377.145271182, maxo=559896.125, rt=456.624 log(intensity)=15.4140889573 log(maxo)=13.2355065544 log(intb)=15.4140848562\n",
        "Peak data 1:50\n",
        "Peak data 1:100"
       ]
      },
      {
       "output_type": "stream",
       "stream": "stdout",
       "text": [
        "\n",
        "Peak data 1:1000\n",
        "Peak data 1:1\n",
        "Peak data 1:5\n",
        "Peak data 1:10\n",
        "Peak data 1:50\n",
        "Peak data 1:100\n",
        "Peak data 1:1000\n",
        "Peak data 1:1\n",
        "Peak data 1:5"
       ]
      },
      {
       "output_type": "stream",
       "stream": "stdout",
       "text": [
        "\n",
        "Peak data 1:10\n",
        "Peak data 1:50\n",
        "Peak data 1:100\n",
        "Peak data 1:1000\n",
        "Peak data 1:1\n",
        "Peak data 1:5\n",
        "Peak data 1:10\n",
        "Peak data 1:50\n",
        "Peak data 1:100"
       ]
      },
      {
       "output_type": "stream",
       "stream": "stdout",
       "text": [
        "\n",
        "Peak data 1:1000\n",
        "Peak data 1:1\n",
        "Peak data 1:5\n",
        "Peak data 1:10\n",
        "Peak data 1:50\n",
        "Peak data 1:100\n",
        "Peak data 1:1000\n",
        "Peak data 1:1\n",
        "Peak data 1:5"
       ]
      },
      {
       "output_type": "stream",
       "stream": "stdout",
       "text": [
        "\n",
        "Peak data 1:10\n",
        "Peak data 1:50\n",
        "Peak data 1:100\n",
        "Peak data 1:1000\n",
        "Peak data 1:1\n",
        "Peak data 1:5\n",
        "Peak data 1:10\n",
        "Peak data 1:50\n",
        "Peak data 1:100"
       ]
      },
      {
       "output_type": "stream",
       "stream": "stdout",
       "text": [
        "\n",
        "Peak data 1:1000\n",
        "Peak data 1:1\n",
        "Peak data 1:5\n",
        "Peak data 1:10\n",
        "Peak data 1:50\n",
        "Peak data 1:100\n",
        "Peak data 1:1000\n",
        "Peak data 1:1\n",
        "Peak data 1:5"
       ]
      },
      {
       "output_type": "stream",
       "stream": "stdout",
       "text": [
        "\n",
        "Peak data 1:10\n",
        "Peak data 1:50\n",
        "Peak data 1:100\n",
        "Peak data 1:1000\n",
        "Peak data 1:1\n",
        "Peak data 1:5\n",
        "Peak data 1:10\n",
        "Peak data 1:50\n",
        "Peak data 1:100"
       ]
      },
      {
       "output_type": "stream",
       "stream": "stdout",
       "text": [
        "\n",
        "Peak data 1:1000\n",
        "Peak data 1:1\n",
        "Peak data 1:5\n",
        "Peak data 1:10\n",
        "Peak data 1:50\n",
        "Peak data 1:100\n",
        "Peak data 1:1000\n"
       ]
      },
      {
       "metadata": {},
       "output_type": "display_data",
       "png": "[encoded data removed]",
       "text": [
        "<matplotlib.figure.Figure at 0x7fd568122110>"
       ]
      }
     ],
     "prompt_number": 123
    },
    {
     "cell_type": "code",
     "collapsed": false,
     "input": [
      "for d in range(len(database)):\n",
      "    db_entry = database[d]\n",
      "    print db_entry\n",
      "    print results[d, :]"
     ],
     "language": "python",
     "metadata": {},
     "outputs": [
      {
       "output_type": "stream",
       "stream": "stdout",
       "text": [
        "DatabaseEntry db_id=StdMix1_1, formula= C7H19N3, mass=145.157897626, name= Spermidine, rt=0\n",
        "[ 21.78127633   0.           0.           0.           0.          19.10809785]\n",
        "DatabaseEntry db_id=StdMix1_10, formula= C3H8O3, mass=92.0473441234, name= Glycerol, rt=0\n",
        "[ 16.45900064  14.70161704  14.08536869   0.           0.           0.        ]\n",
        "DatabaseEntry db_id=StdMix1_100, formula= C27H46O, mass=386.354866101, name= Cholesterol, rt=0\n",
        "[ 0.  0.  0.  0.  0.  0.]\n",
        "DatabaseEntry db_id=StdMix1_101, formula= C4H10O, mass=74.0731649435, name= 1-Butanol, rt=0\n",
        "[ 0.  0.  0.  0.  0.  0.]\n",
        "DatabaseEntry db_id=StdMix1_102, formula= C4H4O5, mass=132.005873239, name= Oxaloacetate, rt=0\n",
        "[ 0.  0.  0.  0.  0.  0.]\n",
        "DatabaseEntry db_id=StdMix1_103, formula= C3H4N2, mass=68.037448139, name= Imidazole, rt=0\n",
        "[ 0.  0.  0.  0.  0.  0.]\n",
        "DatabaseEntry db_id=StdMix1_104, formula= C3H6O3, mass=90.0316940591, name= glyceraldehyde, rt=0\n",
        "[ 0.  0.  0.  0.  0.  0.]\n",
        "DatabaseEntry db_id=StdMix1_11, formula= C10H12N4O5, mass=268.080769517, name= Inosine, rt=0\n",
        "[ 20.30556699  18.88802092  18.26776197  16.30941665  15.66896027\n",
        "  12.5955132 ]\n",
        "DatabaseEntry db_id=StdMix1_12, formula= C9H11NO2, mass=165.078978603, name= L-Phenylalanine, rt=0\n",
        "[ 20.98555356  18.49715409  17.67008074  15.82474945  15.25600617\n",
        "  14.43343159]\n",
        "DatabaseEntry db_id=StdMix1_13, formula= C6H13NO2, mass=131.094628667, name= L-Leucine, rt=0\n",
        "[ 20.93283928  19.15698432  18.01650647  16.18071507  15.75837356   0.        ]\n",
        "DatabaseEntry db_id=StdMix1_14, formula= C11H12N2O2, mass=204.08987764, name= L-Tryptophan, rt=0\n",
        "[ 20.64363048  18.10238574  17.04630781  14.6716858   14.32303058\n",
        "  12.87619476]\n",
        "DatabaseEntry db_id=StdMix1_15, formula= C8H9NO2, mass=151.063328539, name= 2-Phenylglycine, rt=0\n",
        "[ 20.78704389  20.14881621  19.65568835  17.84499128  17.20897905\n",
        "  14.99671026]\n",
        "DatabaseEntry db_id=StdMix1_16, formula= C5H11NO2Se, mass=196.995500403, name= Selenomethionine, rt=0\n",
        "[ 20.52461234  17.79927552  16.77017331  14.32179956  13.32205815   0.        ]\n",
        "DatabaseEntry db_id=StdMix1_17, formula= C5H11NO2S, mass=149.051049293, name= L-Methionine, rt=0\n",
        "[ 21.44101653  19.16892352  18.11656556  15.9342145   15.09929696\n",
        "  12.58506645]\n",
        "DatabaseEntry db_id=StdMix1_18, formula= C5H5N5O, mass=151.049409809, name= Guanine, rt=0\n",
        "[ 20.10974734  18.44280175  17.8591632   15.79867996  15.19639414   0.        ]\n",
        "DatabaseEntry db_id=StdMix1_19, formula= C8H11NO3, mass=169.073893225, name= Pyridoxine, rt=0\n",
        "[ 24.266452    23.61279809  23.10118183  21.2411875   20.58716193\n",
        "  18.01378618]\n",
        "DatabaseEntry db_id=StdMix1_2, formula= C5H6N2O2, mass=126.042927448, name= Imidazole-4-acetate, rt=0\n",
        "[ 23.05206871  21.38132901  20.8056717   18.53101068  17.88383581\n",
        "  16.10932619]\n",
        "DatabaseEntry db_id=StdMix1_20, formula= C5H11NO2, mass=117.078978603, name= L-Valine, rt=0\n",
        "[ 21.09714665  18.73985624  18.28560195  18.30948378  18.3378508\n",
        "  18.24539728]\n",
        "DatabaseEntry db_id=StdMix1_21, formula= C5H5N5, mass=135.054495187, name= Adenine, rt=0\n",
        "[ 22.86479749  21.56103768  21.17623638  19.77930844  19.26313581\n",
        "  17.1623112 ]\n",
        "DatabaseEntry db_id=StdMix1_22, formula= C5H9NO2, mass=115.063328539, name= L-Proline, rt=0\n",
        "[ 22.65445581  20.75218293  19.92780364  18.43107777  18.10152485\n",
        "  17.84620369]\n",
        "DatabaseEntry db_id=StdMix1_23, formula= C10H12N2O, mass=176.094963018, name= Serotonin, rt=0\n",
        "[ 14.78755487  19.78671318  18.32014329  20.52787336  17.29157581   0.        ]\n",
        "DatabaseEntry db_id=StdMix1_24, formula= C2H7NO3S, mass=125.014663787, name= Taurine, rt=0\n",
        "[ 18.00531727  16.14137516  15.47161483  13.1324293   11.96501286   0.        ]\n",
        "DatabaseEntry db_id=StdMix1_25, formula= C5H9NO3, mass=131.058243161, name= trans-4-Hydroxy-L-proline, rt=0\n",
        "[ 21.19445125  18.86427541  18.61754096  16.74056289  16.16216461\n",
        "  14.594881  ]\n",
        "DatabaseEntry db_id=StdMix1_26, formula= C4H7N3O, mass=113.058911863, name= Creatinine, rt=0\n",
        "[ 23.21678421  22.89065674  22.4532373   20.93658357  20.41523772\n",
        "  18.54309925]\n",
        "DatabaseEntry db_id=StdMix1_27, formula= C8H16N2O3, mass=188.116092391, name= N2-Acetyl-L-lysine, rt=0\n",
        "[ 22.45462604  19.4011269   18.7592593   16.39182428  15.89708853\n",
        "  14.48824828]\n",
        "DatabaseEntry db_id=StdMix1_28, formula= C4H9NO3, mass=119.058243161, name= L-Threonine, rt=0\n",
        "[ 19.77006713  17.2132806   17.1628512   15.73245743  15.95260686\n",
        "  15.08164091]\n",
        "DatabaseEntry db_id=StdMix1_29, formula= C4H7NO4, mass=133.037507719, name= L-Aspartate, rt=0\n",
        "[ 16.53737453  15.0151026   15.3304305   13.84450274  13.41301088   0.        ]\n",
        "DatabaseEntry db_id=StdMix1_3, formula= C8H15NO6, mass=221.08993722, name= N-Acetyl-D-glucosamine, rt=0\n",
        "[ 20.00799693  17.96558789  17.27608195  15.38988146  14.85679003   0.        ]\n",
        "DatabaseEntry db_id=StdMix1_30, formula= C5H10N2O3, mass=146.069142198, name= L-Glutamine, rt=0\n",
        "[ 20.84555686  18.58892523  18.73005496  17.05817016  16.58927845\n",
        "  15.31863225]\n",
        "DatabaseEntry db_id=StdMix1_31, formula= C3H7NO2, mass=89.0476784744, name= beta-Alanine, rt=0\n",
        "[ 19.81246357  17.79068095  17.31476075   0.           0.           0.        ]\n",
        "DatabaseEntry db_id=StdMix1_32, formula= C4H8N2O3, mass=132.053492134, name= L-Asparagine, rt=0\n",
        "[ 18.17777899  15.93558302  16.14701249  14.51134499  14.12279132   0.        ]\n",
        "DatabaseEntry db_id=StdMix1_33, formula= C10H14N5O7P, mass=347.063084343, name= dGMP, rt=0\n",
        "[ 17.67852925  14.88745756  15.10556076  13.22498625  12.37927333   0.        ]\n",
        "DatabaseEntry db_id=StdMix1_34, formula= C3H7NO3, mass=105.042593097, name= L-Serine, rt=0\n",
        "[ 17.79417708  15.3055216   15.47045959  14.31883279  14.28260193\n",
        "  13.94754239]\n",
        "DatabaseEntry db_id=StdMix1_35, formula= C6H13N3O3, mass=175.0956913, name= L-Citrulline, rt=0\n",
        "[ 20.1431644   17.83597298  18.07378159  16.47918622  15.91340337\n",
        "  14.52112351]\n",
        "DatabaseEntry db_id=StdMix1_36, formula= C9H13N3O5, mass=243.085520544, name= Cytidine, rt=0\n",
        "[ 20.84352348  19.15612997  18.50019943  16.29241631  15.54543558\n",
        "  13.42571099]\n",
        "DatabaseEntry db_id=StdMix1_37, formula= C2H8NO4P, mass=141.019094263, name= Ethanolamine phosphate, rt=0\n",
        "[ 16.26247197  14.88048339  15.15453505  13.33427524   0.           0.        ]\n",
        "DatabaseEntry db_id=StdMix1_38, formula= C2H5NO2, mass=75.0320284101, name= Glycine, rt=0\n",
        "[ 16.37961164  13.73838733  13.94834307  12.4096176    0.           0.        ]\n",
        "DatabaseEntry db_id=StdMix1_39, formula= C8H20NO6P, mass=257.102823893, name= sn-glycero-3-Phosphocholine, rt=0\n",
        "[ 22.53457919  18.99735544  18.45403204  16.35152096  15.99533096\n",
        "  14.98665315]\n",
        "DatabaseEntry db_id=StdMix1_4, formula= C12H10O2, mass=186.068079566, name= 1-Naphthylacetic acid, rt=0\n",
        "[ 0.  0.  0.  0.  0.  0.]\n",
        "DatabaseEntry db_id=StdMix1_40, formula= C6H12N2O4S2, mass=240.023848265, name= L-Cystine, rt=0\n",
        "[ 16.53613338  14.11375029  14.26818792  12.28216525   0.           0.        ]\n",
        "DatabaseEntry db_id=StdMix1_41, formula= C6H13NO5, mass=179.079372534, name= D-Glucosamine, rt=0\n",
        "[ 18.98599592  18.1127699   18.29476989  16.49902916  16.0684392\n",
        "  13.16274922]\n",
        "DatabaseEntry db_id=StdMix1_42, formula= C7H14N2O4, mass=190.095356949, name= meso-2_6-Diaminoheptanedioate, rt=0\n",
        "[ 18.68246032  16.08614081  16.2385245   14.49264505  13.96261792   0.        ]\n",
        "DatabaseEntry db_id=StdMix1_43, formula= C6H9N3O2, mass=155.069476549, name= L-Histidine, rt=0\n",
        "[ 21.39667661  19.39850972  19.62317655  17.93879781  17.75219983   0.        ]\n",
        "DatabaseEntry db_id=StdMix1_44, formula= C4H10N2O2, mass=118.074227576, name= L-2_4-Diaminobutanoate, rt=0\n",
        "[ 17.41430243   0.          16.19040773   0.           0.           0.        ]\n",
        "DatabaseEntry db_id=StdMix1_45, formula= C6H14N2O2, mass=146.105527705, name= L-Lysine, rt=0\n",
        "[ 19.03161922  16.65379182  16.81395246  15.18805481  14.76837199\n",
        "  13.87625773]\n",
        "DatabaseEntry db_id=StdMix1_46, formula= C6H14N4O2, mass=174.111675715, name= L-Arginine, rt=0\n",
        "[ 21.3217539   19.16651733  19.31032249  17.7840771   17.30607723\n",
        "  15.96234652]\n",
        "DatabaseEntry db_id=StdMix1_47, formula= C12H16N4OS, mass=264.104481847, name= Thiamin, rt=0\n",
        "[ 21.36951178   0.          19.38672401  17.04149604   0.           0.        ]\n",
        "DatabaseEntry db_id=StdMix1_48, formula= C15H22N6O5S, mass=398.137238539, name= S-Adenosyl-L-methionine, rt=0\n",
        "[ 0.  0.  0.  0.  0.  0.]\n",
        "DatabaseEntry db_id=StdMix1_49, formula= C4H12N2, mass=88.1000483962, name= Putrescine, rt=0\n",
        "[  0.           0.          18.35684359   0.           0.          19.02012071]\n",
        "DatabaseEntry db_id=StdMix1_5, formula= C13H16N2O2, mass=232.121177769, name= Melatonin, rt=0\n",
        "[ 23.72709826  22.74923522  22.14599027  20.49880749  19.94855281\n",
        "  17.59282232]\n",
        "DatabaseEntry db_id=StdMix1_50, formula= C9H8O3, mass=164.047344123, name= 4-Coumarate, rt=0\n",
        "[ 15.98247915  16.03574207  15.51010659  13.99330582  13.37934658   0.        ]\n",
        "DatabaseEntry db_id=StdMix1_51, formula= C4H8O3, mass=104.047344123, name= (R)-3-Hydroxybutanoate, rt=0\n",
        "[ 0.  0.  0.  0.  0.  0.]\n",
        "DatabaseEntry db_id=StdMix1_52, formula= C8H6O4, mass=166.026608681, name= Phthalate, rt=0\n",
        "[ 17.2838172   16.30562218  15.64006721  13.6097832   13.05810707   0.        ]\n",
        "DatabaseEntry db_id=StdMix1_53, formula= C4H4O4, mass=116.010958617, name= Fumarate, rt=0\n",
        "[ 0.  0.  0.  0.  0.  0.]\n",
        "DatabaseEntry db_id=StdMix1_54, formula= C4H6O4, mass=118.026608681, name= Methylmalonate, rt=0\n",
        "[ 0.  0.  0.  0.  0.  0.]\n",
        "DatabaseEntry db_id=StdMix1_55, formula= C8H8O4, mass=168.042258746, name= 3_4-Dihydroxyphenylacetate, rt=0\n",
        "[  0.           0.           0.          12.74737016   0.          13.02934809]\n",
        "DatabaseEntry db_id=StdMix1_56, formula= C10H14N2O5, mass=242.090271571, name= Thymidine, rt=0\n",
        "[ 18.24250112  16.48804547  15.85804606  14.00502117  13.46782771   0.        ]\n",
        "DatabaseEntry db_id=StdMix1_57, formula= C19H14O5S, mass=354.05619425, name= Phenolsulfonphthalein, rt=0\n",
        "[ 19.84918008  17.73687192  17.02839294  15.12046837  14.46015323   0.        ]\n",
        "DatabaseEntry db_id=StdMix1_58, formula= C3H4O3, mass=88.0160439949, name= Pyruvate, rt=0\n",
        "[ 0.  0.  0.  0.  0.  0.]\n",
        "DatabaseEntry db_id=StdMix1_59, formula= C3H4O4, mass=104.010958617, name= Malonate, rt=0\n",
        "[ 0.  0.  0.  0.  0.  0.]\n",
        "DatabaseEntry db_id=StdMix1_6, formula= C6H8N2, mass=108.068748268, name= Phenylhydrazine, rt=0\n",
        "[ 16.69532211  16.19386161  15.87581931   0.           0.           0.        ]\n",
        "DatabaseEntry db_id=StdMix1_60, formula= C5H8O5, mass=148.037173368, name= (R)-2-Hydroxyglutarate, rt=0\n",
        "[ 0.  0.  0.  0.  0.  0.]\n",
        "DatabaseEntry db_id=StdMix1_61, formula= C9H12N2O5, mass=228.074621507, name= Deoxyuridine, rt=0\n",
        "[ 16.5346615   15.46591569  14.75780372  12.74561828  11.82594844   0.        ]\n",
        "DatabaseEntry db_id=StdMix1_62, formula= C5H4N2O2, mass=124.027277383, name= pyrazinoate, rt=0\n",
        "[ 0.  0.  0.  0.  0.  0.]\n",
        "DatabaseEntry db_id=StdMix1_63, formula= C5H4N4O2, mass=152.033425394, name= Xanthine, rt=0\n",
        "[ 0.  0.  0.  0.  0.  0.]\n",
        "DatabaseEntry db_id=StdMix1_64, formula= C7H6O5, mass=170.021523303, name= Gallate, rt=0\n",
        "[ 0.  0.  0.  0.  0.  0.]\n",
        "DatabaseEntry db_id=StdMix1_65, formula= C9H12N2O6, mass=244.069536129, name= Uridine, rt=0\n",
        "[ 15.98761387   0.           0.           0.           0.           0.        ]\n",
        "DatabaseEntry db_id=StdMix1_66, formula= C6H6O6, mass=174.016437925, name= cis-Aconitate, rt=0\n",
        "[ 14.41945705   0.           0.           0.           0.           0.        ]\n",
        "DatabaseEntry db_id=StdMix1_67, formula= C6H12O5, mass=164.068473496, name= L-Rhamnose, rt=0\n",
        "[ 14.91909891  13.24870601  12.9295156    0.           0.           0.        ]\n",
        "DatabaseEntry db_id=StdMix1_68, formula= C5H4N2O4, mass=156.017106627, name= Orotate, rt=0\n",
        "[ 0.  0.  0.  0.  0.  0.]\n",
        "DatabaseEntry db_id=StdMix1_69, formula= C7H15NO4S, mass=209.072178666, name= MOPS, rt=0\n",
        "[ 22.44755985  21.11682975  20.52992751  18.56596127  17.98490696\n",
        "  15.49443576]\n",
        "DatabaseEntry db_id=StdMix1_7, formula= C7H7NO2, mass=137.047678474, name= 4-Aminobenzoate, rt=0\n",
        "[ 17.96229809  16.34763989  15.7244162   15.01479374  14.94134042\n",
        "  15.02374888]\n",
        "DatabaseEntry db_id=StdMix1_70, formula= C6H12O7, mass=196.05830274, name= D-Gluconic acid, rt=0\n",
        "[ 0.  0.  0.  0.  0.  0.]\n",
        "DatabaseEntry db_id=StdMix1_71, formula= C8H10NO6P, mass=247.024573571, name= Pyridoxal phosphate, rt=0\n",
        "[ 18.04059036   0.           0.           0.           0.           0.        ]\n",
        "DatabaseEntry db_id=StdMix1_72, formula= C6H10O7, mass=194.042652676, name= D-Galacturonate, rt=0\n",
        "[ 0.  0.  0.  0.  0.  0.]\n",
        "DatabaseEntry db_id=StdMix1_73, formula= C6H10O8, mass=210.037567298, name= D-Galactarate, rt=0\n",
        "[ 0.  0.  0.  0.  0.  0.]\n",
        "DatabaseEntry db_id=StdMix1_74, formula= C10H12N5O6P, mass=329.052519656, name= 3'_5'-Cyclic AMP, rt=0\n",
        "[ 20.24857635  17.12521234  16.87999276  14.93217726  14.27197171   0.        ]\n",
        "DatabaseEntry db_id=StdMix1_75, formula= C9H13N2O9P, mass=324.035866539, name= UMP, rt=0\n",
        "[ 17.91675383  14.14757302  14.34429163   0.           0.           0.        ]\n",
        "DatabaseEntry db_id=StdMix1_76, formula= C10H13N4O8P, mass=348.047099928, name= IMP, rt=0\n",
        "[ 17.55440346   0.           0.           0.           0.           0.        ]\n",
        "DatabaseEntry db_id=StdMix1_77, formula= C3H7NO5S, mass=169.004493031, name= L-Cysteate, rt=0\n",
        "[ 19.2591673   16.61511109  16.84295549  15.0575869   14.43767718\n",
        "  12.06741251]\n",
        "DatabaseEntry db_id=StdMix1_78, formula= C5H11O8P, mass=230.019153842, name= D-ribose 5-phosphate, rt=0\n",
        "[ 15.03092649   0.           0.           0.           0.           0.        ]\n",
        "DatabaseEntry db_id=StdMix1_79, formula= C9H14N3O8P, mass=323.051850954, name= CMP, rt=0\n",
        "[ 18.04756528  15.37512558  15.44715738  13.64038747  12.75622864   0.        ]\n",
        "DatabaseEntry db_id=StdMix1_8, formula= C6H5NO2, mass=123.03202841, name= Nicotinate, rt=0\n",
        "[ 22.73654689  21.89587792  21.37553662  19.45655772  18.82297763\n",
        "  16.95799204]\n",
        "DatabaseEntry db_id=StdMix1_80, formula= C6H13O9P, mass=260.029718529, name= D-glucose 6-phosphate, rt=0\n",
        "[ 15.59697912  12.81286253  12.85846633   0.           0.           0.        ]\n",
        "DatabaseEntry db_id=StdMix1_81, formula= C3H5O6P, mass=167.982374405, name= Phosphoenolpyruvate, rt=0\n",
        "[ 16.81107141  13.75056098  14.1541342   11.77140091   0.           0.        ]\n",
        "DatabaseEntry db_id=StdMix1_82, formula= C6H13O10P, mass=276.024633151, name= 6-Phospho-D-gluconate, rt=0\n",
        "[  0.          12.52617094  12.28987934   0.           0.           0.        ]\n",
        "DatabaseEntry db_id=StdMix1_83, formula= C12H18N4O7P2S, mass=424.037142668, name= Thiamin diphosphate, rt=0\n",
        "[  0.          15.8308938   16.07605753  14.05028896  11.85817759   0.        ]\n",
        "DatabaseEntry db_id=StdMix1_84, formula= C5H9NO4, mass=147.053157783, name= L-Glutamate, rt=0\n",
        "[ 19.52663221  16.88916629  17.06107597  15.45588659  15.0004906\n",
        "  13.91836117]\n",
        "DatabaseEntry db_id=StdMix1_85, formula= C6H12O6, mass=180.063388118, name= D-glucose, rt=0\n",
        "[ 0.  0.  0.  0.  0.  0.]\n",
        "DatabaseEntry db_id=StdMix1_86, formula= C4H8O4, mass=120.042258746, name= D-Erythrose, rt=0\n",
        "[ 0.  0.  0.  0.  0.  0.]\n",
        "DatabaseEntry db_id=StdMix1_87, formula= C12H22O11, mass=342.11621155, name= Maltose, rt=0\n",
        "[ 0.  0.  0.  0.  0.  0.]\n",
        "DatabaseEntry db_id=StdMix1_88, formula= C4H6O3, mass=102.031694059, name= 2-oxobutanoate, rt=0\n",
        "[ 16.07316889  14.31290356  13.45375565   0.           0.           0.        ]\n",
        "DatabaseEntry db_id=StdMix1_89, formula= C7H10O7, mass=206.042652676, name= 2-Methylcitrate, rt=0\n",
        "[ 13.94398437   0.           0.           0.           0.           0.        ]\n",
        "DatabaseEntry db_id=StdMix1_9, formula= C17H20N4O6, mass=376.138284396, name= riboflavin, rt=0\n",
        "[ 18.02021488  16.07358606  15.41408896  12.8739151    0.           0.        ]\n",
        "DatabaseEntry db_id=StdMix1_90, formula= C2H2O3, mass=74.0003939306, name= Glyoxylate, rt=0\n",
        "[ 0.  0.  0.  0.  0.  0.]\n",
        "DatabaseEntry db_id=StdMix1_91, formula= C2H4O3, mass=76.0160439949, name= glycolate, rt=0\n",
        "[ 0.  0.  0.  0.  0.  0.]\n",
        "DatabaseEntry db_id=StdMix1_92, formula= C3H4O2, mass=72.0211293728, name= methylglyoxal, rt=0\n",
        "[ 12.84538325   0.           0.           0.           0.           0.        ]\n",
        "DatabaseEntry db_id=StdMix1_93, formula= C10H14N4O11P2, mass=428.013430338, name= IDP, rt=0\n",
        "[ 16.41779335   0.          13.18556038   0.           0.           0.        ]\n",
        "DatabaseEntry db_id=StdMix1_94, formula= C10H15N5O10P2, mass=427.029414753, name= ADP, rt=0\n",
        "[ 17.24620989  14.24035019  14.70247851   0.           0.           0.        ]\n",
        "DatabaseEntry db_id=StdMix1_95, formula= C6H14O12P2, mass=339.996048939, name= D-Fructose 1_6-bisphosphate, rt=0\n",
        "[ 0.  0.  0.  0.  0.  0.]\n",
        "DatabaseEntry db_id=StdMix1_96, formula= C21H36N7O16P3S, mass=767.115208373, name= CoA, rt=0\n",
        "[ 0.  0.  0.  0.  0.  0.]\n",
        "DatabaseEntry db_id=StdMix1_97, formula= C3H8O10P2, mass=265.959269502, name= 2_3-Bisphospho-D-glycerate, rt=0\n",
        "[ 0.  0.  0.  0.  0.  0.]\n",
        "DatabaseEntry db_id=StdMix1_98, formula= C8H8O3, mass=152.047344123, name= 3-Hydroxyphenylacetate, rt=0\n",
        "[  0.           0.           0.           0.          11.57279542   0.        ]\n",
        "DatabaseEntry db_id=StdMix1_99, formula= C5H10O4, mass=134.05790881, name= Deoxyribose, rt=0\n",
        "[ 16.3853456   14.50049818  13.74569428   0.           0.           0.        ]\n"
       ]
      }
     ],
     "prompt_number": 124
    },
    {
     "cell_type": "code",
     "collapsed": false,
     "input": [],
     "language": "python",
     "metadata": {},
     "outputs": [],
     "prompt_number": 124
    }
   ],
   "metadata": {}
  }
 ]
}