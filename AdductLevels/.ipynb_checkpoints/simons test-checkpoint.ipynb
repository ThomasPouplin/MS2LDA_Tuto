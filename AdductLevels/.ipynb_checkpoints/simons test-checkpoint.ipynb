{
 "metadata": {
  "name": "",
  "signature": "sha256:54d3ddbf23b681fc825f75907b8961aaeee26fa7d96b2112e1ee507eb668e4b0"
 },
 "nbformat": 3,
 "nbformat_minor": 0,
 "worksheets": [
  {
   "cells": [
    {
     "cell_type": "markdown",
     "metadata": {},
     "source": [
      "<p>Load things</p>"
     ]
    },
    {
     "cell_type": "code",
     "collapsed": false,
     "input": [
      "import sys\n",
      "import numpy as np\n",
      "basedir = '../'\n",
      "database_file = basedir + 'discretisation/database/std1_mols.csv'\n",
      "sys.path.append(basedir)\n",
      "from discretisation import utils\n",
      "inputfile = \"./dilutions_data/Positive/Std1/Std1_1.txt\"\n",
      "\n",
      "def num(s):\n",
      "    if isinstance(s, np.ndarray):\n",
      "        return np.asscalar(s)    \n",
      "    try:\n",
      "        return int(s)\n",
      "    except ValueError:\n",
      "        return float(s)"
     ],
     "language": "python",
     "metadata": {},
     "outputs": [],
     "prompt_number": 101
    },
    {
     "cell_type": "code",
     "collapsed": false,
     "input": [
      "f = open(inputfile,'r')\n",
      "mass = []\n",
      "rt = []\n",
      "intensity = []\n",
      "f.readline()\n",
      "for line in f:\n",
      "    a = line.split(\"\\t\")\n",
      "    mass.append(num(a[0]))\n",
      "    rt.append(num(a[1]))\n",
      "    intensity.append(num(a[2]))\n",
      "f.close()\n",
      "mass = np.array(mass)\n",
      "rt = np.array(rt)"
     ],
     "language": "python",
     "metadata": {},
     "outputs": [],
     "prompt_number": 102
    },
    {
     "cell_type": "code",
     "collapsed": false,
     "input": [
      "molname = []\n",
      "molmass = []\n",
      "molform = []\n",
      "f = open(database_file,'r')\n",
      "for line in f:\n",
      "    sl = line.split(',')\n",
      "    molname.append(sl[1])\n",
      "    molform.append(sl[2])\n",
      "    molmass.append(num(sl[3]))\n",
      "\n",
      "molmass = np.array(molmass)"
     ],
     "language": "python",
     "metadata": {},
     "outputs": [],
     "prompt_number": 103
    },
    {
     "cell_type": "markdown",
     "metadata": {},
     "source": [
      "<p>define a match function</p>"
     ]
    },
    {
     "cell_type": "code",
     "collapsed": false,
     "input": [
      "def match(mass1,mass2,tol):\n",
      "    return np.abs((mass1-mass2)/mass1)<tol*1e-6"
     ],
     "language": "python",
     "metadata": {},
     "outputs": [],
     "prompt_number": 104
    },
    {
     "cell_type": "markdown",
     "metadata": {},
     "source": [
      "<p>match each database mass with the measured mass - proton_mass at different tols. Log how many database molecules are hit (note that any one here could be hit more than once - it will stil only count as one</p>"
     ]
    },
    {
     "cell_type": "code",
     "collapsed": false,
     "input": [
      "proton_mass = 1.00727645199076\n",
      "tol = np.array([1,2,3,4,5,10,20,30,40,50])\n",
      "nHits = []\n",
      "found = np.zeros((molmass.size,mass.size))\n",
      "for t in tol:\n",
      "    found = np.zeros((molmass.size,mass.size))\n",
      "    for m in np.arange(molmass.size):\n",
      "        found[m,:] = match(molmass[m],mass-proton_mass,t)\n",
      "    s = found.sum(axis=1)\n",
      "    nHits.append(np.flatnonzero(s).size)\n",
      "\n",
      "nHits = np.array(nHits)"
     ],
     "language": "python",
     "metadata": {},
     "outputs": [],
     "prompt_number": 105
    },
    {
     "cell_type": "markdown",
     "metadata": {},
     "source": [
      "<p>Plot the tolerance (ppm) versus the nubmber of hits</p>"
     ]
    },
    {
     "cell_type": "code",
     "collapsed": false,
     "input": [
      "import pylab as plt\n",
      "%matplotlib inline\n",
      "\n",
      "\n",
      "plt.plot(tol,nHits)"
     ],
     "language": "python",
     "metadata": {},
     "outputs": [
      {
       "metadata": {},
       "output_type": "pyout",
       "prompt_number": 106,
       "text": [
        "[<matplotlib.lines.Line2D at 0x10675cdd0>]"
       ]
      },
      {
       "metadata": {},
       "output_type": "display_data",
       "png": "[encoded data removed]",
       "text": [
        "<matplotlib.figure.Figure at 0x106780f50>"
       ]
      }
     ],
     "prompt_number": 106
    },
    {
     "cell_type": "code",
     "collapsed": false,
     "input": [],
     "language": "python",
     "metadata": {},
     "outputs": [
      {
       "output_type": "stream",
       "stream": "stdout",
       "text": [
        "10857.5478516\n"
       ]
      }
     ],
     "prompt_number": 84
    },
    {
     "cell_type": "code",
     "collapsed": false,
     "input": [],
     "language": "python",
     "metadata": {},
     "outputs": []
    }
   ],
   "metadata": {}
  }
 ]
}