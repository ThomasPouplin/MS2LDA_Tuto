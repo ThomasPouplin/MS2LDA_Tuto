{
 "metadata": {
  "name": "",
  "signature": "sha256:e4dfa963a3cb91e3501081f44596fd50e84c412dc7821ae7c075548be1ef8378"
 },
 "nbformat": 3,
 "nbformat_minor": 0,
 "worksheets": [
  {
   "cells": [
    {
     "cell_type": "markdown",
     "metadata": {},
     "source": [
      "Import stuff"
     ]
    },
    {
     "cell_type": "code",
     "collapsed": false,
     "input": [
      "import sys\n",
      "basedir = '../'\n",
      "sys.path.append(basedir) # need to do this to be able to import the stuff below\n",
      "\n",
      "from discretisation.continuous_mass_clusterer import ContinuousVB\n",
      "from discretisation.models import HyperPars\n",
      "from discretisation.preprocessing import FileLoader\n",
      "from discretisation import utils\n",
      "%pylab inline"
     ],
     "language": "python",
     "metadata": {},
     "outputs": [
      {
       "output_type": "stream",
       "stream": "stdout",
       "text": [
        "Populating the interactive namespace from numpy and matplotlib\n"
       ]
      }
     ],
     "prompt_number": 11
    },
    {
     "cell_type": "markdown",
     "metadata": {},
     "source": [
      "Say which dilution files to load"
     ]
    },
    {
     "cell_type": "code",
     "collapsed": false,
     "input": [
      "basedir = '.'\n",
      "dilutions = [\"1:1\", \"1:5\", \"1:10\", \"1:50\", \"1:100\", \"1:1000\"]\n",
      "stdfile = 'Std3'\n",
      "input_files = [\n",
      "    basedir + '/dilutions_data/Positive/' + stdfile.lower() + '/' + stdfile + '_1.csv',\n",
      "    basedir + '/dilutions_data/Positive/' + stdfile.lower() + '/' + stdfile + '_1in5.csv',\n",
      "    basedir + '/dilutions_data/Positive/' + stdfile.lower() + '/' + stdfile + '_1in10.csv',\n",
      "    basedir + '/dilutions_data/Positive/' + stdfile.lower() + '/' + stdfile + '_1in50.csv',\n",
      "    basedir + '/dilutions_data/Positive/' + stdfile.lower() + '/' + stdfile + '_1in100.csv',\n",
      "    basedir + '/dilutions_data/Positive/' + stdfile.lower() + '/' + stdfile + '_1in1000.csv'\n",
      "]\n",
      "assert len(input_files) == len(dilutions)\n",
      "database_file = basedir + '/database/' + stdfile.lower() + '_mols.csv'\n",
      "transformation_file = basedir + '/mulsubs/mulsub2.txt'    \n",
      "\n",
      "# for binning\n",
      "mass_tol = 2 \n",
      "rt_tol = 5\n",
      "\n",
      "# for identification\n",
      "identify_tol = 2"
     ],
     "language": "python",
     "metadata": {},
     "outputs": [],
     "prompt_number": 12
    },
    {
     "cell_type": "markdown",
     "metadata": {},
     "source": [
      "Load and cluster all the files"
     ]
    },
    {
     "cell_type": "code",
     "collapsed": false,
     "input": [
      "def load_and_cluster(input_file, database_file, transformation_file, mass_tol, rt_tol):\n",
      "        print \"Loading \" + input_file\n",
      "        loader = FileLoader()        \n",
      "        peak_data = loader.load_model_input(input_file, database_file, transformation_file, mass_tol, rt_tol, make_bins=True)\n",
      "        print \"Clustering \" + input_file\n",
      "        hp = HyperPars()\n",
      "        cluster_model = ContinuousVB(peak_data, hp)\n",
      "        cluster_model.n_iterations = 20\n",
      "        print cluster_model\n",
      "        cluster_model.run()    \n",
      "        return peak_data, cluster_model"
     ],
     "language": "python",
     "metadata": {},
     "outputs": [],
     "prompt_number": 13
    },
    {
     "cell_type": "code",
     "collapsed": false,
     "input": [
      "L = len(dilutions)    \n",
      "filemap = {}\n",
      "for j in range(L):\n",
      "    dil = dilutions[j]\n",
      "    input_file = input_files[j]\n",
      "    load_res = load_and_cluster(input_file, database_file, transformation_file, mass_tol, rt_tol)\n",
      "    filemap[dil] = load_res    "
     ],
     "language": "python",
     "metadata": {},
     "outputs": [
      {
       "output_type": "stream",
       "stream": "stdout",
       "text": [
        "Loading ./dilutions_data/Positive/std3/Std3_1.csv\n",
        "3495 features read"
       ]
      },
      {
       "output_type": "stream",
       "stream": "stdout",
       "text": [
        "\n",
        "Discretising at mass_tol=2, rt_tol=5\n",
        ". "
       ]
      },
      {
       "output_type": "stream",
       "stream": "stdout",
       "text": [
        ". "
       ]
      },
      {
       "output_type": "stream",
       "stream": "stdout",
       "text": [
        ". "
       ]
      },
      {
       "output_type": "stream",
       "stream": "stdout",
       "text": [
        ". "
       ]
      },
      {
       "output_type": "stream",
       "stream": "stdout",
       "text": [
        ". "
       ]
      },
      {
       "output_type": "stream",
       "stream": "stdout",
       "text": [
        ". "
       ]
      },
      {
       "output_type": "stream",
       "stream": "stdout",
       "text": [
        ". "
       ]
      },
      {
       "output_type": "stream",
       "stream": "stdout",
       "text": [
        ". "
       ]
      },
      {
       "output_type": "stream",
       "stream": "stdout",
       "text": [
        ". "
       ]
      },
      {
       "output_type": "stream",
       "stream": "stdout",
       "text": [
        ". "
       ]
      },
      {
       "output_type": "stream",
       "stream": "stdout",
       "text": [
        ". "
       ]
      },
      {
       "output_type": "stream",
       "stream": "stdout",
       "text": [
        ". "
       ]
      },
      {
       "output_type": "stream",
       "stream": "stdout",
       "text": [
        ". "
       ]
      },
      {
       "output_type": "stream",
       "stream": "stdout",
       "text": [
        ". "
       ]
      },
      {
       "output_type": "stream",
       "stream": "stdout",
       "text": [
        ". "
       ]
      },
      {
       "output_type": "stream",
       "stream": "stdout",
       "text": [
        ". "
       ]
      },
      {
       "output_type": "stream",
       "stream": "stdout",
       "text": [
        ". "
       ]
      },
      {
       "output_type": "stream",
       "stream": "stdout",
       "text": [
        ". "
       ]
      },
      {
       "output_type": "stream",
       "stream": "stdout",
       "text": [
        ". "
       ]
      },
      {
       "output_type": "stream",
       "stream": "stdout",
       "text": [
        ". "
       ]
      },
      {
       "output_type": "stream",
       "stream": "stdout",
       "text": [
        ". "
       ]
      },
      {
       "output_type": "stream",
       "stream": "stdout",
       "text": [
        ". "
       ]
      },
      {
       "output_type": "stream",
       "stream": "stdout",
       "text": [
        ". "
       ]
      },
      {
       "output_type": "stream",
       "stream": "stdout",
       "text": [
        ". "
       ]
      },
      {
       "output_type": "stream",
       "stream": "stdout",
       "text": [
        ". "
       ]
      },
      {
       "output_type": "stream",
       "stream": "stdout",
       "text": [
        ". "
       ]
      },
      {
       "output_type": "stream",
       "stream": "stdout",
       "text": [
        ". "
       ]
      },
      {
       "output_type": "stream",
       "stream": "stdout",
       "text": [
        ". "
       ]
      },
      {
       "output_type": "stream",
       "stream": "stdout",
       "text": [
        ". "
       ]
      },
      {
       "output_type": "stream",
       "stream": "stdout",
       "text": [
        ". "
       ]
      },
      {
       "output_type": "stream",
       "stream": "stdout",
       "text": [
        ". "
       ]
      },
      {
       "output_type": "stream",
       "stream": "stdout",
       "text": [
        ". "
       ]
      },
      {
       "output_type": "stream",
       "stream": "stdout",
       "text": [
        ". "
       ]
      },
      {
       "output_type": "stream",
       "stream": "stdout",
       "text": [
        ". "
       ]
      },
      {
       "output_type": "stream",
       "stream": "stdout",
       "text": [
        ".\n"
       ]
      },
      {
       "output_type": "stream",
       "stream": "stdout",
       "text": [
        "Total bins=3495 total features=3495\n",
        "Clustering ./dilutions_data/Positive/std3/Std3_1.csv\n",
        "Continuous Clusterer initialised - wow\n",
        "Variational Bayes for continuous mass model\n",
        "Hyperparameters alpha=100.0, mass_prec=100, mass_prior_prec=100, rt_prec=10, rt_prior_prec=100\n",
        "n_iterations = 20\n",
        "Running the clustering\n",
        "977 peaks to be re-sampled\n",
        "Iteration 0"
       ]
      },
      {
       "output_type": "stream",
       "stream": "stdout",
       "text": [
        "\n"
       ]
      },
      {
       "output_type": "stream",
       "stream": "stdout",
       "text": [
        "Change in Z: 298.602269506\n",
        "Iteration 1\n"
       ]
      },
      {
       "output_type": "stream",
       "stream": "stdout",
       "text": [
        "Change in Z: 130.585737056\n",
        "Iteration 2\n"
       ]
      },
      {
       "output_type": "stream",
       "stream": "stdout",
       "text": [
        "Change in Z: 14.0964818156\n",
        "Iteration 3\n"
       ]
      },
      {
       "output_type": "stream",
       "stream": "stdout",
       "text": [
        "Change in Z: 1.13823975287\n",
        "Iteration 4\n"
       ]
      },
      {
       "output_type": "stream",
       "stream": "stdout",
       "text": [
        "Change in Z: 1.79323774832\n",
        "Iteration 5\n"
       ]
      },
      {
       "output_type": "stream",
       "stream": "stdout",
       "text": [
        "Change in Z: 0.0772553929993\n",
        "Iteration 6\n"
       ]
      },
      {
       "output_type": "stream",
       "stream": "stdout",
       "text": [
        "Change in Z: 0.0339823827918\n",
        "Iteration 7\n"
       ]
      },
      {
       "output_type": "stream",
       "stream": "stdout",
       "text": [
        "Change in Z: 0.0519127493989\n",
        "Iteration 8\n"
       ]
      },
      {
       "output_type": "stream",
       "stream": "stdout",
       "text": [
        "Change in Z: 0.0843028004927\n",
        "Iteration 9\n"
       ]
      },
      {
       "output_type": "stream",
       "stream": "stdout",
       "text": [
        "Change in Z: 0.0550109351125\n",
        "Iteration 10\n"
       ]
      },
      {
       "output_type": "stream",
       "stream": "stdout",
       "text": [
        "Change in Z: 0.064948360931\n",
        "Iteration 11\n"
       ]
      },
      {
       "output_type": "stream",
       "stream": "stdout",
       "text": [
        "Change in Z: 0.00219047736152\n",
        "Iteration 12\n"
       ]
      },
      {
       "output_type": "stream",
       "stream": "stdout",
       "text": [
        "Change in Z: 7.27476028594e-05\n",
        "Iteration 13\n"
       ]
      },
      {
       "output_type": "stream",
       "stream": "stdout",
       "text": [
        "Change in Z: 3.59700236878e-06\n",
        "Iteration 14\n"
       ]
      },
      {
       "output_type": "stream",
       "stream": "stdout",
       "text": [
        "Change in Z: 6.6066916846e-07\n",
        "Iteration 15\n"
       ]
      },
      {
       "output_type": "stream",
       "stream": "stdout",
       "text": [
        "Change in Z: 1.66100014591e-07\n",
        "Iteration 16\n"
       ]
      },
      {
       "output_type": "stream",
       "stream": "stdout",
       "text": [
        "Change in Z: 4.39769988826e-08\n",
        "Iteration 17\n"
       ]
      },
      {
       "output_type": "stream",
       "stream": "stdout",
       "text": [
        "Change in Z: 1.1952620053e-08\n",
        "Iteration 18\n"
       ]
      },
      {
       "output_type": "stream",
       "stream": "stdout",
       "text": [
        "Change in Z: 3.32011778288e-09\n",
        "Iteration 19\n"
       ]
      },
      {
       "output_type": "stream",
       "stream": "stdout",
       "text": [
        "Change in Z: 9.41245297737e-10\n",
        "Loading ./dilutions_data/Positive/std3/Std3_1in5.csv\n",
        "3025 features read"
       ]
      },
      {
       "output_type": "stream",
       "stream": "stdout",
       "text": [
        "\n",
        "Discretising at mass_tol=2, rt_tol=5\n",
        ". "
       ]
      },
      {
       "output_type": "stream",
       "stream": "stdout",
       "text": [
        ". "
       ]
      },
      {
       "output_type": "stream",
       "stream": "stdout",
       "text": [
        ". "
       ]
      },
      {
       "output_type": "stream",
       "stream": "stdout",
       "text": [
        ". "
       ]
      },
      {
       "output_type": "stream",
       "stream": "stdout",
       "text": [
        ". "
       ]
      },
      {
       "output_type": "stream",
       "stream": "stdout",
       "text": [
        ". "
       ]
      },
      {
       "output_type": "stream",
       "stream": "stdout",
       "text": [
        ". "
       ]
      },
      {
       "output_type": "stream",
       "stream": "stdout",
       "text": [
        ". "
       ]
      },
      {
       "output_type": "stream",
       "stream": "stdout",
       "text": [
        ". "
       ]
      },
      {
       "output_type": "stream",
       "stream": "stdout",
       "text": [
        ". "
       ]
      },
      {
       "output_type": "stream",
       "stream": "stdout",
       "text": [
        ". "
       ]
      },
      {
       "output_type": "stream",
       "stream": "stdout",
       "text": [
        ". "
       ]
      },
      {
       "output_type": "stream",
       "stream": "stdout",
       "text": [
        ". "
       ]
      },
      {
       "output_type": "stream",
       "stream": "stdout",
       "text": [
        ". "
       ]
      },
      {
       "output_type": "stream",
       "stream": "stdout",
       "text": [
        ". "
       ]
      },
      {
       "output_type": "stream",
       "stream": "stdout",
       "text": [
        ". "
       ]
      },
      {
       "output_type": "stream",
       "stream": "stdout",
       "text": [
        ". "
       ]
      },
      {
       "output_type": "stream",
       "stream": "stdout",
       "text": [
        ". "
       ]
      },
      {
       "output_type": "stream",
       "stream": "stdout",
       "text": [
        ". "
       ]
      },
      {
       "output_type": "stream",
       "stream": "stdout",
       "text": [
        ". "
       ]
      },
      {
       "output_type": "stream",
       "stream": "stdout",
       "text": [
        ". "
       ]
      },
      {
       "output_type": "stream",
       "stream": "stdout",
       "text": [
        ". "
       ]
      },
      {
       "output_type": "stream",
       "stream": "stdout",
       "text": [
        ". "
       ]
      },
      {
       "output_type": "stream",
       "stream": "stdout",
       "text": [
        ". "
       ]
      },
      {
       "output_type": "stream",
       "stream": "stdout",
       "text": [
        ". "
       ]
      },
      {
       "output_type": "stream",
       "stream": "stdout",
       "text": [
        ". "
       ]
      },
      {
       "output_type": "stream",
       "stream": "stdout",
       "text": [
        ". "
       ]
      },
      {
       "output_type": "stream",
       "stream": "stdout",
       "text": [
        ". "
       ]
      },
      {
       "output_type": "stream",
       "stream": "stdout",
       "text": [
        ". "
       ]
      },
      {
       "output_type": "stream",
       "stream": "stdout",
       "text": [
        ". "
       ]
      },
      {
       "output_type": "stream",
       "stream": "stdout",
       "text": [
        ".\n"
       ]
      },
      {
       "output_type": "stream",
       "stream": "stdout",
       "text": [
        "Total bins=3025 total features=3025\n",
        "Clustering ./dilutions_data/Positive/std3/Std3_1in5.csv\n",
        "Continuous Clusterer initialised - wow\n",
        "Variational Bayes for continuous mass model\n",
        "Hyperparameters alpha=100.0, mass_prec=100, mass_prior_prec=100, rt_prec=10, rt_prior_prec=100\n",
        "n_iterations = 20\n",
        "Running the clustering\n",
        "806 peaks to be re-sampled\n",
        "Iteration 0"
       ]
      },
      {
       "output_type": "stream",
       "stream": "stdout",
       "text": [
        "\n"
       ]
      },
      {
       "output_type": "stream",
       "stream": "stdout",
       "text": [
        "Change in Z: 236.952312052\n",
        "Iteration 1\n"
       ]
      },
      {
       "output_type": "stream",
       "stream": "stdout",
       "text": [
        "Change in Z: 116.093174284\n",
        "Iteration 2\n"
       ]
      },
      {
       "output_type": "stream",
       "stream": "stdout",
       "text": [
        "Change in Z: 18.2013218387\n",
        "Iteration 3\n"
       ]
      },
      {
       "output_type": "stream",
       "stream": "stdout",
       "text": [
        "Change in Z: 0.997386068213\n",
        "Iteration 4\n"
       ]
      },
      {
       "output_type": "stream",
       "stream": "stdout",
       "text": [
        "Change in Z: 0.330230567972\n",
        "Iteration 5\n"
       ]
      },
      {
       "output_type": "stream",
       "stream": "stdout",
       "text": [
        "Change in Z: 0.118510157814\n",
        "Iteration 6\n"
       ]
      },
      {
       "output_type": "stream",
       "stream": "stdout",
       "text": [
        "Change in Z: 0.0649706123993\n",
        "Iteration 7\n"
       ]
      },
      {
       "output_type": "stream",
       "stream": "stdout",
       "text": [
        "Change in Z: 0.0605773719596\n",
        "Iteration 8\n"
       ]
      },
      {
       "output_type": "stream",
       "stream": "stdout",
       "text": [
        "Change in Z: 0.0840219821623\n",
        "Iteration 9\n"
       ]
      },
      {
       "output_type": "stream",
       "stream": "stdout",
       "text": [
        "Change in Z: 0.0145200920852\n",
        "Iteration 10\n"
       ]
      },
      {
       "output_type": "stream",
       "stream": "stdout",
       "text": [
        "Change in Z: 0.00300574993038\n",
        "Iteration 11\n"
       ]
      },
      {
       "output_type": "stream",
       "stream": "stdout",
       "text": [
        "Change in Z: 0.00124025867943\n",
        "Iteration 12\n"
       ]
      },
      {
       "output_type": "stream",
       "stream": "stdout",
       "text": [
        "Change in Z: 0.000585182774905\n",
        "Iteration 13\n"
       ]
      },
      {
       "output_type": "stream",
       "stream": "stdout",
       "text": [
        "Change in Z: 0.00028099017994\n",
        "Iteration 14\n"
       ]
      },
      {
       "output_type": "stream",
       "stream": "stdout",
       "text": [
        "Change in Z: 0.000143647864403\n",
        "Iteration 15\n"
       ]
      },
      {
       "output_type": "stream",
       "stream": "stdout",
       "text": [
        "Change in Z: 0.000114545611809\n",
        "Iteration 16\n"
       ]
      },
      {
       "output_type": "stream",
       "stream": "stdout",
       "text": [
        "Change in Z: 0.000279722092477\n",
        "Iteration 17\n"
       ]
      },
      {
       "output_type": "stream",
       "stream": "stdout",
       "text": [
        "Change in Z: 0.00123665552699\n",
        "Iteration 18\n"
       ]
      },
      {
       "output_type": "stream",
       "stream": "stdout",
       "text": [
        "Change in Z: 0.00591338907659\n",
        "Iteration 19\n"
       ]
      },
      {
       "output_type": "stream",
       "stream": "stdout",
       "text": [
        "Change in Z: 0.0264753174449\n",
        "Loading ./dilutions_data/Positive/std3/Std3_1in10.csv\n",
        "2948 features read"
       ]
      },
      {
       "output_type": "stream",
       "stream": "stdout",
       "text": [
        "\n",
        "Discretising at mass_tol=2, rt_tol=5\n",
        ". "
       ]
      },
      {
       "output_type": "stream",
       "stream": "stdout",
       "text": [
        ". "
       ]
      },
      {
       "output_type": "stream",
       "stream": "stdout",
       "text": [
        ". "
       ]
      },
      {
       "output_type": "stream",
       "stream": "stdout",
       "text": [
        ". "
       ]
      },
      {
       "output_type": "stream",
       "stream": "stdout",
       "text": [
        ". "
       ]
      },
      {
       "output_type": "stream",
       "stream": "stdout",
       "text": [
        ". "
       ]
      },
      {
       "output_type": "stream",
       "stream": "stdout",
       "text": [
        ". "
       ]
      },
      {
       "output_type": "stream",
       "stream": "stdout",
       "text": [
        ". "
       ]
      },
      {
       "output_type": "stream",
       "stream": "stdout",
       "text": [
        ". "
       ]
      },
      {
       "output_type": "stream",
       "stream": "stdout",
       "text": [
        ". "
       ]
      },
      {
       "output_type": "stream",
       "stream": "stdout",
       "text": [
        ". "
       ]
      },
      {
       "output_type": "stream",
       "stream": "stdout",
       "text": [
        ". "
       ]
      },
      {
       "output_type": "stream",
       "stream": "stdout",
       "text": [
        ". "
       ]
      },
      {
       "output_type": "stream",
       "stream": "stdout",
       "text": [
        ". "
       ]
      },
      {
       "output_type": "stream",
       "stream": "stdout",
       "text": [
        ". "
       ]
      },
      {
       "output_type": "stream",
       "stream": "stdout",
       "text": [
        ". "
       ]
      },
      {
       "output_type": "stream",
       "stream": "stdout",
       "text": [
        ". "
       ]
      },
      {
       "output_type": "stream",
       "stream": "stdout",
       "text": [
        ". "
       ]
      },
      {
       "output_type": "stream",
       "stream": "stdout",
       "text": [
        ". "
       ]
      },
      {
       "output_type": "stream",
       "stream": "stdout",
       "text": [
        ". "
       ]
      },
      {
       "output_type": "stream",
       "stream": "stdout",
       "text": [
        ". "
       ]
      },
      {
       "output_type": "stream",
       "stream": "stdout",
       "text": [
        ". "
       ]
      },
      {
       "output_type": "stream",
       "stream": "stdout",
       "text": [
        ". "
       ]
      },
      {
       "output_type": "stream",
       "stream": "stdout",
       "text": [
        ". "
       ]
      },
      {
       "output_type": "stream",
       "stream": "stdout",
       "text": [
        ". "
       ]
      },
      {
       "output_type": "stream",
       "stream": "stdout",
       "text": [
        ". "
       ]
      },
      {
       "output_type": "stream",
       "stream": "stdout",
       "text": [
        ". "
       ]
      },
      {
       "output_type": "stream",
       "stream": "stdout",
       "text": [
        ". "
       ]
      },
      {
       "output_type": "stream",
       "stream": "stdout",
       "text": [
        ". "
       ]
      },
      {
       "output_type": "stream",
       "stream": "stdout",
       "text": [
        ".\n"
       ]
      },
      {
       "output_type": "stream",
       "stream": "stdout",
       "text": [
        "Total bins=2948 total features=2948\n",
        "Clustering ./dilutions_data/Positive/std3/Std3_1in10.csv\n",
        "Continuous Clusterer initialised - wow\n",
        "Variational Bayes for continuous mass model\n",
        "Hyperparameters alpha=100.0, mass_prec=100, mass_prior_prec=100, rt_prec=10, rt_prior_prec=100\n",
        "n_iterations = 20\n",
        "Running the clustering\n",
        "776 peaks to be re-sampled\n",
        "Iteration 0"
       ]
      },
      {
       "output_type": "stream",
       "stream": "stdout",
       "text": [
        "\n"
       ]
      },
      {
       "output_type": "stream",
       "stream": "stdout",
       "text": [
        "Change in Z: 249.973474415\n",
        "Iteration 1\n"
       ]
      },
      {
       "output_type": "stream",
       "stream": "stdout",
       "text": [
        "Change in Z: 115.384835593\n",
        "Iteration 2\n"
       ]
      },
      {
       "output_type": "stream",
       "stream": "stdout",
       "text": [
        "Change in Z: 13.8564848859\n",
        "Iteration 3\n"
       ]
      },
      {
       "output_type": "stream",
       "stream": "stdout",
       "text": [
        "Change in Z: 1.08923553696\n",
        "Iteration 4\n"
       ]
      },
      {
       "output_type": "stream",
       "stream": "stdout",
       "text": [
        "Change in Z: 0.221911156725\n",
        "Iteration 5\n"
       ]
      },
      {
       "output_type": "stream",
       "stream": "stdout",
       "text": [
        "Change in Z: 0.0736575149705\n",
        "Iteration 6\n"
       ]
      },
      {
       "output_type": "stream",
       "stream": "stdout",
       "text": [
        "Change in Z: 0.00910782527798\n",
        "Iteration 7\n"
       ]
      },
      {
       "output_type": "stream",
       "stream": "stdout",
       "text": [
        "Change in Z: 0.00326766669783\n",
        "Iteration 8\n"
       ]
      },
      {
       "output_type": "stream",
       "stream": "stdout",
       "text": [
        "Change in Z: 0.00954096351092\n",
        "Iteration 9\n"
       ]
      },
      {
       "output_type": "stream",
       "stream": "stdout",
       "text": [
        "Change in Z: 0.0403659562112\n",
        "Iteration 10\n"
       ]
      },
      {
       "output_type": "stream",
       "stream": "stdout",
       "text": [
        "Change in Z: 0.0949865270105\n",
        "Iteration 11\n"
       ]
      },
      {
       "output_type": "stream",
       "stream": "stdout",
       "text": [
        "Change in Z: 0.0714003924386\n",
        "Iteration 12\n"
       ]
      },
      {
       "output_type": "stream",
       "stream": "stdout",
       "text": [
        "Change in Z: 0.0377011708297\n",
        "Iteration 13\n"
       ]
      },
      {
       "output_type": "stream",
       "stream": "stdout",
       "text": [
        "Change in Z: 0.00416662692394\n",
        "Iteration 14\n"
       ]
      },
      {
       "output_type": "stream",
       "stream": "stdout",
       "text": [
        "Change in Z: 0.000477108299475\n",
        "Iteration 15\n"
       ]
      },
      {
       "output_type": "stream",
       "stream": "stdout",
       "text": [
        "Change in Z: 5.53112822193e-05\n",
        "Iteration 16\n"
       ]
      },
      {
       "output_type": "stream",
       "stream": "stdout",
       "text": [
        "Change in Z: 3.4092771656e-05\n",
        "Iteration 17\n"
       ]
      },
      {
       "output_type": "stream",
       "stream": "stdout",
       "text": [
        "Change in Z: 0.00014157863085\n",
        "Iteration 18\n"
       ]
      },
      {
       "output_type": "stream",
       "stream": "stdout",
       "text": [
        "Change in Z: 0.000694750573314\n",
        "Iteration 19\n"
       ]
      },
      {
       "output_type": "stream",
       "stream": "stdout",
       "text": [
        "Change in Z: 0.0034071603831\n",
        "Loading ./dilutions_data/Positive/std3/Std3_1in50.csv\n",
        "3037 features read"
       ]
      },
      {
       "output_type": "stream",
       "stream": "stdout",
       "text": [
        "\n",
        "Discretising at mass_tol=2, rt_tol=5\n",
        ". "
       ]
      },
      {
       "output_type": "stream",
       "stream": "stdout",
       "text": [
        ". "
       ]
      },
      {
       "output_type": "stream",
       "stream": "stdout",
       "text": [
        ". "
       ]
      },
      {
       "output_type": "stream",
       "stream": "stdout",
       "text": [
        ". "
       ]
      },
      {
       "output_type": "stream",
       "stream": "stdout",
       "text": [
        ". "
       ]
      },
      {
       "output_type": "stream",
       "stream": "stdout",
       "text": [
        ". "
       ]
      },
      {
       "output_type": "stream",
       "stream": "stdout",
       "text": [
        ". "
       ]
      },
      {
       "output_type": "stream",
       "stream": "stdout",
       "text": [
        ". "
       ]
      },
      {
       "output_type": "stream",
       "stream": "stdout",
       "text": [
        ". "
       ]
      },
      {
       "output_type": "stream",
       "stream": "stdout",
       "text": [
        ". "
       ]
      },
      {
       "output_type": "stream",
       "stream": "stdout",
       "text": [
        ". "
       ]
      },
      {
       "output_type": "stream",
       "stream": "stdout",
       "text": [
        ". "
       ]
      },
      {
       "output_type": "stream",
       "stream": "stdout",
       "text": [
        ". "
       ]
      },
      {
       "output_type": "stream",
       "stream": "stdout",
       "text": [
        ". "
       ]
      },
      {
       "output_type": "stream",
       "stream": "stdout",
       "text": [
        ". "
       ]
      },
      {
       "output_type": "stream",
       "stream": "stdout",
       "text": [
        ". "
       ]
      },
      {
       "output_type": "stream",
       "stream": "stdout",
       "text": [
        ". "
       ]
      },
      {
       "output_type": "stream",
       "stream": "stdout",
       "text": [
        ". "
       ]
      },
      {
       "output_type": "stream",
       "stream": "stdout",
       "text": [
        ". "
       ]
      },
      {
       "output_type": "stream",
       "stream": "stdout",
       "text": [
        ". "
       ]
      },
      {
       "output_type": "stream",
       "stream": "stdout",
       "text": [
        ". "
       ]
      },
      {
       "output_type": "stream",
       "stream": "stdout",
       "text": [
        ". "
       ]
      },
      {
       "output_type": "stream",
       "stream": "stdout",
       "text": [
        ". "
       ]
      },
      {
       "output_type": "stream",
       "stream": "stdout",
       "text": [
        ". "
       ]
      },
      {
       "output_type": "stream",
       "stream": "stdout",
       "text": [
        ". "
       ]
      },
      {
       "output_type": "stream",
       "stream": "stdout",
       "text": [
        ". "
       ]
      },
      {
       "output_type": "stream",
       "stream": "stdout",
       "text": [
        ". "
       ]
      },
      {
       "output_type": "stream",
       "stream": "stdout",
       "text": [
        ". "
       ]
      },
      {
       "output_type": "stream",
       "stream": "stdout",
       "text": [
        ". "
       ]
      },
      {
       "output_type": "stream",
       "stream": "stdout",
       "text": [
        ". "
       ]
      },
      {
       "output_type": "stream",
       "stream": "stdout",
       "text": [
        ".\n"
       ]
      },
      {
       "output_type": "stream",
       "stream": "stdout",
       "text": [
        "Total bins=3037 total features=3037\n",
        "Clustering ./dilutions_data/Positive/std3/Std3_1in50.csv\n",
        "Continuous Clusterer initialised - wow\n",
        "Variational Bayes for continuous mass model\n",
        "Hyperparameters alpha=100.0, mass_prec=100, mass_prior_prec=100, rt_prec=10, rt_prior_prec=100\n",
        "n_iterations = 20\n",
        "Running the clustering\n",
        "704 peaks to be re-sampled\n",
        "Iteration 0"
       ]
      },
      {
       "output_type": "stream",
       "stream": "stdout",
       "text": [
        "\n"
       ]
      },
      {
       "output_type": "stream",
       "stream": "stdout",
       "text": [
        "Change in Z: 204.468382932\n",
        "Iteration 1\n"
       ]
      },
      {
       "output_type": "stream",
       "stream": "stdout",
       "text": [
        "Change in Z: 92.6534337554\n",
        "Iteration 2\n"
       ]
      },
      {
       "output_type": "stream",
       "stream": "stdout",
       "text": [
        "Change in Z: 23.2205393036\n",
        "Iteration 3\n"
       ]
      },
      {
       "output_type": "stream",
       "stream": "stdout",
       "text": [
        "Change in Z: 0.59522229866\n",
        "Iteration 4\n"
       ]
      },
      {
       "output_type": "stream",
       "stream": "stdout",
       "text": [
        "Change in Z: 0.0627531264722\n",
        "Iteration 5\n"
       ]
      },
      {
       "output_type": "stream",
       "stream": "stdout",
       "text": [
        "Change in Z: 0.0093213411047\n",
        "Iteration 6\n"
       ]
      },
      {
       "output_type": "stream",
       "stream": "stdout",
       "text": [
        "Change in Z: 0.0023335228192\n",
        "Iteration 7\n"
       ]
      },
      {
       "output_type": "stream",
       "stream": "stdout",
       "text": [
        "Change in Z: 0.00210330193252\n",
        "Iteration 8\n"
       ]
      },
      {
       "output_type": "stream",
       "stream": "stdout",
       "text": [
        "Change in Z: 0.00802218296084\n",
        "Iteration 9\n"
       ]
      },
      {
       "output_type": "stream",
       "stream": "stdout",
       "text": [
        "Change in Z: 0.0345132901472\n",
        "Iteration 10\n"
       ]
      },
      {
       "output_type": "stream",
       "stream": "stdout",
       "text": [
        "Change in Z: 0.0995027775917\n",
        "Iteration 11\n"
       ]
      },
      {
       "output_type": "stream",
       "stream": "stdout",
       "text": [
        "Change in Z: 0.0913506874104\n",
        "Iteration 12\n"
       ]
      },
      {
       "output_type": "stream",
       "stream": "stdout",
       "text": [
        "Change in Z: 0.0231357018304\n",
        "Iteration 13\n"
       ]
      },
      {
       "output_type": "stream",
       "stream": "stdout",
       "text": [
        "Change in Z: 0.00286597562197\n",
        "Iteration 14\n"
       ]
      },
      {
       "output_type": "stream",
       "stream": "stdout",
       "text": [
        "Change in Z: 0.000291807666417\n",
        "Iteration 15\n"
       ]
      },
      {
       "output_type": "stream",
       "stream": "stdout",
       "text": [
        "Change in Z: 2.98292236244e-05\n",
        "Iteration 16\n"
       ]
      },
      {
       "output_type": "stream",
       "stream": "stdout",
       "text": [
        "Change in Z: 3.69780467043e-06\n",
        "Iteration 17\n"
       ]
      },
      {
       "output_type": "stream",
       "stream": "stdout",
       "text": [
        "Change in Z: 3.54043927022e-06\n",
        "Iteration 18\n"
       ]
      },
      {
       "output_type": "stream",
       "stream": "stdout",
       "text": [
        "Change in Z: 1.59639114331e-05\n",
        "Iteration 19\n"
       ]
      },
      {
       "output_type": "stream",
       "stream": "stdout",
       "text": [
        "Change in Z: 7.86264033444e-05\n",
        "Loading ./dilutions_data/Positive/std3/Std3_1in100.csv\n",
        "2623 features read"
       ]
      },
      {
       "output_type": "stream",
       "stream": "stdout",
       "text": [
        "\n",
        "Discretising at mass_tol=2, rt_tol=5\n",
        ". "
       ]
      },
      {
       "output_type": "stream",
       "stream": "stdout",
       "text": [
        ". "
       ]
      },
      {
       "output_type": "stream",
       "stream": "stdout",
       "text": [
        ". "
       ]
      },
      {
       "output_type": "stream",
       "stream": "stdout",
       "text": [
        ". "
       ]
      },
      {
       "output_type": "stream",
       "stream": "stdout",
       "text": [
        ". "
       ]
      },
      {
       "output_type": "stream",
       "stream": "stdout",
       "text": [
        ". "
       ]
      },
      {
       "output_type": "stream",
       "stream": "stdout",
       "text": [
        ". "
       ]
      },
      {
       "output_type": "stream",
       "stream": "stdout",
       "text": [
        ". "
       ]
      },
      {
       "output_type": "stream",
       "stream": "stdout",
       "text": [
        ". "
       ]
      },
      {
       "output_type": "stream",
       "stream": "stdout",
       "text": [
        ". "
       ]
      },
      {
       "output_type": "stream",
       "stream": "stdout",
       "text": [
        ". "
       ]
      },
      {
       "output_type": "stream",
       "stream": "stdout",
       "text": [
        ". "
       ]
      },
      {
       "output_type": "stream",
       "stream": "stdout",
       "text": [
        ". "
       ]
      },
      {
       "output_type": "stream",
       "stream": "stdout",
       "text": [
        ". "
       ]
      },
      {
       "output_type": "stream",
       "stream": "stdout",
       "text": [
        ". "
       ]
      },
      {
       "output_type": "stream",
       "stream": "stdout",
       "text": [
        ". "
       ]
      },
      {
       "output_type": "stream",
       "stream": "stdout",
       "text": [
        ". "
       ]
      },
      {
       "output_type": "stream",
       "stream": "stdout",
       "text": [
        ". "
       ]
      },
      {
       "output_type": "stream",
       "stream": "stdout",
       "text": [
        ". "
       ]
      },
      {
       "output_type": "stream",
       "stream": "stdout",
       "text": [
        ". "
       ]
      },
      {
       "output_type": "stream",
       "stream": "stdout",
       "text": [
        ". "
       ]
      },
      {
       "output_type": "stream",
       "stream": "stdout",
       "text": [
        ". "
       ]
      },
      {
       "output_type": "stream",
       "stream": "stdout",
       "text": [
        ". "
       ]
      },
      {
       "output_type": "stream",
       "stream": "stdout",
       "text": [
        ". "
       ]
      },
      {
       "output_type": "stream",
       "stream": "stdout",
       "text": [
        ". "
       ]
      },
      {
       "output_type": "stream",
       "stream": "stdout",
       "text": [
        ". "
       ]
      },
      {
       "output_type": "stream",
       "stream": "stdout",
       "text": [
        ".\n"
       ]
      },
      {
       "output_type": "stream",
       "stream": "stdout",
       "text": [
        "Total bins=2623 total features=2623\n",
        "Clustering ./dilutions_data/Positive/std3/Std3_1in100.csv\n",
        "Continuous Clusterer initialised - wow\n",
        "Variational Bayes for continuous mass model\n",
        "Hyperparameters alpha=100.0, mass_prec=100, mass_prior_prec=100, rt_prec=10, rt_prior_prec=100\n",
        "n_iterations = 20\n",
        "Running the clustering\n",
        "620 peaks to be re-sampled\n",
        "Iteration 0"
       ]
      },
      {
       "output_type": "stream",
       "stream": "stdout",
       "text": [
        "\n"
       ]
      },
      {
       "output_type": "stream",
       "stream": "stdout",
       "text": [
        "Change in Z: 173.439311167\n",
        "Iteration 1\n"
       ]
      },
      {
       "output_type": "stream",
       "stream": "stdout",
       "text": [
        "Change in Z: 76.6844271661\n",
        "Iteration 2\n"
       ]
      },
      {
       "output_type": "stream",
       "stream": "stdout",
       "text": [
        "Change in Z: 7.9849746551\n",
        "Iteration 3\n"
       ]
      },
      {
       "output_type": "stream",
       "stream": "stdout",
       "text": [
        "Change in Z: 0.781349220594\n",
        "Iteration 4\n"
       ]
      },
      {
       "output_type": "stream",
       "stream": "stdout",
       "text": [
        "Change in Z: 0.145456382641\n",
        "Iteration 5\n"
       ]
      },
      {
       "output_type": "stream",
       "stream": "stdout",
       "text": [
        "Change in Z: 0.0692033856264\n",
        "Iteration 6\n"
       ]
      },
      {
       "output_type": "stream",
       "stream": "stdout",
       "text": [
        "Change in Z: 0.0042797331496\n",
        "Iteration 7\n"
       ]
      },
      {
       "output_type": "stream",
       "stream": "stdout",
       "text": [
        "Change in Z: 0.000218316847119\n",
        "Iteration 8\n"
       ]
      },
      {
       "output_type": "stream",
       "stream": "stdout",
       "text": [
        "Change in Z: 5.28803939397e-05\n",
        "Iteration 9\n"
       ]
      },
      {
       "output_type": "stream",
       "stream": "stdout",
       "text": [
        "Change in Z: 1.28545760662e-05\n",
        "Iteration 10\n"
       ]
      },
      {
       "output_type": "stream",
       "stream": "stdout",
       "text": [
        "Change in Z: 3.17239602722e-06\n",
        "Iteration 11\n"
       ]
      },
      {
       "output_type": "stream",
       "stream": "stdout",
       "text": [
        "Change in Z: 9.91774853991e-07\n",
        "Iteration 12\n"
       ]
      },
      {
       "output_type": "stream",
       "stream": "stdout",
       "text": [
        "Change in Z: 1.27246836478e-06\n",
        "Iteration 13\n"
       ]
      },
      {
       "output_type": "stream",
       "stream": "stdout",
       "text": [
        "Change in Z: 5.14279418087e-06\n",
        "Iteration 14\n"
       ]
      },
      {
       "output_type": "stream",
       "stream": "stdout",
       "text": [
        "Change in Z: 2.39201089889e-05\n",
        "Iteration 15\n"
       ]
      },
      {
       "output_type": "stream",
       "stream": "stdout",
       "text": [
        "Change in Z: 0.000112196476647\n",
        "Iteration 16\n"
       ]
      },
      {
       "output_type": "stream",
       "stream": "stdout",
       "text": [
        "Change in Z: 0.000526322367028\n",
        "Iteration 17\n"
       ]
      },
      {
       "output_type": "stream",
       "stream": "stdout",
       "text": [
        "Change in Z: 0.00245905386977\n",
        "Iteration 18\n"
       ]
      },
      {
       "output_type": "stream",
       "stream": "stdout",
       "text": [
        "Change in Z: 0.0112386874022\n",
        "Iteration 19\n"
       ]
      },
      {
       "output_type": "stream",
       "stream": "stdout",
       "text": [
        "Change in Z: 0.0461926593043\n",
        "Loading ./dilutions_data/Positive/std3/Std3_1in1000.csv\n",
        "2617 features read"
       ]
      },
      {
       "output_type": "stream",
       "stream": "stdout",
       "text": [
        "\n",
        "Discretising at mass_tol=2, rt_tol=5\n",
        ". "
       ]
      },
      {
       "output_type": "stream",
       "stream": "stdout",
       "text": [
        ". "
       ]
      },
      {
       "output_type": "stream",
       "stream": "stdout",
       "text": [
        ". "
       ]
      },
      {
       "output_type": "stream",
       "stream": "stdout",
       "text": [
        ". "
       ]
      },
      {
       "output_type": "stream",
       "stream": "stdout",
       "text": [
        ". "
       ]
      },
      {
       "output_type": "stream",
       "stream": "stdout",
       "text": [
        ". "
       ]
      },
      {
       "output_type": "stream",
       "stream": "stdout",
       "text": [
        ". "
       ]
      },
      {
       "output_type": "stream",
       "stream": "stdout",
       "text": [
        ". "
       ]
      },
      {
       "output_type": "stream",
       "stream": "stdout",
       "text": [
        ". "
       ]
      },
      {
       "output_type": "stream",
       "stream": "stdout",
       "text": [
        ". "
       ]
      },
      {
       "output_type": "stream",
       "stream": "stdout",
       "text": [
        ". "
       ]
      },
      {
       "output_type": "stream",
       "stream": "stdout",
       "text": [
        ". "
       ]
      },
      {
       "output_type": "stream",
       "stream": "stdout",
       "text": [
        ". "
       ]
      },
      {
       "output_type": "stream",
       "stream": "stdout",
       "text": [
        ". "
       ]
      },
      {
       "output_type": "stream",
       "stream": "stdout",
       "text": [
        ". "
       ]
      },
      {
       "output_type": "stream",
       "stream": "stdout",
       "text": [
        ". "
       ]
      },
      {
       "output_type": "stream",
       "stream": "stdout",
       "text": [
        ". "
       ]
      },
      {
       "output_type": "stream",
       "stream": "stdout",
       "text": [
        ". "
       ]
      },
      {
       "output_type": "stream",
       "stream": "stdout",
       "text": [
        ". "
       ]
      },
      {
       "output_type": "stream",
       "stream": "stdout",
       "text": [
        ". "
       ]
      },
      {
       "output_type": "stream",
       "stream": "stdout",
       "text": [
        ". "
       ]
      },
      {
       "output_type": "stream",
       "stream": "stdout",
       "text": [
        ". "
       ]
      },
      {
       "output_type": "stream",
       "stream": "stdout",
       "text": [
        ". "
       ]
      },
      {
       "output_type": "stream",
       "stream": "stdout",
       "text": [
        ". "
       ]
      },
      {
       "output_type": "stream",
       "stream": "stdout",
       "text": [
        ". "
       ]
      },
      {
       "output_type": "stream",
       "stream": "stdout",
       "text": [
        ". "
       ]
      },
      {
       "output_type": "stream",
       "stream": "stdout",
       "text": [
        ".\n"
       ]
      },
      {
       "output_type": "stream",
       "stream": "stdout",
       "text": [
        "Total bins=2617 total features=2617\n",
        "Clustering ./dilutions_data/Positive/std3/Std3_1in1000.csv\n",
        "Continuous Clusterer initialised - wow\n",
        "Variational Bayes for continuous mass model\n",
        "Hyperparameters alpha=100.0, mass_prec=100, mass_prior_prec=100, rt_prec=10, rt_prior_prec=100\n",
        "n_iterations = 20\n",
        "Running the clustering\n",
        "634 peaks to be re-sampled\n",
        "Iteration 0"
       ]
      },
      {
       "output_type": "stream",
       "stream": "stdout",
       "text": [
        "\n"
       ]
      },
      {
       "output_type": "stream",
       "stream": "stdout",
       "text": [
        "Change in Z: 178.619018503\n",
        "Iteration 1\n"
       ]
      },
      {
       "output_type": "stream",
       "stream": "stdout",
       "text": [
        "Change in Z: 80.4472885654\n",
        "Iteration 2\n"
       ]
      },
      {
       "output_type": "stream",
       "stream": "stdout",
       "text": [
        "Change in Z: 7.97151003128\n",
        "Iteration 3\n"
       ]
      },
      {
       "output_type": "stream",
       "stream": "stdout",
       "text": [
        "Change in Z: 0.40753677957\n",
        "Iteration 4\n"
       ]
      },
      {
       "output_type": "stream",
       "stream": "stdout",
       "text": [
        "Change in Z: 0.0274603638128\n",
        "Iteration 5\n"
       ]
      },
      {
       "output_type": "stream",
       "stream": "stdout",
       "text": [
        "Change in Z: 0.00569261817622\n",
        "Iteration 6\n"
       ]
      },
      {
       "output_type": "stream",
       "stream": "stdout",
       "text": [
        "Change in Z: 0.0016039658787\n",
        "Iteration 7\n"
       ]
      },
      {
       "output_type": "stream",
       "stream": "stdout",
       "text": [
        "Change in Z: 0.00157595632933\n",
        "Iteration 8\n"
       ]
      },
      {
       "output_type": "stream",
       "stream": "stdout",
       "text": [
        "Change in Z: 0.00614302261183\n",
        "Iteration 9\n"
       ]
      },
      {
       "output_type": "stream",
       "stream": "stdout",
       "text": [
        "Change in Z: 0.0268801416311\n",
        "Iteration 10\n"
       ]
      },
      {
       "output_type": "stream",
       "stream": "stdout",
       "text": [
        "Change in Z: 0.0777375279103\n",
        "Iteration 11\n"
       ]
      },
      {
       "output_type": "stream",
       "stream": "stdout",
       "text": [
        "Change in Z: 0.0636697798679\n",
        "Iteration 12\n"
       ]
      },
      {
       "output_type": "stream",
       "stream": "stdout",
       "text": [
        "Change in Z: 0.0681305520786\n",
        "Iteration 13\n"
       ]
      },
      {
       "output_type": "stream",
       "stream": "stdout",
       "text": [
        "Change in Z: 0.00815540279365\n",
        "Iteration 14\n"
       ]
      },
      {
       "output_type": "stream",
       "stream": "stdout",
       "text": [
        "Change in Z: 0.000658538659801\n",
        "Iteration 15\n"
       ]
      },
      {
       "output_type": "stream",
       "stream": "stdout",
       "text": [
        "Change in Z: 3.56887177416e-05\n",
        "Iteration 16\n"
       ]
      },
      {
       "output_type": "stream",
       "stream": "stdout",
       "text": [
        "Change in Z: 6.93652916148e-06\n",
        "Iteration 17\n"
       ]
      },
      {
       "output_type": "stream",
       "stream": "stdout",
       "text": [
        "Change in Z: 2.43747373996e-05\n",
        "Iteration 18\n"
       ]
      },
      {
       "output_type": "stream",
       "stream": "stdout",
       "text": [
        "Change in Z: 0.000115415027435\n",
        "Iteration 19\n"
       ]
      },
      {
       "output_type": "stream",
       "stream": "stdout",
       "text": [
        "Change in Z: 0.000547964255471\n"
       ]
      }
     ],
     "prompt_number": 14
    },
    {
     "cell_type": "markdown",
     "metadata": {},
     "source": [
      "Function to pick a single feature to populate the results."
     ]
    },
    {
     "cell_type": "code",
     "collapsed": false,
     "input": [
      "def get_feature(peak_data, cluster_model, db_entry, t_find, identify_tol):\n",
      "\n",
      "    # find cluster membership for all peaks with transformation t_find\n",
      "    cluster_membership = (cluster_model.Z>0.5)\n",
      "    trans_mat = peak_data.possible.multiply(cluster_membership)\n",
      "    trans_mat = (trans_mat==t_find+1)    \n",
      "    trans_count = (trans_mat).sum(0)\n",
      "\n",
      "    # match prior bin masses against database entry's mass\n",
      "    prior_masses = peak_data.prior_masses\n",
      "    mass_ok = utils.mass_match(db_entry.mass, prior_masses, identify_tol)\n",
      "    ks = np.flatnonzero(mass_ok)\n",
      "    \n",
      "    # enumerate all the possible features\n",
      "    features = []\n",
      "    for k in ks:\n",
      "        if trans_count[0, k]==0:\n",
      "            continue\n",
      "        else:\n",
      "            temp = np.nonzero(trans_mat[:, k])\n",
      "            peak_idx = temp[0]\n",
      "            for n in peak_idx:\n",
      "                f = peak_data.features[n]\n",
      "                features.append(f)\n",
      "                \n",
      "    # if there are multiple features, pick the most intense one\n",
      "    if len(features)==1:\n",
      "        return features[0]\n",
      "    elif len(features)>1: \n",
      "        intenses = np.array([f.intensity for f in features])\n",
      "        most_intense = intenses.argmax()\n",
      "        return features[most_intense]\n",
      "    else:\n",
      "        return None"
     ],
     "language": "python",
     "metadata": {},
     "outputs": [],
     "prompt_number": 15
    },
    {
     "cell_type": "markdown",
     "metadata": {},
     "source": [
      "Find features to populate the results matrix"
     ]
    },
    {
     "cell_type": "code",
     "collapsed": false,
     "input": [
      "def get_results(database, dilutions, transformations, filemap, t_find, identify_tol):\n",
      "        \n",
      "    print \"Finding \" + str(transformations[t_find])\n",
      "    D = len(database)\n",
      "    L = len(dilutions)    \n",
      "    results = np.zeros((D, L), dtype=object)   \n",
      "\n",
      "    # for all db entries\n",
      "    for d in range(D):\n",
      "        db_entry = database[d]\n",
      "        # for all dilution files\n",
      "        for l in range(L):\n",
      "            dil = dilutions[l]\n",
      "            # find the peak\n",
      "            load_res = filemap[dil]\n",
      "            peak_data = load_res[0]\n",
      "            cluster_model = load_res[1]\n",
      "            f = get_feature(peak_data, cluster_model, db_entry, t_find, identify_tol)\n",
      "            results[d, l] = f\n",
      "    return results"
     ],
     "language": "python",
     "metadata": {},
     "outputs": [],
     "prompt_number": 16
    },
    {
     "cell_type": "code",
     "collapsed": false,
     "input": [
      "def to_attribute_array(results, attribute):\n",
      "    value_arr = np.zeros_like(results)\n",
      "    for (i,j), feature in numpy.ndenumerate(results):\n",
      "        if feature is None:\n",
      "            value = 0\n",
      "        else:\n",
      "            value = getattr(feature, attribute)\n",
      "        value_arr[i, j] = value\n",
      "    return value_arr"
     ],
     "language": "python",
     "metadata": {},
     "outputs": [],
     "prompt_number": 17
    },
    {
     "cell_type": "markdown",
     "metadata": {},
     "source": [
      "Save the results to textfiles"
     ]
    },
    {
     "cell_type": "code",
     "collapsed": false,
     "input": [
      "# get the database and transformations objects from any loaed file\n",
      "any_entry = filemap[filemap.keys()[0]]\n",
      "any_peak_data = any_entry[0]\n",
      "database = any_peak_data.database\n",
      "transformations = any_peak_data.transformations"
     ],
     "language": "python",
     "metadata": {},
     "outputs": [],
     "prompt_number": 18
    },
    {
     "cell_type": "code",
     "collapsed": false,
     "input": [
      "for t in range(len(transformations)):\n",
      "    # results is an np array of features\n",
      "    results = get_results(database, dilutions, transformations, filemap, t, identify_tol)\n",
      "    # extract the intensity, m/z and rt values from results\n",
      "    intenses = to_attribute_array(results, 'intensity')\n",
      "    masses = to_attribute_array(results, 'mass')\n",
      "    rts = to_attribute_array(results, 'rt')\n",
      "    # save them all\n",
      "    fname = basedir + '/transformations_data/' + stdfile.lower() + '/' + str(t) + '.txt'\n",
      "    print \"Saving to \" + fname\n",
      "    np.savetxt(fname, intenses)\n",
      "    fname = basedir + '/transformations_data/' + stdfile.lower() + '/' + str(t) + '.mass.txt'\n",
      "    print \"Saving to \" + fname\n",
      "    np.savetxt(fname, masses)\n",
      "    fname = basedir + '/transformations_data/' + stdfile.lower() + '/' + str(t) + '.rt.txt'\n",
      "    print \"Saving to \" + fname\n",
      "    np.savetxt(fname, rts)"
     ],
     "language": "python",
     "metadata": {},
     "outputs": [
      {
       "output_type": "stream",
       "stream": "stdout",
       "text": [
        "Finding Transformation(trans_id=1, name='M+2H', sub=1.00727645199076, mul=0.5, iso=0.0)\n",
        "Saving to ./transformations_data/std3/0.txt"
       ]
      },
      {
       "output_type": "stream",
       "stream": "stdout",
       "text": [
        "\n",
        "Saving to ./transformations_data/std3/0.mass.txt\n",
        "Saving to ./transformations_data/std3/0.rt.txt\n",
        "Finding Transformation(trans_id=2, name='M+H+NH4', sub=9.52055100354076, mul=0.5, iso=0.0)\n",
        "Saving to ./transformations_data/std3/1.txt"
       ]
      },
      {
       "output_type": "stream",
       "stream": "stdout",
       "text": [
        "\n",
        "Saving to ./transformations_data/std3/1.mass.txt\n",
        "Saving to ./transformations_data/std3/1.rt.txt\n",
        "Finding Transformation(trans_id=3, name='M+H+Na', sub=11.99824876604076, mul=0.5, iso=0.0)\n",
        "Saving to ./transformations_data/std3/2.txt"
       ]
      },
      {
       "output_type": "stream",
       "stream": "stdout",
       "text": [
        "\n",
        "Saving to ./transformations_data/std3/2.mass.txt\n",
        "Saving to ./transformations_data/std3/2.rt.txt\n",
        "Finding Transformation(trans_id=4, name='M+H+K', sub=19.98521738604076, mul=0.5, iso=0.0)\n",
        "Saving to ./transformations_data/std3/3.txt"
       ]
      },
      {
       "output_type": "stream",
       "stream": "stdout",
       "text": [
        "\n",
        "Saving to ./transformations_data/std3/3.mass.txt\n",
        "Saving to ./transformations_data/std3/3.rt.txt\n",
        "Finding Transformation(trans_id=5, name='M+ACN+2H', sub=21.520551003540763, mul=0.5, iso=0.0)\n",
        "Saving to ./transformations_data/std3/4.txt"
       ]
      },
      {
       "output_type": "stream",
       "stream": "stdout",
       "text": [
        "\n",
        "Saving to ./transformations_data/std3/4.mass.txt\n",
        "Saving to ./transformations_data/std3/4.rt.txt\n",
        "Finding Transformation(trans_id=6, name='M+2Na', sub=22.98922108009076, mul=0.5, iso=0.0)\n",
        "Saving to ./transformations_data/std3/5.txt"
       ]
      },
      {
       "output_type": "stream",
       "stream": "stdout",
       "text": [
        "\n",
        "Saving to ./transformations_data/std3/5.mass.txt\n",
        "Saving to ./transformations_data/std3/5.rt.txt\n",
        "Finding Transformation(trans_id=7, name='M+H', sub=1.00727645199076, mul=1.0, iso=0.0)\n",
        "Saving to ./transformations_data/std3/6.txt"
       ]
      },
      {
       "output_type": "stream",
       "stream": "stdout",
       "text": [
        "\n",
        "Saving to ./transformations_data/std3/6.mass.txt\n",
        "Saving to ./transformations_data/std3/6.rt.txt\n",
        "Finding Transformation(trans_id=8, name='M+HC13', sub=1.00727645199076, mul=1.0, iso=-1.00335)\n",
        "Saving to ./transformations_data/std3/7.txt"
       ]
      },
      {
       "output_type": "stream",
       "stream": "stdout",
       "text": [
        "\n",
        "Saving to ./transformations_data/std3/7.mass.txt\n",
        "Saving to ./transformations_data/std3/7.rt.txt\n",
        "Finding Transformation(trans_id=9, name='M+H2C13', sub=1.00727645199076, mul=1.0, iso=-2.0067)\n",
        "Saving to ./transformations_data/std3/8.txt"
       ]
      },
      {
       "output_type": "stream",
       "stream": "stdout",
       "text": [
        "\n",
        "Saving to ./transformations_data/std3/8.mass.txt\n",
        "Saving to ./transformations_data/std3/8.rt.txt\n",
        "Finding Transformation(trans_id=10, name='M+NH4', sub=18.03382555509076, mul=1.0, iso=0.0)\n",
        "Saving to ./transformations_data/std3/9.txt"
       ]
      },
      {
       "output_type": "stream",
       "stream": "stdout",
       "text": [
        "\n",
        "Saving to ./transformations_data/std3/9.mass.txt\n",
        "Saving to ./transformations_data/std3/9.rt.txt\n",
        "Finding Transformation(trans_id=11, name='M+Na', sub=22.98922108009076, mul=1.0, iso=0.0)\n",
        "Saving to ./transformations_data/std3/10.txt"
       ]
      },
      {
       "output_type": "stream",
       "stream": "stdout",
       "text": [
        "\n",
        "Saving to ./transformations_data/std3/10.mass.txt\n",
        "Saving to ./transformations_data/std3/10.rt.txt\n",
        "Finding Transformation(trans_id=12, name='M+NaC13', sub=22.98922108009076, mul=1.0, iso=-1.00335)\n",
        "Saving to ./transformations_data/std3/11.txt"
       ]
      },
      {
       "output_type": "stream",
       "stream": "stdout",
       "text": [
        "\n",
        "Saving to ./transformations_data/std3/11.mass.txt\n",
        "Saving to ./transformations_data/std3/11.rt.txt\n",
        "Finding Transformation(trans_id=13, name='M+CH3OH+H', sub=33.033491201890754, mul=1.0, iso=0.0)\n",
        "Saving to ./transformations_data/std3/12.txt"
       ]
      },
      {
       "output_type": "stream",
       "stream": "stdout",
       "text": [
        "\n",
        "Saving to ./transformations_data/std3/12.mass.txt\n",
        "Saving to ./transformations_data/std3/12.rt.txt\n",
        "Finding Transformation(trans_id=14, name='M+K', sub=38.963158320090756, mul=1.0, iso=0.0)\n",
        "Saving to ./transformations_data/std3/13.txt"
       ]
      },
      {
       "output_type": "stream",
       "stream": "stdout",
       "text": [
        "\n",
        "Saving to ./transformations_data/std3/13.mass.txt\n",
        "Saving to ./transformations_data/std3/13.rt.txt\n",
        "Finding Transformation(trans_id=15, name='M+KC13', sub=38.963158320090756, mul=1.0, iso=-1.00335)\n",
        "Saving to ./transformations_data/std3/14.txt"
       ]
      },
      {
       "output_type": "stream",
       "stream": "stdout",
       "text": [
        "\n",
        "Saving to ./transformations_data/std3/14.mass.txt\n",
        "Saving to ./transformations_data/std3/14.rt.txt\n",
        "Finding Transformation(trans_id=16, name='M+ACN+H', sub=42.03382555509076, mul=1.0, iso=0.0)\n",
        "Saving to ./transformations_data/std3/15.txt"
       ]
      },
      {
       "output_type": "stream",
       "stream": "stdout",
       "text": [
        "\n",
        "Saving to ./transformations_data/std3/15.mass.txt\n",
        "Saving to ./transformations_data/std3/15.rt.txt\n",
        "Finding Transformation(trans_id=17, name='M+2Na-H', sub=44.97116570819076, mul=1.0, iso=0.0)\n",
        "Saving to ./transformations_data/std3/16.txt"
       ]
      },
      {
       "output_type": "stream",
       "stream": "stdout",
       "text": [
        "\n",
        "Saving to ./transformations_data/std3/16.mass.txt\n",
        "Saving to ./transformations_data/std3/16.rt.txt\n",
        "Finding Transformation(trans_id=18, name='M+IsoProp+H', sub=61.06479132949075, mul=1.0, iso=0.0)\n",
        "Saving to ./transformations_data/std3/17.txt"
       ]
      },
      {
       "output_type": "stream",
       "stream": "stdout",
       "text": [
        "\n",
        "Saving to ./transformations_data/std3/17.mass.txt\n",
        "Saving to ./transformations_data/std3/17.rt.txt\n",
        "Finding Transformation(trans_id=19, name='M+ACN+Na', sub=64.01577018319077, mul=1.0, iso=0.0)\n",
        "Saving to ./transformations_data/std3/18.txt"
       ]
      },
      {
       "output_type": "stream",
       "stream": "stdout",
       "text": [
        "\n",
        "Saving to ./transformations_data/std3/18.mass.txt\n",
        "Saving to ./transformations_data/std3/18.rt.txt\n",
        "Finding Transformation(trans_id=20, name='M+2K-H', sub=76.91904018819076, mul=1.0, iso=0.0)\n",
        "Saving to ./transformations_data/std3/19.txt"
       ]
      },
      {
       "output_type": "stream",
       "stream": "stdout",
       "text": [
        "\n",
        "Saving to ./transformations_data/std3/19.mass.txt\n",
        "Saving to ./transformations_data/std3/19.rt.txt\n",
        "Finding Transformation(trans_id=21, name='M+DMSO+H', sub=79.02121199569076, mul=1.0, iso=0.0)\n",
        "Saving to ./transformations_data/std3/20.txt"
       ]
      },
      {
       "output_type": "stream",
       "stream": "stdout",
       "text": [
        "\n",
        "Saving to ./transformations_data/std3/20.mass.txt\n",
        "Saving to ./transformations_data/std3/20.rt.txt\n",
        "Finding Transformation(trans_id=22, name='M+2ACN+H', sub=83.06037465819077, mul=1.0, iso=0.0)\n",
        "Saving to ./transformations_data/std3/21.txt"
       ]
      },
      {
       "output_type": "stream",
       "stream": "stdout",
       "text": [
        "\n",
        "Saving to ./transformations_data/std3/21.mass.txt\n",
        "Saving to ./transformations_data/std3/21.rt.txt\n"
       ]
      }
     ],
     "prompt_number": 19
    },
    {
     "cell_type": "code",
     "collapsed": false,
     "input": [],
     "language": "python",
     "metadata": {},
     "outputs": [],
     "prompt_number": 19
    }
   ],
   "metadata": {}
  }
 ]
}