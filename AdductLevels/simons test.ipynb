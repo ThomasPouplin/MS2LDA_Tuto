{
 "metadata": {
  "name": "",
  "signature": "sha256:875d011bbc289a6c24675499858305b2470cc85c4eadc803f9ce3a821dbb6e51"
 },
 "nbformat": 3,
 "nbformat_minor": 0,
 "worksheets": [
  {
   "cells": [
    {
     "cell_type": "markdown",
     "metadata": {},
     "source": [
      "<p>Load things</p>"
     ]
    },
    {
     "cell_type": "code",
     "collapsed": false,
     "input": [
      "import sys\n",
      "import numpy as np\n",
      "basedir = '../'\n",
      "database_file = basedir + 'discretisation/database/std1_mols.csv'\n",
      "sys.path.append(basedir)\n",
      "from discretisation import utils, preprocessing\n",
      "inputfile = \"/home/joewandy/git/metabolomics_tools/AdductLevels/dilutions_data/Positive/std1/Std1_1.csv\"\n",
      "\n",
      "def num(s):\n",
      "    if isinstance(s, np.ndarray):\n",
      "        return np.asscalar(s)    \n",
      "    try:\n",
      "        return int(s)\n",
      "    except ValueError:\n",
      "        return float(s)"
     ],
     "language": "python",
     "metadata": {},
     "outputs": [],
     "prompt_number": 5
    },
    {
     "cell_type": "code",
     "collapsed": false,
     "input": [
      "f = open(inputfile,'r')\n",
      "ids = []\n",
      "mass = []\n",
      "rt = []\n",
      "intensity = []\n",
      "f.readline()\n",
      "for line in f:\n",
      "    a = line.split(\",\")\n",
      "    ids.append(num(a[0]))\n",
      "    mass.append(num(a[1]))\n",
      "    rt.append(num(a[2]))\n",
      "    intensity.append(num(a[3]))\n",
      "f.close()\n",
      "mass = np.array(mass)\n",
      "rt = np.array(rt)"
     ],
     "language": "python",
     "metadata": {},
     "outputs": [],
     "prompt_number": 6
    },
    {
     "cell_type": "code",
     "collapsed": false,
     "input": [
      "molname = []\n",
      "molmass = []\n",
      "molform = []\n",
      "f = open(database_file,'r')\n",
      "for line in f:\n",
      "    sl = line.split(',')\n",
      "    molname.append(sl[1])\n",
      "    molform.append(sl[2])\n",
      "    molmass.append(num(sl[3]))\n",
      "\n",
      "molmass = np.array(molmass)"
     ],
     "language": "python",
     "metadata": {},
     "outputs": [],
     "prompt_number": 7
    },
    {
     "cell_type": "markdown",
     "metadata": {},
     "source": [
      "<p>define a match function</p>"
     ]
    },
    {
     "cell_type": "code",
     "collapsed": false,
     "input": [
      "def match(mass1,mass2,tol):\n",
      "    return np.abs((mass1-mass2)/mass1)<tol*1e-6"
     ],
     "language": "python",
     "metadata": {},
     "outputs": [],
     "prompt_number": 8
    },
    {
     "cell_type": "markdown",
     "metadata": {},
     "source": [
      "<p>match each database mass with the measured mass - proton_mass at different tols. Log how many database molecules are hit (note that any one here could be hit more than once - it will stil only count as one</p>"
     ]
    },
    {
     "cell_type": "code",
     "collapsed": false,
     "input": [
      "proton_mass = 1.00727645199076\n",
      "tol = np.array([1,2,3,4,5,10,20,30,40,50])\n",
      "nHits = []\n",
      "found = np.zeros((molmass.size,mass.size))\n",
      "for t in tol:\n",
      "    found = np.zeros((molmass.size,mass.size))\n",
      "    for m in np.arange(molmass.size):\n",
      "        found[m,:] = match(molmass[m],mass-proton_mass,t)\n",
      "    s = found.sum(axis=1)\n",
      "    nHits.append(np.flatnonzero(s).size)\n",
      "\n",
      "nHits = np.array(nHits)"
     ],
     "language": "python",
     "metadata": {},
     "outputs": [],
     "prompt_number": 9
    },
    {
     "cell_type": "markdown",
     "metadata": {},
     "source": [
      "<p>Plot the tolerance (ppm) versus the nubmber of hits</p>"
     ]
    },
    {
     "cell_type": "code",
     "collapsed": false,
     "input": [
      "import pylab as plt\n",
      "%matplotlib inline\n",
      "\n",
      "\n",
      "plt.plot(tol,nHits)"
     ],
     "language": "python",
     "metadata": {},
     "outputs": [
      {
       "metadata": {},
       "output_type": "pyout",
       "prompt_number": 10,
       "text": [
        "[<matplotlib.lines.Line2D at 0x7f905118b150>]"
       ]
      },
      {
       "metadata": {},
       "output_type": "display_data",
       "png": "[encoded data removed]",
       "text": [
        "<matplotlib.figure.Figure at 0x7f90516dd350>"
       ]
      }
     ],
     "prompt_number": 10
    },
    {
     "cell_type": "code",
     "collapsed": false,
     "input": [],
     "language": "python",
     "metadata": {},
     "outputs": [],
     "prompt_number": 10
    },
    {
     "cell_type": "markdown",
     "metadata": {},
     "source": [
      "We want to count how many detected metabolites in the spreadsheet .."
     ]
    },
    {
     "cell_type": "code",
     "collapsed": false,
     "input": [
      "import csv\n",
      "detected = []\n",
      "input_file = 'detected_from_spreadsheet.csv'\n",
      "with open(input_file, 'rb') as csvfile:\n",
      "    reader = csv.reader(csvfile, delimiter=',')\n",
      "    next(reader, None)  # skip the headers\n",
      "    for row in reader:\n",
      "        print row\n",
      "        detected.append((row[0], row[1])) # read the name and formula"
     ],
     "language": "python",
     "metadata": {},
     "outputs": [
      {
       "output_type": "stream",
       "stream": "stdout",
       "text": [
        "['glutathione', 'C10H17N3O6S']\n",
        "['4-Trimethylammoniobutanoate', 'C7H15NO2']\n",
        "['O-Acetylcarnitine', 'C9H17NO4']\n",
        "['4-(beta-Acetylaminoethyl)imidazole', 'C7H11N3O']\n",
        "['Pyridoxine', 'C8H11NO3']\n",
        "['Isonicotinic acid', 'C6H5NO2']\n",
        "['Creatinine', 'C4H7N3O']\n",
        "['6-Methylaminopurine', 'C6H7N5']\n",
        "['Betaine', 'C5H11NO2']\n",
        "['Melatonin', 'C13H16N2O2']\n",
        "['Thiopurine S-methylether', 'C6H6N4S']\n",
        "['Acetylcholine', 'C7H15NO2']\n",
        "['Nicotinamide', 'C6H6N2O']\n",
        "['Deoxyadenosine', 'C10H13N5O3']\n",
        "['Nicotinate', 'C6H5NO2']\n",
        "['1-Aminopropan-2-ol', 'C3H9NO']\n",
        "['lipoamide', 'C8H15NOS2']\n",
        "['L-Carnitine', 'C7H15NO3']\n",
        "['Imidazole-4-acetate', 'C5H6N2O2']\n",
        "['L-isoleucine', 'C6H13NO2']\n",
        "['cytosine', 'C4H5N3O']\n",
        "[\"5'-Methylthioadenosine\", 'C11H15N5O3S']\n",
        "['Adenine', 'C5H5N5']\n",
        "['Pantothenate', 'C9H17NO5']\n",
        "['Adenosine', 'C10H13N5O4']\n",
        "['L-Proline', 'C5H9NO2']\n",
        "['5-Aminolevulinate', 'C5H9NO3']\n",
        "['HEPES', 'C8H18N2O4S']\n",
        "['2-Phenylglycine', 'C8H9NO2']\n",
        "['Choline phosphate', 'C5H14NO4P']\n",
        "['Choline', 'C5H13NO']\n",
        "['Pyridoxal', 'C8H9NO3']\n",
        "['Mercaptoethanol', 'C2H6OS']\n",
        "['N2-Acetyl-L-lysine', 'C8H16N2O3']\n",
        "['N(pi)-Methyl-L-histidine', 'C7H11N3O2']\n",
        "['2-Aminobutan-4-olide', 'C4H7NO2']\n",
        "['L-Methionine', 'C5H11NO2S']\n",
        "['L-Leucine', 'C6H13NO2']\n",
        "['5-Oxoproline', 'C5H7NO3']\n",
        "['sn-glycero-3-Phosphocholine', 'C8H20NO6P']\n",
        "['Cytidine', 'C9H13N3O5']\n",
        "['O-Acetyl-L-serine', 'C5H9NO4']\n",
        "['4-Aminobutanoate', 'C4H9NO2']\n",
        "['trans-4-Hydroxy-L-proline', 'C5H9NO3']\n",
        "['Inosine', 'C10H12N4O5']\n",
        "['Hypoxanthine', 'C5H4N4O']\n",
        "['L-Glutamine', 'C5H10N2O3']\n",
        "['L-Histidine', 'C6H9N3O2']\n",
        "['L-Valine', 'C5H11NO2']\n",
        "['Eflornithine', 'C6H12F2N2O2']\n",
        "['L-Phenylalanine', 'C9H11NO2']\n",
        "['L-Tyrosine', 'C9H11NO3']\n",
        "['L-Arginine', 'C6H14N4O2']\n",
        "['Methylcysteine', 'C4H9NO2S']\n",
        "['Guanine', 'C5H5N5O']\n",
        "['L-homoserine', 'C4H9NO3']\n",
        "['N-Acetylornithine', 'C7H14N2O3']\n",
        "['Picolinic acid', 'C6H5NO2']\n",
        "['L-Kynurenine', 'C10H12N2O3']\n",
        "['beta-Alanine', 'C3H7NO2']\n",
        "['N-Acetyl-D-glucosamine', 'C8H15NO6']\n",
        "['L-Citrulline', 'C6H13N3O3']\n",
        "['L-Tryptophan', 'C11H12N2O2']\n",
        "['Serotonin', 'C10H12N2O']\n",
        "['dAMP', 'C10H14N5O6P']\n",
        "['L-2-Aminoadipate', 'C6H11NO4']\n",
        "['Ala-Gly', 'C5H10N2O3']\n",
        "['Spermidine', 'C7H19N3']\n",
        "['Thiamin', 'C12H16N4OS']\n",
        "['L-Threonine', 'C4H9NO3']\n",
        "['D-Glucosamine', 'C6H13NO5']\n",
        "['gamma-L-Glutamyl-L-cysteine', 'C8H14N2O5S']\n",
        "['S-Adenosyl-L-homocysteine', 'C14H20N6O5S']\n",
        "['1-Aminocyclopropane-1-carboxylate', 'C4H7NO2']\n",
        "['L-Alanine', 'C3H7NO2']\n",
        "['L-Ornithine', 'C5H12N2O2']\n",
        "['Glutathione disulfide', 'C20H32N6O12S2']\n",
        "['Taurine', 'C2H7NO3S']\n",
        "['meso-2_6-Diaminoheptanedioate', 'C7H14N2O4']\n",
        "['thymine', 'C5H6N2O2']\n",
        "['4-Aminobenzoate', 'C7H7NO2']\n",
        "['AMP', 'C10H14N5O7P']\n",
        "['L-Lysine', 'C6H14N2O2']\n",
        "['L-Asparagine', 'C4H8N2O3']\n",
        "['Glycylglycine', 'C4H8N2O3']\n",
        "['dCMP', 'C9H14N3O7P']\n",
        "['Phenylhydrazine', 'C6H8N2']\n",
        "['riboflavin', 'C17H20N4O6']\n",
        "['L-Noradrenaline', 'C8H11NO3']\n",
        "['L-Serine', 'C3H7NO3']\n",
        "['L-Aspartate', 'C4H7NO4']\n",
        "['L-Cystine', 'C6H12N2O4S2']\n",
        "['Selenomethionine', 'C5H11NO2Se']\n",
        "['dGMP', 'C10H14N5O7P']\n",
        "['Dopamine', 'C8H11NO2']\n",
        "['Glycerol', 'C3H8O3']\n",
        "['Bis-gamma-glutamylcystine', 'C16H26N4O10S2']\n",
        "['L-Homocysteine', 'C4H9NO2S']\n",
        "['1_3-Diaminopropane', 'C3H10N2']\n",
        "['Ethanolamine phosphate', 'C2H8NO4P']\n",
        "['L-2_4-Diaminobutanoate', 'C4H10N2O2']\n",
        "['5-Methoxytryptamine', 'C11H14N2O']\n",
        "['FAD', 'C27H33N9O15P2']\n",
        "['Menadione', 'C11H8O2']\n",
        "['L-Cystine', 'C6H12N2O4S2']\n",
        "['L-Cystathionine', 'C7H14N2O4S']\n",
        "['1-Naphthylacetic acid', 'C12H10O2']\n",
        "['L-2_3-Diaminopropanoate', 'C3H8N2O2']\n",
        "['Glycine', 'C2H5NO2']\n",
        "['Putrescine', 'C4H12N2']\n",
        "['L-cysteine', 'C3H7NO2S']\n",
        "['Uracil', 'C4H4N2O2']\n",
        "['Biotin', 'C10H16N2O3S']\n",
        "['Biopterin', 'C9H11N5O3']\n",
        "['agmatine', 'C5H14N4']\n",
        "['D-Glucosamine-6-phosphate', 'C6H14NO8P']\n",
        "['Dihydrolipoamide', 'C8H17NOS2']\n",
        "[]\n"
       ]
      },
      {
       "ename": "IndexError",
       "evalue": "list index out of range",
       "output_type": "pyerr",
       "traceback": [
        "\u001b[1;31m---------------------------------------------------------------------------\u001b[0m\n\u001b[1;31mIndexError\u001b[0m                                Traceback (most recent call last)",
        "\u001b[1;32m<ipython-input-11-3ef43db2e6fc>\u001b[0m in \u001b[0;36m<module>\u001b[1;34m()\u001b[0m\n\u001b[0;32m      7\u001b[0m     \u001b[1;32mfor\u001b[0m \u001b[0mrow\u001b[0m \u001b[1;32min\u001b[0m \u001b[0mreader\u001b[0m\u001b[1;33m:\u001b[0m\u001b[1;33m\u001b[0m\u001b[0m\n\u001b[0;32m      8\u001b[0m         \u001b[1;32mprint\u001b[0m \u001b[0mrow\u001b[0m\u001b[1;33m\u001b[0m\u001b[0m\n\u001b[1;32m----> 9\u001b[1;33m         \u001b[0mdetected\u001b[0m\u001b[1;33m.\u001b[0m\u001b[0mappend\u001b[0m\u001b[1;33m(\u001b[0m\u001b[1;33m(\u001b[0m\u001b[0mrow\u001b[0m\u001b[1;33m[\u001b[0m\u001b[1;36m0\u001b[0m\u001b[1;33m]\u001b[0m\u001b[1;33m,\u001b[0m \u001b[0mrow\u001b[0m\u001b[1;33m[\u001b[0m\u001b[1;36m1\u001b[0m\u001b[1;33m]\u001b[0m\u001b[1;33m)\u001b[0m\u001b[1;33m)\u001b[0m \u001b[1;31m# read the name and formula\u001b[0m\u001b[1;33m\u001b[0m\u001b[0m\n\u001b[0m",
        "\u001b[1;31mIndexError\u001b[0m: list index out of range"
       ]
      }
     ],
     "prompt_number": 11
    },
    {
     "cell_type": "code",
     "collapsed": false,
     "input": [
      "# read our databases\n",
      "loader = preprocessing.FileLoader()\n",
      "database_file = basedir + 'discretisation/database/std1_mols.csv'\n",
      "std1_db = loader.load_database(database_file)\n",
      "database_file = basedir + 'discretisation/database/std2_mols.csv'\n",
      "std2_db = loader.load_database(database_file)\n",
      "database_file = basedir + 'discretisation/database/std3_mols.csv'\n",
      "std3_db = loader.load_database(database_file)\n",
      "\n",
      "def count_detected(database, detected):\n",
      "    count = 0\n",
      "    for db in database:\n",
      "        for det in detected:\n",
      "            db_formula = db.formula.strip().lower()\n",
      "            det_formula = det[1].strip().lower()\n",
      "            if db_formula == det_formula:\n",
      "                count += 1\n",
      "    print \"detected in spreadsheet = \" + str(count)"
     ],
     "language": "python",
     "metadata": {},
     "outputs": [],
     "prompt_number": 12
    },
    {
     "cell_type": "code",
     "collapsed": false,
     "input": [
      "print \"STD1 db size = \" + str(len(std1_db))\n",
      "count_detected(std1_db, detected)\n",
      "print \"STD2 db size = \" + str(len(std2_db))\n",
      "count_detected(std2_db, detected)\n",
      "print \"STD3 db size = \" + str(len(std3_db))\n",
      "count_detected(std3_db, detected)"
     ],
     "language": "python",
     "metadata": {},
     "outputs": [
      {
       "output_type": "stream",
       "stream": "stdout",
       "text": [
        "STD1 db size = 104\n",
        "detected in spreadsheet = 62\n",
        "STD2 db size = 96\n",
        "detected in spreadsheet = 64\n",
        "STD3 db size = 40\n",
        "detected in spreadsheet = 26\n"
       ]
      }
     ],
     "prompt_number": 13
    },
    {
     "cell_type": "code",
     "collapsed": false,
     "input": [],
     "language": "python",
     "metadata": {},
     "outputs": []
    }
   ],
   "metadata": {}
  }
 ]
}