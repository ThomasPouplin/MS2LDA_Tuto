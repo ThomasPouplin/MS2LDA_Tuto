{
 "metadata": {
  "name": "",
  "signature": "sha256:e1d639957d077b855822236b383c41af6e333e2513106f6faed9c375d4fad8d6"
 },
 "nbformat": 3,
 "nbformat_minor": 0,
 "worksheets": [
  {
   "cells": [
    {
     "cell_type": "markdown",
     "metadata": {},
     "source": [
      "Import stuff"
     ]
    },
    {
     "cell_type": "code",
     "collapsed": false,
     "input": [
      "import sys\n",
      "basedir = '../'\n",
      "sys.path.append(basedir) # need to do this to be able to import the stuff below\n",
      "\n",
      "from discretisation.continuous_mass_clusterer import ContinuousVB\n",
      "from discretisation.models import HyperPars\n",
      "from discretisation.preprocessing import FileLoader\n",
      "from discretisation import utils\n",
      "%pylab inline"
     ],
     "language": "python",
     "metadata": {},
     "outputs": [
      {
       "output_type": "stream",
       "stream": "stdout",
       "text": [
        "Populating the interactive namespace from numpy and matplotlib\n"
       ]
      }
     ],
     "prompt_number": 1
    },
    {
     "cell_type": "markdown",
     "metadata": {},
     "source": [
      "Say which dilution files to load"
     ]
    },
    {
     "cell_type": "code",
     "collapsed": false,
     "input": [
      "basedir = '.'\n",
      "dilutions = [\"1:1\", \"1:5\", \"1:10\", \"1:50\", \"1:100\", \"1:1000\"]\n",
      "input_files = [\n",
      "    basedir + '/dilutions_data/Positive/std1/Std1_1.csv',\n",
      "    basedir + '/dilutions_data/Positive/std1/Std1_1in5.csv',\n",
      "    basedir + '/dilutions_data/Positive/std1/Std1_1in10.csv',\n",
      "    basedir + '/dilutions_data/Positive/std1/Std1_1in50.csv',    \n",
      "    basedir + '/dilutions_data/Positive/std1/Std1_1in100.csv',\n",
      "    basedir + '/dilutions_data/Positive/std1/Std1_1in1000.csv'\n",
      "]\n",
      "# dilutions = [\"1:1\"]\n",
      "# input_files = [\n",
      "#     basedir + '/dilutions_data/Positive/std1/Std1_1.csv',\n",
      "# ]\n",
      "assert len(input_files) == len(dilutions)\n",
      "database_file = basedir + '/database/std1_mols.csv'\n",
      "transformation_file = basedir + '/mulsubs/mulsub2.txt'    \n",
      "mass_tol = 2\n",
      "rt_tol = 5"
     ],
     "language": "python",
     "metadata": {},
     "outputs": [],
     "prompt_number": 2
    },
    {
     "cell_type": "markdown",
     "metadata": {},
     "source": [
      "Load and cluster all the files"
     ]
    },
    {
     "cell_type": "code",
     "collapsed": false,
     "input": [
      "def load_and_cluster(input_file, database_file, transformation_file, mass_tol, rt_tol):\n",
      "        print \"Loading \" + input_file\n",
      "        loader = FileLoader()        \n",
      "        peak_data = loader.load_model_input(input_file, database_file, transformation_file, mass_tol, rt_tol, make_bins=True)\n",
      "        print \"Clustering \" + input_file\n",
      "        hp = HyperPars()\n",
      "        cluster_model = ContinuousVB(peak_data, hp)\n",
      "        cluster_model.n_iterations = 20\n",
      "        print cluster_model\n",
      "        cluster_model.run()    \n",
      "        return peak_data, cluster_model"
     ],
     "language": "python",
     "metadata": {},
     "outputs": [],
     "prompt_number": 3
    },
    {
     "cell_type": "code",
     "collapsed": false,
     "input": [
      "L = len(dilutions)    \n",
      "filemap = {}\n",
      "for j in range(L):\n",
      "    dil = dilutions[j]\n",
      "    input_file = input_files[j]\n",
      "    load_res = load_and_cluster(input_file, database_file, transformation_file, mass_tol, rt_tol)\n",
      "    filemap[dil] = load_res    "
     ],
     "language": "python",
     "metadata": {},
     "outputs": [
      {
       "output_type": "stream",
       "stream": "stdout",
       "text": [
        "Loading ./dilutions_data/Positive/std1/Std1_1.csv\n",
        "3759 features read"
       ]
      },
      {
       "output_type": "stream",
       "stream": "stdout",
       "text": [
        "\n",
        "Discretising at mass_tol=2, rt_tol=5\n",
        ". "
       ]
      },
      {
       "output_type": "stream",
       "stream": "stdout",
       "text": [
        ". "
       ]
      },
      {
       "output_type": "stream",
       "stream": "stdout",
       "text": [
        ". "
       ]
      },
      {
       "output_type": "stream",
       "stream": "stdout",
       "text": [
        ". "
       ]
      },
      {
       "output_type": "stream",
       "stream": "stdout",
       "text": [
        ". "
       ]
      },
      {
       "output_type": "stream",
       "stream": "stdout",
       "text": [
        ". "
       ]
      },
      {
       "output_type": "stream",
       "stream": "stdout",
       "text": [
        ". "
       ]
      },
      {
       "output_type": "stream",
       "stream": "stdout",
       "text": [
        ". "
       ]
      },
      {
       "output_type": "stream",
       "stream": "stdout",
       "text": [
        ". "
       ]
      },
      {
       "output_type": "stream",
       "stream": "stdout",
       "text": [
        ". "
       ]
      },
      {
       "output_type": "stream",
       "stream": "stdout",
       "text": [
        ". "
       ]
      },
      {
       "output_type": "stream",
       "stream": "stdout",
       "text": [
        ". "
       ]
      },
      {
       "output_type": "stream",
       "stream": "stdout",
       "text": [
        ". "
       ]
      },
      {
       "output_type": "stream",
       "stream": "stdout",
       "text": [
        ". "
       ]
      },
      {
       "output_type": "stream",
       "stream": "stdout",
       "text": [
        ". "
       ]
      },
      {
       "output_type": "stream",
       "stream": "stdout",
       "text": [
        ". "
       ]
      },
      {
       "output_type": "stream",
       "stream": "stdout",
       "text": [
        ". "
       ]
      },
      {
       "output_type": "stream",
       "stream": "stdout",
       "text": [
        ". "
       ]
      },
      {
       "output_type": "stream",
       "stream": "stdout",
       "text": [
        ". "
       ]
      },
      {
       "output_type": "stream",
       "stream": "stdout",
       "text": [
        ". "
       ]
      },
      {
       "output_type": "stream",
       "stream": "stdout",
       "text": [
        ". "
       ]
      },
      {
       "output_type": "stream",
       "stream": "stdout",
       "text": [
        ". "
       ]
      },
      {
       "output_type": "stream",
       "stream": "stdout",
       "text": [
        ". "
       ]
      },
      {
       "output_type": "stream",
       "stream": "stdout",
       "text": [
        ". "
       ]
      },
      {
       "output_type": "stream",
       "stream": "stdout",
       "text": [
        ". "
       ]
      },
      {
       "output_type": "stream",
       "stream": "stdout",
       "text": [
        ". "
       ]
      },
      {
       "output_type": "stream",
       "stream": "stdout",
       "text": [
        ". "
       ]
      },
      {
       "output_type": "stream",
       "stream": "stdout",
       "text": [
        ". "
       ]
      },
      {
       "output_type": "stream",
       "stream": "stdout",
       "text": [
        ". "
       ]
      },
      {
       "output_type": "stream",
       "stream": "stdout",
       "text": [
        ". "
       ]
      },
      {
       "output_type": "stream",
       "stream": "stdout",
       "text": [
        ". "
       ]
      },
      {
       "output_type": "stream",
       "stream": "stdout",
       "text": [
        ". "
       ]
      },
      {
       "output_type": "stream",
       "stream": "stdout",
       "text": [
        ". "
       ]
      },
      {
       "output_type": "stream",
       "stream": "stdout",
       "text": [
        ". "
       ]
      },
      {
       "output_type": "stream",
       "stream": "stdout",
       "text": [
        ". "
       ]
      },
      {
       "output_type": "stream",
       "stream": "stdout",
       "text": [
        ". "
       ]
      },
      {
       "output_type": "stream",
       "stream": "stdout",
       "text": [
        ". "
       ]
      },
      {
       "output_type": "stream",
       "stream": "stdout",
       "text": [
        ".\n"
       ]
      },
      {
       "output_type": "stream",
       "stream": "stdout",
       "text": [
        "Total bins=3759 total features=3759\n",
        "Clustering ./dilutions_data/Positive/std1/Std1_1.csv\n",
        "Continuous Clusterer initialised - wow\n",
        "Variational Bayes for continuous mass model\n",
        "Hyperparameters alpha=100.0, mass_prec=100, mass_prior_prec=100, rt_prec=10, rt_prior_prec=100\n",
        "n_iterations = 20\n",
        "Running the clustering\n",
        "1000 peaks to be re-sampled\n",
        "Iteration 0"
       ]
      },
      {
       "output_type": "stream",
       "stream": "stdout",
       "text": [
        "\n"
       ]
      },
      {
       "output_type": "stream",
       "stream": "stdout",
       "text": [
        "Change in Z: 341.129626919\n",
        "Iteration 1\n"
       ]
      },
      {
       "output_type": "stream",
       "stream": "stdout",
       "text": [
        "Change in Z: 149.915227116\n",
        "Iteration 2\n"
       ]
      },
      {
       "output_type": "stream",
       "stream": "stdout",
       "text": [
        "Change in Z: 15.635080658\n",
        "Iteration 3\n"
       ]
      },
      {
       "output_type": "stream",
       "stream": "stdout",
       "text": [
        "Change in Z: 2.91686111733\n",
        "Iteration 4\n"
       ]
      },
      {
       "output_type": "stream",
       "stream": "stdout",
       "text": [
        "Change in Z: 1.75184575112\n",
        "Iteration 5\n"
       ]
      },
      {
       "output_type": "stream",
       "stream": "stdout",
       "text": [
        "Change in Z: 0.0118767258308\n",
        "Iteration 6\n"
       ]
      },
      {
       "output_type": "stream",
       "stream": "stdout",
       "text": [
        "Change in Z: 0.00310216227058\n",
        "Iteration 7\n"
       ]
      },
      {
       "output_type": "stream",
       "stream": "stdout",
       "text": [
        "Change in Z: 0.00261328310634\n",
        "Iteration 8\n"
       ]
      },
      {
       "output_type": "stream",
       "stream": "stdout",
       "text": [
        "Change in Z: 0.00826665615129\n",
        "Iteration 9\n"
       ]
      },
      {
       "output_type": "stream",
       "stream": "stdout",
       "text": [
        "Change in Z: 0.0325409371025\n",
        "Iteration 10\n"
       ]
      },
      {
       "output_type": "stream",
       "stream": "stdout",
       "text": [
        "Change in Z: 0.0727105801622\n",
        "Iteration 11\n"
       ]
      },
      {
       "output_type": "stream",
       "stream": "stdout",
       "text": [
        "Change in Z: 0.0223854575741\n",
        "Iteration 12\n"
       ]
      },
      {
       "output_type": "stream",
       "stream": "stdout",
       "text": [
        "Change in Z: 0.0295037509506\n",
        "Iteration 13\n"
       ]
      },
      {
       "output_type": "stream",
       "stream": "stdout",
       "text": [
        "Change in Z: 0.0709998356046\n",
        "Iteration 14\n"
       ]
      },
      {
       "output_type": "stream",
       "stream": "stdout",
       "text": [
        "Change in Z: 0.0262907039508\n",
        "Iteration 15\n"
       ]
      },
      {
       "output_type": "stream",
       "stream": "stdout",
       "text": [
        "Change in Z: 0.00357623311632\n",
        "Iteration 16\n"
       ]
      },
      {
       "output_type": "stream",
       "stream": "stdout",
       "text": [
        "Change in Z: 0.00191667436228\n",
        "Iteration 17\n"
       ]
      },
      {
       "output_type": "stream",
       "stream": "stdout",
       "text": [
        "Change in Z: 0.00805929713435\n",
        "Iteration 18\n"
       ]
      },
      {
       "output_type": "stream",
       "stream": "stdout",
       "text": [
        "Change in Z: 0.0381681993801\n",
        "Iteration 19\n"
       ]
      },
      {
       "output_type": "stream",
       "stream": "stdout",
       "text": [
        "Change in Z: 0.127469690101\n",
        "Loading ./dilutions_data/Positive/std1/Std1_1in5.csv\n",
        "3352 features read"
       ]
      },
      {
       "output_type": "stream",
       "stream": "stdout",
       "text": [
        "\n",
        "Discretising at mass_tol=2, rt_tol=5\n",
        ". "
       ]
      },
      {
       "output_type": "stream",
       "stream": "stdout",
       "text": [
        ". "
       ]
      },
      {
       "output_type": "stream",
       "stream": "stdout",
       "text": [
        ". "
       ]
      },
      {
       "output_type": "stream",
       "stream": "stdout",
       "text": [
        ". "
       ]
      },
      {
       "output_type": "stream",
       "stream": "stdout",
       "text": [
        ". "
       ]
      },
      {
       "output_type": "stream",
       "stream": "stdout",
       "text": [
        ". "
       ]
      },
      {
       "output_type": "stream",
       "stream": "stdout",
       "text": [
        ". "
       ]
      },
      {
       "output_type": "stream",
       "stream": "stdout",
       "text": [
        ". "
       ]
      },
      {
       "output_type": "stream",
       "stream": "stdout",
       "text": [
        ". "
       ]
      },
      {
       "output_type": "stream",
       "stream": "stdout",
       "text": [
        ". "
       ]
      },
      {
       "output_type": "stream",
       "stream": "stdout",
       "text": [
        ". "
       ]
      },
      {
       "output_type": "stream",
       "stream": "stdout",
       "text": [
        ". "
       ]
      },
      {
       "output_type": "stream",
       "stream": "stdout",
       "text": [
        ". "
       ]
      },
      {
       "output_type": "stream",
       "stream": "stdout",
       "text": [
        ". "
       ]
      },
      {
       "output_type": "stream",
       "stream": "stdout",
       "text": [
        ". "
       ]
      },
      {
       "output_type": "stream",
       "stream": "stdout",
       "text": [
        ". "
       ]
      },
      {
       "output_type": "stream",
       "stream": "stdout",
       "text": [
        ". "
       ]
      },
      {
       "output_type": "stream",
       "stream": "stdout",
       "text": [
        ". "
       ]
      },
      {
       "output_type": "stream",
       "stream": "stdout",
       "text": [
        ". "
       ]
      },
      {
       "output_type": "stream",
       "stream": "stdout",
       "text": [
        ". "
       ]
      },
      {
       "output_type": "stream",
       "stream": "stdout",
       "text": [
        ". "
       ]
      },
      {
       "output_type": "stream",
       "stream": "stdout",
       "text": [
        ". "
       ]
      },
      {
       "output_type": "stream",
       "stream": "stdout",
       "text": [
        ". "
       ]
      },
      {
       "output_type": "stream",
       "stream": "stdout",
       "text": [
        ". "
       ]
      },
      {
       "output_type": "stream",
       "stream": "stdout",
       "text": [
        ". "
       ]
      },
      {
       "output_type": "stream",
       "stream": "stdout",
       "text": [
        ". "
       ]
      },
      {
       "output_type": "stream",
       "stream": "stdout",
       "text": [
        ". "
       ]
      },
      {
       "output_type": "stream",
       "stream": "stdout",
       "text": [
        ". "
       ]
      },
      {
       "output_type": "stream",
       "stream": "stdout",
       "text": [
        ". "
       ]
      },
      {
       "output_type": "stream",
       "stream": "stdout",
       "text": [
        ". "
       ]
      },
      {
       "output_type": "stream",
       "stream": "stdout",
       "text": [
        ". "
       ]
      },
      {
       "output_type": "stream",
       "stream": "stdout",
       "text": [
        ". "
       ]
      },
      {
       "output_type": "stream",
       "stream": "stdout",
       "text": [
        ". "
       ]
      },
      {
       "output_type": "stream",
       "stream": "stdout",
       "text": [
        ".\n"
       ]
      },
      {
       "output_type": "stream",
       "stream": "stdout",
       "text": [
        "Total bins=3352 total features=3352\n",
        "Clustering ./dilutions_data/Positive/std1/Std1_1in5.csv\n",
        "Continuous Clusterer initialised - wow\n",
        "Variational Bayes for continuous mass model\n",
        "Hyperparameters alpha=100.0, mass_prec=100, mass_prior_prec=100, rt_prec=10, rt_prior_prec=100\n",
        "n_iterations = 20\n",
        "Running the clustering\n",
        "909 peaks to be re-sampled\n",
        "Iteration 0"
       ]
      },
      {
       "output_type": "stream",
       "stream": "stdout",
       "text": [
        "\n"
       ]
      },
      {
       "output_type": "stream",
       "stream": "stdout",
       "text": [
        "Change in Z: 278.520662129\n",
        "Iteration 1\n"
       ]
      },
      {
       "output_type": "stream",
       "stream": "stdout",
       "text": [
        "Change in Z: 133.691064199\n",
        "Iteration 2\n"
       ]
      },
      {
       "output_type": "stream",
       "stream": "stdout",
       "text": [
        "Change in Z: 13.2176858914\n",
        "Iteration 3\n"
       ]
      },
      {
       "output_type": "stream",
       "stream": "stdout",
       "text": [
        "Change in Z: 0.737103549882\n",
        "Iteration 4\n"
       ]
      },
      {
       "output_type": "stream",
       "stream": "stdout",
       "text": [
        "Change in Z: 0.0555593284557\n",
        "Iteration 5\n"
       ]
      },
      {
       "output_type": "stream",
       "stream": "stdout",
       "text": [
        "Change in Z: 0.00325898575125\n",
        "Iteration 6\n"
       ]
      },
      {
       "output_type": "stream",
       "stream": "stdout",
       "text": [
        "Change in Z: 0.000625596165782\n",
        "Iteration 7\n"
       ]
      },
      {
       "output_type": "stream",
       "stream": "stdout",
       "text": [
        "Change in Z: 0.000154678406761\n",
        "Iteration 8\n"
       ]
      },
      {
       "output_type": "stream",
       "stream": "stdout",
       "text": [
        "Change in Z: 4.96722474505e-05\n",
        "Iteration 9\n"
       ]
      },
      {
       "output_type": "stream",
       "stream": "stdout",
       "text": [
        "Change in Z: 2.05283635821e-05\n",
        "Iteration 10\n"
       ]
      },
      {
       "output_type": "stream",
       "stream": "stdout",
       "text": [
        "Change in Z: 1.03329207444e-05\n",
        "Iteration 11\n"
       ]
      },
      {
       "output_type": "stream",
       "stream": "stdout",
       "text": [
        "Change in Z: 6.17430316356e-06\n",
        "Iteration 12\n"
       ]
      },
      {
       "output_type": "stream",
       "stream": "stdout",
       "text": [
        "Change in Z: 5.55179345337e-06\n",
        "Iteration 13\n"
       ]
      },
      {
       "output_type": "stream",
       "stream": "stdout",
       "text": [
        "Change in Z: 1.23654979352e-05\n",
        "Iteration 14\n"
       ]
      },
      {
       "output_type": "stream",
       "stream": "stdout",
       "text": [
        "Change in Z: 5.02434686088e-05\n",
        "Iteration 15\n"
       ]
      },
      {
       "output_type": "stream",
       "stream": "stdout",
       "text": [
        "Change in Z: 0.000233308588553\n",
        "Iteration 16\n"
       ]
      },
      {
       "output_type": "stream",
       "stream": "stdout",
       "text": [
        "Change in Z: 0.00110048011904\n",
        "Iteration 17\n"
       ]
      },
      {
       "output_type": "stream",
       "stream": "stdout",
       "text": [
        "Change in Z: 0.00511508086462\n",
        "Iteration 18\n"
       ]
      },
      {
       "output_type": "stream",
       "stream": "stdout",
       "text": [
        "Change in Z: 0.0219195788952\n",
        "Iteration 19\n"
       ]
      },
      {
       "output_type": "stream",
       "stream": "stdout",
       "text": [
        "Change in Z: 0.0643470459809\n",
        "Loading ./dilutions_data/Positive/std1/Std1_1in10.csv\n",
        "2957 features read"
       ]
      },
      {
       "output_type": "stream",
       "stream": "stdout",
       "text": [
        "\n",
        "Discretising at mass_tol=2, rt_tol=5\n",
        ". "
       ]
      },
      {
       "output_type": "stream",
       "stream": "stdout",
       "text": [
        ". "
       ]
      },
      {
       "output_type": "stream",
       "stream": "stdout",
       "text": [
        ". "
       ]
      },
      {
       "output_type": "stream",
       "stream": "stdout",
       "text": [
        ". "
       ]
      },
      {
       "output_type": "stream",
       "stream": "stdout",
       "text": [
        ". "
       ]
      },
      {
       "output_type": "stream",
       "stream": "stdout",
       "text": [
        ". "
       ]
      },
      {
       "output_type": "stream",
       "stream": "stdout",
       "text": [
        ". "
       ]
      },
      {
       "output_type": "stream",
       "stream": "stdout",
       "text": [
        ". "
       ]
      },
      {
       "output_type": "stream",
       "stream": "stdout",
       "text": [
        ". "
       ]
      },
      {
       "output_type": "stream",
       "stream": "stdout",
       "text": [
        ". "
       ]
      },
      {
       "output_type": "stream",
       "stream": "stdout",
       "text": [
        ". "
       ]
      },
      {
       "output_type": "stream",
       "stream": "stdout",
       "text": [
        ". "
       ]
      },
      {
       "output_type": "stream",
       "stream": "stdout",
       "text": [
        ". "
       ]
      },
      {
       "output_type": "stream",
       "stream": "stdout",
       "text": [
        ". "
       ]
      },
      {
       "output_type": "stream",
       "stream": "stdout",
       "text": [
        ". "
       ]
      },
      {
       "output_type": "stream",
       "stream": "stdout",
       "text": [
        ". "
       ]
      },
      {
       "output_type": "stream",
       "stream": "stdout",
       "text": [
        ". "
       ]
      },
      {
       "output_type": "stream",
       "stream": "stdout",
       "text": [
        ". "
       ]
      },
      {
       "output_type": "stream",
       "stream": "stdout",
       "text": [
        ". "
       ]
      },
      {
       "output_type": "stream",
       "stream": "stdout",
       "text": [
        ". "
       ]
      },
      {
       "output_type": "stream",
       "stream": "stdout",
       "text": [
        ". "
       ]
      },
      {
       "output_type": "stream",
       "stream": "stdout",
       "text": [
        ". "
       ]
      },
      {
       "output_type": "stream",
       "stream": "stdout",
       "text": [
        ". "
       ]
      },
      {
       "output_type": "stream",
       "stream": "stdout",
       "text": [
        ". "
       ]
      },
      {
       "output_type": "stream",
       "stream": "stdout",
       "text": [
        ". "
       ]
      },
      {
       "output_type": "stream",
       "stream": "stdout",
       "text": [
        ". "
       ]
      },
      {
       "output_type": "stream",
       "stream": "stdout",
       "text": [
        ". "
       ]
      },
      {
       "output_type": "stream",
       "stream": "stdout",
       "text": [
        ". "
       ]
      },
      {
       "output_type": "stream",
       "stream": "stdout",
       "text": [
        ". "
       ]
      },
      {
       "output_type": "stream",
       "stream": "stdout",
       "text": [
        ".\n"
       ]
      },
      {
       "output_type": "stream",
       "stream": "stdout",
       "text": [
        "Total bins=2957 total features=2957\n",
        "Clustering ./dilutions_data/Positive/std1/Std1_1in10.csv\n",
        "Continuous Clusterer initialised - wow\n",
        "Variational Bayes for continuous mass model\n",
        "Hyperparameters alpha=100.0, mass_prec=100, mass_prior_prec=100, rt_prec=10, rt_prior_prec=100\n",
        "n_iterations = 20\n",
        "Running the clustering\n",
        "755 peaks to be re-sampled\n",
        "Iteration 0"
       ]
      },
      {
       "output_type": "stream",
       "stream": "stdout",
       "text": [
        "\n"
       ]
      },
      {
       "output_type": "stream",
       "stream": "stdout",
       "text": [
        "Change in Z: 230.932402453\n",
        "Iteration 1\n"
       ]
      },
      {
       "output_type": "stream",
       "stream": "stdout",
       "text": [
        "Change in Z: 107.207001983\n",
        "Iteration 2\n"
       ]
      },
      {
       "output_type": "stream",
       "stream": "stdout",
       "text": [
        "Change in Z: 11.3868987469\n",
        "Iteration 3\n"
       ]
      },
      {
       "output_type": "stream",
       "stream": "stdout",
       "text": [
        "Change in Z: 1.08529272757\n",
        "Iteration 4\n"
       ]
      },
      {
       "output_type": "stream",
       "stream": "stdout",
       "text": [
        "Change in Z: 0.253819888149\n",
        "Iteration 5\n"
       ]
      },
      {
       "output_type": "stream",
       "stream": "stdout",
       "text": [
        "Change in Z: 0.0355799093007\n",
        "Iteration 6\n"
       ]
      },
      {
       "output_type": "stream",
       "stream": "stdout",
       "text": [
        "Change in Z: 0.00969267896629\n",
        "Iteration 7\n"
       ]
      },
      {
       "output_type": "stream",
       "stream": "stdout",
       "text": [
        "Change in Z: 0.00245602484276\n",
        "Iteration 8\n"
       ]
      },
      {
       "output_type": "stream",
       "stream": "stdout",
       "text": [
        "Change in Z: 0.000655376744289\n",
        "Iteration 9\n"
       ]
      },
      {
       "output_type": "stream",
       "stream": "stdout",
       "text": [
        "Change in Z: 0.000188351188218\n",
        "Iteration 10\n"
       ]
      },
      {
       "output_type": "stream",
       "stream": "stdout",
       "text": [
        "Change in Z: 6.10091624956e-05\n",
        "Iteration 11\n"
       ]
      },
      {
       "output_type": "stream",
       "stream": "stdout",
       "text": [
        "Change in Z: 2.49681969186e-05\n",
        "Iteration 12\n"
       ]
      },
      {
       "output_type": "stream",
       "stream": "stdout",
       "text": [
        "Change in Z: 2.20176843268e-05\n",
        "Iteration 13\n"
       ]
      },
      {
       "output_type": "stream",
       "stream": "stdout",
       "text": [
        "Change in Z: 6.543858641e-05\n",
        "Iteration 14\n"
       ]
      },
      {
       "output_type": "stream",
       "stream": "stdout",
       "text": [
        "Change in Z: 0.000300545319605\n",
        "Iteration 15\n"
       ]
      },
      {
       "output_type": "stream",
       "stream": "stdout",
       "text": [
        "Change in Z: 0.00145616280289\n",
        "Iteration 16\n"
       ]
      },
      {
       "output_type": "stream",
       "stream": "stdout",
       "text": [
        "Change in Z: 0.00693006167417\n",
        "Iteration 17\n"
       ]
      },
      {
       "output_type": "stream",
       "stream": "stdout",
       "text": [
        "Change in Z: 0.0293188932266\n",
        "Iteration 18\n"
       ]
      },
      {
       "output_type": "stream",
       "stream": "stdout",
       "text": [
        "Change in Z: 0.0708939263123\n",
        "Iteration 19\n"
       ]
      },
      {
       "output_type": "stream",
       "stream": "stdout",
       "text": [
        "Change in Z: 0.0193164203477\n",
        "Loading ./dilutions_data/Positive/std1/Std1_1in50.csv\n",
        "2492 features read"
       ]
      },
      {
       "output_type": "stream",
       "stream": "stdout",
       "text": [
        "\n",
        "Discretising at mass_tol=2, rt_tol=5\n",
        ". "
       ]
      },
      {
       "output_type": "stream",
       "stream": "stdout",
       "text": [
        ". "
       ]
      },
      {
       "output_type": "stream",
       "stream": "stdout",
       "text": [
        ". "
       ]
      },
      {
       "output_type": "stream",
       "stream": "stdout",
       "text": [
        ". "
       ]
      },
      {
       "output_type": "stream",
       "stream": "stdout",
       "text": [
        ". "
       ]
      },
      {
       "output_type": "stream",
       "stream": "stdout",
       "text": [
        ". "
       ]
      },
      {
       "output_type": "stream",
       "stream": "stdout",
       "text": [
        ". "
       ]
      },
      {
       "output_type": "stream",
       "stream": "stdout",
       "text": [
        ". "
       ]
      },
      {
       "output_type": "stream",
       "stream": "stdout",
       "text": [
        ". "
       ]
      },
      {
       "output_type": "stream",
       "stream": "stdout",
       "text": [
        ". "
       ]
      },
      {
       "output_type": "stream",
       "stream": "stdout",
       "text": [
        ". "
       ]
      },
      {
       "output_type": "stream",
       "stream": "stdout",
       "text": [
        ". "
       ]
      },
      {
       "output_type": "stream",
       "stream": "stdout",
       "text": [
        ". "
       ]
      },
      {
       "output_type": "stream",
       "stream": "stdout",
       "text": [
        ". "
       ]
      },
      {
       "output_type": "stream",
       "stream": "stdout",
       "text": [
        ". "
       ]
      },
      {
       "output_type": "stream",
       "stream": "stdout",
       "text": [
        ". "
       ]
      },
      {
       "output_type": "stream",
       "stream": "stdout",
       "text": [
        ". "
       ]
      },
      {
       "output_type": "stream",
       "stream": "stdout",
       "text": [
        ". "
       ]
      },
      {
       "output_type": "stream",
       "stream": "stdout",
       "text": [
        ". "
       ]
      },
      {
       "output_type": "stream",
       "stream": "stdout",
       "text": [
        ". "
       ]
      },
      {
       "output_type": "stream",
       "stream": "stdout",
       "text": [
        ". "
       ]
      },
      {
       "output_type": "stream",
       "stream": "stdout",
       "text": [
        ". "
       ]
      },
      {
       "output_type": "stream",
       "stream": "stdout",
       "text": [
        ". "
       ]
      },
      {
       "output_type": "stream",
       "stream": "stdout",
       "text": [
        ". "
       ]
      },
      {
       "output_type": "stream",
       "stream": "stdout",
       "text": [
        ".\n"
       ]
      },
      {
       "output_type": "stream",
       "stream": "stdout",
       "text": [
        "Total bins=2492 total features=2492\n",
        "Clustering ./dilutions_data/Positive/std1/Std1_1in50.csv\n",
        "Continuous Clusterer initialised - wow\n",
        "Variational Bayes for continuous mass model\n",
        "Hyperparameters alpha=100.0, mass_prec=100, mass_prior_prec=100, rt_prec=10, rt_prior_prec=100\n",
        "n_iterations = 20\n",
        "Running the clustering\n",
        "572 peaks to be re-sampled\n",
        "Iteration 0"
       ]
      },
      {
       "output_type": "stream",
       "stream": "stdout",
       "text": [
        "\n"
       ]
      },
      {
       "output_type": "stream",
       "stream": "stdout",
       "text": [
        "Change in Z: 177.972741487\n",
        "Iteration 1\n"
       ]
      },
      {
       "output_type": "stream",
       "stream": "stdout",
       "text": [
        "Change in Z: 74.2327986902\n",
        "Iteration 2\n"
       ]
      },
      {
       "output_type": "stream",
       "stream": "stdout",
       "text": [
        "Change in Z: 6.45270938669\n",
        "Iteration 3\n"
       ]
      },
      {
       "output_type": "stream",
       "stream": "stdout",
       "text": [
        "Change in Z: 0.20716771638\n",
        "Iteration 4\n"
       ]
      },
      {
       "output_type": "stream",
       "stream": "stdout",
       "text": [
        "Change in Z: 0.0058724397305\n",
        "Iteration 5\n"
       ]
      },
      {
       "output_type": "stream",
       "stream": "stdout",
       "text": [
        "Change in Z: 0.000801494886732\n",
        "Iteration 6\n"
       ]
      },
      {
       "output_type": "stream",
       "stream": "stdout",
       "text": [
        "Change in Z: 0.000187237028212\n",
        "Iteration 7\n"
       ]
      },
      {
       "output_type": "stream",
       "stream": "stdout",
       "text": [
        "Change in Z: 4.49209489976e-05\n",
        "Iteration 8\n"
       ]
      },
      {
       "output_type": "stream",
       "stream": "stdout",
       "text": [
        "Change in Z: 1.08943897447e-05\n",
        "Iteration 9\n"
       ]
      },
      {
       "output_type": "stream",
       "stream": "stdout",
       "text": [
        "Change in Z: 2.7532717504e-06\n",
        "Iteration 10\n"
       ]
      },
      {
       "output_type": "stream",
       "stream": "stdout",
       "text": [
        "Change in Z: 1.20769374679e-06\n",
        "Iteration 11\n"
       ]
      },
      {
       "output_type": "stream",
       "stream": "stdout",
       "text": [
        "Change in Z: 2.97997157688e-06\n",
        "Iteration 12\n"
       ]
      },
      {
       "output_type": "stream",
       "stream": "stdout",
       "text": [
        "Change in Z: 1.41303159394e-05\n",
        "Iteration 13\n"
       ]
      },
      {
       "output_type": "stream",
       "stream": "stdout",
       "text": [
        "Change in Z: 7.03308183434e-05\n",
        "Iteration 14\n"
       ]
      },
      {
       "output_type": "stream",
       "stream": "stdout",
       "text": [
        "Change in Z: 0.000350569633383\n",
        "Iteration 15\n"
       ]
      },
      {
       "output_type": "stream",
       "stream": "stdout",
       "text": [
        "Change in Z: 0.00173814777505\n",
        "Iteration 16\n"
       ]
      },
      {
       "output_type": "stream",
       "stream": "stdout",
       "text": [
        "Change in Z: 0.0083816055758\n",
        "Iteration 17\n"
       ]
      },
      {
       "output_type": "stream",
       "stream": "stdout",
       "text": [
        "Change in Z: 0.0352175369058\n",
        "Iteration 18\n"
       ]
      },
      {
       "output_type": "stream",
       "stream": "stdout",
       "text": [
        "Change in Z: 0.0783636121026\n",
        "Iteration 19\n"
       ]
      },
      {
       "output_type": "stream",
       "stream": "stdout",
       "text": [
        "Change in Z: 0.0407703089526\n",
        "Loading ./dilutions_data/Positive/std1/Std1_1in100.csv\n",
        "2550 features read"
       ]
      },
      {
       "output_type": "stream",
       "stream": "stdout",
       "text": [
        "\n",
        "Discretising at mass_tol=2, rt_tol=5\n",
        ". "
       ]
      },
      {
       "output_type": "stream",
       "stream": "stdout",
       "text": [
        ". "
       ]
      },
      {
       "output_type": "stream",
       "stream": "stdout",
       "text": [
        ". "
       ]
      },
      {
       "output_type": "stream",
       "stream": "stdout",
       "text": [
        ". "
       ]
      },
      {
       "output_type": "stream",
       "stream": "stdout",
       "text": [
        ". "
       ]
      },
      {
       "output_type": "stream",
       "stream": "stdout",
       "text": [
        ". "
       ]
      },
      {
       "output_type": "stream",
       "stream": "stdout",
       "text": [
        ". "
       ]
      },
      {
       "output_type": "stream",
       "stream": "stdout",
       "text": [
        ". "
       ]
      },
      {
       "output_type": "stream",
       "stream": "stdout",
       "text": [
        ". "
       ]
      },
      {
       "output_type": "stream",
       "stream": "stdout",
       "text": [
        ". "
       ]
      },
      {
       "output_type": "stream",
       "stream": "stdout",
       "text": [
        ". "
       ]
      },
      {
       "output_type": "stream",
       "stream": "stdout",
       "text": [
        ". "
       ]
      },
      {
       "output_type": "stream",
       "stream": "stdout",
       "text": [
        ". "
       ]
      },
      {
       "output_type": "stream",
       "stream": "stdout",
       "text": [
        ". "
       ]
      },
      {
       "output_type": "stream",
       "stream": "stdout",
       "text": [
        ". "
       ]
      },
      {
       "output_type": "stream",
       "stream": "stdout",
       "text": [
        ". "
       ]
      },
      {
       "output_type": "stream",
       "stream": "stdout",
       "text": [
        ". "
       ]
      },
      {
       "output_type": "stream",
       "stream": "stdout",
       "text": [
        ". "
       ]
      },
      {
       "output_type": "stream",
       "stream": "stdout",
       "text": [
        ". "
       ]
      },
      {
       "output_type": "stream",
       "stream": "stdout",
       "text": [
        ". "
       ]
      },
      {
       "output_type": "stream",
       "stream": "stdout",
       "text": [
        ". "
       ]
      },
      {
       "output_type": "stream",
       "stream": "stdout",
       "text": [
        ". "
       ]
      },
      {
       "output_type": "stream",
       "stream": "stdout",
       "text": [
        ". "
       ]
      },
      {
       "output_type": "stream",
       "stream": "stdout",
       "text": [
        ". "
       ]
      },
      {
       "output_type": "stream",
       "stream": "stdout",
       "text": [
        ". "
       ]
      },
      {
       "output_type": "stream",
       "stream": "stdout",
       "text": [
        ".\n"
       ]
      },
      {
       "output_type": "stream",
       "stream": "stdout",
       "text": [
        "Total bins=2550 total features=2550\n",
        "Clustering ./dilutions_data/Positive/std1/Std1_1in100.csv\n",
        "Continuous Clusterer initialised - wow\n",
        "Variational Bayes for continuous mass model\n",
        "Hyperparameters alpha=100.0, mass_prec=100, mass_prior_prec=100, rt_prec=10, rt_prior_prec=100\n",
        "n_iterations = 20\n",
        "Running the clustering\n",
        "602 peaks to be re-sampled\n",
        "Iteration 0"
       ]
      },
      {
       "output_type": "stream",
       "stream": "stdout",
       "text": [
        "\n"
       ]
      },
      {
       "output_type": "stream",
       "stream": "stdout",
       "text": [
        "Change in Z: 174.35970429\n",
        "Iteration 1\n"
       ]
      },
      {
       "output_type": "stream",
       "stream": "stdout",
       "text": [
        "Change in Z: 79.5719621766\n",
        "Iteration 2\n"
       ]
      },
      {
       "output_type": "stream",
       "stream": "stdout",
       "text": [
        "Change in Z: 7.42686303452\n",
        "Iteration 3\n"
       ]
      },
      {
       "output_type": "stream",
       "stream": "stdout",
       "text": [
        "Change in Z: 0.306921365116\n",
        "Iteration 4\n"
       ]
      },
      {
       "output_type": "stream",
       "stream": "stdout",
       "text": [
        "Change in Z: 0.0126480333822\n",
        "Iteration 5\n"
       ]
      },
      {
       "output_type": "stream",
       "stream": "stdout",
       "text": [
        "Change in Z: 0.00231851846886\n",
        "Iteration 6\n"
       ]
      },
      {
       "output_type": "stream",
       "stream": "stdout",
       "text": [
        "Change in Z: 0.000715766534977\n",
        "Iteration 7\n"
       ]
      },
      {
       "output_type": "stream",
       "stream": "stdout",
       "text": [
        "Change in Z: 0.00113595656571\n",
        "Iteration 8\n"
       ]
      },
      {
       "output_type": "stream",
       "stream": "stdout",
       "text": [
        "Change in Z: 0.00450204780049\n",
        "Iteration 9\n"
       ]
      },
      {
       "output_type": "stream",
       "stream": "stdout",
       "text": [
        "Change in Z: 0.0187848369098\n",
        "Iteration 10\n"
       ]
      },
      {
       "output_type": "stream",
       "stream": "stdout",
       "text": [
        "Change in Z: 0.0622405770237\n",
        "Iteration 11\n"
       ]
      },
      {
       "output_type": "stream",
       "stream": "stdout",
       "text": [
        "Change in Z: 0.090556265232\n",
        "Iteration 12\n"
       ]
      },
      {
       "output_type": "stream",
       "stream": "stdout",
       "text": [
        "Change in Z: 0.0728897351278\n",
        "Iteration 13\n"
       ]
      },
      {
       "output_type": "stream",
       "stream": "stdout",
       "text": [
        "Change in Z: 0.0090765941481\n",
        "Iteration 14\n"
       ]
      },
      {
       "output_type": "stream",
       "stream": "stdout",
       "text": [
        "Change in Z: 0.000747046803273\n",
        "Iteration 15\n"
       ]
      },
      {
       "output_type": "stream",
       "stream": "stdout",
       "text": [
        "Change in Z: 4.41166796428e-05\n",
        "Iteration 16\n"
       ]
      },
      {
       "output_type": "stream",
       "stream": "stdout",
       "text": [
        "Change in Z: 3.45380735017e-06\n",
        "Iteration 17\n"
       ]
      },
      {
       "output_type": "stream",
       "stream": "stdout",
       "text": [
        "Change in Z: 1.24431535123e-06\n",
        "Iteration 18\n"
       ]
      },
      {
       "output_type": "stream",
       "stream": "stdout",
       "text": [
        "Change in Z: 3.35471403639e-06\n",
        "Iteration 19\n"
       ]
      },
      {
       "output_type": "stream",
       "stream": "stdout",
       "text": [
        "Change in Z: 1.47304683184e-05\n",
        "Loading ./dilutions_data/Positive/std1/Std1_1in1000.csv\n",
        "2206 features read"
       ]
      },
      {
       "output_type": "stream",
       "stream": "stdout",
       "text": [
        "\n",
        "Discretising at mass_tol=2, rt_tol=5\n",
        "."
       ]
      },
      {
       "output_type": "stream",
       "stream": "stdout",
       "text": [
        " . "
       ]
      },
      {
       "output_type": "stream",
       "stream": "stdout",
       "text": [
        ". "
       ]
      },
      {
       "output_type": "stream",
       "stream": "stdout",
       "text": [
        ". "
       ]
      },
      {
       "output_type": "stream",
       "stream": "stdout",
       "text": [
        ". "
       ]
      },
      {
       "output_type": "stream",
       "stream": "stdout",
       "text": [
        ". "
       ]
      },
      {
       "output_type": "stream",
       "stream": "stdout",
       "text": [
        ". "
       ]
      },
      {
       "output_type": "stream",
       "stream": "stdout",
       "text": [
        ". "
       ]
      },
      {
       "output_type": "stream",
       "stream": "stdout",
       "text": [
        ". "
       ]
      },
      {
       "output_type": "stream",
       "stream": "stdout",
       "text": [
        ". "
       ]
      },
      {
       "output_type": "stream",
       "stream": "stdout",
       "text": [
        ". "
       ]
      },
      {
       "output_type": "stream",
       "stream": "stdout",
       "text": [
        ". "
       ]
      },
      {
       "output_type": "stream",
       "stream": "stdout",
       "text": [
        ". "
       ]
      },
      {
       "output_type": "stream",
       "stream": "stdout",
       "text": [
        ". "
       ]
      },
      {
       "output_type": "stream",
       "stream": "stdout",
       "text": [
        ". "
       ]
      },
      {
       "output_type": "stream",
       "stream": "stdout",
       "text": [
        ". "
       ]
      },
      {
       "output_type": "stream",
       "stream": "stdout",
       "text": [
        ". "
       ]
      },
      {
       "output_type": "stream",
       "stream": "stdout",
       "text": [
        ". "
       ]
      },
      {
       "output_type": "stream",
       "stream": "stdout",
       "text": [
        ". "
       ]
      },
      {
       "output_type": "stream",
       "stream": "stdout",
       "text": [
        ". "
       ]
      },
      {
       "output_type": "stream",
       "stream": "stdout",
       "text": [
        ". "
       ]
      },
      {
       "output_type": "stream",
       "stream": "stdout",
       "text": [
        ". "
       ]
      },
      {
       "output_type": "stream",
       "stream": "stdout",
       "text": [
        ".\n",
        "Total bins=2206 total features=2206\n",
        "Clustering ./dilutions_data/Positive/std1/Std1_1in1000.csv\n",
        "Continuous Clusterer initialised - wow\n",
        "Variational Bayes for continuous mass model\n",
        "Hyperparameters alpha=100.0, mass_prec=100, mass_prior_prec=100, rt_prec=10, rt_prior_prec=100\n",
        "n_iterations = 20\n",
        "Running the clustering\n",
        "524 peaks to be re-sampled"
       ]
      },
      {
       "output_type": "stream",
       "stream": "stdout",
       "text": [
        "\n",
        "Iteration 0"
       ]
      },
      {
       "output_type": "stream",
       "stream": "stdout",
       "text": [
        "\n"
       ]
      },
      {
       "output_type": "stream",
       "stream": "stdout",
       "text": [
        "Change in Z: 184.974387983\n",
        "Iteration 1\n"
       ]
      },
      {
       "output_type": "stream",
       "stream": "stdout",
       "text": [
        "Change in Z: 53.9786378736\n",
        "Iteration 2\n"
       ]
      },
      {
       "output_type": "stream",
       "stream": "stdout",
       "text": [
        "Change in Z: 5.68765139002\n",
        "Iteration 3\n"
       ]
      },
      {
       "output_type": "stream",
       "stream": "stdout",
       "text": [
        "Change in Z: 0.201241889107\n",
        "Iteration 4\n"
       ]
      },
      {
       "output_type": "stream",
       "stream": "stdout",
       "text": [
        "Change in Z: 0.0269499841279\n",
        "Iteration 5\n"
       ]
      },
      {
       "output_type": "stream",
       "stream": "stdout",
       "text": [
        "Change in Z: 0.00702062999569\n",
        "Iteration 6\n"
       ]
      },
      {
       "output_type": "stream",
       "stream": "stdout",
       "text": [
        "Change in Z: 0.00246126333415\n",
        "Iteration 7\n"
       ]
      },
      {
       "output_type": "stream",
       "stream": "stdout",
       "text": [
        "Change in Z: 0.00104205405441\n",
        "Iteration 8\n"
       ]
      },
      {
       "output_type": "stream",
       "stream": "stdout",
       "text": [
        "Change in Z: 0.000483832576204\n",
        "Iteration 9\n"
       ]
      },
      {
       "output_type": "stream",
       "stream": "stdout",
       "text": [
        "Change in Z: 0.000236173499879\n",
        "Iteration 10\n"
       ]
      },
      {
       "output_type": "stream",
       "stream": "stdout",
       "text": [
        "Change in Z: 0.000119395652366\n",
        "Iteration 11\n"
       ]
      },
      {
       "output_type": "stream",
       "stream": "stdout",
       "text": [
        "Change in Z: 6.23023656776e-05\n",
        "Iteration 12\n"
       ]
      },
      {
       "output_type": "stream",
       "stream": "stdout",
       "text": [
        "Change in Z: 3.37364834802e-05\n",
        "Iteration 13\n"
       ]
      },
      {
       "output_type": "stream",
       "stream": "stdout",
       "text": [
        "Change in Z: 1.97760568882e-05\n",
        "Iteration 14\n"
       ]
      },
      {
       "output_type": "stream",
       "stream": "stdout",
       "text": [
        "Change in Z: 1.60998215125e-05\n",
        "Iteration 15\n"
       ]
      },
      {
       "output_type": "stream",
       "stream": "stdout",
       "text": [
        "Change in Z: 3.12712410813e-05\n",
        "Iteration 16\n"
       ]
      },
      {
       "output_type": "stream",
       "stream": "stdout",
       "text": [
        "Change in Z: 0.000118427000829\n",
        "Iteration 17\n"
       ]
      },
      {
       "output_type": "stream",
       "stream": "stdout",
       "text": [
        "Change in Z: 0.000527475724577\n",
        "Iteration 18\n"
       ]
      },
      {
       "output_type": "stream",
       "stream": "stdout",
       "text": [
        "Change in Z: 0.00238770392717\n",
        "Iteration 19\n"
       ]
      },
      {
       "output_type": "stream",
       "stream": "stdout",
       "text": [
        "Change in Z: 0.0104371042951\n"
       ]
      }
     ],
     "prompt_number": 4
    },
    {
     "cell_type": "markdown",
     "metadata": {},
     "source": [
      "Function to pick a single feature for plotting."
     ]
    },
    {
     "cell_type": "code",
     "collapsed": false,
     "input": [
      "identify_tol = 2\n",
      "\n",
      "def get_feature(peak_data, cluster_model, db_entry, t_find):\n",
      "\n",
      "    # find cluster membership for all peaks with transformation t_find\n",
      "    cluster_membership = (cluster_model.Z>0.5)\n",
      "    trans_mat = peak_data.possible.multiply(cluster_membership)\n",
      "    trans_mat = (trans_mat==t_find+1)    \n",
      "    trans_count = (trans_mat).sum(0)\n",
      "\n",
      "    # match prior bin masses against database entry's mass\n",
      "    prior_masses = peak_data.prior_masses\n",
      "    mass_ok = utils.mass_match(db_entry.mass, prior_masses, identify_tol)\n",
      "    ks = np.flatnonzero(mass_ok)\n",
      "    \n",
      "    # enumerate all the possible features\n",
      "    features = []\n",
      "    for k in ks:\n",
      "        if trans_count[0, k]==0:\n",
      "            continue\n",
      "        else:\n",
      "            temp = np.nonzero(trans_mat[:, k])\n",
      "            peak_idx = temp[0]\n",
      "            for n in peak_idx:\n",
      "                f = peak_data.features[n]\n",
      "                features.append(f)\n",
      "                \n",
      "    # if there are multiple features, pick the most intense one\n",
      "    if len(features)==1:\n",
      "        return features[0]\n",
      "    elif len(features)>1:\n",
      "        intenses = np.array([f.intensity for f in features])\n",
      "        most_intense = intenses.argmax()\n",
      "        return features[most_intense]\n",
      "    else:\n",
      "        return None"
     ],
     "language": "python",
     "metadata": {},
     "outputs": [],
     "prompt_number": 5
    },
    {
     "cell_type": "markdown",
     "metadata": {},
     "source": [
      "Function to plot heatmap for an adduct type to find"
     ]
    },
    {
     "cell_type": "code",
     "collapsed": false,
     "input": [
      "def plot_heatmap(database, dilutions, transformations, filemap, t_find):\n",
      "    \n",
      "    print \"Finding \" + str(transformations[t_find])\n",
      "    D = len(database)\n",
      "    L = len(dilutions)    \n",
      "    results = np.zeros((D, L))   \n",
      "\n",
      "    # for all db entries\n",
      "    for d in range(D):\n",
      "        db_entry = database[d]\n",
      "        # for all dilution files\n",
      "        for l in range(L):\n",
      "            dil = dilutions[l]\n",
      "            # find the peak\n",
      "            load_res = filemap[dil]\n",
      "            peak_data = load_res[0]\n",
      "            cluster_model = load_res[1]\n",
      "            f = get_feature(peak_data, cluster_model, db_entry, t_find)\n",
      "            if f is not None:\n",
      "                results[d, l] = math.log10(f.intensity)\n",
      "    # sort the results by first column\n",
      "    sres = results[results[:, 0].argsort()]    \n",
      "    # make heatmap\n",
      "    heatmap = plt.pcolor(sres)   \n",
      "    plt.show()\n",
      "    return results"
     ],
     "language": "python",
     "metadata": {},
     "outputs": [],
     "prompt_number": 6
    },
    {
     "cell_type": "markdown",
     "metadata": {},
     "source": [
      "Try for some adducts:"
     ]
    },
    {
     "cell_type": "code",
     "collapsed": false,
     "input": [
      "# get the database and transformations objects from any loaed file\n",
      "any_entry = filemap[filemap.keys()[0]]\n",
      "any_peak_data = any_entry[0]\n",
      "database = any_peak_data.database\n",
      "transformations = any_peak_data.transformations"
     ],
     "language": "python",
     "metadata": {},
     "outputs": [],
     "prompt_number": 7
    },
    {
     "cell_type": "code",
     "collapsed": false,
     "input": [
      "# for t in range(len(transformations)):\n",
      "#     plot_heatmap(database, dilutions, transformations, filemap, t) "
     ],
     "language": "python",
     "metadata": {},
     "outputs": [],
     "prompt_number": 8
    },
    {
     "cell_type": "code",
     "collapsed": false,
     "input": [
      "results = plot_heatmap(database, dilutions, transformations, filemap, 6) "
     ],
     "language": "python",
     "metadata": {},
     "outputs": [
      {
       "output_type": "stream",
       "stream": "stdout",
       "text": [
        "Finding Transformation(trans_id=7, name='M+H', sub=1.00727645199076, mul=1.0, iso=0.0)\n"
       ]
      },
      {
       "metadata": {},
       "output_type": "display_data",
       "png": "[encoded data removed]",
       "text": [
        "<matplotlib.figure.Figure at 0x7f60cf6cfc10>"
       ]
      }
     ],
     "prompt_number": 9
    },
    {
     "cell_type": "code",
     "collapsed": false,
     "input": [
      "for d in range(len(database)):\n",
      "    db_entry = database[d]\n",
      "    print db_entry\n",
      "    print results[d, :]"
     ],
     "language": "python",
     "metadata": {},
     "outputs": [
      {
       "output_type": "stream",
       "stream": "stdout",
       "text": [
        "DatabaseEntry db_id=StdMix1_1, formula= C7H19N3, mass=145.157897626, name= Spermidine, rt=0\n",
        "[ 7.38522976  0.          0.          0.          0.          6.5354491 ]\n",
        "DatabaseEntry db_id=StdMix1_10, formula= C3H8O3, mass=92.0473441234, name= Glycerol, rt=0\n",
        "[ 6.33623953  5.61941613  5.37171686  0.          0.          0.        ]\n",
        "DatabaseEntry db_id=StdMix1_100, formula= C27H46O, mass=386.354866101, name= Cholesterol, rt=0\n",
        "[ 0.  0.  0.  0.  0.  0.]\n",
        "DatabaseEntry db_id=StdMix1_101, formula= C4H10O, mass=74.0731649435, name= 1-Butanol, rt=0\n",
        "[ 0.  0.  0.  0.  0.  0.]\n",
        "DatabaseEntry db_id=StdMix1_102, formula= C4H4O5, mass=132.005873239, name= Oxaloacetate, rt=0\n",
        "[ 0.  0.  0.  0.  0.  0.]\n",
        "DatabaseEntry db_id=StdMix1_103, formula= C3H4N2, mass=68.037448139, name= Imidazole, rt=0\n",
        "[ 0.  0.  0.  0.  0.  0.]\n",
        "DatabaseEntry db_id=StdMix1_104, formula= C3H6O3, mass=90.0316940591, name= glyceraldehyde, rt=0\n",
        "[ 0.  0.  0.  0.  0.  0.]\n",
        "DatabaseEntry db_id=StdMix1_11, formula= C10H12N4O5, mass=268.080769517, name= Inosine, rt=0\n",
        "[ 7.84673208  7.33506455  7.06945619  6.25350029  5.93105508  4.96690738]\n",
        "DatabaseEntry db_id=StdMix1_12, formula= C9H11NO2, mass=165.078978603, name= L-Phenylalanine, rt=0\n",
        "[ 8.19917648  7.10345522  6.74389709  5.94305839  5.64934946  5.15176327]\n",
        "DatabaseEntry db_id=StdMix1_13, formula= C6H13NO2, mass=131.094628667, name= L-Leucine, rt=0\n",
        "[ 8.29529037  7.48117182  6.96180932  6.1141844   5.85087971  0.        ]\n",
        "DatabaseEntry db_id=StdMix1_14, formula= C11H12N2O2, mass=204.08987764, name= L-Tryptophan, rt=0\n",
        "[ 8.0200367   6.8790414   6.40584343  5.42991693  5.27181508  4.73255138]\n",
        "DatabaseEntry db_id=StdMix1_15, formula= C8H9NO2, mass=151.063328539, name= 2-Phenylglycine, rt=0\n",
        "[ 8.03482686  7.84909446  7.64431847  6.87057958  6.61319709  5.58224693]\n",
        "DatabaseEntry db_id=StdMix1_16, formula= C5H11NO2Se, mass=196.995500403, name= Selenomethionine, rt=0\n",
        "[ 8.07473115  6.84346086  6.43053456  5.45773078  5.07259695  0.        ]\n",
        "DatabaseEntry db_id=StdMix1_17, formula= C5H11NO2S, mass=149.051049293, name= L-Methionine, rt=0\n",
        "[ 8.45832513  7.51136923  7.03820621  6.05479158  5.69468561  4.86710949]\n",
        "DatabaseEntry db_id=StdMix1_18, formula= C5H5N5O, mass=151.049409809, name= Guanine, rt=0\n",
        "[ 7.7870627   7.06504471  6.83424873  5.91874511  5.69088907  0.        ]\n",
        "DatabaseEntry db_id=StdMix1_19, formula= C8H11NO3, mass=169.073893225, name= Pyridoxine, rt=0\n",
        "[ 9.54769906  9.35736575  9.14812961  8.34059705  8.08487054  6.93584928]\n",
        "DatabaseEntry db_id=StdMix1_2, formula= C5H6N2O2, mass=126.042927448, name= Imidazole-4-acetate, rt=0\n",
        "[ 9.15059033  8.49860279  8.27160358  7.28113872  7.00145652  6.2043168 ]\n",
        "DatabaseEntry db_id=StdMix1_20, formula= C5H11NO2, mass=117.078978603, name= L-Valine, rt=0\n",
        "[ 8.23740016  7.21887241  6.98986994  7.02705223  7.03959426  6.97007761]\n",
        "DatabaseEntry db_id=StdMix1_21, formula= C5H5N5, mass=135.054495187, name= Adenine, rt=0\n",
        "[ 8.83782043  8.299248    8.17723629  7.66815898  7.45758763  6.5505593 ]\n",
        "DatabaseEntry db_id=StdMix1_22, formula= C5H9NO2, mass=115.063328539, name= L-Proline, rt=0\n",
        "[ 8.99520585  8.19311636  7.8402066   7.1867373   7.02128086  6.89809198]\n",
        "DatabaseEntry db_id=StdMix1_23, formula= C10H12N2O, mass=176.094963018, name= Serotonin, rt=0\n",
        "[ 5.50747161  6.96026961  6.80422976  6.54659149  6.22811536  0.        ]\n",
        "DatabaseEntry db_id=StdMix1_24, formula= C2H7NO3S, mass=125.014663787, name= Taurine, rt=0\n",
        "[ 6.9842867   6.17702453  5.92065882  5.04671521  4.74294601  0.        ]\n",
        "DatabaseEntry db_id=StdMix1_25, formula= C5H9NO3, mass=131.058243161, name= trans-4-Hydroxy-L-proline, rt=0\n",
        "[ 8.40567083  7.35846528  7.2832035   6.43768585  6.16492086  5.44080979]\n",
        "DatabaseEntry db_id=StdMix1_26, formula= C4H7N3O, mass=113.058911863, name= Creatinine, rt=0\n",
        "[ 9.16326391  9.05038315  8.87157716  8.25299571  8.0500428   7.22861309]\n",
        "DatabaseEntry db_id=StdMix1_27, formula= C8H16N2O3, mass=188.116092391, name= N2-Acetyl-L-lysine, rt=0\n",
        "[ 8.90505874  7.62777628  7.33937952  6.32729246  6.03450117  5.44722327]\n",
        "DatabaseEntry db_id=StdMix1_28, formula= C4H9NO3, mass=119.058243161, name= L-Threonine, rt=0\n",
        "[ 7.7510575   6.59788035  6.58856847  5.84828236  5.71825042  5.35860458]\n",
        "DatabaseEntry db_id=StdMix1_29, formula= C4H7NO4, mass=133.037507719, name= L-Aspartate, rt=0\n",
        "[ 6.40073787  5.74677121  5.87015237  5.20276128  4.9669735   0.        ]\n",
        "DatabaseEntry db_id=StdMix1_3, formula= C8H15NO6, mass=221.08993722, name= N-Acetyl-D-glucosamine, rt=0\n",
        "[ 7.76188732  6.90290453  6.64811205  5.81308024  5.60569316  0.        ]\n",
        "DatabaseEntry db_id=StdMix1_30, formula= C5H10N2O3, mass=146.069142198, name= L-Glutamine, rt=0\n",
        "[ 8.2352876   7.2552589   7.29095905  6.60464567  6.34149605  5.73100623]\n",
        "DatabaseEntry db_id=StdMix1_31, formula= C3H7NO2, mass=89.0476784744, name= beta-Alanine, rt=0\n",
        "[ 7.79238239  6.92855822  6.70465721  0.          0.          0.        ]\n",
        "DatabaseEntry db_id=StdMix1_32, formula= C4H8N2O3, mass=132.053492134, name= L-Asparagine, rt=0\n",
        "[ 7.07711543  6.09014519  6.17514448  5.4056944   5.24677516  0.        ]\n",
        "DatabaseEntry db_id=StdMix1_33, formula= C10H14N5O7P, mass=347.063084343, name= dGMP, rt=0\n",
        "[ 6.84069745  5.638979    5.71746532  4.97943946  4.7384617   0.        ]\n",
        "DatabaseEntry db_id=StdMix1_34, formula= C3H7NO3, mass=105.042593097, name= L-Serine, rt=0\n",
        "[ 6.89896154  5.82666135  5.84199785  5.25124001  5.1386498   4.81390971]\n",
        "DatabaseEntry db_id=StdMix1_35, formula= C6H13N3O3, mass=175.0956913, name= L-Citrulline, rt=0\n",
        "[ 7.91807779  6.90167664  7.02243254  6.29338195  6.01812428  5.23055716]\n",
        "DatabaseEntry db_id=StdMix1_36, formula= C9H13N3O5, mass=243.085520544, name= Cytidine, rt=0\n",
        "[ 8.14687745  7.43955935  7.16292988  6.17732785  5.87901369  5.01683889]\n",
        "DatabaseEntry db_id=StdMix1_37, formula= C2H8NO4P, mass=141.019094263, name= Ethanolamine phosphate, rt=0\n",
        "[ 6.12145782  5.51731786  5.65668899  4.93485886  0.          0.        ]\n",
        "DatabaseEntry db_id=StdMix1_38, formula= C2H5NO2, mass=75.0320284101, name= Glycine, rt=0\n",
        "[ 6.3160208   5.19646385  5.220699    4.66621492  0.          0.        ]\n",
        "DatabaseEntry db_id=StdMix1_39, formula= C8H20NO6P, mass=257.102823893, name= sn-glycero-3-Phosphocholine, rt=0\n",
        "[ 8.93392851  7.46526608  7.2060843   6.29889187  6.16434285  5.71434427]\n",
        "DatabaseEntry db_id=StdMix1_4, formula= C12H10O2, mass=186.068079566, name= 1-Naphthylacetic acid, rt=0\n",
        "[ 0.  0.  0.  0.  0.  0.]\n",
        "DatabaseEntry db_id=StdMix1_40, formula= C6H12N2O4S2, mass=240.023848265, name= L-Cystine, rt=0\n",
        "[ 6.2991669   5.31122732  5.3635767   4.79691923  0.          0.        ]\n",
        "DatabaseEntry db_id=StdMix1_41, formula= C6H13NO5, mass=179.079372534, name= D-Glucosamine, rt=0\n",
        "[ 7.1641214   6.57947494  6.66574581  5.87726449  5.70265759  4.79976131]\n",
        "DatabaseEntry db_id=StdMix1_42, formula= C7H14N2O4, mass=190.095356949, name= meso-2_6-Diaminoheptanedioate, rt=0\n",
        "[ 7.27607205  6.13082758  6.20282811  5.37384417  5.25986952  0.        ]\n",
        "DatabaseEntry db_id=StdMix1_43, formula= C6H9N3O2, mass=155.069476549, name= L-Histidine, rt=0\n",
        "[ 8.05025543  7.26486267  7.36032946  6.61161677  6.53366274  0.        ]\n",
        "DatabaseEntry db_id=StdMix1_44, formula= C4H10N2O2, mass=118.074227576, name= L-2_4-Diaminobutanoate, rt=0\n",
        "[ 6.24749577  0.          5.5651964   0.          0.          0.        ]\n",
        "DatabaseEntry db_id=StdMix1_45, formula= C6H14N2O2, mass=146.105527705, name= L-Lysine, rt=0\n",
        "[ 7.1443998   6.09401476  6.17537027  5.45235535  5.26407362  5.00751024]\n",
        "DatabaseEntry db_id=StdMix1_46, formula= C6H14N4O2, mass=174.111675715, name= L-Arginine, rt=0\n",
        "[ 7.98208941  7.07565735  7.12765471  6.51486489  6.28621545  5.60681702]\n",
        "DatabaseEntry db_id=StdMix1_47, formula= C12H16N4OS, mass=264.104481847, name= Thiamin, rt=0\n",
        "[ 7.302889    0.          6.47863751  5.52475768  0.          0.        ]\n",
        "DatabaseEntry db_id=StdMix1_48, formula= C15H22N6O5S, mass=398.137238539, name= S-Adenosyl-L-methionine, rt=0\n",
        "[ 0.  0.  0.  0.  0.  0.]\n",
        "DatabaseEntry db_id=StdMix1_49, formula= C4H12N2, mass=88.1000483962, name= Putrescine, rt=0\n",
        "[ 0.          0.          5.83425594  0.          0.          6.09385917]\n",
        "DatabaseEntry db_id=StdMix1_5, formula= C13H16N2O2, mass=232.121177769, name= Melatonin, rt=0\n",
        "[ 9.23005828  8.8836626   8.64067202  7.9328265   7.68993262  6.67116844]\n",
        "DatabaseEntry db_id=StdMix1_50, formula= C9H8O3, mass=164.047344123, name= 4-Coumarate, rt=0\n",
        "[ 6.43436975  6.26991364  6.05447741  5.39010174  5.17131952  0.        ]\n",
        "DatabaseEntry db_id=StdMix1_51, formula= C4H8O3, mass=104.047344123, name= (R)-3-Hydroxybutanoate, rt=0\n",
        "[ 0.  0.  0.  0.  0.  0.]\n",
        "DatabaseEntry db_id=StdMix1_52, formula= C8H6O4, mass=166.026608681, name= Phthalate, rt=0\n",
        "[ 6.72624351  6.2744077   5.97734692  5.21766877  5.06454623  0.        ]\n",
        "DatabaseEntry db_id=StdMix1_53, formula= C4H4O4, mass=116.010958617, name= Fumarate, rt=0\n",
        "[ 0.  0.  0.  0.  0.  0.]\n",
        "DatabaseEntry db_id=StdMix1_54, formula= C4H6O4, mass=118.026608681, name= Methylmalonate, rt=0\n",
        "[ 0.  0.  0.  0.  0.  0.]\n",
        "DatabaseEntry db_id=StdMix1_55, formula= C8H8O4, mass=168.042258746, name= 3_4-Dihydroxyphenylacetate, rt=0\n",
        "[ 0.          0.          0.          4.74626894  0.          4.80459434]\n",
        "DatabaseEntry db_id=StdMix1_56, formula= C10H14N2O5, mass=242.090271571, name= Thymidine, rt=0\n",
        "[ 7.07615768  6.27095452  6.01730641  5.15965469  5.07212479  0.        ]\n",
        "DatabaseEntry db_id=StdMix1_57, formula= C19H14O5S, mass=354.05619425, name= Phenolsulfonphthalein, rt=0\n",
        "[ 7.68531655  6.60724957  6.27425319  5.51814669  5.26580901  0.        ]\n",
        "DatabaseEntry db_id=StdMix1_58, formula= C3H4O3, mass=88.0160439949, name= Pyruvate, rt=0\n",
        "[ 0.  0.  0.  0.  0.  0.]\n",
        "DatabaseEntry db_id=StdMix1_59, formula= C3H4O4, mass=104.010958617, name= Malonate, rt=0\n",
        "[ 0.  0.  0.  0.  0.  0.]\n",
        "DatabaseEntry db_id=StdMix1_6, formula= C6H8N2, mass=108.068748268, name= Phenylhydrazine, rt=0\n",
        "[ 6.31633095  6.04849482  5.7721023   0.          0.          0.        ]\n",
        "DatabaseEntry db_id=StdMix1_60, formula= C5H8O5, mass=148.037173368, name= (R)-2-Hydroxyglutarate, rt=0\n",
        "[ 0.  0.  0.  0.  0.  0.]\n",
        "DatabaseEntry db_id=StdMix1_61, formula= C9H12N2O5, mass=228.074621507, name= Deoxyuridine, rt=0\n",
        "[ 6.42553161  5.98200888  5.67760653  4.89285     4.48834712  0.        ]\n",
        "DatabaseEntry db_id=StdMix1_62, formula= C5H4N2O2, mass=124.027277383, name= pyrazinoate, rt=0\n",
        "[ 0.  0.  0.  0.  0.  0.]\n",
        "DatabaseEntry db_id=StdMix1_63, formula= C5H4N4O2, mass=152.033425394, name= Xanthine, rt=0\n",
        "[ 0.  0.  0.  0.  0.  0.]\n",
        "DatabaseEntry db_id=StdMix1_64, formula= C7H6O5, mass=170.021523303, name= Gallate, rt=0\n",
        "[ 0.  0.  0.  0.  0.  0.]\n",
        "DatabaseEntry db_id=StdMix1_65, formula= C9H12N2O6, mass=244.069536129, name= Uridine, rt=0\n",
        "[ 6.21596267  0.          0.          0.          0.          0.        ]\n",
        "DatabaseEntry db_id=StdMix1_66, formula= C6H6O6, mass=174.016437925, name= cis-Aconitate, rt=0\n",
        "[ 5.44735919  0.          0.          0.          0.          0.        ]\n",
        "DatabaseEntry db_id=StdMix1_67, formula= C6H12O5, mass=164.068473496, name= L-Rhamnose, rt=0\n",
        "[ 5.65771472  5.19947016  5.0500045   0.          0.          0.        ]\n",
        "DatabaseEntry db_id=StdMix1_68, formula= C5H4N2O4, mass=156.017106627, name= Orotate, rt=0\n",
        "[ 0.  0.  0.  0.  0.  0.]\n",
        "DatabaseEntry db_id=StdMix1_69, formula= C7H15NO4S, mass=209.072178666, name= MOPS, rt=0\n",
        "[ 8.76707086  8.26570597  8.011444    7.14543065  6.92531508  5.80452183]\n",
        "DatabaseEntry db_id=StdMix1_7, formula= C7H7NO2, mass=137.047678474, name= 4-Aminobenzoate, rt=0\n",
        "[ 6.86037452  6.11092229  5.90768271  5.60555526  5.61367147  5.52613573]\n",
        "DatabaseEntry db_id=StdMix1_70, formula= C6H12O7, mass=196.05830274, name= D-Gluconic acid, rt=0\n",
        "[ 0.  0.  0.  0.  0.  0.]\n",
        "DatabaseEntry db_id=StdMix1_71, formula= C8H10NO6P, mass=247.024573571, name= Pyridoxal phosphate, rt=0\n",
        "[ 6.51322663  0.          0.          0.          0.          0.        ]\n",
        "DatabaseEntry db_id=StdMix1_72, formula= C6H10O7, mass=194.042652676, name= D-Galacturonate, rt=0\n",
        "[ 0.  0.  0.  0.  0.  0.]\n",
        "DatabaseEntry db_id=StdMix1_73, formula= C6H10O8, mass=210.037567298, name= D-Galactarate, rt=0\n",
        "[ 0.  0.  0.  0.  0.  0.]\n",
        "DatabaseEntry db_id=StdMix1_74, formula= C10H12N5O6P, mass=329.052519656, name= 3'_5'-Cyclic AMP, rt=0\n",
        "[ 8.04495601  6.67325445  6.57357951  5.79937519  5.47195658  0.        ]\n",
        "DatabaseEntry db_id=StdMix1_75, formula= C9H13N2O9P, mass=324.035866539, name= UMP, rt=0\n",
        "[ 7.02451576  5.52768213  5.48454526  0.          0.          0.        ]\n",
        "DatabaseEntry db_id=StdMix1_76, formula= C10H13N4O8P, mass=348.047099928, name= IMP, rt=0\n",
        "[ 6.78229998  0.          0.          0.          0.          0.        ]\n",
        "DatabaseEntry db_id=StdMix1_77, formula= C3H7NO5S, mass=169.004493031, name= L-Cysteate, rt=0\n",
        "[ 7.54476167  6.41023935  6.486955    5.72889895  5.48741498  4.69820847]\n",
        "DatabaseEntry db_id=StdMix1_78, formula= C5H11O8P, mass=230.019153842, name= D-ribose 5-phosphate, rt=0\n",
        "[ 5.89593245  0.          0.          0.          0.          0.        ]\n",
        "DatabaseEntry db_id=StdMix1_79, formula= C9H14N3O8P, mass=323.051850954, name= CMP, rt=0\n",
        "[ 7.05252565  5.88207646  5.90732989  5.21203683  4.90446546  0.        ]\n",
        "DatabaseEntry db_id=StdMix1_8, formula= C6H5NO2, mass=123.03202841, name= Nicotinate, rt=0\n",
        "[ 8.94970741  8.69146635  8.4693783   7.66878566  7.37263875  6.53005372]\n",
        "DatabaseEntry db_id=StdMix1_80, formula= C6H13O9P, mass=260.029718529, name= D-glucose 6-phosphate, rt=0\n",
        "[ 5.99161588  4.85121065  4.903112    0.          0.          0.        ]\n",
        "DatabaseEntry db_id=StdMix1_81, formula= C3H5O6P, mass=167.982374405, name= Phosphoenolpyruvate, rt=0\n",
        "[ 6.5211682   5.22285343  5.40118218  4.39551491  0.          0.        ]\n",
        "DatabaseEntry db_id=StdMix1_82, formula= C6H13O10P, mass=276.024633151, name= 6-Phospho-D-gluconate, rt=0\n",
        "[ 0.          4.71111703  4.69027169  0.          0.          0.        ]\n",
        "DatabaseEntry db_id=StdMix1_83, formula= C12H18N4O7P2S, mass=424.037142668, name= Thiamin diphosphate, rt=0\n",
        "[ 0.          5.60472488  5.77354218  4.96204654  4.44695677  0.        ]\n",
        "DatabaseEntry db_id=StdMix1_84, formula= C5H9NO4, mass=147.053157783, name= L-Glutamate, rt=0\n",
        "[ 7.71552489  6.58880321  6.63524633  5.91200602  5.70778918  5.10140171]\n",
        "DatabaseEntry db_id=StdMix1_85, formula= C6H12O6, mass=180.063388118, name= D-glucose, rt=0\n",
        "[ 0.  0.  0.  0.  0.  0.]\n",
        "DatabaseEntry db_id=StdMix1_86, formula= C4H8O4, mass=120.042258746, name= D-Erythrose, rt=0\n",
        "[ 0.  0.  0.  0.  0.  0.]\n",
        "DatabaseEntry db_id=StdMix1_87, formula= C12H22O11, mass=342.11621155, name= Maltose, rt=0\n",
        "[ 0.  0.  0.  0.  0.  0.]\n",
        "DatabaseEntry db_id=StdMix1_88, formula= C4H6O3, mass=102.031694059, name= 2-oxobutanoate, rt=0\n",
        "[ 5.952412    5.22318006  5.01788924  0.          0.          0.        ]\n",
        "DatabaseEntry db_id=StdMix1_89, formula= C7H10O7, mass=206.042652676, name= 2-Methylcitrate, rt=0\n",
        "[ 5.13794895  0.          0.          0.          0.          0.        ]\n",
        "DatabaseEntry db_id=StdMix1_9, formula= C17H20N4O6, mass=376.138284396, name= riboflavin, rt=0\n",
        "[ 6.83359221  5.98935069  5.74810746  4.82746959  0.          0.        ]\n",
        "DatabaseEntry db_id=StdMix1_90, formula= C2H2O3, mass=74.0003939306, name= Glyoxylate, rt=0\n",
        "[ 0.  0.  0.  0.  0.  0.]\n",
        "DatabaseEntry db_id=StdMix1_91, formula= C2H4O3, mass=76.0160439949, name= glycolate, rt=0\n",
        "[ 0.  0.  0.  0.  0.  0.]\n",
        "DatabaseEntry db_id=StdMix1_92, formula= C3H4O2, mass=72.0211293728, name= methylglyoxal, rt=0\n",
        "[ 4.88198761  0.          0.          0.          0.          0.        ]\n",
        "DatabaseEntry db_id=StdMix1_93, formula= C10H14N4O11P2, mass=428.013430338, name= IDP, rt=0\n",
        "[ 6.07923517  0.          4.83480205  0.          0.          0.        ]\n",
        "DatabaseEntry db_id=StdMix1_94, formula= C10H15N5O10P2, mass=427.029414753, name= ADP, rt=0\n",
        "[ 6.51253925  5.21810845  5.18627156  0.          0.          0.        ]\n",
        "DatabaseEntry db_id=StdMix1_95, formula= C6H14O12P2, mass=339.996048939, name= D-Fructose 1_6-bisphosphate, rt=0\n",
        "[ 0.  0.  0.  0.  0.  0.]\n",
        "DatabaseEntry db_id=StdMix1_96, formula= C21H36N7O16P3S, mass=767.115208373, name= CoA, rt=0\n",
        "[ 0.  0.  0.  0.  0.  0.]\n",
        "DatabaseEntry db_id=StdMix1_97, formula= C3H8O10P2, mass=265.959269502, name= 2_3-Bisphospho-D-glycerate, rt=0\n",
        "[ 0.  0.  0.  0.  0.  0.]\n",
        "DatabaseEntry db_id=StdMix1_98, formula= C8H8O3, mass=152.047344123, name= 3-Hydroxyphenylacetate, rt=0\n",
        "[ 0.          0.          0.          0.          4.40709301  0.        ]\n",
        "DatabaseEntry db_id=StdMix1_99, formula= C5H10O4, mass=134.05790881, name= Deoxyribose, rt=0\n",
        "[ 6.23758502  5.46941702  5.22380612  0.          0.          0.        ]\n"
       ]
      }
     ],
     "prompt_number": 10
    },
    {
     "cell_type": "code",
     "collapsed": false,
     "input": [],
     "language": "python",
     "metadata": {},
     "outputs": [],
     "prompt_number": 10
    }
   ],
   "metadata": {}
  }
 ]
}