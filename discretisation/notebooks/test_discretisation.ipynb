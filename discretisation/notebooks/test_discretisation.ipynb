{
 "metadata": {
  "name": "",
  "signature": "sha256:449bcd09b94d4a2979167ecc65195910f148338e2b2f88e91735e0806d358875"
 },
 "nbformat": 3,
 "nbformat_minor": 0,
 "worksheets": [
  {
   "cells": [
    {
     "cell_type": "markdown",
     "metadata": {},
     "source": [
      "<h2>Testing some discretisation</h2>"
     ]
    },
    {
     "cell_type": "code",
     "collapsed": false,
     "input": [
      "import numpy as np"
     ],
     "language": "python",
     "metadata": {},
     "outputs": [],
     "prompt_number": 1
    },
    {
     "cell_type": "code",
     "collapsed": false,
     "input": [
      "#load the std file\n",
      "f = open('std1-file1.identified.csv')\n",
      "heads =f.readline()\n",
      "pos = 0\n",
      "peakid = []\n",
      "mass = []\n",
      "rt = []\n",
      "\n",
      "def num(s):\n",
      "    try:\n",
      "        return int(s)\n",
      "    except ValueError:\n",
      "        return float(s)\n",
      "\n",
      "intensity = []\n",
      "for line in f:\n",
      "    elements = line.split(',')\n",
      "    peakid.append(num(elements[0]))\n",
      "    mass.append(num(elements[1]))\n",
      "    rt.append(num(elements[2]))\n",
      "    intensity.append(num(elements[3]))\n",
      "    \n",
      "f.close()"
     ],
     "language": "python",
     "metadata": {},
     "outputs": [],
     "prompt_number": 2
    },
    {
     "cell_type": "code",
     "collapsed": false,
     "input": [
      "#load the actual molecules\n",
      "molsFile = open('std1_mols.csv')\n",
      "molid = []\n",
      "molname = []\n",
      "molformula = []\n",
      "molmass = []\n",
      "for line in molsFile:\n",
      "    elements = line.split(',')\n",
      "    molid.append(elements[0])\n",
      "    molname.append(elements[1])\n",
      "    molformula.append(elements[2])\n",
      "    molmass.append(num(elements[3]))\n",
      "molsFile.close()"
     ],
     "language": "python",
     "metadata": {},
     "outputs": [],
     "prompt_number": 3
    },
    {
     "cell_type": "code",
     "collapsed": false,
     "input": [
      "def match(m1,m2,tol):\n",
      "    return np.abs((m1-m2)/(m1))<tol*1e-6"
     ],
     "language": "python",
     "metadata": {},
     "outputs": [],
     "prompt_number": 4
    },
    {
     "cell_type": "code",
     "collapsed": false,
     "input": [
      "#load transformations\n",
      "trans_names = []\n",
      "trans_sub = []\n",
      "trans_mul = []\n",
      "trans_file = open('mulsub.txt')\n",
      "for line in trans_file:\n",
      "    elements = line.split(',')\n",
      "    trans_names.append(elements[0])\n",
      "    trans_sub.append(num(elements[1]))\n",
      "    trans_mul.append(num(elements[2]))\n",
      "trans_file.close()\n",
      "trans_sub = np.array(trans_sub)\n",
      "trans_mul = np.array(trans_mul)"
     ],
     "language": "python",
     "metadata": {},
     "outputs": [],
     "prompt_number": 5
    },
    {
     "cell_type": "markdown",
     "metadata": {},
     "source": [
      "<p>The following cell takes all of the M+H peaks and then creates a peak x peak matrix that hold (for each peak (row)) the precursors that it can be reached. The values in the matrix are the transformation number + 1</p>"
     ]
    },
    {
     "cell_type": "code",
     "collapsed": false,
     "input": [
      "proton = trans_sub[6]\n",
      "precursor_masses = np.array(mass) - proton\n",
      "n_peaks = precursor_masses.size\n",
      "mapping = np.zeros((4999,4999))\n",
      "n_trans = len(trans_names)\n",
      "for i in np.arange(n_peaks):\n",
      "    for j in np.arange(n_trans):\n",
      "        trans_mass = (mass[i] - trans_sub[j])/trans_mul[j]\n",
      "        q = match(trans_mass,precursor_masses,2).nonzero()[0]\n",
      "        mapping[i][q] = j+1\n"
     ],
     "language": "python",
     "metadata": {},
     "outputs": [],
     "prompt_number": 6
    },
    {
     "cell_type": "markdown",
     "metadata": {},
     "source": [
      "<p>We can histogram the number of transformations available for each peak. `mini_hist` holds this. Note that all peaks have >0 transformations as each peak's precursor is in the list</p>"
     ]
    },
    {
     "cell_type": "code",
     "collapsed": false,
     "input": [
      "no_trans = (mapping>0).sum(1)\n",
      "import pylab as plt\n",
      "%matplotlib inline\n",
      "mini_hist = []\n",
      "for i in np.arange(10)+1:\n",
      "    mini_hist.append((no_trans==i).sum())\n",
      "print mini_hist\n",
      "plt.bar(np.arange(10)+1,mini_hist)"
     ],
     "language": "python",
     "metadata": {},
     "outputs": [
      {
       "output_type": "stream",
       "stream": "stdout",
       "text": [
        "[1990, 987, 549, 304, 157, 73, 83, 45, 30, 56]\n"
       ]
      },
      {
       "metadata": {},
       "output_type": "pyout",
       "prompt_number": 7,
       "text": [
        "<Container object of 10 artists>"
       ]
      },
      {
       "metadata": {},
       "output_type": "display_data",
       "png": "[encoded data removed]",
       "text": [
        "<matplotlib.figure.Figure at 0x10989f750>"
       ]
      }
     ],
     "prompt_number": 7
    },
    {
     "cell_type": "code",
     "collapsed": false,
     "input": [],
     "language": "python",
     "metadata": {},
     "outputs": []
    }
   ],
   "metadata": {}
  }
 ]
}