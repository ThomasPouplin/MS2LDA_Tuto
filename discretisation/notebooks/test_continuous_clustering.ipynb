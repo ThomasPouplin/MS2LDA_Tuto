{
 "metadata": {
  "name": "test_continuous_clustering",
  "signature": "sha256:3f889d62ad2ab65b57e386d4bc6ef74a6365fb8ceb5ad66809546a9302251d23"
 },
 "nbformat": 3,
 "nbformat_minor": 0,
 "worksheets": [
  {
   "cells": [
    {
     "cell_type": "code",
     "collapsed": false,
     "input": [
      "%load_ext autoreload\n",
      "%autoreload 2\n",
      "\n",
      "\n",
      "import sys\n",
      "\n",
      "basedir = '../'\n",
      "sys.path.append(basedir)\n",
      "\n",
      "import models"
     ],
     "language": "python",
     "metadata": {},
     "outputs": [],
     "prompt_number": 1
    },
    {
     "cell_type": "markdown",
     "metadata": {},
     "source": [
      "<p>Format the plots</p>"
     ]
    },
    {
     "cell_type": "code",
     "collapsed": false,
     "input": [
      "# %matplotlib inline\n",
      "# import numpy as np\n",
      "# from matplotlib import pyplot as plt\n",
      "%pylab inline"
     ],
     "language": "python",
     "metadata": {},
     "outputs": [
      {
       "output_type": "stream",
       "stream": "stdout",
       "text": [
        "\n",
        "Welcome to pylab, a matplotlib-based Python environment [backend: module://IPython.zmq.pylab.backend_inline].\n",
        "For more information, type 'help(pylab)'.\n"
       ]
      }
     ],
     "prompt_number": 2
    },
    {
     "cell_type": "code",
     "collapsed": false,
     "input": [
      "input_file = basedir + '/input/std1_csv/std1-file1.identified.csv'    \n",
      "database_file = basedir + '/database/std1_mols.csv'\n",
      "transformation_file = basedir + '/mulsubs/mulsub2.txt'\n",
      "mass_tol = 2\n",
      "rt_tol = 5\n",
      "loader = models.FileLoader()\n",
      "\n",
      "pd = loader.load_model_input(input_file, database_file, transformation_file, mass_tol, rt_tol)"
     ],
     "language": "python",
     "metadata": {},
     "outputs": [
      {
       "output_type": "stream",
       "stream": "stdout",
       "text": [
        "Discretising peak data at mass_tol 2 and rt_tol 5\n",
        "4999 bins created"
       ]
      },
      {
       "output_type": "stream",
       "stream": "stdout",
       "text": [
        "\n"
       ]
      }
     ],
     "prompt_number": 3
    },
    {
     "cell_type": "code",
     "collapsed": false,
     "input": [
      "print pd.mass.size"
     ],
     "language": "python",
     "metadata": {},
     "outputs": [
      {
       "output_type": "stream",
       "stream": "stdout",
       "text": [
        "4999\n"
       ]
      }
     ],
     "prompt_number": 4
    },
    {
     "cell_type": "code",
     "collapsed": false,
     "input": [
      "from continuous_mass_clusterer import ContinuousGibbs\n",
      "hp = models.HyperPars()\n",
      "cg = ContinuousGibbs(pd,hp)\n",
      "cg.n_samples = 2\n",
      "cg.n_burn = 1\n",
      "print cg\n",
      "cg.run()"
     ],
     "language": "python",
     "metadata": {},
     "outputs": [
      {
       "output_type": "stream",
       "stream": "stdout",
       "text": [
        "Continuous Clusterer initialised\n",
        "Gibbs sampler for continuous mass model\n",
        "Hyperparameters alpha=100.0, mass_prec=100, mass_prior_prec=100, rt_prec=10, rt_prior_prec=100\n",
        "n_samples = 2\n",
        "Running the clustering\n",
        "525 peaks to be re-sampled\n",
        "Sample 0 biggest cluster: 1 (0)\n"
       ]
      },
      {
       "ename": "ValueError",
       "evalue": "setting an array element with a sequence.",
       "output_type": "pyerr",
       "traceback": [
        "\u001b[1;31m---------------------------------------------------------------------------\u001b[0m\n\u001b[1;31mValueError\u001b[0m                                Traceback (most recent call last)",
        "\u001b[1;32m<ipython-input-5-5eb36edf1d94>\u001b[0m in \u001b[0;36m<module>\u001b[1;34m()\u001b[0m\n\u001b[0;32m      5\u001b[0m \u001b[0mcg\u001b[0m\u001b[1;33m.\u001b[0m\u001b[0mn_burn\u001b[0m \u001b[1;33m=\u001b[0m \u001b[1;36m1\u001b[0m\u001b[1;33m\u001b[0m\u001b[0m\n\u001b[0;32m      6\u001b[0m \u001b[1;32mprint\u001b[0m \u001b[0mcg\u001b[0m\u001b[1;33m\u001b[0m\u001b[0m\n\u001b[1;32m----> 7\u001b[1;33m \u001b[0mcg\u001b[0m\u001b[1;33m.\u001b[0m\u001b[0mrun\u001b[0m\u001b[1;33m(\u001b[0m\u001b[1;33m)\u001b[0m\u001b[1;33m\u001b[0m\u001b[0m\n\u001b[0m",
        "\u001b[1;32m/home/joewandy/git/metabolomics_tools/discretisation/continuous_mass_clusterer.py\u001b[0m in \u001b[0;36mrun\u001b[1;34m(self)\u001b[0m\n\u001b[0;32m     50\u001b[0m                                 \u001b[0mpeak\u001b[0m \u001b[1;33m=\u001b[0m \u001b[0mtodo\u001b[0m\u001b[1;33m[\u001b[0m\u001b[1;36m0\u001b[0m\u001b[1;33m,\u001b[0m\u001b[0mi\u001b[0m\u001b[1;33m]\u001b[0m\u001b[1;33m\u001b[0m\u001b[0m\n\u001b[0;32m     51\u001b[0m                                 \u001b[0mcurrent_cluster\u001b[0m \u001b[1;33m=\u001b[0m \u001b[0mself\u001b[0m\u001b[1;33m.\u001b[0m\u001b[0mZ\u001b[0m\u001b[1;33m[\u001b[0m\u001b[0mpeak\u001b[0m\u001b[1;33m]\u001b[0m\u001b[1;33m\u001b[0m\u001b[0m\n\u001b[1;32m---> 52\u001b[1;33m                                 \u001b[0mself\u001b[0m\u001b[1;33m.\u001b[0m\u001b[0mcluster_size\u001b[0m\u001b[1;33m[\u001b[0m\u001b[0mcurrent_cluster\u001b[0m\u001b[1;33m]\u001b[0m\u001b[1;33m-=\u001b[0m\u001b[1;36m1\u001b[0m\u001b[1;33m\u001b[0m\u001b[0m\n\u001b[0m\u001b[0;32m     53\u001b[0m                                 \u001b[0mself\u001b[0m\u001b[1;33m.\u001b[0m\u001b[0mcluster_rt_sum\u001b[0m\u001b[1;33m[\u001b[0m\u001b[0mcurrent_cluster\u001b[0m\u001b[1;33m]\u001b[0m\u001b[1;33m-=\u001b[0m\u001b[0mself\u001b[0m\u001b[1;33m.\u001b[0m\u001b[0mrt\u001b[0m\u001b[1;33m[\u001b[0m\u001b[0mpeak\u001b[0m\u001b[1;33m]\u001b[0m\u001b[1;33m\u001b[0m\u001b[0m\n\u001b[0;32m     54\u001b[0m                                 \u001b[0mself\u001b[0m\u001b[1;33m.\u001b[0m\u001b[0mcluster_mass_sum\u001b[0m\u001b[1;33m[\u001b[0m\u001b[0mcurrent_cluster\u001b[0m\u001b[1;33m]\u001b[0m\u001b[1;33m-=\u001b[0m\u001b[0mself\u001b[0m\u001b[1;33m.\u001b[0m\u001b[0mtransformed\u001b[0m\u001b[1;33m[\u001b[0m\u001b[0mpeak\u001b[0m\u001b[1;33m,\u001b[0m\u001b[0mcurrent_cluster\u001b[0m\u001b[1;33m]\u001b[0m\u001b[1;33m\u001b[0m\u001b[0m\n",
        "\u001b[1;31mValueError\u001b[0m: setting an array element with a sequence."
       ]
      }
     ],
     "prompt_number": 5
    },
    {
     "cell_type": "code",
     "collapsed": false,
     "input": [
      "from plotting import ClusterPlotter\n",
      "cp = ClusterPlotter(pd,cg)\n",
      "# cp.summary()\n",
      "cp.plot_biggest(1)\n",
      "\n"
     ],
     "language": "python",
     "metadata": {},
     "outputs": []
    },
    {
     "cell_type": "raw",
     "metadata": {},
     "source": [
      "print cg.peak_cluster_probs"
     ]
    },
    {
     "cell_type": "code",
     "collapsed": false,
     "input": [
      "max_cluster_size = cg.cluster_size.max()\n",
      "for c in np.arange(max_cluster_size,2,-1):\n",
      "    clusters = np.nonzero(cg.cluster_size==c)[0]\n",
      "    for cl in clusters:\n",
      "        peaks = np.nonzero(cg.Z==cl)[0]\n",
      "        plt.figure(figsize=(10,5))\n",
      "        plt.subplot(1,2,1)\n",
      "        plt.plot(pd.mass[peaks],pd.rt[peaks],'ro')\n",
      "        plt.plot(pd.transformed[peaks,cl].toarray(),pd.rt[peaks],'ko')\n",
      "        plt.subplot(1,2,2)\n",
      "        for p in peaks:\n",
      "            plt.plot((pd.mass[p],pd.mass[p]),(0,pd.intensity[p]))\n",
      "            tra = pd.possible[p,cl]-1\n",
      "            plt.text(pd.mass[p],pd.intensity[p],pd.transformations[tra].name)"
     ],
     "language": "python",
     "metadata": {},
     "outputs": []
    },
    {
     "cell_type": "code",
     "collapsed": false,
     "input": [
      "moldb = pd.database\n",
      "print [db.mass for db in moldb]"
     ],
     "language": "python",
     "metadata": {},
     "outputs": []
    },
    {
     "cell_type": "code",
     "collapsed": false,
     "input": [
      "from continuous_mass_clusterer import ContinuousVB\n",
      "hp = models.HyperPars()\n",
      "vb = ContinuousVB(pd,hp)\n",
      "print vb\n",
      "vb.n_iterations = 100\n",
      "vb.run()"
     ],
     "language": "python",
     "metadata": {},
     "outputs": [
      {
       "output_type": "stream",
       "stream": "stdout",
       "text": [
        "Continuous Clusterer initialised - wow\n",
        "Variational Bayes for continuous mass model\n",
        "Hyperparameters alpha=100.0, mass_prec=100, mass_prior_prec=100, rt_prec=10, rt_prior_prec=100\n",
        "n_iterations = 100\n",
        "Running the clustering\n",
        "525 peaks to be re-sampled\n",
        "Iteration 0"
       ]
      },
      {
       "output_type": "stream",
       "stream": "stdout",
       "text": [
        "\n"
       ]
      },
      {
       "output_type": "stream",
       "stream": "stdout",
       "text": [
        "Change in Z: 108.083119334\n",
        "Iteration 1\n"
       ]
      },
      {
       "output_type": "stream",
       "stream": "stdout",
       "text": [
        "Change in Z: 50.1719686292\n",
        "Iteration 2\n"
       ]
      },
      {
       "output_type": "stream",
       "stream": "stdout",
       "text": [
        "Change in Z: 4.17031674103\n",
        "Iteration 3\n"
       ]
      },
      {
       "output_type": "stream",
       "stream": "stdout",
       "text": [
        "Change in Z: 0.0179522966577\n",
        "Iteration 4\n"
       ]
      },
      {
       "output_type": "stream",
       "stream": "stdout",
       "text": [
        "Change in Z: 6.38410440249e-05\n",
        "Iteration 5\n"
       ]
      },
      {
       "output_type": "stream",
       "stream": "stdout",
       "text": [
        "Change in Z: 1.55810895616e-05\n",
        "Iteration 6\n"
       ]
      },
      {
       "output_type": "stream",
       "stream": "stdout",
       "text": [
        "Change in Z: 3.79544079327e-06\n",
        "Iteration 7\n"
       ]
      },
      {
       "output_type": "stream",
       "stream": "stdout",
       "text": [
        "Change in Z: 9.23652606387e-07\n",
        "Iteration 8\n"
       ]
      },
      {
       "output_type": "stream",
       "stream": "stdout",
       "text": [
        "Change in Z: 2.24670241287e-07\n",
        "Iteration 9\n"
       ]
      },
      {
       "output_type": "stream",
       "stream": "stdout",
       "text": [
        "Change in Z: 5.46373351196e-08\n",
        "Iteration 10\n"
       ]
      },
      {
       "output_type": "stream",
       "stream": "stdout",
       "text": [
        "Change in Z: 1.32854183236e-08\n",
        "Iteration 11\n"
       ]
      },
      {
       "output_type": "stream",
       "stream": "stdout",
       "text": [
        "Change in Z: 3.23039380426e-09\n",
        "Iteration 12\n"
       ]
      },
      {
       "output_type": "stream",
       "stream": "stdout",
       "text": [
        "Change in Z: 7.85781451021e-10\n",
        "Iteration 13\n"
       ]
      },
      {
       "output_type": "stream",
       "stream": "stdout",
       "text": [
        "Change in Z: 1.92215501972e-10\n",
        "Iteration 14\n"
       ]
      },
      {
       "output_type": "stream",
       "stream": "stdout",
       "text": [
        "Change in Z: 5.02219849805e-11\n",
        "Iteration 15\n"
       ]
      },
      {
       "output_type": "stream",
       "stream": "stdout",
       "text": [
        "Change in Z: 2.26461798305e-11\n",
        "Iteration 16\n"
       ]
      },
      {
       "output_type": "stream",
       "stream": "stdout",
       "text": [
        "Change in Z: 3.66713808457e-11\n",
        "Iteration 17\n"
       ]
      },
      {
       "output_type": "stream",
       "stream": "stdout",
       "text": [
        "Change in Z: 1.01795838668e-10\n",
        "Iteration 18\n"
       ]
      },
      {
       "output_type": "stream",
       "stream": "stdout",
       "text": [
        "Change in Z: 3.01943976046e-10\n",
        "Iteration 19\n"
       ]
      },
      {
       "output_type": "stream",
       "stream": "stdout",
       "text": [
        "Change in Z: 9.00380400222e-10\n",
        "Iteration 20\n"
       ]
      },
      {
       "output_type": "stream",
       "stream": "stdout",
       "text": [
        "Change in Z: 2.68578997584e-09\n",
        "Iteration 21\n"
       ]
      },
      {
       "output_type": "stream",
       "stream": "stdout",
       "text": [
        "Change in Z: 8.01342295634e-09\n",
        "Iteration 22\n"
       ]
      },
      {
       "output_type": "stream",
       "stream": "stdout",
       "text": [
        "Change in Z: 2.39055481318e-08\n",
        "Iteration 23\n"
       ]
      },
      {
       "output_type": "stream",
       "stream": "stdout",
       "text": [
        "Change in Z: 7.13198871593e-08\n",
        "Iteration 24\n"
       ]
      },
      {
       "output_type": "stream",
       "stream": "stdout",
       "text": [
        "Change in Z: 2.12776228306e-07\n",
        "Iteration 25\n"
       ]
      },
      {
       "output_type": "stream",
       "stream": "stdout",
       "text": [
        "Change in Z: 6.34776108913e-07\n",
        "Iteration 26\n"
       ]
      },
      {
       "output_type": "stream",
       "stream": "stdout",
       "text": [
        "Change in Z: 1.89377415153e-06\n",
        "Iteration 27\n"
       ]
      },
      {
       "output_type": "stream",
       "stream": "stdout",
       "text": [
        "Change in Z: 5.64979034231e-06\n",
        "Iteration 28\n"
       ]
      },
      {
       "output_type": "stream",
       "stream": "stdout",
       "text": [
        "Change in Z: 1.68551677978e-05\n",
        "Iteration 29\n"
       ]
      },
      {
       "output_type": "stream",
       "stream": "stdout",
       "text": [
        "Change in Z: 5.02831130195e-05\n",
        "Iteration 30\n"
       ]
      },
      {
       "output_type": "stream",
       "stream": "stdout",
       "text": [
        "Change in Z: 0.000149995344517\n",
        "Iteration 31\n"
       ]
      },
      {
       "output_type": "stream",
       "stream": "stdout",
       "text": [
        "Change in Z: 0.000447335347725\n",
        "Iteration 32\n"
       ]
      },
      {
       "output_type": "stream",
       "stream": "stdout",
       "text": [
        "Change in Z: 0.00133318298976\n",
        "Iteration 33\n"
       ]
      },
      {
       "output_type": "stream",
       "stream": "stdout",
       "text": [
        "Change in Z: 0.00396510612324\n",
        "Iteration 34\n"
       ]
      },
      {
       "output_type": "stream",
       "stream": "stdout",
       "text": [
        "Change in Z: 0.0117208661951\n",
        "Iteration 35\n"
       ]
      },
      {
       "output_type": "stream",
       "stream": "stdout",
       "text": [
        "Change in Z: 0.034019395558\n",
        "Iteration 36\n"
       ]
      },
      {
       "output_type": "stream",
       "stream": "stdout",
       "text": [
        "Change in Z: 0.0934979022158\n",
        "Iteration 37\n"
       ]
      },
      {
       "output_type": "stream",
       "stream": "stdout",
       "text": [
        "Change in Z: 0.218487170822\n",
        "Iteration 38\n"
       ]
      },
      {
       "output_type": "stream",
       "stream": "stdout",
       "text": [
        "Change in Z: 0.325702970149\n",
        "Iteration 39\n"
       ]
      },
      {
       "output_type": "stream",
       "stream": "stdout",
       "text": [
        "Change in Z: 0.302415494551\n",
        "Iteration 40\n"
       ]
      },
      {
       "output_type": "stream",
       "stream": "stdout",
       "text": [
        "Change in Z: 0.401480135898\n",
        "Iteration 41\n"
       ]
      },
      {
       "output_type": "stream",
       "stream": "stdout",
       "text": [
        "Change in Z: 0.361622308275\n",
        "Iteration 42\n"
       ]
      },
      {
       "output_type": "stream",
       "stream": "stdout",
       "text": [
        "Change in Z: 0.283213078465\n",
        "Iteration 43\n"
       ]
      },
      {
       "output_type": "stream",
       "stream": "stdout",
       "text": [
        "Change in Z: 0.348280964527\n",
        "Iteration 44\n"
       ]
      },
      {
       "output_type": "stream",
       "stream": "stdout",
       "text": [
        "Change in Z: 0.427583673709\n",
        "Iteration 45\n"
       ]
      },
      {
       "output_type": "stream",
       "stream": "stdout",
       "text": [
        "Change in Z: 0.10415954698\n",
        "Iteration 46\n"
       ]
      },
      {
       "output_type": "stream",
       "stream": "stdout",
       "text": [
        "Change in Z: 0.000170452364946\n",
        "Iteration 47\n"
       ]
      },
      {
       "output_type": "stream",
       "stream": "stdout",
       "text": [
        "Change in Z: 4.2559333011e-19\n",
        "Iteration 48\n"
       ]
      },
      {
       "output_type": "stream",
       "stream": "stdout",
       "text": [
        "Change in Z: 4.6592503212e-19\n",
        "Iteration 49\n"
       ]
      },
      {
       "output_type": "stream",
       "stream": "stdout",
       "text": [
        "Change in Z: 1.39412303829e-19\n",
        "Iteration 50\n"
       ]
      },
      {
       "output_type": "stream",
       "stream": "stdout",
       "text": [
        "Change in Z: 3.43378440966e-19\n",
        "Iteration 51\n"
       ]
      },
      {
       "output_type": "stream",
       "stream": "stdout",
       "text": [
        "Change in Z: 1.07476009904e-18\n",
        "Iteration 52\n"
       ]
      },
      {
       "output_type": "stream",
       "stream": "stdout",
       "text": [
        "Change in Z: 1.15149463079e-18\n",
        "Iteration 53\n"
       ]
      },
      {
       "output_type": "stream",
       "stream": "stdout",
       "text": [
        "Change in Z: 2.78221812987e-19\n",
        "Iteration 54\n"
       ]
      },
      {
       "output_type": "stream",
       "stream": "stdout",
       "text": [
        "Change in Z: 5.21625570524e-19\n",
        "Iteration 55\n"
       ]
      },
      {
       "output_type": "stream",
       "stream": "stdout",
       "text": [
        "Change in Z: 1.47222860248e-19\n",
        "Iteration 56\n"
       ]
      },
      {
       "output_type": "stream",
       "stream": "stdout",
       "text": [
        "Change in Z: 3.09722778196e-19\n",
        "Iteration 57\n"
       ]
      },
      {
       "output_type": "stream",
       "stream": "stdout",
       "text": [
        "Change in Z: 1.39429686821e-19\n",
        "Iteration 58\n"
       ]
      },
      {
       "output_type": "stream",
       "stream": "stdout",
       "text": [
        "Change in Z: 2.15381867014e-19\n",
        "Iteration 59\n"
       ]
      },
      {
       "output_type": "stream",
       "stream": "stdout",
       "text": [
        "Change in Z: 2.41770698542e-19\n",
        "Iteration 60\n"
       ]
      },
      {
       "output_type": "stream",
       "stream": "stdout",
       "text": [
        "Change in Z: 7.43049109338e-19\n",
        "Iteration 61\n"
       ]
      },
      {
       "output_type": "stream",
       "stream": "stdout",
       "text": [
        "Change in Z: 3.48452164288e-19\n",
        "Iteration 62\n"
       ]
      },
      {
       "output_type": "stream",
       "stream": "stdout",
       "text": [
        "Change in Z: 6.35366916624e-19\n",
        "Iteration 63\n"
       ]
      },
      {
       "output_type": "stream",
       "stream": "stdout",
       "text": [
        "Change in Z: 2.77822188453e-18\n",
        "Iteration 64\n"
       ]
      },
      {
       "output_type": "stream",
       "stream": "stdout",
       "text": [
        "Change in Z: 1.94418820934e-19\n",
        "Iteration 65\n"
       ]
      },
      {
       "output_type": "stream",
       "stream": "stdout",
       "text": [
        "Change in Z: 7.78468590702e-19\n",
        "Iteration 66\n"
       ]
      },
      {
       "output_type": "stream",
       "stream": "stdout",
       "text": [
        "Change in Z: 6.04462125312e-19\n",
        "Iteration 67\n"
       ]
      },
      {
       "output_type": "stream",
       "stream": "stdout",
       "text": [
        "Change in Z: 1.58855913014e-18\n",
        "Iteration 68\n"
       ]
      },
      {
       "output_type": "stream",
       "stream": "stdout",
       "text": [
        "Change in Z: 5.51807731234e-19\n",
        "Iteration 69\n"
       ]
      },
      {
       "output_type": "stream",
       "stream": "stdout",
       "text": [
        "Change in Z: 6.08205644322e-20\n",
        "Iteration 70\n"
       ]
      },
      {
       "output_type": "stream",
       "stream": "stdout",
       "text": [
        "Change in Z: 1.62517520158e-20\n",
        "Iteration 71\n"
       ]
      },
      {
       "output_type": "stream",
       "stream": "stdout",
       "text": [
        "Change in Z: 2.58412908738e-19\n",
        "Iteration 72\n"
       ]
      },
      {
       "output_type": "stream",
       "stream": "stdout",
       "text": [
        "Change in Z: 6.4090828169e-19\n",
        "Iteration 73\n"
       ]
      },
      {
       "output_type": "stream",
       "stream": "stdout",
       "text": [
        "Change in Z: 1.03257429062e-18\n",
        "Iteration 74\n"
       ]
      },
      {
       "output_type": "stream",
       "stream": "stdout",
       "text": [
        "Change in Z: 1.5030308573e-18\n",
        "Iteration 75\n"
       ]
      },
      {
       "output_type": "stream",
       "stream": "stdout",
       "text": [
        "Change in Z: 1.32129672318e-18\n",
        "Iteration 76\n"
       ]
      },
      {
       "output_type": "stream",
       "stream": "stdout",
       "text": [
        "Change in Z: 5.55615160072e-21\n",
        "Iteration 77\n"
       ]
      },
      {
       "output_type": "stream",
       "stream": "stdout",
       "text": [
        "Change in Z: 2.72076503284e-19\n",
        "Iteration 78\n"
       ]
      },
      {
       "output_type": "stream",
       "stream": "stdout",
       "text": [
        "Change in Z: 7.71370033653e-20\n",
        "Iteration 79\n"
       ]
      },
      {
       "output_type": "stream",
       "stream": "stdout",
       "text": [
        "Change in Z: 2.83970145556e-19\n",
        "Iteration 80\n"
       ]
      },
      {
       "output_type": "stream",
       "stream": "stdout",
       "text": [
        "Change in Z: 5.66795515007e-21\n",
        "Iteration 81\n"
       ]
      },
      {
       "output_type": "stream",
       "stream": "stdout",
       "text": [
        "Change in Z: 7.8034902873e-19\n",
        "Iteration 82\n"
       ]
      },
      {
       "output_type": "stream",
       "stream": "stdout",
       "text": [
        "Change in Z: 1.30190881465e-19\n",
        "Iteration 83\n"
       ]
      },
      {
       "output_type": "stream",
       "stream": "stdout",
       "text": [
        "Change in Z: 8.76077377257e-19\n",
        "Iteration 84\n"
       ]
      },
      {
       "output_type": "stream",
       "stream": "stdout",
       "text": [
        "Change in Z: 2.8079429063e-19\n",
        "Iteration 85\n"
       ]
      },
      {
       "output_type": "stream",
       "stream": "stdout",
       "text": [
        "Change in Z: 1.48491114529e-18\n",
        "Iteration 86\n"
       ]
      },
      {
       "output_type": "stream",
       "stream": "stdout",
       "text": [
        "Change in Z: 6.96186457556e-19\n",
        "Iteration 87\n"
       ]
      },
      {
       "output_type": "stream",
       "stream": "stdout",
       "text": [
        "Change in Z: 8.9174051069e-19\n",
        "Iteration 88\n"
       ]
      },
      {
       "output_type": "stream",
       "stream": "stdout",
       "text": [
        "Change in Z: 4.63290482413e-19\n",
        "Iteration 89\n"
       ]
      },
      {
       "output_type": "stream",
       "stream": "stdout",
       "text": [
        "Change in Z: 1.34584302314e-18\n",
        "Iteration 90\n"
       ]
      },
      {
       "output_type": "stream",
       "stream": "stdout",
       "text": [
        "Change in Z: 7.89656783033e-19\n",
        "Iteration 91\n"
       ]
      },
      {
       "output_type": "stream",
       "stream": "stdout",
       "text": [
        "Change in Z: 4.47151287194e-19\n",
        "Iteration 92\n"
       ]
      },
      {
       "output_type": "stream",
       "stream": "stdout",
       "text": [
        "Change in Z: 4.08158080512e-19\n",
        "Iteration 93\n"
       ]
      },
      {
       "output_type": "stream",
       "stream": "stdout",
       "text": [
        "Change in Z: 5.61197133449e-19\n",
        "Iteration 94\n"
       ]
      },
      {
       "output_type": "stream",
       "stream": "stdout",
       "text": [
        "Change in Z: 3.92468370672e-19\n",
        "Iteration 95\n"
       ]
      },
      {
       "output_type": "stream",
       "stream": "stdout",
       "text": [
        "Change in Z: 5.44878174221e-19\n",
        "Iteration 96\n"
       ]
      },
      {
       "output_type": "stream",
       "stream": "stdout",
       "text": [
        "Change in Z: 1.0029768356e-18\n",
        "Iteration 97\n"
       ]
      },
      {
       "output_type": "stream",
       "stream": "stdout",
       "text": [
        "Change in Z: 2.4299253034e-20\n",
        "Iteration 98\n"
       ]
      },
      {
       "output_type": "stream",
       "stream": "stdout",
       "text": [
        "Change in Z: 7.85750628781e-19\n",
        "Iteration 99\n"
       ]
      },
      {
       "output_type": "stream",
       "stream": "stdout",
       "text": [
        "Change in Z: 1.0209980027e-18\n"
       ]
      }
     ],
     "prompt_number": 6
    },
    {
     "cell_type": "code",
     "collapsed": false,
     "input": [
      "print vb.ELogPi"
     ],
     "language": "python",
     "metadata": {},
     "outputs": [
      {
       "output_type": "stream",
       "stream": "stdout",
       "text": [
        "[[ -8.10109626]\n",
        " [ -9.08148458]\n",
        " [ -9.08148458]\n",
        " ..., \n",
        " [ -9.08148458]\n",
        " [-59.07148458]\n",
        " [ -9.08148458]]\n"
       ]
      }
     ],
     "prompt_number": 7
    },
    {
     "cell_type": "code",
     "collapsed": false,
     "input": [
      "print np.nonzero(pd.possible[0,:])[0]"
     ],
     "language": "python",
     "metadata": {},
     "outputs": [
      {
       "output_type": "stream",
       "stream": "stdout",
       "text": [
        "[0]\n"
       ]
      }
     ],
     "prompt_number": 8
    },
    {
     "cell_type": "code",
     "collapsed": false,
     "input": [
      "import scipy.sparse as sp\n",
      "a = sp.lil_matrix((2,2))\n"
     ],
     "language": "python",
     "metadata": {},
     "outputs": [],
     "prompt_number": 9
    },
    {
     "cell_type": "code",
     "collapsed": false,
     "input": [
      "a[0,0] = 1\n",
      "a[1,1] = 4\n",
      "print a"
     ],
     "language": "python",
     "metadata": {},
     "outputs": [
      {
       "output_type": "stream",
       "stream": "stdout",
       "text": [
        "  (0, 0)\t1.0\n",
        "  (1, 1)\t4.0\n"
       ]
      }
     ],
     "prompt_number": 10
    },
    {
     "cell_type": "code",
     "collapsed": false,
     "input": [
      "b = a"
     ],
     "language": "python",
     "metadata": {},
     "outputs": [],
     "prompt_number": 11
    },
    {
     "cell_type": "code",
     "collapsed": false,
     "input": [
      "print b"
     ],
     "language": "python",
     "metadata": {},
     "outputs": [
      {
       "output_type": "stream",
       "stream": "stdout",
       "text": [
        "  (0, 0)\t1.0\n",
        "  (1, 1)\t4.0\n"
       ]
      }
     ],
     "prompt_number": 12
    },
    {
     "cell_type": "code",
     "collapsed": false,
     "input": [
      "b[0,1] = 2"
     ],
     "language": "python",
     "metadata": {},
     "outputs": [],
     "prompt_number": 13
    },
    {
     "cell_type": "code",
     "collapsed": false,
     "input": [
      "print a"
     ],
     "language": "python",
     "metadata": {},
     "outputs": [
      {
       "output_type": "stream",
       "stream": "stdout",
       "text": [
        "  (0, 0)\t1.0\n",
        "  (0, 1)\t2.0\n",
        "  (1, 1)\t4.0\n"
       ]
      }
     ],
     "prompt_number": 14
    },
    {
     "cell_type": "code",
     "collapsed": false,
     "input": [
      "b = sp.lil_matrix(a,copy=True)"
     ],
     "language": "python",
     "metadata": {},
     "outputs": [],
     "prompt_number": 15
    },
    {
     "cell_type": "code",
     "collapsed": false,
     "input": [
      "b[0,0] = 3\n",
      "print a"
     ],
     "language": "python",
     "metadata": {},
     "outputs": [
      {
       "output_type": "stream",
       "stream": "stdout",
       "text": [
        "  (0, 0)\t1.0\n",
        "  (0, 1)\t2.0\n",
        "  (1, 1)\t4.0\n"
       ]
      }
     ],
     "prompt_number": 16
    },
    {
     "cell_type": "code",
     "collapsed": false,
     "input": [
      "a = sp.lil_matrix((2,2))\n",
      "a[0,0] = 3\n",
      "b = sp.lil_matrix((2,2))\n",
      "b[0,0] = 2\n",
      "c = a.multiply(b)\n",
      "print c[0,0],a[0,0]"
     ],
     "language": "python",
     "metadata": {},
     "outputs": [
      {
       "output_type": "stream",
       "stream": "stdout",
       "text": [
        "6.0 3.0\n"
       ]
      }
     ],
     "prompt_number": 17
    },
    {
     "cell_type": "code",
     "collapsed": false,
     "input": [
      "d = sp.csr_matrix((3,3))"
     ],
     "language": "python",
     "metadata": {},
     "outputs": [],
     "prompt_number": 18
    },
    {
     "cell_type": "code",
     "collapsed": false,
     "input": [
      "print dir(d)"
     ],
     "language": "python",
     "metadata": {},
     "outputs": [
      {
       "output_type": "stream",
       "stream": "stdout",
       "text": [
        "['__abs__', '__add__', '__array_priority__', '__bool__', '__class__', '__delattr__', '__dict__', '__div__', '__doc__', '__eq__', '__format__', '__ge__', '__getattr__', '__getattribute__', '__getitem__', '__gt__', '__hash__', '__iadd__', '__idiv__', '__imul__', '__init__', '__isub__', '__iter__', '__itruediv__', '__le__', '__len__', '__lt__', '__module__', '__mul__', '__ne__', '__neg__', '__new__', '__nonzero__', '__numpy_ufunc__', '__pow__', '__radd__', '__rdiv__', '__reduce__', '__reduce_ex__', '__repr__', '__rmul__', '__rsub__', '__rtruediv__', '__setattr__', '__setitem__', '__sizeof__', '__str__', '__sub__', '__subclasshook__', '__truediv__', '__weakref__', '_binopt', '_boolean_index_to_array', '_check_boolean', '_check_ellipsis', '_copy_with_const', '_cs_matrix__get_has_canonical_format', '_cs_matrix__get_sorted', '_cs_matrix__set_has_canonical_format', '_cs_matrix__set_sorted', '_divide', '_divide_sparse', '_get_dtype', '_get_row_slice', '_get_single_element', '_get_slice', '_get_submatrix', '_imag', '_index_to_arrays', '_inequality', '_insert_many', '_maximum_minimum', '_min_or_max', '_min_or_max_axis', '_minor_reduce', '_mul_multivector', '_mul_scalar', '_mul_sparse_matrix', '_mul_vector', '_process_toarray_args', '_real', '_set_dtype', '_set_many', '_set_self', '_shape', '_slicetoarange', '_swap', '_unpack_index', '_with_data', 'arcsin', 'arcsinh', 'arctan', 'arctanh', 'asformat', 'asfptype', 'astype', 'ceil', 'check_format', 'conj', 'conjugate', 'copy', 'data', 'deg2rad', 'diagonal', 'dot', 'dtype', 'eliminate_zeros', 'expm1', 'floor', 'format', 'getH', 'get_shape', 'getcol', 'getformat', 'getmaxprint', 'getnnz', 'getrow', 'has_canonical_format', 'has_sorted_indices', 'indices', 'indptr', 'log1p', 'max', 'maximum', 'maxprint', 'mean', 'min', 'minimum', 'multiply', 'ndim', 'nnz', 'nonzero', 'prune', 'rad2deg', 'reshape', 'rint', 'set_shape', 'setdiag', 'shape', 'sign', 'sin', 'sinh', 'sort_indices', 'sorted_indices', 'sqrt', 'sum', 'sum_duplicates', 'tan', 'tanh', 'toarray', 'tobsr', 'tocoo', 'tocsc', 'tocsr', 'todense', 'todia', 'todok', 'tolil', 'transpose', 'trunc']\n"
       ]
      }
     ],
     "prompt_number": 19
    },
    {
     "cell_type": "code",
     "collapsed": false,
     "input": [
      "d._get_row_slice?"
     ],
     "language": "python",
     "metadata": {},
     "outputs": [],
     "prompt_number": 20
    },
    {
     "cell_type": "code",
     "collapsed": false,
     "input": [],
     "language": "python",
     "metadata": {},
     "outputs": []
    }
   ],
   "metadata": {}
  }
 ]
}