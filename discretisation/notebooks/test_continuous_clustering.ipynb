{
 "metadata": {
  "name": "",
  "signature": "sha256:c39bf8eabefa94c0e6b40febb21bf08cee8b0b61f80e7ac85ab14d61f87b78ea"
 },
 "nbformat": 3,
 "nbformat_minor": 0,
 "worksheets": [
  {
   "cells": [
    {
     "cell_type": "code",
     "collapsed": false,
     "input": [
      "%load_ext autoreload\n",
      "%autoreload 2\n",
      "\n",
      "\n",
      "import sys\n",
      "\n",
      "basedir = '../'\n",
      "sys.path.append(basedir)\n",
      "\n",
      "import preprocessing\n",
      "import models"
     ],
     "language": "python",
     "metadata": {},
     "outputs": [],
     "prompt_number": 1
    },
    {
     "cell_type": "markdown",
     "metadata": {},
     "source": [
      "<p>Format the plots</p>"
     ]
    },
    {
     "cell_type": "code",
     "collapsed": false,
     "input": [
      "# %matplotlib inline\n",
      "# import numpy as np\n",
      "# from matplotlib import pyplot as plt\n",
      "%pylab inline"
     ],
     "language": "python",
     "metadata": {},
     "outputs": [
      {
       "output_type": "stream",
       "stream": "stdout",
       "text": [
        "Populating the interactive namespace from numpy and matplotlib\n"
       ]
      }
     ],
     "prompt_number": 2
    },
    {
     "cell_type": "code",
     "collapsed": false,
     "input": [
      "input_file = basedir + '/input/std1_csv/std1-file1.identified.csv'    \n",
      "database_file = basedir + '/database/std1_mols.csv'\n",
      "transformation_file = basedir + '/mulsubs/mulsub2.txt'\n",
      "mass_tol = 2\n",
      "rt_tol = 5\n",
      "loader = preprocessing.FileLoader()\n",
      "\n",
      "pd = loader.load_model_input(input_file, database_file, transformation_file, mass_tol, rt_tol)"
     ],
     "language": "python",
     "metadata": {},
     "outputs": [
      {
       "output_type": "stream",
       "stream": "stdout",
       "text": [
        "4999 features read\n",
        "Discretising at mass_tol=2, rt_tol=5\n",
        ". "
       ]
      },
      {
       "output_type": "stream",
       "stream": "stdout",
       "text": [
        ". "
       ]
      },
      {
       "output_type": "stream",
       "stream": "stdout",
       "text": [
        ". "
       ]
      },
      {
       "output_type": "stream",
       "stream": "stdout",
       "text": [
        ". "
       ]
      },
      {
       "output_type": "stream",
       "stream": "stdout",
       "text": [
        ". "
       ]
      },
      {
       "output_type": "stream",
       "stream": "stdout",
       "text": [
        ". "
       ]
      },
      {
       "output_type": "stream",
       "stream": "stdout",
       "text": [
        ". "
       ]
      },
      {
       "output_type": "stream",
       "stream": "stdout",
       "text": [
        ". "
       ]
      },
      {
       "output_type": "stream",
       "stream": "stdout",
       "text": [
        ". "
       ]
      },
      {
       "output_type": "stream",
       "stream": "stdout",
       "text": [
        ". "
       ]
      },
      {
       "output_type": "stream",
       "stream": "stdout",
       "text": [
        ". "
       ]
      },
      {
       "output_type": "stream",
       "stream": "stdout",
       "text": [
        ". "
       ]
      },
      {
       "output_type": "stream",
       "stream": "stdout",
       "text": [
        ". "
       ]
      },
      {
       "output_type": "stream",
       "stream": "stdout",
       "text": [
        ". "
       ]
      },
      {
       "output_type": "stream",
       "stream": "stdout",
       "text": [
        ". "
       ]
      },
      {
       "output_type": "stream",
       "stream": "stdout",
       "text": [
        ". "
       ]
      },
      {
       "output_type": "stream",
       "stream": "stdout",
       "text": [
        ". "
       ]
      },
      {
       "output_type": "stream",
       "stream": "stdout",
       "text": [
        ". "
       ]
      },
      {
       "output_type": "stream",
       "stream": "stdout",
       "text": [
        ". "
       ]
      },
      {
       "output_type": "stream",
       "stream": "stdout",
       "text": [
        ". "
       ]
      },
      {
       "output_type": "stream",
       "stream": "stdout",
       "text": [
        ". "
       ]
      },
      {
       "output_type": "stream",
       "stream": "stdout",
       "text": [
        ". "
       ]
      },
      {
       "output_type": "stream",
       "stream": "stdout",
       "text": [
        ". "
       ]
      },
      {
       "output_type": "stream",
       "stream": "stdout",
       "text": [
        ". "
       ]
      },
      {
       "output_type": "stream",
       "stream": "stdout",
       "text": [
        ". "
       ]
      },
      {
       "output_type": "stream",
       "stream": "stdout",
       "text": [
        ". "
       ]
      },
      {
       "output_type": "stream",
       "stream": "stdout",
       "text": [
        ". "
       ]
      },
      {
       "output_type": "stream",
       "stream": "stdout",
       "text": [
        ". "
       ]
      },
      {
       "output_type": "stream",
       "stream": "stdout",
       "text": [
        ". "
       ]
      },
      {
       "output_type": "stream",
       "stream": "stdout",
       "text": [
        ". "
       ]
      },
      {
       "output_type": "stream",
       "stream": "stdout",
       "text": [
        ". "
       ]
      },
      {
       "output_type": "stream",
       "stream": "stdout",
       "text": [
        ". "
       ]
      },
      {
       "output_type": "stream",
       "stream": "stdout",
       "text": [
        ". "
       ]
      },
      {
       "output_type": "stream",
       "stream": "stdout",
       "text": [
        ". "
       ]
      },
      {
       "output_type": "stream",
       "stream": "stdout",
       "text": [
        ". "
       ]
      },
      {
       "output_type": "stream",
       "stream": "stdout",
       "text": [
        ". "
       ]
      },
      {
       "output_type": "stream",
       "stream": "stdout",
       "text": [
        ". "
       ]
      },
      {
       "output_type": "stream",
       "stream": "stdout",
       "text": [
        ". "
       ]
      },
      {
       "output_type": "stream",
       "stream": "stdout",
       "text": [
        ". "
       ]
      },
      {
       "output_type": "stream",
       "stream": "stdout",
       "text": [
        ". "
       ]
      },
      {
       "output_type": "stream",
       "stream": "stdout",
       "text": [
        ". "
       ]
      },
      {
       "output_type": "stream",
       "stream": "stdout",
       "text": [
        ". "
       ]
      },
      {
       "output_type": "stream",
       "stream": "stdout",
       "text": [
        ". "
       ]
      },
      {
       "output_type": "stream",
       "stream": "stdout",
       "text": [
        ". "
       ]
      },
      {
       "output_type": "stream",
       "stream": "stdout",
       "text": [
        ". "
       ]
      },
      {
       "output_type": "stream",
       "stream": "stdout",
       "text": [
        ". "
       ]
      },
      {
       "output_type": "stream",
       "stream": "stdout",
       "text": [
        ". "
       ]
      },
      {
       "output_type": "stream",
       "stream": "stdout",
       "text": [
        ". "
       ]
      },
      {
       "output_type": "stream",
       "stream": "stdout",
       "text": [
        ". "
       ]
      },
      {
       "output_type": "stream",
       "stream": "stdout",
       "text": [
        ".\n"
       ]
      },
      {
       "output_type": "stream",
       "stream": "stdout",
       "text": [
        "Total bins=4999 total features=4999\n"
       ]
      }
     ],
     "prompt_number": 3
    },
    {
     "cell_type": "code",
     "collapsed": false,
     "input": [
      "print pd.mass.size"
     ],
     "language": "python",
     "metadata": {},
     "outputs": [
      {
       "output_type": "stream",
       "stream": "stdout",
       "text": [
        "4999\n"
       ]
      }
     ],
     "prompt_number": 4
    },
    {
     "cell_type": "code",
     "collapsed": false,
     "input": [
      "from continuous_mass_clusterer import ContinuousGibbs\n",
      "hp = models.HyperPars()\n",
      "cg = ContinuousGibbs(pd,hp)\n",
      "cg.n_samples = 20\n",
      "cg.n_burn = 10\n",
      "print cg\n",
      "cg.run()"
     ],
     "language": "python",
     "metadata": {},
     "outputs": [
      {
       "output_type": "stream",
       "stream": "stdout",
       "text": [
        "Continuous Clusterer initialised\n",
        "Gibbs sampler for continuous mass model\n",
        "Hyperparameters alpha=100.0, mass_prec=100, mass_prior_prec=100, rt_prec=10, rt_prior_prec=100\n",
        "n_samples = 20\n",
        "Running the clustering\n",
        "525 peaks to be re-sampled\n",
        "Sample 0 biggest cluster: 4999.0 (0)\n"
       ]
      },
      {
       "output_type": "stream",
       "stream": "stdout",
       "text": [
        "Sample 1 biggest cluster: 4474.0 (0)\n"
       ]
      },
      {
       "output_type": "stream",
       "stream": "stdout",
       "text": [
        "Sample 2 biggest cluster: 4474.0 (0)\n"
       ]
      },
      {
       "output_type": "stream",
       "stream": "stdout",
       "text": [
        "Sample 3 biggest cluster: 4474.0 (0)\n"
       ]
      },
      {
       "output_type": "stream",
       "stream": "stdout",
       "text": [
        "Sample 4 biggest cluster: 4474.0 (0)\n"
       ]
      },
      {
       "output_type": "stream",
       "stream": "stdout",
       "text": [
        "Sample 5 biggest cluster: 4474.0 (0)\n"
       ]
      },
      {
       "output_type": "stream",
       "stream": "stdout",
       "text": [
        "Sample 6 biggest cluster: 4474.0 (0)\n"
       ]
      },
      {
       "output_type": "stream",
       "stream": "stdout",
       "text": [
        "Sample 7 biggest cluster: 4474.0 (0)\n"
       ]
      },
      {
       "output_type": "stream",
       "stream": "stdout",
       "text": [
        "Sample 8 biggest cluster: 4474.0 (0)\n"
       ]
      },
      {
       "output_type": "stream",
       "stream": "stdout",
       "text": [
        "Sample 9 biggest cluster: 4474.0 (0)\n"
       ]
      },
      {
       "output_type": "stream",
       "stream": "stdout",
       "text": [
        "Sample 10 biggest cluster: 4474.0 (0)\n"
       ]
      },
      {
       "output_type": "stream",
       "stream": "stdout",
       "text": [
        "Sample 11 biggest cluster: 4474.0 (0)\n"
       ]
      },
      {
       "output_type": "stream",
       "stream": "stdout",
       "text": [
        "Sample 12 biggest cluster: 4474.0 (0)\n"
       ]
      },
      {
       "output_type": "stream",
       "stream": "stdout",
       "text": [
        "Sample 13 biggest cluster: 4474.0 (0)\n"
       ]
      },
      {
       "output_type": "stream",
       "stream": "stdout",
       "text": [
        "Sample 14 biggest cluster: 4474.0 (0)\n"
       ]
      },
      {
       "output_type": "stream",
       "stream": "stdout",
       "text": [
        "Sample 15 biggest cluster: 4474.0 (0)\n"
       ]
      },
      {
       "output_type": "stream",
       "stream": "stdout",
       "text": [
        "Sample 16 biggest cluster: 4474.0 (0)\n"
       ]
      },
      {
       "output_type": "stream",
       "stream": "stdout",
       "text": [
        "Sample 17 biggest cluster: 4474.0 (0)\n"
       ]
      },
      {
       "output_type": "stream",
       "stream": "stdout",
       "text": [
        "Sample 18 biggest cluster: 4474.0 (0)\n"
       ]
      },
      {
       "output_type": "stream",
       "stream": "stdout",
       "text": [
        "Sample 19 biggest cluster: 4474.0 (0)\n"
       ]
      }
     ],
     "prompt_number": 5
    },
    {
     "cell_type": "code",
     "collapsed": false,
     "input": [
      "from plotting import ClusterPlotter\n",
      "cp = ClusterPlotter(pd,cg)\n",
      "# cp.summary()\n",
      "cp.plot_biggest(1)\n",
      "\n"
     ],
     "language": "python",
     "metadata": {},
     "outputs": [
      {
       "metadata": {},
       "output_type": "display_data",
       "png": "[encoded data removed]",
       "text": [
        "<matplotlib.figure.Figure at 0x7f19c6544b10>"
       ]
      }
     ],
     "prompt_number": 6
    },
    {
     "cell_type": "code",
     "collapsed": false,
     "input": [
      "moldb = pd.database\n",
      "print [db.mass for db in moldb]"
     ],
     "language": "python",
     "metadata": {},
     "outputs": [
      {
       "output_type": "stream",
       "stream": "stdout",
       "text": [
        "[145.15789762638002, 92.04734412342, 386.35486610054, 74.0731649435, 132.00587323906, 68.03744813904, 90.03169405914, 268.08076951714, 165.07897860298, 131.09462866726, 204.08987764036, 151.0633285387, 196.99550040297999, 149.05104929298, 151.049409809, 169.07389322507998, 126.04292744752, 117.07897860297999, 135.0544951869, 115.06332853869999, 176.09496301826, 125.01466378651999, 131.0582431608, 113.05891186279999, 188.11609239101998, 119.0582431608, 133.03750771862, 221.08993721994, 146.06914219818, 89.04767847442, 132.0534921339, 347.06308434286, 105.04259309652, 175.09569129984, 243.08552054403998, 141.01909426276, 75.03202841014, 257.10282389264, 186.0680795656, 240.02384826456, 179.07937253356, 190.09535694884, 155.06947654918, 118.07422757607999, 146.10552770464, 174.11167571512, 264.1044818473, 398.13723853901996, 88.10004839616, 232.12117776891998, 164.04734412342, 104.04734412342, 166.02660868124, 116.01095861696, 118.02660868123999, 168.04225874552, 242.09027157094, 354.05619425046, 88.01604399486, 104.01095861696, 108.0687482676, 148.03717336762, 228.07462150665998, 124.02727738324, 152.03342539372, 170.02152330334002, 244.06953612875998, 174.01643792544002, 164.06847349618, 156.01710662744, 209.07217866574, 137.04767847442, 196.05830274038, 247.02457357124, 194.04265267609998, 210.03756729819997, 329.05251965648, 324.0358665392, 348.04709992758, 169.00449303072003, 230.01915384234002, 323.05185095448, 123.03202841013999, 260.02971852872, 167.9823744053, 276.02463315082, 424.03714266818, 147.0531577829, 180.06338811828, 120.04225874552, 342.11621155017997, 102.03169405914, 206.04265267609998, 376.13828439635995, 74.00039393058, 76.01604399486, 72.02112937276, 428.01343033802004, 427.0294147533, 339.99604893916, 767.11520837332, 265.95926950212004, 152.04734412342, 134.05790880979998]\n"
       ]
      }
     ],
     "prompt_number": 7
    },
    {
     "cell_type": "code",
     "collapsed": false,
     "input": [
      "from continuous_mass_clusterer import ContinuousVB\n",
      "hp = models.HyperPars()\n",
      "vb = ContinuousVB(pd,hp)\n",
      "print vb\n",
      "vb.n_iterations = 100\n",
      "vb.run()"
     ],
     "language": "python",
     "metadata": {},
     "outputs": [
      {
       "output_type": "stream",
       "stream": "stdout",
       "text": [
        "Continuous Clusterer initialised - wow\n",
        "Variational Bayes for continuous mass model\n",
        "Hyperparameters alpha=100.0, mass_prec=100, mass_prior_prec=100, rt_prec=10, rt_prior_prec=100\n",
        "n_iterations = 100\n",
        "Running the clustering\n",
        "525 peaks to be re-sampled\n",
        "Iteration 0"
       ]
      },
      {
       "output_type": "stream",
       "stream": "stdout",
       "text": [
        "\n"
       ]
      },
      {
       "output_type": "stream",
       "stream": "stdout",
       "text": [
        "Change in Z: 182.367880807\n",
        "Iteration 1\n"
       ]
      },
      {
       "output_type": "stream",
       "stream": "stdout",
       "text": [
        "Change in Z: 22.2000589494\n",
        "Iteration 2\n"
       ]
      },
      {
       "output_type": "stream",
       "stream": "stdout",
       "text": [
        "Change in Z: 12.455718943\n",
        "Iteration 3\n"
       ]
      },
      {
       "output_type": "stream",
       "stream": "stdout",
       "text": [
        "Change in Z: 9.83821942846\n",
        "Iteration 4\n"
       ]
      },
      {
       "output_type": "stream",
       "stream": "stdout",
       "text": [
        "Change in Z: 3.77774451444\n",
        "Iteration 5\n"
       ]
      },
      {
       "output_type": "stream",
       "stream": "stdout",
       "text": [
        "Change in Z: 1.88797980567\n",
        "Iteration 6\n"
       ]
      },
      {
       "output_type": "stream",
       "stream": "stdout",
       "text": [
        "Change in Z: 0.0543183970365\n",
        "Iteration 7\n"
       ]
      },
      {
       "output_type": "stream",
       "stream": "stdout",
       "text": [
        "Change in Z: 0.0510520587889\n",
        "Iteration 8\n"
       ]
      },
      {
       "output_type": "stream",
       "stream": "stdout",
       "text": [
        "Change in Z: 3.6828586848\n",
        "Iteration 9\n"
       ]
      },
      {
       "output_type": "stream",
       "stream": "stdout",
       "text": [
        "Change in Z: 0.00104296646608\n",
        "Iteration 10\n"
       ]
      },
      {
       "output_type": "stream",
       "stream": "stdout",
       "text": [
        "Change in Z: 0.000104279879224\n",
        "Iteration 11\n"
       ]
      },
      {
       "output_type": "stream",
       "stream": "stdout",
       "text": [
        "Change in Z: 2.94620310229e-05\n",
        "Iteration 12\n"
       ]
      },
      {
       "output_type": "stream",
       "stream": "stdout",
       "text": [
        "Change in Z: 1.33147193818e-05\n",
        "Iteration 13\n"
       ]
      },
      {
       "output_type": "stream",
       "stream": "stdout",
       "text": [
        "Change in Z: 6.40531945882e-06\n",
        "Iteration 14\n"
       ]
      },
      {
       "output_type": "stream",
       "stream": "stdout",
       "text": [
        "Change in Z: 3.10005344468e-06\n",
        "Iteration 15\n"
       ]
      },
      {
       "output_type": "stream",
       "stream": "stdout",
       "text": [
        "Change in Z: 1.50132736655e-06\n",
        "Iteration 16\n"
       ]
      },
      {
       "output_type": "stream",
       "stream": "stdout",
       "text": [
        "Change in Z: 7.27159340448e-07\n",
        "Iteration 17\n"
       ]
      },
      {
       "output_type": "stream",
       "stream": "stdout",
       "text": [
        "Change in Z: 3.52206309104e-07\n",
        "Iteration 18\n"
       ]
      },
      {
       "output_type": "stream",
       "stream": "stdout",
       "text": [
        "Change in Z: 1.70598895324e-07\n",
        "Iteration 19\n"
       ]
      },
      {
       "output_type": "stream",
       "stream": "stdout",
       "text": [
        "Change in Z: 8.26339585921e-08\n",
        "Iteration 20\n"
       ]
      },
      {
       "output_type": "stream",
       "stream": "stdout",
       "text": [
        "Change in Z: 4.00261420162e-08\n",
        "Iteration 21\n"
       ]
      },
      {
       "output_type": "stream",
       "stream": "stdout",
       "text": [
        "Change in Z: 1.93878800881e-08\n",
        "Iteration 22\n"
       ]
      },
      {
       "output_type": "stream",
       "stream": "stdout",
       "text": [
        "Change in Z: 9.39145694274e-09\n",
        "Iteration 23\n"
       ]
      },
      {
       "output_type": "stream",
       "stream": "stdout",
       "text": [
        "Change in Z: 4.54897466854e-09\n",
        "Iteration 24\n"
       ]
      },
      {
       "output_type": "stream",
       "stream": "stdout",
       "text": [
        "Change in Z: 2.2033950618e-09\n",
        "Iteration 25\n"
       ]
      },
      {
       "output_type": "stream",
       "stream": "stdout",
       "text": [
        "Change in Z: 1.06722586725e-09\n",
        "Iteration 26\n"
       ]
      },
      {
       "output_type": "stream",
       "stream": "stdout",
       "text": [
        "Change in Z: 5.16968186638e-10\n",
        "Iteration 27\n"
       ]
      },
      {
       "output_type": "stream",
       "stream": "stdout",
       "text": [
        "Change in Z: 2.50430049571e-10\n",
        "Iteration 28\n"
       ]
      },
      {
       "output_type": "stream",
       "stream": "stdout",
       "text": [
        "Change in Z: 1.21282397454e-10\n",
        "Iteration 29\n"
       ]
      },
      {
       "output_type": "stream",
       "stream": "stdout",
       "text": [
        "Change in Z: 5.87594016031e-11\n",
        "Iteration 30\n"
       ]
      },
      {
       "output_type": "stream",
       "stream": "stdout",
       "text": [
        "Change in Z: 2.84590685167e-11\n",
        "Iteration 31\n"
       ]
      },
      {
       "output_type": "stream",
       "stream": "stdout",
       "text": [
        "Change in Z: 1.37783662041e-11\n",
        "Iteration 32\n"
       ]
      },
      {
       "output_type": "stream",
       "stream": "stdout",
       "text": [
        "Change in Z: 6.67629562773e-12\n",
        "Iteration 33\n"
       ]
      },
      {
       "output_type": "stream",
       "stream": "stdout",
       "text": [
        "Change in Z: 3.23827447377e-12\n",
        "Iteration 34\n"
       ]
      },
      {
       "output_type": "stream",
       "stream": "stdout",
       "text": [
        "Change in Z: 1.56976496217e-12\n",
        "Iteration 35\n"
       ]
      },
      {
       "output_type": "stream",
       "stream": "stdout",
       "text": [
        "Change in Z: 7.59548652895e-13\n",
        "Iteration 36\n"
       ]
      },
      {
       "output_type": "stream",
       "stream": "stdout",
       "text": [
        "Change in Z: 3.67335510797e-13\n",
        "Iteration 37\n"
       ]
      },
      {
       "output_type": "stream",
       "stream": "stdout",
       "text": [
        "Change in Z: 1.77152103296e-13\n",
        "Iteration 38\n"
       ]
      },
      {
       "output_type": "stream",
       "stream": "stdout",
       "text": [
        "Change in Z: 8.57687205826e-14\n",
        "Iteration 39\n"
       ]
      },
      {
       "output_type": "stream",
       "stream": "stdout",
       "text": [
        "Change in Z: 4.20480549541e-14\n",
        "Iteration 40\n"
       ]
      },
      {
       "output_type": "stream",
       "stream": "stdout",
       "text": [
        "Change in Z: 2.04228951611e-14\n",
        "Iteration 41\n"
       ]
      },
      {
       "output_type": "stream",
       "stream": "stdout",
       "text": [
        "Change in Z: 9.91485553842e-15\n",
        "Iteration 42\n"
       ]
      },
      {
       "output_type": "stream",
       "stream": "stdout",
       "text": [
        "Change in Z: 4.64521169029e-15\n",
        "Iteration 43\n"
       ]
      },
      {
       "output_type": "stream",
       "stream": "stdout",
       "text": [
        "Change in Z: 2.22460638419e-15\n",
        "Iteration 44\n"
       ]
      },
      {
       "output_type": "stream",
       "stream": "stdout",
       "text": [
        "Change in Z: 1.14968342939e-15\n",
        "Iteration 45\n"
       ]
      },
      {
       "output_type": "stream",
       "stream": "stdout",
       "text": [
        "Change in Z: 5.05431561105e-16\n",
        "Iteration 46\n"
       ]
      },
      {
       "output_type": "stream",
       "stream": "stdout",
       "text": [
        "Change in Z: 2.75041847705e-16\n",
        "Iteration 47\n"
       ]
      },
      {
       "output_type": "stream",
       "stream": "stdout",
       "text": [
        "Change in Z: 1.12971426879e-16\n",
        "Iteration 48\n"
       ]
      },
      {
       "output_type": "stream",
       "stream": "stdout",
       "text": [
        "Change in Z: 7.01444837738e-17\n",
        "Iteration 49\n"
       ]
      },
      {
       "output_type": "stream",
       "stream": "stdout",
       "text": [
        "Change in Z: 2.81345906985e-17\n",
        "Iteration 50\n"
       ]
      },
      {
       "output_type": "stream",
       "stream": "stdout",
       "text": [
        "Change in Z: 1.16535737159e-17\n",
        "Iteration 51\n"
       ]
      },
      {
       "output_type": "stream",
       "stream": "stdout",
       "text": [
        "Change in Z: 1.37780245381e-17\n",
        "Iteration 52\n"
       ]
      },
      {
       "output_type": "stream",
       "stream": "stdout",
       "text": [
        "Change in Z: 5.64869573564e-18\n",
        "Iteration 53\n"
       ]
      },
      {
       "output_type": "stream",
       "stream": "stdout",
       "text": [
        "Change in Z: 1.62542961426e-18\n",
        "Iteration 54\n"
       ]
      },
      {
       "output_type": "stream",
       "stream": "stdout",
       "text": [
        "Change in Z: 1.5332002653e-18\n",
        "Iteration 55\n"
       ]
      },
      {
       "output_type": "stream",
       "stream": "stdout",
       "text": [
        "Change in Z: 1.26327106481e-18\n",
        "Iteration 56\n"
       ]
      },
      {
       "output_type": "stream",
       "stream": "stdout",
       "text": [
        "Change in Z: 1.0666895687e-18\n",
        "Iteration 57\n"
       ]
      },
      {
       "output_type": "stream",
       "stream": "stdout",
       "text": [
        "Change in Z: 1.64069651471e-18\n",
        "Iteration 58\n"
       ]
      },
      {
       "output_type": "stream",
       "stream": "stdout",
       "text": [
        "Change in Z: 1.33890439698e-19\n",
        "Iteration 59\n"
       ]
      },
      {
       "output_type": "stream",
       "stream": "stdout",
       "text": [
        "Change in Z: 8.03623113645e-19\n",
        "Iteration 60\n"
       ]
      },
      {
       "output_type": "stream",
       "stream": "stdout",
       "text": [
        "Change in Z: 1.16703427945e-18\n",
        "Iteration 61\n"
       ]
      },
      {
       "output_type": "stream",
       "stream": "stdout",
       "text": [
        "Change in Z: 1.26600974286e-18\n",
        "Iteration 62\n"
       ]
      },
      {
       "output_type": "stream",
       "stream": "stdout",
       "text": [
        "Change in Z: 7.61105935096e-19\n",
        "Iteration 63\n"
       ]
      },
      {
       "output_type": "stream",
       "stream": "stdout",
       "text": [
        "Change in Z: 4.50153391734e-19\n",
        "Iteration 64\n"
       ]
      },
      {
       "output_type": "stream",
       "stream": "stdout",
       "text": [
        "Change in Z: 8.64127565189e-20\n",
        "Iteration 65\n"
       ]
      },
      {
       "output_type": "stream",
       "stream": "stdout",
       "text": [
        "Change in Z: 1.02487075166e-19\n",
        "Iteration 66\n"
       ]
      },
      {
       "output_type": "stream",
       "stream": "stdout",
       "text": [
        "Change in Z: 6.29963531225e-19\n",
        "Iteration 67\n"
       ]
      },
      {
       "output_type": "stream",
       "stream": "stdout",
       "text": [
        "Change in Z: 5.14351538119e-19\n",
        "Iteration 68\n"
       ]
      },
      {
       "output_type": "stream",
       "stream": "stdout",
       "text": [
        "Change in Z: 6.91460736525e-19\n",
        "Iteration 69\n"
       ]
      },
      {
       "output_type": "stream",
       "stream": "stdout",
       "text": [
        "Change in Z: 7.73226163307e-19\n",
        "Iteration 70\n"
       ]
      },
      {
       "output_type": "stream",
       "stream": "stdout",
       "text": [
        "Change in Z: 1.28744174497e-18\n",
        "Iteration 71\n"
       ]
      },
      {
       "output_type": "stream",
       "stream": "stdout",
       "text": [
        "Change in Z: 4.86423692794e-19\n",
        "Iteration 72\n"
       ]
      },
      {
       "output_type": "stream",
       "stream": "stdout",
       "text": [
        "Change in Z: 1.15729407712e-18\n",
        "Iteration 73\n"
       ]
      },
      {
       "output_type": "stream",
       "stream": "stdout",
       "text": [
        "Change in Z: 8.66394360967e-19\n",
        "Iteration 74\n"
       ]
      },
      {
       "output_type": "stream",
       "stream": "stdout",
       "text": [
        "Change in Z: 5.9162647795e-19\n",
        "Iteration 75\n"
       ]
      },
      {
       "output_type": "stream",
       "stream": "stdout",
       "text": [
        "Change in Z: 3.21853745845e-19\n",
        "Iteration 76\n"
       ]
      },
      {
       "output_type": "stream",
       "stream": "stdout",
       "text": [
        "Change in Z: 6.57381922511e-19\n",
        "Iteration 77\n"
       ]
      },
      {
       "output_type": "stream",
       "stream": "stdout",
       "text": [
        "Change in Z: 2.3385636439e-19\n",
        "Iteration 78\n"
       ]
      },
      {
       "output_type": "stream",
       "stream": "stdout",
       "text": [
        "Change in Z: 5.79988458007e-19\n",
        "Iteration 79\n"
       ]
      },
      {
       "output_type": "stream",
       "stream": "stdout",
       "text": [
        "Change in Z: 2.79791881222e-19\n",
        "Iteration 80\n"
       ]
      },
      {
       "output_type": "stream",
       "stream": "stdout",
       "text": [
        "Change in Z: 4.97175591294e-19\n",
        "Iteration 81\n"
       ]
      },
      {
       "output_type": "stream",
       "stream": "stdout",
       "text": [
        "Change in Z: 3.89502178888e-19\n",
        "Iteration 82\n"
       ]
      },
      {
       "output_type": "stream",
       "stream": "stdout",
       "text": [
        "Change in Z: 6.99183660692e-19\n",
        "Iteration 83\n"
       ]
      },
      {
       "output_type": "stream",
       "stream": "stdout",
       "text": [
        "Change in Z: 7.88391317748e-19\n",
        "Iteration 84\n"
       ]
      },
      {
       "output_type": "stream",
       "stream": "stdout",
       "text": [
        "Change in Z: 3.25667850722e-19\n",
        "Iteration 85\n"
       ]
      },
      {
       "output_type": "stream",
       "stream": "stdout",
       "text": [
        "Change in Z: 7.29454772104e-20\n",
        "Iteration 86\n"
       ]
      },
      {
       "output_type": "stream",
       "stream": "stdout",
       "text": [
        "Change in Z: 2.58941113492e-20\n",
        "Iteration 87\n"
       ]
      },
      {
       "output_type": "stream",
       "stream": "stdout",
       "text": [
        "Change in Z: 4.37567718384e-19\n",
        "Iteration 88\n"
       ]
      },
      {
       "output_type": "stream",
       "stream": "stdout",
       "text": [
        "Change in Z: 5.77384117669e-19\n",
        "Iteration 89\n"
       ]
      },
      {
       "output_type": "stream",
       "stream": "stdout",
       "text": [
        "Change in Z: 9.28298431554e-19\n",
        "Iteration 90\n"
       ]
      },
      {
       "output_type": "stream",
       "stream": "stdout",
       "text": [
        "Change in Z: 1.02555210944e-18\n",
        "Iteration 91\n"
       ]
      },
      {
       "output_type": "stream",
       "stream": "stdout",
       "text": [
        "Change in Z: 4.02235960571e-19\n",
        "Iteration 92\n"
       ]
      },
      {
       "output_type": "stream",
       "stream": "stdout",
       "text": [
        "Change in Z: 2.59595786017e-19\n",
        "Iteration 93\n"
       ]
      },
      {
       "output_type": "stream",
       "stream": "stdout",
       "text": [
        "Change in Z: 5.70715670542e-19\n",
        "Iteration 94\n"
       ]
      },
      {
       "output_type": "stream",
       "stream": "stdout",
       "text": [
        "Change in Z: 5.57330830506e-19\n",
        "Iteration 95\n"
       ]
      },
      {
       "output_type": "stream",
       "stream": "stdout",
       "text": [
        "Change in Z: 1.23493641611e-19\n",
        "Iteration 96\n"
       ]
      },
      {
       "output_type": "stream",
       "stream": "stdout",
       "text": [
        "Change in Z: 3.4686876029e-19\n",
        "Iteration 97\n"
       ]
      },
      {
       "output_type": "stream",
       "stream": "stdout",
       "text": [
        "Change in Z: 6.26851203615e-19\n",
        "Iteration 98\n"
       ]
      },
      {
       "output_type": "stream",
       "stream": "stdout",
       "text": [
        "Change in Z: 6.48380561066e-19\n",
        "Iteration 99\n"
       ]
      },
      {
       "output_type": "stream",
       "stream": "stdout",
       "text": [
        "Change in Z: 7.63063219805e-19\n"
       ]
      }
     ],
     "prompt_number": 8
    },
    {
     "cell_type": "code",
     "collapsed": false,
     "input": [
      "print vb.ELogPi"
     ],
     "language": "python",
     "metadata": {},
     "outputs": [
      {
       "output_type": "stream",
       "stream": "stdout",
       "text": [
        "[[ -7.82302269]\n",
        " [ -9.08148458]\n",
        " [ -9.08148458]\n",
        " ..., \n",
        " [ -9.08148458]\n",
        " [-59.07148458]\n",
        " [ -9.08148458]]\n"
       ]
      }
     ],
     "prompt_number": 9
    },
    {
     "cell_type": "code",
     "collapsed": false,
     "input": [
      "print np.nonzero(pd.possible[0,:])[0]"
     ],
     "language": "python",
     "metadata": {},
     "outputs": [
      {
       "output_type": "stream",
       "stream": "stdout",
       "text": [
        "[0]\n"
       ]
      }
     ],
     "prompt_number": 10
    },
    {
     "cell_type": "code",
     "collapsed": false,
     "input": [
      "import scipy.sparse as sp\n",
      "a = sp.lil_matrix((2,2))\n"
     ],
     "language": "python",
     "metadata": {},
     "outputs": [],
     "prompt_number": 11
    },
    {
     "cell_type": "code",
     "collapsed": false,
     "input": [
      "a[0,0] = 1\n",
      "a[1,1] = 4\n",
      "print a"
     ],
     "language": "python",
     "metadata": {},
     "outputs": [
      {
       "output_type": "stream",
       "stream": "stdout",
       "text": [
        "  (0, 0)\t1.0\n",
        "  (1, 1)\t4.0\n"
       ]
      }
     ],
     "prompt_number": 12
    },
    {
     "cell_type": "code",
     "collapsed": false,
     "input": [
      "b = a"
     ],
     "language": "python",
     "metadata": {},
     "outputs": [],
     "prompt_number": 13
    },
    {
     "cell_type": "code",
     "collapsed": false,
     "input": [
      "print b"
     ],
     "language": "python",
     "metadata": {},
     "outputs": [
      {
       "output_type": "stream",
       "stream": "stdout",
       "text": [
        "  (0, 0)\t1.0\n",
        "  (1, 1)\t4.0\n"
       ]
      }
     ],
     "prompt_number": 14
    },
    {
     "cell_type": "code",
     "collapsed": false,
     "input": [
      "b[0,1] = 2"
     ],
     "language": "python",
     "metadata": {},
     "outputs": [],
     "prompt_number": 15
    },
    {
     "cell_type": "code",
     "collapsed": false,
     "input": [
      "print a"
     ],
     "language": "python",
     "metadata": {},
     "outputs": [
      {
       "output_type": "stream",
       "stream": "stdout",
       "text": [
        "  (0, 0)\t1.0\n",
        "  (0, 1)\t2.0\n",
        "  (1, 1)\t4.0\n"
       ]
      }
     ],
     "prompt_number": 16
    },
    {
     "cell_type": "code",
     "collapsed": false,
     "input": [
      "b = sp.lil_matrix(a,copy=True)"
     ],
     "language": "python",
     "metadata": {},
     "outputs": [],
     "prompt_number": 17
    },
    {
     "cell_type": "code",
     "collapsed": false,
     "input": [
      "b[0,0] = 3\n",
      "print a"
     ],
     "language": "python",
     "metadata": {},
     "outputs": [
      {
       "output_type": "stream",
       "stream": "stdout",
       "text": [
        "  (0, 0)\t1.0\n",
        "  (0, 1)\t2.0\n",
        "  (1, 1)\t4.0\n"
       ]
      }
     ],
     "prompt_number": 18
    },
    {
     "cell_type": "code",
     "collapsed": false,
     "input": [
      "a = sp.lil_matrix((2,2))\n",
      "a[0,0] = 3\n",
      "b = sp.lil_matrix((2,2))\n",
      "b[0,0] = 2\n",
      "c = a.multiply(b)\n",
      "print c[0,0],a[0,0]"
     ],
     "language": "python",
     "metadata": {},
     "outputs": [
      {
       "output_type": "stream",
       "stream": "stdout",
       "text": [
        "6.0 3.0\n"
       ]
      }
     ],
     "prompt_number": 19
    },
    {
     "cell_type": "code",
     "collapsed": false,
     "input": [
      "d = sp.csr_matrix((3,3))"
     ],
     "language": "python",
     "metadata": {},
     "outputs": [],
     "prompt_number": 20
    },
    {
     "cell_type": "code",
     "collapsed": false,
     "input": [
      "print dir(d)"
     ],
     "language": "python",
     "metadata": {},
     "outputs": [
      {
       "output_type": "stream",
       "stream": "stdout",
       "text": [
        "['__abs__', '__add__', '__array_priority__', '__bool__', '__class__', '__delattr__', '__dict__', '__div__', '__doc__', '__eq__', '__format__', '__ge__', '__getattr__', '__getattribute__', '__getitem__', '__gt__', '__hash__', '__iadd__', '__idiv__', '__imul__', '__init__', '__isub__', '__iter__', '__itruediv__', '__le__', '__len__', '__lt__', '__module__', '__mul__', '__ne__', '__neg__', '__new__', '__nonzero__', '__numpy_ufunc__', '__pow__', '__radd__', '__rdiv__', '__reduce__', '__reduce_ex__', '__repr__', '__rmul__', '__rsub__', '__rtruediv__', '__setattr__', '__setitem__', '__sizeof__', '__str__', '__sub__', '__subclasshook__', '__truediv__', '__weakref__', '_binopt', '_boolean_index_to_array', '_check_boolean', '_check_ellipsis', '_copy_with_const', '_cs_matrix__get_has_canonical_format', '_cs_matrix__get_sorted', '_cs_matrix__set_has_canonical_format', '_cs_matrix__set_sorted', '_divide', '_divide_sparse', '_get_dtype', '_get_row_slice', '_get_single_element', '_get_slice', '_get_submatrix', '_imag', '_index_to_arrays', '_inequality', '_insert_many', '_maximum_minimum', '_min_or_max', '_min_or_max_axis', '_minor_reduce', '_mul_multivector', '_mul_scalar', '_mul_sparse_matrix', '_mul_vector', '_process_toarray_args', '_real', '_set_dtype', '_set_many', '_set_self', '_shape', '_slicetoarange', '_swap', '_unpack_index', '_with_data', 'arcsin', 'arcsinh', 'arctan', 'arctanh', 'asformat', 'asfptype', 'astype', 'ceil', 'check_format', 'conj', 'conjugate', 'copy', 'data', 'deg2rad', 'diagonal', 'dot', 'dtype', 'eliminate_zeros', 'expm1', 'floor', 'format', 'getH', 'get_shape', 'getcol', 'getformat', 'getmaxprint', 'getnnz', 'getrow', 'has_canonical_format', 'has_sorted_indices', 'indices', 'indptr', 'log1p', 'max', 'maximum', 'maxprint', 'mean', 'min', 'minimum', 'multiply', 'ndim', 'nnz', 'nonzero', 'prune', 'rad2deg', 'reshape', 'rint', 'set_shape', 'setdiag', 'shape', 'sign', 'sin', 'sinh', 'sort_indices', 'sorted_indices', 'sqrt', 'sum', 'sum_duplicates', 'tan', 'tanh', 'toarray', 'tobsr', 'tocoo', 'tocsc', 'tocsr', 'todense', 'todia', 'todok', 'tolil', 'transpose', 'trunc']\n"
       ]
      }
     ],
     "prompt_number": 21
    },
    {
     "cell_type": "code",
     "collapsed": false,
     "input": [
      "d._get_row_slice?"
     ],
     "language": "python",
     "metadata": {},
     "outputs": [],
     "prompt_number": 22
    },
    {
     "cell_type": "code",
     "collapsed": false,
     "input": [],
     "language": "python",
     "metadata": {},
     "outputs": [],
     "prompt_number": 22
    }
   ],
   "metadata": {}
  }
 ]
}