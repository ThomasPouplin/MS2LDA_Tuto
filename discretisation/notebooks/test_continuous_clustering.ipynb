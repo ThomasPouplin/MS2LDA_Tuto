{
 "metadata": {
  "name": "",
  "signature": "sha256:3f889d62ad2ab65b57e386d4bc6ef74a6365fb8ceb5ad66809546a9302251d23"
 },
 "nbformat": 3,
 "nbformat_minor": 0,
 "worksheets": [
  {
   "cells": [
    {
     "cell_type": "code",
     "collapsed": false,
     "input": [
      "%load_ext autoreload\n",
      "%autoreload 2\n",
      "\n",
      "\n",
      "import sys\n",
      "\n",
      "basedir = '../'\n",
      "sys.path.append(basedir)\n",
      "\n",
      "import models"
     ],
     "language": "python",
     "metadata": {},
     "outputs": [],
     "prompt_number": 1
    },
    {
     "cell_type": "markdown",
     "metadata": {},
     "source": [
      "<p>Format the plots</p>"
     ]
    },
    {
     "cell_type": "code",
     "collapsed": false,
     "input": [
      "# %matplotlib inline\n",
      "# import numpy as np\n",
      "# from matplotlib import pyplot as plt\n",
      "%pylab inline"
     ],
     "language": "python",
     "metadata": {},
     "outputs": [
      {
       "output_type": "stream",
       "stream": "stdout",
       "text": [
        "Populating the interactive namespace from numpy and matplotlib\n"
       ]
      }
     ],
     "prompt_number": 2
    },
    {
     "cell_type": "code",
     "collapsed": false,
     "input": [
      "input_file = basedir + '/input/std1_csv/std1-file1.identified.csv'    \n",
      "database_file = basedir + '/database/std1_mols.csv'\n",
      "transformation_file = basedir + '/mulsubs/mulsub2.txt'\n",
      "mass_tol = 2\n",
      "rt_tol = 5\n",
      "loader = models.FileLoader()\n",
      "\n",
      "pd = loader.load_model_input(input_file, database_file, transformation_file, mass_tol, rt_tol)"
     ],
     "language": "python",
     "metadata": {},
     "outputs": [
      {
       "output_type": "stream",
       "stream": "stdout",
       "text": [
        "Discretising peak data mass_tol=2, rt_tol=5\n",
        "4999 bins created"
       ]
      },
      {
       "output_type": "stream",
       "stream": "stdout",
       "text": [
        "\n"
       ]
      }
     ],
     "prompt_number": 3
    },
    {
     "cell_type": "code",
     "collapsed": false,
     "input": [
      "print pd.mass.size"
     ],
     "language": "python",
     "metadata": {},
     "outputs": [
      {
       "output_type": "stream",
       "stream": "stdout",
       "text": [
        "4999\n"
       ]
      }
     ],
     "prompt_number": 4
    },
    {
     "cell_type": "code",
     "collapsed": false,
     "input": [
      "from continuous_mass_clusterer import ContinuousGibbs\n",
      "hp = models.HyperPars()\n",
      "cg = ContinuousGibbs(pd,hp)\n",
      "cg.n_samples = 2\n",
      "cg.n_burn = 1\n",
      "print cg\n",
      "cg.run()"
     ],
     "language": "python",
     "metadata": {},
     "outputs": [
      {
       "output_type": "stream",
       "stream": "stdout",
       "text": [
        "Continuous Clusterer initialised\n",
        "Gibbs sampler for continuous mass model\n",
        "Hyperparameters alpha=100.0, mass_prec=100, mass_prior_prec=100, rt_prec=10, rt_prior_prec=100\n",
        "n_samples = 2\n",
        "Running the clustering\n",
        "525 peaks to be re-sampled\n",
        "Sample 0 biggest cluster: 1.0 (0)\n"
       ]
      },
      {
       "output_type": "stream",
       "stream": "stdout",
       "text": [
        "Sample 1 biggest cluster: 6.0 (5)\n"
       ]
      }
     ],
     "prompt_number": 5
    },
    {
     "cell_type": "code",
     "collapsed": false,
     "input": [
      "from plotting import ClusterPlotter\n",
      "cp = ClusterPlotter(pd,cg)\n",
      "# cp.summary()\n",
      "cp.plot_biggest(1)\n",
      "\n"
     ],
     "language": "python",
     "metadata": {},
     "outputs": [
      {
       "metadata": {},
       "output_type": "display_data",
       "png": "[encoded data removed]",
       "text": [
        "<matplotlib.figure.Figure at 0x7fc537801a50>"
       ]
      }
     ],
     "prompt_number": 6
    },
    {
     "cell_type": "raw",
     "metadata": {},
     "source": [
      "print cg.peak_cluster_probs"
     ]
    },
    {
     "cell_type": "code",
     "collapsed": false,
     "input": [
      "max_cluster_size = cg.cluster_size.max()\n",
      "for c in np.arange(max_cluster_size,2,-1):\n",
      "    clusters = np.nonzero(cg.cluster_size==c)[0]\n",
      "    for cl in clusters:\n",
      "        peaks = np.nonzero(cg.Z==cl)[0]\n",
      "        plt.figure(figsize=(10,5))\n",
      "        plt.subplot(1,2,1)\n",
      "        plt.plot(pd.mass[peaks],pd.rt[peaks],'ro')\n",
      "        plt.plot(pd.transformed[peaks,cl].toarray(),pd.rt[peaks],'ko')\n",
      "        plt.subplot(1,2,2)\n",
      "        for p in peaks:\n",
      "            plt.plot((pd.mass[p],pd.mass[p]),(0,pd.intensity[p]))\n",
      "            tra = pd.possible[p,cl]-1\n",
      "            plt.text(pd.mass[p],pd.intensity[p],pd.transformations[tra].name)"
     ],
     "language": "python",
     "metadata": {},
     "outputs": [
      {
       "metadata": {},
       "output_type": "display_data",
       "png": "[encoded data removed]",
       "text": [
        "<matplotlib.figure.Figure at 0x7fc535e0a990>"
       ]
      },
      {
       "metadata": {},
       "output_type": "display_data",
       "png": "[encoded data removed]",
       "text": [
        "<matplotlib.figure.Figure at 0x7fc5359d4e10>"
       ]
      },
      {
       "metadata": {},
       "output_type": "display_data",
       "png": "[encoded data removed]",
       "text": [
        "<matplotlib.figure.Figure at 0x7fc535b92b10>"
       ]
      },
      {
       "metadata": {},
       "output_type": "display_data",
       "png": "[encoded data removed]",
       "text": [
        "<matplotlib.figure.Figure at 0x7fc535a792d0>"
       ]
      },
      {
       "metadata": {},
       "output_type": "display_data",
       "png": "[encoded data removed]",
       "text": [
        "<matplotlib.figure.Figure at 0x7fc5358ca7d0>"
       ]
      },
      {
       "metadata": {},
       "output_type": "display_data",
       "png": "[encoded data removed]",
       "text": [
        "<matplotlib.figure.Figure at 0x7fc5357bcc50>"
       ]
      },
      {
       "metadata": {},
       "output_type": "display_data",
       "png": "[encoded data removed]",
       "text": [
        "<matplotlib.figure.Figure at 0x7fc5356acf10>"
       ]
      },
      {
       "metadata": {},
       "output_type": "display_data",
       "png": "[encoded data removed]",
       "text": [
        "<matplotlib.figure.Figure at 0x7fc5355aac90>"
       ]
      },
      {
       "metadata": {},
       "output_type": "display_data",
       "png": "[encoded data removed]",
       "text": [
        "<matplotlib.figure.Figure at 0x7fc535524790>"
       ]
      },
      {
       "metadata": {},
       "output_type": "display_data",
       "png": "[encoded data removed]",
       "text": [
        "<matplotlib.figure.Figure at 0x7fc535422350>"
       ]
      },
      {
       "metadata": {},
       "output_type": "display_data",
       "png": "[encoded data removed]",
       "text": [
        "<matplotlib.figure.Figure at 0x7fc53531b850>"
       ]
      },
      {
       "metadata": {},
       "output_type": "display_data",
       "png": "[encoded data removed]",
       "text": [
        "<matplotlib.figure.Figure at 0x7fc535219510>"
       ]
      },
      {
       "metadata": {},
       "output_type": "display_data",
       "png": "[encoded data removed]",
       "text": [
        "<matplotlib.figure.Figure at 0x7fc5351460d0>"
       ]
      }
     ],
     "prompt_number": 7
    },
    {
     "cell_type": "code",
     "collapsed": false,
     "input": [
      "moldb = pd.database\n",
      "print [db.mass for db in moldb]"
     ],
     "language": "python",
     "metadata": {},
     "outputs": [
      {
       "output_type": "stream",
       "stream": "stdout",
       "text": [
        "[145.15789762638002, 92.04734412342, 386.35486610054, 74.0731649435, 132.00587323906, 68.03744813904, 90.03169405914, 268.08076951714, 165.07897860298, 131.09462866726, 204.08987764036, 151.0633285387, 196.99550040297999, 149.05104929298, 151.049409809, 169.07389322507998, 126.04292744752, 117.07897860297999, 135.0544951869, 115.06332853869999, 176.09496301826, 125.01466378651999, 131.0582431608, 113.05891186279999, 188.11609239101998, 119.0582431608, 133.03750771862, 221.08993721994, 146.06914219818, 89.04767847442, 132.0534921339, 347.06308434286, 105.04259309652, 175.09569129984, 243.08552054403998, 141.01909426276, 75.03202841014, 257.10282389264, 186.0680795656, 240.02384826456, 179.07937253356, 190.09535694884, 155.06947654918, 118.07422757607999, 146.10552770464, 174.11167571512, 264.1044818473, 398.13723853901996, 88.10004839616, 232.12117776891998, 164.04734412342, 104.04734412342, 166.02660868124, 116.01095861696, 118.02660868123999, 168.04225874552, 242.09027157094, 354.05619425046, 88.01604399486, 104.01095861696, 108.0687482676, 148.03717336762, 228.07462150665998, 124.02727738324, 152.03342539372, 170.02152330334002, 244.06953612875998, 174.01643792544002, 164.06847349618, 156.01710662744, 209.07217866574, 137.04767847442, 196.05830274038, 247.02457357124, 194.04265267609998, 210.03756729819997, 329.05251965648, 324.0358665392, 348.04709992758, 169.00449303072003, 230.01915384234002, 323.05185095448, 123.03202841013999, 260.02971852872, 167.9823744053, 276.02463315082, 424.03714266818, 147.0531577829, 180.06338811828, 120.04225874552, 342.11621155017997, 102.03169405914, 206.04265267609998, 376.13828439635995, 74.00039393058, 76.01604399486, 72.02112937276, 428.01343033802004, 427.0294147533, 339.99604893916, 767.11520837332, 265.95926950212004, 152.04734412342, 134.05790880979998]\n"
       ]
      }
     ],
     "prompt_number": 8
    },
    {
     "cell_type": "code",
     "collapsed": false,
     "input": [
      "from continuous_mass_clusterer import ContinuousVB\n",
      "hp = models.HyperPars()\n",
      "vb = ContinuousVB(pd,hp)\n",
      "print vb\n",
      "vb.n_iterations = 100\n",
      "vb.run()"
     ],
     "language": "python",
     "metadata": {},
     "outputs": [
      {
       "output_type": "stream",
       "stream": "stdout",
       "text": [
        "Continuous Clusterer initialised - wow\n",
        "Variational Bayes for continuous mass model\n",
        "Hyperparameters alpha=100.0, mass_prec=100, mass_prior_prec=100, rt_prec=10, rt_prior_prec=100\n",
        "n_iterations = 100\n",
        "Running the clustering\n",
        "525 peaks to be re-sampled\n",
        "Iteration 0\n"
       ]
      },
      {
       "output_type": "stream",
       "stream": "stdout",
       "text": [
        "Change in Z: 108.083119334\n",
        "Iteration 1\n"
       ]
      },
      {
       "output_type": "stream",
       "stream": "stdout",
       "text": [
        "Change in Z: 50.1719686292\n",
        "Iteration 2\n"
       ]
      },
      {
       "output_type": "stream",
       "stream": "stdout",
       "text": [
        "Change in Z: 4.17031674103\n",
        "Iteration 3\n"
       ]
      },
      {
       "output_type": "stream",
       "stream": "stdout",
       "text": [
        "Change in Z: 0.0179522966577\n",
        "Iteration 4\n"
       ]
      },
      {
       "output_type": "stream",
       "stream": "stdout",
       "text": [
        "Change in Z: 6.38410440249e-05\n",
        "Iteration 5\n"
       ]
      },
      {
       "output_type": "stream",
       "stream": "stdout",
       "text": [
        "Change in Z: 1.55810895616e-05\n",
        "Iteration 6\n"
       ]
      },
      {
       "output_type": "stream",
       "stream": "stdout",
       "text": [
        "Change in Z: 3.79544079327e-06\n",
        "Iteration 7\n"
       ]
      },
      {
       "output_type": "stream",
       "stream": "stdout",
       "text": [
        "Change in Z: 9.23652606387e-07\n",
        "Iteration 8\n"
       ]
      },
      {
       "output_type": "stream",
       "stream": "stdout",
       "text": [
        "Change in Z: 2.24670241287e-07\n",
        "Iteration 9\n"
       ]
      },
      {
       "output_type": "stream",
       "stream": "stdout",
       "text": [
        "Change in Z: 5.46373351196e-08\n",
        "Iteration 10\n"
       ]
      },
      {
       "output_type": "stream",
       "stream": "stdout",
       "text": [
        "Change in Z: 1.32854183236e-08\n",
        "Iteration 11\n"
       ]
      },
      {
       "output_type": "stream",
       "stream": "stdout",
       "text": [
        "Change in Z: 3.23039380426e-09\n",
        "Iteration 12\n"
       ]
      },
      {
       "output_type": "stream",
       "stream": "stdout",
       "text": [
        "Change in Z: 7.85781451021e-10\n",
        "Iteration 13\n"
       ]
      },
      {
       "output_type": "stream",
       "stream": "stdout",
       "text": [
        "Change in Z: 1.92215501972e-10\n",
        "Iteration 14\n"
       ]
      },
      {
       "output_type": "stream",
       "stream": "stdout",
       "text": [
        "Change in Z: 5.02219849805e-11\n",
        "Iteration 15\n"
       ]
      },
      {
       "output_type": "stream",
       "stream": "stdout",
       "text": [
        "Change in Z: 2.26461798305e-11\n",
        "Iteration 16\n"
       ]
      },
      {
       "output_type": "stream",
       "stream": "stdout",
       "text": [
        "Change in Z: 3.66713808457e-11\n",
        "Iteration 17\n"
       ]
      },
      {
       "output_type": "stream",
       "stream": "stdout",
       "text": [
        "Change in Z: 1.01795838668e-10\n",
        "Iteration 18\n"
       ]
      },
      {
       "output_type": "stream",
       "stream": "stdout",
       "text": [
        "Change in Z: 3.01943976046e-10\n",
        "Iteration 19\n"
       ]
      },
      {
       "output_type": "stream",
       "stream": "stdout",
       "text": [
        "Change in Z: 9.00380400222e-10\n",
        "Iteration 20\n"
       ]
      },
      {
       "output_type": "stream",
       "stream": "stdout",
       "text": [
        "Change in Z: 2.68578997584e-09\n",
        "Iteration 21\n"
       ]
      },
      {
       "output_type": "stream",
       "stream": "stdout",
       "text": [
        "Change in Z: 8.01342295634e-09\n",
        "Iteration 22\n"
       ]
      },
      {
       "output_type": "stream",
       "stream": "stdout",
       "text": [
        "Change in Z: 2.39055481318e-08\n",
        "Iteration 23\n"
       ]
      },
      {
       "output_type": "stream",
       "stream": "stdout",
       "text": [
        "Change in Z: 7.13198871593e-08\n",
        "Iteration 24\n"
       ]
      },
      {
       "output_type": "stream",
       "stream": "stdout",
       "text": [
        "Change in Z: 2.12776228306e-07\n",
        "Iteration 25\n"
       ]
      },
      {
       "output_type": "stream",
       "stream": "stdout",
       "text": [
        "Change in Z: 6.34776108913e-07\n",
        "Iteration 26\n"
       ]
      },
      {
       "output_type": "stream",
       "stream": "stdout",
       "text": [
        "Change in Z: 1.89377415153e-06\n",
        "Iteration 27\n"
       ]
      },
      {
       "output_type": "stream",
       "stream": "stdout",
       "text": [
        "Change in Z: 5.64979034231e-06\n",
        "Iteration 28\n"
       ]
      },
      {
       "output_type": "stream",
       "stream": "stdout",
       "text": [
        "Change in Z: 1.68551677978e-05\n",
        "Iteration 29\n"
       ]
      },
      {
       "output_type": "stream",
       "stream": "stdout",
       "text": [
        "Change in Z: 5.02831130195e-05\n",
        "Iteration 30\n"
       ]
      },
      {
       "output_type": "stream",
       "stream": "stdout",
       "text": [
        "Change in Z: 0.000149995344517\n",
        "Iteration 31\n"
       ]
      },
      {
       "output_type": "stream",
       "stream": "stdout",
       "text": [
        "Change in Z: 0.000447335347725\n",
        "Iteration 32\n"
       ]
      },
      {
       "output_type": "stream",
       "stream": "stdout",
       "text": [
        "Change in Z: 0.00133318298976\n",
        "Iteration 33\n"
       ]
      },
      {
       "output_type": "stream",
       "stream": "stdout",
       "text": [
        "Change in Z: 0.00396510612324\n",
        "Iteration 34\n"
       ]
      },
      {
       "output_type": "stream",
       "stream": "stdout",
       "text": [
        "Change in Z: 0.0117208661951\n",
        "Iteration 35\n"
       ]
      },
      {
       "output_type": "stream",
       "stream": "stdout",
       "text": [
        "Change in Z: 0.034019395558\n",
        "Iteration 36\n"
       ]
      },
      {
       "output_type": "stream",
       "stream": "stdout",
       "text": [
        "Change in Z: 0.0934979022158\n",
        "Iteration 37\n"
       ]
      },
      {
       "output_type": "stream",
       "stream": "stdout",
       "text": [
        "Change in Z: 0.218487170822\n",
        "Iteration 38\n"
       ]
      },
      {
       "output_type": "stream",
       "stream": "stdout",
       "text": [
        "Change in Z: 0.325702970149\n",
        "Iteration 39\n"
       ]
      },
      {
       "output_type": "stream",
       "stream": "stdout",
       "text": [
        "Change in Z: 0.302415494551\n",
        "Iteration 40\n"
       ]
      },
      {
       "output_type": "stream",
       "stream": "stdout",
       "text": [
        "Change in Z: 0.401480135898\n",
        "Iteration 41\n"
       ]
      },
      {
       "output_type": "stream",
       "stream": "stdout",
       "text": [
        "Change in Z: 0.361622308275\n",
        "Iteration 42\n"
       ]
      },
      {
       "output_type": "stream",
       "stream": "stdout",
       "text": [
        "Change in Z: 0.283213078465\n",
        "Iteration 43\n"
       ]
      },
      {
       "output_type": "stream",
       "stream": "stdout",
       "text": [
        "Change in Z: 0.348280964527\n",
        "Iteration 44\n"
       ]
      },
      {
       "output_type": "stream",
       "stream": "stdout",
       "text": [
        "Change in Z: 0.427583673709\n",
        "Iteration 45\n"
       ]
      },
      {
       "output_type": "stream",
       "stream": "stdout",
       "text": [
        "Change in Z: 0.10415954698\n",
        "Iteration 46\n"
       ]
      },
      {
       "output_type": "stream",
       "stream": "stdout",
       "text": [
        "Change in Z: 0.000170452364946\n",
        "Iteration 47\n"
       ]
      },
      {
       "output_type": "stream",
       "stream": "stdout",
       "text": [
        "Change in Z: 4.2559333011e-19\n",
        "Iteration 48\n"
       ]
      },
      {
       "output_type": "stream",
       "stream": "stdout",
       "text": [
        "Change in Z: 4.6592503212e-19\n",
        "Iteration 49\n"
       ]
      },
      {
       "output_type": "stream",
       "stream": "stdout",
       "text": [
        "Change in Z: 1.39412303829e-19\n",
        "Iteration 50\n"
       ]
      },
      {
       "output_type": "stream",
       "stream": "stdout",
       "text": [
        "Change in Z: 3.43378440966e-19\n",
        "Iteration 51\n"
       ]
      },
      {
       "output_type": "stream",
       "stream": "stdout",
       "text": [
        "Change in Z: 1.07476009904e-18\n",
        "Iteration 52\n"
       ]
      },
      {
       "output_type": "stream",
       "stream": "stdout",
       "text": [
        "Change in Z: 1.15149463079e-18\n",
        "Iteration 53\n"
       ]
      },
      {
       "output_type": "stream",
       "stream": "stdout",
       "text": [
        "Change in Z: 2.78221812987e-19\n",
        "Iteration 54\n"
       ]
      },
      {
       "output_type": "stream",
       "stream": "stdout",
       "text": [
        "Change in Z: 5.21625570524e-19\n",
        "Iteration 55\n"
       ]
      },
      {
       "output_type": "stream",
       "stream": "stdout",
       "text": [
        "Change in Z: 1.47222860248e-19\n",
        "Iteration 56\n"
       ]
      },
      {
       "output_type": "stream",
       "stream": "stdout",
       "text": [
        "Change in Z: 3.09722778196e-19\n",
        "Iteration 57\n"
       ]
      },
      {
       "output_type": "stream",
       "stream": "stdout",
       "text": [
        "Change in Z: 1.39429686821e-19\n",
        "Iteration 58\n"
       ]
      },
      {
       "output_type": "stream",
       "stream": "stdout",
       "text": [
        "Change in Z: 2.15381867014e-19\n",
        "Iteration 59\n"
       ]
      },
      {
       "output_type": "stream",
       "stream": "stdout",
       "text": [
        "Change in Z: 2.41770698542e-19\n",
        "Iteration 60\n"
       ]
      },
      {
       "output_type": "stream",
       "stream": "stdout",
       "text": [
        "Change in Z: 7.43049109338e-19\n",
        "Iteration 61\n"
       ]
      },
      {
       "output_type": "stream",
       "stream": "stdout",
       "text": [
        "Change in Z: 3.48452164288e-19\n",
        "Iteration 62\n"
       ]
      },
      {
       "output_type": "stream",
       "stream": "stdout",
       "text": [
        "Change in Z: 6.35366916624e-19\n",
        "Iteration 63\n"
       ]
      },
      {
       "output_type": "stream",
       "stream": "stdout",
       "text": [
        "Change in Z: 2.77822188453e-18\n",
        "Iteration 64\n"
       ]
      },
      {
       "output_type": "stream",
       "stream": "stdout",
       "text": [
        "Change in Z: 1.94418820934e-19\n",
        "Iteration 65\n"
       ]
      },
      {
       "output_type": "stream",
       "stream": "stdout",
       "text": [
        "Change in Z: 7.78468590702e-19\n",
        "Iteration 66\n"
       ]
      },
      {
       "output_type": "stream",
       "stream": "stdout",
       "text": [
        "Change in Z: 6.04462125312e-19\n",
        "Iteration 67\n"
       ]
      },
      {
       "output_type": "stream",
       "stream": "stdout",
       "text": [
        "Change in Z: 1.58855913014e-18\n",
        "Iteration 68\n"
       ]
      },
      {
       "output_type": "stream",
       "stream": "stdout",
       "text": [
        "Change in Z: 5.51807731234e-19\n",
        "Iteration 69\n"
       ]
      },
      {
       "output_type": "stream",
       "stream": "stdout",
       "text": [
        "Change in Z: 6.08205644322e-20\n",
        "Iteration 70\n"
       ]
      },
      {
       "output_type": "stream",
       "stream": "stdout",
       "text": [
        "Change in Z: 1.62517520158e-20\n",
        "Iteration 71\n"
       ]
      },
      {
       "output_type": "stream",
       "stream": "stdout",
       "text": [
        "Change in Z: 2.58412908738e-19\n",
        "Iteration 72\n"
       ]
      },
      {
       "output_type": "stream",
       "stream": "stdout",
       "text": [
        "Change in Z: 6.4090828169e-19\n",
        "Iteration 73\n"
       ]
      },
      {
       "output_type": "stream",
       "stream": "stdout",
       "text": [
        "Change in Z: 1.03257429062e-18\n",
        "Iteration 74\n"
       ]
      },
      {
       "output_type": "stream",
       "stream": "stdout",
       "text": [
        "Change in Z: 1.5030308573e-18\n",
        "Iteration 75\n"
       ]
      },
      {
       "output_type": "stream",
       "stream": "stdout",
       "text": [
        "Change in Z: 1.32129672318e-18\n",
        "Iteration 76\n"
       ]
      },
      {
       "output_type": "stream",
       "stream": "stdout",
       "text": [
        "Change in Z: 5.55615160072e-21\n",
        "Iteration 77\n"
       ]
      },
      {
       "output_type": "stream",
       "stream": "stdout",
       "text": [
        "Change in Z: 2.72076503284e-19\n",
        "Iteration 78\n"
       ]
      },
      {
       "output_type": "stream",
       "stream": "stdout",
       "text": [
        "Change in Z: 7.71370033653e-20\n",
        "Iteration 79\n"
       ]
      },
      {
       "output_type": "stream",
       "stream": "stdout",
       "text": [
        "Change in Z: 2.83970145556e-19\n",
        "Iteration 80\n"
       ]
      },
      {
       "output_type": "stream",
       "stream": "stdout",
       "text": [
        "Change in Z: 5.66795515007e-21\n",
        "Iteration 81\n"
       ]
      },
      {
       "output_type": "stream",
       "stream": "stdout",
       "text": [
        "Change in Z: 7.8034902873e-19\n",
        "Iteration 82\n"
       ]
      },
      {
       "output_type": "stream",
       "stream": "stdout",
       "text": [
        "Change in Z: 1.30190881465e-19\n",
        "Iteration 83\n"
       ]
      },
      {
       "output_type": "stream",
       "stream": "stdout",
       "text": [
        "Change in Z: 8.76077377257e-19\n",
        "Iteration 84\n"
       ]
      },
      {
       "output_type": "stream",
       "stream": "stdout",
       "text": [
        "Change in Z: 2.8079429063e-19\n",
        "Iteration 85\n"
       ]
      },
      {
       "output_type": "stream",
       "stream": "stdout",
       "text": [
        "Change in Z: 1.48491114529e-18\n",
        "Iteration 86\n"
       ]
      },
      {
       "output_type": "stream",
       "stream": "stdout",
       "text": [
        "Change in Z: 6.96186457556e-19\n",
        "Iteration 87\n"
       ]
      },
      {
       "output_type": "stream",
       "stream": "stdout",
       "text": [
        "Change in Z: 8.9174051069e-19\n",
        "Iteration 88\n"
       ]
      },
      {
       "output_type": "stream",
       "stream": "stdout",
       "text": [
        "Change in Z: 4.63290482413e-19\n",
        "Iteration 89\n"
       ]
      },
      {
       "output_type": "stream",
       "stream": "stdout",
       "text": [
        "Change in Z: 1.34584302314e-18\n",
        "Iteration 90\n"
       ]
      },
      {
       "output_type": "stream",
       "stream": "stdout",
       "text": [
        "Change in Z: 7.89656783033e-19\n",
        "Iteration 91\n"
       ]
      },
      {
       "output_type": "stream",
       "stream": "stdout",
       "text": [
        "Change in Z: 4.47151287194e-19\n",
        "Iteration 92\n"
       ]
      },
      {
       "output_type": "stream",
       "stream": "stdout",
       "text": [
        "Change in Z: 4.08158080512e-19\n",
        "Iteration 93\n"
       ]
      },
      {
       "output_type": "stream",
       "stream": "stdout",
       "text": [
        "Change in Z: 5.61197133449e-19\n",
        "Iteration 94\n"
       ]
      },
      {
       "output_type": "stream",
       "stream": "stdout",
       "text": [
        "Change in Z: 3.92468370672e-19\n",
        "Iteration 95\n"
       ]
      },
      {
       "output_type": "stream",
       "stream": "stdout",
       "text": [
        "Change in Z: 5.44878174221e-19\n",
        "Iteration 96\n"
       ]
      },
      {
       "output_type": "stream",
       "stream": "stdout",
       "text": [
        "Change in Z: 1.0029768356e-18\n",
        "Iteration 97\n"
       ]
      },
      {
       "output_type": "stream",
       "stream": "stdout",
       "text": [
        "Change in Z: 2.4299253034e-20\n",
        "Iteration 98\n"
       ]
      },
      {
       "output_type": "stream",
       "stream": "stdout",
       "text": [
        "Change in Z: 7.85750628781e-19\n",
        "Iteration 99\n"
       ]
      },
      {
       "output_type": "stream",
       "stream": "stdout",
       "text": [
        "Change in Z: 1.0209980027e-18\n"
       ]
      }
     ],
     "prompt_number": 9
    },
    {
     "cell_type": "code",
     "collapsed": false,
     "input": [
      "print vb.ELogPi"
     ],
     "language": "python",
     "metadata": {},
     "outputs": [
      {
       "output_type": "stream",
       "stream": "stdout",
       "text": [
        "[[ -8.10109626]\n",
        " [ -9.08148458]\n",
        " [ -9.08148458]\n",
        " ..., \n",
        " [ -9.08148458]\n",
        " [-59.07148458]\n",
        " [ -9.08148458]]\n"
       ]
      }
     ],
     "prompt_number": 10
    },
    {
     "cell_type": "code",
     "collapsed": false,
     "input": [
      "print np.nonzero(pd.possible[0,:])[0]"
     ],
     "language": "python",
     "metadata": {},
     "outputs": [
      {
       "output_type": "stream",
       "stream": "stdout",
       "text": [
        "[0]\n"
       ]
      }
     ],
     "prompt_number": 11
    },
    {
     "cell_type": "code",
     "collapsed": false,
     "input": [
      "import scipy.sparse as sp\n",
      "a = sp.lil_matrix((2,2))\n"
     ],
     "language": "python",
     "metadata": {},
     "outputs": [],
     "prompt_number": 12
    },
    {
     "cell_type": "code",
     "collapsed": false,
     "input": [
      "a[0,0] = 1\n",
      "a[1,1] = 4\n",
      "print a"
     ],
     "language": "python",
     "metadata": {},
     "outputs": [
      {
       "output_type": "stream",
       "stream": "stdout",
       "text": [
        "  (0, 0)\t1.0\n",
        "  (1, 1)\t4.0\n"
       ]
      }
     ],
     "prompt_number": 13
    },
    {
     "cell_type": "code",
     "collapsed": false,
     "input": [
      "b = a"
     ],
     "language": "python",
     "metadata": {},
     "outputs": [],
     "prompt_number": 14
    },
    {
     "cell_type": "code",
     "collapsed": false,
     "input": [
      "print b"
     ],
     "language": "python",
     "metadata": {},
     "outputs": [
      {
       "output_type": "stream",
       "stream": "stdout",
       "text": [
        "  (0, 0)\t1.0\n",
        "  (1, 1)\t4.0\n"
       ]
      }
     ],
     "prompt_number": 15
    },
    {
     "cell_type": "code",
     "collapsed": false,
     "input": [
      "b[0,1] = 2"
     ],
     "language": "python",
     "metadata": {},
     "outputs": [],
     "prompt_number": 16
    },
    {
     "cell_type": "code",
     "collapsed": false,
     "input": [
      "print a"
     ],
     "language": "python",
     "metadata": {},
     "outputs": [
      {
       "output_type": "stream",
       "stream": "stdout",
       "text": [
        "  (0, 0)\t1.0\n",
        "  (0, 1)\t2.0\n",
        "  (1, 1)\t4.0\n"
       ]
      }
     ],
     "prompt_number": 17
    },
    {
     "cell_type": "code",
     "collapsed": false,
     "input": [
      "b = sp.lil_matrix(a,copy=True)"
     ],
     "language": "python",
     "metadata": {},
     "outputs": [],
     "prompt_number": 18
    },
    {
     "cell_type": "code",
     "collapsed": false,
     "input": [
      "b[0,0] = 3\n",
      "print a"
     ],
     "language": "python",
     "metadata": {},
     "outputs": [
      {
       "output_type": "stream",
       "stream": "stdout",
       "text": [
        "  (0, 0)\t1.0\n",
        "  (0, 1)\t2.0\n",
        "  (1, 1)\t4.0\n"
       ]
      }
     ],
     "prompt_number": 19
    },
    {
     "cell_type": "code",
     "collapsed": false,
     "input": [
      "a = sp.lil_matrix((2,2))\n",
      "a[0,0] = 3\n",
      "b = sp.lil_matrix((2,2))\n",
      "b[0,0] = 2\n",
      "c = a.multiply(b)\n",
      "print c[0,0],a[0,0]"
     ],
     "language": "python",
     "metadata": {},
     "outputs": [
      {
       "output_type": "stream",
       "stream": "stdout",
       "text": [
        "6.0 3.0\n"
       ]
      }
     ],
     "prompt_number": 20
    },
    {
     "cell_type": "code",
     "collapsed": false,
     "input": [
      "d = sp.csr_matrix((3,3))"
     ],
     "language": "python",
     "metadata": {},
     "outputs": [],
     "prompt_number": 21
    },
    {
     "cell_type": "code",
     "collapsed": false,
     "input": [
      "print dir(d)"
     ],
     "language": "python",
     "metadata": {},
     "outputs": [
      {
       "output_type": "stream",
       "stream": "stdout",
       "text": [
        "['__abs__', '__add__', '__array_priority__', '__bool__', '__class__', '__delattr__', '__dict__', '__div__', '__doc__', '__eq__', '__format__', '__ge__', '__getattr__', '__getattribute__', '__getitem__', '__gt__', '__hash__', '__iadd__', '__idiv__', '__imul__', '__init__', '__isub__', '__iter__', '__itruediv__', '__le__', '__len__', '__lt__', '__module__', '__mul__', '__ne__', '__neg__', '__new__', '__nonzero__', '__numpy_ufunc__', '__pow__', '__radd__', '__rdiv__', '__reduce__', '__reduce_ex__', '__repr__', '__rmul__', '__rsub__', '__rtruediv__', '__setattr__', '__setitem__', '__sizeof__', '__str__', '__sub__', '__subclasshook__', '__truediv__', '__weakref__', '_binopt', '_boolean_index_to_array', '_check_boolean', '_check_ellipsis', '_copy_with_const', '_cs_matrix__get_has_canonical_format', '_cs_matrix__get_sorted', '_cs_matrix__set_has_canonical_format', '_cs_matrix__set_sorted', '_divide', '_divide_sparse', '_get_dtype', '_get_row_slice', '_get_single_element', '_get_slice', '_get_submatrix', '_imag', '_index_to_arrays', '_inequality', '_insert_many', '_maximum_minimum', '_min_or_max', '_min_or_max_axis', '_minor_reduce', '_mul_multivector', '_mul_scalar', '_mul_sparse_matrix', '_mul_vector', '_process_toarray_args', '_real', '_set_dtype', '_set_many', '_set_self', '_shape', '_slicetoarange', '_swap', '_unpack_index', '_with_data', 'arcsin', 'arcsinh', 'arctan', 'arctanh', 'asformat', 'asfptype', 'astype', 'ceil', 'check_format', 'conj', 'conjugate', 'copy', 'data', 'deg2rad', 'diagonal', 'dot', 'dtype', 'eliminate_zeros', 'expm1', 'floor', 'format', 'getH', 'get_shape', 'getcol', 'getformat', 'getmaxprint', 'getnnz', 'getrow', 'has_canonical_format', 'has_sorted_indices', 'indices', 'indptr', 'log1p', 'max', 'maximum', 'maxprint', 'mean', 'min', 'minimum', 'multiply', 'ndim', 'nnz', 'nonzero', 'prune', 'rad2deg', 'reshape', 'rint', 'set_shape', 'setdiag', 'shape', 'sign', 'sin', 'sinh', 'sort_indices', 'sorted_indices', 'sqrt', 'sum', 'sum_duplicates', 'tan', 'tanh', 'toarray', 'tobsr', 'tocoo', 'tocsc', 'tocsr', 'todense', 'todia', 'todok', 'tolil', 'transpose', 'trunc']\n"
       ]
      }
     ],
     "prompt_number": 22
    },
    {
     "cell_type": "code",
     "collapsed": false,
     "input": [
      "d._get_row_slice?"
     ],
     "language": "python",
     "metadata": {},
     "outputs": [],
     "prompt_number": 23
    },
    {
     "cell_type": "code",
     "collapsed": false,
     "input": [],
     "language": "python",
     "metadata": {},
     "outputs": [],
     "prompt_number": 23
    }
   ],
   "metadata": {}
  }
 ]
}