{
 "metadata": {
  "name": ""
 },
 "nbformat": 3,
 "nbformat_minor": 0,
 "worksheets": [
  {
   "cells": [
    {
     "cell_type": "heading",
     "level": 1,
     "metadata": {},
     "source": [
      "Test discretisation and identification on bins"
     ]
    },
    {
     "cell_type": "markdown",
     "metadata": {},
     "source": [
      "Import some stuff"
     ]
    },
    {
     "cell_type": "code",
     "collapsed": false,
     "input": [
      "import sys\n",
      "\n",
      "basedir = '../'\n",
      "sys.path.append(basedir) # need to do this to be able to import the stuff below\n",
      "\n",
      "from identification import MolAnnotator\n",
      "from models import FileLoader\n",
      "%pylab inline"
     ],
     "language": "python",
     "metadata": {},
     "outputs": [
      {
       "output_type": "stream",
       "stream": "stdout",
       "text": [
        "Populating the interactive namespace from numpy and matplotlib\n"
       ]
      }
     ],
     "prompt_number": 2
    },
    {
     "cell_type": "markdown",
     "metadata": {},
     "source": [
      "Define plotting function"
     ]
    },
    {
     "cell_type": "code",
     "collapsed": false,
     "input": [
      "# We can histogram the number of transformations available for each peak. mini_hist holds this. \n",
      "# Note that all peaks have >0 transformations as each peak's precursor is in the list\n",
      "def plot_hist(mapping, filename, mass_tol, rt_tol):\n",
      "    no_trans = (mapping > 0).sum(1)\n",
      "    mini_hist = []\n",
      "    for i in np.arange(10) + 1:\n",
      "        mini_hist.append((no_trans == i).sum())\n",
      "    print 'mini_hist ' + str(mini_hist)\n",
      "    plt.figure()\n",
      "    plt.subplot(1, 2, 1)\n",
      "    plt.bar(np.arange(10) + 1, mini_hist)\n",
      "    title = 'MASS_TOL ' + str(mass_tol) + ', RT_TOL ' + str(rt_tol)\n",
      "    plt.title(title)\n",
      "    plt.subplot(1, 2, 2)\n",
      "    plt.imshow(mapping)\n",
      "    plt.title('possible')\n",
      "    plt.suptitle(filename)\n",
      "    plt.show()    "
     ],
     "language": "python",
     "metadata": {},
     "outputs": [],
     "prompt_number": 3
    },
    {
     "cell_type": "markdown",
     "metadata": {},
     "source": [
      "Try some binning"
     ]
    },
    {
     "cell_type": "code",
     "collapsed": false,
     "input": [
      "database = basedir + '/database/std1_mols.csv'\n",
      "transformation = basedir + '/mulsubs/mulsub.txt'\n",
      "input_file = basedir + '/input/std1_csv/std1-file1.identified.csv'\n",
      "mass_tol = 3\n",
      "rt_tol = 30\n",
      "\n",
      "# load the std file, database_file molecules and transformation_file\n",
      "loader = FileLoader()\n",
      "peak_data = loader.load_model_input(input_file, database, transformation, mass_tol, rt_tol)\n",
      "plot_hist(peak_data.possible.todense(), input_file, mass_tol, rt_tol)"
     ],
     "language": "python",
     "metadata": {},
     "outputs": [
      {
       "output_type": "stream",
       "stream": "stdout",
       "text": [
        "Discretising peak data at mass_tol 3 and rt_tol 30\n",
        "mini_hist [3939, 811, 188, 47, 11, 2, 1, 0, 0, 0]"
       ]
      },
      {
       "output_type": "stream",
       "stream": "stdout",
       "text": [
        "\n"
       ]
      },
      {
       "metadata": {},
       "output_type": "display_data",
       "png": "[encoded data removed]",
       "text": [
        "<matplotlib.figure.Figure at 0x7f9fecf3ca50>"
       ]
      }
     ],
     "prompt_number": 4
    },
    {
     "cell_type": "markdown",
     "metadata": {},
     "source": [
      "We want to see if we lose anything by binning. First, we do a normal identification: take the M+H precursor mass from a standard file, match them against database within tolerance and see how many you get --> gold standard.\n",
      "\n",
      "In the output below, found is the total number of DatabaseEntry hits, and unique is the number of unique entries. "
     ]
    },
    {
     "cell_type": "code",
     "collapsed": false,
     "input": [
      "# try identify\n",
      "ann = MolAnnotator()\n",
      "\n",
      "moldb = peak_data.database\n",
      "precursor_masses = peak_data.precursor_mass    \n",
      "bins = peak_data.bins\n",
      "\n",
      "ann.identify_normal(moldb, precursor_masses)"
     ],
     "language": "python",
     "metadata": {},
     "outputs": [
      {
       "output_type": "stream",
       "stream": "stdout",
       "text": [
        "Checking normal identification\n",
        "\tfound = 118"
       ]
      },
      {
       "output_type": "stream",
       "stream": "stdout",
       "text": [
        "\n",
        "\tunique = 73\n"
       ]
      }
     ],
     "prompt_number": 5
    },
    {
     "cell_type": "markdown",
     "metadata": {},
     "source": [
      "Then we compare this against the discrete version, where we try to match the database masses against the bins directly.  In the output below, found is the total number of bins identified (associated to a molecule in db). We also count the molecules matching exactly only 1 bin and those that are split across multiple bins."
     ]
    },
    {
     "cell_type": "code",
     "collapsed": false,
     "input": [
      "ann.identify_bins(moldb, bins)"
     ],
     "language": "python",
     "metadata": {},
     "outputs": [
      {
       "output_type": "stream",
       "stream": "stdout",
       "text": [
        "Checking discrete identification\n",
        "\tfound=118"
       ]
      },
      {
       "output_type": "stream",
       "stream": "stdout",
       "text": [
        "\n",
        "\tmatching 1 bin=23\n",
        "\tmatching >1 bins=50\n"
       ]
      }
     ],
     "prompt_number": 6
    },
    {
     "cell_type": "markdown",
     "metadata": {},
     "source": [
      "It seems like they're more or less the same?"
     ]
    }
   ],
   "metadata": {}
  }
 ]
}