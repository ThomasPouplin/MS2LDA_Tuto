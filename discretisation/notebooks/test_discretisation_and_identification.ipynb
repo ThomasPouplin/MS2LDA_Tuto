{
 "metadata": {
  "name": "",
  "signature": "sha256:53e5ad2b8e21f02e9b177f047820e5e8755b78d4cb0a83868056ae3432c564c0"
 },
 "nbformat": 3,
 "nbformat_minor": 0,
 "worksheets": [
  {
   "cells": [
    {
     "cell_type": "heading",
     "level": 1,
     "metadata": {},
     "source": [
      "Test discretisation and identification on bins"
     ]
    },
    {
     "cell_type": "markdown",
     "metadata": {},
     "source": [
      "Import some stuff"
     ]
    },
    {
     "cell_type": "code",
     "collapsed": false,
     "input": [
      "import sys\n",
      "\n",
      "basedir = '../'\n",
      "sys.path.append(basedir) # need to do this to be able to import the stuff below\n",
      "\n",
      "from identification import MolAnnotator\n",
      "from preprocessing import FileLoader\n",
      "from discrete_mass_clusterer import DiscreteVB\n",
      "from models import HyperPars\n",
      "from plotting import ClusterPlotter\n",
      "\n",
      "%pylab inline"
     ],
     "language": "python",
     "metadata": {},
     "outputs": [
      {
       "output_type": "stream",
       "stream": "stdout",
       "text": [
        "Populating the interactive namespace from numpy and matplotlib\n"
       ]
      }
     ],
     "prompt_number": 1
    },
    {
     "cell_type": "markdown",
     "metadata": {},
     "source": [
      "Define plotting function"
     ]
    },
    {
     "cell_type": "code",
     "collapsed": false,
     "input": [
      "# We can histogram the number of transformations available for each peak. mini_hist holds this. \n",
      "# Note that all peaks have >0 transformations as each peak's precursor is in the list\n",
      "def plot_hist(mapping, filename, mass_tol, rt_tol):\n",
      "    no_trans = (mapping > 0).sum(1)\n",
      "    mini_hist = []\n",
      "    for i in np.arange(10) + 1:\n",
      "        mini_hist.append((no_trans == i).sum())\n",
      "    print 'mini_hist ' + str(mini_hist)\n",
      "    plt.figure()\n",
      "    plt.subplot(1, 2, 1)\n",
      "    plt.bar(np.arange(10) + 1, mini_hist)\n",
      "    title = 'MASS_TOL ' + str(mass_tol) + ', RT_TOL ' + str(rt_tol)\n",
      "    plt.title(title)\n",
      "    plt.subplot(1, 2, 2)\n",
      "    plt.spy(mapping, markersize=1)\n",
      "    plt.title('possible')\n",
      "    plt.suptitle(filename)\n",
      "    plt.show()    "
     ],
     "language": "python",
     "metadata": {},
     "outputs": [],
     "prompt_number": 2
    },
    {
     "cell_type": "heading",
     "level": 2,
     "metadata": {},
     "source": [
      "Single file binning"
     ]
    },
    {
     "cell_type": "markdown",
     "metadata": {},
     "source": [
      "Try some binning on a single standard file."
     ]
    },
    {
     "cell_type": "code",
     "collapsed": false,
     "input": [
      "database = basedir + '/database/std1_mols.csv'\n",
      "transformation = basedir + '/mulsubs/mulsub.txt'\n",
      "input_file = basedir + '/input/std1_csv/std1-file1.identified.csv'\n",
      "mass_tol = 2\n",
      "rt_tol = 5\n",
      "\n",
      "# load the std file, database_file molecules and transformation_file\n",
      "loader = FileLoader()\n",
      "peak_data = loader.load_model_input(input_file, database, transformation, mass_tol, rt_tol)"
     ],
     "language": "python",
     "metadata": {},
     "outputs": [
      {
       "output_type": "stream",
       "stream": "stdout",
       "text": [
        "Discretising at mass_tol=2, rt_tol=5\n",
        "Total bins=4999 total features=4999"
       ]
      },
      {
       "output_type": "stream",
       "stream": "stdout",
       "text": [
        "\n"
       ]
      }
     ],
     "prompt_number": 3
    },
    {
     "cell_type": "markdown",
     "metadata": {},
     "source": [
      "We can plot the histogram of the no. of possible assignments for each peak and also visualise the sparsity pattern of the possible matrix."
     ]
    },
    {
     "cell_type": "code",
     "collapsed": false,
     "input": [
      "plot_hist(peak_data.possible, input_file, mass_tol, rt_tol)"
     ],
     "language": "python",
     "metadata": {},
     "outputs": [
      {
       "output_type": "stream",
       "stream": "stdout",
       "text": [
        "mini_hist [4745, 238, 16, 0, 0, 0, 0, 0, 0, 0]\n"
       ]
      },
      {
       "metadata": {},
       "output_type": "display_data",
       "png": "[encoded data removed]",
       "text": [
        "<matplotlib.figure.Figure at 0x7fa4581c47d0>"
       ]
      }
     ],
     "prompt_number": 4
    },
    {
     "cell_type": "markdown",
     "metadata": {},
     "source": [
      "We want to see if we lose anything by binning, i.e. how many precursor masses before discretisation end up being placed into the same bin? \n",
      "\n",
      "To check this, first, we do the 'normal' identification on the non-discretised data: take all M+H precursor masses of peaks from a standard file, match them against database within a certain tolerance and see how many hits we get. This becomes the gold standard.\n",
      "\n",
      "In the output below, *found* is the total number of DatabaseEntry hits, and *unique* is the number of unique database entries identified."
     ]
    },
    {
     "cell_type": "code",
     "collapsed": false,
     "input": [
      "# try continuous identification\n",
      "ann = MolAnnotator()\n",
      "\n",
      "moldb = peak_data.database\n",
      "prior_masses = peak_data.prior_masses    \n",
      "bins = peak_data.bins\n",
      "\n",
      "ann.identify_normal(moldb, prior_masses, 2)"
     ],
     "language": "python",
     "metadata": {},
     "outputs": [
      {
       "output_type": "stream",
       "stream": "stdout",
       "text": [
        "Checking normal identification\n",
        "\tfound = 93"
       ]
      },
      {
       "output_type": "stream",
       "stream": "stdout",
       "text": [
        "\n",
        "\tunique = 66\n"
       ]
      }
     ],
     "prompt_number": 5
    },
    {
     "cell_type": "markdown",
     "metadata": {},
     "source": [
      "Then we compare this against the discrete data. Here, we match the database mass values to bins by determining which bins they can go into. In the output below, *found* is the total number of bins identified (associated to a molecule in db). We also count the molecules matching exactly only 1 bin and those that are split across multiple bins."
     ]
    },
    {
     "cell_type": "code",
     "collapsed": false,
     "input": [
      "ann.identify_bins(moldb, bins)"
     ],
     "language": "python",
     "metadata": {},
     "outputs": [
      {
       "output_type": "stream",
       "stream": "stdout",
       "text": [
        "Checking discrete identification\n",
        "\tfound=93"
       ]
      },
      {
       "output_type": "stream",
       "stream": "stdout",
       "text": [
        "\n",
        "\tmatching 1 bin=16\n",
        "\tmatching >1 bins=50\n"
       ]
      }
     ],
     "prompt_number": 6
    },
    {
     "cell_type": "markdown",
     "metadata": {},
     "source": [
      "The number of *found* and *unique* here are the same for both the discrete and non-discretised version. This is to be expected because the mass tolerance used when comparing peaks against db entries in the 'normal' identification is the same as the mass tolerance used for binning (mass_tol=2 above). Only if they're different then we expect differences during identification, e.g. see below."
     ]
    },
    {
     "cell_type": "code",
     "collapsed": false,
     "input": [
      "id_tol = 4\n",
      "print \"Setting identification tolerance at \" + str(id_tol)\n",
      "ann.identify_normal(moldb, prior_masses, id_tol)\n",
      "\n",
      "id_tol = 10\n",
      "print \"\\nSetting identification tolerance at \" + str(id_tol)\n",
      "ann.identify_normal(moldb, prior_masses, id_tol)\n",
      "\n",
      "print \"\\nBinning mass tolerance set at \" + str(mass_tol)\n",
      "ann.identify_bins(moldb, bins)"
     ],
     "language": "python",
     "metadata": {},
     "outputs": [
      {
       "output_type": "stream",
       "stream": "stdout",
       "text": [
        "Setting identification tolerance at 4\n",
        "Checking normal identification\n",
        "\tfound = 120"
       ]
      },
      {
       "output_type": "stream",
       "stream": "stdout",
       "text": [
        "\n",
        "\tunique = 73\n",
        "\n",
        "Setting identification tolerance at 10\n",
        "Checking normal identification\n",
        "\tfound = 132"
       ]
      },
      {
       "output_type": "stream",
       "stream": "stdout",
       "text": [
        "\n",
        "\tunique = 74\n",
        "\n",
        "Binning mass tolerance set at 2\n",
        "Checking discrete identification\n",
        "\tfound=93"
       ]
      },
      {
       "output_type": "stream",
       "stream": "stdout",
       "text": [
        "\n",
        "\tmatching 1 bin=16\n",
        "\tmatching >1 bins=50\n"
       ]
      }
     ],
     "prompt_number": 7
    },
    {
     "cell_type": "heading",
     "level": 2,
     "metadata": {},
     "source": [
      "Multiple files binning"
     ]
    },
    {
     "cell_type": "markdown",
     "metadata": {},
     "source": [
      "Next, we try some binning on a three standard files.. To deal with multiple files, we extend the binning process into this iterative procedure:\n",
      "\n",
      "<pre>\n",
      "existing_bins = make bins for the first file as before\n",
      "for each file 2..J:\n",
      "    bins_j = []\n",
      "    for each feature f in file j:\n",
      "        check if feature f can go into existing_bins\n",
      "        if no: \n",
      "            make new_bin based on f\n",
      "            insert new_bin into bins_j\n",
      "        endif\n",
      "    endfor\n",
      "    insert bins_j into existing_bins\n",
      "endfor\n",
      "</pre>\n",
      "\n",
      "The code for above can be found in preprocessing.Discretiser (a bit messy now..). Note that binning results from the above procedure is not symmetric -- depending on which file is processed first. Also had to change some of the clustering codes, which breaks when N!=K.\n",
      "\n",
      "We try to load some three STD1 POS files below and bin them in the proposed manner."
     ]
    },
    {
     "cell_type": "code",
     "collapsed": false,
     "input": [
      "database = basedir + '/database/std1_mols.csv'\n",
      "transformation = basedir + '/mulsubs/mulsub.txt'\n",
      "input_file = basedir + '/input/std1_csv_subset'\n",
      "mass_tol = 2\n",
      "rt_tol = 5\n",
      "\n",
      "# load the 3 std files inside input_file directory, the database and transformation files\n",
      "loader = FileLoader()\n",
      "peak_data = loader.load_model_input(input_file, database, transformation, mass_tol, rt_tol)"
     ],
     "language": "python",
     "metadata": {},
     "outputs": [
      {
       "output_type": "stream",
       "stream": "stdout",
       "text": [
        "Processing file_id=0 std1-file1.identified.csv 4999 features\n",
        "Discretising at mass_tol=2, rt_tol=5\n",
        "Total bins=4999 total features=4999"
       ]
      },
      {
       "output_type": "stream",
       "stream": "stdout",
       "text": [
        "\n",
        "Processing file_id=1 std1-file2.identified.csv 4986 features"
       ]
      },
      {
       "output_type": "stream",
       "stream": "stdout",
       "text": [
        "\n",
        "Discretising at mass_tol=2, rt_tol=5\n",
        "Total bins=9288 total features=9985"
       ]
      },
      {
       "output_type": "stream",
       "stream": "stdout",
       "text": [
        "\n",
        "Processing file_id=2 std1-file3.identified.csv 6836 features"
       ]
      },
      {
       "output_type": "stream",
       "stream": "stdout",
       "text": [
        "\n",
        "Discretising at mass_tol=2, rt_tol=5\n",
        "Total bins=15668 total features=16821"
       ]
      },
      {
       "output_type": "stream",
       "stream": "stdout",
       "text": [
        "\n"
       ]
      }
     ],
     "prompt_number": 8
    },
    {
     "cell_type": "markdown",
     "metadata": {},
     "source": [
      "The output above shows there are more total peaks (16821) than total bins (15668). This means (16821-15668)=1153 bins are shared across files.\n",
      "\n",
      "We can plot the histogram of the no. of possible assignments for each peak and also visualise the sparsity pattern of the *possible* matrix."
     ]
    },
    {
     "cell_type": "code",
     "collapsed": false,
     "input": [
      "plot_hist(peak_data.possible, input_file, mass_tol, rt_tol)"
     ],
     "language": "python",
     "metadata": {},
     "outputs": [
      {
       "output_type": "stream",
       "stream": "stdout",
       "text": [
        "mini_hist [14630, 1821, 279, 67, 18, 3, 2, 1, 0, 0]\n"
       ]
      },
      {
       "metadata": {},
       "output_type": "display_data",
       "png": "[encoded data removed]",
       "text": [
        "<matplotlib.figure.Figure at 0x7fa42b544d10>"
       ]
      }
     ],
     "prompt_number": 9
    },
    {
     "cell_type": "markdown",
     "metadata": {},
     "source": [
      "The sparsity pattern above looks interesting/weird? For the 3 input files, we see roughly a 3x3 grid of possible peak features to bins assignments in the spy() output. The first column corresponds to the possible assignment of all features (across the three files) to bins created from the first file. The second column shows possible assignment of peaks into the additional bins created for the second file, etc. \n",
      "\n",
      "We shouldn't expect to see anything in the upper diagonal of the *possible* matrix? Probably need to fix/change the binning procedure.\n",
      "\n",
      "We can compare the identification hits between the normal non-discretised and the discretised versions. "
     ]
    },
    {
     "cell_type": "code",
     "collapsed": false,
     "input": [
      "# try continuous identification\n",
      "ann = MolAnnotator()\n",
      "\n",
      "moldb = peak_data.database\n",
      "prior_masses = peak_data.prior_masses    \n",
      "bins = peak_data.bins\n",
      "\n",
      "id_tol = 2\n",
      "print \"Setting identification tolerance at \" + str(id_tol)\n",
      "ann.identify_normal(moldb, prior_masses, id_tol)"
     ],
     "language": "python",
     "metadata": {},
     "outputs": [
      {
       "output_type": "stream",
       "stream": "stdout",
       "text": [
        "Setting identification tolerance at 2\n",
        "Checking normal identification\n",
        "\tfound = 238"
       ]
      },
      {
       "output_type": "stream",
       "stream": "stdout",
       "text": [
        "\n",
        "\tunique = 75\n"
       ]
      }
     ],
     "prompt_number": 10
    },
    {
     "cell_type": "markdown",
     "metadata": {},
     "source": [
      "Notice the no. of *found* is a lot more than for single-file, but the no. of *unique* remains mostly the same (70-ish). \n",
      "\n",
      "Compare this with the discrete results, where we match database masses to bins directly."
     ]
    },
    {
     "cell_type": "code",
     "collapsed": false,
     "input": [
      "ann.identify_bins(moldb, bins)"
     ],
     "language": "python",
     "metadata": {},
     "outputs": [
      {
       "output_type": "stream",
       "stream": "stdout",
       "text": [
        "Checking discrete identification\n",
        "\tfound=238"
       ]
      },
      {
       "output_type": "stream",
       "stream": "stdout",
       "text": [
        "\n",
        "\tmatching 1 bin=70\n",
        "\tmatching >1 bins=5\n"
       ]
      }
     ],
     "prompt_number": 11
    },
    {
     "cell_type": "markdown",
     "metadata": {},
     "source": [
      "Same results here? \n",
      "\n",
      "We can also try to cluster peaks by the precursor masses across the three files at once. Here we use VB with RT only."
     ]
    },
    {
     "cell_type": "code",
     "collapsed": false,
     "input": [
      "hp = HyperPars()\n",
      "discrete = DiscreteVB(peak_data, hp)\n",
      "discrete.n_iterations = 20\n",
      "print discrete\n",
      "discrete.run()"
     ],
     "language": "python",
     "metadata": {},
     "outputs": [
      {
       "output_type": "stream",
       "stream": "stdout",
       "text": [
        "DiscreteVB initialised\n",
        "Variational Bayes for discrete mass model\n",
        "Hyperparameters alpha=100.0, mass_prec=100, mass_prior_prec=100, rt_prec=10, rt_prior_prec=100\n",
        "n_iterations = 20"
       ]
      },
      {
       "output_type": "stream",
       "stream": "stdout",
       "text": [
        "\n",
        "2191 peaks to be re-sampled\n",
        "Iteration 0\n",
        "Change in Z: 491.005083434"
       ]
      },
      {
       "output_type": "stream",
       "stream": "stdout",
       "text": [
        "\n",
        "Iteration 1\n",
        "Change in Z: 44.1323981199"
       ]
      },
      {
       "output_type": "stream",
       "stream": "stdout",
       "text": [
        "\n",
        "Iteration 2\n",
        "Change in Z: 14.2681740372"
       ]
      },
      {
       "output_type": "stream",
       "stream": "stdout",
       "text": [
        "\n",
        "Iteration 3\n",
        "Change in Z: 4.26303006668"
       ]
      },
      {
       "output_type": "stream",
       "stream": "stdout",
       "text": [
        "\n",
        "Iteration 4\n",
        "Change in Z: 1.93448566556"
       ]
      },
      {
       "output_type": "stream",
       "stream": "stdout",
       "text": [
        "\n",
        "Iteration 5\n",
        "Change in Z: 0.936957319833"
       ]
      },
      {
       "output_type": "stream",
       "stream": "stdout",
       "text": [
        "\n",
        "Iteration 6\n",
        "Change in Z: 0.718670538163"
       ]
      },
      {
       "output_type": "stream",
       "stream": "stdout",
       "text": [
        "\n",
        "Iteration 7\n",
        "Change in Z: 0.589500163021"
       ]
      },
      {
       "output_type": "stream",
       "stream": "stdout",
       "text": [
        "\n",
        "Iteration 8\n",
        "Change in Z: 0.371700274883"
       ]
      },
      {
       "output_type": "stream",
       "stream": "stdout",
       "text": [
        "\n",
        "Iteration 9\n",
        "Change in Z: 0.365419546285"
       ]
      },
      {
       "output_type": "stream",
       "stream": "stdout",
       "text": [
        "\n",
        "Iteration 10\n",
        "Change in Z: 0.305734668118"
       ]
      },
      {
       "output_type": "stream",
       "stream": "stdout",
       "text": [
        "\n",
        "Iteration 11\n",
        "Change in Z: 0.0532987788009"
       ]
      },
      {
       "output_type": "stream",
       "stream": "stdout",
       "text": [
        "\n",
        "Iteration 12\n",
        "Change in Z: 0.00325403762817"
       ]
      },
      {
       "output_type": "stream",
       "stream": "stdout",
       "text": [
        "\n",
        "Iteration 13\n",
        "Change in Z: 0.00284342997456"
       ]
      },
      {
       "output_type": "stream",
       "stream": "stdout",
       "text": [
        "\n",
        "Iteration 14\n",
        "Change in Z: 0.00361296485251"
       ]
      },
      {
       "output_type": "stream",
       "stream": "stdout",
       "text": [
        "\n",
        "Iteration 15\n",
        "Change in Z: 0.00564474053724"
       ]
      },
      {
       "output_type": "stream",
       "stream": "stdout",
       "text": [
        "\n",
        "Iteration 16\n",
        "Change in Z: 0.0102704482752"
       ]
      },
      {
       "output_type": "stream",
       "stream": "stdout",
       "text": [
        "\n",
        "Iteration 17\n",
        "Change in Z: 0.0219166064342"
       ]
      },
      {
       "output_type": "stream",
       "stream": "stdout",
       "text": [
        "\n",
        "Iteration 18\n",
        "Change in Z: 0.0554867253718"
       ]
      },
      {
       "output_type": "stream",
       "stream": "stdout",
       "text": [
        "\n",
        "Iteration 19\n",
        "Change in Z: 0.149958201377"
       ]
      },
      {
       "output_type": "stream",
       "stream": "stdout",
       "text": [
        "\n"
       ]
      }
     ],
     "prompt_number": 12
    },
    {
     "cell_type": "code",
     "collapsed": false,
     "input": [
      "cp = ClusterPlotter(peak_data, discrete)\n",
      "cp.summary()\n",
      "cp.plot_biggest(3)"
     ],
     "language": "python",
     "metadata": {},
     "outputs": [
      {
       "output_type": "stream",
       "stream": "stdout",
       "text": [
        "Cluster output\n",
        "Number of non-empty clusters: 14722 (of 15668)\n",
        "\n",
        "Size: count\n",
        "0: 946\n",
        "1: 13027\n",
        "2: 1398\n",
        "3: 226\n",
        "4: 49\n",
        "5: 14\n",
        "6: 5\n",
        "7: 2\n",
        "8: 0\n",
        "9: 1\n",
        "\n",
        "Trans: count\n",
        "M+2H: 48\n",
        "M+H+NH4: 3\n",
        "M+H+Na: 2\n",
        "M+H+K: 3\n",
        "M+ACN+2H: 43\n",
        "M+2Na: 3\n",
        "M+H: 16020\n",
        "M+NH4: 44\n",
        "M+Na: 262\n",
        "M+CH3OH+H: 15\n",
        "M+K: 59\n",
        "M+ACN+H: 229\n",
        "M+2Na-H: 42\n",
        "M+IsoProp+H: 11\n",
        "M+ACN+Na: 13\n",
        "M+2K-H: 1\n",
        "M+DMSO+H: 6\n",
        "M+2ACN+H: 16\n"
       ]
      },
      {
       "metadata": {},
       "output_type": "display_data",
       "png": "[encoded data removed]",
       "text": [
        "<matplotlib.figure.Figure at 0x7fa42aedaf10>"
       ]
      },
      {
       "metadata": {},
       "output_type": "display_data",
       "png": "[encoded data removed]",
       "text": [
        "<matplotlib.figure.Figure at 0x7fa429e9dc10>"
       ]
      },
      {
       "metadata": {},
       "output_type": "display_data",
       "png": "[encoded data removed]",
       "text": [
        "<matplotlib.figure.Figure at 0x7fa42b4ac8d0>"
       ]
      }
     ],
     "prompt_number": 14
    },
    {
     "cell_type": "markdown",
     "metadata": {},
     "source": [
      "Above plots the top-3 biggest clusters. Results look pretty sensible? Along the mass axis, we see not much variability in the same adduct type peaks coming from different files (those overlapping peaks) and in fact, fairly minimal RT drifts across files as well."
     ]
    },
    {
     "cell_type": "code",
     "collapsed": false,
     "input": [],
     "language": "python",
     "metadata": {},
     "outputs": [],
     "prompt_number": 13
    }
   ],
   "metadata": {}
  }
 ]
}