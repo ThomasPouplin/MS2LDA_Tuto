{
 "metadata": {
  "name": "",
  "signature": "sha256:afe13d0c475b3e73613d027a87d7d082f497048fad0ac855ea43c8b13c448d6d"
 },
 "nbformat": 3,
 "nbformat_minor": 0,
 "worksheets": [
  {
   "cells": [
    {
     "cell_type": "code",
     "collapsed": false,
     "input": [
      "import numpy as np"
     ],
     "language": "python",
     "metadata": {},
     "outputs": [],
     "prompt_number": 88
    },
    {
     "cell_type": "code",
     "collapsed": false,
     "input": [
      "#load the std file\n",
      "f = open('std1-file1.identified.csv')\n",
      "heads =f.readline()\n",
      "pos = 0\n",
      "peakid = []\n",
      "mass = []\n",
      "rt = []\n",
      "\n",
      "def num(s):\n",
      "    try:\n",
      "        return int(s)\n",
      "    except ValueError:\n",
      "        return float(s)\n",
      "\n",
      "intensity = []\n",
      "for line in f:\n",
      "    elements = line.split(',')\n",
      "    peakid.append(num(elements[0]))\n",
      "    mass.append(num(elements[1]))\n",
      "    rt.append(num(elements[2]))\n",
      "    intensity.append(num(elements[3]))\n",
      "    \n",
      "f.close()\n",
      "print len(mass)"
     ],
     "language": "python",
     "metadata": {},
     "outputs": [
      {
       "output_type": "stream",
       "stream": "stdout",
       "text": [
        "4999\n"
       ]
      }
     ],
     "prompt_number": 89
    },
    {
     "cell_type": "code",
     "collapsed": false,
     "input": [
      "#load the actual molecules\n",
      "molsFile = open('std1_mols.csv')\n",
      "molid = []\n",
      "molname = []\n",
      "molformula = []\n",
      "molmass = []\n",
      "for line in molsFile:\n",
      "    elements = line.split(',')\n",
      "    molid.append(elements[0])\n",
      "    molname.append(elements[1])\n",
      "    molformula.append(elements[2])\n",
      "    molmass.append(num(elements[3]))\n",
      "molsFile.close()"
     ],
     "language": "python",
     "metadata": {},
     "outputs": [],
     "prompt_number": 90
    },
    {
     "cell_type": "code",
     "collapsed": false,
     "input": [
      "def match(m1,m2,tol):\n",
      "    return np.abs((m1-m2))/(m1)<tol*1e-6\n",
      "    \n",
      "proton = 1.00727645199076\n",
      "found = []\n",
      "\n",
      "for m in mass:\n",
      "    transformed_mass = m - proton\n",
      "    for index,m2 in enumerate(molmass):\n",
      "        if match(m2,transformed_mass,10):\n",
      "            found.append(molid[index])"
     ],
     "language": "python",
     "metadata": {},
     "outputs": [],
     "prompt_number": 91
    },
    {
     "cell_type": "code",
     "collapsed": false,
     "input": [],
     "language": "python",
     "metadata": {},
     "outputs": [],
     "prompt_number": 91
    },
    {
     "cell_type": "code",
     "collapsed": false,
     "input": [
      "from collections import OrderedDict\n",
      "unique_found = list(OrderedDict.fromkeys(found))\n",
      "print len(unique_found)"
     ],
     "language": "python",
     "metadata": {},
     "outputs": [
      {
       "output_type": "stream",
       "stream": "stdout",
       "text": [
        "74\n"
       ]
      }
     ],
     "prompt_number": 92
    },
    {
     "cell_type": "code",
     "collapsed": false,
     "input": [
      "#load transformations\n",
      "trans_names = []\n",
      "trans_sub = []\n",
      "trans_mul = []\n",
      "trans_file = open('mulsub.txt')\n",
      "for line in trans_file:\n",
      "    elements = line.split(',')\n",
      "    trans_names.append(elements[0])\n",
      "    trans_sub.append(num(elements[1]))\n",
      "    trans_mul.append(num(elements[2]))\n",
      "trans_file.close()\n",
      "trans_sub = np.array(trans_sub)\n",
      "trans_mul = np.array(trans_mul)"
     ],
     "language": "python",
     "metadata": {},
     "outputs": [],
     "prompt_number": 93
    },
    {
     "cell_type": "code",
     "collapsed": false,
     "input": [
      "bin_masses = []\n",
      "for m in mass:\n",
      "    trans_m = (m - trans_sub)/trans_mul\n",
      "    for m2 in trans_m:\n",
      "        if ~match(m2,np.array(bin_masses),10).any():\n",
      "            bin_masses.append(m2)"
     ],
     "language": "python",
     "metadata": {},
     "outputs": [],
     "prompt_number": 100
    },
    {
     "cell_type": "code",
     "collapsed": false,
     "input": [
      "print len(bin_masses)"
     ],
     "language": "python",
     "metadata": {},
     "outputs": [
      {
       "output_type": "stream",
       "stream": "stdout",
       "text": [
        "40785\n"
       ]
      }
     ],
     "prompt_number": 101
    },
    {
     "cell_type": "code",
     "collapsed": false,
     "input": [],
     "language": "python",
     "metadata": {},
     "outputs": [],
     "prompt_number": 101
    },
    {
     "cell_type": "code",
     "collapsed": false,
     "input": [
      "proton = 1.00727645199076\n",
      "found_binned = []\n",
      "\n",
      "for m in bin_masses:\n",
      "    transformed_mass = m - proton\n",
      "    for index,m2 in enumerate(molmass):\n",
      "        if match(m2,transformed_mass,10):\n",
      "            found_binned.append(molid[index])"
     ],
     "language": "python",
     "metadata": {},
     "outputs": [],
     "prompt_number": 102
    },
    {
     "cell_type": "code",
     "collapsed": false,
     "input": [
      "print len(found_binned)"
     ],
     "language": "python",
     "metadata": {},
     "outputs": [
      {
       "output_type": "stream",
       "stream": "stdout",
       "text": [
        "87\n"
       ]
      }
     ],
     "prompt_number": 103
    },
    {
     "cell_type": "code",
     "collapsed": false,
     "input": [
      "unique_found_binned = list(OrderedDict.fromkeys(found_binned))"
     ],
     "language": "python",
     "metadata": {},
     "outputs": [],
     "prompt_number": 104
    },
    {
     "cell_type": "code",
     "collapsed": false,
     "input": [
      "print len(unique_found_binned)"
     ],
     "language": "python",
     "metadata": {},
     "outputs": [
      {
       "output_type": "stream",
       "stream": "stdout",
       "text": [
        "75\n"
       ]
      }
     ],
     "prompt_number": 105
    },
    {
     "cell_type": "code",
     "collapsed": false,
     "input": [],
     "language": "python",
     "metadata": {},
     "outputs": []
    }
   ],
   "metadata": {}
  }
 ]
}