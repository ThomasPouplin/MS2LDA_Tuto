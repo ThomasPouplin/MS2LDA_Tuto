{
 "cells": [
  {
   "cell_type": "code",
   "execution_count": 1,
   "metadata": {
    "collapsed": true
   },
   "outputs": [],
   "source": [
    "import pylab as plt\n",
    "%matplotlib inline"
   ]
  },
  {
   "cell_type": "code",
   "execution_count": 2,
   "metadata": {
    "collapsed": true
   },
   "outputs": [],
   "source": [
    "class Signal(object):\n",
    "    def __init__(self,x,y):\n",
    "        self.x = x\n",
    "        self.y = y\n",
    "    def plot(self):\n",
    "        plt.figure()\n",
    "        plt.plot(self.x,self.y)\n",
    "    def plot2(self,other):\n",
    "        self.plot()\n",
    "        plt.plot(other.x,other.y)\n",
    "        \n",
    "class Peak(object):\n",
    "    def __init__(self,mass,rt,intensity,signal):\n",
    "        self.mass = mass\n",
    "        self.rt = rt\n",
    "        self.intensity = intensity\n",
    "        self.signal = signal\n",
    "        "
   ]
  },
  {
   "cell_type": "code",
   "execution_count": 3,
   "metadata": {
    "collapsed": false,
    "scrolled": false
   },
   "outputs": [],
   "source": [
    "peaks = []\n",
    "fin = 'a.txt'\n",
    "with open(fin) as f:\n",
    "    for line in f:\n",
    "        sl = line.split(',')\n",
    "        mass = float(sl[0])\n",
    "        rt = float(sl[1])\n",
    "        intensity = float(sl[2])\n",
    "        si = sl[3].strip()\n",
    "        sis = si.split(' ')\n",
    "        x = []\n",
    "        y = []\n",
    "        for v in sis:\n",
    "            vs = v.split(':')\n",
    "            x.append(float(vs[0]))\n",
    "            y.append(float(vs[1]))\n",
    "        peaks.append(Peak(mass,rt,intensity,Signal(x,y)))"
   ]
  },
  {
   "cell_type": "code",
   "execution_count": 4,
   "metadata": {
    "collapsed": false
   },
   "outputs": [
    {
     "name": "stdout",
     "output_type": "stream",
     "text": [
      "9752\n"
     ]
    }
   ],
   "source": [
    "print len(peaks)"
   ]
  },
  {
   "cell_type": "code",
   "execution_count": 7,
   "metadata": {
    "collapsed": false
   },
   "outputs": [
    {
     "data": {
      "image/png": "[encoded data removed]",
      "text/plain": [
       "<matplotlib.figure.Figure at 0x10838dc10>"
      ]
     },
     "metadata": {},
     "output_type": "display_data"
    }
   ],
   "source": [
    "peaks[4444].signal.plot2(peaks[4445].signal)"
   ]
  },
  {
   "cell_type": "code",
   "execution_count": 52,
   "metadata": {
    "collapsed": false
   },
   "outputs": [
    {
     "name": "stdout",
     "output_type": "stream",
     "text": [
      "[336.0950012207031, 337.5639953613281, 339.0220031738281, 340.47698974609375, 341.9280090332031, 343.3760070800781, 344.822998046875, 346.2699890136719, 347.718994140625, 349.1709899902344, 350.625, 352.0799865722656, 353.5379943847656, 355.0, 356.4639892578125, 357.9280090332031, 359.3949890136719, 360.86199951171875, 362.3290100097656, 363.802001953125, 365.27899169921875, 366.7539978027344, 368.23199462890625, 369.7090148925781, 371.18798828125, 372.6669921875, 374.1440124511719, 375.6239929199219, 377.0989990234375, 380.0469970703125, 381.5169982910156]\n"
     ]
    }
   ],
   "source": [
    "print peaks[1234].signal.x"
   ]
  },
  {
   "cell_type": "code",
   "execution_count": 53,
   "metadata": {
    "collapsed": false
   },
   "outputs": [
    {
     "name": "stdout",
     "output_type": "stream",
     "text": [
      "[322.41400146484375, 323.9530029296875, 325.489013671875, 327.02301025390625, 328.552001953125, 330.0790100097656, 331.60101318359375, 333.114013671875, 334.6130065917969, 336.0950012207031, 337.5639953613281, 339.0220031738281, 340.47698974609375, 341.9280090332031, 343.3760070800781, 344.822998046875, 346.2699890136719, 349.1709899902344, 352.0799865722656, 353.5379943847656, 355.0, 359.3949890136719, 362.3290100097656, 365.27899169921875, 368.23199462890625]\n"
     ]
    }
   ],
   "source": [
    "print peaks[1000].signal.x"
   ]
  },
  {
   "cell_type": "code",
   "execution_count": 56,
   "metadata": {
    "collapsed": false
   },
   "outputs": [
    {
     "name": "stdout",
     "output_type": "stream",
     "text": [
      "True\n"
     ]
    }
   ],
   "source": [
    "print peaks[1234].signal.x[0] in peaks[1000].signal.x"
   ]
  },
  {
   "cell_type": "code",
   "execution_count": null,
   "metadata": {
    "collapsed": true
   },
   "outputs": [],
   "source": []
  }
 ],
 "metadata": {
  "kernelspec": {
   "display_name": "Python 2",
   "language": "python",
   "name": "python2"
  },
  "language_info": {
   "codemirror_mode": {
    "name": "ipython",
    "version": 2
   },
   "file_extension": ".py",
   "mimetype": "text/x-python",
   "name": "python",
   "nbconvert_exporter": "python",
   "pygments_lexer": "ipython2",
   "version": "2.7.10"
  }
 },
 "nbformat": 4,
 "nbformat_minor": 0
}
