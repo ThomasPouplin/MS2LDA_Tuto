{
 "cells": [
  {
   "cell_type": "markdown",
   "metadata": {},
   "source": [
    "<h1>Testing the idea for frag clustering</h1>\n",
    "<p>The idea is to use a two stage process to try and cluster all of the remaining peaks based on unknown fragments</p>"
   ]
  },
  {
   "cell_type": "code",
   "execution_count": 323,
   "metadata": {
    "collapsed": false
   },
   "outputs": [
    {
     "name": "stdout",
     "output_type": "stream",
     "text": [
      "The autoreload extension is already loaded. To reload it, use:\n",
      "  %reload_ext autoreload\n"
     ]
    }
   ],
   "source": [
    "%load_ext autoreload\n",
    "%autoreload 2\n",
    "import adduct_cluster as ac"
   ]
  },
  {
   "cell_type": "code",
   "execution_count": 324,
   "metadata": {
    "collapsed": false
   },
   "outputs": [
    {
     "name": "stdout",
     "output_type": "stream",
     "text": [
      "Loaded 22 transformations from mulsubs/mulsub2.txt\n",
      "Loaded 299 peaks from test_small.txt\n",
      "Created 299 clusters\n",
      "16 peaks to be re-sampled in stage 1\n"
     ]
    }
   ],
   "source": [
    "a_c = ac.AdductCluster(mass_tol = 5, mh_biggest = False)\n",
    "# a_c.init_from_file('/Users/simon/git/metabolomics_tools/discretisation/java_src/James/txt/std1_Beth20512.peakml.txt')\n",
    "a_c.init_from_file('test_small.txt')"
   ]
  },
  {
   "cell_type": "code",
   "execution_count": 267,
   "metadata": {
    "collapsed": false
   },
   "outputs": [],
   "source": [
    "a_c.reset_counts()\n",
    "a_c.multi_sample(1000)\n",
    "a_c.compute_posterior_probs()\n"
   ]
  },
  {
   "cell_type": "markdown",
   "metadata": {},
   "source": [
    "<p>Run VB</p>"
   ]
  },
  {
   "cell_type": "code",
   "execution_count": 329,
   "metadata": {
    "collapsed": false
   },
   "outputs": [
    {
     "name": "stdout",
     "output_type": "stream",
     "text": [
      "Peak: 192.107486901\n",
      "\t M+H 0.00117959532246\n",
      "\t M+HC13 0.998820404678\n",
      "Peak: 236.073860848\n",
      "\t M+H 0.959213860212\n",
      "\t M+NH4 0.0407861397881\n",
      "Peak: 128.070316369\n",
      "\t M+H 0.00141108546645\n",
      "\t M+NH4 0.937009308728\n",
      "\t M+ACN+H 0.0615796058051\n",
      "Peak: 240.164997455\n",
      "\t M+H 0.00115519748724\n",
      "\t M+HC13 0.998844802513\n",
      "Peak: 146.029662593\n",
      "\t M+H 0.00213374445456\n",
      "\t M+ACN+H 0.997866255545\n",
      "Peak: 146.029681836\n",
      "\t M+H 0.000766964031869\n",
      "\t M+ACN+H 0.999233035968\n",
      "Peak: 77.9988036717\n",
      "\t M+H 0.00257438082678\n",
      "\t M+ACN+2H 0.997425619173\n",
      "Peak: 87.0040552883\n",
      "\t M+H 0.961575513343\n",
      "\t M+H+NH4 0.0272290776649\n",
      "\t M+ACN+2H 0.0111954089918\n",
      "Peak: 87.0040613254\n",
      "\t M+H 0.836842986337\n",
      "\t M+H+NH4 0.0261716572048\n",
      "\t M+H+NH4 0.0131826415326\n",
      "\t M+ACN+2H 0.113244154784\n",
      "\t M+ACN+2H 0.0105585601416\n",
      "Peak: 199.000620516\n",
      "\t M+H 0.001070567989\n",
      "\t M+ACN+H 0.998929432011\n",
      "Peak: 102.970095269\n",
      "\t M+H 0.998729409239\n",
      "\t M+H+Na 0.00127059076051\n",
      "Peak: 143.996775021\n",
      "\t M+H 0.000881948799419\n",
      "\t M+ACN+H 0.999118051201\n",
      "Peak: 197.000588811\n",
      "\t M+H 0.000832814042441\n",
      "\t M+ACN+H 0.999167185958\n",
      "Peak: 200.995442188\n",
      "\t M+H 0.00118243893528\n",
      "\t M+ACN+H 0.998817561065\n",
      "Peak: 271.916341408\n",
      "\t M+H 0.00120501117053\n",
      "\t M+ACN+H 0.998794988829\n",
      "Peak: 221.016688518\n",
      "\t M+H 0.0011360665987\n",
      "\t M+ACN+H 0.998863933401\n"
     ]
    }
   ],
   "source": [
    "a_c.init_vb()\n",
    "for i in range(100):\n",
    "    a_c.vb_step()\n",
    "\n",
    "\n",
    "for peak in a_c.todo:\n",
    "    print \"Peak: {}\".format(peak.mass)\n",
    "    for poss in a_c.possible[peak]:\n",
    "        print \"\\t {} {}\".format(poss.transformation.name,poss.prob)"
   ]
  },
  {
   "cell_type": "markdown",
   "metadata": {},
   "source": [
    "<p>assign all peaks to their most likely cluster</p>"
   ]
  },
  {
   "cell_type": "code",
   "execution_count": 222,
   "metadata": {
    "collapsed": false
   },
   "outputs": [],
   "source": [
    "a_c.map_assign()"
   ]
  },
  {
   "cell_type": "code",
   "execution_count": 223,
   "metadata": {
    "collapsed": false
   },
   "outputs": [
    {
     "name": "stdout",
     "output_type": "stream",
     "text": [
      "2495\n"
     ]
    }
   ],
   "source": [
    "singletons = []\n",
    "for peak in a_c.peaks:\n",
    "    if a_c.Z[peak].cluster.N == 1:\n",
    "        singletons.append(peak)\n",
    "print len(singletons)"
   ]
  },
  {
   "cell_type": "markdown",
   "metadata": {},
   "source": [
    "<p>Loop over all singletons and find their mass difference with M+H in the clusters within `a_c.rt_tol`</p>"
   ]
  },
  {
   "cell_type": "code",
   "execution_count": 235,
   "metadata": {
    "collapsed": false
   },
   "outputs": [],
   "source": [
    "import numpy as np\n",
    "mass_differences = []\n",
    "for peak in singletons:\n",
    "    for cluster in a_c.clusters:\n",
    "        if cluster.N > 0:\n",
    "            if peak is cluster.mHPeak:\n",
    "                continue\n",
    "            elif np.abs(peak.rt - cluster.mHPeak.rt) < a_c.rt_tol:\n",
    "                mass_differences.append(cluster.mHPeak.mass - peak.mass)"
   ]
  },
  {
   "cell_type": "code",
   "execution_count": 236,
   "metadata": {
    "collapsed": false
   },
   "outputs": [],
   "source": [
    "mass_differences = np.array(mass_differences)\n",
    "mass_differences.sort()"
   ]
  },
  {
   "cell_type": "code",
   "execution_count": 250,
   "metadata": {
    "collapsed": false
   },
   "outputs": [],
   "source": [
    "histogram = {}\n",
    "start_pos = 0\n",
    "finished = False\n",
    "threshold = 7\n",
    "biggest = []\n",
    "while not finished:\n",
    "    new_key = str(mass_differences[start_pos])\n",
    "    histogram[new_key] = 1\n",
    "    search_pos = start_pos + 1\n",
    "    search_finished = False\n",
    "    while not search_finished:\n",
    "        if search_pos >= len(mass_differences):\n",
    "            search_finished = True\n",
    "            finished = True\n",
    "            break\n",
    "        if np.abs((mass_differences[start_pos] - mass_differences[search_pos]) / mass_differences[start_pos])*1e6 < 2*a_c.mass_tol:\n",
    "            histogram[new_key] += 1\n",
    "            if histogram[new_key] > biggest:\n",
    "                biggest = histogram[new_key]\n",
    "            search_pos += 1\n",
    "        else:\n",
    "            if histogram[new_key] >= threshold:\n",
    "                biggest.append(new_key)\n",
    "            search_finished = True\n",
    "            start_pos = search_pos\n"
   ]
  },
  {
   "cell_type": "code",
   "execution_count": 251,
   "metadata": {
    "collapsed": false
   },
   "outputs": [],
   "source": [
    "import sys\n",
    "sys.path.append('/Users/simon/git/MS2LDA')\n",
    "from efcompute import ef_assigner as ef"
   ]
  },
  {
   "cell_type": "code",
   "execution_count": 330,
   "metadata": {
    "collapsed": false
   },
   "outputs": [
    {
     "ename": "TypeError",
     "evalue": "__init__() got an unexpected keyword argument 'max_ppm'",
     "output_type": "error",
     "traceback": [
      "\u001b[0;31m---------------------------------------------------------------------------\u001b[0m",
      "\u001b[0;31mTypeError\u001b[0m                                 Traceback (most recent call last)",
      "\u001b[0;32m<ipython-input-330-3ab1478948ba>\u001b[0m in \u001b[0;36m<module>\u001b[0;34m()\u001b[0m\n\u001b[0;32m----> 1\u001b[0;31m \u001b[0me\u001b[0m \u001b[0;34m=\u001b[0m \u001b[0mef\u001b[0m\u001b[0;34m.\u001b[0m\u001b[0mef_assigner\u001b[0m\u001b[0;34m(\u001b[0m\u001b[0mverbose\u001b[0m \u001b[0;34m=\u001b[0m \u001b[0mFalse\u001b[0m\u001b[0;34m,\u001b[0m\u001b[0mdo_rule_8\u001b[0m \u001b[0;34m=\u001b[0m \u001b[0mTrue\u001b[0m\u001b[0;34m,\u001b[0m\u001b[0mmax_ppm\u001b[0m \u001b[0;34m=\u001b[0m \u001b[0;36m10\u001b[0m\u001b[0;34m)\u001b[0m\u001b[0;34m\u001b[0m\u001b[0m\n\u001b[0m",
      "\u001b[0;31mTypeError\u001b[0m: __init__() got an unexpected keyword argument 'max_ppm'"
     ]
    }
   ],
   "source": [
    "e = ef.ef_assigner(verbose = False,do_rule_8 = True)"
   ]
  },
  {
   "cell_type": "code",
   "execution_count": 332,
   "metadata": {
    "collapsed": false,
    "scrolled": true
   },
   "outputs": [
    {
     "name": "stdout",
     "output_type": "stream",
     "text": [
      "-102.031721349: 9 -> C4H6O3\n",
      "-84.9903334528: 7 -> CHNSC132\n",
      "-72.9860838443: 7 -> None\n",
      "-72.9676095483: 9 -> None\n",
      "-64.9787826901: 7 -> None\n",
      "-64.4776156492: 7 -> None\n",
      "-61.9705080943: 8 -> None\n",
      "-44.4656454236: 10 -> None\n",
      "-42.010609232: 9 -> C2H2O\n",
      "-28.5019468753: 8 -> None\n",
      "-27.9950677767: 10 -> CO\n",
      "-23.0160769694: 10 -> None\n",
      "-22.9894836263: 7 -> None\n",
      "-20.5135116693: 10 -> None\n",
      "-20.5133031056: 27 -> None\n",
      "-20.0117451317: 10 -> None\n",
      "-18.0105716206: 16 -> H2O\n",
      "-17.5048454554: 9 -> None\n",
      "-16.0312246502: 7 -> CH4\n",
      "-15.9776337864: 7 -> None\n",
      "-10.9971604691: 7 -> None\n",
      "-8.4903115232: 9 -> None\n",
      "-7.98623981951: 7 -> None\n",
      "7.98613732831: 7 -> None\n",
      "8.49020522892: 9 -> None\n",
      "10.9970681576: 8 -> None\n",
      "14.0156079575: 7 -> CH2\n",
      "15.9775787296: 7 -> None\n",
      "17.5047790194: 9 -> None\n",
      "18.0103572162: 12 -> H2O\n",
      "20.0116115364: 9 -> None\n",
      "20.513012233: 21 -> None\n",
      "20.5132617977: 15 -> None\n",
      "23.0157704394: 9 -> None\n",
      "27.9946172953: 11 -> CO\n",
      "28.0310528053: 7 -> C2H4\n",
      "28.5019376859: 8 -> None\n",
      "42.0103383843: 8 -> C2H2O\n",
      "44.4652498141: 10 -> None\n",
      "46.0052387852: 15 -> CH2O2\n",
      "61.9703707893: 7 -> None\n",
      "64.4772240607: 8 -> None\n",
      "64.9785195226: 8 -> None\n",
      "72.9644897543: 7 -> None\n",
      "72.9671286327: 11 -> None\n"
     ]
    }
   ],
   "source": [
    "for m in biggest:\n",
    "    a = e.find_formulas([np.abs(float(m))],ppm = 20)\n",
    "    print \"{}: {} -> {}\".format(m,histogram[m],a[1][0])"
   ]
  },
  {
   "cell_type": "code",
   "execution_count": 224,
   "metadata": {
    "collapsed": true
   },
   "outputs": [],
   "source": [
    "PROTON_MASS = 1.00727645199076\n",
    "ATOM_NAME_LIST = ['C', 'H', 'N', 'O', \n",
    "                  'P', 'S', 'C13', 'F', \n",
    "                  'Cl']\n",
    "\n",
    "ATOM_MASS_LIST = [12.00000000000,   1.00782503214,    14.00307400524,   15.99491462210, \n",
    "                  30.97376151200,   31.97207069000,   13.00335483780,   18.99840325000, \n",
    "                  34.96885271000]\n",
    "ATOM_VALENCE_LIST = [4, 1, 3, 2, 3, 2, 4, 1, 1]\n",
    "\n",
    "ATOM_MASSES = dict(zip(ATOM_NAME_LIST, ATOM_MASS_LIST))"
   ]
  },
  {
   "cell_type": "code",
   "execution_count": 225,
   "metadata": {
    "collapsed": false
   },
   "outputs": [
    {
     "name": "stdout",
     "output_type": "stream",
     "text": [
      "41.0265491017 42.0338255537\n"
     ]
    }
   ],
   "source": [
    "ACN = {'C':2,'H':3,'N':1}\n",
    "acn_mass = 0.0\n",
    "for atom in ACN:\n",
    "    acn_mass += ACN[atom]*ATOM_MASSES[atom]\n",
    "print acn_mass, acn_mass + PROTON_MASS"
   ]
  },
  {
   "cell_type": "code",
   "execution_count": null,
   "metadata": {
    "collapsed": true
   },
   "outputs": [],
   "source": []
  }
 ],
 "metadata": {
  "kernelspec": {
   "display_name": "Python 2",
   "language": "python",
   "name": "python2"
  },
  "language_info": {
   "codemirror_mode": {
    "name": "ipython",
    "version": 2
   },
   "file_extension": ".py",
   "mimetype": "text/x-python",
   "name": "python",
   "nbconvert_exporter": "python",
   "pygments_lexer": "ipython2",
   "version": "2.7.10"
  }
 },
 "nbformat": 4,
 "nbformat_minor": 0
}
